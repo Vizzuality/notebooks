{
 "cells": [
  {
   "cell_type": "markdown",
   "metadata": {},
   "source": [
    " "
   ]
  },
  {
   "cell_type": "markdown",
   "metadata": {},
   "source": [
    "<br />\n",
    "<div style=\"text-align: center;\">\n",
    "    <span style=\"font-weight: bold; color:#6dc; font-family: 'Arial Narrow'; font-size: 5em;\">CARE INTERNATIONAL</span>\n",
    "</div>\n",
    "<br />"
   ]
  },
  {
   "cell_type": "markdown",
   "metadata": {},
   "source": [
    "<span style=\"color:#444; font-family: 'Georgia'; font-size: 1.2em;\">\n",
    "This is a very little introduction to the Care International Project and how to make requests to the data.<br />\n",
    "The data is located into a Carto Account. <br /><br />Let's begin...<br /></span>"
   ]
  },
  {
   "cell_type": "markdown",
   "metadata": {},
   "source": [
    "<span style=\"font-weight: bold; color:#6dc; font-family: 'Arial'; font-size: 1.5em;\">Making call request to the SQL API</span>"
   ]
  },
  {
   "cell_type": "markdown",
   "metadata": {},
   "source": [
    "<span style=\"color:#444; font-family: 'Georgia'; font-size: 1.2em;\">\n",
    "All SQL API requests to your CARTO account should follow this general pattern:\n",
    "https://{username}.carto.com/api/v2/sql?q={SQL_statement}.<br /></span>\n",
    "\n",
    "<span style=\"color:#444; font-family: 'Georgia'; font-size: 1.2em;\">\n",
    "And the username for this project is:<br /></span>\n",
    "<span style=\"font-weight: bold; color:#444; font-family: 'Georgia'; font-size: 1.2em;\">careinternational</span>"
   ]
  },
  {
   "cell_type": "markdown",
   "metadata": {},
   "source": [
    "<span style=\"font-weight: bold; color:#6dc; font-family: 'Arial'; font-size: 1.5em;\">Inside the Carto Account</span>"
   ]
  },
  {
   "cell_type": "markdown",
   "metadata": {},
   "source": [
    "<span style=\"color:#444; font-family: 'Georgia'; font-size: 1.2em;\">\n",
    "There are two principal tables in the Carto Account:</span>\n",
    "\n",
    "\n",
    "<img src='./carto1.png'>\n",
    "    \n",
    "    - impact_data:\n",
    "        the_geom\n",
    "        country\n",
    "        total_impact\n",
    "        humanitarian_response\n",
    "        sexual_reproductive_and_maternal_health\n",
    "        right_to_a_life_free_from_violence\n",
    "        food_and_nutrition_security_and_resilience_to_climate_change\n",
    "        women_s_economic_empowerment\n",
    "        iso\n",
    "<img src='./carto2.png'>\n",
    "\n",
    "<span style=\"color:#444; font-family: 'Georgia'; font-size: 1.2em;\">\n",
    " <br />\n",
    "</span>\n",
    "\n",
    "<span style=\"color:#444; font-family: 'Georgia'; font-size: 1.2em;\">\n",
    "The \"reach data\" file should have this format as a name: reach_data_month_day</span>\n",
    "\n",
    "    - reach_data_june_9:\n",
    "        the_geom\n",
    "        num_wee_projects_and_initiatives\n",
    "        num_fnscc_projects_and_initiatives\n",
    "        num_lffv_projects_and_initiatives\n",
    "        num_srmh_projects_and_initiatives\n",
    "        num_hum_projects_and_initiatives\n",
    "        num_projects_and_initiatives\n",
    "        region\n",
    "        country\n",
    "        category\n",
    "        num_wee_indirect_particip\n",
    "        num_wee_direct_particip\n",
    "        num_fnscc_indirect_particip\n",
    "        num_fnscc_direct_particip\n",
    "        num_lffv_indirect_particip\n",
    "        num_lffv_direct_particip\n",
    "        num_srmh_indirect_particip\n",
    "        num_srmh_direct_particip\n",
    "        num_hum_indirect_particip\n",
    "        num_hum_direct_particip\n",
    "        percent_women_indirect_particip\n",
    "        total_num_indirect_participants\n",
    "        percent_women_direct_particip\n",
    "        total_num_direct_participants\n",
    "        iso\n",
    "        \n",
    "        \n",
    "        \n",
    "        \n",
    "<img src='./carto3.png'>        \n"
   ]
  },
  {
   "cell_type": "markdown",
   "metadata": {},
   "source": [
    "<br />\n",
    "<span style=\"font-weight: bold; color:#6dc; font-family: 'Arial'; font-size: 2em;\">Reach Data</span>\n",
    "\n",
    "<span style=\"font-weight: bold; color:#6dc; font-family: 'Arial'; font-size: 1.8em;\">Making choropleth map</span>\n",
    "\n",
    "\n",
    "<span style=\"color:#444; font-family: 'Georgia'; font-size: 1.2em;\">\n",
    "If we want to paint a choropleth map, we should ask to our table for the data that we would want to representate. If we want to paint total of directs participant, we should query our table \"reach_data_june_9\" this column:</span>\n",
    "\n",
    "```sql\n",
    "SELECT total_num_direct_participants, the_geom, the_geom_webmercator FROM reach_data_june_9```\n",
    "\n",
    "<img src='./carto4.png'> \n"
   ]
  },
  {
   "cell_type": "markdown",
   "metadata": {},
   "source": [
    "<span style=\"color:#444; font-family: 'Georgia'; font-size: 1.2em;\">\n",
    "We have to generate a map, clicking \"Create Map\" and the response should move you to a page like this:\n",
    "</span>\n",
    "\n",
    "<img src='./carto6.png'> "
   ]
  },
  {
   "cell_type": "markdown",
   "metadata": {},
   "source": [
    "\n",
    "\n",
    "<span style=\"color:#444; font-family: 'Georgia'; font-size: 1.2em;\">\n",
    "And if we want to represent the *Total of direct participants* we have to select the styling by value and them select the column: </span><span style=\"font-weight: bold; color:#444; font-family: 'Georgia'; font-size: 1.2em;\">total_num_direct_participants</span>\n",
    "\n",
    "\n",
    "\n",
    "\n",
    "<img src='./carto7.png'> "
   ]
  },
  {
   "cell_type": "markdown",
   "metadata": {},
   "source": [
    "<span style=\"color:#444; font-family: 'Georgia'; font-size: 1.2em;\">\n",
    "And to make the choropleth map, we have to style it in our cartoccs. One way is defining our style and our range of values. In this case, we use this code:</span>\n",
    "\n",
    "```sql\n",
    "#layer [total_num_direct_participants > 0] {\n",
    "  polygon-fill: #EEBC9C;\n",
    "}\n",
    "#layer [total_num_direct_participants > 13000] {\n",
    "  polygon-fill: #F79759;\n",
    "}\n",
    "#layer [total_num_direct_participants > 142000] {\n",
    "  polygon-fill: #d4641c;\n",
    "}\n",
    "#layer [total_num_direct_participants > 553000] {\n",
    "  polygon-fill: #F46508;\n",
    "}\n",
    "#layer [total_num_direct_participants > 1900000] {\n",
    "  polygon-fill: #A03B0D;\n",
    "}\n",
    "#layer [total_num_direct_participants = 0] {\n",
    "  polygon-fill: #d5d4d3;\n",
    "}\n",
    "```\n",
    "\n",
    "\n",
    "<img src='./carto8.png'> "
   ]
  },
  {
   "cell_type": "markdown",
   "metadata": {},
   "source": [
    "<span style=\"font-weight: bold; color:#6dc; font-family: 'Arial'; font-size: 1.8em;\">Selecting data values for World Data</span>\n",
    "\n",
    "<span style=\"color:#444; font-family: 'Georgia'; font-size: 1.2em;\">Let's make some querys to get some data.</span>\n",
    "\n",
    "<span style=\"color:#444; font-family: 'Georgia'; font-size: 1.2em;\">Total of projects and iniciatives:<br />\n",
    "    - SELECT sum(num_projects_and_initiatives) FROM reach_data_june_9    \n",
    "\n",
    "<span style=\"color:#444; font-family: 'Georgia'; font-size: 1.2em;\">\n",
    "Participants reached:\n",
    "    - Direct: SELECT round(sum(total_num_direct_participants)) FROM reach_data_june_9\n",
    "    - Indirect: SELECT round(sum(total_num_indirect_participants)) FROM reach_data_june_9\n",
    "\n",
    "\n",
    "<span style=\"color:#444; font-family: 'Georgia'; font-size: 1.2em;\">\n",
    "Percentage of women participants reached:\n",
    "    - Women indirect: SELECT round(sum(percent_women_indirect_particip)) FROM reach_data_june_9\n",
    "    - Women direct: SELECT round(sum(percent_women_direct_particip)) FROM reach_data_june_9\n",
    "</span>"
   ]
  },
  {
   "cell_type": "markdown",
   "metadata": {},
   "source": [
    "<div style=\"text-align: center;\">\n",
    "    <span style=\"align=center; font-weight: bold; color:#444; font-family: 'Arial'; font-size: 1.5em;background-color:rgba(100,209,184,0.3);\">And remember the general pattern, to make these querys outside our Carto account:\n",
    "https://{username}.carto.com/api/v2/sql?q={SQL_statement}</span>\n",
    "</div>\n",
    "<br />\n",
    "<div style=\"text-align: center;\">\n",
    "    <span style=\"align=center; font-weight: bold; color:#444; font-family: 'Arial'; font-size: 1.5em;background-color:rgba(100,209,184,0.3);\">For example: https://careinternational.carto.com/api/v2/sql?q=SELECT sum(num_projects_and_initiatives) FROM reach_data_june_9 </span>\n",
    "</div>\n",
    "\n",
    "\n",
    "\n",
    "\n",
    "<span style=\"color:#444; font-family: 'Georgia'; font-size: 1.2em;\">\n",
    "And this query will respond us with a JSON, as is shown next:</span>\n",
    "\n",
    "<img src='./carto9.png'> \n"
   ]
  },
  {
   "cell_type": "markdown",
   "metadata": {},
   "source": [
    "<span style=\"color:#444; font-family: 'Georgia'; font-size: 1.2em;\">\n",
    "The same query, made it from the Carto platform, should respond us the same value:</span>\n",
    "\n",
    "<img src='./carto10.png'> "
   ]
  },
  {
   "cell_type": "markdown",
   "metadata": {},
   "source": [
    "<span style=\"color:#444; font-family: 'Georgia'; font-size: 1.2em;\">\n",
    "Filter by outcome:\n",
    "</span>\n",
    "\n",
    "<span style=\"color:#444; font-family: 'Georgia'; font-size: 1.2em;\">\n",
    "Humanitarian response:\n",
    "    - Direct: SELECT round(sum(num_hum_direct_particip)) FROM reach_data_june_9\n",
    "    - Indirect: SELECT round(sum(num_hum_indirect_particip)) FROM reach_data_june_9\n",
    "\n",
    "<span style=\"color:#444; font-family: 'Georgia'; font-size: 1.2em;\">\n",
    "Women's economic empowerment:\n",
    "    - Direct: SELECT round(sum(num_wee_direct_particip)) FROM reach_data_june_9\n",
    "    - Indirect: SELECT round(sum(num_wee_indirect_particip)) FROM reach_data_june_9\n",
    "\n",
    "<span style=\"color:#444; font-family: 'Georgia'; font-size: 1.2em;\">\n",
    "Food and nutrition security and climate change resilience:\n",
    "    - Direct: SELECT round(sum(num_fnscc_direct_particip)) FROM reach_data_june_9\n",
    "    - Indirect: SELECT round(sum(num_fnscc_indirect_particip)) FROM reach_data_june_9\n",
    "\n",
    "<span style=\"color:#444; font-family: 'Georgia'; font-size: 1.2em;\">\n",
    "Life Free from violence:\n",
    "    - Direct: SELECT round(sum(num_lffv_direct_particip)) FROM reach_data_june_9\n",
    "    - Indirect: SELECT round(sum(num_lffv_indirect_particip)) FROM reach_data_june_9\n",
    "\n",
    "<span style=\"color:#444; font-family: 'Georgia'; font-size: 1.2em;\">\n",
    "The right to sexual, reproductive and maternal health:\n",
    "    - Direct: SELECT round(sum(num_srmh_direct_particip)) FROM reach_data_june_9\n",
    "    - Indirect: SELECT round(sum(num_srmh_indirect_particip)) FROM reach_data_june_9\n",
    "\n"
   ]
  },
  {
   "cell_type": "markdown",
   "metadata": {},
   "source": [
    "<span style=\"font-weight: bold; color:#6dc; font-family: 'Arial'; font-size: 2em;\">Data for Regions</span>"
   ]
  },
  {
   "cell_type": "markdown",
   "metadata": {},
   "source": [
    "<span style=\"color:#444; font-family: 'Georgia'; font-size: 1.2em;\">\n",
    "Is interesting to know the data by regions. For that, we have to select that data querying our table. \n",
    "There is a column in table \"reach_data_june_9\" that would let us select differents regions of fthe world. Let's make an example with \"West Africa\". The user could select between: <br /><br />\n",
    "-Southern Africa.<br />\n",
    "-East and Central Africa.<br />\n",
    "-Asia and Pacific.<br />\n",
    "-Middle East, North Africa and Europe.<br />\n",
    "-Latin America and the Caribbean.<br />\n",
    "-West Africa.<br />\n",
    "-North America.<br />\n",
    "\n",
    "\n",
    "<span style=\"color:#444; font-family: 'Georgia'; font-size: 1.2em;\">\n",
    "Total of projects and iniciatives:\n",
    "    - SELECT sum(num_projects_and_initiatives) FROM reach_data_june_9 WHERE region='West Africa'\n",
    "\n",
    "<span style=\"color:#444; font-family: 'Georgia'; font-size: 1.2em;\">\n",
    "Participants reached:\n",
    "    - Direct: SELECT round(sum(total_num_direct_participants)) FROM reach_data_june_9 WHERE region='West Africa'\n",
    "    - Indirect: SELECT round(sum(total_num_indirect_participants)) FROM reach_data_june_9 WHERE region='West Africa'\n",
    "\n",
    "<span style=\"color:#444; font-family: 'Georgia'; font-size: 1.2em;\">\n",
    "Percentage of women participants reached:\n",
    "    - Women indirect: SELECT round(sum(percent_women_indirect_particip)) FROM reach_data_june_9 WHERE region='West Africa'\n",
    "    - Women direct: SELECT round(sum(percent_women_direct_particip)) FROM reach_data_june_9 WHERE region='West Africa'\n",
    "\n",
    "<span style=\"color:#444; font-family: 'Georgia'; font-size: 1.2em;\">\n",
    "As you have seen, just have to select the region in \"WHERE\" clause.<br /><br />\n",
    "The same occurs if you want to filter by outcome, just for an specific region:<br /><br />\n",
    "Humanitarian response:\n",
    "    - Direct: SELECT round(sum(num_hum_direct_particip)) FROM reach_data_june_9 WHERE region='West Africa'\n",
    "    - Indirect: SELECT round(sum(num_hum_indirect_particip)) FROM reach_data_june_9 WHERE region='West Africa'\n",
    "<br />\n",
    "<img src='./carto11.png'> "
   ]
  },
  {
   "cell_type": "markdown",
   "metadata": {},
   "source": [
    "<span style=\"font-weight: bold; color:#6dc; font-family: 'Arial'; font-size: 2em;\">Data for an specific outcome</span>"
   ]
  },
  {
   "cell_type": "markdown",
   "metadata": {},
   "source": [
    "<span style=\"color:#444; font-family: 'Georgia'; font-size: 1.2em;\">\n",
    "Also, it is interesting to see the data for an specific region and an specific outcome.<br />\n",
    "And as below, we only have to put in the where clause, the region and select the respective column. The diferents outcomes are:<br /><br />\n",
    "-Humanitarian response.<br />\n",
    "-Women's economic empowerment.<br />\n",
    "-The rigth to sexual, reproductive and maternal health.<br />\n",
    "-Life Free from Violence.<br />\n",
    "-Food and nutrition security and climate change resilience.<br />\n",
    "\n",
    "<span style=\"color:#444; font-family: 'Georgia'; font-size: 1.2em;\">\n",
    "For example, I would like to know the data for \"Women's economic empowerment\" in \"West Africa\". I just have to select in my table:\n",
    "    - SELECT sum(num_wee_projects_and_initiatives) as wee_projects, sum(num_projects_and_initiatives) as total_projects, sum(num_wee_indirect_particip) as wee_indirect, sum(num_wee_direct_particip) as wee_direct, sum(total_num_indirect_participants) as tot_indirect, sum(total_num_direct_participants) as tot_direct FROM reach_data_june_9 WHERE region = 'West Africa' \n",
    "<img src='./carto12.png'> \n",
    "\n",
    "<span style=\"color:#444; font-family: 'Georgia'; font-size: 1.2em;\">\n",
    "Maybe, we would need the data with other format, so: \n",
    "    - with a1 as (SELECT sum(num_wee_projects_and_initiatives) as wee_projects, sum(num_projects_and_initiatives) as total_projects, sum(num_wee_indirect_particip) as wee_indirect, sum(num_wee_direct_particip) as wee_direct, sum(total_num_indirect_participants) as tot_indirect, sum(total_num_direct_participants) as tot_direct  FROM reach_data_june_9 WHERE region = 'West Africa') SELECT unnest(array[ 'wee_projects', 'total_projects', 'wee_indirect', 'wee_direct', 'tot_indirect', 'tot_direct']) AS \"type\", unnest(array[ wee_projects, total_projects, wee_indirect, wee_direct, tot_indirect, tot_direct]) AS \"values\" FROM a1  \n",
    "\n",
    "<img src='./carto13.png'> "
   ]
  },
  {
   "cell_type": "markdown",
   "metadata": {},
   "source": [
    "<span style=\"font-weight: bold; color:#6dc; font-family: 'Arial'; font-size: 2em;\">Impact Data</span>\n",
    "\n",
    "\n"
   ]
  },
  {
   "cell_type": "markdown",
   "metadata": {},
   "source": [
    "<span style=\"color:#444; font-family: 'Georgia'; font-size: 1.2em;\">\n",
    "We want to make queries to extract important data that we will need, to show it:\n",
    "</span>\n",
    "\n",
    "<span style=\"color:#444; font-family: 'Georgia'; font-size: 1.2em;\">\n",
    "Humanitarian response: \n",
    "    - SELECT round(sum(humanitarian_response)) FROM impact_data\n",
    "\n",
    "<span style=\"color:#444; font-family: 'Georgia'; font-size: 1.2em;\">\n",
    "Women's economic empowerment:\n",
    "    - SELECT round(sum(women_s_economic_empowerment)) FROM impact_data\n",
    "\n",
    "<span style=\"color:#444; font-family: 'Georgia'; font-size: 1.2em;\">\n",
    "Food and nutrition security and climate change resilience:\n",
    "    - SELECT round(sum(food_and_nutrition_security_and_resilience_to_climate_change)) FROM impact_data\n",
    "\n",
    "<span style=\"color:#444; font-family: 'Georgia'; font-size: 1.2em;\">\n",
    "Life Free from violence:\n",
    "    - SELECT round(sum(right_to_a_life_free_from_violence)) FROM impact_data\n",
    "\n",
    "<span style=\"color:#444; font-family: 'Georgia'; font-size: 1.2em;\">\n",
    "The right to sexual, reproductive and maternal health:\n",
    "    - SELECT round(sum(sexual_reproductive_and_maternal_health)) FROM impact_data"
   ]
  },
  {
   "cell_type": "markdown",
   "metadata": {},
   "source": [
    "<div style=\"text-align: center;\">\n",
    "    <span style=\"align=center; font-weight: bold; color:#444; font-family: 'Arial'; font-size: 1.5em;background-color:rgba(100,209,184,0.3);\">And always is good time to remember the general pattern, to make these queries outside our Carto account:\n",
    "https://{username}.carto.com/api/v2/sql?q={SQL_statement}</span>\n",
    "</div>\n",
    "<br />\n",
    "<div style=\"text-align: center;\">\n",
    "    <span style=\"align=center; font-weight: bold; color:#444; font-family: 'Arial'; font-size: 1.5em;background-color:rgba(100,209,184,0.3);\">For example: https://careinternational.carto.com/api/v2/sql?q=SELECT%20sum(humanitarian_response)%20FROM%20impact_data</span>\n",
    "</div>\n"
   ]
  },
  {
   "cell_type": "markdown",
   "metadata": {},
   "source": [
    "<span style=\"font-weight: bold; color:#6dc; font-family: 'Arial'; font-size: 2em;\">Data for Regions</span>"
   ]
  },
  {
   "cell_type": "markdown",
   "metadata": {
    "collapsed": true
   },
   "source": [
    "<span style=\"color:#444; font-family: 'Georgia'; font-size: 1.2em;\">\n",
    "We also can make queries to take data of impacts from an specific region. As equal as in Reach Data part, we just have to put a \"WHERE\" clause and use the region that we would:"
   ]
  },
  {
   "cell_type": "markdown",
   "metadata": {},
   "source": [
    "<span style=\"color:#444; font-family: 'Georgia'; font-size: 1.2em;\">\n",
    "So: \n",
    "    - SELECT round(sum(total_impact)) as total_impact, round(sum(humanitarian_response)) as humanitarian_response, round(sum(sexual_reproductive_and_maternal_health)) as sexual_reproductive_and_maternal_health, round(sum(right_to_a_life_free_from_violence)) as right_to_a_life_free_from_violence, round(sum(food_and_nutrition_security_and_resilience_to_climate_change)) as food_and_nutrition_security_and_resilience_to_climate_change, round(sum(women_s_economic_empowerment)) as women_s_economic_empowerment  FROM impact_data WHERE region = 'West Africa'\n",
    "    \n",
    "<img src='./carto15.png'> "
   ]
  },
  {
   "cell_type": "markdown",
   "metadata": {},
   "source": [
    "<span style=\"color:#444; font-family: 'Georgia'; font-size: 1.2em;\">\n",
    "Or (same data, other format): \n",
    "    - with a1 as (SELECT round(sum(total_impact)) as total_impact, round(sum(humanitarian_response)) as humanitarian_response, round(sum(sexual_reproductive_and_maternal_health)) as sexual_reproductive_and_maternal_health, round(sum(right_to_a_life_free_from_violence)) as right_to_a_life_free_from_violence, round(sum(food_and_nutrition_security_and_resilience_to_climate_change)) as food_and_nutrition_security_and_resilience_to_climate_change, round(sum(women_s_economic_empowerment)) as women_s_economic_empowerment  FROM impact_data WHERE region = 'West Africa') SELECT unnest(array[ 'total_impact', 'humanitarian_response', 'sexual_reproductive_and_maternal_health', 'right_to_a_life_free_from_violence', 'food_and_nutrition_security_and_resilience_to_climate_change', 'women_s_economic_empowerment']) AS \"type\", unnest(array[total_impact, humanitarian_response, sexual_reproductive_and_maternal_health, right_to_a_life_free_from_violence, food_and_nutrition_security_and_resilience_to_climate_change, women_s_economic_empowerment]) AS \"values\" FROM a1\n",
    "    \n",
    "<img src='./carto14.png'> "
   ]
  },
  {
   "cell_type": "markdown",
   "metadata": {},
   "source": [
    "<span style=\"color:#444; font-family: 'Georgia'; font-size: 1.2em;\">\n",
    "Making a call request to our Carto Account with the SQL Api\n",
    "\n",
    "   \n",
    "<img src='./carto16.png'> "
   ]
  },
  {
   "cell_type": "markdown",
   "metadata": {},
   "source": [
    "<br />\n",
    "\n",
    "<div style=\"text-align: center;\">\n",
    "    <span style=\"align=center; font-weight: bold; color:#444; font-family: 'Arial'; font-size: 1.5em;background-color:rgba(100,209,184,0.3);\">And that's it! You just have to play and make queries ;)</span>\n",
    "</div>\n",
    "<br />"
   ]
  }
 ],
 "metadata": {
  "anaconda-cloud": {},
  "kernelspec": {
   "display_name": "Python [default]",
   "language": "python",
   "name": "python2"
  },
  "language_info": {
   "codemirror_mode": {
    "name": "ipython",
    "version": 2
   },
   "file_extension": ".py",
   "mimetype": "text/x-python",
   "name": "python",
   "nbconvert_exporter": "python",
   "pygments_lexer": "ipython2",
   "version": "2.7.13"
  }
 },
 "nbformat": 4,
 "nbformat_minor": 2
}
