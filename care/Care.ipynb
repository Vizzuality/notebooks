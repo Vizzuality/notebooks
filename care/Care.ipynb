{
 "cells": [
  {
   "cell_type": "markdown",
   "metadata": {},
   "source": [
    " "
   ]
  },
  {
   "cell_type": "markdown",
   "metadata": {},
   "source": [
    "<span style=\"color:#6dc; font-family: 'Arial'; font-size: 2em;\">\n",
    "**CARE INTERNATIONAL**</span>"
   ]
  },
  {
   "cell_type": "markdown",
   "metadata": {},
   "source": [
    "<span style=\"color:#6dc; font-family: 'Arial'; font-size: 1.5em;\">\n",
    "**MAKING CALLS TO THE SQL API**</span>"
   ]
  },
  {
   "cell_type": "markdown",
   "metadata": {},
   "source": [
    "<span style=\"color:#444; font-family: 'Georgia'; font-size: 1.2em;\">\n",
    "All SQL API requests to your CARTO account should follow this general pattern:\n",
    "https://{username}.carto.com/api/v2/sql?q={SQL_statement}.</span>\n",
    "\n",
    "<span style=\"color:#444; font-family: 'Georgia'; font-size: 1.2em;\">\n",
    "And the username is: **careinternational**.</span>"
   ]
  },
  {
   "cell_type": "markdown",
   "metadata": {},
   "source": [
    "<span style=\"color:#6dc; font-family: 'Arial'; font-size: 1.5em;\">\n",
    "**Inside the Carto Account**</span>"
   ]
  },
  {
   "cell_type": "markdown",
   "metadata": {},
   "source": [
    "<span style=\"color:#444; font-family: 'Georgia'; font-size: 1.2em;\">\n",
    "There are two principal tables in the Carto Account:</span>\n",
    "\n",
    "\n",
    "<img src='./carto1.png'>\n",
    "    \n",
    "    - impact_data:\n",
    "        the_geom\n",
    "        country\n",
    "        total_impact\n",
    "        humanitarian_response\n",
    "        sexual_reproductive_and_maternal_health\n",
    "        right_to_a_life_free_from_violence\n",
    "        food_and_nutrition_security_and_resilience_to_climate_change\n",
    "        women_s_economic_empowerment\n",
    "        iso\n",
    "<img src='./carto2.png'>\n",
    "        \n",
    "    - reach_data_may_26:\n",
    "        the_geom\n",
    "        wee_num_projects_and_initiatives\n",
    "        fnscc_num_indirect_participants\n",
    "        fnscc_num_direct_participants\n",
    "        fnscc_num_projects_and_initiatives\n",
    "        lffv_num_indirect_participants\n",
    "        lffv_num_direct_participants\n",
    "        lffv_num_projects_and_initiatives\n",
    "        srmh_indirect_participants\n",
    "        srmh_num_direct_participants\n",
    "        srmh_num_projects_and_initiatives\n",
    "        hum_num_indirect_participants\n",
    "        hum_num_direct_participants\n",
    "        hum_num_projects_and_initiatives\n",
    "        total_num_indirect_participants\n",
    "        total_num_direct_participants\n",
    "        total_num_projects_and_initiatives\n",
    "        country\n",
    "        wee_num_indirect_participants\n",
    "        wee_num_direct_participants\n",
    "        total_percent_women_of_indirect_participants\n",
    "        total_percent_women_of_direct_participants\n",
    "        iso\n",
    "        region_un\n",
    "        subregion\n",
    "        region_wb\n",
    "        continent\n",
    "<img src='./carto3.png'>        \n"
   ]
  },
  {
   "cell_type": "markdown",
   "metadata": {},
   "source": [
    " "
   ]
  },
  {
   "cell_type": "markdown",
   "metadata": {},
   "source": [
    "\n",
    "<span style=\"color:#6dc; font-family: 'Arial'; font-size: 2em;\">\n",
    "**Reach Data**</span>\n",
    "\n",
    "<span style=\"color:#6dc; font-family: 'Arial'; font-size: 1.7em;\">\n",
    "**Making choropleth map**</span>\n",
    "\n",
    "\n",
    "<span style=\"color:#444; font-family: 'Georgia'; font-size: 1.2em;\">\n",
    "If we want to paint a choropleth map, we should ask to our table for the data that we would want to representate. If we want to paint total of directs participant, we should query our table \"reach_data_may_26\" this column:\n",
    "\n",
    "    - total_num_direct_participants (Total)</span>\n",
    "\n",
    "\n",
    "```sql\n",
    "SELECT total_num_direct_participants, the_geom, the_geom_webmercator FROM reach_data_may_26```\n",
    "\n",
    "<img src='./carto4.png'> \n"
   ]
  },
  {
   "cell_type": "markdown",
   "metadata": {},
   "source": [
    "<span style=\"color:#444; font-family: 'Georgia'; font-size: 1.2em;\">\n",
    "We have to generate a map, clicking \"Create Map\" and the response should move you to a page like this:\n",
    "\n",
    "</span>\n",
    "\n",
    "<img src='./carto6.png'> "
   ]
  },
  {
   "cell_type": "markdown",
   "metadata": {},
   "source": [
    "\n",
    "\n",
    "<span style=\"color:#444; font-family: 'Georgia'; font-size: 1.2em;\">\n",
    "And if we want to represent the *Total of direct participants* we have to select the styling by value and them select the column **total_num_direct_participants**.</span>\n",
    "\n",
    "\n",
    "<img src='./carto7.png'> "
   ]
  },
  {
   "cell_type": "markdown",
   "metadata": {},
   "source": [
    "<span style=\"color:#444; font-family: 'Georgia'; font-size: 1.2em;\">\n",
    "And to make the choropleth map, we have to style it in our cartoccs. One way is defining our style and our range of values. In this case, we use this code:</span>\n",
    "\n",
    "```sql\n",
    "#layer [total_num_direct_participants > 0] {\n",
    "  polygon-fill: #EEBC9C;\n",
    "}\n",
    "#layer [total_num_direct_participants > 13000] {\n",
    "  polygon-fill: #F79759;\n",
    "}\n",
    "#layer [total_num_direct_participants > 142000] {\n",
    "  polygon-fill: #d4641c;\n",
    "}\n",
    "#layer [total_num_direct_participants > 553000] {\n",
    "  polygon-fill: #F46508;\n",
    "}\n",
    "#layer [total_num_direct_participants > 1900000] {\n",
    "  polygon-fill: #A03B0D;\n",
    "}\n",
    "#layer [total_num_direct_participants = 0] {\n",
    "  polygon-fill: #d5d4d3;\n",
    "}\n",
    "```\n",
    "\n",
    "\n",
    "<img src='./carto8.png'> "
   ]
  },
  {
   "cell_type": "markdown",
   "metadata": {},
   "source": [
    "<span style=\"color:#6dc; font-family: 'Arial'; font-size: 1.7em;\">\n",
    "**Selecting data values**</span>\n",
    "\n",
    "\n",
    "<span style=\"color:#444; font-family: 'Georgia'; font-size: 1.2em;\">\n",
    "Let's make some querys to get some data.\n",
    "</span>\n",
    "\n",
    "<span style=\"color:#444; font-family: 'Georgia'; font-size: 1.2em;\">\n",
    "Total of projects and iniciatives:\n",
    "    - SELECT sum(total_num_projects_and_initiatives) FROM reach_data_may_26\n",
    "</span>\n",
    "\n",
    "<span style=\"color:#444; font-family: 'Georgia'; font-size: 1.2em;\">\n",
    "Participants reached:\n",
    "    - Direct: SELECT round(sum(total_num_direct_participants)) FROM reach_data_may_26\n",
    "    - Indirect: SELECT round(sum(total_num_indirect_participants)) FROM reach_data_may_26\n",
    "</span>\n",
    "\n",
    "<span style=\"color:#444; font-family: 'Georgia'; font-size: 1.2em;\">\n",
    "Percentage of women participants reached:\n",
    "    - Women indirect: SELECT round(sum(total_percent_women_of_indirect_participants)) FROM reach_data_may_26\n",
    "    - Women direct: SELECT round(sum(total_percent_women_of_direct_participants)) FROM reach_data_may_26\n",
    "</span>"
   ]
  },
  {
   "cell_type": "markdown",
   "metadata": {},
   "source": [
    "<span style=\"color:#444; font-family: 'Georgia'; font-size: 1.5em; background-color:rgba(100,209,184,0.3);\">\n",
    "**And remember the general pattern, to make these querys outside our Carto account:\n",
    "https://{username}.carto.com/api/v2/sql?q={SQL_statement}**</span>\n",
    "\n",
    "<span style=\"color:#444; font-family: 'Georgia'; font-size: 1.5em; background-color:rgba(100,209,184,0.3);\">\n",
    "For example: https://careinternational.carto.com/api/v2/sql?q=SELECT sum(total_num_projects_and_initiatives) FROM reach_data_may_26 </span>\n",
    "\n",
    "\n",
    "\n",
    "<span style=\"color:#444; font-family: 'Georgia'; font-size: 1.2em;\">\n",
    "And this query will respond us with a JSON, as is shown next:</span>\n",
    "\n",
    "<img src='./carto9.png'> \n"
   ]
  },
  {
   "cell_type": "markdown",
   "metadata": {},
   "source": [
    "<span style=\"color:#444; font-family: 'Georgia'; font-size: 1.2em;\">\n",
    "The same query, made it from the Carto platform, should respond us the same value:</span>\n",
    "\n",
    "<img src='./carto10.png'> "
   ]
  },
  {
   "cell_type": "markdown",
   "metadata": {},
   "source": [
    "<span style=\"color:#444; font-family: 'Georgia'; font-size: 1.2em;\">\n",
    "Filter by outcome:\n",
    "</span>\n",
    "\n",
    "<span style=\"color:#444; font-family: 'Georgia'; font-size: 1.2em;\">\n",
    "Humanitarian response:\n",
    "    - Direct: SELECT round(sum(hum_num_direct_participants)) FROM reach_data_may_26\n",
    "    - Indirect: SELECT round(sum(hum_num_indirect_participants)) FROM reach_data_may_26\n",
    "</span>\n",
    "\n",
    "<span style=\"color:#444; font-family: 'Georgia'; font-size: 1.2em;\">\n",
    "Women's economic empowerment:\n",
    "    - Direct: SELECT round(sum(wee_num_direct_participants)) FROM reach_data_may_26\n",
    "    - Indirect: SELECT round(sum(wee_num_indirect_participants)) FROM reach_data_may_26\n",
    "</span>\n",
    "\n",
    "<span style=\"color:#444; font-family: 'Georgia'; font-size: 1.2em;\">\n",
    "Food and nutrition security and climate change resilience:\n",
    "    - Direct: SELECT round(sum(fnscc_num_direct_participants)) FROM reach_data_may_26\n",
    "    - Indirect: SELECT round(sum(fnscc_num_indirect_participants)) FROM reach_data_may_26\n",
    "</span>\n",
    "\n",
    "<span style=\"color:#444; font-family: 'Georgia'; font-size: 1.2em;\">\n",
    "Life Free from violence:\n",
    "    - Direct: SELECT round(sum(lffv_num_direct_participants)) FROM reach_data_may_26\n",
    "    - Indirect: SELECT round(sum(lffv_num_indirect_participants)) FROM reach_data_may_26\n",
    "</span>\n",
    "\n",
    "<span style=\"color:#444; font-family: 'Georgia'; font-size: 1.2em;\">\n",
    "The right to sexual, reproductive and maternal health:\n",
    "    - Direct: SELECT round(sum(srmh_num_direct_participants)) FROM reach_data_may_26\n",
    "    - Indirect: SELECT round(sum(srmh_num_indirect_participants)) FROM reach_data_may_26\n",
    "</span>\n"
   ]
  },
  {
   "cell_type": "markdown",
   "metadata": {},
   "source": [
    "\n",
    "<span style=\"color:#6dc; font-family: 'Arial'; font-size: 2em;\">\n",
    "**Impact Data**</span>\n",
    "\n",
    "\n"
   ]
  },
  {
   "cell_type": "markdown",
   "metadata": {},
   "source": [
    "<span style=\"color:#444; font-family: 'Georgia'; font-size: 1.2em;\">\n",
    "We want to make queries to extract important data that we will need, to show it:\n",
    "</span>\n",
    "\n",
    "<span style=\"color:#444; font-family: 'Georgia'; font-size: 1.2em;\">\n",
    "Humanitarian response: \n",
    "    - SELECT round(sum(humanitarian_response)) FROM impact_data\n",
    "</span>\n",
    "\n",
    "<span style=\"color:#444; font-family: 'Georgia'; font-size: 1.2em;\">\n",
    "Women's economic empowerment:\n",
    "    - SELECT round(sum(women_s_economic_empowerment)) FROM impact_data\n",
    "</span>\n",
    "\n",
    "<span style=\"color:#444; font-family: 'Georgia'; font-size: 1.2em;\">\n",
    "Food and nutrition security and climate change resilience:\n",
    "    - SELECT round(sum(food_and_nutrition_security_and_resilience_to_climate_change)) FROM impact_data\n",
    "</span>\n",
    "\n",
    "<span style=\"color:#444; font-family: 'Georgia'; font-size: 1.2em;\">\n",
    "Life Free from violence:\n",
    "    - SELECT round(sum(right_to_a_life_free_from_violence)) FROM impact_data\n",
    "</span>\n",
    "\n",
    "<span style=\"color:#444; font-family: 'Georgia'; font-size: 1.2em;\">\n",
    "The right to sexual, reproductive and maternal health:\n",
    "    - SELECT round(sum(sexual_reproductive_and_maternal_health)) FROM impact_data\n",
    "</span>"
   ]
  },
  {
   "cell_type": "markdown",
   "metadata": {},
   "source": [
    "<span style=\"color:#444; font-family: 'Georgia'; font-size: 1.5em; background-color:rgba(100,209,184,0.3);\">\n",
    "**And remember the general pattern, to make these querys outside our Carto account:\n",
    "https://{username}.carto.com/api/v2/sql?q={SQL_statement}**</span>\n",
    "\n",
    "<span style=\"color:#444; font-family: 'Georgia'; font-size: 1.5em; background-color:rgba(100,209,184,0.3);\">\n",
    "For example: https://careinternational.carto.com/api/v2/sql?q=SELECT round(sum(humanitarian_response)) FROM impact_data </span>"
   ]
  }
 ],
 "metadata": {
  "anaconda-cloud": {},
  "kernelspec": {
   "display_name": "Python 2",
   "language": "python",
   "name": "python2"
  },
  "language_info": {
   "codemirror_mode": {
    "name": "ipython",
    "version": 2
   },
   "file_extension": ".py",
   "mimetype": "text/x-python",
   "name": "python",
   "nbconvert_exporter": "python",
   "pygments_lexer": "ipython2",
   "version": "2.7.13"
  },
  "latex_envs": {
   "LaTeX_envs_menu_present": true,
   "autocomplete": true,
   "bibliofile": "biblio.bib",
   "cite_by": "apalike",
   "current_citInitial": 1,
   "eqLabelWithNumbers": true,
   "eqNumInitial": 1,
   "hotkeys": {
    "equation": "Ctrl-E",
    "itemize": "Ctrl-I"
   },
   "labels_anchors": false,
   "latex_user_defs": false,
   "report_style_numbering": false,
   "user_envs_cfg": false
  },
  "varInspector": {
   "cols": {
    "lenName": 16,
    "lenType": 16,
    "lenVar": 40
   },
   "kernels_config": {
    "python": {
     "delete_cmd_postfix": "",
     "delete_cmd_prefix": "del ",
     "library": "var_list.py",
     "varRefreshCmd": "print(var_dic_list())"
    },
    "r": {
     "delete_cmd_postfix": ") ",
     "delete_cmd_prefix": "rm(",
     "library": "var_list.r",
     "varRefreshCmd": "cat(var_dic_list()) "
    }
   },
   "types_to_exclude": [
    "module",
    "function",
    "builtin_function_or_method",
    "instance",
    "_Feature"
   ],
   "window_display": false
  }
 },
 "nbformat": 4,
 "nbformat_minor": 2
}
