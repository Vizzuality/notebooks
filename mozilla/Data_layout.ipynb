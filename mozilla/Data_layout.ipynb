{
 "cells": [
  {
   "cell_type": "markdown",
   "metadata": {
    "toc": "true"
   },
   "source": [
    "# Table of Contents\n",
    " <p><div class=\"lev1 toc-item\"><a href=\"#Data-layout\" data-toc-modified-id=\"Data-layout-1\"><span class=\"toc-item-num\">1&nbsp;&nbsp;</span>Data layout</a></div><div class=\"lev2 toc-item\"><a href=\"#Common-visualizations-layout\" data-toc-modified-id=\"Common-visualizations-layout-11\"><span class=\"toc-item-num\">1.1&nbsp;&nbsp;</span>Common visualizations layout</a></div><div class=\"lev2 toc-item\"><a href=\"#Complex-chart\" data-toc-modified-id=\"Complex-chart-12\"><span class=\"toc-item-num\">1.2&nbsp;&nbsp;</span>Complex chart</a></div><div class=\"lev1 toc-item\"><a href=\"#How-to:-Upload-to-the-platform\" data-toc-modified-id=\"How-to:-Upload-to-the-platform-2\"><span class=\"toc-item-num\">2&nbsp;&nbsp;</span>How to: Upload to the platform</a></div>"
   ]
  },
  {
   "cell_type": "markdown",
   "metadata": {},
   "source": [
    "# Data layout"
   ]
  },
  {
   "cell_type": "markdown",
   "metadata": {},
   "source": [
    "The aim of this report is to set up a common workflow to be able to agilize the data management for the Mozilla visualization. In order to be able to manage it, we are going to work with a common data template for basic visualiztions and some special ones for the most complex visualizations.\n",
    "\n",
    "For translations, we are going to have 3 types of tranlations. Each visualization will have its own version for each languague supported on the backoffice:\n",
    "* **Title and descriptions:** it will be handle Wordpress backoffice\n",
    "* **In data categories and labels:** we are going to have a one file with the category translate per language for each visualization, and the file will be uploaded through Wordpress backoffice. It is very important to respect the data layout and columns naming.\n",
    "* **Chart common elements:** We are going to handle them [inside the code](https://github.com/Vizzuality/internet-health-report/blob/develop/src/js/data/dictionary-en.js) as dictionaries with the following structure for each language:\n",
    "    ```json\n",
    "    {\n",
    "  \"missing_title\": \"Missing title\",\n",
    "  \"missing_description\": \"Missing description\",\n",
    "  \"visualization_error\": \"Unable to display this visualization.\"\n",
    "    }\n",
    "    ```\n",
    "\n",
    "\n",
    "Basic Chart types:\n",
    "\n",
    "1. Map (country level)  \n",
    "    1.1 Map cloropete buckets with category selector  \n",
    "    1.2 Map cloroplete ramp\n",
    "        \n",
    "2. Bars        \n",
    "    2.1 Grouped Bars vertical     \n",
    "    2.2 Bars stacked vertical  \n",
    "    2.3 Grouped bars horizontal  \n",
    "        \n",
    "3. Sparklines  \n",
    "    3.1 Multilines horizontal\n",
    "4. Circles  \n",
    "    4.1. Circles size and category.\n",
    "5. Area  \n",
    "    5.1 Colored area with rules per percentages  \n",
    "___________\n",
    "5 special charts:\n",
    " * Home page\n",
    " * 1.5 Open Source Dependencies (Wikipedia)\n",
    " * 2.7 Gender & Ethnic Diversity\n",
    " * 5.x Day on the Web\n",
    " * 5.5 Web literacy skills  \n",
    "\n",
    "____________\n",
    "Others\n",
    "6. Story + infographics    \n",
    "7. Quiz  \n",
    "\n",
    "\n",
    " \n",
    "Charts ids follow [this document](https://docs.google.com/spreadsheets/d/10BxG4-yDB_IwyxWGSIe7xmDs0dzSKZsB7jC-E3eQCcE/edit?usp=sharing) under Types for devs tab"
   ]
  },
  {
   "cell_type": "markdown",
   "metadata": {},
   "source": [
    "## Common visualizations layout \n",
    "*(area, circles, bars, maps and sparklines)*"
   ]
  },
  {
   "cell_type": "markdown",
   "metadata": {},
   "source": [
    "### Map data template:"
   ]
  },
  {
   "cell_type": "markdown",
   "metadata": {},
   "source": [
    "For maps we are going to have 2 separate tables. One that will holds only the geometries and the iso. The other table, which structure is reflected here will hold the information to visualize.  \n",
    "**file format:** csv  "
   ]
  },
  {
   "cell_type": "markdown",
   "metadata": {},
   "source": [
    "**data layout:**\n",
    "    * column iso: [country code iso 3](https://www.unstats.un.org/unsd/tradekb/knowledgebase/country-code) \n",
    "    * column Country: Tranlate country name\n",
    "    * column value:\n",
    "    * column category: Tranlate category to display if exist\n",
    "    \n",
    "|  iso |country    | value  | category  |\n",
    "|------|-----------|----|-----------|\n",
    "|      |           |    |           |\n",
    "| ...  |  ...      | ...|  ...      |\n"
   ]
  },
  {
   "cell_type": "markdown",
   "metadata": {},
   "source": [
    "**Example file:** vis_1_2  \n",
    "\n",
    "|  iso |country    |value    | category  |\n",
    "|------|-----------|-----------|----|\n",
    "|CHN   |China (PRC)| 1 |  Social media and/or communications apps blocked (includes VOIP)  |\n",
    "|CHN   |China (PRC)| 1 |  WhatsApp  |\n",
    "|CHN   |China (PRC)| 1 |  Facebook  |\n",
    "|CHN   |China (PRC)| 1 |  YouTube   |\n",
    "| ...  |  ...      |  ...      | ...|"
   ]
  },
  {
   "cell_type": "markdown",
   "metadata": {},
   "source": [
    "**Example file:** vis_2_1  \n",
    "\n",
    "|  iso |country    |value    | \n",
    "|------|-----------|-----------|\n",
    "|ETH   |Ethiopia| 266.67 |\n",
    "|MOZ   |Mozambique| 196.61 |\n",
    "|SLE   |Sierra Leone| 168.18 |\n",
    "|TGO   |Togo| 128.07 | \n",
    "| ...  |  ...      |  ...      | "
   ]
  },
  {
   "cell_type": "markdown",
   "metadata": {},
   "source": [
    "### Bars, sparckline, area and circles"
   ]
  },
  {
   "cell_type": "markdown",
   "metadata": {},
   "source": [
    "**file format:** csv"
   ]
  },
  {
   "cell_type": "markdown",
   "metadata": {},
   "source": [
    "**data layout:**\n",
    "    * column label\n",
    "    * column value\n",
    "    * column category if needed\n",
    "|  label | value  | category  |\n",
    "|----|----|-----------|\n",
    "|    |    |           |\n",
    "| ...| ...|  ...      |\n"
   ]
  },
  {
   "cell_type": "markdown",
   "metadata": {},
   "source": [
    "**Example file:** vis_1_1  \n",
    "\n",
    "|  label | value  | category |\n",
    "|------|-----------|----|\n",
    "|2015   |15|  Shutdowns  |\n",
    "|2015   |16|  Countries  |\n",
    "|2016   |56|  Shutdowns  |\n",
    "|2016   |25|  Countries  |\n",
    "| ...  |  ...      | ...|"
   ]
  },
  {
   "cell_type": "markdown",
   "metadata": {},
   "source": [
    "## Complex chart"
   ]
  },
  {
   "cell_type": "markdown",
   "metadata": {},
   "source": [
    "### Home page"
   ]
  },
  {
   "cell_type": "markdown",
   "metadata": {},
   "source": [
    "this data will be generate through users reaction."
   ]
  },
  {
   "cell_type": "markdown",
   "metadata": {},
   "source": [
    "### 1.5 Open Source Dependencies (Wikipedia)"
   ]
  },
  {
   "cell_type": "markdown",
   "metadata": {},
   "source": [
    "**charts affected:** 2.7"
   ]
  },
  {
   "cell_type": "markdown",
   "metadata": {},
   "source": [
    "**file format:** json"
   ]
  },
  {
   "cell_type": "markdown",
   "metadata": {},
   "source": [
    "#### Wikipedia-data\n",
    "\n",
    "**data layout:**\n",
    "    * Nodes: \n",
    "        * index\n",
    "        * name\n",
    "        * depth\n",
    "        * homepage\n",
    "        * platform\n",
    "        * totalCommits\n",
    "    * links:\n",
    "        * source\n",
    "        * target\n",
    "        \n",
    "\n",
    "``` json  \n",
    "{\n",
    "  \"nodes\":[\n",
    "    {\n",
    "      \"index\": 0,\n",
    "      \"name\": \"Wikipedia\",\n",
    "      \"depth\": 0\n",
    "    },\n",
    "    {\n",
    "      \"index\": 1,\n",
    "      \"depth\": 1,\n",
    "      \"name\": \"webdriverio\",\n",
    "      \"homepage\": \"http://webdriver.io\",\n",
    "      \"platform\": \"NPM\",\n",
    "      \"totalCommits\": 3299\n",
    "    },\n",
    "...],\n",
    " \"links\":[\n",
    "    {\n",
    "      \"source\": 0,\n",
    "      \"target\": 1\n",
    "    },\n",
    "    {\n",
    "      \"source\": 0,\n",
    "      \"target\": 2\n",
    "    },\n",
    "...]\n",
    "\n",
    "```"
   ]
  },
  {
   "cell_type": "markdown",
   "metadata": {},
   "source": [
    "#### Contributors\n",
    "\n",
    "**data layout:**\n",
    "    * id: \n",
    "        * user\n",
    "            * id\n",
    "            * uuid\n",
    "            * login\n",
    "            * user_type\n",
    "            * created_at\n",
    "            * updated_at\n",
    "            * name\n",
    "            * company\n",
    "            * blog\n",
    "            * location\n",
    "            * hidden\n",
    "            * last_synced_at\n",
    "            * email\n",
    "            * bio\n",
    "            * followers\n",
    "            * following\n",
    "            * host_type\n",
    "        * commits\n",
    "    \n",
    "        \n",
    "\n",
    "``` json  \n",
    "{\n",
    "  \"2141034\": [\n",
    "    {\n",
    "    \"user\": {\n",
    "      \"id\": 50591,\n",
    "      \"uuid\": \"6576639\",\n",
    "      \"login\": \"thiemowmde\",\n",
    "      \"user_type\": \"User\",\n",
    "      \"created_at\": \"2015-02-05T01:05:16.907Z\",\n",
    "      \"updated_at\": \"2017-01-06T08:02:26.179Z\",\n",
    "      \"name\": \"Thiemo Mättig\",\n",
    "      \"company\": \"Wikimedia Deutschland\",\n",
    "      \"blog\": \"http://www.wikimedia.de\",\n",
    "      \"location\": \"Berlin\",\n",
    "      \"hidden\": false,\n",
    "      \"last_synced_at\": \"2017-01-06T08:02:24.889Z\",\n",
    "      \"email\": null,\n",
    "      \"bio\": null,\n",
    "      \"followers\": 8,\n",
    "      \"following\": 5,\n",
    "      \"host_type\": \"GitHub\"\n",
    "    },\n",
    "    \"commits\": 3\n",
    "  }, \n",
    "  ... ]\n",
    " ...}\n",
    "\n",
    "\n",
    "```"
   ]
  },
  {
   "cell_type": "markdown",
   "metadata": {},
   "source": [
    "#### Dependencies\n",
    "**data layout:**\n",
    "    * dependencies\n",
    "    * id\n",
    "    * name\n",
    "    * platform\n",
    "    * created_at\n",
    "    * updated_at\n",
    "    * description\n",
    "    * keywords\n",
    "    * homepage\n",
    "    * licenses\n",
    "    * repository_url\n",
    "    * repository_id\n",
    "    * normalized_licenses\n",
    "    * versions_count\n",
    "    * rank\n",
    "    * latest_release_publish\n",
    "    * latest_release_number\n",
    "    * pm_id\n",
    "    * keywords_array\n",
    "    * dependents_count\n",
    "    * language\n",
    "    * status\n",
    "    * last_synced_at\n",
    "    * dependent_repos_count\n",
    "        \n",
    "\n",
    "``` json  \n",
    "{\n",
    "  \"dependencies\":[\n",
    "    {\n",
    "        \"id\": 330269,\n",
    "        \"name\": \"webdriverio\",\n",
    "        \"platform\": \"NPM\",\n",
    "        \"created_at\": \"2015-01-29T08:15:53.699Z\",\n",
    "        \"updated_at\": \"2018-02-07T20:20:40.321Z\",\n",
    "        \"description\": \"A Node.js bindings implementation for the W3C WebDriver protocol\",\n",
    "        \"keywords\": [\"webdriverio\", \"webdriver\", \"selenium\", \"appium\", \"saucelabs\", \"sauce\", \"labs\", \"mocha\", \"nodeUnit\", \"buster\", \"phantomjs\", \"chai\", \"vows\", \"jasmine\", \"assert\", \"cucumber\", \"testingbot\", \"automation\", \"javascript\", \"node\", \"test\"],\n",
    "        \"homepage\": \"http://webdriver.io\",\n",
    "        \"licenses\": \"MIT\",\n",
    "        \"repository_url\": \"https://github.com/webdriverio/webdriverio\",\n",
    "        \"repository_id\": 161931,\n",
    "        \"normalized_licenses\": [\"MIT\"],\n",
    "        \"versions_count\": 87,\n",
    "        \"rank\": 24,\n",
    "        \"latest_release_published_at\": \"2018-02-02T21:44:31.731Z\",\n",
    "        \"latest_release_number\": \"4.10.2\",\n",
    "        \"pm_id\": null,\n",
    "        \"keywords_array\": [\"webdriverio\", \"webdriver\", \"selenium\", \"appium\", \"saucelabs\", \"sauce\", \"labs\", \"mocha\", \"nodeUnit\", \"buster\", \"phantomjs\", \"chai\", \"vows\", \"jasmine\", \"assert\", \"cucumber\", \"testingbot\"],\n",
    "        \"dependents_count\": 518,\n",
    "        \"language\": \"JavaScript\",\n",
    "        \"status\": null,\n",
    "        \"last_synced_at\": \"2018-02-05T18:32:42.789Z\",\n",
    "        \"dependent_repos_count\": 2498\n",
    "        },\n",
    "...]\n",
    "}\n",
    "```"
   ]
  },
  {
   "cell_type": "markdown",
   "metadata": {},
   "source": [
    "### 2.7 Gender & Ethnic Diversity"
   ]
  },
  {
   "cell_type": "markdown",
   "metadata": {},
   "source": [
    "**charts affected:** 2.7"
   ]
  },
  {
   "cell_type": "markdown",
   "metadata": {},
   "source": [
    "**file format:** csv"
   ]
  },
  {
   "cell_type": "markdown",
   "metadata": {},
   "source": [
    "**data layout:**\n",
    "    * column label\n",
    "    * column value\n",
    "    * category Column\n",
    "\n",
    "|  label | value  | category |\n",
    "|--------|---------|-------|\n",
    "|Facebook| 33|                  female| \n",
    "|Facebook|  67|                 male|\n",
    "|Facebook|   53|                white| \n",
    "|Facebook|   38|                asian|\n",
    "|Facebook|  4|                 latino|\n",
    "|Facebook| 2|                  black|\n",
    "|Facebook|  3|                 multi|\n",
    "|Facebook|   0|                other|\n",
    "|Facebook|  null|                   undeclared |\t\t\t\t\t\t\t\t\n",
    "|...|\t...|\t...|\n",
    "\n"
   ]
  },
  {
   "cell_type": "markdown",
   "metadata": {},
   "source": [
    "### 5.x Day on the Web"
   ]
  },
  {
   "cell_type": "markdown",
   "metadata": {},
   "source": [
    "**charts affected:** 5.x"
   ]
  },
  {
   "cell_type": "markdown",
   "metadata": {},
   "source": [
    "**file format:** csv"
   ]
  },
  {
   "cell_type": "markdown",
   "metadata": {},
   "source": [
    "**data layout:**\n",
    "    "
   ]
  },
  {
   "cell_type": "markdown",
   "metadata": {},
   "source": [
    "### 5.3 App Unhappiness"
   ]
  },
  {
   "cell_type": "markdown",
   "metadata": {},
   "source": [
    " **charts affected:** 5.1"
   ]
  },
  {
   "cell_type": "markdown",
   "metadata": {},
   "source": [
    "**file format:** csv"
   ]
  },
  {
   "cell_type": "markdown",
   "metadata": {},
   "source": [
    "**data layout:**\n",
    "    * column label (app-Name)\n",
    "    * category: [happy_perc, happy_avg_on, unhappy_avg_on]\n",
    "    * value\t\t\t\t\t\t\t\t\t\t\t\t\t\n",
    "\n",
    "|  label | value| category  |\n",
    "|----|----|------------|\n",
    "| Audible |100  |   happy_perc|\n",
    "| Audible | 4,68  |   happy_avg_on|\n",
    "| Headspace|0  |   unhappy_avg_on|\n",
    "| ...| ...|    ...     |\n"
   ]
  },
  {
   "cell_type": "markdown",
   "metadata": {},
   "source": [
    "### 5.5 Web literacy skills"
   ]
  },
  {
   "cell_type": "markdown",
   "metadata": {},
   "source": [
    "**charts affected:** 5.5"
   ]
  },
  {
   "cell_type": "markdown",
   "metadata": {},
   "source": [
    "**file format:** csv"
   ]
  },
  {
   "cell_type": "markdown",
   "metadata": {},
   "source": [
    "**data layout:**\n",
    "    * column label (x)\n",
    "    * category\n",
    "    * subcategory\t\t\t\t\t\t\t\t\t\t\t\t\t\n",
    "\n",
    "|  label | value| category  |  subcategory | \n",
    "|----|----|------------|-----------|\n",
    "| American Library Association|1  |   Read|Search |\n",
    "| American Library Association|0  |   Read|Navigate |\n",
    "| American Library Association|0  |   Write|Code |\n",
    "| ...| ...|    ...     |  ...      |\n",
    "\n"
   ]
  },
  {
   "cell_type": "markdown",
   "metadata": {},
   "source": [
    "# How to: Upload to the platform"
   ]
  },
  {
   "cell_type": "markdown",
   "metadata": {},
   "source": [
    "Each of this visualizations is a post. In order to upload the data and translate the content we should follow next steps:"
   ]
  },
  {
   "cell_type": "markdown",
   "metadata": {},
   "source": [
    "1.- Create a new post or edit one that holds a visualization and choose the category that it will be hosted.\n",
    ">![step_1.png](step_1.png) ![step_6.png](step_6.png)\n",
    "\n",
    "2.- Choose a name for it if needed.\n",
    "> ![step_2.png](step_2.png) \n",
    "\n",
    "3.- Set which visualization is hold in the post (complete list [here](https://docs.google.com/spreadsheets/d/10BxG4-yDB_IwyxWGSIe7xmDs0dzSKZsB7jC-E3eQCcE/edit#gid=855019860) under types for dev tab)\n",
    "> ![step_4_1.png](step_4_1.png)  \n",
    "\n",
    "4.- Upload the data in the proper format and with the specific data template specified above in the data layout section.\n",
    "> ![step_4_2.png](step_4_2.png)  \n",
    "\n",
    "5.- Choose a title and a description for our visualization\n",
    "> ![step_4_3.png](step_4_3.png)  \n",
    "\n",
    "6.- This dictionary will hold the info for chart ui tranlation  elements.\n",
    ">```json\n",
    "```\n",
    ">![step_5_1.png](step_5_1.png)  \n",
    "\n",
    "7.- Don't forget to add in the body the `<div id=''></div>` refering to the visualization id.\n",
    "> ![step_3.png](step_3.png)  \n",
    "\n",
    "8.- To translate the page in different languages, you should create the translation page for this post and follow the same steeps to fulfill it but in a different language.\n",
    "> ![step_5.png](step_5.png)  \n",
    "\n",
    "\n",
    " "
   ]
  },
  {
   "cell_type": "code",
   "execution_count": null,
   "metadata": {},
   "outputs": [],
   "source": []
  }
 ],
 "metadata": {
  "kernelspec": {
   "display_name": "Python 3",
   "language": "python",
   "name": "python3"
  },
  "language_info": {
   "codemirror_mode": {
    "name": "ipython",
    "version": 3
   },
   "file_extension": ".py",
   "mimetype": "text/x-python",
   "name": "python",
   "nbconvert_exporter": "python",
   "pygments_lexer": "ipython3",
   "version": "3.6.1"
  },
  "toc": {
   "colors": {
    "hover_highlight": "#DAA520",
    "navigate_num": "#000000",
    "navigate_text": "#333333",
    "running_highlight": "#FF0000",
    "selected_highlight": "#FFD700",
    "sidebar_border": "#EEEEEE",
    "wrapper_background": "#FFFFFF"
   },
   "moveMenuLeft": true,
   "nav_menu": {
    "height": "84px",
    "width": "252px"
   },
   "navigate_menu": true,
   "number_sections": true,
   "sideBar": true,
   "threshold": "2",
   "toc_cell": true,
   "toc_section_display": "block",
   "toc_window_display": true,
   "widenNotebook": false
  },
  "varInspector": {
   "cols": {
    "lenName": 16,
    "lenType": 16,
    "lenVar": 40
   },
   "kernels_config": {
    "python": {
     "delete_cmd_postfix": "",
     "delete_cmd_prefix": "del ",
     "library": "var_list.py",
     "varRefreshCmd": "print(var_dic_list())"
    },
    "r": {
     "delete_cmd_postfix": ") ",
     "delete_cmd_prefix": "rm(",
     "library": "var_list.r",
     "varRefreshCmd": "cat(var_dic_list()) "
    }
   },
   "types_to_exclude": [
    "module",
    "function",
    "builtin_function_or_method",
    "instance",
    "_Feature"
   ],
   "window_display": false
  }
 },
 "nbformat": 4,
 "nbformat_minor": 2
}
