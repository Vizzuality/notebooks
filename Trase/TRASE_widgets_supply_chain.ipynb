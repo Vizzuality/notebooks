{
 "cells": [
  {
   "cell_type": "markdown",
   "metadata": {},
   "source": [
    "# TRASE Widgets for Supply Chain"
   ]
  },
  {
   "cell_type": "code",
   "execution_count": 3,
   "metadata": {},
   "outputs": [],
   "source": [
    "import numpy as np\n",
    "import pandas as pd\n",
    "from matplotlib import pyplot as plt"
   ]
  },
  {
   "cell_type": "markdown",
   "metadata": {},
   "source": [
    "**Read soy data**"
   ]
  },
  {
   "cell_type": "code",
   "execution_count": 4,
   "metadata": {},
   "outputs": [
    {
     "data": {
      "text/html": [
       "<div>\n",
       "<style scoped>\n",
       "    .dataframe tbody tr th:only-of-type {\n",
       "        vertical-align: middle;\n",
       "    }\n",
       "\n",
       "    .dataframe tbody tr th {\n",
       "        vertical-align: top;\n",
       "    }\n",
       "\n",
       "    .dataframe thead th {\n",
       "        text-align: right;\n",
       "    }\n",
       "</style>\n",
       "<table border=\"1\" class=\"dataframe\">\n",
       "  <thead>\n",
       "    <tr style=\"text-align: right;\">\n",
       "      <th></th>\n",
       "      <th>year</th>\n",
       "      <th>biome</th>\n",
       "      <th>exporter</th>\n",
       "      <th>importer</th>\n",
       "      <th>country</th>\n",
       "      <th>soy_equivalent_tonnes</th>\n",
       "      <th>territorial_deforestation_ha</th>\n",
       "      <th>zero_deforestation</th>\n",
       "    </tr>\n",
       "  </thead>\n",
       "  <tbody>\n",
       "    <tr>\n",
       "      <th>0</th>\n",
       "      <td>2003</td>\n",
       "      <td>UNKNOWN BIOME</td>\n",
       "      <td>Multigrain</td>\n",
       "      <td>Multigrain</td>\n",
       "      <td>Israel</td>\n",
       "      <td>1000.000</td>\n",
       "      <td>NaN</td>\n",
       "      <td>None</td>\n",
       "    </tr>\n",
       "    <tr>\n",
       "      <th>1</th>\n",
       "      <td>2003</td>\n",
       "      <td>UNKNOWN BIOME</td>\n",
       "      <td>J Motta Industria E Comercio Sa</td>\n",
       "      <td>Bunge Global Markets Spa</td>\n",
       "      <td>Italy</td>\n",
       "      <td>860.000</td>\n",
       "      <td>NaN</td>\n",
       "      <td>NaN</td>\n",
       "    </tr>\n",
       "    <tr>\n",
       "      <th>2</th>\n",
       "      <td>2003</td>\n",
       "      <td>UNKNOWN BIOME</td>\n",
       "      <td>Companhia Energetica De Pernambuco</td>\n",
       "      <td>Agrograin</td>\n",
       "      <td>Spain</td>\n",
       "      <td>17783.838</td>\n",
       "      <td>NaN</td>\n",
       "      <td>NaN</td>\n",
       "    </tr>\n",
       "    <tr>\n",
       "      <th>3</th>\n",
       "      <td>2003</td>\n",
       "      <td>UNKNOWN BIOME</td>\n",
       "      <td>Bunge</td>\n",
       "      <td>Ceval International Ltd</td>\n",
       "      <td>China</td>\n",
       "      <td>31317.950</td>\n",
       "      <td>NaN</td>\n",
       "      <td>None</td>\n",
       "    </tr>\n",
       "    <tr>\n",
       "      <th>4</th>\n",
       "      <td>2003</td>\n",
       "      <td>UNKNOWN BIOME</td>\n",
       "      <td>Bunge</td>\n",
       "      <td>Ceval International Ltd</td>\n",
       "      <td>Japan</td>\n",
       "      <td>35484.268</td>\n",
       "      <td>NaN</td>\n",
       "      <td>None</td>\n",
       "    </tr>\n",
       "  </tbody>\n",
       "</table>\n",
       "</div>"
      ],
      "text/plain": [
       "   year          biome                            exporter  \\\n",
       "0  2003  UNKNOWN BIOME                          Multigrain   \n",
       "1  2003  UNKNOWN BIOME     J Motta Industria E Comercio Sa   \n",
       "2  2003  UNKNOWN BIOME  Companhia Energetica De Pernambuco   \n",
       "3  2003  UNKNOWN BIOME                               Bunge   \n",
       "4  2003  UNKNOWN BIOME                               Bunge   \n",
       "\n",
       "                   importer country  soy_equivalent_tonnes  \\\n",
       "0                Multigrain  Israel               1000.000   \n",
       "1  Bunge Global Markets Spa   Italy                860.000   \n",
       "2                 Agrograin   Spain              17783.838   \n",
       "3   Ceval International Ltd   China              31317.950   \n",
       "4   Ceval International Ltd   Japan              35484.268   \n",
       "\n",
       "   territorial_deforestation_ha zero_deforestation  \n",
       "0                           NaN               None  \n",
       "1                           NaN                NaN  \n",
       "2                           NaN                NaN  \n",
       "3                           NaN               None  \n",
       "4                           NaN               None  "
      ]
     },
     "execution_count": 4,
     "metadata": {},
     "output_type": "execute_result"
    }
   ],
   "source": [
    "df = pd.read_csv(\"/Users/ikersanchez/Vizzuality/PROIEKTUAK/TRASE/work/data/BRAZIL_SOY_2.3/BRAZIL_SOY_2.3.csv\")\n",
    "df.columns = [x.lower() for x in df.columns]\n",
    "df = df[['year', 'biome', 'exporter', 'importer', 'country', 'soy_equivalent_tonnes', 'territorial_deforestation_ha', 'zero_deforestation']]\n",
    "df.head()"
   ]
  },
  {
   "cell_type": "code",
   "execution_count": 5,
   "metadata": {},
   "outputs": [],
   "source": [
    "def donut_chart(labels, sizes, title, colors):\n",
    "    plt.pie(sizes, labels=labels, autopct='%1.1f%%', colors=colors, shadow=True)\n",
    "    centre_circle = plt.Circle((0,0),0.75, fc='white',linewidth=1.25)\n",
    "    fig = plt.gcf()\n",
    "    fig.gca().add_artist(centre_circle)\n",
    "    plt.axis('equal')\n",
    "    plt.title(title)\n",
    "    plt.show()"
   ]
  },
  {
   "cell_type": "code",
   "execution_count": 6,
   "metadata": {},
   "outputs": [],
   "source": [
    "def bar_chart_hor(x, y, title, xlabel):\n",
    "    plt.barh(x,y, color='#ea6869')\n",
    "    plt.title(title)\n",
    "    plt.xlabel(xlabel)\n",
    "    plt.show()"
   ]
  },
  {
   "cell_type": "code",
   "execution_count": 7,
   "metadata": {},
   "outputs": [],
   "source": [
    "def bar_chart_ver(x, y, title, xlabel, ylabel):\n",
    "    plt.bar(x,y, color='#ea6869')\n",
    "    plt.title(title)\n",
    "    plt.xlabel(xlabel)\n",
    "    plt.ylabel(ylabel)\n",
    "    plt.show()"
   ]
  },
  {
   "cell_type": "code",
   "execution_count": 8,
   "metadata": {},
   "outputs": [],
   "source": [
    "def stacked_bar_chart_hor(y, values, categories, title, xlabel, ylabel, width, colors):\n",
    "    \n",
    "    plt.figure(figsize=(10,5))\n",
    "\n",
    "    for i in range(len(values)):\n",
    "        if i == 0:\n",
    "            plt.barh(y, values[i], width, label=categories[i], color = colors[i])\n",
    "            past_values = np.array(values[i])\n",
    "        else:\n",
    "            plt.barh(y, values[i], width, left=past_values, label=categories[i], color = colors[i])\n",
    "            past_values = np.array(values[i]) + past_values\n",
    "\n",
    "    plt.title(title)\n",
    "    plt.xlabel(xlabel)\n",
    "    plt.ylabel(ylabel)\n",
    "    plt.legend()\n",
    "\n",
    "    plt.show()"
   ]
  },
  {
   "cell_type": "code",
   "execution_count": 9,
   "metadata": {},
   "outputs": [],
   "source": [
    "def stacked_bar_chart_ver(x, values, categories, title, xlabel, ylabel, width, colors):\n",
    "    \n",
    "    plt.figure(figsize=(10,5))\n",
    "\n",
    "    for i in range(len(values)):\n",
    "        if i == 0:\n",
    "            plt.bar(x, values[i], width, label=categories[i], color = colors[i])\n",
    "            past_values = np.array(values[i])\n",
    "        else:\n",
    "            plt.bar(x, values[i], width, bottom=past_values, label=categories[i], color = colors[i])\n",
    "            past_values = np.array(values[i]) + past_values\n",
    "\n",
    "    plt.title(title)\n",
    "    plt.xlabel(xlabel)\n",
    "    plt.ylabel(ylabel)\n",
    "    plt.legend()\n",
    "\n",
    "    plt.show()"
   ]
  },
  {
   "cell_type": "code",
   "execution_count": 10,
   "metadata": {},
   "outputs": [],
   "source": [
    "def top_places(df, places='biome', indicator='soy_equivalent_tonnes', top=5):\n",
    "    d = {}\n",
    "    for place in sorted(df[places].unique()):\n",
    "        place_tmp = df[df[places] == place]\n",
    "        d[place] = place_tmp[indicator].sum()\n",
    "    s = [(k, d[k]) for k in sorted(d, key=d.get, reverse=True)]\n",
    "    \n",
    "    labels = []\n",
    "    values = []\n",
    "    \n",
    "    for item in s:\n",
    "        labels.append(item[0])\n",
    "        values.append(item[1])\n",
    "    \n",
    "    top_labels = labels[:(top-1)]\n",
    "    top_values = values[:(top-1)]\n",
    "\n",
    "    top_labels.append('Other')\n",
    "    top_values.append(np.array(values[(top-1):]).sum())\n",
    "    \n",
    "    return top_labels, top_values"
   ]
  },
  {
   "cell_type": "markdown",
   "metadata": {},
   "source": [
    "## 2017 - Trade Volume\n",
    "\n",
    "![title](img/2017_Trade_Volume.png)"
   ]
  },
  {
   "cell_type": "markdown",
   "metadata": {},
   "source": [
    "**Global**"
   ]
  },
  {
   "cell_type": "code",
   "execution_count": 11,
   "metadata": {},
   "outputs": [],
   "source": [
    "year = 2017\n",
    "tmp = df[df['year'] == year]"
   ]
  },
  {
   "cell_type": "code",
   "execution_count": 12,
   "metadata": {},
   "outputs": [
    {
     "data": {
      "text/plain": [
       "'114599167.9870561 t of Soy was produced in Brazil in 2017'"
      ]
     },
     "execution_count": 12,
     "metadata": {},
     "output_type": "execute_result"
    }
   ],
   "source": [
    "f\"{tmp['soy_equivalent_tonnes'].sum()} t of Soy was produced in Brazil in {year}\""
   ]
  },
  {
   "cell_type": "markdown",
   "metadata": {},
   "source": [
    "**Biome / Exporter / Port / Importer / Country**"
   ]
  },
  {
   "cell_type": "code",
   "execution_count": 13,
   "metadata": {},
   "outputs": [],
   "source": [
    "filter='country'\n",
    "title='Biome'"
   ]
  },
  {
   "cell_type": "code",
   "execution_count": 14,
   "metadata": {},
   "outputs": [
    {
     "data": {
      "image/png": "[encoded data removed]",
      "text/plain": [
       "<Figure size 432x288 with 1 Axes>"
      ]
     },
     "metadata": {},
     "output_type": "display_data"
    }
   ],
   "source": [
    "top_labels, top_values = top_places(tmp, places=filter, indicator='soy_equivalent_tonnes', top=6)\n",
    "top_labels = top_labels[:-1][::-1]\n",
    "top_values = top_values[:-1][::-1]\n",
    "bar_chart_hor(x=top_labels, y=top_values, title=title, xlabel='t')"
   ]
  },
  {
   "cell_type": "markdown",
   "metadata": {},
   "source": [
    "## 2003-2017 - Trade Volume\n",
    "\n",
    "![title](img/2003-2017_Trade_Volume.png)"
   ]
  },
  {
   "cell_type": "markdown",
   "metadata": {},
   "source": [
    "**Global**"
   ]
  },
  {
   "cell_type": "code",
   "execution_count": 492,
   "metadata": {},
   "outputs": [],
   "source": [
    "soy_volume = []\n",
    "years = []\n",
    "for year in df[\"year\"].unique():\n",
    "    tmp = df[df[\"year\"] == year]\n",
    "    soy_volume.append(tmp['soy_equivalent_tonnes'].sum())\n",
    "    years.append(year)"
   ]
  },
  {
   "cell_type": "code",
   "execution_count": 493,
   "metadata": {},
   "outputs": [
    {
     "data": {
      "image/png": "[encoded data removed]",
      "text/plain": [
       "<Figure size 432x288 with 1 Axes>"
      ]
     },
     "metadata": {},
     "output_type": "display_data"
    }
   ],
   "source": [
    "bar_chart_ver(x=years, y=soy_volume, title='Soy produced in Brazil', xlabel='years', ylabel='t')"
   ]
  },
  {
   "cell_type": "markdown",
   "metadata": {},
   "source": [
    "**Biome / Exporter / Port / Importer / Country**"
   ]
  },
  {
   "cell_type": "code",
   "execution_count": 15,
   "metadata": {},
   "outputs": [],
   "source": [
    "filter='country'\n",
    "title='Biome'"
   ]
  },
  {
   "cell_type": "code",
   "execution_count": 16,
   "metadata": {},
   "outputs": [],
   "source": [
    "tmp = df\n",
    "top_labels, top_values = top_places(tmp, places=filter, indicator='soy_equivalent_tonnes', top=6)\n",
    "top_labels = top_labels[:-1]"
   ]
  },
  {
   "cell_type": "code",
   "execution_count": 17,
   "metadata": {},
   "outputs": [],
   "source": [
    "values = []\n",
    "years = df[\"year\"].unique()\n",
    "for label in top_labels:\n",
    "    value_label = []\n",
    "    for year in years:\n",
    "\n",
    "        tmp = df[(df[\"year\"] == year) & (df[filter] == label)]\n",
    "        \n",
    "        value_label.append(tmp['soy_equivalent_tonnes'].sum())\n",
    "    values.append(value_label)"
   ]
  },
  {
   "cell_type": "code",
   "execution_count": 18,
   "metadata": {},
   "outputs": [
    {
     "data": {
      "image/png": "[encoded data removed]",
      "text/plain": [
       "<Figure size 720x360 with 1 Axes>"
      ]
     },
     "metadata": {},
     "output_type": "display_data"
    }
   ],
   "source": [
    "stacked_bar_chart_ver(x=years, values=values, categories=top_labels, title=title, xlabel='years', ylabel='t', width = 0.35,\n",
    "                      colors = ['#ea6869', '#ffeb8b', '#2d586e', '#007d29', '#b4008a', '#06ff67', '#8339aa', '#f3fb00', '#7193ff'])"
   ]
  },
  {
   "cell_type": "markdown",
   "metadata": {},
   "source": [
    "## 2017 - Trade Volume - Zero Deforestation Commitment (Exporter)\n",
    "\n",
    "![title](img/2017_Trade_Volume_Zero_Deforestation.png)"
   ]
  },
  {
   "cell_type": "markdown",
   "metadata": {},
   "source": [
    "**Global**"
   ]
  },
  {
   "cell_type": "code",
   "execution_count": 525,
   "metadata": {},
   "outputs": [
    {
     "name": "stderr",
     "output_type": "stream",
     "text": [
      "/anaconda3/lib/python3.6/site-packages/pandas/core/frame.py:3790: SettingWithCopyWarning: \n",
      "A value is trying to be set on a copy of a slice from a DataFrame\n",
      "\n",
      "See the caveats in the documentation: http://pandas.pydata.org/pandas-docs/stable/indexing.html#indexing-view-versus-copy\n",
      "  downcast=downcast, **kwargs)\n"
     ]
    }
   ],
   "source": [
    "year = 2017\n",
    "tmp = df[df['year'] == year]\n",
    "tmp.fillna('Unknown', axis=1, inplace= True)"
   ]
  },
  {
   "cell_type": "code",
   "execution_count": 526,
   "metadata": {},
   "outputs": [],
   "source": [
    "labels = ['Unknown', 'Company commitment', 'None', 'Soy Moratorium']\n",
    "sizes = []\n",
    "for label in labels:\n",
    "    sizes.append(tmp[tmp['zero_deforestation'] == label]['soy_equivalent_tonnes'].count())    "
   ]
  },
  {
   "cell_type": "code",
   "execution_count": 527,
   "metadata": {},
   "outputs": [
    {
     "data": {
      "image/png": "[encoded data removed]",
      "text/plain": [
       "<Figure size 432x288 with 1 Axes>"
      ]
     },
     "metadata": {},
     "output_type": "display_data"
    }
   ],
   "source": [
    "# Donut chart\n",
    "donut_chart(labels=labels, sizes=sizes, \n",
    "            title=f'Zero deforestation commitment of Soy produced in Brazil in {year}',\n",
    "           colors=['#f2f2f2', '#C2E699', '#e36845', '#1D6837'])"
   ]
  },
  {
   "cell_type": "markdown",
   "metadata": {},
   "source": [
    "**Biome / Exporter / Port / Importer / Country**"
   ]
  },
  {
   "cell_type": "code",
   "execution_count": 536,
   "metadata": {},
   "outputs": [],
   "source": [
    "filter = 'biome'\n",
    "title = 'Biome'"
   ]
  },
  {
   "cell_type": "code",
   "execution_count": 537,
   "metadata": {},
   "outputs": [],
   "source": [
    "top_labels, top_values = top_places(tmp, places=filter, indicator='soy_equivalent_tonnes', top=6)\n",
    "top_labels = top_labels[::-1][1:]\n",
    "top_values = top_values[::-1][1:]"
   ]
  },
  {
   "cell_type": "code",
   "execution_count": 538,
   "metadata": {},
   "outputs": [],
   "source": [
    "values = []\n",
    "categories = ['Unknown', 'Company commitment', 'None', 'Soy Moratorium']\n",
    "for cat in categories:\n",
    "    value_label = []\n",
    "    for label in top_labels:\n",
    "\n",
    "        tmp_label = tmp[(tmp['zero_deforestation'] == cat) & (tmp[filter] == label)]\n",
    "        \n",
    "        value_label.append(tmp_label['soy_equivalent_tonnes'].sum())\n",
    "    values.append(value_label)"
   ]
  },
  {
   "cell_type": "code",
   "execution_count": 539,
   "metadata": {},
   "outputs": [
    {
     "data": {
      "image/png": "[encoded data removed]",
      "text/plain": [
       "<Figure size 720x360 with 1 Axes>"
      ]
     },
     "metadata": {},
     "output_type": "display_data"
    }
   ],
   "source": [
    "stacked_bar_chart_hor(y=top_labels, values=values, categories=categories, title=title, xlabel='t', ylabel='', width = 0.35,\n",
    "                     colors=['#f2f2f2', '#C2E699', '#e36845', '#1D6837'])"
   ]
  },
  {
   "cell_type": "markdown",
   "metadata": {},
   "source": [
    "## 2003-2017 - Trade Volume - Zero Deforestation Commitment (Exporter)\n",
    "\n",
    "![title](img/2003-2017_Trade_Volume_Zero_Deforestation.png)"
   ]
  },
  {
   "cell_type": "markdown",
   "metadata": {},
   "source": [
    "**Global**"
   ]
  },
  {
   "cell_type": "code",
   "execution_count": 540,
   "metadata": {},
   "outputs": [],
   "source": [
    "tmp = df\n",
    "tmp.fillna('Unknown', axis=1, inplace= True)"
   ]
  },
  {
   "cell_type": "code",
   "execution_count": 541,
   "metadata": {},
   "outputs": [],
   "source": [
    "values = []\n",
    "labels = ['Unknown', 'Company commitment', 'None', 'Soy Moratorium']\n",
    "years = tmp[\"year\"].unique()\n",
    "for label in labels:\n",
    "    value_label = []\n",
    "    for year in years:\n",
    "\n",
    "        tmp_label = tmp[(tmp[\"year\"] == year) & (tmp['zero_deforestation'] == label)]\n",
    "        \n",
    "        value_label.append(tmp_label['soy_equivalent_tonnes'].sum())\n",
    "    values.append(value_label)"
   ]
  },
  {
   "cell_type": "code",
   "execution_count": 542,
   "metadata": {},
   "outputs": [
    {
     "data": {
      "image/png": "[encoded data removed]",
      "text/plain": [
       "<Figure size 720x360 with 1 Axes>"
      ]
     },
     "metadata": {},
     "output_type": "display_data"
    }
   ],
   "source": [
    "stacked_bar_chart_ver(x=years, values=values, categories=labels, title='Zero deforestation commitment of Soy produced in Brazil', xlabel='years', ylabel='t', width = 0.35,\n",
    "                      colors = ['#f2f2f2', '#C2E699', '#e36845', '#1D6837'])"
   ]
  },
  {
   "cell_type": "markdown",
   "metadata": {},
   "source": [
    "**Biome / Exporter / Port / Importer / Country**"
   ]
  },
  {
   "cell_type": "code",
   "execution_count": 565,
   "metadata": {},
   "outputs": [],
   "source": [
    "filter_1 = 'biome'\n",
    "filter_2 = 'AMAZONIA'"
   ]
  },
  {
   "cell_type": "code",
   "execution_count": 566,
   "metadata": {},
   "outputs": [],
   "source": [
    "tmp_biome = tmp[tmp[filter_1] == filter_2]"
   ]
  },
  {
   "cell_type": "code",
   "execution_count": 567,
   "metadata": {},
   "outputs": [],
   "source": [
    "values = []\n",
    "years = tmp_biome[\"year\"].unique()\n",
    "for label in labels:\n",
    "    value_label = []\n",
    "    for year in years:\n",
    "\n",
    "        tmp_label = tmp_biome[(tmp_biome[\"year\"] == year) & (tmp_biome['zero_deforestation'] == label)]\n",
    "        \n",
    "        value_label.append(tmp_label['soy_equivalent_tonnes'].sum())\n",
    "    values.append(value_label)"
   ]
  },
  {
   "cell_type": "code",
   "execution_count": 568,
   "metadata": {},
   "outputs": [
    {
     "data": {
      "image/png": "[encoded data removed]",
      "text/plain": [
       "<Figure size 720x360 with 1 Axes>"
      ]
     },
     "metadata": {},
     "output_type": "display_data"
    }
   ],
   "source": [
    "stacked_bar_chart_ver(x=years, values=values, categories=labels, title=f'Zero deforestation commitment of Soy produced in {filter_2}', xlabel='years', ylabel='t', width = 0.35,\n",
    "                      colors = ['#f2f2f2', '#C2E699', '#e36845', '#1D6837'])"
   ]
  },
  {
   "cell_type": "markdown",
   "metadata": {},
   "source": [
    "## 2017 - Trade Volume - Selection\n",
    "\n",
    "![title](img/2017_Trade_Volume_Selection.png)"
   ]
  },
  {
   "cell_type": "markdown",
   "metadata": {},
   "source": [
    "**Global**"
   ]
  },
  {
   "cell_type": "code",
   "execution_count": 569,
   "metadata": {},
   "outputs": [
    {
     "name": "stderr",
     "output_type": "stream",
     "text": [
      "/anaconda3/lib/python3.6/site-packages/pandas/core/frame.py:3790: SettingWithCopyWarning: \n",
      "A value is trying to be set on a copy of a slice from a DataFrame\n",
      "\n",
      "See the caveats in the documentation: http://pandas.pydata.org/pandas-docs/stable/indexing.html#indexing-view-versus-copy\n",
      "  downcast=downcast, **kwargs)\n"
     ]
    }
   ],
   "source": [
    "year = 2017\n",
    "tmp = df[df['year'] == year]\n",
    "tmp.fillna('Unknown', axis=1, inplace= True)"
   ]
  },
  {
   "cell_type": "code",
   "execution_count": 573,
   "metadata": {},
   "outputs": [],
   "source": [
    "labels = ['Netherlands', 'Thailand', 'Spain', 'South Korea', 'Cuba']\n",
    "sizes = []\n",
    "for label in labels:\n",
    "    sizes.append(tmp[tmp['country'] == label]['soy_equivalent_tonnes'].count())    "
   ]
  },
  {
   "cell_type": "code",
   "execution_count": 579,
   "metadata": {},
   "outputs": [
    {
     "data": {
      "image/png": "[encoded data removed]",
      "text/plain": [
       "<Figure size 432x288 with 1 Axes>"
      ]
     },
     "metadata": {},
     "output_type": "display_data"
    }
   ],
   "source": [
    "# Donut chart\n",
    "donut_chart(labels=labels, sizes=sizes, \n",
    "            title=f'Soy exported in {year} by',\n",
    "           colors=['#ea6869', '#ffeb8b', '#2d586e', '#007d29', '#b4008a'])"
   ]
  },
  {
   "cell_type": "markdown",
   "metadata": {},
   "source": [
    "**Biome / Exporter / Port / Importer / Country**"
   ]
  },
  {
   "cell_type": "code",
   "execution_count": 580,
   "metadata": {},
   "outputs": [],
   "source": [
    "filter = 'biome'\n",
    "title = 'Biome'"
   ]
  },
  {
   "cell_type": "code",
   "execution_count": 581,
   "metadata": {},
   "outputs": [],
   "source": [
    "top_labels, top_values = top_places(tmp, places=filter, indicator='soy_equivalent_tonnes', top=6)\n",
    "top_labels = top_labels[::-1][1:]\n",
    "top_values = top_values[::-1][1:]"
   ]
  },
  {
   "cell_type": "code",
   "execution_count": 582,
   "metadata": {},
   "outputs": [],
   "source": [
    "values = []\n",
    "categories = ['Netherlands', 'Thailand', 'Spain', 'South Korea', 'Cuba']\n",
    "for cat in categories:\n",
    "    value_label = []\n",
    "    for label in top_labels:\n",
    "\n",
    "        tmp_label = tmp[(tmp['country'] == cat) & (tmp[filter] == label)]\n",
    "        \n",
    "        value_label.append(tmp_label['soy_equivalent_tonnes'].sum())\n",
    "    values.append(value_label)"
   ]
  },
  {
   "cell_type": "code",
   "execution_count": 583,
   "metadata": {},
   "outputs": [
    {
     "data": {
      "image/png": "[encoded data removed]",
      "text/plain": [
       "<Figure size 720x360 with 1 Axes>"
      ]
     },
     "metadata": {},
     "output_type": "display_data"
    }
   ],
   "source": [
    "stacked_bar_chart_hor(y=top_labels, values=values, categories=categories, title=title, xlabel='t', ylabel='', width = 0.35,\n",
    "                     colors=['#ea6869', '#ffeb8b', '#2d586e', '#007d29', '#b4008a'])"
   ]
  },
  {
   "cell_type": "code",
   "execution_count": null,
   "metadata": {},
   "outputs": [],
   "source": []
  }
 ],
 "metadata": {
  "kernelspec": {
   "display_name": "Python 3",
   "language": "python",
   "name": "python3"
  },
  "language_info": {
   "codemirror_mode": {
    "name": "ipython",
    "version": 3
   },
   "file_extension": ".py",
   "mimetype": "text/x-python",
   "name": "python",
   "nbconvert_exporter": "python",
   "pygments_lexer": "ipython3",
   "version": "3.6.4"
  }
 },
 "nbformat": 4,
 "nbformat_minor": 2
}
