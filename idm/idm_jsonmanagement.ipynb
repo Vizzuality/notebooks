{
 "cells": [
  {
   "cell_type": "code",
   "execution_count": 20,
   "metadata": {},
   "outputs": [
    {
     "data": {
      "application/json": {
       "Software versions": [
        {
         "module": "Python",
         "version": "3.7.4 64bit [Clang 10.0.1 (clang-1001.0.46.4)]"
        },
        {
         "module": "IPython",
         "version": "7.7.0"
        },
        {
         "module": "OS",
         "version": "Darwin 18.7.0 x86_64 i386 64bit"
        },
        {
         "module": "json",
         "version": "2.0.9"
        },
        {
         "module": "pandas",
         "version": "0.25.0"
        }
       ]
      },
      "text/html": [
       "<table><tr><th>Software</th><th>Version</th></tr><tr><td>Python</td><td>3.7.4 64bit [Clang 10.0.1 (clang-1001.0.46.4)]</td></tr><tr><td>IPython</td><td>7.7.0</td></tr><tr><td>OS</td><td>Darwin 18.7.0 x86_64 i386 64bit</td></tr><tr><td>json</td><td>2.0.9</td></tr><tr><td>pandas</td><td>0.25.0</td></tr><tr><td colspan='2'>Fri Aug 30 13:30:06 2019 CEST</td></tr></table>"
      ],
      "text/latex": [
       "\\begin{tabular}{|l|l|}\\hline\n",
       "{\\bf Software} & {\\bf Version} \\\\ \\hline\\hline\n",
       "Python & 3.7.4 64bit [Clang 10.0.1 (clang-1001.0.46.4)] \\\\ \\hline\n",
       "IPython & 7.7.0 \\\\ \\hline\n",
       "OS & Darwin 18.7.0 x86\\_64 i386 64bit \\\\ \\hline\n",
       "json & 2.0.9 \\\\ \\hline\n",
       "pandas & 0.25.0 \\\\ \\hline\n",
       "\\hline \\multicolumn{2}{|l|}{Fri Aug 30 13:30:06 2019 CEST} \\\\ \\hline\n",
       "\\end{tabular}\n"
      ],
      "text/plain": [
       "Software versions\n",
       "Python 3.7.4 64bit [Clang 10.0.1 (clang-1001.0.46.4)]\n",
       "IPython 7.7.0\n",
       "OS Darwin 18.7.0 x86_64 i386 64bit\n",
       "json 2.0.9\n",
       "pandas 0.25.0\n",
       "Fri Aug 30 13:30:06 2019 CEST"
      ]
     },
     "execution_count": 20,
     "metadata": {},
     "output_type": "execute_result"
    }
   ],
   "source": [
    "import json\n",
    "import os\n",
    "import pandas as pd\n",
    "from pandas.io.json import json_normalize\n",
    "\n",
    "%reload_ext version_information\n",
    "%version_information json, pandas"
   ]
  },
  {
   "cell_type": "code",
   "execution_count": 41,
   "metadata": {},
   "outputs": [],
   "source": [
    "path= '/Users/alicia/Downloads/Dimentions.txt'\n",
    "with open(path, 'r') as file:\n",
    "     data_test = json.loads(file.read())"
   ]
  },
  {
   "cell_type": "code",
   "execution_count": 48,
   "metadata": {},
   "outputs": [
    {
     "data": {
      "text/plain": [
       "{'indicator': 'score1',\n",
       " 'items': [{'category': 'Food',\n",
       "   'list': [{'id': 'H.01',\n",
       "     'text': 'In the past 4 weeks, was there ever no food for you to eat because of a lack of resources to get food?',\n",
       "     'common_answer': {'overal': 'no', 'male': 'no', 'female': 'no'}},\n",
       "    {'id': 'H.02',\n",
       "     'text': 'How often did this happen?',\n",
       "     'common_answer': {'overal': 'Sometimes',\n",
       "      'male': 'Sometimes',\n",
       "      'female': 'Sometimes'}},\n",
       "    {'id': 'H.03',\n",
       "     'text': 'In the past 4 weeks, did you go to sleep at night hungry because there was not enough food?',\n",
       "     'common_answer': {'overal': 'no', 'male': 'no', 'female': 'no'}},\n",
       "    {'id': 'H.04',\n",
       "     'text': 'How often did this happen?',\n",
       "     'common_answer': {'overal': 'sometimes',\n",
       "      'male': 'rarely',\n",
       "      'female': 'sometimes'}},\n",
       "    {'id': 'H.05',\n",
       "     'text': 'In the past 4 weeks, did you go a whole day and night without eating because there was not enough food?',\n",
       "     'common_answer': {'overal': 'no', 'male': 'no', 'female': 'no'}},\n",
       "    {'id': 'H.06',\n",
       "     'text': 'How often did this happen in the past 4 weeks?',\n",
       "     'common_answer': {'overal': 'sometimes',\n",
       "      'male': 'rarely',\n",
       "      'female': 'sometimes'}}]}]}"
      ]
     },
     "execution_count": 48,
     "metadata": {},
     "output_type": "execute_result"
    }
   ],
   "source": [
    "data_test[0]"
   ]
  },
  {
   "cell_type": "code",
   "execution_count": 53,
   "metadata": {},
   "outputs": [
    {
     "data": {
      "text/html": [
       "<div>\n",
       "<style scoped>\n",
       "    .dataframe tbody tr th:only-of-type {\n",
       "        vertical-align: middle;\n",
       "    }\n",
       "\n",
       "    .dataframe tbody tr th {\n",
       "        vertical-align: top;\n",
       "    }\n",
       "\n",
       "    .dataframe thead th {\n",
       "        text-align: right;\n",
       "    }\n",
       "</style>\n",
       "<table border=\"1\" class=\"dataframe\">\n",
       "  <thead>\n",
       "    <tr style=\"text-align: right;\">\n",
       "      <th></th>\n",
       "      <th>testcategory</th>\n",
       "      <th>testlist</th>\n",
       "      <th>testitems</th>\n",
       "      <th>category</th>\n",
       "      <th>list.id.text</th>\n",
       "    </tr>\n",
       "  </thead>\n",
       "  <tbody>\n",
       "    <tr>\n",
       "      <th>0</th>\n",
       "      <td>Food</td>\n",
       "      <td>[{'id': 'H.01', 'text': 'In the past 4 weeks, ...</td>\n",
       "      <td>NaN</td>\n",
       "      <td>NaN</td>\n",
       "      <td>NaN</td>\n",
       "    </tr>\n",
       "    <tr>\n",
       "      <th>1</th>\n",
       "      <td>Water</td>\n",
       "      <td>NaN</td>\n",
       "      <td>[{'category': 'Water quality', 'list': [{'id':...</td>\n",
       "      <td>NaN</td>\n",
       "      <td>NaN</td>\n",
       "    </tr>\n",
       "    <tr>\n",
       "      <th>2</th>\n",
       "      <td>Shelter</td>\n",
       "      <td>NaN</td>\n",
       "      <td>[{'category': 'Characteristics of dwelling', '...</td>\n",
       "      <td>NaN</td>\n",
       "      <td>NaN</td>\n",
       "    </tr>\n",
       "    <tr>\n",
       "      <th>3</th>\n",
       "      <td>Health</td>\n",
       "      <td>NaN</td>\n",
       "      <td>[{'category': 'Health Status', 'list': [{'id':...</td>\n",
       "      <td>NaN</td>\n",
       "      <td>NaN</td>\n",
       "    </tr>\n",
       "    <tr>\n",
       "      <th>4</th>\n",
       "      <td>Education</td>\n",
       "      <td>NaN</td>\n",
       "      <td>[{'category': 'Highest educational Attainment'...</td>\n",
       "      <td>NaN</td>\n",
       "      <td>NaN</td>\n",
       "    </tr>\n",
       "    <tr>\n",
       "      <th>5</th>\n",
       "      <td>Energy/Fuel</td>\n",
       "      <td>NaN</td>\n",
       "      <td>[{'category': 'Cooking fuel', 'list': [{'id': ...</td>\n",
       "      <td>NaN</td>\n",
       "      <td>NaN</td>\n",
       "    </tr>\n",
       "    <tr>\n",
       "      <th>6</th>\n",
       "      <td>Sanitation</td>\n",
       "      <td>[{'id': 'D.07', 'text': 'What toilet facilitie...</td>\n",
       "      <td>NaN</td>\n",
       "      <td>NaN</td>\n",
       "      <td>NaN</td>\n",
       "    </tr>\n",
       "    <tr>\n",
       "      <th>7</th>\n",
       "      <td>Relationships</td>\n",
       "      <td>[]</td>\n",
       "      <td>NaN</td>\n",
       "      <td>NaN</td>\n",
       "      <td>NaN</td>\n",
       "    </tr>\n",
       "    <tr>\n",
       "      <th>8</th>\n",
       "      <td>Clothing</td>\n",
       "      <td>NaN</td>\n",
       "      <td>[{'category': 'Protection', 'list': [{'id': 'P...</td>\n",
       "      <td>NaN</td>\n",
       "      <td>NaN</td>\n",
       "    </tr>\n",
       "    <tr>\n",
       "      <th>9</th>\n",
       "      <td>Violence</td>\n",
       "      <td>NaN</td>\n",
       "      <td>[]</td>\n",
       "      <td>NaN</td>\n",
       "      <td>NaN</td>\n",
       "    </tr>\n",
       "    <tr>\n",
       "      <th>10</th>\n",
       "      <td>Family planning</td>\n",
       "      <td>[{'id': 'R.01', 'text': 'Do you or your partne...</td>\n",
       "      <td>NaN</td>\n",
       "      <td>NaN</td>\n",
       "      <td>NaN</td>\n",
       "    </tr>\n",
       "    <tr>\n",
       "      <th>11</th>\n",
       "      <td>Enviroment</td>\n",
       "      <td>[{'id': 'S.01', 'text': 'Are any of the follow...</td>\n",
       "      <td>NaN</td>\n",
       "      <td>NaN</td>\n",
       "      <td>NaN</td>\n",
       "    </tr>\n",
       "    <tr>\n",
       "      <th>12</th>\n",
       "      <td>Voice</td>\n",
       "      <td>NaN</td>\n",
       "      <td>[{'category': 'In community', 'items': [{'cate...</td>\n",
       "      <td>NaN</td>\n",
       "      <td>NaN</td>\n",
       "    </tr>\n",
       "    <tr>\n",
       "      <th>13</th>\n",
       "      <td>Time-use</td>\n",
       "      <td>[{'id': 'U.05', 'text': 'Record any secondary ...</td>\n",
       "      <td>NaN</td>\n",
       "      <td>NaN</td>\n",
       "      <td>NaN</td>\n",
       "    </tr>\n",
       "    <tr>\n",
       "      <th>14</th>\n",
       "      <td>Work</td>\n",
       "      <td>NaN</td>\n",
       "      <td>[{'category': 'Paid work', 'items': [{'categor...</td>\n",
       "      <td>NaN</td>\n",
       "      <td>NaN</td>\n",
       "    </tr>\n",
       "  </tbody>\n",
       "</table>\n",
       "</div>"
      ],
      "text/plain": [
       "       testcategory                                           testlist  \\\n",
       "0              Food  [{'id': 'H.01', 'text': 'In the past 4 weeks, ...   \n",
       "1             Water                                                NaN   \n",
       "2           Shelter                                                NaN   \n",
       "3            Health                                                NaN   \n",
       "4         Education                                                NaN   \n",
       "5       Energy/Fuel                                                NaN   \n",
       "6        Sanitation  [{'id': 'D.07', 'text': 'What toilet facilitie...   \n",
       "7     Relationships                                                 []   \n",
       "8          Clothing                                                NaN   \n",
       "9          Violence                                                NaN   \n",
       "10  Family planning  [{'id': 'R.01', 'text': 'Do you or your partne...   \n",
       "11       Enviroment  [{'id': 'S.01', 'text': 'Are any of the follow...   \n",
       "12            Voice                                                NaN   \n",
       "13         Time-use  [{'id': 'U.05', 'text': 'Record any secondary ...   \n",
       "14             Work                                                NaN   \n",
       "\n",
       "                                            testitems category list.id.text  \n",
       "0                                                 NaN      NaN          NaN  \n",
       "1   [{'category': 'Water quality', 'list': [{'id':...      NaN          NaN  \n",
       "2   [{'category': 'Characteristics of dwelling', '...      NaN          NaN  \n",
       "3   [{'category': 'Health Status', 'list': [{'id':...      NaN          NaN  \n",
       "4   [{'category': 'Highest educational Attainment'...      NaN          NaN  \n",
       "5   [{'category': 'Cooking fuel', 'list': [{'id': ...      NaN          NaN  \n",
       "6                                                 NaN      NaN          NaN  \n",
       "7                                                 NaN      NaN          NaN  \n",
       "8   [{'category': 'Protection', 'list': [{'id': 'P...      NaN          NaN  \n",
       "9                                                  []      NaN          NaN  \n",
       "10                                                NaN      NaN          NaN  \n",
       "11                                                NaN      NaN          NaN  \n",
       "12  [{'category': 'In community', 'items': [{'cate...      NaN          NaN  \n",
       "13                                                NaN      NaN          NaN  \n",
       "14  [{'category': 'Paid work', 'items': [{'categor...      NaN          NaN  "
      ]
     },
     "execution_count": 53,
     "metadata": {},
     "output_type": "execute_result"
    }
   ],
   "source": [
    "json_normalize(data_test, 'items', ['category', ['list', 'id', \"text\"]],record_prefix ='test',errors='ignore')"
   ]
  },
  {
   "cell_type": "code",
   "execution_count": 25,
   "metadata": {},
   "outputs": [
    {
     "data": {
      "text/html": [
       "<div>\n",
       "<style scoped>\n",
       "    .dataframe tbody tr th:only-of-type {\n",
       "        vertical-align: middle;\n",
       "    }\n",
       "\n",
       "    .dataframe tbody tr th {\n",
       "        vertical-align: top;\n",
       "    }\n",
       "\n",
       "    .dataframe thead th {\n",
       "        text-align: right;\n",
       "    }\n",
       "</style>\n",
       "<table border=\"1\" class=\"dataframe\">\n",
       "  <thead>\n",
       "    <tr style=\"text-align: right;\">\n",
       "      <th></th>\n",
       "      <th>name</th>\n",
       "      <th>population</th>\n",
       "      <th>state</th>\n",
       "      <th>shortname</th>\n",
       "      <th>info.governor</th>\n",
       "    </tr>\n",
       "  </thead>\n",
       "  <tbody>\n",
       "    <tr>\n",
       "      <th>0</th>\n",
       "      <td>Dade</td>\n",
       "      <td>12345</td>\n",
       "      <td>Florida</td>\n",
       "      <td>FL</td>\n",
       "      <td>Rick Scott</td>\n",
       "    </tr>\n",
       "    <tr>\n",
       "      <th>1</th>\n",
       "      <td>Broward</td>\n",
       "      <td>40000</td>\n",
       "      <td>Florida</td>\n",
       "      <td>FL</td>\n",
       "      <td>Rick Scott</td>\n",
       "    </tr>\n",
       "    <tr>\n",
       "      <th>2</th>\n",
       "      <td>Palm Beach</td>\n",
       "      <td>60000</td>\n",
       "      <td>Florida</td>\n",
       "      <td>FL</td>\n",
       "      <td>Rick Scott</td>\n",
       "    </tr>\n",
       "    <tr>\n",
       "      <th>3</th>\n",
       "      <td>Summit</td>\n",
       "      <td>1234</td>\n",
       "      <td>Ohio</td>\n",
       "      <td>OH</td>\n",
       "      <td>John Kasich</td>\n",
       "    </tr>\n",
       "    <tr>\n",
       "      <th>4</th>\n",
       "      <td>Cuyahoga</td>\n",
       "      <td>1337</td>\n",
       "      <td>Ohio</td>\n",
       "      <td>OH</td>\n",
       "      <td>John Kasich</td>\n",
       "    </tr>\n",
       "  </tbody>\n",
       "</table>\n",
       "</div>"
      ],
      "text/plain": [
       "         name  population    state shortname info.governor\n",
       "0        Dade       12345  Florida        FL    Rick Scott\n",
       "1     Broward       40000  Florida        FL    Rick Scott\n",
       "2  Palm Beach       60000  Florida        FL    Rick Scott\n",
       "3      Summit        1234     Ohio        OH   John Kasich\n",
       "4    Cuyahoga        1337     Ohio        OH   John Kasich"
      ]
     },
     "execution_count": 25,
     "metadata": {},
     "output_type": "execute_result"
    }
   ],
   "source": [
    "data = [{'state': 'Florida',\n",
    "         'shortname': 'FL',\n",
    "         'info': {'governor': 'Rick Scott'},\n",
    "         'counties': [{'name': 'Dade', 'population': 12345},\n",
    "                      {'name': 'Broward', 'population': 40000},\n",
    "                      {'name': 'Palm Beach', 'population': 60000}]},\n",
    "        {'state': 'Ohio',\n",
    "         'shortname': 'OH',\n",
    "         'info': {'governor': 'John Kasich'},\n",
    "         'counties': [{'name': 'Summit', 'population': 1234},\n",
    "                      {'name': 'Cuyahoga', 'population': 1337}]}]\n",
    "result = json_normalize(data, 'counties', ['state', 'shortname',\n",
    "                                           ['info', 'governor']])\n",
    "result"
   ]
  },
  {
   "cell_type": "code",
   "execution_count": 24,
   "metadata": {},
   "outputs": [
    {
     "data": {
      "text/plain": [
       "'{\"id\":{\"0\":1.0,\"1\":null,\"2\":2.0},\"name.first\":{\"0\":\"Coleen\",\"1\":null,\"2\":null},\"name.last\":{\"0\":\"Volk\",\"1\":null,\"2\":null},\"name.given\":{\"0\":null,\"1\":\"Mose\",\"2\":null},\"name.family\":{\"0\":null,\"1\":\"Regner\",\"2\":null},\"name\":{\"0\":null,\"1\":null,\"2\":\"Faye Raker\"}}'"
      ]
     },
     "execution_count": 24,
     "metadata": {},
     "output_type": "execute_result"
    }
   ],
   "source": [
    "result.to_json()"
   ]
  },
  {
   "cell_type": "code",
   "execution_count": 36,
   "metadata": {},
   "outputs": [
    {
     "name": "stdout",
     "output_type": "stream",
     "text": [
      "{\n",
      "    \"Broward\": [\n",
      "        {\n",
      "            \"state\": \"Florida\",\n",
      "            \"Broward\": 40000\n",
      "        }\n",
      "    ],\n",
      "    \"Cuyahoga\": [\n",
      "        {\n",
      "            \"state\": \"Ohio\",\n",
      "            \"Cuyahoga\": 1337\n",
      "        }\n",
      "    ],\n",
      "    \"Dade\": [\n",
      "        {\n",
      "            \"state\": \"Florida\",\n",
      "            \"Dade\": 12345\n",
      "        }\n",
      "    ],\n",
      "    \"Palm Beach\": [\n",
      "        {\n",
      "            \"state\": \"Florida\",\n",
      "            \"Palm Beach\": 60000\n",
      "        }\n",
      "    ],\n",
      "    \"Summit\": [\n",
      "        {\n",
      "            \"state\": \"Ohio\",\n",
      "            \"Summit\": 1234\n",
      "        }\n",
      "    ]\n",
      "}\n"
     ]
    }
   ],
   "source": [
    "def f(x):\n",
    "    return (dict({'state':x.state.iloc[0]},**{k:v for k,v in zip(x.name,x.population)}))\n",
    "\n",
    "json_doc = result.groupby(['name','state']).apply(f).groupby(level=0).apply(lambda x: x.tolist()).to_dict()\n",
    "\n",
    "print(json.dumps(json_doc, indent=4))"
   ]
  },
  {
   "cell_type": "code",
   "execution_count": 27,
   "metadata": {},
   "outputs": [],
   "source": [
    "def deep_search(needles, haystack):\n",
    "    found = {}\n",
    "    if type(needles) != type([]):\n",
    "        needles = [needles]\n",
    "\n",
    "    if type(haystack) == type(dict()):\n",
    "        for needle in needles:\n",
    "            if needle in haystack.keys():\n",
    "                found[needle] = haystack[needle]\n",
    "            elif len(haystack.keys()) > 0:\n",
    "                for key in haystack.keys():\n",
    "                    result = deep_search(needle, haystack[key])\n",
    "                    if result:\n",
    "                        for k, v in result.items():\n",
    "                            found[k] = v\n",
    "    elif type(haystack) == type([]):\n",
    "        for node in haystack:\n",
    "            result = deep_search(needles, node)\n",
    "            if result:\n",
    "                for k, v in result.items():\n",
    "                    found[k] = v\n",
    "    return found"
   ]
  },
  {
   "cell_type": "code",
   "execution_count": 29,
   "metadata": {},
   "outputs": [
    {
     "data": {
      "text/plain": [
       "{'name': 'Cuyahoga'}"
      ]
     },
     "execution_count": 29,
     "metadata": {},
     "output_type": "execute_result"
    }
   ],
   "source": [
    "deep_search([\"name\", \"P3\"], data)"
   ]
  }
 ],
 "metadata": {
  "kernelspec": {
   "display_name": "Python 3",
   "language": "python",
   "name": "python3"
  },
  "language_info": {
   "codemirror_mode": {
    "name": "ipython",
    "version": 3
   },
   "file_extension": ".py",
   "mimetype": "text/x-python",
   "name": "python",
   "nbconvert_exporter": "python",
   "pygments_lexer": "ipython3",
   "version": "3.7.4"
  }
 },
 "nbformat": 4,
 "nbformat_minor": 4
}
