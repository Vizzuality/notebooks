{
 "cells": [
  {
   "cell_type": "code",
   "execution_count": 3,
   "metadata": {
    "ExecuteTime": {
     "end_time": "2017-06-08T15:06:20.736836Z",
     "start_time": "2017-06-08T15:06:20.721334Z"
    }
   },
   "outputs": [
    {
     "name": "stdout",
     "output_type": "stream",
     "text": [
      "b'AP8A/w==\\n'\n"
     ]
    }
   ],
   "source": [
    "binary_data = b'\\x00\\xFF\\x00\\xFF'\n",
    "\n",
    "# Use the codecs module to encode\n",
    "import codecs\n",
    "base64_data = codecs.encode(binary_data, 'base64')\n",
    "print(base64_data)"
   ]
  },
  {
   "cell_type": "code",
   "execution_count": 4,
   "metadata": {
    "ExecuteTime": {
     "end_time": "2017-06-08T15:06:26.209038Z",
     "start_time": "2017-06-08T15:06:26.186647Z"
    }
   },
   "outputs": [
    {
     "name": "stdout",
     "output_type": "stream",
     "text": [
      "b'AP8A/w==\\n'\n"
     ]
    }
   ],
   "source": [
    "# Or use the binascii module\n",
    "import binascii\n",
    "base64_data = binascii.b2a_base64(binary_data)\n",
    "print(base64_data)"
   ]
  },
  {
   "cell_type": "code",
   "execution_count": 5,
   "metadata": {
    "ExecuteTime": {
     "end_time": "2017-06-08T15:06:29.490255Z",
     "start_time": "2017-06-08T15:06:29.466703Z"
    }
   },
   "outputs": [
    {
     "name": "stdout",
     "output_type": "stream",
     "text": [
      "AP8A/w==\n",
      "\n",
      "b'\\x00\\xff\\x00\\xff'\n",
      "b'\\x00\\xff\\x00\\xff'\n"
     ]
    }
   ],
   "source": [
    "# The base64_string is still a bytes type\n",
    "# It may need to be decoded to an ASCII string\n",
    "print(base64_data.decode('utf-8'))\n",
    "\n",
    "# Decoding is done similarly\n",
    "print(codecs.decode(base64_data, 'base64'))\n",
    "print(binascii.a2b_base64(base64_data))"
   ]
  },
  {
   "cell_type": "code",
   "execution_count": 6,
   "metadata": {
    "ExecuteTime": {
     "end_time": "2017-06-08T15:07:14.643974Z",
     "start_time": "2017-06-08T15:07:14.610820Z"
    },
    "scrolled": true
   },
   "outputs": [
    {
     "name": "stdout",
     "output_type": "stream",
     "text": [
      "b'8\\xaf\\x81\\x00AZ'\n",
      "(8499000, b'A', b'Z')\n"
     ]
    }
   ],
   "source": [
    "import struct\n",
    "\n",
    "# Packing values to bytes\n",
    "# The first parameter is the format string. Here it specifies the data is structured\n",
    "# with a single four-byte integer followed by two characters.\n",
    "# The rest of the parameters are the values for each item in order\n",
    "binary_data = struct.pack(\"icc\", 8499000, b'A', b'Z')\n",
    "print(binary_data)\n",
    "\n",
    "# When unpacking, you receive a tuple of all data in the same order\n",
    "tuple_of_data = struct.unpack(\"icc\", binary_data)\n",
    "print(tuple_of_data)\n",
    "\n",
    "# For more information on format strings and endiannes, refer to\n",
    "# https://docs.python.org/3.5/library/struct.html\n"
   ]
  },
  {
   "cell_type": "code",
   "execution_count": 9,
   "metadata": {
    "ExecuteTime": {
     "end_time": "2017-06-08T15:08:21.166026Z",
     "start_time": "2017-06-08T15:08:21.144181Z"
    }
   },
   "outputs": [
    {
     "name": "stdout",
     "output_type": "stream",
     "text": [
      "Native byteorder:  little\n"
     ]
    }
   ],
   "source": [
    "import sys\n",
    "print(\"Native byteorder: \", sys.byteorder)"
   ]
  },
  {
   "cell_type": "code",
   "execution_count": 8,
   "metadata": {
    "ExecuteTime": {
     "end_time": "2017-06-08T15:07:39.729804Z",
     "start_time": "2017-06-08T15:07:39.601521Z"
    }
   },
   "outputs": [
    {
     "ename": "FileNotFoundError",
     "evalue": "[Errno 2] No such file or directory: '-f'",
     "output_type": "error",
     "traceback": [
      "\u001b[0;31m---------------------------------------------------------------------------\u001b[0m",
      "\u001b[0;31mFileNotFoundError\u001b[0m                         Traceback (most recent call last)",
      "\u001b[0;32m<ipython-input-8-6969e5b898f4>\u001b[0m in \u001b[0;36m<module>\u001b[0;34m()\u001b[0m\n\u001b[1;32m      4\u001b[0m \u001b[0;32mimport\u001b[0m \u001b[0msys\u001b[0m\u001b[0;34m\u001b[0m\u001b[0m\n\u001b[1;32m      5\u001b[0m \u001b[0;34m\u001b[0m\u001b[0m\n\u001b[0;32m----> 6\u001b[0;31m \u001b[0;32mwith\u001b[0m \u001b[0mopen\u001b[0m\u001b[0;34m(\u001b[0m\u001b[0msys\u001b[0m\u001b[0;34m.\u001b[0m\u001b[0margv\u001b[0m\u001b[0;34m[\u001b[0m\u001b[0;36m1\u001b[0m\u001b[0;34m]\u001b[0m\u001b[0;34m,\u001b[0m \u001b[0;34m'rb'\u001b[0m\u001b[0;34m)\u001b[0m \u001b[0;32mas\u001b[0m \u001b[0mfile1\u001b[0m\u001b[0;34m,\u001b[0m \u001b[0mopen\u001b[0m\u001b[0;34m(\u001b[0m\u001b[0msys\u001b[0m\u001b[0;34m.\u001b[0m\u001b[0margv\u001b[0m\u001b[0;34m[\u001b[0m\u001b[0;36m2\u001b[0m\u001b[0;34m]\u001b[0m\u001b[0;34m,\u001b[0m \u001b[0;34m'rb'\u001b[0m\u001b[0;34m)\u001b[0m \u001b[0;32mas\u001b[0m \u001b[0mfile2\u001b[0m\u001b[0;34m:\u001b[0m\u001b[0;34m\u001b[0m\u001b[0m\n\u001b[0m\u001b[1;32m      7\u001b[0m     \u001b[0mdata1\u001b[0m \u001b[0;34m=\u001b[0m \u001b[0mfile1\u001b[0m\u001b[0;34m.\u001b[0m\u001b[0mread\u001b[0m\u001b[0;34m(\u001b[0m\u001b[0;34m)\u001b[0m\u001b[0;34m\u001b[0m\u001b[0m\n\u001b[1;32m      8\u001b[0m     \u001b[0mdata2\u001b[0m \u001b[0;34m=\u001b[0m \u001b[0mfile2\u001b[0m\u001b[0;34m.\u001b[0m\u001b[0mread\u001b[0m\u001b[0;34m(\u001b[0m\u001b[0;34m)\u001b[0m\u001b[0;34m\u001b[0m\u001b[0m\n",
      "\u001b[0;31mFileNotFoundError\u001b[0m: [Errno 2] No such file or directory: '-f'"
     ]
    }
   ],
   "source": [
    "# diff.py - Do two files match?\n",
    "# Exercise: Rewrite this code to compare the files part at a time so it\n",
    "# will not run out of RAM with large files.\n",
    "import sys\n",
    "\n",
    "with open(sys.argv[1], 'rb') as file1, open(sys.argv[2], 'rb') as file2:\n",
    "    data1 = file1.read()\n",
    "    data2 = file2.read()\n",
    "import sys\n",
    "import binascii\n",
    "\n",
    "jpeg_signatures = [\n",
    "    binascii.unhexlify(b'FFD8FFD8'),\n",
    "    binascii.unhexlify(b'FFD8FFE0'),\n",
    "    binascii.unhexlify(b'FFD8FFE1')\n",
    "]\n",
    "\n",
    "with open(sys.argv[1], 'rb') as file:\n",
    "    first_four_bytes = file.read(4)\n",
    "\n",
    "    if first_four_bytes in jpeg_signatures:\n",
    "        print(\"JPEG detected.\")\n",
    "    else:\n",
    "        print(\"File does not look like a JPEG.\")\n",
    "if data1 != data2:\n",
    "    print(\"Files do not match.\")\n",
    "else:\n",
    "    print(\"Files match.\")"
   ]
  },
  {
   "cell_type": "code",
   "execution_count": 10,
   "metadata": {
    "ExecuteTime": {
     "end_time": "2017-06-08T15:10:36.335902Z",
     "start_time": "2017-06-08T15:10:36.297156Z"
    }
   },
   "outputs": [
    {
     "data": {
      "text/plain": [
       "b'%PDF'"
      ]
     },
     "execution_count": 10,
     "metadata": {},
     "output_type": "execute_result"
    }
   ],
   "source": [
    "import sys\n",
    "import binascii\n",
    "\n",
    "binascii.unhexlify(b'25504446')\n",
    "\n",
    "#with open(sys.argv[1], 'rb') as file:\n",
    "#    first_four_bytes = file.read(4)\n",
    "#\n",
    "#    if first_four_bytes in jpeg_signatures:\n",
    "#        print(\"JPEG detected.\")\n",
    "#    else:\n",
    "#        print(\"File does not look like a JPEG.\")"
   ]
  },
  {
   "cell_type": "code",
   "execution_count": null,
   "metadata": {
    "collapsed": true
   },
   "outputs": [],
   "source": []
  }
 ],
 "metadata": {
  "kernelspec": {
   "display_name": "Python 3",
   "language": "python",
   "name": "python3"
  },
  "language_info": {
   "codemirror_mode": {
    "name": "ipython",
    "version": 3
   },
   "file_extension": ".py",
   "mimetype": "text/x-python",
   "name": "python",
   "nbconvert_exporter": "python",
   "pygments_lexer": "ipython3",
   "version": "3.5.3"
  },
  "latex_envs": {
   "LaTeX_envs_menu_present": true,
   "autocomplete": true,
   "bibliofile": "biblio.bib",
   "cite_by": "apalike",
   "current_citInitial": 1,
   "eqLabelWithNumbers": true,
   "eqNumInitial": 1,
   "hotkeys": {
    "equation": "Ctrl-E",
    "itemize": "Ctrl-I"
   },
   "labels_anchors": false,
   "latex_user_defs": false,
   "report_style_numbering": false,
   "user_envs_cfg": false
  },
  "varInspector": {
   "cols": {
    "lenName": 16,
    "lenType": 16,
    "lenVar": 40
   },
   "kernels_config": {
    "python": {
     "delete_cmd_postfix": "",
     "delete_cmd_prefix": "del ",
     "library": "var_list.py",
     "varRefreshCmd": "print(var_dic_list())"
    },
    "r": {
     "delete_cmd_postfix": ") ",
     "delete_cmd_prefix": "rm(",
     "library": "var_list.r",
     "varRefreshCmd": "cat(var_dic_list()) "
    }
   },
   "types_to_exclude": [
    "module",
    "function",
    "builtin_function_or_method",
    "instance",
    "_Feature"
   ],
   "window_display": false
  }
 },
 "nbformat": 4,
 "nbformat_minor": 2
}
