{
 "cells": [
  {
   "cell_type": "markdown",
   "metadata": {
    "toc": "true"
   },
   "source": [
    "# Table of Contents\n",
    " <p>"
   ]
  },
  {
   "cell_type": "code",
   "execution_count": 7,
   "metadata": {
    "collapsed": true
   },
   "outputs": [],
   "source": [
    "%matplotlib inline\n",
    "import pandas as pd \n",
    "import os\n",
    "import json\n",
    "from IPython.display import display, Markdown, HTML\n",
    "import requests\n",
    "#import matplotlib.pyplot as plt\n",
    "#import getpass\n",
    "import folium\n",
    "from webcolors import hex_to_rgb\n",
    "import colorlover as cl"
   ]
  },
  {
   "cell_type": "code",
   "execution_count": 8,
   "metadata": {
    "collapsed": true
   },
   "outputs": [],
   "source": [
    "carto_baseurl='https://jcalonso.carto.com'\n",
    "carto_sqlapi=carto_baseurl+'/api/v2/sql'\n",
    "carto_maps_api=carto_baseurl+'/api/v1/map'\n",
    "#api_key = getpass.getpass('Carto Api key:')    "
   ]
  },
  {
   "cell_type": "code",
   "execution_count": 9,
   "metadata": {},
   "outputs": [
    {
     "data": {
      "text/markdown": [
       "### Color shemes: "
      ],
      "text/plain": [
       "<IPython.core.display.Markdown object>"
      ]
     },
     "metadata": {},
     "output_type": "display_data"
    },
    {
     "data": {
      "text/html": [
       "<h4>Qualitative</h4><div style=\"display:inline-block;padding:10px;\"><div>cat</div><div style=\"background-color:rgb(115, 76, 212);height:20px;width:20px;display:inline-block;\"></div><div style=\"background-color:rgb(121, 179, 54);height:20px;width:20px;display:inline-block;\"></div><div style=\"background-color:rgb(240, 91, 0);height:20px;width:20px;display:inline-block;\"></div><div style=\"background-color:rgb(89, 212, 217);height:20px;width:20px;display:inline-block;\"></div><div style=\"background-color:rgb(228, 193, 47);height:20px;width:20px;display:inline-block;\"></div><div style=\"background-color:rgb(236, 60, 115);height:20px;width:20px;display:inline-block;\"></div></div><h4>Sequential</h4><div style=\"display:inline-block;padding:10px;\"><div>mammals</div><div style=\"background-color:rgb(42, 40, 57);height:20px;width:20px;display:inline-block;\"></div><div style=\"background-color:rgb(68, 65, 101);height:20px;width:20px;display:inline-block;\"></div><div style=\"background-color:rgb(95, 92, 150);height:20px;width:20px;display:inline-block;\"></div><div style=\"background-color:rgb(123, 120, 201);height:20px;width:20px;display:inline-block;\"></div><div style=\"background-color:rgb(152, 149, 255);height:20px;width:20px;display:inline-block;\"></div></div><div style=\"display:inline-block;padding:10px;\"><div>birds</div><div style=\"background-color:rgb(42, 55, 57);height:20px;width:20px;display:inline-block;\"></div><div style=\"background-color:rgb(42, 55, 57);height:20px;width:20px;display:inline-block;\"></div><div style=\"background-color:rgb(93, 144, 149);height:20px;width:20px;display:inline-block;\"></div><div style=\"background-color:rgb(121, 193, 201);height:20px;width:20px;display:inline-block;\"></div><div style=\"background-color:rgb(149, 244, 255);height:20px;width:20px;display:inline-block;\"></div></div><div style=\"display:inline-block;padding:10px;\"><div>amphibians</div><div style=\"background-color:rgb(41, 57, 47);height:20px;width:20px;display:inline-block;\"></div><div style=\"background-color:rgb(67, 101, 81);height:20px;width:20px;display:inline-block;\"></div><div style=\"background-color:rgb(93, 150, 117);height:20px;width:20px;display:inline-block;\"></div><div style=\"background-color:rgb(121, 201, 155);height:20px;width:20px;display:inline-block;\"></div><div style=\"background-color:rgb(149, 255, 195);height:20px;width:20px;display:inline-block;\"></div></div><h4>Diverging</h4><div style=\"display:inline-block;padding:10px;\"><div>GreenRed</div><div style=\"background-color:rgb(155, 255, 39);height:20px;width:20px;display:inline-block;\"></div><div style=\"background-color:rgb(255, 238, 117);height:20px;width:20px;display:inline-block;\"></div><div style=\"background-color:rgb(255, 162, 110);height:20px;width:20px;display:inline-block;\"></div><div style=\"background-color:rgb(255, 97, 97);height:20px;width:20px;display:inline-block;\"></div><div style=\"background-color:rgb(250, 40, 40);height:20px;width:20px;display:inline-block;\"></div></div><div style=\"display:inline-block;padding:10px;\"><div>Precip</div><div style=\"background-color:rgb(236, 116, 10);height:20px;width:20px;display:inline-block;\"></div><div style=\"background-color:rgb(226, 144, 45);height:20px;width:20px;display:inline-block;\"></div><div style=\"background-color:rgb(228, 193, 47);height:20px;width:20px;display:inline-block;\"></div><div style=\"background-color:rgb(105, 176, 151);height:20px;width:20px;display:inline-block;\"></div><div style=\"background-color:rgb(20, 113, 113);height:20px;width:20px;display:inline-block;\"></div></div><div style=\"display:inline-block;padding:10px;\"><div>Temp</div><div style=\"background-color:rgb(68, 32, 177);height:20px;width:20px;display:inline-block;\"></div><div style=\"background-color:rgb(88, 56, 156);height:20px;width:20px;display:inline-block;\"></div><div style=\"background-color:rgb(25, 84, 138);height:20px;width:20px;display:inline-block;\"></div><div style=\"background-color:rgb(55, 81, 196);height:20px;width:20px;display:inline-block;\"></div><div style=\"background-color:rgb(85, 144, 185);height:20px;width:20px;display:inline-block;\"></div><div style=\"background-color:rgb(126, 216, 168);height:20px;width:20px;display:inline-block;\"></div><div style=\"background-color:rgb(198, 216, 126);height:20px;width:20px;display:inline-block;\"></div><div style=\"background-color:rgb(232, 176, 93);height:20px;width:20px;display:inline-block;\"></div><div style=\"background-color:rgb(236, 131, 131);height:20px;width:20px;display:inline-block;\"></div><div style=\"background-color:rgb(234, 88, 88);height:20px;width:20px;display:inline-block;\"></div><div style=\"background-color:rgb(212, 13, 13);height:20px;width:20px;display:inline-block;\"></div></div>"
      ],
      "text/plain": [
       "<IPython.core.display.HTML object>"
      ]
     },
     "metadata": {},
     "output_type": "display_data"
    }
   ],
   "source": [
    "colors_sheme={\n",
    "    \"qual\":{\"cat\":['#734CD4','#79B336','#F05B00','#59D4D9','#E4C12F','#EC3C73']},\n",
    "    \"seq\":{\n",
    "        \"mammals\":['#2A2839', '#444165', '#5F5C96', '#7B78C9', '#9895FF'],\n",
    "        \"birds\":  ['#2A3739', '#2A3739', '#5D9095', '#79C1C9', '#95F4FF'],\n",
    "        \"amphibians\": ['#29392F', '#436551', '#5D9675', '#79C99B', '#95FFC3']\n",
    "    },\n",
    "    \"div\":{\n",
    "        \"GreenRed\":['#9BFF27','#FFEE75','#FFA26E','#FF6161','#FA2828'],\n",
    "        \"Precip\":  ['#EC740A','#E2902D','#E4C12F','#69B097','#147171'],\n",
    "        \"Temp\":    ['#4420B1','#58389C','#19548A','#3751C4','#5590B9','#7ED8A8', '#C6D87E','#E8B05D','#EC8383','#EA5858','#D40D0D']\n",
    "          }\n",
    "    \n",
    "}\n",
    "def h_to_rgb(color_sheme):\n",
    "    return {ty: {k: ['rgb'+ str(hex_to_rgb(c)) for c in v] for k, v in ramps.items()} for ty, ramps in color_sheme.items()}\n",
    "cas=h_to_rgb(colors_sheme)\n",
    "display(Markdown('### Color shemes: '))\n",
    "display(HTML(cl.to_html(cas)))"
   ]
  },
  {
   "cell_type": "code",
   "execution_count": 24,
   "metadata": {},
   "outputs": [],
   "source": [
    "from pprint import pprint\n",
    "def query(sql):\n",
    "    display(Markdown(\">#### Sql applied:  \"))\n",
    "    display(Markdown(\">>```sql {0}  ```\".format(sql)))\n",
    "    #payload = {\"q\": sql,\n",
    "    #          \"api_key\":api_key}\n",
    "    payload = {\"q\": sql}\n",
    "    r = requests.get(carto_sqlapi, params=payload)\n",
    "    if r.status_code != 200:\n",
    "        return print(r.json())\n",
    "    else:\n",
    "        return pd.read_json(json.dumps(r.json()['rows']), orient='records')\n",
    "def map_legends(type_legend,values,colors):\n",
    "    if type_legend in ['basic','gradient','choropleth']:\n",
    "        items=[]\n",
    "        for i, item in enumerate(values):\n",
    "            items.append({\"name\":item,\"color\":colors[i]})\n",
    "        legend ={\"type\":type_legend, \"items\":items}\n",
    "        display(Markdown(\">#### legend to be applied:  \"))\n",
    "        display(Markdown(\"\"\">>```javascript  \n",
    "    {0}  ```\"\"\".format(json.dumps(legend, sort_keys=True, indent=2))))\n",
    "\n",
    "def map_layers(map_config, n_layers):\n",
    "    display(Markdown(\">#### Configuration applied:  \"))\n",
    "    display(Markdown(\"\"\">>```javascript  \n",
    "    {0}  ```\"\"\".format(json.dumps(map_config, sort_keys=True, indent=2))))\n",
    "    #payload = {\"api_key\":api_key}\n",
    "    r = requests.post(carto_maps_api, data=json.dumps(body), headers={'content-type': 'application/json; charset=UTF-8'})\n",
    "    if r.status_code != 200:\n",
    "        return print(r.json())\n",
    "    else:\n",
    "        map_osm = folium.Map(location=[0.615, 38.0566], zoom_start=3,attr='My Data Attribution',tiles='https://api.mapbox.com/styles/v1/jchalfearth/cj82xy7cra1am2rp8ri1ijzom/tiles/256/{z}/{x}/{y}?access_token=pk.eyJ1IjoiamNoYWxmZWFydGgiLCJhIjoiY2o4Mnh4aDN6MGNqazMzc2FkeTlnajBoeiJ9.5Su3_JeAsjM0slTkaGFihw')\n",
    "        for sublayer in range(n_layers):\n",
    "            #tileUrl = carto_maps_api+'/'+ r.json()['layergroupid'] + '/'+str(sublayer)+'/{z}/{x}/{y}.png?api_key='+api_key;\n",
    "            tileUrl = carto_maps_api+'/'+ r.json()['layergroupid'] + '/'+str(sublayer)+'/{z}/{x}/{y}.png';\n",
    "            folium.TileLayer(\n",
    "                tiles=tileUrl,\n",
    "                attr='text',\n",
    "                name='text'+str(sublayer),\n",
    "                overlay=True\n",
    "                ).add_to(map_osm)\n",
    "        folium.TileLayer(\n",
    "                tiles=tileUrl,\n",
    "                attr='text',\n",
    "                name='text'+str(sublayer),\n",
    "                overlay=True\n",
    "                ).add_to(map_osm)\n",
    "        folium.TileLayer(\n",
    "                tiles='https://api.mapbox.com/styles/v1/jchalfearth/cj82yjykla1ly2rnpzvlsut0e/tiles/256/{z}/{x}/{y}?access_token=pk.eyJ1IjoiamNoYWxmZWFydGgiLCJhIjoiY2o4Mnh4aDN6MGNqazMzc2FkeTlnajBoeiJ9.5Su3_JeAsjM0slTkaGFihw',\n",
    "                attr='text',\n",
    "                name='mask',\n",
    "                overlay=True\n",
    "                ).add_to(map_osm)\n",
    "        folium.LayerControl().add_to(map_osm)\n",
    "        return map_osm"
   ]
  },
  {
   "cell_type": "code",
   "execution_count": 25,
   "metadata": {
    "scrolled": true
   },
   "outputs": [
    {
     "data": {
      "text/markdown": [
       ">#### Sql applied:  "
      ],
      "text/plain": [
       "<IPython.core.display.Markdown object>"
      ]
     },
     "metadata": {},
     "output_type": "display_data"
    },
    {
     "data": {
      "text/markdown": [
       ">>```sql \n",
       "select (ST_ValueCount(st_union(the_raster_webmercator), 1, false)).* from mammals_1\n",
       "  ```"
      ],
      "text/plain": [
       "<IPython.core.display.Markdown object>"
      ]
     },
     "metadata": {},
     "output_type": "display_data"
    },
    {
     "data": {
      "text/html": [
       "<div>\n",
       "<style>\n",
       "    .dataframe thead tr:only-child th {\n",
       "        text-align: right;\n",
       "    }\n",
       "\n",
       "    .dataframe thead th {\n",
       "        text-align: left;\n",
       "    }\n",
       "\n",
       "    .dataframe tbody tr th {\n",
       "        vertical-align: top;\n",
       "    }\n",
       "</style>\n",
       "<table border=\"1\" class=\"dataframe\">\n",
       "  <thead>\n",
       "    <tr style=\"text-align: right;\">\n",
       "      <th></th>\n",
       "      <th>count</th>\n",
       "      <th>value</th>\n",
       "    </tr>\n",
       "  </thead>\n",
       "  <tbody>\n",
       "    <tr>\n",
       "      <th>0</th>\n",
       "      <td>67938</td>\n",
       "      <td>NaN</td>\n",
       "    </tr>\n",
       "  </tbody>\n",
       "</table>\n",
       "</div>"
      ],
      "text/plain": [
       "   count  value\n",
       "0  67938    NaN"
      ]
     },
     "metadata": {},
     "output_type": "display_data"
    },
    {
     "data": {
      "text/markdown": [
       "> ### 1.- Map: Mean precipitation"
      ],
      "text/plain": [
       "<IPython.core.display.Markdown object>"
      ]
     },
     "metadata": {},
     "output_type": "display_data"
    },
    {
     "data": {
      "text/markdown": [
       ">#### Configuration applied:  "
      ],
      "text/plain": [
       "<IPython.core.display.Markdown object>"
      ]
     },
     "metadata": {},
     "output_type": "display_data"
    },
    {
     "data": {
      "text/markdown": [
       ">>```javascript  \n",
       "    {\n",
       "  \"layers\": [\n",
       "    {\n",
       "      \"id\": \"1\",\n",
       "      \"options\": {\n",
       "        \"cartocss\": \"#layer {raster-opacity: 1;     raster-colorizer-default-mode: linear;     raster-colorizer-default-color: transparent;     raster-colorizer-epsilon: 0.01;     raster-colorizer-stops:         stop(-1, transparent)        stop(0, transparent)        stop(0.001, #2A2839)        stop(50, #444165)        stop(100, #5F5C96)        stop(150, #7B78C9)        stop(200, #9895FF)    }\",\n",
       "        \"cartocss_version\": \"2.3.0\",\n",
       "        \"geom_column\": \"the_raster_webmercator\",\n",
       "        \"geom_type\": \"raster\",\n",
       "        \"raster_band\": 1,\n",
       "        \"sql\": \"Select * from mammals_1\"\n",
       "      },\n",
       "      \"type\": \"mapnik\"\n",
       "    },\n",
       "    {\n",
       "      \"id\": \"2\",\n",
       "      \"options\": {\n",
       "        \"cartocss\": \"#layer {  line-width: 1.5;  line-color: #000000;  line-opacity: 1;}\",\n",
       "        \"cartocss_version\": \"2.3.0\",\n",
       "        \"sql\": \"Select * from ne_10m_roads\"\n",
       "      },\n",
       "      \"type\": \"mapnik\"\n",
       "    },\n",
       "    {\n",
       "      \"id\": \"3\",\n",
       "      \"options\": {\n",
       "        \"cartocss\": \"#layer {  polygon-fill: #000000;  polygon-opacity: 0.5;}#layer::outline {  line-width: 0;  line-color: #ffffff;  line-opacity: 1;}\",\n",
       "        \"cartocss_version\": \"2.3.0\",\n",
       "        \"sql\": \"Select * from wdpa_protected_areas\"\n",
       "      },\n",
       "      \"type\": \"mapnik\"\n",
       "    }\n",
       "  ],\n",
       "  \"maxzoom\": 18,\n",
       "  \"minzoom\": 3,\n",
       "  \"srid\": 3857,\n",
       "  \"version\": \"1.5.0\"\n",
       "}  ```"
      ],
      "text/plain": [
       "<IPython.core.display.Markdown object>"
      ]
     },
     "metadata": {},
     "output_type": "display_data"
    },
    {
     "data": {
      "text/html": [
       "<div style=\"width:100%;\"><div style=\"position:relative;width:100%;height:0;padding-bottom:60%;\"><iframe src=\"data:text/html;charset=utf-8;base64,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\" style=\"position:absolute;width:100%;height:100%;left:0;top:0;border:none !important;\" allowfullscreen webkitallowfullscreen mozallowfullscreen></iframe></div></div>"
      ],
      "text/plain": [
       "<folium.folium.Map at 0x11465a8d0>"
      ]
     },
     "metadata": {},
     "output_type": "display_data"
    }
   ],
   "source": [
    "sql=\"\"\"\n",
    "select (ST_ValueCount(st_union(the_raster_webmercator), 1, false)).* from mammals_1\n",
    "\"\"\"\n",
    "\n",
    "dataset= query(sql)\n",
    "\n",
    "display(dataset.head(10))\n",
    "\n",
    "display(Markdown(\"> ### 1.- Map: Mean precipitation\"))\n",
    "color=colors_sheme['seq']['mammals']\n",
    "\n",
    "map_query =\"\"\"\n",
    "Select * from mammals_1\n",
    "\"\"\"\n",
    "map_query_2 =\"\"\"\n",
    "Select * from ne_10m_roads\n",
    "\"\"\"\n",
    "map_query_3 =\"\"\"\n",
    "Select * from wdpa_protected_areas\n",
    "\"\"\"\n",
    "carto=\"\"\"\n",
    "#layer {{raster-opacity: 1; \n",
    "    raster-colorizer-default-mode: linear; \n",
    "    raster-colorizer-default-color: transparent; \n",
    "    raster-colorizer-epsilon: 0.01; \n",
    "    raster-colorizer-stops: \n",
    "        stop(-1, transparent)\n",
    "        stop(0, transparent)\n",
    "        stop(0.001, {color[0]})\n",
    "        stop(50, {color[1]})\n",
    "        stop(100, {color[2]})\n",
    "        stop(150, {color[3]})\n",
    "        stop(200, {color[4]})\n",
    "    }}\n",
    "\"\"\" \n",
    "carto_2=\"\"\"\n",
    "#layer {{\n",
    "  line-width: 1.5;\n",
    "  line-color: #000000;\n",
    "  line-opacity: 1;\n",
    "}}\n",
    "\"\"\" \n",
    "carto_3=\"\"\"\n",
    "#layer {{\n",
    "  polygon-fill: #000000;\n",
    "  polygon-opacity: 0.5;\n",
    "}}\n",
    "#layer::outline {{\n",
    "  line-width: 0;\n",
    "  line-color: #ffffff;\n",
    "  line-opacity: 1;\n",
    "}}\n",
    "\"\"\" \n",
    "\n",
    "body = {\n",
    "    \"version\": \"1.5.0\",\n",
    "    \"srid\": 3857,\n",
    "    \"maxzoom\": 18,\n",
    "    \"minzoom\": 3,\n",
    "    \"layers\": [{\n",
    "         \"id\": '1',\n",
    "        \"type\": \"mapnik\",\n",
    "        \"options\": {\n",
    "            \"sql\": map_query.replace('\\n',''),\n",
    "            \"cartocss\": carto.format(color=color).replace('\\n',''),\n",
    "            \"cartocss_version\": \"2.3.0\",\n",
    "            \"geom_column\": \"the_raster_webmercator\",\n",
    "            \"geom_type\": \"raster\",\n",
    "            \"raster_band\": 1\n",
    "        }\n",
    "    },\n",
    "    {\n",
    "         \"id\": '2',\n",
    "        \"type\": \"mapnik\",\n",
    "        \"options\": {\n",
    "            \"sql\": map_query_2.format('annual').replace('\\n',''),\n",
    "            \"cartocss\": carto_2.format(color=colors_sheme['div']['Precip']).replace('\\n',''),\n",
    "            \"cartocss_version\": \"2.3.0\"\n",
    "        }\n",
    "    },\n",
    "    {\n",
    "         \"id\": '3',\n",
    "        \"type\": \"mapnik\",\n",
    "        \"options\": {\n",
    "            \"sql\": map_query_3.replace('\\n',''),\n",
    "            \"cartocss\": carto_3.format(color=color).replace('\\n',''),\n",
    "            \"cartocss_version\": \"2.3.0\"\n",
    "        }\n",
    "    }]\n",
    "}\n",
    "display(map_layers(body, 3))\n",
    "#map_legends('basic',[0,50,90,120],colors_sheme['div']['Precip'])"
   ]
  },
  {
   "cell_type": "code",
   "execution_count": null,
   "metadata": {
    "collapsed": true
   },
   "outputs": [],
   "source": []
  }
 ],
 "metadata": {
  "kernelspec": {
   "display_name": "Python 3",
   "language": "python",
   "name": "python3"
  },
  "language_info": {
   "codemirror_mode": {
    "name": "ipython",
    "version": 3
   },
   "file_extension": ".py",
   "mimetype": "text/x-python",
   "name": "python",
   "nbconvert_exporter": "python",
   "pygments_lexer": "ipython3",
   "version": "3.6.1"
  },
  "toc": {
   "colors": {
    "hover_highlight": "#DAA520",
    "navigate_num": "#000000",
    "navigate_text": "#333333",
    "running_highlight": "#FF0000",
    "selected_highlight": "#FFD700",
    "sidebar_border": "#EEEEEE",
    "wrapper_background": "#FFFFFF"
   },
   "moveMenuLeft": true,
   "nav_menu": {
    "height": "12px",
    "width": "252px"
   },
   "navigate_menu": true,
   "number_sections": true,
   "sideBar": true,
   "threshold": "2",
   "toc_cell": true,
   "toc_section_display": "block",
   "toc_window_display": true,
   "widenNotebook": false
  },
  "varInspector": {
   "cols": {
    "lenName": 16,
    "lenType": 16,
    "lenVar": 40
   },
   "kernels_config": {
    "python": {
     "delete_cmd_postfix": "",
     "delete_cmd_prefix": "del ",
     "library": "var_list.py",
     "varRefreshCmd": "print(var_dic_list())"
    },
    "r": {
     "delete_cmd_postfix": ") ",
     "delete_cmd_prefix": "rm(",
     "library": "var_list.r",
     "varRefreshCmd": "cat(var_dic_list()) "
    }
   },
   "types_to_exclude": [
    "module",
    "function",
    "builtin_function_or_method",
    "instance",
    "_Feature"
   ],
   "window_display": false
  }
 },
 "nbformat": 4,
 "nbformat_minor": 2
}
