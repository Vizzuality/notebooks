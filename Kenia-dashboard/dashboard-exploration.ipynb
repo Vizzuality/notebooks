{
 "cells": [
  {
   "cell_type": "code",
   "execution_count": 2,
   "metadata": {
    "collapsed": true
   },
   "outputs": [],
   "source": [
    "%matplotlib inline\n",
    "from vega import Vega\n",
    "import geopandas as gpd\n",
    "import pandas as pd \n",
    "import rasterio\n",
    "import os\n",
    "import ipywidgets\n",
    "from cartoframes import Layer, BaseMap, styling, CartoContext\n",
    "cc = CartoContext(base_url='https://simbiotica.carto.com', api_key='0c09d0e4d56112e17c7fc613a54f18d37223ce7c')"
   ]
  },
  {
   "cell_type": "markdown",
   "metadata": {},
   "source": [
    "# Kenia Dashboard"
   ]
  },
  {
   "cell_type": "markdown",
   "metadata": {},
   "source": [
    "List of indicators:\n",
    "* Wildlife Numbers\n",
    "* Livestock Numbers\n",
    "* Livestock Numbers\n",
    "* Livestock Numbers\n",
    "* Land Cover\n",
    "* Land Cover\n",
    "* Human Wildlife Conflict\n",
    "* Human Population\n",
    "* Poverty/Income Levels\n",
    "* Rainfall\n",
    "* Temperature\n",
    "* Climate Projections\n",
    "* Climate Projections\n",
    "* NDVI\n",
    "* Road density\n",
    "* Infrastructure - current\n",
    "* Infrastructure - proposed\n",
    "* Protected Area Boundaries\n",
    "* Conservancy Boundaries\n",
    "* Surface Water\n",
    "* Agricultural Productivity"
   ]
  },
  {
   "cell_type": "code",
   "execution_count": 3,
   "metadata": {},
   "outputs": [
    {
     "data": {
      "text/plain": [
       "['.DS_Store',\n",
       " 'Administrative_boundaries',\n",
       " 'Agriculture',\n",
       " 'Agriculture.zip',\n",
       " 'Climate',\n",
       " 'DRSRS',\n",
       " 'Forest',\n",
       " 'Infrastructure',\n",
       " 'Landcover',\n",
       " 'Livestock',\n",
       " 'Livestock.zip',\n",
       " 'Population',\n",
       " 'Protected_areas',\n",
       " 'Socioeconomic',\n",
       " 'Socioeconomic.zip',\n",
       " 'Water',\n",
       " 'Wildlife']"
      ]
     },
     "execution_count": 3,
     "metadata": {},
     "output_type": "execute_result"
    }
   ],
   "source": [
    "os.listdir(('/Users/alicia/Projects/jupyter-geotools-alpine/work/'+'data/keniaDashboard/Data'))"
   ]
  },
  {
   "cell_type": "markdown",
   "metadata": {},
   "source": [
    "## Wildlife Numbers"
   ]
  },
  {
   "cell_type": "markdown",
   "metadata": {},
   "source": [
    "### Data exploration\n",
    "\n",
    "We have two main sources in the data shared\n",
    "\n",
    "|property|value|\n",
    "|----|-------|\n",
    "|agency||\n",
    "|temporal range||\n",
    "|frequency||"
   ]
  },
  {
   "cell_type": "markdown",
   "metadata": {},
   "source": [
    "### Configuration files to merge\n",
    "\n",
    "The config file json configuration is a list of jsons where each json represents a file to be manage. The structure is reflected on the next example:\n",
    "```json\n",
    "{\n",
    "\"path\": \"<valid geojson endpoint>\",\n",
    "\"specie\":\"<valid species name>\",\n",
    "\"year\":1990,\n",
    "\"data\": None, ## empty as the geodataframe will be stored here\n",
    "\"columns\":[], ## empty array\n",
    "\"columns_selection\":[\"new_name1\",\"new_name2\"],\n",
    "\"columns_selec_rename\": {\n",
    "     \"new_name1\":\"old_name1\", \n",
    "     \"new_name2\":\"old_name2\"\n",
    "    }\n",
    "}\n",
    "\n",
    "```"
   ]
  },
  {
   "cell_type": "code",
   "execution_count": 20,
   "metadata": {},
   "outputs": [
    {
     "name": "stdout",
     "output_type": "stream",
     "text": [
      "[{'path': '/Users/alicia/Projects/jupyter-geotools-alpine/work//data/keniaDashboard/Data/Wildlife/ke_grevys_1970s.shp', 'specie': 'grevys', 'year': '1970'}, {'path': '/Users/alicia/Projects/jupyter-geotools-alpine/work//data/keniaDashboard/Data/Wildlife/ke_grevys_1990s.shp', 'specie': 'grevys', 'year': '1990'}, {'path': '/Users/alicia/Projects/jupyter-geotools-alpine/work//data/keniaDashboard/Data/Wildlife/ke_numbers_buffalo.shp', 'specie': 'buffalo', 'year': '1990'}, {'path': '/Users/alicia/Projects/jupyter-geotools-alpine/work//data/keniaDashboard/Data/Wildlife/ke_numbers_elephant.shp', 'specie': 'elephant', 'year': '1990'}, {'path': '/Users/alicia/Projects/jupyter-geotools-alpine/work//data/keniaDashboard/Data/Wildlife/ke_numbers_giraffe.shp', 'specie': 'giraffe', 'year': '1990'}, {'path': '/Users/alicia/Projects/jupyter-geotools-alpine/work//data/keniaDashboard/Data/Wildlife/ke_numbers_wildebeest.shp', 'specie': 'wildebeest', 'year': '1990'}, {'path': '/Users/alicia/Projects/jupyter-geotools-alpine/work//data/keniaDashboard/Data/Wildlife/ke_numbers_zebra.shp', 'specie': 'zebra', 'year': '1990'}, {'path': '/Users/alicia/Projects/jupyter-geotools-alpine/work//data/keniaDashboard/Data/Wildlife/ke_wildlife_1970.shp', 'specie': 'wildlife', 'year': '1970'}, {'path': '/Users/alicia/Projects/jupyter-geotools-alpine/work//data/keniaDashboard/Data/Wildlife/ke_wildlife_1990.shp', 'specie': 'wildlife', 'year': '1990'}]\n"
     ]
    }
   ],
   "source": [
    "basepath='/Users/alicia/Projects/jupyter-geotools-alpine/work/'\n",
    "pathD=basepath+'/data/keniaDashboard/Data/Wildlife'\n",
    "filenames = [{\"path\": os.path.join(pathD,fn), \"specie\":fn.split('.')[0].replace('_numbers_','_').split('_')[1], \"year\":(fn.split('.')[0].replace('_numbers_','_')+'_1990').split('_')[2].rstrip('s')} for fn in next(os.walk(pathD))[2] if fn.endswith(\".shp\")]\n",
    "print(filenames)"
   ]
  },
  {
   "cell_type": "code",
   "execution_count": 32,
   "metadata": {},
   "outputs": [
    {
     "name": "stdout",
     "output_type": "stream",
     "text": [
      "   ZG70M                                      geometry\n",
      "0    0.0  POINT (37.51625814736857 0.2711979404049882)\n",
      "1    0.0   POINT (35.40733323412545 5.017819030140916)\n",
      "2    0.0    POINT (35.40749923261389 4.99412898304757)\n",
      "3    0.0   POINT (35.37112301344596 4.992462559336893)\n",
      "4    0.0   POINT (35.33267819952214 4.974342210941475)\n",
      "   ZG90M                                      geometry\n",
      "0    0.0  POINT (37.51625814736857 0.2711979404049882)\n",
      "1    0.0   POINT (35.40733323412545 5.017819030140916)\n",
      "2    0.0    POINT (35.40749923261389 4.99412898304757)\n",
      "3    0.0   POINT (35.37112301344596 4.992462559336893)\n",
      "4    0.0   POINT (35.33267819952214 4.974342210941475)\n",
      "    BF90M                                           geometry\n",
      "0  883.40  POLYGON ((389999.9375 234999.96875, 389999.937...\n",
      "1  618.38  POLYGON ((394999.9375 229999.96875, 394999.937...\n",
      "2  868.26  POLYGON ((329999.9375 134999.96875, 329999.937...\n",
      "3  747.10  POLYGON ((389999.9375 84999.984375, 389999.937...\n",
      "4  378.60  POLYGON ((219999.96875 74999.984375, 219999.96...\n",
      "   EL90M                                           geometry\n",
      "0  210.0  POLYGON ((499999.9375 314999.9375, 504999.9375...\n",
      "1  840.0  POLYGON ((374999.9375 249999.96875, 374999.937...\n",
      "2  630.0  POLYGON ((369999.9375 244999.96875, 369999.937...\n",
      "3  102.0  POLYGON ((374999.9375 244999.96875, 374999.937...\n",
      "4  522.0  POLYGON ((374999.9375 239999.96875, 374999.937...\n",
      "   GF90M                                           geometry\n",
      "0  122.4  POLYGON ((684999.875 464999.9375, 684999.875 4...\n",
      "1   61.2  POLYGON ((704999.875 429999.9375, 704999.875 4...\n",
      "2  187.2  POLYGON ((724999.875 429999.9375, 724999.875 4...\n",
      "3  187.2  POLYGON ((794999.875 429999.9375, 794999.875 4...\n",
      "4  187.2  POLYGON ((659999.875 424999.9375, 659999.875 4...\n",
      "    WL90M                                           geometry\n",
      "0   90.60  POLYGON ((137143 -120057.578125, 137153.125 -1...\n",
      "1  348.81  POLYGON ((117130.171875 -120097.28125, 117140....\n",
      "2  713.93  POLYGON ((92104.828125 -120146.96875, 92114.96...\n",
      "3   14.50  POLYGON ((77084.640625 -120176.78125, 77094.79...\n",
      "4  121.40  POLYGON ((162159.875 -125008.28125, 162170.406...\n",
      "     ZB90M                                           geometry\n",
      "0   163.28  POLYGON ((33675.03125 466023.75, 33636.703125 ...\n",
      "1  1088.88  POLYGON ((58610.40625 450804.8125, 58573.35156...\n",
      "2   417.04  POLYGON ((38534.8671875 445943.4375, 38515.140...\n",
      "3   108.16  POLYGON ((33487.5390625 440969.4375, 33451.281...\n",
      "4   344.24  POLYGON ((38498.203125 440933, 38461.953125 43...\n",
      "   WILDL_DEN                                           geometry\n",
      "0        0.0  POLYGON ((102676.203125 555594.625, 100159.546...\n",
      "1        0.0  POLYGON ((102676.203125 555594.625, 103357.031...\n",
      "2        0.0  POLYGON ((94505.21875 552446.75, 96794.359375 ...\n",
      "3        0.0  POLYGON ((94505.21875 552446.75, 94488.953125 ...\n",
      "4        0.0  POLYGON ((84300.390625 550753.375, 79802.09375...\n",
      "   ALL_WL_DEN                                           geometry\n",
      "0         0.0  POLYGON ((35.41802770091034 5.016674712929801,...\n",
      "1         0.0  POLYGON ((35.41802770091034 5.016674712929801,...\n",
      "2         0.0  POLYGON ((35.3446224755718 4.987847421356876, ...\n",
      "3         0.0  POLYGON ((35.3446224755718 4.987847421356876, ...\n",
      "4         0.0  POLYGON ((35.25284797684227 4.972042912677081,...\n"
     ]
    }
   ],
   "source": [
    "for files in filenames:\n",
    "    files['data']=gpd.read_file(files['path'])\n",
    "    files['columns']=files['data'].columns.values\n",
    "    print(files['data'].head())"
   ]
  },
  {
   "cell_type": "code",
   "execution_count": 44,
   "metadata": {},
   "outputs": [
    {
     "name": "stdout",
     "output_type": "stream",
     "text": [
      "grevys density in 1970: **0.4977401448866309**, total population: 10580.96\n",
      "grevys density in 1990: **0.24989745037162478**, total population: 5312.32\n",
      "buffalo density in 1990: **602.4837719298245**, total population: 68683.15\n",
      "elephant density in 1990: **674.8346456692914**, total population: 85704.0\n",
      "giraffe density in 1990: **212.04903988183162**, total population: 143557.2\n",
      "wildebeest density in 1990: **1322.0032420091325**, total population: 289518.71\n",
      "zebra density in 1990: **321.8727972027972**, total population: 184111.24\n",
      "wildlife density in 1970: **3.0513578680203044**, total population: 64920.689999999995\n",
      "wildlife density in 1990: **1.2237770257567213**, total population: 26037.08\n",
      "are we talking about density? it seems that species density is more like number of individuals per grid\n"
     ]
    }
   ],
   "source": [
    "for files in filenames:\n",
    "    print(\"{0} density in {1}: **{2}**, total population: {3}\".format(files['specie'],files['year'], files['data'].mean().values[0], files['data'].sum().values[0]))\n",
    "print('are we talking about density? it seems that species density is more like number of individuals per grid')"
   ]
  },
  {
   "cell_type": "markdown",
   "metadata": {},
   "source": [
    "## Livestock Numbers"
   ]
  },
  {
   "cell_type": "markdown",
   "metadata": {},
   "source": [
    "**Data Treatment:** we will convert it into a single table that will hold the next structure:\n",
    "\n",
    "|geometry(polygons)|species|observation_year|density (count/sqkm)|  \n",
    "|------------------|-------|----------------|--------------------|  \n",
    "|||||  \n",
    "\n",
    "\n",
    "If the density units are the same (units/sqkm) we can compare 1990 data)"
   ]
  },
  {
   "cell_type": "code",
   "execution_count": 48,
   "metadata": {},
   "outputs": [
    {
     "name": "stdout",
     "output_type": "stream",
     "text": [
      "[{'path': '/Users/alicia/Projects/jupyter-geotools-alpine/work//data/keniaDashboard/Data/Livestock/Kenya_Livestock_1990.shp', 'specie': 'Livestock', 'year': '1990'}]\n"
     ]
    }
   ],
   "source": [
    "basepath='/Users/alicia/Projects/jupyter-geotools-alpine/work/'\n",
    "pathD=basepath+'/data/keniaDashboard/Data/Livestock'\n",
    "os.listdir()\n",
    "filenames = [{\"path\": os.path.join(pathD,fn), \"specie\":fn.split('.')[0].replace('_numbers_','_').split('_')[1], \"year\":(fn.split('.')[0].replace('_numbers_','_')+'_1990').split('_')[2].rstrip('s')} for fn in next(os.walk(pathD))[2] if fn.endswith(\".shp\")]\n",
    "print(filenames)"
   ]
  },
  {
   "cell_type": "code",
   "execution_count": 49,
   "metadata": {},
   "outputs": [
    {
     "name": "stdout",
     "output_type": "stream",
     "text": [
      "   LVSTCK_DEN                                           geometry\n",
      "0         0.0  POLYGON ((35.41802770091034 5.016674712929801,...\n",
      "1         0.0  POLYGON ((35.41802770091034 5.016674712929801,...\n",
      "2         0.0  POLYGON ((35.3446224755718 4.987847421356876, ...\n",
      "3         0.0  POLYGON ((35.3446224755718 4.987847421356876, ...\n",
      "4         0.0  POLYGON ((35.25284797684227 4.972042912677081,...\n"
     ]
    }
   ],
   "source": [
    "for files in filenames:\n",
    "    files['data']=gpd.read_file(files['path'])\n",
    "    files['columns']=files['data'].columns.values\n",
    "    print(files['data'].head())"
   ]
  },
  {
   "cell_type": "code",
   "execution_count": 50,
   "metadata": {},
   "outputs": [
    {
     "name": "stdout",
     "output_type": "stream",
     "text": [
      "Livestock density in 1990: **6.702016826471141**, total population: 142592.11\n"
     ]
    }
   ],
   "source": [
    "for files in filenames:\n",
    "    print(\"{0} density in {1}: **{2}**, total population: {3}\".format(files['specie'],files['year'], files['data'].mean().values[0], files['data'].sum().values[0]))\n"
   ]
  },
  {
   "cell_type": "code",
   "execution_count": null,
   "metadata": {
    "collapsed": true
   },
   "outputs": [],
   "source": []
  },
  {
   "cell_type": "markdown",
   "metadata": {},
   "source": [
    "## Land Cover"
   ]
  },
  {
   "cell_type": "markdown",
   "metadata": {},
   "source": [
    "**Data Treatment:** we will convert it into a single table that will hold the next structure:\n",
    "\n",
    "|geometry(polygons)|species|observation_year|density (count/sqkm)|  \n",
    "|------------------|-------|----------------|--------------------|  \n",
    "|||||  \n",
    "\n",
    "\n",
    "If the density units are the same (units/sqkm) we can compare 1990 data)"
   ]
  },
  {
   "cell_type": "code",
   "execution_count": null,
   "metadata": {
    "collapsed": true
   },
   "outputs": [],
   "source": []
  },
  {
   "cell_type": "code",
   "execution_count": null,
   "metadata": {
    "collapsed": true
   },
   "outputs": [],
   "source": []
  },
  {
   "cell_type": "markdown",
   "metadata": {},
   "source": [
    "## Key protected ecosystems\n",
    "\n",
    "**Data Treatment:** we will convert it into a single table that will hold the next structure:\n",
    "\n",
    "|geometry(polygons)|species|observation_year|density (count/sqkm)|  \n",
    "|------------------|-------|----------------|--------------------|  \n",
    "|||||  \n",
    "\n",
    "\n",
    "If the density units are the same (units/sqkm) we can compare 1990 data)"
   ]
  },
  {
   "cell_type": "code",
   "execution_count": null,
   "metadata": {
    "collapsed": true
   },
   "outputs": [],
   "source": []
  }
 ],
 "metadata": {
  "kernelspec": {
   "display_name": "Python 3",
   "language": "python",
   "name": "python3"
  },
  "language_info": {
   "codemirror_mode": {
    "name": "ipython",
    "version": 3
   },
   "file_extension": ".py",
   "mimetype": "text/x-python",
   "name": "python",
   "nbconvert_exporter": "python",
   "pygments_lexer": "ipython3",
   "version": "3.6.1"
  },
  "varInspector": {
   "cols": {
    "lenName": 16,
    "lenType": 16,
    "lenVar": 40
   },
   "kernels_config": {
    "python": {
     "delete_cmd_postfix": "",
     "delete_cmd_prefix": "del ",
     "library": "var_list.py",
     "varRefreshCmd": "print(var_dic_list())"
    },
    "r": {
     "delete_cmd_postfix": ") ",
     "delete_cmd_prefix": "rm(",
     "library": "var_list.r",
     "varRefreshCmd": "cat(var_dic_list()) "
    }
   },
   "types_to_exclude": [
    "module",
    "function",
    "builtin_function_or_method",
    "instance",
    "_Feature"
   ],
   "window_display": false
  }
 },
 "nbformat": 4,
 "nbformat_minor": 2
}
