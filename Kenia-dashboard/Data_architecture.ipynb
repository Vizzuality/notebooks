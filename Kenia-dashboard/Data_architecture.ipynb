{
 "cells": [
  {
   "cell_type": "markdown",
   "metadata": {},
   "source": [
    "# Data architecture \n",
    "\n",
    "We will use [Carto](https://carto.com/) as the database (postgres 9.5) \n",
    "\n",
    "All the data will be hosted in s3 and will be sync to carto account making it possible to only allow carto to connect to the data.\n",
    "The structure of the data will be as following:\n",
    "\n",
    "* **Master Configuration table:** holds all configuration info for all indicators.\n",
    "    * Assign: vizzuality\n",
    "    * Table name: kenya_config\n",
    "    * Table structure:\n",
    "\n",
    "|column name|datatype|description|  \n",
    "|:---|---:|:---|  \n",
    "|topic|text||  \n",
    "|indicator_name|text||  \n",
    "|slug|text||  \n",
    "|table_name|array (text)||  \n",
    "|has_geo|boolean||  \n",
    "|is_raster|boolean||  \n",
    "|unit|text||  \n",
    "|description|text||  \n",
    "|card|json||  \n",
    "|detail|json||  \n",
    "|freq|text||  \n",
    "|agency|text||  \n",
    "|thres_min|numeric||  \n",
    "|thres_max|numeric||\n",
    "|invert|boolean||  \n",
    "\n",
    "\n",
    "* **Geometries table:** holds the geometries for the different levels normalized. \n",
    "    * Assign: CI/VS?\n",
    "    * naming_convention: ```<geometry level, i.e.:counties>_geometries```\n",
    "    * format: .zip (holds shapefile)\n",
    "    * Table structure:\n",
    "\n",
    "|column name|datatype|description|  \n",
    "|:---|---:|:---|  \n",
    "|geometry|geom|-|\n",
    "|id|int|geometry id|\n",
    "|iso_a3|text|[iso 3166-1 alpha-3](https://unstats.un.org/unsd/tradekb/Knowledgebase/50347/Country-Code)|\n",
    "|name|text|area name|\n",
    "|area_ha|numeric|area covered by that polygon in Hectares |\n",
    "\n",
    "* **Indicator tables:** Each indicator will be a table itself. All tables will hold the same structure. It will holds information related spatial and temporal values. \n",
    "    * Assign: CI/VS\n",
    "    * naming_convention: ```<indicator_name>``` \n",
    "    * format: .csv\n",
    "    * Table structure:\n",
    "\n",
    "|column name|datatype|description|  \n",
    "|:---|---:|:---|\n",
    "|county_id|int|if the indicator value correspond to a county this will holds the id not, this will be ```null```|\n",
    "|pa_id|int|if correspond to a protected_area this will holds the id else this will be ```null```|\n",
    "|country_id|int|if correspond to country (Kenya) this will holds the id else this will be ```null```|\n",
    "|waterb_id|int|if correspond to a county this will holds the id else this will be ```null```|\n",
    "|value|numeric| data value for that region, for that category and for taht date|\n",
    "|date|datetime-utc| datetime in utc form |\n",
    "|category|text| i.e. for wildlife we will have as category all different species monitored|\n",
    "\n",
    "* **Raster indicators:** holds raster indicator for map view purpouses. \n",
    "    * Assign: CI/VS\n",
    "    * naming_convention: ```<indicator_name>_<year>_<month>_<day>```\n",
    "    * format:  .tif\n",
    "    * projection: If possible EPSG:4326\n",
    "\n",
    "\n",
    "\n"
   ]
  },
  {
   "cell_type": "code",
   "execution_count": null,
   "metadata": {
    "collapsed": true
   },
   "outputs": [],
   "source": []
  }
 ],
 "metadata": {
  "kernelspec": {
   "display_name": "Python 3",
   "language": "python",
   "name": "python3"
  },
  "language_info": {
   "codemirror_mode": {
    "name": "ipython",
    "version": 3
   },
   "file_extension": ".py",
   "mimetype": "text/x-python",
   "name": "python",
   "nbconvert_exporter": "python",
   "pygments_lexer": "ipython3",
   "version": "3.6.1"
  },
  "varInspector": {
   "cols": {
    "lenName": 16,
    "lenType": 16,
    "lenVar": 40
   },
   "kernels_config": {
    "python": {
     "delete_cmd_postfix": "",
     "delete_cmd_prefix": "del ",
     "library": "var_list.py",
     "varRefreshCmd": "print(var_dic_list())"
    },
    "r": {
     "delete_cmd_postfix": ") ",
     "delete_cmd_prefix": "rm(",
     "library": "var_list.r",
     "varRefreshCmd": "cat(var_dic_list()) "
    }
   },
   "types_to_exclude": [
    "module",
    "function",
    "builtin_function_or_method",
    "instance",
    "_Feature"
   ],
   "window_display": false
  }
 },
 "nbformat": 4,
 "nbformat_minor": 2
}
