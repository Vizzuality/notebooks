{
 "cells": [
  {
   "cell_type": "markdown",
   "metadata": {},
   "source": [
    "# Case study 1: \n",
    "## Wildlife: Status and Trends – numbers, distribution, and connectivity"
   ]
  },
  {
   "cell_type": "markdown",
   "metadata": {},
   "source": [
    "As a starting point, the team will work closely with partners at MENR to review their monitoring and reporting needs to ensure that the outputs from the integrated data platform link directly to specific information and reporting needs.  For example, potential monitoring and reporting outputs that the platform can inform include:\n",
    " \n",
    "* Conservation Status Report (bi-annual)\n",
    "* National Wildlife Resource Monitoring Report – every 5 years\n",
    "* Bi-Lateral and Multilateral Environmental Agreements (in bi-annual status report) – CITES, CMS, CBD, etc\n",
    "* Policy, cabinet level, and international meetings and negotiations\n",
    "* Annual Report on Wildlife Strategy Implementation\n",
    "* KWS Internal Reports\n",
    "* Progress reports on Ecosystem Management Plans\n",
    "* Ecosystem Management Plans – Development\n",
    "* Corridor Mapping and Prioritization\n",
    "* Monitoring of Corridor Implementation – annual reports\n",
    "* Reports to Parliament and other stakeholders as required\n",
    "\n",
    "\n",
    "Specific questions and visualizations will be derived from the priority monitoring and reporting requirements. Possible questions/visualizations may include:\n",
    "* Total populations of key wildlife species in Kenya and their trends over time  - map and chart views\n",
    "* Wildlife populations by County and ecosystem – with the ability to interactively define boundaries on a map or import a shapefile\n",
    "* Identification and prioritization of corridors and dispersal areas\n",
    "* Changing (past, current and future) threat surfaces (land cover, infrastructure, climate change, etc) and their relationship to key biodiversity areas, corridors, and dispersal areas (e.g. how has human population density, or crop land cover, changed within 10 kms of an identified corridor over time?)\n",
    "* TBD…\n",
    " \n",
    "In addition, Phase 1 of the platform implementation could include more detailed assessments, analyses, and visualizations for specific data rich focal areas such as:\n",
    " \n",
    "* Nakuru Ecosystem\n",
    "* Mara Ecosystem\n",
    "* Laikipia Samburu\n",
    "* Amboseli Ecosystem\n",
    " \n",
    "These focal area assessments may include additional data on water, land cover, settlement distribution, fences, and wildlife collaring data from key stakeholders.  These focal area assessments would require the identification and mobilization of additional datasets and may therefore be more appropriate for future phases of the implementation.\n"
   ]
  },
  {
   "cell_type": "markdown",
   "metadata": {},
   "source": [
    "## Proposed data (Jeff)\n",
    "\n",
    "* Data layers\n",
    "    - Wildlife Numbers\n",
    "    - Livestock Numbers\n",
    "    - Land Cover\n",
    "    - Wildlife Numbers\n",
    "    - Human Wildlife Conflict\n",
    "    - Human Population\n",
    "    - Poverty/Income Levels\n",
    "    - Rainfall\n",
    "    - Temperature\n",
    "    - Climate Projections\n",
    "    - NDVI\n",
    "    - Infrastructure - current\n",
    "    - Infrastructure - proposed\n",
    "\n",
    "* Contextual layers \n",
    "    - Political Boundaries\n",
    "    - Protected Area Boundaries\n",
    "    - Conservancy Boundaries\n",
    "    - Surface Water\n",
    "    - Agricultural Productivity\n",
    "\n",
    "**Alicia comments**  \n",
    "I'm missing hunt/poaching/traffic data legal/illegal one  \n",
    "Tourism Areas  \n",
    "I'm missing flora data  \n",
    "I'm missing ecological modeling datasets that estimate how different species interact with each other and at the same time with their habitats   (graph?)  \n",
    "Also invasive species data\n",
    "\n",
    "**Interesting datasets:**  \n",
    "https://global-surface-water.appspot.com/\n",
    "http://earthenginepartners.appspot.com/science-2013-global-forest  \n",
    "https://earthdata.nasa.gov/earth-observation-data/near-real-time/firms/active-fire-data  \n",
    "NDWI data  \n",
    "EVI data"
   ]
  },
  {
   "cell_type": "markdown",
   "metadata": {},
   "source": [
    "**Dashboard main objective:** monitoring and priorization for Decision making, centralize information. \n"
   ]
  },
  {
   "cell_type": "markdown",
   "metadata": {},
   "source": [
    "**How**:  \n",
    "\n"
   ]
  },
  {
   "cell_type": "code",
   "execution_count": null,
   "metadata": {
    "collapsed": true
   },
   "outputs": [],
   "source": []
  },
  {
   "cell_type": "code",
   "execution_count": null,
   "metadata": {
    "collapsed": true
   },
   "outputs": [],
   "source": []
  },
  {
   "attachments": {},
   "cell_type": "markdown",
   "metadata": {},
   "source": [
    "Bibliography and resources:  \n",
    "* Use case scenarios: https://docs.google.com/document/d/1SFAECt6b3nLJTXUs-j3tVmHeKRHHiwUyt5Z2WDDKMdU/edit#\n",
    "* Propose data: https://docs.google.com/spreadsheets/d/1Aw5af940tSXS1l4l47oYttz8wqrJGYVKcdh7_iUlF_M/edit#gid=1121046932\n",
    "* Research articles and books:\n",
    "    * http://journals.plos.org/plosone/article?id=10.1371/journal.pone.0163249#pone.0163249.s001\n",
    "    * http://journals.plos.org/plosone/article?id=10.1371/journal.pone.0006140\n",
    "    * https://www.elsevier.com/books/fundamentals-of-ecological-modelling/jorgensen/978-0-444-53567-2\n",
    "    * http://kenyalaw.org/kl/fileadmin/pdfdownloads/Acts/WildlifeConservationandManagementActCap376_2_.pdf\n",
    "    * http://www.vision2030.go.ke/projects/?pj=167  \n",
    "    * https://portals.iucn.org/library/sites/library/files/documents/Traf-126.pdf\n",
    "    * [Spatial-planning-Making-space-for-livestock-and-wildlife.pdf](https://www.google.es/url?sa=t&rct=j&q=&esrc=s&source=web&cd=23&cad=rja&uact=8&ved=0ahUKEwjbsuXj0qvUAhXKWBoKHa3oD044FBAWCDIwAg&url=https%3A%2F%2Fmel.cgiar.org%2Freporting%2Fdownload%2Fhash%2FUUwKEipX&usg=AFQjCNH4xu_8AGv4Tj17JWqpvOAkB1iSuQ)"
   ]
  },
  {
   "cell_type": "code",
   "execution_count": null,
   "metadata": {
    "collapsed": true
   },
   "outputs": [],
   "source": []
  }
 ],
 "metadata": {
  "kernelspec": {
   "display_name": "Python 3",
   "language": "python",
   "name": "python3"
  },
  "language_info": {
   "codemirror_mode": {
    "name": "ipython",
    "version": 3
   },
   "file_extension": ".py",
   "mimetype": "text/x-python",
   "name": "python",
   "nbconvert_exporter": "python",
   "pygments_lexer": "ipython3",
   "version": "3.5.3"
  },
  "latex_envs": {
   "LaTeX_envs_menu_present": true,
   "autocomplete": true,
   "bibliofile": "biblio.bib",
   "cite_by": "apalike",
   "current_citInitial": 1,
   "eqLabelWithNumbers": true,
   "eqNumInitial": 1,
   "hotkeys": {
    "equation": "Ctrl-E",
    "itemize": "Ctrl-I"
   },
   "labels_anchors": false,
   "latex_user_defs": false,
   "report_style_numbering": false,
   "user_envs_cfg": false
  },
  "varInspector": {
   "cols": {
    "lenName": 16,
    "lenType": 16,
    "lenVar": 40
   },
   "kernels_config": {
    "python": {
     "delete_cmd_postfix": "",
     "delete_cmd_prefix": "del ",
     "library": "var_list.py",
     "varRefreshCmd": "print(var_dic_list())"
    },
    "r": {
     "delete_cmd_postfix": ") ",
     "delete_cmd_prefix": "rm(",
     "library": "var_list.r",
     "varRefreshCmd": "cat(var_dic_list()) "
    }
   },
   "types_to_exclude": [
    "module",
    "function",
    "builtin_function_or_method",
    "instance",
    "_Feature"
   ],
   "window_display": false
  }
 },
 "nbformat": 4,
 "nbformat_minor": 2
}
