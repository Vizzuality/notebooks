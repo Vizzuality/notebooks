{
 "cells": [
  {
   "cell_type": "markdown",
   "metadata": {
    "toc": "true"
   },
   "source": [
    "# Table of Contents\n",
    " <p><div class=\"lev2 toc-item\"><a href=\"#Load-geometries-to-analyze\" data-toc-modified-id=\"Load-geometries-to-analyze-01\"><span class=\"toc-item-num\">0.1&nbsp;&nbsp;</span>Load geometries to analyze</a></div><div class=\"lev2 toc-item\"><a href=\"#Analyze-loss/gain-Wildlife-places\" data-toc-modified-id=\"Analyze-loss/gain-Wildlife-places-02\"><span class=\"toc-item-num\">0.2&nbsp;&nbsp;</span>Analyze loss/gain Wildlife places</a></div><div class=\"lev2 toc-item\"><a href=\"#analyze-burned-areas\" data-toc-modified-id=\"analyze-burned-areas-03\"><span class=\"toc-item-num\">0.3&nbsp;&nbsp;</span>analyze burned areas</a></div><div class=\"lev2 toc-item\"><a href=\"#analyze-Glad\" data-toc-modified-id=\"analyze-Glad-04\"><span class=\"toc-item-num\">0.4&nbsp;&nbsp;</span>analyze Glad</a></div><div class=\"lev2 toc-item\"><a href=\"#analyze-precipitation\" data-toc-modified-id=\"analyze-precipitation-05\"><span class=\"toc-item-num\">0.5&nbsp;&nbsp;</span>analyze precipitation</a></div><div class=\"lev2 toc-item\"><a href=\"#ndvi\" data-toc-modified-id=\"ndvi-06\"><span class=\"toc-item-num\">0.6&nbsp;&nbsp;</span>ndvi</a></div><div class=\"lev2 toc-item\"><a href=\"#temperatures\" data-toc-modified-id=\"temperatures-07\"><span class=\"toc-item-num\">0.7&nbsp;&nbsp;</span>temperatures</a></div><div class=\"lev2 toc-item\"><a href=\"#species-richness\" data-toc-modified-id=\"species-richness-08\"><span class=\"toc-item-num\">0.8&nbsp;&nbsp;</span>species richness</a></div><div class=\"lev2 toc-item\"><a href=\"#snow-and-ice\" data-toc-modified-id=\"snow-and-ice-09\"><span class=\"toc-item-num\">0.9&nbsp;&nbsp;</span>snow and ice</a></div><div class=\"lev2 toc-item\"><a href=\"#Water-change\" data-toc-modified-id=\"Water-change-010\"><span class=\"toc-item-num\">0.10&nbsp;&nbsp;</span>Water change</a></div><div class=\"lev2 toc-item\"><a href=\"#droughts?\" data-toc-modified-id=\"droughts?-011\"><span class=\"toc-item-num\">0.11&nbsp;&nbsp;</span>droughts?</a></div>"
   ]
  },
  {
   "cell_type": "code",
   "execution_count": 2,
   "metadata": {},
   "outputs": [],
   "source": [
    "import geopandas as gpd\n",
    "import ee; ee.Initialize()\n",
    "import json\n",
    "import pandas as pd  \n",
    "import numpy as np\n",
    "import datetime\n",
    "import json\n",
    "import requests\n",
    "import matplotlib.pyplot as plt"
   ]
  },
  {
   "cell_type": "markdown",
   "metadata": {},
   "source": [
    "## Load geometries to analyze"
   ]
  },
  {
   "cell_type": "code",
   "execution_count": 3,
   "metadata": {
    "scrolled": false
   },
   "outputs": [],
   "source": [
    "with open('/Users/ikersanchez/Downloads/new-locations-with-geostore.json') as data:\n",
    "    dashboards = json.loads(data.read())"
   ]
  },
  {
   "cell_type": "markdown",
   "metadata": {},
   "source": [
    "Select only Okavango Delta"
   ]
  },
  {
   "cell_type": "code",
   "execution_count": 4,
   "metadata": {},
   "outputs": [],
   "source": [
    "dashboards = [a for a in dashboards if a['name'] in 'Okavango Delta']"
   ]
  },
  {
   "cell_type": "code",
   "execution_count": 5,
   "metadata": {},
   "outputs": [],
   "source": [
    "[dashboard['geojson']['features'][0].update({\"properties\": {'slug':dashboard['name'], 'areaHa':dashboard['areaHa'], 'geostore_id': dashboard['geostore_id']}}) for dashboard in dashboards]\n",
    "geometries = [dict(dashboard['geojson']['features'][0]) for dashboard in dashboards]\n",
    "for idx, item in enumerate(geometries):\n",
    "    if len(np.array(item['geometry']['coordinates']).shape)>3:\n",
    "        geometries[idx]['geometry']['coordinates'] = item['geometry']['coordinates'][0]\n",
    "collection = ee.FeatureCollection(geometries)"
   ]
  },
  {
   "cell_type": "markdown",
   "metadata": {},
   "source": [
    "##### Pumalin region"
   ]
  },
  {
   "cell_type": "code",
   "execution_count": 10,
   "metadata": {},
   "outputs": [],
   "source": [
    "with open('/Users/alicia/Downloads/Pumalin_Park.json') as data:\n",
    "    pumalin = json.loads(data.read())\n",
    "geometries = [{\"type\": \"Feature\", \"geometry\":pumalin['features'][0][\"geometry\"],\"properties\":{'slug':'pumalinPa', 'areaHa':292491}}]\n",
    "collection = ee.FeatureCollection(geometries)"
   ]
  },
  {
   "cell_type": "code",
   "execution_count": 11,
   "metadata": {
    "scrolled": true
   },
   "outputs": [
    {
     "data": {
      "text/plain": [
       "<ee.featurecollection.FeatureCollection at 0x117d18dd8>"
      ]
     },
     "execution_count": 11,
     "metadata": {},
     "output_type": "execute_result"
    }
   ],
   "source": [
    "collection"
   ]
  },
  {
   "cell_type": "markdown",
   "metadata": {},
   "source": [
    "## Analyze loss/gain Wildlife places"
   ]
  },
  {
   "cell_type": "code",
   "execution_count": 254,
   "metadata": {},
   "outputs": [
    {
     "name": "stdout",
     "output_type": "stream",
     "text": [
      "{'TwoCrow_leased': 2742216.389408344, 'TwoCrow_deeded': 2742216.389408344, 'Gorongosa_NP': 2742216.389408344, 'Osa_Peninsula': 2742216.389408344, 'TwoCrow_Outline': 2742216.389408344, 'APR_Outline_Names': 2742216.389408344, 'cPitcairnReserve2': 2742216.389408344, 'Everest_AOI_1988': 2742216.389408344, 'APR_Leased': 2742216.389408344, 'APR_Deeded': 2742216.389408344, 'Chobe': 2742216.389408344, 'National Park Luengue-Luiana': 2742216.389408344, 'Caprivi': 2742216.389408344, 'Kasane': 2742216.389408344, 'Mudumu': 2742216.389408344, 'Nkasa Rupara': 2742216.389408344, 'Okavango Delta System': 2742216.389408344, 'Bwabwata': 2742216.389408344, 'Mashi': 2742216.389408344, 'Kwandu': 2742216.389408344, 'Dzoti': 2742216.389408344, 'Lianshulu': 2742216.389408344, 'Okavango Delta': 2742216.389408344, 'Bwabwata-Okavango Ramsar Site': 2742216.389408344, 'Pumalin Park': 2742216.389408344, 'Pendjari': 2742216.389408344}\n"
     ]
    }
   ],
   "source": [
    "lwp = ee.Image.pixelArea().mask(ee.Image('users/adampain/LWPs_binary_WGS84'))\n",
    "regReducer = {\n",
    "    'collection': collection,\n",
    "    'reducer': ee.Reducer.sum(),\n",
    "    'scale':90,\n",
    "    'tileScale': 4\n",
    "}\n",
    "RegionslwpA = lwp.reduceRegions(**regReducer).toList(10000).getInfo()\n",
    "lwpA ={}\n",
    "for region in RegionslwpA:\n",
    "    lwpA[region['properties']['slug']]=region['properties']['sum']/10000\n",
    "print(lwpA)"
   ]
  },
  {
   "cell_type": "code",
   "execution_count": 256,
   "metadata": {
    "scrolled": true
   },
   "outputs": [],
   "source": [
    "wpLossG = ee.ImageCollection('users/Aliciaarenzana/natGeo/lossGainWPN')\n",
    "regReducer = {\n",
    "    'collection': collection,\n",
    "    'reducer': ee.Reducer.sum(),\n",
    "    'scale':90,\n",
    "    'tileScale': 4\n",
    "}\n",
    "def reduce2Regions(img):\n",
    "    loss = ee.Image.pixelArea().rename(['loss']).mask(img.select('loss'))\n",
    "    gain = ee.Image.pixelArea().rename(['gain']).mask(img.select('gain'))\n",
    "\n",
    "    reduction = loss.addBands(gain).reduceRegions(**regReducer)\n",
    "    return ee.Feature(None, ee.Image(img).toDictionary().combine(ee.Dictionary({'test': reduction.toList(1000000)})))\n",
    "\n",
    "imReduced = wpLossG.map(reduce2Regions).toList(1000)\n",
    "myOutput = imReduced.getInfo()\n",
    "output=[]\n",
    "#print(myOutput)\n",
    "for year in myOutput:\n",
    "    for region in year['properties']['test']:\n",
    "         output.append({'year':year['properties']['date'], \n",
    "                        'WLPbasHa':lwpA[region['properties']['slug']],\n",
    "                        'regionAreaHa':region['properties']['areaHa'], \n",
    "                        'lossHa':region['properties']['loss']/10000,\n",
    "                        'gainHa':region['properties']['gain']/10000,\n",
    "                        'index': ((lwpA[region['properties']['slug']] - (region['properties']['loss']/10000) +(region['properties']['gain']/10000))/lwpA[region['properties']['slug']]), \n",
    "                        'slug':region['properties']['slug']})\n",
    "\n",
    "with open('LossGainWLP.json', 'w') as outfile:\n",
    "    json.dump(output, outfile)"
   ]
  },
  {
   "cell_type": "markdown",
   "metadata": {},
   "source": [
    "## analyze burned areas"
   ]
  },
  {
   "cell_type": "code",
   "execution_count": 257,
   "metadata": {
    "code_folding": [],
    "scrolled": true
   },
   "outputs": [],
   "source": [
    "### ASSETS from GEE lets prepare it to what we need\n",
    "BurnedAreas= ee.ImageCollection('MODIS/006/MCD64A1').select('BurnDate')\n",
    "### Reducer to group images\n",
    "imReducer = {\n",
    "    'reducer':ee.Reducer.lastNonNull(),\n",
    "    'parallelScale':10\n",
    "}\n",
    "### Reducer to regions extractor\n",
    "regReducer = {\n",
    "    'collection': collection,\n",
    "    'reducer': ee.Reducer.frequencyHistogram().unweighted(),\n",
    "    'scale':500,\n",
    "    'tileScale': 4\n",
    "}\n",
    "#mapable function to extract geometries\n",
    "def reduce2Regions(img):\n",
    "    reduction = ee.Image(img).reduceRegions(**regReducer)\n",
    "    return ee.Feature(None, ee.Image(img).toDictionary().combine(ee.Dictionary({'test':reduction.toList(100)})))\n",
    "\n",
    "# grouping images by date (this only work if we have DOY as pixels values)\n",
    "listYimages=[BurnedAreas.filterDate( ee.Date.fromYMD(year, 1, 1), ee.Date.fromYMD((year+1), 12, 31)).reduce(**imReducer) for year in range(2000, datetime.datetime.now().year)]\n",
    "\n",
    "# once we have the yearly image production we should reduced to the regions per each year\n",
    "imReduced=ee.List(listYimages).map(reduce2Regions)\n",
    "myOutput=imReduced.getInfo()\n",
    "\n",
    "#reshaping the data (this can also be done in earth engine but is a pain in the ass)\n",
    "output=[]\n",
    "for position, year in enumerate(myOutput):\n",
    "    for region in year['properties']['test']: \n",
    "        hist= [{'year':2001+position,'isoWeek':i,'value':0, 'slug':region['properties']['slug']} for i in range(1,54)]\n",
    "        for key, value in region['properties']['histogram'].items(): #this loop will visit every geometry in every year to agg them into weekly weeks\n",
    "            if key != 'null':\n",
    "                myDoy=datetime.datetime(2001+position, 1, 1) + datetime.timedelta(days=int(key)-1)\n",
    "                week = myDoy.isocalendar()[1]\n",
    "                hist[week-1]['value'] += value\n",
    "\n",
    "        output.extend(hist)\n",
    "with open('burnAreas.json', 'w') as outfile:\n",
    "    json.dump(output, outfile)\n",
    "    "
   ]
  },
  {
   "cell_type": "markdown",
   "metadata": {},
   "source": [
    "## analyze Glad"
   ]
  },
  {
   "cell_type": "code",
   "execution_count": 22,
   "metadata": {
    "code_folding": [],
    "scrolled": true
   },
   "outputs": [
    {
     "name": "stdout",
     "output_type": "stream",
     "text": [
      "82b81a115de755a369718a2b45952e47\n",
      "Unexpected error\n"
     ]
    }
   ],
   "source": [
    "#From the API\n",
    "api_asset = '2563cd1a-07d5-4621-99a0-c4a241c4f6b0'\n",
    "\n",
    "def getData(geostore):\n",
    "    query = \"\"\"\n",
    "    select count(year) as value, year, julian_day from Expanded-GLAD-alerts where confidence_text='confirmed' group by year, julian_day\n",
    "    \"\"\"\n",
    "    params = {\n",
    "        'sql':query,\n",
    "        'geostore':geostore\n",
    "\n",
    "    }\n",
    "    print(geostore)\n",
    "    r = requests.get('http://api.resourcewatch.org/v1/query/{0}'.format(api_asset),params=params)\n",
    "    print(r.text)\n",
    "    if r.status_code == 200:\n",
    "        return r.json()['data']\n",
    "\n",
    "def createGeostore(feature):\n",
    "    headers={\n",
    "        \"Content-Type\":\"application/json\"\n",
    "    }\n",
    "    params = {\n",
    "        \"geojson\": {\n",
    "      \"type\":\"FeatureCollection\",\n",
    "      \"features\":[feature]}\n",
    "\n",
    "    }\n",
    "\n",
    "    r = requests.post('https://api.resourcewatch.org/v1/geostore',data=json.dumps(params), headers=headers)\n",
    "    if r.status_code == 200:\n",
    "        return r.json()['data']['id']\n",
    "    else:\n",
    "            return [{}]\n",
    "output=[]    \n",
    "for region in geometries:\n",
    "    geostore=createGeostore(region)\n",
    "    hist= [{'year':year,'isoWeek':i,'value':0, 'slug':region['properties']['slug']} for year in range(2015,2019) for i in range(1,54)]\n",
    "    data = getData(geostore)\n",
    "    for row in data: #this loop will visit every year to agg them into weekly weeks\n",
    "        myDoy=datetime.datetime(row['year'], 1, 1) + datetime.timedelta(days=row['julian_day']-1)\n",
    "        week = myDoy.isocalendar()[1]\n",
    "        hist[((row['year']-2014)*week)-1]['value'] += row['value']\n",
    "\n",
    "    output.extend(hist)\n",
    "\n",
    "with open('gladAlerts.json', 'w') as outfile:\n",
    "    json.dump(output, outfile)"
   ]
  },
  {
   "cell_type": "code",
   "execution_count": null,
   "metadata": {
    "code_folding": [
     0
    ]
   },
   "outputs": [],
   "source": [
    "### From Gee\n",
    "### ASSETS from GEE lets prepare it to what we need\n",
    "Glad2017= ee.ImageCollection('projects/glad/alert/UpdResult').select(['alertDate17']).filterDate( ee.Date.fromYMD(2018, 1, 1), ee.Date.fromYMD(2018, 6, 30)).mosaic()\n",
    "Glad2018= ee.ImageCollection('projects/glad/alert/UpdResult').select(['alertDate18']).mosaic()\n",
    "\n",
    "### Reducer to regions extractor\n",
    "regReducer = {\n",
    "    'collection': collection,\n",
    "    'reducer': ee.Reducer.frequencyHistogram().unweighted(),\n",
    "    'scale':500,\n",
    "    'tileScale': 4\n",
    "}\n",
    "#mapable function to extract geometries\n",
    "def reduce2Regions(img):\n",
    "    reduction = ee.Image(img).reduceRegions(**regReducer)\n",
    "    return ee.Feature(None, ee.Image(img).toDictionary().combine(ee.Dictionary({'test':reduction.toList(100)})))\n",
    "\n",
    "# grouping images by date (this only work if we have DOY as pixels values)\n",
    "listYimages=[Glad2017, Glad2018]\n",
    "\n",
    "# once we have the yearly image production we should reduced to the regions per each year\n",
    "imReduced=ee.List(listYimages).map(reduce2Regions)\n",
    "myOutput=imReduced.getInfo()\n",
    "\n",
    "#reshaping the data (this can also be done in earth engine but is a pain in the ass)\n",
    "output=[]\n",
    "for position, year in enumerate(myOutput):\n",
    "    for region in year['properties']['test']: \n",
    "        hist= [{'year':2017+position,'isoWeek':i,'value':0, 'slug':region['properties']['slug']} for i in range(1,53)]\n",
    "        for key, value in region['properties']['histogram'].items(): #this loop will visit every geometry in every year to agg them into weekly weeks\n",
    "            if key != 'null':\n",
    "                myDoy=datetime.datetime(2018, 1, 1) + datetime.timedelta(days=int(key)-1)\n",
    "                week = myDoy.isocalendar()[1]\n",
    "                hist[week-1]['value'] += value\n",
    "\n",
    "        output.extend(hist)\n",
    "with open('Glad.json', 'w') as outfile:\n",
    "    json.dump(output, outfile)"
   ]
  },
  {
   "cell_type": "markdown",
   "metadata": {},
   "source": [
    "## analyze precipitation"
   ]
  },
  {
   "cell_type": "code",
   "execution_count": 258,
   "metadata": {
    "code_folding": []
   },
   "outputs": [
    {
     "name": "stdout",
     "output_type": "stream",
     "text": [
      "1981 52\n",
      "1982 52\n",
      "1983 52\n",
      "1984 53\n",
      "1985 52\n",
      "1986 52\n",
      "1987 52\n",
      "1988 52\n",
      "1989 52\n",
      "1990 52\n",
      "1991 52\n",
      "1992 52\n",
      "1993 52\n",
      "1994 52\n",
      "1995 52\n",
      "1996 52\n",
      "1997 52\n",
      "1998 52\n",
      "1999 52\n",
      "2000 52\n",
      "2001 52\n",
      "2002 52\n",
      "2003 52\n",
      "2004 52\n",
      "2005 52\n",
      "2006 52\n",
      "2007 52\n",
      "2008 52\n",
      "2009 52\n",
      "2010 52\n",
      "2011 52\n",
      "2012 53\n",
      "2013 52\n",
      "2014 52\n",
      "2015 52\n",
      "2016 52\n",
      "2017 52\n",
      "2018 34\n"
     ]
    }
   ],
   "source": [
    "### ASSETS from GEE lets prepare it to what we need\n",
    "chirps= ee.ImageCollection('UCSB-CHG/CHIRPS/DAILY')\n",
    "### Reducer to group images\n",
    "imReducer = {\n",
    "    'reducer':ee.Reducer.sum(),\n",
    "    'parallelScale':100\n",
    "}\n",
    "### Reducer to regions extractor\n",
    "regReducer = {\n",
    "    'collection': collection,\n",
    "    'reducer': ee.Reducer.mean(),\n",
    "    'scale':5600,\n",
    "    'tileScale': 16\n",
    "}\n",
    "#mapable function to extract geometries\n",
    "def reduce2Regions(img):\n",
    "    reduction = ee.Image(img).reduceRegions(**regReducer)\n",
    "    return ee.Feature(None, ee.Image(img).toDictionary().combine(ee.Dictionary({'test':reduction.toList(10)})))\n",
    "## manage dates\n",
    "def weekCalc(myTime):\n",
    "    x=(8-myTime.isocalendar()[2])\n",
    "    newDate = myTime + datetime.timedelta(days=x)\n",
    "    return {'week': newDate.isocalendar()[1],'year':newDate.isocalendar()[0], 'month':newDate.month, 'epoch':newDate.timestamp()*1000}\n",
    "# grouping images by date (for precipitation lets see the cummulative precipitation per week)\n",
    "#date management: we need a date management that can reduce every day of the year to its correspondent week + year. we are going to use this to reduce the size of the image to something more...\n",
    "\n",
    "output=[]\n",
    "for year in range(1981, 2019):\n",
    "    if year == 2018:\n",
    "        endDate = datetime.datetime.fromtimestamp(1535673600)\n",
    "    else:\n",
    "        endDate = datetime.datetime(year+1, 1, 1)\n",
    "    #mDate = datetime.datetime.fromtimestamp(347155200)\n",
    "    mDate = datetime.datetime(year, 1, 1)\n",
    "    listDates=[]\n",
    "    while mDate < endDate:\n",
    "        dateW= weekCalc(mDate)\n",
    "        mDate =datetime.datetime.fromtimestamp(dateW['epoch']/1000)\n",
    "        listDates.append(dateW)\n",
    "    \n",
    "    listYimages=[chirps.filterDate(ee.Date(listDates[ix]['epoch']), ee.Date(listDates[ix+1]['epoch'])).reduce(**imReducer).setMulti({'year':date['year'],'week':date['week'], 'month':date['month']}) for ix, date in enumerate(listDates) if ix < (len(listDates)-1)]\n",
    "\n",
    "    print(year, len(listYimages))\n",
    "# once we have the yearly image production we should reduced to the regions per each year\n",
    "\n",
    "    imReduced=ee.List(listYimages).map(reduce2Regions)\n",
    "    myOutput = imReduced.getInfo()\n",
    "    for position, weekY in enumerate(myOutput):\n",
    "        for region in weekY['properties']['test']: \n",
    "            output.append({'year': weekY['properties']['year'],'isoWeek': weekY['properties']['week'],'value': region['properties']['mean'], 'slug':region['properties']['slug']})\n",
    "\n",
    "with open('chirps_weekly-2017.json', 'w') as outfile:\n",
    "    json.dump(output, outfile)"
   ]
  },
  {
   "cell_type": "markdown",
   "metadata": {},
   "source": [
    "## ndvi"
   ]
  },
  {
   "cell_type": "code",
   "execution_count": 259,
   "metadata": {
    "scrolled": false
   },
   "outputs": [
    {
     "name": "stdout",
     "output_type": "stream",
     "text": [
      "2005 52\n",
      "2006 52\n",
      "2007 52\n",
      "2008 52\n",
      "2009 52\n",
      "2010 52\n",
      "2011 52\n",
      "2012 53\n",
      "2013 52\n",
      "2014 52\n",
      "2015 52\n",
      "2016 52\n",
      "2017 13\n"
     ]
    }
   ],
   "source": [
    "### ASSETS from GEE lets prepare it to what we need\n",
    "ndvi= ee.ImageCollection('MODIS/MOD09GA_NDVI').select(0)\n",
    "### Reducer to group images\n",
    "imReducer = {\n",
    "    'reducer':ee.Reducer.mean(),\n",
    "    'parallelScale':50\n",
    "}\n",
    "### Reducer to regions extractor\n",
    "regReducer = {\n",
    "    'collection': collection,\n",
    "    'reducer': ee.Reducer.mean(),\n",
    "    'scale':5600,\n",
    "    'crs':'EPSG:4326',\n",
    "    'tileScale': 16\n",
    "}\n",
    "#mapable function to extract geometries\n",
    "def reduce2Regions(img):\n",
    "    reduction = ee.Image(img).reduceRegions(**regReducer)\n",
    "    return ee.Feature(None, ee.Image(img).toDictionary().combine(ee.Dictionary({'test':reduction.toList(10)})))\n",
    "## manage dates\n",
    "def weekCalc(myTime):\n",
    "    x=(8-myTime.isocalendar()[2])\n",
    "    newDate = myTime + datetime.timedelta(days=x)\n",
    "    return {'week': newDate.isocalendar()[1],'year':newDate.isocalendar()[0], 'month':newDate.month, 'epoch':newDate.timestamp()*1000}\n",
    "# grouping images by date (for precipitation lets see the cummulative precipitation per week)\n",
    "#date management: we need a date management that can reduce every day of the year to its correspondent week + year. we are going to use this to reduce the size of the image to something more...\n",
    "\n",
    "output=[]\n",
    "## fill the numbers with your selected years\n",
    "for year in range(2005, 2018):\n",
    "    if year == 2017:\n",
    "        endDate = datetime.datetime.fromtimestamp(1490832000)\n",
    "    else:\n",
    "        endDate = datetime.datetime(year+1, 1, 1)\n",
    "    mDate = datetime.datetime(year, 1, 1)\n",
    "    listDates=[]\n",
    "    while mDate < endDate:\n",
    "        dateW= weekCalc(mDate)\n",
    "        mDate =datetime.datetime.fromtimestamp(dateW['epoch']/1000)\n",
    "        listDates.append(dateW)\n",
    "    \n",
    "    listYimages=[ndvi.filterDate(ee.Date(listDates[ix]['epoch']), ee.Date(listDates[ix+1]['epoch'])).reduce(**imReducer).setMulti({'year':date['year'],'week':date['week'], 'month':date['month']}) for ix, date in enumerate(listDates) if ix < (len(listDates)-1)]\n",
    "\n",
    "    print(year, len(listYimages))\n",
    "# once we have the yearly image production we should reduced to the regions per each year\n",
    "\n",
    "    imReduced=ee.List(listYimages).map(reduce2Regions)\n",
    "    myOutput = imReduced.getInfo()\n",
    "    for position, weekY in enumerate(myOutput):\n",
    "        for region in weekY['properties']['test']: \n",
    "            output.append({'year': weekY['properties']['year'],'isoWeek': weekY['properties']['week'],'value': region['properties']['mean'] if 'mean' in region['properties'] else None, 'slug':region['properties']['slug']})\n",
    "\n",
    "with open('ndvi_weekly-2017.json', 'w') as outfile:\n",
    "    json.dump(output, outfile)"
   ]
  },
  {
   "cell_type": "markdown",
   "metadata": {},
   "source": [
    "## temperatures"
   ]
  },
  {
   "cell_type": "markdown",
   "metadata": {},
   "source": [
    "https://developers.google.com/earth-engine/datasets/catalog/MODIS_006_MOD11A1"
   ]
  },
  {
   "cell_type": "code",
   "execution_count": 531,
   "metadata": {},
   "outputs": [
    {
     "name": "stdout",
     "output_type": "stream",
     "text": [
      "2005 52\n",
      "2006 52\n",
      "2007 52\n",
      "2008 52\n",
      "2009 52\n",
      "2010 52\n",
      "2011 52\n",
      "2012 53\n",
      "2013 52\n",
      "2014 52\n",
      "2015 52\n",
      "2016 52\n",
      "2017 13\n"
     ]
    }
   ],
   "source": [
    "### ASSETS from GEE lets prepare it to what we need\n",
    "temperature= ee.ImageCollection('MODIS/006/MOD11A1')\n",
    "temperature=temperature.select('LST_Day_1km')\n",
    "### Reducer to group images\n",
    "imReducer = {\n",
    "    'reducer':ee.Reducer.mean(),\n",
    "    'parallelScale':50\n",
    "}\n",
    "### Reducer to regions extractor\n",
    "regReducer = {\n",
    "    'collection': collection,\n",
    "    'reducer': ee.Reducer.mean(),\n",
    "    'scale':5600,\n",
    "    'crs':'EPSG:4326',\n",
    "    'tileScale': 16\n",
    "}\n",
    "#mapable function to extract geometries\n",
    "def reduce2Regions(img):\n",
    "    reduction = ee.Image(img).reduceRegions(**regReducer)\n",
    "    return ee.Feature(None, ee.Image(img).toDictionary().combine(ee.Dictionary({'test':reduction.toList(10)})))\n",
    "## manage dates\n",
    "def weekCalc(myTime):\n",
    "    x=(8-myTime.isocalendar()[2])\n",
    "    newDate = myTime + datetime.timedelta(days=x)\n",
    "    return {'week': newDate.isocalendar()[1],'year':newDate.isocalendar()[0], 'month':newDate.month, 'epoch':newDate.timestamp()*1000}\n",
    "# grouping images by date (for precipitation lets see the cummulative precipitation per week)\n",
    "#date management: we need a date management that can reduce every day of the year to its correspondent week + year. we are going to use this to reduce the size of the image to something more...\n",
    "\n",
    "output=[]\n",
    "## fill the numbers with your selected years\n",
    "for year in range(2005, 2018):\n",
    "    if year == 2017:\n",
    "        endDate = datetime.datetime.fromtimestamp(1490832000)\n",
    "    else:\n",
    "        endDate = datetime.datetime(year+1, 1, 1)\n",
    "    mDate = datetime.datetime(year, 1, 1)\n",
    "    listDates=[]\n",
    "    while mDate < endDate:\n",
    "        dateW= weekCalc(mDate)\n",
    "        mDate =datetime.datetime.fromtimestamp(dateW['epoch']/1000)\n",
    "        listDates.append(dateW)\n",
    "    \n",
    "    listimages=[temperature.filterDate(ee.Date(listDates[ix]['epoch']), ee.Date(listDates[ix+1]['epoch'])).reduce(**imReducer).setMulti({'year':date['year'],'week':date['week'], 'month':date['month']}) for ix, date in enumerate(listDates) if ix < (len(listDates)-1)]\n",
    "\n",
    "    print(year, len(listimages))\n",
    "# once we have the yearly image production we should reduced to the regions per each year\n",
    "\n",
    "    imReduced=ee.List(listimages).map(reduce2Regions)\n",
    "    myOutput = imReduced.getInfo()\n",
    "    for position, weekY in enumerate(myOutput):\n",
    "        for region in weekY['properties']['test']: \n",
    "            output.append({'year': weekY['properties']['year'],'isoWeek': weekY['properties']['week'],'value': region['properties']['mean']*0.02-273.15 if 'mean' in region['properties'] else None, 'slug':region['properties']['slug']})\n",
    "\n",
    "with open('temperature_weekly-2017.json', 'w') as outfile:\n",
    "    json.dump(output, outfile)"
   ]
  },
  {
   "cell_type": "code",
   "execution_count": 532,
   "metadata": {},
   "outputs": [
    {
     "data": {
      "image/png": "[encoded data removed]",
      "text/plain": [
       "<Figure size 432x288 with 1 Axes>"
      ]
     },
     "metadata": {},
     "output_type": "display_data"
    }
   ],
   "source": [
    "parameter = 'Temperature'\n",
    "year = [2005]\n",
    "aoi = ['Okavango Delta']\n",
    "\n",
    "param = [a for a in output if a['year'] in year]\n",
    "param = [a for a in param if a['slug'] in aoi]\n",
    "\n",
    "x = []\n",
    "y = []\n",
    "\n",
    "for i in range(len(Temp)):\n",
    "    y.append(param[i]['value'])\n",
    "    \n",
    "plt.plot(np.arange(len(y)),y)\n",
    "plt.title (parameter+' in '+aoi[0]+' during '+str(year[0]));"
   ]
  },
  {
   "cell_type": "markdown",
   "metadata": {},
   "source": [
    "## snow and ice"
   ]
  },
  {
   "cell_type": "markdown",
   "metadata": {},
   "source": [
    "https://developers.google.com/earth-engine/datasets/catalog/MODIS_006_MYD10A1"
   ]
  },
  {
   "cell_type": "code",
   "execution_count": 530,
   "metadata": {},
   "outputs": [
    {
     "name": "stdout",
     "output_type": "stream",
     "text": [
      "2005 52\n",
      "2006 52\n",
      "2007 52\n",
      "2008 52\n",
      "2009 52\n",
      "2010 52\n",
      "2011 52\n",
      "2012 53\n",
      "2013 52\n",
      "2014 52\n",
      "2015 52\n",
      "2016 52\n",
      "2017 13\n"
     ]
    }
   ],
   "source": [
    "### ASSETS from GEE lets prepare it to what we need\n",
    "snow = ee.ImageCollection('MODIS/006/MYD10A1')\n",
    "snow = snow.select('NDSI_Snow_Cover')\n",
    "### Reducer to group images\n",
    "imReducer = {\n",
    "    'reducer':ee.Reducer.mean(),\n",
    "    'parallelScale':50\n",
    "}\n",
    "### Reducer to regions extractor\n",
    "regReducer = {\n",
    "    'collection': collection,\n",
    "    'reducer': ee.Reducer.mean(),\n",
    "    'scale':5600,\n",
    "    'crs':'EPSG:4326',\n",
    "    'tileScale': 16\n",
    "}\n",
    "#mapable function to extract geometries\n",
    "def reduce2Regions(img):\n",
    "    reduction = ee.Image(img).reduceRegions(**regReducer)\n",
    "    return ee.Feature(None, ee.Image(img).toDictionary().combine(ee.Dictionary({'test':reduction.toList(10)})))\n",
    "## manage dates\n",
    "def weekCalc(myTime):\n",
    "    x=(8-myTime.isocalendar()[2])\n",
    "    newDate = myTime + datetime.timedelta(days=x)\n",
    "    return {'week': newDate.isocalendar()[1],'year':newDate.isocalendar()[0], 'month':newDate.month, 'epoch':newDate.timestamp()*1000}\n",
    "# grouping images by date (for precipitation lets see the cummulative precipitation per week)\n",
    "#date management: we need a date management that can reduce every day of the year to its correspondent week + year. we are going to use this to reduce the size of the image to something more...\n",
    "\n",
    "output=[]\n",
    "## fill the numbers with your selected years\n",
    "for year in range(2005, 2018):\n",
    "    if year == 2017:\n",
    "        endDate = datetime.datetime.fromtimestamp(1490832000)\n",
    "    else:\n",
    "        endDate = datetime.datetime(year+1, 1, 1)\n",
    "    mDate = datetime.datetime(year, 1, 1)\n",
    "    listDates=[]\n",
    "    while mDate < endDate:\n",
    "        dateW= weekCalc(mDate)\n",
    "        mDate =datetime.datetime.fromtimestamp(dateW['epoch']/1000)\n",
    "        listDates.append(dateW)\n",
    "    \n",
    "    listimages=[snow.filterDate(ee.Date(listDates[ix]['epoch']), ee.Date(listDates[ix+1]['epoch'])).reduce(**imReducer).setMulti({'year':date['year'],'week':date['week'], 'month':date['month']}) for ix, date in enumerate(listDates) if ix < (len(listDates)-1)]\n",
    "\n",
    "    print(year, len(listimages))\n",
    "# once we have the yearly image production we should reduced to the regions per each year\n",
    "\n",
    "    imReduced=ee.List(listimages).map(reduce2Regions)\n",
    "    myOutput = imReduced.getInfo()\n",
    "    for position, weekY in enumerate(myOutput):\n",
    "        for region in weekY['properties']['test']: \n",
    "            output.append({'year': weekY['properties']['year'],'isoWeek': weekY['properties']['week'],'value': region['properties']['mean'] if 'mean' in region['properties'] else None, 'slug':region['properties']['slug']})\n",
    "\n",
    "with open('snow_weekly-2017.json', 'w') as outfile:\n",
    "    json.dump(output, outfile)"
   ]
  },
  {
   "cell_type": "code",
   "execution_count": 354,
   "metadata": {},
   "outputs": [
    {
     "data": {
      "image/png": "[encoded data removed]",
      "text/plain": [
       "<Figure size 432x288 with 1 Axes>"
      ]
     },
     "metadata": {},
     "output_type": "display_data"
    }
   ],
   "source": [
    "parameter = 'Snow'\n",
    "year = [2005]\n",
    "aoi = ['Okavango Delta']\n",
    "\n",
    "param = [a for a in output if a['year'] in year]\n",
    "param = [a for a in param if a['slug'] in aoi]\n",
    "\n",
    "x = []\n",
    "y = []\n",
    "\n",
    "for i in range(len(Temp)):\n",
    "    y.append(param[i]['value'])\n",
    "    \n",
    "plt.plot(np.arange(len(y)),y)\n",
    "plt.title (parameter+' in '+aoi[0]+' during '+str(year[0]));"
   ]
  },
  {
   "cell_type": "markdown",
   "metadata": {},
   "source": [
    "## Water change"
   ]
  },
  {
   "cell_type": "markdown",
   "metadata": {},
   "source": [
    "https://global-surface-water.appspot.com/\n",
    "\n",
    "https://developers.google.com/earth-engine/datasets/catalog/JRC_GSW1_0_GlobalSurfaceWater"
   ]
  },
  {
   "cell_type": "markdown",
   "metadata": {},
   "source": [
    "**Water Occurrence Change Intensity**"
   ]
  },
  {
   "cell_type": "code",
   "execution_count": 6,
   "metadata": {},
   "outputs": [],
   "source": [
    "### ASSETS from GEE lets prepare it to what we need\n",
    "water = ee.Image('JRC/GSW1_0/GlobalSurfaceWater')\n",
    "water = water.select('change_norm')\n",
    "\n",
    "### Reducer to regions extractor\n",
    "regReducer = {\n",
    "    'collection': collection,\n",
    "    'reducer': ee.Reducer.histogram(minBucketWidth=10),\n",
    "    'scale':1000,\n",
    "    'crs':'EPSG:4326',\n",
    "    'tileScale': 16\n",
    "}\n",
    "\n",
    "reduction = ee.Image(water).reduceRegions(**regReducer)\n",
    "myOutput = ee.Feature(None, ee.Image(water).toDictionary().combine(ee.Dictionary({'test':reduction.toList(10)}))).getInfo()\n",
    "\n",
    "output=[]\n",
    "for region in myOutput['properties']['test']:\n",
    "    output.append({'value': region['properties']['histogram'] if 'histogram' in region['properties'] else None, 'slug':region['properties']['slug']})\n",
    "    \n",
    "with open('water_change.json', 'w') as outfile:\n",
    "    json.dump(output, outfile)"
   ]
  },
  {
   "cell_type": "code",
   "execution_count": 7,
   "metadata": {},
   "outputs": [
    {
     "data": {
      "image/png": "[encoded data removed]",
      "text/plain": [
       "<Figure size 432x288 with 1 Axes>"
      ]
     },
     "metadata": {},
     "output_type": "display_data"
    }
   ],
   "source": [
    "parameter = 'Water Change'\n",
    "aoi = ['Okavango Delta']\n",
    "\n",
    "param = [a for a in output if a['slug'] in aoi]\n",
    "\n",
    "x = param[0]['value']['bucketMeans']\n",
    "y = param[0]['value']['histogram']\n",
    "\n",
    "plt.step(x,y);\n",
    "plt.title (parameter);"
   ]
  },
  {
   "cell_type": "markdown",
   "metadata": {},
   "source": [
    "**Water Seasonality**"
   ]
  },
  {
   "cell_type": "code",
   "execution_count": 525,
   "metadata": {},
   "outputs": [],
   "source": [
    "### ASSETS from GEE lets prepare it to what we need\n",
    "water_seasonality = ee.Image('JRC/GSW1_0/GlobalSurfaceWater')\n",
    "water_seasonality = water_seasonality.select('seasonality')\n",
    "\n",
    "### Reducer to regions extractor\n",
    "regReducer = {\n",
    "    'collection': collection,\n",
    "    'reducer': ee.Reducer.histogram(),\n",
    "    'scale':1000,\n",
    "    'crs':'EPSG:4326',\n",
    "    'tileScale': 16\n",
    "}\n",
    "\n",
    "reduction = ee.Image(water_seasonality).reduceRegions(**regReducer)\n",
    "myOutput = ee.Feature(None, ee.Image(water_seasonality).toDictionary().combine(ee.Dictionary({'test':reduction.toList(10)}))).getInfo()\n",
    "\n",
    "output=[]\n",
    "for region in myOutput['properties']['test']:\n",
    "    output.append({'value': region['properties']['histogram'] if 'histogram' in region['properties'] else None, 'slug':region['properties']['slug']})\n",
    "    \n",
    "with open('water_seasonality.json', 'w') as outfile:\n",
    "    json.dump(output, outfile)"
   ]
  },
  {
   "cell_type": "code",
   "execution_count": 526,
   "metadata": {},
   "outputs": [
    {
     "data": {
      "image/png": "[encoded data removed]",
      "text/plain": [
       "<Figure size 432x288 with 1 Axes>"
      ]
     },
     "metadata": {},
     "output_type": "display_data"
    }
   ],
   "source": [
    "parameter = 'Water Seasonality'\n",
    "aoi = ['Okavango Delta']\n",
    "\n",
    "param = [a for a in output if a['slug'] in aoi]\n",
    "\n",
    "x = param[0]['value']['bucketMeans']\n",
    "y = param[0]['value']['histogram']\n",
    "\n",
    "plt.step(x,y);\n",
    "plt.title (parameter);"
   ]
  },
  {
   "cell_type": "markdown",
   "metadata": {},
   "source": [
    "## species richness"
   ]
  },
  {
   "cell_type": "markdown",
   "metadata": {},
   "source": [
    "**Biodiversity Intactness (%)**"
   ]
  },
  {
   "cell_type": "code",
   "execution_count": 485,
   "metadata": {},
   "outputs": [],
   "source": [
    "### ASSETS from GEE\n",
    "intactness = ee.Image('users/resourcewatch/bio_014_bio_intactness')\n",
    "\n",
    "### Reducer to regions extractor\n",
    "regReducer = {\n",
    "    'collection': collection,\n",
    "    'reducer': ee.Reducer.histogram(minBucketWidth=0.1),\n",
    "    'scale':1000,\n",
    "    'crs':'EPSG:4326',\n",
    "    'tileScale': 16\n",
    "}\n",
    "\n",
    "reduction = ee.Image(intactness).reduceRegions(**regReducer)\n",
    "myOutput = ee.Feature(None, ee.Image(intactness).toDictionary().combine(ee.Dictionary({'test':reduction.toList(10)}))).getInfo()\n",
    "\n",
    "output=[]\n",
    "for region in myOutput['properties']['test']:\n",
    "    output.append({'value': region['properties']['histogram'] if 'histogram' in region['properties'] else None, 'slug':region['properties']['slug']})\n",
    "    \n",
    "#with open('biodiversity_intactness.json', 'w') as outfile:\n",
    "#    json.dump(output, outfile)"
   ]
  },
  {
   "cell_type": "code",
   "execution_count": 493,
   "metadata": {},
   "outputs": [
    {
     "data": {
      "image/png": "[encoded data removed]",
      "text/plain": [
       "<Figure size 432x288 with 1 Axes>"
      ]
     },
     "metadata": {},
     "output_type": "display_data"
    }
   ],
   "source": [
    "parameter = 'Biodiversity Intactness (%)'\n",
    "aoi = ['TwoCrow_leased']\n",
    "\n",
    "param = [a for a in output if a['slug'] in aoi]\n",
    "\n",
    "x = param[0]['value']['bucketMeans']\n",
    "y = param[0]['value']['histogram']\n",
    "\n",
    "plt.step(np.array(x)*100,y);\n",
    "plt.title (parameter);"
   ]
  },
  {
   "cell_type": "markdown",
   "metadata": {},
   "source": [
    "**2013 Number of Mammalian Amphibian and Species** "
   ]
  },
  {
   "cell_type": "code",
   "execution_count": 522,
   "metadata": {},
   "outputs": [],
   "source": [
    "### ASSETS from GEE\n",
    "species_richness = ee.Image('users/resourcewatch/bio_012_species_richness_grids_merged')\n",
    "amphibian  = species_richness.select('b3')\n",
    "mammals = species_richness.select('b4')\n",
    "\n",
    "### Reducer to regions extractor\n",
    "regReducer = {\n",
    "    'collection': collection,\n",
    "    'reducer': ee.Reducer.histogram(minBucketWidth=1),\n",
    "    'scale':1000,\n",
    "    'crs':'EPSG:4326',\n",
    "    'tileScale': 16\n",
    "}\n",
    "\n",
    "#Function to extract histograms\n",
    "def getHist(img):\n",
    "    reduction = ee.Image(img).reduceRegions(**regReducer)\n",
    "    myOutput = ee.Feature(None, ee.Image(img).toDictionary().combine(ee.Dictionary({'test':reduction.toList(10)}))).getInfo()\n",
    "    return myOutput\n",
    "\n",
    "\n",
    "amphibianOutput = getHist(amphibian)\n",
    "mammalsOutput = getHist(mammals)\n",
    "\n",
    "amphibian_output=[]\n",
    "for region in amphibianOutput['properties']['test']:\n",
    "    amphibian_output.append({'value': region['properties']['histogram'] if 'histogram' in region['properties'] else None, 'slug':region['properties']['slug']})\n",
    "\n",
    "mammals_output=[]\n",
    "for region in mammalsOutput['properties']['test']:\n",
    "    mammals_output.append({'value': region['properties']['histogram'] if 'histogram' in region['properties'] else None, 'slug':region['properties']['slug']})\n",
    "    \n",
    "#with open('biodiversity_intactness.json', 'w') as outfile:\n",
    "#    json.dump(output, outfile)"
   ]
  },
  {
   "cell_type": "code",
   "execution_count": 523,
   "metadata": {},
   "outputs": [
    {
     "data": {
      "image/png": "[encoded data removed]",
      "text/plain": [
       "<Figure size 432x288 with 1 Axes>"
      ]
     },
     "metadata": {},
     "output_type": "display_data"
    }
   ],
   "source": [
    "parameter = '2013 Number of Amphibian Species'\n",
    "aoi = ['Okavango Delta']\n",
    "\n",
    "param = [a for a in amphibian_output if a['slug'] in aoi]\n",
    "\n",
    "x = param[0]['value']['bucketMeans']\n",
    "y = param[0]['value']['histogram']\n",
    "\n",
    "plt.step(np.array(x),y);\n",
    "plt.title (parameter);"
   ]
  },
  {
   "cell_type": "code",
   "execution_count": 524,
   "metadata": {},
   "outputs": [
    {
     "data": {
      "image/png": "[encoded data removed]",
      "text/plain": [
       "<Figure size 432x288 with 1 Axes>"
      ]
     },
     "metadata": {},
     "output_type": "display_data"
    }
   ],
   "source": [
    "parameter = '2013 Number of Mammalian Species'\n",
    "aoi = ['Okavango Delta']\n",
    "\n",
    "param = [a for a in mammals_output if a['slug'] in aoi]\n",
    "\n",
    "x = param[0]['value']['bucketMeans']\n",
    "y = param[0]['value']['histogram']\n",
    "\n",
    "plt.step(np.array(x),y);\n",
    "plt.title (parameter);"
   ]
  },
  {
   "cell_type": "markdown",
   "metadata": {},
   "source": [
    "## droughts?"
   ]
  },
  {
   "cell_type": "code",
   "execution_count": null,
   "metadata": {},
   "outputs": [],
   "source": []
  }
 ],
 "metadata": {
  "kernelspec": {
   "display_name": "Python 3",
   "language": "python",
   "name": "python3"
  },
  "language_info": {
   "codemirror_mode": {
    "name": "ipython",
    "version": 3
   },
   "file_extension": ".py",
   "mimetype": "text/x-python",
   "name": "python",
   "nbconvert_exporter": "python",
   "pygments_lexer": "ipython3",
   "version": "3.6.4"
  },
  "toc": {
   "colors": {
    "hover_highlight": "#DAA520",
    "navigate_num": "#000000",
    "navigate_text": "#333333",
    "running_highlight": "#FF0000",
    "selected_highlight": "#FFD700",
    "sidebar_border": "#EEEEEE",
    "wrapper_background": "#FFFFFF"
   },
   "moveMenuLeft": true,
   "nav_menu": {
    "height": "138px",
    "width": "252px"
   },
   "navigate_menu": true,
   "number_sections": true,
   "sideBar": true,
   "threshold": "2",
   "toc_cell": true,
   "toc_position": {
    "height": "636px",
    "left": "0px",
    "right": "1708px",
    "top": "158px",
    "width": "212px"
   },
   "toc_section_display": "block",
   "toc_window_display": true,
   "widenNotebook": false
  },
  "varInspector": {
   "cols": {
    "lenName": 16,
    "lenType": 16,
    "lenVar": 40
   },
   "kernels_config": {
    "python": {
     "delete_cmd_postfix": "",
     "delete_cmd_prefix": "del ",
     "library": "var_list.py",
     "varRefreshCmd": "print(var_dic_list())"
    },
    "r": {
     "delete_cmd_postfix": ") ",
     "delete_cmd_prefix": "rm(",
     "library": "var_list.r",
     "varRefreshCmd": "cat(var_dic_list()) "
    }
   },
   "types_to_exclude": [
    "module",
    "function",
    "builtin_function_or_method",
    "instance",
    "_Feature"
   ],
   "window_display": false
  }
 },
 "nbformat": 4,
 "nbformat_minor": 2
}
