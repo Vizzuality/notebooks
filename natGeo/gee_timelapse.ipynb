{
 "cells": [
  {
   "cell_type": "markdown",
   "metadata": {},
   "source": [
    "# Time-lapses with Google Earth Engine"
   ]
  },
  {
   "cell_type": "markdown",
   "metadata": {},
   "source": [
    "**Set the environment**\n",
    "\n",
    "Initialize Earth Engine account"
   ]
  },
  {
   "cell_type": "code",
   "execution_count": 1,
   "metadata": {},
   "outputs": [],
   "source": [
    "import os\n",
    "import ee\n",
    "from ee import batch\n",
    "import json\n",
    "import requests\n",
    "import folium\n",
    "import urllib\n",
    "import numpy as np\n",
    "import pandas as pd\n",
    "from IPython.display import display, Image\n",
    "import matplotlib.pyplot as plt\n",
    "from datetime import timedelta, date\n",
    "\n",
    "ee.Initialize()"
   ]
  },
  {
   "cell_type": "markdown",
   "metadata": {},
   "source": [
    "**Functions**"
   ]
  },
  {
   "cell_type": "code",
   "execution_count": 2,
   "metadata": {},
   "outputs": [],
   "source": [
    "def display_image(image, region, Vizz = None):\n",
    "    \"\"\"\n",
    "    Displays images in notebook\n",
    "    \"\"\" \n",
    "    ## Visualization\n",
    "    if Vizz:\n",
    "        image = image.visualize(**Vizz)\n",
    "        \n",
    "    visual = Image(url=image.getThumbUrl({\n",
    "                'region':region\n",
    "                }))\n",
    "    \n",
    "    display(visual)"
   ]
  },
  {
   "cell_type": "code",
   "execution_count": 3,
   "metadata": {},
   "outputs": [],
   "source": [
    "def download_image_png(image, path_out, scale, Vizz = None, region = None,):\n",
    "    \n",
    "    ## Visualization\n",
    "    if Vizz:\n",
    "        image = image.visualize(**Vizz)\n",
    "        \n",
    "    Vizparam = {'scale': scale, 'format': 'png', 'crs': 'EPSG:4326'}\n",
    "    if region:\n",
    "        Vizparam['region'] = region\n",
    "    \n",
    "    path = image.getThumbURL(Vizparam)\n",
    "    \n",
    "    if os.path.exists(path_out):\n",
    "            os.remove(path_out)\n",
    "    \n",
    "    urllib.request.urlretrieve(path, path_out)"
   ]
  },
  {
   "cell_type": "code",
   "execution_count": 4,
   "metadata": {},
   "outputs": [],
   "source": [
    "def maskS2clouds(image):\n",
    "    \"\"\"\n",
    "    European Space Agency (ESA) clouds from 'QA60', i.e. Quality Assessment band at 60m\n",
    "    parsed by Nick Clinton\n",
    "    \"\"\"\n",
    "    qa = image.select('QA60')\n",
    "\n",
    "    # Bits 10 and 11 are clouds and cirrus, respectively.\n",
    "    cloudBitMask = int(2**10)\n",
    "    cirrusBitMask = int(2**11)\n",
    "\n",
    "    # Both flags set to zero indicates clear conditions.\n",
    "    mask = qa.bitwiseAnd(cloudBitMask).eq(0).And(\\\n",
    "            qa.bitwiseAnd(cirrusBitMask).eq(0))\n",
    "\n",
    "    return image.updateMask(mask).divide(10000)"
   ]
  },
  {
   "cell_type": "code",
   "execution_count": 8,
   "metadata": {},
   "outputs": [],
   "source": [
    "def Cloud_Free_Composite_S2(Collection_id, startDate, stopDate, geom, scale, bandNames = None):\n",
    "    ## Define your collection\n",
    "    collection = ee.ImageCollection(Collection_id)\n",
    "\n",
    "    ## Filter \n",
    "    collection = collection.filterBounds(geom).filterDate(startDate,stopDate)\\\n",
    "        .filter(ee.Filter.lt('CLOUDY_PIXEL_PERCENTAGE', 20))\\\n",
    "        .map(maskS2clouds)\n",
    "\n",
    "    ## Composite\n",
    "    composite = collection.median()\n",
    "\n",
    "    ## Choose the scale\n",
    "    composite =  composite.reproject(crs='EPSG:4326', scale=scale)\n",
    "\n",
    "    ## Select the bands\n",
    "    if bandNames:\n",
    "        composite = composite.select(bandNames)\n",
    "    \n",
    "    return composite"
   ]
  },
  {
   "cell_type": "code",
   "execution_count": 9,
   "metadata": {},
   "outputs": [],
   "source": [
    "def cloudMaskL457(image):\n",
    "    qa = image.select('pixel_qa')\n",
    "    #If the cloud bit (5) is set and the cloud confidence (7) is high\n",
    "    #or the cloud shadow bit is set (3), then it's a bad pixel.\n",
    "    cloud = qa.bitwiseAnd(1 << 5).And(qa.bitwiseAnd(1 << 7)).Or(qa.bitwiseAnd(1 << 3));\n",
    "    #Remove edge pixels that don't occur in all bands\n",
    "    mask2 = image.mask().reduce(ee.Reducer.min());\n",
    "    return image.updateMask(cloud.Not()).updateMask(mask2);"
   ]
  },
  {
   "cell_type": "code",
   "execution_count": 10,
   "metadata": {},
   "outputs": [],
   "source": [
    "def Cloud_Free_Composite_L7_5(Collection_id, startDate, stopDate, geom, scale = scale, bandNames = None):\n",
    "    ## Define your collection\n",
    "    collection = ee.ImageCollection(Collection_id)\n",
    "\n",
    "    ## Filter \n",
    "    collection = collection.filterBounds(geom).filterDate(startDate,stopDate)\\\n",
    "            .map(cloudMaskL457)\n",
    "\n",
    "    ## Composite\n",
    "    composite = collection.median()\n",
    "\n",
    "    ## Choose the scale\n",
    "    composite =  composite.reproject(crs='EPSG:4326', scale=scale)\n",
    "\n",
    "    ## Select the bands\n",
    "    if bandNames:\n",
    "        composite = composite.select(bandNames)\n",
    "    \n",
    "    return composite"
   ]
  },
  {
   "cell_type": "markdown",
   "metadata": {},
   "source": [
    "## Sentinel 2"
   ]
  },
  {
   "cell_type": "markdown",
   "metadata": {},
   "source": [
    "### Sentinel-2 MultiSpectral Instrument, Level-1C ([gee](https://developers.google.com/earth-engine/datasets/catalog/COPERNICUS_S2))\n",
    "**Dataset Availability**: 2015-06-23T00:00:00 - Present\n",
    "\n",
    "**Wavebands**\n",
    "\n",
    "|Band \t|Use \t\t|Wavelength (nm) |Resolution (m)|\n",
    "|-------|-----------|----------------|--------------|\n",
    "|B1 \t|Aerosols \t|443 \t|60|\n",
    "|B2 \t|Blue \t\t|490 \t|10|\n",
    "|B3 \t|Green \t\t|560 \t|10|\n",
    "|B4 \t|Red \t\t|665 \t|10|\n",
    "|B6 \t|Red Edge 2 |740 \t|20|\n",
    "|B8 \t|NIR        |835 \t|10|\n",
    "|B8a \t|Red Edge 4 |865 \t|20|\n",
    "|B9 \t|Water vapor|940 \t|60|\n",
    "|B10 \t|Cirrus \t|1375 \t|60|\n",
    "|B11 \t|SWIR 1 \t|1610 \t|20|\n",
    "|B12 \t|SWIR 2 \t|2190 \t|20|\n",
    "|QA60   |ESA Cloud  | n/a   |60|"
   ]
  },
  {
   "cell_type": "code",
   "execution_count": 27,
   "metadata": {},
   "outputs": [],
   "source": [
    "# GEE Image Collection ID\n",
    "Collection_id = 'COPERNICUS/S2'\n",
    "# Area of Interest (AoI)\n",
    "geom = ee.Geometry.Point(19.20356, -15.20109).buffer(4000)\n",
    "region = geom.bounds().getInfo()['coordinates']\n",
    "# Start and stop of time series\n",
    "startDate = ee.Date('2016-01-01')\n",
    "stopDate  = ee.Date('2016-06-30')\n",
    "# Scale in meters\n",
    "scale = 10\n",
    "# Year 2016 monthly\n",
    "period = np.array(pd.period_range('2016-01', '2017-12', freq='M').to_series().astype(str))"
   ]
  },
  {
   "cell_type": "markdown",
   "metadata": {},
   "source": [
    "**Cloud Free Composite**"
   ]
  },
  {
   "cell_type": "markdown",
   "metadata": {},
   "source": [
    "RGB"
   ]
  },
  {
   "cell_type": "code",
   "execution_count": 28,
   "metadata": {},
   "outputs": [
    {
     "data": {
      "text/html": [
       "<img src=\"https://earthengine.googleapis.com/api/thumb?thumbid=4fdf534464d685860e1b996387953aaa&token=699ac9242e8533808bfadd91669659a4\"/>"
      ],
      "text/plain": [
       "<IPython.core.display.Image object>"
      ]
     },
     "metadata": {},
     "output_type": "display_data"
    }
   ],
   "source": [
    "vis = {'min':0,'max':0.25, 'bands':['B4', 'B3', 'B2']}\n",
    "image = Cloud_Free_Composite_S2(Collection_id, startDate, stopDate, geom, scale = scale)\n",
    "display_image(image, region, Vizz = vis)"
   ]
  },
  {
   "cell_type": "markdown",
   "metadata": {},
   "source": [
    "**Export images as png**"
   ]
  },
  {
   "cell_type": "code",
   "execution_count": null,
   "metadata": {},
   "outputs": [],
   "source": [
    "path = './Images/Sentinel2/RGB/RGB'\n",
    "for i in range(len(period)-7):\n",
    "    \n",
    "    startDate = ee.Date(period[i])\n",
    "    stopDate  = ee.Date(period[i+7])\n",
    "    \n",
    "    composite = Cloud_Free_Composite_S2(Collection_id, startDate, stopDate, geom, scale = scale)\n",
    "\n",
    "    # File name\n",
    "    filename = '_'+'{:03d}'.format(i)+'.png'\n",
    "    \n",
    "    download_image_png(composite, path_out=path+filename, scale=scale, Vizz = vis, region = region)   "
   ]
  },
  {
   "cell_type": "markdown",
   "metadata": {},
   "source": [
    "**Timelape**"
   ]
  },
  {
   "cell_type": "code",
   "execution_count": null,
   "metadata": {},
   "outputs": [],
   "source": [
    "images = []\n",
    "for i in range(len(period)-5):\n",
    "    startDate = ee.Date(period[i])\n",
    "    stopDate  = ee.Date(period[i+5])\n",
    "    \n",
    "    composite = Cloud_Free_Composite_S2(Collection_id, startDate, stopDate, geom, scale = scale)\n",
    " \n",
    "    # Visualization\n",
    "    image = composite.visualize(**vis)\n",
    "    \n",
    "    images.append(image)\n",
    "    \n",
    "    collection = ee.ImageCollection(images)"
   ]
  },
  {
   "cell_type": "code",
   "execution_count": null,
   "metadata": {},
   "outputs": [],
   "source": [
    "## make the data 8-bit.\n",
    "def convertBit(image):\n",
    "    return image.multiply(512).uint8()  \n",
    "\n",
    "## call the conversion    \n",
    "outputVideo = collection.map(convertBit)\n",
    "\n",
    "print(\"about to build video\")\n",
    "\n",
    "## Export to video.\n",
    "out = ee.batch.Export.video.toDrive(\n",
    "    collection = outputVideo,\n",
    "    folder = 'EarthPulse',\n",
    "    description = 'Okavango_Delta_RGB', \n",
    "    dimensions = 720, \n",
    "    framesPerSecond = 2, \n",
    "    region = region,\n",
    "    maxFrames = 10000\n",
    "    )\n",
    "\n",
    "## process the image\n",
    "process = ee.batch.Task.start(out)\n",
    "\n",
    "print(\"process sent to cloud\")"
   ]
  },
  {
   "cell_type": "markdown",
   "metadata": {},
   "source": [
    "NDVI = (RED-NIR)/(RED+NIR)"
   ]
  },
  {
   "cell_type": "code",
   "execution_count": 29,
   "metadata": {},
   "outputs": [],
   "source": [
    "palette = ['blue', 'white', 'green']\n",
    "vis = {'min': -0.5, 'max': 0.5, 'bands':'nd', 'palette': palette}"
   ]
  },
  {
   "cell_type": "code",
   "execution_count": 30,
   "metadata": {},
   "outputs": [
    {
     "data": {
      "text/html": [
       "<img src=\"https://earthengine.googleapis.com/api/thumb?thumbid=02dd72580bf9657ab9a520032f1d59b7&token=8629ea9de25093e53b6fc806afd337d5\"/>"
      ],
      "text/plain": [
       "<IPython.core.display.Image object>"
      ]
     },
     "metadata": {},
     "output_type": "display_data"
    }
   ],
   "source": [
    "composite = Cloud_Free_Composite_S2(Collection_id, startDate, stopDate, geom, scale = scale)\n",
    "#Calculate NDVI\n",
    "image_ndvi = composite.normalizedDifference(['B8','B4'])\n",
    "display_image(image_ndvi, region, Vizz = vis)"
   ]
  },
  {
   "cell_type": "markdown",
   "metadata": {},
   "source": [
    "**Export images as png**"
   ]
  },
  {
   "cell_type": "code",
   "execution_count": null,
   "metadata": {},
   "outputs": [],
   "source": [
    "path = './Images/Sentinel2/NDVI/NDVI'\n",
    "for i in range(len(period)-7):\n",
    "    \n",
    "    startDate = ee.Date(period[i])\n",
    "    stopDate  = ee.Date(period[i+7])\n",
    "    \n",
    "    composite = Cloud_Free_Composite_S2(Collection_id, startDate, stopDate, geom, scale = scale)\n",
    "    \n",
    "    # Calculate NDVI\n",
    "    image = composite.normalizedDifference(['B8','B4'])\n",
    " \n",
    "    # File name\n",
    "    filename = '_'+'{:03d}'.format(i)+'.png'\n",
    "    \n",
    "    download_image_png(image, path_out=path+filename, scale=scale, Vizz = vis, region = region) "
   ]
  },
  {
   "cell_type": "markdown",
   "metadata": {},
   "source": [
    "NDWI = (GREEN-NIR)/(GREEN+NIR)"
   ]
  },
  {
   "cell_type": "code",
   "execution_count": 31,
   "metadata": {},
   "outputs": [
    {
     "data": {
      "text/html": [
       "<img src=\"https://earthengine.googleapis.com/api/thumb?thumbid=65132267996d795c8c02be24d615762d&token=c05e920833561dcfde512990e83ccc03\"/>"
      ],
      "text/plain": [
       "<IPython.core.display.Image object>"
      ]
     },
     "metadata": {},
     "output_type": "display_data"
    }
   ],
   "source": [
    "composite = Cloud_Free_Composite_S2(Collection_id, startDate, stopDate, geom, scale = scale)\n",
    "#Calculate NDWI\n",
    "image_ndvi = composite.normalizedDifference(['B8','B3'])\n",
    "display_image(image_ndvi, region, Vizz = vis)"
   ]
  },
  {
   "cell_type": "markdown",
   "metadata": {},
   "source": [
    "**Export images as png**"
   ]
  },
  {
   "cell_type": "code",
   "execution_count": null,
   "metadata": {},
   "outputs": [],
   "source": [
    "path = './Images/Sentinel2/NDWI/NDWI'\n",
    "for i in range(len(period)-7):\n",
    "    \n",
    "    startDate = ee.Date(period[i])\n",
    "    stopDate  = ee.Date(period[i+7])\n",
    "    \n",
    "    composite = Cloud_Free_Composite_S2(Collection_id, startDate, stopDate, geom, scale = scale)\n",
    "    \n",
    "    # Calculate NDWI\n",
    "    image = composite.normalizedDifference(['B8','B3'])\n",
    " \n",
    "    # File name\n",
    "    filename = '_'+'{:03d}'.format(i)+'.png'\n",
    "    \n",
    "    download_image_png(image, path_out=path+filename, scale=scale, Vizz = vis, region = region)   "
   ]
  },
  {
   "cell_type": "markdown",
   "metadata": {},
   "source": [
    "MNDWI = (GREEN-SWIR)/(GREEN+SWIR)"
   ]
  },
  {
   "cell_type": "code",
   "execution_count": 32,
   "metadata": {},
   "outputs": [
    {
     "data": {
      "text/html": [
       "<img src=\"https://earthengine.googleapis.com/api/thumb?thumbid=d2d857bbcdebcc00ca0f45b932f2ceef&token=b4d708be21e9f361a23e88bac4e2bed3\"/>"
      ],
      "text/plain": [
       "<IPython.core.display.Image object>"
      ]
     },
     "metadata": {},
     "output_type": "display_data"
    }
   ],
   "source": [
    "composite = Cloud_Free_Composite_S2(Collection_id, startDate, stopDate, geom, scale = scale)\n",
    "#Calculate MNDWI\n",
    "image_ndvi = composite.normalizedDifference(['B11', 'B3'])\n",
    "display_image(image_ndvi, region, Vizz = vis)"
   ]
  },
  {
   "cell_type": "markdown",
   "metadata": {},
   "source": [
    "## Lansat 5"
   ]
  },
  {
   "cell_type": "markdown",
   "metadata": {},
   "source": [
    "### USGS Landsat 5 Surface Reflectance Tier 1 ([gee](https://developers.google.com/earth-engine/datasets/catalog/LANDSAT_LT05_C01_T1_SR))\n",
    "**Dataset Availability**: January 1994 - May 2012\n",
    "\n",
    "**Wavebands**\n",
    "\n",
    "|Name\t      |Resolution\t|Wavelength\t      |Description|\n",
    "|-------------|-------------|-----------------|-----------|\n",
    "|B1\t          |30 meters\t|0.45 - 0.52 µm\t  |Blue                                                  |\n",
    "|B2\t          |30 meters\t|0.52 - 0.60 µm\t  |Green                                                 |\n",
    "|B3\t          |30 meters\t|0.63 - 0.69 µm\t  |Red                                                   |\n",
    "|B4\t          |30 meters\t|0.77 - 0.90 µm\t  |Near infrared                                         |\n",
    "|B5\t          |30 meters\t|1.55 - 1.75 µm\t  |Shortwave infrared 1                                  |\n",
    "|B6\tKelvin\t  |             |0.40 - 12.50 μm  |Band 6 brightness temperature                         |\n",
    "|B7\t\t \t  |             |2.08 - 2.35 μm\t  |Band 7 (shortwave infrared 2) surface reflectance     |\n",
    "|sr_atmos_opacity|          |                 |Atmospheric opacity                                   |\n",
    "|sr_cloud_qa|               |                 |Cloud quality attributes                              |"
   ]
  },
  {
   "cell_type": "code",
   "execution_count": 33,
   "metadata": {},
   "outputs": [],
   "source": [
    "# GEE Image Collection ID\n",
    "Collection_id = 'LANDSAT/LT05/C01/T1_SR'\n",
    "# Area of Interest (AoI)\n",
    "#geom = ee.Geometry.Point(19.20356, -15.20109).buffer(10000)\n",
    "#geom = ee.Geometry.Point(19.7368, -17.9489).buffer(12000)\n",
    "geom = ee.Geometry.Point(17.6894, -14.6568).buffer(12000)\n",
    "region = geom.bounds().getInfo()['coordinates']\n",
    "# Start and stop of time series\n",
    "startDate = ee.Date('1994-01-01')\n",
    "stopDate  = ee.Date('1996-12-31')\n",
    "# Scale in meters\n",
    "scale = 30\n",
    "# Period\n",
    "#period = np.array(pd.period_range('1994-01-01', '1996-12-31', freq='M').to_series().astype(str))\n",
    "period=np.array(pd.period_range('1994-01-01', '2010-12-31', freq='Y').to_series().astype(str))"
   ]
  },
  {
   "cell_type": "markdown",
   "metadata": {},
   "source": [
    "**Cloud Free Composite**"
   ]
  },
  {
   "cell_type": "markdown",
   "metadata": {},
   "source": [
    "RGB"
   ]
  },
  {
   "cell_type": "code",
   "execution_count": 34,
   "metadata": {},
   "outputs": [
    {
     "data": {
      "text/html": [
       "<img src=\"https://earthengine.googleapis.com/api/thumb?thumbid=73773cc21efadf84b8012712ce7852fd&token=5560f715213cfd1b39389a19df681a2d\"/>"
      ],
      "text/plain": [
       "<IPython.core.display.Image object>"
      ]
     },
     "metadata": {},
     "output_type": "display_data"
    }
   ],
   "source": [
    "vis = {'min':0,'max':3000, 'gamma':1.4, 'bands':['B3', 'B2', 'B1']}\n",
    "image = Cloud_Free_Composite_L7_5(Collection_id, startDate, stopDate, geom, scale = scale)\n",
    "display_image(image, region, Vizz = vis)"
   ]
  },
  {
   "cell_type": "code",
   "execution_count": null,
   "metadata": {},
   "outputs": [],
   "source": [
    "path = './Images/Lansat5/RGB/RGB'\n",
    "step = 35\n",
    "step = 2\n",
    "for i in range(len(period)-step):\n",
    "    \n",
    "    startDate = ee.Date(period[i])\n",
    "    stopDate  = ee.Date(period[i+step])\n",
    "    \n",
    "    composite = Cloud_Free_Composite_L7_5(Collection_id, startDate, stopDate, geom, scale = scale)\n",
    "\n",
    "    # File name\n",
    "    filename = '_'+'{:03d}'.format(i)+'.png'\n",
    "    \n",
    "    download_image_png(composite, path_out=path+filename, scale=scale, Vizz = vis, region = region)  "
   ]
  },
  {
   "cell_type": "markdown",
   "metadata": {},
   "source": [
    "## Lansat 7 "
   ]
  },
  {
   "cell_type": "markdown",
   "metadata": {},
   "source": [
    "### USGS Landsat 7 Surface Reflectance Tier 1 ([gee](https://developers.google.com/earth-engine/datasets/catalog/LANDSAT_LE07_C01_T1_SR))\n",
    "**Dataset Availability**: January 1999 - Present\n",
    "\n",
    "**Wavebands**\n",
    "\n",
    "|Name\t      |Resolution\t|Wavelength\t      |Description|\n",
    "|-------------|-------------|-----------------|-----------|\n",
    "|B1\t          |30 meters\t|0.45 - 0.52 µm\t  |Blue                                                  |\n",
    "|B2\t          |30 meters\t|0.52 - 0.60 µm\t  |Green                                                 |\n",
    "|B3\t          |30 meters\t|0.63 - 0.69 µm\t  |Red                                                   |\n",
    "|B4\t          |30 meters\t|0.77 - 0.90 µm\t  |Near infrared                                         |\n",
    "|B5\t          |30 meters\t|1.55 - 1.75 µm\t  |Shortwave infrared 1                                  |\n",
    "|B6\tKelvin\t  |             |0.40 - 12.50 μm  |Band 6 brightness temperature                         |\n",
    "|B7\t\t \t  |             |2.08 - 2.35 μm\t  |Band 7 (shortwave infrared 2) surface reflectance     |\n",
    "|sr_atmos_opacity|          |                 |Atmospheric opacity                                   |\n",
    "|sr_cloud_qa|               |                 |Cloud quality attributes                              |"
   ]
  },
  {
   "cell_type": "code",
   "execution_count": 35,
   "metadata": {},
   "outputs": [],
   "source": [
    "# GEE Image Collection ID\n",
    "Collection_id = 'LANDSAT/LE07/C01/T1_SR'\n",
    "# Area of Interest (AoI)\n",
    "#geom = ee.Geometry.Point(19.20356, -15.20109).buffer(10000)\n",
    "geom = ee.Geometry.Point(19.7368, -17.9489).buffer(12000)\n",
    "#geom = ee.Geometry.Point(17.6894, -14.6568).buffer(12000)\n",
    "region = geom.bounds().getInfo()['coordinates']\n",
    "# Start and stop of time series\n",
    "startDate = ee.Date('2015-01-01')\n",
    "stopDate  = ee.Date('2017-12-31')\n",
    "# Scale in meters\n",
    "scale = 30\n",
    "# Period\n",
    "#period = np.array(pd.period_range('2015-01-01', '2017-12-31', freq='M').to_series().astype(str))\n",
    "period=np.array(pd.period_range('2009-01-01', '2018-12-31', freq='Y').to_series().astype(str))"
   ]
  },
  {
   "cell_type": "markdown",
   "metadata": {},
   "source": [
    "**Cloud Free Composite**"
   ]
  },
  {
   "cell_type": "markdown",
   "metadata": {},
   "source": [
    "RGB"
   ]
  },
  {
   "cell_type": "code",
   "execution_count": 36,
   "metadata": {},
   "outputs": [
    {
     "data": {
      "text/html": [
       "<img src=\"https://earthengine.googleapis.com/api/thumb?thumbid=f2533ddaf3a05866a46094b8605d11be&token=3be4d0201afb4734a2edbfee15655e63\"/>"
      ],
      "text/plain": [
       "<IPython.core.display.Image object>"
      ]
     },
     "metadata": {},
     "output_type": "display_data"
    }
   ],
   "source": [
    "vis = {'min':0,'max':3000, 'gamma':1.4, 'bands':['B3', 'B2', 'B1']}\n",
    "image = Cloud_Free_Composite_L7_5(Collection_id, startDate, stopDate, geom, scale = scale)\n",
    "display_image(image, region, Vizz = vis)"
   ]
  },
  {
   "cell_type": "markdown",
   "metadata": {},
   "source": [
    "**Export images as png**"
   ]
  },
  {
   "cell_type": "code",
   "execution_count": null,
   "metadata": {},
   "outputs": [],
   "source": [
    "path = './Images/Lansat7/RGB/RGB'\n",
    "step = 35\n",
    "step = 2\n",
    "for i in range(len(period)-step):\n",
    "    \n",
    "    startDate = ee.Date(period[i])\n",
    "    stopDate  = ee.Date(period[i+step])\n",
    "    \n",
    "    composite = Cloud_Free_Composite_L7_5(Collection_id, startDate, stopDate, geom, scale = scale)\n",
    "\n",
    "    # File name\n",
    "    filename = '_'+'{:03d}'.format(i+15)+'.png'\n",
    "    \n",
    "    download_image_png(composite, path_out=path+filename, scale=scale, Vizz = vis, region = region)  "
   ]
  },
  {
   "cell_type": "markdown",
   "metadata": {},
   "source": [
    "**Export images for different locations**"
   ]
  },
  {
   "cell_type": "code",
   "execution_count": null,
   "metadata": {},
   "outputs": [],
   "source": [
    "# Path to save files\n",
    "path = './Images/'\n",
    "# Dictionaries with the different locations and collections\n",
    "locations = {'Rundu': [19.7368, -17.9489], 'Menongue': [17.6894, -14.6568]}\n",
    "#locations = {'Cuito': [19.20356, -15.20109], 'Rundu': [19.7368, -17.9489], 'Menongue': [17.6894, -14.6568]}\n",
    "collections = {'Lansat_5': 'LANDSAT/LT05/C01/T1_SR', 'Lansat_7': 'LANDSAT/LE07/C01/T1_SR'}\n",
    "# Visualization parametes\n",
    "vis = {'min':0,'max':3000, 'gamma':1.4, 'bands':['B3', 'B2', 'B1']}\n",
    "# Scale in meters\n",
    "scale = 30\n",
    "\n",
    "for location in locations.keys():\n",
    "    print('Computing images in '+location)\n",
    "    lng = locations[location][0]\n",
    "    lat = locations[location][1]\n",
    "    geom = ee.Geometry.Point(lng, lat).buffer(12000)\n",
    "    region = geom.bounds().getInfo()['coordinates']\n",
    "    \n",
    "    n = 0\n",
    "    step = 3\n",
    "    for collection in collections.keys():\n",
    "        Collection_id = collections[collection]\n",
    "        if collection == 'Lansat_5':\n",
    "            period = np.array(pd.period_range('1994-01-01', '2010-12-31', freq='Y').to_series().astype(str))\n",
    "        else:\n",
    "            period = np.array(pd.period_range('2008-01-01', '2018-12-31', freq='Y').to_series().astype(str))\n",
    "            \n",
    "        for i in range(len(period)-step):\n",
    "            startDate = ee.Date(period[i])\n",
    "            stopDate  = ee.Date(period[i+step])\n",
    "    \n",
    "            composite = Cloud_Free_Composite_L7_5(Collection_id, startDate, stopDate, geom, scale = scale)\n",
    "\n",
    "            # File name\n",
    "            filename = 'RGB_'+'{:03d}'.format(n)+'.png'\n",
    "            \n",
    "            download_image_png(composite, path_out=path+location+'/'+filename, scale=scale, Vizz = vis, region = region)    \n",
    "            n+=1   "
   ]
  },
  {
   "cell_type": "code",
   "execution_count": null,
   "metadata": {},
   "outputs": [],
   "source": [
    "step = 3\n",
    "period = np.array(pd.period_range('1994-01-01', '2010-12-31', freq='Y').to_series().astype(str))\n",
    "period = np.array(pd.period_range('2008-01-01', '2018-12-31', freq='Y').to_series().astype(str))\n",
    "for i in range(len(period)-step):\n",
    "    print(period[i])\n",
    "    print(period[i+step])"
   ]
  },
  {
   "cell_type": "code",
   "execution_count": null,
   "metadata": {},
   "outputs": [],
   "source": []
  }
 ],
 "metadata": {
  "kernelspec": {
   "display_name": "Python 3",
   "language": "python",
   "name": "python3"
  },
  "language_info": {
   "codemirror_mode": {
    "name": "ipython",
    "version": 3
   },
   "file_extension": ".py",
   "mimetype": "text/x-python",
   "name": "python",
   "nbconvert_exporter": "python",
   "pygments_lexer": "ipython3",
   "version": "3.6.4"
  }
 },
 "nbformat": 4,
 "nbformat_minor": 2
}
