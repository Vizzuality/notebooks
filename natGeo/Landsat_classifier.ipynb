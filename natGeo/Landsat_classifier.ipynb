{
 "cells": [
  {
   "cell_type": "markdown",
   "metadata": {},
   "source": [
    "# Landsat for the classification of the urban and agriculture areas "
   ]
  },
  {
   "cell_type": "markdown",
   "metadata": {},
   "source": [
    "**Set the environment**\n",
    "\n",
    "Initialize Earth Engine account"
   ]
  },
  {
   "cell_type": "code",
   "execution_count": 1,
   "metadata": {},
   "outputs": [],
   "source": [
    "import os\n",
    "import ee\n",
    "from ee import batch\n",
    "import json\n",
    "import requests\n",
    "import folium\n",
    "import urllib\n",
    "import numpy as np\n",
    "import pandas as pd\n",
    "from IPython.display import display, Image\n",
    "import matplotlib.pyplot as plt\n",
    "from datetime import timedelta, date\n",
    "\n",
    "ee.Initialize()"
   ]
  },
  {
   "cell_type": "markdown",
   "metadata": {},
   "source": [
    "**Functions**"
   ]
  },
  {
   "cell_type": "code",
   "execution_count": 2,
   "metadata": {},
   "outputs": [],
   "source": [
    "def display_image(image, region, Vizz = None):\n",
    "    \"\"\"\n",
    "    Displays images in notebook\n",
    "    \"\"\" \n",
    "    ## Visualization\n",
    "    if Vizz:\n",
    "        image = image.visualize(**Vizz)\n",
    "        \n",
    "    visual = Image(url=image.getThumbUrl({\n",
    "                'region':region\n",
    "                }))\n",
    "    \n",
    "    display(visual)"
   ]
  },
  {
   "cell_type": "code",
   "execution_count": 3,
   "metadata": {},
   "outputs": [],
   "source": [
    "def cloudMaskL457(image):\n",
    "    qa = image.select('pixel_qa')\n",
    "    #If the cloud bit (5) is set and the cloud confidence (7) is high\n",
    "    #or the cloud shadow bit is set (3), then it's a bad pixel.\n",
    "    cloud = qa.bitwiseAnd(1 << 5).And(qa.bitwiseAnd(1 << 7)).Or(qa.bitwiseAnd(1 << 3));\n",
    "    #Remove edge pixels that don't occur in all bands\n",
    "    mask2 = image.mask().reduce(ee.Reducer.min());\n",
    "    return image.updateMask(cloud.Not()).updateMask(mask2);"
   ]
  },
  {
   "cell_type": "code",
   "execution_count": 4,
   "metadata": {},
   "outputs": [],
   "source": [
    "def Cloud_Free_Composite_L7_5(Collection_id, startDate, stopDate, geom, scale, bandNames = None):\n",
    "    ## Define your collection\n",
    "    collection = ee.ImageCollection(Collection_id)\n",
    "\n",
    "    ## Filter \n",
    "    collection = collection.filterBounds(geom).filterDate(startDate,stopDate)\\\n",
    "            .map(cloudMaskL457)\n",
    "\n",
    "    ## Composite\n",
    "    composite = collection.median()\n",
    "\n",
    "    ## Choose the scale\n",
    "    composite =  composite.reproject(crs='EPSG:4326', scale=scale)\n",
    "\n",
    "    ## Select the bands\n",
    "    if bandNames:\n",
    "        composite = composite.select(bandNames)\n",
    "    \n",
    "    return composite"
   ]
  },
  {
   "cell_type": "markdown",
   "metadata": {},
   "source": [
    "## Landsat 7 "
   ]
  },
  {
   "cell_type": "markdown",
   "metadata": {},
   "source": [
    "### USGS Landsat 7 Surface Reflectance Tier 1 ([gee](https://developers.google.com/earth-engine/datasets/catalog/LANDSAT_LE07_C01_T1_SR))\n",
    "**Dataset Availability**: January 1999 - Present\n",
    "\n",
    "**Wavebands**\n",
    "\n",
    "|Name\t      |Resolution\t|Wavelength\t      |Description|\n",
    "|-------------|-------------|-----------------|-----------|\n",
    "|B1\t          |30 meters\t|0.45 - 0.52 µm\t  |Blue                                                  |\n",
    "|B2\t          |30 meters\t|0.52 - 0.60 µm\t  |Green                                                 |\n",
    "|B3\t          |30 meters\t|0.63 - 0.69 µm\t  |Red                                                   |\n",
    "|B4\t          |30 meters\t|0.77 - 0.90 µm\t  |Near infrared                                         |\n",
    "|B5\t          |30 meters\t|1.55 - 1.75 µm\t  |Shortwave infrared 1                                  |\n",
    "|B6\tKelvin\t  |             |0.40 - 12.50 μm  |Band 6 brightness temperature                         |\n",
    "|B7\t\t \t  |             |2.08 - 2.35 μm\t  |Band 7 (shortwave infrared 2) surface reflectance     |\n",
    "|sr_atmos_opacity|          |                 |Atmospheric opacity                                   |\n",
    "|sr_cloud_qa|               |                 |Cloud quality attributes                              |"
   ]
  },
  {
   "cell_type": "code",
   "execution_count": 14,
   "metadata": {},
   "outputs": [],
   "source": [
    "# GEE Image Collection ID\n",
    "Collection_id = 'LANDSAT/LE07/C01/T1_SR'\n",
    "# Area of Interest (AoI)\n",
    "geom = ee.Geometry.Point(-120.7224, 37.3872).buffer(10000)\n",
    "region = geom.bounds().getInfo()['coordinates']\n",
    "# Start and stop of time series\n",
    "startDate = ee.Date('2014')\n",
    "stopDate  = ee.Date('2017')\n",
    "# Scale in meters\n",
    "scale = 30"
   ]
  },
  {
   "cell_type": "markdown",
   "metadata": {},
   "source": [
    "**Cloud Free Composite**"
   ]
  },
  {
   "cell_type": "markdown",
   "metadata": {},
   "source": [
    "RGB"
   ]
  },
  {
   "cell_type": "code",
   "execution_count": 15,
   "metadata": {},
   "outputs": [
    {
     "data": {
      "text/html": [
       "<img src=\"https://earthengine.googleapis.com/api/thumb?thumbid=ed122dee4318728795ffc715dd5d2b24&token=a98c68ffcb9a430596f914e6e6fa0b10\"/>"
      ],
      "text/plain": [
       "<IPython.core.display.Image object>"
      ]
     },
     "metadata": {},
     "output_type": "display_data"
    }
   ],
   "source": [
    "# Area of Interest (AoI)\n",
    "vis = {'min':0,'max':3000, 'gamma':1.4, 'bands':['B3', 'B2', 'B1']}\n",
    "image = Cloud_Free_Composite_L7_5(Collection_id, startDate, stopDate, geom, scale = scale)\n",
    "display_image(image, region, Vizz = vis)"
   ]
  },
  {
   "cell_type": "code",
   "execution_count": 16,
   "metadata": {},
   "outputs": [
    {
     "data": {
      "text/html": [
       "<img src=\"https://earthengine.googleapis.com/api/thumb?thumbid=4a74b4aa9bf61cb0374bea71b75f9229&token=e278fa4f3f15990cd2dd9b44e3edddc7\"/>"
      ],
      "text/plain": [
       "<IPython.core.display.Image object>"
      ]
     },
     "metadata": {},
     "output_type": "display_data"
    }
   ],
   "source": [
    "# Area of Interest (AoI)\n",
    "geom = ee.Geometry.Point(-112.6799, 42.9816).buffer(10000)\n",
    "region = geom.bounds().getInfo()['coordinates']\n",
    "vis = {'min':0,'max':3000, 'gamma':1.4, 'bands':['B3', 'B2', 'B1']}\n",
    "image = Cloud_Free_Composite_L7_5(Collection_id, startDate, stopDate, geom, scale = scale)\n",
    "display_image(image, region, Vizz = vis)"
   ]
  },
  {
   "cell_type": "markdown",
   "metadata": {},
   "source": [
    "NDVI"
   ]
  },
  {
   "cell_type": "code",
   "execution_count": 17,
   "metadata": {},
   "outputs": [
    {
     "data": {
      "text/html": [
       "<img src=\"https://earthengine.googleapis.com/api/thumb?thumbid=7e0c71b5b4369f846873121d7283f6a6&token=bbc3a6d2d9b055580a8b7dfccdec8ab1\"/>"
      ],
      "text/plain": [
       "<IPython.core.display.Image object>"
      ]
     },
     "metadata": {},
     "output_type": "display_data"
    }
   ],
   "source": [
    "palette = ['blue', 'white', 'green']\n",
    "vis = {'min': -0.5, 'max': 0.5, 'bands':'nd', 'palette': palette}\n",
    "#Calculate NDVI\n",
    "image_ndvi = image.normalizedDifference(['B4','B3'])\n",
    "display_image(image_ndvi, region, Vizz = vis)"
   ]
  },
  {
   "cell_type": "markdown",
   "metadata": {},
   "source": [
    "## Cropland Data Layers\n",
    "### USDA NASS Cropland Data Layers ([gee](https://developers.google.com/earth-engine/datasets/catalog/USDA_NASS_CDL))\n",
    "\n",
    "**Dataset Availability**: January 1997 - Present\n",
    "\n",
    "**Resolution**\n",
    "30 meters\n",
    "\n",
    "**Bands**\n",
    "\n",
    "|Name \t    |Min|Max |Description \t|\n",
    "|-----------|---|----|--------------|\n",
    "|cropland \t|1 \t|254 |Main crop-specific land cover classification.|\n",
    "|cultivated |1 \t|2   |Classification layer for identifying cultivated and non-cultivated land cover. Available from 2013 to 2017.|\n",
    "|confidence |0 \t|100 |Per-pixel predicted confidence of the given classification, with 0 being the least confident and 100 the most confident. Available from 2008 to 2017 (Note: Confidence for Florida and Washington D.C. is unavailable for 2010).|"
   ]
  },
  {
   "cell_type": "code",
   "execution_count": 9,
   "metadata": {},
   "outputs": [],
   "source": [
    "# GEE Image Collection ID\n",
    "Collection_id = 'USDA/NASS/CDL'\n",
    "# Start and stop of time series\n",
    "startDate = ee.Date('2014')\n",
    "stopDate  = ee.Date('2017')"
   ]
  },
  {
   "cell_type": "code",
   "execution_count": 10,
   "metadata": {},
   "outputs": [],
   "source": [
    "dataset = ee.ImageCollection(Collection_id)\\\n",
    "    .filterBounds(geom)\\\n",
    "    .filterDate(startDate,stopDate)\n",
    "\n",
    "# First image\n",
    "image = ee.Image(dataset.first())\n",
    "\n",
    "# Choose the scale\n",
    "image =  image.reproject(crs='EPSG:4326', scale=scale)"
   ]
  },
  {
   "cell_type": "code",
   "execution_count": 11,
   "metadata": {},
   "outputs": [
    {
     "data": {
      "text/html": [
       "<img src=\"https://earthengine.googleapis.com/api/thumb?thumbid=3d3a729e55139fc00a5162a698691e15&token=19bb7d7a293f1afb13bc0819a5e782c7\"/>"
      ],
      "text/plain": [
       "<IPython.core.display.Image object>"
      ]
     },
     "metadata": {},
     "output_type": "display_data"
    }
   ],
   "source": [
    "vis = {'min':1,'max':254, 'bands':'cropland'}\n",
    "display_image(image, region, Vizz = vis)"
   ]
  },
  {
   "cell_type": "code",
   "execution_count": null,
   "metadata": {},
   "outputs": [],
   "source": []
  }
 ],
 "metadata": {
  "kernelspec": {
   "display_name": "Python 3",
   "language": "python",
   "name": "python3"
  },
  "language_info": {
   "codemirror_mode": {
    "name": "ipython",
    "version": 3
   },
   "file_extension": ".py",
   "mimetype": "text/x-python",
   "name": "python",
   "nbconvert_exporter": "python",
   "pygments_lexer": "ipython3",
   "version": "3.6.4"
  }
 },
 "nbformat": 4,
 "nbformat_minor": 2
}
