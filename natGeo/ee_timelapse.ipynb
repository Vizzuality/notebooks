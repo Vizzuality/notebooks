{
 "cells": [
  {
   "cell_type": "markdown",
   "metadata": {},
   "source": [
    "# Time-lapses with Google Earth Engine\n",
    "**Set the environment**\n",
    "\n",
    "Initialize Earth Engine account"
   ]
  },
  {
   "cell_type": "code",
   "execution_count": 1,
   "metadata": {},
   "outputs": [],
   "source": [
    "import numpy as np\n",
    "import pandas as pd\n",
    "import ee\n",
    "ee.Initialize()"
   ]
  },
  {
   "cell_type": "code",
   "execution_count": 2,
   "metadata": {},
   "outputs": [],
   "source": [
    "from ee_composite import ee_composite"
   ]
  },
  {
   "cell_type": "markdown",
   "metadata": {},
   "source": [
    "## Lansat 4\n",
    "### USGS Landsat 4 Surface Reflectance Tier 1 ([gee](https://developers.google.com/earth-engine/datasets/catalog/LANDSAT_LT04_C01_T1_SR))\n",
    "**Dataset Availability**: August 1982 - December 1993"
   ]
  },
  {
   "cell_type": "markdown",
   "metadata": {},
   "source": [
    "## Lansat 5\n",
    "### USGS Landsat 5 Surface Reflectance Tier 1 ([gee](https://developers.google.com/earth-engine/datasets/catalog/LANDSAT_LT05_C01_T1_SR))\n",
    "**Dataset Availability**: January 1994 - May 2012"
   ]
  },
  {
   "cell_type": "markdown",
   "metadata": {},
   "source": [
    "## Lansat 7\n",
    "### USGS Landsat 7 Surface Reflectance Tier 1 ([gee](https://developers.google.com/earth-engine/datasets/catalog/LANDSAT_LE07_C01_T1_SR))\n",
    "**Dataset Availability**: January 1999 - Present"
   ]
  },
  {
   "cell_type": "code",
   "execution_count": 3,
   "metadata": {},
   "outputs": [
    {
     "data": {
      "text/html": [
       "<img src=\"https://earthengine.googleapis.com/api/thumb?thumbid=6f9ad702d824ca92e9080405a533670c&token=71e4c9744bcecc3a9a06d14526605e7d\"/>"
      ],
      "text/plain": [
       "<IPython.core.display.Image object>"
      ]
     },
     "metadata": {},
     "output_type": "display_data"
    }
   ],
   "source": [
    "# Central position of (AOIs)\n",
    "point = [17.6894, -14.6568]\n",
    "# Start and stop of time series\n",
    "startDate = ee.Date('1988-01-01')\n",
    "stopDate  = ee.Date('1990-12-31')\n",
    "# Scale in meters\n",
    "scale = 30\n",
    "# Buffer\n",
    "buffer = 12000\n",
    "# Path\n",
    "path = './Images/'+'Image_Landsat457_'+'{:03d}'.format(1)+'.png'\n",
    "landsat457 = ee_composite(point = point, buffer = buffer, startDate = startDate, stopDate = stopDate, scale = scale, path = path, collection = 'Landsat457')\n",
    "landsat457.read_composite()\n",
    "landsat457.save_composite_png()\n",
    "landsat457.display_composite()"
   ]
  },
  {
   "cell_type": "markdown",
   "metadata": {},
   "source": [
    "## Lansat 8\n",
    "### USGS Landsat 8 Surface Reflectance Tier 1 ([gee](https://developers.google.com/earth-engine/datasets/catalog/LANDSAT_LC08_C01_T1_SR))\n",
    "**Dataset Availability**: April 2013 - Present"
   ]
  },
  {
   "cell_type": "code",
   "execution_count": 4,
   "metadata": {},
   "outputs": [
    {
     "data": {
      "text/html": [
       "<img src=\"https://earthengine.googleapis.com/api/thumb?thumbid=162de164796db6993ea31a9a1b92e619&token=8aa5b68a80a96633e45bdb308fe6500e\"/>"
      ],
      "text/plain": [
       "<IPython.core.display.Image object>"
      ]
     },
     "metadata": {},
     "output_type": "display_data"
    }
   ],
   "source": [
    "# Start and stop of time series\n",
    "startDate = ee.Date('2014-01-01')\n",
    "stopDate  = ee.Date('2014-12-31')\n",
    "# Path\n",
    "path = './Images/'+'Image_Landsat8_'+'{:03d}'.format(1)+'.png'\n",
    "landsat8 = ee_composite(point = point, buffer = buffer, startDate = startDate, stopDate = stopDate, scale = scale, path = path, collection = 'Landsat8')\n",
    "landsat8.read_composite()\n",
    "landsat8.save_composite_png()\n",
    "landsat8.display_composite()"
   ]
  },
  {
   "cell_type": "markdown",
   "metadata": {},
   "source": [
    "## Sentinel 2\n",
    "### Sentinel-2 MultiSpectral Instrument, Level-1C ([gee](https://developers.google.com/earth-engine/datasets/catalog/COPERNICUS_S2))\n",
    "**Dataset Availability**: 2015-06-23T00:00:00 - Present\n",
    "\n",
    "**Wavebands**\n",
    "\n",
    "|Band \t|Use \t\t|Wavelength (nm) |Resolution (m)|\n",
    "|-------|-----------|----------------|--------------|\n",
    "|B1 \t|Aerosols \t|443 \t|60|\n",
    "|B2 \t|Blue \t\t|490 \t|10|\n",
    "|B3 \t|Green \t\t|560 \t|10|\n",
    "|B4 \t|Red \t\t|665 \t|10|\n",
    "|B6 \t|Red Edge 2 |740 \t|20|\n",
    "|B8 \t|NIR        |835 \t|10|\n",
    "|B8a \t|Red Edge 4 |865 \t|20|\n",
    "|B9 \t|Water vapor|940 \t|60|\n",
    "|B10 \t|Cirrus \t|1375 \t|60|\n",
    "|B11 \t|SWIR 1 \t|1610 \t|20|\n",
    "|B12 \t|SWIR 2 \t|2190 \t|20|\n",
    "|QA60   |ESA Cloud  | n/a   |60|"
   ]
  },
  {
   "cell_type": "code",
   "execution_count": 9,
   "metadata": {},
   "outputs": [],
   "source": [
    "# Start and stop of time series\n",
    "startDate = ee.Date('2017-01-01')\n",
    "stopDate  = ee.Date('2017-12-31')\n",
    "# Scale in meters\n",
    "scale = 10\n",
    "# Buffer\n",
    "buffer = 8000\n",
    "# Path\n",
    "path = './Images/'+'Image_Sentinel2_'+'{:03d}'.format(1)+'.png'"
   ]
  },
  {
   "cell_type": "code",
   "execution_count": 10,
   "metadata": {},
   "outputs": [
    {
     "data": {
      "text/html": [
       "<img src=\"https://earthengine.googleapis.com/api/thumb?thumbid=bfd78d808ad0c98f2cde0eefdab4806b&token=025c78d3ed718b581136d2970adbbd38\"/>"
      ],
      "text/plain": [
       "<IPython.core.display.Image object>"
      ]
     },
     "metadata": {},
     "output_type": "display_data"
    }
   ],
   "source": [
    "sentinel = ee_composite(point = point, buffer = buffer, startDate = startDate, stopDate = stopDate, scale = scale, path = path, collection = 'Sentinel2')\n",
    "sentinel.read_composite()\n",
    "sentinel.save_composite_png()\n",
    "sentinel.display_composite()"
   ]
  },
  {
   "cell_type": "markdown",
   "metadata": {},
   "source": [
    "## Save frames as \n",
    "\n",
    "We save the frames of every timelapse as `.png`"
   ]
  },
  {
   "cell_type": "code",
   "execution_count": null,
   "metadata": {},
   "outputs": [],
   "source": [
    "## Dictionaries with the different locations and collections\n",
    "locations = {'Rundu': [19.7368, -17.9489], 'Cuito': [19.20356, -15.20109], 'Menongue': [17.6894, -14.6568]}\n",
    "## Periods\n",
    "period_L457 = np.array(pd.date_range(start='1988-12-31', end='2012-12-31', freq='6M').to_series().astype(str))\n",
    "period_L8 = np.array(pd.date_range(start='2012-12-31', end='2018-12-31', freq='6M').to_series().astype(str))\n",
    "## Dictionaries with the different periods of each collection\n",
    "collections = {'Landsat457': period_L457, 'Landsat8': period_L8}\n",
    "## Dictionaries with the date steps\n",
    "steps = {'Landsat457': 8, 'Landsat8': 2}\n",
    "## Dictionaries with the scales (in m) of each collection\n",
    "scales = {'Landsat457': 30, 'Landsat8': 30}\n",
    "## Buffer\n",
    "buffer = 12000\n",
    "## Path to save files\n",
    "path = './Images/'\n",
    "\n",
    "n=0\n",
    "for location in locations.keys():\n",
    "    print('Location:', location)\n",
    "    for collection in collections.keys():\n",
    "        print('Collection:', collection)\n",
    "        step = steps[collection]\n",
    "        dates = collections[collection]\n",
    "        for time in range(len(dates)-step):\n",
    "            # Start and stop of time series\n",
    "            startDate = ee.Date(dates[time])\n",
    "            stopDate  = ee.Date(dates[time+step])\n",
    "        \n",
    "            # File path\n",
    "            file_path = path+location+'/'+location+'_'+'{:03d}'.format(n)+'.png'\n",
    "        \n",
    "            composite = ee_composite(point = locations[location], buffer = buffer, startDate = startDate, stopDate = stopDate, scale = scales[collection], path = file_path, collection = collection)\n",
    "            composite.read_composite()\n",
    "            composite.save_composite_png()\n",
    "            \n",
    "            n+=1 "
   ]
  },
  {
   "cell_type": "code",
   "execution_count": null,
   "metadata": {},
   "outputs": [],
   "source": []
  }
 ],
 "metadata": {
  "kernelspec": {
   "display_name": "Python 3",
   "language": "python",
   "name": "python3"
  },
  "language_info": {
   "codemirror_mode": {
    "name": "ipython",
    "version": 3
   },
   "file_extension": ".py",
   "mimetype": "text/x-python",
   "name": "python",
   "nbconvert_exporter": "python",
   "pygments_lexer": "ipython3",
   "version": "3.6.4"
  }
 },
 "nbformat": 4,
 "nbformat_minor": 2
}
