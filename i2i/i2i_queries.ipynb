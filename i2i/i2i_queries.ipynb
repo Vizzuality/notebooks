{
 "cells": [
  {
   "cell_type": "markdown",
   "metadata": {},
   "source": [
    "# i2i queries"
   ]
  },
  {
   "cell_type": "markdown",
   "metadata": {},
   "source": [
    "### Number of total points in each type, sector and country"
   ]
  },
  {
   "cell_type": "markdown",
   "metadata": {},
   "source": [
    "```sql\n",
    "SELECT count(type), type, sector, iso   \n",
    "    FROM fsp_maps\n",
    "   WHERE iso = 'KEN'\n",
    "GROUP BY sector, iso, type\n",
    "```"
   ]
  },
  {
   "cell_type": "markdown",
   "metadata": {},
   "source": [
    "### Coordinates selected points"
   ]
  },
  {
   "cell_type": "markdown",
   "metadata": {},
   "source": [
    "```sql\n",
    "SELECT the_geom, the_geom_webmercator, type, sector\n",
    "    FROM fsp_maps\n",
    "   WHERE iso = 'KEN' AND sector in ('Agriculture', 'Finance') AND type in ('Agro-Dealers', 'Market Locations', 'Mobile Money Agent', 'Bank Agent', 'Forex Bureaus')\n",
    "GROUP BY sector, type\n",
    "```"
   ]
  },
  {
   "cell_type": "markdown",
   "metadata": {},
   "source": [
    "```sql\n",
    "SELECT the_geom, the_geom_webmercator\n",
    "FROM fsp_maps\n",
    "WHERE iso = 'KEN' and sector = 'Agriculture' and type = 'Agro-Dealers'\n",
    "```"
   ]
  },
  {
   "cell_type": "markdown",
   "metadata": {},
   "source": [
    "### Coordinates selected points' voronoids"
   ]
  },
  {
   "cell_type": "markdown",
   "metadata": {},
   "source": [
    "```sql\n",
    "WITH v as (SELECT v.*, m.type\n",
    "             FROM fsp_voronoid as v\n",
    "        LEFT JOIN fsp_maps as m\n",
    "               ON v.id = m.id \n",
    "         ORDER BY v.id)\n",
    "            \n",
    "SELECT the_geom, the_geom_webmercator\n",
    "FROM v\n",
    "WHERE iso = 'KEN' and sector = 'Agriculture' and type = 'Agro-Dealers'\n",
    "```"
   ]
  },
  {
   "cell_type": "markdown",
   "metadata": {},
   "source": [
    "### Population inside a country\n",
    "** Total, urban, and rural population, their percentages, and population within 5 km of all access points**"
   ]
  },
  {
   "cell_type": "markdown",
   "metadata": {},
   "source": [
    "```sql\n",
    "WITH b as (SELECT the_geom FROM world_borders_hd as b \n",
    "            WHERE b.iso_a3 = 'KEN'),\n",
    "     u as (SELECT u.the_geom FROM urban_areas as u\n",
    "             JOIN world_borders_hd as b\n",
    "               ON ST_Intersects(b.the_geom, u.the_geom)\n",
    "            WHERE b.iso_a3 = 'KEN')\n",
    "\n",
    "SELECT tot.pop as total_population, urb.pop as urban_population, \n",
    "  round(((urb.pop/tot.pop)*100)::numeric, 1) as urban_population_percentage, (tot.pop - urb.pop) as \n",
    "  rural_population, round((((tot.pop - urb.pop)/tot.pop)*100)::numeric,1) as   \n",
    "  rural_population_percentage, round(pop_km.tot_pop_km::numeric) as population_5km,\n",
    "  round(((round(pop_km.tot_pop_km::numeric)/tot.pop)*100)::numeric, 1) as population_5km_percentage,\n",
    "  2015 as year\n",
    "FROM (SELECT round((ST_SummaryStatsAgg(ST_Clip(the_raster_webmercator, b.the_geom),1,True)).sum) as pop\n",
    "        FROM population_count_2015, b \n",
    "       WHERE ST_Intersects(the_raster_webmercator, b.the_geom)\n",
    "      ) as tot,\n",
    "     (SELECT round((ST_SummaryStatsAgg(ST_Clip(the_raster_webmercator, u.the_geom),1,True)).sum) as pop\n",
    "        FROM population_count_2015, u \n",
    "       WHERE ST_Intersects(the_raster_webmercator, u.the_geom)\n",
    "      ) as urb,\n",
    "     (SELECT total_population as tot_pop_km\n",
    "        FROM population_within_5km \n",
    "       WHERE iso = 'KEN'\n",
    "      ) as pop_km\n",
    "```"
   ]
  },
  {
   "cell_type": "markdown",
   "metadata": {},
   "source": [
    "### Total population within 5 km of all access points in a country"
   ]
  },
  {
   "cell_type": "markdown",
   "metadata": {},
   "source": [
    "```sql\n",
    "WITH buff as (SELECT ST_Union(ST_Buffer(the_geom_webmercator,5000)) as the_geom_webmercator\n",
    "                FROM fsp_maps WHERE iso = 'KEN'),\n",
    "        b as (SELECT the_geom FROM world_borders_hd as b \n",
    "               WHERE b.iso_a3 = 'KEN'),\n",
    "   buff_b as (SELECT ST_Intersection(b.the_geom, st_transform(buff.the_geom_webmercator,4326)) as the_geom\n",
    "                FROM b, buff)\n",
    "\n",
    "SELECT pop_5km.pop as total_population_within_5km, \n",
    "round(((pop_5km.pop/tot.pop)*100)::numeric, 1) as total_population_within_5km_percentage, 'KEN' as iso\n",
    "FROM (SELECT round((ST_SummaryStatsAgg(ST_Clip(the_raster_webmercator,  buff_b.the_geom),1,True)).sum) as pop\n",
    "        FROM population_count_2015, buff_b\n",
    "       WHERE ST_Intersects(the_raster_webmercator, buff_b.the_geom)\n",
    "     ) as pop_5km,\n",
    "    (SELECT round((ST_SummaryStatsAgg(ST_Clip(the_raster_webmercator,b.the_geom),1,True)).sum) as pop\n",
    "       FROM population_count_2015, b \n",
    "      WHERE ST_Intersects(the_raster_webmercator, b.the_geom)\n",
    "     ) as tot\n",
    "```"
   ]
  },
  {
   "cell_type": "markdown",
   "metadata": {},
   "source": [
    "### Total selected access points and population "
   ]
  },
  {
   "cell_type": "markdown",
   "metadata": {},
   "source": [
    "** Inside a country **"
   ]
  },
  {
   "cell_type": "markdown",
   "metadata": {},
   "source": [
    "```sql\n",
    "WITH b as (SELECT the_geom FROM world_borders_hd as b \n",
    "            WHERE b.iso_a3 = 'KEN'),\n",
    "     u as (SELECT u.the_geom FROM urban_areas as u\n",
    "             JOIN world_borders_hd as b\n",
    "               ON ST_Intersects(b.the_geom, u.the_geom)\n",
    "            WHERE b.iso_a3 = 'KEN')\n",
    "\n",
    "SELECT points.count as access_points, tot.pop as total_population, urb.pop as urban_population, \n",
    "  round(((urb.pop/tot.pop)*100)::numeric, 1) as urban_population_percentage, (tot.pop - urb.pop) as \n",
    "  rural_population, round((((tot.pop - urb.pop)/tot.pop)*100)::numeric,1) as   \n",
    "  rural_population_percentage\n",
    "FROM (SELECT round((ST_SummaryStatsAgg(ST_Clip(the_raster_webmercator, b.the_geom),1,True)).sum) as pop\n",
    "        FROM population_count_2015, b \n",
    "       WHERE ST_Intersects(the_raster_webmercator, b.the_geom)\n",
    "      ) as tot,\n",
    "     (SELECT round((ST_SummaryStatsAgg(ST_Clip(the_raster_webmercator, u.the_geom),1,True)).sum) as pop\n",
    "        FROM population_count_2015, u \n",
    "       WHERE ST_Intersects(the_raster_webmercator, u.the_geom)\n",
    "      ) as urb,\n",
    "    (SELECT count(*)\n",
    "        FROM fsp_maps\n",
    "       WHERE iso = 'KEN' AND sector in ('Agriculture', 'Finance') AND type in ('Agro-Dealers', 'Market Locations', 'Mobile Money Agent', 'Bank Agent', 'Forex Bureaus')\n",
    "     ) as points\n",
    "```"
   ]
  },
  {
   "cell_type": "markdown",
   "metadata": {},
   "source": [
    "** Inside a geometry **"
   ]
  },
  {
   "cell_type": "markdown",
   "metadata": {},
   "source": [
    "```sql\n",
    "WITH b as (SELECT the_geom FROM world_borders_hd as b \n",
    "            WHERE b.iso_a3 = 'KEN'),\n",
    "     u as (SELECT u.the_geom FROM urban_areas as u\n",
    "             JOIN world_borders_hd as b\n",
    "               ON ST_Intersects(b.the_geom, u.the_geom)\n",
    "            WHERE b.iso_a3 = 'KEN')\n",
    "\n",
    "SELECT points.count as access_points, tot.pop as total_population, urb.pop as urban_population, \n",
    "  round(((urb.pop/tot.pop)*100)::numeric, 1) as urban_population_percentage, (tot.pop - urb.pop) as \n",
    "  rural_population, round((((tot.pop - urb.pop)/tot.pop)*100)::numeric,1) as   \n",
    "  rural_population_percentage\n",
    "FROM (SELECT round((ST_SummaryStatsAgg(ST_Clip(the_raster_webmercator, b.the_geom),1,True)).sum) as pop\n",
    "        FROM population_count_2015, b \n",
    "       WHERE ST_Intersects(the_raster_webmercator, b.the_geom)\n",
    "      ) as tot,\n",
    "     (SELECT round((ST_SummaryStatsAgg(ST_Clip(the_raster_webmercator, u.the_geom),1,True)).sum) as pop\n",
    "        FROM population_count_2015, u \n",
    "       WHERE ST_Intersects(the_raster_webmercator, u.the_geom)\n",
    "      ) as urb,\n",
    "    (SELECT count(*)\n",
    "        FROM fsp_maps as m, b \n",
    "       WHERE ST_Intersects(m.the_geom, b.the_geom) AND m.sector in ('Agriculture', 'Finance') AND m.type in ('Agro-Dealers', 'Market Locations', 'Mobile Money Agent', 'Bank Agent', 'Forex Bureaus')\n",
    "     ) as points\n",
    "```"
   ]
  },
  {
   "cell_type": "markdown",
   "metadata": {},
   "source": [
    "### Access points percentage and number of services"
   ]
  },
  {
   "cell_type": "markdown",
   "metadata": {},
   "source": [
    "** Inside a country **"
   ]
  },
  {
   "cell_type": "markdown",
   "metadata": {},
   "source": [
    "```sql\n",
    "SELECT points.count as access_points, round((points.count*1./tot.count)*100, 1) as access_points_percentage, points.type , points.sector\n",
    "FROM (SELECT count(*), sector, type\n",
    "        FROM fsp_maps \n",
    "       WHERE iso = 'KEN' AND sector in ('Agriculture', 'Finance') AND type in ('Agro-Dealers', 'Market Locations', 'Mobile Money Agent', 'Bank Agent', 'Forex Bureaus')\n",
    "    GROUP BY sector, type\n",
    "     ) as points,\n",
    "    (SELECT count(*)\n",
    "        FROM fsp_maps \n",
    "       WHERE iso = 'KEN' AND sector in ('Agriculture', 'Finance') AND type in ('Agro-Dealers', 'Market Locations', 'Mobile Money Agent', 'Bank Agent', 'Forex Bureaus')\n",
    "     ) as tot\n",
    "```"
   ]
  },
  {
   "cell_type": "markdown",
   "metadata": {},
   "source": [
    "** Inside a geometry **"
   ]
  },
  {
   "cell_type": "markdown",
   "metadata": {},
   "source": [
    "```sql\n",
    "WITH b as (SELECT the_geom \n",
    "             FROM world_borders_hd as b\n",
    "            WHERE b.iso_a3 = 'KEN')\n",
    "            \n",
    "SELECT points.count as access_points, round((points.count*1./tot.count)*100, 1) as access_points_percentage, points.type , points.sector\n",
    "FROM (SELECT count(*), sector, type\n",
    "        FROM fsp_maps as m, b \n",
    "       WHERE ST_Intersects(b.the_geom, m.the_geom) AND m.iso = 'KEN' AND m.sector in ('Agriculture', 'Finance') AND m.type in ('Agro-Dealers', 'Market Locations', 'Mobile Money Agent', 'Bank Agent', 'Forex Bureaus')\n",
    "    GROUP BY m.sector, m.type\n",
    "     ) as points,\n",
    "    (SELECT count(*)\n",
    "        FROM fsp_maps as m, b \n",
    "       WHERE ST_Intersects(b.the_geom, m.the_geom) AND m.iso = 'KEN' AND m.sector in ('Agriculture', 'Finance') AND m.type in ('Agro-Dealers', 'Market Locations', 'Mobile Money Agent', 'Bank Agent', 'Forex Bureaus')\n",
    "     ) as tot\n",
    "```"
   ]
  },
  {
   "cell_type": "markdown",
   "metadata": {},
   "source": [
    "### Time distance to access points"
   ]
  },
  {
   "cell_type": "code",
   "execution_count": null,
   "metadata": {},
   "outputs": [],
   "source": []
  },
  {
   "cell_type": "code",
   "execution_count": null,
   "metadata": {},
   "outputs": [],
   "source": []
  }
 ],
 "metadata": {
  "kernelspec": {
   "display_name": "Python 3",
   "language": "python",
   "name": "python3"
  },
  "language_info": {
   "codemirror_mode": {
    "name": "ipython",
    "version": 3
   },
   "file_extension": ".py",
   "mimetype": "text/x-python",
   "name": "python",
   "nbconvert_exporter": "python",
   "pygments_lexer": "ipython3",
   "version": "3.6.4"
  }
 },
 "nbformat": 4,
 "nbformat_minor": 2
}
