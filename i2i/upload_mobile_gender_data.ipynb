{
 "cells": [
  {
   "cell_type": "markdown",
   "metadata": {},
   "source": [
    "# Process to upload data."
   ]
  },
  {
   "cell_type": "markdown",
   "metadata": {},
   "source": [
    "## Steps to follow to make an import:\n",
    "1.- Check the data: format, column labeling, data types, typos inside data categories for each indicator etc.  \n",
    "2.- Once we are happy with the data we need to produce the matchJson for indicators; this json will map the colum name indicators with the harmonize ones we have on the DB.\n"
   ]
  },
  {
   "cell_type": "code",
   "execution_count": 1,
   "metadata": {},
   "outputs": [],
   "source": [
    "import os\n",
    "import zipfile\n",
    "import pandas as pd\n",
    "import requests\n",
    "import numpy as np\n",
    "import itertools\n",
    "import difflib\n",
    "import json\n",
    "import re\n",
    "import getpass\n",
    "\n",
    "import pycountry\n",
    "from IPython.display import display, Markdown\n",
    "pd.set_option('display.max_row', None)\n",
    "pd.set_option('display.max_columns', None)\n",
    "basePath= os.getcwd()"
   ]
  },
  {
   "cell_type": "markdown",
   "metadata": {},
   "source": [
    "#### management tips\n",
    "* Not all datasets will have the same columns.  \n",
    "* Allways trim and substitute empty values by null ones.  "
   ]
  },
  {
   "cell_type": "markdown",
   "metadata": {},
   "source": [
    "#### Functions for management"
   ]
  },
  {
   "cell_type": "code",
   "execution_count": 15,
   "metadata": {},
   "outputs": [],
   "source": [
    "def capitalize(matchobj):\n",
    "    return matchobj.group(0).upper()\n",
    "\n",
    "def checkDataset(datasetPath, iso, year, kargs={'decimal':',', 'sep':';'}, clean=True):\n",
    "    \"\"\"\n",
    "    This will open the dataset and make some itial checks: \n",
    "    (data types, column names and will try to solve some common cleaning issues)\n",
    "    \"\"\"\n",
    "    if datasetPath.split('.')[-1] in ['xlsx']:\n",
    "        dataset =  pd.read_excel(datasetPath, **kargs) \\\n",
    "                .convert_dtypes()\n",
    "    elif datasetPath.split('.')[-1] in ['csv']:\n",
    "        dataset = pd.read_csv(datasetPath, **kargs, low_memory=False) \\\n",
    "                .convert_dtypes()\n",
    "    else:\n",
    "            raise Exception('format not allowed')\n",
    "    dataset_columns = set(dataset.columns.sort_values(ascending=True).values)\n",
    "    display(Markdown(f'## {iso.lower()}{year}'))\n",
    "    display(dataset.head(2))\n",
    "    display(dataset.describe(include='all').transpose())\n",
    "    display(Markdown(f'### Columns descriptions'))\n",
    "    for col in dataset.columns.values:\n",
    "        display(Markdown(f'#### **column:** {col} ----- **dtype**: {dataset[col].dtype}'))\n",
    "        if len(dataset[col].unique()) < 50:\n",
    "            display(Markdown(f'##### Before clean applied'))\n",
    "            print(dataset[col].unique())\n",
    "        ## This is for preliminary clean\n",
    "        if pd.api.types.is_string_dtype(dataset[col]) and clean:\n",
    "            dataset[col] = dataset[col].str.strip() \\\n",
    "                                .str.strip(',') \\\n",
    "                                .str.lower() \\\n",
    "                                .str.capitalize() \\\n",
    "                                .str.replace(re.compile(r'( years)$', flags=re.IGNORECASE), '') \\\n",
    "                                .str.replace(re.compile(r'(Urbain)', flags=re.IGNORECASE), 'Urban') \\\n",
    "                                .str.replace(re.compile(r'(Above 60)', flags=re.IGNORECASE), '>60') \\\n",
    "                                .str.replace(re.compile(r'(Under 18)', flags=re.IGNORECASE), '<18') \\\n",
    "                                .str.replace(re.compile(r'\\/[aA-zZ]', flags=re.IGNORECASE), capitalize) \\\n",
    "                                .str.replace('Dont know','Don’t know') \\\n",
    "                                .str.replace('Informally','Informal')\n",
    "            display(Markdown(f'##### After clean applied'))\n",
    "            print(dataset[col].unique())\n",
    "        \n",
    "    return [dataset, dataset_columns, f'{iso.lower()}{year}']\n",
    "\n",
    "def calculatePopulation(data):\n",
    "    print('Population over which it was estimated')\n",
    "    poblacion = sum(data[0]['finalweight'])\n",
    "    mujeres = data[0][data[0]['Gender'] == 'Female']\n",
    "    total_mujeres = sum(mujeres['finalweight'])\n",
    "    hombres = data[0][data[0]['Gender'] == 'Male']\n",
    "    total_hombres = sum(hombres['finalweight'])\n",
    "    print('_________________ ',f'{data[2]}')\n",
    "    print('Mujeres: ',total_mujeres)\n",
    "    print('Hombres: ',total_hombres)\n",
    "    print('Total: ', poblacion)\n",
    "    print('_________________ ')\n",
    "    \n",
    "\n",
    "def compareDatasets(dfvaris:list, column_remap = {'stratum': 'Stratum',\n",
    "                                              #'D3': 'M_D3',\n",
    "                                              'Allow spouse to work,,':'Allow spouse to work',\n",
    "                                              ' Phone ownership':'Phone ownership',\n",
    "                                              #'Gender': 'gender',\n",
    "                                              'Urban_Rural': 'Urb_Rur'}):\n",
    "    \"\"\"\n",
    "    dfvaris list of lists [[dataset, datasetCols,'isoYEAR']]\n",
    "    column_remap if you need to remap columns\n",
    "    \"\"\"\n",
    "    issueCols=set()\n",
    "    for i, data in enumerate(dfvaris):\n",
    "        ## Rename columns if needed    \n",
    "        data[0].rename(inplace=True, columns=column_remap)\n",
    "        \n",
    "        dfvaris[i][1]=set(data[0].columns.sort_values(ascending=True).values)\n",
    "        print(dfvaris[i][1])\n",
    "        issueCols = dfvaris[i][1] - issueCols\n",
    "        display(data[0].info())\n",
    "    \n",
    "    valuesCols={}\n",
    "    closetsCols={}\n",
    "    #################### this code will compare pairs of column outputs to homogeinaze the data.\n",
    "    for a, b in itertools.combinations(dfvaris, 2):\n",
    "        al=set(map(str.lower,a[1]))\n",
    "        bl=set(map(str.lower,b[1]))\n",
    "        c=a[1]-b[1]\n",
    "        cl=al-bl\n",
    "        d=b[1]-a[1]\n",
    "        dl=bl-al\n",
    "        symCols = a[1] & b[1]\n",
    "        print('=========================  ', a[2], ' - ', b[2])\n",
    "        print('Good matched columns')\n",
    "        for i in symCols:\n",
    "            if str(a[0].dtypes[i]) != str(b[0].dtypes[i]):\n",
    "                print('+++++++++++++++++++++')\n",
    "                print(a[2],a[0][i].dtype,' different dtype ',b[2],b[0][i].dtype)\n",
    "                print('+++++++++++++++++++++')\n",
    "\n",
    "            if len(a[0][i].unique()) < 20 and len(b[0][i].unique()) < 20:\n",
    "                print('-',i)\n",
    "\n",
    "                print('> {0}: {1}'.format(a[2],a[0][i].unique()))\n",
    "                print('> {0}: {1}'.format(b[2],b[0][i].unique()))\n",
    "                r = difflib.get_close_matches(i, possibilities = valuesCols.keys(), n = 1, cutoff = 0.98)\n",
    "                if not r:\n",
    "                    valuesCols[i]=set()\n",
    "                    closetsCols[i]=set()\n",
    "                else:\n",
    "                    print('*********')\n",
    "                    print(r)\n",
    "                    print('*********')\n",
    "\n",
    "                    valuesCols[r[0]].update(a[0][i].unique())\n",
    "                    valuesCols[r[0]].update(b[0][i].unique())\n",
    "                    print(r[0])\n",
    "                    print(i)\n",
    "                    print(round(difflib.SequenceMatcher(None, r[0], i).ratio(),3))\n",
    "                    closetsCols[i].update(set(r))\n",
    "            \n",
    "    \n",
    "        print(\"Columns that doesn't have a full match from both datasets\", al^bl)\n",
    "        for search in cl:\n",
    "            matches = sorted(dl, key=lambda x: difflib.SequenceMatcher(None, x.lower(), search.lower()).ratio(), reverse=True)  \n",
    "            if round(difflib.SequenceMatcher(None, matches[0], search).ratio(),3) > 0.8:\n",
    "                print('--------')\n",
    "                display(Markdown(\"**{0}** se compara con {1} el más parecido es {2} con un ratio de: {3}\".format(search, matches, matches[0], round(difflib.SequenceMatcher(None, matches[0], search).ratio(),3)))) \n"
   ]
  },
  {
   "cell_type": "markdown",
   "metadata": {},
   "source": [
    "#### Functions to upload to the api"
   ]
  },
  {
   "cell_type": "markdown",
   "metadata": {},
   "source": [
    "Indicators needs to be on the API first; to do so you need to edit this files:\n",
    "* [National surveys](https://github.com/Vizzuality/i2i-api/blob/develop/app/src/data/indicators.json)\n",
    "* [MSME](https://github.com/Vizzuality/i2i-api/blob/develop/app/src/data/msme-indicators.json)\n",
    "* [Mobile surveys](https://github.com/Vizzuality/i2i-api/blob/develop/app/src/data/ms-indicators.json)\n",
    "\n",
    "After editing the above one make sure they are categorized on the fron here:\n",
    "* [National surveys](https://github.com/Vizzuality/i2i/blob/develop/app/assets/javascripts/collections/data_portal)\n",
    "* [MSME](https://github.com/Vizzuality/i2i/blob/develop/app/assets/javascripts/collections/data_portal)\n",
    "* [Mobile surveys](https://github.com/Vizzuality/i2i/blob/develop/app/assets/javascripts/collections/data_portal/ExploratorySurveyIndicatorsCollection.js)"
   ]
  },
  {
   "cell_type": "code",
   "execution_count": 3,
   "metadata": {},
   "outputs": [],
   "source": [
    "\"\"\"\n",
    "This is used to generate the matching json to upload a file, the column names should match with each object\n",
    "\"\"\"\n",
    "useJson =json.loads(\"\"\"{\n",
    "    \"weightColumn\": \"finalweight\",\n",
    "    \"indicators\":{\n",
    "        \"Urb_Rur\": {\n",
    "            \"indicatorId\": \"geographic_area\",\n",
    "            \"childIndicatorId\": null,\n",
    "            \"answerId\": null\n",
    "        },\n",
    "        \"Urbanicity\": {\n",
    "            \"indicatorId\": \"geographic_area\",\n",
    "            \"childIndicatorId\": null,\n",
    "            \"answerId\": null\n",
    "        },\n",
    "        \"Province\":{\n",
    "            \"indicatorId\": \"jurisdiction\",\n",
    "            \"childIndicatorId\": null,\n",
    "            \"answerId\": null\n",
    "        },\n",
    "        \"M_D3\": {\n",
    "            \"indicatorId\": \"gender\",\n",
    "            \"childIndicatorId\": null,\n",
    "            \"answerId\": null\n",
    "        },\n",
    "        \"Gender\": {\n",
    "            \"indicatorId\": \"gender\",\n",
    "            \"childIndicatorId\": null,\n",
    "            \"answerId\": null\n",
    "        },\n",
    "        \"i2i_Age\": {\n",
    "            \"indicatorId\": \"age\",\n",
    "            \"childIndicatorId\": null,\n",
    "            \"answerId\": null\n",
    "        },\n",
    "        \"Age Group\": {\n",
    "            \"indicatorId\": \"age\",\n",
    "            \"childIndicatorId\": null,\n",
    "            \"answerId\": null\n",
    "        },\n",
    "        \"i2i_Marital_Status\":{\n",
    "            \"indicatorId\": \"i2i_Marital_Status\",\n",
    "            \"childIndicatorId\": null,\n",
    "            \"answerId\": null\n",
    "        },\n",
    "        \"Relationship status\":{\n",
    "            \"indicatorId\": \"i2i_Marital_Status\",\n",
    "            \"childIndicatorId\": null,\n",
    "            \"answerId\": null\n",
    "        },\n",
    "        \"i2i_Education\": {\n",
    "            \"indicatorId\": \"i2i_Education\",\n",
    "            \"childIndicatorId\": null,\n",
    "            \"answerId\": null\n",
    "        },\n",
    "        \"Education\": {\n",
    "            \"indicatorId\": \"i2i_Education\",\n",
    "            \"childIndicatorId\": null,\n",
    "            \"answerId\": null\n",
    "        },\n",
    "        \"English literacy\": {\n",
    "            \"indicatorId\": \"english_literacy\",\n",
    "            \"childIndicatorId\": null,\n",
    "            \"answerId\": null\n",
    "        },\n",
    "        \"Language of interview\": {\n",
    "            \"indicatorId\": \"interview_lan\",\n",
    "            \"childIndicatorId\": null,\n",
    "            \"answerId\": null\n",
    "        },\n",
    "        \"Main language\": {\n",
    "            \"indicatorId\": \"main_lan\",\n",
    "            \"childIndicatorId\": null,\n",
    "            \"answerId\": null\n",
    "        },\n",
    "        \"Mean household size\": {\n",
    "            \"indicatorId\": \"household_size\",\n",
    "            \"childIndicatorId\": null,\n",
    "            \"answerId\": null\n",
    "        },\n",
    "        \"Own a phone\": {\n",
    "            \"indicatorId\": \"own_phone\",\n",
    "            \"childIndicatorId\": null,\n",
    "            \"answerId\": null\n",
    "        },\n",
    "        \"Phone ownership\": {\n",
    "            \"indicatorId\": \"who_phone\",\n",
    "            \"childIndicatorId\": null,\n",
    "            \"answerId\": null\n",
    "        },\n",
    "        \"Independent phone use\": {\n",
    "            \"indicatorId\": \"phone_use\",\n",
    "            \"childIndicatorId\": null,\n",
    "            \"answerId\": null\n",
    "        },\n",
    "        \"Informal financial usage\": {\n",
    "            \"indicatorId\": \"phone_use_financial\",\n",
    "            \"childIndicatorId\": null,\n",
    "            \"answerId\": null\n",
    "        },\n",
    "        \"i2i_Source_of_Income\": {\n",
    "            \"indicatorId\": \"i2i_Income_Sources\",\n",
    "            \"childIndicatorId\": null,\n",
    "            \"answerId\": null\n",
    "        },\n",
    "        \"Water_source_type\":{\n",
    "            \"indicatorId\": \"water_source_type\",\n",
    "            \"childIndicatorId\": null,\n",
    "            \"answerId\": null\n",
    "        },\n",
    "        \"Toilet_type\":{\n",
    "            \"indicatorId\": \"toilet_type\",\n",
    "            \"childIndicatorId\": null,\n",
    "            \"answerId\": null\n",
    "        },\n",
    "        \"Cooking_energy\":{\n",
    "            \"indicatorId\": \"cooking_energy_type\",\n",
    "            \"childIndicatorId\": null,\n",
    "            \"answerId\": null\n",
    "        },\n",
    "        \"Electricity_access\":{\n",
    "            \"indicatorId\": \"electricity_access_type\",\n",
    "            \"childIndicatorId\": null,\n",
    "            \"answerId\": null\n",
    "        },\n",
    "        \"USD_per_day\":{\n",
    "            \"indicatorId\": \"usd_per_day\",\n",
    "            \"childIndicatorId\": null,\n",
    "            \"answerId\": null\n",
    "        },\n",
    "        \"Poverty_line\":{\n",
    "            \"indicatorId\": \"poverty_line\",\n",
    "            \"childIndicatorId\": null,\n",
    "            \"answerId\": null\n",
    "        },\n",
    "        \"$2.50 PPP Poverty line\":{\n",
    "            \"indicatorId\": \"poverty_line\",\n",
    "            \"childIndicatorId\": null,\n",
    "            \"answerId\": null\n",
    "        },\n",
    "        \"Land ownership\":{\n",
    "            \"indicatorId\": \"land_owner\",\n",
    "            \"childIndicatorId\": null,\n",
    "            \"answerId\": null\n",
    "        },\n",
    "        \"Land decision maker\":{\n",
    "            \"indicatorId\": \"land_decission\",\n",
    "            \"childIndicatorId\": null,\n",
    "            \"answerId\": null\n",
    "        },\n",
    "        \"Children decision maker\":{\n",
    "            \"indicatorId\": \"children_decission\",\n",
    "            \"childIndicatorId\": null,\n",
    "            \"answerId\": null\n",
    "        },\n",
    "        \"Earning frequency\":{\n",
    "            \"indicatorId\": \"earning_freq\",\n",
    "            \"childIndicatorId\": null,\n",
    "            \"answerId\": null\n",
    "        },\n",
    "        \"Spending decision maker\":{\n",
    "            \"indicatorId\": \"spending_decission\",\n",
    "            \"childIndicatorId\": null,\n",
    "            \"answerId\": null\n",
    "        },\n",
    "        \"Permission to work\":{\n",
    "            \"indicatorId\": \"permission_work\",\n",
    "            \"childIndicatorId\": null,\n",
    "            \"answerId\": null\n",
    "        },\n",
    "        \"Main income earner\":{\n",
    "            \"indicatorId\": \"main_income_earned\",\n",
    "            \"childIndicatorId\": null,\n",
    "            \"answerId\": null\n",
    "        },\n",
    "        \"Migrant worker identity\":{\n",
    "            \"indicatorId\": \"migrant_work\",\n",
    "            \"childIndicatorId\": null,\n",
    "            \"answerId\": null\n",
    "        },\n",
    "        \"Possibility to raise 1/20 GNI (Gross National Income)\":{\n",
    "            \"indicatorId\": \"raise_gni\",\n",
    "            \"childIndicatorId\": null,\n",
    "            \"answerId\": null\n",
    "        },\n",
    "        \"Income frequency of spouse\":{\n",
    "            \"indicatorId\": \"freq_inconme_spouse\",\n",
    "            \"childIndicatorId\": null,\n",
    "            \"answerId\": null\n",
    "        },\n",
    "        \"Allow spouse to work\":{\n",
    "            \"indicatorId\": \"allow_spouse_work\",\n",
    "            \"childIndicatorId\": null,\n",
    "            \"answerId\": null\n",
    "        },\n",
    "        \"Bank\": {\n",
    "            \"indicatorId\": \"bank\",\n",
    "            \"childIndicatorId\": null,\n",
    "            \"answerId\": 1\n",
    "        },\n",
    "        \"Permission to open bank\": {\n",
    "            \"indicatorId\": \"bank_permission\",\n",
    "            \"childIndicatorId\": null,\n",
    "            \"answerId\": 1\n",
    "        },\n",
    "        \"Money taken from account\": {\n",
    "            \"indicatorId\": \"account_money_taken\",\n",
    "            \"childIndicatorId\": null,\n",
    "            \"answerId\": 1\n",
    "        },\n",
    "        \"Savings goal decision maker\": {\n",
    "            \"indicatorId\": \"saving_goal_deccision\",\n",
    "            \"childIndicatorId\": null,\n",
    "            \"answerId\": 1\n",
    "        },\n",
    "        \"Savings goal influence\": {\n",
    "            \"indicatorId\": \"saving_goal_influence\",\n",
    "            \"childIndicatorId\": null,\n",
    "            \"answerId\": 1\n",
    "        },\n",
    "        \"Banked\": {\n",
    "            \"indicatorId\": \"fas_strand\",\n",
    "            \"childIndicatorId\": null,\n",
    "            \"answerId\": 1\n",
    "        },\n",
    "        \"Other_formal\": {\n",
    "            \"indicatorId\": \"fas_strand\",\n",
    "            \"childIndicatorId\": null,\n",
    "            \"answerId\": 2\n",
    "        },\n",
    "        \"Informal\": {\n",
    "            \"indicatorId\": \"fas_strand\",\n",
    "            \"childIndicatorId\": null,\n",
    "            \"answerId\": 3\n",
    "        },\n",
    "        \"fas_access\": {\n",
    "            \"indicatorId\": \"fas_strand\",\n",
    "            \"childIndicatorId\": null,\n",
    "            \"answerId\": 4\n",
    "        },\n",
    "        \"Saving_B\":{\n",
    "            \"indicatorId\": \"savings_strand\",\n",
    "            \"childIndicatorId\": null,\n",
    "            \"answerId\": 1\n",
    "        },\n",
    "        \"Saving_F\":{\n",
    "            \"indicatorId\": \"savings_strand\",\n",
    "            \"childIndicatorId\": null,\n",
    "            \"answerId\": 2\n",
    "        },\n",
    "        \"Saving_Inf\":{\n",
    "            \"indicatorId\": \"savings_strand\",\n",
    "            \"childIndicatorId\": null,\n",
    "            \"answerId\": 3\n",
    "        },\n",
    "        \"Saving_AH\":{\n",
    "            \"indicatorId\": \"savings_strand\",\n",
    "            \"childIndicatorId\": null,\n",
    "            \"answerId\": 4\n",
    "        },\n",
    "        \"saving_access\":{\n",
    "            \"indicatorId\": \"savings_strand\",\n",
    "            \"childIndicatorId\": null,\n",
    "            \"answerId\": 5\n",
    "        },\n",
    "        \"Remittances_B\":{\n",
    "            \"indicatorId\": \"remittances_strand\",\n",
    "            \"childIndicatorId\": null,\n",
    "            \"answerId\": 1\n",
    "        },\n",
    "        \"Remittances_F\":{\n",
    "            \"indicatorId\": \"remittances_strand\",\n",
    "            \"childIndicatorId\": null,\n",
    "            \"answerId\": 2\n",
    "        },\n",
    "        \"Remittances_Inf\":{\n",
    "            \"indicatorId\": \"remittances_strand\",\n",
    "            \"childIndicatorId\": null,\n",
    "            \"answerId\": 3\n",
    "        },\n",
    "        \"Remittances_FF\":{\n",
    "            \"indicatorId\": \"remittances_strand\",\n",
    "            \"childIndicatorId\": null,\n",
    "            \"answerId\": 4\n",
    "        },\n",
    "        \"remittances_access\":{\n",
    "            \"indicatorId\": \"remittances_strand\",\n",
    "            \"childIndicatorId\": null,\n",
    "            \"answerId\": 5\n",
    "        },\n",
    "        \"Insurance_F\":{\n",
    "            \"indicatorId\": \"insurance_strand\",\n",
    "            \"childIndicatorId\": null,\n",
    "            \"answerId\": 1\n",
    "        },\n",
    "        \"Insurance_Inf\":{\n",
    "            \"indicatorId\": \"insurance_strand\",\n",
    "            \"childIndicatorId\": null,\n",
    "            \"answerId\": 2\n",
    "        },\n",
    "        \"Insurance_B\":{\n",
    "            \"indicatorId\": \"insurance_strand\",\n",
    "            \"childIndicatorId\": null,\n",
    "            \"answerId\": 3\n",
    "        },\n",
    "        \"insurance_access\":{\n",
    "            \"indicatorId\": \"insurance_strand\",\n",
    "            \"childIndicatorId\": null,\n",
    "            \"answerId\": 4\n",
    "        },\n",
    "        \"Credit_B\":{\n",
    "            \"indicatorId\": \"credit_strand\",\n",
    "            \"childIndicatorId\": null,\n",
    "            \"answerId\": 1\n",
    "        },\n",
    "        \"Credit_F\":{\n",
    "            \"indicatorId\": \"credit_strand\",\n",
    "            \"childIndicatorId\": null,\n",
    "            \"answerId\": 2\n",
    "        },\n",
    "        \"Credit_Inf\":{\n",
    "            \"indicatorId\": \"credit_strand\",\n",
    "            \"childIndicatorId\": null,\n",
    "            \"answerId\": 3\n",
    "        },\n",
    "        \"Credit_FF\":{\n",
    "            \"indicatorId\": \"credit_strand\",\n",
    "            \"childIndicatorId\": null,\n",
    "            \"answerId\": 4\n",
    "        },\n",
    "        \"credit_access\":{\n",
    "            \"indicatorId\": \"credit_strand\",\n",
    "            \"childIndicatorId\": null,\n",
    "            \"answerId\": 5\n",
    "        },\n",
    "        \"Weight_Ind\":{\n",
    "            \"indicatorId\": \"weight_ind\",\n",
    "            \"childIndicatorId\": null,\n",
    "            \"answerId\": null\n",
    "        },\n",
    "        \"FAS\":{\n",
    "            \"indicatorId\": \"total_fas_strand\",\n",
    "            \"childIndicatorId\": null,\n",
    "            \"answerId\": 1\n",
    "        },\n",
    "        \"Saving_Strand\":{\n",
    "            \"indicatorId\": \"total_saving_strand\",\n",
    "            \"childIndicatorId\": null,\n",
    "            \"answerId\": 2\n",
    "        },\n",
    "        \"Remittances_Strand\":{\n",
    "            \"indicatorId\": \"total_remittances_strand\",\n",
    "            \"childIndicatorId\": null,\n",
    "            \"answerId\": 3\n",
    "        },\n",
    "        \"Insurance_Strand\":{\n",
    "            \"indicatorId\": \"total_insurance_strand\",\n",
    "            \"childIndicatorId\": null,\n",
    "            \"answerId\": 4\n",
    "        },\n",
    "        \"Credit_Strand\":{\n",
    "            \"indicatorId\": \"total_credit_strand\",\n",
    "            \"childIndicatorId\": null,\n",
    "            \"answerId\": 5\n",
    "        },\n",
    "        \"Mobile_money\":{\n",
    "            \"indicatorId\": \"mobile_money\",\n",
    "            \"childIndicatorId\": null,\n",
    "            \"answerId\": null\n",
    "        },\n",
    "        \"Mobile Money\":{\n",
    "            \"indicatorId\": \"mobile_money\",\n",
    "            \"childIndicatorId\": null,\n",
    "            \"answerId\": null\n",
    "        }\n",
    "    }\n",
    "}\"\"\")"
   ]
  },
  {
   "cell_type": "code",
   "execution_count": 11,
   "metadata": {},
   "outputs": [],
   "source": [
    "def saveData(data, dataOutPath, env='staging', section='mobile'):\n",
    "    \n",
    "    base = {\n",
    "        'staging':'https://staging.i2ifacility.org',\n",
    "        'production':'http://i2i.vizzuality.com'\n",
    "        }\n",
    "    sect = {\n",
    "        'ns':  'api/v1',\n",
    "        'msme':'msme-api/v1',\n",
    "        'mobile': 'ms-api/v2'\n",
    "        }\n",
    "    columnst = list(useJson['indicators'].keys())\n",
    "    columnst.append('finalweight')\n",
    "    AceptedColumns = set(columnst)\n",
    "    calculatePopulation(data)\n",
    "    baseUrl = f'{base[env]}/{sect[section]}'\n",
    "    columns = (AceptedColumns & set(data[0].columns.sort_values(ascending=True).values))\n",
    "    info = {\n",
    "        'iso': data[2][0:3].upper(),\n",
    "        'year': int(data[2][3:]),\n",
    "        'total': sum(data[0]['finalweight']),\n",
    "        'fileUrl': f'{dataOutPath}/{data[2]}.csv',\n",
    "        'jsonUrl': f'{dataOutPath}/{data[2]}.json',\n",
    "        'baseUrl': f'{base[env]}/{sect[section]}/country'\n",
    "        }\n",
    "    info.update({'url': f\"{info['baseUrl']}/{info['iso']}/{info['year']}/dataset\",\n",
    "                 'dataUrl':f\"https://s3-us-west-2.amazonaws.com/i2ifacility.org/{info['iso']}/{sect[section]}/{info['year']}.zip\"\n",
    "                })\n",
    "    #save the data\n",
    "    data[0][list(columns)].to_csv(info['fileUrl'])\n",
    "    #save the key json\n",
    "    outCol = dict((key,value) for key, value in useJson[\"indicators\"].items() if key in columns)\n",
    "    myJson = {\n",
    "        \"weightColumn\": \"finalweight\",\n",
    "        \"indicators\": outCol}\n",
    "    with open(info['jsonUrl'], 'w') as outfile:\n",
    "        json.dump(myJson, outfile)\n",
    "    \n",
    "    return info\n",
    "\n",
    "def upsertCountry(info, auth, op='POST'):\n",
    "    \"\"\"\n",
    "    Recive info as an dict with:\n",
    "    {\n",
    "    iso:\n",
    "    year:\n",
    "    total:\n",
    "    fileUrl:\n",
    "    jsonUrl: \n",
    "    url:\n",
    "    baseUrl:\n",
    "    }\n",
    "    \"\"\"\n",
    "    wanted_keys = ['iso', 'year', 'total', 'dataUrl'] # The keys you want\n",
    "    body = dict((k, info[k]) for k in wanted_keys if k in info)\n",
    "    countryName = pycountry.countries.get(alpha_3=info['iso'])\n",
    "    if not countryName:\n",
    "        raise ValueError(f\"{info['iso']} not a country alpha_3 iso code\")\n",
    "\n",
    "    \n",
    "    body.update({\"name\":countryName.name})\n",
    "    \n",
    "    try:\n",
    "        url= f\"{info['baseUrl']}\" if op == 'POST' else f\"{info['baseUrl']}/{info['iso']}\"\n",
    "        s = requests.request(op, url, auth=auth, json=body)\n",
    "        s.raise_for_status()\n",
    "        print(f'Country {body[\"name\"]} {(\"created\" if op==\"POST\" else \"updated\")} succesfully')\n",
    "    except requests.exceptions.HTTPError as e:\n",
    "        if e.response.status_code == 400:\n",
    "            s = upsertCountry(info, auth,  op='PATCH')\n",
    "        else:\n",
    "            print(e.response.text)\n",
    "    return s\n",
    "    \n",
    "def uploadDataFunction(info, auth):\n",
    "    \"\"\"\n",
    "    Recive info as an dict with:\n",
    "    {\n",
    "    iso:\n",
    "    year:\n",
    "    fileUrl:\n",
    "    jsonUrl: \n",
    "    url:\n",
    "    baseUrl:\n",
    "    }\n",
    "    \"\"\" \n",
    "    files1 = {'json': open(info[\"jsonUrl\"], 'rb'), 'csv': open(info[\"fileUrl\"], 'rb')}\n",
    "    r = requests.post(info[\"url\"], auth=auth, files=files1)\n",
    "    return r.json()\n"
   ]
  },
  {
   "cell_type": "markdown",
   "metadata": {},
   "source": [
    "### FULL PIPELINE"
   ]
  },
  {
   "cell_type": "code",
   "execution_count": 12,
   "metadata": {},
   "outputs": [
    {
     "name": "stdout",
     "output_type": "stream",
     "text": [
      "User: ········\n",
      "Password: ········\n"
     ]
    }
   ],
   "source": [
    "### Requirements that need to be set:\n",
    "basePath = '/home/jovyan/work/datasets/i2i'\n",
    "OutPath = f'{basePath}/newDatav7/out'\n",
    "InPath = f'{basePath}/newDatav7'\n",
    "DatasetList = [\n",
    "    [f'{InPath}/200303 Kenya CAPI weighted outputs label update.csv', 'ken', '2020']\n",
    "    #[f'{InPath}/FS_MSME Swaziland_Shortened_Version_13Sept19 final .xlsx', 'swz', '2020'],\n",
    "    #[f'{InPath}/FS Myanmar 2018 Final Data Set Shortened 13Sep19 final.xlsx', 'mmr', '2020']\n",
    "    ]\n",
    "\n",
    "## 'vizzuality', '<check Last Pass>'\n",
    "user = getpass.getpass(prompt='User: ')\n",
    "password = getpass.getpass(prompt='Password: ')\n",
    "auth =requests.auth.HTTPBasicAuth(user, password)"
   ]
  },
  {
   "cell_type": "code",
   "execution_count": 16,
   "metadata": {},
   "outputs": [],
   "source": [
    "# if new indicators don't forget to add them here too\n",
    "useJson_t =json.loads(\"\"\"\n",
    "{\n",
    "    \"geographic_area\": \"Geographic Area\",\n",
    "    \"gender\": \"Gender\",\n",
    "    \"age\": \"Age\",\n",
    "    \"access_to_resources\": \"Access to Resources\",\n",
    "    \"dwelling_type\": \"Dwelling type: roof/dwelling\",\n",
    "    \"i2i_Marital_Status\": \"Marital Status\",\n",
    "    \"i2i_Education\": \"Level of education\",\n",
    "    \"i2i_Income_Sources\": \"Sources of income\",\n",
    "    \"toilet_type\": \"Sanitation type\",\n",
    "    \"cooking_energy_type\": \"Cooking energy source\",\n",
    "    \"electricity_access_type\": \"Electricity access\",\n",
    "    \"usd_per_day\": \"USD per day\",\n",
    "    \"poverty_line\": \"Poverty line\",\n",
    "    \"mobile_money\": \"Mobile Money\",\n",
    "    \"water_source_type\": \"Water source type\",\n",
    "    \"english_literacy\": \"English literacy\",\n",
    "    \"interview_lan\": \"Language of interview\",\n",
    "    \"own_phone\": \"Own a phone\",\n",
    "    \"who_phone\": \"Phone ownership\",\n",
    "    \"phone_use\": \"Independent phone use\",\n",
    "  \"phone_use_financial\": \"Informal financial usage\",\n",
    "    \"main_lan\": \"Main language\",\n",
    "    \"household_size\": \"Mean household size\",\n",
    "  \"mobile_money\":\"Mobile Money\",\n",
    "  \"bank\":\"Bank\",\n",
    "  \"bank_permission\":\"Permission to open bank\",\n",
    "  \"account_money_taken\":\"Money taken from account\",\n",
    "  \"saving_goal_deccision\":\"Savings goal decision maker\",\n",
    "  \"saving_goal_influence\":\"Savings goal influence\",\n",
    "  \"land_owner\":\"Land ownership\",\n",
    "  \"land_decission\":\"Land decision maker\",\n",
    "  \"children_decission\":\"Children decision maker\",\n",
    "  \"earning_freq\":\"Earning frequency\",\n",
    "  \"spending_decission\":\"Spending decision maker\",\n",
    "  \"permission_work\":\"Permission to work\",\n",
    "  \"main_income_earned\":\"Main income earner\",\n",
    "  \"migrant_work\":\"Migrant worker identity\",\n",
    "  \"raise_gni\":\"Possibility to raise 1/20 GNI (Gross National Income)\",\n",
    "  \"freq_inconme_spouse\":\"Income frequency of spouse\",\n",
    "  \"allow_spouse_work\":\"Allow spouse to work\"\n",
    "}\n",
    " \"\"\")\n",
    "with open(f'{OutPath}/indicators.json', 'w') as outfile:\n",
    "    json.dump(useJson_t, outfile, sort_keys=True, indent=4)"
   ]
  },
  {
   "cell_type": "code",
   "execution_count": 13,
   "metadata": {
    "scrolled": false
   },
   "outputs": [
    {
     "data": {
      "text/markdown": [
       "## ken2020"
      ],
      "text/plain": [
       "<IPython.core.display.Markdown object>"
      ]
     },
     "metadata": {},
     "output_type": "display_data"
    },
    {
     "data": {
      "text/html": [
       "<div>\n",
       "<style scoped>\n",
       "    .dataframe tbody tr th:only-of-type {\n",
       "        vertical-align: middle;\n",
       "    }\n",
       "\n",
       "    .dataframe tbody tr th {\n",
       "        vertical-align: top;\n",
       "    }\n",
       "\n",
       "    .dataframe thead th {\n",
       "        text-align: right;\n",
       "    }\n",
       "</style>\n",
       "<table border=\"1\" class=\"dataframe\">\n",
       "  <thead>\n",
       "    <tr style=\"text-align: right;\">\n",
       "      <th></th>\n",
       "      <th>InstanceID</th>\n",
       "      <th>finalweight</th>\n",
       "      <th>Gender</th>\n",
       "      <th>Relationship status</th>\n",
       "      <th>Urbanicity</th>\n",
       "      <th>Age Group</th>\n",
       "      <th>Education</th>\n",
       "      <th>English literacy</th>\n",
       "      <th>Own a phone</th>\n",
       "      <th>$2.50 PPP Poverty line</th>\n",
       "      <th>Language of interview</th>\n",
       "      <th>Main language</th>\n",
       "      <th>Mean household size</th>\n",
       "      <th>Region</th>\n",
       "      <th>Province</th>\n",
       "      <th>Phone ownership</th>\n",
       "      <th>Independent phone use</th>\n",
       "      <th>Informal financial usage</th>\n",
       "      <th>Mobile Money</th>\n",
       "      <th>Bank</th>\n",
       "      <th>Permission to open bank</th>\n",
       "      <th>Money taken from account</th>\n",
       "      <th>Savings goal decision maker</th>\n",
       "      <th>Savings goal influence</th>\n",
       "      <th>Land ownership</th>\n",
       "      <th>Land decision maker</th>\n",
       "      <th>Children decision maker</th>\n",
       "      <th>Earning frequency</th>\n",
       "      <th>Spending decision maker</th>\n",
       "      <th>Permission to work</th>\n",
       "      <th>Main income earner</th>\n",
       "      <th>Migrant worker identity</th>\n",
       "      <th>Possibility to raise 1/20 GNI (Gross National Income)</th>\n",
       "      <th>Income frequency of spouse</th>\n",
       "      <th>Allow spouse to work,,</th>\n",
       "    </tr>\n",
       "  </thead>\n",
       "  <tbody>\n",
       "    <tr>\n",
       "      <th>0</th>\n",
       "      <td>770458</td>\n",
       "      <td>10776.661459</td>\n",
       "      <td>Male</td>\n",
       "      <td>Married/relationship</td>\n",
       "      <td>Urban</td>\n",
       "      <td>25-34</td>\n",
       "      <td>Secondary education</td>\n",
       "      <td>Fair</td>\n",
       "      <td>own phone</td>\n",
       "      <td>Above poverty line</td>\n",
       "      <td>English</td>\n",
       "      <td>Swahili</td>\n",
       "      <td>Below mean size</td>\n",
       "      <td>Nairobi</td>\n",
       "      <td>Nairobi</td>\n",
       "      <td>own phone/business/employer</td>\n",
       "      <td>Yes</td>\n",
       "      <td>no</td>\n",
       "      <td>own</td>\n",
       "      <td>unbanked</td>\n",
       "      <td>no</td>\n",
       "      <td>money not taken</td>\n",
       "      <td>spouse/family/others on behalf</td>\n",
       "      <td>sometimes accepted/rejected</td>\n",
       "      <td>dont own</td>\n",
       "      <td></td>\n",
       "      <td>decide together</td>\n",
       "      <td>Daily</td>\n",
       "      <td>Help from someone else</td>\n",
       "      <td>Already working</td>\n",
       "      <td>respondent</td>\n",
       "      <td>No-one, all live together</td>\n",
       "      <td>Not very possible</td>\n",
       "      <td>dont work</td>\n",
       "      <td>Yes</td>\n",
       "    </tr>\n",
       "    <tr>\n",
       "      <th>1</th>\n",
       "      <td>770459</td>\n",
       "      <td>9983.318465</td>\n",
       "      <td>Female</td>\n",
       "      <td>Married/relationship</td>\n",
       "      <td>Urban</td>\n",
       "      <td>25-34</td>\n",
       "      <td>Primary education</td>\n",
       "      <td>Good</td>\n",
       "      <td>own phone</td>\n",
       "      <td>Above poverty line</td>\n",
       "      <td>Swahili</td>\n",
       "      <td>Swahili</td>\n",
       "      <td>Below mean size</td>\n",
       "      <td>Nairobi</td>\n",
       "      <td>Nairobi</td>\n",
       "      <td>own phone/business/employer</td>\n",
       "      <td>Yes</td>\n",
       "      <td>no</td>\n",
       "      <td>own</td>\n",
       "      <td>unbanked</td>\n",
       "      <td>no</td>\n",
       "      <td>money not taken</td>\n",
       "      <td>self alone</td>\n",
       "      <td>sometimes accepted/rejected</td>\n",
       "      <td>own by self</td>\n",
       "      <td>Family/friends without me</td>\n",
       "      <td>decide together</td>\n",
       "      <td>Weekly/biweekly</td>\n",
       "      <td>Help from someone else</td>\n",
       "      <td>Already working</td>\n",
       "      <td>spouse</td>\n",
       "      <td>No-one, all live together</td>\n",
       "      <td>Not at all possible</td>\n",
       "      <td>Monthly</td>\n",
       "      <td>Spouse already works for money</td>\n",
       "    </tr>\n",
       "  </tbody>\n",
       "</table>\n",
       "</div>"
      ],
      "text/plain": [
       "   InstanceID   finalweight  Gender   Relationship status Urbanicity  \\\n",
       "0      770458  10776.661459    Male  Married/relationship      Urban   \n",
       "1      770459   9983.318465  Female  Married/relationship      Urban   \n",
       "\n",
       "  Age Group            Education English literacy Own a phone  \\\n",
       "0     25-34  Secondary education             Fair   own phone   \n",
       "1     25-34    Primary education             Good   own phone   \n",
       "\n",
       "  $2.50 PPP Poverty line Language of interview Main language  \\\n",
       "0     Above poverty line               English       Swahili   \n",
       "1     Above poverty line               Swahili       Swahili   \n",
       "\n",
       "  Mean household size   Region Province              Phone ownership  \\\n",
       "0     Below mean size  Nairobi  Nairobi  own phone/business/employer   \n",
       "1     Below mean size  Nairobi  Nairobi  own phone/business/employer   \n",
       "\n",
       "  Independent phone use Informal financial usage Mobile Money      Bank  \\\n",
       "0                   Yes                       no          own  unbanked   \n",
       "1                   Yes                       no          own  unbanked   \n",
       "\n",
       "  Permission to open bank Money taken from account  \\\n",
       "0                      no          money not taken   \n",
       "1                      no          money not taken   \n",
       "\n",
       "      Savings goal decision maker       Savings goal influence Land ownership  \\\n",
       "0  spouse/family/others on behalf  sometimes accepted/rejected       dont own   \n",
       "1                      self alone  sometimes accepted/rejected    own by self   \n",
       "\n",
       "         Land decision maker Children decision maker Earning frequency  \\\n",
       "0                                    decide together             Daily   \n",
       "1  Family/friends without me         decide together   Weekly/biweekly   \n",
       "\n",
       "  Spending decision maker Permission to work Main income earner  \\\n",
       "0  Help from someone else    Already working         respondent   \n",
       "1  Help from someone else    Already working             spouse   \n",
       "\n",
       "     Migrant worker identity  \\\n",
       "0  No-one, all live together   \n",
       "1  No-one, all live together   \n",
       "\n",
       "  Possibility to raise 1/20 GNI (Gross National Income)  \\\n",
       "0                                  Not very possible      \n",
       "1                                Not at all possible      \n",
       "\n",
       "  Income frequency of spouse          Allow spouse to work,,  \n",
       "0                  dont work                             Yes  \n",
       "1                    Monthly  Spouse already works for money  "
      ]
     },
     "metadata": {},
     "output_type": "display_data"
    },
    {
     "data": {
      "text/html": [
       "<div>\n",
       "<style scoped>\n",
       "    .dataframe tbody tr th:only-of-type {\n",
       "        vertical-align: middle;\n",
       "    }\n",
       "\n",
       "    .dataframe tbody tr th {\n",
       "        vertical-align: top;\n",
       "    }\n",
       "\n",
       "    .dataframe thead th {\n",
       "        text-align: right;\n",
       "    }\n",
       "</style>\n",
       "<table border=\"1\" class=\"dataframe\">\n",
       "  <thead>\n",
       "    <tr style=\"text-align: right;\">\n",
       "      <th></th>\n",
       "      <th>count</th>\n",
       "      <th>unique</th>\n",
       "      <th>top</th>\n",
       "      <th>freq</th>\n",
       "      <th>mean</th>\n",
       "      <th>std</th>\n",
       "      <th>min</th>\n",
       "      <th>25%</th>\n",
       "      <th>50%</th>\n",
       "      <th>75%</th>\n",
       "      <th>max</th>\n",
       "    </tr>\n",
       "  </thead>\n",
       "  <tbody>\n",
       "    <tr>\n",
       "      <th>InstanceID</th>\n",
       "      <td>3000</td>\n",
       "      <td>NaN</td>\n",
       "      <td>NaN</td>\n",
       "      <td>NaN</td>\n",
       "      <td>775220</td>\n",
       "      <td>2804.73</td>\n",
       "      <td>770458</td>\n",
       "      <td>773092</td>\n",
       "      <td>774944</td>\n",
       "      <td>777020</td>\n",
       "      <td>788781</td>\n",
       "    </tr>\n",
       "    <tr>\n",
       "      <th>finalweight</th>\n",
       "      <td>3000</td>\n",
       "      <td>NaN</td>\n",
       "      <td>NaN</td>\n",
       "      <td>NaN</td>\n",
       "      <td>7323.37</td>\n",
       "      <td>6821.96</td>\n",
       "      <td>119.348</td>\n",
       "      <td>3513.72</td>\n",
       "      <td>6031.08</td>\n",
       "      <td>8937.02</td>\n",
       "      <td>91545.8</td>\n",
       "    </tr>\n",
       "    <tr>\n",
       "      <th>Gender</th>\n",
       "      <td>3000</td>\n",
       "      <td>2</td>\n",
       "      <td>Female</td>\n",
       "      <td>1731</td>\n",
       "      <td>NaN</td>\n",
       "      <td>NaN</td>\n",
       "      <td>NaN</td>\n",
       "      <td>NaN</td>\n",
       "      <td>NaN</td>\n",
       "      <td>NaN</td>\n",
       "      <td>NaN</td>\n",
       "    </tr>\n",
       "    <tr>\n",
       "      <th>Relationship status</th>\n",
       "      <td>3000</td>\n",
       "      <td>2</td>\n",
       "      <td>Married/relationship</td>\n",
       "      <td>2101</td>\n",
       "      <td>NaN</td>\n",
       "      <td>NaN</td>\n",
       "      <td>NaN</td>\n",
       "      <td>NaN</td>\n",
       "      <td>NaN</td>\n",
       "      <td>NaN</td>\n",
       "      <td>NaN</td>\n",
       "    </tr>\n",
       "    <tr>\n",
       "      <th>Urbanicity</th>\n",
       "      <td>3000</td>\n",
       "      <td>2</td>\n",
       "      <td>Rural</td>\n",
       "      <td>1920</td>\n",
       "      <td>NaN</td>\n",
       "      <td>NaN</td>\n",
       "      <td>NaN</td>\n",
       "      <td>NaN</td>\n",
       "      <td>NaN</td>\n",
       "      <td>NaN</td>\n",
       "      <td>NaN</td>\n",
       "    </tr>\n",
       "    <tr>\n",
       "      <th>Age Group</th>\n",
       "      <td>3000</td>\n",
       "      <td>5</td>\n",
       "      <td>25-34</td>\n",
       "      <td>1021</td>\n",
       "      <td>NaN</td>\n",
       "      <td>NaN</td>\n",
       "      <td>NaN</td>\n",
       "      <td>NaN</td>\n",
       "      <td>NaN</td>\n",
       "      <td>NaN</td>\n",
       "      <td>NaN</td>\n",
       "    </tr>\n",
       "    <tr>\n",
       "      <th>Education</th>\n",
       "      <td>3000</td>\n",
       "      <td>5</td>\n",
       "      <td>Secondary education</td>\n",
       "      <td>1182</td>\n",
       "      <td>NaN</td>\n",
       "      <td>NaN</td>\n",
       "      <td>NaN</td>\n",
       "      <td>NaN</td>\n",
       "      <td>NaN</td>\n",
       "      <td>NaN</td>\n",
       "      <td>NaN</td>\n",
       "    </tr>\n",
       "    <tr>\n",
       "      <th>English literacy</th>\n",
       "      <td>3000</td>\n",
       "      <td>5</td>\n",
       "      <td>Good</td>\n",
       "      <td>971</td>\n",
       "      <td>NaN</td>\n",
       "      <td>NaN</td>\n",
       "      <td>NaN</td>\n",
       "      <td>NaN</td>\n",
       "      <td>NaN</td>\n",
       "      <td>NaN</td>\n",
       "      <td>NaN</td>\n",
       "    </tr>\n",
       "    <tr>\n",
       "      <th>Own a phone</th>\n",
       "      <td>3000</td>\n",
       "      <td>2</td>\n",
       "      <td>own phone</td>\n",
       "      <td>2670</td>\n",
       "      <td>NaN</td>\n",
       "      <td>NaN</td>\n",
       "      <td>NaN</td>\n",
       "      <td>NaN</td>\n",
       "      <td>NaN</td>\n",
       "      <td>NaN</td>\n",
       "      <td>NaN</td>\n",
       "    </tr>\n",
       "    <tr>\n",
       "      <th>$2.50 PPP Poverty line</th>\n",
       "      <td>3000</td>\n",
       "      <td>2</td>\n",
       "      <td>Above poverty line</td>\n",
       "      <td>1502</td>\n",
       "      <td>NaN</td>\n",
       "      <td>NaN</td>\n",
       "      <td>NaN</td>\n",
       "      <td>NaN</td>\n",
       "      <td>NaN</td>\n",
       "      <td>NaN</td>\n",
       "      <td>NaN</td>\n",
       "    </tr>\n",
       "    <tr>\n",
       "      <th>Language of interview</th>\n",
       "      <td>3000</td>\n",
       "      <td>10</td>\n",
       "      <td>English</td>\n",
       "      <td>1495</td>\n",
       "      <td>NaN</td>\n",
       "      <td>NaN</td>\n",
       "      <td>NaN</td>\n",
       "      <td>NaN</td>\n",
       "      <td>NaN</td>\n",
       "      <td>NaN</td>\n",
       "      <td>NaN</td>\n",
       "    </tr>\n",
       "    <tr>\n",
       "      <th>Main language</th>\n",
       "      <td>3000</td>\n",
       "      <td>27</td>\n",
       "      <td>Swahili</td>\n",
       "      <td>1171</td>\n",
       "      <td>NaN</td>\n",
       "      <td>NaN</td>\n",
       "      <td>NaN</td>\n",
       "      <td>NaN</td>\n",
       "      <td>NaN</td>\n",
       "      <td>NaN</td>\n",
       "      <td>NaN</td>\n",
       "    </tr>\n",
       "    <tr>\n",
       "      <th>Mean household size</th>\n",
       "      <td>3000</td>\n",
       "      <td>3</td>\n",
       "      <td>Below mean size</td>\n",
       "      <td>1241</td>\n",
       "      <td>NaN</td>\n",
       "      <td>NaN</td>\n",
       "      <td>NaN</td>\n",
       "      <td>NaN</td>\n",
       "      <td>NaN</td>\n",
       "      <td>NaN</td>\n",
       "      <td>NaN</td>\n",
       "    </tr>\n",
       "    <tr>\n",
       "      <th>Region</th>\n",
       "      <td>3000</td>\n",
       "      <td>8</td>\n",
       "      <td>Rift Valley</td>\n",
       "      <td>700</td>\n",
       "      <td>NaN</td>\n",
       "      <td>NaN</td>\n",
       "      <td>NaN</td>\n",
       "      <td>NaN</td>\n",
       "      <td>NaN</td>\n",
       "      <td>NaN</td>\n",
       "      <td>NaN</td>\n",
       "    </tr>\n",
       "    <tr>\n",
       "      <th>Province</th>\n",
       "      <td>3000</td>\n",
       "      <td>9</td>\n",
       "      <td>Rift Valley</td>\n",
       "      <td>700</td>\n",
       "      <td>NaN</td>\n",
       "      <td>NaN</td>\n",
       "      <td>NaN</td>\n",
       "      <td>NaN</td>\n",
       "      <td>NaN</td>\n",
       "      <td>NaN</td>\n",
       "      <td>NaN</td>\n",
       "    </tr>\n",
       "    <tr>\n",
       "      <th>Phone ownership</th>\n",
       "      <td>3000</td>\n",
       "      <td>7</td>\n",
       "      <td>own phone/business/employer</td>\n",
       "      <td>2670</td>\n",
       "      <td>NaN</td>\n",
       "      <td>NaN</td>\n",
       "      <td>NaN</td>\n",
       "      <td>NaN</td>\n",
       "      <td>NaN</td>\n",
       "      <td>NaN</td>\n",
       "      <td>NaN</td>\n",
       "    </tr>\n",
       "    <tr>\n",
       "      <th>Independent phone use</th>\n",
       "      <td>3000</td>\n",
       "      <td>4</td>\n",
       "      <td>Yes</td>\n",
       "      <td>2588</td>\n",
       "      <td>NaN</td>\n",
       "      <td>NaN</td>\n",
       "      <td>NaN</td>\n",
       "      <td>NaN</td>\n",
       "      <td>NaN</td>\n",
       "      <td>NaN</td>\n",
       "      <td>NaN</td>\n",
       "    </tr>\n",
       "    <tr>\n",
       "      <th>Informal financial usage</th>\n",
       "      <td>3000</td>\n",
       "      <td>2</td>\n",
       "      <td>no</td>\n",
       "      <td>2015</td>\n",
       "      <td>NaN</td>\n",
       "      <td>NaN</td>\n",
       "      <td>NaN</td>\n",
       "      <td>NaN</td>\n",
       "      <td>NaN</td>\n",
       "      <td>NaN</td>\n",
       "      <td>NaN</td>\n",
       "    </tr>\n",
       "    <tr>\n",
       "      <th>Mobile Money</th>\n",
       "      <td>3000</td>\n",
       "      <td>4</td>\n",
       "      <td>own</td>\n",
       "      <td>2561</td>\n",
       "      <td>NaN</td>\n",
       "      <td>NaN</td>\n",
       "      <td>NaN</td>\n",
       "      <td>NaN</td>\n",
       "      <td>NaN</td>\n",
       "      <td>NaN</td>\n",
       "      <td>NaN</td>\n",
       "    </tr>\n",
       "    <tr>\n",
       "      <th>Bank</th>\n",
       "      <td>3000</td>\n",
       "      <td>5</td>\n",
       "      <td>unbanked</td>\n",
       "      <td>1641</td>\n",
       "      <td>NaN</td>\n",
       "      <td>NaN</td>\n",
       "      <td>NaN</td>\n",
       "      <td>NaN</td>\n",
       "      <td>NaN</td>\n",
       "      <td>NaN</td>\n",
       "      <td>NaN</td>\n",
       "    </tr>\n",
       "    <tr>\n",
       "      <th>Permission to open bank</th>\n",
       "      <td>3000</td>\n",
       "      <td>2</td>\n",
       "      <td>no</td>\n",
       "      <td>2370</td>\n",
       "      <td>NaN</td>\n",
       "      <td>NaN</td>\n",
       "      <td>NaN</td>\n",
       "      <td>NaN</td>\n",
       "      <td>NaN</td>\n",
       "      <td>NaN</td>\n",
       "      <td>NaN</td>\n",
       "    </tr>\n",
       "    <tr>\n",
       "      <th>Money taken from account</th>\n",
       "      <td>3000</td>\n",
       "      <td>3</td>\n",
       "      <td>money not taken</td>\n",
       "      <td>2701</td>\n",
       "      <td>NaN</td>\n",
       "      <td>NaN</td>\n",
       "      <td>NaN</td>\n",
       "      <td>NaN</td>\n",
       "      <td>NaN</td>\n",
       "      <td>NaN</td>\n",
       "      <td>NaN</td>\n",
       "    </tr>\n",
       "    <tr>\n",
       "      <th>Savings goal decision maker</th>\n",
       "      <td>3000</td>\n",
       "      <td>4</td>\n",
       "      <td>self alone</td>\n",
       "      <td>2020</td>\n",
       "      <td>NaN</td>\n",
       "      <td>NaN</td>\n",
       "      <td>NaN</td>\n",
       "      <td>NaN</td>\n",
       "      <td>NaN</td>\n",
       "      <td>NaN</td>\n",
       "      <td>NaN</td>\n",
       "    </tr>\n",
       "    <tr>\n",
       "      <th>Savings goal influence</th>\n",
       "      <td>3000</td>\n",
       "      <td>5</td>\n",
       "      <td>sometimes accepted/rejected</td>\n",
       "      <td>1013</td>\n",
       "      <td>NaN</td>\n",
       "      <td>NaN</td>\n",
       "      <td>NaN</td>\n",
       "      <td>NaN</td>\n",
       "      <td>NaN</td>\n",
       "      <td>NaN</td>\n",
       "      <td>NaN</td>\n",
       "    </tr>\n",
       "    <tr>\n",
       "      <th>Land ownership</th>\n",
       "      <td>3000</td>\n",
       "      <td>3</td>\n",
       "      <td>dont own</td>\n",
       "      <td>1459</td>\n",
       "      <td>NaN</td>\n",
       "      <td>NaN</td>\n",
       "      <td>NaN</td>\n",
       "      <td>NaN</td>\n",
       "      <td>NaN</td>\n",
       "      <td>NaN</td>\n",
       "      <td>NaN</td>\n",
       "    </tr>\n",
       "    <tr>\n",
       "      <th>Land decision maker</th>\n",
       "      <td>3000</td>\n",
       "      <td>4</td>\n",
       "      <td></td>\n",
       "      <td>1459</td>\n",
       "      <td>NaN</td>\n",
       "      <td>NaN</td>\n",
       "      <td>NaN</td>\n",
       "      <td>NaN</td>\n",
       "      <td>NaN</td>\n",
       "      <td>NaN</td>\n",
       "      <td>NaN</td>\n",
       "    </tr>\n",
       "    <tr>\n",
       "      <th>Children decision maker</th>\n",
       "      <td>3000</td>\n",
       "      <td>5</td>\n",
       "      <td>decide together</td>\n",
       "      <td>1107</td>\n",
       "      <td>NaN</td>\n",
       "      <td>NaN</td>\n",
       "      <td>NaN</td>\n",
       "      <td>NaN</td>\n",
       "      <td>NaN</td>\n",
       "      <td>NaN</td>\n",
       "      <td>NaN</td>\n",
       "    </tr>\n",
       "    <tr>\n",
       "      <th>Earning frequency</th>\n",
       "      <td>3000</td>\n",
       "      <td>6</td>\n",
       "      <td>I dont work</td>\n",
       "      <td>783</td>\n",
       "      <td>NaN</td>\n",
       "      <td>NaN</td>\n",
       "      <td>NaN</td>\n",
       "      <td>NaN</td>\n",
       "      <td>NaN</td>\n",
       "      <td>NaN</td>\n",
       "      <td>NaN</td>\n",
       "    </tr>\n",
       "    <tr>\n",
       "      <th>Spending decision maker</th>\n",
       "      <td>3000</td>\n",
       "      <td>3</td>\n",
       "      <td>Fully on own</td>\n",
       "      <td>2325</td>\n",
       "      <td>NaN</td>\n",
       "      <td>NaN</td>\n",
       "      <td>NaN</td>\n",
       "      <td>NaN</td>\n",
       "      <td>NaN</td>\n",
       "      <td>NaN</td>\n",
       "      <td>NaN</td>\n",
       "    </tr>\n",
       "    <tr>\n",
       "      <th>Permission to work</th>\n",
       "      <td>3000</td>\n",
       "      <td>3</td>\n",
       "      <td>Already working</td>\n",
       "      <td>2162</td>\n",
       "      <td>NaN</td>\n",
       "      <td>NaN</td>\n",
       "      <td>NaN</td>\n",
       "      <td>NaN</td>\n",
       "      <td>NaN</td>\n",
       "      <td>NaN</td>\n",
       "      <td>NaN</td>\n",
       "    </tr>\n",
       "    <tr>\n",
       "      <th>Main income earner</th>\n",
       "      <td>3000</td>\n",
       "      <td>7</td>\n",
       "      <td>respondent</td>\n",
       "      <td>1327</td>\n",
       "      <td>NaN</td>\n",
       "      <td>NaN</td>\n",
       "      <td>NaN</td>\n",
       "      <td>NaN</td>\n",
       "      <td>NaN</td>\n",
       "      <td>NaN</td>\n",
       "      <td>NaN</td>\n",
       "    </tr>\n",
       "    <tr>\n",
       "      <th>Migrant worker identity</th>\n",
       "      <td>3000</td>\n",
       "      <td>4</td>\n",
       "      <td>No-one, all live together</td>\n",
       "      <td>2005</td>\n",
       "      <td>NaN</td>\n",
       "      <td>NaN</td>\n",
       "      <td>NaN</td>\n",
       "      <td>NaN</td>\n",
       "      <td>NaN</td>\n",
       "      <td>NaN</td>\n",
       "      <td>NaN</td>\n",
       "    </tr>\n",
       "    <tr>\n",
       "      <th>Possibility to raise 1/20 GNI (Gross National Income)</th>\n",
       "      <td>3000</td>\n",
       "      <td>4</td>\n",
       "      <td>Not at all possible</td>\n",
       "      <td>1095</td>\n",
       "      <td>NaN</td>\n",
       "      <td>NaN</td>\n",
       "      <td>NaN</td>\n",
       "      <td>NaN</td>\n",
       "      <td>NaN</td>\n",
       "      <td>NaN</td>\n",
       "      <td>NaN</td>\n",
       "    </tr>\n",
       "    <tr>\n",
       "      <th>Income frequency of spouse</th>\n",
       "      <td>3000</td>\n",
       "      <td>8</td>\n",
       "      <td>no spouse</td>\n",
       "      <td>899</td>\n",
       "      <td>NaN</td>\n",
       "      <td>NaN</td>\n",
       "      <td>NaN</td>\n",
       "      <td>NaN</td>\n",
       "      <td>NaN</td>\n",
       "      <td>NaN</td>\n",
       "      <td>NaN</td>\n",
       "    </tr>\n",
       "    <tr>\n",
       "      <th>Allow spouse to work,,</th>\n",
       "      <td>3000</td>\n",
       "      <td>8</td>\n",
       "      <td>Spouse already works for money</td>\n",
       "      <td>1102</td>\n",
       "      <td>NaN</td>\n",
       "      <td>NaN</td>\n",
       "      <td>NaN</td>\n",
       "      <td>NaN</td>\n",
       "      <td>NaN</td>\n",
       "      <td>NaN</td>\n",
       "      <td>NaN</td>\n",
       "    </tr>\n",
       "  </tbody>\n",
       "</table>\n",
       "</div>"
      ],
      "text/plain": [
       "                                                   count unique  \\\n",
       "InstanceID                                          3000    NaN   \n",
       "finalweight                                         3000    NaN   \n",
       "Gender                                              3000      2   \n",
       "Relationship status                                 3000      2   \n",
       "Urbanicity                                          3000      2   \n",
       "Age Group                                           3000      5   \n",
       "Education                                           3000      5   \n",
       "English literacy                                    3000      5   \n",
       "Own a phone                                         3000      2   \n",
       "$2.50 PPP Poverty line                              3000      2   \n",
       "Language of interview                               3000     10   \n",
       "Main language                                       3000     27   \n",
       "Mean household size                                 3000      3   \n",
       "Region                                              3000      8   \n",
       "Province                                            3000      9   \n",
       " Phone ownership                                    3000      7   \n",
       "Independent phone use                               3000      4   \n",
       "Informal financial usage                            3000      2   \n",
       "Mobile Money                                        3000      4   \n",
       "Bank                                                3000      5   \n",
       "Permission to open bank                             3000      2   \n",
       "Money taken from account                            3000      3   \n",
       "Savings goal decision maker                         3000      4   \n",
       "Savings goal influence                              3000      5   \n",
       "Land ownership                                      3000      3   \n",
       "Land decision maker                                 3000      4   \n",
       "Children decision maker                             3000      5   \n",
       "Earning frequency                                   3000      6   \n",
       "Spending decision maker                             3000      3   \n",
       "Permission to work                                  3000      3   \n",
       "Main income earner                                  3000      7   \n",
       "Migrant worker identity                             3000      4   \n",
       "Possibility to raise 1/20 GNI (Gross National I...  3000      4   \n",
       "Income frequency of spouse                          3000      8   \n",
       "Allow spouse to work,,                              3000      8   \n",
       "\n",
       "                                                                               top  \\\n",
       "InstanceID                                                                     NaN   \n",
       "finalweight                                                                    NaN   \n",
       "Gender                                                                      Female   \n",
       "Relationship status                                           Married/relationship   \n",
       "Urbanicity                                                                   Rural   \n",
       "Age Group                                                                    25-34   \n",
       "Education                                                      Secondary education   \n",
       "English literacy                                                              Good   \n",
       "Own a phone                                                              own phone   \n",
       "$2.50 PPP Poverty line                                          Above poverty line   \n",
       "Language of interview                                                      English   \n",
       "Main language                                                              Swahili   \n",
       "Mean household size                                                Below mean size   \n",
       "Region                                                                 Rift Valley   \n",
       "Province                                                               Rift Valley   \n",
       " Phone ownership                                       own phone/business/employer   \n",
       "Independent phone use                                                          Yes   \n",
       "Informal financial usage                                                        no   \n",
       "Mobile Money                                                                   own   \n",
       "Bank                                                                      unbanked   \n",
       "Permission to open bank                                                         no   \n",
       "Money taken from account                                           money not taken   \n",
       "Savings goal decision maker                                             self alone   \n",
       "Savings goal influence                                 sometimes accepted/rejected   \n",
       "Land ownership                                                            dont own   \n",
       "Land decision maker                                                                  \n",
       "Children decision maker                                            decide together   \n",
       "Earning frequency                                                      I dont work   \n",
       "Spending decision maker                                               Fully on own   \n",
       "Permission to work                                                 Already working   \n",
       "Main income earner                                                      respondent   \n",
       "Migrant worker identity                                  No-one, all live together   \n",
       "Possibility to raise 1/20 GNI (Gross National I...             Not at all possible   \n",
       "Income frequency of spouse                                               no spouse   \n",
       "Allow spouse to work,,                              Spouse already works for money   \n",
       "\n",
       "                                                    freq     mean      std  \\\n",
       "InstanceID                                           NaN   775220  2804.73   \n",
       "finalweight                                          NaN  7323.37  6821.96   \n",
       "Gender                                              1731      NaN      NaN   \n",
       "Relationship status                                 2101      NaN      NaN   \n",
       "Urbanicity                                          1920      NaN      NaN   \n",
       "Age Group                                           1021      NaN      NaN   \n",
       "Education                                           1182      NaN      NaN   \n",
       "English literacy                                     971      NaN      NaN   \n",
       "Own a phone                                         2670      NaN      NaN   \n",
       "$2.50 PPP Poverty line                              1502      NaN      NaN   \n",
       "Language of interview                               1495      NaN      NaN   \n",
       "Main language                                       1171      NaN      NaN   \n",
       "Mean household size                                 1241      NaN      NaN   \n",
       "Region                                               700      NaN      NaN   \n",
       "Province                                             700      NaN      NaN   \n",
       " Phone ownership                                    2670      NaN      NaN   \n",
       "Independent phone use                               2588      NaN      NaN   \n",
       "Informal financial usage                            2015      NaN      NaN   \n",
       "Mobile Money                                        2561      NaN      NaN   \n",
       "Bank                                                1641      NaN      NaN   \n",
       "Permission to open bank                             2370      NaN      NaN   \n",
       "Money taken from account                            2701      NaN      NaN   \n",
       "Savings goal decision maker                         2020      NaN      NaN   \n",
       "Savings goal influence                              1013      NaN      NaN   \n",
       "Land ownership                                      1459      NaN      NaN   \n",
       "Land decision maker                                 1459      NaN      NaN   \n",
       "Children decision maker                             1107      NaN      NaN   \n",
       "Earning frequency                                    783      NaN      NaN   \n",
       "Spending decision maker                             2325      NaN      NaN   \n",
       "Permission to work                                  2162      NaN      NaN   \n",
       "Main income earner                                  1327      NaN      NaN   \n",
       "Migrant worker identity                             2005      NaN      NaN   \n",
       "Possibility to raise 1/20 GNI (Gross National I...  1095      NaN      NaN   \n",
       "Income frequency of spouse                           899      NaN      NaN   \n",
       "Allow spouse to work,,                              1102      NaN      NaN   \n",
       "\n",
       "                                                        min      25%      50%  \\\n",
       "InstanceID                                           770458   773092   774944   \n",
       "finalweight                                         119.348  3513.72  6031.08   \n",
       "Gender                                                  NaN      NaN      NaN   \n",
       "Relationship status                                     NaN      NaN      NaN   \n",
       "Urbanicity                                              NaN      NaN      NaN   \n",
       "Age Group                                               NaN      NaN      NaN   \n",
       "Education                                               NaN      NaN      NaN   \n",
       "English literacy                                        NaN      NaN      NaN   \n",
       "Own a phone                                             NaN      NaN      NaN   \n",
       "$2.50 PPP Poverty line                                  NaN      NaN      NaN   \n",
       "Language of interview                                   NaN      NaN      NaN   \n",
       "Main language                                           NaN      NaN      NaN   \n",
       "Mean household size                                     NaN      NaN      NaN   \n",
       "Region                                                  NaN      NaN      NaN   \n",
       "Province                                                NaN      NaN      NaN   \n",
       " Phone ownership                                        NaN      NaN      NaN   \n",
       "Independent phone use                                   NaN      NaN      NaN   \n",
       "Informal financial usage                                NaN      NaN      NaN   \n",
       "Mobile Money                                            NaN      NaN      NaN   \n",
       "Bank                                                    NaN      NaN      NaN   \n",
       "Permission to open bank                                 NaN      NaN      NaN   \n",
       "Money taken from account                                NaN      NaN      NaN   \n",
       "Savings goal decision maker                             NaN      NaN      NaN   \n",
       "Savings goal influence                                  NaN      NaN      NaN   \n",
       "Land ownership                                          NaN      NaN      NaN   \n",
       "Land decision maker                                     NaN      NaN      NaN   \n",
       "Children decision maker                                 NaN      NaN      NaN   \n",
       "Earning frequency                                       NaN      NaN      NaN   \n",
       "Spending decision maker                                 NaN      NaN      NaN   \n",
       "Permission to work                                      NaN      NaN      NaN   \n",
       "Main income earner                                      NaN      NaN      NaN   \n",
       "Migrant worker identity                                 NaN      NaN      NaN   \n",
       "Possibility to raise 1/20 GNI (Gross National I...      NaN      NaN      NaN   \n",
       "Income frequency of spouse                              NaN      NaN      NaN   \n",
       "Allow spouse to work,,                                  NaN      NaN      NaN   \n",
       "\n",
       "                                                        75%      max  \n",
       "InstanceID                                           777020   788781  \n",
       "finalweight                                         8937.02  91545.8  \n",
       "Gender                                                  NaN      NaN  \n",
       "Relationship status                                     NaN      NaN  \n",
       "Urbanicity                                              NaN      NaN  \n",
       "Age Group                                               NaN      NaN  \n",
       "Education                                               NaN      NaN  \n",
       "English literacy                                        NaN      NaN  \n",
       "Own a phone                                             NaN      NaN  \n",
       "$2.50 PPP Poverty line                                  NaN      NaN  \n",
       "Language of interview                                   NaN      NaN  \n",
       "Main language                                           NaN      NaN  \n",
       "Mean household size                                     NaN      NaN  \n",
       "Region                                                  NaN      NaN  \n",
       "Province                                                NaN      NaN  \n",
       " Phone ownership                                        NaN      NaN  \n",
       "Independent phone use                                   NaN      NaN  \n",
       "Informal financial usage                                NaN      NaN  \n",
       "Mobile Money                                            NaN      NaN  \n",
       "Bank                                                    NaN      NaN  \n",
       "Permission to open bank                                 NaN      NaN  \n",
       "Money taken from account                                NaN      NaN  \n",
       "Savings goal decision maker                             NaN      NaN  \n",
       "Savings goal influence                                  NaN      NaN  \n",
       "Land ownership                                          NaN      NaN  \n",
       "Land decision maker                                     NaN      NaN  \n",
       "Children decision maker                                 NaN      NaN  \n",
       "Earning frequency                                       NaN      NaN  \n",
       "Spending decision maker                                 NaN      NaN  \n",
       "Permission to work                                      NaN      NaN  \n",
       "Main income earner                                      NaN      NaN  \n",
       "Migrant worker identity                                 NaN      NaN  \n",
       "Possibility to raise 1/20 GNI (Gross National I...      NaN      NaN  \n",
       "Income frequency of spouse                              NaN      NaN  \n",
       "Allow spouse to work,,                                  NaN      NaN  "
      ]
     },
     "metadata": {},
     "output_type": "display_data"
    },
    {
     "data": {
      "text/markdown": [
       "### Columns descriptions"
      ],
      "text/plain": [
       "<IPython.core.display.Markdown object>"
      ]
     },
     "metadata": {},
     "output_type": "display_data"
    },
    {
     "data": {
      "text/markdown": [
       "#### **column:** InstanceID ----- **dtype**: Int64"
      ],
      "text/plain": [
       "<IPython.core.display.Markdown object>"
      ]
     },
     "metadata": {},
     "output_type": "display_data"
    },
    {
     "data": {
      "text/markdown": [
       "#### **column:** finalweight ----- **dtype**: float64"
      ],
      "text/plain": [
       "<IPython.core.display.Markdown object>"
      ]
     },
     "metadata": {},
     "output_type": "display_data"
    },
    {
     "data": {
      "text/markdown": [
       "#### **column:** Gender ----- **dtype**: string"
      ],
      "text/plain": [
       "<IPython.core.display.Markdown object>"
      ]
     },
     "metadata": {},
     "output_type": "display_data"
    },
    {
     "data": {
      "text/markdown": [
       "##### Before clean applied"
      ],
      "text/plain": [
       "<IPython.core.display.Markdown object>"
      ]
     },
     "metadata": {},
     "output_type": "display_data"
    },
    {
     "name": "stdout",
     "output_type": "stream",
     "text": [
      "<StringArray>\n",
      "['Male', 'Female']\n",
      "Length: 2, dtype: string\n"
     ]
    },
    {
     "data": {
      "text/markdown": [
       "##### After clean applied"
      ],
      "text/plain": [
       "<IPython.core.display.Markdown object>"
      ]
     },
     "metadata": {},
     "output_type": "display_data"
    },
    {
     "name": "stdout",
     "output_type": "stream",
     "text": [
      "<StringArray>\n",
      "['Male', 'Female']\n",
      "Length: 2, dtype: string\n"
     ]
    },
    {
     "data": {
      "text/markdown": [
       "#### **column:** Relationship status ----- **dtype**: string"
      ],
      "text/plain": [
       "<IPython.core.display.Markdown object>"
      ]
     },
     "metadata": {},
     "output_type": "display_data"
    },
    {
     "data": {
      "text/markdown": [
       "##### Before clean applied"
      ],
      "text/plain": [
       "<IPython.core.display.Markdown object>"
      ]
     },
     "metadata": {},
     "output_type": "display_data"
    },
    {
     "name": "stdout",
     "output_type": "stream",
     "text": [
      "<StringArray>\n",
      "['Married/relationship', 'Not married/relationship']\n",
      "Length: 2, dtype: string\n"
     ]
    },
    {
     "data": {
      "text/markdown": [
       "##### After clean applied"
      ],
      "text/plain": [
       "<IPython.core.display.Markdown object>"
      ]
     },
     "metadata": {},
     "output_type": "display_data"
    },
    {
     "name": "stdout",
     "output_type": "stream",
     "text": [
      "<StringArray>\n",
      "['Married/Relationship', 'Not married/Relationship']\n",
      "Length: 2, dtype: string\n"
     ]
    },
    {
     "data": {
      "text/markdown": [
       "#### **column:** Urbanicity ----- **dtype**: string"
      ],
      "text/plain": [
       "<IPython.core.display.Markdown object>"
      ]
     },
     "metadata": {},
     "output_type": "display_data"
    },
    {
     "data": {
      "text/markdown": [
       "##### Before clean applied"
      ],
      "text/plain": [
       "<IPython.core.display.Markdown object>"
      ]
     },
     "metadata": {},
     "output_type": "display_data"
    },
    {
     "name": "stdout",
     "output_type": "stream",
     "text": [
      "<StringArray>\n",
      "['Urban', 'Rural']\n",
      "Length: 2, dtype: string\n"
     ]
    },
    {
     "data": {
      "text/markdown": [
       "##### After clean applied"
      ],
      "text/plain": [
       "<IPython.core.display.Markdown object>"
      ]
     },
     "metadata": {},
     "output_type": "display_data"
    },
    {
     "name": "stdout",
     "output_type": "stream",
     "text": [
      "<StringArray>\n",
      "['Urban', 'Rural']\n",
      "Length: 2, dtype: string\n"
     ]
    },
    {
     "data": {
      "text/markdown": [
       "#### **column:** Age Group ----- **dtype**: string"
      ],
      "text/plain": [
       "<IPython.core.display.Markdown object>"
      ]
     },
     "metadata": {},
     "output_type": "display_data"
    },
    {
     "data": {
      "text/markdown": [
       "##### Before clean applied"
      ],
      "text/plain": [
       "<IPython.core.display.Markdown object>"
      ]
     },
     "metadata": {},
     "output_type": "display_data"
    },
    {
     "name": "stdout",
     "output_type": "stream",
     "text": [
      "<StringArray>\n",
      "['25-34', '35-44', '18-24', '55+', '45-54']\n",
      "Length: 5, dtype: string\n"
     ]
    },
    {
     "data": {
      "text/markdown": [
       "##### After clean applied"
      ],
      "text/plain": [
       "<IPython.core.display.Markdown object>"
      ]
     },
     "metadata": {},
     "output_type": "display_data"
    },
    {
     "name": "stdout",
     "output_type": "stream",
     "text": [
      "<StringArray>\n",
      "['25-34', '35-44', '18-24', '55+', '45-54']\n",
      "Length: 5, dtype: string\n"
     ]
    },
    {
     "data": {
      "text/markdown": [
       "#### **column:** Education ----- **dtype**: string"
      ],
      "text/plain": [
       "<IPython.core.display.Markdown object>"
      ]
     },
     "metadata": {},
     "output_type": "display_data"
    },
    {
     "data": {
      "text/markdown": [
       "##### Before clean applied"
      ],
      "text/plain": [
       "<IPython.core.display.Markdown object>"
      ]
     },
     "metadata": {},
     "output_type": "display_data"
    },
    {
     "name": "stdout",
     "output_type": "stream",
     "text": [
      "<StringArray>\n",
      "['Secondary education',   'Primary education',    'Higher education',\n",
      " 'No formal education',               'Other']\n",
      "Length: 5, dtype: string\n"
     ]
    },
    {
     "data": {
      "text/markdown": [
       "##### After clean applied"
      ],
      "text/plain": [
       "<IPython.core.display.Markdown object>"
      ]
     },
     "metadata": {},
     "output_type": "display_data"
    },
    {
     "name": "stdout",
     "output_type": "stream",
     "text": [
      "<StringArray>\n",
      "['Secondary education',   'Primary education',    'Higher education',\n",
      " 'No formal education',               'Other']\n",
      "Length: 5, dtype: string\n"
     ]
    },
    {
     "data": {
      "text/markdown": [
       "#### **column:** English literacy ----- **dtype**: string"
      ],
      "text/plain": [
       "<IPython.core.display.Markdown object>"
      ]
     },
     "metadata": {},
     "output_type": "display_data"
    },
    {
     "data": {
      "text/markdown": [
       "##### Before clean applied"
      ],
      "text/plain": [
       "<IPython.core.display.Markdown object>"
      ]
     },
     "metadata": {},
     "output_type": "display_data"
    },
    {
     "name": "stdout",
     "output_type": "stream",
     "text": [
      "<StringArray>\n",
      "['Fair', 'Good', 'Excellent', 'Not at all', 'Poorly']\n",
      "Length: 5, dtype: string\n"
     ]
    },
    {
     "data": {
      "text/markdown": [
       "##### After clean applied"
      ],
      "text/plain": [
       "<IPython.core.display.Markdown object>"
      ]
     },
     "metadata": {},
     "output_type": "display_data"
    },
    {
     "name": "stdout",
     "output_type": "stream",
     "text": [
      "<StringArray>\n",
      "['Fair', 'Good', 'Excellent', 'Not at all', 'Poorly']\n",
      "Length: 5, dtype: string\n"
     ]
    },
    {
     "data": {
      "text/markdown": [
       "#### **column:** Own a phone ----- **dtype**: string"
      ],
      "text/plain": [
       "<IPython.core.display.Markdown object>"
      ]
     },
     "metadata": {},
     "output_type": "display_data"
    },
    {
     "data": {
      "text/markdown": [
       "##### Before clean applied"
      ],
      "text/plain": [
       "<IPython.core.display.Markdown object>"
      ]
     },
     "metadata": {},
     "output_type": "display_data"
    },
    {
     "name": "stdout",
     "output_type": "stream",
     "text": [
      "<StringArray>\n",
      "['own phone', 'dont own phone']\n",
      "Length: 2, dtype: string\n"
     ]
    },
    {
     "data": {
      "text/markdown": [
       "##### After clean applied"
      ],
      "text/plain": [
       "<IPython.core.display.Markdown object>"
      ]
     },
     "metadata": {},
     "output_type": "display_data"
    },
    {
     "name": "stdout",
     "output_type": "stream",
     "text": [
      "<StringArray>\n",
      "['Own phone', 'Dont own phone']\n",
      "Length: 2, dtype: string\n"
     ]
    },
    {
     "data": {
      "text/markdown": [
       "#### **column:** $2.50 PPP Poverty line ----- **dtype**: string"
      ],
      "text/plain": [
       "<IPython.core.display.Markdown object>"
      ]
     },
     "metadata": {},
     "output_type": "display_data"
    },
    {
     "data": {
      "text/markdown": [
       "##### Before clean applied"
      ],
      "text/plain": [
       "<IPython.core.display.Markdown object>"
      ]
     },
     "metadata": {},
     "output_type": "display_data"
    },
    {
     "name": "stdout",
     "output_type": "stream",
     "text": [
      "<StringArray>\n",
      "['Above poverty line', 'Below poverty line']\n",
      "Length: 2, dtype: string\n"
     ]
    },
    {
     "data": {
      "text/markdown": [
       "##### After clean applied"
      ],
      "text/plain": [
       "<IPython.core.display.Markdown object>"
      ]
     },
     "metadata": {},
     "output_type": "display_data"
    },
    {
     "name": "stdout",
     "output_type": "stream",
     "text": [
      "<StringArray>\n",
      "['Above poverty line', 'Below poverty line']\n",
      "Length: 2, dtype: string\n"
     ]
    },
    {
     "data": {
      "text/markdown": [
       "#### **column:** Language of interview ----- **dtype**: string"
      ],
      "text/plain": [
       "<IPython.core.display.Markdown object>"
      ]
     },
     "metadata": {},
     "output_type": "display_data"
    },
    {
     "data": {
      "text/markdown": [
       "##### Before clean applied"
      ],
      "text/plain": [
       "<IPython.core.display.Markdown object>"
      ]
     },
     "metadata": {},
     "output_type": "display_data"
    },
    {
     "name": "stdout",
     "output_type": "stream",
     "text": [
      "<StringArray>\n",
      "[ 'English',  'Swahili',      'Luo',    'Kisii',   'Kikuyu',   'Somali',\n",
      "     'Meru',    'Kamba',    'Luhya', 'Kalenjin']\n",
      "Length: 10, dtype: string\n"
     ]
    },
    {
     "data": {
      "text/markdown": [
       "##### After clean applied"
      ],
      "text/plain": [
       "<IPython.core.display.Markdown object>"
      ]
     },
     "metadata": {},
     "output_type": "display_data"
    },
    {
     "name": "stdout",
     "output_type": "stream",
     "text": [
      "<StringArray>\n",
      "[ 'English',  'Swahili',      'Luo',    'Kisii',   'Kikuyu',   'Somali',\n",
      "     'Meru',    'Kamba',    'Luhya', 'Kalenjin']\n",
      "Length: 10, dtype: string\n"
     ]
    },
    {
     "data": {
      "text/markdown": [
       "#### **column:** Main language ----- **dtype**: string"
      ],
      "text/plain": [
       "<IPython.core.display.Markdown object>"
      ]
     },
     "metadata": {},
     "output_type": "display_data"
    },
    {
     "data": {
      "text/markdown": [
       "##### Before clean applied"
      ],
      "text/plain": [
       "<IPython.core.display.Markdown object>"
      ]
     },
     "metadata": {},
     "output_type": "display_data"
    },
    {
     "name": "stdout",
     "output_type": "stream",
     "text": [
      "<StringArray>\n",
      "[  'Swahili',     'Luhya',       'Luo',  'Kalenjin',   'English', 'Congolese',\n",
      "    'Kikuyu',      'Teso',     'Kisii',    'Somali',     'Kamba',      'Meru',\n",
      "  'Kiduruma', 'Mijikenda',      'Gari',    'Chonyi',   'Turkana',   'Gariama',\n",
      "    'Kidigo',    'Borana',   'Kiganda',    'Maasai',    'Kiembu',     'Taita',\n",
      "  'Kimbeere',  'Kibajuni',   'Kikuria']\n",
      "Length: 27, dtype: string\n"
     ]
    },
    {
     "data": {
      "text/markdown": [
       "##### After clean applied"
      ],
      "text/plain": [
       "<IPython.core.display.Markdown object>"
      ]
     },
     "metadata": {},
     "output_type": "display_data"
    },
    {
     "name": "stdout",
     "output_type": "stream",
     "text": [
      "<StringArray>\n",
      "[  'Swahili',     'Luhya',       'Luo',  'Kalenjin',   'English', 'Congolese',\n",
      "    'Kikuyu',      'Teso',     'Kisii',    'Somali',     'Kamba',      'Meru',\n",
      "  'Kiduruma', 'Mijikenda',      'Gari',    'Chonyi',   'Turkana',   'Gariama',\n",
      "    'Kidigo',    'Borana',   'Kiganda',    'Maasai',    'Kiembu',     'Taita',\n",
      "  'Kimbeere',  'Kibajuni',   'Kikuria']\n",
      "Length: 27, dtype: string\n"
     ]
    },
    {
     "data": {
      "text/markdown": [
       "#### **column:** Mean household size ----- **dtype**: string"
      ],
      "text/plain": [
       "<IPython.core.display.Markdown object>"
      ]
     },
     "metadata": {},
     "output_type": "display_data"
    },
    {
     "data": {
      "text/markdown": [
       "##### Before clean applied"
      ],
      "text/plain": [
       "<IPython.core.display.Markdown object>"
      ]
     },
     "metadata": {},
     "output_type": "display_data"
    },
    {
     "name": "stdout",
     "output_type": "stream",
     "text": [
      "<StringArray>\n",
      "['Below mean size', 'Above mean size', 'Mean']\n",
      "Length: 3, dtype: string\n"
     ]
    },
    {
     "data": {
      "text/markdown": [
       "##### After clean applied"
      ],
      "text/plain": [
       "<IPython.core.display.Markdown object>"
      ]
     },
     "metadata": {},
     "output_type": "display_data"
    },
    {
     "name": "stdout",
     "output_type": "stream",
     "text": [
      "<StringArray>\n",
      "['Below mean size', 'Above mean size', 'Mean']\n",
      "Length: 3, dtype: string\n"
     ]
    },
    {
     "data": {
      "text/markdown": [
       "#### **column:** Region ----- **dtype**: string"
      ],
      "text/plain": [
       "<IPython.core.display.Markdown object>"
      ]
     },
     "metadata": {},
     "output_type": "display_data"
    },
    {
     "data": {
      "text/markdown": [
       "##### Before clean applied"
      ],
      "text/plain": [
       "<IPython.core.display.Markdown object>"
      ]
     },
     "metadata": {},
     "output_type": "display_data"
    },
    {
     "name": "stdout",
     "output_type": "stream",
     "text": [
      "<StringArray>\n",
      "[      'Nairobi',        'Nyanza',       'Central',   'Rift Valley',\n",
      "         'Coast', 'North Eastern',       'Western',       'Eastern']\n",
      "Length: 8, dtype: string\n"
     ]
    },
    {
     "data": {
      "text/markdown": [
       "##### After clean applied"
      ],
      "text/plain": [
       "<IPython.core.display.Markdown object>"
      ]
     },
     "metadata": {},
     "output_type": "display_data"
    },
    {
     "name": "stdout",
     "output_type": "stream",
     "text": [
      "<StringArray>\n",
      "[      'Nairobi',        'Nyanza',       'Central',   'Rift valley',\n",
      "         'Coast', 'North eastern',       'Western',       'Eastern']\n",
      "Length: 8, dtype: string\n"
     ]
    },
    {
     "data": {
      "text/markdown": [
       "#### **column:** Province ----- **dtype**: string"
      ],
      "text/plain": [
       "<IPython.core.display.Markdown object>"
      ]
     },
     "metadata": {},
     "output_type": "display_data"
    },
    {
     "data": {
      "text/markdown": [
       "##### Before clean applied"
      ],
      "text/plain": [
       "<IPython.core.display.Markdown object>"
      ]
     },
     "metadata": {},
     "output_type": "display_data"
    },
    {
     "name": "stdout",
     "output_type": "stream",
     "text": [
      "<StringArray>\n",
      "[    'Nairobi',      'Nyanza',     'Central', 'Rift Valley',       'Coast',\n",
      "           ' ',     'Western',     'Eastern',  'North East']\n",
      "Length: 9, dtype: string\n"
     ]
    },
    {
     "data": {
      "text/markdown": [
       "##### After clean applied"
      ],
      "text/plain": [
       "<IPython.core.display.Markdown object>"
      ]
     },
     "metadata": {},
     "output_type": "display_data"
    },
    {
     "name": "stdout",
     "output_type": "stream",
     "text": [
      "<StringArray>\n",
      "[    'Nairobi',      'Nyanza',     'Central', 'Rift valley',       'Coast',\n",
      "            '',     'Western',     'Eastern',  'North east']\n",
      "Length: 9, dtype: string\n"
     ]
    },
    {
     "data": {
      "text/markdown": [
       "#### **column:**  Phone ownership ----- **dtype**: string"
      ],
      "text/plain": [
       "<IPython.core.display.Markdown object>"
      ]
     },
     "metadata": {},
     "output_type": "display_data"
    },
    {
     "data": {
      "text/markdown": [
       "##### Before clean applied"
      ],
      "text/plain": [
       "<IPython.core.display.Markdown object>"
      ]
     },
     "metadata": {},
     "output_type": "display_data"
    },
    {
     "name": "stdout",
     "output_type": "stream",
     "text": [
      "<StringArray>\n",
      "['own phone/business/employer',                     'Sibling',\n",
      "       'Dont use mobile phone',               'Husband/wives',\n",
      "             'Other man/women',                      'Parent',\n",
      "                    'Children']\n",
      "Length: 7, dtype: string\n"
     ]
    },
    {
     "data": {
      "text/markdown": [
       "##### After clean applied"
      ],
      "text/plain": [
       "<IPython.core.display.Markdown object>"
      ]
     },
     "metadata": {},
     "output_type": "display_data"
    },
    {
     "name": "stdout",
     "output_type": "stream",
     "text": [
      "<StringArray>\n",
      "['Own phone/Business/Employer',                     'Sibling',\n",
      "       'Dont use mobile phone',               'Husband/Wives',\n",
      "             'Other man/Women',                      'Parent',\n",
      "                    'Children']\n",
      "Length: 7, dtype: string\n"
     ]
    },
    {
     "data": {
      "text/markdown": [
       "#### **column:** Independent phone use ----- **dtype**: string"
      ],
      "text/plain": [
       "<IPython.core.display.Markdown object>"
      ]
     },
     "metadata": {},
     "output_type": "display_data"
    },
    {
     "data": {
      "text/markdown": [
       "##### Before clean applied"
      ],
      "text/plain": [
       "<IPython.core.display.Markdown object>"
      ]
     },
     "metadata": {},
     "output_type": "display_data"
    },
    {
     "name": "stdout",
     "output_type": "stream",
     "text": [
      "<StringArray>\n",
      "['Yes', 'Dont use mobile phone', 'No', 'Somewhat']\n",
      "Length: 4, dtype: string\n"
     ]
    },
    {
     "data": {
      "text/markdown": [
       "##### After clean applied"
      ],
      "text/plain": [
       "<IPython.core.display.Markdown object>"
      ]
     },
     "metadata": {},
     "output_type": "display_data"
    },
    {
     "name": "stdout",
     "output_type": "stream",
     "text": [
      "<StringArray>\n",
      "['Yes', 'Dont use mobile phone', 'No', 'Somewhat']\n",
      "Length: 4, dtype: string\n"
     ]
    },
    {
     "data": {
      "text/markdown": [
       "#### **column:** Informal financial usage ----- **dtype**: string"
      ],
      "text/plain": [
       "<IPython.core.display.Markdown object>"
      ]
     },
     "metadata": {},
     "output_type": "display_data"
    },
    {
     "data": {
      "text/markdown": [
       "##### Before clean applied"
      ],
      "text/plain": [
       "<IPython.core.display.Markdown object>"
      ]
     },
     "metadata": {},
     "output_type": "display_data"
    },
    {
     "name": "stdout",
     "output_type": "stream",
     "text": [
      "<StringArray>\n",
      "['no', 'yes']\n",
      "Length: 2, dtype: string\n"
     ]
    },
    {
     "data": {
      "text/markdown": [
       "##### After clean applied"
      ],
      "text/plain": [
       "<IPython.core.display.Markdown object>"
      ]
     },
     "metadata": {},
     "output_type": "display_data"
    },
    {
     "name": "stdout",
     "output_type": "stream",
     "text": [
      "<StringArray>\n",
      "['No', 'Yes']\n",
      "Length: 2, dtype: string\n"
     ]
    },
    {
     "data": {
      "text/markdown": [
       "#### **column:** Mobile Money ----- **dtype**: string"
      ],
      "text/plain": [
       "<IPython.core.display.Markdown object>"
      ]
     },
     "metadata": {},
     "output_type": "display_data"
    },
    {
     "data": {
      "text/markdown": [
       "##### Before clean applied"
      ],
      "text/plain": [
       "<IPython.core.display.Markdown object>"
      ]
     },
     "metadata": {},
     "output_type": "display_data"
    },
    {
     "name": "stdout",
     "output_type": "stream",
     "text": [
      "<StringArray>\n",
      "['own', 'dont use MM', 'share/use others', 'dont use mobile phone']\n",
      "Length: 4, dtype: string\n"
     ]
    },
    {
     "data": {
      "text/markdown": [
       "##### After clean applied"
      ],
      "text/plain": [
       "<IPython.core.display.Markdown object>"
      ]
     },
     "metadata": {},
     "output_type": "display_data"
    },
    {
     "name": "stdout",
     "output_type": "stream",
     "text": [
      "<StringArray>\n",
      "['Own', 'Dont use mm', 'Share/Use others', 'Dont use mobile phone']\n",
      "Length: 4, dtype: string\n"
     ]
    },
    {
     "data": {
      "text/markdown": [
       "#### **column:** Bank ----- **dtype**: string"
      ],
      "text/plain": [
       "<IPython.core.display.Markdown object>"
      ]
     },
     "metadata": {},
     "output_type": "display_data"
    },
    {
     "data": {
      "text/markdown": [
       "##### Before clean applied"
      ],
      "text/plain": [
       "<IPython.core.display.Markdown object>"
      ]
     },
     "metadata": {},
     "output_type": "display_data"
    },
    {
     "name": "stdout",
     "output_type": "stream",
     "text": [
      "<StringArray>\n",
      "['unbanked', 'own', 'spouse', 'other', 'other fam']\n",
      "Length: 5, dtype: string\n"
     ]
    },
    {
     "data": {
      "text/markdown": [
       "##### After clean applied"
      ],
      "text/plain": [
       "<IPython.core.display.Markdown object>"
      ]
     },
     "metadata": {},
     "output_type": "display_data"
    },
    {
     "name": "stdout",
     "output_type": "stream",
     "text": [
      "<StringArray>\n",
      "['Unbanked', 'Own', 'Spouse', 'Other', 'Other fam']\n",
      "Length: 5, dtype: string\n"
     ]
    },
    {
     "data": {
      "text/markdown": [
       "#### **column:** Permission to open bank ----- **dtype**: string"
      ],
      "text/plain": [
       "<IPython.core.display.Markdown object>"
      ]
     },
     "metadata": {},
     "output_type": "display_data"
    },
    {
     "data": {
      "text/markdown": [
       "##### Before clean applied"
      ],
      "text/plain": [
       "<IPython.core.display.Markdown object>"
      ]
     },
     "metadata": {},
     "output_type": "display_data"
    },
    {
     "name": "stdout",
     "output_type": "stream",
     "text": [
      "<StringArray>\n",
      "['no', 'yes']\n",
      "Length: 2, dtype: string\n"
     ]
    },
    {
     "data": {
      "text/markdown": [
       "##### After clean applied"
      ],
      "text/plain": [
       "<IPython.core.display.Markdown object>"
      ]
     },
     "metadata": {},
     "output_type": "display_data"
    },
    {
     "name": "stdout",
     "output_type": "stream",
     "text": [
      "<StringArray>\n",
      "['No', 'Yes']\n",
      "Length: 2, dtype: string\n"
     ]
    },
    {
     "data": {
      "text/markdown": [
       "#### **column:** Money taken from account ----- **dtype**: string"
      ],
      "text/plain": [
       "<IPython.core.display.Markdown object>"
      ]
     },
     "metadata": {},
     "output_type": "display_data"
    },
    {
     "data": {
      "text/markdown": [
       "##### Before clean applied"
      ],
      "text/plain": [
       "<IPython.core.display.Markdown object>"
      ]
     },
     "metadata": {},
     "output_type": "display_data"
    },
    {
     "name": "stdout",
     "output_type": "stream",
     "text": [
      "<StringArray>\n",
      "['money not taken', 'money taken', 'dont have account']\n",
      "Length: 3, dtype: string\n"
     ]
    },
    {
     "data": {
      "text/markdown": [
       "##### After clean applied"
      ],
      "text/plain": [
       "<IPython.core.display.Markdown object>"
      ]
     },
     "metadata": {},
     "output_type": "display_data"
    },
    {
     "name": "stdout",
     "output_type": "stream",
     "text": [
      "<StringArray>\n",
      "['Money not taken', 'Money taken', 'Dont have account']\n",
      "Length: 3, dtype: string\n"
     ]
    },
    {
     "data": {
      "text/markdown": [
       "#### **column:** Savings goal decision maker ----- **dtype**: string"
      ],
      "text/plain": [
       "<IPython.core.display.Markdown object>"
      ]
     },
     "metadata": {},
     "output_type": "display_data"
    },
    {
     "data": {
      "text/markdown": [
       "##### Before clean applied"
      ],
      "text/plain": [
       "<IPython.core.display.Markdown object>"
      ]
     },
     "metadata": {},
     "output_type": "display_data"
    },
    {
     "name": "stdout",
     "output_type": "stream",
     "text": [
      "<StringArray>\n",
      "['spouse/family/others on behalf',                     'self alone',\n",
      "                'no savings goal',                'decide together']\n",
      "Length: 4, dtype: string\n"
     ]
    },
    {
     "data": {
      "text/markdown": [
       "##### After clean applied"
      ],
      "text/plain": [
       "<IPython.core.display.Markdown object>"
      ]
     },
     "metadata": {},
     "output_type": "display_data"
    },
    {
     "name": "stdout",
     "output_type": "stream",
     "text": [
      "<StringArray>\n",
      "['Spouse/Family/Others on behalf',                     'Self alone',\n",
      "                'No savings goal',                'Decide together']\n",
      "Length: 4, dtype: string\n"
     ]
    },
    {
     "data": {
      "text/markdown": [
       "#### **column:** Savings goal influence ----- **dtype**: string"
      ],
      "text/plain": [
       "<IPython.core.display.Markdown object>"
      ]
     },
     "metadata": {},
     "output_type": "display_data"
    },
    {
     "data": {
      "text/markdown": [
       "##### Before clean applied"
      ],
      "text/plain": [
       "<IPython.core.display.Markdown object>"
      ]
     },
     "metadata": {},
     "output_type": "display_data"
    },
    {
     "name": "stdout",
     "output_type": "stream",
     "text": [
      "<StringArray>\n",
      "['sometimes accepted/rejected',                'dont consult',\n",
      "             'no savings goal',             'always accepted',\n",
      "             'always rejected']\n",
      "Length: 5, dtype: string\n"
     ]
    },
    {
     "data": {
      "text/markdown": [
       "##### After clean applied"
      ],
      "text/plain": [
       "<IPython.core.display.Markdown object>"
      ]
     },
     "metadata": {},
     "output_type": "display_data"
    },
    {
     "name": "stdout",
     "output_type": "stream",
     "text": [
      "<StringArray>\n",
      "['Sometimes accepted/Rejected',                'Dont consult',\n",
      "             'No savings goal',             'Always accepted',\n",
      "             'Always rejected']\n",
      "Length: 5, dtype: string\n"
     ]
    },
    {
     "data": {
      "text/markdown": [
       "#### **column:** Land ownership ----- **dtype**: string"
      ],
      "text/plain": [
       "<IPython.core.display.Markdown object>"
      ]
     },
     "metadata": {},
     "output_type": "display_data"
    },
    {
     "data": {
      "text/markdown": [
       "##### Before clean applied"
      ],
      "text/plain": [
       "<IPython.core.display.Markdown object>"
      ]
     },
     "metadata": {},
     "output_type": "display_data"
    },
    {
     "name": "stdout",
     "output_type": "stream",
     "text": [
      "<StringArray>\n",
      "['dont own', 'own by self', 'own with others']\n",
      "Length: 3, dtype: string\n"
     ]
    },
    {
     "data": {
      "text/markdown": [
       "##### After clean applied"
      ],
      "text/plain": [
       "<IPython.core.display.Markdown object>"
      ]
     },
     "metadata": {},
     "output_type": "display_data"
    },
    {
     "name": "stdout",
     "output_type": "stream",
     "text": [
      "<StringArray>\n",
      "['Dont own', 'Own by self', 'Own with others']\n",
      "Length: 3, dtype: string\n"
     ]
    },
    {
     "data": {
      "text/markdown": [
       "#### **column:** Land decision maker ----- **dtype**: string"
      ],
      "text/plain": [
       "<IPython.core.display.Markdown object>"
      ]
     },
     "metadata": {},
     "output_type": "display_data"
    },
    {
     "data": {
      "text/markdown": [
       "##### Before clean applied"
      ],
      "text/plain": [
       "<IPython.core.display.Markdown object>"
      ]
     },
     "metadata": {},
     "output_type": "display_data"
    },
    {
     "name": "stdout",
     "output_type": "stream",
     "text": [
      "<StringArray>\n",
      "[' ', 'Family/friends without me', 'Me only', 'Decide together with others']\n",
      "Length: 4, dtype: string\n"
     ]
    },
    {
     "data": {
      "text/markdown": [
       "##### After clean applied"
      ],
      "text/plain": [
       "<IPython.core.display.Markdown object>"
      ]
     },
     "metadata": {},
     "output_type": "display_data"
    },
    {
     "name": "stdout",
     "output_type": "stream",
     "text": [
      "<StringArray>\n",
      "['', 'Family/Friends without me', 'Me only', 'Decide together with others']\n",
      "Length: 4, dtype: string\n"
     ]
    },
    {
     "data": {
      "text/markdown": [
       "#### **column:** Children decision maker ----- **dtype**: string"
      ],
      "text/plain": [
       "<IPython.core.display.Markdown object>"
      ]
     },
     "metadata": {},
     "output_type": "display_data"
    },
    {
     "data": {
      "text/markdown": [
       "##### Before clean applied"
      ],
      "text/plain": [
       "<IPython.core.display.Markdown object>"
      ]
     },
     "metadata": {},
     "output_type": "display_data"
    },
    {
     "name": "stdout",
     "output_type": "stream",
     "text": [
      "<StringArray>\n",
      "[        'decide together',     'Not in relationship',\n",
      " 'We do not talk about it',          'Spouse decides',\n",
      "            'decide alone']\n",
      "Length: 5, dtype: string\n"
     ]
    },
    {
     "data": {
      "text/markdown": [
       "##### After clean applied"
      ],
      "text/plain": [
       "<IPython.core.display.Markdown object>"
      ]
     },
     "metadata": {},
     "output_type": "display_data"
    },
    {
     "name": "stdout",
     "output_type": "stream",
     "text": [
      "<StringArray>\n",
      "[        'Decide together',     'Not in relationship',\n",
      " 'We do not talk about it',          'Spouse decides',\n",
      "            'Decide alone']\n",
      "Length: 5, dtype: string\n"
     ]
    },
    {
     "data": {
      "text/markdown": [
       "#### **column:** Earning frequency ----- **dtype**: string"
      ],
      "text/plain": [
       "<IPython.core.display.Markdown object>"
      ]
     },
     "metadata": {},
     "output_type": "display_data"
    },
    {
     "data": {
      "text/markdown": [
       "##### Before clean applied"
      ],
      "text/plain": [
       "<IPython.core.display.Markdown object>"
      ]
     },
     "metadata": {},
     "output_type": "display_data"
    },
    {
     "name": "stdout",
     "output_type": "stream",
     "text": [
      "<StringArray>\n",
      "[          'Daily', 'Weekly/biweekly',     'I dont work',         'Monthly',\n",
      " 'When I get work',     'Work unpaid']\n",
      "Length: 6, dtype: string\n"
     ]
    },
    {
     "data": {
      "text/markdown": [
       "##### After clean applied"
      ],
      "text/plain": [
       "<IPython.core.display.Markdown object>"
      ]
     },
     "metadata": {},
     "output_type": "display_data"
    },
    {
     "name": "stdout",
     "output_type": "stream",
     "text": [
      "<StringArray>\n",
      "[          'Daily', 'Weekly/Biweekly',     'I dont work',         'Monthly',\n",
      " 'When i get work',     'Work unpaid']\n",
      "Length: 6, dtype: string\n"
     ]
    },
    {
     "data": {
      "text/markdown": [
       "#### **column:** Spending decision maker ----- **dtype**: string"
      ],
      "text/plain": [
       "<IPython.core.display.Markdown object>"
      ]
     },
     "metadata": {},
     "output_type": "display_data"
    },
    {
     "data": {
      "text/markdown": [
       "##### Before clean applied"
      ],
      "text/plain": [
       "<IPython.core.display.Markdown object>"
      ]
     },
     "metadata": {},
     "output_type": "display_data"
    },
    {
     "name": "stdout",
     "output_type": "stream",
     "text": [
      "<StringArray>\n",
      "['Help from someone else', 'Fully on own', 'Someone else decides for me']\n",
      "Length: 3, dtype: string\n"
     ]
    },
    {
     "data": {
      "text/markdown": [
       "##### After clean applied"
      ],
      "text/plain": [
       "<IPython.core.display.Markdown object>"
      ]
     },
     "metadata": {},
     "output_type": "display_data"
    },
    {
     "name": "stdout",
     "output_type": "stream",
     "text": [
      "<StringArray>\n",
      "['Help from someone else', 'Fully on own', 'Someone else decides for me']\n",
      "Length: 3, dtype: string\n"
     ]
    },
    {
     "data": {
      "text/markdown": [
       "#### **column:** Permission to work ----- **dtype**: string"
      ],
      "text/plain": [
       "<IPython.core.display.Markdown object>"
      ]
     },
     "metadata": {},
     "output_type": "display_data"
    },
    {
     "data": {
      "text/markdown": [
       "##### Before clean applied"
      ],
      "text/plain": [
       "<IPython.core.display.Markdown object>"
      ]
     },
     "metadata": {},
     "output_type": "display_data"
    },
    {
     "name": "stdout",
     "output_type": "stream",
     "text": [
      "<StringArray>\n",
      "['Already working', 'Yes', 'No']\n",
      "Length: 3, dtype: string\n"
     ]
    },
    {
     "data": {
      "text/markdown": [
       "##### After clean applied"
      ],
      "text/plain": [
       "<IPython.core.display.Markdown object>"
      ]
     },
     "metadata": {},
     "output_type": "display_data"
    },
    {
     "name": "stdout",
     "output_type": "stream",
     "text": [
      "<StringArray>\n",
      "['Already working', 'Yes', 'No']\n",
      "Length: 3, dtype: string\n"
     ]
    },
    {
     "data": {
      "text/markdown": [
       "#### **column:** Main income earner ----- **dtype**: string"
      ],
      "text/plain": [
       "<IPython.core.display.Markdown object>"
      ]
     },
     "metadata": {},
     "output_type": "display_data"
    },
    {
     "data": {
      "text/markdown": [
       "##### Before clean applied"
      ],
      "text/plain": [
       "<IPython.core.display.Markdown object>"
      ]
     },
     "metadata": {},
     "output_type": "display_data"
    },
    {
     "name": "stdout",
     "output_type": "stream",
     "text": [
      "<StringArray>\n",
      "[       'respondent',            'spouse',         'other fam',\n",
      "         'dont know',             'other', 'refused to answer',\n",
      "      'earn equally']\n",
      "Length: 7, dtype: string\n"
     ]
    },
    {
     "data": {
      "text/markdown": [
       "##### After clean applied"
      ],
      "text/plain": [
       "<IPython.core.display.Markdown object>"
      ]
     },
     "metadata": {},
     "output_type": "display_data"
    },
    {
     "name": "stdout",
     "output_type": "stream",
     "text": [
      "<StringArray>\n",
      "[       'Respondent',            'Spouse',         'Other fam',\n",
      "        'Don’t know',             'Other', 'Refused to answer',\n",
      "      'Earn equally']\n",
      "Length: 7, dtype: string\n"
     ]
    },
    {
     "data": {
      "text/markdown": [
       "#### **column:** Migrant worker identity ----- **dtype**: string"
      ],
      "text/plain": [
       "<IPython.core.display.Markdown object>"
      ]
     },
     "metadata": {},
     "output_type": "display_data"
    },
    {
     "data": {
      "text/markdown": [
       "##### Before clean applied"
      ],
      "text/plain": [
       "<IPython.core.display.Markdown object>"
      ]
     },
     "metadata": {},
     "output_type": "display_data"
    },
    {
     "name": "stdout",
     "output_type": "stream",
     "text": [
      "<StringArray>\n",
      "['No-one, all live together', 'Other family', 'Spouse', 'Me']\n",
      "Length: 4, dtype: string\n"
     ]
    },
    {
     "data": {
      "text/markdown": [
       "##### After clean applied"
      ],
      "text/plain": [
       "<IPython.core.display.Markdown object>"
      ]
     },
     "metadata": {},
     "output_type": "display_data"
    },
    {
     "name": "stdout",
     "output_type": "stream",
     "text": [
      "<StringArray>\n",
      "['No-one, all live together', 'Other family', 'Spouse', 'Me']\n",
      "Length: 4, dtype: string\n"
     ]
    },
    {
     "data": {
      "text/markdown": [
       "#### **column:** Possibility to raise 1/20 GNI (Gross National Income) ----- **dtype**: string"
      ],
      "text/plain": [
       "<IPython.core.display.Markdown object>"
      ]
     },
     "metadata": {},
     "output_type": "display_data"
    },
    {
     "data": {
      "text/markdown": [
       "##### Before clean applied"
      ],
      "text/plain": [
       "<IPython.core.display.Markdown object>"
      ]
     },
     "metadata": {},
     "output_type": "display_data"
    },
    {
     "name": "stdout",
     "output_type": "stream",
     "text": [
      "<StringArray>\n",
      "[  'Not very possible', 'Not at all possible',   'Somewhat possible',\n",
      "       'Very possible']\n",
      "Length: 4, dtype: string\n"
     ]
    },
    {
     "data": {
      "text/markdown": [
       "##### After clean applied"
      ],
      "text/plain": [
       "<IPython.core.display.Markdown object>"
      ]
     },
     "metadata": {},
     "output_type": "display_data"
    },
    {
     "name": "stdout",
     "output_type": "stream",
     "text": [
      "<StringArray>\n",
      "[  'Not very possible', 'Not at all possible',   'Somewhat possible',\n",
      "       'Very possible']\n",
      "Length: 4, dtype: string\n"
     ]
    },
    {
     "data": {
      "text/markdown": [
       "#### **column:** Income frequency of spouse ----- **dtype**: string"
      ],
      "text/plain": [
       "<IPython.core.display.Markdown object>"
      ]
     },
     "metadata": {},
     "output_type": "display_data"
    },
    {
     "data": {
      "text/markdown": [
       "##### Before clean applied"
      ],
      "text/plain": [
       "<IPython.core.display.Markdown object>"
      ]
     },
     "metadata": {},
     "output_type": "display_data"
    },
    {
     "name": "stdout",
     "output_type": "stream",
     "text": [
      "<StringArray>\n",
      "[         'dont work',            'Monthly',          'no spouse',\n",
      "              'Daily',    'Weekly/biweekly',          'dont know',\n",
      " 'When they get work',        'Work unpaid']\n",
      "Length: 8, dtype: string\n"
     ]
    },
    {
     "data": {
      "text/markdown": [
       "##### After clean applied"
      ],
      "text/plain": [
       "<IPython.core.display.Markdown object>"
      ]
     },
     "metadata": {},
     "output_type": "display_data"
    },
    {
     "name": "stdout",
     "output_type": "stream",
     "text": [
      "<StringArray>\n",
      "[         'Dont work',            'Monthly',          'No spouse',\n",
      "              'Daily',    'Weekly/Biweekly',         'Don’t know',\n",
      " 'When they get work',        'Work unpaid']\n",
      "Length: 8, dtype: string\n"
     ]
    },
    {
     "data": {
      "text/markdown": [
       "#### **column:** Allow spouse to work,, ----- **dtype**: string"
      ],
      "text/plain": [
       "<IPython.core.display.Markdown object>"
      ]
     },
     "metadata": {},
     "output_type": "display_data"
    },
    {
     "data": {
      "text/markdown": [
       "##### Before clean applied"
      ],
      "text/plain": [
       "<IPython.core.display.Markdown object>"
      ]
     },
     "metadata": {},
     "output_type": "display_data"
    },
    {
     "name": "stdout",
     "output_type": "stream",
     "text": [
      "<StringArray>\n",
      "[                            'Yes',  'Spouse already works for money',\n",
      "                     'Not married', 'Spouse already works for money,',\n",
      "                    'Not married,',                            'Yes,',\n",
      "                              'No',                             'No,']\n",
      "Length: 8, dtype: string\n"
     ]
    },
    {
     "data": {
      "text/markdown": [
       "##### After clean applied"
      ],
      "text/plain": [
       "<IPython.core.display.Markdown object>"
      ]
     },
     "metadata": {},
     "output_type": "display_data"
    },
    {
     "name": "stdout",
     "output_type": "stream",
     "text": [
      "<StringArray>\n",
      "['Yes', 'Spouse already works for money', 'Not married', 'No']\n",
      "Length: 4, dtype: string\n"
     ]
    }
   ],
   "source": [
    "### this will generate the initial check of the dataset. \n",
    "### if you need to add new checks and cleaning options for now add them in checDataset function\n",
    "datasets = []\n",
    "for dataset in DatasetList:\n",
    "    datasets.append(checkDataset(*dataset, clean=True))"
   ]
  },
  {
   "cell_type": "code",
   "execution_count": 14,
   "metadata": {
    "scrolled": false
   },
   "outputs": [
    {
     "name": "stdout",
     "output_type": "stream",
     "text": [
      "{'English literacy', 'Mobile Money', 'Permission to work', 'Language of interview', 'Earning frequency', 'Urbanicity', 'Own a phone', 'Education', 'Main income earner', 'Bank', 'Children decision maker', 'Income frequency of spouse', 'Region', 'Mean household size', 'Permission to open bank', 'Money taken from account', 'Allow spouse to work', 'Land decision maker', 'Province', 'finalweight', '$2.50 PPP Poverty line', 'InstanceID', 'Savings goal decision maker', 'Independent phone use', 'Land ownership', 'Gender', 'Possibility to raise 1/20 GNI (Gross National Income)', 'Main language', 'Relationship status', 'Savings goal influence', 'Age Group', 'Spending decision maker', 'Informal financial usage', 'Migrant worker identity', 'Phone ownership'}\n",
      "<class 'pandas.core.frame.DataFrame'>\n",
      "RangeIndex: 3000 entries, 0 to 2999\n",
      "Data columns (total 35 columns):\n",
      " #   Column                                                 Non-Null Count  Dtype  \n",
      "---  ------                                                 --------------  -----  \n",
      " 0   InstanceID                                             3000 non-null   Int64  \n",
      " 1   finalweight                                            3000 non-null   float64\n",
      " 2   Gender                                                 3000 non-null   string \n",
      " 3   Relationship status                                    3000 non-null   string \n",
      " 4   Urbanicity                                             3000 non-null   string \n",
      " 5   Age Group                                              3000 non-null   string \n",
      " 6   Education                                              3000 non-null   string \n",
      " 7   English literacy                                       3000 non-null   string \n",
      " 8   Own a phone                                            3000 non-null   string \n",
      " 9   $2.50 PPP Poverty line                                 3000 non-null   string \n",
      " 10  Language of interview                                  3000 non-null   string \n",
      " 11  Main language                                          3000 non-null   string \n",
      " 12  Mean household size                                    3000 non-null   string \n",
      " 13  Region                                                 3000 non-null   string \n",
      " 14  Province                                               3000 non-null   string \n",
      " 15  Phone ownership                                        3000 non-null   string \n",
      " 16  Independent phone use                                  3000 non-null   string \n",
      " 17  Informal financial usage                               3000 non-null   string \n",
      " 18  Mobile Money                                           3000 non-null   string \n",
      " 19  Bank                                                   3000 non-null   string \n",
      " 20  Permission to open bank                                3000 non-null   string \n",
      " 21  Money taken from account                               3000 non-null   string \n",
      " 22  Savings goal decision maker                            3000 non-null   string \n",
      " 23  Savings goal influence                                 3000 non-null   string \n",
      " 24  Land ownership                                         3000 non-null   string \n",
      " 25  Land decision maker                                    3000 non-null   string \n",
      " 26  Children decision maker                                3000 non-null   string \n",
      " 27  Earning frequency                                      3000 non-null   string \n",
      " 28  Spending decision maker                                3000 non-null   string \n",
      " 29  Permission to work                                     3000 non-null   string \n",
      " 30  Main income earner                                     3000 non-null   string \n",
      " 31  Migrant worker identity                                3000 non-null   string \n",
      " 32  Possibility to raise 1/20 GNI (Gross National Income)  3000 non-null   string \n",
      " 33  Income frequency of spouse                             3000 non-null   string \n",
      " 34  Allow spouse to work                                   3000 non-null   string \n",
      "dtypes: Int64(1), float64(1), string(33)\n",
      "memory usage: 823.4 KB\n"
     ]
    },
    {
     "data": {
      "text/plain": [
       "None"
      ]
     },
     "metadata": {},
     "output_type": "display_data"
    }
   ],
   "source": [
    "## this will compare the columns for different dataset to help harmonize the results.\n",
    "compareDatasets(datasets)"
   ]
  },
  {
   "cell_type": "code",
   "execution_count": 13,
   "metadata": {
    "scrolled": false
   },
   "outputs": [
    {
     "name": "stdout",
     "output_type": "stream",
     "text": [
      "///////////////////////////////////////\n",
      "Population over which it was estimated\n",
      "_________________  ken2020\n",
      "Mujeres:  11265010.97035495\n",
      "Hombres:  10705085.832696838\n",
      "Total:  21970096.803051755\n",
      "_________________ \n",
      "Creating or patching the country\n",
      "Country Kenya created succesfully\n",
      "<Response [200]>\n",
      "______________________________\n",
      "Uploading the data\n",
      "{'ok': 1}\n"
     ]
    }
   ],
   "source": [
    "## Once we are happy with the result of above functions we will proceed to upload the data.\n",
    "for dataset in datasets:\n",
    "    print('///////////////////////////////////////')\n",
    "    myInfo = saveData(dataset, OutPath, env='staging', section='mobile')\n",
    "    print('Creating or patching the country')\n",
    "    print(upsertCountry(myInfo, auth))\n",
    "    print('______________________________')\n",
    "    print('Uploading the data')\n",
    "    print(uploadDataFunction(myInfo, auth))"
   ]
  },
  {
   "cell_type": "code",
   "execution_count": null,
   "metadata": {},
   "outputs": [],
   "source": []
  }
 ],
 "metadata": {
  "kernelspec": {
   "display_name": "Python 3",
   "language": "python",
   "name": "python3"
  },
  "language_info": {
   "codemirror_mode": {
    "name": "ipython",
    "version": 3
   },
   "file_extension": ".py",
   "mimetype": "text/x-python",
   "name": "python",
   "nbconvert_exporter": "python",
   "pygments_lexer": "ipython3",
   "version": "3.8.0"
  }
 },
 "nbformat": 4,
 "nbformat_minor": 4
}
