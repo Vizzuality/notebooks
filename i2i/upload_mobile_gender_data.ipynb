{
 "cells": [
  {
   "cell_type": "markdown",
   "metadata": {},
   "source": [
    "# Process to upload data."
   ]
  },
  {
   "cell_type": "markdown",
   "metadata": {},
   "source": [
    "## Steps to follow to make an import:\n",
    "1.- Check the data: format, column labeling, data types, typos inside data categories for each indicator etc.  \n",
    "2.- Once we are happy with the data we need to produce the matchJson for indicators; this json will map the colum name indicators with the harmonize ones we have on the DB.\n"
   ]
  },
  {
   "cell_type": "code",
   "execution_count": 1,
   "metadata": {},
   "outputs": [],
   "source": [
    "import os\n",
    "import zipfile\n",
    "import pandas as pd\n",
    "import requests\n",
    "import numpy as np\n",
    "import itertools\n",
    "import difflib\n",
    "import json\n",
    "import re\n",
    "import getpass\n",
    "\n",
    "import pycountry\n",
    "from IPython.display import display, Markdown\n",
    "pd.set_option('display.max_row', None)\n",
    "pd.set_option('display.max_columns', None)\n",
    "basePath= os.getcwd()"
   ]
  },
  {
   "cell_type": "markdown",
   "metadata": {},
   "source": [
    "#### management tips\n",
    "* Not all datasets will have the same columns.  \n",
    "* Allways trim and substitute empty values by null ones.  "
   ]
  },
  {
   "cell_type": "markdown",
   "metadata": {},
   "source": [
    "#### Functions for management"
   ]
  },
  {
   "cell_type": "code",
   "execution_count": 2,
   "metadata": {},
   "outputs": [],
   "source": [
    "def capitalize(matchobj):\n",
    "    return matchobj.group(0).upper()\n",
    "\n",
    "def checkDataset(datasetPath, iso, year, kargs={'decimal':',', 'sep':';'}, clean=True):\n",
    "    \"\"\"\n",
    "    This will open the dataset and make some itial checks: \n",
    "    (data types, column names and will try to solve some common cleaning issues)\n",
    "    \"\"\"\n",
    "    if datasetPath.split('.')[-1] in ['xlsx']:\n",
    "        dataset =  pd.read_excel(datasetPath, **kargs) \\\n",
    "                .convert_dtypes()\n",
    "    elif datasetPath.split('.')[-1] in ['csv']:\n",
    "        dataset = pd.read_csv(datasetPath, **kargs, low_memory=False) \\\n",
    "                .convert_dtypes()\n",
    "    else:\n",
    "            raise Exception('format not allowed')\n",
    "    dataset_columns = set(dataset.columns.sort_values(ascending=True).values)\n",
    "    display(Markdown(f'## {iso.lower()}{year}'))\n",
    "    display(dataset.head(2))\n",
    "    display(dataset.describe(include='all').transpose())\n",
    "    display(Markdown(f'### Columns descriptions'))\n",
    "    for col in dataset.columns.values:\n",
    "        display(Markdown(f'#### **column:** {col} ----- **dtype**: {dataset[col].dtype}'))\n",
    "        if len(dataset[col].unique()) < 50:\n",
    "            display(Markdown(f'##### Before clean applied'))\n",
    "            print(dataset[col].unique())\n",
    "        ## This is for preliminary clean\n",
    "        if pd.api.types.is_string_dtype(dataset[col]) and clean:\n",
    "            dataset[col] = dataset[col].str.strip() \\\n",
    "                                .str.strip(',') \\\n",
    "                                .str.rstrip('\\,') \\\n",
    "                                .str.lower() \\\n",
    "                                .str.capitalize() \\\n",
    "                                .str.replace(re.compile(r'( years)$', flags=re.IGNORECASE), '') \\\n",
    "                                .str.replace(re.compile(r'(55)$', flags=re.IGNORECASE), '55+') \\\n",
    "                                .str.replace(re.compile(r'(Urbain)', flags=re.IGNORECASE), 'Urban') \\\n",
    "                                .str.replace(re.compile(r'(Above 60)', flags=re.IGNORECASE), '>60') \\\n",
    "                                .str.replace(re.compile(r'(Under 18)', flags=re.IGNORECASE), '<18') \\\n",
    "                                .str.replace(re.compile(r'\\/[aA-zZ]', flags=re.IGNORECASE), capitalize) \\\n",
    "                                .str.replace(re.compile(r'( i )'), ' I ') \\\n",
    "                                .str.replace('dont','don’t') \\\n",
    "                                .str.replace('Dont','Don’t') \\\n",
    "                                .str.replace('Informally','Informal')\n",
    "            if col == 'Land decision maker':\n",
    "                dataset[col] = dataset[col].str.strip() \\\n",
    "                                .str.lower() \\\n",
    "                                .str.capitalize()\n",
    "                dataset[col] = dataset[col].replace('','Don’t own land')\n",
    "            if col == 'Spending decision maker':\n",
    "                dataset[col] = dataset[col].str.strip() \\\n",
    "                                .str.lower() \\\n",
    "                                .str.capitalize()\n",
    "                dataset[col] = dataset[col].replace('Someone else decides for me','Someone else decides')\n",
    "            display(Markdown(f'##### After clean applied'))\n",
    "            print(dataset[col].unique())\n",
    "        \n",
    "    return [dataset, dataset_columns, f'{iso.lower()}{year}']\n",
    "\n",
    "def calculatePopulation(data):\n",
    "    print('Population over which it was estimated')\n",
    "    poblacion = sum(data[0]['finalweight'])\n",
    "    mujeres = data[0][data[0]['Gender'] == 'Female']\n",
    "    total_mujeres = sum(mujeres['finalweight'])\n",
    "    hombres = data[0][data[0]['Gender'] == 'Male']\n",
    "    total_hombres = sum(hombres['finalweight'])\n",
    "    print('_________________ ',f'{data[2]}')\n",
    "    print('Mujeres: ',total_mujeres)\n",
    "    print('Hombres: ',total_hombres)\n",
    "    print('Total: ', poblacion)\n",
    "    print('_________________ ')\n",
    "    \n",
    "\n",
    "def compareDatasets(dfvaris:list, column_remap = {'stratum': 'Stratum',\n",
    "                                              #'D3': 'M_D3',\n",
    "                                              'Allow spouse to work,,':'Allow spouse to work',\n",
    "                                              ' Phone ownership':'Phone ownership',\n",
    "                                              #'Gender': 'gender',\n",
    "                                              'Urban_Rural': 'Urb_Rur',\n",
    "                                            'Marital / relationship status': 'Marital Status',\n",
    "                                             'Urbanicity': 'Geographic Area',\n",
    "                                             'Age Group': 'Age',\n",
    "                                             'Education': 'Level of education',\n",
    "                                             '$2.50 PPP Poverty line': 'Poverty line'}):\n",
    "    \"\"\"\n",
    "    dfvaris list of lists [[dataset, datasetCols,'isoYEAR']]\n",
    "    column_remap if you need to remap columns\n",
    "    \"\"\"\n",
    "    issueCols=set()\n",
    "    for i, data in enumerate(dfvaris):\n",
    "        ## Rename columns if needed    \n",
    "        data[0].rename(inplace=True, columns=column_remap)\n",
    "        \n",
    "        dfvaris[i][1]=set(data[0].columns.sort_values(ascending=True).values)\n",
    "        print(dfvaris[i][1])\n",
    "        issueCols = dfvaris[i][1] - issueCols\n",
    "        display(data[0].info())\n",
    "    \n",
    "    valuesCols={}\n",
    "    closetsCols={}\n",
    "    #################### this code will compare pairs of column outputs to homogeinaze the data.\n",
    "    for a, b in itertools.combinations(dfvaris, 2):\n",
    "        al=set(map(str.lower,a[1]))\n",
    "        bl=set(map(str.lower,b[1]))\n",
    "        c=a[1]-b[1]\n",
    "        cl=al-bl\n",
    "        d=b[1]-a[1]\n",
    "        dl=bl-al\n",
    "        symCols = a[1] & b[1]\n",
    "        print('=========================  ', a[2], ' - ', b[2])\n",
    "        print('Good matched columns')\n",
    "        for i in symCols:\n",
    "            if str(a[0].dtypes[i]) != str(b[0].dtypes[i]):\n",
    "                print('+++++++++++++++++++++')\n",
    "                print(a[2],a[0][i].dtype,' different dtype ',b[2],b[0][i].dtype)\n",
    "                print('+++++++++++++++++++++')\n",
    "\n",
    "            if len(a[0][i].unique()) < 20 and len(b[0][i].unique()) < 20:\n",
    "                print('-',i)\n",
    "\n",
    "                print('> {0}: {1}'.format(a[2],a[0][i].unique()))\n",
    "                print('> {0}: {1}'.format(b[2],b[0][i].unique()))\n",
    "                r = difflib.get_close_matches(i, possibilities = valuesCols.keys(), n = 1, cutoff = 0.98)\n",
    "                if not r:\n",
    "                    valuesCols[i]=set()\n",
    "                    closetsCols[i]=set()\n",
    "                else:\n",
    "                    print('*********')\n",
    "                    print(r)\n",
    "                    print('*********')\n",
    "\n",
    "                    valuesCols[r[0]].update(a[0][i].unique())\n",
    "                    valuesCols[r[0]].update(b[0][i].unique())\n",
    "                    print(r[0])\n",
    "                    print(i)\n",
    "                    print(round(difflib.SequenceMatcher(None, r[0], i).ratio(),3))\n",
    "                    closetsCols[i].update(set(r))\n",
    "            \n",
    "    \n",
    "        print(\"Columns that doesn't have a full match from both datasets\", al^bl)\n",
    "        for search in cl:\n",
    "            matches = sorted(dl, key=lambda x: difflib.SequenceMatcher(None, x.lower(), search.lower()).ratio(), reverse=True)  \n",
    "            if round(difflib.SequenceMatcher(None, matches[0], search).ratio(),3) > 0.8:\n",
    "                print('--------')\n",
    "                display(Markdown(\"**{0}** se compara con {1} el más parecido es {2} con un ratio de: {3}\".format(search, matches, matches[0], round(difflib.SequenceMatcher(None, matches[0], search).ratio(),3)))) \n"
   ]
  },
  {
   "cell_type": "markdown",
   "metadata": {},
   "source": [
    "#### Functions to upload to the api"
   ]
  },
  {
   "cell_type": "markdown",
   "metadata": {},
   "source": [
    "Indicators needs to be on the API first; to do so you need to edit this files:\n",
    "* [National surveys](https://github.com/Vizzuality/i2i-api/blob/develop/app/src/data/indicators.json)\n",
    "* [MSME](https://github.com/Vizzuality/i2i-api/blob/develop/app/src/data/msme-indicators.json)\n",
    "* [Mobile surveys](https://github.com/Vizzuality/i2i-api/blob/develop/app/src/data/ms-indicators.json)\n",
    "\n",
    "After editing the above one make sure they are categorized on the fron here:\n",
    "* [National surveys](https://github.com/Vizzuality/i2i/blob/develop/app/assets/javascripts/collections/data_portal)\n",
    "* [MSME](https://github.com/Vizzuality/i2i/blob/develop/app/assets/javascripts/collections/data_portal)\n",
    "* [Mobile surveys](https://github.com/Vizzuality/i2i/blob/develop/app/assets/javascripts/collections/data_portal/ExploratorySurveyIndicatorsCollection.js)"
   ]
  },
  {
   "cell_type": "code",
   "execution_count": 3,
   "metadata": {},
   "outputs": [],
   "source": [
    "\"\"\"\n",
    "This is used to generate the matching json to upload a file, the column names should match with each object\n",
    "\"\"\"\n",
    "useJson =json.loads(\"\"\"{\n",
    "    \"weightColumn\": \"finalweight\",\n",
    "    \"indicators\":{\n",
    "        \"Urb_Rur\": {\n",
    "            \"indicatorId\": \"geographic_area\",\n",
    "            \"childIndicatorId\": null,\n",
    "            \"answerId\": null\n",
    "        },\n",
    "        \"Urbanicity\": {\n",
    "            \"indicatorId\": \"geographic_area\",\n",
    "            \"childIndicatorId\": null,\n",
    "            \"answerId\": null\n",
    "        },\n",
    "        \"Province\":{\n",
    "            \"indicatorId\": \"jurisdiction\",\n",
    "            \"childIndicatorId\": null,\n",
    "            \"answerId\": null\n",
    "        },\n",
    "        \"M_D3\": {\n",
    "            \"indicatorId\": \"gender\",\n",
    "            \"childIndicatorId\": null,\n",
    "            \"answerId\": null\n",
    "        },\n",
    "        \"Gender\": {\n",
    "            \"indicatorId\": \"gender\",\n",
    "            \"childIndicatorId\": null,\n",
    "            \"answerId\": null\n",
    "        },\n",
    "        \"i2i_Age\": {\n",
    "            \"indicatorId\": \"age\",\n",
    "            \"childIndicatorId\": null,\n",
    "            \"answerId\": null\n",
    "        },\n",
    "        \"Age Group\": {\n",
    "            \"indicatorId\": \"age\",\n",
    "            \"childIndicatorId\": null,\n",
    "            \"answerId\": null\n",
    "        },\n",
    "        \"i2i_Marital_Status\":{\n",
    "            \"indicatorId\": \"i2i_Marital_Status\",\n",
    "            \"childIndicatorId\": null,\n",
    "            \"answerId\": null\n",
    "        },\n",
    "        \"Relationship status\":{\n",
    "            \"indicatorId\": \"i2i_Marital_Status\",\n",
    "            \"childIndicatorId\": null,\n",
    "            \"answerId\": null\n",
    "        },\n",
    "        \"i2i_Education\": {\n",
    "            \"indicatorId\": \"i2i_Education\",\n",
    "            \"childIndicatorId\": null,\n",
    "            \"answerId\": null\n",
    "        },\n",
    "        \"Education\": {\n",
    "            \"indicatorId\": \"i2i_Education\",\n",
    "            \"childIndicatorId\": null,\n",
    "            \"answerId\": null\n",
    "        },\n",
    "        \"English literacy\": {\n",
    "            \"indicatorId\": \"english_literacy\",\n",
    "            \"childIndicatorId\": null,\n",
    "            \"answerId\": null\n",
    "        },\n",
    "        \"Language of interview\": {\n",
    "            \"indicatorId\": \"interview_lan\",\n",
    "            \"childIndicatorId\": null,\n",
    "            \"answerId\": null\n",
    "        },\n",
    "        \"Main language\": {\n",
    "            \"indicatorId\": \"main_lan\",\n",
    "            \"childIndicatorId\": null,\n",
    "            \"answerId\": null\n",
    "        },\n",
    "        \"Mean household size\": {\n",
    "            \"indicatorId\": \"household_size\",\n",
    "            \"childIndicatorId\": null,\n",
    "            \"answerId\": null\n",
    "        },\n",
    "        \"Own a phone\": {\n",
    "            \"indicatorId\": \"own_phone\",\n",
    "            \"childIndicatorId\": null,\n",
    "            \"answerId\": null\n",
    "        },\n",
    "        \"Phone ownership\": {\n",
    "            \"indicatorId\": \"who_phone\",\n",
    "            \"childIndicatorId\": null,\n",
    "            \"answerId\": null\n",
    "        },\n",
    "        \"Independent phone use\": {\n",
    "            \"indicatorId\": \"phone_use\",\n",
    "            \"childIndicatorId\": null,\n",
    "            \"answerId\": null\n",
    "        },\n",
    "        \"Informal financial usage\": {\n",
    "            \"indicatorId\": \"phone_use_financial\",\n",
    "            \"childIndicatorId\": null,\n",
    "            \"answerId\": null\n",
    "        },\n",
    "        \"i2i_Source_of_Income\": {\n",
    "            \"indicatorId\": \"i2i_Income_Sources\",\n",
    "            \"childIndicatorId\": null,\n",
    "            \"answerId\": null\n",
    "        },\n",
    "        \"Water_source_type\":{\n",
    "            \"indicatorId\": \"water_source_type\",\n",
    "            \"childIndicatorId\": null,\n",
    "            \"answerId\": null\n",
    "        },\n",
    "        \"Toilet_type\":{\n",
    "            \"indicatorId\": \"toilet_type\",\n",
    "            \"childIndicatorId\": null,\n",
    "            \"answerId\": null\n",
    "        },\n",
    "        \"Cooking_energy\":{\n",
    "            \"indicatorId\": \"cooking_energy_type\",\n",
    "            \"childIndicatorId\": null,\n",
    "            \"answerId\": null\n",
    "        },\n",
    "        \"Electricity_access\":{\n",
    "            \"indicatorId\": \"electricity_access_type\",\n",
    "            \"childIndicatorId\": null,\n",
    "            \"answerId\": null\n",
    "        },\n",
    "        \"USD_per_day\":{\n",
    "            \"indicatorId\": \"usd_per_day\",\n",
    "            \"childIndicatorId\": null,\n",
    "            \"answerId\": null\n",
    "        },\n",
    "        \"Poverty_line\":{\n",
    "            \"indicatorId\": \"poverty_line\",\n",
    "            \"childIndicatorId\": null,\n",
    "            \"answerId\": null\n",
    "        },\n",
    "        \"$2.50 PPP Poverty line\":{\n",
    "            \"indicatorId\": \"poverty_line\",\n",
    "            \"childIndicatorId\": null,\n",
    "            \"answerId\": null\n",
    "        },\n",
    "        \"Land ownership\":{\n",
    "            \"indicatorId\": \"land_owner\",\n",
    "            \"childIndicatorId\": null,\n",
    "            \"answerId\": null\n",
    "        },\n",
    "        \"Land decision maker\":{\n",
    "            \"indicatorId\": \"land_decission\",\n",
    "            \"childIndicatorId\": null,\n",
    "            \"answerId\": null\n",
    "        },\n",
    "        \"Children decision maker\":{\n",
    "            \"indicatorId\": \"children_decission\",\n",
    "            \"childIndicatorId\": null,\n",
    "            \"answerId\": null\n",
    "        },\n",
    "        \"Earning frequency\":{\n",
    "            \"indicatorId\": \"earning_freq\",\n",
    "            \"childIndicatorId\": null,\n",
    "            \"answerId\": null\n",
    "        },\n",
    "        \"Spending decision maker\":{\n",
    "            \"indicatorId\": \"spending_decission\",\n",
    "            \"childIndicatorId\": null,\n",
    "            \"answerId\": null\n",
    "        },\n",
    "        \"Permission to work\":{\n",
    "            \"indicatorId\": \"permission_work\",\n",
    "            \"childIndicatorId\": null,\n",
    "            \"answerId\": null\n",
    "        },\n",
    "        \"Main income earner\":{\n",
    "            \"indicatorId\": \"main_income_earned\",\n",
    "            \"childIndicatorId\": null,\n",
    "            \"answerId\": null\n",
    "        },\n",
    "        \"Migrant worker identity\":{\n",
    "            \"indicatorId\": \"migrant_work\",\n",
    "            \"childIndicatorId\": null,\n",
    "            \"answerId\": null\n",
    "        },\n",
    "        \"Possibility to raise 1/20 GNI (Gross National Income)\":{\n",
    "            \"indicatorId\": \"raise_gni\",\n",
    "            \"childIndicatorId\": null,\n",
    "            \"answerId\": null\n",
    "        },\n",
    "        \"Income frequency of spouse\":{\n",
    "            \"indicatorId\": \"freq_inconme_spouse\",\n",
    "            \"childIndicatorId\": null,\n",
    "            \"answerId\": null\n",
    "        },\n",
    "        \"Allow spouse to work\":{\n",
    "            \"indicatorId\": \"allow_spouse_work\",\n",
    "            \"childIndicatorId\": null,\n",
    "            \"answerId\": null\n",
    "        },\n",
    "        \"Bank\": {\n",
    "            \"indicatorId\": \"bank\",\n",
    "            \"childIndicatorId\": null,\n",
    "            \"answerId\": 1\n",
    "        },\n",
    "        \"Permission to open bank\": {\n",
    "            \"indicatorId\": \"bank_permission\",\n",
    "            \"childIndicatorId\": null,\n",
    "            \"answerId\": 1\n",
    "        },\n",
    "        \"Money taken from account\": {\n",
    "            \"indicatorId\": \"account_money_taken\",\n",
    "            \"childIndicatorId\": null,\n",
    "            \"answerId\": 1\n",
    "        },\n",
    "        \"Savings goal decision maker\": {\n",
    "            \"indicatorId\": \"saving_goal_deccision\",\n",
    "            \"childIndicatorId\": null,\n",
    "            \"answerId\": 1\n",
    "        },\n",
    "        \"Savings goal influence\": {\n",
    "            \"indicatorId\": \"saving_goal_influence\",\n",
    "            \"childIndicatorId\": null,\n",
    "            \"answerId\": 1\n",
    "        },\n",
    "        \"Banked\": {\n",
    "            \"indicatorId\": \"fas_strand\",\n",
    "            \"childIndicatorId\": null,\n",
    "            \"answerId\": 1\n",
    "        },\n",
    "        \"Other_formal\": {\n",
    "            \"indicatorId\": \"fas_strand\",\n",
    "            \"childIndicatorId\": null,\n",
    "            \"answerId\": 2\n",
    "        },\n",
    "        \"Informal\": {\n",
    "            \"indicatorId\": \"fas_strand\",\n",
    "            \"childIndicatorId\": null,\n",
    "            \"answerId\": 3\n",
    "        },\n",
    "        \"fas_access\": {\n",
    "            \"indicatorId\": \"fas_strand\",\n",
    "            \"childIndicatorId\": null,\n",
    "            \"answerId\": 4\n",
    "        },\n",
    "        \"Saving_B\":{\n",
    "            \"indicatorId\": \"savings_strand\",\n",
    "            \"childIndicatorId\": null,\n",
    "            \"answerId\": 1\n",
    "        },\n",
    "        \"Saving_F\":{\n",
    "            \"indicatorId\": \"savings_strand\",\n",
    "            \"childIndicatorId\": null,\n",
    "            \"answerId\": 2\n",
    "        },\n",
    "        \"Saving_Inf\":{\n",
    "            \"indicatorId\": \"savings_strand\",\n",
    "            \"childIndicatorId\": null,\n",
    "            \"answerId\": 3\n",
    "        },\n",
    "        \"Saving_AH\":{\n",
    "            \"indicatorId\": \"savings_strand\",\n",
    "            \"childIndicatorId\": null,\n",
    "            \"answerId\": 4\n",
    "        },\n",
    "        \"saving_access\":{\n",
    "            \"indicatorId\": \"savings_strand\",\n",
    "            \"childIndicatorId\": null,\n",
    "            \"answerId\": 5\n",
    "        },\n",
    "        \"Remittances_B\":{\n",
    "            \"indicatorId\": \"remittances_strand\",\n",
    "            \"childIndicatorId\": null,\n",
    "            \"answerId\": 1\n",
    "        },\n",
    "        \"Remittances_F\":{\n",
    "            \"indicatorId\": \"remittances_strand\",\n",
    "            \"childIndicatorId\": null,\n",
    "            \"answerId\": 2\n",
    "        },\n",
    "        \"Remittances_Inf\":{\n",
    "            \"indicatorId\": \"remittances_strand\",\n",
    "            \"childIndicatorId\": null,\n",
    "            \"answerId\": 3\n",
    "        },\n",
    "        \"Remittances_FF\":{\n",
    "            \"indicatorId\": \"remittances_strand\",\n",
    "            \"childIndicatorId\": null,\n",
    "            \"answerId\": 4\n",
    "        },\n",
    "        \"remittances_access\":{\n",
    "            \"indicatorId\": \"remittances_strand\",\n",
    "            \"childIndicatorId\": null,\n",
    "            \"answerId\": 5\n",
    "        },\n",
    "        \"Insurance_F\":{\n",
    "            \"indicatorId\": \"insurance_strand\",\n",
    "            \"childIndicatorId\": null,\n",
    "            \"answerId\": 1\n",
    "        },\n",
    "        \"Insurance_Inf\":{\n",
    "            \"indicatorId\": \"insurance_strand\",\n",
    "            \"childIndicatorId\": null,\n",
    "            \"answerId\": 2\n",
    "        },\n",
    "        \"Insurance_B\":{\n",
    "            \"indicatorId\": \"insurance_strand\",\n",
    "            \"childIndicatorId\": null,\n",
    "            \"answerId\": 3\n",
    "        },\n",
    "        \"insurance_access\":{\n",
    "            \"indicatorId\": \"insurance_strand\",\n",
    "            \"childIndicatorId\": null,\n",
    "            \"answerId\": 4\n",
    "        },\n",
    "        \"Credit_B\":{\n",
    "            \"indicatorId\": \"credit_strand\",\n",
    "            \"childIndicatorId\": null,\n",
    "            \"answerId\": 1\n",
    "        },\n",
    "        \"Credit_F\":{\n",
    "            \"indicatorId\": \"credit_strand\",\n",
    "            \"childIndicatorId\": null,\n",
    "            \"answerId\": 2\n",
    "        },\n",
    "        \"Credit_Inf\":{\n",
    "            \"indicatorId\": \"credit_strand\",\n",
    "            \"childIndicatorId\": null,\n",
    "            \"answerId\": 3\n",
    "        },\n",
    "        \"Credit_FF\":{\n",
    "            \"indicatorId\": \"credit_strand\",\n",
    "            \"childIndicatorId\": null,\n",
    "            \"answerId\": 4\n",
    "        },\n",
    "        \"credit_access\":{\n",
    "            \"indicatorId\": \"credit_strand\",\n",
    "            \"childIndicatorId\": null,\n",
    "            \"answerId\": 5\n",
    "        },\n",
    "        \"Weight_Ind\":{\n",
    "            \"indicatorId\": \"weight_ind\",\n",
    "            \"childIndicatorId\": null,\n",
    "            \"answerId\": null\n",
    "        },\n",
    "        \"FAS\":{\n",
    "            \"indicatorId\": \"total_fas_strand\",\n",
    "            \"childIndicatorId\": null,\n",
    "            \"answerId\": 1\n",
    "        },\n",
    "        \"Saving_Strand\":{\n",
    "            \"indicatorId\": \"total_saving_strand\",\n",
    "            \"childIndicatorId\": null,\n",
    "            \"answerId\": 2\n",
    "        },\n",
    "        \"Remittances_Strand\":{\n",
    "            \"indicatorId\": \"total_remittances_strand\",\n",
    "            \"childIndicatorId\": null,\n",
    "            \"answerId\": 3\n",
    "        },\n",
    "        \"Insurance_Strand\":{\n",
    "            \"indicatorId\": \"total_insurance_strand\",\n",
    "            \"childIndicatorId\": null,\n",
    "            \"answerId\": 4\n",
    "        },\n",
    "        \"Credit_Strand\":{\n",
    "            \"indicatorId\": \"total_credit_strand\",\n",
    "            \"childIndicatorId\": null,\n",
    "            \"answerId\": 5\n",
    "        },\n",
    "        \"Mobile_money\":{\n",
    "            \"indicatorId\": \"mobile_money\",\n",
    "            \"childIndicatorId\": null,\n",
    "            \"answerId\": null\n",
    "        },\n",
    "        \"Mobile Money\":{\n",
    "            \"indicatorId\": \"mobile_money\",\n",
    "            \"childIndicatorId\": null,\n",
    "            \"answerId\": null\n",
    "        },\n",
    "        \"Marital Status\": {\n",
    "            \"indicatorId\": \"i2i_Marital_Status\", \n",
    "            \"childIndicatorId\": null, \n",
    "            \"answerId\": null\n",
    "        }, \n",
    "        \"Geographic Area\": {\n",
    "            \"indicatorId\": \"geographic_area\", \n",
    "            \"childIndicatorId\": null, \n",
    "            \"answerId\": null\n",
    "        }, \n",
    "        \"Age\": {\n",
    "            \"indicatorId\": \"age\", \n",
    "            \"childIndicatorId\": null, \n",
    "            \"answerId\": null\n",
    "        }, \n",
    "        \"Level of education\": {\n",
    "            \"indicatorId\": \"i2i_Education\", \n",
    "            \"childIndicatorId\": null, \n",
    "            \"answerId\": null\n",
    "        }, \n",
    "        \"Poverty line\": {\n",
    "            \"indicatorId\": \"poverty_line\", \n",
    "            \"childIndicatorId\": null, \n",
    "            \"answerId\": null\n",
    "        }, \n",
    "        \"Province / Region\": {\n",
    "            \"indicatorId\": \"region\", \n",
    "            \"childIndicatorId\": null, \n",
    "            \"answerId\": null\n",
    "        }, \n",
    "        \"Read & write in any language\": {\n",
    "            \"indicatorId\": \"lang_literacy\", \n",
    "            \"childIndicatorId\": null, \n",
    "            \"answerId\": null\n",
    "        }, \n",
    "        \"Division\": {\n",
    "            \"indicatorId\": \"division\", \n",
    "            \"childIndicatorId\": null, \n",
    "            \"answerId\": null\n",
    "        }, \n",
    "        \"Swahili literacy\": {\n",
    "            \"indicatorId\": \"swahili_literacy\", \n",
    "            \"childIndicatorId\": null, \n",
    "            \"answerId\": null\n",
    "        }\n",
    "    }\n",
    "}\"\"\")"
   ]
  },
  {
   "cell_type": "code",
   "execution_count": 4,
   "metadata": {},
   "outputs": [],
   "source": [
    "def saveData(data, dataOutPath, env='staging', section='mobile'):\n",
    "    \n",
    "    base = {\n",
    "        'staging':'https://staging.i2ifacility.org',\n",
    "        'production':'http://i2i.vizzuality.com'\n",
    "        }\n",
    "    sect = {\n",
    "        'ns':  'api/v1',\n",
    "        'msme':'msme-api/v1',\n",
    "        'mobile': 'ms-api/v2'\n",
    "        }\n",
    "    columnst = list(useJson['indicators'].keys())\n",
    "    columnst.append('finalweight')\n",
    "    AceptedColumns = set(columnst)\n",
    "    calculatePopulation(data)\n",
    "    baseUrl = f'{base[env]}/{sect[section]}'\n",
    "    columns = (AceptedColumns & set(data[0].columns.sort_values(ascending=True).values))\n",
    "    info = {\n",
    "        'iso': data[2][0:3].upper(),\n",
    "        'year': int(data[2][3:]),\n",
    "        'total': sum(data[0]['finalweight']),\n",
    "        'fileUrl': f'{dataOutPath}/{data[2]}.csv',\n",
    "        'jsonUrl': f'{dataOutPath}/{data[2]}.json',\n",
    "        'baseUrl': f'{base[env]}/{sect[section]}/country'\n",
    "        }\n",
    "    info.update({'url': f\"{info['baseUrl']}/{info['iso']}/{info['year']}/dataset\",\n",
    "                 'dataUrl':f\"https://s3-us-west-2.amazonaws.com/i2ifacility.org/{info['iso']}/{sect[section]}/{info['year']}.zip\"\n",
    "                })\n",
    "    #save the data\n",
    "    data[0][list(columns)].to_csv(info['fileUrl'])\n",
    "    #save the key json\n",
    "    outCol = dict((key,value) for key, value in useJson[\"indicators\"].items() if key in columns)\n",
    "    myJson = {\n",
    "        \"weightColumn\": \"finalweight\",\n",
    "        \"indicators\": outCol}\n",
    "    with open(info['jsonUrl'], 'w') as outfile:\n",
    "        json.dump(myJson, outfile)\n",
    "    \n",
    "    return info\n",
    "\n",
    "def upsertCountry(info, auth, op='POST'):\n",
    "    \"\"\"\n",
    "    Recive info as an dict with:\n",
    "    {\n",
    "    iso:\n",
    "    year:\n",
    "    total:\n",
    "    fileUrl:\n",
    "    jsonUrl: \n",
    "    url:\n",
    "    baseUrl:\n",
    "    }\n",
    "    \"\"\"\n",
    "    wanted_keys = ['iso', 'year', 'total', 'dataUrl'] # The keys you want\n",
    "    body = dict((k, info[k]) for k in wanted_keys if k in info)\n",
    "    countryName = pycountry.countries.get(alpha_3=info['iso'])\n",
    "    if not countryName:\n",
    "        raise ValueError(f\"{info['iso']} not a country alpha_3 iso code\")\n",
    "\n",
    "    \n",
    "    body.update({\"name\":countryName.name})\n",
    "    \n",
    "    try:\n",
    "        url= f\"{info['baseUrl']}\" if op == 'POST' else f\"{info['baseUrl']}/{info['iso']}\"\n",
    "        s = requests.request(op, url, auth=auth, json=body)\n",
    "        s.raise_for_status()\n",
    "        print(f'Country {body[\"name\"]} {(\"created\" if op==\"POST\" else \"updated\")} succesfully')\n",
    "    except requests.exceptions.HTTPError as e:\n",
    "        if e.response.status_code == 400:\n",
    "            s = upsertCountry(info, auth,  op='PATCH')\n",
    "        else:\n",
    "            print(e.response.text)\n",
    "    return s\n",
    "    \n",
    "def uploadDataFunction(info, auth):\n",
    "    \"\"\"\n",
    "    Recive info as an dict with:\n",
    "    {\n",
    "    iso:\n",
    "    year:\n",
    "    fileUrl:\n",
    "    jsonUrl: \n",
    "    url:\n",
    "    baseUrl:\n",
    "    }\n",
    "    \"\"\" \n",
    "    files1 = {'json': open(info[\"jsonUrl\"], 'rb'), 'csv': open(info[\"fileUrl\"], 'rb')}\n",
    "    r = requests.post(info[\"url\"], auth=auth, files=files1)\n",
    "    return r.json()\n"
   ]
  },
  {
   "cell_type": "markdown",
   "metadata": {},
   "source": [
    "### FULL PIPELINE"
   ]
  },
  {
   "cell_type": "code",
   "execution_count": 35,
   "metadata": {},
   "outputs": [
    {
     "name": "stdin",
     "output_type": "stream",
     "text": [
      "User:  ··········\n",
      "Password:  ············\n"
     ]
    }
   ],
   "source": [
    "### Requirements that need to be set:\n",
    "basePath = 'i2i_ms'\n",
    "OutPath = f'{basePath}/data/out'\n",
    "InPath = f'{basePath}/data'\n",
    "DatasetList = [\n",
    "    [f'{InPath}/200928 Kenya CAPI weighted outputs label update_revised poverty and labels.csv', 'ken', '2020'],\n",
    "    [f'{InPath}/200928 Pakistan CAPI weighted outputs.csv', 'pak', '2020'],\n",
    "    [f'{InPath}/200928 Uganda CAPI weighted outputs.csv', 'uga', '2020'],\n",
    "    [f'{InPath}/200928 Tanzania CAPI weighted outputs.csv', 'tza', '2020']\n",
    "    ]\n",
    "\n",
    "## 'vizzuality', '<check Last Pass>'\n",
    "user = getpass.getpass(prompt='User: ')\n",
    "password = getpass.getpass(prompt='Password: ')\n",
    "auth =requests.auth.HTTPBasicAuth(user, password)"
   ]
  },
  {
   "cell_type": "code",
   "execution_count": 36,
   "metadata": {},
   "outputs": [],
   "source": [
    "# if new indicators don't forget to add them here too\n",
    "useJson_t =json.loads(\"\"\"\n",
    "{\n",
    "    \"geographic_area\": \"Geographic Area\",\n",
    "    \"gender\": \"Gender\",\n",
    "    \"age\": \"Age\",\n",
    "    \"access_to_resources\": \"Access to Resources\",\n",
    "    \"dwelling_type\": \"Dwelling type: roof/dwelling\",\n",
    "    \"i2i_Marital_Status\": \"Marital Status\",\n",
    "    \"i2i_Education\": \"Level of education\",\n",
    "    \"i2i_Income_Sources\": \"Sources of income\",\n",
    "    \"toilet_type\": \"Sanitation type\",\n",
    "    \"cooking_energy_type\": \"Cooking energy source\",\n",
    "    \"electricity_access_type\": \"Electricity access\",\n",
    "    \"usd_per_day\": \"USD per day\",\n",
    "    \"poverty_line\": \"Poverty line\",\n",
    "    \"mobile_money\": \"Mobile Money\",\n",
    "    \"water_source_type\": \"Water source type\",\n",
    "    \"english_literacy\": \"English literacy\",\n",
    "    \"interview_lan\": \"Language of interview\",\n",
    "    \"own_phone\": \"Own a phone\",\n",
    "    \"who_phone\": \"Phone ownership\",\n",
    "    \"phone_use\": \"Independent phone use\",\n",
    "  \"phone_use_financial\": \"Informal financial usage\",\n",
    "    \"main_lan\": \"Main language\",\n",
    "    \"household_size\": \"Mean household size\",\n",
    "  \"mobile_money\":\"Mobile Money\",\n",
    "  \"bank\":\"Bank\",\n",
    "  \"bank_permission\":\"Permission to open bank\",\n",
    "  \"account_money_taken\":\"Money taken from account\",\n",
    "  \"saving_goal_deccision\":\"Savings goal decision maker\",\n",
    "  \"saving_goal_influence\":\"Savings goal influence\",\n",
    "  \"land_owner\":\"Land ownership\",\n",
    "  \"land_decission\":\"Land decision maker\",\n",
    "  \"children_decission\":\"Children decision maker\",\n",
    "  \"earning_freq\":\"Earning frequency\",\n",
    "  \"spending_decission\":\"Spending decision maker\",\n",
    "  \"permission_work\":\"Permission to work\",\n",
    "  \"main_income_earned\":\"Main income earner\",\n",
    "  \"migrant_work\":\"Migrant worker identity\",\n",
    "  \"raise_gni\":\"Possibility to raise 1/20 GNI (Gross National Income)\",\n",
    "  \"freq_inconme_spouse\":\"Income frequency of spouse\",\n",
    "  \"allow_spouse_work\":\"Allow spouse to work\",\n",
    "  \"region\":\"Province / Region\",\n",
    "  \"language_literacy\":\"Read & write in any language\",\n",
    "  \"division\":\"Division\",\n",
    "  \"swahili_literacy\":\"Swahili literacy\"\n",
    "}\n",
    " \"\"\")\n",
    "with open(f'{OutPath}/indicators.json', 'w') as outfile:\n",
    "    json.dump(useJson_t, outfile, sort_keys=True, indent=4)"
   ]
  },
  {
   "cell_type": "code",
   "execution_count": 37,
   "metadata": {},
   "outputs": [
    {
     "data": {
      "text/markdown": [
       "## ken2020"
      ],
      "text/plain": [
       "<IPython.core.display.Markdown object>"
      ]
     },
     "metadata": {},
     "output_type": "display_data"
    },
    {
     "data": {
      "text/html": [
       "<div>\n",
       "<style scoped>\n",
       "    .dataframe tbody tr th:only-of-type {\n",
       "        vertical-align: middle;\n",
       "    }\n",
       "\n",
       "    .dataframe tbody tr th {\n",
       "        vertical-align: top;\n",
       "    }\n",
       "\n",
       "    .dataframe thead th {\n",
       "        text-align: right;\n",
       "    }\n",
       "</style>\n",
       "<table border=\"1\" class=\"dataframe\">\n",
       "  <thead>\n",
       "    <tr style=\"text-align: right;\">\n",
       "      <th></th>\n",
       "      <th>InstanceID</th>\n",
       "      <th>finalweight</th>\n",
       "      <th>Gender</th>\n",
       "      <th>Marital / relationship status</th>\n",
       "      <th>Urbanicity</th>\n",
       "      <th>Age Group</th>\n",
       "      <th>Education</th>\n",
       "      <th>English literacy</th>\n",
       "      <th>Own a phone</th>\n",
       "      <th>$2.50 PPP Poverty line</th>\n",
       "      <th>Language of interview</th>\n",
       "      <th>Main language</th>\n",
       "      <th>Mean household size</th>\n",
       "      <th>Province / Region</th>\n",
       "      <th>Phone ownership</th>\n",
       "      <th>Independent phone use</th>\n",
       "      <th>Informal financial usage</th>\n",
       "      <th>Mobile Money</th>\n",
       "      <th>Bank</th>\n",
       "      <th>Permission to open bank</th>\n",
       "      <th>Money taken from account</th>\n",
       "      <th>Savings goal decision maker</th>\n",
       "      <th>Savings goal influence</th>\n",
       "      <th>Land ownership</th>\n",
       "      <th>Land decision maker</th>\n",
       "      <th>Children decision maker</th>\n",
       "      <th>Earning frequency</th>\n",
       "      <th>Spending decision maker</th>\n",
       "      <th>Permission to work</th>\n",
       "      <th>Main income earner</th>\n",
       "      <th>Migrant worker identity</th>\n",
       "      <th>Possibility to raise 1/20 GNI (Gross National Income)</th>\n",
       "      <th>Income frequency of spouse</th>\n",
       "      <th>Allow spouse to work,,</th>\n",
       "    </tr>\n",
       "  </thead>\n",
       "  <tbody>\n",
       "    <tr>\n",
       "      <th>0</th>\n",
       "      <td>770458</td>\n",
       "      <td>10776.661460</td>\n",
       "      <td>Male</td>\n",
       "      <td>Married/relationship</td>\n",
       "      <td>Urban</td>\n",
       "      <td>25-34</td>\n",
       "      <td>Secondary education</td>\n",
       "      <td>Fair</td>\n",
       "      <td>own phone</td>\n",
       "      <td>Above poverty line</td>\n",
       "      <td>English</td>\n",
       "      <td>Swahili</td>\n",
       "      <td>Below mean size</td>\n",
       "      <td>Nairobi</td>\n",
       "      <td>own phone/business/employer</td>\n",
       "      <td>Yes</td>\n",
       "      <td>no</td>\n",
       "      <td>Yes</td>\n",
       "      <td>unbanked</td>\n",
       "      <td>no</td>\n",
       "      <td>money not taken</td>\n",
       "      <td>others on behalf</td>\n",
       "      <td>sometimes accepted/rejected</td>\n",
       "      <td>dont own</td>\n",
       "      <td></td>\n",
       "      <td>decide together</td>\n",
       "      <td>Daily</td>\n",
       "      <td>Help from someone else</td>\n",
       "      <td>Already working</td>\n",
       "      <td>respondent</td>\n",
       "      <td>No-one, all live together</td>\n",
       "      <td>Not very possible</td>\n",
       "      <td>dont work</td>\n",
       "      <td>Yes</td>\n",
       "    </tr>\n",
       "    <tr>\n",
       "      <th>1</th>\n",
       "      <td>770459</td>\n",
       "      <td>9983.318465</td>\n",
       "      <td>Female</td>\n",
       "      <td>Married/relationship</td>\n",
       "      <td>Urban</td>\n",
       "      <td>25-34</td>\n",
       "      <td>Primary education</td>\n",
       "      <td>Good</td>\n",
       "      <td>own phone</td>\n",
       "      <td>Above poverty line</td>\n",
       "      <td>Swahili</td>\n",
       "      <td>Swahili</td>\n",
       "      <td>Below mean size</td>\n",
       "      <td>Nairobi</td>\n",
       "      <td>own phone/business/employer</td>\n",
       "      <td>Yes</td>\n",
       "      <td>no</td>\n",
       "      <td>Yes</td>\n",
       "      <td>unbanked</td>\n",
       "      <td>no</td>\n",
       "      <td>money not taken</td>\n",
       "      <td>self alone</td>\n",
       "      <td>sometimes accepted/rejected</td>\n",
       "      <td>own by self</td>\n",
       "      <td>Others decide without me</td>\n",
       "      <td>decide together</td>\n",
       "      <td>Weekly/biweekly</td>\n",
       "      <td>Help from someone else</td>\n",
       "      <td>Already working</td>\n",
       "      <td>spouse</td>\n",
       "      <td>No-one, all live together</td>\n",
       "      <td>Not at all possible</td>\n",
       "      <td>Monthly</td>\n",
       "      <td>Yes</td>\n",
       "    </tr>\n",
       "  </tbody>\n",
       "</table>\n",
       "</div>"
      ],
      "text/plain": [
       "   InstanceID   finalweight  Gender Marital / relationship status Urbanicity  \\\n",
       "0      770458  10776.661460    Male          Married/relationship      Urban   \n",
       "1      770459   9983.318465  Female          Married/relationship      Urban   \n",
       "\n",
       "  Age Group            Education English literacy Own a phone  \\\n",
       "0     25-34  Secondary education             Fair   own phone   \n",
       "1     25-34    Primary education             Good   own phone   \n",
       "\n",
       "  $2.50 PPP Poverty line Language of interview Main language  \\\n",
       "0     Above poverty line               English       Swahili   \n",
       "1     Above poverty line               Swahili       Swahili   \n",
       "\n",
       "  Mean household size Province / Region              Phone ownership  \\\n",
       "0     Below mean size           Nairobi  own phone/business/employer   \n",
       "1     Below mean size           Nairobi  own phone/business/employer   \n",
       "\n",
       "  Independent phone use Informal financial usage Mobile Money      Bank  \\\n",
       "0                   Yes                       no          Yes  unbanked   \n",
       "1                   Yes                       no          Yes  unbanked   \n",
       "\n",
       "  Permission to open bank Money taken from account  \\\n",
       "0                      no          money not taken   \n",
       "1                      no          money not taken   \n",
       "\n",
       "  Savings goal decision maker       Savings goal influence Land ownership  \\\n",
       "0            others on behalf  sometimes accepted/rejected       dont own   \n",
       "1                  self alone  sometimes accepted/rejected    own by self   \n",
       "\n",
       "        Land decision maker Children decision maker Earning frequency  \\\n",
       "0                                   decide together             Daily   \n",
       "1  Others decide without me         decide together   Weekly/biweekly   \n",
       "\n",
       "  Spending decision maker Permission to work Main income earner  \\\n",
       "0  Help from someone else    Already working         respondent   \n",
       "1  Help from someone else    Already working             spouse   \n",
       "\n",
       "     Migrant worker identity  \\\n",
       "0  No-one, all live together   \n",
       "1  No-one, all live together   \n",
       "\n",
       "  Possibility to raise 1/20 GNI (Gross National Income)  \\\n",
       "0                                  Not very possible      \n",
       "1                                Not at all possible      \n",
       "\n",
       "  Income frequency of spouse Allow spouse to work,,  \n",
       "0                  dont work                    Yes  \n",
       "1                    Monthly                    Yes  "
      ]
     },
     "metadata": {},
     "output_type": "display_data"
    },
    {
     "data": {
      "text/html": [
       "<div>\n",
       "<style scoped>\n",
       "    .dataframe tbody tr th:only-of-type {\n",
       "        vertical-align: middle;\n",
       "    }\n",
       "\n",
       "    .dataframe tbody tr th {\n",
       "        vertical-align: top;\n",
       "    }\n",
       "\n",
       "    .dataframe thead th {\n",
       "        text-align: right;\n",
       "    }\n",
       "</style>\n",
       "<table border=\"1\" class=\"dataframe\">\n",
       "  <thead>\n",
       "    <tr style=\"text-align: right;\">\n",
       "      <th></th>\n",
       "      <th>count</th>\n",
       "      <th>unique</th>\n",
       "      <th>top</th>\n",
       "      <th>freq</th>\n",
       "      <th>mean</th>\n",
       "      <th>std</th>\n",
       "      <th>min</th>\n",
       "      <th>25%</th>\n",
       "      <th>50%</th>\n",
       "      <th>75%</th>\n",
       "      <th>max</th>\n",
       "    </tr>\n",
       "  </thead>\n",
       "  <tbody>\n",
       "    <tr>\n",
       "      <th>InstanceID</th>\n",
       "      <td>3000</td>\n",
       "      <td>NaN</td>\n",
       "      <td>NaN</td>\n",
       "      <td>NaN</td>\n",
       "      <td>775220</td>\n",
       "      <td>2804.73</td>\n",
       "      <td>770458</td>\n",
       "      <td>773092</td>\n",
       "      <td>774944</td>\n",
       "      <td>777020</td>\n",
       "      <td>788781</td>\n",
       "    </tr>\n",
       "    <tr>\n",
       "      <th>finalweight</th>\n",
       "      <td>3000</td>\n",
       "      <td>NaN</td>\n",
       "      <td>NaN</td>\n",
       "      <td>NaN</td>\n",
       "      <td>7323.37</td>\n",
       "      <td>6821.96</td>\n",
       "      <td>119.348</td>\n",
       "      <td>3513.72</td>\n",
       "      <td>6031.08</td>\n",
       "      <td>8937.02</td>\n",
       "      <td>91545.8</td>\n",
       "    </tr>\n",
       "    <tr>\n",
       "      <th>Gender</th>\n",
       "      <td>3000</td>\n",
       "      <td>2</td>\n",
       "      <td>Female</td>\n",
       "      <td>1731</td>\n",
       "      <td>NaN</td>\n",
       "      <td>NaN</td>\n",
       "      <td>NaN</td>\n",
       "      <td>NaN</td>\n",
       "      <td>NaN</td>\n",
       "      <td>NaN</td>\n",
       "      <td>NaN</td>\n",
       "    </tr>\n",
       "    <tr>\n",
       "      <th>Marital / relationship status</th>\n",
       "      <td>3000</td>\n",
       "      <td>2</td>\n",
       "      <td>Married/relationship</td>\n",
       "      <td>2101</td>\n",
       "      <td>NaN</td>\n",
       "      <td>NaN</td>\n",
       "      <td>NaN</td>\n",
       "      <td>NaN</td>\n",
       "      <td>NaN</td>\n",
       "      <td>NaN</td>\n",
       "      <td>NaN</td>\n",
       "    </tr>\n",
       "    <tr>\n",
       "      <th>Urbanicity</th>\n",
       "      <td>3000</td>\n",
       "      <td>2</td>\n",
       "      <td>Rural</td>\n",
       "      <td>1920</td>\n",
       "      <td>NaN</td>\n",
       "      <td>NaN</td>\n",
       "      <td>NaN</td>\n",
       "      <td>NaN</td>\n",
       "      <td>NaN</td>\n",
       "      <td>NaN</td>\n",
       "      <td>NaN</td>\n",
       "    </tr>\n",
       "    <tr>\n",
       "      <th>Age Group</th>\n",
       "      <td>3000</td>\n",
       "      <td>5</td>\n",
       "      <td>25-34</td>\n",
       "      <td>1021</td>\n",
       "      <td>NaN</td>\n",
       "      <td>NaN</td>\n",
       "      <td>NaN</td>\n",
       "      <td>NaN</td>\n",
       "      <td>NaN</td>\n",
       "      <td>NaN</td>\n",
       "      <td>NaN</td>\n",
       "    </tr>\n",
       "    <tr>\n",
       "      <th>Education</th>\n",
       "      <td>3000</td>\n",
       "      <td>5</td>\n",
       "      <td>Secondary education</td>\n",
       "      <td>1182</td>\n",
       "      <td>NaN</td>\n",
       "      <td>NaN</td>\n",
       "      <td>NaN</td>\n",
       "      <td>NaN</td>\n",
       "      <td>NaN</td>\n",
       "      <td>NaN</td>\n",
       "      <td>NaN</td>\n",
       "    </tr>\n",
       "    <tr>\n",
       "      <th>English literacy</th>\n",
       "      <td>3000</td>\n",
       "      <td>5</td>\n",
       "      <td>Good</td>\n",
       "      <td>971</td>\n",
       "      <td>NaN</td>\n",
       "      <td>NaN</td>\n",
       "      <td>NaN</td>\n",
       "      <td>NaN</td>\n",
       "      <td>NaN</td>\n",
       "      <td>NaN</td>\n",
       "      <td>NaN</td>\n",
       "    </tr>\n",
       "    <tr>\n",
       "      <th>Own a phone</th>\n",
       "      <td>3000</td>\n",
       "      <td>2</td>\n",
       "      <td>own phone</td>\n",
       "      <td>2670</td>\n",
       "      <td>NaN</td>\n",
       "      <td>NaN</td>\n",
       "      <td>NaN</td>\n",
       "      <td>NaN</td>\n",
       "      <td>NaN</td>\n",
       "      <td>NaN</td>\n",
       "      <td>NaN</td>\n",
       "    </tr>\n",
       "    <tr>\n",
       "      <th>$2.50 PPP Poverty line</th>\n",
       "      <td>3000</td>\n",
       "      <td>2</td>\n",
       "      <td>Below poverty line</td>\n",
       "      <td>1596</td>\n",
       "      <td>NaN</td>\n",
       "      <td>NaN</td>\n",
       "      <td>NaN</td>\n",
       "      <td>NaN</td>\n",
       "      <td>NaN</td>\n",
       "      <td>NaN</td>\n",
       "      <td>NaN</td>\n",
       "    </tr>\n",
       "    <tr>\n",
       "      <th>Language of interview</th>\n",
       "      <td>3000</td>\n",
       "      <td>10</td>\n",
       "      <td>English</td>\n",
       "      <td>1495</td>\n",
       "      <td>NaN</td>\n",
       "      <td>NaN</td>\n",
       "      <td>NaN</td>\n",
       "      <td>NaN</td>\n",
       "      <td>NaN</td>\n",
       "      <td>NaN</td>\n",
       "      <td>NaN</td>\n",
       "    </tr>\n",
       "    <tr>\n",
       "      <th>Main language</th>\n",
       "      <td>3000</td>\n",
       "      <td>27</td>\n",
       "      <td>Swahili</td>\n",
       "      <td>1171</td>\n",
       "      <td>NaN</td>\n",
       "      <td>NaN</td>\n",
       "      <td>NaN</td>\n",
       "      <td>NaN</td>\n",
       "      <td>NaN</td>\n",
       "      <td>NaN</td>\n",
       "      <td>NaN</td>\n",
       "    </tr>\n",
       "    <tr>\n",
       "      <th>Mean household size</th>\n",
       "      <td>3000</td>\n",
       "      <td>3</td>\n",
       "      <td>Below mean size</td>\n",
       "      <td>1241</td>\n",
       "      <td>NaN</td>\n",
       "      <td>NaN</td>\n",
       "      <td>NaN</td>\n",
       "      <td>NaN</td>\n",
       "      <td>NaN</td>\n",
       "      <td>NaN</td>\n",
       "      <td>NaN</td>\n",
       "    </tr>\n",
       "    <tr>\n",
       "      <th>Province / Region</th>\n",
       "      <td>3000</td>\n",
       "      <td>8</td>\n",
       "      <td>Rift Valley</td>\n",
       "      <td>700</td>\n",
       "      <td>NaN</td>\n",
       "      <td>NaN</td>\n",
       "      <td>NaN</td>\n",
       "      <td>NaN</td>\n",
       "      <td>NaN</td>\n",
       "      <td>NaN</td>\n",
       "      <td>NaN</td>\n",
       "    </tr>\n",
       "    <tr>\n",
       "      <th>Phone ownership</th>\n",
       "      <td>3000</td>\n",
       "      <td>7</td>\n",
       "      <td>own phone/business/employer</td>\n",
       "      <td>2670</td>\n",
       "      <td>NaN</td>\n",
       "      <td>NaN</td>\n",
       "      <td>NaN</td>\n",
       "      <td>NaN</td>\n",
       "      <td>NaN</td>\n",
       "      <td>NaN</td>\n",
       "      <td>NaN</td>\n",
       "    </tr>\n",
       "    <tr>\n",
       "      <th>Independent phone use</th>\n",
       "      <td>3000</td>\n",
       "      <td>3</td>\n",
       "      <td>Yes</td>\n",
       "      <td>2588</td>\n",
       "      <td>NaN</td>\n",
       "      <td>NaN</td>\n",
       "      <td>NaN</td>\n",
       "      <td>NaN</td>\n",
       "      <td>NaN</td>\n",
       "      <td>NaN</td>\n",
       "      <td>NaN</td>\n",
       "    </tr>\n",
       "    <tr>\n",
       "      <th>Informal financial usage</th>\n",
       "      <td>3000</td>\n",
       "      <td>2</td>\n",
       "      <td>no</td>\n",
       "      <td>2015</td>\n",
       "      <td>NaN</td>\n",
       "      <td>NaN</td>\n",
       "      <td>NaN</td>\n",
       "      <td>NaN</td>\n",
       "      <td>NaN</td>\n",
       "      <td>NaN</td>\n",
       "      <td>NaN</td>\n",
       "    </tr>\n",
       "    <tr>\n",
       "      <th>Mobile Money</th>\n",
       "      <td>3000</td>\n",
       "      <td>2</td>\n",
       "      <td>Yes</td>\n",
       "      <td>2863</td>\n",
       "      <td>NaN</td>\n",
       "      <td>NaN</td>\n",
       "      <td>NaN</td>\n",
       "      <td>NaN</td>\n",
       "      <td>NaN</td>\n",
       "      <td>NaN</td>\n",
       "      <td>NaN</td>\n",
       "    </tr>\n",
       "    <tr>\n",
       "      <th>Bank</th>\n",
       "      <td>3000</td>\n",
       "      <td>5</td>\n",
       "      <td>unbanked</td>\n",
       "      <td>1641</td>\n",
       "      <td>NaN</td>\n",
       "      <td>NaN</td>\n",
       "      <td>NaN</td>\n",
       "      <td>NaN</td>\n",
       "      <td>NaN</td>\n",
       "      <td>NaN</td>\n",
       "      <td>NaN</td>\n",
       "    </tr>\n",
       "    <tr>\n",
       "      <th>Permission to open bank</th>\n",
       "      <td>3000</td>\n",
       "      <td>2</td>\n",
       "      <td>no</td>\n",
       "      <td>2370</td>\n",
       "      <td>NaN</td>\n",
       "      <td>NaN</td>\n",
       "      <td>NaN</td>\n",
       "      <td>NaN</td>\n",
       "      <td>NaN</td>\n",
       "      <td>NaN</td>\n",
       "      <td>NaN</td>\n",
       "    </tr>\n",
       "    <tr>\n",
       "      <th>Money taken from account</th>\n",
       "      <td>3000</td>\n",
       "      <td>3</td>\n",
       "      <td>money not taken</td>\n",
       "      <td>2701</td>\n",
       "      <td>NaN</td>\n",
       "      <td>NaN</td>\n",
       "      <td>NaN</td>\n",
       "      <td>NaN</td>\n",
       "      <td>NaN</td>\n",
       "      <td>NaN</td>\n",
       "      <td>NaN</td>\n",
       "    </tr>\n",
       "    <tr>\n",
       "      <th>Savings goal decision maker</th>\n",
       "      <td>3000</td>\n",
       "      <td>4</td>\n",
       "      <td>self alone</td>\n",
       "      <td>2020</td>\n",
       "      <td>NaN</td>\n",
       "      <td>NaN</td>\n",
       "      <td>NaN</td>\n",
       "      <td>NaN</td>\n",
       "      <td>NaN</td>\n",
       "      <td>NaN</td>\n",
       "      <td>NaN</td>\n",
       "    </tr>\n",
       "    <tr>\n",
       "      <th>Savings goal influence</th>\n",
       "      <td>3000</td>\n",
       "      <td>5</td>\n",
       "      <td>sometimes accepted/rejected</td>\n",
       "      <td>1013</td>\n",
       "      <td>NaN</td>\n",
       "      <td>NaN</td>\n",
       "      <td>NaN</td>\n",
       "      <td>NaN</td>\n",
       "      <td>NaN</td>\n",
       "      <td>NaN</td>\n",
       "      <td>NaN</td>\n",
       "    </tr>\n",
       "    <tr>\n",
       "      <th>Land ownership</th>\n",
       "      <td>3000</td>\n",
       "      <td>3</td>\n",
       "      <td>dont own</td>\n",
       "      <td>1459</td>\n",
       "      <td>NaN</td>\n",
       "      <td>NaN</td>\n",
       "      <td>NaN</td>\n",
       "      <td>NaN</td>\n",
       "      <td>NaN</td>\n",
       "      <td>NaN</td>\n",
       "      <td>NaN</td>\n",
       "    </tr>\n",
       "    <tr>\n",
       "      <th>Land decision maker</th>\n",
       "      <td>3000</td>\n",
       "      <td>4</td>\n",
       "      <td></td>\n",
       "      <td>1459</td>\n",
       "      <td>NaN</td>\n",
       "      <td>NaN</td>\n",
       "      <td>NaN</td>\n",
       "      <td>NaN</td>\n",
       "      <td>NaN</td>\n",
       "      <td>NaN</td>\n",
       "      <td>NaN</td>\n",
       "    </tr>\n",
       "    <tr>\n",
       "      <th>Children decision maker</th>\n",
       "      <td>3000</td>\n",
       "      <td>5</td>\n",
       "      <td>decide together</td>\n",
       "      <td>1107</td>\n",
       "      <td>NaN</td>\n",
       "      <td>NaN</td>\n",
       "      <td>NaN</td>\n",
       "      <td>NaN</td>\n",
       "      <td>NaN</td>\n",
       "      <td>NaN</td>\n",
       "      <td>NaN</td>\n",
       "    </tr>\n",
       "    <tr>\n",
       "      <th>Earning frequency</th>\n",
       "      <td>3000</td>\n",
       "      <td>6</td>\n",
       "      <td>I dont work</td>\n",
       "      <td>783</td>\n",
       "      <td>NaN</td>\n",
       "      <td>NaN</td>\n",
       "      <td>NaN</td>\n",
       "      <td>NaN</td>\n",
       "      <td>NaN</td>\n",
       "      <td>NaN</td>\n",
       "      <td>NaN</td>\n",
       "    </tr>\n",
       "    <tr>\n",
       "      <th>Spending decision maker</th>\n",
       "      <td>3000</td>\n",
       "      <td>3</td>\n",
       "      <td>Fully on own</td>\n",
       "      <td>2325</td>\n",
       "      <td>NaN</td>\n",
       "      <td>NaN</td>\n",
       "      <td>NaN</td>\n",
       "      <td>NaN</td>\n",
       "      <td>NaN</td>\n",
       "      <td>NaN</td>\n",
       "      <td>NaN</td>\n",
       "    </tr>\n",
       "    <tr>\n",
       "      <th>Permission to work</th>\n",
       "      <td>3000</td>\n",
       "      <td>3</td>\n",
       "      <td>Already working</td>\n",
       "      <td>2162</td>\n",
       "      <td>NaN</td>\n",
       "      <td>NaN</td>\n",
       "      <td>NaN</td>\n",
       "      <td>NaN</td>\n",
       "      <td>NaN</td>\n",
       "      <td>NaN</td>\n",
       "      <td>NaN</td>\n",
       "    </tr>\n",
       "    <tr>\n",
       "      <th>Main income earner</th>\n",
       "      <td>3000</td>\n",
       "      <td>6</td>\n",
       "      <td>respondent</td>\n",
       "      <td>1327</td>\n",
       "      <td>NaN</td>\n",
       "      <td>NaN</td>\n",
       "      <td>NaN</td>\n",
       "      <td>NaN</td>\n",
       "      <td>NaN</td>\n",
       "      <td>NaN</td>\n",
       "      <td>NaN</td>\n",
       "    </tr>\n",
       "    <tr>\n",
       "      <th>Migrant worker identity</th>\n",
       "      <td>3000</td>\n",
       "      <td>4</td>\n",
       "      <td>No-one, all live together</td>\n",
       "      <td>2005</td>\n",
       "      <td>NaN</td>\n",
       "      <td>NaN</td>\n",
       "      <td>NaN</td>\n",
       "      <td>NaN</td>\n",
       "      <td>NaN</td>\n",
       "      <td>NaN</td>\n",
       "      <td>NaN</td>\n",
       "    </tr>\n",
       "    <tr>\n",
       "      <th>Possibility to raise 1/20 GNI (Gross National Income)</th>\n",
       "      <td>3000</td>\n",
       "      <td>4</td>\n",
       "      <td>Not at all possible</td>\n",
       "      <td>1095</td>\n",
       "      <td>NaN</td>\n",
       "      <td>NaN</td>\n",
       "      <td>NaN</td>\n",
       "      <td>NaN</td>\n",
       "      <td>NaN</td>\n",
       "      <td>NaN</td>\n",
       "      <td>NaN</td>\n",
       "    </tr>\n",
       "    <tr>\n",
       "      <th>Income frequency of spouse</th>\n",
       "      <td>3000</td>\n",
       "      <td>8</td>\n",
       "      <td>no spouse</td>\n",
       "      <td>899</td>\n",
       "      <td>NaN</td>\n",
       "      <td>NaN</td>\n",
       "      <td>NaN</td>\n",
       "      <td>NaN</td>\n",
       "      <td>NaN</td>\n",
       "      <td>NaN</td>\n",
       "      <td>NaN</td>\n",
       "    </tr>\n",
       "    <tr>\n",
       "      <th>Allow spouse to work,,</th>\n",
       "      <td>3000</td>\n",
       "      <td>6</td>\n",
       "      <td>Yes</td>\n",
       "      <td>1397</td>\n",
       "      <td>NaN</td>\n",
       "      <td>NaN</td>\n",
       "      <td>NaN</td>\n",
       "      <td>NaN</td>\n",
       "      <td>NaN</td>\n",
       "      <td>NaN</td>\n",
       "      <td>NaN</td>\n",
       "    </tr>\n",
       "  </tbody>\n",
       "</table>\n",
       "</div>"
      ],
      "text/plain": [
       "                                                   count unique  \\\n",
       "InstanceID                                          3000    NaN   \n",
       "finalweight                                         3000    NaN   \n",
       "Gender                                              3000      2   \n",
       "Marital / relationship status                       3000      2   \n",
       "Urbanicity                                          3000      2   \n",
       "Age Group                                           3000      5   \n",
       "Education                                           3000      5   \n",
       "English literacy                                    3000      5   \n",
       "Own a phone                                         3000      2   \n",
       "$2.50 PPP Poverty line                              3000      2   \n",
       "Language of interview                               3000     10   \n",
       "Main language                                       3000     27   \n",
       "Mean household size                                 3000      3   \n",
       "Province / Region                                   3000      8   \n",
       " Phone ownership                                    3000      7   \n",
       "Independent phone use                               3000      3   \n",
       "Informal financial usage                            3000      2   \n",
       "Mobile Money                                        3000      2   \n",
       "Bank                                                3000      5   \n",
       "Permission to open bank                             3000      2   \n",
       "Money taken from account                            3000      3   \n",
       "Savings goal decision maker                         3000      4   \n",
       "Savings goal influence                              3000      5   \n",
       "Land ownership                                      3000      3   \n",
       "Land decision maker                                 3000      4   \n",
       "Children decision maker                             3000      5   \n",
       "Earning frequency                                   3000      6   \n",
       "Spending decision maker                             3000      3   \n",
       "Permission to work                                  3000      3   \n",
       "Main income earner                                  3000      6   \n",
       "Migrant worker identity                             3000      4   \n",
       "Possibility to raise 1/20 GNI (Gross National I...  3000      4   \n",
       "Income frequency of spouse                          3000      8   \n",
       "Allow spouse to work,,                              3000      6   \n",
       "\n",
       "                                                                            top  \\\n",
       "InstanceID                                                                  NaN   \n",
       "finalweight                                                                 NaN   \n",
       "Gender                                                                   Female   \n",
       "Marital / relationship status                              Married/relationship   \n",
       "Urbanicity                                                                Rural   \n",
       "Age Group                                                                 25-34   \n",
       "Education                                                   Secondary education   \n",
       "English literacy                                                           Good   \n",
       "Own a phone                                                           own phone   \n",
       "$2.50 PPP Poverty line                                       Below poverty line   \n",
       "Language of interview                                                   English   \n",
       "Main language                                                           Swahili   \n",
       "Mean household size                                             Below mean size   \n",
       "Province / Region                                                   Rift Valley   \n",
       " Phone ownership                                    own phone/business/employer   \n",
       "Independent phone use                                                       Yes   \n",
       "Informal financial usage                                                     no   \n",
       "Mobile Money                                                                Yes   \n",
       "Bank                                                                   unbanked   \n",
       "Permission to open bank                                                      no   \n",
       "Money taken from account                                        money not taken   \n",
       "Savings goal decision maker                                          self alone   \n",
       "Savings goal influence                              sometimes accepted/rejected   \n",
       "Land ownership                                                         dont own   \n",
       "Land decision maker                                                               \n",
       "Children decision maker                                         decide together   \n",
       "Earning frequency                                                   I dont work   \n",
       "Spending decision maker                                            Fully on own   \n",
       "Permission to work                                              Already working   \n",
       "Main income earner                                                   respondent   \n",
       "Migrant worker identity                               No-one, all live together   \n",
       "Possibility to raise 1/20 GNI (Gross National I...          Not at all possible   \n",
       "Income frequency of spouse                                            no spouse   \n",
       "Allow spouse to work,,                                                      Yes   \n",
       "\n",
       "                                                    freq     mean      std  \\\n",
       "InstanceID                                           NaN   775220  2804.73   \n",
       "finalweight                                          NaN  7323.37  6821.96   \n",
       "Gender                                              1731      NaN      NaN   \n",
       "Marital / relationship status                       2101      NaN      NaN   \n",
       "Urbanicity                                          1920      NaN      NaN   \n",
       "Age Group                                           1021      NaN      NaN   \n",
       "Education                                           1182      NaN      NaN   \n",
       "English literacy                                     971      NaN      NaN   \n",
       "Own a phone                                         2670      NaN      NaN   \n",
       "$2.50 PPP Poverty line                              1596      NaN      NaN   \n",
       "Language of interview                               1495      NaN      NaN   \n",
       "Main language                                       1171      NaN      NaN   \n",
       "Mean household size                                 1241      NaN      NaN   \n",
       "Province / Region                                    700      NaN      NaN   \n",
       " Phone ownership                                    2670      NaN      NaN   \n",
       "Independent phone use                               2588      NaN      NaN   \n",
       "Informal financial usage                            2015      NaN      NaN   \n",
       "Mobile Money                                        2863      NaN      NaN   \n",
       "Bank                                                1641      NaN      NaN   \n",
       "Permission to open bank                             2370      NaN      NaN   \n",
       "Money taken from account                            2701      NaN      NaN   \n",
       "Savings goal decision maker                         2020      NaN      NaN   \n",
       "Savings goal influence                              1013      NaN      NaN   \n",
       "Land ownership                                      1459      NaN      NaN   \n",
       "Land decision maker                                 1459      NaN      NaN   \n",
       "Children decision maker                             1107      NaN      NaN   \n",
       "Earning frequency                                    783      NaN      NaN   \n",
       "Spending decision maker                             2325      NaN      NaN   \n",
       "Permission to work                                  2162      NaN      NaN   \n",
       "Main income earner                                  1327      NaN      NaN   \n",
       "Migrant worker identity                             2005      NaN      NaN   \n",
       "Possibility to raise 1/20 GNI (Gross National I...  1095      NaN      NaN   \n",
       "Income frequency of spouse                           899      NaN      NaN   \n",
       "Allow spouse to work,,                              1397      NaN      NaN   \n",
       "\n",
       "                                                        min      25%      50%  \\\n",
       "InstanceID                                           770458   773092   774944   \n",
       "finalweight                                         119.348  3513.72  6031.08   \n",
       "Gender                                                  NaN      NaN      NaN   \n",
       "Marital / relationship status                           NaN      NaN      NaN   \n",
       "Urbanicity                                              NaN      NaN      NaN   \n",
       "Age Group                                               NaN      NaN      NaN   \n",
       "Education                                               NaN      NaN      NaN   \n",
       "English literacy                                        NaN      NaN      NaN   \n",
       "Own a phone                                             NaN      NaN      NaN   \n",
       "$2.50 PPP Poverty line                                  NaN      NaN      NaN   \n",
       "Language of interview                                   NaN      NaN      NaN   \n",
       "Main language                                           NaN      NaN      NaN   \n",
       "Mean household size                                     NaN      NaN      NaN   \n",
       "Province / Region                                       NaN      NaN      NaN   \n",
       " Phone ownership                                        NaN      NaN      NaN   \n",
       "Independent phone use                                   NaN      NaN      NaN   \n",
       "Informal financial usage                                NaN      NaN      NaN   \n",
       "Mobile Money                                            NaN      NaN      NaN   \n",
       "Bank                                                    NaN      NaN      NaN   \n",
       "Permission to open bank                                 NaN      NaN      NaN   \n",
       "Money taken from account                                NaN      NaN      NaN   \n",
       "Savings goal decision maker                             NaN      NaN      NaN   \n",
       "Savings goal influence                                  NaN      NaN      NaN   \n",
       "Land ownership                                          NaN      NaN      NaN   \n",
       "Land decision maker                                     NaN      NaN      NaN   \n",
       "Children decision maker                                 NaN      NaN      NaN   \n",
       "Earning frequency                                       NaN      NaN      NaN   \n",
       "Spending decision maker                                 NaN      NaN      NaN   \n",
       "Permission to work                                      NaN      NaN      NaN   \n",
       "Main income earner                                      NaN      NaN      NaN   \n",
       "Migrant worker identity                                 NaN      NaN      NaN   \n",
       "Possibility to raise 1/20 GNI (Gross National I...      NaN      NaN      NaN   \n",
       "Income frequency of spouse                              NaN      NaN      NaN   \n",
       "Allow spouse to work,,                                  NaN      NaN      NaN   \n",
       "\n",
       "                                                        75%      max  \n",
       "InstanceID                                           777020   788781  \n",
       "finalweight                                         8937.02  91545.8  \n",
       "Gender                                                  NaN      NaN  \n",
       "Marital / relationship status                           NaN      NaN  \n",
       "Urbanicity                                              NaN      NaN  \n",
       "Age Group                                               NaN      NaN  \n",
       "Education                                               NaN      NaN  \n",
       "English literacy                                        NaN      NaN  \n",
       "Own a phone                                             NaN      NaN  \n",
       "$2.50 PPP Poverty line                                  NaN      NaN  \n",
       "Language of interview                                   NaN      NaN  \n",
       "Main language                                           NaN      NaN  \n",
       "Mean household size                                     NaN      NaN  \n",
       "Province / Region                                       NaN      NaN  \n",
       " Phone ownership                                        NaN      NaN  \n",
       "Independent phone use                                   NaN      NaN  \n",
       "Informal financial usage                                NaN      NaN  \n",
       "Mobile Money                                            NaN      NaN  \n",
       "Bank                                                    NaN      NaN  \n",
       "Permission to open bank                                 NaN      NaN  \n",
       "Money taken from account                                NaN      NaN  \n",
       "Savings goal decision maker                             NaN      NaN  \n",
       "Savings goal influence                                  NaN      NaN  \n",
       "Land ownership                                          NaN      NaN  \n",
       "Land decision maker                                     NaN      NaN  \n",
       "Children decision maker                                 NaN      NaN  \n",
       "Earning frequency                                       NaN      NaN  \n",
       "Spending decision maker                                 NaN      NaN  \n",
       "Permission to work                                      NaN      NaN  \n",
       "Main income earner                                      NaN      NaN  \n",
       "Migrant worker identity                                 NaN      NaN  \n",
       "Possibility to raise 1/20 GNI (Gross National I...      NaN      NaN  \n",
       "Income frequency of spouse                              NaN      NaN  \n",
       "Allow spouse to work,,                                  NaN      NaN  "
      ]
     },
     "metadata": {},
     "output_type": "display_data"
    },
    {
     "data": {
      "text/markdown": [
       "### Columns descriptions"
      ],
      "text/plain": [
       "<IPython.core.display.Markdown object>"
      ]
     },
     "metadata": {},
     "output_type": "display_data"
    },
    {
     "data": {
      "text/markdown": [
       "#### **column:** InstanceID ----- **dtype**: Int64"
      ],
      "text/plain": [
       "<IPython.core.display.Markdown object>"
      ]
     },
     "metadata": {},
     "output_type": "display_data"
    },
    {
     "data": {
      "text/markdown": [
       "#### **column:** finalweight ----- **dtype**: float64"
      ],
      "text/plain": [
       "<IPython.core.display.Markdown object>"
      ]
     },
     "metadata": {},
     "output_type": "display_data"
    },
    {
     "data": {
      "text/markdown": [
       "#### **column:** Gender ----- **dtype**: string"
      ],
      "text/plain": [
       "<IPython.core.display.Markdown object>"
      ]
     },
     "metadata": {},
     "output_type": "display_data"
    },
    {
     "data": {
      "text/markdown": [
       "##### Before clean applied"
      ],
      "text/plain": [
       "<IPython.core.display.Markdown object>"
      ]
     },
     "metadata": {},
     "output_type": "display_data"
    },
    {
     "name": "stdout",
     "output_type": "stream",
     "text": [
      "<StringArray>\n",
      "['Male', 'Female']\n",
      "Length: 2, dtype: string\n"
     ]
    },
    {
     "data": {
      "text/markdown": [
       "##### After clean applied"
      ],
      "text/plain": [
       "<IPython.core.display.Markdown object>"
      ]
     },
     "metadata": {},
     "output_type": "display_data"
    },
    {
     "name": "stdout",
     "output_type": "stream",
     "text": [
      "<StringArray>\n",
      "['Male', 'Female']\n",
      "Length: 2, dtype: string\n"
     ]
    },
    {
     "data": {
      "text/markdown": [
       "#### **column:** Marital / relationship status ----- **dtype**: string"
      ],
      "text/plain": [
       "<IPython.core.display.Markdown object>"
      ]
     },
     "metadata": {},
     "output_type": "display_data"
    },
    {
     "data": {
      "text/markdown": [
       "##### Before clean applied"
      ],
      "text/plain": [
       "<IPython.core.display.Markdown object>"
      ]
     },
     "metadata": {},
     "output_type": "display_data"
    },
    {
     "name": "stdout",
     "output_type": "stream",
     "text": [
      "<StringArray>\n",
      "['Married/relationship', 'Not married/relationship']\n",
      "Length: 2, dtype: string\n"
     ]
    },
    {
     "data": {
      "text/markdown": [
       "##### After clean applied"
      ],
      "text/plain": [
       "<IPython.core.display.Markdown object>"
      ]
     },
     "metadata": {},
     "output_type": "display_data"
    },
    {
     "name": "stdout",
     "output_type": "stream",
     "text": [
      "<StringArray>\n",
      "['Married/Relationship', 'Not married/Relationship']\n",
      "Length: 2, dtype: string\n"
     ]
    },
    {
     "data": {
      "text/markdown": [
       "#### **column:** Urbanicity ----- **dtype**: string"
      ],
      "text/plain": [
       "<IPython.core.display.Markdown object>"
      ]
     },
     "metadata": {},
     "output_type": "display_data"
    },
    {
     "data": {
      "text/markdown": [
       "##### Before clean applied"
      ],
      "text/plain": [
       "<IPython.core.display.Markdown object>"
      ]
     },
     "metadata": {},
     "output_type": "display_data"
    },
    {
     "name": "stdout",
     "output_type": "stream",
     "text": [
      "<StringArray>\n",
      "['Urban', 'Rural']\n",
      "Length: 2, dtype: string\n"
     ]
    },
    {
     "data": {
      "text/markdown": [
       "##### After clean applied"
      ],
      "text/plain": [
       "<IPython.core.display.Markdown object>"
      ]
     },
     "metadata": {},
     "output_type": "display_data"
    },
    {
     "name": "stdout",
     "output_type": "stream",
     "text": [
      "<StringArray>\n",
      "['Urban', 'Rural']\n",
      "Length: 2, dtype: string\n"
     ]
    },
    {
     "data": {
      "text/markdown": [
       "#### **column:** Age Group ----- **dtype**: string"
      ],
      "text/plain": [
       "<IPython.core.display.Markdown object>"
      ]
     },
     "metadata": {},
     "output_type": "display_data"
    },
    {
     "data": {
      "text/markdown": [
       "##### Before clean applied"
      ],
      "text/plain": [
       "<IPython.core.display.Markdown object>"
      ]
     },
     "metadata": {},
     "output_type": "display_data"
    },
    {
     "name": "stdout",
     "output_type": "stream",
     "text": [
      "<StringArray>\n",
      "['25-34', '35-44', '18-24', '55', '45-54']\n",
      "Length: 5, dtype: string\n"
     ]
    },
    {
     "data": {
      "text/markdown": [
       "##### After clean applied"
      ],
      "text/plain": [
       "<IPython.core.display.Markdown object>"
      ]
     },
     "metadata": {},
     "output_type": "display_data"
    },
    {
     "name": "stdout",
     "output_type": "stream",
     "text": [
      "<StringArray>\n",
      "['25-34', '35-44', '18-24', '55+', '45-54']\n",
      "Length: 5, dtype: string\n"
     ]
    },
    {
     "data": {
      "text/markdown": [
       "#### **column:** Education ----- **dtype**: string"
      ],
      "text/plain": [
       "<IPython.core.display.Markdown object>"
      ]
     },
     "metadata": {},
     "output_type": "display_data"
    },
    {
     "data": {
      "text/markdown": [
       "##### Before clean applied"
      ],
      "text/plain": [
       "<IPython.core.display.Markdown object>"
      ]
     },
     "metadata": {},
     "output_type": "display_data"
    },
    {
     "name": "stdout",
     "output_type": "stream",
     "text": [
      "<StringArray>\n",
      "['Secondary education',   'Primary education',    'Higher education',\n",
      " 'No formal education',               'Other']\n",
      "Length: 5, dtype: string\n"
     ]
    },
    {
     "data": {
      "text/markdown": [
       "##### After clean applied"
      ],
      "text/plain": [
       "<IPython.core.display.Markdown object>"
      ]
     },
     "metadata": {},
     "output_type": "display_data"
    },
    {
     "name": "stdout",
     "output_type": "stream",
     "text": [
      "<StringArray>\n",
      "['Secondary education',   'Primary education',    'Higher education',\n",
      " 'No formal education',               'Other']\n",
      "Length: 5, dtype: string\n"
     ]
    },
    {
     "data": {
      "text/markdown": [
       "#### **column:** English literacy ----- **dtype**: string"
      ],
      "text/plain": [
       "<IPython.core.display.Markdown object>"
      ]
     },
     "metadata": {},
     "output_type": "display_data"
    },
    {
     "data": {
      "text/markdown": [
       "##### Before clean applied"
      ],
      "text/plain": [
       "<IPython.core.display.Markdown object>"
      ]
     },
     "metadata": {},
     "output_type": "display_data"
    },
    {
     "name": "stdout",
     "output_type": "stream",
     "text": [
      "<StringArray>\n",
      "['Fair', 'Good', 'Excellent', 'Not at all', 'Poorly']\n",
      "Length: 5, dtype: string\n"
     ]
    },
    {
     "data": {
      "text/markdown": [
       "##### After clean applied"
      ],
      "text/plain": [
       "<IPython.core.display.Markdown object>"
      ]
     },
     "metadata": {},
     "output_type": "display_data"
    },
    {
     "name": "stdout",
     "output_type": "stream",
     "text": [
      "<StringArray>\n",
      "['Fair', 'Good', 'Excellent', 'Not at all', 'Poorly']\n",
      "Length: 5, dtype: string\n"
     ]
    },
    {
     "data": {
      "text/markdown": [
       "#### **column:** Own a phone ----- **dtype**: string"
      ],
      "text/plain": [
       "<IPython.core.display.Markdown object>"
      ]
     },
     "metadata": {},
     "output_type": "display_data"
    },
    {
     "data": {
      "text/markdown": [
       "##### Before clean applied"
      ],
      "text/plain": [
       "<IPython.core.display.Markdown object>"
      ]
     },
     "metadata": {},
     "output_type": "display_data"
    },
    {
     "name": "stdout",
     "output_type": "stream",
     "text": [
      "<StringArray>\n",
      "['own phone', 'dont own phone']\n",
      "Length: 2, dtype: string\n"
     ]
    },
    {
     "data": {
      "text/markdown": [
       "##### After clean applied"
      ],
      "text/plain": [
       "<IPython.core.display.Markdown object>"
      ]
     },
     "metadata": {},
     "output_type": "display_data"
    },
    {
     "name": "stdout",
     "output_type": "stream",
     "text": [
      "<StringArray>\n",
      "['Own phone', 'Don’t own phone']\n",
      "Length: 2, dtype: string\n"
     ]
    },
    {
     "data": {
      "text/markdown": [
       "#### **column:** $2.50 PPP Poverty line ----- **dtype**: string"
      ],
      "text/plain": [
       "<IPython.core.display.Markdown object>"
      ]
     },
     "metadata": {},
     "output_type": "display_data"
    },
    {
     "data": {
      "text/markdown": [
       "##### Before clean applied"
      ],
      "text/plain": [
       "<IPython.core.display.Markdown object>"
      ]
     },
     "metadata": {},
     "output_type": "display_data"
    },
    {
     "name": "stdout",
     "output_type": "stream",
     "text": [
      "<StringArray>\n",
      "['Above poverty line', 'Below poverty line']\n",
      "Length: 2, dtype: string\n"
     ]
    },
    {
     "data": {
      "text/markdown": [
       "##### After clean applied"
      ],
      "text/plain": [
       "<IPython.core.display.Markdown object>"
      ]
     },
     "metadata": {},
     "output_type": "display_data"
    },
    {
     "name": "stdout",
     "output_type": "stream",
     "text": [
      "<StringArray>\n",
      "['Above poverty line', 'Below poverty line']\n",
      "Length: 2, dtype: string\n"
     ]
    },
    {
     "data": {
      "text/markdown": [
       "#### **column:** Language of interview ----- **dtype**: string"
      ],
      "text/plain": [
       "<IPython.core.display.Markdown object>"
      ]
     },
     "metadata": {},
     "output_type": "display_data"
    },
    {
     "data": {
      "text/markdown": [
       "##### Before clean applied"
      ],
      "text/plain": [
       "<IPython.core.display.Markdown object>"
      ]
     },
     "metadata": {},
     "output_type": "display_data"
    },
    {
     "name": "stdout",
     "output_type": "stream",
     "text": [
      "<StringArray>\n",
      "[ 'English',  'Swahili',      'Luo',    'Kisii',   'Kikuyu',   'Somali',\n",
      "     'Meru',    'Kamba',    'Luhya', 'Kalenjin']\n",
      "Length: 10, dtype: string\n"
     ]
    },
    {
     "data": {
      "text/markdown": [
       "##### After clean applied"
      ],
      "text/plain": [
       "<IPython.core.display.Markdown object>"
      ]
     },
     "metadata": {},
     "output_type": "display_data"
    },
    {
     "name": "stdout",
     "output_type": "stream",
     "text": [
      "<StringArray>\n",
      "[ 'English',  'Swahili',      'Luo',    'Kisii',   'Kikuyu',   'Somali',\n",
      "     'Meru',    'Kamba',    'Luhya', 'Kalenjin']\n",
      "Length: 10, dtype: string\n"
     ]
    },
    {
     "data": {
      "text/markdown": [
       "#### **column:** Main language ----- **dtype**: string"
      ],
      "text/plain": [
       "<IPython.core.display.Markdown object>"
      ]
     },
     "metadata": {},
     "output_type": "display_data"
    },
    {
     "data": {
      "text/markdown": [
       "##### Before clean applied"
      ],
      "text/plain": [
       "<IPython.core.display.Markdown object>"
      ]
     },
     "metadata": {},
     "output_type": "display_data"
    },
    {
     "name": "stdout",
     "output_type": "stream",
     "text": [
      "<StringArray>\n",
      "[  'Swahili',     'Luhya',       'Luo',  'Kalenjin',   'English', 'Congolese',\n",
      "    'Kikuyu',      'Teso',     'Kisii',    'Somali',     'Kamba',      'Meru',\n",
      "  'Kiduruma', 'Mijikenda',      'Gari',    'Chonyi',   'Turkana',   'Gariama',\n",
      "    'Kidigo',    'Borana',   'Kiganda',    'Maasai',    'Kiembu',     'Taita',\n",
      "  'Kimbeere',  'Kibajuni',   'Kikuria']\n",
      "Length: 27, dtype: string\n"
     ]
    },
    {
     "data": {
      "text/markdown": [
       "##### After clean applied"
      ],
      "text/plain": [
       "<IPython.core.display.Markdown object>"
      ]
     },
     "metadata": {},
     "output_type": "display_data"
    },
    {
     "name": "stdout",
     "output_type": "stream",
     "text": [
      "<StringArray>\n",
      "[  'Swahili',     'Luhya',       'Luo',  'Kalenjin',   'English', 'Congolese',\n",
      "    'Kikuyu',      'Teso',     'Kisii',    'Somali',     'Kamba',      'Meru',\n",
      "  'Kiduruma', 'Mijikenda',      'Gari',    'Chonyi',   'Turkana',   'Gariama',\n",
      "    'Kidigo',    'Borana',   'Kiganda',    'Maasai',    'Kiembu',     'Taita',\n",
      "  'Kimbeere',  'Kibajuni',   'Kikuria']\n",
      "Length: 27, dtype: string\n"
     ]
    },
    {
     "data": {
      "text/markdown": [
       "#### **column:** Mean household size ----- **dtype**: string"
      ],
      "text/plain": [
       "<IPython.core.display.Markdown object>"
      ]
     },
     "metadata": {},
     "output_type": "display_data"
    },
    {
     "data": {
      "text/markdown": [
       "##### Before clean applied"
      ],
      "text/plain": [
       "<IPython.core.display.Markdown object>"
      ]
     },
     "metadata": {},
     "output_type": "display_data"
    },
    {
     "name": "stdout",
     "output_type": "stream",
     "text": [
      "<StringArray>\n",
      "['Below mean size', 'Above mean size', 'Mean']\n",
      "Length: 3, dtype: string\n"
     ]
    },
    {
     "data": {
      "text/markdown": [
       "##### After clean applied"
      ],
      "text/plain": [
       "<IPython.core.display.Markdown object>"
      ]
     },
     "metadata": {},
     "output_type": "display_data"
    },
    {
     "name": "stdout",
     "output_type": "stream",
     "text": [
      "<StringArray>\n",
      "['Below mean size', 'Above mean size', 'Mean']\n",
      "Length: 3, dtype: string\n"
     ]
    },
    {
     "data": {
      "text/markdown": [
       "#### **column:** Province / Region ----- **dtype**: string"
      ],
      "text/plain": [
       "<IPython.core.display.Markdown object>"
      ]
     },
     "metadata": {},
     "output_type": "display_data"
    },
    {
     "data": {
      "text/markdown": [
       "##### Before clean applied"
      ],
      "text/plain": [
       "<IPython.core.display.Markdown object>"
      ]
     },
     "metadata": {},
     "output_type": "display_data"
    },
    {
     "name": "stdout",
     "output_type": "stream",
     "text": [
      "<StringArray>\n",
      "[      'Nairobi',        'Nyanza',       'Central',   'Rift Valley',\n",
      "         'Coast', 'North Eastern',       'Western',       'Eastern']\n",
      "Length: 8, dtype: string\n"
     ]
    },
    {
     "data": {
      "text/markdown": [
       "##### After clean applied"
      ],
      "text/plain": [
       "<IPython.core.display.Markdown object>"
      ]
     },
     "metadata": {},
     "output_type": "display_data"
    },
    {
     "name": "stdout",
     "output_type": "stream",
     "text": [
      "<StringArray>\n",
      "[      'Nairobi',        'Nyanza',       'Central',   'Rift valley',\n",
      "         'Coast', 'North eastern',       'Western',       'Eastern']\n",
      "Length: 8, dtype: string\n"
     ]
    },
    {
     "data": {
      "text/markdown": [
       "#### **column:**  Phone ownership ----- **dtype**: string"
      ],
      "text/plain": [
       "<IPython.core.display.Markdown object>"
      ]
     },
     "metadata": {},
     "output_type": "display_data"
    },
    {
     "data": {
      "text/markdown": [
       "##### Before clean applied"
      ],
      "text/plain": [
       "<IPython.core.display.Markdown object>"
      ]
     },
     "metadata": {},
     "output_type": "display_data"
    },
    {
     "name": "stdout",
     "output_type": "stream",
     "text": [
      "<StringArray>\n",
      "['own phone/business/employer',                     'Sibling',\n",
      "       'Dont use mobile phone',               'Husband/wives',\n",
      "             'Other man/women',                      'Parent',\n",
      "                    'Children']\n",
      "Length: 7, dtype: string\n"
     ]
    },
    {
     "data": {
      "text/markdown": [
       "##### After clean applied"
      ],
      "text/plain": [
       "<IPython.core.display.Markdown object>"
      ]
     },
     "metadata": {},
     "output_type": "display_data"
    },
    {
     "name": "stdout",
     "output_type": "stream",
     "text": [
      "<StringArray>\n",
      "['Own phone/Business/Employer',                     'Sibling',\n",
      "      'Don’t use mobile phone',               'Husband/Wives',\n",
      "             'Other man/Women',                      'Parent',\n",
      "                    'Children']\n",
      "Length: 7, dtype: string\n"
     ]
    },
    {
     "data": {
      "text/markdown": [
       "#### **column:** Independent phone use ----- **dtype**: string"
      ],
      "text/plain": [
       "<IPython.core.display.Markdown object>"
      ]
     },
     "metadata": {},
     "output_type": "display_data"
    },
    {
     "data": {
      "text/markdown": [
       "##### Before clean applied"
      ],
      "text/plain": [
       "<IPython.core.display.Markdown object>"
      ]
     },
     "metadata": {},
     "output_type": "display_data"
    },
    {
     "name": "stdout",
     "output_type": "stream",
     "text": [
      "<StringArray>\n",
      "['Yes', 'No', 'Somewhat']\n",
      "Length: 3, dtype: string\n"
     ]
    },
    {
     "data": {
      "text/markdown": [
       "##### After clean applied"
      ],
      "text/plain": [
       "<IPython.core.display.Markdown object>"
      ]
     },
     "metadata": {},
     "output_type": "display_data"
    },
    {
     "name": "stdout",
     "output_type": "stream",
     "text": [
      "<StringArray>\n",
      "['Yes', 'No', 'Somewhat']\n",
      "Length: 3, dtype: string\n"
     ]
    },
    {
     "data": {
      "text/markdown": [
       "#### **column:** Informal financial usage ----- **dtype**: string"
      ],
      "text/plain": [
       "<IPython.core.display.Markdown object>"
      ]
     },
     "metadata": {},
     "output_type": "display_data"
    },
    {
     "data": {
      "text/markdown": [
       "##### Before clean applied"
      ],
      "text/plain": [
       "<IPython.core.display.Markdown object>"
      ]
     },
     "metadata": {},
     "output_type": "display_data"
    },
    {
     "name": "stdout",
     "output_type": "stream",
     "text": [
      "<StringArray>\n",
      "['no', 'yes']\n",
      "Length: 2, dtype: string\n"
     ]
    },
    {
     "data": {
      "text/markdown": [
       "##### After clean applied"
      ],
      "text/plain": [
       "<IPython.core.display.Markdown object>"
      ]
     },
     "metadata": {},
     "output_type": "display_data"
    },
    {
     "name": "stdout",
     "output_type": "stream",
     "text": [
      "<StringArray>\n",
      "['No', 'Yes']\n",
      "Length: 2, dtype: string\n"
     ]
    },
    {
     "data": {
      "text/markdown": [
       "#### **column:** Mobile Money ----- **dtype**: string"
      ],
      "text/plain": [
       "<IPython.core.display.Markdown object>"
      ]
     },
     "metadata": {},
     "output_type": "display_data"
    },
    {
     "data": {
      "text/markdown": [
       "##### Before clean applied"
      ],
      "text/plain": [
       "<IPython.core.display.Markdown object>"
      ]
     },
     "metadata": {},
     "output_type": "display_data"
    },
    {
     "name": "stdout",
     "output_type": "stream",
     "text": [
      "<StringArray>\n",
      "['Yes', 'No']\n",
      "Length: 2, dtype: string\n"
     ]
    },
    {
     "data": {
      "text/markdown": [
       "##### After clean applied"
      ],
      "text/plain": [
       "<IPython.core.display.Markdown object>"
      ]
     },
     "metadata": {},
     "output_type": "display_data"
    },
    {
     "name": "stdout",
     "output_type": "stream",
     "text": [
      "<StringArray>\n",
      "['Yes', 'No']\n",
      "Length: 2, dtype: string\n"
     ]
    },
    {
     "data": {
      "text/markdown": [
       "#### **column:** Bank ----- **dtype**: string"
      ],
      "text/plain": [
       "<IPython.core.display.Markdown object>"
      ]
     },
     "metadata": {},
     "output_type": "display_data"
    },
    {
     "data": {
      "text/markdown": [
       "##### Before clean applied"
      ],
      "text/plain": [
       "<IPython.core.display.Markdown object>"
      ]
     },
     "metadata": {},
     "output_type": "display_data"
    },
    {
     "name": "stdout",
     "output_type": "stream",
     "text": [
      "<StringArray>\n",
      "['unbanked', 'own', 'spouse', 'other', 'other fam']\n",
      "Length: 5, dtype: string\n"
     ]
    },
    {
     "data": {
      "text/markdown": [
       "##### After clean applied"
      ],
      "text/plain": [
       "<IPython.core.display.Markdown object>"
      ]
     },
     "metadata": {},
     "output_type": "display_data"
    },
    {
     "name": "stdout",
     "output_type": "stream",
     "text": [
      "<StringArray>\n",
      "['Unbanked', 'Own', 'Spouse', 'Other', 'Other fam']\n",
      "Length: 5, dtype: string\n"
     ]
    },
    {
     "data": {
      "text/markdown": [
       "#### **column:** Permission to open bank ----- **dtype**: string"
      ],
      "text/plain": [
       "<IPython.core.display.Markdown object>"
      ]
     },
     "metadata": {},
     "output_type": "display_data"
    },
    {
     "data": {
      "text/markdown": [
       "##### Before clean applied"
      ],
      "text/plain": [
       "<IPython.core.display.Markdown object>"
      ]
     },
     "metadata": {},
     "output_type": "display_data"
    },
    {
     "name": "stdout",
     "output_type": "stream",
     "text": [
      "<StringArray>\n",
      "['no', 'yes']\n",
      "Length: 2, dtype: string\n"
     ]
    },
    {
     "data": {
      "text/markdown": [
       "##### After clean applied"
      ],
      "text/plain": [
       "<IPython.core.display.Markdown object>"
      ]
     },
     "metadata": {},
     "output_type": "display_data"
    },
    {
     "name": "stdout",
     "output_type": "stream",
     "text": [
      "<StringArray>\n",
      "['No', 'Yes']\n",
      "Length: 2, dtype: string\n"
     ]
    },
    {
     "data": {
      "text/markdown": [
       "#### **column:** Money taken from account ----- **dtype**: string"
      ],
      "text/plain": [
       "<IPython.core.display.Markdown object>"
      ]
     },
     "metadata": {},
     "output_type": "display_data"
    },
    {
     "data": {
      "text/markdown": [
       "##### Before clean applied"
      ],
      "text/plain": [
       "<IPython.core.display.Markdown object>"
      ]
     },
     "metadata": {},
     "output_type": "display_data"
    },
    {
     "name": "stdout",
     "output_type": "stream",
     "text": [
      "<StringArray>\n",
      "['money not taken', 'money taken', 'dont have account']\n",
      "Length: 3, dtype: string\n"
     ]
    },
    {
     "data": {
      "text/markdown": [
       "##### After clean applied"
      ],
      "text/plain": [
       "<IPython.core.display.Markdown object>"
      ]
     },
     "metadata": {},
     "output_type": "display_data"
    },
    {
     "name": "stdout",
     "output_type": "stream",
     "text": [
      "<StringArray>\n",
      "['Money not taken', 'Money taken', 'Don’t have account']\n",
      "Length: 3, dtype: string\n"
     ]
    },
    {
     "data": {
      "text/markdown": [
       "#### **column:** Savings goal decision maker ----- **dtype**: string"
      ],
      "text/plain": [
       "<IPython.core.display.Markdown object>"
      ]
     },
     "metadata": {},
     "output_type": "display_data"
    },
    {
     "data": {
      "text/markdown": [
       "##### Before clean applied"
      ],
      "text/plain": [
       "<IPython.core.display.Markdown object>"
      ]
     },
     "metadata": {},
     "output_type": "display_data"
    },
    {
     "name": "stdout",
     "output_type": "stream",
     "text": [
      "<StringArray>\n",
      "['others on behalf', 'self alone', 'no savings goal', 'decide together']\n",
      "Length: 4, dtype: string\n"
     ]
    },
    {
     "data": {
      "text/markdown": [
       "##### After clean applied"
      ],
      "text/plain": [
       "<IPython.core.display.Markdown object>"
      ]
     },
     "metadata": {},
     "output_type": "display_data"
    },
    {
     "name": "stdout",
     "output_type": "stream",
     "text": [
      "<StringArray>\n",
      "['Others on behalf', 'Self alone', 'No savings goal', 'Decide together']\n",
      "Length: 4, dtype: string\n"
     ]
    },
    {
     "data": {
      "text/markdown": [
       "#### **column:** Savings goal influence ----- **dtype**: string"
      ],
      "text/plain": [
       "<IPython.core.display.Markdown object>"
      ]
     },
     "metadata": {},
     "output_type": "display_data"
    },
    {
     "data": {
      "text/markdown": [
       "##### Before clean applied"
      ],
      "text/plain": [
       "<IPython.core.display.Markdown object>"
      ]
     },
     "metadata": {},
     "output_type": "display_data"
    },
    {
     "name": "stdout",
     "output_type": "stream",
     "text": [
      "<StringArray>\n",
      "['sometimes accepted/rejected',                'dont consult',\n",
      "             'no savings goal',             'always accepted',\n",
      "             'always rejected']\n",
      "Length: 5, dtype: string\n"
     ]
    },
    {
     "data": {
      "text/markdown": [
       "##### After clean applied"
      ],
      "text/plain": [
       "<IPython.core.display.Markdown object>"
      ]
     },
     "metadata": {},
     "output_type": "display_data"
    },
    {
     "name": "stdout",
     "output_type": "stream",
     "text": [
      "<StringArray>\n",
      "['Sometimes accepted/Rejected',               'Don’t consult',\n",
      "             'No savings goal',             'Always accepted',\n",
      "             'Always rejected']\n",
      "Length: 5, dtype: string\n"
     ]
    },
    {
     "data": {
      "text/markdown": [
       "#### **column:** Land ownership ----- **dtype**: string"
      ],
      "text/plain": [
       "<IPython.core.display.Markdown object>"
      ]
     },
     "metadata": {},
     "output_type": "display_data"
    },
    {
     "data": {
      "text/markdown": [
       "##### Before clean applied"
      ],
      "text/plain": [
       "<IPython.core.display.Markdown object>"
      ]
     },
     "metadata": {},
     "output_type": "display_data"
    },
    {
     "name": "stdout",
     "output_type": "stream",
     "text": [
      "<StringArray>\n",
      "['dont own', 'own by self', 'own with others']\n",
      "Length: 3, dtype: string\n"
     ]
    },
    {
     "data": {
      "text/markdown": [
       "##### After clean applied"
      ],
      "text/plain": [
       "<IPython.core.display.Markdown object>"
      ]
     },
     "metadata": {},
     "output_type": "display_data"
    },
    {
     "name": "stdout",
     "output_type": "stream",
     "text": [
      "<StringArray>\n",
      "['Don’t own', 'Own by self', 'Own with others']\n",
      "Length: 3, dtype: string\n"
     ]
    },
    {
     "data": {
      "text/markdown": [
       "#### **column:** Land decision maker ----- **dtype**: string"
      ],
      "text/plain": [
       "<IPython.core.display.Markdown object>"
      ]
     },
     "metadata": {},
     "output_type": "display_data"
    },
    {
     "data": {
      "text/markdown": [
       "##### Before clean applied"
      ],
      "text/plain": [
       "<IPython.core.display.Markdown object>"
      ]
     },
     "metadata": {},
     "output_type": "display_data"
    },
    {
     "name": "stdout",
     "output_type": "stream",
     "text": [
      "<StringArray>\n",
      "[' ', 'Others decide without me', 'Decide alone', 'Decide with others']\n",
      "Length: 4, dtype: string\n"
     ]
    },
    {
     "data": {
      "text/markdown": [
       "##### After clean applied"
      ],
      "text/plain": [
       "<IPython.core.display.Markdown object>"
      ]
     },
     "metadata": {},
     "output_type": "display_data"
    },
    {
     "name": "stdout",
     "output_type": "stream",
     "text": [
      "<StringArray>\n",
      "[          'Don’t own land', 'Others decide without me',\n",
      "             'Decide alone',       'Decide with others']\n",
      "Length: 4, dtype: string\n"
     ]
    },
    {
     "data": {
      "text/markdown": [
       "#### **column:** Children decision maker ----- **dtype**: string"
      ],
      "text/plain": [
       "<IPython.core.display.Markdown object>"
      ]
     },
     "metadata": {},
     "output_type": "display_data"
    },
    {
     "data": {
      "text/markdown": [
       "##### Before clean applied"
      ],
      "text/plain": [
       "<IPython.core.display.Markdown object>"
      ]
     },
     "metadata": {},
     "output_type": "display_data"
    },
    {
     "name": "stdout",
     "output_type": "stream",
     "text": [
      "<StringArray>\n",
      "[        'decide together',     'Not in relationship',\n",
      " 'We do not talk about it',          'Spouse decides',\n",
      "            'decide alone']\n",
      "Length: 5, dtype: string\n"
     ]
    },
    {
     "data": {
      "text/markdown": [
       "##### After clean applied"
      ],
      "text/plain": [
       "<IPython.core.display.Markdown object>"
      ]
     },
     "metadata": {},
     "output_type": "display_data"
    },
    {
     "name": "stdout",
     "output_type": "stream",
     "text": [
      "<StringArray>\n",
      "[        'Decide together',     'Not in relationship',\n",
      " 'We do not talk about it',          'Spouse decides',\n",
      "            'Decide alone']\n",
      "Length: 5, dtype: string\n"
     ]
    },
    {
     "data": {
      "text/markdown": [
       "#### **column:** Earning frequency ----- **dtype**: string"
      ],
      "text/plain": [
       "<IPython.core.display.Markdown object>"
      ]
     },
     "metadata": {},
     "output_type": "display_data"
    },
    {
     "data": {
      "text/markdown": [
       "##### Before clean applied"
      ],
      "text/plain": [
       "<IPython.core.display.Markdown object>"
      ]
     },
     "metadata": {},
     "output_type": "display_data"
    },
    {
     "name": "stdout",
     "output_type": "stream",
     "text": [
      "<StringArray>\n",
      "[          'Daily', 'Weekly/biweekly',     'I dont work',         'Monthly',\n",
      " 'When I get work',     'Work unpaid']\n",
      "Length: 6, dtype: string\n"
     ]
    },
    {
     "data": {
      "text/markdown": [
       "##### After clean applied"
      ],
      "text/plain": [
       "<IPython.core.display.Markdown object>"
      ]
     },
     "metadata": {},
     "output_type": "display_data"
    },
    {
     "name": "stdout",
     "output_type": "stream",
     "text": [
      "<StringArray>\n",
      "[          'Daily', 'Weekly/Biweekly',    'I don’t work',         'Monthly',\n",
      " 'When I get work',     'Work unpaid']\n",
      "Length: 6, dtype: string\n"
     ]
    },
    {
     "data": {
      "text/markdown": [
       "#### **column:** Spending decision maker ----- **dtype**: string"
      ],
      "text/plain": [
       "<IPython.core.display.Markdown object>"
      ]
     },
     "metadata": {},
     "output_type": "display_data"
    },
    {
     "data": {
      "text/markdown": [
       "##### Before clean applied"
      ],
      "text/plain": [
       "<IPython.core.display.Markdown object>"
      ]
     },
     "metadata": {},
     "output_type": "display_data"
    },
    {
     "name": "stdout",
     "output_type": "stream",
     "text": [
      "<StringArray>\n",
      "['Help from someone else', 'Fully on own', 'Someone else decides for me']\n",
      "Length: 3, dtype: string\n"
     ]
    },
    {
     "data": {
      "text/markdown": [
       "##### After clean applied"
      ],
      "text/plain": [
       "<IPython.core.display.Markdown object>"
      ]
     },
     "metadata": {},
     "output_type": "display_data"
    },
    {
     "name": "stdout",
     "output_type": "stream",
     "text": [
      "<StringArray>\n",
      "['Help from someone else', 'Fully on own', 'Someone else decides']\n",
      "Length: 3, dtype: string\n"
     ]
    },
    {
     "data": {
      "text/markdown": [
       "#### **column:** Permission to work ----- **dtype**: string"
      ],
      "text/plain": [
       "<IPython.core.display.Markdown object>"
      ]
     },
     "metadata": {},
     "output_type": "display_data"
    },
    {
     "data": {
      "text/markdown": [
       "##### Before clean applied"
      ],
      "text/plain": [
       "<IPython.core.display.Markdown object>"
      ]
     },
     "metadata": {},
     "output_type": "display_data"
    },
    {
     "name": "stdout",
     "output_type": "stream",
     "text": [
      "<StringArray>\n",
      "['Already working', 'Yes', 'No']\n",
      "Length: 3, dtype: string\n"
     ]
    },
    {
     "data": {
      "text/markdown": [
       "##### After clean applied"
      ],
      "text/plain": [
       "<IPython.core.display.Markdown object>"
      ]
     },
     "metadata": {},
     "output_type": "display_data"
    },
    {
     "name": "stdout",
     "output_type": "stream",
     "text": [
      "<StringArray>\n",
      "['Already working', 'Yes', 'No']\n",
      "Length: 3, dtype: string\n"
     ]
    },
    {
     "data": {
      "text/markdown": [
       "#### **column:** Main income earner ----- **dtype**: string"
      ],
      "text/plain": [
       "<IPython.core.display.Markdown object>"
      ]
     },
     "metadata": {},
     "output_type": "display_data"
    },
    {
     "data": {
      "text/markdown": [
       "##### Before clean applied"
      ],
      "text/plain": [
       "<IPython.core.display.Markdown object>"
      ]
     },
     "metadata": {},
     "output_type": "display_data"
    },
    {
     "name": "stdout",
     "output_type": "stream",
     "text": [
      "<StringArray>\n",
      "['respondent', 'spouse', 'other fam', 'dont know', 'other', 'earn equally']\n",
      "Length: 6, dtype: string\n"
     ]
    },
    {
     "data": {
      "text/markdown": [
       "##### After clean applied"
      ],
      "text/plain": [
       "<IPython.core.display.Markdown object>"
      ]
     },
     "metadata": {},
     "output_type": "display_data"
    },
    {
     "name": "stdout",
     "output_type": "stream",
     "text": [
      "<StringArray>\n",
      "['Respondent', 'Spouse', 'Other fam', 'Don’t know', 'Other', 'Earn equally']\n",
      "Length: 6, dtype: string\n"
     ]
    },
    {
     "data": {
      "text/markdown": [
       "#### **column:** Migrant worker identity ----- **dtype**: string"
      ],
      "text/plain": [
       "<IPython.core.display.Markdown object>"
      ]
     },
     "metadata": {},
     "output_type": "display_data"
    },
    {
     "data": {
      "text/markdown": [
       "##### Before clean applied"
      ],
      "text/plain": [
       "<IPython.core.display.Markdown object>"
      ]
     },
     "metadata": {},
     "output_type": "display_data"
    },
    {
     "name": "stdout",
     "output_type": "stream",
     "text": [
      "<StringArray>\n",
      "['No-one, all live together', 'Other family', 'Spouse', 'Me']\n",
      "Length: 4, dtype: string\n"
     ]
    },
    {
     "data": {
      "text/markdown": [
       "##### After clean applied"
      ],
      "text/plain": [
       "<IPython.core.display.Markdown object>"
      ]
     },
     "metadata": {},
     "output_type": "display_data"
    },
    {
     "name": "stdout",
     "output_type": "stream",
     "text": [
      "<StringArray>\n",
      "['No-one, all live together', 'Other family', 'Spouse', 'Me']\n",
      "Length: 4, dtype: string\n"
     ]
    },
    {
     "data": {
      "text/markdown": [
       "#### **column:** Possibility to raise 1/20 GNI (Gross National Income) ----- **dtype**: string"
      ],
      "text/plain": [
       "<IPython.core.display.Markdown object>"
      ]
     },
     "metadata": {},
     "output_type": "display_data"
    },
    {
     "data": {
      "text/markdown": [
       "##### Before clean applied"
      ],
      "text/plain": [
       "<IPython.core.display.Markdown object>"
      ]
     },
     "metadata": {},
     "output_type": "display_data"
    },
    {
     "name": "stdout",
     "output_type": "stream",
     "text": [
      "<StringArray>\n",
      "[  'Not very possible', 'Not at all possible',   'Somewhat possible',\n",
      "       'Very possible']\n",
      "Length: 4, dtype: string\n"
     ]
    },
    {
     "data": {
      "text/markdown": [
       "##### After clean applied"
      ],
      "text/plain": [
       "<IPython.core.display.Markdown object>"
      ]
     },
     "metadata": {},
     "output_type": "display_data"
    },
    {
     "name": "stdout",
     "output_type": "stream",
     "text": [
      "<StringArray>\n",
      "[  'Not very possible', 'Not at all possible',   'Somewhat possible',\n",
      "       'Very possible']\n",
      "Length: 4, dtype: string\n"
     ]
    },
    {
     "data": {
      "text/markdown": [
       "#### **column:** Income frequency of spouse ----- **dtype**: string"
      ],
      "text/plain": [
       "<IPython.core.display.Markdown object>"
      ]
     },
     "metadata": {},
     "output_type": "display_data"
    },
    {
     "data": {
      "text/markdown": [
       "##### Before clean applied"
      ],
      "text/plain": [
       "<IPython.core.display.Markdown object>"
      ]
     },
     "metadata": {},
     "output_type": "display_data"
    },
    {
     "name": "stdout",
     "output_type": "stream",
     "text": [
      "<StringArray>\n",
      "[         'dont work',            'Monthly',          'no spouse',\n",
      "              'Daily',    'Weekly/biweekly',          'dont know',\n",
      " 'When they get work',        'Work unpaid']\n",
      "Length: 8, dtype: string\n"
     ]
    },
    {
     "data": {
      "text/markdown": [
       "##### After clean applied"
      ],
      "text/plain": [
       "<IPython.core.display.Markdown object>"
      ]
     },
     "metadata": {},
     "output_type": "display_data"
    },
    {
     "name": "stdout",
     "output_type": "stream",
     "text": [
      "<StringArray>\n",
      "[        'Don’t work',            'Monthly',          'No spouse',\n",
      "              'Daily',    'Weekly/Biweekly',         'Don’t know',\n",
      " 'When they get work',        'Work unpaid']\n",
      "Length: 8, dtype: string\n"
     ]
    },
    {
     "data": {
      "text/markdown": [
       "#### **column:** Allow spouse to work,, ----- **dtype**: string"
      ],
      "text/plain": [
       "<IPython.core.display.Markdown object>"
      ]
     },
     "metadata": {},
     "output_type": "display_data"
    },
    {
     "data": {
      "text/markdown": [
       "##### Before clean applied"
      ],
      "text/plain": [
       "<IPython.core.display.Markdown object>"
      ]
     },
     "metadata": {},
     "output_type": "display_data"
    },
    {
     "name": "stdout",
     "output_type": "stream",
     "text": [
      "<StringArray>\n",
      "['Yes', 'Not married', 'Yes,', 'Not married,', 'No', 'No,']\n",
      "Length: 6, dtype: string\n"
     ]
    },
    {
     "data": {
      "text/markdown": [
       "##### After clean applied"
      ],
      "text/plain": [
       "<IPython.core.display.Markdown object>"
      ]
     },
     "metadata": {},
     "output_type": "display_data"
    },
    {
     "name": "stdout",
     "output_type": "stream",
     "text": [
      "<StringArray>\n",
      "['Yes', 'Not married', 'No']\n",
      "Length: 3, dtype: string\n"
     ]
    },
    {
     "data": {
      "text/markdown": [
       "## pak2020"
      ],
      "text/plain": [
       "<IPython.core.display.Markdown object>"
      ]
     },
     "metadata": {},
     "output_type": "display_data"
    },
    {
     "data": {
      "text/html": [
       "<div>\n",
       "<style scoped>\n",
       "    .dataframe tbody tr th:only-of-type {\n",
       "        vertical-align: middle;\n",
       "    }\n",
       "\n",
       "    .dataframe tbody tr th {\n",
       "        vertical-align: top;\n",
       "    }\n",
       "\n",
       "    .dataframe thead th {\n",
       "        text-align: right;\n",
       "    }\n",
       "</style>\n",
       "<table border=\"1\" class=\"dataframe\">\n",
       "  <thead>\n",
       "    <tr style=\"text-align: right;\">\n",
       "      <th></th>\n",
       "      <th>InstanceID</th>\n",
       "      <th>finalweight</th>\n",
       "      <th>Gender</th>\n",
       "      <th>Marital / relationship status</th>\n",
       "      <th>Urbanicity</th>\n",
       "      <th>Age Group</th>\n",
       "      <th>Education</th>\n",
       "      <th>Read &amp; write in any language</th>\n",
       "      <th>Own a phone</th>\n",
       "      <th>$2.50 PPP Poverty line</th>\n",
       "      <th>Language of interview</th>\n",
       "      <th>Main language</th>\n",
       "      <th>Mean household size</th>\n",
       "      <th>Division</th>\n",
       "      <th>Province / Region</th>\n",
       "      <th>Phone ownership</th>\n",
       "      <th>Independent phone use</th>\n",
       "      <th>Informal financial usage</th>\n",
       "      <th>Mobile Money</th>\n",
       "      <th>Bank</th>\n",
       "      <th>Permission to open bank</th>\n",
       "      <th>Money taken from account</th>\n",
       "      <th>Savings goal decision maker</th>\n",
       "      <th>Savings goal influence</th>\n",
       "      <th>Land ownership</th>\n",
       "      <th>Land decision maker</th>\n",
       "      <th>Children decision maker</th>\n",
       "      <th>Earning frequency</th>\n",
       "      <th>Spending decision maker</th>\n",
       "      <th>Permission to work</th>\n",
       "      <th>Main income earner</th>\n",
       "      <th>Migrant worker identity</th>\n",
       "      <th>Possibility to raise 1/20 GNI (Gross National Income)</th>\n",
       "      <th>Income frequency of spouse</th>\n",
       "      <th>Allow spouse to work</th>\n",
       "    </tr>\n",
       "  </thead>\n",
       "  <tbody>\n",
       "    <tr>\n",
       "      <th>0</th>\n",
       "      <td>466613</td>\n",
       "      <td>43992.04426</td>\n",
       "      <td>Male</td>\n",
       "      <td>Married</td>\n",
       "      <td>Rural</td>\n",
       "      <td>55+</td>\n",
       "      <td>No formal education</td>\n",
       "      <td>Yes</td>\n",
       "      <td>Own phone/Business/Employer</td>\n",
       "      <td>Below poverty line</td>\n",
       "      <td>Urdu</td>\n",
       "      <td>Pashto</td>\n",
       "      <td>Below mean size</td>\n",
       "      <td>Peshawar</td>\n",
       "      <td>KP</td>\n",
       "      <td>own phone</td>\n",
       "      <td>Yes</td>\n",
       "      <td>no</td>\n",
       "      <td>yes</td>\n",
       "      <td>own</td>\n",
       "      <td>no</td>\n",
       "      <td>money not taken</td>\n",
       "      <td>self alone</td>\n",
       "      <td>always accepted</td>\n",
       "      <td>dont own</td>\n",
       "      <td>Dont own land</td>\n",
       "      <td>decide alone</td>\n",
       "      <td>Monthly</td>\n",
       "      <td>Fully on own</td>\n",
       "      <td>Already working</td>\n",
       "      <td>respondent</td>\n",
       "      <td>Other family</td>\n",
       "      <td>Somewhat possible</td>\n",
       "      <td>dont work</td>\n",
       "      <td>No</td>\n",
       "    </tr>\n",
       "    <tr>\n",
       "      <th>1</th>\n",
       "      <td>466614</td>\n",
       "      <td>16270.36200</td>\n",
       "      <td>Male</td>\n",
       "      <td>Not married</td>\n",
       "      <td>Rural</td>\n",
       "      <td>45-54</td>\n",
       "      <td>Secondary education</td>\n",
       "      <td>Yes</td>\n",
       "      <td>dont own phone</td>\n",
       "      <td>Below poverty line</td>\n",
       "      <td>Urdu</td>\n",
       "      <td>Pashto</td>\n",
       "      <td>Above mean size</td>\n",
       "      <td>Peshawar</td>\n",
       "      <td>KP</td>\n",
       "      <td>Parent</td>\n",
       "      <td>Yes</td>\n",
       "      <td>no</td>\n",
       "      <td>no</td>\n",
       "      <td>unbanked</td>\n",
       "      <td>yes</td>\n",
       "      <td>dont have account</td>\n",
       "      <td>no savings goal</td>\n",
       "      <td>no savings goal</td>\n",
       "      <td>dont own</td>\n",
       "      <td>Dont own land</td>\n",
       "      <td>Not married</td>\n",
       "      <td>I dont work</td>\n",
       "      <td>Someone else decides for me</td>\n",
       "      <td>Yes</td>\n",
       "      <td>other fam</td>\n",
       "      <td>No-one, all live together</td>\n",
       "      <td>Not at all possible</td>\n",
       "      <td>no spouse</td>\n",
       "      <td>Not married</td>\n",
       "    </tr>\n",
       "  </tbody>\n",
       "</table>\n",
       "</div>"
      ],
      "text/plain": [
       "   InstanceID  finalweight Gender Marital / relationship status Urbanicity  \\\n",
       "0      466613  43992.04426   Male                       Married      Rural   \n",
       "1      466614  16270.36200   Male                   Not married      Rural   \n",
       "\n",
       "  Age Group            Education Read & write in any language  \\\n",
       "0       55+  No formal education                          Yes   \n",
       "1     45-54  Secondary education                          Yes   \n",
       "\n",
       "                   Own a phone $2.50 PPP Poverty line Language of interview  \\\n",
       "0  Own phone/Business/Employer     Below poverty line                  Urdu   \n",
       "1               dont own phone     Below poverty line                  Urdu   \n",
       "\n",
       "  Main language Mean household size  Division Province / Region  \\\n",
       "0        Pashto     Below mean size  Peshawar                KP   \n",
       "1        Pashto     Above mean size  Peshawar                KP   \n",
       "\n",
       "  Phone ownership Independent phone use Informal financial usage Mobile Money  \\\n",
       "0       own phone                   Yes                       no          yes   \n",
       "1          Parent                   Yes                       no           no   \n",
       "\n",
       "       Bank Permission to open bank Money taken from account  \\\n",
       "0       own                      no          money not taken   \n",
       "1  unbanked                     yes        dont have account   \n",
       "\n",
       "  Savings goal decision maker Savings goal influence Land ownership  \\\n",
       "0                  self alone        always accepted       dont own   \n",
       "1             no savings goal        no savings goal       dont own   \n",
       "\n",
       "  Land decision maker Children decision maker Earning frequency  \\\n",
       "0       Dont own land            decide alone           Monthly   \n",
       "1       Dont own land             Not married       I dont work   \n",
       "\n",
       "       Spending decision maker Permission to work Main income earner  \\\n",
       "0                 Fully on own    Already working         respondent   \n",
       "1  Someone else decides for me                Yes          other fam   \n",
       "\n",
       "     Migrant worker identity  \\\n",
       "0               Other family   \n",
       "1  No-one, all live together   \n",
       "\n",
       "  Possibility to raise 1/20 GNI (Gross National Income)  \\\n",
       "0                                  Somewhat possible      \n",
       "1                                Not at all possible      \n",
       "\n",
       "  Income frequency of spouse Allow spouse to work  \n",
       "0                  dont work                   No  \n",
       "1                  no spouse          Not married  "
      ]
     },
     "metadata": {},
     "output_type": "display_data"
    },
    {
     "data": {
      "text/html": [
       "<div>\n",
       "<style scoped>\n",
       "    .dataframe tbody tr th:only-of-type {\n",
       "        vertical-align: middle;\n",
       "    }\n",
       "\n",
       "    .dataframe tbody tr th {\n",
       "        vertical-align: top;\n",
       "    }\n",
       "\n",
       "    .dataframe thead th {\n",
       "        text-align: right;\n",
       "    }\n",
       "</style>\n",
       "<table border=\"1\" class=\"dataframe\">\n",
       "  <thead>\n",
       "    <tr style=\"text-align: right;\">\n",
       "      <th></th>\n",
       "      <th>count</th>\n",
       "      <th>unique</th>\n",
       "      <th>top</th>\n",
       "      <th>freq</th>\n",
       "      <th>mean</th>\n",
       "      <th>std</th>\n",
       "      <th>min</th>\n",
       "      <th>25%</th>\n",
       "      <th>50%</th>\n",
       "      <th>75%</th>\n",
       "      <th>max</th>\n",
       "    </tr>\n",
       "  </thead>\n",
       "  <tbody>\n",
       "    <tr>\n",
       "      <th>InstanceID</th>\n",
       "      <td>3668</td>\n",
       "      <td>NaN</td>\n",
       "      <td>NaN</td>\n",
       "      <td>NaN</td>\n",
       "      <td>484321</td>\n",
       "      <td>6445.21</td>\n",
       "      <td>466613</td>\n",
       "      <td>480169</td>\n",
       "      <td>485426</td>\n",
       "      <td>489464</td>\n",
       "      <td>504335</td>\n",
       "    </tr>\n",
       "    <tr>\n",
       "      <th>finalweight</th>\n",
       "      <td>3668</td>\n",
       "      <td>NaN</td>\n",
       "      <td>NaN</td>\n",
       "      <td>NaN</td>\n",
       "      <td>17927.9</td>\n",
       "      <td>15712.8</td>\n",
       "      <td>898.908</td>\n",
       "      <td>8506.39</td>\n",
       "      <td>13275.3</td>\n",
       "      <td>22398.3</td>\n",
       "      <td>274531</td>\n",
       "    </tr>\n",
       "    <tr>\n",
       "      <th>Gender</th>\n",
       "      <td>3668</td>\n",
       "      <td>2</td>\n",
       "      <td>Male</td>\n",
       "      <td>1838</td>\n",
       "      <td>NaN</td>\n",
       "      <td>NaN</td>\n",
       "      <td>NaN</td>\n",
       "      <td>NaN</td>\n",
       "      <td>NaN</td>\n",
       "      <td>NaN</td>\n",
       "      <td>NaN</td>\n",
       "    </tr>\n",
       "    <tr>\n",
       "      <th>Marital / relationship status</th>\n",
       "      <td>3668</td>\n",
       "      <td>2</td>\n",
       "      <td>Married</td>\n",
       "      <td>2796</td>\n",
       "      <td>NaN</td>\n",
       "      <td>NaN</td>\n",
       "      <td>NaN</td>\n",
       "      <td>NaN</td>\n",
       "      <td>NaN</td>\n",
       "      <td>NaN</td>\n",
       "      <td>NaN</td>\n",
       "    </tr>\n",
       "    <tr>\n",
       "      <th>Urbanicity</th>\n",
       "      <td>3668</td>\n",
       "      <td>2</td>\n",
       "      <td>Urban</td>\n",
       "      <td>1858</td>\n",
       "      <td>NaN</td>\n",
       "      <td>NaN</td>\n",
       "      <td>NaN</td>\n",
       "      <td>NaN</td>\n",
       "      <td>NaN</td>\n",
       "      <td>NaN</td>\n",
       "      <td>NaN</td>\n",
       "    </tr>\n",
       "    <tr>\n",
       "      <th>Age Group</th>\n",
       "      <td>3668</td>\n",
       "      <td>5</td>\n",
       "      <td>25-34</td>\n",
       "      <td>1241</td>\n",
       "      <td>NaN</td>\n",
       "      <td>NaN</td>\n",
       "      <td>NaN</td>\n",
       "      <td>NaN</td>\n",
       "      <td>NaN</td>\n",
       "      <td>NaN</td>\n",
       "      <td>NaN</td>\n",
       "    </tr>\n",
       "    <tr>\n",
       "      <th>Education</th>\n",
       "      <td>3668</td>\n",
       "      <td>5</td>\n",
       "      <td>Secondary education</td>\n",
       "      <td>1437</td>\n",
       "      <td>NaN</td>\n",
       "      <td>NaN</td>\n",
       "      <td>NaN</td>\n",
       "      <td>NaN</td>\n",
       "      <td>NaN</td>\n",
       "      <td>NaN</td>\n",
       "      <td>NaN</td>\n",
       "    </tr>\n",
       "    <tr>\n",
       "      <th>Read &amp; write in any language</th>\n",
       "      <td>3668</td>\n",
       "      <td>2</td>\n",
       "      <td>Yes</td>\n",
       "      <td>2787</td>\n",
       "      <td>NaN</td>\n",
       "      <td>NaN</td>\n",
       "      <td>NaN</td>\n",
       "      <td>NaN</td>\n",
       "      <td>NaN</td>\n",
       "      <td>NaN</td>\n",
       "      <td>NaN</td>\n",
       "    </tr>\n",
       "    <tr>\n",
       "      <th>Own a phone</th>\n",
       "      <td>3668</td>\n",
       "      <td>2</td>\n",
       "      <td>Own phone/Business/Employer</td>\n",
       "      <td>2522</td>\n",
       "      <td>NaN</td>\n",
       "      <td>NaN</td>\n",
       "      <td>NaN</td>\n",
       "      <td>NaN</td>\n",
       "      <td>NaN</td>\n",
       "      <td>NaN</td>\n",
       "      <td>NaN</td>\n",
       "    </tr>\n",
       "    <tr>\n",
       "      <th>$2.50 PPP Poverty line</th>\n",
       "      <td>3668</td>\n",
       "      <td>2</td>\n",
       "      <td>Below poverty line</td>\n",
       "      <td>2134</td>\n",
       "      <td>NaN</td>\n",
       "      <td>NaN</td>\n",
       "      <td>NaN</td>\n",
       "      <td>NaN</td>\n",
       "      <td>NaN</td>\n",
       "      <td>NaN</td>\n",
       "      <td>NaN</td>\n",
       "    </tr>\n",
       "    <tr>\n",
       "      <th>Language of interview</th>\n",
       "      <td>3668</td>\n",
       "      <td>2</td>\n",
       "      <td>Urdu</td>\n",
       "      <td>3665</td>\n",
       "      <td>NaN</td>\n",
       "      <td>NaN</td>\n",
       "      <td>NaN</td>\n",
       "      <td>NaN</td>\n",
       "      <td>NaN</td>\n",
       "      <td>NaN</td>\n",
       "      <td>NaN</td>\n",
       "    </tr>\n",
       "    <tr>\n",
       "      <th>Main language</th>\n",
       "      <td>3668</td>\n",
       "      <td>7</td>\n",
       "      <td>Punjabi</td>\n",
       "      <td>1363</td>\n",
       "      <td>NaN</td>\n",
       "      <td>NaN</td>\n",
       "      <td>NaN</td>\n",
       "      <td>NaN</td>\n",
       "      <td>NaN</td>\n",
       "      <td>NaN</td>\n",
       "      <td>NaN</td>\n",
       "    </tr>\n",
       "    <tr>\n",
       "      <th>Mean household size</th>\n",
       "      <td>3668</td>\n",
       "      <td>3</td>\n",
       "      <td>Below mean size</td>\n",
       "      <td>2559</td>\n",
       "      <td>NaN</td>\n",
       "      <td>NaN</td>\n",
       "      <td>NaN</td>\n",
       "      <td>NaN</td>\n",
       "      <td>NaN</td>\n",
       "      <td>NaN</td>\n",
       "      <td>NaN</td>\n",
       "    </tr>\n",
       "    <tr>\n",
       "      <th>Division</th>\n",
       "      <td>3668</td>\n",
       "      <td>28</td>\n",
       "      <td>Lahore</td>\n",
       "      <td>316</td>\n",
       "      <td>NaN</td>\n",
       "      <td>NaN</td>\n",
       "      <td>NaN</td>\n",
       "      <td>NaN</td>\n",
       "      <td>NaN</td>\n",
       "      <td>NaN</td>\n",
       "      <td>NaN</td>\n",
       "    </tr>\n",
       "    <tr>\n",
       "      <th>Province / Region</th>\n",
       "      <td>3668</td>\n",
       "      <td>4</td>\n",
       "      <td>Punjab</td>\n",
       "      <td>1875</td>\n",
       "      <td>NaN</td>\n",
       "      <td>NaN</td>\n",
       "      <td>NaN</td>\n",
       "      <td>NaN</td>\n",
       "      <td>NaN</td>\n",
       "      <td>NaN</td>\n",
       "      <td>NaN</td>\n",
       "    </tr>\n",
       "    <tr>\n",
       "      <th>Phone ownership</th>\n",
       "      <td>3668</td>\n",
       "      <td>7</td>\n",
       "      <td>own phone</td>\n",
       "      <td>2522</td>\n",
       "      <td>NaN</td>\n",
       "      <td>NaN</td>\n",
       "      <td>NaN</td>\n",
       "      <td>NaN</td>\n",
       "      <td>NaN</td>\n",
       "      <td>NaN</td>\n",
       "      <td>NaN</td>\n",
       "    </tr>\n",
       "    <tr>\n",
       "      <th>Independent phone use</th>\n",
       "      <td>3668</td>\n",
       "      <td>3</td>\n",
       "      <td>Yes</td>\n",
       "      <td>2516</td>\n",
       "      <td>NaN</td>\n",
       "      <td>NaN</td>\n",
       "      <td>NaN</td>\n",
       "      <td>NaN</td>\n",
       "      <td>NaN</td>\n",
       "      <td>NaN</td>\n",
       "      <td>NaN</td>\n",
       "    </tr>\n",
       "    <tr>\n",
       "      <th>Informal financial usage</th>\n",
       "      <td>3668</td>\n",
       "      <td>2</td>\n",
       "      <td>no</td>\n",
       "      <td>2864</td>\n",
       "      <td>NaN</td>\n",
       "      <td>NaN</td>\n",
       "      <td>NaN</td>\n",
       "      <td>NaN</td>\n",
       "      <td>NaN</td>\n",
       "      <td>NaN</td>\n",
       "      <td>NaN</td>\n",
       "    </tr>\n",
       "    <tr>\n",
       "      <th>Mobile Money</th>\n",
       "      <td>3668</td>\n",
       "      <td>2</td>\n",
       "      <td>no</td>\n",
       "      <td>2767</td>\n",
       "      <td>NaN</td>\n",
       "      <td>NaN</td>\n",
       "      <td>NaN</td>\n",
       "      <td>NaN</td>\n",
       "      <td>NaN</td>\n",
       "      <td>NaN</td>\n",
       "      <td>NaN</td>\n",
       "    </tr>\n",
       "    <tr>\n",
       "      <th>Bank</th>\n",
       "      <td>3668</td>\n",
       "      <td>5</td>\n",
       "      <td>unbanked</td>\n",
       "      <td>2986</td>\n",
       "      <td>NaN</td>\n",
       "      <td>NaN</td>\n",
       "      <td>NaN</td>\n",
       "      <td>NaN</td>\n",
       "      <td>NaN</td>\n",
       "      <td>NaN</td>\n",
       "      <td>NaN</td>\n",
       "    </tr>\n",
       "    <tr>\n",
       "      <th>Permission to open bank</th>\n",
       "      <td>3668</td>\n",
       "      <td>2</td>\n",
       "      <td>no</td>\n",
       "      <td>2434</td>\n",
       "      <td>NaN</td>\n",
       "      <td>NaN</td>\n",
       "      <td>NaN</td>\n",
       "      <td>NaN</td>\n",
       "      <td>NaN</td>\n",
       "      <td>NaN</td>\n",
       "      <td>NaN</td>\n",
       "    </tr>\n",
       "    <tr>\n",
       "      <th>Money taken from account</th>\n",
       "      <td>3668</td>\n",
       "      <td>3</td>\n",
       "      <td>dont have account</td>\n",
       "      <td>2466</td>\n",
       "      <td>NaN</td>\n",
       "      <td>NaN</td>\n",
       "      <td>NaN</td>\n",
       "      <td>NaN</td>\n",
       "      <td>NaN</td>\n",
       "      <td>NaN</td>\n",
       "      <td>NaN</td>\n",
       "    </tr>\n",
       "    <tr>\n",
       "      <th>Savings goal decision maker</th>\n",
       "      <td>3668</td>\n",
       "      <td>4</td>\n",
       "      <td>no savings goal</td>\n",
       "      <td>1508</td>\n",
       "      <td>NaN</td>\n",
       "      <td>NaN</td>\n",
       "      <td>NaN</td>\n",
       "      <td>NaN</td>\n",
       "      <td>NaN</td>\n",
       "      <td>NaN</td>\n",
       "      <td>NaN</td>\n",
       "    </tr>\n",
       "    <tr>\n",
       "      <th>Savings goal influence</th>\n",
       "      <td>3668</td>\n",
       "      <td>5</td>\n",
       "      <td>no savings goal</td>\n",
       "      <td>1508</td>\n",
       "      <td>NaN</td>\n",
       "      <td>NaN</td>\n",
       "      <td>NaN</td>\n",
       "      <td>NaN</td>\n",
       "      <td>NaN</td>\n",
       "      <td>NaN</td>\n",
       "      <td>NaN</td>\n",
       "    </tr>\n",
       "    <tr>\n",
       "      <th>Land ownership</th>\n",
       "      <td>3668</td>\n",
       "      <td>3</td>\n",
       "      <td>dont own</td>\n",
       "      <td>2685</td>\n",
       "      <td>NaN</td>\n",
       "      <td>NaN</td>\n",
       "      <td>NaN</td>\n",
       "      <td>NaN</td>\n",
       "      <td>NaN</td>\n",
       "      <td>NaN</td>\n",
       "      <td>NaN</td>\n",
       "    </tr>\n",
       "    <tr>\n",
       "      <th>Land decision maker</th>\n",
       "      <td>3668</td>\n",
       "      <td>4</td>\n",
       "      <td>Dont own land</td>\n",
       "      <td>2685</td>\n",
       "      <td>NaN</td>\n",
       "      <td>NaN</td>\n",
       "      <td>NaN</td>\n",
       "      <td>NaN</td>\n",
       "      <td>NaN</td>\n",
       "      <td>NaN</td>\n",
       "      <td>NaN</td>\n",
       "    </tr>\n",
       "    <tr>\n",
       "      <th>Children decision maker</th>\n",
       "      <td>3668</td>\n",
       "      <td>6</td>\n",
       "      <td>decide together</td>\n",
       "      <td>1425</td>\n",
       "      <td>NaN</td>\n",
       "      <td>NaN</td>\n",
       "      <td>NaN</td>\n",
       "      <td>NaN</td>\n",
       "      <td>NaN</td>\n",
       "      <td>NaN</td>\n",
       "      <td>NaN</td>\n",
       "    </tr>\n",
       "    <tr>\n",
       "      <th>Earning frequency</th>\n",
       "      <td>3668</td>\n",
       "      <td>6</td>\n",
       "      <td>I dont work</td>\n",
       "      <td>1479</td>\n",
       "      <td>NaN</td>\n",
       "      <td>NaN</td>\n",
       "      <td>NaN</td>\n",
       "      <td>NaN</td>\n",
       "      <td>NaN</td>\n",
       "      <td>NaN</td>\n",
       "      <td>NaN</td>\n",
       "    </tr>\n",
       "    <tr>\n",
       "      <th>Spending decision maker</th>\n",
       "      <td>3668</td>\n",
       "      <td>3</td>\n",
       "      <td>Fully on own</td>\n",
       "      <td>2294</td>\n",
       "      <td>NaN</td>\n",
       "      <td>NaN</td>\n",
       "      <td>NaN</td>\n",
       "      <td>NaN</td>\n",
       "      <td>NaN</td>\n",
       "      <td>NaN</td>\n",
       "      <td>NaN</td>\n",
       "    </tr>\n",
       "    <tr>\n",
       "      <th>Permission to work</th>\n",
       "      <td>3668</td>\n",
       "      <td>3</td>\n",
       "      <td>Already working</td>\n",
       "      <td>2179</td>\n",
       "      <td>NaN</td>\n",
       "      <td>NaN</td>\n",
       "      <td>NaN</td>\n",
       "      <td>NaN</td>\n",
       "      <td>NaN</td>\n",
       "      <td>NaN</td>\n",
       "      <td>NaN</td>\n",
       "    </tr>\n",
       "    <tr>\n",
       "      <th>Main income earner</th>\n",
       "      <td>3668</td>\n",
       "      <td>5</td>\n",
       "      <td>spouse</td>\n",
       "      <td>1352</td>\n",
       "      <td>NaN</td>\n",
       "      <td>NaN</td>\n",
       "      <td>NaN</td>\n",
       "      <td>NaN</td>\n",
       "      <td>NaN</td>\n",
       "      <td>NaN</td>\n",
       "      <td>NaN</td>\n",
       "    </tr>\n",
       "    <tr>\n",
       "      <th>Migrant worker identity</th>\n",
       "      <td>3668</td>\n",
       "      <td>4</td>\n",
       "      <td>No-one, all live together</td>\n",
       "      <td>3345</td>\n",
       "      <td>NaN</td>\n",
       "      <td>NaN</td>\n",
       "      <td>NaN</td>\n",
       "      <td>NaN</td>\n",
       "      <td>NaN</td>\n",
       "      <td>NaN</td>\n",
       "      <td>NaN</td>\n",
       "    </tr>\n",
       "    <tr>\n",
       "      <th>Possibility to raise 1/20 GNI (Gross National Income)</th>\n",
       "      <td>3668</td>\n",
       "      <td>4</td>\n",
       "      <td>Not at all possible</td>\n",
       "      <td>1451</td>\n",
       "      <td>NaN</td>\n",
       "      <td>NaN</td>\n",
       "      <td>NaN</td>\n",
       "      <td>NaN</td>\n",
       "      <td>NaN</td>\n",
       "      <td>NaN</td>\n",
       "      <td>NaN</td>\n",
       "    </tr>\n",
       "    <tr>\n",
       "      <th>Income frequency of spouse</th>\n",
       "      <td>3668</td>\n",
       "      <td>8</td>\n",
       "      <td>dont work</td>\n",
       "      <td>1295</td>\n",
       "      <td>NaN</td>\n",
       "      <td>NaN</td>\n",
       "      <td>NaN</td>\n",
       "      <td>NaN</td>\n",
       "      <td>NaN</td>\n",
       "      <td>NaN</td>\n",
       "      <td>NaN</td>\n",
       "    </tr>\n",
       "    <tr>\n",
       "      <th>Allow spouse to work</th>\n",
       "      <td>3668</td>\n",
       "      <td>3</td>\n",
       "      <td>No</td>\n",
       "      <td>1457</td>\n",
       "      <td>NaN</td>\n",
       "      <td>NaN</td>\n",
       "      <td>NaN</td>\n",
       "      <td>NaN</td>\n",
       "      <td>NaN</td>\n",
       "      <td>NaN</td>\n",
       "      <td>NaN</td>\n",
       "    </tr>\n",
       "  </tbody>\n",
       "</table>\n",
       "</div>"
      ],
      "text/plain": [
       "                                                   count unique  \\\n",
       "InstanceID                                          3668    NaN   \n",
       "finalweight                                         3668    NaN   \n",
       "Gender                                              3668      2   \n",
       "Marital / relationship status                       3668      2   \n",
       "Urbanicity                                          3668      2   \n",
       "Age Group                                           3668      5   \n",
       "Education                                           3668      5   \n",
       "Read & write in any language                        3668      2   \n",
       "Own a phone                                         3668      2   \n",
       "$2.50 PPP Poverty line                              3668      2   \n",
       "Language of interview                               3668      2   \n",
       "Main language                                       3668      7   \n",
       "Mean household size                                 3668      3   \n",
       "Division                                            3668     28   \n",
       "Province / Region                                   3668      4   \n",
       "Phone ownership                                     3668      7   \n",
       "Independent phone use                               3668      3   \n",
       "Informal financial usage                            3668      2   \n",
       "Mobile Money                                        3668      2   \n",
       "Bank                                                3668      5   \n",
       "Permission to open bank                             3668      2   \n",
       "Money taken from account                            3668      3   \n",
       "Savings goal decision maker                         3668      4   \n",
       "Savings goal influence                              3668      5   \n",
       "Land ownership                                      3668      3   \n",
       "Land decision maker                                 3668      4   \n",
       "Children decision maker                             3668      6   \n",
       "Earning frequency                                   3668      6   \n",
       "Spending decision maker                             3668      3   \n",
       "Permission to work                                  3668      3   \n",
       "Main income earner                                  3668      5   \n",
       "Migrant worker identity                             3668      4   \n",
       "Possibility to raise 1/20 GNI (Gross National I...  3668      4   \n",
       "Income frequency of spouse                          3668      8   \n",
       "Allow spouse to work                                3668      3   \n",
       "\n",
       "                                                                            top  \\\n",
       "InstanceID                                                                  NaN   \n",
       "finalweight                                                                 NaN   \n",
       "Gender                                                                     Male   \n",
       "Marital / relationship status                                           Married   \n",
       "Urbanicity                                                                Urban   \n",
       "Age Group                                                                 25-34   \n",
       "Education                                                   Secondary education   \n",
       "Read & write in any language                                                Yes   \n",
       "Own a phone                                         Own phone/Business/Employer   \n",
       "$2.50 PPP Poverty line                                       Below poverty line   \n",
       "Language of interview                                                      Urdu   \n",
       "Main language                                                           Punjabi   \n",
       "Mean household size                                             Below mean size   \n",
       "Division                                                                 Lahore   \n",
       "Province / Region                                                        Punjab   \n",
       "Phone ownership                                                       own phone   \n",
       "Independent phone use                                                       Yes   \n",
       "Informal financial usage                                                     no   \n",
       "Mobile Money                                                                 no   \n",
       "Bank                                                                   unbanked   \n",
       "Permission to open bank                                                      no   \n",
       "Money taken from account                                      dont have account   \n",
       "Savings goal decision maker                                     no savings goal   \n",
       "Savings goal influence                                          no savings goal   \n",
       "Land ownership                                                         dont own   \n",
       "Land decision maker                                               Dont own land   \n",
       "Children decision maker                                         decide together   \n",
       "Earning frequency                                                   I dont work   \n",
       "Spending decision maker                                            Fully on own   \n",
       "Permission to work                                              Already working   \n",
       "Main income earner                                                       spouse   \n",
       "Migrant worker identity                               No-one, all live together   \n",
       "Possibility to raise 1/20 GNI (Gross National I...          Not at all possible   \n",
       "Income frequency of spouse                                            dont work   \n",
       "Allow spouse to work                                                         No   \n",
       "\n",
       "                                                    freq     mean      std  \\\n",
       "InstanceID                                           NaN   484321  6445.21   \n",
       "finalweight                                          NaN  17927.9  15712.8   \n",
       "Gender                                              1838      NaN      NaN   \n",
       "Marital / relationship status                       2796      NaN      NaN   \n",
       "Urbanicity                                          1858      NaN      NaN   \n",
       "Age Group                                           1241      NaN      NaN   \n",
       "Education                                           1437      NaN      NaN   \n",
       "Read & write in any language                        2787      NaN      NaN   \n",
       "Own a phone                                         2522      NaN      NaN   \n",
       "$2.50 PPP Poverty line                              2134      NaN      NaN   \n",
       "Language of interview                               3665      NaN      NaN   \n",
       "Main language                                       1363      NaN      NaN   \n",
       "Mean household size                                 2559      NaN      NaN   \n",
       "Division                                             316      NaN      NaN   \n",
       "Province / Region                                   1875      NaN      NaN   \n",
       "Phone ownership                                     2522      NaN      NaN   \n",
       "Independent phone use                               2516      NaN      NaN   \n",
       "Informal financial usage                            2864      NaN      NaN   \n",
       "Mobile Money                                        2767      NaN      NaN   \n",
       "Bank                                                2986      NaN      NaN   \n",
       "Permission to open bank                             2434      NaN      NaN   \n",
       "Money taken from account                            2466      NaN      NaN   \n",
       "Savings goal decision maker                         1508      NaN      NaN   \n",
       "Savings goal influence                              1508      NaN      NaN   \n",
       "Land ownership                                      2685      NaN      NaN   \n",
       "Land decision maker                                 2685      NaN      NaN   \n",
       "Children decision maker                             1425      NaN      NaN   \n",
       "Earning frequency                                   1479      NaN      NaN   \n",
       "Spending decision maker                             2294      NaN      NaN   \n",
       "Permission to work                                  2179      NaN      NaN   \n",
       "Main income earner                                  1352      NaN      NaN   \n",
       "Migrant worker identity                             3345      NaN      NaN   \n",
       "Possibility to raise 1/20 GNI (Gross National I...  1451      NaN      NaN   \n",
       "Income frequency of spouse                          1295      NaN      NaN   \n",
       "Allow spouse to work                                1457      NaN      NaN   \n",
       "\n",
       "                                                        min      25%      50%  \\\n",
       "InstanceID                                           466613   480169   485426   \n",
       "finalweight                                         898.908  8506.39  13275.3   \n",
       "Gender                                                  NaN      NaN      NaN   \n",
       "Marital / relationship status                           NaN      NaN      NaN   \n",
       "Urbanicity                                              NaN      NaN      NaN   \n",
       "Age Group                                               NaN      NaN      NaN   \n",
       "Education                                               NaN      NaN      NaN   \n",
       "Read & write in any language                            NaN      NaN      NaN   \n",
       "Own a phone                                             NaN      NaN      NaN   \n",
       "$2.50 PPP Poverty line                                  NaN      NaN      NaN   \n",
       "Language of interview                                   NaN      NaN      NaN   \n",
       "Main language                                           NaN      NaN      NaN   \n",
       "Mean household size                                     NaN      NaN      NaN   \n",
       "Division                                                NaN      NaN      NaN   \n",
       "Province / Region                                       NaN      NaN      NaN   \n",
       "Phone ownership                                         NaN      NaN      NaN   \n",
       "Independent phone use                                   NaN      NaN      NaN   \n",
       "Informal financial usage                                NaN      NaN      NaN   \n",
       "Mobile Money                                            NaN      NaN      NaN   \n",
       "Bank                                                    NaN      NaN      NaN   \n",
       "Permission to open bank                                 NaN      NaN      NaN   \n",
       "Money taken from account                                NaN      NaN      NaN   \n",
       "Savings goal decision maker                             NaN      NaN      NaN   \n",
       "Savings goal influence                                  NaN      NaN      NaN   \n",
       "Land ownership                                          NaN      NaN      NaN   \n",
       "Land decision maker                                     NaN      NaN      NaN   \n",
       "Children decision maker                                 NaN      NaN      NaN   \n",
       "Earning frequency                                       NaN      NaN      NaN   \n",
       "Spending decision maker                                 NaN      NaN      NaN   \n",
       "Permission to work                                      NaN      NaN      NaN   \n",
       "Main income earner                                      NaN      NaN      NaN   \n",
       "Migrant worker identity                                 NaN      NaN      NaN   \n",
       "Possibility to raise 1/20 GNI (Gross National I...      NaN      NaN      NaN   \n",
       "Income frequency of spouse                              NaN      NaN      NaN   \n",
       "Allow spouse to work                                    NaN      NaN      NaN   \n",
       "\n",
       "                                                        75%     max  \n",
       "InstanceID                                           489464  504335  \n",
       "finalweight                                         22398.3  274531  \n",
       "Gender                                                  NaN     NaN  \n",
       "Marital / relationship status                           NaN     NaN  \n",
       "Urbanicity                                              NaN     NaN  \n",
       "Age Group                                               NaN     NaN  \n",
       "Education                                               NaN     NaN  \n",
       "Read & write in any language                            NaN     NaN  \n",
       "Own a phone                                             NaN     NaN  \n",
       "$2.50 PPP Poverty line                                  NaN     NaN  \n",
       "Language of interview                                   NaN     NaN  \n",
       "Main language                                           NaN     NaN  \n",
       "Mean household size                                     NaN     NaN  \n",
       "Division                                                NaN     NaN  \n",
       "Province / Region                                       NaN     NaN  \n",
       "Phone ownership                                         NaN     NaN  \n",
       "Independent phone use                                   NaN     NaN  \n",
       "Informal financial usage                                NaN     NaN  \n",
       "Mobile Money                                            NaN     NaN  \n",
       "Bank                                                    NaN     NaN  \n",
       "Permission to open bank                                 NaN     NaN  \n",
       "Money taken from account                                NaN     NaN  \n",
       "Savings goal decision maker                             NaN     NaN  \n",
       "Savings goal influence                                  NaN     NaN  \n",
       "Land ownership                                          NaN     NaN  \n",
       "Land decision maker                                     NaN     NaN  \n",
       "Children decision maker                                 NaN     NaN  \n",
       "Earning frequency                                       NaN     NaN  \n",
       "Spending decision maker                                 NaN     NaN  \n",
       "Permission to work                                      NaN     NaN  \n",
       "Main income earner                                      NaN     NaN  \n",
       "Migrant worker identity                                 NaN     NaN  \n",
       "Possibility to raise 1/20 GNI (Gross National I...      NaN     NaN  \n",
       "Income frequency of spouse                              NaN     NaN  \n",
       "Allow spouse to work                                    NaN     NaN  "
      ]
     },
     "metadata": {},
     "output_type": "display_data"
    },
    {
     "data": {
      "text/markdown": [
       "### Columns descriptions"
      ],
      "text/plain": [
       "<IPython.core.display.Markdown object>"
      ]
     },
     "metadata": {},
     "output_type": "display_data"
    },
    {
     "data": {
      "text/markdown": [
       "#### **column:** InstanceID ----- **dtype**: Int64"
      ],
      "text/plain": [
       "<IPython.core.display.Markdown object>"
      ]
     },
     "metadata": {},
     "output_type": "display_data"
    },
    {
     "data": {
      "text/markdown": [
       "#### **column:** finalweight ----- **dtype**: float64"
      ],
      "text/plain": [
       "<IPython.core.display.Markdown object>"
      ]
     },
     "metadata": {},
     "output_type": "display_data"
    },
    {
     "data": {
      "text/markdown": [
       "#### **column:** Gender ----- **dtype**: string"
      ],
      "text/plain": [
       "<IPython.core.display.Markdown object>"
      ]
     },
     "metadata": {},
     "output_type": "display_data"
    },
    {
     "data": {
      "text/markdown": [
       "##### Before clean applied"
      ],
      "text/plain": [
       "<IPython.core.display.Markdown object>"
      ]
     },
     "metadata": {},
     "output_type": "display_data"
    },
    {
     "name": "stdout",
     "output_type": "stream",
     "text": [
      "<StringArray>\n",
      "['Male', 'Female']\n",
      "Length: 2, dtype: string\n"
     ]
    },
    {
     "data": {
      "text/markdown": [
       "##### After clean applied"
      ],
      "text/plain": [
       "<IPython.core.display.Markdown object>"
      ]
     },
     "metadata": {},
     "output_type": "display_data"
    },
    {
     "name": "stdout",
     "output_type": "stream",
     "text": [
      "<StringArray>\n",
      "['Male', 'Female']\n",
      "Length: 2, dtype: string\n"
     ]
    },
    {
     "data": {
      "text/markdown": [
       "#### **column:** Marital / relationship status ----- **dtype**: string"
      ],
      "text/plain": [
       "<IPython.core.display.Markdown object>"
      ]
     },
     "metadata": {},
     "output_type": "display_data"
    },
    {
     "data": {
      "text/markdown": [
       "##### Before clean applied"
      ],
      "text/plain": [
       "<IPython.core.display.Markdown object>"
      ]
     },
     "metadata": {},
     "output_type": "display_data"
    },
    {
     "name": "stdout",
     "output_type": "stream",
     "text": [
      "<StringArray>\n",
      "['Married', 'Not married']\n",
      "Length: 2, dtype: string\n"
     ]
    },
    {
     "data": {
      "text/markdown": [
       "##### After clean applied"
      ],
      "text/plain": [
       "<IPython.core.display.Markdown object>"
      ]
     },
     "metadata": {},
     "output_type": "display_data"
    },
    {
     "name": "stdout",
     "output_type": "stream",
     "text": [
      "<StringArray>\n",
      "['Married', 'Not married']\n",
      "Length: 2, dtype: string\n"
     ]
    },
    {
     "data": {
      "text/markdown": [
       "#### **column:** Urbanicity ----- **dtype**: string"
      ],
      "text/plain": [
       "<IPython.core.display.Markdown object>"
      ]
     },
     "metadata": {},
     "output_type": "display_data"
    },
    {
     "data": {
      "text/markdown": [
       "##### Before clean applied"
      ],
      "text/plain": [
       "<IPython.core.display.Markdown object>"
      ]
     },
     "metadata": {},
     "output_type": "display_data"
    },
    {
     "name": "stdout",
     "output_type": "stream",
     "text": [
      "<StringArray>\n",
      "['Rural', 'Urban']\n",
      "Length: 2, dtype: string\n"
     ]
    },
    {
     "data": {
      "text/markdown": [
       "##### After clean applied"
      ],
      "text/plain": [
       "<IPython.core.display.Markdown object>"
      ]
     },
     "metadata": {},
     "output_type": "display_data"
    },
    {
     "name": "stdout",
     "output_type": "stream",
     "text": [
      "<StringArray>\n",
      "['Rural', 'Urban']\n",
      "Length: 2, dtype: string\n"
     ]
    },
    {
     "data": {
      "text/markdown": [
       "#### **column:** Age Group ----- **dtype**: string"
      ],
      "text/plain": [
       "<IPython.core.display.Markdown object>"
      ]
     },
     "metadata": {},
     "output_type": "display_data"
    },
    {
     "data": {
      "text/markdown": [
       "##### Before clean applied"
      ],
      "text/plain": [
       "<IPython.core.display.Markdown object>"
      ]
     },
     "metadata": {},
     "output_type": "display_data"
    },
    {
     "name": "stdout",
     "output_type": "stream",
     "text": [
      "<StringArray>\n",
      "['55+', '45-54', '35-44', '18-24', '25-34']\n",
      "Length: 5, dtype: string\n"
     ]
    },
    {
     "data": {
      "text/markdown": [
       "##### After clean applied"
      ],
      "text/plain": [
       "<IPython.core.display.Markdown object>"
      ]
     },
     "metadata": {},
     "output_type": "display_data"
    },
    {
     "name": "stdout",
     "output_type": "stream",
     "text": [
      "<StringArray>\n",
      "['55+', '45-54', '35-44', '18-24', '25-34']\n",
      "Length: 5, dtype: string\n"
     ]
    },
    {
     "data": {
      "text/markdown": [
       "#### **column:** Education ----- **dtype**: string"
      ],
      "text/plain": [
       "<IPython.core.display.Markdown object>"
      ]
     },
     "metadata": {},
     "output_type": "display_data"
    },
    {
     "data": {
      "text/markdown": [
       "##### Before clean applied"
      ],
      "text/plain": [
       "<IPython.core.display.Markdown object>"
      ]
     },
     "metadata": {},
     "output_type": "display_data"
    },
    {
     "name": "stdout",
     "output_type": "stream",
     "text": [
      "<StringArray>\n",
      "['No formal education', 'Secondary education',   'Primary education',\n",
      "               'Other',    'Higher education']\n",
      "Length: 5, dtype: string\n"
     ]
    },
    {
     "data": {
      "text/markdown": [
       "##### After clean applied"
      ],
      "text/plain": [
       "<IPython.core.display.Markdown object>"
      ]
     },
     "metadata": {},
     "output_type": "display_data"
    },
    {
     "name": "stdout",
     "output_type": "stream",
     "text": [
      "<StringArray>\n",
      "['No formal education', 'Secondary education',   'Primary education',\n",
      "               'Other',    'Higher education']\n",
      "Length: 5, dtype: string\n"
     ]
    },
    {
     "data": {
      "text/markdown": [
       "#### **column:** Read & write in any language ----- **dtype**: string"
      ],
      "text/plain": [
       "<IPython.core.display.Markdown object>"
      ]
     },
     "metadata": {},
     "output_type": "display_data"
    },
    {
     "data": {
      "text/markdown": [
       "##### Before clean applied"
      ],
      "text/plain": [
       "<IPython.core.display.Markdown object>"
      ]
     },
     "metadata": {},
     "output_type": "display_data"
    },
    {
     "name": "stdout",
     "output_type": "stream",
     "text": [
      "<StringArray>\n",
      "['Yes', 'No']\n",
      "Length: 2, dtype: string\n"
     ]
    },
    {
     "data": {
      "text/markdown": [
       "##### After clean applied"
      ],
      "text/plain": [
       "<IPython.core.display.Markdown object>"
      ]
     },
     "metadata": {},
     "output_type": "display_data"
    },
    {
     "name": "stdout",
     "output_type": "stream",
     "text": [
      "<StringArray>\n",
      "['Yes', 'No']\n",
      "Length: 2, dtype: string\n"
     ]
    },
    {
     "data": {
      "text/markdown": [
       "#### **column:** Own a phone ----- **dtype**: string"
      ],
      "text/plain": [
       "<IPython.core.display.Markdown object>"
      ]
     },
     "metadata": {},
     "output_type": "display_data"
    },
    {
     "data": {
      "text/markdown": [
       "##### Before clean applied"
      ],
      "text/plain": [
       "<IPython.core.display.Markdown object>"
      ]
     },
     "metadata": {},
     "output_type": "display_data"
    },
    {
     "name": "stdout",
     "output_type": "stream",
     "text": [
      "<StringArray>\n",
      "['Own phone/Business/Employer', 'dont own phone']\n",
      "Length: 2, dtype: string\n"
     ]
    },
    {
     "data": {
      "text/markdown": [
       "##### After clean applied"
      ],
      "text/plain": [
       "<IPython.core.display.Markdown object>"
      ]
     },
     "metadata": {},
     "output_type": "display_data"
    },
    {
     "name": "stdout",
     "output_type": "stream",
     "text": [
      "<StringArray>\n",
      "['Own phone/Business/Employer', 'Don’t own phone']\n",
      "Length: 2, dtype: string\n"
     ]
    },
    {
     "data": {
      "text/markdown": [
       "#### **column:** $2.50 PPP Poverty line ----- **dtype**: string"
      ],
      "text/plain": [
       "<IPython.core.display.Markdown object>"
      ]
     },
     "metadata": {},
     "output_type": "display_data"
    },
    {
     "data": {
      "text/markdown": [
       "##### Before clean applied"
      ],
      "text/plain": [
       "<IPython.core.display.Markdown object>"
      ]
     },
     "metadata": {},
     "output_type": "display_data"
    },
    {
     "name": "stdout",
     "output_type": "stream",
     "text": [
      "<StringArray>\n",
      "['Below poverty line', 'Above poverty line']\n",
      "Length: 2, dtype: string\n"
     ]
    },
    {
     "data": {
      "text/markdown": [
       "##### After clean applied"
      ],
      "text/plain": [
       "<IPython.core.display.Markdown object>"
      ]
     },
     "metadata": {},
     "output_type": "display_data"
    },
    {
     "name": "stdout",
     "output_type": "stream",
     "text": [
      "<StringArray>\n",
      "['Below poverty line', 'Above poverty line']\n",
      "Length: 2, dtype: string\n"
     ]
    },
    {
     "data": {
      "text/markdown": [
       "#### **column:** Language of interview ----- **dtype**: string"
      ],
      "text/plain": [
       "<IPython.core.display.Markdown object>"
      ]
     },
     "metadata": {},
     "output_type": "display_data"
    },
    {
     "data": {
      "text/markdown": [
       "##### Before clean applied"
      ],
      "text/plain": [
       "<IPython.core.display.Markdown object>"
      ]
     },
     "metadata": {},
     "output_type": "display_data"
    },
    {
     "name": "stdout",
     "output_type": "stream",
     "text": [
      "<StringArray>\n",
      "['Urdu', 'English']\n",
      "Length: 2, dtype: string\n"
     ]
    },
    {
     "data": {
      "text/markdown": [
       "##### After clean applied"
      ],
      "text/plain": [
       "<IPython.core.display.Markdown object>"
      ]
     },
     "metadata": {},
     "output_type": "display_data"
    },
    {
     "name": "stdout",
     "output_type": "stream",
     "text": [
      "<StringArray>\n",
      "['Urdu', 'English']\n",
      "Length: 2, dtype: string\n"
     ]
    },
    {
     "data": {
      "text/markdown": [
       "#### **column:** Main language ----- **dtype**: string"
      ],
      "text/plain": [
       "<IPython.core.display.Markdown object>"
      ]
     },
     "metadata": {},
     "output_type": "display_data"
    },
    {
     "data": {
      "text/markdown": [
       "##### Before clean applied"
      ],
      "text/plain": [
       "<IPython.core.display.Markdown object>"
      ]
     },
     "metadata": {},
     "output_type": "display_data"
    },
    {
     "name": "stdout",
     "output_type": "stream",
     "text": [
      "<StringArray>\n",
      "['Pashto', 'Punjabi', 'Urdu', 'Sindhi', 'Other', 'Balochi', 'Saraiki']\n",
      "Length: 7, dtype: string\n"
     ]
    },
    {
     "data": {
      "text/markdown": [
       "##### After clean applied"
      ],
      "text/plain": [
       "<IPython.core.display.Markdown object>"
      ]
     },
     "metadata": {},
     "output_type": "display_data"
    },
    {
     "name": "stdout",
     "output_type": "stream",
     "text": [
      "<StringArray>\n",
      "['Pashto', 'Punjabi', 'Urdu', 'Sindhi', 'Other', 'Balochi', 'Saraiki']\n",
      "Length: 7, dtype: string\n"
     ]
    },
    {
     "data": {
      "text/markdown": [
       "#### **column:** Mean household size ----- **dtype**: string"
      ],
      "text/plain": [
       "<IPython.core.display.Markdown object>"
      ]
     },
     "metadata": {},
     "output_type": "display_data"
    },
    {
     "data": {
      "text/markdown": [
       "##### Before clean applied"
      ],
      "text/plain": [
       "<IPython.core.display.Markdown object>"
      ]
     },
     "metadata": {},
     "output_type": "display_data"
    },
    {
     "name": "stdout",
     "output_type": "stream",
     "text": [
      "<StringArray>\n",
      "['Below mean size', 'Above mean size', 'Mean']\n",
      "Length: 3, dtype: string\n"
     ]
    },
    {
     "data": {
      "text/markdown": [
       "##### After clean applied"
      ],
      "text/plain": [
       "<IPython.core.display.Markdown object>"
      ]
     },
     "metadata": {},
     "output_type": "display_data"
    },
    {
     "name": "stdout",
     "output_type": "stream",
     "text": [
      "<StringArray>\n",
      "['Below mean size', 'Above mean size', 'Mean']\n",
      "Length: 3, dtype: string\n"
     ]
    },
    {
     "data": {
      "text/markdown": [
       "#### **column:** Division ----- **dtype**: string"
      ],
      "text/plain": [
       "<IPython.core.display.Markdown object>"
      ]
     },
     "metadata": {},
     "output_type": "display_data"
    },
    {
     "data": {
      "text/markdown": [
       "##### Before clean applied"
      ],
      "text/plain": [
       "<IPython.core.display.Markdown object>"
      ]
     },
     "metadata": {},
     "output_type": "display_data"
    },
    {
     "name": "stdout",
     "output_type": "stream",
     "text": [
      "<StringArray>\n",
      "[                         'Peshawar',                        'Faisalabad',\n",
      "                           'Karachi',                            'Lahore',\n",
      " 'Sukkur incl. Shaheed Benazir Abad',                        'Gujranwala',\n",
      "                         'Hyderabad',                         'Islamabad',\n",
      "                        'Rawalpindi',                            'Quetta',\n",
      "                            'Multan',                           'Larkana',\n",
      "                            'Mardan',                            'Hazara',\n",
      "                             'Sibbi',                         'Nasirabad',\n",
      "                         'D.G. Khan',                          'Malakand',\n",
      "                          'Sargodha',                            'Makran',\n",
      "                             'Kalat',                              'Zhob',\n",
      "                             'Kohat',                       'Mirpur Khas',\n",
      "                        'Bahawalpur',                           'Sahiwal',\n",
      "                         'D.I. Khan',                             'Bannu']\n",
      "Length: 28, dtype: string\n"
     ]
    },
    {
     "data": {
      "text/markdown": [
       "##### After clean applied"
      ],
      "text/plain": [
       "<IPython.core.display.Markdown object>"
      ]
     },
     "metadata": {},
     "output_type": "display_data"
    },
    {
     "name": "stdout",
     "output_type": "stream",
     "text": [
      "<StringArray>\n",
      "[                         'Peshawar',                        'Faisalabad',\n",
      "                           'Karachi',                            'Lahore',\n",
      " 'Sukkur incl. shaheed benazir abad',                        'Gujranwala',\n",
      "                         'Hyderabad',                         'Islamabad',\n",
      "                        'Rawalpindi',                            'Quetta',\n",
      "                            'Multan',                           'Larkana',\n",
      "                            'Mardan',                            'Hazara',\n",
      "                             'Sibbi',                         'Nasirabad',\n",
      "                         'D.g. khan',                          'Malakand',\n",
      "                          'Sargodha',                            'Makran',\n",
      "                             'Kalat',                              'Zhob',\n",
      "                             'Kohat',                       'Mirpur khas',\n",
      "                        'Bahawalpur',                           'Sahiwal',\n",
      "                         'D.i. khan',                             'Bannu']\n",
      "Length: 28, dtype: string\n"
     ]
    },
    {
     "data": {
      "text/markdown": [
       "#### **column:** Province / Region ----- **dtype**: string"
      ],
      "text/plain": [
       "<IPython.core.display.Markdown object>"
      ]
     },
     "metadata": {},
     "output_type": "display_data"
    },
    {
     "data": {
      "text/markdown": [
       "##### Before clean applied"
      ],
      "text/plain": [
       "<IPython.core.display.Markdown object>"
      ]
     },
     "metadata": {},
     "output_type": "display_data"
    },
    {
     "name": "stdout",
     "output_type": "stream",
     "text": [
      "<StringArray>\n",
      "['KP', 'Punjab', 'Sindh', 'Balochistan']\n",
      "Length: 4, dtype: string\n"
     ]
    },
    {
     "data": {
      "text/markdown": [
       "##### After clean applied"
      ],
      "text/plain": [
       "<IPython.core.display.Markdown object>"
      ]
     },
     "metadata": {},
     "output_type": "display_data"
    },
    {
     "name": "stdout",
     "output_type": "stream",
     "text": [
      "<StringArray>\n",
      "['Kp', 'Punjab', 'Sindh', 'Balochistan']\n",
      "Length: 4, dtype: string\n"
     ]
    },
    {
     "data": {
      "text/markdown": [
       "#### **column:** Phone ownership ----- **dtype**: string"
      ],
      "text/plain": [
       "<IPython.core.display.Markdown object>"
      ]
     },
     "metadata": {},
     "output_type": "display_data"
    },
    {
     "data": {
      "text/markdown": [
       "##### Before clean applied"
      ],
      "text/plain": [
       "<IPython.core.display.Markdown object>"
      ]
     },
     "metadata": {},
     "output_type": "display_data"
    },
    {
     "name": "stdout",
     "output_type": "stream",
     "text": [
      "<StringArray>\n",
      "[            'own phone',                'Parent',         'Husband/wives',\n",
      " 'Dont use mobile phone',               'Sibling',              'Children',\n",
      "       'Other man/women']\n",
      "Length: 7, dtype: string\n"
     ]
    },
    {
     "data": {
      "text/markdown": [
       "##### After clean applied"
      ],
      "text/plain": [
       "<IPython.core.display.Markdown object>"
      ]
     },
     "metadata": {},
     "output_type": "display_data"
    },
    {
     "name": "stdout",
     "output_type": "stream",
     "text": [
      "<StringArray>\n",
      "[             'Own phone',                 'Parent',          'Husband/Wives',\n",
      " 'Don’t use mobile phone',                'Sibling',               'Children',\n",
      "        'Other man/Women']\n",
      "Length: 7, dtype: string\n"
     ]
    },
    {
     "data": {
      "text/markdown": [
       "#### **column:** Independent phone use ----- **dtype**: string"
      ],
      "text/plain": [
       "<IPython.core.display.Markdown object>"
      ]
     },
     "metadata": {},
     "output_type": "display_data"
    },
    {
     "data": {
      "text/markdown": [
       "##### Before clean applied"
      ],
      "text/plain": [
       "<IPython.core.display.Markdown object>"
      ]
     },
     "metadata": {},
     "output_type": "display_data"
    },
    {
     "name": "stdout",
     "output_type": "stream",
     "text": [
      "<StringArray>\n",
      "['Yes', 'Somewhat', 'No']\n",
      "Length: 3, dtype: string\n"
     ]
    },
    {
     "data": {
      "text/markdown": [
       "##### After clean applied"
      ],
      "text/plain": [
       "<IPython.core.display.Markdown object>"
      ]
     },
     "metadata": {},
     "output_type": "display_data"
    },
    {
     "name": "stdout",
     "output_type": "stream",
     "text": [
      "<StringArray>\n",
      "['Yes', 'Somewhat', 'No']\n",
      "Length: 3, dtype: string\n"
     ]
    },
    {
     "data": {
      "text/markdown": [
       "#### **column:** Informal financial usage ----- **dtype**: string"
      ],
      "text/plain": [
       "<IPython.core.display.Markdown object>"
      ]
     },
     "metadata": {},
     "output_type": "display_data"
    },
    {
     "data": {
      "text/markdown": [
       "##### Before clean applied"
      ],
      "text/plain": [
       "<IPython.core.display.Markdown object>"
      ]
     },
     "metadata": {},
     "output_type": "display_data"
    },
    {
     "name": "stdout",
     "output_type": "stream",
     "text": [
      "<StringArray>\n",
      "['no', 'yes']\n",
      "Length: 2, dtype: string\n"
     ]
    },
    {
     "data": {
      "text/markdown": [
       "##### After clean applied"
      ],
      "text/plain": [
       "<IPython.core.display.Markdown object>"
      ]
     },
     "metadata": {},
     "output_type": "display_data"
    },
    {
     "name": "stdout",
     "output_type": "stream",
     "text": [
      "<StringArray>\n",
      "['No', 'Yes']\n",
      "Length: 2, dtype: string\n"
     ]
    },
    {
     "data": {
      "text/markdown": [
       "#### **column:** Mobile Money ----- **dtype**: string"
      ],
      "text/plain": [
       "<IPython.core.display.Markdown object>"
      ]
     },
     "metadata": {},
     "output_type": "display_data"
    },
    {
     "data": {
      "text/markdown": [
       "##### Before clean applied"
      ],
      "text/plain": [
       "<IPython.core.display.Markdown object>"
      ]
     },
     "metadata": {},
     "output_type": "display_data"
    },
    {
     "name": "stdout",
     "output_type": "stream",
     "text": [
      "<StringArray>\n",
      "['yes', 'no']\n",
      "Length: 2, dtype: string\n"
     ]
    },
    {
     "data": {
      "text/markdown": [
       "##### After clean applied"
      ],
      "text/plain": [
       "<IPython.core.display.Markdown object>"
      ]
     },
     "metadata": {},
     "output_type": "display_data"
    },
    {
     "name": "stdout",
     "output_type": "stream",
     "text": [
      "<StringArray>\n",
      "['Yes', 'No']\n",
      "Length: 2, dtype: string\n"
     ]
    },
    {
     "data": {
      "text/markdown": [
       "#### **column:** Bank ----- **dtype**: string"
      ],
      "text/plain": [
       "<IPython.core.display.Markdown object>"
      ]
     },
     "metadata": {},
     "output_type": "display_data"
    },
    {
     "data": {
      "text/markdown": [
       "##### Before clean applied"
      ],
      "text/plain": [
       "<IPython.core.display.Markdown object>"
      ]
     },
     "metadata": {},
     "output_type": "display_data"
    },
    {
     "name": "stdout",
     "output_type": "stream",
     "text": [
      "<StringArray>\n",
      "['own', 'unbanked', 'spouse', 'other fam', 'other']\n",
      "Length: 5, dtype: string\n"
     ]
    },
    {
     "data": {
      "text/markdown": [
       "##### After clean applied"
      ],
      "text/plain": [
       "<IPython.core.display.Markdown object>"
      ]
     },
     "metadata": {},
     "output_type": "display_data"
    },
    {
     "name": "stdout",
     "output_type": "stream",
     "text": [
      "<StringArray>\n",
      "['Own', 'Unbanked', 'Spouse', 'Other fam', 'Other']\n",
      "Length: 5, dtype: string\n"
     ]
    },
    {
     "data": {
      "text/markdown": [
       "#### **column:** Permission to open bank ----- **dtype**: string"
      ],
      "text/plain": [
       "<IPython.core.display.Markdown object>"
      ]
     },
     "metadata": {},
     "output_type": "display_data"
    },
    {
     "data": {
      "text/markdown": [
       "##### Before clean applied"
      ],
      "text/plain": [
       "<IPython.core.display.Markdown object>"
      ]
     },
     "metadata": {},
     "output_type": "display_data"
    },
    {
     "name": "stdout",
     "output_type": "stream",
     "text": [
      "<StringArray>\n",
      "['no', 'yes']\n",
      "Length: 2, dtype: string\n"
     ]
    },
    {
     "data": {
      "text/markdown": [
       "##### After clean applied"
      ],
      "text/plain": [
       "<IPython.core.display.Markdown object>"
      ]
     },
     "metadata": {},
     "output_type": "display_data"
    },
    {
     "name": "stdout",
     "output_type": "stream",
     "text": [
      "<StringArray>\n",
      "['No', 'Yes']\n",
      "Length: 2, dtype: string\n"
     ]
    },
    {
     "data": {
      "text/markdown": [
       "#### **column:** Money taken from account ----- **dtype**: string"
      ],
      "text/plain": [
       "<IPython.core.display.Markdown object>"
      ]
     },
     "metadata": {},
     "output_type": "display_data"
    },
    {
     "data": {
      "text/markdown": [
       "##### Before clean applied"
      ],
      "text/plain": [
       "<IPython.core.display.Markdown object>"
      ]
     },
     "metadata": {},
     "output_type": "display_data"
    },
    {
     "name": "stdout",
     "output_type": "stream",
     "text": [
      "<StringArray>\n",
      "['money not taken', 'dont have account', 'money taken']\n",
      "Length: 3, dtype: string\n"
     ]
    },
    {
     "data": {
      "text/markdown": [
       "##### After clean applied"
      ],
      "text/plain": [
       "<IPython.core.display.Markdown object>"
      ]
     },
     "metadata": {},
     "output_type": "display_data"
    },
    {
     "name": "stdout",
     "output_type": "stream",
     "text": [
      "<StringArray>\n",
      "['Money not taken', 'Don’t have account', 'Money taken']\n",
      "Length: 3, dtype: string\n"
     ]
    },
    {
     "data": {
      "text/markdown": [
       "#### **column:** Savings goal decision maker ----- **dtype**: string"
      ],
      "text/plain": [
       "<IPython.core.display.Markdown object>"
      ]
     },
     "metadata": {},
     "output_type": "display_data"
    },
    {
     "data": {
      "text/markdown": [
       "##### Before clean applied"
      ],
      "text/plain": [
       "<IPython.core.display.Markdown object>"
      ]
     },
     "metadata": {},
     "output_type": "display_data"
    },
    {
     "name": "stdout",
     "output_type": "stream",
     "text": [
      "<StringArray>\n",
      "['self alone', 'no savings goal', 'others on behalf', 'decide together']\n",
      "Length: 4, dtype: string\n"
     ]
    },
    {
     "data": {
      "text/markdown": [
       "##### After clean applied"
      ],
      "text/plain": [
       "<IPython.core.display.Markdown object>"
      ]
     },
     "metadata": {},
     "output_type": "display_data"
    },
    {
     "name": "stdout",
     "output_type": "stream",
     "text": [
      "<StringArray>\n",
      "['Self alone', 'No savings goal', 'Others on behalf', 'Decide together']\n",
      "Length: 4, dtype: string\n"
     ]
    },
    {
     "data": {
      "text/markdown": [
       "#### **column:** Savings goal influence ----- **dtype**: string"
      ],
      "text/plain": [
       "<IPython.core.display.Markdown object>"
      ]
     },
     "metadata": {},
     "output_type": "display_data"
    },
    {
     "data": {
      "text/markdown": [
       "##### Before clean applied"
      ],
      "text/plain": [
       "<IPython.core.display.Markdown object>"
      ]
     },
     "metadata": {},
     "output_type": "display_data"
    },
    {
     "name": "stdout",
     "output_type": "stream",
     "text": [
      "<StringArray>\n",
      "[            'always accepted',             'no savings goal',\n",
      "             'always rejected', 'sometimes accepted/rejected',\n",
      "                'dont consult']\n",
      "Length: 5, dtype: string\n"
     ]
    },
    {
     "data": {
      "text/markdown": [
       "##### After clean applied"
      ],
      "text/plain": [
       "<IPython.core.display.Markdown object>"
      ]
     },
     "metadata": {},
     "output_type": "display_data"
    },
    {
     "name": "stdout",
     "output_type": "stream",
     "text": [
      "<StringArray>\n",
      "[            'Always accepted',             'No savings goal',\n",
      "             'Always rejected', 'Sometimes accepted/Rejected',\n",
      "               'Don’t consult']\n",
      "Length: 5, dtype: string\n"
     ]
    },
    {
     "data": {
      "text/markdown": [
       "#### **column:** Land ownership ----- **dtype**: string"
      ],
      "text/plain": [
       "<IPython.core.display.Markdown object>"
      ]
     },
     "metadata": {},
     "output_type": "display_data"
    },
    {
     "data": {
      "text/markdown": [
       "##### Before clean applied"
      ],
      "text/plain": [
       "<IPython.core.display.Markdown object>"
      ]
     },
     "metadata": {},
     "output_type": "display_data"
    },
    {
     "name": "stdout",
     "output_type": "stream",
     "text": [
      "<StringArray>\n",
      "['dont own', 'own by self', 'own with others']\n",
      "Length: 3, dtype: string\n"
     ]
    },
    {
     "data": {
      "text/markdown": [
       "##### After clean applied"
      ],
      "text/plain": [
       "<IPython.core.display.Markdown object>"
      ]
     },
     "metadata": {},
     "output_type": "display_data"
    },
    {
     "name": "stdout",
     "output_type": "stream",
     "text": [
      "<StringArray>\n",
      "['Don’t own', 'Own by self', 'Own with others']\n",
      "Length: 3, dtype: string\n"
     ]
    },
    {
     "data": {
      "text/markdown": [
       "#### **column:** Land decision maker ----- **dtype**: string"
      ],
      "text/plain": [
       "<IPython.core.display.Markdown object>"
      ]
     },
     "metadata": {},
     "output_type": "display_data"
    },
    {
     "data": {
      "text/markdown": [
       "##### Before clean applied"
      ],
      "text/plain": [
       "<IPython.core.display.Markdown object>"
      ]
     },
     "metadata": {},
     "output_type": "display_data"
    },
    {
     "name": "stdout",
     "output_type": "stream",
     "text": [
      "<StringArray>\n",
      "[           'Dont own land',       'Decide with others',\n",
      " 'Others decide without me',             'Decide alone']\n",
      "Length: 4, dtype: string\n"
     ]
    },
    {
     "data": {
      "text/markdown": [
       "##### After clean applied"
      ],
      "text/plain": [
       "<IPython.core.display.Markdown object>"
      ]
     },
     "metadata": {},
     "output_type": "display_data"
    },
    {
     "name": "stdout",
     "output_type": "stream",
     "text": [
      "<StringArray>\n",
      "[          'Don’t own land',       'Decide with others',\n",
      " 'Others decide without me',             'Decide alone']\n",
      "Length: 4, dtype: string\n"
     ]
    },
    {
     "data": {
      "text/markdown": [
       "#### **column:** Children decision maker ----- **dtype**: string"
      ],
      "text/plain": [
       "<IPython.core.display.Markdown object>"
      ]
     },
     "metadata": {},
     "output_type": "display_data"
    },
    {
     "data": {
      "text/markdown": [
       "##### Before clean applied"
      ],
      "text/plain": [
       "<IPython.core.display.Markdown object>"
      ]
     },
     "metadata": {},
     "output_type": "display_data"
    },
    {
     "name": "stdout",
     "output_type": "stream",
     "text": [
      "<StringArray>\n",
      "[           'decide alone',             'Not married',\n",
      "         'decide together', 'We do not talk about it',\n",
      "          'Spouse decides',           'Others decide']\n",
      "Length: 6, dtype: string\n"
     ]
    },
    {
     "data": {
      "text/markdown": [
       "##### After clean applied"
      ],
      "text/plain": [
       "<IPython.core.display.Markdown object>"
      ]
     },
     "metadata": {},
     "output_type": "display_data"
    },
    {
     "name": "stdout",
     "output_type": "stream",
     "text": [
      "<StringArray>\n",
      "[           'Decide alone',             'Not married',\n",
      "         'Decide together', 'We do not talk about it',\n",
      "          'Spouse decides',           'Others decide']\n",
      "Length: 6, dtype: string\n"
     ]
    },
    {
     "data": {
      "text/markdown": [
       "#### **column:** Earning frequency ----- **dtype**: string"
      ],
      "text/plain": [
       "<IPython.core.display.Markdown object>"
      ]
     },
     "metadata": {},
     "output_type": "display_data"
    },
    {
     "data": {
      "text/markdown": [
       "##### Before clean applied"
      ],
      "text/plain": [
       "<IPython.core.display.Markdown object>"
      ]
     },
     "metadata": {},
     "output_type": "display_data"
    },
    {
     "name": "stdout",
     "output_type": "stream",
     "text": [
      "<StringArray>\n",
      "[        'Monthly',     'I dont work',           'Daily', 'Weekly/biweekly',\n",
      "    'Infrequently',     'Work unpaid']\n",
      "Length: 6, dtype: string\n"
     ]
    },
    {
     "data": {
      "text/markdown": [
       "##### After clean applied"
      ],
      "text/plain": [
       "<IPython.core.display.Markdown object>"
      ]
     },
     "metadata": {},
     "output_type": "display_data"
    },
    {
     "name": "stdout",
     "output_type": "stream",
     "text": [
      "<StringArray>\n",
      "[        'Monthly',    'I don’t work',           'Daily', 'Weekly/Biweekly',\n",
      "    'Infrequently',     'Work unpaid']\n",
      "Length: 6, dtype: string\n"
     ]
    },
    {
     "data": {
      "text/markdown": [
       "#### **column:** Spending decision maker ----- **dtype**: string"
      ],
      "text/plain": [
       "<IPython.core.display.Markdown object>"
      ]
     },
     "metadata": {},
     "output_type": "display_data"
    },
    {
     "data": {
      "text/markdown": [
       "##### Before clean applied"
      ],
      "text/plain": [
       "<IPython.core.display.Markdown object>"
      ]
     },
     "metadata": {},
     "output_type": "display_data"
    },
    {
     "name": "stdout",
     "output_type": "stream",
     "text": [
      "<StringArray>\n",
      "['Fully on own', 'Someone else decides for me', 'Help from someone else']\n",
      "Length: 3, dtype: string\n"
     ]
    },
    {
     "data": {
      "text/markdown": [
       "##### After clean applied"
      ],
      "text/plain": [
       "<IPython.core.display.Markdown object>"
      ]
     },
     "metadata": {},
     "output_type": "display_data"
    },
    {
     "name": "stdout",
     "output_type": "stream",
     "text": [
      "<StringArray>\n",
      "['Fully on own', 'Someone else decides', 'Help from someone else']\n",
      "Length: 3, dtype: string\n"
     ]
    },
    {
     "data": {
      "text/markdown": [
       "#### **column:** Permission to work ----- **dtype**: string"
      ],
      "text/plain": [
       "<IPython.core.display.Markdown object>"
      ]
     },
     "metadata": {},
     "output_type": "display_data"
    },
    {
     "data": {
      "text/markdown": [
       "##### Before clean applied"
      ],
      "text/plain": [
       "<IPython.core.display.Markdown object>"
      ]
     },
     "metadata": {},
     "output_type": "display_data"
    },
    {
     "name": "stdout",
     "output_type": "stream",
     "text": [
      "<StringArray>\n",
      "['Already working', 'Yes', 'No']\n",
      "Length: 3, dtype: string\n"
     ]
    },
    {
     "data": {
      "text/markdown": [
       "##### After clean applied"
      ],
      "text/plain": [
       "<IPython.core.display.Markdown object>"
      ]
     },
     "metadata": {},
     "output_type": "display_data"
    },
    {
     "name": "stdout",
     "output_type": "stream",
     "text": [
      "<StringArray>\n",
      "['Already working', 'Yes', 'No']\n",
      "Length: 3, dtype: string\n"
     ]
    },
    {
     "data": {
      "text/markdown": [
       "#### **column:** Main income earner ----- **dtype**: string"
      ],
      "text/plain": [
       "<IPython.core.display.Markdown object>"
      ]
     },
     "metadata": {},
     "output_type": "display_data"
    },
    {
     "data": {
      "text/markdown": [
       "##### Before clean applied"
      ],
      "text/plain": [
       "<IPython.core.display.Markdown object>"
      ]
     },
     "metadata": {},
     "output_type": "display_data"
    },
    {
     "name": "stdout",
     "output_type": "stream",
     "text": [
      "<StringArray>\n",
      "['respondent', 'other fam', 'spouse', 'dont know', 'other']\n",
      "Length: 5, dtype: string\n"
     ]
    },
    {
     "data": {
      "text/markdown": [
       "##### After clean applied"
      ],
      "text/plain": [
       "<IPython.core.display.Markdown object>"
      ]
     },
     "metadata": {},
     "output_type": "display_data"
    },
    {
     "name": "stdout",
     "output_type": "stream",
     "text": [
      "<StringArray>\n",
      "['Respondent', 'Other fam', 'Spouse', 'Don’t know', 'Other']\n",
      "Length: 5, dtype: string\n"
     ]
    },
    {
     "data": {
      "text/markdown": [
       "#### **column:** Migrant worker identity ----- **dtype**: string"
      ],
      "text/plain": [
       "<IPython.core.display.Markdown object>"
      ]
     },
     "metadata": {},
     "output_type": "display_data"
    },
    {
     "data": {
      "text/markdown": [
       "##### Before clean applied"
      ],
      "text/plain": [
       "<IPython.core.display.Markdown object>"
      ]
     },
     "metadata": {},
     "output_type": "display_data"
    },
    {
     "name": "stdout",
     "output_type": "stream",
     "text": [
      "<StringArray>\n",
      "['Other family', 'No-one, all live together', 'Spouse', 'Me']\n",
      "Length: 4, dtype: string\n"
     ]
    },
    {
     "data": {
      "text/markdown": [
       "##### After clean applied"
      ],
      "text/plain": [
       "<IPython.core.display.Markdown object>"
      ]
     },
     "metadata": {},
     "output_type": "display_data"
    },
    {
     "name": "stdout",
     "output_type": "stream",
     "text": [
      "<StringArray>\n",
      "['Other family', 'No-one, all live together', 'Spouse', 'Me']\n",
      "Length: 4, dtype: string\n"
     ]
    },
    {
     "data": {
      "text/markdown": [
       "#### **column:** Possibility to raise 1/20 GNI (Gross National Income) ----- **dtype**: string"
      ],
      "text/plain": [
       "<IPython.core.display.Markdown object>"
      ]
     },
     "metadata": {},
     "output_type": "display_data"
    },
    {
     "data": {
      "text/markdown": [
       "##### Before clean applied"
      ],
      "text/plain": [
       "<IPython.core.display.Markdown object>"
      ]
     },
     "metadata": {},
     "output_type": "display_data"
    },
    {
     "name": "stdout",
     "output_type": "stream",
     "text": [
      "<StringArray>\n",
      "[  'Somewhat possible', 'Not at all possible',   'Not very possible',\n",
      "       'Very possible']\n",
      "Length: 4, dtype: string\n"
     ]
    },
    {
     "data": {
      "text/markdown": [
       "##### After clean applied"
      ],
      "text/plain": [
       "<IPython.core.display.Markdown object>"
      ]
     },
     "metadata": {},
     "output_type": "display_data"
    },
    {
     "name": "stdout",
     "output_type": "stream",
     "text": [
      "<StringArray>\n",
      "[  'Somewhat possible', 'Not at all possible',   'Not very possible',\n",
      "       'Very possible']\n",
      "Length: 4, dtype: string\n"
     ]
    },
    {
     "data": {
      "text/markdown": [
       "#### **column:** Income frequency of spouse ----- **dtype**: string"
      ],
      "text/plain": [
       "<IPython.core.display.Markdown object>"
      ]
     },
     "metadata": {},
     "output_type": "display_data"
    },
    {
     "data": {
      "text/markdown": [
       "##### Before clean applied"
      ],
      "text/plain": [
       "<IPython.core.display.Markdown object>"
      ]
     },
     "metadata": {},
     "output_type": "display_data"
    },
    {
     "name": "stdout",
     "output_type": "stream",
     "text": [
      "<StringArray>\n",
      "[         'dont work',          'no spouse',              'Daily',\n",
      "        'Work unpaid',            'Monthly',    'Weekly/biweekly',\n",
      "          'dont know', 'When they get work']\n",
      "Length: 8, dtype: string\n"
     ]
    },
    {
     "data": {
      "text/markdown": [
       "##### After clean applied"
      ],
      "text/plain": [
       "<IPython.core.display.Markdown object>"
      ]
     },
     "metadata": {},
     "output_type": "display_data"
    },
    {
     "name": "stdout",
     "output_type": "stream",
     "text": [
      "<StringArray>\n",
      "[        'Don’t work',          'No spouse',              'Daily',\n",
      "        'Work unpaid',            'Monthly',    'Weekly/Biweekly',\n",
      "         'Don’t know', 'When they get work']\n",
      "Length: 8, dtype: string\n"
     ]
    },
    {
     "data": {
      "text/markdown": [
       "#### **column:** Allow spouse to work ----- **dtype**: string"
      ],
      "text/plain": [
       "<IPython.core.display.Markdown object>"
      ]
     },
     "metadata": {},
     "output_type": "display_data"
    },
    {
     "data": {
      "text/markdown": [
       "##### Before clean applied"
      ],
      "text/plain": [
       "<IPython.core.display.Markdown object>"
      ]
     },
     "metadata": {},
     "output_type": "display_data"
    },
    {
     "name": "stdout",
     "output_type": "stream",
     "text": [
      "<StringArray>\n",
      "['No', 'Not married', 'Yes']\n",
      "Length: 3, dtype: string\n"
     ]
    },
    {
     "data": {
      "text/markdown": [
       "##### After clean applied"
      ],
      "text/plain": [
       "<IPython.core.display.Markdown object>"
      ]
     },
     "metadata": {},
     "output_type": "display_data"
    },
    {
     "name": "stdout",
     "output_type": "stream",
     "text": [
      "<StringArray>\n",
      "['No', 'Not married', 'Yes']\n",
      "Length: 3, dtype: string\n"
     ]
    },
    {
     "data": {
      "text/markdown": [
       "## uga2020"
      ],
      "text/plain": [
       "<IPython.core.display.Markdown object>"
      ]
     },
     "metadata": {},
     "output_type": "display_data"
    },
    {
     "data": {
      "text/html": [
       "<div>\n",
       "<style scoped>\n",
       "    .dataframe tbody tr th:only-of-type {\n",
       "        vertical-align: middle;\n",
       "    }\n",
       "\n",
       "    .dataframe tbody tr th {\n",
       "        vertical-align: top;\n",
       "    }\n",
       "\n",
       "    .dataframe thead th {\n",
       "        text-align: right;\n",
       "    }\n",
       "</style>\n",
       "<table border=\"1\" class=\"dataframe\">\n",
       "  <thead>\n",
       "    <tr style=\"text-align: right;\">\n",
       "      <th></th>\n",
       "      <th>InstanceID</th>\n",
       "      <th>finalweight</th>\n",
       "      <th>Gender</th>\n",
       "      <th>Marital / relationship status</th>\n",
       "      <th>Urbanicity</th>\n",
       "      <th>Age Group</th>\n",
       "      <th>Education</th>\n",
       "      <th>English literacy</th>\n",
       "      <th>Own a phone</th>\n",
       "      <th>$2.50 PPP Poverty line</th>\n",
       "      <th>Language of interview</th>\n",
       "      <th>Main language</th>\n",
       "      <th>Mean household size</th>\n",
       "      <th>Province / Region</th>\n",
       "      <th>Phone ownership</th>\n",
       "      <th>Independent phone use</th>\n",
       "      <th>Informal financial usage</th>\n",
       "      <th>Mobile Money</th>\n",
       "      <th>Bank</th>\n",
       "      <th>Permission to open bank</th>\n",
       "      <th>Money taken from account</th>\n",
       "      <th>Savings goal decision maker</th>\n",
       "      <th>Savings goal influence</th>\n",
       "      <th>Land ownership</th>\n",
       "      <th>Land decision maker</th>\n",
       "      <th>Children decision maker</th>\n",
       "      <th>Earning frequency</th>\n",
       "      <th>Spending decision maker</th>\n",
       "      <th>Permission to work</th>\n",
       "      <th>Main income earner</th>\n",
       "      <th>Migrant worker identity</th>\n",
       "      <th>Possibility to raise 1/20 GNI (Gross National Income)</th>\n",
       "      <th>Income frequency of spouse</th>\n",
       "      <th>Allow spouse to work</th>\n",
       "    </tr>\n",
       "  </thead>\n",
       "  <tbody>\n",
       "    <tr>\n",
       "      <th>0</th>\n",
       "      <td>309188</td>\n",
       "      <td>6212.304619</td>\n",
       "      <td>Female</td>\n",
       "      <td>Married/relationship</td>\n",
       "      <td>Urban</td>\n",
       "      <td>18-24</td>\n",
       "      <td>Secondary education</td>\n",
       "      <td>Excellent</td>\n",
       "      <td>own phone</td>\n",
       "      <td>Above poverty line</td>\n",
       "      <td>English</td>\n",
       "      <td>Luganda</td>\n",
       "      <td>Below mean size</td>\n",
       "      <td>Central</td>\n",
       "      <td>own phone/business/employer</td>\n",
       "      <td>Yes</td>\n",
       "      <td>no</td>\n",
       "      <td>Yes</td>\n",
       "      <td>unbanked</td>\n",
       "      <td>no</td>\n",
       "      <td>money not taken</td>\n",
       "      <td>no savings goal</td>\n",
       "      <td>no savings goal</td>\n",
       "      <td>dont own</td>\n",
       "      <td>dont own land</td>\n",
       "      <td>decide together</td>\n",
       "      <td>Work unpaid</td>\n",
       "      <td>Fully on own</td>\n",
       "      <td>Yes</td>\n",
       "      <td>other fam</td>\n",
       "      <td>No-one, all live together</td>\n",
       "      <td>Very possible</td>\n",
       "      <td>Daily</td>\n",
       "      <td>Yes</td>\n",
       "    </tr>\n",
       "    <tr>\n",
       "      <th>1</th>\n",
       "      <td>309194</td>\n",
       "      <td>9193.278098</td>\n",
       "      <td>Female</td>\n",
       "      <td>Married/relationship</td>\n",
       "      <td>Urban</td>\n",
       "      <td>35-44</td>\n",
       "      <td>No formal education</td>\n",
       "      <td>Not at all</td>\n",
       "      <td>own phone</td>\n",
       "      <td>Above poverty line</td>\n",
       "      <td>English</td>\n",
       "      <td>Runyakole/Rukiga/Runyakitara/Runyoro/Rutooro</td>\n",
       "      <td>Below mean size</td>\n",
       "      <td>Central</td>\n",
       "      <td>own phone/business/employer</td>\n",
       "      <td>Yes</td>\n",
       "      <td>no</td>\n",
       "      <td>Yes</td>\n",
       "      <td>own</td>\n",
       "      <td>no</td>\n",
       "      <td>money not taken</td>\n",
       "      <td>self alone</td>\n",
       "      <td>dont consult</td>\n",
       "      <td>dont own</td>\n",
       "      <td>dont own land</td>\n",
       "      <td>decide alone</td>\n",
       "      <td>Daily</td>\n",
       "      <td>Fully on own</td>\n",
       "      <td>Already working</td>\n",
       "      <td>respondent</td>\n",
       "      <td>No-one, all live together</td>\n",
       "      <td>Very possible</td>\n",
       "      <td>dont know</td>\n",
       "      <td>Yes</td>\n",
       "    </tr>\n",
       "  </tbody>\n",
       "</table>\n",
       "</div>"
      ],
      "text/plain": [
       "   InstanceID  finalweight  Gender Marital / relationship status Urbanicity  \\\n",
       "0      309188  6212.304619  Female          Married/relationship      Urban   \n",
       "1      309194  9193.278098  Female          Married/relationship      Urban   \n",
       "\n",
       "  Age Group            Education English literacy Own a phone  \\\n",
       "0     18-24  Secondary education        Excellent   own phone   \n",
       "1     35-44  No formal education       Not at all   own phone   \n",
       "\n",
       "  $2.50 PPP Poverty line Language of interview  \\\n",
       "0     Above poverty line               English   \n",
       "1     Above poverty line               English   \n",
       "\n",
       "                                  Main language Mean household size  \\\n",
       "0                                       Luganda     Below mean size   \n",
       "1  Runyakole/Rukiga/Runyakitara/Runyoro/Rutooro     Below mean size   \n",
       "\n",
       "  Province / Region              Phone ownership Independent phone use  \\\n",
       "0           Central  own phone/business/employer                   Yes   \n",
       "1           Central  own phone/business/employer                   Yes   \n",
       "\n",
       "  Informal financial usage Mobile Money      Bank Permission to open bank  \\\n",
       "0                       no          Yes  unbanked                      no   \n",
       "1                       no          Yes       own                      no   \n",
       "\n",
       "  Money taken from account Savings goal decision maker Savings goal influence  \\\n",
       "0          money not taken             no savings goal        no savings goal   \n",
       "1          money not taken                  self alone           dont consult   \n",
       "\n",
       "  Land ownership Land decision maker Children decision maker  \\\n",
       "0       dont own       dont own land         decide together   \n",
       "1       dont own       dont own land            decide alone   \n",
       "\n",
       "  Earning frequency Spending decision maker Permission to work  \\\n",
       "0       Work unpaid            Fully on own                Yes   \n",
       "1             Daily            Fully on own    Already working   \n",
       "\n",
       "  Main income earner    Migrant worker identity  \\\n",
       "0          other fam  No-one, all live together   \n",
       "1         respondent  No-one, all live together   \n",
       "\n",
       "  Possibility to raise 1/20 GNI (Gross National Income)  \\\n",
       "0                                      Very possible      \n",
       "1                                      Very possible      \n",
       "\n",
       "  Income frequency of spouse Allow spouse to work  \n",
       "0                      Daily                  Yes  \n",
       "1                  dont know                  Yes  "
      ]
     },
     "metadata": {},
     "output_type": "display_data"
    },
    {
     "data": {
      "text/html": [
       "<div>\n",
       "<style scoped>\n",
       "    .dataframe tbody tr th:only-of-type {\n",
       "        vertical-align: middle;\n",
       "    }\n",
       "\n",
       "    .dataframe tbody tr th {\n",
       "        vertical-align: top;\n",
       "    }\n",
       "\n",
       "    .dataframe thead th {\n",
       "        text-align: right;\n",
       "    }\n",
       "</style>\n",
       "<table border=\"1\" class=\"dataframe\">\n",
       "  <thead>\n",
       "    <tr style=\"text-align: right;\">\n",
       "      <th></th>\n",
       "      <th>count</th>\n",
       "      <th>unique</th>\n",
       "      <th>top</th>\n",
       "      <th>freq</th>\n",
       "      <th>mean</th>\n",
       "      <th>std</th>\n",
       "      <th>min</th>\n",
       "      <th>25%</th>\n",
       "      <th>50%</th>\n",
       "      <th>75%</th>\n",
       "      <th>max</th>\n",
       "    </tr>\n",
       "  </thead>\n",
       "  <tbody>\n",
       "    <tr>\n",
       "      <th>InstanceID</th>\n",
       "      <td>3065</td>\n",
       "      <td>NaN</td>\n",
       "      <td>NaN</td>\n",
       "      <td>NaN</td>\n",
       "      <td>312884</td>\n",
       "      <td>2337.89</td>\n",
       "      <td>309188</td>\n",
       "      <td>311054</td>\n",
       "      <td>312366</td>\n",
       "      <td>314158</td>\n",
       "      <td>320008</td>\n",
       "    </tr>\n",
       "    <tr>\n",
       "      <th>finalweight</th>\n",
       "      <td>3065</td>\n",
       "      <td>NaN</td>\n",
       "      <td>NaN</td>\n",
       "      <td>NaN</td>\n",
       "      <td>11203.2</td>\n",
       "      <td>4946.02</td>\n",
       "      <td>1364.23</td>\n",
       "      <td>7468.77</td>\n",
       "      <td>10363.3</td>\n",
       "      <td>14123.9</td>\n",
       "      <td>39179.5</td>\n",
       "    </tr>\n",
       "    <tr>\n",
       "      <th>Gender</th>\n",
       "      <td>3065</td>\n",
       "      <td>2</td>\n",
       "      <td>Female</td>\n",
       "      <td>1863</td>\n",
       "      <td>NaN</td>\n",
       "      <td>NaN</td>\n",
       "      <td>NaN</td>\n",
       "      <td>NaN</td>\n",
       "      <td>NaN</td>\n",
       "      <td>NaN</td>\n",
       "      <td>NaN</td>\n",
       "    </tr>\n",
       "    <tr>\n",
       "      <th>Marital / relationship status</th>\n",
       "      <td>3065</td>\n",
       "      <td>2</td>\n",
       "      <td>Married/relationship</td>\n",
       "      <td>2184</td>\n",
       "      <td>NaN</td>\n",
       "      <td>NaN</td>\n",
       "      <td>NaN</td>\n",
       "      <td>NaN</td>\n",
       "      <td>NaN</td>\n",
       "      <td>NaN</td>\n",
       "      <td>NaN</td>\n",
       "    </tr>\n",
       "    <tr>\n",
       "      <th>Urbanicity</th>\n",
       "      <td>3065</td>\n",
       "      <td>2</td>\n",
       "      <td>Rural</td>\n",
       "      <td>2189</td>\n",
       "      <td>NaN</td>\n",
       "      <td>NaN</td>\n",
       "      <td>NaN</td>\n",
       "      <td>NaN</td>\n",
       "      <td>NaN</td>\n",
       "      <td>NaN</td>\n",
       "      <td>NaN</td>\n",
       "    </tr>\n",
       "    <tr>\n",
       "      <th>Age Group</th>\n",
       "      <td>3065</td>\n",
       "      <td>5</td>\n",
       "      <td>25-34</td>\n",
       "      <td>950</td>\n",
       "      <td>NaN</td>\n",
       "      <td>NaN</td>\n",
       "      <td>NaN</td>\n",
       "      <td>NaN</td>\n",
       "      <td>NaN</td>\n",
       "      <td>NaN</td>\n",
       "      <td>NaN</td>\n",
       "    </tr>\n",
       "    <tr>\n",
       "      <th>Education</th>\n",
       "      <td>3065</td>\n",
       "      <td>5</td>\n",
       "      <td>Primary education</td>\n",
       "      <td>1568</td>\n",
       "      <td>NaN</td>\n",
       "      <td>NaN</td>\n",
       "      <td>NaN</td>\n",
       "      <td>NaN</td>\n",
       "      <td>NaN</td>\n",
       "      <td>NaN</td>\n",
       "      <td>NaN</td>\n",
       "    </tr>\n",
       "    <tr>\n",
       "      <th>English literacy</th>\n",
       "      <td>3065</td>\n",
       "      <td>5</td>\n",
       "      <td>Not at all</td>\n",
       "      <td>1110</td>\n",
       "      <td>NaN</td>\n",
       "      <td>NaN</td>\n",
       "      <td>NaN</td>\n",
       "      <td>NaN</td>\n",
       "      <td>NaN</td>\n",
       "      <td>NaN</td>\n",
       "      <td>NaN</td>\n",
       "    </tr>\n",
       "    <tr>\n",
       "      <th>Own a phone</th>\n",
       "      <td>3065</td>\n",
       "      <td>2</td>\n",
       "      <td>own phone</td>\n",
       "      <td>1973</td>\n",
       "      <td>NaN</td>\n",
       "      <td>NaN</td>\n",
       "      <td>NaN</td>\n",
       "      <td>NaN</td>\n",
       "      <td>NaN</td>\n",
       "      <td>NaN</td>\n",
       "      <td>NaN</td>\n",
       "    </tr>\n",
       "    <tr>\n",
       "      <th>$2.50 PPP Poverty line</th>\n",
       "      <td>3065</td>\n",
       "      <td>2</td>\n",
       "      <td>Below poverty line</td>\n",
       "      <td>1731</td>\n",
       "      <td>NaN</td>\n",
       "      <td>NaN</td>\n",
       "      <td>NaN</td>\n",
       "      <td>NaN</td>\n",
       "      <td>NaN</td>\n",
       "      <td>NaN</td>\n",
       "      <td>NaN</td>\n",
       "    </tr>\n",
       "    <tr>\n",
       "      <th>Language of interview</th>\n",
       "      <td>3065</td>\n",
       "      <td>10</td>\n",
       "      <td>English</td>\n",
       "      <td>1435</td>\n",
       "      <td>NaN</td>\n",
       "      <td>NaN</td>\n",
       "      <td>NaN</td>\n",
       "      <td>NaN</td>\n",
       "      <td>NaN</td>\n",
       "      <td>NaN</td>\n",
       "      <td>NaN</td>\n",
       "    </tr>\n",
       "    <tr>\n",
       "      <th>Main language</th>\n",
       "      <td>3065</td>\n",
       "      <td>15</td>\n",
       "      <td>Luganda</td>\n",
       "      <td>845</td>\n",
       "      <td>NaN</td>\n",
       "      <td>NaN</td>\n",
       "      <td>NaN</td>\n",
       "      <td>NaN</td>\n",
       "      <td>NaN</td>\n",
       "      <td>NaN</td>\n",
       "      <td>NaN</td>\n",
       "    </tr>\n",
       "    <tr>\n",
       "      <th>Mean household size</th>\n",
       "      <td>3065</td>\n",
       "      <td>3</td>\n",
       "      <td>Below mean size</td>\n",
       "      <td>1495</td>\n",
       "      <td>NaN</td>\n",
       "      <td>NaN</td>\n",
       "      <td>NaN</td>\n",
       "      <td>NaN</td>\n",
       "      <td>NaN</td>\n",
       "      <td>NaN</td>\n",
       "      <td>NaN</td>\n",
       "    </tr>\n",
       "    <tr>\n",
       "      <th>Province / Region</th>\n",
       "      <td>3065</td>\n",
       "      <td>4</td>\n",
       "      <td>Central</td>\n",
       "      <td>961</td>\n",
       "      <td>NaN</td>\n",
       "      <td>NaN</td>\n",
       "      <td>NaN</td>\n",
       "      <td>NaN</td>\n",
       "      <td>NaN</td>\n",
       "      <td>NaN</td>\n",
       "      <td>NaN</td>\n",
       "    </tr>\n",
       "    <tr>\n",
       "      <th>Phone ownership</th>\n",
       "      <td>3065</td>\n",
       "      <td>7</td>\n",
       "      <td>own phone/business/employer</td>\n",
       "      <td>1973</td>\n",
       "      <td>NaN</td>\n",
       "      <td>NaN</td>\n",
       "      <td>NaN</td>\n",
       "      <td>NaN</td>\n",
       "      <td>NaN</td>\n",
       "      <td>NaN</td>\n",
       "      <td>NaN</td>\n",
       "    </tr>\n",
       "    <tr>\n",
       "      <th>Independent phone use</th>\n",
       "      <td>3065</td>\n",
       "      <td>3</td>\n",
       "      <td>Yes</td>\n",
       "      <td>2000</td>\n",
       "      <td>NaN</td>\n",
       "      <td>NaN</td>\n",
       "      <td>NaN</td>\n",
       "      <td>NaN</td>\n",
       "      <td>NaN</td>\n",
       "      <td>NaN</td>\n",
       "      <td>NaN</td>\n",
       "    </tr>\n",
       "    <tr>\n",
       "      <th>Informal financial usage</th>\n",
       "      <td>3065</td>\n",
       "      <td>2</td>\n",
       "      <td>no</td>\n",
       "      <td>2140</td>\n",
       "      <td>NaN</td>\n",
       "      <td>NaN</td>\n",
       "      <td>NaN</td>\n",
       "      <td>NaN</td>\n",
       "      <td>NaN</td>\n",
       "      <td>NaN</td>\n",
       "      <td>NaN</td>\n",
       "    </tr>\n",
       "    <tr>\n",
       "      <th>Mobile Money</th>\n",
       "      <td>3065</td>\n",
       "      <td>2</td>\n",
       "      <td>Yes</td>\n",
       "      <td>2585</td>\n",
       "      <td>NaN</td>\n",
       "      <td>NaN</td>\n",
       "      <td>NaN</td>\n",
       "      <td>NaN</td>\n",
       "      <td>NaN</td>\n",
       "      <td>NaN</td>\n",
       "      <td>NaN</td>\n",
       "    </tr>\n",
       "    <tr>\n",
       "      <th>Bank</th>\n",
       "      <td>3065</td>\n",
       "      <td>5</td>\n",
       "      <td>unbanked</td>\n",
       "      <td>2557</td>\n",
       "      <td>NaN</td>\n",
       "      <td>NaN</td>\n",
       "      <td>NaN</td>\n",
       "      <td>NaN</td>\n",
       "      <td>NaN</td>\n",
       "      <td>NaN</td>\n",
       "      <td>NaN</td>\n",
       "    </tr>\n",
       "    <tr>\n",
       "      <th>Permission to open bank</th>\n",
       "      <td>3065</td>\n",
       "      <td>2</td>\n",
       "      <td>no</td>\n",
       "      <td>1922</td>\n",
       "      <td>NaN</td>\n",
       "      <td>NaN</td>\n",
       "      <td>NaN</td>\n",
       "      <td>NaN</td>\n",
       "      <td>NaN</td>\n",
       "      <td>NaN</td>\n",
       "      <td>NaN</td>\n",
       "    </tr>\n",
       "    <tr>\n",
       "      <th>Money taken from account</th>\n",
       "      <td>3065</td>\n",
       "      <td>3</td>\n",
       "      <td>money not taken</td>\n",
       "      <td>2382</td>\n",
       "      <td>NaN</td>\n",
       "      <td>NaN</td>\n",
       "      <td>NaN</td>\n",
       "      <td>NaN</td>\n",
       "      <td>NaN</td>\n",
       "      <td>NaN</td>\n",
       "      <td>NaN</td>\n",
       "    </tr>\n",
       "    <tr>\n",
       "      <th>Savings goal decision maker</th>\n",
       "      <td>3065</td>\n",
       "      <td>4</td>\n",
       "      <td>self alone</td>\n",
       "      <td>2010</td>\n",
       "      <td>NaN</td>\n",
       "      <td>NaN</td>\n",
       "      <td>NaN</td>\n",
       "      <td>NaN</td>\n",
       "      <td>NaN</td>\n",
       "      <td>NaN</td>\n",
       "      <td>NaN</td>\n",
       "    </tr>\n",
       "    <tr>\n",
       "      <th>Savings goal influence</th>\n",
       "      <td>3065</td>\n",
       "      <td>5</td>\n",
       "      <td>always accepted</td>\n",
       "      <td>1267</td>\n",
       "      <td>NaN</td>\n",
       "      <td>NaN</td>\n",
       "      <td>NaN</td>\n",
       "      <td>NaN</td>\n",
       "      <td>NaN</td>\n",
       "      <td>NaN</td>\n",
       "      <td>NaN</td>\n",
       "    </tr>\n",
       "    <tr>\n",
       "      <th>Land ownership</th>\n",
       "      <td>3065</td>\n",
       "      <td>3</td>\n",
       "      <td>own by self</td>\n",
       "      <td>1243</td>\n",
       "      <td>NaN</td>\n",
       "      <td>NaN</td>\n",
       "      <td>NaN</td>\n",
       "      <td>NaN</td>\n",
       "      <td>NaN</td>\n",
       "      <td>NaN</td>\n",
       "      <td>NaN</td>\n",
       "    </tr>\n",
       "    <tr>\n",
       "      <th>Land decision maker</th>\n",
       "      <td>3065</td>\n",
       "      <td>4</td>\n",
       "      <td>dont own land</td>\n",
       "      <td>1167</td>\n",
       "      <td>NaN</td>\n",
       "      <td>NaN</td>\n",
       "      <td>NaN</td>\n",
       "      <td>NaN</td>\n",
       "      <td>NaN</td>\n",
       "      <td>NaN</td>\n",
       "      <td>NaN</td>\n",
       "    </tr>\n",
       "    <tr>\n",
       "      <th>Children decision maker</th>\n",
       "      <td>3065</td>\n",
       "      <td>6</td>\n",
       "      <td>decide together</td>\n",
       "      <td>1137</td>\n",
       "      <td>NaN</td>\n",
       "      <td>NaN</td>\n",
       "      <td>NaN</td>\n",
       "      <td>NaN</td>\n",
       "      <td>NaN</td>\n",
       "      <td>NaN</td>\n",
       "      <td>NaN</td>\n",
       "    </tr>\n",
       "    <tr>\n",
       "      <th>Earning frequency</th>\n",
       "      <td>3065</td>\n",
       "      <td>6</td>\n",
       "      <td>When I get work</td>\n",
       "      <td>1097</td>\n",
       "      <td>NaN</td>\n",
       "      <td>NaN</td>\n",
       "      <td>NaN</td>\n",
       "      <td>NaN</td>\n",
       "      <td>NaN</td>\n",
       "      <td>NaN</td>\n",
       "      <td>NaN</td>\n",
       "    </tr>\n",
       "    <tr>\n",
       "      <th>Spending decision maker</th>\n",
       "      <td>3065</td>\n",
       "      <td>3</td>\n",
       "      <td>Fully on own</td>\n",
       "      <td>2197</td>\n",
       "      <td>NaN</td>\n",
       "      <td>NaN</td>\n",
       "      <td>NaN</td>\n",
       "      <td>NaN</td>\n",
       "      <td>NaN</td>\n",
       "      <td>NaN</td>\n",
       "      <td>NaN</td>\n",
       "    </tr>\n",
       "    <tr>\n",
       "      <th>Permission to work</th>\n",
       "      <td>3065</td>\n",
       "      <td>3</td>\n",
       "      <td>Already working</td>\n",
       "      <td>2122</td>\n",
       "      <td>NaN</td>\n",
       "      <td>NaN</td>\n",
       "      <td>NaN</td>\n",
       "      <td>NaN</td>\n",
       "      <td>NaN</td>\n",
       "      <td>NaN</td>\n",
       "      <td>NaN</td>\n",
       "    </tr>\n",
       "    <tr>\n",
       "      <th>Main income earner</th>\n",
       "      <td>3065</td>\n",
       "      <td>5</td>\n",
       "      <td>respondent</td>\n",
       "      <td>1433</td>\n",
       "      <td>NaN</td>\n",
       "      <td>NaN</td>\n",
       "      <td>NaN</td>\n",
       "      <td>NaN</td>\n",
       "      <td>NaN</td>\n",
       "      <td>NaN</td>\n",
       "      <td>NaN</td>\n",
       "    </tr>\n",
       "    <tr>\n",
       "      <th>Migrant worker identity</th>\n",
       "      <td>3065</td>\n",
       "      <td>4</td>\n",
       "      <td>No-one, all live together</td>\n",
       "      <td>2177</td>\n",
       "      <td>NaN</td>\n",
       "      <td>NaN</td>\n",
       "      <td>NaN</td>\n",
       "      <td>NaN</td>\n",
       "      <td>NaN</td>\n",
       "      <td>NaN</td>\n",
       "      <td>NaN</td>\n",
       "    </tr>\n",
       "    <tr>\n",
       "      <th>Possibility to raise 1/20 GNI (Gross National Income)</th>\n",
       "      <td>3065</td>\n",
       "      <td>4</td>\n",
       "      <td>Not at all possible</td>\n",
       "      <td>937</td>\n",
       "      <td>NaN</td>\n",
       "      <td>NaN</td>\n",
       "      <td>NaN</td>\n",
       "      <td>NaN</td>\n",
       "      <td>NaN</td>\n",
       "      <td>NaN</td>\n",
       "      <td>NaN</td>\n",
       "    </tr>\n",
       "    <tr>\n",
       "      <th>Income frequency of spouse</th>\n",
       "      <td>3065</td>\n",
       "      <td>8</td>\n",
       "      <td>no spouse</td>\n",
       "      <td>881</td>\n",
       "      <td>NaN</td>\n",
       "      <td>NaN</td>\n",
       "      <td>NaN</td>\n",
       "      <td>NaN</td>\n",
       "      <td>NaN</td>\n",
       "      <td>NaN</td>\n",
       "      <td>NaN</td>\n",
       "    </tr>\n",
       "    <tr>\n",
       "      <th>Allow spouse to work</th>\n",
       "      <td>3065</td>\n",
       "      <td>3</td>\n",
       "      <td>Yes</td>\n",
       "      <td>1986</td>\n",
       "      <td>NaN</td>\n",
       "      <td>NaN</td>\n",
       "      <td>NaN</td>\n",
       "      <td>NaN</td>\n",
       "      <td>NaN</td>\n",
       "      <td>NaN</td>\n",
       "      <td>NaN</td>\n",
       "    </tr>\n",
       "  </tbody>\n",
       "</table>\n",
       "</div>"
      ],
      "text/plain": [
       "                                                   count unique  \\\n",
       "InstanceID                                          3065    NaN   \n",
       "finalweight                                         3065    NaN   \n",
       "Gender                                              3065      2   \n",
       "Marital / relationship status                       3065      2   \n",
       "Urbanicity                                          3065      2   \n",
       "Age Group                                           3065      5   \n",
       "Education                                           3065      5   \n",
       "English literacy                                    3065      5   \n",
       "Own a phone                                         3065      2   \n",
       "$2.50 PPP Poverty line                              3065      2   \n",
       "Language of interview                               3065     10   \n",
       "Main language                                       3065     15   \n",
       "Mean household size                                 3065      3   \n",
       "Province / Region                                   3065      4   \n",
       "Phone ownership                                     3065      7   \n",
       "Independent phone use                               3065      3   \n",
       "Informal financial usage                            3065      2   \n",
       "Mobile Money                                        3065      2   \n",
       "Bank                                                3065      5   \n",
       "Permission to open bank                             3065      2   \n",
       "Money taken from account                            3065      3   \n",
       "Savings goal decision maker                         3065      4   \n",
       "Savings goal influence                              3065      5   \n",
       "Land ownership                                      3065      3   \n",
       "Land decision maker                                 3065      4   \n",
       "Children decision maker                             3065      6   \n",
       "Earning frequency                                   3065      6   \n",
       "Spending decision maker                             3065      3   \n",
       "Permission to work                                  3065      3   \n",
       "Main income earner                                  3065      5   \n",
       "Migrant worker identity                             3065      4   \n",
       "Possibility to raise 1/20 GNI (Gross National I...  3065      4   \n",
       "Income frequency of spouse                          3065      8   \n",
       "Allow spouse to work                                3065      3   \n",
       "\n",
       "                                                                            top  \\\n",
       "InstanceID                                                                  NaN   \n",
       "finalweight                                                                 NaN   \n",
       "Gender                                                                   Female   \n",
       "Marital / relationship status                              Married/relationship   \n",
       "Urbanicity                                                                Rural   \n",
       "Age Group                                                                 25-34   \n",
       "Education                                                     Primary education   \n",
       "English literacy                                                     Not at all   \n",
       "Own a phone                                                           own phone   \n",
       "$2.50 PPP Poverty line                                       Below poverty line   \n",
       "Language of interview                                                   English   \n",
       "Main language                                                           Luganda   \n",
       "Mean household size                                             Below mean size   \n",
       "Province / Region                                                       Central   \n",
       "Phone ownership                                     own phone/business/employer   \n",
       "Independent phone use                                                       Yes   \n",
       "Informal financial usage                                                     no   \n",
       "Mobile Money                                                                Yes   \n",
       "Bank                                                                   unbanked   \n",
       "Permission to open bank                                                      no   \n",
       "Money taken from account                                        money not taken   \n",
       "Savings goal decision maker                                          self alone   \n",
       "Savings goal influence                                          always accepted   \n",
       "Land ownership                                                      own by self   \n",
       "Land decision maker                                               dont own land   \n",
       "Children decision maker                                         decide together   \n",
       "Earning frequency                                               When I get work   \n",
       "Spending decision maker                                            Fully on own   \n",
       "Permission to work                                              Already working   \n",
       "Main income earner                                                   respondent   \n",
       "Migrant worker identity                               No-one, all live together   \n",
       "Possibility to raise 1/20 GNI (Gross National I...          Not at all possible   \n",
       "Income frequency of spouse                                            no spouse   \n",
       "Allow spouse to work                                                        Yes   \n",
       "\n",
       "                                                    freq     mean      std  \\\n",
       "InstanceID                                           NaN   312884  2337.89   \n",
       "finalweight                                          NaN  11203.2  4946.02   \n",
       "Gender                                              1863      NaN      NaN   \n",
       "Marital / relationship status                       2184      NaN      NaN   \n",
       "Urbanicity                                          2189      NaN      NaN   \n",
       "Age Group                                            950      NaN      NaN   \n",
       "Education                                           1568      NaN      NaN   \n",
       "English literacy                                    1110      NaN      NaN   \n",
       "Own a phone                                         1973      NaN      NaN   \n",
       "$2.50 PPP Poverty line                              1731      NaN      NaN   \n",
       "Language of interview                               1435      NaN      NaN   \n",
       "Main language                                        845      NaN      NaN   \n",
       "Mean household size                                 1495      NaN      NaN   \n",
       "Province / Region                                    961      NaN      NaN   \n",
       "Phone ownership                                     1973      NaN      NaN   \n",
       "Independent phone use                               2000      NaN      NaN   \n",
       "Informal financial usage                            2140      NaN      NaN   \n",
       "Mobile Money                                        2585      NaN      NaN   \n",
       "Bank                                                2557      NaN      NaN   \n",
       "Permission to open bank                             1922      NaN      NaN   \n",
       "Money taken from account                            2382      NaN      NaN   \n",
       "Savings goal decision maker                         2010      NaN      NaN   \n",
       "Savings goal influence                              1267      NaN      NaN   \n",
       "Land ownership                                      1243      NaN      NaN   \n",
       "Land decision maker                                 1167      NaN      NaN   \n",
       "Children decision maker                             1137      NaN      NaN   \n",
       "Earning frequency                                   1097      NaN      NaN   \n",
       "Spending decision maker                             2197      NaN      NaN   \n",
       "Permission to work                                  2122      NaN      NaN   \n",
       "Main income earner                                  1433      NaN      NaN   \n",
       "Migrant worker identity                             2177      NaN      NaN   \n",
       "Possibility to raise 1/20 GNI (Gross National I...   937      NaN      NaN   \n",
       "Income frequency of spouse                           881      NaN      NaN   \n",
       "Allow spouse to work                                1986      NaN      NaN   \n",
       "\n",
       "                                                        min      25%      50%  \\\n",
       "InstanceID                                           309188   311054   312366   \n",
       "finalweight                                         1364.23  7468.77  10363.3   \n",
       "Gender                                                  NaN      NaN      NaN   \n",
       "Marital / relationship status                           NaN      NaN      NaN   \n",
       "Urbanicity                                              NaN      NaN      NaN   \n",
       "Age Group                                               NaN      NaN      NaN   \n",
       "Education                                               NaN      NaN      NaN   \n",
       "English literacy                                        NaN      NaN      NaN   \n",
       "Own a phone                                             NaN      NaN      NaN   \n",
       "$2.50 PPP Poverty line                                  NaN      NaN      NaN   \n",
       "Language of interview                                   NaN      NaN      NaN   \n",
       "Main language                                           NaN      NaN      NaN   \n",
       "Mean household size                                     NaN      NaN      NaN   \n",
       "Province / Region                                       NaN      NaN      NaN   \n",
       "Phone ownership                                         NaN      NaN      NaN   \n",
       "Independent phone use                                   NaN      NaN      NaN   \n",
       "Informal financial usage                                NaN      NaN      NaN   \n",
       "Mobile Money                                            NaN      NaN      NaN   \n",
       "Bank                                                    NaN      NaN      NaN   \n",
       "Permission to open bank                                 NaN      NaN      NaN   \n",
       "Money taken from account                                NaN      NaN      NaN   \n",
       "Savings goal decision maker                             NaN      NaN      NaN   \n",
       "Savings goal influence                                  NaN      NaN      NaN   \n",
       "Land ownership                                          NaN      NaN      NaN   \n",
       "Land decision maker                                     NaN      NaN      NaN   \n",
       "Children decision maker                                 NaN      NaN      NaN   \n",
       "Earning frequency                                       NaN      NaN      NaN   \n",
       "Spending decision maker                                 NaN      NaN      NaN   \n",
       "Permission to work                                      NaN      NaN      NaN   \n",
       "Main income earner                                      NaN      NaN      NaN   \n",
       "Migrant worker identity                                 NaN      NaN      NaN   \n",
       "Possibility to raise 1/20 GNI (Gross National I...      NaN      NaN      NaN   \n",
       "Income frequency of spouse                              NaN      NaN      NaN   \n",
       "Allow spouse to work                                    NaN      NaN      NaN   \n",
       "\n",
       "                                                        75%      max  \n",
       "InstanceID                                           314158   320008  \n",
       "finalweight                                         14123.9  39179.5  \n",
       "Gender                                                  NaN      NaN  \n",
       "Marital / relationship status                           NaN      NaN  \n",
       "Urbanicity                                              NaN      NaN  \n",
       "Age Group                                               NaN      NaN  \n",
       "Education                                               NaN      NaN  \n",
       "English literacy                                        NaN      NaN  \n",
       "Own a phone                                             NaN      NaN  \n",
       "$2.50 PPP Poverty line                                  NaN      NaN  \n",
       "Language of interview                                   NaN      NaN  \n",
       "Main language                                           NaN      NaN  \n",
       "Mean household size                                     NaN      NaN  \n",
       "Province / Region                                       NaN      NaN  \n",
       "Phone ownership                                         NaN      NaN  \n",
       "Independent phone use                                   NaN      NaN  \n",
       "Informal financial usage                                NaN      NaN  \n",
       "Mobile Money                                            NaN      NaN  \n",
       "Bank                                                    NaN      NaN  \n",
       "Permission to open bank                                 NaN      NaN  \n",
       "Money taken from account                                NaN      NaN  \n",
       "Savings goal decision maker                             NaN      NaN  \n",
       "Savings goal influence                                  NaN      NaN  \n",
       "Land ownership                                          NaN      NaN  \n",
       "Land decision maker                                     NaN      NaN  \n",
       "Children decision maker                                 NaN      NaN  \n",
       "Earning frequency                                       NaN      NaN  \n",
       "Spending decision maker                                 NaN      NaN  \n",
       "Permission to work                                      NaN      NaN  \n",
       "Main income earner                                      NaN      NaN  \n",
       "Migrant worker identity                                 NaN      NaN  \n",
       "Possibility to raise 1/20 GNI (Gross National I...      NaN      NaN  \n",
       "Income frequency of spouse                              NaN      NaN  \n",
       "Allow spouse to work                                    NaN      NaN  "
      ]
     },
     "metadata": {},
     "output_type": "display_data"
    },
    {
     "data": {
      "text/markdown": [
       "### Columns descriptions"
      ],
      "text/plain": [
       "<IPython.core.display.Markdown object>"
      ]
     },
     "metadata": {},
     "output_type": "display_data"
    },
    {
     "data": {
      "text/markdown": [
       "#### **column:** InstanceID ----- **dtype**: Int64"
      ],
      "text/plain": [
       "<IPython.core.display.Markdown object>"
      ]
     },
     "metadata": {},
     "output_type": "display_data"
    },
    {
     "data": {
      "text/markdown": [
       "#### **column:** finalweight ----- **dtype**: float64"
      ],
      "text/plain": [
       "<IPython.core.display.Markdown object>"
      ]
     },
     "metadata": {},
     "output_type": "display_data"
    },
    {
     "data": {
      "text/markdown": [
       "#### **column:** Gender ----- **dtype**: string"
      ],
      "text/plain": [
       "<IPython.core.display.Markdown object>"
      ]
     },
     "metadata": {},
     "output_type": "display_data"
    },
    {
     "data": {
      "text/markdown": [
       "##### Before clean applied"
      ],
      "text/plain": [
       "<IPython.core.display.Markdown object>"
      ]
     },
     "metadata": {},
     "output_type": "display_data"
    },
    {
     "name": "stdout",
     "output_type": "stream",
     "text": [
      "<StringArray>\n",
      "['Female', 'Male']\n",
      "Length: 2, dtype: string\n"
     ]
    },
    {
     "data": {
      "text/markdown": [
       "##### After clean applied"
      ],
      "text/plain": [
       "<IPython.core.display.Markdown object>"
      ]
     },
     "metadata": {},
     "output_type": "display_data"
    },
    {
     "name": "stdout",
     "output_type": "stream",
     "text": [
      "<StringArray>\n",
      "['Female', 'Male']\n",
      "Length: 2, dtype: string\n"
     ]
    },
    {
     "data": {
      "text/markdown": [
       "#### **column:** Marital / relationship status ----- **dtype**: string"
      ],
      "text/plain": [
       "<IPython.core.display.Markdown object>"
      ]
     },
     "metadata": {},
     "output_type": "display_data"
    },
    {
     "data": {
      "text/markdown": [
       "##### Before clean applied"
      ],
      "text/plain": [
       "<IPython.core.display.Markdown object>"
      ]
     },
     "metadata": {},
     "output_type": "display_data"
    },
    {
     "name": "stdout",
     "output_type": "stream",
     "text": [
      "<StringArray>\n",
      "['Married/relationship', 'Not married/relationship']\n",
      "Length: 2, dtype: string\n"
     ]
    },
    {
     "data": {
      "text/markdown": [
       "##### After clean applied"
      ],
      "text/plain": [
       "<IPython.core.display.Markdown object>"
      ]
     },
     "metadata": {},
     "output_type": "display_data"
    },
    {
     "name": "stdout",
     "output_type": "stream",
     "text": [
      "<StringArray>\n",
      "['Married/Relationship', 'Not married/Relationship']\n",
      "Length: 2, dtype: string\n"
     ]
    },
    {
     "data": {
      "text/markdown": [
       "#### **column:** Urbanicity ----- **dtype**: string"
      ],
      "text/plain": [
       "<IPython.core.display.Markdown object>"
      ]
     },
     "metadata": {},
     "output_type": "display_data"
    },
    {
     "data": {
      "text/markdown": [
       "##### Before clean applied"
      ],
      "text/plain": [
       "<IPython.core.display.Markdown object>"
      ]
     },
     "metadata": {},
     "output_type": "display_data"
    },
    {
     "name": "stdout",
     "output_type": "stream",
     "text": [
      "<StringArray>\n",
      "['Urban', 'Rural']\n",
      "Length: 2, dtype: string\n"
     ]
    },
    {
     "data": {
      "text/markdown": [
       "##### After clean applied"
      ],
      "text/plain": [
       "<IPython.core.display.Markdown object>"
      ]
     },
     "metadata": {},
     "output_type": "display_data"
    },
    {
     "name": "stdout",
     "output_type": "stream",
     "text": [
      "<StringArray>\n",
      "['Urban', 'Rural']\n",
      "Length: 2, dtype: string\n"
     ]
    },
    {
     "data": {
      "text/markdown": [
       "#### **column:** Age Group ----- **dtype**: string"
      ],
      "text/plain": [
       "<IPython.core.display.Markdown object>"
      ]
     },
     "metadata": {},
     "output_type": "display_data"
    },
    {
     "data": {
      "text/markdown": [
       "##### Before clean applied"
      ],
      "text/plain": [
       "<IPython.core.display.Markdown object>"
      ]
     },
     "metadata": {},
     "output_type": "display_data"
    },
    {
     "name": "stdout",
     "output_type": "stream",
     "text": [
      "<StringArray>\n",
      "['18-24', '35-44', '25-34', '55+', '45-54']\n",
      "Length: 5, dtype: string\n"
     ]
    },
    {
     "data": {
      "text/markdown": [
       "##### After clean applied"
      ],
      "text/plain": [
       "<IPython.core.display.Markdown object>"
      ]
     },
     "metadata": {},
     "output_type": "display_data"
    },
    {
     "name": "stdout",
     "output_type": "stream",
     "text": [
      "<StringArray>\n",
      "['18-24', '35-44', '25-34', '55+', '45-54']\n",
      "Length: 5, dtype: string\n"
     ]
    },
    {
     "data": {
      "text/markdown": [
       "#### **column:** Education ----- **dtype**: string"
      ],
      "text/plain": [
       "<IPython.core.display.Markdown object>"
      ]
     },
     "metadata": {},
     "output_type": "display_data"
    },
    {
     "data": {
      "text/markdown": [
       "##### Before clean applied"
      ],
      "text/plain": [
       "<IPython.core.display.Markdown object>"
      ]
     },
     "metadata": {},
     "output_type": "display_data"
    },
    {
     "name": "stdout",
     "output_type": "stream",
     "text": [
      "<StringArray>\n",
      "['Secondary education', 'No formal education',    'Higher education',\n",
      "   'Primary education',               'Other']\n",
      "Length: 5, dtype: string\n"
     ]
    },
    {
     "data": {
      "text/markdown": [
       "##### After clean applied"
      ],
      "text/plain": [
       "<IPython.core.display.Markdown object>"
      ]
     },
     "metadata": {},
     "output_type": "display_data"
    },
    {
     "name": "stdout",
     "output_type": "stream",
     "text": [
      "<StringArray>\n",
      "['Secondary education', 'No formal education',    'Higher education',\n",
      "   'Primary education',               'Other']\n",
      "Length: 5, dtype: string\n"
     ]
    },
    {
     "data": {
      "text/markdown": [
       "#### **column:** English literacy ----- **dtype**: string"
      ],
      "text/plain": [
       "<IPython.core.display.Markdown object>"
      ]
     },
     "metadata": {},
     "output_type": "display_data"
    },
    {
     "data": {
      "text/markdown": [
       "##### Before clean applied"
      ],
      "text/plain": [
       "<IPython.core.display.Markdown object>"
      ]
     },
     "metadata": {},
     "output_type": "display_data"
    },
    {
     "name": "stdout",
     "output_type": "stream",
     "text": [
      "<StringArray>\n",
      "['Excellent', 'Not at all', 'Good', 'Fair', 'Poorly']\n",
      "Length: 5, dtype: string\n"
     ]
    },
    {
     "data": {
      "text/markdown": [
       "##### After clean applied"
      ],
      "text/plain": [
       "<IPython.core.display.Markdown object>"
      ]
     },
     "metadata": {},
     "output_type": "display_data"
    },
    {
     "name": "stdout",
     "output_type": "stream",
     "text": [
      "<StringArray>\n",
      "['Excellent', 'Not at all', 'Good', 'Fair', 'Poorly']\n",
      "Length: 5, dtype: string\n"
     ]
    },
    {
     "data": {
      "text/markdown": [
       "#### **column:** Own a phone ----- **dtype**: string"
      ],
      "text/plain": [
       "<IPython.core.display.Markdown object>"
      ]
     },
     "metadata": {},
     "output_type": "display_data"
    },
    {
     "data": {
      "text/markdown": [
       "##### Before clean applied"
      ],
      "text/plain": [
       "<IPython.core.display.Markdown object>"
      ]
     },
     "metadata": {},
     "output_type": "display_data"
    },
    {
     "name": "stdout",
     "output_type": "stream",
     "text": [
      "<StringArray>\n",
      "['own phone', 'dont own phone']\n",
      "Length: 2, dtype: string\n"
     ]
    },
    {
     "data": {
      "text/markdown": [
       "##### After clean applied"
      ],
      "text/plain": [
       "<IPython.core.display.Markdown object>"
      ]
     },
     "metadata": {},
     "output_type": "display_data"
    },
    {
     "name": "stdout",
     "output_type": "stream",
     "text": [
      "<StringArray>\n",
      "['Own phone', 'Don’t own phone']\n",
      "Length: 2, dtype: string\n"
     ]
    },
    {
     "data": {
      "text/markdown": [
       "#### **column:** $2.50 PPP Poverty line ----- **dtype**: string"
      ],
      "text/plain": [
       "<IPython.core.display.Markdown object>"
      ]
     },
     "metadata": {},
     "output_type": "display_data"
    },
    {
     "data": {
      "text/markdown": [
       "##### Before clean applied"
      ],
      "text/plain": [
       "<IPython.core.display.Markdown object>"
      ]
     },
     "metadata": {},
     "output_type": "display_data"
    },
    {
     "name": "stdout",
     "output_type": "stream",
     "text": [
      "<StringArray>\n",
      "['Above poverty line', 'Below poverty line']\n",
      "Length: 2, dtype: string\n"
     ]
    },
    {
     "data": {
      "text/markdown": [
       "##### After clean applied"
      ],
      "text/plain": [
       "<IPython.core.display.Markdown object>"
      ]
     },
     "metadata": {},
     "output_type": "display_data"
    },
    {
     "name": "stdout",
     "output_type": "stream",
     "text": [
      "<StringArray>\n",
      "['Above poverty line', 'Below poverty line']\n",
      "Length: 2, dtype: string\n"
     ]
    },
    {
     "data": {
      "text/markdown": [
       "#### **column:** Language of interview ----- **dtype**: string"
      ],
      "text/plain": [
       "<IPython.core.display.Markdown object>"
      ]
     },
     "metadata": {},
     "output_type": "display_data"
    },
    {
     "data": {
      "text/markdown": [
       "##### Before clean applied"
      ],
      "text/plain": [
       "<IPython.core.display.Markdown object>"
      ]
     },
     "metadata": {},
     "output_type": "display_data"
    },
    {
     "name": "stdout",
     "output_type": "stream",
     "text": [
      "<StringArray>\n",
      "[                                     'English',\n",
      "                                      'Luganda',\n",
      "                                        'Ateso',\n",
      " 'Runyakole/Rukiga/Runyakitara/Runyoro/Rutooro',\n",
      "                                      'Lugbara',\n",
      "                                         'Madi',\n",
      "                                      'Lugishu',\n",
      "                                          'Luo',\n",
      "                                  'nkaromojong',\n",
      "                                    'Kupsabiny']\n",
      "Length: 10, dtype: string\n"
     ]
    },
    {
     "data": {
      "text/markdown": [
       "##### After clean applied"
      ],
      "text/plain": [
       "<IPython.core.display.Markdown object>"
      ]
     },
     "metadata": {},
     "output_type": "display_data"
    },
    {
     "name": "stdout",
     "output_type": "stream",
     "text": [
      "<StringArray>\n",
      "[                                     'English',\n",
      "                                      'Luganda',\n",
      "                                        'Ateso',\n",
      " 'Runyakole/Rukiga/Runyakitara/Runyoro/Rutooro',\n",
      "                                      'Lugbara',\n",
      "                                         'Madi',\n",
      "                                      'Lugishu',\n",
      "                                          'Luo',\n",
      "                                  'Nkaromojong',\n",
      "                                    'Kupsabiny']\n",
      "Length: 10, dtype: string\n"
     ]
    },
    {
     "data": {
      "text/markdown": [
       "#### **column:** Main language ----- **dtype**: string"
      ],
      "text/plain": [
       "<IPython.core.display.Markdown object>"
      ]
     },
     "metadata": {},
     "output_type": "display_data"
    },
    {
     "data": {
      "text/markdown": [
       "##### Before clean applied"
      ],
      "text/plain": [
       "<IPython.core.display.Markdown object>"
      ]
     },
     "metadata": {},
     "output_type": "display_data"
    },
    {
     "name": "stdout",
     "output_type": "stream",
     "text": [
      "<StringArray>\n",
      "[                                     'Luganda',\n",
      " 'Runyakole/Rukiga/Runyakitara/Runyoro/Rutooro',\n",
      "                                      'English',\n",
      "                                       'Lusoga',\n",
      "                                        'Ateso',\n",
      "                                      'Lukonzo',\n",
      "                                      'Lugishu',\n",
      "                                      'Lugbara',\n",
      "                                      'Lugwere',\n",
      "                                         'Madi',\n",
      "                                        'Other',\n",
      "                                          'Luo',\n",
      "                            'Alur / Dhopadhola',\n",
      "                                  'nkaromojong',\n",
      "                                    'Kupsabiny']\n",
      "Length: 15, dtype: string\n"
     ]
    },
    {
     "data": {
      "text/markdown": [
       "##### After clean applied"
      ],
      "text/plain": [
       "<IPython.core.display.Markdown object>"
      ]
     },
     "metadata": {},
     "output_type": "display_data"
    },
    {
     "name": "stdout",
     "output_type": "stream",
     "text": [
      "<StringArray>\n",
      "[                                     'Luganda',\n",
      " 'Runyakole/Rukiga/Runyakitara/Runyoro/Rutooro',\n",
      "                                      'English',\n",
      "                                       'Lusoga',\n",
      "                                        'Ateso',\n",
      "                                      'Lukonzo',\n",
      "                                      'Lugishu',\n",
      "                                      'Lugbara',\n",
      "                                      'Lugwere',\n",
      "                                         'Madi',\n",
      "                                        'Other',\n",
      "                                          'Luo',\n",
      "                            'Alur / dhopadhola',\n",
      "                                  'Nkaromojong',\n",
      "                                    'Kupsabiny']\n",
      "Length: 15, dtype: string\n"
     ]
    },
    {
     "data": {
      "text/markdown": [
       "#### **column:** Mean household size ----- **dtype**: string"
      ],
      "text/plain": [
       "<IPython.core.display.Markdown object>"
      ]
     },
     "metadata": {},
     "output_type": "display_data"
    },
    {
     "data": {
      "text/markdown": [
       "##### Before clean applied"
      ],
      "text/plain": [
       "<IPython.core.display.Markdown object>"
      ]
     },
     "metadata": {},
     "output_type": "display_data"
    },
    {
     "name": "stdout",
     "output_type": "stream",
     "text": [
      "<StringArray>\n",
      "['Below mean size', 'Mean', 'Above mean size']\n",
      "Length: 3, dtype: string\n"
     ]
    },
    {
     "data": {
      "text/markdown": [
       "##### After clean applied"
      ],
      "text/plain": [
       "<IPython.core.display.Markdown object>"
      ]
     },
     "metadata": {},
     "output_type": "display_data"
    },
    {
     "name": "stdout",
     "output_type": "stream",
     "text": [
      "<StringArray>\n",
      "['Below mean size', 'Mean', 'Above mean size']\n",
      "Length: 3, dtype: string\n"
     ]
    },
    {
     "data": {
      "text/markdown": [
       "#### **column:** Province / Region ----- **dtype**: string"
      ],
      "text/plain": [
       "<IPython.core.display.Markdown object>"
      ]
     },
     "metadata": {},
     "output_type": "display_data"
    },
    {
     "data": {
      "text/markdown": [
       "##### Before clean applied"
      ],
      "text/plain": [
       "<IPython.core.display.Markdown object>"
      ]
     },
     "metadata": {},
     "output_type": "display_data"
    },
    {
     "name": "stdout",
     "output_type": "stream",
     "text": [
      "<StringArray>\n",
      "['Central', 'Eastern', 'Western', 'Northern']\n",
      "Length: 4, dtype: string\n"
     ]
    },
    {
     "data": {
      "text/markdown": [
       "##### After clean applied"
      ],
      "text/plain": [
       "<IPython.core.display.Markdown object>"
      ]
     },
     "metadata": {},
     "output_type": "display_data"
    },
    {
     "name": "stdout",
     "output_type": "stream",
     "text": [
      "<StringArray>\n",
      "['Central', 'Eastern', 'Western', 'Northern']\n",
      "Length: 4, dtype: string\n"
     ]
    },
    {
     "data": {
      "text/markdown": [
       "#### **column:** Phone ownership ----- **dtype**: string"
      ],
      "text/plain": [
       "<IPython.core.display.Markdown object>"
      ]
     },
     "metadata": {},
     "output_type": "display_data"
    },
    {
     "data": {
      "text/markdown": [
       "##### Before clean applied"
      ],
      "text/plain": [
       "<IPython.core.display.Markdown object>"
      ]
     },
     "metadata": {},
     "output_type": "display_data"
    },
    {
     "name": "stdout",
     "output_type": "stream",
     "text": [
      "<StringArray>\n",
      "['own phone/business/employer',                     'Sibling',\n",
      "       'Dont use mobile phone',               'Husband/wives',\n",
      "                      'Parent',                    'Children',\n",
      "             'Other man/women']\n",
      "Length: 7, dtype: string\n"
     ]
    },
    {
     "data": {
      "text/markdown": [
       "##### After clean applied"
      ],
      "text/plain": [
       "<IPython.core.display.Markdown object>"
      ]
     },
     "metadata": {},
     "output_type": "display_data"
    },
    {
     "name": "stdout",
     "output_type": "stream",
     "text": [
      "<StringArray>\n",
      "['Own phone/Business/Employer',                     'Sibling',\n",
      "      'Don’t use mobile phone',               'Husband/Wives',\n",
      "                      'Parent',                    'Children',\n",
      "             'Other man/Women']\n",
      "Length: 7, dtype: string\n"
     ]
    },
    {
     "data": {
      "text/markdown": [
       "#### **column:** Independent phone use ----- **dtype**: string"
      ],
      "text/plain": [
       "<IPython.core.display.Markdown object>"
      ]
     },
     "metadata": {},
     "output_type": "display_data"
    },
    {
     "data": {
      "text/markdown": [
       "##### Before clean applied"
      ],
      "text/plain": [
       "<IPython.core.display.Markdown object>"
      ]
     },
     "metadata": {},
     "output_type": "display_data"
    },
    {
     "name": "stdout",
     "output_type": "stream",
     "text": [
      "<StringArray>\n",
      "['Yes', 'No', 'Somewhat']\n",
      "Length: 3, dtype: string\n"
     ]
    },
    {
     "data": {
      "text/markdown": [
       "##### After clean applied"
      ],
      "text/plain": [
       "<IPython.core.display.Markdown object>"
      ]
     },
     "metadata": {},
     "output_type": "display_data"
    },
    {
     "name": "stdout",
     "output_type": "stream",
     "text": [
      "<StringArray>\n",
      "['Yes', 'No', 'Somewhat']\n",
      "Length: 3, dtype: string\n"
     ]
    },
    {
     "data": {
      "text/markdown": [
       "#### **column:** Informal financial usage ----- **dtype**: string"
      ],
      "text/plain": [
       "<IPython.core.display.Markdown object>"
      ]
     },
     "metadata": {},
     "output_type": "display_data"
    },
    {
     "data": {
      "text/markdown": [
       "##### Before clean applied"
      ],
      "text/plain": [
       "<IPython.core.display.Markdown object>"
      ]
     },
     "metadata": {},
     "output_type": "display_data"
    },
    {
     "name": "stdout",
     "output_type": "stream",
     "text": [
      "<StringArray>\n",
      "['no', 'yes']\n",
      "Length: 2, dtype: string\n"
     ]
    },
    {
     "data": {
      "text/markdown": [
       "##### After clean applied"
      ],
      "text/plain": [
       "<IPython.core.display.Markdown object>"
      ]
     },
     "metadata": {},
     "output_type": "display_data"
    },
    {
     "name": "stdout",
     "output_type": "stream",
     "text": [
      "<StringArray>\n",
      "['No', 'Yes']\n",
      "Length: 2, dtype: string\n"
     ]
    },
    {
     "data": {
      "text/markdown": [
       "#### **column:** Mobile Money ----- **dtype**: string"
      ],
      "text/plain": [
       "<IPython.core.display.Markdown object>"
      ]
     },
     "metadata": {},
     "output_type": "display_data"
    },
    {
     "data": {
      "text/markdown": [
       "##### Before clean applied"
      ],
      "text/plain": [
       "<IPython.core.display.Markdown object>"
      ]
     },
     "metadata": {},
     "output_type": "display_data"
    },
    {
     "name": "stdout",
     "output_type": "stream",
     "text": [
      "<StringArray>\n",
      "['Yes', 'No']\n",
      "Length: 2, dtype: string\n"
     ]
    },
    {
     "data": {
      "text/markdown": [
       "##### After clean applied"
      ],
      "text/plain": [
       "<IPython.core.display.Markdown object>"
      ]
     },
     "metadata": {},
     "output_type": "display_data"
    },
    {
     "name": "stdout",
     "output_type": "stream",
     "text": [
      "<StringArray>\n",
      "['Yes', 'No']\n",
      "Length: 2, dtype: string\n"
     ]
    },
    {
     "data": {
      "text/markdown": [
       "#### **column:** Bank ----- **dtype**: string"
      ],
      "text/plain": [
       "<IPython.core.display.Markdown object>"
      ]
     },
     "metadata": {},
     "output_type": "display_data"
    },
    {
     "data": {
      "text/markdown": [
       "##### Before clean applied"
      ],
      "text/plain": [
       "<IPython.core.display.Markdown object>"
      ]
     },
     "metadata": {},
     "output_type": "display_data"
    },
    {
     "name": "stdout",
     "output_type": "stream",
     "text": [
      "<StringArray>\n",
      "['unbanked', 'own', 'spouse', 'other fam', 'other']\n",
      "Length: 5, dtype: string\n"
     ]
    },
    {
     "data": {
      "text/markdown": [
       "##### After clean applied"
      ],
      "text/plain": [
       "<IPython.core.display.Markdown object>"
      ]
     },
     "metadata": {},
     "output_type": "display_data"
    },
    {
     "name": "stdout",
     "output_type": "stream",
     "text": [
      "<StringArray>\n",
      "['Unbanked', 'Own', 'Spouse', 'Other fam', 'Other']\n",
      "Length: 5, dtype: string\n"
     ]
    },
    {
     "data": {
      "text/markdown": [
       "#### **column:** Permission to open bank ----- **dtype**: string"
      ],
      "text/plain": [
       "<IPython.core.display.Markdown object>"
      ]
     },
     "metadata": {},
     "output_type": "display_data"
    },
    {
     "data": {
      "text/markdown": [
       "##### Before clean applied"
      ],
      "text/plain": [
       "<IPython.core.display.Markdown object>"
      ]
     },
     "metadata": {},
     "output_type": "display_data"
    },
    {
     "name": "stdout",
     "output_type": "stream",
     "text": [
      "<StringArray>\n",
      "['no', 'yes']\n",
      "Length: 2, dtype: string\n"
     ]
    },
    {
     "data": {
      "text/markdown": [
       "##### After clean applied"
      ],
      "text/plain": [
       "<IPython.core.display.Markdown object>"
      ]
     },
     "metadata": {},
     "output_type": "display_data"
    },
    {
     "name": "stdout",
     "output_type": "stream",
     "text": [
      "<StringArray>\n",
      "['No', 'Yes']\n",
      "Length: 2, dtype: string\n"
     ]
    },
    {
     "data": {
      "text/markdown": [
       "#### **column:** Money taken from account ----- **dtype**: string"
      ],
      "text/plain": [
       "<IPython.core.display.Markdown object>"
      ]
     },
     "metadata": {},
     "output_type": "display_data"
    },
    {
     "data": {
      "text/markdown": [
       "##### Before clean applied"
      ],
      "text/plain": [
       "<IPython.core.display.Markdown object>"
      ]
     },
     "metadata": {},
     "output_type": "display_data"
    },
    {
     "name": "stdout",
     "output_type": "stream",
     "text": [
      "<StringArray>\n",
      "['money not taken', 'money taken', 'dont have account']\n",
      "Length: 3, dtype: string\n"
     ]
    },
    {
     "data": {
      "text/markdown": [
       "##### After clean applied"
      ],
      "text/plain": [
       "<IPython.core.display.Markdown object>"
      ]
     },
     "metadata": {},
     "output_type": "display_data"
    },
    {
     "name": "stdout",
     "output_type": "stream",
     "text": [
      "<StringArray>\n",
      "['Money not taken', 'Money taken', 'Don’t have account']\n",
      "Length: 3, dtype: string\n"
     ]
    },
    {
     "data": {
      "text/markdown": [
       "#### **column:** Savings goal decision maker ----- **dtype**: string"
      ],
      "text/plain": [
       "<IPython.core.display.Markdown object>"
      ]
     },
     "metadata": {},
     "output_type": "display_data"
    },
    {
     "data": {
      "text/markdown": [
       "##### Before clean applied"
      ],
      "text/plain": [
       "<IPython.core.display.Markdown object>"
      ]
     },
     "metadata": {},
     "output_type": "display_data"
    },
    {
     "name": "stdout",
     "output_type": "stream",
     "text": [
      "<StringArray>\n",
      "['no savings goal', 'self alone', 'others on behalf', 'decide together']\n",
      "Length: 4, dtype: string\n"
     ]
    },
    {
     "data": {
      "text/markdown": [
       "##### After clean applied"
      ],
      "text/plain": [
       "<IPython.core.display.Markdown object>"
      ]
     },
     "metadata": {},
     "output_type": "display_data"
    },
    {
     "name": "stdout",
     "output_type": "stream",
     "text": [
      "<StringArray>\n",
      "['No savings goal', 'Self alone', 'Others on behalf', 'Decide together']\n",
      "Length: 4, dtype: string\n"
     ]
    },
    {
     "data": {
      "text/markdown": [
       "#### **column:** Savings goal influence ----- **dtype**: string"
      ],
      "text/plain": [
       "<IPython.core.display.Markdown object>"
      ]
     },
     "metadata": {},
     "output_type": "display_data"
    },
    {
     "data": {
      "text/markdown": [
       "##### Before clean applied"
      ],
      "text/plain": [
       "<IPython.core.display.Markdown object>"
      ]
     },
     "metadata": {},
     "output_type": "display_data"
    },
    {
     "name": "stdout",
     "output_type": "stream",
     "text": [
      "<StringArray>\n",
      "[            'no savings goal',                'dont consult',\n",
      "             'always accepted', 'sometimes accepted/rejected',\n",
      "             'always rejected']\n",
      "Length: 5, dtype: string\n"
     ]
    },
    {
     "data": {
      "text/markdown": [
       "##### After clean applied"
      ],
      "text/plain": [
       "<IPython.core.display.Markdown object>"
      ]
     },
     "metadata": {},
     "output_type": "display_data"
    },
    {
     "name": "stdout",
     "output_type": "stream",
     "text": [
      "<StringArray>\n",
      "[            'No savings goal',               'Don’t consult',\n",
      "             'Always accepted', 'Sometimes accepted/Rejected',\n",
      "             'Always rejected']\n",
      "Length: 5, dtype: string\n"
     ]
    },
    {
     "data": {
      "text/markdown": [
       "#### **column:** Land ownership ----- **dtype**: string"
      ],
      "text/plain": [
       "<IPython.core.display.Markdown object>"
      ]
     },
     "metadata": {},
     "output_type": "display_data"
    },
    {
     "data": {
      "text/markdown": [
       "##### Before clean applied"
      ],
      "text/plain": [
       "<IPython.core.display.Markdown object>"
      ]
     },
     "metadata": {},
     "output_type": "display_data"
    },
    {
     "name": "stdout",
     "output_type": "stream",
     "text": [
      "<StringArray>\n",
      "['dont own', 'own by self', 'own with others']\n",
      "Length: 3, dtype: string\n"
     ]
    },
    {
     "data": {
      "text/markdown": [
       "##### After clean applied"
      ],
      "text/plain": [
       "<IPython.core.display.Markdown object>"
      ]
     },
     "metadata": {},
     "output_type": "display_data"
    },
    {
     "name": "stdout",
     "output_type": "stream",
     "text": [
      "<StringArray>\n",
      "['Don’t own', 'Own by self', 'Own with others']\n",
      "Length: 3, dtype: string\n"
     ]
    },
    {
     "data": {
      "text/markdown": [
       "#### **column:** Land decision maker ----- **dtype**: string"
      ],
      "text/plain": [
       "<IPython.core.display.Markdown object>"
      ]
     },
     "metadata": {},
     "output_type": "display_data"
    },
    {
     "data": {
      "text/markdown": [
       "##### Before clean applied"
      ],
      "text/plain": [
       "<IPython.core.display.Markdown object>"
      ]
     },
     "metadata": {},
     "output_type": "display_data"
    },
    {
     "name": "stdout",
     "output_type": "stream",
     "text": [
      "<StringArray>\n",
      "[           'dont own land',             'decide alone',\n",
      "       'decide with others', 'others decide without me']\n",
      "Length: 4, dtype: string\n"
     ]
    },
    {
     "data": {
      "text/markdown": [
       "##### After clean applied"
      ],
      "text/plain": [
       "<IPython.core.display.Markdown object>"
      ]
     },
     "metadata": {},
     "output_type": "display_data"
    },
    {
     "name": "stdout",
     "output_type": "stream",
     "text": [
      "<StringArray>\n",
      "[          'Don’t own land',             'Decide alone',\n",
      "       'Decide with others', 'Others decide without me']\n",
      "Length: 4, dtype: string\n"
     ]
    },
    {
     "data": {
      "text/markdown": [
       "#### **column:** Children decision maker ----- **dtype**: string"
      ],
      "text/plain": [
       "<IPython.core.display.Markdown object>"
      ]
     },
     "metadata": {},
     "output_type": "display_data"
    },
    {
     "data": {
      "text/markdown": [
       "##### Before clean applied"
      ],
      "text/plain": [
       "<IPython.core.display.Markdown object>"
      ]
     },
     "metadata": {},
     "output_type": "display_data"
    },
    {
     "name": "stdout",
     "output_type": "stream",
     "text": [
      "<StringArray>\n",
      "[        'decide together',            'decide alone',\n",
      "     'Not in relationship', 'We do not talk about it',\n",
      "          'Spouse decides',           'Others decide']\n",
      "Length: 6, dtype: string\n"
     ]
    },
    {
     "data": {
      "text/markdown": [
       "##### After clean applied"
      ],
      "text/plain": [
       "<IPython.core.display.Markdown object>"
      ]
     },
     "metadata": {},
     "output_type": "display_data"
    },
    {
     "name": "stdout",
     "output_type": "stream",
     "text": [
      "<StringArray>\n",
      "[        'Decide together',            'Decide alone',\n",
      "     'Not in relationship', 'We do not talk about it',\n",
      "          'Spouse decides',           'Others decide']\n",
      "Length: 6, dtype: string\n"
     ]
    },
    {
     "data": {
      "text/markdown": [
       "#### **column:** Earning frequency ----- **dtype**: string"
      ],
      "text/plain": [
       "<IPython.core.display.Markdown object>"
      ]
     },
     "metadata": {},
     "output_type": "display_data"
    },
    {
     "data": {
      "text/markdown": [
       "##### Before clean applied"
      ],
      "text/plain": [
       "<IPython.core.display.Markdown object>"
      ]
     },
     "metadata": {},
     "output_type": "display_data"
    },
    {
     "name": "stdout",
     "output_type": "stream",
     "text": [
      "<StringArray>\n",
      "[    'Work unpaid',           'Daily', 'When I get work',         'Monthly',\n",
      " 'Weekly/biweekly',     'I dont work']\n",
      "Length: 6, dtype: string\n"
     ]
    },
    {
     "data": {
      "text/markdown": [
       "##### After clean applied"
      ],
      "text/plain": [
       "<IPython.core.display.Markdown object>"
      ]
     },
     "metadata": {},
     "output_type": "display_data"
    },
    {
     "name": "stdout",
     "output_type": "stream",
     "text": [
      "<StringArray>\n",
      "[    'Work unpaid',           'Daily', 'When I get work',         'Monthly',\n",
      " 'Weekly/Biweekly',    'I don’t work']\n",
      "Length: 6, dtype: string\n"
     ]
    },
    {
     "data": {
      "text/markdown": [
       "#### **column:** Spending decision maker ----- **dtype**: string"
      ],
      "text/plain": [
       "<IPython.core.display.Markdown object>"
      ]
     },
     "metadata": {},
     "output_type": "display_data"
    },
    {
     "data": {
      "text/markdown": [
       "##### Before clean applied"
      ],
      "text/plain": [
       "<IPython.core.display.Markdown object>"
      ]
     },
     "metadata": {},
     "output_type": "display_data"
    },
    {
     "name": "stdout",
     "output_type": "stream",
     "text": [
      "<StringArray>\n",
      "['Fully on own', 'Help from someone else', 'Someone else decides for me']\n",
      "Length: 3, dtype: string\n"
     ]
    },
    {
     "data": {
      "text/markdown": [
       "##### After clean applied"
      ],
      "text/plain": [
       "<IPython.core.display.Markdown object>"
      ]
     },
     "metadata": {},
     "output_type": "display_data"
    },
    {
     "name": "stdout",
     "output_type": "stream",
     "text": [
      "<StringArray>\n",
      "['Fully on own', 'Help from someone else', 'Someone else decides']\n",
      "Length: 3, dtype: string\n"
     ]
    },
    {
     "data": {
      "text/markdown": [
       "#### **column:** Permission to work ----- **dtype**: string"
      ],
      "text/plain": [
       "<IPython.core.display.Markdown object>"
      ]
     },
     "metadata": {},
     "output_type": "display_data"
    },
    {
     "data": {
      "text/markdown": [
       "##### Before clean applied"
      ],
      "text/plain": [
       "<IPython.core.display.Markdown object>"
      ]
     },
     "metadata": {},
     "output_type": "display_data"
    },
    {
     "name": "stdout",
     "output_type": "stream",
     "text": [
      "<StringArray>\n",
      "['Yes', 'Already working', 'No']\n",
      "Length: 3, dtype: string\n"
     ]
    },
    {
     "data": {
      "text/markdown": [
       "##### After clean applied"
      ],
      "text/plain": [
       "<IPython.core.display.Markdown object>"
      ]
     },
     "metadata": {},
     "output_type": "display_data"
    },
    {
     "name": "stdout",
     "output_type": "stream",
     "text": [
      "<StringArray>\n",
      "['Yes', 'Already working', 'No']\n",
      "Length: 3, dtype: string\n"
     ]
    },
    {
     "data": {
      "text/markdown": [
       "#### **column:** Main income earner ----- **dtype**: string"
      ],
      "text/plain": [
       "<IPython.core.display.Markdown object>"
      ]
     },
     "metadata": {},
     "output_type": "display_data"
    },
    {
     "data": {
      "text/markdown": [
       "##### Before clean applied"
      ],
      "text/plain": [
       "<IPython.core.display.Markdown object>"
      ]
     },
     "metadata": {},
     "output_type": "display_data"
    },
    {
     "name": "stdout",
     "output_type": "stream",
     "text": [
      "<StringArray>\n",
      "['other fam', 'respondent', 'other', 'spouse', 'dont know']\n",
      "Length: 5, dtype: string\n"
     ]
    },
    {
     "data": {
      "text/markdown": [
       "##### After clean applied"
      ],
      "text/plain": [
       "<IPython.core.display.Markdown object>"
      ]
     },
     "metadata": {},
     "output_type": "display_data"
    },
    {
     "name": "stdout",
     "output_type": "stream",
     "text": [
      "<StringArray>\n",
      "['Other fam', 'Respondent', 'Other', 'Spouse', 'Don’t know']\n",
      "Length: 5, dtype: string\n"
     ]
    },
    {
     "data": {
      "text/markdown": [
       "#### **column:** Migrant worker identity ----- **dtype**: string"
      ],
      "text/plain": [
       "<IPython.core.display.Markdown object>"
      ]
     },
     "metadata": {},
     "output_type": "display_data"
    },
    {
     "data": {
      "text/markdown": [
       "##### Before clean applied"
      ],
      "text/plain": [
       "<IPython.core.display.Markdown object>"
      ]
     },
     "metadata": {},
     "output_type": "display_data"
    },
    {
     "name": "stdout",
     "output_type": "stream",
     "text": [
      "<StringArray>\n",
      "['No-one, all live together', 'Other family', 'Spouse', 'Me']\n",
      "Length: 4, dtype: string\n"
     ]
    },
    {
     "data": {
      "text/markdown": [
       "##### After clean applied"
      ],
      "text/plain": [
       "<IPython.core.display.Markdown object>"
      ]
     },
     "metadata": {},
     "output_type": "display_data"
    },
    {
     "name": "stdout",
     "output_type": "stream",
     "text": [
      "<StringArray>\n",
      "['No-one, all live together', 'Other family', 'Spouse', 'Me']\n",
      "Length: 4, dtype: string\n"
     ]
    },
    {
     "data": {
      "text/markdown": [
       "#### **column:** Possibility to raise 1/20 GNI (Gross National Income) ----- **dtype**: string"
      ],
      "text/plain": [
       "<IPython.core.display.Markdown object>"
      ]
     },
     "metadata": {},
     "output_type": "display_data"
    },
    {
     "data": {
      "text/markdown": [
       "##### Before clean applied"
      ],
      "text/plain": [
       "<IPython.core.display.Markdown object>"
      ]
     },
     "metadata": {},
     "output_type": "display_data"
    },
    {
     "name": "stdout",
     "output_type": "stream",
     "text": [
      "<StringArray>\n",
      "[      'Very possible', 'Not at all possible',   'Somewhat possible',\n",
      "   'Not very possible']\n",
      "Length: 4, dtype: string\n"
     ]
    },
    {
     "data": {
      "text/markdown": [
       "##### After clean applied"
      ],
      "text/plain": [
       "<IPython.core.display.Markdown object>"
      ]
     },
     "metadata": {},
     "output_type": "display_data"
    },
    {
     "name": "stdout",
     "output_type": "stream",
     "text": [
      "<StringArray>\n",
      "[      'Very possible', 'Not at all possible',   'Somewhat possible',\n",
      "   'Not very possible']\n",
      "Length: 4, dtype: string\n"
     ]
    },
    {
     "data": {
      "text/markdown": [
       "#### **column:** Income frequency of spouse ----- **dtype**: string"
      ],
      "text/plain": [
       "<IPython.core.display.Markdown object>"
      ]
     },
     "metadata": {},
     "output_type": "display_data"
    },
    {
     "data": {
      "text/markdown": [
       "##### Before clean applied"
      ],
      "text/plain": [
       "<IPython.core.display.Markdown object>"
      ]
     },
     "metadata": {},
     "output_type": "display_data"
    },
    {
     "name": "stdout",
     "output_type": "stream",
     "text": [
      "<StringArray>\n",
      "[             'Daily',          'dont know',          'no spouse',\n",
      "            'Monthly',    'Weekly/biweekly',          'dont work',\n",
      " 'When they get work',        'Work unpaid']\n",
      "Length: 8, dtype: string\n"
     ]
    },
    {
     "data": {
      "text/markdown": [
       "##### After clean applied"
      ],
      "text/plain": [
       "<IPython.core.display.Markdown object>"
      ]
     },
     "metadata": {},
     "output_type": "display_data"
    },
    {
     "name": "stdout",
     "output_type": "stream",
     "text": [
      "<StringArray>\n",
      "[             'Daily',         'Don’t know',          'No spouse',\n",
      "            'Monthly',    'Weekly/Biweekly',         'Don’t work',\n",
      " 'When they get work',        'Work unpaid']\n",
      "Length: 8, dtype: string\n"
     ]
    },
    {
     "data": {
      "text/markdown": [
       "#### **column:** Allow spouse to work ----- **dtype**: string"
      ],
      "text/plain": [
       "<IPython.core.display.Markdown object>"
      ]
     },
     "metadata": {},
     "output_type": "display_data"
    },
    {
     "data": {
      "text/markdown": [
       "##### Before clean applied"
      ],
      "text/plain": [
       "<IPython.core.display.Markdown object>"
      ]
     },
     "metadata": {},
     "output_type": "display_data"
    },
    {
     "name": "stdout",
     "output_type": "stream",
     "text": [
      "<StringArray>\n",
      "['Yes', 'Not married', 'No']\n",
      "Length: 3, dtype: string\n"
     ]
    },
    {
     "data": {
      "text/markdown": [
       "##### After clean applied"
      ],
      "text/plain": [
       "<IPython.core.display.Markdown object>"
      ]
     },
     "metadata": {},
     "output_type": "display_data"
    },
    {
     "name": "stdout",
     "output_type": "stream",
     "text": [
      "<StringArray>\n",
      "['Yes', 'Not married', 'No']\n",
      "Length: 3, dtype: string\n"
     ]
    },
    {
     "data": {
      "text/markdown": [
       "## tza2020"
      ],
      "text/plain": [
       "<IPython.core.display.Markdown object>"
      ]
     },
     "metadata": {},
     "output_type": "display_data"
    },
    {
     "data": {
      "text/html": [
       "<div>\n",
       "<style scoped>\n",
       "    .dataframe tbody tr th:only-of-type {\n",
       "        vertical-align: middle;\n",
       "    }\n",
       "\n",
       "    .dataframe tbody tr th {\n",
       "        vertical-align: top;\n",
       "    }\n",
       "\n",
       "    .dataframe thead th {\n",
       "        text-align: right;\n",
       "    }\n",
       "</style>\n",
       "<table border=\"1\" class=\"dataframe\">\n",
       "  <thead>\n",
       "    <tr style=\"text-align: right;\">\n",
       "      <th></th>\n",
       "      <th>InstanceID</th>\n",
       "      <th>finalweight</th>\n",
       "      <th>Gender</th>\n",
       "      <th>Marital / relationship status</th>\n",
       "      <th>Urbanicity</th>\n",
       "      <th>Age Group</th>\n",
       "      <th>Education</th>\n",
       "      <th>Swahili literacy</th>\n",
       "      <th>Own a phone</th>\n",
       "      <th>$2.50 PPP Poverty line</th>\n",
       "      <th>Language of interview</th>\n",
       "      <th>Main language</th>\n",
       "      <th>Mean household size</th>\n",
       "      <th>Province / Region</th>\n",
       "      <th>Phone ownership</th>\n",
       "      <th>Independent phone use</th>\n",
       "      <th>Informal financial usage</th>\n",
       "      <th>Mobile Money</th>\n",
       "      <th>Bank</th>\n",
       "      <th>Permission to open bank</th>\n",
       "      <th>Money taken from account</th>\n",
       "      <th>Savings goal decision maker</th>\n",
       "      <th>Savings goal influence</th>\n",
       "      <th>Land ownership</th>\n",
       "      <th>Land decision maker</th>\n",
       "      <th>Children decision maker</th>\n",
       "      <th>Earning frequency</th>\n",
       "      <th>Spending decision maker</th>\n",
       "      <th>Permission to work</th>\n",
       "      <th>Main income earner</th>\n",
       "      <th>Migrant worker identity</th>\n",
       "      <th>Possibility to raise 1/20 GNI (Gross National Income)</th>\n",
       "      <th>Income frequency of spouse</th>\n",
       "      <th>Allow spouse to work</th>\n",
       "    </tr>\n",
       "  </thead>\n",
       "  <tbody>\n",
       "    <tr>\n",
       "      <th>0</th>\n",
       "      <td>427138</td>\n",
       "      <td>7590.642044</td>\n",
       "      <td>Female</td>\n",
       "      <td>Married/relationship</td>\n",
       "      <td>Urban</td>\n",
       "      <td>25-34</td>\n",
       "      <td>Primary Education</td>\n",
       "      <td>Excellent</td>\n",
       "      <td>own phone</td>\n",
       "      <td>above poverty line</td>\n",
       "      <td>Swahili</td>\n",
       "      <td>Swahili</td>\n",
       "      <td>Below mean size</td>\n",
       "      <td>Dar es Salaam</td>\n",
       "      <td>own phone/business/employer</td>\n",
       "      <td>Yes</td>\n",
       "      <td>no</td>\n",
       "      <td>Yes</td>\n",
       "      <td>own</td>\n",
       "      <td>no</td>\n",
       "      <td>money not taken</td>\n",
       "      <td>self alone</td>\n",
       "      <td>always accepted</td>\n",
       "      <td>dont own</td>\n",
       "      <td>dont own land</td>\n",
       "      <td>decide together</td>\n",
       "      <td>Daily</td>\n",
       "      <td>Fully on own</td>\n",
       "      <td>Already working</td>\n",
       "      <td>respondent</td>\n",
       "      <td>Spouse</td>\n",
       "      <td>Somewhat possible</td>\n",
       "      <td>Weekly/biweekly</td>\n",
       "      <td>Yes</td>\n",
       "    </tr>\n",
       "    <tr>\n",
       "      <th>1</th>\n",
       "      <td>427140</td>\n",
       "      <td>5770.581580</td>\n",
       "      <td>Female</td>\n",
       "      <td>Not married/relationship</td>\n",
       "      <td>Urban</td>\n",
       "      <td>18-24</td>\n",
       "      <td>Secondary education</td>\n",
       "      <td>Excellent</td>\n",
       "      <td>own phone</td>\n",
       "      <td>below poverty line</td>\n",
       "      <td>Swahili</td>\n",
       "      <td>Swahili</td>\n",
       "      <td>Above mean size</td>\n",
       "      <td>Dar es Salaam</td>\n",
       "      <td>own phone/business/employer</td>\n",
       "      <td>Yes</td>\n",
       "      <td>no</td>\n",
       "      <td>Yes</td>\n",
       "      <td>unbanked</td>\n",
       "      <td>no</td>\n",
       "      <td>money not taken</td>\n",
       "      <td>no savings goal</td>\n",
       "      <td>no savings goal</td>\n",
       "      <td>dont own</td>\n",
       "      <td>dont own land</td>\n",
       "      <td>Not in relationship</td>\n",
       "      <td>I dont work</td>\n",
       "      <td>Fully on own</td>\n",
       "      <td>Yes</td>\n",
       "      <td>other fam</td>\n",
       "      <td>Other family</td>\n",
       "      <td>Somewhat possible</td>\n",
       "      <td>no spouse</td>\n",
       "      <td>Not married</td>\n",
       "    </tr>\n",
       "  </tbody>\n",
       "</table>\n",
       "</div>"
      ],
      "text/plain": [
       "   InstanceID  finalweight  Gender Marital / relationship status Urbanicity  \\\n",
       "0      427138  7590.642044  Female          Married/relationship      Urban   \n",
       "1      427140  5770.581580  Female      Not married/relationship      Urban   \n",
       "\n",
       "  Age Group            Education Swahili literacy Own a phone  \\\n",
       "0     25-34    Primary Education        Excellent   own phone   \n",
       "1     18-24  Secondary education        Excellent   own phone   \n",
       "\n",
       "  $2.50 PPP Poverty line Language of interview Main language  \\\n",
       "0     above poverty line               Swahili       Swahili   \n",
       "1     below poverty line               Swahili       Swahili   \n",
       "\n",
       "  Mean household size Province / Region              Phone ownership  \\\n",
       "0     Below mean size     Dar es Salaam  own phone/business/employer   \n",
       "1     Above mean size     Dar es Salaam  own phone/business/employer   \n",
       "\n",
       "  Independent phone use Informal financial usage Mobile Money      Bank  \\\n",
       "0                   Yes                       no          Yes       own   \n",
       "1                   Yes                       no          Yes  unbanked   \n",
       "\n",
       "  Permission to open bank Money taken from account  \\\n",
       "0                      no          money not taken   \n",
       "1                      no          money not taken   \n",
       "\n",
       "  Savings goal decision maker Savings goal influence Land ownership  \\\n",
       "0                  self alone        always accepted       dont own   \n",
       "1             no savings goal        no savings goal       dont own   \n",
       "\n",
       "  Land decision maker Children decision maker Earning frequency  \\\n",
       "0       dont own land         decide together             Daily   \n",
       "1       dont own land     Not in relationship       I dont work   \n",
       "\n",
       "  Spending decision maker Permission to work Main income earner  \\\n",
       "0            Fully on own    Already working         respondent   \n",
       "1            Fully on own                Yes          other fam   \n",
       "\n",
       "  Migrant worker identity  \\\n",
       "0                  Spouse   \n",
       "1            Other family   \n",
       "\n",
       "  Possibility to raise 1/20 GNI (Gross National Income)  \\\n",
       "0                                  Somewhat possible      \n",
       "1                                  Somewhat possible      \n",
       "\n",
       "  Income frequency of spouse Allow spouse to work  \n",
       "0            Weekly/biweekly                  Yes  \n",
       "1                  no spouse          Not married  "
      ]
     },
     "metadata": {},
     "output_type": "display_data"
    },
    {
     "data": {
      "text/html": [
       "<div>\n",
       "<style scoped>\n",
       "    .dataframe tbody tr th:only-of-type {\n",
       "        vertical-align: middle;\n",
       "    }\n",
       "\n",
       "    .dataframe tbody tr th {\n",
       "        vertical-align: top;\n",
       "    }\n",
       "\n",
       "    .dataframe thead th {\n",
       "        text-align: right;\n",
       "    }\n",
       "</style>\n",
       "<table border=\"1\" class=\"dataframe\">\n",
       "  <thead>\n",
       "    <tr style=\"text-align: right;\">\n",
       "      <th></th>\n",
       "      <th>count</th>\n",
       "      <th>unique</th>\n",
       "      <th>top</th>\n",
       "      <th>freq</th>\n",
       "      <th>mean</th>\n",
       "      <th>std</th>\n",
       "      <th>min</th>\n",
       "      <th>25%</th>\n",
       "      <th>50%</th>\n",
       "      <th>75%</th>\n",
       "      <th>max</th>\n",
       "    </tr>\n",
       "  </thead>\n",
       "  <tbody>\n",
       "    <tr>\n",
       "      <th>InstanceID</th>\n",
       "      <td>3016</td>\n",
       "      <td>NaN</td>\n",
       "      <td>NaN</td>\n",
       "      <td>NaN</td>\n",
       "      <td>432994</td>\n",
       "      <td>2317.33</td>\n",
       "      <td>427138</td>\n",
       "      <td>431524</td>\n",
       "      <td>433202</td>\n",
       "      <td>434628</td>\n",
       "      <td>438248</td>\n",
       "    </tr>\n",
       "    <tr>\n",
       "      <th>finalweight</th>\n",
       "      <td>3016</td>\n",
       "      <td>NaN</td>\n",
       "      <td>NaN</td>\n",
       "      <td>NaN</td>\n",
       "      <td>7418.42</td>\n",
       "      <td>12459.1</td>\n",
       "      <td>11.3819</td>\n",
       "      <td>963.197</td>\n",
       "      <td>3422.78</td>\n",
       "      <td>9058.52</td>\n",
       "      <td>168821</td>\n",
       "    </tr>\n",
       "    <tr>\n",
       "      <th>Gender</th>\n",
       "      <td>3016</td>\n",
       "      <td>2</td>\n",
       "      <td>Female</td>\n",
       "      <td>1656</td>\n",
       "      <td>NaN</td>\n",
       "      <td>NaN</td>\n",
       "      <td>NaN</td>\n",
       "      <td>NaN</td>\n",
       "      <td>NaN</td>\n",
       "      <td>NaN</td>\n",
       "      <td>NaN</td>\n",
       "    </tr>\n",
       "    <tr>\n",
       "      <th>Marital / relationship status</th>\n",
       "      <td>3016</td>\n",
       "      <td>2</td>\n",
       "      <td>Married/relationship</td>\n",
       "      <td>2132</td>\n",
       "      <td>NaN</td>\n",
       "      <td>NaN</td>\n",
       "      <td>NaN</td>\n",
       "      <td>NaN</td>\n",
       "      <td>NaN</td>\n",
       "      <td>NaN</td>\n",
       "      <td>NaN</td>\n",
       "    </tr>\n",
       "    <tr>\n",
       "      <th>Urbanicity</th>\n",
       "      <td>3016</td>\n",
       "      <td>2</td>\n",
       "      <td>rural</td>\n",
       "      <td>1961</td>\n",
       "      <td>NaN</td>\n",
       "      <td>NaN</td>\n",
       "      <td>NaN</td>\n",
       "      <td>NaN</td>\n",
       "      <td>NaN</td>\n",
       "      <td>NaN</td>\n",
       "      <td>NaN</td>\n",
       "    </tr>\n",
       "    <tr>\n",
       "      <th>Age Group</th>\n",
       "      <td>3016</td>\n",
       "      <td>5</td>\n",
       "      <td>25-34</td>\n",
       "      <td>1089</td>\n",
       "      <td>NaN</td>\n",
       "      <td>NaN</td>\n",
       "      <td>NaN</td>\n",
       "      <td>NaN</td>\n",
       "      <td>NaN</td>\n",
       "      <td>NaN</td>\n",
       "      <td>NaN</td>\n",
       "    </tr>\n",
       "    <tr>\n",
       "      <th>Education</th>\n",
       "      <td>3016</td>\n",
       "      <td>4</td>\n",
       "      <td>Primary Education</td>\n",
       "      <td>1445</td>\n",
       "      <td>NaN</td>\n",
       "      <td>NaN</td>\n",
       "      <td>NaN</td>\n",
       "      <td>NaN</td>\n",
       "      <td>NaN</td>\n",
       "      <td>NaN</td>\n",
       "      <td>NaN</td>\n",
       "    </tr>\n",
       "    <tr>\n",
       "      <th>Swahili literacy</th>\n",
       "      <td>3016</td>\n",
       "      <td>5</td>\n",
       "      <td>Good</td>\n",
       "      <td>1550</td>\n",
       "      <td>NaN</td>\n",
       "      <td>NaN</td>\n",
       "      <td>NaN</td>\n",
       "      <td>NaN</td>\n",
       "      <td>NaN</td>\n",
       "      <td>NaN</td>\n",
       "      <td>NaN</td>\n",
       "    </tr>\n",
       "    <tr>\n",
       "      <th>Own a phone</th>\n",
       "      <td>3016</td>\n",
       "      <td>2</td>\n",
       "      <td>own phone</td>\n",
       "      <td>2425</td>\n",
       "      <td>NaN</td>\n",
       "      <td>NaN</td>\n",
       "      <td>NaN</td>\n",
       "      <td>NaN</td>\n",
       "      <td>NaN</td>\n",
       "      <td>NaN</td>\n",
       "      <td>NaN</td>\n",
       "    </tr>\n",
       "    <tr>\n",
       "      <th>$2.50 PPP Poverty line</th>\n",
       "      <td>3016</td>\n",
       "      <td>2</td>\n",
       "      <td>above poverty line</td>\n",
       "      <td>1708</td>\n",
       "      <td>NaN</td>\n",
       "      <td>NaN</td>\n",
       "      <td>NaN</td>\n",
       "      <td>NaN</td>\n",
       "      <td>NaN</td>\n",
       "      <td>NaN</td>\n",
       "      <td>NaN</td>\n",
       "    </tr>\n",
       "    <tr>\n",
       "      <th>Language of interview</th>\n",
       "      <td>3016</td>\n",
       "      <td>2</td>\n",
       "      <td>Swahili</td>\n",
       "      <td>3008</td>\n",
       "      <td>NaN</td>\n",
       "      <td>NaN</td>\n",
       "      <td>NaN</td>\n",
       "      <td>NaN</td>\n",
       "      <td>NaN</td>\n",
       "      <td>NaN</td>\n",
       "      <td>NaN</td>\n",
       "    </tr>\n",
       "    <tr>\n",
       "      <th>Main language</th>\n",
       "      <td>3016</td>\n",
       "      <td>24</td>\n",
       "      <td>Swahili</td>\n",
       "      <td>2297</td>\n",
       "      <td>NaN</td>\n",
       "      <td>NaN</td>\n",
       "      <td>NaN</td>\n",
       "      <td>NaN</td>\n",
       "      <td>NaN</td>\n",
       "      <td>NaN</td>\n",
       "      <td>NaN</td>\n",
       "    </tr>\n",
       "    <tr>\n",
       "      <th>Mean household size</th>\n",
       "      <td>3016</td>\n",
       "      <td>3</td>\n",
       "      <td>Below mean size</td>\n",
       "      <td>2152</td>\n",
       "      <td>NaN</td>\n",
       "      <td>NaN</td>\n",
       "      <td>NaN</td>\n",
       "      <td>NaN</td>\n",
       "      <td>NaN</td>\n",
       "      <td>NaN</td>\n",
       "      <td>NaN</td>\n",
       "    </tr>\n",
       "    <tr>\n",
       "      <th>Province / Region</th>\n",
       "      <td>3016</td>\n",
       "      <td>30</td>\n",
       "      <td>Dar es Salaam</td>\n",
       "      <td>364</td>\n",
       "      <td>NaN</td>\n",
       "      <td>NaN</td>\n",
       "      <td>NaN</td>\n",
       "      <td>NaN</td>\n",
       "      <td>NaN</td>\n",
       "      <td>NaN</td>\n",
       "      <td>NaN</td>\n",
       "    </tr>\n",
       "    <tr>\n",
       "      <th>Phone ownership</th>\n",
       "      <td>3016</td>\n",
       "      <td>7</td>\n",
       "      <td>own phone/business/employer</td>\n",
       "      <td>2425</td>\n",
       "      <td>NaN</td>\n",
       "      <td>NaN</td>\n",
       "      <td>NaN</td>\n",
       "      <td>NaN</td>\n",
       "      <td>NaN</td>\n",
       "      <td>NaN</td>\n",
       "      <td>NaN</td>\n",
       "    </tr>\n",
       "    <tr>\n",
       "      <th>Independent phone use</th>\n",
       "      <td>3016</td>\n",
       "      <td>3</td>\n",
       "      <td>Yes</td>\n",
       "      <td>2448</td>\n",
       "      <td>NaN</td>\n",
       "      <td>NaN</td>\n",
       "      <td>NaN</td>\n",
       "      <td>NaN</td>\n",
       "      <td>NaN</td>\n",
       "      <td>NaN</td>\n",
       "      <td>NaN</td>\n",
       "    </tr>\n",
       "    <tr>\n",
       "      <th>Informal financial usage</th>\n",
       "      <td>3016</td>\n",
       "      <td>2</td>\n",
       "      <td>no</td>\n",
       "      <td>2491</td>\n",
       "      <td>NaN</td>\n",
       "      <td>NaN</td>\n",
       "      <td>NaN</td>\n",
       "      <td>NaN</td>\n",
       "      <td>NaN</td>\n",
       "      <td>NaN</td>\n",
       "      <td>NaN</td>\n",
       "    </tr>\n",
       "    <tr>\n",
       "      <th>Mobile Money</th>\n",
       "      <td>3016</td>\n",
       "      <td>2</td>\n",
       "      <td>Yes</td>\n",
       "      <td>2656</td>\n",
       "      <td>NaN</td>\n",
       "      <td>NaN</td>\n",
       "      <td>NaN</td>\n",
       "      <td>NaN</td>\n",
       "      <td>NaN</td>\n",
       "      <td>NaN</td>\n",
       "      <td>NaN</td>\n",
       "    </tr>\n",
       "    <tr>\n",
       "      <th>Bank</th>\n",
       "      <td>3016</td>\n",
       "      <td>5</td>\n",
       "      <td>unbanked</td>\n",
       "      <td>2415</td>\n",
       "      <td>NaN</td>\n",
       "      <td>NaN</td>\n",
       "      <td>NaN</td>\n",
       "      <td>NaN</td>\n",
       "      <td>NaN</td>\n",
       "      <td>NaN</td>\n",
       "      <td>NaN</td>\n",
       "    </tr>\n",
       "    <tr>\n",
       "      <th>Permission to open bank</th>\n",
       "      <td>3016</td>\n",
       "      <td>2</td>\n",
       "      <td>no</td>\n",
       "      <td>2508</td>\n",
       "      <td>NaN</td>\n",
       "      <td>NaN</td>\n",
       "      <td>NaN</td>\n",
       "      <td>NaN</td>\n",
       "      <td>NaN</td>\n",
       "      <td>NaN</td>\n",
       "      <td>NaN</td>\n",
       "    </tr>\n",
       "    <tr>\n",
       "      <th>Money taken from account</th>\n",
       "      <td>3016</td>\n",
       "      <td>3</td>\n",
       "      <td>money not taken</td>\n",
       "      <td>2570</td>\n",
       "      <td>NaN</td>\n",
       "      <td>NaN</td>\n",
       "      <td>NaN</td>\n",
       "      <td>NaN</td>\n",
       "      <td>NaN</td>\n",
       "      <td>NaN</td>\n",
       "      <td>NaN</td>\n",
       "    </tr>\n",
       "    <tr>\n",
       "      <th>Savings goal decision maker</th>\n",
       "      <td>3016</td>\n",
       "      <td>4</td>\n",
       "      <td>self alone</td>\n",
       "      <td>1666</td>\n",
       "      <td>NaN</td>\n",
       "      <td>NaN</td>\n",
       "      <td>NaN</td>\n",
       "      <td>NaN</td>\n",
       "      <td>NaN</td>\n",
       "      <td>NaN</td>\n",
       "      <td>NaN</td>\n",
       "    </tr>\n",
       "    <tr>\n",
       "      <th>Savings goal influence</th>\n",
       "      <td>3016</td>\n",
       "      <td>5</td>\n",
       "      <td>always accepted</td>\n",
       "      <td>1202</td>\n",
       "      <td>NaN</td>\n",
       "      <td>NaN</td>\n",
       "      <td>NaN</td>\n",
       "      <td>NaN</td>\n",
       "      <td>NaN</td>\n",
       "      <td>NaN</td>\n",
       "      <td>NaN</td>\n",
       "    </tr>\n",
       "    <tr>\n",
       "      <th>Land ownership</th>\n",
       "      <td>3016</td>\n",
       "      <td>3</td>\n",
       "      <td>dont own</td>\n",
       "      <td>1546</td>\n",
       "      <td>NaN</td>\n",
       "      <td>NaN</td>\n",
       "      <td>NaN</td>\n",
       "      <td>NaN</td>\n",
       "      <td>NaN</td>\n",
       "      <td>NaN</td>\n",
       "      <td>NaN</td>\n",
       "    </tr>\n",
       "    <tr>\n",
       "      <th>Land decision maker</th>\n",
       "      <td>3016</td>\n",
       "      <td>4</td>\n",
       "      <td>dont own land</td>\n",
       "      <td>1546</td>\n",
       "      <td>NaN</td>\n",
       "      <td>NaN</td>\n",
       "      <td>NaN</td>\n",
       "      <td>NaN</td>\n",
       "      <td>NaN</td>\n",
       "      <td>NaN</td>\n",
       "      <td>NaN</td>\n",
       "    </tr>\n",
       "    <tr>\n",
       "      <th>Children decision maker</th>\n",
       "      <td>3016</td>\n",
       "      <td>6</td>\n",
       "      <td>decide together</td>\n",
       "      <td>1124</td>\n",
       "      <td>NaN</td>\n",
       "      <td>NaN</td>\n",
       "      <td>NaN</td>\n",
       "      <td>NaN</td>\n",
       "      <td>NaN</td>\n",
       "      <td>NaN</td>\n",
       "      <td>NaN</td>\n",
       "    </tr>\n",
       "    <tr>\n",
       "      <th>Earning frequency</th>\n",
       "      <td>3016</td>\n",
       "      <td>6</td>\n",
       "      <td>When I get work</td>\n",
       "      <td>1049</td>\n",
       "      <td>NaN</td>\n",
       "      <td>NaN</td>\n",
       "      <td>NaN</td>\n",
       "      <td>NaN</td>\n",
       "      <td>NaN</td>\n",
       "      <td>NaN</td>\n",
       "      <td>NaN</td>\n",
       "    </tr>\n",
       "    <tr>\n",
       "      <th>Spending decision maker</th>\n",
       "      <td>3016</td>\n",
       "      <td>3</td>\n",
       "      <td>Fully on own</td>\n",
       "      <td>2686</td>\n",
       "      <td>NaN</td>\n",
       "      <td>NaN</td>\n",
       "      <td>NaN</td>\n",
       "      <td>NaN</td>\n",
       "      <td>NaN</td>\n",
       "      <td>NaN</td>\n",
       "      <td>NaN</td>\n",
       "    </tr>\n",
       "    <tr>\n",
       "      <th>Permission to work</th>\n",
       "      <td>3016</td>\n",
       "      <td>3</td>\n",
       "      <td>Already working</td>\n",
       "      <td>2092</td>\n",
       "      <td>NaN</td>\n",
       "      <td>NaN</td>\n",
       "      <td>NaN</td>\n",
       "      <td>NaN</td>\n",
       "      <td>NaN</td>\n",
       "      <td>NaN</td>\n",
       "      <td>NaN</td>\n",
       "    </tr>\n",
       "    <tr>\n",
       "      <th>Main income earner</th>\n",
       "      <td>3016</td>\n",
       "      <td>6</td>\n",
       "      <td>respondent</td>\n",
       "      <td>1402</td>\n",
       "      <td>NaN</td>\n",
       "      <td>NaN</td>\n",
       "      <td>NaN</td>\n",
       "      <td>NaN</td>\n",
       "      <td>NaN</td>\n",
       "      <td>NaN</td>\n",
       "      <td>NaN</td>\n",
       "    </tr>\n",
       "    <tr>\n",
       "      <th>Migrant worker identity</th>\n",
       "      <td>3016</td>\n",
       "      <td>4</td>\n",
       "      <td>No-one, all live together</td>\n",
       "      <td>1839</td>\n",
       "      <td>NaN</td>\n",
       "      <td>NaN</td>\n",
       "      <td>NaN</td>\n",
       "      <td>NaN</td>\n",
       "      <td>NaN</td>\n",
       "      <td>NaN</td>\n",
       "      <td>NaN</td>\n",
       "    </tr>\n",
       "    <tr>\n",
       "      <th>Possibility to raise 1/20 GNI (Gross National Income)</th>\n",
       "      <td>3016</td>\n",
       "      <td>4</td>\n",
       "      <td>Somewhat possible</td>\n",
       "      <td>972</td>\n",
       "      <td>NaN</td>\n",
       "      <td>NaN</td>\n",
       "      <td>NaN</td>\n",
       "      <td>NaN</td>\n",
       "      <td>NaN</td>\n",
       "      <td>NaN</td>\n",
       "      <td>NaN</td>\n",
       "    </tr>\n",
       "    <tr>\n",
       "      <th>Income frequency of spouse</th>\n",
       "      <td>3016</td>\n",
       "      <td>8</td>\n",
       "      <td>no spouse</td>\n",
       "      <td>884</td>\n",
       "      <td>NaN</td>\n",
       "      <td>NaN</td>\n",
       "      <td>NaN</td>\n",
       "      <td>NaN</td>\n",
       "      <td>NaN</td>\n",
       "      <td>NaN</td>\n",
       "      <td>NaN</td>\n",
       "    </tr>\n",
       "    <tr>\n",
       "      <th>Allow spouse to work</th>\n",
       "      <td>3016</td>\n",
       "      <td>3</td>\n",
       "      <td>Yes</td>\n",
       "      <td>1917</td>\n",
       "      <td>NaN</td>\n",
       "      <td>NaN</td>\n",
       "      <td>NaN</td>\n",
       "      <td>NaN</td>\n",
       "      <td>NaN</td>\n",
       "      <td>NaN</td>\n",
       "      <td>NaN</td>\n",
       "    </tr>\n",
       "  </tbody>\n",
       "</table>\n",
       "</div>"
      ],
      "text/plain": [
       "                                                   count unique  \\\n",
       "InstanceID                                          3016    NaN   \n",
       "finalweight                                         3016    NaN   \n",
       "Gender                                              3016      2   \n",
       "Marital / relationship status                       3016      2   \n",
       "Urbanicity                                          3016      2   \n",
       "Age Group                                           3016      5   \n",
       "Education                                           3016      4   \n",
       "Swahili literacy                                    3016      5   \n",
       "Own a phone                                         3016      2   \n",
       "$2.50 PPP Poverty line                              3016      2   \n",
       "Language of interview                               3016      2   \n",
       "Main language                                       3016     24   \n",
       "Mean household size                                 3016      3   \n",
       "Province / Region                                   3016     30   \n",
       "Phone ownership                                     3016      7   \n",
       "Independent phone use                               3016      3   \n",
       "Informal financial usage                            3016      2   \n",
       "Mobile Money                                        3016      2   \n",
       "Bank                                                3016      5   \n",
       "Permission to open bank                             3016      2   \n",
       "Money taken from account                            3016      3   \n",
       "Savings goal decision maker                         3016      4   \n",
       "Savings goal influence                              3016      5   \n",
       "Land ownership                                      3016      3   \n",
       "Land decision maker                                 3016      4   \n",
       "Children decision maker                             3016      6   \n",
       "Earning frequency                                   3016      6   \n",
       "Spending decision maker                             3016      3   \n",
       "Permission to work                                  3016      3   \n",
       "Main income earner                                  3016      6   \n",
       "Migrant worker identity                             3016      4   \n",
       "Possibility to raise 1/20 GNI (Gross National I...  3016      4   \n",
       "Income frequency of spouse                          3016      8   \n",
       "Allow spouse to work                                3016      3   \n",
       "\n",
       "                                                                            top  \\\n",
       "InstanceID                                                                  NaN   \n",
       "finalweight                                                                 NaN   \n",
       "Gender                                                                   Female   \n",
       "Marital / relationship status                              Married/relationship   \n",
       "Urbanicity                                                                rural   \n",
       "Age Group                                                                 25-34   \n",
       "Education                                                     Primary Education   \n",
       "Swahili literacy                                                           Good   \n",
       "Own a phone                                                           own phone   \n",
       "$2.50 PPP Poverty line                                       above poverty line   \n",
       "Language of interview                                                   Swahili   \n",
       "Main language                                                           Swahili   \n",
       "Mean household size                                             Below mean size   \n",
       "Province / Region                                                 Dar es Salaam   \n",
       "Phone ownership                                     own phone/business/employer   \n",
       "Independent phone use                                                       Yes   \n",
       "Informal financial usage                                                     no   \n",
       "Mobile Money                                                                Yes   \n",
       "Bank                                                                   unbanked   \n",
       "Permission to open bank                                                      no   \n",
       "Money taken from account                                        money not taken   \n",
       "Savings goal decision maker                                          self alone   \n",
       "Savings goal influence                                          always accepted   \n",
       "Land ownership                                                         dont own   \n",
       "Land decision maker                                               dont own land   \n",
       "Children decision maker                                         decide together   \n",
       "Earning frequency                                               When I get work   \n",
       "Spending decision maker                                            Fully on own   \n",
       "Permission to work                                              Already working   \n",
       "Main income earner                                                   respondent   \n",
       "Migrant worker identity                               No-one, all live together   \n",
       "Possibility to raise 1/20 GNI (Gross National I...            Somewhat possible   \n",
       "Income frequency of spouse                                            no spouse   \n",
       "Allow spouse to work                                                        Yes   \n",
       "\n",
       "                                                    freq     mean      std  \\\n",
       "InstanceID                                           NaN   432994  2317.33   \n",
       "finalweight                                          NaN  7418.42  12459.1   \n",
       "Gender                                              1656      NaN      NaN   \n",
       "Marital / relationship status                       2132      NaN      NaN   \n",
       "Urbanicity                                          1961      NaN      NaN   \n",
       "Age Group                                           1089      NaN      NaN   \n",
       "Education                                           1445      NaN      NaN   \n",
       "Swahili literacy                                    1550      NaN      NaN   \n",
       "Own a phone                                         2425      NaN      NaN   \n",
       "$2.50 PPP Poverty line                              1708      NaN      NaN   \n",
       "Language of interview                               3008      NaN      NaN   \n",
       "Main language                                       2297      NaN      NaN   \n",
       "Mean household size                                 2152      NaN      NaN   \n",
       "Province / Region                                    364      NaN      NaN   \n",
       "Phone ownership                                     2425      NaN      NaN   \n",
       "Independent phone use                               2448      NaN      NaN   \n",
       "Informal financial usage                            2491      NaN      NaN   \n",
       "Mobile Money                                        2656      NaN      NaN   \n",
       "Bank                                                2415      NaN      NaN   \n",
       "Permission to open bank                             2508      NaN      NaN   \n",
       "Money taken from account                            2570      NaN      NaN   \n",
       "Savings goal decision maker                         1666      NaN      NaN   \n",
       "Savings goal influence                              1202      NaN      NaN   \n",
       "Land ownership                                      1546      NaN      NaN   \n",
       "Land decision maker                                 1546      NaN      NaN   \n",
       "Children decision maker                             1124      NaN      NaN   \n",
       "Earning frequency                                   1049      NaN      NaN   \n",
       "Spending decision maker                             2686      NaN      NaN   \n",
       "Permission to work                                  2092      NaN      NaN   \n",
       "Main income earner                                  1402      NaN      NaN   \n",
       "Migrant worker identity                             1839      NaN      NaN   \n",
       "Possibility to raise 1/20 GNI (Gross National I...   972      NaN      NaN   \n",
       "Income frequency of spouse                           884      NaN      NaN   \n",
       "Allow spouse to work                                1917      NaN      NaN   \n",
       "\n",
       "                                                        min      25%      50%  \\\n",
       "InstanceID                                           427138   431524   433202   \n",
       "finalweight                                         11.3819  963.197  3422.78   \n",
       "Gender                                                  NaN      NaN      NaN   \n",
       "Marital / relationship status                           NaN      NaN      NaN   \n",
       "Urbanicity                                              NaN      NaN      NaN   \n",
       "Age Group                                               NaN      NaN      NaN   \n",
       "Education                                               NaN      NaN      NaN   \n",
       "Swahili literacy                                        NaN      NaN      NaN   \n",
       "Own a phone                                             NaN      NaN      NaN   \n",
       "$2.50 PPP Poverty line                                  NaN      NaN      NaN   \n",
       "Language of interview                                   NaN      NaN      NaN   \n",
       "Main language                                           NaN      NaN      NaN   \n",
       "Mean household size                                     NaN      NaN      NaN   \n",
       "Province / Region                                       NaN      NaN      NaN   \n",
       "Phone ownership                                         NaN      NaN      NaN   \n",
       "Independent phone use                                   NaN      NaN      NaN   \n",
       "Informal financial usage                                NaN      NaN      NaN   \n",
       "Mobile Money                                            NaN      NaN      NaN   \n",
       "Bank                                                    NaN      NaN      NaN   \n",
       "Permission to open bank                                 NaN      NaN      NaN   \n",
       "Money taken from account                                NaN      NaN      NaN   \n",
       "Savings goal decision maker                             NaN      NaN      NaN   \n",
       "Savings goal influence                                  NaN      NaN      NaN   \n",
       "Land ownership                                          NaN      NaN      NaN   \n",
       "Land decision maker                                     NaN      NaN      NaN   \n",
       "Children decision maker                                 NaN      NaN      NaN   \n",
       "Earning frequency                                       NaN      NaN      NaN   \n",
       "Spending decision maker                                 NaN      NaN      NaN   \n",
       "Permission to work                                      NaN      NaN      NaN   \n",
       "Main income earner                                      NaN      NaN      NaN   \n",
       "Migrant worker identity                                 NaN      NaN      NaN   \n",
       "Possibility to raise 1/20 GNI (Gross National I...      NaN      NaN      NaN   \n",
       "Income frequency of spouse                              NaN      NaN      NaN   \n",
       "Allow spouse to work                                    NaN      NaN      NaN   \n",
       "\n",
       "                                                        75%     max  \n",
       "InstanceID                                           434628  438248  \n",
       "finalweight                                         9058.52  168821  \n",
       "Gender                                                  NaN     NaN  \n",
       "Marital / relationship status                           NaN     NaN  \n",
       "Urbanicity                                              NaN     NaN  \n",
       "Age Group                                               NaN     NaN  \n",
       "Education                                               NaN     NaN  \n",
       "Swahili literacy                                        NaN     NaN  \n",
       "Own a phone                                             NaN     NaN  \n",
       "$2.50 PPP Poverty line                                  NaN     NaN  \n",
       "Language of interview                                   NaN     NaN  \n",
       "Main language                                           NaN     NaN  \n",
       "Mean household size                                     NaN     NaN  \n",
       "Province / Region                                       NaN     NaN  \n",
       "Phone ownership                                         NaN     NaN  \n",
       "Independent phone use                                   NaN     NaN  \n",
       "Informal financial usage                                NaN     NaN  \n",
       "Mobile Money                                            NaN     NaN  \n",
       "Bank                                                    NaN     NaN  \n",
       "Permission to open bank                                 NaN     NaN  \n",
       "Money taken from account                                NaN     NaN  \n",
       "Savings goal decision maker                             NaN     NaN  \n",
       "Savings goal influence                                  NaN     NaN  \n",
       "Land ownership                                          NaN     NaN  \n",
       "Land decision maker                                     NaN     NaN  \n",
       "Children decision maker                                 NaN     NaN  \n",
       "Earning frequency                                       NaN     NaN  \n",
       "Spending decision maker                                 NaN     NaN  \n",
       "Permission to work                                      NaN     NaN  \n",
       "Main income earner                                      NaN     NaN  \n",
       "Migrant worker identity                                 NaN     NaN  \n",
       "Possibility to raise 1/20 GNI (Gross National I...      NaN     NaN  \n",
       "Income frequency of spouse                              NaN     NaN  \n",
       "Allow spouse to work                                    NaN     NaN  "
      ]
     },
     "metadata": {},
     "output_type": "display_data"
    },
    {
     "data": {
      "text/markdown": [
       "### Columns descriptions"
      ],
      "text/plain": [
       "<IPython.core.display.Markdown object>"
      ]
     },
     "metadata": {},
     "output_type": "display_data"
    },
    {
     "data": {
      "text/markdown": [
       "#### **column:** InstanceID ----- **dtype**: Int64"
      ],
      "text/plain": [
       "<IPython.core.display.Markdown object>"
      ]
     },
     "metadata": {},
     "output_type": "display_data"
    },
    {
     "data": {
      "text/markdown": [
       "#### **column:** finalweight ----- **dtype**: float64"
      ],
      "text/plain": [
       "<IPython.core.display.Markdown object>"
      ]
     },
     "metadata": {},
     "output_type": "display_data"
    },
    {
     "data": {
      "text/markdown": [
       "#### **column:** Gender ----- **dtype**: string"
      ],
      "text/plain": [
       "<IPython.core.display.Markdown object>"
      ]
     },
     "metadata": {},
     "output_type": "display_data"
    },
    {
     "data": {
      "text/markdown": [
       "##### Before clean applied"
      ],
      "text/plain": [
       "<IPython.core.display.Markdown object>"
      ]
     },
     "metadata": {},
     "output_type": "display_data"
    },
    {
     "name": "stdout",
     "output_type": "stream",
     "text": [
      "<StringArray>\n",
      "['Female', 'Male']\n",
      "Length: 2, dtype: string\n"
     ]
    },
    {
     "data": {
      "text/markdown": [
       "##### After clean applied"
      ],
      "text/plain": [
       "<IPython.core.display.Markdown object>"
      ]
     },
     "metadata": {},
     "output_type": "display_data"
    },
    {
     "name": "stdout",
     "output_type": "stream",
     "text": [
      "<StringArray>\n",
      "['Female', 'Male']\n",
      "Length: 2, dtype: string\n"
     ]
    },
    {
     "data": {
      "text/markdown": [
       "#### **column:** Marital / relationship status ----- **dtype**: string"
      ],
      "text/plain": [
       "<IPython.core.display.Markdown object>"
      ]
     },
     "metadata": {},
     "output_type": "display_data"
    },
    {
     "data": {
      "text/markdown": [
       "##### Before clean applied"
      ],
      "text/plain": [
       "<IPython.core.display.Markdown object>"
      ]
     },
     "metadata": {},
     "output_type": "display_data"
    },
    {
     "name": "stdout",
     "output_type": "stream",
     "text": [
      "<StringArray>\n",
      "['Married/relationship', 'Not married/relationship']\n",
      "Length: 2, dtype: string\n"
     ]
    },
    {
     "data": {
      "text/markdown": [
       "##### After clean applied"
      ],
      "text/plain": [
       "<IPython.core.display.Markdown object>"
      ]
     },
     "metadata": {},
     "output_type": "display_data"
    },
    {
     "name": "stdout",
     "output_type": "stream",
     "text": [
      "<StringArray>\n",
      "['Married/Relationship', 'Not married/Relationship']\n",
      "Length: 2, dtype: string\n"
     ]
    },
    {
     "data": {
      "text/markdown": [
       "#### **column:** Urbanicity ----- **dtype**: string"
      ],
      "text/plain": [
       "<IPython.core.display.Markdown object>"
      ]
     },
     "metadata": {},
     "output_type": "display_data"
    },
    {
     "data": {
      "text/markdown": [
       "##### Before clean applied"
      ],
      "text/plain": [
       "<IPython.core.display.Markdown object>"
      ]
     },
     "metadata": {},
     "output_type": "display_data"
    },
    {
     "name": "stdout",
     "output_type": "stream",
     "text": [
      "<StringArray>\n",
      "['Urban', 'rural']\n",
      "Length: 2, dtype: string\n"
     ]
    },
    {
     "data": {
      "text/markdown": [
       "##### After clean applied"
      ],
      "text/plain": [
       "<IPython.core.display.Markdown object>"
      ]
     },
     "metadata": {},
     "output_type": "display_data"
    },
    {
     "name": "stdout",
     "output_type": "stream",
     "text": [
      "<StringArray>\n",
      "['Urban', 'Rural']\n",
      "Length: 2, dtype: string\n"
     ]
    },
    {
     "data": {
      "text/markdown": [
       "#### **column:** Age Group ----- **dtype**: string"
      ],
      "text/plain": [
       "<IPython.core.display.Markdown object>"
      ]
     },
     "metadata": {},
     "output_type": "display_data"
    },
    {
     "data": {
      "text/markdown": [
       "##### Before clean applied"
      ],
      "text/plain": [
       "<IPython.core.display.Markdown object>"
      ]
     },
     "metadata": {},
     "output_type": "display_data"
    },
    {
     "name": "stdout",
     "output_type": "stream",
     "text": [
      "<StringArray>\n",
      "['25-34', '18-24', '35-44', '45-54', '55+']\n",
      "Length: 5, dtype: string\n"
     ]
    },
    {
     "data": {
      "text/markdown": [
       "##### After clean applied"
      ],
      "text/plain": [
       "<IPython.core.display.Markdown object>"
      ]
     },
     "metadata": {},
     "output_type": "display_data"
    },
    {
     "name": "stdout",
     "output_type": "stream",
     "text": [
      "<StringArray>\n",
      "['25-34', '18-24', '35-44', '45-54', '55+']\n",
      "Length: 5, dtype: string\n"
     ]
    },
    {
     "data": {
      "text/markdown": [
       "#### **column:** Education ----- **dtype**: string"
      ],
      "text/plain": [
       "<IPython.core.display.Markdown object>"
      ]
     },
     "metadata": {},
     "output_type": "display_data"
    },
    {
     "data": {
      "text/markdown": [
       "##### Before clean applied"
      ],
      "text/plain": [
       "<IPython.core.display.Markdown object>"
      ]
     },
     "metadata": {},
     "output_type": "display_data"
    },
    {
     "name": "stdout",
     "output_type": "stream",
     "text": [
      "<StringArray>\n",
      "[  'Primary Education', 'Secondary education',    'Higher education',\n",
      " 'No formal education']\n",
      "Length: 4, dtype: string\n"
     ]
    },
    {
     "data": {
      "text/markdown": [
       "##### After clean applied"
      ],
      "text/plain": [
       "<IPython.core.display.Markdown object>"
      ]
     },
     "metadata": {},
     "output_type": "display_data"
    },
    {
     "name": "stdout",
     "output_type": "stream",
     "text": [
      "<StringArray>\n",
      "[  'Primary education', 'Secondary education',    'Higher education',\n",
      " 'No formal education']\n",
      "Length: 4, dtype: string\n"
     ]
    },
    {
     "data": {
      "text/markdown": [
       "#### **column:** Swahili literacy ----- **dtype**: string"
      ],
      "text/plain": [
       "<IPython.core.display.Markdown object>"
      ]
     },
     "metadata": {},
     "output_type": "display_data"
    },
    {
     "data": {
      "text/markdown": [
       "##### Before clean applied"
      ],
      "text/plain": [
       "<IPython.core.display.Markdown object>"
      ]
     },
     "metadata": {},
     "output_type": "display_data"
    },
    {
     "name": "stdout",
     "output_type": "stream",
     "text": [
      "<StringArray>\n",
      "['Excellent', 'Good', 'Fair', 'Not at all', 'Poorly']\n",
      "Length: 5, dtype: string\n"
     ]
    },
    {
     "data": {
      "text/markdown": [
       "##### After clean applied"
      ],
      "text/plain": [
       "<IPython.core.display.Markdown object>"
      ]
     },
     "metadata": {},
     "output_type": "display_data"
    },
    {
     "name": "stdout",
     "output_type": "stream",
     "text": [
      "<StringArray>\n",
      "['Excellent', 'Good', 'Fair', 'Not at all', 'Poorly']\n",
      "Length: 5, dtype: string\n"
     ]
    },
    {
     "data": {
      "text/markdown": [
       "#### **column:** Own a phone ----- **dtype**: string"
      ],
      "text/plain": [
       "<IPython.core.display.Markdown object>"
      ]
     },
     "metadata": {},
     "output_type": "display_data"
    },
    {
     "data": {
      "text/markdown": [
       "##### Before clean applied"
      ],
      "text/plain": [
       "<IPython.core.display.Markdown object>"
      ]
     },
     "metadata": {},
     "output_type": "display_data"
    },
    {
     "name": "stdout",
     "output_type": "stream",
     "text": [
      "<StringArray>\n",
      "['own phone', 'dont own phone']\n",
      "Length: 2, dtype: string\n"
     ]
    },
    {
     "data": {
      "text/markdown": [
       "##### After clean applied"
      ],
      "text/plain": [
       "<IPython.core.display.Markdown object>"
      ]
     },
     "metadata": {},
     "output_type": "display_data"
    },
    {
     "name": "stdout",
     "output_type": "stream",
     "text": [
      "<StringArray>\n",
      "['Own phone', 'Don’t own phone']\n",
      "Length: 2, dtype: string\n"
     ]
    },
    {
     "data": {
      "text/markdown": [
       "#### **column:** $2.50 PPP Poverty line ----- **dtype**: string"
      ],
      "text/plain": [
       "<IPython.core.display.Markdown object>"
      ]
     },
     "metadata": {},
     "output_type": "display_data"
    },
    {
     "data": {
      "text/markdown": [
       "##### Before clean applied"
      ],
      "text/plain": [
       "<IPython.core.display.Markdown object>"
      ]
     },
     "metadata": {},
     "output_type": "display_data"
    },
    {
     "name": "stdout",
     "output_type": "stream",
     "text": [
      "<StringArray>\n",
      "['above poverty line', 'below poverty line']\n",
      "Length: 2, dtype: string\n"
     ]
    },
    {
     "data": {
      "text/markdown": [
       "##### After clean applied"
      ],
      "text/plain": [
       "<IPython.core.display.Markdown object>"
      ]
     },
     "metadata": {},
     "output_type": "display_data"
    },
    {
     "name": "stdout",
     "output_type": "stream",
     "text": [
      "<StringArray>\n",
      "['Above poverty line', 'Below poverty line']\n",
      "Length: 2, dtype: string\n"
     ]
    },
    {
     "data": {
      "text/markdown": [
       "#### **column:** Language of interview ----- **dtype**: string"
      ],
      "text/plain": [
       "<IPython.core.display.Markdown object>"
      ]
     },
     "metadata": {},
     "output_type": "display_data"
    },
    {
     "data": {
      "text/markdown": [
       "##### Before clean applied"
      ],
      "text/plain": [
       "<IPython.core.display.Markdown object>"
      ]
     },
     "metadata": {},
     "output_type": "display_data"
    },
    {
     "name": "stdout",
     "output_type": "stream",
     "text": [
      "<StringArray>\n",
      "['Swahili', 'English']\n",
      "Length: 2, dtype: string\n"
     ]
    },
    {
     "data": {
      "text/markdown": [
       "##### After clean applied"
      ],
      "text/plain": [
       "<IPython.core.display.Markdown object>"
      ]
     },
     "metadata": {},
     "output_type": "display_data"
    },
    {
     "name": "stdout",
     "output_type": "stream",
     "text": [
      "<StringArray>\n",
      "['Swahili', 'English']\n",
      "Length: 2, dtype: string\n"
     ]
    },
    {
     "data": {
      "text/markdown": [
       "#### **column:** Main language ----- **dtype**: string"
      ],
      "text/plain": [
       "<IPython.core.display.Markdown object>"
      ]
     },
     "metadata": {},
     "output_type": "display_data"
    },
    {
     "data": {
      "text/markdown": [
       "##### Before clean applied"
      ],
      "text/plain": [
       "<IPython.core.display.Markdown object>"
      ]
     },
     "metadata": {},
     "output_type": "display_data"
    },
    {
     "name": "stdout",
     "output_type": "stream",
     "text": [
      "<StringArray>\n",
      "[   'Swahili',     'Chagga',   'Kiluguru',    'Kizigua',     'Others',\n",
      "     'Kihaya',       'Kiha',  'Kimakonde',     'Sukuma',  'Kinyatura',\n",
      "     'Kijita',     'Kigogo',    'English',   'Nyamwezi', 'Kinyakyusa',\n",
      "    'Kisafwa',    'Kimasai',      'Kurya',  'Kimatengo',     'Kifipa',\n",
      "     'Kiiraq',    'Kirangi',    'Kikinga',   'Kinyambo']\n",
      "Length: 24, dtype: string\n"
     ]
    },
    {
     "data": {
      "text/markdown": [
       "##### After clean applied"
      ],
      "text/plain": [
       "<IPython.core.display.Markdown object>"
      ]
     },
     "metadata": {},
     "output_type": "display_data"
    },
    {
     "name": "stdout",
     "output_type": "stream",
     "text": [
      "<StringArray>\n",
      "[   'Swahili',     'Chagga',   'Kiluguru',    'Kizigua',     'Others',\n",
      "     'Kihaya',       'Kiha',  'Kimakonde',     'Sukuma',  'Kinyatura',\n",
      "     'Kijita',     'Kigogo',    'English',   'Nyamwezi', 'Kinyakyusa',\n",
      "    'Kisafwa',    'Kimasai',      'Kurya',  'Kimatengo',     'Kifipa',\n",
      "     'Kiiraq',    'Kirangi',    'Kikinga',   'Kinyambo']\n",
      "Length: 24, dtype: string\n"
     ]
    },
    {
     "data": {
      "text/markdown": [
       "#### **column:** Mean household size ----- **dtype**: string"
      ],
      "text/plain": [
       "<IPython.core.display.Markdown object>"
      ]
     },
     "metadata": {},
     "output_type": "display_data"
    },
    {
     "data": {
      "text/markdown": [
       "##### Before clean applied"
      ],
      "text/plain": [
       "<IPython.core.display.Markdown object>"
      ]
     },
     "metadata": {},
     "output_type": "display_data"
    },
    {
     "name": "stdout",
     "output_type": "stream",
     "text": [
      "<StringArray>\n",
      "['Below mean size', 'Above mean size', 'Mean']\n",
      "Length: 3, dtype: string\n"
     ]
    },
    {
     "data": {
      "text/markdown": [
       "##### After clean applied"
      ],
      "text/plain": [
       "<IPython.core.display.Markdown object>"
      ]
     },
     "metadata": {},
     "output_type": "display_data"
    },
    {
     "name": "stdout",
     "output_type": "stream",
     "text": [
      "<StringArray>\n",
      "['Below mean size', 'Above mean size', 'Mean']\n",
      "Length: 3, dtype: string\n"
     ]
    },
    {
     "data": {
      "text/markdown": [
       "#### **column:** Province / Region ----- **dtype**: string"
      ],
      "text/plain": [
       "<IPython.core.display.Markdown object>"
      ]
     },
     "metadata": {},
     "output_type": "display_data"
    },
    {
     "data": {
      "text/markdown": [
       "##### Before clean applied"
      ],
      "text/plain": [
       "<IPython.core.display.Markdown object>"
      ]
     },
     "metadata": {},
     "output_type": "display_data"
    },
    {
     "name": "stdout",
     "output_type": "stream",
     "text": [
      "<StringArray>\n",
      "['Dar es Salaam',      'Morogoro',        'Mtwara',         'Tanga',\n",
      "         'Rukwa',        'Mwanza',   'Kilimanjaro',        'Tabora',\n",
      "        'Kigoma',        'Arusha',          'Mara',     'Shinyanga',\n",
      "         'Geita',        'Simiyu',  'Mbeya/Songwe',        'Iringa',\n",
      "        'Dodoma',         'Lindi',        'Katavi',        'Kagera',\n",
      "        'Ruvuma',        'Njombe',    'Urban West',       'Manyara',\n",
      "         'Pwani',   'South Pemba',       'Singida',   'North Pemba',\n",
      "  'South Unguja',  'North Unguja']\n",
      "Length: 30, dtype: string\n"
     ]
    },
    {
     "data": {
      "text/markdown": [
       "##### After clean applied"
      ],
      "text/plain": [
       "<IPython.core.display.Markdown object>"
      ]
     },
     "metadata": {},
     "output_type": "display_data"
    },
    {
     "name": "stdout",
     "output_type": "stream",
     "text": [
      "<StringArray>\n",
      "['Dar es salaam',      'Morogoro',        'Mtwara',         'Tanga',\n",
      "         'Rukwa',        'Mwanza',   'Kilimanjaro',        'Tabora',\n",
      "        'Kigoma',        'Arusha',          'Mara',     'Shinyanga',\n",
      "         'Geita',        'Simiyu',  'Mbeya/Songwe',        'Iringa',\n",
      "        'Dodoma',         'Lindi',        'Katavi',        'Kagera',\n",
      "        'Ruvuma',        'Njombe',    'Urban west',       'Manyara',\n",
      "         'Pwani',   'South pemba',       'Singida',   'North pemba',\n",
      "  'South unguja',  'North unguja']\n",
      "Length: 30, dtype: string\n"
     ]
    },
    {
     "data": {
      "text/markdown": [
       "#### **column:** Phone ownership ----- **dtype**: string"
      ],
      "text/plain": [
       "<IPython.core.display.Markdown object>"
      ]
     },
     "metadata": {},
     "output_type": "display_data"
    },
    {
     "data": {
      "text/markdown": [
       "##### Before clean applied"
      ],
      "text/plain": [
       "<IPython.core.display.Markdown object>"
      ]
     },
     "metadata": {},
     "output_type": "display_data"
    },
    {
     "name": "stdout",
     "output_type": "stream",
     "text": [
      "<StringArray>\n",
      "['own phone/business/employer',               'Husband/wives',\n",
      "             'Other man/women',       'Dont use mobile phone',\n",
      "                      'Parent',                     'Sibling',\n",
      "                    'Children']\n",
      "Length: 7, dtype: string\n"
     ]
    },
    {
     "data": {
      "text/markdown": [
       "##### After clean applied"
      ],
      "text/plain": [
       "<IPython.core.display.Markdown object>"
      ]
     },
     "metadata": {},
     "output_type": "display_data"
    },
    {
     "name": "stdout",
     "output_type": "stream",
     "text": [
      "<StringArray>\n",
      "['Own phone/Business/Employer',               'Husband/Wives',\n",
      "             'Other man/Women',      'Don’t use mobile phone',\n",
      "                      'Parent',                     'Sibling',\n",
      "                    'Children']\n",
      "Length: 7, dtype: string\n"
     ]
    },
    {
     "data": {
      "text/markdown": [
       "#### **column:** Independent phone use ----- **dtype**: string"
      ],
      "text/plain": [
       "<IPython.core.display.Markdown object>"
      ]
     },
     "metadata": {},
     "output_type": "display_data"
    },
    {
     "data": {
      "text/markdown": [
       "##### Before clean applied"
      ],
      "text/plain": [
       "<IPython.core.display.Markdown object>"
      ]
     },
     "metadata": {},
     "output_type": "display_data"
    },
    {
     "name": "stdout",
     "output_type": "stream",
     "text": [
      "<StringArray>\n",
      "['Yes', 'Somewhat', 'No']\n",
      "Length: 3, dtype: string\n"
     ]
    },
    {
     "data": {
      "text/markdown": [
       "##### After clean applied"
      ],
      "text/plain": [
       "<IPython.core.display.Markdown object>"
      ]
     },
     "metadata": {},
     "output_type": "display_data"
    },
    {
     "name": "stdout",
     "output_type": "stream",
     "text": [
      "<StringArray>\n",
      "['Yes', 'Somewhat', 'No']\n",
      "Length: 3, dtype: string\n"
     ]
    },
    {
     "data": {
      "text/markdown": [
       "#### **column:** Informal financial usage ----- **dtype**: string"
      ],
      "text/plain": [
       "<IPython.core.display.Markdown object>"
      ]
     },
     "metadata": {},
     "output_type": "display_data"
    },
    {
     "data": {
      "text/markdown": [
       "##### Before clean applied"
      ],
      "text/plain": [
       "<IPython.core.display.Markdown object>"
      ]
     },
     "metadata": {},
     "output_type": "display_data"
    },
    {
     "name": "stdout",
     "output_type": "stream",
     "text": [
      "<StringArray>\n",
      "['no', 'yes']\n",
      "Length: 2, dtype: string\n"
     ]
    },
    {
     "data": {
      "text/markdown": [
       "##### After clean applied"
      ],
      "text/plain": [
       "<IPython.core.display.Markdown object>"
      ]
     },
     "metadata": {},
     "output_type": "display_data"
    },
    {
     "name": "stdout",
     "output_type": "stream",
     "text": [
      "<StringArray>\n",
      "['No', 'Yes']\n",
      "Length: 2, dtype: string\n"
     ]
    },
    {
     "data": {
      "text/markdown": [
       "#### **column:** Mobile Money ----- **dtype**: string"
      ],
      "text/plain": [
       "<IPython.core.display.Markdown object>"
      ]
     },
     "metadata": {},
     "output_type": "display_data"
    },
    {
     "data": {
      "text/markdown": [
       "##### Before clean applied"
      ],
      "text/plain": [
       "<IPython.core.display.Markdown object>"
      ]
     },
     "metadata": {},
     "output_type": "display_data"
    },
    {
     "name": "stdout",
     "output_type": "stream",
     "text": [
      "<StringArray>\n",
      "['Yes', 'No']\n",
      "Length: 2, dtype: string\n"
     ]
    },
    {
     "data": {
      "text/markdown": [
       "##### After clean applied"
      ],
      "text/plain": [
       "<IPython.core.display.Markdown object>"
      ]
     },
     "metadata": {},
     "output_type": "display_data"
    },
    {
     "name": "stdout",
     "output_type": "stream",
     "text": [
      "<StringArray>\n",
      "['Yes', 'No']\n",
      "Length: 2, dtype: string\n"
     ]
    },
    {
     "data": {
      "text/markdown": [
       "#### **column:** Bank ----- **dtype**: string"
      ],
      "text/plain": [
       "<IPython.core.display.Markdown object>"
      ]
     },
     "metadata": {},
     "output_type": "display_data"
    },
    {
     "data": {
      "text/markdown": [
       "##### Before clean applied"
      ],
      "text/plain": [
       "<IPython.core.display.Markdown object>"
      ]
     },
     "metadata": {},
     "output_type": "display_data"
    },
    {
     "name": "stdout",
     "output_type": "stream",
     "text": [
      "<StringArray>\n",
      "['own', 'unbanked', 'spouse', 'other', 'other fam']\n",
      "Length: 5, dtype: string\n"
     ]
    },
    {
     "data": {
      "text/markdown": [
       "##### After clean applied"
      ],
      "text/plain": [
       "<IPython.core.display.Markdown object>"
      ]
     },
     "metadata": {},
     "output_type": "display_data"
    },
    {
     "name": "stdout",
     "output_type": "stream",
     "text": [
      "<StringArray>\n",
      "['Own', 'Unbanked', 'Spouse', 'Other', 'Other fam']\n",
      "Length: 5, dtype: string\n"
     ]
    },
    {
     "data": {
      "text/markdown": [
       "#### **column:** Permission to open bank ----- **dtype**: string"
      ],
      "text/plain": [
       "<IPython.core.display.Markdown object>"
      ]
     },
     "metadata": {},
     "output_type": "display_data"
    },
    {
     "data": {
      "text/markdown": [
       "##### Before clean applied"
      ],
      "text/plain": [
       "<IPython.core.display.Markdown object>"
      ]
     },
     "metadata": {},
     "output_type": "display_data"
    },
    {
     "name": "stdout",
     "output_type": "stream",
     "text": [
      "<StringArray>\n",
      "['no', 'yes']\n",
      "Length: 2, dtype: string\n"
     ]
    },
    {
     "data": {
      "text/markdown": [
       "##### After clean applied"
      ],
      "text/plain": [
       "<IPython.core.display.Markdown object>"
      ]
     },
     "metadata": {},
     "output_type": "display_data"
    },
    {
     "name": "stdout",
     "output_type": "stream",
     "text": [
      "<StringArray>\n",
      "['No', 'Yes']\n",
      "Length: 2, dtype: string\n"
     ]
    },
    {
     "data": {
      "text/markdown": [
       "#### **column:** Money taken from account ----- **dtype**: string"
      ],
      "text/plain": [
       "<IPython.core.display.Markdown object>"
      ]
     },
     "metadata": {},
     "output_type": "display_data"
    },
    {
     "data": {
      "text/markdown": [
       "##### Before clean applied"
      ],
      "text/plain": [
       "<IPython.core.display.Markdown object>"
      ]
     },
     "metadata": {},
     "output_type": "display_data"
    },
    {
     "name": "stdout",
     "output_type": "stream",
     "text": [
      "<StringArray>\n",
      "['money not taken', 'dont have account', 'money taken']\n",
      "Length: 3, dtype: string\n"
     ]
    },
    {
     "data": {
      "text/markdown": [
       "##### After clean applied"
      ],
      "text/plain": [
       "<IPython.core.display.Markdown object>"
      ]
     },
     "metadata": {},
     "output_type": "display_data"
    },
    {
     "name": "stdout",
     "output_type": "stream",
     "text": [
      "<StringArray>\n",
      "['Money not taken', 'Don’t have account', 'Money taken']\n",
      "Length: 3, dtype: string\n"
     ]
    },
    {
     "data": {
      "text/markdown": [
       "#### **column:** Savings goal decision maker ----- **dtype**: string"
      ],
      "text/plain": [
       "<IPython.core.display.Markdown object>"
      ]
     },
     "metadata": {},
     "output_type": "display_data"
    },
    {
     "data": {
      "text/markdown": [
       "##### Before clean applied"
      ],
      "text/plain": [
       "<IPython.core.display.Markdown object>"
      ]
     },
     "metadata": {},
     "output_type": "display_data"
    },
    {
     "name": "stdout",
     "output_type": "stream",
     "text": [
      "<StringArray>\n",
      "['self alone', 'no savings goal', 'decide together', 'others on behalf']\n",
      "Length: 4, dtype: string\n"
     ]
    },
    {
     "data": {
      "text/markdown": [
       "##### After clean applied"
      ],
      "text/plain": [
       "<IPython.core.display.Markdown object>"
      ]
     },
     "metadata": {},
     "output_type": "display_data"
    },
    {
     "name": "stdout",
     "output_type": "stream",
     "text": [
      "<StringArray>\n",
      "['Self alone', 'No savings goal', 'Decide together', 'Others on behalf']\n",
      "Length: 4, dtype: string\n"
     ]
    },
    {
     "data": {
      "text/markdown": [
       "#### **column:** Savings goal influence ----- **dtype**: string"
      ],
      "text/plain": [
       "<IPython.core.display.Markdown object>"
      ]
     },
     "metadata": {},
     "output_type": "display_data"
    },
    {
     "data": {
      "text/markdown": [
       "##### Before clean applied"
      ],
      "text/plain": [
       "<IPython.core.display.Markdown object>"
      ]
     },
     "metadata": {},
     "output_type": "display_data"
    },
    {
     "name": "stdout",
     "output_type": "stream",
     "text": [
      "<StringArray>\n",
      "[            'always accepted',             'no savings goal',\n",
      "                'dont consult', 'sometimes accepted/rejected',\n",
      "             'always rejected']\n",
      "Length: 5, dtype: string\n"
     ]
    },
    {
     "data": {
      "text/markdown": [
       "##### After clean applied"
      ],
      "text/plain": [
       "<IPython.core.display.Markdown object>"
      ]
     },
     "metadata": {},
     "output_type": "display_data"
    },
    {
     "name": "stdout",
     "output_type": "stream",
     "text": [
      "<StringArray>\n",
      "[            'Always accepted',             'No savings goal',\n",
      "               'Don’t consult', 'Sometimes accepted/Rejected',\n",
      "             'Always rejected']\n",
      "Length: 5, dtype: string\n"
     ]
    },
    {
     "data": {
      "text/markdown": [
       "#### **column:** Land ownership ----- **dtype**: string"
      ],
      "text/plain": [
       "<IPython.core.display.Markdown object>"
      ]
     },
     "metadata": {},
     "output_type": "display_data"
    },
    {
     "data": {
      "text/markdown": [
       "##### Before clean applied"
      ],
      "text/plain": [
       "<IPython.core.display.Markdown object>"
      ]
     },
     "metadata": {},
     "output_type": "display_data"
    },
    {
     "name": "stdout",
     "output_type": "stream",
     "text": [
      "<StringArray>\n",
      "['dont own', 'own with others', 'own by self']\n",
      "Length: 3, dtype: string\n"
     ]
    },
    {
     "data": {
      "text/markdown": [
       "##### After clean applied"
      ],
      "text/plain": [
       "<IPython.core.display.Markdown object>"
      ]
     },
     "metadata": {},
     "output_type": "display_data"
    },
    {
     "name": "stdout",
     "output_type": "stream",
     "text": [
      "<StringArray>\n",
      "['Don’t own', 'Own with others', 'Own by self']\n",
      "Length: 3, dtype: string\n"
     ]
    },
    {
     "data": {
      "text/markdown": [
       "#### **column:** Land decision maker ----- **dtype**: string"
      ],
      "text/plain": [
       "<IPython.core.display.Markdown object>"
      ]
     },
     "metadata": {},
     "output_type": "display_data"
    },
    {
     "data": {
      "text/markdown": [
       "##### Before clean applied"
      ],
      "text/plain": [
       "<IPython.core.display.Markdown object>"
      ]
     },
     "metadata": {},
     "output_type": "display_data"
    },
    {
     "name": "stdout",
     "output_type": "stream",
     "text": [
      "<StringArray>\n",
      "[           'dont own land',       'decide with others',\n",
      "             'decide alone', 'others decide without me']\n",
      "Length: 4, dtype: string\n"
     ]
    },
    {
     "data": {
      "text/markdown": [
       "##### After clean applied"
      ],
      "text/plain": [
       "<IPython.core.display.Markdown object>"
      ]
     },
     "metadata": {},
     "output_type": "display_data"
    },
    {
     "name": "stdout",
     "output_type": "stream",
     "text": [
      "<StringArray>\n",
      "[          'Don’t own land',       'Decide with others',\n",
      "             'Decide alone', 'Others decide without me']\n",
      "Length: 4, dtype: string\n"
     ]
    },
    {
     "data": {
      "text/markdown": [
       "#### **column:** Children decision maker ----- **dtype**: string"
      ],
      "text/plain": [
       "<IPython.core.display.Markdown object>"
      ]
     },
     "metadata": {},
     "output_type": "display_data"
    },
    {
     "data": {
      "text/markdown": [
       "##### Before clean applied"
      ],
      "text/plain": [
       "<IPython.core.display.Markdown object>"
      ]
     },
     "metadata": {},
     "output_type": "display_data"
    },
    {
     "name": "stdout",
     "output_type": "stream",
     "text": [
      "<StringArray>\n",
      "[        'decide together',     'Not in relationship',\n",
      " 'We do not talk about it',            'decide alone',\n",
      "          'Spouse decides',           'Others decide']\n",
      "Length: 6, dtype: string\n"
     ]
    },
    {
     "data": {
      "text/markdown": [
       "##### After clean applied"
      ],
      "text/plain": [
       "<IPython.core.display.Markdown object>"
      ]
     },
     "metadata": {},
     "output_type": "display_data"
    },
    {
     "name": "stdout",
     "output_type": "stream",
     "text": [
      "<StringArray>\n",
      "[        'Decide together',     'Not in relationship',\n",
      " 'We do not talk about it',            'Decide alone',\n",
      "          'Spouse decides',           'Others decide']\n",
      "Length: 6, dtype: string\n"
     ]
    },
    {
     "data": {
      "text/markdown": [
       "#### **column:** Earning frequency ----- **dtype**: string"
      ],
      "text/plain": [
       "<IPython.core.display.Markdown object>"
      ]
     },
     "metadata": {},
     "output_type": "display_data"
    },
    {
     "data": {
      "text/markdown": [
       "##### Before clean applied"
      ],
      "text/plain": [
       "<IPython.core.display.Markdown object>"
      ]
     },
     "metadata": {},
     "output_type": "display_data"
    },
    {
     "name": "stdout",
     "output_type": "stream",
     "text": [
      "<StringArray>\n",
      "[          'Daily',     'I dont work',         'Monthly', 'Weekly/biweekly',\n",
      " 'When I get work',     'Work unpaid']\n",
      "Length: 6, dtype: string\n"
     ]
    },
    {
     "data": {
      "text/markdown": [
       "##### After clean applied"
      ],
      "text/plain": [
       "<IPython.core.display.Markdown object>"
      ]
     },
     "metadata": {},
     "output_type": "display_data"
    },
    {
     "name": "stdout",
     "output_type": "stream",
     "text": [
      "<StringArray>\n",
      "[          'Daily',    'I don’t work',         'Monthly', 'Weekly/Biweekly',\n",
      " 'When I get work',     'Work unpaid']\n",
      "Length: 6, dtype: string\n"
     ]
    },
    {
     "data": {
      "text/markdown": [
       "#### **column:** Spending decision maker ----- **dtype**: string"
      ],
      "text/plain": [
       "<IPython.core.display.Markdown object>"
      ]
     },
     "metadata": {},
     "output_type": "display_data"
    },
    {
     "data": {
      "text/markdown": [
       "##### Before clean applied"
      ],
      "text/plain": [
       "<IPython.core.display.Markdown object>"
      ]
     },
     "metadata": {},
     "output_type": "display_data"
    },
    {
     "name": "stdout",
     "output_type": "stream",
     "text": [
      "<StringArray>\n",
      "['Fully on own', 'Help from someone else', 'Someone else decides for me']\n",
      "Length: 3, dtype: string\n"
     ]
    },
    {
     "data": {
      "text/markdown": [
       "##### After clean applied"
      ],
      "text/plain": [
       "<IPython.core.display.Markdown object>"
      ]
     },
     "metadata": {},
     "output_type": "display_data"
    },
    {
     "name": "stdout",
     "output_type": "stream",
     "text": [
      "<StringArray>\n",
      "['Fully on own', 'Help from someone else', 'Someone else decides']\n",
      "Length: 3, dtype: string\n"
     ]
    },
    {
     "data": {
      "text/markdown": [
       "#### **column:** Permission to work ----- **dtype**: string"
      ],
      "text/plain": [
       "<IPython.core.display.Markdown object>"
      ]
     },
     "metadata": {},
     "output_type": "display_data"
    },
    {
     "data": {
      "text/markdown": [
       "##### Before clean applied"
      ],
      "text/plain": [
       "<IPython.core.display.Markdown object>"
      ]
     },
     "metadata": {},
     "output_type": "display_data"
    },
    {
     "name": "stdout",
     "output_type": "stream",
     "text": [
      "<StringArray>\n",
      "['Already working', 'Yes', 'No']\n",
      "Length: 3, dtype: string\n"
     ]
    },
    {
     "data": {
      "text/markdown": [
       "##### After clean applied"
      ],
      "text/plain": [
       "<IPython.core.display.Markdown object>"
      ]
     },
     "metadata": {},
     "output_type": "display_data"
    },
    {
     "name": "stdout",
     "output_type": "stream",
     "text": [
      "<StringArray>\n",
      "['Already working', 'Yes', 'No']\n",
      "Length: 3, dtype: string\n"
     ]
    },
    {
     "data": {
      "text/markdown": [
       "#### **column:** Main income earner ----- **dtype**: string"
      ],
      "text/plain": [
       "<IPython.core.display.Markdown object>"
      ]
     },
     "metadata": {},
     "output_type": "display_data"
    },
    {
     "data": {
      "text/markdown": [
       "##### Before clean applied"
      ],
      "text/plain": [
       "<IPython.core.display.Markdown object>"
      ]
     },
     "metadata": {},
     "output_type": "display_data"
    },
    {
     "name": "stdout",
     "output_type": "stream",
     "text": [
      "<StringArray>\n",
      "['respondent', 'other fam', 'spouse', 'other', 'dont know', 'earn equally']\n",
      "Length: 6, dtype: string\n"
     ]
    },
    {
     "data": {
      "text/markdown": [
       "##### After clean applied"
      ],
      "text/plain": [
       "<IPython.core.display.Markdown object>"
      ]
     },
     "metadata": {},
     "output_type": "display_data"
    },
    {
     "name": "stdout",
     "output_type": "stream",
     "text": [
      "<StringArray>\n",
      "['Respondent', 'Other fam', 'Spouse', 'Other', 'Don’t know', 'Earn equally']\n",
      "Length: 6, dtype: string\n"
     ]
    },
    {
     "data": {
      "text/markdown": [
       "#### **column:** Migrant worker identity ----- **dtype**: string"
      ],
      "text/plain": [
       "<IPython.core.display.Markdown object>"
      ]
     },
     "metadata": {},
     "output_type": "display_data"
    },
    {
     "data": {
      "text/markdown": [
       "##### Before clean applied"
      ],
      "text/plain": [
       "<IPython.core.display.Markdown object>"
      ]
     },
     "metadata": {},
     "output_type": "display_data"
    },
    {
     "name": "stdout",
     "output_type": "stream",
     "text": [
      "<StringArray>\n",
      "['Spouse', 'Other family', 'No-one, all live together', 'Me']\n",
      "Length: 4, dtype: string\n"
     ]
    },
    {
     "data": {
      "text/markdown": [
       "##### After clean applied"
      ],
      "text/plain": [
       "<IPython.core.display.Markdown object>"
      ]
     },
     "metadata": {},
     "output_type": "display_data"
    },
    {
     "name": "stdout",
     "output_type": "stream",
     "text": [
      "<StringArray>\n",
      "['Spouse', 'Other family', 'No-one, all live together', 'Me']\n",
      "Length: 4, dtype: string\n"
     ]
    },
    {
     "data": {
      "text/markdown": [
       "#### **column:** Possibility to raise 1/20 GNI (Gross National Income) ----- **dtype**: string"
      ],
      "text/plain": [
       "<IPython.core.display.Markdown object>"
      ]
     },
     "metadata": {},
     "output_type": "display_data"
    },
    {
     "data": {
      "text/markdown": [
       "##### Before clean applied"
      ],
      "text/plain": [
       "<IPython.core.display.Markdown object>"
      ]
     },
     "metadata": {},
     "output_type": "display_data"
    },
    {
     "name": "stdout",
     "output_type": "stream",
     "text": [
      "<StringArray>\n",
      "[  'Somewhat possible', 'Not at all possible',   'Not very possible',\n",
      "       'Very possible']\n",
      "Length: 4, dtype: string\n"
     ]
    },
    {
     "data": {
      "text/markdown": [
       "##### After clean applied"
      ],
      "text/plain": [
       "<IPython.core.display.Markdown object>"
      ]
     },
     "metadata": {},
     "output_type": "display_data"
    },
    {
     "name": "stdout",
     "output_type": "stream",
     "text": [
      "<StringArray>\n",
      "[  'Somewhat possible', 'Not at all possible',   'Not very possible',\n",
      "       'Very possible']\n",
      "Length: 4, dtype: string\n"
     ]
    },
    {
     "data": {
      "text/markdown": [
       "#### **column:** Income frequency of spouse ----- **dtype**: string"
      ],
      "text/plain": [
       "<IPython.core.display.Markdown object>"
      ]
     },
     "metadata": {},
     "output_type": "display_data"
    },
    {
     "data": {
      "text/markdown": [
       "##### Before clean applied"
      ],
      "text/plain": [
       "<IPython.core.display.Markdown object>"
      ]
     },
     "metadata": {},
     "output_type": "display_data"
    },
    {
     "name": "stdout",
     "output_type": "stream",
     "text": [
      "<StringArray>\n",
      "[   'Weekly/biweekly',          'no spouse',        'Work unpaid',\n",
      "              'Daily',          'dont know',            'Monthly',\n",
      " 'When they get work',          'dont work']\n",
      "Length: 8, dtype: string\n"
     ]
    },
    {
     "data": {
      "text/markdown": [
       "##### After clean applied"
      ],
      "text/plain": [
       "<IPython.core.display.Markdown object>"
      ]
     },
     "metadata": {},
     "output_type": "display_data"
    },
    {
     "name": "stdout",
     "output_type": "stream",
     "text": [
      "<StringArray>\n",
      "[   'Weekly/Biweekly',          'No spouse',        'Work unpaid',\n",
      "              'Daily',         'Don’t know',            'Monthly',\n",
      " 'When they get work',         'Don’t work']\n",
      "Length: 8, dtype: string\n"
     ]
    },
    {
     "data": {
      "text/markdown": [
       "#### **column:** Allow spouse to work ----- **dtype**: string"
      ],
      "text/plain": [
       "<IPython.core.display.Markdown object>"
      ]
     },
     "metadata": {},
     "output_type": "display_data"
    },
    {
     "data": {
      "text/markdown": [
       "##### Before clean applied"
      ],
      "text/plain": [
       "<IPython.core.display.Markdown object>"
      ]
     },
     "metadata": {},
     "output_type": "display_data"
    },
    {
     "name": "stdout",
     "output_type": "stream",
     "text": [
      "<StringArray>\n",
      "['Yes', 'Not married', 'No']\n",
      "Length: 3, dtype: string\n"
     ]
    },
    {
     "data": {
      "text/markdown": [
       "##### After clean applied"
      ],
      "text/plain": [
       "<IPython.core.display.Markdown object>"
      ]
     },
     "metadata": {},
     "output_type": "display_data"
    },
    {
     "name": "stdout",
     "output_type": "stream",
     "text": [
      "<StringArray>\n",
      "['Yes', 'Not married', 'No']\n",
      "Length: 3, dtype: string\n"
     ]
    }
   ],
   "source": [
    "### this will generate the initial check of the dataset. \n",
    "### if you need to add new checks and cleaning options for now add them in checDataset function\n",
    "datasets = []\n",
    "for dataset in DatasetList:\n",
    "    datasets.append(checkDataset(*dataset, clean=True))"
   ]
  },
  {
   "cell_type": "code",
   "execution_count": 38,
   "metadata": {},
   "outputs": [
    {
     "name": "stdout",
     "output_type": "stream",
     "text": [
      "{'Poverty line', 'Permission to open bank', 'English literacy', 'Permission to work', 'Age', 'Main income earner', 'Savings goal influence', 'Geographic Area', 'Allow spouse to work', 'Province / Region', 'Land decision maker', 'finalweight', 'Spending decision maker', 'Mean household size', 'Land ownership', 'Earning frequency', 'Income frequency of spouse', 'Marital Status', 'Mobile Money', 'InstanceID', 'Gender', 'Level of education', 'Migrant worker identity', 'Savings goal decision maker', 'Language of interview', 'Own a phone', 'Bank', 'Possibility to raise 1/20 GNI (Gross National Income)', 'Children decision maker', 'Independent phone use', 'Money taken from account', 'Phone ownership', 'Main language', 'Informal financial usage'}\n",
      "<class 'pandas.core.frame.DataFrame'>\n",
      "RangeIndex: 3000 entries, 0 to 2999\n",
      "Data columns (total 34 columns):\n",
      " #   Column                                                 Non-Null Count  Dtype  \n",
      "---  ------                                                 --------------  -----  \n",
      " 0   InstanceID                                             3000 non-null   Int64  \n",
      " 1   finalweight                                            3000 non-null   float64\n",
      " 2   Gender                                                 3000 non-null   string \n",
      " 3   Marital Status                                         3000 non-null   string \n",
      " 4   Geographic Area                                        3000 non-null   string \n",
      " 5   Age                                                    3000 non-null   string \n",
      " 6   Level of education                                     3000 non-null   string \n",
      " 7   English literacy                                       3000 non-null   string \n",
      " 8   Own a phone                                            3000 non-null   string \n",
      " 9   Poverty line                                           3000 non-null   string \n",
      " 10  Language of interview                                  3000 non-null   string \n",
      " 11  Main language                                          3000 non-null   string \n",
      " 12  Mean household size                                    3000 non-null   string \n",
      " 13  Province / Region                                      3000 non-null   string \n",
      " 14  Phone ownership                                        3000 non-null   string \n",
      " 15  Independent phone use                                  3000 non-null   string \n",
      " 16  Informal financial usage                               3000 non-null   string \n",
      " 17  Mobile Money                                           3000 non-null   string \n",
      " 18  Bank                                                   3000 non-null   string \n",
      " 19  Permission to open bank                                3000 non-null   string \n",
      " 20  Money taken from account                               3000 non-null   string \n",
      " 21  Savings goal decision maker                            3000 non-null   string \n",
      " 22  Savings goal influence                                 3000 non-null   string \n",
      " 23  Land ownership                                         3000 non-null   string \n",
      " 24  Land decision maker                                    3000 non-null   string \n",
      " 25  Children decision maker                                3000 non-null   string \n",
      " 26  Earning frequency                                      3000 non-null   string \n",
      " 27  Spending decision maker                                3000 non-null   string \n",
      " 28  Permission to work                                     3000 non-null   string \n",
      " 29  Main income earner                                     3000 non-null   string \n",
      " 30  Migrant worker identity                                3000 non-null   string \n",
      " 31  Possibility to raise 1/20 GNI (Gross National Income)  3000 non-null   string \n",
      " 32  Income frequency of spouse                             3000 non-null   string \n",
      " 33  Allow spouse to work                                   3000 non-null   string \n",
      "dtypes: Int64(1), float64(1), string(32)\n",
      "memory usage: 799.9 KB\n"
     ]
    },
    {
     "data": {
      "text/plain": [
       "None"
      ]
     },
     "metadata": {},
     "output_type": "display_data"
    },
    {
     "name": "stdout",
     "output_type": "stream",
     "text": [
      "{'Poverty line', 'Permission to open bank', 'Permission to work', 'Age', 'Main income earner', 'Savings goal influence', 'Read & write in any language', 'Geographic Area', 'Allow spouse to work', 'Province / Region', 'Land decision maker', 'Division', 'finalweight', 'Spending decision maker', 'Mean household size', 'Land ownership', 'Earning frequency', 'Income frequency of spouse', 'Marital Status', 'Mobile Money', 'InstanceID', 'Gender', 'Level of education', 'Migrant worker identity', 'Savings goal decision maker', 'Language of interview', 'Own a phone', 'Bank', 'Possibility to raise 1/20 GNI (Gross National Income)', 'Children decision maker', 'Independent phone use', 'Money taken from account', 'Phone ownership', 'Main language', 'Informal financial usage'}\n",
      "<class 'pandas.core.frame.DataFrame'>\n",
      "RangeIndex: 3668 entries, 0 to 3667\n",
      "Data columns (total 35 columns):\n",
      " #   Column                                                 Non-Null Count  Dtype  \n",
      "---  ------                                                 --------------  -----  \n",
      " 0   InstanceID                                             3668 non-null   Int64  \n",
      " 1   finalweight                                            3668 non-null   float64\n",
      " 2   Gender                                                 3668 non-null   string \n",
      " 3   Marital Status                                         3668 non-null   string \n",
      " 4   Geographic Area                                        3668 non-null   string \n",
      " 5   Age                                                    3668 non-null   string \n",
      " 6   Level of education                                     3668 non-null   string \n",
      " 7   Read & write in any language                           3668 non-null   string \n",
      " 8   Own a phone                                            3668 non-null   string \n",
      " 9   Poverty line                                           3668 non-null   string \n",
      " 10  Language of interview                                  3668 non-null   string \n",
      " 11  Main language                                          3668 non-null   string \n",
      " 12  Mean household size                                    3668 non-null   string \n",
      " 13  Division                                               3668 non-null   string \n",
      " 14  Province / Region                                      3668 non-null   string \n",
      " 15  Phone ownership                                        3668 non-null   string \n",
      " 16  Independent phone use                                  3668 non-null   string \n",
      " 17  Informal financial usage                               3668 non-null   string \n",
      " 18  Mobile Money                                           3668 non-null   string \n",
      " 19  Bank                                                   3668 non-null   string \n",
      " 20  Permission to open bank                                3668 non-null   string \n",
      " 21  Money taken from account                               3668 non-null   string \n",
      " 22  Savings goal decision maker                            3668 non-null   string \n",
      " 23  Savings goal influence                                 3668 non-null   string \n",
      " 24  Land ownership                                         3668 non-null   string \n",
      " 25  Land decision maker                                    3668 non-null   string \n",
      " 26  Children decision maker                                3668 non-null   string \n",
      " 27  Earning frequency                                      3668 non-null   string \n",
      " 28  Spending decision maker                                3668 non-null   string \n",
      " 29  Permission to work                                     3668 non-null   string \n",
      " 30  Main income earner                                     3668 non-null   string \n",
      " 31  Migrant worker identity                                3668 non-null   string \n",
      " 32  Possibility to raise 1/20 GNI (Gross National Income)  3668 non-null   string \n",
      " 33  Income frequency of spouse                             3668 non-null   string \n",
      " 34  Allow spouse to work                                   3668 non-null   string \n",
      "dtypes: Int64(1), float64(1), string(33)\n",
      "memory usage: 1006.7 KB\n"
     ]
    },
    {
     "data": {
      "text/plain": [
       "None"
      ]
     },
     "metadata": {},
     "output_type": "display_data"
    },
    {
     "name": "stdout",
     "output_type": "stream",
     "text": [
      "{'Poverty line', 'Permission to open bank', 'English literacy', 'Permission to work', 'Age', 'Main income earner', 'Savings goal influence', 'Geographic Area', 'Allow spouse to work', 'Province / Region', 'Land decision maker', 'finalweight', 'Spending decision maker', 'Mean household size', 'Land ownership', 'Earning frequency', 'Income frequency of spouse', 'Marital Status', 'Mobile Money', 'InstanceID', 'Gender', 'Level of education', 'Migrant worker identity', 'Savings goal decision maker', 'Language of interview', 'Own a phone', 'Bank', 'Possibility to raise 1/20 GNI (Gross National Income)', 'Children decision maker', 'Independent phone use', 'Money taken from account', 'Phone ownership', 'Main language', 'Informal financial usage'}\n",
      "<class 'pandas.core.frame.DataFrame'>\n",
      "RangeIndex: 3065 entries, 0 to 3064\n",
      "Data columns (total 34 columns):\n",
      " #   Column                                                 Non-Null Count  Dtype  \n",
      "---  ------                                                 --------------  -----  \n",
      " 0   InstanceID                                             3065 non-null   Int64  \n",
      " 1   finalweight                                            3065 non-null   float64\n",
      " 2   Gender                                                 3065 non-null   string \n",
      " 3   Marital Status                                         3065 non-null   string \n",
      " 4   Geographic Area                                        3065 non-null   string \n",
      " 5   Age                                                    3065 non-null   string \n",
      " 6   Level of education                                     3065 non-null   string \n",
      " 7   English literacy                                       3065 non-null   string \n",
      " 8   Own a phone                                            3065 non-null   string \n",
      " 9   Poverty line                                           3065 non-null   string \n",
      " 10  Language of interview                                  3065 non-null   string \n",
      " 11  Main language                                          3065 non-null   string \n",
      " 12  Mean household size                                    3065 non-null   string \n",
      " 13  Province / Region                                      3065 non-null   string \n",
      " 14  Phone ownership                                        3065 non-null   string \n",
      " 15  Independent phone use                                  3065 non-null   string \n",
      " 16  Informal financial usage                               3065 non-null   string \n",
      " 17  Mobile Money                                           3065 non-null   string \n",
      " 18  Bank                                                   3065 non-null   string \n",
      " 19  Permission to open bank                                3065 non-null   string \n",
      " 20  Money taken from account                               3065 non-null   string \n",
      " 21  Savings goal decision maker                            3065 non-null   string \n",
      " 22  Savings goal influence                                 3065 non-null   string \n",
      " 23  Land ownership                                         3065 non-null   string \n",
      " 24  Land decision maker                                    3065 non-null   string \n",
      " 25  Children decision maker                                3065 non-null   string \n",
      " 26  Earning frequency                                      3065 non-null   string \n",
      " 27  Spending decision maker                                3065 non-null   string \n",
      " 28  Permission to work                                     3065 non-null   string \n",
      " 29  Main income earner                                     3065 non-null   string \n",
      " 30  Migrant worker identity                                3065 non-null   string \n",
      " 31  Possibility to raise 1/20 GNI (Gross National Income)  3065 non-null   string \n",
      " 32  Income frequency of spouse                             3065 non-null   string \n",
      " 33  Allow spouse to work                                   3065 non-null   string \n",
      "dtypes: Int64(1), float64(1), string(32)\n",
      "memory usage: 817.3 KB\n"
     ]
    },
    {
     "data": {
      "text/plain": [
       "None"
      ]
     },
     "metadata": {},
     "output_type": "display_data"
    },
    {
     "name": "stdout",
     "output_type": "stream",
     "text": [
      "{'Poverty line', 'Permission to open bank', 'Permission to work', 'Age', 'Main income earner', 'Savings goal influence', 'Geographic Area', 'Allow spouse to work', 'Province / Region', 'Land decision maker', 'finalweight', 'Spending decision maker', 'Mean household size', 'Land ownership', 'Earning frequency', 'Income frequency of spouse', 'Marital Status', 'Mobile Money', 'InstanceID', 'Gender', 'Level of education', 'Migrant worker identity', 'Savings goal decision maker', 'Language of interview', 'Own a phone', 'Bank', 'Possibility to raise 1/20 GNI (Gross National Income)', 'Children decision maker', 'Independent phone use', 'Money taken from account', 'Phone ownership', 'Main language', 'Informal financial usage', 'Swahili literacy'}\n",
      "<class 'pandas.core.frame.DataFrame'>\n",
      "RangeIndex: 3016 entries, 0 to 3015\n",
      "Data columns (total 34 columns):\n",
      " #   Column                                                 Non-Null Count  Dtype  \n",
      "---  ------                                                 --------------  -----  \n",
      " 0   InstanceID                                             3016 non-null   Int64  \n",
      " 1   finalweight                                            3016 non-null   float64\n",
      " 2   Gender                                                 3016 non-null   string \n",
      " 3   Marital Status                                         3016 non-null   string \n",
      " 4   Geographic Area                                        3016 non-null   string \n",
      " 5   Age                                                    3016 non-null   string \n",
      " 6   Level of education                                     3016 non-null   string \n",
      " 7   Swahili literacy                                       3016 non-null   string \n",
      " 8   Own a phone                                            3016 non-null   string \n",
      " 9   Poverty line                                           3016 non-null   string \n",
      " 10  Language of interview                                  3016 non-null   string \n",
      " 11  Main language                                          3016 non-null   string \n",
      " 12  Mean household size                                    3016 non-null   string \n",
      " 13  Province / Region                                      3016 non-null   string \n",
      " 14  Phone ownership                                        3016 non-null   string \n",
      " 15  Independent phone use                                  3016 non-null   string \n",
      " 16  Informal financial usage                               3016 non-null   string \n",
      " 17  Mobile Money                                           3016 non-null   string \n",
      " 18  Bank                                                   3016 non-null   string \n",
      " 19  Permission to open bank                                3016 non-null   string \n",
      " 20  Money taken from account                               3016 non-null   string \n",
      " 21  Savings goal decision maker                            3016 non-null   string \n",
      " 22  Savings goal influence                                 3016 non-null   string \n",
      " 23  Land ownership                                         3016 non-null   string \n",
      " 24  Land decision maker                                    3016 non-null   string \n",
      " 25  Children decision maker                                3016 non-null   string \n",
      " 26  Earning frequency                                      3016 non-null   string \n",
      " 27  Spending decision maker                                3016 non-null   string \n",
      " 28  Permission to work                                     3016 non-null   string \n",
      " 29  Main income earner                                     3016 non-null   string \n",
      " 30  Migrant worker identity                                3016 non-null   string \n",
      " 31  Possibility to raise 1/20 GNI (Gross National Income)  3016 non-null   string \n",
      " 32  Income frequency of spouse                             3016 non-null   string \n",
      " 33  Allow spouse to work                                   3016 non-null   string \n",
      "dtypes: Int64(1), float64(1), string(32)\n",
      "memory usage: 804.2 KB\n"
     ]
    },
    {
     "data": {
      "text/plain": [
       "None"
      ]
     },
     "metadata": {},
     "output_type": "display_data"
    },
    {
     "name": "stdout",
     "output_type": "stream",
     "text": [
      "=========================   ken2020  -  pak2020\n",
      "Good matched columns\n",
      "- Poverty line\n",
      "> ken2020: <StringArray>\n",
      "['Above poverty line', 'Below poverty line']\n",
      "Length: 2, dtype: string\n",
      "> pak2020: <StringArray>\n",
      "['Below poverty line', 'Above poverty line']\n",
      "Length: 2, dtype: string\n",
      "- Permission to open bank\n",
      "> ken2020: <StringArray>\n",
      "['No', 'Yes']\n",
      "Length: 2, dtype: string\n",
      "> pak2020: <StringArray>\n",
      "['No', 'Yes']\n",
      "Length: 2, dtype: string\n",
      "- Permission to work\n",
      "> ken2020: <StringArray>\n",
      "['Already working', 'Yes', 'No']\n",
      "Length: 3, dtype: string\n",
      "> pak2020: <StringArray>\n",
      "['Already working', 'Yes', 'No']\n",
      "Length: 3, dtype: string\n",
      "- Age\n",
      "> ken2020: <StringArray>\n",
      "['25-34', '35-44', '18-24', '55+', '45-54']\n",
      "Length: 5, dtype: string\n",
      "> pak2020: <StringArray>\n",
      "['55+', '45-54', '35-44', '18-24', '25-34']\n",
      "Length: 5, dtype: string\n",
      "- Main income earner\n",
      "> ken2020: <StringArray>\n",
      "['Respondent', 'Spouse', 'Other fam', 'Don’t know', 'Other', 'Earn equally']\n",
      "Length: 6, dtype: string\n",
      "> pak2020: <StringArray>\n",
      "['Respondent', 'Other fam', 'Spouse', 'Don’t know', 'Other']\n",
      "Length: 5, dtype: string\n",
      "- Savings goal influence\n",
      "> ken2020: <StringArray>\n",
      "['Sometimes accepted/Rejected',               'Don’t consult',\n",
      "             'No savings goal',             'Always accepted',\n",
      "             'Always rejected']\n",
      "Length: 5, dtype: string\n",
      "> pak2020: <StringArray>\n",
      "[            'Always accepted',             'No savings goal',\n",
      "             'Always rejected', 'Sometimes accepted/Rejected',\n",
      "               'Don’t consult']\n",
      "Length: 5, dtype: string\n",
      "- Geographic Area\n",
      "> ken2020: <StringArray>\n",
      "['Urban', 'Rural']\n",
      "Length: 2, dtype: string\n",
      "> pak2020: <StringArray>\n",
      "['Rural', 'Urban']\n",
      "Length: 2, dtype: string\n",
      "- Allow spouse to work\n",
      "> ken2020: <StringArray>\n",
      "['Yes', 'Not married', 'No']\n",
      "Length: 3, dtype: string\n",
      "> pak2020: <StringArray>\n",
      "['No', 'Not married', 'Yes']\n",
      "Length: 3, dtype: string\n",
      "- Province / Region\n",
      "> ken2020: <StringArray>\n",
      "[      'Nairobi',        'Nyanza',       'Central',   'Rift valley',\n",
      "         'Coast', 'North eastern',       'Western',       'Eastern']\n",
      "Length: 8, dtype: string\n",
      "> pak2020: <StringArray>\n",
      "['Kp', 'Punjab', 'Sindh', 'Balochistan']\n",
      "Length: 4, dtype: string\n",
      "- Land decision maker\n",
      "> ken2020: <StringArray>\n",
      "[          'Don’t own land', 'Others decide without me',\n",
      "             'Decide alone',       'Decide with others']\n",
      "Length: 4, dtype: string\n",
      "> pak2020: <StringArray>\n",
      "[          'Don’t own land',       'Decide with others',\n",
      " 'Others decide without me',             'Decide alone']\n",
      "Length: 4, dtype: string\n",
      "- Spending decision maker\n",
      "> ken2020: <StringArray>\n",
      "['Help from someone else', 'Fully on own', 'Someone else decides']\n",
      "Length: 3, dtype: string\n",
      "> pak2020: <StringArray>\n",
      "['Fully on own', 'Someone else decides', 'Help from someone else']\n",
      "Length: 3, dtype: string\n",
      "- Mean household size\n",
      "> ken2020: <StringArray>\n",
      "['Below mean size', 'Above mean size', 'Mean']\n",
      "Length: 3, dtype: string\n",
      "> pak2020: <StringArray>\n",
      "['Below mean size', 'Above mean size', 'Mean']\n",
      "Length: 3, dtype: string\n",
      "- Land ownership\n",
      "> ken2020: <StringArray>\n",
      "['Don’t own', 'Own by self', 'Own with others']\n",
      "Length: 3, dtype: string\n",
      "> pak2020: <StringArray>\n",
      "['Don’t own', 'Own by self', 'Own with others']\n",
      "Length: 3, dtype: string\n",
      "- Earning frequency\n",
      "> ken2020: <StringArray>\n",
      "[          'Daily', 'Weekly/Biweekly',    'I don’t work',         'Monthly',\n",
      " 'When I get work',     'Work unpaid']\n",
      "Length: 6, dtype: string\n",
      "> pak2020: <StringArray>\n",
      "[        'Monthly',    'I don’t work',           'Daily', 'Weekly/Biweekly',\n",
      "    'Infrequently',     'Work unpaid']\n",
      "Length: 6, dtype: string\n",
      "- Income frequency of spouse\n",
      "> ken2020: <StringArray>\n",
      "[        'Don’t work',            'Monthly',          'No spouse',\n",
      "              'Daily',    'Weekly/Biweekly',         'Don’t know',\n",
      " 'When they get work',        'Work unpaid']\n",
      "Length: 8, dtype: string\n",
      "> pak2020: <StringArray>\n",
      "[        'Don’t work',          'No spouse',              'Daily',\n",
      "        'Work unpaid',            'Monthly',    'Weekly/Biweekly',\n",
      "         'Don’t know', 'When they get work']\n",
      "Length: 8, dtype: string\n",
      "- Marital Status\n",
      "> ken2020: <StringArray>\n",
      "['Married/Relationship', 'Not married/Relationship']\n",
      "Length: 2, dtype: string\n",
      "> pak2020: <StringArray>\n",
      "['Married', 'Not married']\n",
      "Length: 2, dtype: string\n",
      "- Mobile Money\n",
      "> ken2020: <StringArray>\n",
      "['Yes', 'No']\n",
      "Length: 2, dtype: string\n",
      "> pak2020: <StringArray>\n",
      "['Yes', 'No']\n",
      "Length: 2, dtype: string\n",
      "- Gender\n",
      "> ken2020: <StringArray>\n",
      "['Male', 'Female']\n",
      "Length: 2, dtype: string\n",
      "> pak2020: <StringArray>\n",
      "['Male', 'Female']\n",
      "Length: 2, dtype: string\n",
      "- Level of education\n",
      "> ken2020: <StringArray>\n",
      "['Secondary education',   'Primary education',    'Higher education',\n",
      " 'No formal education',               'Other']\n",
      "Length: 5, dtype: string\n",
      "> pak2020: <StringArray>\n",
      "['No formal education', 'Secondary education',   'Primary education',\n",
      "               'Other',    'Higher education']\n",
      "Length: 5, dtype: string\n",
      "- Migrant worker identity\n",
      "> ken2020: <StringArray>\n",
      "['No-one, all live together', 'Other family', 'Spouse', 'Me']\n",
      "Length: 4, dtype: string\n",
      "> pak2020: <StringArray>\n",
      "['Other family', 'No-one, all live together', 'Spouse', 'Me']\n",
      "Length: 4, dtype: string\n",
      "- Savings goal decision maker\n",
      "> ken2020: <StringArray>\n",
      "['Others on behalf', 'Self alone', 'No savings goal', 'Decide together']\n",
      "Length: 4, dtype: string\n",
      "> pak2020: <StringArray>\n",
      "['Self alone', 'No savings goal', 'Others on behalf', 'Decide together']\n",
      "Length: 4, dtype: string\n",
      "- Language of interview\n",
      "> ken2020: <StringArray>\n",
      "[ 'English',  'Swahili',      'Luo',    'Kisii',   'Kikuyu',   'Somali',\n",
      "     'Meru',    'Kamba',    'Luhya', 'Kalenjin']\n",
      "Length: 10, dtype: string\n",
      "> pak2020: <StringArray>\n",
      "['Urdu', 'English']\n",
      "Length: 2, dtype: string\n",
      "- Own a phone\n",
      "> ken2020: <StringArray>\n",
      "['Own phone', 'Don’t own phone']\n",
      "Length: 2, dtype: string\n",
      "> pak2020: <StringArray>\n",
      "['Own phone/Business/Employer', 'Don’t own phone']\n",
      "Length: 2, dtype: string\n",
      "- Bank\n",
      "> ken2020: <StringArray>\n",
      "['Unbanked', 'Own', 'Spouse', 'Other', 'Other fam']\n",
      "Length: 5, dtype: string\n",
      "> pak2020: <StringArray>\n",
      "['Own', 'Unbanked', 'Spouse', 'Other fam', 'Other']\n",
      "Length: 5, dtype: string\n",
      "- Possibility to raise 1/20 GNI (Gross National Income)\n",
      "> ken2020: <StringArray>\n",
      "[  'Not very possible', 'Not at all possible',   'Somewhat possible',\n",
      "       'Very possible']\n",
      "Length: 4, dtype: string\n",
      "> pak2020: <StringArray>\n",
      "[  'Somewhat possible', 'Not at all possible',   'Not very possible',\n",
      "       'Very possible']\n",
      "Length: 4, dtype: string\n",
      "- Children decision maker\n",
      "> ken2020: <StringArray>\n",
      "[        'Decide together',     'Not in relationship',\n",
      " 'We do not talk about it',          'Spouse decides',\n",
      "            'Decide alone']\n",
      "Length: 5, dtype: string\n",
      "> pak2020: <StringArray>\n",
      "[           'Decide alone',             'Not married',\n",
      "         'Decide together', 'We do not talk about it',\n",
      "          'Spouse decides',           'Others decide']\n",
      "Length: 6, dtype: string\n",
      "- Independent phone use\n",
      "> ken2020: <StringArray>\n",
      "['Yes', 'No', 'Somewhat']\n",
      "Length: 3, dtype: string\n",
      "> pak2020: <StringArray>\n",
      "['Yes', 'Somewhat', 'No']\n",
      "Length: 3, dtype: string\n",
      "- Money taken from account\n",
      "> ken2020: <StringArray>\n",
      "['Money not taken', 'Money taken', 'Don’t have account']\n",
      "Length: 3, dtype: string\n",
      "> pak2020: <StringArray>\n",
      "['Money not taken', 'Don’t have account', 'Money taken']\n",
      "Length: 3, dtype: string\n",
      "- Phone ownership\n",
      "> ken2020: <StringArray>\n",
      "['Own phone/Business/Employer',                     'Sibling',\n",
      "      'Don’t use mobile phone',               'Husband/Wives',\n",
      "             'Other man/Women',                      'Parent',\n",
      "                    'Children']\n",
      "Length: 7, dtype: string\n",
      "> pak2020: <StringArray>\n",
      "[             'Own phone',                 'Parent',          'Husband/Wives',\n",
      " 'Don’t use mobile phone',                'Sibling',               'Children',\n",
      "        'Other man/Women']\n",
      "Length: 7, dtype: string\n",
      "- Informal financial usage\n",
      "> ken2020: <StringArray>\n",
      "['No', 'Yes']\n",
      "Length: 2, dtype: string\n",
      "> pak2020: <StringArray>\n",
      "['No', 'Yes']\n",
      "Length: 2, dtype: string\n",
      "Columns that doesn't have a full match from both datasets {'read & write in any language', 'english literacy', 'division'}\n",
      "=========================   ken2020  -  uga2020\n",
      "Good matched columns\n",
      "- Poverty line\n",
      "> ken2020: <StringArray>\n",
      "['Above poverty line', 'Below poverty line']\n",
      "Length: 2, dtype: string\n",
      "> uga2020: <StringArray>\n",
      "['Above poverty line', 'Below poverty line']\n",
      "Length: 2, dtype: string\n",
      "*********\n",
      "['Poverty line']\n",
      "*********\n",
      "Poverty line\n",
      "Poverty line\n",
      "1.0\n",
      "- Permission to open bank\n",
      "> ken2020: <StringArray>\n",
      "['No', 'Yes']\n",
      "Length: 2, dtype: string\n",
      "> uga2020: <StringArray>\n",
      "['No', 'Yes']\n",
      "Length: 2, dtype: string\n",
      "*********\n",
      "['Permission to open bank']\n",
      "*********\n",
      "Permission to open bank\n",
      "Permission to open bank\n",
      "1.0\n",
      "- English literacy\n",
      "> ken2020: <StringArray>\n",
      "['Fair', 'Good', 'Excellent', 'Not at all', 'Poorly']\n",
      "Length: 5, dtype: string\n",
      "> uga2020: <StringArray>\n",
      "['Excellent', 'Not at all', 'Good', 'Fair', 'Poorly']\n",
      "Length: 5, dtype: string\n",
      "- Permission to work\n",
      "> ken2020: <StringArray>\n",
      "['Already working', 'Yes', 'No']\n",
      "Length: 3, dtype: string\n",
      "> uga2020: <StringArray>\n",
      "['Yes', 'Already working', 'No']\n",
      "Length: 3, dtype: string\n",
      "*********\n",
      "['Permission to work']\n",
      "*********\n",
      "Permission to work\n",
      "Permission to work\n",
      "1.0\n",
      "- Age\n",
      "> ken2020: <StringArray>\n",
      "['25-34', '35-44', '18-24', '55+', '45-54']\n",
      "Length: 5, dtype: string\n",
      "> uga2020: <StringArray>\n",
      "['18-24', '35-44', '25-34', '55+', '45-54']\n",
      "Length: 5, dtype: string\n",
      "*********\n",
      "['Age']\n",
      "*********\n",
      "Age\n",
      "Age\n",
      "1.0\n",
      "- Main income earner\n",
      "> ken2020: <StringArray>\n",
      "['Respondent', 'Spouse', 'Other fam', 'Don’t know', 'Other', 'Earn equally']\n",
      "Length: 6, dtype: string\n",
      "> uga2020: <StringArray>\n",
      "['Other fam', 'Respondent', 'Other', 'Spouse', 'Don’t know']\n",
      "Length: 5, dtype: string\n",
      "*********\n",
      "['Main income earner']\n",
      "*********\n",
      "Main income earner\n",
      "Main income earner\n",
      "1.0\n",
      "- Savings goal influence\n",
      "> ken2020: <StringArray>\n",
      "['Sometimes accepted/Rejected',               'Don’t consult',\n",
      "             'No savings goal',             'Always accepted',\n",
      "             'Always rejected']\n",
      "Length: 5, dtype: string\n",
      "> uga2020: <StringArray>\n",
      "[            'No savings goal',               'Don’t consult',\n",
      "             'Always accepted', 'Sometimes accepted/Rejected',\n",
      "             'Always rejected']\n",
      "Length: 5, dtype: string\n",
      "*********\n",
      "['Savings goal influence']\n",
      "*********\n",
      "Savings goal influence\n",
      "Savings goal influence\n",
      "1.0\n",
      "- Geographic Area\n",
      "> ken2020: <StringArray>\n",
      "['Urban', 'Rural']\n",
      "Length: 2, dtype: string\n",
      "> uga2020: <StringArray>\n",
      "['Urban', 'Rural']\n",
      "Length: 2, dtype: string\n",
      "*********\n",
      "['Geographic Area']\n",
      "*********\n",
      "Geographic Area\n",
      "Geographic Area\n",
      "1.0\n",
      "- Allow spouse to work\n",
      "> ken2020: <StringArray>\n",
      "['Yes', 'Not married', 'No']\n",
      "Length: 3, dtype: string\n",
      "> uga2020: <StringArray>\n",
      "['Yes', 'Not married', 'No']\n",
      "Length: 3, dtype: string\n",
      "*********\n",
      "['Allow spouse to work']\n",
      "*********\n",
      "Allow spouse to work\n",
      "Allow spouse to work\n",
      "1.0\n",
      "- Province / Region\n",
      "> ken2020: <StringArray>\n",
      "[      'Nairobi',        'Nyanza',       'Central',   'Rift valley',\n",
      "         'Coast', 'North eastern',       'Western',       'Eastern']\n",
      "Length: 8, dtype: string\n",
      "> uga2020: <StringArray>\n",
      "['Central', 'Eastern', 'Western', 'Northern']\n",
      "Length: 4, dtype: string\n",
      "*********\n",
      "['Province / Region']\n",
      "*********\n",
      "Province / Region\n",
      "Province / Region\n",
      "1.0\n",
      "- Land decision maker\n",
      "> ken2020: <StringArray>\n",
      "[          'Don’t own land', 'Others decide without me',\n",
      "             'Decide alone',       'Decide with others']\n",
      "Length: 4, dtype: string\n",
      "> uga2020: <StringArray>\n",
      "[          'Don’t own land',             'Decide alone',\n",
      "       'Decide with others', 'Others decide without me']\n",
      "Length: 4, dtype: string\n",
      "*********\n",
      "['Land decision maker']\n",
      "*********\n",
      "Land decision maker\n",
      "Land decision maker\n",
      "1.0\n",
      "- Spending decision maker\n",
      "> ken2020: <StringArray>\n",
      "['Help from someone else', 'Fully on own', 'Someone else decides']\n",
      "Length: 3, dtype: string\n",
      "> uga2020: <StringArray>\n",
      "['Fully on own', 'Help from someone else', 'Someone else decides']\n",
      "Length: 3, dtype: string\n",
      "*********\n",
      "['Spending decision maker']\n",
      "*********\n",
      "Spending decision maker\n",
      "Spending decision maker\n",
      "1.0\n",
      "- Mean household size\n",
      "> ken2020: <StringArray>\n",
      "['Below mean size', 'Above mean size', 'Mean']\n",
      "Length: 3, dtype: string\n",
      "> uga2020: <StringArray>\n",
      "['Below mean size', 'Mean', 'Above mean size']\n",
      "Length: 3, dtype: string\n",
      "*********\n",
      "['Mean household size']\n",
      "*********\n",
      "Mean household size\n",
      "Mean household size\n",
      "1.0\n",
      "- Land ownership\n",
      "> ken2020: <StringArray>\n",
      "['Don’t own', 'Own by self', 'Own with others']\n",
      "Length: 3, dtype: string\n",
      "> uga2020: <StringArray>\n",
      "['Don’t own', 'Own by self', 'Own with others']\n",
      "Length: 3, dtype: string\n",
      "*********\n",
      "['Land ownership']\n",
      "*********\n",
      "Land ownership\n",
      "Land ownership\n",
      "1.0\n",
      "- Earning frequency\n",
      "> ken2020: <StringArray>\n",
      "[          'Daily', 'Weekly/Biweekly',    'I don’t work',         'Monthly',\n",
      " 'When I get work',     'Work unpaid']\n",
      "Length: 6, dtype: string\n",
      "> uga2020: <StringArray>\n",
      "[    'Work unpaid',           'Daily', 'When I get work',         'Monthly',\n",
      " 'Weekly/Biweekly',    'I don’t work']\n",
      "Length: 6, dtype: string\n",
      "*********\n",
      "['Earning frequency']\n",
      "*********\n",
      "Earning frequency\n",
      "Earning frequency\n",
      "1.0\n",
      "- Income frequency of spouse\n",
      "> ken2020: <StringArray>\n",
      "[        'Don’t work',            'Monthly',          'No spouse',\n",
      "              'Daily',    'Weekly/Biweekly',         'Don’t know',\n",
      " 'When they get work',        'Work unpaid']\n",
      "Length: 8, dtype: string\n",
      "> uga2020: <StringArray>\n",
      "[             'Daily',         'Don’t know',          'No spouse',\n",
      "            'Monthly',    'Weekly/Biweekly',         'Don’t work',\n",
      " 'When they get work',        'Work unpaid']\n",
      "Length: 8, dtype: string\n",
      "*********\n",
      "['Income frequency of spouse']\n",
      "*********\n",
      "Income frequency of spouse\n",
      "Income frequency of spouse\n",
      "1.0\n",
      "- Marital Status\n",
      "> ken2020: <StringArray>\n",
      "['Married/Relationship', 'Not married/Relationship']\n",
      "Length: 2, dtype: string\n",
      "> uga2020: <StringArray>\n",
      "['Married/Relationship', 'Not married/Relationship']\n",
      "Length: 2, dtype: string\n",
      "*********\n",
      "['Marital Status']\n",
      "*********\n",
      "Marital Status\n",
      "Marital Status\n",
      "1.0\n",
      "- Mobile Money\n",
      "> ken2020: <StringArray>\n",
      "['Yes', 'No']\n",
      "Length: 2, dtype: string\n",
      "> uga2020: <StringArray>\n",
      "['Yes', 'No']\n",
      "Length: 2, dtype: string\n",
      "*********\n",
      "['Mobile Money']\n",
      "*********\n",
      "Mobile Money\n",
      "Mobile Money\n",
      "1.0\n",
      "- Gender\n",
      "> ken2020: <StringArray>\n",
      "['Male', 'Female']\n",
      "Length: 2, dtype: string\n",
      "> uga2020: <StringArray>\n",
      "['Female', 'Male']\n",
      "Length: 2, dtype: string\n",
      "*********\n",
      "['Gender']\n",
      "*********\n",
      "Gender\n",
      "Gender\n",
      "1.0\n",
      "- Level of education\n",
      "> ken2020: <StringArray>\n",
      "['Secondary education',   'Primary education',    'Higher education',\n",
      " 'No formal education',               'Other']\n",
      "Length: 5, dtype: string\n",
      "> uga2020: <StringArray>\n",
      "['Secondary education', 'No formal education',    'Higher education',\n",
      "   'Primary education',               'Other']\n",
      "Length: 5, dtype: string\n",
      "*********\n",
      "['Level of education']\n",
      "*********\n",
      "Level of education\n",
      "Level of education\n",
      "1.0\n",
      "- Migrant worker identity\n",
      "> ken2020: <StringArray>\n",
      "['No-one, all live together', 'Other family', 'Spouse', 'Me']\n",
      "Length: 4, dtype: string\n",
      "> uga2020: <StringArray>\n",
      "['No-one, all live together', 'Other family', 'Spouse', 'Me']\n",
      "Length: 4, dtype: string\n",
      "*********\n",
      "['Migrant worker identity']\n",
      "*********\n",
      "Migrant worker identity\n",
      "Migrant worker identity\n",
      "1.0\n",
      "- Savings goal decision maker\n",
      "> ken2020: <StringArray>\n",
      "['Others on behalf', 'Self alone', 'No savings goal', 'Decide together']\n",
      "Length: 4, dtype: string\n",
      "> uga2020: <StringArray>\n",
      "['No savings goal', 'Self alone', 'Others on behalf', 'Decide together']\n",
      "Length: 4, dtype: string\n",
      "*********\n",
      "['Savings goal decision maker']\n",
      "*********\n",
      "Savings goal decision maker\n",
      "Savings goal decision maker\n",
      "1.0\n",
      "- Language of interview\n",
      "> ken2020: <StringArray>\n",
      "[ 'English',  'Swahili',      'Luo',    'Kisii',   'Kikuyu',   'Somali',\n",
      "     'Meru',    'Kamba',    'Luhya', 'Kalenjin']\n",
      "Length: 10, dtype: string\n",
      "> uga2020: <StringArray>\n",
      "[                                     'English',\n",
      "                                      'Luganda',\n",
      "                                        'Ateso',\n",
      " 'Runyakole/Rukiga/Runyakitara/Runyoro/Rutooro',\n",
      "                                      'Lugbara',\n",
      "                                         'Madi',\n",
      "                                      'Lugishu',\n",
      "                                          'Luo',\n",
      "                                  'Nkaromojong',\n",
      "                                    'Kupsabiny']\n",
      "Length: 10, dtype: string\n",
      "*********\n",
      "['Language of interview']\n",
      "*********\n",
      "Language of interview\n",
      "Language of interview\n",
      "1.0\n",
      "- Own a phone\n",
      "> ken2020: <StringArray>\n",
      "['Own phone', 'Don’t own phone']\n",
      "Length: 2, dtype: string\n",
      "> uga2020: <StringArray>\n",
      "['Own phone', 'Don’t own phone']\n",
      "Length: 2, dtype: string\n",
      "*********\n",
      "['Own a phone']\n",
      "*********\n",
      "Own a phone\n",
      "Own a phone\n",
      "1.0\n",
      "- Bank\n",
      "> ken2020: <StringArray>\n",
      "['Unbanked', 'Own', 'Spouse', 'Other', 'Other fam']\n",
      "Length: 5, dtype: string\n",
      "> uga2020: <StringArray>\n",
      "['Unbanked', 'Own', 'Spouse', 'Other fam', 'Other']\n",
      "Length: 5, dtype: string\n",
      "*********\n",
      "['Bank']\n",
      "*********\n",
      "Bank\n",
      "Bank\n",
      "1.0\n",
      "- Possibility to raise 1/20 GNI (Gross National Income)\n",
      "> ken2020: <StringArray>\n",
      "[  'Not very possible', 'Not at all possible',   'Somewhat possible',\n",
      "       'Very possible']\n",
      "Length: 4, dtype: string\n",
      "> uga2020: <StringArray>\n",
      "[      'Very possible', 'Not at all possible',   'Somewhat possible',\n",
      "   'Not very possible']\n",
      "Length: 4, dtype: string\n",
      "*********\n",
      "['Possibility to raise 1/20 GNI (Gross National Income)']\n",
      "*********\n",
      "Possibility to raise 1/20 GNI (Gross National Income)\n",
      "Possibility to raise 1/20 GNI (Gross National Income)\n",
      "1.0\n",
      "- Children decision maker\n",
      "> ken2020: <StringArray>\n",
      "[        'Decide together',     'Not in relationship',\n",
      " 'We do not talk about it',          'Spouse decides',\n",
      "            'Decide alone']\n",
      "Length: 5, dtype: string\n",
      "> uga2020: <StringArray>\n",
      "[        'Decide together',            'Decide alone',\n",
      "     'Not in relationship', 'We do not talk about it',\n",
      "          'Spouse decides',           'Others decide']\n",
      "Length: 6, dtype: string\n",
      "*********\n",
      "['Children decision maker']\n",
      "*********\n",
      "Children decision maker\n",
      "Children decision maker\n",
      "1.0\n",
      "- Independent phone use\n",
      "> ken2020: <StringArray>\n",
      "['Yes', 'No', 'Somewhat']\n",
      "Length: 3, dtype: string\n",
      "> uga2020: <StringArray>\n",
      "['Yes', 'No', 'Somewhat']\n",
      "Length: 3, dtype: string\n",
      "*********\n",
      "['Independent phone use']\n",
      "*********\n",
      "Independent phone use\n",
      "Independent phone use\n",
      "1.0\n",
      "- Money taken from account\n",
      "> ken2020: <StringArray>\n",
      "['Money not taken', 'Money taken', 'Don’t have account']\n",
      "Length: 3, dtype: string\n",
      "> uga2020: <StringArray>\n",
      "['Money not taken', 'Money taken', 'Don’t have account']\n",
      "Length: 3, dtype: string\n",
      "*********\n",
      "['Money taken from account']\n",
      "*********\n",
      "Money taken from account\n",
      "Money taken from account\n",
      "1.0\n",
      "- Phone ownership\n",
      "> ken2020: <StringArray>\n",
      "['Own phone/Business/Employer',                     'Sibling',\n",
      "      'Don’t use mobile phone',               'Husband/Wives',\n",
      "             'Other man/Women',                      'Parent',\n",
      "                    'Children']\n",
      "Length: 7, dtype: string\n",
      "> uga2020: <StringArray>\n",
      "['Own phone/Business/Employer',                     'Sibling',\n",
      "      'Don’t use mobile phone',               'Husband/Wives',\n",
      "                      'Parent',                    'Children',\n",
      "             'Other man/Women']\n",
      "Length: 7, dtype: string\n",
      "*********\n",
      "['Phone ownership']\n",
      "*********\n",
      "Phone ownership\n",
      "Phone ownership\n",
      "1.0\n",
      "- Informal financial usage\n",
      "> ken2020: <StringArray>\n",
      "['No', 'Yes']\n",
      "Length: 2, dtype: string\n",
      "> uga2020: <StringArray>\n",
      "['No', 'Yes']\n",
      "Length: 2, dtype: string\n",
      "*********\n",
      "['Informal financial usage']\n",
      "*********\n",
      "Informal financial usage\n",
      "Informal financial usage\n",
      "1.0\n",
      "Columns that doesn't have a full match from both datasets set()\n",
      "=========================   ken2020  -  tza2020\n",
      "Good matched columns\n",
      "- Poverty line\n",
      "> ken2020: <StringArray>\n",
      "['Above poverty line', 'Below poverty line']\n",
      "Length: 2, dtype: string\n",
      "> tza2020: <StringArray>\n",
      "['Above poverty line', 'Below poverty line']\n",
      "Length: 2, dtype: string\n",
      "*********\n",
      "['Poverty line']\n",
      "*********\n",
      "Poverty line\n",
      "Poverty line\n",
      "1.0\n",
      "- Permission to open bank\n",
      "> ken2020: <StringArray>\n",
      "['No', 'Yes']\n",
      "Length: 2, dtype: string\n",
      "> tza2020: <StringArray>\n",
      "['No', 'Yes']\n",
      "Length: 2, dtype: string\n",
      "*********\n",
      "['Permission to open bank']\n",
      "*********\n",
      "Permission to open bank\n",
      "Permission to open bank\n",
      "1.0\n",
      "- Permission to work\n",
      "> ken2020: <StringArray>\n",
      "['Already working', 'Yes', 'No']\n",
      "Length: 3, dtype: string\n",
      "> tza2020: <StringArray>\n",
      "['Already working', 'Yes', 'No']\n",
      "Length: 3, dtype: string\n",
      "*********\n",
      "['Permission to work']\n",
      "*********\n",
      "Permission to work\n",
      "Permission to work\n",
      "1.0\n",
      "- Age\n",
      "> ken2020: <StringArray>\n",
      "['25-34', '35-44', '18-24', '55+', '45-54']\n",
      "Length: 5, dtype: string\n",
      "> tza2020: <StringArray>\n",
      "['25-34', '18-24', '35-44', '45-54', '55+']\n",
      "Length: 5, dtype: string\n",
      "*********\n",
      "['Age']\n",
      "*********\n",
      "Age\n",
      "Age\n",
      "1.0\n",
      "- Main income earner\n",
      "> ken2020: <StringArray>\n",
      "['Respondent', 'Spouse', 'Other fam', 'Don’t know', 'Other', 'Earn equally']\n",
      "Length: 6, dtype: string\n",
      "> tza2020: <StringArray>\n",
      "['Respondent', 'Other fam', 'Spouse', 'Other', 'Don’t know', 'Earn equally']\n",
      "Length: 6, dtype: string\n",
      "*********\n",
      "['Main income earner']\n",
      "*********\n",
      "Main income earner\n",
      "Main income earner\n",
      "1.0\n",
      "- Savings goal influence\n",
      "> ken2020: <StringArray>\n",
      "['Sometimes accepted/Rejected',               'Don’t consult',\n",
      "             'No savings goal',             'Always accepted',\n",
      "             'Always rejected']\n",
      "Length: 5, dtype: string\n",
      "> tza2020: <StringArray>\n",
      "[            'Always accepted',             'No savings goal',\n",
      "               'Don’t consult', 'Sometimes accepted/Rejected',\n",
      "             'Always rejected']\n",
      "Length: 5, dtype: string\n",
      "*********\n",
      "['Savings goal influence']\n",
      "*********\n",
      "Savings goal influence\n",
      "Savings goal influence\n",
      "1.0\n",
      "- Geographic Area\n",
      "> ken2020: <StringArray>\n",
      "['Urban', 'Rural']\n",
      "Length: 2, dtype: string\n",
      "> tza2020: <StringArray>\n",
      "['Urban', 'Rural']\n",
      "Length: 2, dtype: string\n",
      "*********\n",
      "['Geographic Area']\n",
      "*********\n",
      "Geographic Area\n",
      "Geographic Area\n",
      "1.0\n",
      "- Allow spouse to work\n",
      "> ken2020: <StringArray>\n",
      "['Yes', 'Not married', 'No']\n",
      "Length: 3, dtype: string\n",
      "> tza2020: <StringArray>\n",
      "['Yes', 'Not married', 'No']\n",
      "Length: 3, dtype: string\n",
      "*********\n",
      "['Allow spouse to work']\n",
      "*********\n",
      "Allow spouse to work\n",
      "Allow spouse to work\n",
      "1.0\n",
      "- Land decision maker\n",
      "> ken2020: <StringArray>\n",
      "[          'Don’t own land', 'Others decide without me',\n",
      "             'Decide alone',       'Decide with others']\n",
      "Length: 4, dtype: string\n",
      "> tza2020: <StringArray>\n",
      "[          'Don’t own land',       'Decide with others',\n",
      "             'Decide alone', 'Others decide without me']\n",
      "Length: 4, dtype: string\n",
      "*********\n",
      "['Land decision maker']\n",
      "*********\n",
      "Land decision maker\n",
      "Land decision maker\n",
      "1.0\n",
      "- Spending decision maker\n",
      "> ken2020: <StringArray>\n",
      "['Help from someone else', 'Fully on own', 'Someone else decides']\n",
      "Length: 3, dtype: string\n",
      "> tza2020: <StringArray>\n",
      "['Fully on own', 'Help from someone else', 'Someone else decides']\n",
      "Length: 3, dtype: string\n",
      "*********\n",
      "['Spending decision maker']\n",
      "*********\n",
      "Spending decision maker\n",
      "Spending decision maker\n",
      "1.0\n",
      "- Mean household size\n",
      "> ken2020: <StringArray>\n",
      "['Below mean size', 'Above mean size', 'Mean']\n",
      "Length: 3, dtype: string\n",
      "> tza2020: <StringArray>\n",
      "['Below mean size', 'Above mean size', 'Mean']\n",
      "Length: 3, dtype: string\n",
      "*********\n",
      "['Mean household size']\n",
      "*********\n",
      "Mean household size\n",
      "Mean household size\n",
      "1.0\n",
      "- Land ownership\n",
      "> ken2020: <StringArray>\n",
      "['Don’t own', 'Own by self', 'Own with others']\n",
      "Length: 3, dtype: string\n",
      "> tza2020: <StringArray>\n",
      "['Don’t own', 'Own with others', 'Own by self']\n",
      "Length: 3, dtype: string\n",
      "*********\n",
      "['Land ownership']\n",
      "*********\n",
      "Land ownership\n",
      "Land ownership\n",
      "1.0\n",
      "- Earning frequency\n",
      "> ken2020: <StringArray>\n",
      "[          'Daily', 'Weekly/Biweekly',    'I don’t work',         'Monthly',\n",
      " 'When I get work',     'Work unpaid']\n",
      "Length: 6, dtype: string\n",
      "> tza2020: <StringArray>\n",
      "[          'Daily',    'I don’t work',         'Monthly', 'Weekly/Biweekly',\n",
      " 'When I get work',     'Work unpaid']\n",
      "Length: 6, dtype: string\n",
      "*********\n",
      "['Earning frequency']\n",
      "*********\n",
      "Earning frequency\n",
      "Earning frequency\n",
      "1.0\n",
      "- Income frequency of spouse\n",
      "> ken2020: <StringArray>\n",
      "[        'Don’t work',            'Monthly',          'No spouse',\n",
      "              'Daily',    'Weekly/Biweekly',         'Don’t know',\n",
      " 'When they get work',        'Work unpaid']\n",
      "Length: 8, dtype: string\n",
      "> tza2020: <StringArray>\n",
      "[   'Weekly/Biweekly',          'No spouse',        'Work unpaid',\n",
      "              'Daily',         'Don’t know',            'Monthly',\n",
      " 'When they get work',         'Don’t work']\n",
      "Length: 8, dtype: string\n",
      "*********\n",
      "['Income frequency of spouse']\n",
      "*********\n",
      "Income frequency of spouse\n",
      "Income frequency of spouse\n",
      "1.0\n",
      "- Marital Status\n",
      "> ken2020: <StringArray>\n",
      "['Married/Relationship', 'Not married/Relationship']\n",
      "Length: 2, dtype: string\n",
      "> tza2020: <StringArray>\n",
      "['Married/Relationship', 'Not married/Relationship']\n",
      "Length: 2, dtype: string\n",
      "*********\n",
      "['Marital Status']\n",
      "*********\n",
      "Marital Status\n",
      "Marital Status\n",
      "1.0\n",
      "- Mobile Money\n",
      "> ken2020: <StringArray>\n",
      "['Yes', 'No']\n",
      "Length: 2, dtype: string\n",
      "> tza2020: <StringArray>\n",
      "['Yes', 'No']\n",
      "Length: 2, dtype: string\n",
      "*********\n",
      "['Mobile Money']\n",
      "*********\n",
      "Mobile Money\n",
      "Mobile Money\n",
      "1.0\n",
      "- Gender\n",
      "> ken2020: <StringArray>\n",
      "['Male', 'Female']\n",
      "Length: 2, dtype: string\n",
      "> tza2020: <StringArray>\n",
      "['Female', 'Male']\n",
      "Length: 2, dtype: string\n",
      "*********\n",
      "['Gender']\n",
      "*********\n",
      "Gender\n",
      "Gender\n",
      "1.0\n",
      "- Level of education\n",
      "> ken2020: <StringArray>\n",
      "['Secondary education',   'Primary education',    'Higher education',\n",
      " 'No formal education',               'Other']\n",
      "Length: 5, dtype: string\n",
      "> tza2020: <StringArray>\n",
      "[  'Primary education', 'Secondary education',    'Higher education',\n",
      " 'No formal education']\n",
      "Length: 4, dtype: string\n",
      "*********\n",
      "['Level of education']\n",
      "*********\n",
      "Level of education\n",
      "Level of education\n",
      "1.0\n",
      "- Migrant worker identity\n",
      "> ken2020: <StringArray>\n",
      "['No-one, all live together', 'Other family', 'Spouse', 'Me']\n",
      "Length: 4, dtype: string\n",
      "> tza2020: <StringArray>\n",
      "['Spouse', 'Other family', 'No-one, all live together', 'Me']\n",
      "Length: 4, dtype: string\n",
      "*********\n",
      "['Migrant worker identity']\n",
      "*********\n",
      "Migrant worker identity\n",
      "Migrant worker identity\n",
      "1.0\n",
      "- Savings goal decision maker\n",
      "> ken2020: <StringArray>\n",
      "['Others on behalf', 'Self alone', 'No savings goal', 'Decide together']\n",
      "Length: 4, dtype: string\n",
      "> tza2020: <StringArray>\n",
      "['Self alone', 'No savings goal', 'Decide together', 'Others on behalf']\n",
      "Length: 4, dtype: string\n",
      "*********\n",
      "['Savings goal decision maker']\n",
      "*********\n",
      "Savings goal decision maker\n",
      "Savings goal decision maker\n",
      "1.0\n",
      "- Language of interview\n",
      "> ken2020: <StringArray>\n",
      "[ 'English',  'Swahili',      'Luo',    'Kisii',   'Kikuyu',   'Somali',\n",
      "     'Meru',    'Kamba',    'Luhya', 'Kalenjin']\n",
      "Length: 10, dtype: string\n",
      "> tza2020: <StringArray>\n",
      "['Swahili', 'English']\n",
      "Length: 2, dtype: string\n",
      "*********\n",
      "['Language of interview']\n",
      "*********\n",
      "Language of interview\n",
      "Language of interview\n",
      "1.0\n",
      "- Own a phone\n",
      "> ken2020: <StringArray>\n",
      "['Own phone', 'Don’t own phone']\n",
      "Length: 2, dtype: string\n",
      "> tza2020: <StringArray>\n",
      "['Own phone', 'Don’t own phone']\n",
      "Length: 2, dtype: string\n",
      "*********\n",
      "['Own a phone']\n",
      "*********\n",
      "Own a phone\n",
      "Own a phone\n",
      "1.0\n",
      "- Bank\n",
      "> ken2020: <StringArray>\n",
      "['Unbanked', 'Own', 'Spouse', 'Other', 'Other fam']\n",
      "Length: 5, dtype: string\n",
      "> tza2020: <StringArray>\n",
      "['Own', 'Unbanked', 'Spouse', 'Other', 'Other fam']\n",
      "Length: 5, dtype: string\n",
      "*********\n",
      "['Bank']\n",
      "*********\n",
      "Bank\n",
      "Bank\n",
      "1.0\n",
      "- Possibility to raise 1/20 GNI (Gross National Income)\n",
      "> ken2020: <StringArray>\n",
      "[  'Not very possible', 'Not at all possible',   'Somewhat possible',\n",
      "       'Very possible']\n",
      "Length: 4, dtype: string\n",
      "> tza2020: <StringArray>\n",
      "[  'Somewhat possible', 'Not at all possible',   'Not very possible',\n",
      "       'Very possible']\n",
      "Length: 4, dtype: string\n",
      "*********\n",
      "['Possibility to raise 1/20 GNI (Gross National Income)']\n",
      "*********\n",
      "Possibility to raise 1/20 GNI (Gross National Income)\n",
      "Possibility to raise 1/20 GNI (Gross National Income)\n",
      "1.0\n",
      "- Children decision maker\n",
      "> ken2020: <StringArray>\n",
      "[        'Decide together',     'Not in relationship',\n",
      " 'We do not talk about it',          'Spouse decides',\n",
      "            'Decide alone']\n",
      "Length: 5, dtype: string\n",
      "> tza2020: <StringArray>\n",
      "[        'Decide together',     'Not in relationship',\n",
      " 'We do not talk about it',            'Decide alone',\n",
      "          'Spouse decides',           'Others decide']\n",
      "Length: 6, dtype: string\n",
      "*********\n",
      "['Children decision maker']\n",
      "*********\n",
      "Children decision maker\n",
      "Children decision maker\n",
      "1.0\n",
      "- Independent phone use\n",
      "> ken2020: <StringArray>\n",
      "['Yes', 'No', 'Somewhat']\n",
      "Length: 3, dtype: string\n",
      "> tza2020: <StringArray>\n",
      "['Yes', 'Somewhat', 'No']\n",
      "Length: 3, dtype: string\n",
      "*********\n",
      "['Independent phone use']\n",
      "*********\n",
      "Independent phone use\n",
      "Independent phone use\n",
      "1.0\n",
      "- Money taken from account\n",
      "> ken2020: <StringArray>\n",
      "['Money not taken', 'Money taken', 'Don’t have account']\n",
      "Length: 3, dtype: string\n",
      "> tza2020: <StringArray>\n",
      "['Money not taken', 'Don’t have account', 'Money taken']\n",
      "Length: 3, dtype: string\n",
      "*********\n",
      "['Money taken from account']\n",
      "*********\n",
      "Money taken from account\n",
      "Money taken from account\n",
      "1.0\n",
      "- Phone ownership\n",
      "> ken2020: <StringArray>\n",
      "['Own phone/Business/Employer',                     'Sibling',\n",
      "      'Don’t use mobile phone',               'Husband/Wives',\n",
      "             'Other man/Women',                      'Parent',\n",
      "                    'Children']\n",
      "Length: 7, dtype: string\n",
      "> tza2020: <StringArray>\n",
      "['Own phone/Business/Employer',               'Husband/Wives',\n",
      "             'Other man/Women',      'Don’t use mobile phone',\n",
      "                      'Parent',                     'Sibling',\n",
      "                    'Children']\n",
      "Length: 7, dtype: string\n",
      "*********\n",
      "['Phone ownership']\n",
      "*********\n",
      "Phone ownership\n",
      "Phone ownership\n",
      "1.0\n",
      "- Informal financial usage\n",
      "> ken2020: <StringArray>\n",
      "['No', 'Yes']\n",
      "Length: 2, dtype: string\n",
      "> tza2020: <StringArray>\n",
      "['No', 'Yes']\n",
      "Length: 2, dtype: string\n",
      "*********\n",
      "['Informal financial usage']\n",
      "*********\n",
      "Informal financial usage\n",
      "Informal financial usage\n",
      "1.0\n",
      "Columns that doesn't have a full match from both datasets {'english literacy', 'swahili literacy'}\n",
      "=========================   pak2020  -  uga2020\n",
      "Good matched columns\n",
      "- Poverty line\n",
      "> pak2020: <StringArray>\n",
      "['Below poverty line', 'Above poverty line']\n",
      "Length: 2, dtype: string\n",
      "> uga2020: <StringArray>\n",
      "['Above poverty line', 'Below poverty line']\n",
      "Length: 2, dtype: string\n",
      "*********\n",
      "['Poverty line']\n",
      "*********\n",
      "Poverty line\n",
      "Poverty line\n",
      "1.0\n",
      "- Permission to open bank\n",
      "> pak2020: <StringArray>\n",
      "['No', 'Yes']\n",
      "Length: 2, dtype: string\n",
      "> uga2020: <StringArray>\n",
      "['No', 'Yes']\n",
      "Length: 2, dtype: string\n",
      "*********\n",
      "['Permission to open bank']\n",
      "*********\n",
      "Permission to open bank\n",
      "Permission to open bank\n",
      "1.0\n",
      "- Permission to work\n",
      "> pak2020: <StringArray>\n",
      "['Already working', 'Yes', 'No']\n",
      "Length: 3, dtype: string\n",
      "> uga2020: <StringArray>\n",
      "['Yes', 'Already working', 'No']\n",
      "Length: 3, dtype: string\n",
      "*********\n",
      "['Permission to work']\n",
      "*********\n",
      "Permission to work\n",
      "Permission to work\n",
      "1.0\n",
      "- Age\n",
      "> pak2020: <StringArray>\n",
      "['55+', '45-54', '35-44', '18-24', '25-34']\n",
      "Length: 5, dtype: string\n",
      "> uga2020: <StringArray>\n",
      "['18-24', '35-44', '25-34', '55+', '45-54']\n",
      "Length: 5, dtype: string\n",
      "*********\n",
      "['Age']\n",
      "*********\n",
      "Age\n",
      "Age\n",
      "1.0\n",
      "- Main income earner\n",
      "> pak2020: <StringArray>\n",
      "['Respondent', 'Other fam', 'Spouse', 'Don’t know', 'Other']\n",
      "Length: 5, dtype: string\n",
      "> uga2020: <StringArray>\n",
      "['Other fam', 'Respondent', 'Other', 'Spouse', 'Don’t know']\n",
      "Length: 5, dtype: string\n",
      "*********\n",
      "['Main income earner']\n",
      "*********\n",
      "Main income earner\n",
      "Main income earner\n",
      "1.0\n",
      "- Savings goal influence\n",
      "> pak2020: <StringArray>\n",
      "[            'Always accepted',             'No savings goal',\n",
      "             'Always rejected', 'Sometimes accepted/Rejected',\n",
      "               'Don’t consult']\n",
      "Length: 5, dtype: string\n",
      "> uga2020: <StringArray>\n",
      "[            'No savings goal',               'Don’t consult',\n",
      "             'Always accepted', 'Sometimes accepted/Rejected',\n",
      "             'Always rejected']\n",
      "Length: 5, dtype: string\n",
      "*********\n",
      "['Savings goal influence']\n",
      "*********\n",
      "Savings goal influence\n",
      "Savings goal influence\n",
      "1.0\n",
      "- Geographic Area\n",
      "> pak2020: <StringArray>\n",
      "['Rural', 'Urban']\n",
      "Length: 2, dtype: string\n",
      "> uga2020: <StringArray>\n",
      "['Urban', 'Rural']\n",
      "Length: 2, dtype: string\n",
      "*********\n",
      "['Geographic Area']\n",
      "*********\n",
      "Geographic Area\n",
      "Geographic Area\n",
      "1.0\n",
      "- Allow spouse to work\n",
      "> pak2020: <StringArray>\n",
      "['No', 'Not married', 'Yes']\n",
      "Length: 3, dtype: string\n",
      "> uga2020: <StringArray>\n",
      "['Yes', 'Not married', 'No']\n",
      "Length: 3, dtype: string\n",
      "*********\n",
      "['Allow spouse to work']\n",
      "*********\n",
      "Allow spouse to work\n",
      "Allow spouse to work\n",
      "1.0\n",
      "- Province / Region\n",
      "> pak2020: <StringArray>\n",
      "['Kp', 'Punjab', 'Sindh', 'Balochistan']\n",
      "Length: 4, dtype: string\n",
      "> uga2020: <StringArray>\n",
      "['Central', 'Eastern', 'Western', 'Northern']\n",
      "Length: 4, dtype: string\n",
      "*********\n",
      "['Province / Region']\n",
      "*********\n",
      "Province / Region\n",
      "Province / Region\n",
      "1.0\n",
      "- Land decision maker\n",
      "> pak2020: <StringArray>\n",
      "[          'Don’t own land',       'Decide with others',\n",
      " 'Others decide without me',             'Decide alone']\n",
      "Length: 4, dtype: string\n",
      "> uga2020: <StringArray>\n",
      "[          'Don’t own land',             'Decide alone',\n",
      "       'Decide with others', 'Others decide without me']\n",
      "Length: 4, dtype: string\n",
      "*********\n",
      "['Land decision maker']\n",
      "*********\n",
      "Land decision maker\n",
      "Land decision maker\n",
      "1.0\n",
      "- Spending decision maker\n",
      "> pak2020: <StringArray>\n",
      "['Fully on own', 'Someone else decides', 'Help from someone else']\n",
      "Length: 3, dtype: string\n",
      "> uga2020: <StringArray>\n",
      "['Fully on own', 'Help from someone else', 'Someone else decides']\n",
      "Length: 3, dtype: string\n",
      "*********\n",
      "['Spending decision maker']\n",
      "*********\n",
      "Spending decision maker\n",
      "Spending decision maker\n",
      "1.0\n",
      "- Mean household size\n",
      "> pak2020: <StringArray>\n",
      "['Below mean size', 'Above mean size', 'Mean']\n",
      "Length: 3, dtype: string\n",
      "> uga2020: <StringArray>\n",
      "['Below mean size', 'Mean', 'Above mean size']\n",
      "Length: 3, dtype: string\n",
      "*********\n",
      "['Mean household size']\n",
      "*********\n",
      "Mean household size\n",
      "Mean household size\n",
      "1.0\n",
      "- Land ownership\n",
      "> pak2020: <StringArray>\n",
      "['Don’t own', 'Own by self', 'Own with others']\n",
      "Length: 3, dtype: string\n",
      "> uga2020: <StringArray>\n",
      "['Don’t own', 'Own by self', 'Own with others']\n",
      "Length: 3, dtype: string\n",
      "*********\n",
      "['Land ownership']\n",
      "*********\n",
      "Land ownership\n",
      "Land ownership\n",
      "1.0\n",
      "- Earning frequency\n",
      "> pak2020: <StringArray>\n",
      "[        'Monthly',    'I don’t work',           'Daily', 'Weekly/Biweekly',\n",
      "    'Infrequently',     'Work unpaid']\n",
      "Length: 6, dtype: string\n",
      "> uga2020: <StringArray>\n",
      "[    'Work unpaid',           'Daily', 'When I get work',         'Monthly',\n",
      " 'Weekly/Biweekly',    'I don’t work']\n",
      "Length: 6, dtype: string\n",
      "*********\n",
      "['Earning frequency']\n",
      "*********\n",
      "Earning frequency\n",
      "Earning frequency\n",
      "1.0\n",
      "- Income frequency of spouse\n",
      "> pak2020: <StringArray>\n",
      "[        'Don’t work',          'No spouse',              'Daily',\n",
      "        'Work unpaid',            'Monthly',    'Weekly/Biweekly',\n",
      "         'Don’t know', 'When they get work']\n",
      "Length: 8, dtype: string\n",
      "> uga2020: <StringArray>\n",
      "[             'Daily',         'Don’t know',          'No spouse',\n",
      "            'Monthly',    'Weekly/Biweekly',         'Don’t work',\n",
      " 'When they get work',        'Work unpaid']\n",
      "Length: 8, dtype: string\n",
      "*********\n",
      "['Income frequency of spouse']\n",
      "*********\n",
      "Income frequency of spouse\n",
      "Income frequency of spouse\n",
      "1.0\n",
      "- Marital Status\n",
      "> pak2020: <StringArray>\n",
      "['Married', 'Not married']\n",
      "Length: 2, dtype: string\n",
      "> uga2020: <StringArray>\n",
      "['Married/Relationship', 'Not married/Relationship']\n",
      "Length: 2, dtype: string\n",
      "*********\n",
      "['Marital Status']\n",
      "*********\n",
      "Marital Status\n",
      "Marital Status\n",
      "1.0\n",
      "- Mobile Money\n",
      "> pak2020: <StringArray>\n",
      "['Yes', 'No']\n",
      "Length: 2, dtype: string\n",
      "> uga2020: <StringArray>\n",
      "['Yes', 'No']\n",
      "Length: 2, dtype: string\n",
      "*********\n",
      "['Mobile Money']\n",
      "*********\n",
      "Mobile Money\n",
      "Mobile Money\n",
      "1.0\n",
      "- Gender\n",
      "> pak2020: <StringArray>\n",
      "['Male', 'Female']\n",
      "Length: 2, dtype: string\n",
      "> uga2020: <StringArray>\n",
      "['Female', 'Male']\n",
      "Length: 2, dtype: string\n",
      "*********\n",
      "['Gender']\n",
      "*********\n",
      "Gender\n",
      "Gender\n",
      "1.0\n",
      "- Level of education\n",
      "> pak2020: <StringArray>\n",
      "['No formal education', 'Secondary education',   'Primary education',\n",
      "               'Other',    'Higher education']\n",
      "Length: 5, dtype: string\n",
      "> uga2020: <StringArray>\n",
      "['Secondary education', 'No formal education',    'Higher education',\n",
      "   'Primary education',               'Other']\n",
      "Length: 5, dtype: string\n",
      "*********\n",
      "['Level of education']\n",
      "*********\n",
      "Level of education\n",
      "Level of education\n",
      "1.0\n",
      "- Migrant worker identity\n",
      "> pak2020: <StringArray>\n",
      "['Other family', 'No-one, all live together', 'Spouse', 'Me']\n",
      "Length: 4, dtype: string\n",
      "> uga2020: <StringArray>\n",
      "['No-one, all live together', 'Other family', 'Spouse', 'Me']\n",
      "Length: 4, dtype: string\n",
      "*********\n",
      "['Migrant worker identity']\n",
      "*********\n",
      "Migrant worker identity\n",
      "Migrant worker identity\n",
      "1.0\n",
      "- Savings goal decision maker\n",
      "> pak2020: <StringArray>\n",
      "['Self alone', 'No savings goal', 'Others on behalf', 'Decide together']\n",
      "Length: 4, dtype: string\n",
      "> uga2020: <StringArray>\n",
      "['No savings goal', 'Self alone', 'Others on behalf', 'Decide together']\n",
      "Length: 4, dtype: string\n",
      "*********\n",
      "['Savings goal decision maker']\n",
      "*********\n",
      "Savings goal decision maker\n",
      "Savings goal decision maker\n",
      "1.0\n",
      "- Language of interview\n",
      "> pak2020: <StringArray>\n",
      "['Urdu', 'English']\n",
      "Length: 2, dtype: string\n",
      "> uga2020: <StringArray>\n",
      "[                                     'English',\n",
      "                                      'Luganda',\n",
      "                                        'Ateso',\n",
      " 'Runyakole/Rukiga/Runyakitara/Runyoro/Rutooro',\n",
      "                                      'Lugbara',\n",
      "                                         'Madi',\n",
      "                                      'Lugishu',\n",
      "                                          'Luo',\n",
      "                                  'Nkaromojong',\n",
      "                                    'Kupsabiny']\n",
      "Length: 10, dtype: string\n",
      "*********\n",
      "['Language of interview']\n",
      "*********\n",
      "Language of interview\n",
      "Language of interview\n",
      "1.0\n",
      "- Own a phone\n",
      "> pak2020: <StringArray>\n",
      "['Own phone/Business/Employer', 'Don’t own phone']\n",
      "Length: 2, dtype: string\n",
      "> uga2020: <StringArray>\n",
      "['Own phone', 'Don’t own phone']\n",
      "Length: 2, dtype: string\n",
      "*********\n",
      "['Own a phone']\n",
      "*********\n",
      "Own a phone\n",
      "Own a phone\n",
      "1.0\n",
      "- Bank\n",
      "> pak2020: <StringArray>\n",
      "['Own', 'Unbanked', 'Spouse', 'Other fam', 'Other']\n",
      "Length: 5, dtype: string\n",
      "> uga2020: <StringArray>\n",
      "['Unbanked', 'Own', 'Spouse', 'Other fam', 'Other']\n",
      "Length: 5, dtype: string\n",
      "*********\n",
      "['Bank']\n",
      "*********\n",
      "Bank\n",
      "Bank\n",
      "1.0\n",
      "- Possibility to raise 1/20 GNI (Gross National Income)\n",
      "> pak2020: <StringArray>\n",
      "[  'Somewhat possible', 'Not at all possible',   'Not very possible',\n",
      "       'Very possible']\n",
      "Length: 4, dtype: string\n",
      "> uga2020: <StringArray>\n",
      "[      'Very possible', 'Not at all possible',   'Somewhat possible',\n",
      "   'Not very possible']\n",
      "Length: 4, dtype: string\n",
      "*********\n",
      "['Possibility to raise 1/20 GNI (Gross National Income)']\n",
      "*********\n",
      "Possibility to raise 1/20 GNI (Gross National Income)\n",
      "Possibility to raise 1/20 GNI (Gross National Income)\n",
      "1.0\n",
      "- Children decision maker\n",
      "> pak2020: <StringArray>\n",
      "[           'Decide alone',             'Not married',\n",
      "         'Decide together', 'We do not talk about it',\n",
      "          'Spouse decides',           'Others decide']\n",
      "Length: 6, dtype: string\n",
      "> uga2020: <StringArray>\n",
      "[        'Decide together',            'Decide alone',\n",
      "     'Not in relationship', 'We do not talk about it',\n",
      "          'Spouse decides',           'Others decide']\n",
      "Length: 6, dtype: string\n",
      "*********\n",
      "['Children decision maker']\n",
      "*********\n",
      "Children decision maker\n",
      "Children decision maker\n",
      "1.0\n",
      "- Independent phone use\n",
      "> pak2020: <StringArray>\n",
      "['Yes', 'Somewhat', 'No']\n",
      "Length: 3, dtype: string\n",
      "> uga2020: <StringArray>\n",
      "['Yes', 'No', 'Somewhat']\n",
      "Length: 3, dtype: string\n",
      "*********\n",
      "['Independent phone use']\n",
      "*********\n",
      "Independent phone use\n",
      "Independent phone use\n",
      "1.0\n",
      "- Money taken from account\n",
      "> pak2020: <StringArray>\n",
      "['Money not taken', 'Don’t have account', 'Money taken']\n",
      "Length: 3, dtype: string\n",
      "> uga2020: <StringArray>\n",
      "['Money not taken', 'Money taken', 'Don’t have account']\n",
      "Length: 3, dtype: string\n",
      "*********\n",
      "['Money taken from account']\n",
      "*********\n",
      "Money taken from account\n",
      "Money taken from account\n",
      "1.0\n",
      "- Phone ownership\n",
      "> pak2020: <StringArray>\n",
      "[             'Own phone',                 'Parent',          'Husband/Wives',\n",
      " 'Don’t use mobile phone',                'Sibling',               'Children',\n",
      "        'Other man/Women']\n",
      "Length: 7, dtype: string\n",
      "> uga2020: <StringArray>\n",
      "['Own phone/Business/Employer',                     'Sibling',\n",
      "      'Don’t use mobile phone',               'Husband/Wives',\n",
      "                      'Parent',                    'Children',\n",
      "             'Other man/Women']\n",
      "Length: 7, dtype: string\n",
      "*********\n",
      "['Phone ownership']\n",
      "*********\n",
      "Phone ownership\n",
      "Phone ownership\n",
      "1.0\n",
      "- Main language\n",
      "> pak2020: <StringArray>\n",
      "['Pashto', 'Punjabi', 'Urdu', 'Sindhi', 'Other', 'Balochi', 'Saraiki']\n",
      "Length: 7, dtype: string\n",
      "> uga2020: <StringArray>\n",
      "[                                     'Luganda',\n",
      " 'Runyakole/Rukiga/Runyakitara/Runyoro/Rutooro',\n",
      "                                      'English',\n",
      "                                       'Lusoga',\n",
      "                                        'Ateso',\n",
      "                                      'Lukonzo',\n",
      "                                      'Lugishu',\n",
      "                                      'Lugbara',\n",
      "                                      'Lugwere',\n",
      "                                         'Madi',\n",
      "                                        'Other',\n",
      "                                          'Luo',\n",
      "                            'Alur / dhopadhola',\n",
      "                                  'Nkaromojong',\n",
      "                                    'Kupsabiny']\n",
      "Length: 15, dtype: string\n",
      "- Informal financial usage\n",
      "> pak2020: <StringArray>\n",
      "['No', 'Yes']\n",
      "Length: 2, dtype: string\n",
      "> uga2020: <StringArray>\n",
      "['No', 'Yes']\n",
      "Length: 2, dtype: string\n",
      "*********\n",
      "['Informal financial usage']\n",
      "*********\n",
      "Informal financial usage\n",
      "Informal financial usage\n",
      "1.0\n",
      "Columns that doesn't have a full match from both datasets {'read & write in any language', 'english literacy', 'division'}\n",
      "=========================   pak2020  -  tza2020\n",
      "Good matched columns\n",
      "- Poverty line\n",
      "> pak2020: <StringArray>\n",
      "['Below poverty line', 'Above poverty line']\n",
      "Length: 2, dtype: string\n",
      "> tza2020: <StringArray>\n",
      "['Above poverty line', 'Below poverty line']\n",
      "Length: 2, dtype: string\n",
      "*********\n",
      "['Poverty line']\n",
      "*********\n",
      "Poverty line\n",
      "Poverty line\n",
      "1.0\n",
      "- Permission to open bank\n",
      "> pak2020: <StringArray>\n",
      "['No', 'Yes']\n",
      "Length: 2, dtype: string\n",
      "> tza2020: <StringArray>\n",
      "['No', 'Yes']\n",
      "Length: 2, dtype: string\n",
      "*********\n",
      "['Permission to open bank']\n",
      "*********\n",
      "Permission to open bank\n",
      "Permission to open bank\n",
      "1.0\n",
      "- Permission to work\n",
      "> pak2020: <StringArray>\n",
      "['Already working', 'Yes', 'No']\n",
      "Length: 3, dtype: string\n",
      "> tza2020: <StringArray>\n",
      "['Already working', 'Yes', 'No']\n",
      "Length: 3, dtype: string\n",
      "*********\n",
      "['Permission to work']\n",
      "*********\n",
      "Permission to work\n",
      "Permission to work\n",
      "1.0\n",
      "- Age\n",
      "> pak2020: <StringArray>\n",
      "['55+', '45-54', '35-44', '18-24', '25-34']\n",
      "Length: 5, dtype: string\n",
      "> tza2020: <StringArray>\n",
      "['25-34', '18-24', '35-44', '45-54', '55+']\n",
      "Length: 5, dtype: string\n",
      "*********\n",
      "['Age']\n",
      "*********\n",
      "Age\n",
      "Age\n",
      "1.0\n",
      "- Main income earner\n",
      "> pak2020: <StringArray>\n",
      "['Respondent', 'Other fam', 'Spouse', 'Don’t know', 'Other']\n",
      "Length: 5, dtype: string\n",
      "> tza2020: <StringArray>\n",
      "['Respondent', 'Other fam', 'Spouse', 'Other', 'Don’t know', 'Earn equally']\n",
      "Length: 6, dtype: string\n",
      "*********\n",
      "['Main income earner']\n",
      "*********\n",
      "Main income earner\n",
      "Main income earner\n",
      "1.0\n",
      "- Savings goal influence\n",
      "> pak2020: <StringArray>\n",
      "[            'Always accepted',             'No savings goal',\n",
      "             'Always rejected', 'Sometimes accepted/Rejected',\n",
      "               'Don’t consult']\n",
      "Length: 5, dtype: string\n",
      "> tza2020: <StringArray>\n",
      "[            'Always accepted',             'No savings goal',\n",
      "               'Don’t consult', 'Sometimes accepted/Rejected',\n",
      "             'Always rejected']\n",
      "Length: 5, dtype: string\n",
      "*********\n",
      "['Savings goal influence']\n",
      "*********\n",
      "Savings goal influence\n",
      "Savings goal influence\n",
      "1.0\n",
      "- Geographic Area\n",
      "> pak2020: <StringArray>\n",
      "['Rural', 'Urban']\n",
      "Length: 2, dtype: string\n",
      "> tza2020: <StringArray>\n",
      "['Urban', 'Rural']\n",
      "Length: 2, dtype: string\n",
      "*********\n",
      "['Geographic Area']\n",
      "*********\n",
      "Geographic Area\n",
      "Geographic Area\n",
      "1.0\n",
      "- Allow spouse to work\n",
      "> pak2020: <StringArray>\n",
      "['No', 'Not married', 'Yes']\n",
      "Length: 3, dtype: string\n",
      "> tza2020: <StringArray>\n",
      "['Yes', 'Not married', 'No']\n",
      "Length: 3, dtype: string\n",
      "*********\n",
      "['Allow spouse to work']\n",
      "*********\n",
      "Allow spouse to work\n",
      "Allow spouse to work\n",
      "1.0\n",
      "- Land decision maker\n",
      "> pak2020: <StringArray>\n",
      "[          'Don’t own land',       'Decide with others',\n",
      " 'Others decide without me',             'Decide alone']\n",
      "Length: 4, dtype: string\n",
      "> tza2020: <StringArray>\n",
      "[          'Don’t own land',       'Decide with others',\n",
      "             'Decide alone', 'Others decide without me']\n",
      "Length: 4, dtype: string\n",
      "*********\n",
      "['Land decision maker']\n",
      "*********\n",
      "Land decision maker\n",
      "Land decision maker\n",
      "1.0\n",
      "- Spending decision maker\n",
      "> pak2020: <StringArray>\n",
      "['Fully on own', 'Someone else decides', 'Help from someone else']\n",
      "Length: 3, dtype: string\n",
      "> tza2020: <StringArray>\n",
      "['Fully on own', 'Help from someone else', 'Someone else decides']\n",
      "Length: 3, dtype: string\n",
      "*********\n",
      "['Spending decision maker']\n",
      "*********\n",
      "Spending decision maker\n",
      "Spending decision maker\n",
      "1.0\n",
      "- Mean household size\n",
      "> pak2020: <StringArray>\n",
      "['Below mean size', 'Above mean size', 'Mean']\n",
      "Length: 3, dtype: string\n",
      "> tza2020: <StringArray>\n",
      "['Below mean size', 'Above mean size', 'Mean']\n",
      "Length: 3, dtype: string\n",
      "*********\n",
      "['Mean household size']\n",
      "*********\n",
      "Mean household size\n",
      "Mean household size\n",
      "1.0\n",
      "- Land ownership\n",
      "> pak2020: <StringArray>\n",
      "['Don’t own', 'Own by self', 'Own with others']\n",
      "Length: 3, dtype: string\n",
      "> tza2020: <StringArray>\n",
      "['Don’t own', 'Own with others', 'Own by self']\n",
      "Length: 3, dtype: string\n",
      "*********\n",
      "['Land ownership']\n",
      "*********\n",
      "Land ownership\n",
      "Land ownership\n",
      "1.0\n",
      "- Earning frequency\n",
      "> pak2020: <StringArray>\n",
      "[        'Monthly',    'I don’t work',           'Daily', 'Weekly/Biweekly',\n",
      "    'Infrequently',     'Work unpaid']\n",
      "Length: 6, dtype: string\n",
      "> tza2020: <StringArray>\n",
      "[          'Daily',    'I don’t work',         'Monthly', 'Weekly/Biweekly',\n",
      " 'When I get work',     'Work unpaid']\n",
      "Length: 6, dtype: string\n",
      "*********\n",
      "['Earning frequency']\n",
      "*********\n",
      "Earning frequency\n",
      "Earning frequency\n",
      "1.0\n",
      "- Income frequency of spouse\n",
      "> pak2020: <StringArray>\n",
      "[        'Don’t work',          'No spouse',              'Daily',\n",
      "        'Work unpaid',            'Monthly',    'Weekly/Biweekly',\n",
      "         'Don’t know', 'When they get work']\n",
      "Length: 8, dtype: string\n",
      "> tza2020: <StringArray>\n",
      "[   'Weekly/Biweekly',          'No spouse',        'Work unpaid',\n",
      "              'Daily',         'Don’t know',            'Monthly',\n",
      " 'When they get work',         'Don’t work']\n",
      "Length: 8, dtype: string\n",
      "*********\n",
      "['Income frequency of spouse']\n",
      "*********\n",
      "Income frequency of spouse\n",
      "Income frequency of spouse\n",
      "1.0\n",
      "- Marital Status\n",
      "> pak2020: <StringArray>\n",
      "['Married', 'Not married']\n",
      "Length: 2, dtype: string\n",
      "> tza2020: <StringArray>\n",
      "['Married/Relationship', 'Not married/Relationship']\n",
      "Length: 2, dtype: string\n",
      "*********\n",
      "['Marital Status']\n",
      "*********\n",
      "Marital Status\n",
      "Marital Status\n",
      "1.0\n",
      "- Mobile Money\n",
      "> pak2020: <StringArray>\n",
      "['Yes', 'No']\n",
      "Length: 2, dtype: string\n",
      "> tza2020: <StringArray>\n",
      "['Yes', 'No']\n",
      "Length: 2, dtype: string\n",
      "*********\n",
      "['Mobile Money']\n",
      "*********\n",
      "Mobile Money\n",
      "Mobile Money\n",
      "1.0\n",
      "- Gender\n",
      "> pak2020: <StringArray>\n",
      "['Male', 'Female']\n",
      "Length: 2, dtype: string\n",
      "> tza2020: <StringArray>\n",
      "['Female', 'Male']\n",
      "Length: 2, dtype: string\n",
      "*********\n",
      "['Gender']\n",
      "*********\n",
      "Gender\n",
      "Gender\n",
      "1.0\n",
      "- Level of education\n",
      "> pak2020: <StringArray>\n",
      "['No formal education', 'Secondary education',   'Primary education',\n",
      "               'Other',    'Higher education']\n",
      "Length: 5, dtype: string\n",
      "> tza2020: <StringArray>\n",
      "[  'Primary education', 'Secondary education',    'Higher education',\n",
      " 'No formal education']\n",
      "Length: 4, dtype: string\n",
      "*********\n",
      "['Level of education']\n",
      "*********\n",
      "Level of education\n",
      "Level of education\n",
      "1.0\n",
      "- Migrant worker identity\n",
      "> pak2020: <StringArray>\n",
      "['Other family', 'No-one, all live together', 'Spouse', 'Me']\n",
      "Length: 4, dtype: string\n",
      "> tza2020: <StringArray>\n",
      "['Spouse', 'Other family', 'No-one, all live together', 'Me']\n",
      "Length: 4, dtype: string\n",
      "*********\n",
      "['Migrant worker identity']\n",
      "*********\n",
      "Migrant worker identity\n",
      "Migrant worker identity\n",
      "1.0\n",
      "- Savings goal decision maker\n",
      "> pak2020: <StringArray>\n",
      "['Self alone', 'No savings goal', 'Others on behalf', 'Decide together']\n",
      "Length: 4, dtype: string\n",
      "> tza2020: <StringArray>\n",
      "['Self alone', 'No savings goal', 'Decide together', 'Others on behalf']\n",
      "Length: 4, dtype: string\n",
      "*********\n",
      "['Savings goal decision maker']\n",
      "*********\n",
      "Savings goal decision maker\n",
      "Savings goal decision maker\n",
      "1.0\n",
      "- Language of interview\n",
      "> pak2020: <StringArray>\n",
      "['Urdu', 'English']\n",
      "Length: 2, dtype: string\n",
      "> tza2020: <StringArray>\n",
      "['Swahili', 'English']\n",
      "Length: 2, dtype: string\n",
      "*********\n",
      "['Language of interview']\n",
      "*********\n",
      "Language of interview\n",
      "Language of interview\n",
      "1.0\n",
      "- Own a phone\n",
      "> pak2020: <StringArray>\n",
      "['Own phone/Business/Employer', 'Don’t own phone']\n",
      "Length: 2, dtype: string\n",
      "> tza2020: <StringArray>\n",
      "['Own phone', 'Don’t own phone']\n",
      "Length: 2, dtype: string\n",
      "*********\n",
      "['Own a phone']\n",
      "*********\n",
      "Own a phone\n",
      "Own a phone\n",
      "1.0\n",
      "- Bank\n",
      "> pak2020: <StringArray>\n",
      "['Own', 'Unbanked', 'Spouse', 'Other fam', 'Other']\n",
      "Length: 5, dtype: string\n",
      "> tza2020: <StringArray>\n",
      "['Own', 'Unbanked', 'Spouse', 'Other', 'Other fam']\n",
      "Length: 5, dtype: string\n",
      "*********\n",
      "['Bank']\n",
      "*********\n",
      "Bank\n",
      "Bank\n",
      "1.0\n",
      "- Possibility to raise 1/20 GNI (Gross National Income)\n",
      "> pak2020: <StringArray>\n",
      "[  'Somewhat possible', 'Not at all possible',   'Not very possible',\n",
      "       'Very possible']\n",
      "Length: 4, dtype: string\n",
      "> tza2020: <StringArray>\n",
      "[  'Somewhat possible', 'Not at all possible',   'Not very possible',\n",
      "       'Very possible']\n",
      "Length: 4, dtype: string\n",
      "*********\n",
      "['Possibility to raise 1/20 GNI (Gross National Income)']\n",
      "*********\n",
      "Possibility to raise 1/20 GNI (Gross National Income)\n",
      "Possibility to raise 1/20 GNI (Gross National Income)\n",
      "1.0\n",
      "- Children decision maker\n",
      "> pak2020: <StringArray>\n",
      "[           'Decide alone',             'Not married',\n",
      "         'Decide together', 'We do not talk about it',\n",
      "          'Spouse decides',           'Others decide']\n",
      "Length: 6, dtype: string\n",
      "> tza2020: <StringArray>\n",
      "[        'Decide together',     'Not in relationship',\n",
      " 'We do not talk about it',            'Decide alone',\n",
      "          'Spouse decides',           'Others decide']\n",
      "Length: 6, dtype: string\n",
      "*********\n",
      "['Children decision maker']\n",
      "*********\n",
      "Children decision maker\n",
      "Children decision maker\n",
      "1.0\n",
      "- Independent phone use\n",
      "> pak2020: <StringArray>\n",
      "['Yes', 'Somewhat', 'No']\n",
      "Length: 3, dtype: string\n",
      "> tza2020: <StringArray>\n",
      "['Yes', 'Somewhat', 'No']\n",
      "Length: 3, dtype: string\n",
      "*********\n",
      "['Independent phone use']\n",
      "*********\n",
      "Independent phone use\n",
      "Independent phone use\n",
      "1.0\n",
      "- Money taken from account\n",
      "> pak2020: <StringArray>\n",
      "['Money not taken', 'Don’t have account', 'Money taken']\n",
      "Length: 3, dtype: string\n",
      "> tza2020: <StringArray>\n",
      "['Money not taken', 'Don’t have account', 'Money taken']\n",
      "Length: 3, dtype: string\n",
      "*********\n",
      "['Money taken from account']\n",
      "*********\n",
      "Money taken from account\n",
      "Money taken from account\n",
      "1.0\n",
      "- Phone ownership\n",
      "> pak2020: <StringArray>\n",
      "[             'Own phone',                 'Parent',          'Husband/Wives',\n",
      " 'Don’t use mobile phone',                'Sibling',               'Children',\n",
      "        'Other man/Women']\n",
      "Length: 7, dtype: string\n",
      "> tza2020: <StringArray>\n",
      "['Own phone/Business/Employer',               'Husband/Wives',\n",
      "             'Other man/Women',      'Don’t use mobile phone',\n",
      "                      'Parent',                     'Sibling',\n",
      "                    'Children']\n",
      "Length: 7, dtype: string\n",
      "*********\n",
      "['Phone ownership']\n",
      "*********\n",
      "Phone ownership\n",
      "Phone ownership\n",
      "1.0\n",
      "- Informal financial usage\n",
      "> pak2020: <StringArray>\n",
      "['No', 'Yes']\n",
      "Length: 2, dtype: string\n",
      "> tza2020: <StringArray>\n",
      "['No', 'Yes']\n",
      "Length: 2, dtype: string\n",
      "*********\n",
      "['Informal financial usage']\n",
      "*********\n",
      "Informal financial usage\n",
      "Informal financial usage\n",
      "1.0\n",
      "Columns that doesn't have a full match from both datasets {'read & write in any language', 'division', 'swahili literacy'}\n",
      "=========================   uga2020  -  tza2020\n",
      "Good matched columns\n",
      "- Poverty line\n",
      "> uga2020: <StringArray>\n",
      "['Above poverty line', 'Below poverty line']\n",
      "Length: 2, dtype: string\n",
      "> tza2020: <StringArray>\n",
      "['Above poverty line', 'Below poverty line']\n",
      "Length: 2, dtype: string\n",
      "*********\n",
      "['Poverty line']\n",
      "*********\n",
      "Poverty line\n",
      "Poverty line\n",
      "1.0\n",
      "- Permission to open bank\n",
      "> uga2020: <StringArray>\n",
      "['No', 'Yes']\n",
      "Length: 2, dtype: string\n",
      "> tza2020: <StringArray>\n",
      "['No', 'Yes']\n",
      "Length: 2, dtype: string\n",
      "*********\n",
      "['Permission to open bank']\n",
      "*********\n",
      "Permission to open bank\n",
      "Permission to open bank\n",
      "1.0\n",
      "- Permission to work\n",
      "> uga2020: <StringArray>\n",
      "['Yes', 'Already working', 'No']\n",
      "Length: 3, dtype: string\n",
      "> tza2020: <StringArray>\n",
      "['Already working', 'Yes', 'No']\n",
      "Length: 3, dtype: string\n",
      "*********\n",
      "['Permission to work']\n",
      "*********\n",
      "Permission to work\n",
      "Permission to work\n",
      "1.0\n",
      "- Age\n",
      "> uga2020: <StringArray>\n",
      "['18-24', '35-44', '25-34', '55+', '45-54']\n",
      "Length: 5, dtype: string\n",
      "> tza2020: <StringArray>\n",
      "['25-34', '18-24', '35-44', '45-54', '55+']\n",
      "Length: 5, dtype: string\n",
      "*********\n",
      "['Age']\n",
      "*********\n",
      "Age\n",
      "Age\n",
      "1.0\n",
      "- Main income earner\n",
      "> uga2020: <StringArray>\n",
      "['Other fam', 'Respondent', 'Other', 'Spouse', 'Don’t know']\n",
      "Length: 5, dtype: string\n",
      "> tza2020: <StringArray>\n",
      "['Respondent', 'Other fam', 'Spouse', 'Other', 'Don’t know', 'Earn equally']\n",
      "Length: 6, dtype: string\n",
      "*********\n",
      "['Main income earner']\n",
      "*********\n",
      "Main income earner\n",
      "Main income earner\n",
      "1.0\n",
      "- Savings goal influence\n",
      "> uga2020: <StringArray>\n",
      "[            'No savings goal',               'Don’t consult',\n",
      "             'Always accepted', 'Sometimes accepted/Rejected',\n",
      "             'Always rejected']\n",
      "Length: 5, dtype: string\n",
      "> tza2020: <StringArray>\n",
      "[            'Always accepted',             'No savings goal',\n",
      "               'Don’t consult', 'Sometimes accepted/Rejected',\n",
      "             'Always rejected']\n",
      "Length: 5, dtype: string\n",
      "*********\n",
      "['Savings goal influence']\n",
      "*********\n",
      "Savings goal influence\n",
      "Savings goal influence\n",
      "1.0\n",
      "- Geographic Area\n",
      "> uga2020: <StringArray>\n",
      "['Urban', 'Rural']\n",
      "Length: 2, dtype: string\n",
      "> tza2020: <StringArray>\n",
      "['Urban', 'Rural']\n",
      "Length: 2, dtype: string\n",
      "*********\n",
      "['Geographic Area']\n",
      "*********\n",
      "Geographic Area\n",
      "Geographic Area\n",
      "1.0\n",
      "- Allow spouse to work\n",
      "> uga2020: <StringArray>\n",
      "['Yes', 'Not married', 'No']\n",
      "Length: 3, dtype: string\n",
      "> tza2020: <StringArray>\n",
      "['Yes', 'Not married', 'No']\n",
      "Length: 3, dtype: string\n",
      "*********\n",
      "['Allow spouse to work']\n",
      "*********\n",
      "Allow spouse to work\n",
      "Allow spouse to work\n",
      "1.0\n",
      "- Land decision maker\n",
      "> uga2020: <StringArray>\n",
      "[          'Don’t own land',             'Decide alone',\n",
      "       'Decide with others', 'Others decide without me']\n",
      "Length: 4, dtype: string\n",
      "> tza2020: <StringArray>\n",
      "[          'Don’t own land',       'Decide with others',\n",
      "             'Decide alone', 'Others decide without me']\n",
      "Length: 4, dtype: string\n",
      "*********\n",
      "['Land decision maker']\n",
      "*********\n",
      "Land decision maker\n",
      "Land decision maker\n",
      "1.0\n",
      "- Spending decision maker\n",
      "> uga2020: <StringArray>\n",
      "['Fully on own', 'Help from someone else', 'Someone else decides']\n",
      "Length: 3, dtype: string\n",
      "> tza2020: <StringArray>\n",
      "['Fully on own', 'Help from someone else', 'Someone else decides']\n",
      "Length: 3, dtype: string\n",
      "*********\n",
      "['Spending decision maker']\n",
      "*********\n",
      "Spending decision maker\n",
      "Spending decision maker\n",
      "1.0\n",
      "- Mean household size\n",
      "> uga2020: <StringArray>\n",
      "['Below mean size', 'Mean', 'Above mean size']\n",
      "Length: 3, dtype: string\n",
      "> tza2020: <StringArray>\n",
      "['Below mean size', 'Above mean size', 'Mean']\n",
      "Length: 3, dtype: string\n",
      "*********\n",
      "['Mean household size']\n",
      "*********\n",
      "Mean household size\n",
      "Mean household size\n",
      "1.0\n",
      "- Land ownership\n",
      "> uga2020: <StringArray>\n",
      "['Don’t own', 'Own by self', 'Own with others']\n",
      "Length: 3, dtype: string\n",
      "> tza2020: <StringArray>\n",
      "['Don’t own', 'Own with others', 'Own by self']\n",
      "Length: 3, dtype: string\n",
      "*********\n",
      "['Land ownership']\n",
      "*********\n",
      "Land ownership\n",
      "Land ownership\n",
      "1.0\n",
      "- Earning frequency\n",
      "> uga2020: <StringArray>\n",
      "[    'Work unpaid',           'Daily', 'When I get work',         'Monthly',\n",
      " 'Weekly/Biweekly',    'I don’t work']\n",
      "Length: 6, dtype: string\n",
      "> tza2020: <StringArray>\n",
      "[          'Daily',    'I don’t work',         'Monthly', 'Weekly/Biweekly',\n",
      " 'When I get work',     'Work unpaid']\n",
      "Length: 6, dtype: string\n",
      "*********\n",
      "['Earning frequency']\n",
      "*********\n",
      "Earning frequency\n",
      "Earning frequency\n",
      "1.0\n",
      "- Income frequency of spouse\n",
      "> uga2020: <StringArray>\n",
      "[             'Daily',         'Don’t know',          'No spouse',\n",
      "            'Monthly',    'Weekly/Biweekly',         'Don’t work',\n",
      " 'When they get work',        'Work unpaid']\n",
      "Length: 8, dtype: string\n",
      "> tza2020: <StringArray>\n",
      "[   'Weekly/Biweekly',          'No spouse',        'Work unpaid',\n",
      "              'Daily',         'Don’t know',            'Monthly',\n",
      " 'When they get work',         'Don’t work']\n",
      "Length: 8, dtype: string\n",
      "*********\n",
      "['Income frequency of spouse']\n",
      "*********\n",
      "Income frequency of spouse\n",
      "Income frequency of spouse\n",
      "1.0\n",
      "- Marital Status\n",
      "> uga2020: <StringArray>\n",
      "['Married/Relationship', 'Not married/Relationship']\n",
      "Length: 2, dtype: string\n",
      "> tza2020: <StringArray>\n",
      "['Married/Relationship', 'Not married/Relationship']\n",
      "Length: 2, dtype: string\n",
      "*********\n",
      "['Marital Status']\n",
      "*********\n",
      "Marital Status\n",
      "Marital Status\n",
      "1.0\n",
      "- Mobile Money\n",
      "> uga2020: <StringArray>\n",
      "['Yes', 'No']\n",
      "Length: 2, dtype: string\n",
      "> tza2020: <StringArray>\n",
      "['Yes', 'No']\n",
      "Length: 2, dtype: string\n",
      "*********\n",
      "['Mobile Money']\n",
      "*********\n",
      "Mobile Money\n",
      "Mobile Money\n",
      "1.0\n",
      "- Gender\n",
      "> uga2020: <StringArray>\n",
      "['Female', 'Male']\n",
      "Length: 2, dtype: string\n",
      "> tza2020: <StringArray>\n",
      "['Female', 'Male']\n",
      "Length: 2, dtype: string\n",
      "*********\n",
      "['Gender']\n",
      "*********\n",
      "Gender\n",
      "Gender\n",
      "1.0\n",
      "- Level of education\n",
      "> uga2020: <StringArray>\n",
      "['Secondary education', 'No formal education',    'Higher education',\n",
      "   'Primary education',               'Other']\n",
      "Length: 5, dtype: string\n",
      "> tza2020: <StringArray>\n",
      "[  'Primary education', 'Secondary education',    'Higher education',\n",
      " 'No formal education']\n",
      "Length: 4, dtype: string\n",
      "*********\n",
      "['Level of education']\n",
      "*********\n",
      "Level of education\n",
      "Level of education\n",
      "1.0\n",
      "- Migrant worker identity\n",
      "> uga2020: <StringArray>\n",
      "['No-one, all live together', 'Other family', 'Spouse', 'Me']\n",
      "Length: 4, dtype: string\n",
      "> tza2020: <StringArray>\n",
      "['Spouse', 'Other family', 'No-one, all live together', 'Me']\n",
      "Length: 4, dtype: string\n",
      "*********\n",
      "['Migrant worker identity']\n",
      "*********\n",
      "Migrant worker identity\n",
      "Migrant worker identity\n",
      "1.0\n",
      "- Savings goal decision maker\n",
      "> uga2020: <StringArray>\n",
      "['No savings goal', 'Self alone', 'Others on behalf', 'Decide together']\n",
      "Length: 4, dtype: string\n",
      "> tza2020: <StringArray>\n",
      "['Self alone', 'No savings goal', 'Decide together', 'Others on behalf']\n",
      "Length: 4, dtype: string\n",
      "*********\n",
      "['Savings goal decision maker']\n",
      "*********\n",
      "Savings goal decision maker\n",
      "Savings goal decision maker\n",
      "1.0\n",
      "- Language of interview\n",
      "> uga2020: <StringArray>\n",
      "[                                     'English',\n",
      "                                      'Luganda',\n",
      "                                        'Ateso',\n",
      " 'Runyakole/Rukiga/Runyakitara/Runyoro/Rutooro',\n",
      "                                      'Lugbara',\n",
      "                                         'Madi',\n",
      "                                      'Lugishu',\n",
      "                                          'Luo',\n",
      "                                  'Nkaromojong',\n",
      "                                    'Kupsabiny']\n",
      "Length: 10, dtype: string\n",
      "> tza2020: <StringArray>\n",
      "['Swahili', 'English']\n",
      "Length: 2, dtype: string\n",
      "*********\n",
      "['Language of interview']\n",
      "*********\n",
      "Language of interview\n",
      "Language of interview\n",
      "1.0\n",
      "- Own a phone\n",
      "> uga2020: <StringArray>\n",
      "['Own phone', 'Don’t own phone']\n",
      "Length: 2, dtype: string\n",
      "> tza2020: <StringArray>\n",
      "['Own phone', 'Don’t own phone']\n",
      "Length: 2, dtype: string\n",
      "*********\n",
      "['Own a phone']\n",
      "*********\n",
      "Own a phone\n",
      "Own a phone\n",
      "1.0\n",
      "- Bank\n",
      "> uga2020: <StringArray>\n",
      "['Unbanked', 'Own', 'Spouse', 'Other fam', 'Other']\n",
      "Length: 5, dtype: string\n",
      "> tza2020: <StringArray>\n",
      "['Own', 'Unbanked', 'Spouse', 'Other', 'Other fam']\n",
      "Length: 5, dtype: string\n",
      "*********\n",
      "['Bank']\n",
      "*********\n",
      "Bank\n",
      "Bank\n",
      "1.0\n",
      "- Possibility to raise 1/20 GNI (Gross National Income)\n",
      "> uga2020: <StringArray>\n",
      "[      'Very possible', 'Not at all possible',   'Somewhat possible',\n",
      "   'Not very possible']\n",
      "Length: 4, dtype: string\n",
      "> tza2020: <StringArray>\n",
      "[  'Somewhat possible', 'Not at all possible',   'Not very possible',\n",
      "       'Very possible']\n",
      "Length: 4, dtype: string\n",
      "*********\n",
      "['Possibility to raise 1/20 GNI (Gross National Income)']\n",
      "*********\n",
      "Possibility to raise 1/20 GNI (Gross National Income)\n",
      "Possibility to raise 1/20 GNI (Gross National Income)\n",
      "1.0\n",
      "- Children decision maker\n",
      "> uga2020: <StringArray>\n",
      "[        'Decide together',            'Decide alone',\n",
      "     'Not in relationship', 'We do not talk about it',\n",
      "          'Spouse decides',           'Others decide']\n",
      "Length: 6, dtype: string\n",
      "> tza2020: <StringArray>\n",
      "[        'Decide together',     'Not in relationship',\n",
      " 'We do not talk about it',            'Decide alone',\n",
      "          'Spouse decides',           'Others decide']\n",
      "Length: 6, dtype: string\n",
      "*********\n",
      "['Children decision maker']\n",
      "*********\n",
      "Children decision maker\n",
      "Children decision maker\n",
      "1.0\n",
      "- Independent phone use\n",
      "> uga2020: <StringArray>\n",
      "['Yes', 'No', 'Somewhat']\n",
      "Length: 3, dtype: string\n",
      "> tza2020: <StringArray>\n",
      "['Yes', 'Somewhat', 'No']\n",
      "Length: 3, dtype: string\n",
      "*********\n",
      "['Independent phone use']\n",
      "*********\n",
      "Independent phone use\n",
      "Independent phone use\n",
      "1.0\n",
      "- Money taken from account\n",
      "> uga2020: <StringArray>\n",
      "['Money not taken', 'Money taken', 'Don’t have account']\n",
      "Length: 3, dtype: string\n",
      "> tza2020: <StringArray>\n",
      "['Money not taken', 'Don’t have account', 'Money taken']\n",
      "Length: 3, dtype: string\n",
      "*********\n",
      "['Money taken from account']\n",
      "*********\n",
      "Money taken from account\n",
      "Money taken from account\n",
      "1.0\n",
      "- Phone ownership\n",
      "> uga2020: <StringArray>\n",
      "['Own phone/Business/Employer',                     'Sibling',\n",
      "      'Don’t use mobile phone',               'Husband/Wives',\n",
      "                      'Parent',                    'Children',\n",
      "             'Other man/Women']\n",
      "Length: 7, dtype: string\n",
      "> tza2020: <StringArray>\n",
      "['Own phone/Business/Employer',               'Husband/Wives',\n",
      "             'Other man/Women',      'Don’t use mobile phone',\n",
      "                      'Parent',                     'Sibling',\n",
      "                    'Children']\n",
      "Length: 7, dtype: string\n",
      "*********\n",
      "['Phone ownership']\n",
      "*********\n",
      "Phone ownership\n",
      "Phone ownership\n",
      "1.0\n",
      "- Informal financial usage\n",
      "> uga2020: <StringArray>\n",
      "['No', 'Yes']\n",
      "Length: 2, dtype: string\n",
      "> tza2020: <StringArray>\n",
      "['No', 'Yes']\n",
      "Length: 2, dtype: string\n",
      "*********\n",
      "['Informal financial usage']\n",
      "*********\n",
      "Informal financial usage\n",
      "Informal financial usage\n",
      "1.0\n",
      "Columns that doesn't have a full match from both datasets {'english literacy', 'swahili literacy'}\n"
     ]
    }
   ],
   "source": [
    "## this will compare the columns for different dataset to help harmonize the results.\n",
    "compareDatasets(datasets)"
   ]
  },
  {
   "cell_type": "code",
   "execution_count": 39,
   "metadata": {},
   "outputs": [
    {
     "name": "stdout",
     "output_type": "stream",
     "text": [
      "///////////////////////////////////////\n",
      "Population over which it was estimated\n",
      "_________________  ken2020\n",
      "Mujeres:  11265010.970281385\n",
      "Hombres:  10705085.832735473\n",
      "Total:  21970096.803016882\n",
      "_________________ \n",
      "Creating or patching the country\n",
      "Country Kenya updated succesfully\n",
      "<Response [200]>\n",
      "______________________________\n",
      "Uploading the data\n",
      "{'ok': 1}\n",
      "///////////////////////////////////////\n",
      "Population over which it was estimated\n",
      "_________________  pak2020\n",
      "Mujeres:  32090667.84606279\n",
      "Hombres:  33668897.154271\n",
      "Total:  65759565.000333816\n",
      "_________________ \n",
      "Creating or patching the country\n",
      "Country Pakistan updated succesfully\n",
      "<Response [200]>\n",
      "______________________________\n",
      "Uploading the data\n",
      "{'ok': 1}\n",
      "///////////////////////////////////////\n",
      "Population over which it was estimated\n",
      "_________________  uga2020\n",
      "Mujeres:  18576699.48697699\n",
      "Hombres:  15761007.512974974\n",
      "Total:  34337706.999951966\n",
      "_________________ \n",
      "Creating or patching the country\n",
      "Country Uganda updated succesfully\n",
      "<Response [200]>\n",
      "______________________________\n",
      "Uploading the data\n",
      "{'ok': 1}\n",
      "///////////////////////////////////////\n",
      "Population over which it was estimated\n",
      "_________________  tza2020\n",
      "Mujeres:  11435170.064048462\n",
      "Hombres:  10938778.88506075\n",
      "Total:  22373948.949109215\n",
      "_________________ \n",
      "Creating or patching the country\n",
      "Country Tanzania, United Republic of updated succesfully\n",
      "<Response [200]>\n",
      "______________________________\n",
      "Uploading the data\n",
      "{'ok': 1}\n"
     ]
    }
   ],
   "source": [
    "## Once we are happy with the result of above functions we will proceed to upload the data.\n",
    "for dataset in datasets:\n",
    "    print('///////////////////////////////////////')\n",
    "    myInfo = saveData(dataset, OutPath, env='staging', section='mobile')\n",
    "    print('Creating or patching the country')\n",
    "    print(upsertCountry(myInfo, auth))\n",
    "    print('______________________________')\n",
    "    print('Uploading the data')\n",
    "    print(uploadDataFunction(myInfo, auth))"
   ]
  },
  {
   "cell_type": "code",
   "execution_count": null,
   "metadata": {},
   "outputs": [],
   "source": []
  },
  {
   "cell_type": "code",
   "execution_count": null,
   "metadata": {},
   "outputs": [],
   "source": []
  }
 ],
 "metadata": {
  "kernelspec": {
   "display_name": "Python 3",
   "language": "python",
   "name": "python3"
  },
  "language_info": {
   "codemirror_mode": {
    "name": "ipython",
    "version": 3
   },
   "file_extension": ".py",
   "mimetype": "text/x-python",
   "name": "python",
   "nbconvert_exporter": "python",
   "pygments_lexer": "ipython3",
   "version": "3.7.4"
  }
 },
 "nbformat": 4,
 "nbformat_minor": 4
}
