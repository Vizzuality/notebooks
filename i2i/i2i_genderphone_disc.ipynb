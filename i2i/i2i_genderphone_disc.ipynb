{
 "cells": [
  {
   "cell_type": "code",
   "execution_count": 181,
   "metadata": {},
   "outputs": [],
   "source": [
    "import pandas as pd\n",
    "import plotly\n",
    "import seaborn as sns\n",
    "import matplotlib.pyplot as plt\n",
    "from IPython.display import display, Markdown"
   ]
  },
  {
   "cell_type": "markdown",
   "metadata": {},
   "source": [
    "The goal of this notebook is to explore the study metrics (indicators) to identify those that have greater relation with the main goal of the project (highlighting women financial independence and decision-making rights).\n",
    "In order to do that, we classify the indicators into the suggested categories:\n",
    "- Mobile phone indicators – because this could be an empowering asset\n",
    "- Financial inclusion indicators\n",
    "- Indicators that look at control and decision-making\n",
    "- Earning and spending\n",
    "- Spouse work\n",
    "\n",
    "For each category, we want to select one or two indicators to build a sentence that will serve as a summary of the category, guiding the users towards discovering what is 'most important' about each indicator category.\n",
    "This sentence will be represented visually as a heatmap that compares the selected indicators, breaking the results down by gender.\n",
    "\n",
    "In addition to the written and visual summaries, we are selecting two indicators that will be represented individually in indicator-specific widgets that the users will be able to explore by selecting the analyze/compare/change options in the widget."
   ]
  },
  {
   "cell_type": "code",
   "execution_count": 6,
   "metadata": {},
   "outputs": [],
   "source": [
    "#Load data, extract indicators\n",
    "ken = pd.read_csv(, decimal=',', sep=';')\n",
    "fields = list(ken.keys())"
   ]
  },
  {
   "cell_type": "code",
   "execution_count": 198,
   "metadata": {},
   "outputs": [],
   "source": [
    "#Group fields into categories\n",
    "hidden = ['InstanceID', 'finalweight', 'Own a phone', 'Language of interview', 'Province']\n",
    "\n",
    "demo = ['Gender','Age Group', 'Education', 'Main language', 'English literacy',\n",
    "       'Relationship status', '$2.50 PPP Poverty line', 'Mean household size', \n",
    "       'Urbanicity',  'Region']\n",
    "\n",
    "phone = [' Phone ownership', 'Independent phone use']\n",
    "\n",
    "financial_inc = ['Informal financial usage',\n",
    "       'Mobile Money', 'Bank', 'Permission to open bank',\n",
    "       'Money taken from account']\n",
    "\n",
    "decision_mkg = ['Children decision maker', \n",
    "       'Spending decision maker', 'Savings goal decision maker',\n",
    "       'Savings goal influence', 'Land ownership', 'Land decision maker']\n",
    "\n",
    "earning_spending = ['Earning frequency','Possibility to raise 1/20 GNI (Gross National Income)']\n",
    "\n",
    "work = ['Migrant worker identity', 'Permission to work',\n",
    "         'Allow spouse to work,,', 'Main income earner',\n",
    "        'Income frequency of spouse']\n",
    "\n",
    "ind_lists = [hidden, demo, phone, financial_inc, decision_mkg, earning_spending, work]\n",
    "ind_lists_labels = ['hidden', 'demo', 'phone', 'financial_inc', 'decision_mkg', 'earning_spending', 'work']"
   ]
  },
  {
   "cell_type": "code",
   "execution_count": 199,
   "metadata": {},
   "outputs": [
    {
     "data": {
      "text/html": [
       "<div>\n",
       "<style scoped>\n",
       "    .dataframe tbody tr th:only-of-type {\n",
       "        vertical-align: middle;\n",
       "    }\n",
       "\n",
       "    .dataframe tbody tr th {\n",
       "        vertical-align: top;\n",
       "    }\n",
       "\n",
       "    .dataframe thead th {\n",
       "        text-align: right;\n",
       "    }\n",
       "</style>\n",
       "<table border=\"1\" class=\"dataframe\">\n",
       "  <thead>\n",
       "    <tr style=\"text-align: right;\">\n",
       "      <th></th>\n",
       "      <th>cluster</th>\n",
       "      <th>field_name</th>\n",
       "      <th>option_count</th>\n",
       "      <th>options</th>\n",
       "    </tr>\n",
       "  </thead>\n",
       "  <tbody>\n",
       "    <tr>\n",
       "      <td>1</td>\n",
       "      <td>hidden</td>\n",
       "      <td>InstanceID</td>\n",
       "      <td>3000</td>\n",
       "      <td>[770458, 770459, 770471, 770485, 770486, 77049...</td>\n",
       "    </tr>\n",
       "    <tr>\n",
       "      <td>2</td>\n",
       "      <td>hidden</td>\n",
       "      <td>finalweight</td>\n",
       "      <td>1141</td>\n",
       "      <td>[10776.6614590281, 9983.31846506174, 16671.644...</td>\n",
       "    </tr>\n",
       "    <tr>\n",
       "      <td>3</td>\n",
       "      <td>demo</td>\n",
       "      <td>Gender</td>\n",
       "      <td>2</td>\n",
       "      <td>[Male, Female]</td>\n",
       "    </tr>\n",
       "    <tr>\n",
       "      <td>4</td>\n",
       "      <td>demo</td>\n",
       "      <td>Relationship status</td>\n",
       "      <td>2</td>\n",
       "      <td>[Married/relationship, Not married/relationship]</td>\n",
       "    </tr>\n",
       "    <tr>\n",
       "      <td>5</td>\n",
       "      <td>demo</td>\n",
       "      <td>Urbanicity</td>\n",
       "      <td>2</td>\n",
       "      <td>[Urban, Rural]</td>\n",
       "    </tr>\n",
       "    <tr>\n",
       "      <td>6</td>\n",
       "      <td>demo</td>\n",
       "      <td>Age Group</td>\n",
       "      <td>5</td>\n",
       "      <td>[25-34, 35-44, 18-24, 55+, 45-54]</td>\n",
       "    </tr>\n",
       "    <tr>\n",
       "      <td>7</td>\n",
       "      <td>demo</td>\n",
       "      <td>Education</td>\n",
       "      <td>5</td>\n",
       "      <td>[Secondary education, Primary education, Highe...</td>\n",
       "    </tr>\n",
       "    <tr>\n",
       "      <td>8</td>\n",
       "      <td>demo</td>\n",
       "      <td>English literacy</td>\n",
       "      <td>5</td>\n",
       "      <td>[Fair, Good, Excellent, Not at all, Poorly]</td>\n",
       "    </tr>\n",
       "    <tr>\n",
       "      <td>9</td>\n",
       "      <td>hidden</td>\n",
       "      <td>Own a phone</td>\n",
       "      <td>2</td>\n",
       "      <td>[own phone, dont own phone]</td>\n",
       "    </tr>\n",
       "    <tr>\n",
       "      <td>10</td>\n",
       "      <td>demo</td>\n",
       "      <td>$2.50 PPP Poverty line</td>\n",
       "      <td>2</td>\n",
       "      <td>[Above poverty line, Below poverty line]</td>\n",
       "    </tr>\n",
       "    <tr>\n",
       "      <td>11</td>\n",
       "      <td>hidden</td>\n",
       "      <td>Language of interview</td>\n",
       "      <td>10</td>\n",
       "      <td>[English, Swahili, Luo, Kisii, Kikuyu, Somali,...</td>\n",
       "    </tr>\n",
       "    <tr>\n",
       "      <td>12</td>\n",
       "      <td>demo</td>\n",
       "      <td>Main language</td>\n",
       "      <td>27</td>\n",
       "      <td>[Swahili, Luhya, Luo, Kalenjin, English, Congo...</td>\n",
       "    </tr>\n",
       "    <tr>\n",
       "      <td>13</td>\n",
       "      <td>demo</td>\n",
       "      <td>Mean household size</td>\n",
       "      <td>3</td>\n",
       "      <td>[Below mean size, Above mean size, Mean]</td>\n",
       "    </tr>\n",
       "    <tr>\n",
       "      <td>14</td>\n",
       "      <td>demo</td>\n",
       "      <td>Region</td>\n",
       "      <td>8</td>\n",
       "      <td>[Nairobi, Nyanza, Central, Rift Valley, Coast,...</td>\n",
       "    </tr>\n",
       "    <tr>\n",
       "      <td>15</td>\n",
       "      <td>hidden</td>\n",
       "      <td>Province</td>\n",
       "      <td>9</td>\n",
       "      <td>[Nairobi, Nyanza, Central, Rift Valley, Coast,...</td>\n",
       "    </tr>\n",
       "    <tr>\n",
       "      <td>16</td>\n",
       "      <td>phone</td>\n",
       "      <td>Phone ownership</td>\n",
       "      <td>7</td>\n",
       "      <td>[own phone/business/employer, Sibling, Dont us...</td>\n",
       "    </tr>\n",
       "    <tr>\n",
       "      <td>17</td>\n",
       "      <td>phone</td>\n",
       "      <td>Independent phone use</td>\n",
       "      <td>4</td>\n",
       "      <td>[Yes, Dont use mobile phone, No, Somewhat]</td>\n",
       "    </tr>\n",
       "    <tr>\n",
       "      <td>18</td>\n",
       "      <td>financial_inc</td>\n",
       "      <td>Informal financial usage</td>\n",
       "      <td>2</td>\n",
       "      <td>[no, yes]</td>\n",
       "    </tr>\n",
       "    <tr>\n",
       "      <td>19</td>\n",
       "      <td>financial_inc</td>\n",
       "      <td>Mobile Money</td>\n",
       "      <td>4</td>\n",
       "      <td>[own, dont use MM, share/use others, dont use ...</td>\n",
       "    </tr>\n",
       "    <tr>\n",
       "      <td>20</td>\n",
       "      <td>financial_inc</td>\n",
       "      <td>Bank</td>\n",
       "      <td>5</td>\n",
       "      <td>[unbanked, own, spouse, other, other fam]</td>\n",
       "    </tr>\n",
       "    <tr>\n",
       "      <td>21</td>\n",
       "      <td>financial_inc</td>\n",
       "      <td>Permission to open bank</td>\n",
       "      <td>2</td>\n",
       "      <td>[no, yes]</td>\n",
       "    </tr>\n",
       "    <tr>\n",
       "      <td>22</td>\n",
       "      <td>financial_inc</td>\n",
       "      <td>Money taken from account</td>\n",
       "      <td>3</td>\n",
       "      <td>[money not taken, money taken, dont have account]</td>\n",
       "    </tr>\n",
       "    <tr>\n",
       "      <td>23</td>\n",
       "      <td>decision_mkg</td>\n",
       "      <td>Savings goal decision maker</td>\n",
       "      <td>4</td>\n",
       "      <td>[spouse/family/others on behalf, self alone, n...</td>\n",
       "    </tr>\n",
       "    <tr>\n",
       "      <td>24</td>\n",
       "      <td>decision_mkg</td>\n",
       "      <td>Savings goal influence</td>\n",
       "      <td>5</td>\n",
       "      <td>[sometimes accepted/rejected, dont consult, no...</td>\n",
       "    </tr>\n",
       "    <tr>\n",
       "      <td>25</td>\n",
       "      <td>decision_mkg</td>\n",
       "      <td>Land ownership</td>\n",
       "      <td>3</td>\n",
       "      <td>[dont own, own by self, own with others]</td>\n",
       "    </tr>\n",
       "    <tr>\n",
       "      <td>26</td>\n",
       "      <td>decision_mkg</td>\n",
       "      <td>Land decision maker</td>\n",
       "      <td>4</td>\n",
       "      <td>[ , Family/friends without me, Me only, Decide...</td>\n",
       "    </tr>\n",
       "    <tr>\n",
       "      <td>27</td>\n",
       "      <td>decision_mkg</td>\n",
       "      <td>Children decision maker</td>\n",
       "      <td>5</td>\n",
       "      <td>[decide together, Not in relationship, We do n...</td>\n",
       "    </tr>\n",
       "    <tr>\n",
       "      <td>28</td>\n",
       "      <td>earning_spending</td>\n",
       "      <td>Earning frequency</td>\n",
       "      <td>6</td>\n",
       "      <td>[Daily, Weekly/biweekly, I dont work, Monthly,...</td>\n",
       "    </tr>\n",
       "    <tr>\n",
       "      <td>29</td>\n",
       "      <td>decision_mkg</td>\n",
       "      <td>Spending decision maker</td>\n",
       "      <td>3</td>\n",
       "      <td>[Help from someone else, Fully on own, Someone...</td>\n",
       "    </tr>\n",
       "    <tr>\n",
       "      <td>30</td>\n",
       "      <td>work</td>\n",
       "      <td>Permission to work</td>\n",
       "      <td>3</td>\n",
       "      <td>[Already working, Yes, No]</td>\n",
       "    </tr>\n",
       "    <tr>\n",
       "      <td>31</td>\n",
       "      <td>work</td>\n",
       "      <td>Main income earner</td>\n",
       "      <td>7</td>\n",
       "      <td>[respondent, spouse, other fam, dont know, oth...</td>\n",
       "    </tr>\n",
       "    <tr>\n",
       "      <td>32</td>\n",
       "      <td>work</td>\n",
       "      <td>Migrant worker identity</td>\n",
       "      <td>4</td>\n",
       "      <td>[No-one, all live together, Other family, Spou...</td>\n",
       "    </tr>\n",
       "    <tr>\n",
       "      <td>33</td>\n",
       "      <td>earning_spending</td>\n",
       "      <td>Possibility to raise 1/20 GNI (Gross National ...</td>\n",
       "      <td>4</td>\n",
       "      <td>[Not very possible, Not at all possible, Somew...</td>\n",
       "    </tr>\n",
       "    <tr>\n",
       "      <td>34</td>\n",
       "      <td>work</td>\n",
       "      <td>Income frequency of spouse</td>\n",
       "      <td>8</td>\n",
       "      <td>[dont work, Monthly, no spouse, Daily, Weekly/...</td>\n",
       "    </tr>\n",
       "    <tr>\n",
       "      <td>35</td>\n",
       "      <td>work</td>\n",
       "      <td>Allow spouse to work,,</td>\n",
       "      <td>8</td>\n",
       "      <td>[Yes, Spouse already works for money, Not marr...</td>\n",
       "    </tr>\n",
       "  </tbody>\n",
       "</table>\n",
       "</div>"
      ],
      "text/plain": [
       "             cluster                                         field_name  \\\n",
       "1             hidden                                         InstanceID   \n",
       "2             hidden                                        finalweight   \n",
       "3               demo                                             Gender   \n",
       "4               demo                                Relationship status   \n",
       "5               demo                                         Urbanicity   \n",
       "6               demo                                          Age Group   \n",
       "7               demo                                          Education   \n",
       "8               demo                                   English literacy   \n",
       "9             hidden                                        Own a phone   \n",
       "10              demo                             $2.50 PPP Poverty line   \n",
       "11            hidden                              Language of interview   \n",
       "12              demo                                      Main language   \n",
       "13              demo                                Mean household size   \n",
       "14              demo                                             Region   \n",
       "15            hidden                                           Province   \n",
       "16             phone                                    Phone ownership   \n",
       "17             phone                              Independent phone use   \n",
       "18     financial_inc                           Informal financial usage   \n",
       "19     financial_inc                                       Mobile Money   \n",
       "20     financial_inc                                               Bank   \n",
       "21     financial_inc                            Permission to open bank   \n",
       "22     financial_inc                           Money taken from account   \n",
       "23      decision_mkg                        Savings goal decision maker   \n",
       "24      decision_mkg                             Savings goal influence   \n",
       "25      decision_mkg                                     Land ownership   \n",
       "26      decision_mkg                                Land decision maker   \n",
       "27      decision_mkg                            Children decision maker   \n",
       "28  earning_spending                                  Earning frequency   \n",
       "29      decision_mkg                            Spending decision maker   \n",
       "30              work                                 Permission to work   \n",
       "31              work                                 Main income earner   \n",
       "32              work                            Migrant worker identity   \n",
       "33  earning_spending  Possibility to raise 1/20 GNI (Gross National ...   \n",
       "34              work                         Income frequency of spouse   \n",
       "35              work                             Allow spouse to work,,   \n",
       "\n",
       "   option_count                                            options  \n",
       "1          3000  [770458, 770459, 770471, 770485, 770486, 77049...  \n",
       "2          1141  [10776.6614590281, 9983.31846506174, 16671.644...  \n",
       "3             2                                     [Male, Female]  \n",
       "4             2   [Married/relationship, Not married/relationship]  \n",
       "5             2                                     [Urban, Rural]  \n",
       "6             5                  [25-34, 35-44, 18-24, 55+, 45-54]  \n",
       "7             5  [Secondary education, Primary education, Highe...  \n",
       "8             5        [Fair, Good, Excellent, Not at all, Poorly]  \n",
       "9             2                        [own phone, dont own phone]  \n",
       "10            2           [Above poverty line, Below poverty line]  \n",
       "11           10  [English, Swahili, Luo, Kisii, Kikuyu, Somali,...  \n",
       "12           27  [Swahili, Luhya, Luo, Kalenjin, English, Congo...  \n",
       "13            3           [Below mean size, Above mean size, Mean]  \n",
       "14            8  [Nairobi, Nyanza, Central, Rift Valley, Coast,...  \n",
       "15            9  [Nairobi, Nyanza, Central, Rift Valley, Coast,...  \n",
       "16            7  [own phone/business/employer, Sibling, Dont us...  \n",
       "17            4         [Yes, Dont use mobile phone, No, Somewhat]  \n",
       "18            2                                          [no, yes]  \n",
       "19            4  [own, dont use MM, share/use others, dont use ...  \n",
       "20            5          [unbanked, own, spouse, other, other fam]  \n",
       "21            2                                          [no, yes]  \n",
       "22            3  [money not taken, money taken, dont have account]  \n",
       "23            4  [spouse/family/others on behalf, self alone, n...  \n",
       "24            5  [sometimes accepted/rejected, dont consult, no...  \n",
       "25            3           [dont own, own by self, own with others]  \n",
       "26            4  [ , Family/friends without me, Me only, Decide...  \n",
       "27            5  [decide together, Not in relationship, We do n...  \n",
       "28            6  [Daily, Weekly/biweekly, I dont work, Monthly,...  \n",
       "29            3  [Help from someone else, Fully on own, Someone...  \n",
       "30            3                         [Already working, Yes, No]  \n",
       "31            7  [respondent, spouse, other fam, dont know, oth...  \n",
       "32            4  [No-one, all live together, Other family, Spou...  \n",
       "33            4  [Not very possible, Not at all possible, Somew...  \n",
       "34            8  [dont work, Monthly, no spouse, Daily, Weekly/...  \n",
       "35            8  [Yes, Spouse already works for money, Not marr...  "
      ]
     },
     "execution_count": 199,
     "metadata": {},
     "output_type": "execute_result"
    }
   ],
   "source": [
    "#Create overview dataframe with indicator categories, individual indicators, and their available options\n",
    "overview = pd.DataFrame(columns=['cluster', 'field_name', 'option_count', 'options'])\n",
    "for field in fields:\n",
    "    for listname, listlabel in zip(ind_lists, ind_lists_labels):\n",
    "        if field in listname:\n",
    "            cluster = listlabel\n",
    "    options = list(ken[field].unique())\n",
    "    overview.loc[len(overview)+1]=[cluster, field, len(options), options]\n",
    "overview"
   ]
  },
  {
   "cell_type": "code",
   "execution_count": 223,
   "metadata": {},
   "outputs": [],
   "source": [
    "#Define functions to create text (calc) and visual (plotHeatmap) summaries.\n",
    "def calc(indicator, gender, options, excluded=None):\n",
    "    filtered = ken\n",
    "    try:\n",
    "        for excl in excluded:\n",
    "            filtered = filtered[filtered[indicator] != excl]\n",
    "    except:\n",
    "        pass\n",
    "    filtered = filtered[filtered['Gender'] == gender]\n",
    "    total_gender = sum(filtered['finalweight'])\n",
    "    finaldf = pd.DataFrame(columns=list(filtered.keys()))\n",
    "    for option in options:\n",
    "        optiondf = filtered[filtered[indicator] == option]\n",
    "        finaldf = pd.concat([finaldf, optiondf])\n",
    "    total_true =  sum(finaldf['finalweight'])\n",
    "    result = round(total_true*100/total_gender, 2)\n",
    "    return result\n",
    "\n",
    "def plotHeatmap(ind0, ind1):\n",
    "    ig = plt.subplots()\n",
    "    valuesL = ken.groupby(['Gender', ind0, ind1])['finalweight'].agg(**{\n",
    "                                    'sum': pd.NamedAgg(column='finalweight', aggfunc=sum)})\n",
    "    valuesL['percentage'] = 100*valuesL['sum']/valuesL['sum'].sum()\n",
    "\n",
    "    g = sns.heatmap(valuesL.unstack(2)['percentage'], cmap=\"PuBu\", cbar_kws={'label': 'perc of total', 'orientation': 'vertical'})\n",
    "    display(Markdown(f'##### {ind0} vs. {ind1} by Gender'))\n",
    "    return display(plt.show())"
   ]
  },
  {
   "cell_type": "code",
   "execution_count": 224,
   "metadata": {},
   "outputs": [],
   "source": [
    "#Run functions to create variables to be included in the text summary.\n",
    "phone_use_perc_women = calc('Independent phone use', 'Female', ['Yes'])\n",
    "phone_use_perc_men = calc('Independent phone use', 'Male', ['Yes'])\n",
    "money_taken_women_owner_perc = calc('Money taken from account', 'Female', ['money taken'], ['dont have account'])\n",
    "mobile_money_perc_women = calc('Independent phone use', 'Female', ['own'], ['dont use mobile phone'])\n",
    "bank_perc_women = calc('Bank', 'Female', ['own'])\n",
    "children_decision_perc_women = calc('Children decision maker', 'Female', ['decide together', 'decide alone'], ['Not in relationship'])\n",
    "savings_decision_perc_women = calc('Savings goal decision maker', 'Female', ['self alone', 'decide together'], ['no savings goal'])\n",
    "gni_raise_perc_women = calc('Possibility to raise 1/20 GNI (Gross National Income)', 'Female', ['Very possible'])\n",
    "work_permit_perc_women = calc('Permission to work', 'Female', ['Already working', 'Yes'])\n",
    "main_earner_perc_women = calc('Main income earner', 'Female', ['respondent', 'earn equally'], ['refused to answer'])\n",
    "main_earner_perc_men = calc('Main income earner', 'Male', ['respondent', 'earn equally'], ['refused to answer'])"
   ]
  },
  {
   "cell_type": "code",
   "execution_count": 225,
   "metadata": {},
   "outputs": [
    {
     "data": {
      "text/markdown": [
       "### PHONE USAGE"
      ],
      "text/plain": [
       "<IPython.core.display.Markdown object>"
      ]
     },
     "metadata": {},
     "output_type": "display_data"
    },
    {
     "data": {
      "text/markdown": [
       "#### 74.02% of women who own a phone declared independent phone usage, compared to 86.16% of men who own a phone."
      ],
      "text/plain": [
       "<IPython.core.display.Markdown object>"
      ]
     },
     "metadata": {},
     "output_type": "display_data"
    },
    {
     "data": {
      "text/markdown": [
       "#####  Phone ownership vs. Independent phone use by Gender"
      ],
      "text/plain": [
       "<IPython.core.display.Markdown object>"
      ]
     },
     "metadata": {},
     "output_type": "display_data"
    },
    {
     "data": {
      "image/png": "[encoded data removed]",
      "text/plain": [
       "<Figure size 432x288 with 2 Axes>"
      ]
     },
     "metadata": {
      "needs_background": "light"
     },
     "output_type": "display_data"
    },
    {
     "data": {
      "text/plain": [
       "None"
      ]
     },
     "metadata": {},
     "output_type": "display_data"
    },
    {
     "name": "stdout",
     "output_type": "stream",
     "text": [
      "Default widgets: Phone ownership, Independent phone use\n",
      "Hidden widgets: None\n",
      "\n"
     ]
    },
    {
     "data": {
      "text/markdown": [
       "### WORK"
      ],
      "text/plain": [
       "<IPython.core.display.Markdown object>"
      ]
     },
     "metadata": {},
     "output_type": "display_data"
    },
    {
     "data": {
      "text/markdown": [
       "#### 89.72% of women work or have permission to work; and 30.19% are the main income earner in their homes, compared to 70.98% of men."
      ],
      "text/plain": [
       "<IPython.core.display.Markdown object>"
      ]
     },
     "metadata": {},
     "output_type": "display_data"
    },
    {
     "data": {
      "text/markdown": [
       "##### Permission to work vs. Main income earner by Gender"
      ],
      "text/plain": [
       "<IPython.core.display.Markdown object>"
      ]
     },
     "metadata": {},
     "output_type": "display_data"
    },
    {
     "data": {
      "image/png": "[encoded data removed]",
      "text/plain": [
       "<Figure size 432x288 with 2 Axes>"
      ]
     },
     "metadata": {
      "needs_background": "light"
     },
     "output_type": "display_data"
    },
    {
     "data": {
      "text/plain": [
       "None"
      ]
     },
     "metadata": {},
     "output_type": "display_data"
    },
    {
     "name": "stdout",
     "output_type": "stream",
     "text": [
      "Default widgets: Permission to work, Main income earner\n",
      "Additional widgets: Migrant worker identity, Allow spouse to work, Income frequency of spouse\n",
      "\n"
     ]
    },
    {
     "data": {
      "text/markdown": [
       "### EARNINGS"
      ],
      "text/plain": [
       "<IPython.core.display.Markdown object>"
      ]
     },
     "metadata": {},
     "output_type": "display_data"
    },
    {
     "data": {
      "text/markdown": [
       "#### 10.3% of women had the possibility to raise 1/20 GNI in case of need."
      ],
      "text/plain": [
       "<IPython.core.display.Markdown object>"
      ]
     },
     "metadata": {},
     "output_type": "display_data"
    },
    {
     "name": "stdout",
     "output_type": "stream",
     "text": [
      "Default widgets: Earning frequency, Possibility to raise 1/20 GNI (Gross National Income)\n",
      "Additional widgets: None\n",
      "2 widgets: ['Earning frequency', 'Possibility to raise 1/20 GNI (Gross National Income)']\n",
      "\n"
     ]
    },
    {
     "data": {
      "text/markdown": [
       "### FINANCIAL INCLUSION"
      ],
      "text/plain": [
       "<IPython.core.display.Markdown object>"
      ]
     },
     "metadata": {},
     "output_type": "display_data"
    },
    {
     "data": {
      "text/markdown": [
       "#### 7.45% of the women who own a mobile or bank account (33.56% of all interviewed women) claimed to have money taken from their accounts."
      ],
      "text/plain": [
       "<IPython.core.display.Markdown object>"
      ]
     },
     "metadata": {},
     "output_type": "display_data"
    },
    {
     "data": {
      "text/markdown": [
       "##### Bank vs. Money taken from account by Gender"
      ],
      "text/plain": [
       "<IPython.core.display.Markdown object>"
      ]
     },
     "metadata": {},
     "output_type": "display_data"
    },
    {
     "data": {
      "image/png": "[encoded data removed]",
      "text/plain": [
       "<Figure size 432x288 with 2 Axes>"
      ]
     },
     "metadata": {
      "needs_background": "light"
     },
     "output_type": "display_data"
    },
    {
     "data": {
      "text/plain": [
       "None"
      ]
     },
     "metadata": {},
     "output_type": "display_data"
    },
    {
     "name": "stdout",
     "output_type": "stream",
     "text": [
      "Default widgets: Bank, Mobile Money, Money taken from account\n",
      "Additional widgets: Informal financial usage, Permission to open bank\n",
      "\n"
     ]
    },
    {
     "data": {
      "text/markdown": [
       "### HOUSEHOLD DECISION MAKING"
      ],
      "text/plain": [
       "<IPython.core.display.Markdown object>"
      ]
     },
     "metadata": {},
     "output_type": "display_data"
    },
    {
     "data": {
      "text/markdown": [
       "#### 62.18% of women have influence on decisions regarding their children, and 86.76% on decisions regarding savings goals."
      ],
      "text/plain": [
       "<IPython.core.display.Markdown object>"
      ]
     },
     "metadata": {},
     "output_type": "display_data"
    },
    {
     "data": {
      "text/markdown": [
       "##### Children decision maker vs. Savings goal decision maker by Gender"
      ],
      "text/plain": [
       "<IPython.core.display.Markdown object>"
      ]
     },
     "metadata": {},
     "output_type": "display_data"
    },
    {
     "data": {
      "image/png": "[encoded data removed]",
      "text/plain": [
       "<Figure size 432x288 with 2 Axes>"
      ]
     },
     "metadata": {
      "needs_background": "light"
     },
     "output_type": "display_data"
    },
    {
     "data": {
      "text/plain": [
       "None"
      ]
     },
     "metadata": {},
     "output_type": "display_data"
    },
    {
     "name": "stdout",
     "output_type": "stream",
     "text": [
      "Default widgets: Children decision maker, Savings goal decision maker\n",
      "Additional widgets: Spending decision maker, Savings goal influence, Land ownership, Land decision maker\n",
      "\n"
     ]
    },
    {
     "data": {
      "text/markdown": [
       "### DEMOGRAPHICS"
      ],
      "text/plain": [
       "<IPython.core.display.Markdown object>"
      ]
     },
     "metadata": {},
     "output_type": "display_data"
    },
    {
     "data": {
      "text/markdown": [
       "##### Age Group vs. Urbanicity by Gender"
      ],
      "text/plain": [
       "<IPython.core.display.Markdown object>"
      ]
     },
     "metadata": {},
     "output_type": "display_data"
    },
    {
     "data": {
      "image/png": "[encoded data removed]",
      "text/plain": [
       "<Figure size 432x288 with 2 Axes>"
      ]
     },
     "metadata": {
      "needs_background": "light"
     },
     "output_type": "display_data"
    },
    {
     "data": {
      "text/plain": [
       "None"
      ]
     },
     "metadata": {},
     "output_type": "display_data"
    },
    {
     "name": "stdout",
     "output_type": "stream",
     "text": [
      "Default widgets: Gender, Age Group, Urbanicity, $2.50 PPP Poverty line\n",
      "Additional widgets: Education, Main language, English literacy, Relationship status, Mean household size, Region\n"
     ]
    }
   ],
   "source": [
    "display(Markdown('### PHONE USAGE'))\n",
    "display(Markdown(f'#### {phone_use_perc_women}% of women who own a phone declared independent phone usage, compared to {phone_use_perc_men}% of men who own a phone.'))\n",
    "hm_phone = [' Phone ownership', 'Independent phone use']\n",
    "plotHeatmap(hm_phone[0], hm_phone[1])\n",
    "print('Default widgets: Phone ownership, Independent phone use')\n",
    "print('Hidden widgets: None')\n",
    "print()\n",
    "display(Markdown(f'### WORK'))\n",
    "display(Markdown(f'#### {work_permit_perc_women}% of women work or have permission to work; and {main_earner_perc_women}% are the main income earner in their homes, compared to {main_earner_perc_men}% of men.'))\n",
    "hm_work = ['Permission to work', 'Main income earner']\n",
    "plotHeatmap(hm_work[0], hm_work[1])\n",
    "print('Default widgets: Permission to work, Main income earner')\n",
    "print('Additional widgets: Migrant worker identity, Allow spouse to work, Income frequency of spouse')\n",
    "print()\n",
    "display(Markdown(f'### EARNINGS'))\n",
    "display(Markdown(f'#### {gni_raise_perc_women}% of women had the possibility to raise 1/20 GNI in case of need.'))\n",
    "print('Default widgets: Earning frequency, Possibility to raise 1/20 GNI (Gross National Income)')\n",
    "print('Additional widgets: None')\n",
    "print(len(earning_spending), 'widgets:', earning_spending)\n",
    "print()\n",
    "display(Markdown(f'### FINANCIAL INCLUSION'))\n",
    "display(Markdown(f'#### {money_taken_women_owner_perc}% of the women who own a mobile or bank account ({mobile_money_perc_women+bank_perc_women}% of all interviewed women) claimed to have money taken from their accounts.'))\n",
    "hm_fin = ['Bank', 'Money taken from account']\n",
    "plotHeatmap(hm_fin[0], hm_fin[1])\n",
    "print('Default widgets: Bank, Mobile Money, Money taken from account')\n",
    "print('Additional widgets: Informal financial usage, Permission to open bank')\n",
    "print()\n",
    "display(Markdown(f'### HOUSEHOLD DECISION MAKING'))\n",
    "display(Markdown(f'#### {children_decision_perc_women}% of women have influence on decisions regarding their children, and {savings_decision_perc_women}% on decisions regarding savings goals.'))\n",
    "hm_decision = ['Children decision maker', 'Savings goal decision maker']\n",
    "plotHeatmap(hm_decision[0], hm_decision[1])\n",
    "print('Default widgets: Children decision maker, Savings goal decision maker')\n",
    "print('Additional widgets: Spending decision maker, Savings goal influence, Land ownership, Land decision maker')\n",
    "print()\n",
    "display(Markdown(f'### DEMOGRAPHICS'))\n",
    "hm_demo = ['Age Group', 'Urbanicity']\n",
    "plotHeatmap(hm_demo[0], hm_demo[1])\n",
    "print('Default widgets: Gender, Age Group, Urbanicity, $2.50 PPP Poverty line')\n",
    "print('Additional widgets: Education, Main language, English literacy, Relationship status, Mean household size, Region')"
   ]
  },
  {
   "cell_type": "code",
   "execution_count": 18,
   "metadata": {
    "collapsed": true,
    "jupyter": {
     "outputs_hidden": true
    }
   },
   "outputs": [
    {
     "data": {
      "text/plain": [
       "\u001b[0;31mSignature:\u001b[0m\n",
       "\u001b[0mpd\u001b[0m\u001b[0;34m.\u001b[0m\u001b[0mread_sql\u001b[0m\u001b[0;34m(\u001b[0m\u001b[0;34m\u001b[0m\n",
       "\u001b[0;34m\u001b[0m    \u001b[0msql\u001b[0m\u001b[0;34m,\u001b[0m\u001b[0;34m\u001b[0m\n",
       "\u001b[0;34m\u001b[0m    \u001b[0mcon\u001b[0m\u001b[0;34m,\u001b[0m\u001b[0;34m\u001b[0m\n",
       "\u001b[0;34m\u001b[0m    \u001b[0mindex_col\u001b[0m\u001b[0;34m=\u001b[0m\u001b[0;32mNone\u001b[0m\u001b[0;34m,\u001b[0m\u001b[0;34m\u001b[0m\n",
       "\u001b[0;34m\u001b[0m    \u001b[0mcoerce_float\u001b[0m\u001b[0;34m=\u001b[0m\u001b[0;32mTrue\u001b[0m\u001b[0;34m,\u001b[0m\u001b[0;34m\u001b[0m\n",
       "\u001b[0;34m\u001b[0m    \u001b[0mparams\u001b[0m\u001b[0;34m=\u001b[0m\u001b[0;32mNone\u001b[0m\u001b[0;34m,\u001b[0m\u001b[0;34m\u001b[0m\n",
       "\u001b[0;34m\u001b[0m    \u001b[0mparse_dates\u001b[0m\u001b[0;34m=\u001b[0m\u001b[0;32mNone\u001b[0m\u001b[0;34m,\u001b[0m\u001b[0;34m\u001b[0m\n",
       "\u001b[0;34m\u001b[0m    \u001b[0mcolumns\u001b[0m\u001b[0;34m=\u001b[0m\u001b[0;32mNone\u001b[0m\u001b[0;34m,\u001b[0m\u001b[0;34m\u001b[0m\n",
       "\u001b[0;34m\u001b[0m    \u001b[0mchunksize\u001b[0m\u001b[0;34m=\u001b[0m\u001b[0;32mNone\u001b[0m\u001b[0;34m,\u001b[0m\u001b[0;34m\u001b[0m\n",
       "\u001b[0;34m\u001b[0m\u001b[0;34m)\u001b[0m\u001b[0;34m\u001b[0m\u001b[0;34m\u001b[0m\u001b[0m\n",
       "\u001b[0;31mDocstring:\u001b[0m\n",
       "Read SQL query or database table into a DataFrame.\n",
       "\n",
       "This function is a convenience wrapper around ``read_sql_table`` and\n",
       "``read_sql_query`` (for backward compatibility). It will delegate\n",
       "to the specific function depending on the provided input. A SQL query\n",
       "will be routed to ``read_sql_query``, while a database table name will\n",
       "be routed to ``read_sql_table``. Note that the delegated function might\n",
       "have more specific notes about their functionality not listed here.\n",
       "\n",
       "Parameters\n",
       "----------\n",
       "sql : string or SQLAlchemy Selectable (select or text object)\n",
       "    SQL query to be executed or a table name.\n",
       "con : SQLAlchemy connectable (engine/connection) or database string URI\n",
       "    or DBAPI2 connection (fallback mode)\n",
       "\n",
       "    Using SQLAlchemy makes it possible to use any DB supported by that\n",
       "    library. If a DBAPI2 object, only sqlite3 is supported.\n",
       "index_col : string or list of strings, optional, default: None\n",
       "    Column(s) to set as index(MultiIndex).\n",
       "coerce_float : boolean, default True\n",
       "    Attempts to convert values of non-string, non-numeric objects (like\n",
       "    decimal.Decimal) to floating point, useful for SQL result sets.\n",
       "params : list, tuple or dict, optional, default: None\n",
       "    List of parameters to pass to execute method.  The syntax used\n",
       "    to pass parameters is database driver dependent. Check your\n",
       "    database driver documentation for which of the five syntax styles,\n",
       "    described in PEP 249's paramstyle, is supported.\n",
       "    Eg. for psycopg2, uses %(name)s so use params={'name' : 'value'}\n",
       "parse_dates : list or dict, default: None\n",
       "    - List of column names to parse as dates.\n",
       "    - Dict of ``{column_name: format string}`` where format string is\n",
       "      strftime compatible in case of parsing string times, or is one of\n",
       "      (D, s, ns, ms, us) in case of parsing integer timestamps.\n",
       "    - Dict of ``{column_name: arg dict}``, where the arg dict corresponds\n",
       "      to the keyword arguments of :func:`pandas.to_datetime`\n",
       "      Especially useful with databases without native Datetime support,\n",
       "      such as SQLite.\n",
       "columns : list, default: None\n",
       "    List of column names to select from SQL table (only used when reading\n",
       "    a table).\n",
       "chunksize : int, default None\n",
       "    If specified, return an iterator where `chunksize` is the\n",
       "    number of rows to include in each chunk.\n",
       "\n",
       "Returns\n",
       "-------\n",
       "DataFrame\n",
       "\n",
       "See Also\n",
       "--------\n",
       "read_sql_table : Read SQL database table into a DataFrame.\n",
       "read_sql_query : Read SQL query into a DataFrame.\n",
       "\u001b[0;31mFile:\u001b[0m      ~/opt/anaconda3/lib/python3.7/site-packages/pandas/io/sql.py\n",
       "\u001b[0;31mType:\u001b[0m      function\n"
      ]
     },
     "metadata": {},
     "output_type": "display_data"
    }
   ],
   "source": [
    "sql = f'''\n",
    "    \n",
    "    WITH a as (\n",
    "    SELECT {indicator}, finalweight,\n",
    "    FROM {table}\n",
    "    WHERE Gender = {gender}\n",
    "    ), b as (\n",
    "    SELECT t.*\n",
    "    FROM a\n",
    "    CROSS JOIN LATERAL (\n",
    "    VALUES (a.{indicator}, '{indicator}', a.finalweight)\n",
    "    ) AS t(answer, indicator, finalweight)\n",
    "    ), c as (\n",
    "    SELECT answer, indicator,\n",
    "    SUM(finalweight) AS value,\n",
    "    count(answer) AS responders\n",
    "    FROM b\n",
    "    WHERE answer NOT IN (' ','nan','REFUSED') AND weight_ind != 'NaN'\n",
    "    GROUP BY answer, indicator\n",
    "    )\n",
    "    SELECT c.answer, c.indicator,\n",
    "    (c.value * 100 / SUM(c.value) OVER(PARTITION BY indicator)) as value,\n",
    "    SUM(c.responders) OVER() AS responders\n",
    "    FROM c\n",
    "    ORDER BY answer DESC\n",
    "'''"
   ]
  },
  {
   "cell_type": "code",
   "execution_count": null,
   "metadata": {},
   "outputs": [],
   "source": []
  },
  {
   "cell_type": "code",
   "execution_count": null,
   "metadata": {},
   "outputs": [],
   "source": []
  }
 ],
 "metadata": {
  "kernelspec": {
   "display_name": "Python 3",
   "language": "python",
   "name": "python3"
  },
  "language_info": {
   "codemirror_mode": {
    "name": "ipython",
    "version": 3
   },
   "file_extension": ".py",
   "mimetype": "text/x-python",
   "name": "python",
   "nbconvert_exporter": "python",
   "pygments_lexer": "ipython3",
   "version": "3.7.4"
  }
 },
 "nbformat": 4,
 "nbformat_minor": 4
}
