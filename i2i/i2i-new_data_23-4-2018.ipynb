{
 "cells": [
  {
   "cell_type": "markdown",
   "metadata": {
    "toc": "true"
   },
   "source": [
    "# Table of Contents\n",
    " <p><div class=\"lev1 toc-item\"><a href=\"#CGAP-Datasets\" data-toc-modified-id=\"CGAP-Datasets-1\"><span class=\"toc-item-num\">1&nbsp;&nbsp;</span>CGAP Datasets</a></div><div class=\"lev2 toc-item\"><a href=\"#Bangladesh-2016\" data-toc-modified-id=\"Bangladesh-2016-11\"><span class=\"toc-item-num\">1.1&nbsp;&nbsp;</span>Bangladesh 2016</a></div><div class=\"lev2 toc-item\"><a href=\"#Côte-d'ivore-2016\" data-toc-modified-id=\"Côte-d'ivore-2016-12\"><span class=\"toc-item-num\">1.2&nbsp;&nbsp;</span>Côte d'ivore 2016</a></div><div class=\"lev2 toc-item\"><a href=\"#Mozambique-2015\" data-toc-modified-id=\"Mozambique-2015-13\"><span class=\"toc-item-num\">1.3&nbsp;&nbsp;</span>Mozambique 2015</a></div><div class=\"lev2 toc-item\"><a href=\"#Nigeria-2016\" data-toc-modified-id=\"Nigeria-2016-14\"><span class=\"toc-item-num\">1.4&nbsp;&nbsp;</span>Nigeria 2016</a></div><div class=\"lev2 toc-item\"><a href=\"#Tanzania-2016\" data-toc-modified-id=\"Tanzania-2016-15\"><span class=\"toc-item-num\">1.5&nbsp;&nbsp;</span>Tanzania 2016</a></div><div class=\"lev2 toc-item\"><a href=\"#Uganda-2015-&lt;-------i2i_Source_of_Income-missing\" data-toc-modified-id=\"Uganda-2015-<-------i2i_Source_of_Income-missing-16\"><span class=\"toc-item-num\">1.6&nbsp;&nbsp;</span>Uganda 2015 &lt;-------i2i_Source_of_Income missing</a></div><div class=\"lev2 toc-item\"><a href=\"#Compare-CGAP-column-names-and-categorical-values\" data-toc-modified-id=\"Compare-CGAP-column-names-and-categorical-values-17\"><span class=\"toc-item-num\">1.7&nbsp;&nbsp;</span>Compare CGAP column names and categorical values</a></div><div class=\"lev2 toc-item\"><a href=\"#Json-generator\" data-toc-modified-id=\"Json-generator-18\"><span class=\"toc-item-num\">1.8&nbsp;&nbsp;</span>Json generator</a></div><div class=\"lev1 toc-item\"><a href=\"#Export-the-curated-datasets\" data-toc-modified-id=\"Export-the-curated-datasets-2\"><span class=\"toc-item-num\">2&nbsp;&nbsp;</span>Export the curated datasets</a></div>"
   ]
  },
  {
   "cell_type": "code",
   "execution_count": 1,
   "metadata": {},
   "outputs": [],
   "source": [
    "import os\n",
    "import zipfile\n",
    "import pandas as pd\n",
    "import requests\n",
    "import numpy as np\n",
    "import itertools\n",
    "import difflib\n",
    "import re\n",
    "pd.set_option('display.max_row', None)\n",
    "pd.set_option('display.max_columns', None)\n",
    "baseUrl= os.getcwd()"
   ]
  },
  {
   "cell_type": "markdown",
   "metadata": {},
   "source": [
    "#### Dictionaries for management"
   ]
  },
  {
   "cell_type": "code",
   "execution_count": null,
   "metadata": {},
   "outputs": [],
   "source": [
    "\"\"\"\n",
    "This object will be use as the reference one. not all datasets will have the same columns. this object will be created once and will grow after each run of the algorithm.\n",
    "allways trim and substitute empty values by null ones\n",
    "{\n",
    "colName:{ acceptedN: [set of similars built with every new one] each column will have its own why,\n",
    "          acceptedV:{ valA: [set of similars built with every new one] each column will have its own why}\n",
    "          toGetrid: \"years\"\n",
    "          cat: True\n",
    "          json: {\n",
    "            \"indicatorId\": \"geographic_area\",\n",
    "            \"childIndicatorId\": null,\n",
    "            \"answerId\": null\n",
    "        }\n",
    "    }\n",
    "}\n",
    "\"\"\"\n",
    "#ExpectedColumns ={\n",
    "#    \n",
    "#}"
   ]
  },
  {
   "cell_type": "markdown",
   "metadata": {},
   "source": [
    "#### Functions for management"
   ]
  },
  {
   "cell_type": "code",
   "execution_count": null,
   "metadata": {},
   "outputs": [],
   "source": [
    "def uploadFunction(info):\n",
    "    \"\"\"\n",
    "    Recive info as an dict with:\n",
    "    {\n",
    "    iso:\n",
    "    year:\n",
    "    fileUrl:\n",
    "    jsonUrl:    \n",
    "    }\n",
    "    \"\"\"\n",
    "    url = 'http://i2i.vizzuality.com/api/v1/country/{iso}/{year}/dataset'.format(iso=info[\"iso\"],year=info[\"year\"])\n",
    "    files1 = {'json': open(info[\"jsonUrl\"], 'rb'), 'csv': open(info[\"fileUrl\"], 'rb')}\n",
    "    r = requests.post(url, files=files1)\n",
    "    return r.json()\n",
    "\n",
    "def runUpload():\n",
    "    \"\"\"\n",
    "    will check output folder and will upload the files stored them after review that we have a pair csv,json named equally\n",
    "    \"\"\""
   ]
  },
  {
   "cell_type": "markdown",
   "metadata": {},
   "source": [
    "# CGAP Datasets"
   ]
  },
  {
   "cell_type": "markdown",
   "metadata": {},
   "source": [
    "## Bangladesh 2016"
   ]
  },
  {
   "cell_type": "code",
   "execution_count": null,
   "metadata": {
    "scrolled": false
   },
   "outputs": [],
   "source": [
    "bgd2016 = pd.read_csv(\"/Users/alicia/Projects/jupyter-geotools-alpine/work/data/i2i/newv3data/CGAP_datasets/BGD/2016/i2i - Bangladesh_single_26_oct_16 - SHORTENED.csv\", sep=',', low_memory=False)\n",
    "bgd2016.head(2)"
   ]
  },
  {
   "cell_type": "code",
   "execution_count": null,
   "metadata": {},
   "outputs": [],
   "source": [
    "print(bgd2016.columns.sort_values(ascending=True).values)\n",
    "bgd2016 = bgd2016.rename(columns={'Savings_Inf': 'Saving_Inf'})\n",
    "bgd2016.rename(columns={'I8': 'jurisdiction'}, inplace=True)\n",
    "bgd2016.columns.sort_values(ascending=True).values"
   ]
  },
  {
   "cell_type": "code",
   "execution_count": null,
   "metadata": {
    "scrolled": false
   },
   "outputs": [],
   "source": [
    "bgd2016Cols=set(bgd2016.columns.sort_values(ascending=True).values)\n",
    "print(bgd2016Cols)"
   ]
  },
  {
   "cell_type": "code",
   "execution_count": null,
   "metadata": {
    "scrolled": false
   },
   "outputs": [],
   "source": [
    "for i in bgd2016.columns.values:\n",
    "    print('___________________')\n",
    "    if len(bgd2016[i].unique()) < 20:\n",
    "        print('{0}'.format(i))\n",
    "        print(bgd2016[i].unique())\n",
    "    else:\n",
    "        print('{0}'.format(i))"
   ]
  },
  {
   "cell_type": "markdown",
   "metadata": {},
   "source": [
    "## Côte d'ivore 2016"
   ]
  },
  {
   "cell_type": "code",
   "execution_count": null,
   "metadata": {},
   "outputs": [],
   "source": [
    "civ2016 = pd.read_csv(\"/Users/alicia/Projects/jupyter-geotools-alpine/work/data/i2i/newv3data/CGAP_datasets/CIV/2016/i2i - Ivory Coast_single - SHORTENED.csv\", sep=',', low_memory=False)\n",
    "civ2016.head(2)"
   ]
  },
  {
   "cell_type": "code",
   "execution_count": null,
   "metadata": {},
   "outputs": [],
   "source": [
    "civ2016.rename(columns={'I8': 'jurisdiction'}, inplace=True)\n",
    "civ2016Cols=set(civ2016.columns.sort_values(ascending=True).values)\n",
    "print(civ2016Cols)"
   ]
  },
  {
   "cell_type": "code",
   "execution_count": null,
   "metadata": {},
   "outputs": [],
   "source": [
    "for i in civ2016.columns.values:\n",
    "    if len(civ2016[i].unique()) < 20:\n",
    "        print('**column:** {0}'.format(i))\n",
    "        print(civ2016[i].unique())\n",
    "    else:\n",
    "        print('**column:** {0}'.format(i))"
   ]
  },
  {
   "cell_type": "markdown",
   "metadata": {},
   "source": [
    "## Mozambique 2015"
   ]
  },
  {
   "cell_type": "code",
   "execution_count": 2,
   "metadata": {},
   "outputs": [
    {
     "data": {
      "text/html": [
       "<div>\n",
       "<style>\n",
       "    .dataframe thead tr:only-child th {\n",
       "        text-align: right;\n",
       "    }\n",
       "\n",
       "    .dataframe thead th {\n",
       "        text-align: left;\n",
       "    }\n",
       "\n",
       "    .dataframe tbody tr th {\n",
       "        vertical-align: top;\n",
       "    }\n",
       "</style>\n",
       "<table border=\"1\" class=\"dataframe\">\n",
       "  <thead>\n",
       "    <tr style=\"text-align: right;\">\n",
       "      <th></th>\n",
       "      <th>ID</th>\n",
       "      <th>Province</th>\n",
       "      <th>Weight_Ind</th>\n",
       "      <th>Gender</th>\n",
       "      <th>Saving_B</th>\n",
       "      <th>Saving_F</th>\n",
       "      <th>Saving_Inf</th>\n",
       "      <th>Saving_AH</th>\n",
       "      <th>Saving_Strand</th>\n",
       "      <th>Credit_B</th>\n",
       "      <th>Credit_F</th>\n",
       "      <th>Credit_Inf</th>\n",
       "      <th>Credit_FF</th>\n",
       "      <th>Credit_Strand</th>\n",
       "      <th>Insurance_B</th>\n",
       "      <th>Insurance_F</th>\n",
       "      <th>Insurance_Inf</th>\n",
       "      <th>Insurance_Strand</th>\n",
       "      <th>Remittances_B</th>\n",
       "      <th>Remittances_F</th>\n",
       "      <th>Remittances_Inf</th>\n",
       "      <th>Remittances_FF</th>\n",
       "      <th>Remittances_Strand</th>\n",
       "      <th>Banked</th>\n",
       "      <th>Other_formal</th>\n",
       "      <th>Informal</th>\n",
       "      <th>Mobile_Money</th>\n",
       "      <th>FAS</th>\n",
       "      <th>i2i_Age</th>\n",
       "      <th>i2i_Education</th>\n",
       "      <th>i2i_Marital_Status</th>\n",
       "      <th>i2i_Source_of_Income</th>\n",
       "      <th>Urban_Rural</th>\n",
       "    </tr>\n",
       "  </thead>\n",
       "  <tbody>\n",
       "    <tr>\n",
       "      <th>0</th>\n",
       "      <td>1</td>\n",
       "      <td>Maputo Cid</td>\n",
       "      <td>0.474444</td>\n",
       "      <td>Male</td>\n",
       "      <td>Saving at bank</td>\n",
       "      <td></td>\n",
       "      <td></td>\n",
       "      <td></td>\n",
       "      <td>Savings at bank</td>\n",
       "      <td>Credit at bank</td>\n",
       "      <td>Credit Other formal (non-bank)</td>\n",
       "      <td></td>\n",
       "      <td></td>\n",
       "      <td>Credit at bank</td>\n",
       "      <td></td>\n",
       "      <td></td>\n",
       "      <td></td>\n",
       "      <td>Not insured</td>\n",
       "      <td>Remittances through bank</td>\n",
       "      <td></td>\n",
       "      <td></td>\n",
       "      <td></td>\n",
       "      <td>Remittances through bank</td>\n",
       "      <td>Banked</td>\n",
       "      <td>Other formal (non-bank)</td>\n",
       "      <td></td>\n",
       "      <td>Mobile Money</td>\n",
       "      <td>Banked</td>\n",
       "      <td>25 – 34 years</td>\n",
       "      <td>Secondary education</td>\n",
       "      <td>Single/Never married</td>\n",
       "      <td>Informally employed</td>\n",
       "      <td>Urban</td>\n",
       "    </tr>\n",
       "    <tr>\n",
       "      <th>1</th>\n",
       "      <td>2</td>\n",
       "      <td>Maputo Cid</td>\n",
       "      <td>1.186109</td>\n",
       "      <td>Male</td>\n",
       "      <td></td>\n",
       "      <td></td>\n",
       "      <td></td>\n",
       "      <td></td>\n",
       "      <td>Not saving</td>\n",
       "      <td></td>\n",
       "      <td></td>\n",
       "      <td></td>\n",
       "      <td></td>\n",
       "      <td>Not borrowing</td>\n",
       "      <td></td>\n",
       "      <td></td>\n",
       "      <td></td>\n",
       "      <td>Not insured</td>\n",
       "      <td></td>\n",
       "      <td></td>\n",
       "      <td></td>\n",
       "      <td></td>\n",
       "      <td>Not remitting</td>\n",
       "      <td></td>\n",
       "      <td></td>\n",
       "      <td></td>\n",
       "      <td></td>\n",
       "      <td>Excluded</td>\n",
       "      <td>45 – 60 years</td>\n",
       "      <td>Secondary education</td>\n",
       "      <td>Married/Living together</td>\n",
       "      <td>Informally employed</td>\n",
       "      <td>Urban</td>\n",
       "    </tr>\n",
       "  </tbody>\n",
       "</table>\n",
       "</div>"
      ],
      "text/plain": [
       "   ID    Province  Weight_Ind Gender        Saving_B Saving_F Saving_Inf  \\\n",
       "0   1  Maputo Cid    0.474444   Male  Saving at bank                       \n",
       "1   2  Maputo Cid    1.186109   Male                                       \n",
       "\n",
       "  Saving_AH    Saving_Strand        Credit_B                        Credit_F  \\\n",
       "0            Savings at bank  Credit at bank  Credit Other formal (non-bank)   \n",
       "1                 Not saving                                                   \n",
       "\n",
       "  Credit_Inf Credit_FF   Credit_Strand Insurance_B Insurance_F Insurance_Inf  \\\n",
       "0                       Credit at bank                                         \n",
       "1                        Not borrowing                                         \n",
       "\n",
       "  Insurance_Strand             Remittances_B Remittances_F Remittances_Inf  \\\n",
       "0      Not insured  Remittances through bank                                 \n",
       "1      Not insured                                                           \n",
       "\n",
       "  Remittances_FF        Remittances_Strand  Banked             Other_formal  \\\n",
       "0                 Remittances through bank  Banked  Other formal (non-bank)   \n",
       "1                            Not remitting                                    \n",
       "\n",
       "  Informal  Mobile_Money       FAS        i2i_Age        i2i_Education  \\\n",
       "0           Mobile Money    Banked  25 – 34 years  Secondary education   \n",
       "1                         Excluded  45 – 60 years  Secondary education   \n",
       "\n",
       "        i2i_Marital_Status i2i_Source_of_Income Urban_Rural  \n",
       "0     Single/Never married  Informally employed       Urban  \n",
       "1  Married/Living together  Informally employed       Urban  "
      ]
     },
     "execution_count": 2,
     "metadata": {},
     "output_type": "execute_result"
    }
   ],
   "source": [
    "#moz2015 = pd.read_csv(\"/Users/alicia/Projects/jupyter-geotools-alpine/work/data/i2i/newv3data/CGAP_datasets/MOZ/2015/i2i - Mozambique_2015_single_feb_16 - SHORTENED.csv\", sep=',', low_memory=False)\n",
    "moz2015 = pd.read_csv(\"/Users/alicia/Projects/jupyter-geotools-alpine/work/data/i2i/newv3data/CGAP_datasets/MOZ/2015/i2i-Mozambique.csv\", sep=';', low_memory=False)\n",
    "moz2015.head(2)"
   ]
  },
  {
   "cell_type": "code",
   "execution_count": 3,
   "metadata": {},
   "outputs": [
    {
     "name": "stdout",
     "output_type": "stream",
     "text": [
      "{'Credit_B', 'Gender', 'Banked', 'Remittances_Strand', 'Province', 'Credit_Strand', 'Insurance_Strand', 'ID', 'Remittances_FF', 'Credit_FF', 'Other_formal', 'Informal', 'FAS', 'Insurance_B', 'Saving_F', 'Credit_F', 'Saving_Inf', 'Remittances_Inf', 'Saving_AH', 'i2i_Marital_Status', 'Urban_Rural', 'Remittances_B', 'Mobile_Money', 'Weight_Ind', 'Credit_Inf', 'Saving_B', 'i2i_Age', 'Insurance_Inf', 'Remittances_F', 'Saving_Strand', 'Insurance_F', 'i2i_Education', 'i2i_Source_of_Income'}\n"
     ]
    }
   ],
   "source": [
    "#moz2015.rename(columns={'I9': 'jurisdiction'}, inplace=True)\n",
    "moz2015Cols=set(moz2015.columns.sort_values(ascending=True).values)\n",
    "print(moz2015Cols)"
   ]
  },
  {
   "cell_type": "code",
   "execution_count": 4,
   "metadata": {},
   "outputs": [
    {
     "name": "stdout",
     "output_type": "stream",
     "text": [
      "**column:** ID\n",
      "**column:** Province\n",
      "['Maputo Cid' 'Cabo Delgado' 'Inhambane' 'Niassa' 'Maputo Prov' 'Nampula'\n",
      " 'Gaza' 'Zambezia' 'Sofala' 'Tete' 'Manica']\n",
      "**column:** Weight_Ind\n",
      "**column:** Gender\n",
      "['Male' 'Female']\n",
      "**column:** Saving_B\n",
      "['Saving at bank' ' ']\n",
      "**column:** Saving_F\n",
      "[' ' 'Saving Other formal (non-bank)']\n",
      "**column:** Saving_Inf\n",
      "[' ' 'Saving informal']\n",
      "**column:** Saving_AH\n",
      "[' ' 'Saving at home']\n",
      "**column:** Saving_Strand\n",
      "['Savings at bank' 'Not saving' 'Saving Other formal (non-bank)'\n",
      " 'Saving informal' 'Saving at home']\n",
      "**column:** Credit_B\n",
      "['Credit at bank' ' ']\n",
      "**column:** Credit_F\n",
      "['Credit Other formal (non-bank)' ' ']\n",
      "**column:** Credit_Inf\n",
      "[' ' 'Credit informal']\n",
      "**column:** Credit_FF\n",
      "[' ']\n",
      "**column:** Credit_Strand\n",
      "['Credit at bank' 'Not borrowing' 'Credit Other formal (non-bank)'\n",
      " 'Credit informal']\n",
      "**column:** Insurance_B\n",
      "[' ']\n",
      "**column:** Insurance_F\n",
      "[' ' 'Insurance from other formal (non-bank)']\n",
      "**column:** Insurance_Inf\n",
      "[' ']\n",
      "**column:** Insurance_Strand\n",
      "['Not insured' 'Insurance from other formal (non-bank)']\n",
      "**column:** Remittances_B\n",
      "['Remittances through bank' ' ']\n",
      "**column:** Remittances_F\n",
      "[' ' 'Remittances through Other formal (non-bank)']\n",
      "**column:** Remittances_Inf\n",
      "[' ' 'Remittances through informal channels']\n",
      "**column:** Remittances_FF\n",
      "[' ' 'Remittances through family and friends']\n",
      "**column:** Remittances_Strand\n",
      "['Remittances through bank' 'Not remitting'\n",
      " 'Remittances through family and friends'\n",
      " 'Remittances through Other formal (non-bank)'\n",
      " 'Remittances through informal channels']\n",
      "**column:** Banked\n",
      "['Banked' ' ']\n",
      "**column:** Other_formal\n",
      "['Other formal (non-bank)' ' ']\n",
      "**column:** Informal\n",
      "[' ' 'Informal']\n",
      "**column:** Mobile_Money\n",
      "['Mobile Money' ' ']\n",
      "**column:** FAS\n",
      "['Banked' 'Excluded' 'Other formal (non-bank)' 'Informal']\n",
      "**column:** i2i_Age\n",
      "['25 – 34 years' '45 – 60 years' 'Above 60 years' '35 – 44 years'\n",
      " 'Under 18 years' '18 – 24 years']\n",
      "**column:** i2i_Education\n",
      "['Secondary education' 'Tertiary education' 'Primary education' 'Dont know'\n",
      " 'No formal education']\n",
      "**column:** i2i_Marital_Status\n",
      "['Single/Never married' 'Married/Living together' 'Widowed'\n",
      " 'Divorced/Separated' 'Don’t know']\n",
      "**column:** i2i_Source_of_Income\n",
      "['Informally employed' 'Formally employed Private' 'Self-employed'\n",
      " 'Remittance Dependent' 'Don’t Know' 'Farming and fishing'\n",
      " 'Government Dependent' 'Other Income']\n",
      "**column:** Urban_Rural\n",
      "['Urban' 'Rural']\n"
     ]
    }
   ],
   "source": [
    "for i in moz2015.columns.values:\n",
    "    if len(moz2015[i].unique()) < 50:\n",
    "        print('**column:** {0}'.format(i))\n",
    "        print(moz2015[i].unique())\n",
    "    else:\n",
    "        print('**column:** {0}'.format(i))"
   ]
  },
  {
   "cell_type": "markdown",
   "metadata": {},
   "source": [
    "## Nigeria 2016"
   ]
  },
  {
   "cell_type": "code",
   "execution_count": null,
   "metadata": {
    "scrolled": true
   },
   "outputs": [],
   "source": [
    "nga2016 = pd.read_csv(\"/Users/alicia/Projects/jupyter-geotools-alpine/work/data/i2i/newv3data/CGAP_datasets/NGA/2016/i2i - Nigeria_2016_single_may_17 - SHORTENED.csv\", sep=',', low_memory=False)\n",
    "nga2016.head(2)"
   ]
  },
  {
   "cell_type": "code",
   "execution_count": null,
   "metadata": {},
   "outputs": [],
   "source": [
    "nga2016.rename(columns={'I8': 'jurisdiction'}, inplace=True)\n",
    "nga2016Cols=set(nga2016.columns.sort_values(ascending=True).values)\n",
    "print(nga2016Cols)"
   ]
  },
  {
   "cell_type": "code",
   "execution_count": null,
   "metadata": {},
   "outputs": [],
   "source": [
    "for i in nga2016.columns.values:\n",
    "    if len(nga2016[i].unique()) < 20:\n",
    "        print('**column:** {0}'.format(i))\n",
    "        print(nga2016[i].unique())\n",
    "    else:\n",
    "        print('**column:** {0}'.format(i))"
   ]
  },
  {
   "cell_type": "markdown",
   "metadata": {},
   "source": [
    "## Tanzania 2016"
   ]
  },
  {
   "cell_type": "code",
   "execution_count": null,
   "metadata": {},
   "outputs": [],
   "source": [
    "tza2016 = pd.read_csv(\"/Users/alicia/Projects/jupyter-geotools-alpine/work/data/i2i/newv3data/CGAP_datasets/TZA/2016/i2i - Tanzania _2015_single_may_17 - SHORTENED.csv\", sep=',', low_memory=False)\n",
    "tza2016.head(2)"
   ]
  },
  {
   "cell_type": "code",
   "execution_count": null,
   "metadata": {},
   "outputs": [],
   "source": [
    "tza2016.rename(columns={'I8': 'jurisdiction'}, inplace=True)\n",
    "tza2016Cols=set(tza2016.columns.sort_values(ascending=True).values)\n",
    "print(tza2016Cols)"
   ]
  },
  {
   "cell_type": "code",
   "execution_count": null,
   "metadata": {},
   "outputs": [],
   "source": [
    "tza2016.head(2)"
   ]
  },
  {
   "cell_type": "code",
   "execution_count": null,
   "metadata": {},
   "outputs": [],
   "source": [
    "for i in tza2016.columns.values:\n",
    "    if len(tza2016[i].unique()) < 20:\n",
    "        print('**column:** {0}'.format(i))\n",
    "        print(tza2016[i].unique())\n",
    "    else:\n",
    "        print('**column:** {0}'.format(i))"
   ]
  },
  {
   "cell_type": "markdown",
   "metadata": {},
   "source": [
    "## Uganda 2015 <-------i2i_Source_of_Income missing"
   ]
  },
  {
   "cell_type": "code",
   "execution_count": null,
   "metadata": {},
   "outputs": [],
   "source": [
    "uga2015 = pd.read_csv(\"/Users/alicia/Projects/jupyter-geotools-alpine/work/data/i2i/newv3data/CGAP_datasets/UGA/2015/i2i - Uganda_2015_single_feb_16 - SHORTENED.csv\", sep=',', low_memory=False)\n",
    "uga2015.head(2)"
   ]
  },
  {
   "cell_type": "code",
   "execution_count": null,
   "metadata": {},
   "outputs": [],
   "source": [
    "uga2015.rename(columns={'I9': 'jurisdiction'}, inplace=True)\n",
    "uga2015Cols=set(uga2015.columns.sort_values(ascending=True).values)\n",
    "print(uga2015Cols)"
   ]
  },
  {
   "cell_type": "code",
   "execution_count": null,
   "metadata": {},
   "outputs": [],
   "source": [
    "uga2015.head(2)"
   ]
  },
  {
   "cell_type": "code",
   "execution_count": null,
   "metadata": {},
   "outputs": [],
   "source": [
    "for i in uga2015.columns.values:\n",
    "    if len(uga2015[i].unique()) < 40:\n",
    "        print('**column:** {0}'.format(i))\n",
    "        print(uga2015[i].unique())\n",
    "    else:\n",
    "        print('**column:** {0}'.format(i))"
   ]
  },
  {
   "cell_type": "markdown",
   "metadata": {},
   "source": [
    "## Compare CGAP column names and categorical values \n",
    "to check if they are consistent between them. This will allow us to apply the same rules to clean and homogenize them as needed. I'm going to do so using sets. "
   ]
  },
  {
   "cell_type": "markdown",
   "metadata": {},
   "source": [
    "So we have compare above which columns aren't the same between pairs of datasets and in those that differs if exist in its pair a similar column. We have found that the common mistake is misspeling and changing upper to lower case.  \n",
    "\n",
    "We should also check this with the reference columns values and seek if they differ and why it happens.  \n",
    "\n",
    "Once that we are clear of why they differ between them we want to see what differences exists in between the same pair columns in its different values, so we will check that both have the same dataType, and if the values are categorical, see what's going on there.\n",
    "\n",
    "Again once this is done we should check with the reference per column and seek if they differ and why it happens.\n",
    "\n",
    "With all this information we should be able to build a small program that checks the similarities of pairs of datasets with a reference and be able to automatically correct minor issues like spelling and lower/upper case and flag/warning which of them should need human assistance. produce the required outputs and ask the user to run the task that will automatically upload to the api those that has passed the test."
   ]
  },
  {
   "cell_type": "code",
   "execution_count": 5,
   "metadata": {},
   "outputs": [],
   "source": [
    "#dfvaris=[[bgd2016,bgd2016Cols,'bgd2016'], [civ2016,civ2016Cols,'civ2016'], [moz2015,moz2015Cols,'moz2015'], [nga2016,nga2016Cols,'nga2016'], [tza2016,tza2016Cols,'tza2016'], [uga2015,uga2015Cols,'uga2015']]\n",
    "\n",
    "dfvaris=[[moz2015,moz2015Cols,'moz2015']]"
   ]
  },
  {
   "cell_type": "code",
   "execution_count": 6,
   "metadata": {
    "scrolled": false
   },
   "outputs": [
    {
     "name": "stdout",
     "output_type": "stream",
     "text": [
      "----------------------\n",
      "moz2015\n",
      "{'Credit_B', 'Banked', 'Remittances_Strand', 'Province', 'Credit_Strand', 'M_D3', 'Insurance_Strand', 'ID', 'Remittances_FF', 'Credit_FF', 'Other_formal', 'Informal', 'FAS', 'Insurance_B', 'Saving_F', 'Credit_F', 'Saving_Inf', 'Remittances_Inf', 'Saving_AH', 'i2i_Marital_Status', 'Urb_Rur', 'Remittances_B', 'Mobile_Money', 'Weight_Ind', 'Credit_Inf', 'Saving_B', 'i2i_Age', 'Insurance_Inf', 'Remittances_F', 'Saving_Strand', 'Insurance_F', 'i2i_Education', 'i2i_Source_of_Income'}\n"
     ]
    }
   ],
   "source": [
    "issueCols=set()\n",
    "for i, data in enumerate(dfvaris):\n",
    "    print('----------------------')\n",
    "    print(data[2])\n",
    "    for col in data[0].filter(regex=(\"(I[0-9]|Zone)\")).columns.values:\n",
    "        print('===============')\n",
    "        print(col)\n",
    "        print(data[0][col].unique())\n",
    "    if 'stratum' in data[1]:\n",
    "        dfvaris[i][0]=dfvaris[i][0].rename(columns={'stratum': 'Stratum'}) \n",
    "    if 'D3' in data[1]:\n",
    "        dfvaris[i][0]=dfvaris[i][0].rename(columns={'D3': 'M_D3'})\n",
    "    if 'Gender' in data[1]:\n",
    "        dfvaris[i][0]=dfvaris[i][0].rename(columns={'Gender': 'M_D3'})    \n",
    "    if 'savings_inf' in data[1]:\n",
    "        dfvaris[i][0]=dfvaris[i][0].rename(columns={'Savings_Inf': 'Saving_Inf'})\n",
    "    if 'Savings_Inf' in data[1]:\n",
    "        dfvaris[i][0]=dfvaris[i][0].rename(columns={'Savings_Inf': 'Saving_Inf'})\n",
    "    if 'urb_rur' in data[1]:\n",
    "        dfvaris[i][0]=dfvaris[i][0].rename(columns={'urb_rur': 'Urb_Rur'})\n",
    "    if 'Urb_rur' in data[1]:\n",
    "        dfvaris[i][0]=dfvaris[i][0].rename(columns={'Urb_rur': 'Urb_Rur'})\n",
    "    if 'Urban_Rural' in data[1]:\n",
    "        dfvaris[i][0]=dfvaris[i][0].rename(columns={'Urban_Rural': 'Urb_Rur'})\n",
    "    dfvaris[i][1]=set(data[0].columns.sort_values(ascending=True).values)\n",
    "    print(dfvaris[i][1])\n",
    "    issueCols = dfvaris[i][1] - issueCols"
   ]
  },
  {
   "cell_type": "code",
   "execution_count": 7,
   "metadata": {},
   "outputs": [
    {
     "name": "stdout",
     "output_type": "stream",
     "text": [
      "------------------------\n",
      "['From bank' '']\n",
      "['From other formal (non-bank)' '']\n",
      "['' 'From informal sources']\n",
      "['']\n",
      "['From bank' 'Not borrowing' 'From other formal (non-bank)'\n",
      " 'From informal sources']\n"
     ]
    }
   ],
   "source": [
    "def capitalize(matchobj):\n",
    "    return matchobj.group(0).upper()\n",
    "\n",
    "for i, data in enumerate(dfvaris):\n",
    "    print('------------------------')\n",
    "    for col in data[0].columns.values:\n",
    "        if dfvaris[i][0][col].dtype =='object':\n",
    "            dfvaris[i][0][col] = dfvaris[i][0][col].str.strip().str.lower().str.replace(re.compile(r'^(saving|remittances|credit|insurance)(s?)( ?)', flags=re.IGNORECASE), '').str.capitalize().str.replace(re.compile(r'( years)$', flags=re.IGNORECASE), '').str.replace(re.compile(r'(Urbain)', flags=re.IGNORECASE), 'Urban').str.replace(re.compile(r'(Above 60)', flags=re.IGNORECASE), '>60').str.replace(re.compile(r'(Under 18)', flags=re.IGNORECASE), '<18').str.replace(re.compile(r'\\/[aA-zZ]', flags=re.IGNORECASE), capitalize).str.replace('Dont know','Don’t know').str.replace('Informally','Informal')\n",
    "        \n",
    "        if 'Insurance' in col:\n",
    "            dfvaris[i][0].loc[(dfvaris[i][0][col] == 'From bank'), [col]] = 'From bank'\n",
    "            dfvaris[i][0].loc[(dfvaris[i][0][col] == 'From other formal (non-bank)'), [col]] = 'From other formal (non-bank)'\n",
    "            dfvaris[i][0].loc[(dfvaris[i][0][col] == 'From informal sources'), [col]] = 'From informal sources'\n",
    "            dfvaris[i][0].loc[(dfvaris[i][0][col] == 'From other formal (non-bank)'), [col]] = 'From other formal (non-bank)'\n",
    "            dfvaris[i][0].loc[(dfvaris[i][0][col] == 'From informal sources'), [col]] = 'From informal sources'\n",
    "            dfvaris[i][0].loc[(dfvaris[i][0][col] == 'From bank'), [col]] = 'From bank'\n",
    "            dfvaris[i][0].loc[(dfvaris[i][0][col] == 'Not insured'), [col]] = 'Not insured'\n",
    "        if 'Saving' in col:\n",
    "            dfvaris[i][0].loc[(dfvaris[i][0][col] == 'At bank'), [col]] = 'At Bank'\n",
    "            dfvaris[i][0].loc[(dfvaris[i][0][col] == 'Other formal (non-bank)'), [col]] = 'At other formal (non-bank)'\n",
    "            dfvaris[i][0].loc[(dfvaris[i][0][col] == 'Informal'), [col]] = 'Informally'\n",
    "            dfvaris[i][0].loc[(dfvaris[i][0][col] == 'At home'), [col]] = 'At home'\n",
    "            dfvaris[i][0].loc[(dfvaris[i][0][col] == 'Not saving'), [col]] = 'Not saving'\n",
    "            \n",
    "        if 'Remittances' in col:\n",
    "            dfvaris[i][0].loc[(dfvaris[i][0][col] == 'Through bank'), [col]] = 'Through bank'\n",
    "            dfvaris[i][0].loc[(dfvaris[i][0][col] == 'Through other formal (non-bank)'), [col]] = 'Through other formal (non-bank)'\n",
    "            dfvaris[i][0].loc[(dfvaris[i][0][col] == 'Through informal channels'), [col]] = 'Through informal channels'\n",
    "            dfvaris[i][0].loc[(dfvaris[i][0][col] == 'Through family and friend'), [col]] = 'Through family and friends'\n",
    "            dfvaris[i][0].loc[(dfvaris[i][0][col] == 'Not remitting'), [col]] = 'Not remitting'\n",
    "\n",
    "        if 'Credit' in col:\n",
    "            dfvaris[i][0].loc[(dfvaris[i][0][col] == 'At bank'), [col]] = 'From bank'\n",
    "            dfvaris[i][0].loc[(dfvaris[i][0][col] == 'Other formal (non-bank)'), [col]] = 'From other formal (non-bank)'\n",
    "            dfvaris[i][0].loc[(dfvaris[i][0][col] == 'Informal'), [col]] = 'From informal sources'\n",
    "            dfvaris[i][0].loc[(dfvaris[i][0][col] == 'At home'), [col]] = 'From home'\n",
    "            dfvaris[i][0].loc[(dfvaris[i][0][col] == 'Not borrowing'), [col]] = 'Not borrowing'\n",
    "            print(dfvaris[i][0][col].unique())\n",
    "      \n",
    "        "
   ]
  },
  {
   "cell_type": "markdown",
   "metadata": {},
   "source": [
    "creating the access columns for all datasets"
   ]
  },
  {
   "cell_type": "code",
   "execution_count": null,
   "metadata": {},
   "outputs": [],
   "source": [
    "for i, data in enumerate(dfvaris):\n",
    "    dfvaris[i][0]['fas_access'] = ''\n",
    "    dfvaris[i][0]['saving_access'] = ''\n",
    "    dfvaris[i][0]['remittances_access'] = ''\n",
    "    dfvaris[i][0]['insurance_access'] = ''\n",
    "    dfvaris[i][0]['credit_access'] = ''\n",
    "    dfvaris[i][0].loc[(dfvaris[i][0]['FAS'] == 'Excluded'), ['fas_access']] = 'Excluded'\n",
    "    dfvaris[i][0].loc[(dfvaris[i][0]['Saving_Strand'] == 'Not saving'), ['saving_access']] = 'Not saving'\n",
    "    dfvaris[i][0].loc[(dfvaris[i][0]['Remittances_Strand'] == 'Not remitting'), ['remittances_access']] = 'Not remitting'\n",
    "    dfvaris[i][0].loc[(dfvaris[i][0]['Insurance_Strand'] == 'Not insured'), ['insurance_access']] = 'Not insured'\n",
    "    dfvaris[i][0].loc[(dfvaris[i][0]['Credit_Strand'] == 'Not borrowing'), ['credit_access']] = 'Not borrowing'\n",
    "    \n",
    "    dfvaris[i][0]['i2i_Age']= dfvaris[i][0]['i2i_Age'].str.replace(' ','')\n",
    "    "
   ]
  },
  {
   "cell_type": "code",
   "execution_count": 8,
   "metadata": {},
   "outputs": [
    {
     "data": {
      "text/plain": [
       "{'Banked',\n",
       " 'Credit_B',\n",
       " 'Credit_F',\n",
       " 'Credit_FF',\n",
       " 'Credit_Inf',\n",
       " 'Credit_Strand',\n",
       " 'FAS',\n",
       " 'ID',\n",
       " 'Informal',\n",
       " 'Insurance_B',\n",
       " 'Insurance_F',\n",
       " 'Insurance_Inf',\n",
       " 'Insurance_Strand',\n",
       " 'M_D3',\n",
       " 'Mobile_Money',\n",
       " 'Other_formal',\n",
       " 'Province',\n",
       " 'Remittances_B',\n",
       " 'Remittances_F',\n",
       " 'Remittances_FF',\n",
       " 'Remittances_Inf',\n",
       " 'Remittances_Strand',\n",
       " 'Saving_AH',\n",
       " 'Saving_B',\n",
       " 'Saving_F',\n",
       " 'Saving_Inf',\n",
       " 'Saving_Strand',\n",
       " 'Urb_Rur',\n",
       " 'Weight_Ind',\n",
       " 'i2i_Age',\n",
       " 'i2i_Education',\n",
       " 'i2i_Marital_Status',\n",
       " 'i2i_Source_of_Income'}"
      ]
     },
     "execution_count": 8,
     "metadata": {},
     "output_type": "execute_result"
    }
   ],
   "source": [
    "issueCols"
   ]
  },
  {
   "cell_type": "code",
   "execution_count": null,
   "metadata": {
    "code_folding": []
   },
   "outputs": [],
   "source": [
    "valuesCols={}\n",
    "closetsCols={}\n",
    "for a, b in itertools.combinations(dfvaris, 2):\n",
    "    al=set(map(str.lower,a[1]))\n",
    "    bl=set(map(str.lower,b[1]))\n",
    "    c=a[1]-b[1]\n",
    "    cl=al-bl\n",
    "    d=b[1]-a[1]\n",
    "    dl=bl-al\n",
    "    symCols = a[1] & b[1]\n",
    "    print('=========================  ', a[2], ' - ', b[2])\n",
    "    print('Good matched columns')\n",
    "    for i in symCols:\n",
    "        if a[0][i].dtype != b[0][i].dtype:\n",
    "            print('+++++++++++++++++++++')\n",
    "            print(a[2],a[0][i].dtype,' different dtype ',b[2],b[0][i].dtype)\n",
    "            print('+++++++++++++++++++++')\n",
    "        \n",
    "        if len(a[0][i].unique()) < 20 and len(b[0][i].unique()) < 20:\n",
    "            print('-',i)\n",
    "            \n",
    "            print('> {0}: {1}'.format(a[2],a[0][i].unique()))\n",
    "            print('> {0}: {1}'.format(b[2],b[0][i].unique()))\n",
    "            r = difflib.get_close_matches(i, possibilities = valuesCols.keys(), n = 1, cutoff = 0.98)\n",
    "            if not r:\n",
    "                valuesCols[i]=set()\n",
    "                closetsCols[i]=set()\n",
    "            else:\n",
    "                print('*********')\n",
    "                print(r)\n",
    "                print('*********')\n",
    "                \n",
    "                valuesCols[r[0]].update(a[0][i].unique())\n",
    "                valuesCols[r[0]].update(b[0][i].unique())\n",
    "                print(r[0])\n",
    "                print(i)\n",
    "                print(round(difflib.SequenceMatcher(None, r[0], i).ratio(),3))\n",
    "                closetsCols[i].update(set(r))\n",
    "            \n",
    "    \n",
    "    print(\"Columns that doesn't have a full match from both datasets\", al^bl)\n",
    "    for search in cl:\n",
    "        matches = sorted(dl, key=lambda x: difflib.SequenceMatcher(None, x.lower(), search.lower()).ratio(), reverse=True)  \n",
    "        if round(difflib.SequenceMatcher(None, matches[0], search).ratio(),3) > 0.8:\n",
    "            print('--------')\n",
    "            print(\"{0} se compara con {1} el más parecido es {2} con un ratio de: {3}\".format(search, matches, matches[0], round(difflib.SequenceMatcher(None, matches[0], search).ratio(),3)))"
   ]
  },
  {
   "cell_type": "code",
   "execution_count": null,
   "metadata": {
    "scrolled": false
   },
   "outputs": [],
   "source": [
    "valuesCols"
   ]
  },
  {
   "cell_type": "code",
   "execution_count": null,
   "metadata": {},
   "outputs": [],
   "source": [
    "#closetsCols"
   ]
  },
  {
   "cell_type": "markdown",
   "metadata": {},
   "source": [
    "## Json generator"
   ]
  },
  {
   "cell_type": "code",
   "execution_count": 9,
   "metadata": {
    "code_folding": []
   },
   "outputs": [],
   "source": [
    "useJson =json.loads(\"\"\"{\n",
    "    \"weightColumn\": \"Weight_Ind\",\n",
    "    \"indicators\":{\n",
    "        \"Urb_Rur\": {\n",
    "            \"indicatorId\": \"geographic_area\",\n",
    "            \"childIndicatorId\": null,\n",
    "            \"answerId\": null\n",
    "        },\n",
    "        \"Province\":{\n",
    "            \"indicatorId\": \"jurisdiction\",\n",
    "            \"childIndicatorId\": null,\n",
    "            \"answerId\": null\n",
    "        },\n",
    "        \"M_D3\": {\n",
    "            \"indicatorId\": \"gender\",\n",
    "            \"childIndicatorId\": null,\n",
    "            \"answerId\": null\n",
    "        },\n",
    "        \"i2i_Age\": {\n",
    "            \"indicatorId\": \"age\",\n",
    "            \"childIndicatorId\": null,\n",
    "            \"answerId\": null\n",
    "        },\n",
    "        \"i2i_Marital_Status\":{\n",
    "            \"indicatorId\": \"i2i_Marital_Status\",\n",
    "            \"childIndicatorId\": null,\n",
    "            \"answerId\": null\n",
    "        },\n",
    "        \"i2i_Education\": {\n",
    "            \"indicatorId\": \"i2i_Education\",\n",
    "            \"childIndicatorId\": null,\n",
    "            \"answerId\": null\n",
    "        },\n",
    "        \"i2i_Source_of_Income\": {\n",
    "            \"indicatorId\": \"i2i_Income_Sources\",\n",
    "            \"childIndicatorId\": null,\n",
    "            \"answerId\": null\n",
    "        },\n",
    "        \"Banked\": {\n",
    "            \"indicatorId\": \"fas_strand\",\n",
    "            \"childIndicatorId\": null,\n",
    "            \"answerId\": 1\n",
    "        },\n",
    "        \"Other_formal\": {\n",
    "            \"indicatorId\": \"fas_strand\",\n",
    "            \"childIndicatorId\": null,\n",
    "            \"answerId\": 2\n",
    "        },\n",
    "        \"Informal\": {\n",
    "            \"indicatorId\": \"fas_strand\",\n",
    "            \"childIndicatorId\": null,\n",
    "            \"answerId\": 3\n",
    "        },\n",
    "        \"fas_access\": {\n",
    "            \"indicatorId\": \"fas_strand\",\n",
    "            \"childIndicatorId\": null,\n",
    "            \"answerId\": 4\n",
    "        },\n",
    "        \"Saving_B\":{\n",
    "            \"indicatorId\": \"savings_strand\",\n",
    "            \"childIndicatorId\": null,\n",
    "            \"answerId\": 1\n",
    "        },\n",
    "        \"Saving_F\":{\n",
    "            \"indicatorId\": \"savings_strand\",\n",
    "            \"childIndicatorId\": null,\n",
    "            \"answerId\": 2\n",
    "        },\n",
    "        \"Saving_Inf\":{\n",
    "            \"indicatorId\": \"savings_strand\",\n",
    "            \"childIndicatorId\": null,\n",
    "            \"answerId\": 3\n",
    "        },\n",
    "        \"Saving_AH\":{\n",
    "            \"indicatorId\": \"savings_strand\",\n",
    "            \"childIndicatorId\": null,\n",
    "            \"answerId\": 4\n",
    "        },\n",
    "        \"saving_access\":{\n",
    "            \"indicatorId\": \"savings_strand\",\n",
    "            \"childIndicatorId\": null,\n",
    "            \"answerId\": 5\n",
    "        },\n",
    "        \"Remittances_B\":{\n",
    "            \"indicatorId\": \"remittances_strand\",\n",
    "            \"childIndicatorId\": null,\n",
    "            \"answerId\": 1\n",
    "        },\n",
    "        \"Remittances_F\":{\n",
    "            \"indicatorId\": \"remittances_strand\",\n",
    "            \"childIndicatorId\": null,\n",
    "            \"answerId\": 2\n",
    "        },\n",
    "        \"Remittances_Inf\":{\n",
    "            \"indicatorId\": \"remittances_strand\",\n",
    "            \"childIndicatorId\": null,\n",
    "            \"answerId\": 3\n",
    "        },\n",
    "        \"Remittances_FF\":{\n",
    "            \"indicatorId\": \"remittances_strand\",\n",
    "            \"childIndicatorId\": null,\n",
    "            \"answerId\": 4\n",
    "        },\n",
    "        \"remittances_access\":{\n",
    "            \"indicatorId\": \"remittances_strand\",\n",
    "            \"childIndicatorId\": null,\n",
    "            \"answerId\": 5\n",
    "        },\n",
    "        \"Insurance_F\":{\n",
    "            \"indicatorId\": \"insurance_strand\",\n",
    "            \"childIndicatorId\": null,\n",
    "            \"answerId\": 1\n",
    "        },\n",
    "        \"Insurance_Inf\":{\n",
    "            \"indicatorId\": \"insurance_strand\",\n",
    "            \"childIndicatorId\": null,\n",
    "            \"answerId\": 2\n",
    "        },\n",
    "        \"Insurance_B\":{\n",
    "            \"indicatorId\": \"insurance_strand\",\n",
    "            \"childIndicatorId\": null,\n",
    "            \"answerId\": 3\n",
    "        },\n",
    "        \"insurance_access\":{\n",
    "            \"indicatorId\": \"insurance_strand\",\n",
    "            \"childIndicatorId\": null,\n",
    "            \"answerId\": 4\n",
    "        },\n",
    "        \"Credit_B\":{\n",
    "            \"indicatorId\": \"credit_strand\",\n",
    "            \"childIndicatorId\": null,\n",
    "            \"answerId\": 1\n",
    "        },\n",
    "        \"Credit_F\":{\n",
    "            \"indicatorId\": \"credit_strand\",\n",
    "            \"childIndicatorId\": null,\n",
    "            \"answerId\": 2\n",
    "        },\n",
    "        \"Credit_Inf\":{\n",
    "            \"indicatorId\": \"credit_strand\",\n",
    "            \"childIndicatorId\": null,\n",
    "            \"answerId\": 3\n",
    "        },\n",
    "        \"Credit_FF\":{\n",
    "            \"indicatorId\": \"credit_strand\",\n",
    "            \"childIndicatorId\": null,\n",
    "            \"answerId\": 4\n",
    "        },\n",
    "        \"credit_access\":{\n",
    "            \"indicatorId\": \"credit_strand\",\n",
    "            \"childIndicatorId\": null,\n",
    "            \"answerId\": 5\n",
    "        },\n",
    "        \"Weight_Ind\":{\n",
    "            \"indicatorId\": \"weight_ind\",\n",
    "            \"childIndicatorId\": null,\n",
    "            \"answerId\": null\n",
    "        },\n",
    "        \"FAS\":{\n",
    "            \"indicatorId\": \"total_fas_strand\",\n",
    "            \"childIndicatorId\": null,\n",
    "            \"answerId\": 1\n",
    "        },\n",
    "        \"Saving_Strand\":{\n",
    "            \"indicatorId\": \"total_saving_strand\",\n",
    "            \"childIndicatorId\": null,\n",
    "            \"answerId\": 2\n",
    "        },\n",
    "        \"Remittances_Strand\":{\n",
    "            \"indicatorId\": \"total_remittances_strand\",\n",
    "            \"childIndicatorId\": null,\n",
    "            \"answerId\": 3\n",
    "        },\n",
    "        \"Insurance_Strand\":{\n",
    "            \"indicatorId\": \"total_insurance_strand\",\n",
    "            \"childIndicatorId\": null,\n",
    "            \"answerId\": 4\n",
    "        },\n",
    "        \"Credit_Strand\":{\n",
    "            \"indicatorId\": \"total_credit_strand\",\n",
    "            \"childIndicatorId\": null,\n",
    "            \"answerId\": 5\n",
    "        }\n",
    "    }\n",
    "}\"\"\")"
   ]
  },
  {
   "cell_type": "markdown",
   "metadata": {},
   "source": [
    "# Export the curated datasets"
   ]
  },
  {
   "cell_type": "markdown",
   "metadata": {},
   "source": [
    "api interaction [Api](https://github.com/Vizzuality/i2i-api)"
   ]
  },
  {
   "cell_type": "markdown",
   "metadata": {},
   "source": [
    "####  Population over which it was estimated"
   ]
  },
  {
   "cell_type": "code",
   "execution_count": 10,
   "metadata": {},
   "outputs": [
    {
     "name": "stdout",
     "output_type": "stream",
     "text": [
      "_________________  moz2015\n",
      "Mujeres:  1070.76538047\n",
      "Hombres:  1138.23461953\n",
      "Total:  2209.0\n"
     ]
    }
   ],
   "source": [
    "for i, data in enumerate(dfvaris):\n",
    "    poblacion = sum(data[0]['Weight_Ind'])\n",
    "    mujeres = data[0][data[0]['M_D3'] == 'Female']\n",
    "    total_mujeres = sum(mujeres['Weight_Ind'])\n",
    "    hombres = data[0][data[0]['M_D3'] == 'Male']\n",
    "    total_hombres = sum(hombres['Weight_Ind'])\n",
    "    print('_________________ ',data[2])\n",
    "    print('Mujeres: ',total_mujeres)\n",
    "    print('Hombres: ',total_hombres)\n",
    "    print('Total: ', poblacion)"
   ]
  },
  {
   "cell_type": "code",
   "execution_count": 27,
   "metadata": {},
   "outputs": [
    {
     "name": "stdout",
     "output_type": "stream",
     "text": [
      "{'name': 'Mozambique', 'iso': 'MOZ', 'year': 2015, 'total': 2209.0}\n",
      "[{\"id\":7,\"name\":\"Mozambique\",\"iso\":\"MOZ\",\"mapUrl\":null,\"createdAt\":\"2017-02-23T16:36:01.251Z\",\"updatedAt\":\"2018-05-08T11:02:55.207Z\",\"years\":[{\"id\":18,\"year\":2014,\"total\":14431915,\"dataUrl\":\"https://s3-us-west-2.amazonaws.com/i2ifacility.org/MOZ/2014.zip\",\"createdAt\":\"2017-02-23T16:36:01.259Z\",\"updatedAt\":\"2017-02-23T16:36:01.259Z\",\"countryId\":7},{\"id\":40,\"year\":2015,\"total\":2209,\"dataUrl\":null,\"createdAt\":\"2018-05-08T08:33:18.983Z\",\"updatedAt\":\"2018-05-08T08:33:18.983Z\",\"countryId\":7}]}]\n"
     ]
    }
   ],
   "source": [
    "AceptedColumns = set(useJson['indicators'].keys())\n",
    "#datasets=[['bgd2016', 'Bangladesh'], ['civ2016', \"Côte d'Ivore\"], ['moz2015', \"Mozambique\"], ['nga2016', 'Nigeria'], ['tza2016','Tanzania'], ['uga2015', 'Uganda']]\n",
    "\n",
    "datasets=[['moz2015', \"Mozambique\"]]\n",
    "for i, data in enumerate(dfvaris):\n",
    "    columns = (AceptedColumns & set(data[0].columns.sort_values(ascending=True).values))\n",
    "    ISO = data[2][0:3].upper()\n",
    "    YEAR = int(data[2][3:])\n",
    "    fileURL = '/Users/alicia/Projects/jupyter-geotools-alpine/work/data/i2i/newv3data/CGAP_datasets/data_dst/{0}.csv'.format(data[2])\n",
    "    jsonURL = '/Users/alicia/Projects/jupyter-geotools-alpine/work/data/i2i/newv3data/CGAP_datasets/data_dst/{0}.json'.format(data[2])\n",
    "    \n",
    "    #url = 'http://i2i.vizzuality.com/api/v1/country/{iso}/{year}/dataset'.format(iso=ISO,year=YEAR)\n",
    "    url = 'http://www.i2ifacility.org/api/v1/country/{iso}/{year}/dataset'.format(iso=ISO,year=YEAR)\n",
    "    \n",
    "    #data[0][list(columns)].to_csv(fileURL)\n",
    "    outCol = dict((key,value) for key, value in useJson[\"indicators\"].items() if key in columns)\n",
    "    myJson = {\n",
    "        \"weightColumn\": \"Weight_Ind\",\n",
    "        \"indicators\": outCol}\n",
    "    #with open(jsonURL, 'w') as outfile:\n",
    "    #    json.dump(myJson, outfile)\n",
    "    #s = requests.patch('http://i2i.vizzuality.com/api/v1/country/{0}'.format(data[2][0:3]), json={\n",
    "    s = requests.patch('http://www.i2ifacility.org/api/v1/country/{0}'.format(ISO), json={\n",
    "                \"name\":datasets[i][1],\n",
    "                \"iso\": ISO,\n",
    "                \"year\": YEAR,\n",
    "                \"total\":sum(data[0]['Weight_Ind']),\n",
    "                \"dataUrl\":\"https://s3-us-west-2.amazonaws.com/i2ifacility.org/MOZ/2015.zip\"\n",
    "                })\n",
    "    print({\n",
    "                \"name\":datasets[i][1],\n",
    "                \"iso\": ISO,\n",
    "                \"year\": YEAR,\n",
    "                \"total\":round(sum(data[0]['Weight_Ind']))\n",
    "                })\n",
    "    print(s.text)\n",
    "    #files1 = {'json': open(jsonURL, 'rb'), 'csv': open(fileURL, 'rb')}\n",
    "    #r = requests.post(url, files=files1)\n",
    "    #print(r.text)"
   ]
  },
  {
   "cell_type": "code",
   "execution_count": null,
   "metadata": {},
   "outputs": [],
   "source": []
  }
 ],
 "metadata": {
  "kernelspec": {
   "display_name": "Python 3",
   "language": "python",
   "name": "python3"
  },
  "language_info": {
   "codemirror_mode": {
    "name": "ipython",
    "version": 3
   },
   "file_extension": ".py",
   "mimetype": "text/x-python",
   "name": "python",
   "nbconvert_exporter": "python",
   "pygments_lexer": "ipython3",
   "version": "3.7.3"
  },
  "toc": {
   "colors": {
    "hover_highlight": "#DAA520",
    "navigate_num": "#000000",
    "navigate_text": "#333333",
    "running_highlight": "#FF0000",
    "selected_highlight": "#FFD700",
    "sidebar_border": "#EEEEEE",
    "wrapper_background": "#FFFFFF"
   },
   "moveMenuLeft": true,
   "nav_menu": {
    "height": "156px",
    "width": "252px"
   },
   "navigate_menu": true,
   "number_sections": true,
   "sideBar": true,
   "threshold": "2",
   "toc_cell": true,
   "toc_section_display": "block",
   "toc_window_display": true,
   "widenNotebook": false
  },
  "varInspector": {
   "cols": {
    "lenName": 16,
    "lenType": 16,
    "lenVar": 40
   },
   "kernels_config": {
    "python": {
     "delete_cmd_postfix": "",
     "delete_cmd_prefix": "del ",
     "library": "var_list.py",
     "varRefreshCmd": "print(var_dic_list())"
    },
    "r": {
     "delete_cmd_postfix": ") ",
     "delete_cmd_prefix": "rm(",
     "library": "var_list.r",
     "varRefreshCmd": "cat(var_dic_list()) "
    }
   },
   "types_to_exclude": [
    "module",
    "function",
    "builtin_function_or_method",
    "instance",
    "_Feature"
   ],
   "window_display": false
  }
 },
 "nbformat": 4,
 "nbformat_minor": 2
}
