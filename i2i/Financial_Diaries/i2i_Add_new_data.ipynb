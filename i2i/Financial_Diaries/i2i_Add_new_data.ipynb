{
 "cells": [
  {
   "cell_type": "markdown",
   "metadata": {},
   "source": [
    "# 4 new financial diaries\n",
    "\n",
    "In this notebook we will add finacial diaries data for 4 new countries. \n",
    "\n",
    "- [Here](https://basecamp.com/1756858/projects/12871501/messages/83841824) the info of the new datasets.\n",
    "\n",
    "- [Here](https://github.com/Vizzuality/i2i#importing-financial-diaries-data-csv) some notes from Ivan about what we should take into account.\n",
    "\n",
    "- [Here](http://i2ifacility.org/data-portal/IND/financial-diaries) is how they look like in the website.\n",
    "\n",
    "- [Here](https://basecamp.com/1756858/projects/14166276/messages/72313579) we have additional information and the first datasets we uploaded. "
   ]
  },
  {
   "cell_type": "markdown",
   "metadata": {},
   "source": [
    "## Data tables\n",
    "\n",
    "The data is stored in two different files, one for `Households` (_temp_results_hh.csv) and the other one for `Individuals` (_temp_results_mem.csv).\n",
    "\n",
    "The csvs must be properly formatted with the columns containing descriptive data (eg: `category_name`, `subcategory`), these columns will vary depending on the type of data being imported (`houshold_transactions` or `household_member_transactions`). The values must have a date header (eg: `2017-12`) and it's content must be 10 values separated by a colon: `160:40:0:160:null:0:null:null:null:null`.\n",
    "\n",
    "Values can be `0`, `null`, or a `float`.\n",
    "\n",
    "The 10 values correspond respectively to:\n",
    "\n",
    "```\n",
    "total_transaction_value\n",
    "avg_value\n",
    "min_value\n",
    "max_value\n",
    "rolling_balance\n",
    "business_expenses\n",
    "withdrawals\n",
    "deposits\n",
    "new_borrowing\n",
    "repayment\n",
    "```\n",
    "\n",
    "### Data structure\n",
    "\n",
    "**Households columns**\n",
    "\n",
    "|Old data| New data |\n",
    "|:---|:---|\n",
    "|project_name  | project_name\n",
    "|household_name| household_name\n",
    "|category_type | cat_type\n",
    "|category_name | \n",
    "|subcategory   | cat\n",
    "|num_accounts  |\n",
    "|num_members   |\n",
    "|num_adults    |\n",
    "\n",
    "\n",
    "**Individuals columns**\n",
    "\n",
    "|Old data| New data |\n",
    "|:---|:---|\n",
    "|project_name         | project_name    \n",
    "|household_name       | household_name\n",
    "|person_code          | person_code\n",
    "|gender               | gender\n",
    "|age                  | age\n",
    "|relationship_to_head | relationship_to_head\n",
    "|employed             | employed\n",
    "|status               | status\n",
    "|category_type        | cat_type\n",
    "|category_name        | \n",
    "|subcategory          | cat\n",
    "|num_accounts         |\n",
    "\n",
    "\n",
    "**Extra columns in new data**\n",
    "\n",
    "- country\n",
    "- project_id\n",
    "- household_id\n",
    "- respid\n",
    "\n",
    "**Dates range**\n",
    "\n",
    "|Old data| New data |\n",
    "|:---|:---|\n",
    "|2011-08 - 2016-12  | 2015-04 - 2017-08 |"
   ]
  },
  {
   "cell_type": "code",
   "execution_count": 221,
   "metadata": {},
   "outputs": [],
   "source": [
    "import numpy as np\n",
    "import pandas as pd\n",
    "from tqdm import tqdm\n",
    "import math"
   ]
  },
  {
   "cell_type": "markdown",
   "metadata": {},
   "source": [
    "**Households table**"
   ]
  },
  {
   "cell_type": "code",
   "execution_count": 42,
   "metadata": {},
   "outputs": [
    {
     "name": "stderr",
     "output_type": "stream",
     "text": [
      "/anaconda3/lib/python3.6/site-packages/IPython/core/interactiveshell.py:2728: DtypeWarning: Columns (13,14,15,16,17,18,36,37,38,39,40,41,42,43,44,45,46,47,48,49,50,51,52,53,54,55,56,58,59,60,61,64,65,66,67,68,69,70,71,72) have mixed types. Specify dtype option on import or set low_memory=False.\n",
      "  interactivity=interactivity, compiler=compiler, result=result)\n"
     ]
    }
   ],
   "source": [
    "households = pd.read_csv('/Volumes/MacBook HD/data/i2i/Data Iker/Financial_Diaries/CSV/_temp_results_hh.csv')"
   ]
  },
  {
   "cell_type": "code",
   "execution_count": 43,
   "metadata": {},
   "outputs": [
    {
     "data": {
      "text/html": [
       "<div>\n",
       "<style scoped>\n",
       "    .dataframe tbody tr th:only-of-type {\n",
       "        vertical-align: middle;\n",
       "    }\n",
       "\n",
       "    .dataframe tbody tr th {\n",
       "        vertical-align: top;\n",
       "    }\n",
       "\n",
       "    .dataframe thead th {\n",
       "        text-align: right;\n",
       "    }\n",
       "</style>\n",
       "<table border=\"1\" class=\"dataframe\">\n",
       "  <thead>\n",
       "    <tr style=\"text-align: right;\">\n",
       "      <th></th>\n",
       "      <th>project_name</th>\n",
       "      <th>household_name</th>\n",
       "      <th>category_type</th>\n",
       "      <th>category_name</th>\n",
       "      <th>subcategory</th>\n",
       "      <th>num_accounts</th>\n",
       "      <th>num_members</th>\n",
       "      <th>num_adults</th>\n",
       "      <th>2011-08</th>\n",
       "      <th>2011-09</th>\n",
       "      <th>...</th>\n",
       "      <th>2016-03</th>\n",
       "      <th>2016-04</th>\n",
       "      <th>2016-05</th>\n",
       "      <th>2016-06</th>\n",
       "      <th>2016-07</th>\n",
       "      <th>2016-08</th>\n",
       "      <th>2016-09</th>\n",
       "      <th>2016-10</th>\n",
       "      <th>2016-11</th>\n",
       "      <th>2016-12</th>\n",
       "    </tr>\n",
       "  </thead>\n",
       "  <tbody>\n",
       "    <tr>\n",
       "      <th>0</th>\n",
       "      <td>Kenya Financial Diaries</td>\n",
       "      <td>KNBOK01</td>\n",
       "      <td>NaN</td>\n",
       "      <td>ALL</td>\n",
       "      <td>NaN</td>\n",
       "      <td>7</td>\n",
       "      <td>4</td>\n",
       "      <td>2</td>\n",
       "      <td>NaN</td>\n",
       "      <td>NaN</td>\n",
       "      <td>...</td>\n",
       "      <td>NaN</td>\n",
       "      <td>NaN</td>\n",
       "      <td>NaN</td>\n",
       "      <td>NaN</td>\n",
       "      <td>NaN</td>\n",
       "      <td>NaN</td>\n",
       "      <td>NaN</td>\n",
       "      <td>NaN</td>\n",
       "      <td>NaN</td>\n",
       "      <td>NaN</td>\n",
       "    </tr>\n",
       "  </tbody>\n",
       "</table>\n",
       "<p>1 rows × 73 columns</p>\n",
       "</div>"
      ],
      "text/plain": [
       "              project_name household_name category_type category_name  \\\n",
       "0  Kenya Financial Diaries        KNBOK01           NaN           ALL   \n",
       "\n",
       "  subcategory  num_accounts  num_members  num_adults  2011-08  2011-09  ...  \\\n",
       "0         NaN             7            4           2      NaN      NaN  ...   \n",
       "\n",
       "   2016-03  2016-04  2016-05 2016-06 2016-07 2016-08 2016-09 2016-10 2016-11  \\\n",
       "0      NaN      NaN      NaN     NaN     NaN     NaN     NaN     NaN     NaN   \n",
       "\n",
       "  2016-12  \n",
       "0     NaN  \n",
       "\n",
       "[1 rows x 73 columns]"
      ]
     },
     "execution_count": 43,
     "metadata": {},
     "output_type": "execute_result"
    }
   ],
   "source": [
    "households.head(1)"
   ]
  },
  {
   "cell_type": "code",
   "execution_count": 44,
   "metadata": {},
   "outputs": [
    {
     "name": "stdout",
     "output_type": "stream",
     "text": [
      "['project_name', 'household_name', 'category_type', 'category_name', 'subcategory', 'num_accounts', 'num_members', 'num_adults', '2011-08']\n"
     ]
    }
   ],
   "source": [
    "print(list(households.columns)[:9])"
   ]
  },
  {
   "cell_type": "code",
   "execution_count": 45,
   "metadata": {},
   "outputs": [
    {
     "data": {
      "text/plain": [
       "'2016-12'"
      ]
     },
     "execution_count": 45,
     "metadata": {},
     "output_type": "execute_result"
    }
   ],
   "source": [
    "list(households.columns)[-1]"
   ]
  },
  {
   "cell_type": "markdown",
   "metadata": {},
   "source": [
    "**Individuals table**"
   ]
  },
  {
   "cell_type": "code",
   "execution_count": 46,
   "metadata": {},
   "outputs": [
    {
     "name": "stderr",
     "output_type": "stream",
     "text": [
      "/anaconda3/lib/python3.6/site-packages/IPython/core/interactiveshell.py:2728: DtypeWarning: Columns (17,18,19,20,21,22,39,42,43,44,45,46,47,48,49,50,51,52,54,55,56,57,58,59,60,61,62,63,64,65,68,69,70,71,72,73,74,75,76) have mixed types. Specify dtype option on import or set low_memory=False.\n",
      "  interactivity=interactivity, compiler=compiler, result=result)\n"
     ]
    }
   ],
   "source": [
    "individuals = pd.read_csv('/Volumes/MacBook HD/data/i2i/Data Iker/Financial_Diaries/CSV/_temp_results_mem.csv')"
   ]
  },
  {
   "cell_type": "code",
   "execution_count": 47,
   "metadata": {},
   "outputs": [
    {
     "data": {
      "text/html": [
       "<div>\n",
       "<style scoped>\n",
       "    .dataframe tbody tr th:only-of-type {\n",
       "        vertical-align: middle;\n",
       "    }\n",
       "\n",
       "    .dataframe tbody tr th {\n",
       "        vertical-align: top;\n",
       "    }\n",
       "\n",
       "    .dataframe thead th {\n",
       "        text-align: right;\n",
       "    }\n",
       "</style>\n",
       "<table border=\"1\" class=\"dataframe\">\n",
       "  <thead>\n",
       "    <tr style=\"text-align: right;\">\n",
       "      <th></th>\n",
       "      <th>project_name</th>\n",
       "      <th>household_name</th>\n",
       "      <th>person_code</th>\n",
       "      <th>gender</th>\n",
       "      <th>age</th>\n",
       "      <th>relationship_to_head</th>\n",
       "      <th>employed</th>\n",
       "      <th>status</th>\n",
       "      <th>category_type</th>\n",
       "      <th>category_name</th>\n",
       "      <th>...</th>\n",
       "      <th>2016-03</th>\n",
       "      <th>2016-04</th>\n",
       "      <th>2016-05</th>\n",
       "      <th>2016-06</th>\n",
       "      <th>2016-07</th>\n",
       "      <th>2016-08</th>\n",
       "      <th>2016-09</th>\n",
       "      <th>2016-10</th>\n",
       "      <th>2016-11</th>\n",
       "      <th>2016-12</th>\n",
       "    </tr>\n",
       "  </thead>\n",
       "  <tbody>\n",
       "    <tr>\n",
       "      <th>0</th>\n",
       "      <td>Kenya Financial Diaries</td>\n",
       "      <td>KNBOK01</td>\n",
       "      <td>P1</td>\n",
       "      <td>female</td>\n",
       "      <td>40</td>\n",
       "      <td>01=Head of this household</td>\n",
       "      <td>07=Casual work</td>\n",
       "      <td>in</td>\n",
       "      <td>NaN</td>\n",
       "      <td>Financial</td>\n",
       "      <td>...</td>\n",
       "      <td>NaN</td>\n",
       "      <td>NaN</td>\n",
       "      <td>NaN</td>\n",
       "      <td>NaN</td>\n",
       "      <td>NaN</td>\n",
       "      <td>NaN</td>\n",
       "      <td>NaN</td>\n",
       "      <td>NaN</td>\n",
       "      <td>NaN</td>\n",
       "      <td>NaN</td>\n",
       "    </tr>\n",
       "  </tbody>\n",
       "</table>\n",
       "<p>1 rows × 77 columns</p>\n",
       "</div>"
      ],
      "text/plain": [
       "              project_name household_name person_code  gender  age  \\\n",
       "0  Kenya Financial Diaries        KNBOK01          P1  female   40   \n",
       "\n",
       "        relationship_to_head        employed status category_type  \\\n",
       "0  01=Head of this household  07=Casual work     in           NaN   \n",
       "\n",
       "  category_name  ... 2016-03  2016-04  2016-05  2016-06  2016-07  2016-08  \\\n",
       "0     Financial  ...     NaN      NaN      NaN      NaN      NaN      NaN   \n",
       "\n",
       "   2016-09 2016-10 2016-11 2016-12  \n",
       "0      NaN     NaN     NaN     NaN  \n",
       "\n",
       "[1 rows x 77 columns]"
      ]
     },
     "execution_count": 47,
     "metadata": {},
     "output_type": "execute_result"
    }
   ],
   "source": [
    "individuals.head(1)"
   ]
  },
  {
   "cell_type": "code",
   "execution_count": 48,
   "metadata": {},
   "outputs": [
    {
     "name": "stdout",
     "output_type": "stream",
     "text": [
      "['project_name', 'household_name', 'person_code', 'gender', 'age', 'relationship_to_head', 'employed', 'status', 'category_type', 'category_name', 'subcategory', 'num_accounts', '2011-08']\n"
     ]
    }
   ],
   "source": [
    "print(list(individuals.columns)[:13])"
   ]
  },
  {
   "cell_type": "code",
   "execution_count": 49,
   "metadata": {},
   "outputs": [
    {
     "data": {
      "text/plain": [
       "'2016-12'"
      ]
     },
     "execution_count": 49,
     "metadata": {},
     "output_type": "execute_result"
    }
   ],
   "source": [
    "list(households.columns)[-1]"
   ]
  },
  {
   "cell_type": "code",
   "execution_count": 50,
   "metadata": {},
   "outputs": [
    {
     "data": {
      "text/plain": [
       "array([nan, 'credits', 'expense', 'income', 'savings', 'insurance'],\n",
       "      dtype=object)"
      ]
     },
     "execution_count": 50,
     "metadata": {},
     "output_type": "execute_result"
    }
   ],
   "source": [
    "households['category_type'].unique()"
   ]
  },
  {
   "cell_type": "code",
   "execution_count": 51,
   "metadata": {},
   "outputs": [
    {
     "data": {
      "text/plain": [
       "array(['ALL', 'Financial', 'Allowances, donations, and gifts', 'Clothing',\n",
       "       'Communications', 'Education', 'Food/beverage', 'Home Care',\n",
       "       'Multi-purpose shop', 'Personal Care Goods and Services',\n",
       "       'Shelter and Utilites', 'Transportation', 'Operational Income',\n",
       "       'Care items', 'Care services', 'Entertainment', 'Home care',\n",
       "       'Shelter and utilites', 'Taxes, Bribes and Misc. fees',\n",
       "       'Taxes and Fees', 'Financial Instruments', 'Taxes and fees',\n",
       "       'Income and Resources', 'Non-employment categories',\n",
       "       'Business Expenses', 'Financial Flows', 'Medical expenses',\n",
       "       'Care items & services',\n",
       "       'Religious expenses (funerals, weddings, etc)',\n",
       "       'Taxes and fees, bribes', 'Multi-purpose shopping'], dtype=object)"
      ]
     },
     "execution_count": 51,
     "metadata": {},
     "output_type": "execute_result"
    }
   ],
   "source": [
    "households['category_name'].unique()"
   ]
  },
  {
   "cell_type": "code",
   "execution_count": 52,
   "metadata": {},
   "outputs": [
    {
     "data": {
      "text/plain": [
       "array([nan, 'Credit at store', 'Friends and family: borrowing',\n",
       "       'Moneylender Borrowing', 'Joint Liability Loan',\n",
       "       'Arrears owed by respondent', 'Business loan'], dtype=object)"
      ]
     },
     "execution_count": 52,
     "metadata": {},
     "output_type": "execute_result"
    }
   ],
   "source": [
    "households[(households['category_type'] == 'credits') & (households['project_name'] == 'India Financial Diaries')]['subcategory'].unique()"
   ]
  },
  {
   "cell_type": "code",
   "execution_count": 53,
   "metadata": {},
   "outputs": [
    {
     "data": {
      "text/plain": [
       "array(['ALL', 'Financial'], dtype=object)"
      ]
     },
     "execution_count": 53,
     "metadata": {},
     "output_type": "execute_result"
    }
   ],
   "source": [
    "households[(households['category_type'] == 'credits') & (households['project_name'] == 'India Financial Diaries')]['category_name'].unique()"
   ]
  },
  {
   "cell_type": "code",
   "execution_count": 54,
   "metadata": {},
   "outputs": [
    {
     "data": {
      "text/html": [
       "<div>\n",
       "<style scoped>\n",
       "    .dataframe tbody tr th:only-of-type {\n",
       "        vertical-align: middle;\n",
       "    }\n",
       "\n",
       "    .dataframe tbody tr th {\n",
       "        vertical-align: top;\n",
       "    }\n",
       "\n",
       "    .dataframe thead th {\n",
       "        text-align: right;\n",
       "    }\n",
       "</style>\n",
       "<table border=\"1\" class=\"dataframe\">\n",
       "  <thead>\n",
       "    <tr style=\"text-align: right;\">\n",
       "      <th></th>\n",
       "      <th>project_name</th>\n",
       "      <th>category_type</th>\n",
       "      <th>category_name</th>\n",
       "      <th>subcategory</th>\n",
       "      <th>num_accounts</th>\n",
       "      <th>num_members</th>\n",
       "      <th>num_adults</th>\n",
       "      <th>2013-03</th>\n",
       "    </tr>\n",
       "  </thead>\n",
       "  <tbody>\n",
       "    <tr>\n",
       "      <th>45</th>\n",
       "      <td>India Financial Diaries</td>\n",
       "      <td>credits</td>\n",
       "      <td>ALL</td>\n",
       "      <td>NaN</td>\n",
       "      <td>4</td>\n",
       "      <td>3</td>\n",
       "      <td>2</td>\n",
       "      <td>-18000.00:100:100.00:100.00:600000.00:0.00:nul...</td>\n",
       "    </tr>\n",
       "    <tr>\n",
       "      <th>50</th>\n",
       "      <td>India Financial Diaries</td>\n",
       "      <td>credits</td>\n",
       "      <td>Financial</td>\n",
       "      <td>Credit at store</td>\n",
       "      <td>2</td>\n",
       "      <td>3</td>\n",
       "      <td>2</td>\n",
       "      <td>NaN</td>\n",
       "    </tr>\n",
       "    <tr>\n",
       "      <th>51</th>\n",
       "      <td>India Financial Diaries</td>\n",
       "      <td>credits</td>\n",
       "      <td>Financial</td>\n",
       "      <td>Friends and family: borrowing</td>\n",
       "      <td>1</td>\n",
       "      <td>3</td>\n",
       "      <td>2</td>\n",
       "      <td>-18000.00:100:100.00:100.00:null:0.00:null:nul...</td>\n",
       "    </tr>\n",
       "    <tr>\n",
       "      <th>52</th>\n",
       "      <td>India Financial Diaries</td>\n",
       "      <td>credits</td>\n",
       "      <td>Financial</td>\n",
       "      <td>Moneylender Borrowing</td>\n",
       "      <td>1</td>\n",
       "      <td>3</td>\n",
       "      <td>2</td>\n",
       "      <td>null:null:null:null:null:0.00:null:null:null:null</td>\n",
       "    </tr>\n",
       "    <tr>\n",
       "      <th>83</th>\n",
       "      <td>India Financial Diaries</td>\n",
       "      <td>credits</td>\n",
       "      <td>ALL</td>\n",
       "      <td>NaN</td>\n",
       "      <td>2</td>\n",
       "      <td>6</td>\n",
       "      <td>2</td>\n",
       "      <td>-81000.00:338:300.00:375.00:936000.00:0.00:nul...</td>\n",
       "    </tr>\n",
       "  </tbody>\n",
       "</table>\n",
       "</div>"
      ],
      "text/plain": [
       "               project_name category_type category_name  \\\n",
       "45  India Financial Diaries       credits           ALL   \n",
       "50  India Financial Diaries       credits     Financial   \n",
       "51  India Financial Diaries       credits     Financial   \n",
       "52  India Financial Diaries       credits     Financial   \n",
       "83  India Financial Diaries       credits           ALL   \n",
       "\n",
       "                      subcategory  num_accounts  num_members  num_adults  \\\n",
       "45                            NaN             4            3           2   \n",
       "50                Credit at store             2            3           2   \n",
       "51  Friends and family: borrowing             1            3           2   \n",
       "52          Moneylender Borrowing             1            3           2   \n",
       "83                            NaN             2            6           2   \n",
       "\n",
       "                                              2013-03  \n",
       "45  -18000.00:100:100.00:100.00:600000.00:0.00:nul...  \n",
       "50                                                NaN  \n",
       "51  -18000.00:100:100.00:100.00:null:0.00:null:nul...  \n",
       "52  null:null:null:null:null:0.00:null:null:null:null  \n",
       "83  -81000.00:338:300.00:375.00:936000.00:0.00:nul...  "
      ]
     },
     "execution_count": 54,
     "metadata": {},
     "output_type": "execute_result"
    }
   ],
   "source": [
    "df = households[(households['category_type'] == 'credits') & (households['project_name'] == 'India Financial Diaries')]\n",
    "df[['project_name', 'category_type', 'category_name', 'subcategory', 'num_accounts', 'num_members', 'num_adults', '2013-03']].head()"
   ]
  },
  {
   "cell_type": "code",
   "execution_count": 55,
   "metadata": {},
   "outputs": [
    {
     "data": {
      "text/plain": [
       "array(['Kenya Financial Diaries', 'India Financial Diaries',\n",
       "       'Mexico Financial Diaries', 'South Africa GAFIS',\n",
       "       'US Financial Diaries', 'Kopo Kopo', 'Smallholder Diaries',\n",
       "       'Smallholders Mozambique', 'Smallholders Pakistan',\n",
       "       'Smallholders Tanzania', 'UJ South Africa',\n",
       "       'Harambee South Africa'], dtype=object)"
      ]
     },
     "execution_count": 55,
     "metadata": {},
     "output_type": "execute_result"
    }
   ],
   "source": [
    "households['project_name'].unique()"
   ]
  },
  {
   "cell_type": "code",
   "execution_count": 59,
   "metadata": {},
   "outputs": [
    {
     "data": {
      "text/plain": [
       "array(['expense', 'income', 'na', 'credits', 'saving'], dtype=object)"
      ]
     },
     "execution_count": 59,
     "metadata": {},
     "output_type": "execute_result"
    }
   ],
   "source": [
    "bangladesh['cat_type'].unique()"
   ]
  },
  {
   "cell_type": "code",
   "execution_count": 61,
   "metadata": {},
   "outputs": [
    {
     "data": {
      "text/plain": [
       "array(['agriculture', 'event', 'food', 'health',\n",
       "       'household or personal item', 'housing', 'leisure',\n",
       "       'miscellaneous', 'service', 'transfer', 'transport',\n",
       "       'communication', 'no transactions', 'education', 'fuel'],\n",
       "      dtype=object)"
      ]
     },
     "execution_count": 61,
     "metadata": {},
     "output_type": "execute_result"
    }
   ],
   "source": [
    "bangladesh[bangladesh['cat_type'] == \"expense\"]['cat'].unique()"
   ]
  },
  {
   "cell_type": "code",
   "execution_count": 62,
   "metadata": {},
   "outputs": [
    {
     "data": {
      "text/plain": [
       "array(['agriculture', 'employment', 'event', 'food', 'health',\n",
       "       'household or personal item', 'housing', 'leisure', 'loan given',\n",
       "       'loan repayment given', 'miscellaneous', 'sale of goods/services',\n",
       "       'saving deposit', 'saving withdrawal', 'service', 'transfer',\n",
       "       'transport', 'communication', 'credit purchase', 'loan received',\n",
       "       'loan repayment received', 'no transactions', 'education', 'dps',\n",
       "       'fuel', 'interest given', 'pf contribution', 'interest received',\n",
       "       'jewelry mortgage'], dtype=object)"
      ]
     },
     "execution_count": 62,
     "metadata": {},
     "output_type": "execute_result"
    }
   ],
   "source": [
    "bangladesh['cat'].unique()"
   ]
  },
  {
   "cell_type": "code",
   "execution_count": 65,
   "metadata": {},
   "outputs": [
    {
     "data": {
      "text/plain": [
       "array(['expense', 'income', 'na', 'credits', 'saving'], dtype=object)"
      ]
     },
     "execution_count": 65,
     "metadata": {},
     "output_type": "execute_result"
    }
   ],
   "source": [
    "cambodia['cat_type'].unique()"
   ]
  },
  {
   "cell_type": "code",
   "execution_count": 68,
   "metadata": {},
   "outputs": [
    {
     "data": {
      "text/plain": [
       "array(['expense', 'na', 'income', 'credits', 'saving'], dtype=object)"
      ]
     },
     "execution_count": 68,
     "metadata": {},
     "output_type": "execute_result"
    }
   ],
   "source": [
    "salvador['cat_type'].unique()"
   ]
  },
  {
   "cell_type": "code",
   "execution_count": 71,
   "metadata": {},
   "outputs": [
    {
     "data": {
      "text/plain": [
       "array(['expense', 'na', 'credits', 'saving', 'income'], dtype=object)"
      ]
     },
     "execution_count": 71,
     "metadata": {},
     "output_type": "execute_result"
    }
   ],
   "source": [
    "guatemala['cat_type'].unique()"
   ]
  },
  {
   "cell_type": "markdown",
   "metadata": {},
   "source": [
    "## MFO Diaries Data "
   ]
  },
  {
   "cell_type": "markdown",
   "metadata": {},
   "source": [
    "### Bangladesh"
   ]
  },
  {
   "cell_type": "code",
   "execution_count": 72,
   "metadata": {},
   "outputs": [
    {
     "data": {
      "text/html": [
       "<div>\n",
       "<style scoped>\n",
       "    .dataframe tbody tr th:only-of-type {\n",
       "        vertical-align: middle;\n",
       "    }\n",
       "\n",
       "    .dataframe tbody tr th {\n",
       "        vertical-align: top;\n",
       "    }\n",
       "\n",
       "    .dataframe thead th {\n",
       "        text-align: right;\n",
       "    }\n",
       "</style>\n",
       "<table border=\"1\" class=\"dataframe\">\n",
       "  <thead>\n",
       "    <tr style=\"text-align: right;\">\n",
       "      <th></th>\n",
       "      <th>country</th>\n",
       "      <th>project_name</th>\n",
       "      <th>project_id</th>\n",
       "      <th>household_name</th>\n",
       "      <th>household_id</th>\n",
       "      <th>person_code</th>\n",
       "      <th>gender</th>\n",
       "      <th>age</th>\n",
       "      <th>relationship_to_head</th>\n",
       "      <th>employed</th>\n",
       "      <th>...</th>\n",
       "      <th>2016-11</th>\n",
       "      <th>2016-12</th>\n",
       "      <th>2017-01</th>\n",
       "      <th>2017-02</th>\n",
       "      <th>2017-03</th>\n",
       "      <th>2017-04</th>\n",
       "      <th>2017-05</th>\n",
       "      <th>2017-06</th>\n",
       "      <th>2017-07</th>\n",
       "      <th>2017-08</th>\n",
       "    </tr>\n",
       "  </thead>\n",
       "  <tbody>\n",
       "    <tr>\n",
       "      <th>0</th>\n",
       "      <td>Bangladesh</td>\n",
       "      <td>Garment Worker Diaries</td>\n",
       "      <td>GWD</td>\n",
       "      <td>GWD-116</td>\n",
       "      <td>116</td>\n",
       "      <td>116.2</td>\n",
       "      <td>female</td>\n",
       "      <td>24</td>\n",
       "      <td>spouse of the head of household</td>\n",
       "      <td>factory worker</td>\n",
       "      <td>...</td>\n",
       "      <td>NaN</td>\n",
       "      <td>NaN</td>\n",
       "      <td>NaN</td>\n",
       "      <td>NaN</td>\n",
       "      <td>NaN</td>\n",
       "      <td>NaN</td>\n",
       "      <td>NaN</td>\n",
       "      <td>-320.0:320.0:320.0:320.0:320.0:0.0:0.0:0.0:0.0...</td>\n",
       "      <td>-150.0:150.0:150.0:150.0:470.0:0.0:0.0:0.0:0.0...</td>\n",
       "      <td>NaN</td>\n",
       "    </tr>\n",
       "  </tbody>\n",
       "</table>\n",
       "<p>1 rows × 28 columns</p>\n",
       "</div>"
      ],
      "text/plain": [
       "      country            project_name project_id household_name  household_id  \\\n",
       "0  Bangladesh  Garment Worker Diaries        GWD        GWD-116           116   \n",
       "\n",
       "   person_code  gender  age             relationship_to_head        employed  \\\n",
       "0        116.2  female   24  spouse of the head of household  factory worker   \n",
       "\n",
       "   ... 2016-11  2016-12 2017-01 2017-02 2017-03 2017-04 2017-05  \\\n",
       "0  ...     NaN      NaN     NaN     NaN     NaN     NaN     NaN   \n",
       "\n",
       "                                             2017-06  \\\n",
       "0  -320.0:320.0:320.0:320.0:320.0:0.0:0.0:0.0:0.0...   \n",
       "\n",
       "                                             2017-07 2017-08  \n",
       "0  -150.0:150.0:150.0:150.0:470.0:0.0:0.0:0.0:0.0...     NaN  \n",
       "\n",
       "[1 rows x 28 columns]"
      ]
     },
     "execution_count": 72,
     "metadata": {},
     "output_type": "execute_result"
    }
   ],
   "source": [
    "bangladesh = pd.read_csv('./data/MFO_DIaries_Data_June_2019/Bangladesh.csv')\n",
    "bangladesh.drop(columns='Unnamed: 0', inplace=True)\n",
    "bangladesh.head(1)"
   ]
  },
  {
   "cell_type": "code",
   "execution_count": 73,
   "metadata": {},
   "outputs": [
    {
     "name": "stdout",
     "output_type": "stream",
     "text": [
      "['country', 'project_name', 'project_id', 'household_name', 'household_id', 'person_code', 'gender', 'age', 'relationship_to_head', 'employed', 'status', 'respid', 'cat', 'cat_type', '2015-11']\n"
     ]
    }
   ],
   "source": [
    "print(list(bangladesh.columns)[:15])"
   ]
  },
  {
   "cell_type": "code",
   "execution_count": 74,
   "metadata": {},
   "outputs": [
    {
     "data": {
      "text/plain": [
       "array(['expense', 'income', 'na', 'credits', 'saving'], dtype=object)"
      ]
     },
     "execution_count": 74,
     "metadata": {},
     "output_type": "execute_result"
    }
   ],
   "source": [
    "bangladesh['cat_type'].unique()"
   ]
  },
  {
   "cell_type": "code",
   "execution_count": 75,
   "metadata": {},
   "outputs": [
    {
     "data": {
      "text/plain": [
       "'2017-08'"
      ]
     },
     "execution_count": 75,
     "metadata": {},
     "output_type": "execute_result"
    }
   ],
   "source": [
    "list(bangladesh.columns)[-1]"
   ]
  },
  {
   "cell_type": "code",
   "execution_count": 76,
   "metadata": {},
   "outputs": [],
   "source": [
    "bangladesh.rename(columns={'cat_type': 'category_type', 'cat': 'category_name'}, inplace=True)\n",
    "bangladesh['project_name'] = 'Bangladesh Financial Diaries'\n",
    "bangladesh_hh = bangladesh.drop(columns=['person_code', 'gender', 'age', \n",
    "                                         'relationship_to_head', 'employed', 'status',\n",
    "                                         'country', 'project_id', 'household_id', 'respid'\n",
    "                                        ]\n",
    "                               )\n",
    "bangladesh_mem = bangladesh.drop(columns=['country', 'project_id', 'household_id', 'respid'])"
   ]
  },
  {
   "cell_type": "markdown",
   "metadata": {},
   "source": [
    "**Create all column**"
   ]
  },
  {
   "cell_type": "code",
   "execution_count": 465,
   "metadata": {},
   "outputs": [],
   "source": [
    "def all_year_values(df, year):\n",
    "    nsubcat = len(df)\n",
    "    array = []\n",
    "    for i in range(nsubcat):\n",
    "        results = df[year].iloc[i]\n",
    "        if (type(results) == float) and math.isnan(results):\n",
    "            a = np.empty((10))\n",
    "            a[:] = np.nan\n",
    "            array.append(list(a))\n",
    "        else:\n",
    "            sub_array = []\n",
    "            for x in results.split(':'):\n",
    "                if x == 'null':\n",
    "                    sub_array.append(np.nan)\n",
    "                else:\n",
    "                    sub_array.append(float(x))\n",
    "            array.append(sub_array)  \n",
    "        \n",
    "    array = np.array(array)\n",
    "\n",
    "    result = []\n",
    "    for i in range(10):\n",
    "        if np.isnan(array[:,i]).all() == True:\n",
    "            result.append('null')\n",
    "        else:\n",
    "            if i == 0:\n",
    "                result.append(str(np.nansum(array[:,i])))\n",
    "            if i == 1:\n",
    "                result.append(str(np.nanmean(array[:,i])))\n",
    "            if i == 2:\n",
    "                result.append(str(np.nanmin(array[:,i])))\n",
    "            if i == 3:\n",
    "                result.append(str(np.nanmax(array[:,i])))\n",
    "            if i > 3:\n",
    "                result.append(str(np.nansum(array[:,i])))\n",
    "                \n",
    "    if result == ['null']*10:\n",
    "        return np.nan\n",
    "    else:\n",
    "        return \":\".join(str(x) for x in result)   "
   ]
  },
  {
   "cell_type": "code",
   "execution_count": 485,
   "metadata": {},
   "outputs": [],
   "source": [
    "def create_ALL_row(df):\n",
    "    df_new = pd.DataFrame(columns=list(df.columns))\n",
    "\n",
    "    hh_list = list(df['household_name'].unique())\n",
    "\n",
    "    for hh in hh_list:\n",
    "        df_i = df[df['household_name'] == hh]\n",
    "        df_i0 = df_i.iloc[0]\n",
    "        a = np.empty((len(df_i.columns)))\n",
    "        a[:] = np.nan\n",
    "        df_all = pd.DataFrame([list(a)], columns=list(df_i.columns))\n",
    "        df_all['project_name'] = df_i0['project_name']\n",
    "        df_all['household_name'] = df_i0['household_name']\n",
    "        df_all['category_name'] = 'ALL'\n",
    "        \n",
    "        other_columns = ['person_code', 'gender', 'age', 'relationship_to_head', 'employed', 'status']\n",
    "        \n",
    "        for column in other_columns:\n",
    "            if column in list(df_i.columns):\n",
    "                df_all[column] = df_i0[column]\n",
    "                \n",
    "\n",
    "        columns = list(df_i.columns)\n",
    "        year_columns = [i for i in columns if i.startswith('20')]\n",
    "\n",
    "        for year in year_columns:\n",
    "            df_all[year] = all_year_values(df_i, year)\n",
    "\n",
    "        df_new = pd.concat([df_new, df_all, df_i])\n",
    "        \n",
    "    return df_new"
   ]
  },
  {
   "cell_type": "code",
   "execution_count": 490,
   "metadata": {},
   "outputs": [],
   "source": [
    "bangladesh_hh = create_ALL_row(bangladesh_hh)\n",
    "bangladesh_mem = create_ALL_row(bangladesh_mem)"
   ]
  },
  {
   "cell_type": "markdown",
   "metadata": {},
   "source": [
    "### Cambodia"
   ]
  },
  {
   "cell_type": "code",
   "execution_count": 77,
   "metadata": {},
   "outputs": [
    {
     "data": {
      "text/html": [
       "<div>\n",
       "<style scoped>\n",
       "    .dataframe tbody tr th:only-of-type {\n",
       "        vertical-align: middle;\n",
       "    }\n",
       "\n",
       "    .dataframe tbody tr th {\n",
       "        vertical-align: top;\n",
       "    }\n",
       "\n",
       "    .dataframe thead th {\n",
       "        text-align: right;\n",
       "    }\n",
       "</style>\n",
       "<table border=\"1\" class=\"dataframe\">\n",
       "  <thead>\n",
       "    <tr style=\"text-align: right;\">\n",
       "      <th></th>\n",
       "      <th>country</th>\n",
       "      <th>project_name</th>\n",
       "      <th>project_id</th>\n",
       "      <th>household_name</th>\n",
       "      <th>household_id</th>\n",
       "      <th>person_code</th>\n",
       "      <th>gender</th>\n",
       "      <th>age</th>\n",
       "      <th>relationship_to_head</th>\n",
       "      <th>employed</th>\n",
       "      <th>...</th>\n",
       "      <th>2016-09</th>\n",
       "      <th>2016-10</th>\n",
       "      <th>2016-11</th>\n",
       "      <th>2016-12</th>\n",
       "      <th>2017-01</th>\n",
       "      <th>2017-02</th>\n",
       "      <th>2017-03</th>\n",
       "      <th>2017-04</th>\n",
       "      <th>2017-05</th>\n",
       "      <th>2017-06</th>\n",
       "    </tr>\n",
       "  </thead>\n",
       "  <tbody>\n",
       "    <tr>\n",
       "      <th>0</th>\n",
       "      <td>Cambodia</td>\n",
       "      <td>Garment Worker Diaries</td>\n",
       "      <td>GWD</td>\n",
       "      <td>GWD-128</td>\n",
       "      <td>128</td>\n",
       "      <td>128.2</td>\n",
       "      <td>female</td>\n",
       "      <td>23</td>\n",
       "      <td>NaN</td>\n",
       "      <td>factory worker</td>\n",
       "      <td>...</td>\n",
       "      <td>-12600.0:6300.0:8400.0:4200.0:21000.0:0.0:0.0:...</td>\n",
       "      <td>-4200.0:4200.0:4200.0:4200.0:25200.0:0.0:0.0:0...</td>\n",
       "      <td>-12600.0:6300.0:8400.0:4200.0:37800.0:0.0:0.0:...</td>\n",
       "      <td>-12600.0:4200.0:4200.0:4200.0:50400.0:0.0:0.0:...</td>\n",
       "      <td>-25200.0:5040.0:8400.0:4200.0:75600.0:0.0:0.0:...</td>\n",
       "      <td>-4200.0:4200.0:4200.0:4200.0:79800.0:0.0:0.0:0...</td>\n",
       "      <td>-12500.0:4166.666666666667:4200.0:4100.0:92300...</td>\n",
       "      <td>-12600.0:6300.0:8400.0:4200.0:104900.0:0.0:0.0...</td>\n",
       "      <td>-16800.0:4200.0:4200.0:4200.0:121700.0:0.0:0.0...</td>\n",
       "      <td>-16700.0:4175.0:4200.0:4100.0:138400.0:0.0:0.0...</td>\n",
       "    </tr>\n",
       "  </tbody>\n",
       "</table>\n",
       "<p>1 rows × 26 columns</p>\n",
       "</div>"
      ],
      "text/plain": [
       "    country            project_name project_id household_name  household_id  \\\n",
       "0  Cambodia  Garment Worker Diaries        GWD        GWD-128           128   \n",
       "\n",
       "   person_code  gender  age relationship_to_head        employed  ...  \\\n",
       "0        128.2  female   23                  NaN  factory worker  ...   \n",
       "\n",
       "                                             2016-09  \\\n",
       "0  -12600.0:6300.0:8400.0:4200.0:21000.0:0.0:0.0:...   \n",
       "\n",
       "                                             2016-10  \\\n",
       "0  -4200.0:4200.0:4200.0:4200.0:25200.0:0.0:0.0:0...   \n",
       "\n",
       "                                             2016-11  \\\n",
       "0  -12600.0:6300.0:8400.0:4200.0:37800.0:0.0:0.0:...   \n",
       "\n",
       "                                             2016-12  \\\n",
       "0  -12600.0:4200.0:4200.0:4200.0:50400.0:0.0:0.0:...   \n",
       "\n",
       "                                             2017-01  \\\n",
       "0  -25200.0:5040.0:8400.0:4200.0:75600.0:0.0:0.0:...   \n",
       "\n",
       "                                             2017-02  \\\n",
       "0  -4200.0:4200.0:4200.0:4200.0:79800.0:0.0:0.0:0...   \n",
       "\n",
       "                                             2017-03  \\\n",
       "0  -12500.0:4166.666666666667:4200.0:4100.0:92300...   \n",
       "\n",
       "                                             2017-04  \\\n",
       "0  -12600.0:6300.0:8400.0:4200.0:104900.0:0.0:0.0...   \n",
       "\n",
       "                                             2017-05  \\\n",
       "0  -16800.0:4200.0:4200.0:4200.0:121700.0:0.0:0.0...   \n",
       "\n",
       "                                             2017-06  \n",
       "0  -16700.0:4175.0:4200.0:4100.0:138400.0:0.0:0.0...  \n",
       "\n",
       "[1 rows x 26 columns]"
      ]
     },
     "execution_count": 77,
     "metadata": {},
     "output_type": "execute_result"
    }
   ],
   "source": [
    "cambodia = pd.read_csv('./data/MFO_DIaries_Data_June_2019/Cambodia.csv')\n",
    "cambodia.drop(columns='Unnamed: 0', inplace=True)\n",
    "cambodia.head(1)"
   ]
  },
  {
   "cell_type": "code",
   "execution_count": 78,
   "metadata": {},
   "outputs": [
    {
     "name": "stdout",
     "output_type": "stream",
     "text": [
      "['country', 'project_name', 'project_id', 'household_name', 'household_id', 'person_code', 'gender', 'age', 'relationship_to_head', 'employed', 'status', 'respid', 'cat', 'cat_type', '2016-07']\n"
     ]
    }
   ],
   "source": [
    "print(list(cambodia.columns)[:15])"
   ]
  },
  {
   "cell_type": "code",
   "execution_count": 79,
   "metadata": {},
   "outputs": [
    {
     "data": {
      "text/plain": [
       "array(['Garment Worker Diaries'], dtype=object)"
      ]
     },
     "execution_count": 79,
     "metadata": {},
     "output_type": "execute_result"
    }
   ],
   "source": [
    "cambodia['project_name'].unique()"
   ]
  },
  {
   "cell_type": "code",
   "execution_count": 80,
   "metadata": {},
   "outputs": [
    {
     "data": {
      "text/plain": [
       "'2017-06'"
      ]
     },
     "execution_count": 80,
     "metadata": {},
     "output_type": "execute_result"
    }
   ],
   "source": [
    "list(cambodia.columns)[-1]"
   ]
  },
  {
   "cell_type": "code",
   "execution_count": 81,
   "metadata": {},
   "outputs": [],
   "source": [
    "cambodia.rename(columns={'cat_type': 'category_type', 'cat': 'category_name'}, inplace=True)\n",
    "cambodia['project_name'] = 'Cambodia Financial Diaries'\n",
    "cambodia_hh = cambodia.drop(columns=['person_code', 'gender', 'age', \n",
    "                                         'relationship_to_head', 'employed', 'status',\n",
    "                                         'country', 'project_id', 'household_id', 'respid'\n",
    "                                        ]\n",
    "                               )\n",
    "cambodia_mem = cambodia.drop(columns=['country', 'project_id', 'household_id', 'respid'])"
   ]
  },
  {
   "cell_type": "markdown",
   "metadata": {},
   "source": [
    "**Create all column**"
   ]
  },
  {
   "cell_type": "code",
   "execution_count": 491,
   "metadata": {},
   "outputs": [],
   "source": [
    "cambodia_hh = create_ALL_row(cambodia_hh)\n",
    "cambodia_mem = create_ALL_row(cambodia_mem)"
   ]
  },
  {
   "cell_type": "markdown",
   "metadata": {},
   "source": [
    "### El Salvador"
   ]
  },
  {
   "cell_type": "code",
   "execution_count": 82,
   "metadata": {},
   "outputs": [
    {
     "data": {
      "text/html": [
       "<div>\n",
       "<style scoped>\n",
       "    .dataframe tbody tr th:only-of-type {\n",
       "        vertical-align: middle;\n",
       "    }\n",
       "\n",
       "    .dataframe tbody tr th {\n",
       "        vertical-align: top;\n",
       "    }\n",
       "\n",
       "    .dataframe thead th {\n",
       "        text-align: right;\n",
       "    }\n",
       "</style>\n",
       "<table border=\"1\" class=\"dataframe\">\n",
       "  <thead>\n",
       "    <tr style=\"text-align: right;\">\n",
       "      <th></th>\n",
       "      <th>country</th>\n",
       "      <th>project_name</th>\n",
       "      <th>project_id</th>\n",
       "      <th>household_name</th>\n",
       "      <th>household_id</th>\n",
       "      <th>person_code</th>\n",
       "      <th>gender</th>\n",
       "      <th>age</th>\n",
       "      <th>relationship_to_head</th>\n",
       "      <th>employed</th>\n",
       "      <th>...</th>\n",
       "      <th>2015-07</th>\n",
       "      <th>2015-08</th>\n",
       "      <th>2015-09</th>\n",
       "      <th>2015-10</th>\n",
       "      <th>2015-11</th>\n",
       "      <th>2015-12</th>\n",
       "      <th>2016-01</th>\n",
       "      <th>2016-02</th>\n",
       "      <th>2016-03</th>\n",
       "      <th>2016-04</th>\n",
       "    </tr>\n",
       "  </thead>\n",
       "  <tbody>\n",
       "    <tr>\n",
       "      <th>0</th>\n",
       "      <td>El Salvador</td>\n",
       "      <td>Savings Group Diaries</td>\n",
       "      <td>SGD</td>\n",
       "      <td>SGD-101</td>\n",
       "      <td>101</td>\n",
       "      <td>101.1</td>\n",
       "      <td>2</td>\n",
       "      <td>23</td>\n",
       "      <td>head of household</td>\n",
       "      <td>20.0</td>\n",
       "      <td>...</td>\n",
       "      <td>-1.0:1.0:1.0:1.0:9.5:0.0:0.0:0.0:0.0:0.0</td>\n",
       "      <td>NaN</td>\n",
       "      <td>NaN</td>\n",
       "      <td>NaN</td>\n",
       "      <td>NaN</td>\n",
       "      <td>-2.0:2.0:2.0:2.0:11.5:0.0:0.0:0.0:0.0:0.0</td>\n",
       "      <td>NaN</td>\n",
       "      <td>NaN</td>\n",
       "      <td>NaN</td>\n",
       "      <td>-1.0:1.0:1.0:1.0:12.5:0.0:0.0:0.0:0.0:0.0</td>\n",
       "    </tr>\n",
       "  </tbody>\n",
       "</table>\n",
       "<p>1 rows × 27 columns</p>\n",
       "</div>"
      ],
      "text/plain": [
       "       country           project_name project_id household_name  household_id  \\\n",
       "0  El Salvador  Savings Group Diaries        SGD        SGD-101           101   \n",
       "\n",
       "   person_code  gender  age relationship_to_head  employed  ...  \\\n",
       "0        101.1       2   23    head of household      20.0  ...   \n",
       "\n",
       "                                    2015-07  2015-08 2015-09 2015-10 2015-11  \\\n",
       "0  -1.0:1.0:1.0:1.0:9.5:0.0:0.0:0.0:0.0:0.0      NaN     NaN     NaN     NaN   \n",
       "\n",
       "                                     2015-12 2016-01 2016-02 2016-03  \\\n",
       "0  -2.0:2.0:2.0:2.0:11.5:0.0:0.0:0.0:0.0:0.0     NaN     NaN     NaN   \n",
       "\n",
       "                                     2016-04  \n",
       "0  -1.0:1.0:1.0:1.0:12.5:0.0:0.0:0.0:0.0:0.0  \n",
       "\n",
       "[1 rows x 27 columns]"
      ]
     },
     "execution_count": 82,
     "metadata": {},
     "output_type": "execute_result"
    }
   ],
   "source": [
    "salvador = pd.read_csv('./data/MFO_DIaries_Data_June_2019/El_Salvador.csv')\n",
    "salvador.drop(columns='Unnamed: 0', inplace=True)\n",
    "salvador.head(1)"
   ]
  },
  {
   "cell_type": "code",
   "execution_count": 83,
   "metadata": {},
   "outputs": [
    {
     "name": "stdout",
     "output_type": "stream",
     "text": [
      "['country', 'project_name', 'project_id', 'household_name', 'household_id', 'person_code', 'gender', 'age', 'relationship_to_head', 'employed', 'status', 'respid', 'cat', 'cat_type', '2015-04']\n"
     ]
    }
   ],
   "source": [
    "print(list(salvador.columns)[:15])"
   ]
  },
  {
   "cell_type": "code",
   "execution_count": 84,
   "metadata": {},
   "outputs": [
    {
     "data": {
      "text/plain": [
       "'2016-04'"
      ]
     },
     "execution_count": 84,
     "metadata": {},
     "output_type": "execute_result"
    }
   ],
   "source": [
    "list(salvador.columns)[-1]"
   ]
  },
  {
   "cell_type": "markdown",
   "metadata": {},
   "source": [
    "Change gender categories"
   ]
  },
  {
   "cell_type": "code",
   "execution_count": 85,
   "metadata": {},
   "outputs": [],
   "source": [
    "salvador.loc[salvador['gender'] == 1, 'gender'] = 'male'\n",
    "salvador.loc[salvador['gender'] == 2, 'gender'] = 'female'"
   ]
  },
  {
   "cell_type": "code",
   "execution_count": 86,
   "metadata": {},
   "outputs": [],
   "source": [
    "salvador.rename(columns={'cat_type': 'category_type', 'cat': 'category_name'}, inplace=True)\n",
    "salvador['project_name'] = 'El Salvador Financial Diaries'\n",
    "salvador_hh = salvador.drop(columns=['person_code', 'gender', 'age', \n",
    "                                         'relationship_to_head', 'employed', 'status',\n",
    "                                         'country', 'project_id', 'household_id', 'respid'\n",
    "                                        ]\n",
    "                               )\n",
    "salvador_mem = salvador.drop(columns=['country', 'project_id', 'household_id', 'respid'])"
   ]
  },
  {
   "cell_type": "markdown",
   "metadata": {},
   "source": [
    "**Create all column**"
   ]
  },
  {
   "cell_type": "code",
   "execution_count": 492,
   "metadata": {},
   "outputs": [],
   "source": [
    "salvador_hh = create_ALL_row(salvador_hh)\n",
    "salvador_mem = create_ALL_row(salvador_mem)"
   ]
  },
  {
   "cell_type": "markdown",
   "metadata": {},
   "source": [
    "### Guatemala"
   ]
  },
  {
   "cell_type": "code",
   "execution_count": 87,
   "metadata": {},
   "outputs": [
    {
     "data": {
      "text/html": [
       "<div>\n",
       "<style scoped>\n",
       "    .dataframe tbody tr th:only-of-type {\n",
       "        vertical-align: middle;\n",
       "    }\n",
       "\n",
       "    .dataframe tbody tr th {\n",
       "        vertical-align: top;\n",
       "    }\n",
       "\n",
       "    .dataframe thead th {\n",
       "        text-align: right;\n",
       "    }\n",
       "</style>\n",
       "<table border=\"1\" class=\"dataframe\">\n",
       "  <thead>\n",
       "    <tr style=\"text-align: right;\">\n",
       "      <th></th>\n",
       "      <th>country</th>\n",
       "      <th>project_name</th>\n",
       "      <th>project_id</th>\n",
       "      <th>household_name</th>\n",
       "      <th>household_id</th>\n",
       "      <th>person_code</th>\n",
       "      <th>gender</th>\n",
       "      <th>age</th>\n",
       "      <th>relationship_to_head</th>\n",
       "      <th>employed</th>\n",
       "      <th>...</th>\n",
       "      <th>2015-08</th>\n",
       "      <th>2015-09</th>\n",
       "      <th>2015-10</th>\n",
       "      <th>2015-11</th>\n",
       "      <th>2015-12</th>\n",
       "      <th>2016-01</th>\n",
       "      <th>2016-02</th>\n",
       "      <th>2016-03</th>\n",
       "      <th>2016-04</th>\n",
       "      <th>2016-05</th>\n",
       "    </tr>\n",
       "  </thead>\n",
       "  <tbody>\n",
       "    <tr>\n",
       "      <th>0</th>\n",
       "      <td>Guatemala</td>\n",
       "      <td>Savings Group Diaries</td>\n",
       "      <td>SGD</td>\n",
       "      <td>SGD-401</td>\n",
       "      <td>401</td>\n",
       "      <td>401.1</td>\n",
       "      <td>2</td>\n",
       "      <td>32</td>\n",
       "      <td>spouse</td>\n",
       "      <td>21.0</td>\n",
       "      <td>...</td>\n",
       "      <td>NaN</td>\n",
       "      <td>NaN</td>\n",
       "      <td>NaN</td>\n",
       "      <td>NaN</td>\n",
       "      <td>NaN</td>\n",
       "      <td>NaN</td>\n",
       "      <td>NaN</td>\n",
       "      <td>-36.0:36.0:36.0:36.0:36.0:0.0:0.0:0.0:0.0:0.0</td>\n",
       "      <td>NaN</td>\n",
       "      <td>NaN</td>\n",
       "    </tr>\n",
       "  </tbody>\n",
       "</table>\n",
       "<p>1 rows × 27 columns</p>\n",
       "</div>"
      ],
      "text/plain": [
       "     country           project_name project_id household_name  household_id  \\\n",
       "0  Guatemala  Savings Group Diaries        SGD        SGD-401           401   \n",
       "\n",
       "   person_code  gender  age relationship_to_head  employed  ... 2015-08  \\\n",
       "0        401.1       2   32               spouse      21.0  ...     NaN   \n",
       "\n",
       "   2015-09 2015-10 2015-11 2015-12 2016-01 2016-02  \\\n",
       "0      NaN     NaN     NaN     NaN     NaN     NaN   \n",
       "\n",
       "                                         2016-03 2016-04 2016-05  \n",
       "0  -36.0:36.0:36.0:36.0:36.0:0.0:0.0:0.0:0.0:0.0     NaN     NaN  \n",
       "\n",
       "[1 rows x 27 columns]"
      ]
     },
     "execution_count": 87,
     "metadata": {},
     "output_type": "execute_result"
    }
   ],
   "source": [
    "guatemala = pd.read_csv('./data/MFO_DIaries_Data_June_2019/Guatemala.csv')\n",
    "guatemala.drop(columns='Unnamed: 0', inplace=True)\n",
    "guatemala.head(1)"
   ]
  },
  {
   "cell_type": "code",
   "execution_count": 88,
   "metadata": {},
   "outputs": [
    {
     "name": "stdout",
     "output_type": "stream",
     "text": [
      "['country', 'project_name', 'project_id', 'household_name', 'household_id', 'person_code', 'gender', 'age', 'relationship_to_head', 'employed', 'status', 'respid', 'cat', 'cat_type', '2015-05']\n"
     ]
    }
   ],
   "source": [
    "print(list(guatemala.columns)[:15])"
   ]
  },
  {
   "cell_type": "code",
   "execution_count": 89,
   "metadata": {},
   "outputs": [
    {
     "data": {
      "text/plain": [
       "'2016-05'"
      ]
     },
     "execution_count": 89,
     "metadata": {},
     "output_type": "execute_result"
    }
   ],
   "source": [
    "list(guatemala.columns)[-1]"
   ]
  },
  {
   "cell_type": "markdown",
   "metadata": {},
   "source": [
    "Change gender categories"
   ]
  },
  {
   "cell_type": "code",
   "execution_count": 90,
   "metadata": {},
   "outputs": [],
   "source": [
    "guatemala.loc[guatemala['gender'] == 1, 'gender'] = 'male'\n",
    "guatemala.loc[guatemala['gender'] == 2, 'gender'] = 'female'"
   ]
  },
  {
   "cell_type": "code",
   "execution_count": 91,
   "metadata": {},
   "outputs": [],
   "source": [
    "guatemala.rename(columns={'cat_type': 'category_type', 'cat': 'category_name'}, inplace=True)\n",
    "guatemala['project_name'] = 'Guatemala Financial Diaries'\n",
    "guatemala_hh = guatemala.drop(columns=['person_code', 'gender', 'age', \n",
    "                                         'relationship_to_head', 'employed', 'status',\n",
    "                                         'country', 'project_id', 'household_id', 'respid'\n",
    "                                        ]\n",
    "                               )\n",
    "guatemala_mem = guatemala.drop(columns=['country', 'project_id', 'household_id', 'respid'])"
   ]
  },
  {
   "cell_type": "markdown",
   "metadata": {},
   "source": [
    "**Create all column**"
   ]
  },
  {
   "cell_type": "code",
   "execution_count": 493,
   "metadata": {},
   "outputs": [],
   "source": [
    "guatemala_hh = create_ALL_row(guatemala_hh)\n",
    "guatemala_mem = create_ALL_row(guatemala_mem)"
   ]
  },
  {
   "cell_type": "markdown",
   "metadata": {},
   "source": [
    "## New tables"
   ]
  },
  {
   "cell_type": "code",
   "execution_count": 494,
   "metadata": {},
   "outputs": [],
   "source": [
    "hh_dic = {'old' : households,\n",
    "          'bangladesh': bangladesh_hh,\n",
    "          'cambodia': cambodia_hh,\n",
    "          'salvador': salvador_hh,\n",
    "          'guatemala': guatemala_hh\n",
    "         }\n",
    "mem_dic = {'old' : individuals,\n",
    "           'bangladesh': bangladesh_mem,\n",
    "           'cambodia': cambodia_mem,\n",
    "           'salvador': salvador_mem,\n",
    "           'guatemala': guatemala_mem\n",
    "          }"
   ]
  },
  {
   "cell_type": "code",
   "execution_count": 495,
   "metadata": {},
   "outputs": [],
   "source": [
    "hh_columns = list(households.columns)[:8]\n",
    "mem_columns = list(individuals.columns)[:12]\n",
    "years = ['2011', '2012', '2013', '2014', '2015', '2016', '2017']\n",
    "months = ['01','02','03','04','05','06','07','08','09','10','11','12']\n",
    "\n",
    "n = 0\n",
    "for year in years:\n",
    "    for month in months:\n",
    "        if n > 6:\n",
    "            hh_columns.append(year+'-'+month)\n",
    "            mem_columns.append(year+'-'+month)\n",
    "        n += 1\n",
    "        \n",
    "hh_new =  pd.DataFrame(columns=hh_columns)\n",
    "mem_new = pd.DataFrame(columns=mem_columns)\n",
    "\n",
    "for df_hh in hh_dic.values():\n",
    "    hh_iter =  pd.DataFrame(columns=hh_columns)\n",
    "    for column in list(df_hh.columns):\n",
    "        hh_iter[column] = df_hh[column]\n",
    "        \n",
    "    hh_new = pd.concat([hh_new, hh_iter])\n",
    "    \n",
    "for df_mem in mem_dic.values():\n",
    "    mem_iter =  pd.DataFrame(columns=mem_columns)\n",
    "    for column in list(df_mem.columns):\n",
    "        mem_iter[column] = df_mem[column]\n",
    "        \n",
    "    mem_new = pd.concat([mem_new, mem_iter])"
   ]
  },
  {
   "cell_type": "code",
   "execution_count": 496,
   "metadata": {},
   "outputs": [
    {
     "data": {
      "text/html": [
       "<div>\n",
       "<style scoped>\n",
       "    .dataframe tbody tr th:only-of-type {\n",
       "        vertical-align: middle;\n",
       "    }\n",
       "\n",
       "    .dataframe tbody tr th {\n",
       "        vertical-align: top;\n",
       "    }\n",
       "\n",
       "    .dataframe thead th {\n",
       "        text-align: right;\n",
       "    }\n",
       "</style>\n",
       "<table border=\"1\" class=\"dataframe\">\n",
       "  <thead>\n",
       "    <tr style=\"text-align: right;\">\n",
       "      <th></th>\n",
       "      <th>project_name</th>\n",
       "      <th>household_name</th>\n",
       "      <th>category_type</th>\n",
       "      <th>category_name</th>\n",
       "      <th>subcategory</th>\n",
       "      <th>num_accounts</th>\n",
       "      <th>num_members</th>\n",
       "      <th>num_adults</th>\n",
       "      <th>2011-08</th>\n",
       "      <th>2011-09</th>\n",
       "      <th>...</th>\n",
       "      <th>2017-03</th>\n",
       "      <th>2017-04</th>\n",
       "      <th>2017-05</th>\n",
       "      <th>2017-06</th>\n",
       "      <th>2017-07</th>\n",
       "      <th>2017-08</th>\n",
       "      <th>2017-09</th>\n",
       "      <th>2017-10</th>\n",
       "      <th>2017-11</th>\n",
       "      <th>2017-12</th>\n",
       "    </tr>\n",
       "  </thead>\n",
       "  <tbody>\n",
       "    <tr>\n",
       "      <th>0</th>\n",
       "      <td>Kenya Financial Diaries</td>\n",
       "      <td>KNBOK01</td>\n",
       "      <td>NaN</td>\n",
       "      <td>ALL</td>\n",
       "      <td>NaN</td>\n",
       "      <td>7</td>\n",
       "      <td>4</td>\n",
       "      <td>2</td>\n",
       "      <td>NaN</td>\n",
       "      <td>NaN</td>\n",
       "      <td>...</td>\n",
       "      <td>NaN</td>\n",
       "      <td>NaN</td>\n",
       "      <td>NaN</td>\n",
       "      <td>NaN</td>\n",
       "      <td>NaN</td>\n",
       "      <td>NaN</td>\n",
       "      <td>NaN</td>\n",
       "      <td>NaN</td>\n",
       "      <td>NaN</td>\n",
       "      <td>NaN</td>\n",
       "    </tr>\n",
       "    <tr>\n",
       "      <th>1</th>\n",
       "      <td>Kenya Financial Diaries</td>\n",
       "      <td>KNBOK01</td>\n",
       "      <td>credits</td>\n",
       "      <td>ALL</td>\n",
       "      <td>NaN</td>\n",
       "      <td>7</td>\n",
       "      <td>4</td>\n",
       "      <td>2</td>\n",
       "      <td>NaN</td>\n",
       "      <td>NaN</td>\n",
       "      <td>...</td>\n",
       "      <td>NaN</td>\n",
       "      <td>NaN</td>\n",
       "      <td>NaN</td>\n",
       "      <td>NaN</td>\n",
       "      <td>NaN</td>\n",
       "      <td>NaN</td>\n",
       "      <td>NaN</td>\n",
       "      <td>NaN</td>\n",
       "      <td>NaN</td>\n",
       "      <td>NaN</td>\n",
       "    </tr>\n",
       "    <tr>\n",
       "      <th>2</th>\n",
       "      <td>Kenya Financial Diaries</td>\n",
       "      <td>KNBOK01</td>\n",
       "      <td>expense</td>\n",
       "      <td>ALL</td>\n",
       "      <td>NaN</td>\n",
       "      <td>0</td>\n",
       "      <td>4</td>\n",
       "      <td>2</td>\n",
       "      <td>NaN</td>\n",
       "      <td>NaN</td>\n",
       "      <td>...</td>\n",
       "      <td>NaN</td>\n",
       "      <td>NaN</td>\n",
       "      <td>NaN</td>\n",
       "      <td>NaN</td>\n",
       "      <td>NaN</td>\n",
       "      <td>NaN</td>\n",
       "      <td>NaN</td>\n",
       "      <td>NaN</td>\n",
       "      <td>NaN</td>\n",
       "      <td>NaN</td>\n",
       "    </tr>\n",
       "    <tr>\n",
       "      <th>3</th>\n",
       "      <td>Kenya Financial Diaries</td>\n",
       "      <td>KNBOK01</td>\n",
       "      <td>income</td>\n",
       "      <td>ALL</td>\n",
       "      <td>NaN</td>\n",
       "      <td>16</td>\n",
       "      <td>4</td>\n",
       "      <td>2</td>\n",
       "      <td>NaN</td>\n",
       "      <td>NaN</td>\n",
       "      <td>...</td>\n",
       "      <td>NaN</td>\n",
       "      <td>NaN</td>\n",
       "      <td>NaN</td>\n",
       "      <td>NaN</td>\n",
       "      <td>NaN</td>\n",
       "      <td>NaN</td>\n",
       "      <td>NaN</td>\n",
       "      <td>NaN</td>\n",
       "      <td>NaN</td>\n",
       "      <td>NaN</td>\n",
       "    </tr>\n",
       "    <tr>\n",
       "      <th>4</th>\n",
       "      <td>Kenya Financial Diaries</td>\n",
       "      <td>KNBOK01</td>\n",
       "      <td>savings</td>\n",
       "      <td>ALL</td>\n",
       "      <td>NaN</td>\n",
       "      <td>10</td>\n",
       "      <td>4</td>\n",
       "      <td>2</td>\n",
       "      <td>NaN</td>\n",
       "      <td>NaN</td>\n",
       "      <td>...</td>\n",
       "      <td>NaN</td>\n",
       "      <td>NaN</td>\n",
       "      <td>NaN</td>\n",
       "      <td>NaN</td>\n",
       "      <td>NaN</td>\n",
       "      <td>NaN</td>\n",
       "      <td>NaN</td>\n",
       "      <td>NaN</td>\n",
       "      <td>NaN</td>\n",
       "      <td>NaN</td>\n",
       "    </tr>\n",
       "  </tbody>\n",
       "</table>\n",
       "<p>5 rows × 85 columns</p>\n",
       "</div>"
      ],
      "text/plain": [
       "              project_name household_name category_type category_name  \\\n",
       "0  Kenya Financial Diaries        KNBOK01           NaN           ALL   \n",
       "1  Kenya Financial Diaries        KNBOK01       credits           ALL   \n",
       "2  Kenya Financial Diaries        KNBOK01       expense           ALL   \n",
       "3  Kenya Financial Diaries        KNBOK01        income           ALL   \n",
       "4  Kenya Financial Diaries        KNBOK01       savings           ALL   \n",
       "\n",
       "  subcategory num_accounts num_members num_adults 2011-08 2011-09  ...  \\\n",
       "0         NaN            7           4          2     NaN     NaN  ...   \n",
       "1         NaN            7           4          2     NaN     NaN  ...   \n",
       "2         NaN            0           4          2     NaN     NaN  ...   \n",
       "3         NaN           16           4          2     NaN     NaN  ...   \n",
       "4         NaN           10           4          2     NaN     NaN  ...   \n",
       "\n",
       "  2017-03 2017-04 2017-05 2017-06 2017-07 2017-08 2017-09 2017-10 2017-11  \\\n",
       "0     NaN     NaN     NaN     NaN     NaN     NaN     NaN     NaN     NaN   \n",
       "1     NaN     NaN     NaN     NaN     NaN     NaN     NaN     NaN     NaN   \n",
       "2     NaN     NaN     NaN     NaN     NaN     NaN     NaN     NaN     NaN   \n",
       "3     NaN     NaN     NaN     NaN     NaN     NaN     NaN     NaN     NaN   \n",
       "4     NaN     NaN     NaN     NaN     NaN     NaN     NaN     NaN     NaN   \n",
       "\n",
       "  2017-12  \n",
       "0     NaN  \n",
       "1     NaN  \n",
       "2     NaN  \n",
       "3     NaN  \n",
       "4     NaN  \n",
       "\n",
       "[5 rows x 85 columns]"
      ]
     },
     "execution_count": 496,
     "metadata": {},
     "output_type": "execute_result"
    }
   ],
   "source": [
    "hh_new.head()"
   ]
  },
  {
   "cell_type": "code",
   "execution_count": 497,
   "metadata": {},
   "outputs": [
    {
     "data": {
      "text/plain": [
       "array(['Kenya Financial Diaries', 'India Financial Diaries',\n",
       "       'Mexico Financial Diaries', 'South Africa GAFIS',\n",
       "       'US Financial Diaries', 'Kopo Kopo', 'Smallholder Diaries',\n",
       "       'Smallholders Mozambique', 'Smallholders Pakistan',\n",
       "       'Smallholders Tanzania', 'UJ South Africa',\n",
       "       'Harambee South Africa', 'Bangladesh Financial Diaries',\n",
       "       'Cambodia Financial Diaries', 'El Salvador Financial Diaries',\n",
       "       'Guatemala Financial Diaries'], dtype=object)"
      ]
     },
     "execution_count": 497,
     "metadata": {},
     "output_type": "execute_result"
    }
   ],
   "source": [
    "hh_new['project_name'].unique()"
   ]
  },
  {
   "cell_type": "markdown",
   "metadata": {},
   "source": [
    "**Save new tables**"
   ]
  },
  {
   "cell_type": "code",
   "execution_count": 504,
   "metadata": {},
   "outputs": [],
   "source": [
    "mem_new.to_csv('/Volumes/MacBook HD/data/i2i/Data Iker/Financial_Diaries/CSV_new/_temp_results_mem.csv')\n",
    "hh_new.to_csv('/Volumes/MacBook HD/data/i2i/Data Iker/Financial_Diaries/CSV_new/_temp_results_hh.csv')"
   ]
  },
  {
   "cell_type": "markdown",
   "metadata": {},
   "source": [
    "Only new countries"
   ]
  },
  {
   "cell_type": "code",
   "execution_count": 37,
   "metadata": {},
   "outputs": [],
   "source": [
    "hh = hh_new[hh_new['project_name'].isin(['Bangladesh Financial Diaries',\n",
    "       'Cambodia Financial Diaries', 'El Salvador Financial Diaries',\n",
    "       'Guatemala Financial Diaries'])]"
   ]
  },
  {
   "cell_type": "code",
   "execution_count": 38,
   "metadata": {},
   "outputs": [],
   "source": [
    "mem = mem_new[mem_new['project_name'].isin(['Bangladesh Financial Diaries',\n",
    "       'Cambodia Financial Diaries', 'El Salvador Financial Diaries',\n",
    "       'Guatemala Financial Diaries'])]"
   ]
  },
  {
   "cell_type": "code",
   "execution_count": 42,
   "metadata": {},
   "outputs": [],
   "source": [
    "mem.to_csv('/Volumes/MacBook HD/data/i2i/Data Iker/Financial_Diaries/CSV_new/_temp_results_mem.csv')\n",
    "hh.to_csv('/Volumes/MacBook HD/data/i2i/Data Iker/Financial_Diaries/CSV_new/_temp_results_hh.csv')"
   ]
  },
  {
   "cell_type": "markdown",
   "metadata": {},
   "source": [
    "### New data structure\n",
    "\n",
    "We split the table into two.\n",
    "\n",
    "#### Households table\n",
    "\n",
    "- **Single table structure**:\n",
    "    - `project_name`, `household_name`, `category_type`, `category_name`, `subcategory`, `num_accounts`, `num_members`, `num_adults`, `2011-08`, `2011-09` ...\n",
    "    \n",
    "The data at date header (eg: `2017-12`) is structures as 10 values separated by a colon: `160:40:0:160:null:0:null:null:null:null`.\n",
    "\n",
    "Values can be `0`, `null`, or a `float`.\n",
    "\n",
    "The 10 values correspond respectively to:\n",
    "\n",
    "```\n",
    "total_transaction_value\n",
    "avg_value\n",
    "min_value\n",
    "max_value\n",
    "rolling_balance\n",
    "business_expenses\n",
    "withdrawals\n",
    "deposits\n",
    "new_borrowing\n",
    "repayment\n",
    "```\n",
    "\n",
    "- **Two table structure**:\n",
    "    - **household_transactions**: `id`, `project_name`, `household_name`, `category_type`, `category_name`, `subcategory`, `num_accounts`, `num_members`, `num_adults`, `total_income`\n",
    "    - **household_transaction_histories**: `id`, `household_transaction_id`, `value`, `month`, `year`, `total_transaction_value`, `avg_value`, `min_value`, `max_value`, `rolling_balance`, `business_expenses`, `withdrawals`, `deposits`, `new_borrowing`, `repayment`, `date`\n",
    "    \n",
    "The `household_transactions` and `household_transaction_histories` tables are related with the `id` and `household_transaction_id` ids, respectively."
   ]
  },
  {
   "cell_type": "markdown",
   "metadata": {},
   "source": [
    "#### Household members table\n",
    "\n",
    "- **Single table structure**:\n",
    "    - `project_name`, `household_name`, `person_code`, `gender`, `age`, `relationship_to_head`, `employed`, `status`, `category_type`, `category_name`, `subcategory`, `num_accounts`, `2011-08`, `2011-09` ...\n",
    "    \n",
    "The data at date header (eg: `2017-12`) is structures as 10 values separated by a colon: `160:40:0:160:null:0:null:null:null:null`.\n",
    "\n",
    "Values can be `0`, `null`, or a `float`.\n",
    "\n",
    "The 10 values correspond respectively to:\n",
    "\n",
    "```\n",
    "total_transaction_value\n",
    "avg_value\n",
    "min_value\n",
    "max_value\n",
    "rolling_balance\n",
    "business_expenses\n",
    "withdrawals\n",
    "deposits\n",
    "new_borrowing\n",
    "repayment\n",
    "```\n",
    "\n",
    "- **Two table structure**:\n",
    "    - **household_member_transactions**: `id`, `project_name`, `household_name`, `person_code`, `gender`,\n",
    "       `relationship_to_head`, `employed`, `status`, `category_type`,\n",
    "       `category_name`, `subcategory`, `age`, `num_accounts`, `total_income`\n",
    "    - **household_member_transaction_histories**: `id`, `household_transaction_id`, `value`, `month`, `year`, `total_transaction_value`, `avg_value`, `min_value`, `max_value`, `rolling_balance`, `business_expenses`, `withdrawals`, `deposits`, `new_borrowing`, `repayment`, `date`\n",
    "    \n",
    "The `household_transactions` and `household_transaction_histories` tables are related with the `id` and `household_transaction_id` ids, respectively."
   ]
  },
  {
   "cell_type": "code",
   "execution_count": null,
   "metadata": {},
   "outputs": [],
   "source": [
    "hh_new.head(1)"
   ]
  },
  {
   "cell_type": "code",
   "execution_count": null,
   "metadata": {},
   "outputs": [],
   "source": [
    "mem_new.head(1)"
   ]
  },
  {
   "cell_type": "code",
   "execution_count": null,
   "metadata": {},
   "outputs": [],
   "source": [
    "household_trans = pd.read_csv('/Users/ikersanchez/Vizzuality/PROIEKTUAK/i2i/Data/Financial_Diaries/household_transactions.csv')\n",
    "household_trans.drop(columns=['created_at', 'updated_at'], inplace=True)\n",
    "household_trans_hist = pd.read_csv('/Users/ikersanchez/Vizzuality/PROIEKTUAK/i2i/Data/Financial_Diaries/household_transaction_histories.csv')\n",
    "household_trans_hist.drop(columns=['created_at', 'updated_at'], inplace=True)"
   ]
  },
  {
   "cell_type": "code",
   "execution_count": null,
   "metadata": {},
   "outputs": [],
   "source": [
    "household_trans.head(1)"
   ]
  },
  {
   "cell_type": "code",
   "execution_count": null,
   "metadata": {},
   "outputs": [],
   "source": [
    "household_trans_hist.head(1)"
   ]
  },
  {
   "cell_type": "code",
   "execution_count": null,
   "metadata": {},
   "outputs": [],
   "source": [
    "household_member_trans = pd.read_csv('/Users/ikersanchez/Vizzuality/PROIEKTUAK/i2i/Data/Financial_Diaries/household_member_transactions.csv')\n",
    "household_member_trans.drop(columns=['created_at', 'updated_at'], inplace=True)\n",
    "household_member_trans_hist = pd.read_csv('/Users/ikersanchez/Vizzuality/PROIEKTUAK/i2i/Data/Financial_Diaries/household_member_transaction_histories.csv')\n",
    "household_member_trans_hist.drop(columns=['created_at', 'updated_at'], inplace=True)"
   ]
  },
  {
   "cell_type": "code",
   "execution_count": null,
   "metadata": {},
   "outputs": [],
   "source": [
    "household_member_trans.head(1)"
   ]
  },
  {
   "cell_type": "code",
   "execution_count": null,
   "metadata": {},
   "outputs": [],
   "source": [
    "household_member_trans_hist.head(1)"
   ]
  },
  {
   "cell_type": "markdown",
   "metadata": {},
   "source": [
    "**We transform the table for the new countries only**"
   ]
  },
  {
   "cell_type": "code",
   "execution_count": null,
   "metadata": {},
   "outputs": [],
   "source": [
    "hh = hh_new[hh_new['project_name'].isin(['Bangladesh Financial Diaries',\n",
    "       'Cambodia Financial Diaries', 'El Salvador Financial Diaries',\n",
    "       'Guatemala Financial Diaries'])]"
   ]
  },
  {
   "cell_type": "code",
   "execution_count": null,
   "metadata": {},
   "outputs": [],
   "source": [
    "hh.head(2)"
   ]
  },
  {
   "cell_type": "code",
   "execution_count": null,
   "metadata": {},
   "outputs": [],
   "source": [
    "mem = mem_new[mem_new['project_name'].isin(['Bangladesh Financial Diaries',\n",
    "       'Cambodia Financial Diaries', 'El Salvador Financial Diaries',\n",
    "       'Guatemala Financial Diaries'])]"
   ]
  },
  {
   "cell_type": "code",
   "execution_count": null,
   "metadata": {},
   "outputs": [],
   "source": [
    "mem.head(2)"
   ]
  },
  {
   "cell_type": "code",
   "execution_count": null,
   "metadata": {},
   "outputs": [],
   "source": []
  },
  {
   "cell_type": "code",
   "execution_count": null,
   "metadata": {},
   "outputs": [],
   "source": [
    "household_trans = pd.read_csv('/Users/ikersanchez/Vizzuality/PROIEKTUAK/i2i/Data/Financial_Diaries/household_transactions.csv')"
   ]
  },
  {
   "cell_type": "code",
   "execution_count": null,
   "metadata": {},
   "outputs": [],
   "source": []
  },
  {
   "cell_type": "markdown",
   "metadata": {},
   "source": [
    "### Split table\n",
    "\n",
    "**Household Transactions**"
   ]
  },
  {
   "cell_type": "markdown",
   "metadata": {},
   "source": [
    "Add `id` column"
   ]
  },
  {
   "cell_type": "code",
   "execution_count": null,
   "metadata": {},
   "outputs": [],
   "source": [
    "hh['id'] = np.arange(len(hh))+household_trans['id'].max()+1\n",
    "mem['id'] = np.arange(len(mem))+household_member_trans['id'].max()+1"
   ]
  },
  {
   "cell_type": "code",
   "execution_count": null,
   "metadata": {},
   "outputs": [],
   "source": [
    "household_member_trans.columns"
   ]
  },
  {
   "cell_type": "code",
   "execution_count": null,
   "metadata": {},
   "outputs": [],
   "source": [
    "mem.columns"
   ]
  },
  {
   "cell_type": "code",
   "execution_count": null,
   "metadata": {},
   "outputs": [],
   "source": [
    "hh_trans = hh[['id','project_name', 'household_name', 'category_type',\n",
    "       'category_name', 'subcategory', 'num_accounts', 'num_members',\n",
    "       'num_adults']]\n",
    "\n",
    "mem_trans = mem[['id', 'project_name', 'household_name', 'person_code', 'gender',\n",
    "       'relationship_to_head', 'employed', 'status', 'category_type',\n",
    "       'category_name', 'subcategory', 'age', 'num_accounts']]"
   ]
  },
  {
   "cell_type": "markdown",
   "metadata": {},
   "source": [
    "Add `total_income` column"
   ]
  },
  {
   "cell_type": "code",
   "execution_count": null,
   "metadata": {},
   "outputs": [],
   "source": [
    "hh_trans['total_income'] = np.nan\n",
    "mem_trans['total_income'] = np.nan"
   ]
  },
  {
   "cell_type": "code",
   "execution_count": null,
   "metadata": {},
   "outputs": [],
   "source": [
    "hh_trans.head(1)"
   ]
  },
  {
   "cell_type": "code",
   "execution_count": null,
   "metadata": {},
   "outputs": [],
   "source": [
    "mem_trans.head(1)"
   ]
  },
  {
   "cell_type": "markdown",
   "metadata": {},
   "source": [
    "**Household Transaction Histories**"
   ]
  },
  {
   "cell_type": "code",
   "execution_count": null,
   "metadata": {},
   "outputs": [],
   "source": [
    "years = ['2015', '2016', '2017']\n",
    "months = ['01','02','03','04','05','06','07','08','09','10','11','12']\n",
    "\n",
    "dates = []\n",
    "for year in years:\n",
    "    for month in months:\n",
    "        dates.append(year+'-'+month)"
   ]
  },
  {
   "cell_type": "code",
   "execution_count": null,
   "metadata": {},
   "outputs": [],
   "source": [
    "hh_trans_hist = pd.DataFrame(columns=['household_transaction_id', 'value', 'month', 'year',\n",
    "       'total_transaction_value', 'avg_value', 'min_value', 'max_value',\n",
    "       'rolling_balance', 'business_expenses', 'withdrawals', 'deposits',\n",
    "       'new_borrowing', 'repayment', 'date'])\n",
    "\n",
    "params = ['total_transaction_value', 'avg_value', 'min_value', 'max_value', 'rolling_balance', 'business_expenses', 'withdrawals', 'deposits', 'new_borrowing', 'repayment']\n",
    "\n",
    "hh_trans_hist_row = pd.DataFrame(columns=['household_transaction_id', 'value', 'month', 'year',\n",
    "       'total_transaction_value', 'avg_value', 'min_value', 'max_value',\n",
    "       'rolling_balance', 'business_expenses', 'withdrawals', 'deposits',\n",
    "       'new_borrowing', 'repayment', 'date'])\n",
    "for row in tqdm(range(len(hh))):\n",
    "    for year in dates:\n",
    "        \n",
    "        hh_trans_hist_row['household_transaction_id'] = [hh['id'].iloc[row]]\n",
    "        hh_trans_hist_row['value'] = [hh[year].iloc[row]]\n",
    "        hh_trans_hist_row['month'] = [int(year.split('-')[1])]\n",
    "        hh_trans_hist_row['year'] = [year.split('-')[0]]    \n",
    "        \n",
    "        if str(hh[year].iloc[row]) != 'nan':\n",
    "            values = [round(float(i),1) for i in hh[year].iloc[row].split(':')]\n",
    "        else:\n",
    "            values = np.empty(10); values[:] = np.nan\n",
    "            \n",
    "        for n, param in enumerate(params):\n",
    "            hh_trans_hist_row[param] = [values[n]]\n",
    "            \n",
    "        hh_trans_hist_row['date'] = year+'-01 00:00:00'\n",
    "        \n",
    "        hh_trans_hist = pd.concat([hh_trans_hist, hh_trans_hist_row])\n",
    "            "
   ]
  },
  {
   "cell_type": "code",
   "execution_count": null,
   "metadata": {},
   "outputs": [],
   "source": [
    "mem_trans_hist = pd.DataFrame(columns=['household_transaction_id', 'value', 'month', 'year',\n",
    "       'total_transaction_value', 'avg_value', 'min_value', 'max_value',\n",
    "       'rolling_balance', 'business_expenses', 'withdrawals', 'deposits',\n",
    "       'new_borrowing', 'repayment', 'date'])\n",
    "\n",
    "params = ['total_transaction_value', 'avg_value', 'min_value', 'max_value', 'rolling_balance', 'business_expenses', 'withdrawals', 'deposits', 'new_borrowing', 'repayment']\n",
    "\n",
    "mem_trans_hist_row = pd.DataFrame(columns=['household_transaction_id', 'value', 'month', 'year',\n",
    "       'total_transaction_value', 'avg_value', 'min_value', 'max_value',\n",
    "       'rolling_balance', 'business_expenses', 'withdrawals', 'deposits',\n",
    "       'new_borrowing', 'repayment', 'date'])\n",
    "for row in tqdm(range(len(hh))):\n",
    "    for year in dates:\n",
    "        \n",
    "        mem_trans_hist_row['household_transaction_id'] = [mem['id'].iloc[row]]\n",
    "        mem_trans_hist_row['value'] = [mem[year].iloc[row]]\n",
    "        mem_trans_hist_row['month'] = [int(year.split('-')[1])]\n",
    "        mem_trans_hist_row['year'] = [year.split('-')[0]]    \n",
    "        \n",
    "        if str(mem[year].iloc[row]) != 'nan':\n",
    "            values = [round(float(i),1) for i in mem[year].iloc[row].split(':')]\n",
    "        else:\n",
    "            values = np.empty(10); values[:] = np.nan\n",
    "            \n",
    "        for n, param in enumerate(params):\n",
    "            mem_trans_hist_row[param] = [values[n]]\n",
    "            \n",
    "        mem_trans_hist_row['date'] = year+'-01 00:00:00'\n",
    "        \n",
    "        mem_trans_hist = pd.concat([mem_trans_hist, mem_trans_hist_row])"
   ]
  },
  {
   "cell_type": "markdown",
   "metadata": {},
   "source": [
    "**Concatenate DataFrames**"
   ]
  },
  {
   "cell_type": "code",
   "execution_count": null,
   "metadata": {},
   "outputs": [],
   "source": [
    "household_trans_new = pd.concat([household_trans, hh_trans])\n",
    "household_trans_new.to_csv('/Users/ikersanchez/Vizzuality/PROIEKTUAK/i2i/Data/Financial_Diaries/household_transactions_new.csv')"
   ]
  },
  {
   "cell_type": "code",
   "execution_count": null,
   "metadata": {},
   "outputs": [],
   "source": [
    "household_trans_hist.drop(columns='id', inplace=True)\n",
    "household_trans_hist_new = pd.concat([household_trans_hist, hh_trans_hist])\n",
    "household_trans_hist_new['id'] = np.arange(len(household_trans_hist_new))\n",
    "household_trans_hist_new.to_csv('/Users/ikersanchez/Vizzuality/PROIEKTUAK/i2i/Data/Financial_Diaries/household_transactions_histories_new.csv')"
   ]
  },
  {
   "cell_type": "code",
   "execution_count": null,
   "metadata": {},
   "outputs": [],
   "source": [
    "household_member_trans_new = pd.concat([household_member_trans, mem_trans])\n",
    "household_member_trans_new.to_csv('/Users/ikersanchez/Vizzuality/PROIEKTUAK/i2i/Data/Financial_Diaries/household_member_transactions_new.csv')"
   ]
  },
  {
   "cell_type": "code",
   "execution_count": null,
   "metadata": {},
   "outputs": [],
   "source": [
    "household_member_trans_hist.drop(columns='id', inplace=True)\n",
    "household_member_trans_hist_new = pd.concat([household_member_trans_hist, mem_trans_hist])\n",
    "household_member_trans_hist_new['id'] = np.arange(len(household_member_trans_hist_new))\n",
    "household_member_trans_hist_new.to_csv('/Users/ikersanchez/Vizzuality/PROIEKTUAK/i2i/Data/Financial_Diaries/household_member_transactions_histories_new.csv')"
   ]
  },
  {
   "cell_type": "markdown",
   "metadata": {},
   "source": [
    "**Merge tables**"
   ]
  },
  {
   "cell_type": "code",
   "execution_count": null,
   "metadata": {},
   "outputs": [],
   "source": [
    "hh_trans = pd.read_csv('/Volumes/MacBook HD/data/i2i/Data Iker/Financial_Diaries/household_new/household_transactions_new.csv')\n",
    "hh_trans.drop(columns='Unnamed: 0', inplace=True)\n",
    "hh_trans.rename(columns={'id': 'household_transaction_id'}, inplace=True)\n",
    "\n",
    "hh_trans_hist = pd.read_csv('/Volumes/MacBook HD/data/i2i/Data Iker/Financial_Diaries/household_new/household_transactions_histories_new.csv')\n",
    "hh_trans_hist.drop(columns=['Unnamed: 0'], inplace=True)\n",
    "\n",
    "household = pd.merge(left=hh_trans, right=hh_trans_hist, on= 'household_transaction_id')\n",
    "household.to_csv('/Volumes/MacBook HD/data/i2i/Data Iker/Financial_Diaries/household_new/household_transactions_merged.csv')"
   ]
  },
  {
   "cell_type": "code",
   "execution_count": 19,
   "metadata": {},
   "outputs": [
    {
     "name": "stderr",
     "output_type": "stream",
     "text": [
      "/anaconda3/lib/python3.6/site-packages/IPython/core/interactiveshell.py:2728: DtypeWarning: Columns (4,11) have mixed types. Specify dtype option on import or set low_memory=False.\n",
      "  interactivity=interactivity, compiler=compiler, result=result)\n",
      "/anaconda3/lib/python3.6/site-packages/IPython/core/interactiveshell.py:2728: DtypeWarning: Columns (14) have mixed types. Specify dtype option on import or set low_memory=False.\n",
      "  interactivity=interactivity, compiler=compiler, result=result)\n"
     ]
    }
   ],
   "source": [
    "hh_trans = pd.read_csv('/Volumes/MacBook HD/data/i2i/Data Iker/Financial_Diaries/household_new/household_member_transactions_new.csv')\n",
    "hh_trans.drop(columns='Unnamed: 0', inplace=True)\n",
    "hh_trans.rename(columns={'id': 'household_member_transaction_id'}, inplace=True)\n",
    "\n",
    "hh_trans_hist = pd.read_csv('/Volumes/MacBook HD/data/i2i/Data Iker/Financial_Diaries/household_new/household_member_transactions_histories_new.csv')\n",
    "hh_trans_hist.drop(columns=['Unnamed: 0'], inplace=True)\n",
    "\n",
    "household = pd.merge(left=hh_trans, right=hh_trans_hist, on= 'household_member_transaction_id')\n",
    "household.to_csv('/Volumes/MacBook HD/data/i2i/Data Iker/Financial_Diaries/household_new/household_member_transactions_merged.csv')"
   ]
  },
  {
   "cell_type": "code",
   "execution_count": null,
   "metadata": {},
   "outputs": [],
   "source": []
  }
 ],
 "metadata": {
  "kernelspec": {
   "display_name": "Python 3",
   "language": "python",
   "name": "python3"
  },
  "language_info": {
   "codemirror_mode": {
    "name": "ipython",
    "version": 3
   },
   "file_extension": ".py",
   "mimetype": "text/x-python",
   "name": "python",
   "nbconvert_exporter": "python",
   "pygments_lexer": "ipython3",
   "version": "3.6.8"
  }
 },
 "nbformat": 4,
 "nbformat_minor": 2
}
