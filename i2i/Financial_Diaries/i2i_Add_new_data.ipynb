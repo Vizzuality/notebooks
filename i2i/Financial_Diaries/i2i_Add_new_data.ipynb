{
 "cells": [
  {
   "cell_type": "markdown",
   "metadata": {},
   "source": [
    "# 4 new financial diaries\n",
    "\n",
    "In this notebook we will add finacial diaries data for 4 new countries. \n",
    "\n",
    "- [Here](https://basecamp.com/1756858/projects/12871501/messages/83841824) the info of the new datasets.\n",
    "\n",
    "- [Here](https://github.com/Vizzuality/i2i#importing-financial-diaries-data-csv) some notes from Ivan about what we should take into account.\n",
    "\n",
    "- [Here](http://i2ifacility.org/data-portal/IND/financial-diaries) is how they look like in the website.\n",
    "\n",
    "- [Here](https://basecamp.com/1756858/projects/14166276/messages/72313579) we have additional information and the first datasets we uploaded. "
   ]
  },
  {
   "cell_type": "markdown",
   "metadata": {},
   "source": [
    "## Data tables\n",
    "\n",
    "The data is stored in two different files, one for `Households` (_temp_results_hh.csv) and the other one for `Individuals` (_temp_results_mem.csv).\n",
    "\n",
    "The csvs must be properly formatted with the columns containing descriptive data (eg: `category_name`, `subcategory`), these columns will vary depending on the type of data being imported (`houshold_transactions` or `household_member_transactions`). The values must have a date header (eg: `2017-12`) and it's content must be 10 values separated by a colon: `160:40:0:160:null:0:null:null:null:null`.\n",
    "\n",
    "Values can be `0`, `null`, or a `float`.\n",
    "\n",
    "The 10 values correspond respectively to:\n",
    "\n",
    "```\n",
    "total_transaction_value\n",
    "avg_value\n",
    "min_value\n",
    "max_value\n",
    "rolling_balance\n",
    "business_expenses\n",
    "withdrawals\n",
    "deposits\n",
    "new_borrowing\n",
    "repayment\n",
    "```\n",
    "\n",
    "### Data structure\n",
    "\n",
    "**Households columns**\n",
    "\n",
    "|Old data| New data |\n",
    "|:---|:---|\n",
    "|project_name  | project_name\n",
    "|household_name| household_name\n",
    "|category_type | cat_type\n",
    "|category_name | cat\n",
    "|subcategory   |\n",
    "|num_accounts  |\n",
    "|num_members   |\n",
    "|num_adults    |\n",
    "\n",
    "\n",
    "**Individuals columns**\n",
    "\n",
    "|Old data| New data |\n",
    "|:---|:---|\n",
    "|project_name         | project_name    \n",
    "|household_name       | household_name\n",
    "|person_code          | person_code\n",
    "|gender               | gender\n",
    "|age                  | age\n",
    "|relationship_to_head | relationship_to_head\n",
    "|employed             | employed\n",
    "|status               | status\n",
    "|category_type        | cat_type\n",
    "|category_name        | cat\n",
    "|subcategory          |\n",
    "|num_accounts         |\n",
    "\n",
    "\n",
    "**Extra columns in new data**\n",
    "\n",
    "- country\n",
    "- project_id\n",
    "- household_id\n",
    "- respid\n",
    "\n",
    "**Dates range**\n",
    "\n",
    "|Old data| New data |\n",
    "|:---|:---|\n",
    "|2011-08 - 2016-12  | 2015-04 - 2017-08 |"
   ]
  },
  {
   "cell_type": "code",
   "execution_count": 1,
   "metadata": {},
   "outputs": [],
   "source": [
    "import numpy as np\n",
    "import pandas as pd"
   ]
  },
  {
   "cell_type": "markdown",
   "metadata": {},
   "source": [
    "**Households table**"
   ]
  },
  {
   "cell_type": "code",
   "execution_count": 2,
   "metadata": {},
   "outputs": [
    {
     "name": "stderr",
     "output_type": "stream",
     "text": [
      "/anaconda3/lib/python3.6/site-packages/IPython/core/interactiveshell.py:2728: DtypeWarning: Columns (13,14,15,16,17,18,36,37,38,39,40,41,42,43,44,45,46,47,48,49,50,51,52,53,54,55,56,58,59,60,61,64,65,66,67,68,69,70,71,72) have mixed types. Specify dtype option on import or set low_memory=False.\n",
      "  interactivity=interactivity, compiler=compiler, result=result)\n"
     ]
    }
   ],
   "source": [
    "households = pd.read_csv('/Users/ikersanchez/Vizzuality/PROIEKTUAK/i2i/Data/Financial_Diaries/CSV/_temp_results_hh.csv')"
   ]
  },
  {
   "cell_type": "code",
   "execution_count": 3,
   "metadata": {},
   "outputs": [
    {
     "data": {
      "text/html": [
       "<div>\n",
       "<style scoped>\n",
       "    .dataframe tbody tr th:only-of-type {\n",
       "        vertical-align: middle;\n",
       "    }\n",
       "\n",
       "    .dataframe tbody tr th {\n",
       "        vertical-align: top;\n",
       "    }\n",
       "\n",
       "    .dataframe thead th {\n",
       "        text-align: right;\n",
       "    }\n",
       "</style>\n",
       "<table border=\"1\" class=\"dataframe\">\n",
       "  <thead>\n",
       "    <tr style=\"text-align: right;\">\n",
       "      <th></th>\n",
       "      <th>project_name</th>\n",
       "      <th>household_name</th>\n",
       "      <th>category_type</th>\n",
       "      <th>category_name</th>\n",
       "      <th>subcategory</th>\n",
       "      <th>num_accounts</th>\n",
       "      <th>num_members</th>\n",
       "      <th>num_adults</th>\n",
       "      <th>2011-08</th>\n",
       "      <th>2011-09</th>\n",
       "      <th>...</th>\n",
       "      <th>2016-03</th>\n",
       "      <th>2016-04</th>\n",
       "      <th>2016-05</th>\n",
       "      <th>2016-06</th>\n",
       "      <th>2016-07</th>\n",
       "      <th>2016-08</th>\n",
       "      <th>2016-09</th>\n",
       "      <th>2016-10</th>\n",
       "      <th>2016-11</th>\n",
       "      <th>2016-12</th>\n",
       "    </tr>\n",
       "  </thead>\n",
       "  <tbody>\n",
       "    <tr>\n",
       "      <th>0</th>\n",
       "      <td>Kenya Financial Diaries</td>\n",
       "      <td>KNBOK01</td>\n",
       "      <td>NaN</td>\n",
       "      <td>ALL</td>\n",
       "      <td>NaN</td>\n",
       "      <td>7</td>\n",
       "      <td>4</td>\n",
       "      <td>2</td>\n",
       "      <td>NaN</td>\n",
       "      <td>NaN</td>\n",
       "      <td>...</td>\n",
       "      <td>NaN</td>\n",
       "      <td>NaN</td>\n",
       "      <td>NaN</td>\n",
       "      <td>NaN</td>\n",
       "      <td>NaN</td>\n",
       "      <td>NaN</td>\n",
       "      <td>NaN</td>\n",
       "      <td>NaN</td>\n",
       "      <td>NaN</td>\n",
       "      <td>NaN</td>\n",
       "    </tr>\n",
       "  </tbody>\n",
       "</table>\n",
       "<p>1 rows × 73 columns</p>\n",
       "</div>"
      ],
      "text/plain": [
       "              project_name household_name category_type category_name  \\\n",
       "0  Kenya Financial Diaries        KNBOK01           NaN           ALL   \n",
       "\n",
       "  subcategory  num_accounts  num_members  num_adults  2011-08  2011-09  \\\n",
       "0         NaN             7            4           2      NaN      NaN   \n",
       "\n",
       "    ...    2016-03  2016-04  2016-05 2016-06 2016-07 2016-08 2016-09 2016-10  \\\n",
       "0   ...        NaN      NaN      NaN     NaN     NaN     NaN     NaN     NaN   \n",
       "\n",
       "  2016-11 2016-12  \n",
       "0     NaN     NaN  \n",
       "\n",
       "[1 rows x 73 columns]"
      ]
     },
     "execution_count": 3,
     "metadata": {},
     "output_type": "execute_result"
    }
   ],
   "source": [
    "households.head(1)"
   ]
  },
  {
   "cell_type": "code",
   "execution_count": 4,
   "metadata": {},
   "outputs": [
    {
     "name": "stdout",
     "output_type": "stream",
     "text": [
      "['project_name', 'household_name', 'category_type', 'category_name', 'subcategory', 'num_accounts', 'num_members', 'num_adults', '2011-08']\n"
     ]
    }
   ],
   "source": [
    "print(list(households.columns)[:9])"
   ]
  },
  {
   "cell_type": "code",
   "execution_count": 5,
   "metadata": {},
   "outputs": [
    {
     "data": {
      "text/plain": [
       "'2016-12'"
      ]
     },
     "execution_count": 5,
     "metadata": {},
     "output_type": "execute_result"
    }
   ],
   "source": [
    "list(households.columns)[-1]"
   ]
  },
  {
   "cell_type": "markdown",
   "metadata": {},
   "source": [
    "**Individuals table**"
   ]
  },
  {
   "cell_type": "code",
   "execution_count": 6,
   "metadata": {},
   "outputs": [
    {
     "name": "stderr",
     "output_type": "stream",
     "text": [
      "/anaconda3/lib/python3.6/site-packages/IPython/core/interactiveshell.py:2728: DtypeWarning: Columns (17,18,19,20,21,22,39,42,43,44,45,46,47,48,49,50,51,52,54,55,56,57,58,59,60,61,62,63,64,65,68,69,70,71,72,73,74,75,76) have mixed types. Specify dtype option on import or set low_memory=False.\n",
      "  interactivity=interactivity, compiler=compiler, result=result)\n"
     ]
    }
   ],
   "source": [
    "individuals = pd.read_csv('/Users/ikersanchez/Vizzuality/PROIEKTUAK/i2i/Data/Financial_Diaries/CSV/_temp_results_mem.csv')"
   ]
  },
  {
   "cell_type": "code",
   "execution_count": 7,
   "metadata": {},
   "outputs": [
    {
     "data": {
      "text/html": [
       "<div>\n",
       "<style scoped>\n",
       "    .dataframe tbody tr th:only-of-type {\n",
       "        vertical-align: middle;\n",
       "    }\n",
       "\n",
       "    .dataframe tbody tr th {\n",
       "        vertical-align: top;\n",
       "    }\n",
       "\n",
       "    .dataframe thead th {\n",
       "        text-align: right;\n",
       "    }\n",
       "</style>\n",
       "<table border=\"1\" class=\"dataframe\">\n",
       "  <thead>\n",
       "    <tr style=\"text-align: right;\">\n",
       "      <th></th>\n",
       "      <th>project_name</th>\n",
       "      <th>household_name</th>\n",
       "      <th>person_code</th>\n",
       "      <th>gender</th>\n",
       "      <th>age</th>\n",
       "      <th>relationship_to_head</th>\n",
       "      <th>employed</th>\n",
       "      <th>status</th>\n",
       "      <th>category_type</th>\n",
       "      <th>category_name</th>\n",
       "      <th>...</th>\n",
       "      <th>2016-03</th>\n",
       "      <th>2016-04</th>\n",
       "      <th>2016-05</th>\n",
       "      <th>2016-06</th>\n",
       "      <th>2016-07</th>\n",
       "      <th>2016-08</th>\n",
       "      <th>2016-09</th>\n",
       "      <th>2016-10</th>\n",
       "      <th>2016-11</th>\n",
       "      <th>2016-12</th>\n",
       "    </tr>\n",
       "  </thead>\n",
       "  <tbody>\n",
       "    <tr>\n",
       "      <th>0</th>\n",
       "      <td>Kenya Financial Diaries</td>\n",
       "      <td>KNBOK01</td>\n",
       "      <td>P1</td>\n",
       "      <td>female</td>\n",
       "      <td>40</td>\n",
       "      <td>01=Head of this household</td>\n",
       "      <td>07=Casual work</td>\n",
       "      <td>in</td>\n",
       "      <td>NaN</td>\n",
       "      <td>Financial</td>\n",
       "      <td>...</td>\n",
       "      <td>NaN</td>\n",
       "      <td>NaN</td>\n",
       "      <td>NaN</td>\n",
       "      <td>NaN</td>\n",
       "      <td>NaN</td>\n",
       "      <td>NaN</td>\n",
       "      <td>NaN</td>\n",
       "      <td>NaN</td>\n",
       "      <td>NaN</td>\n",
       "      <td>NaN</td>\n",
       "    </tr>\n",
       "  </tbody>\n",
       "</table>\n",
       "<p>1 rows × 77 columns</p>\n",
       "</div>"
      ],
      "text/plain": [
       "              project_name household_name person_code  gender  age  \\\n",
       "0  Kenya Financial Diaries        KNBOK01          P1  female   40   \n",
       "\n",
       "        relationship_to_head        employed status category_type  \\\n",
       "0  01=Head of this household  07=Casual work     in           NaN   \n",
       "\n",
       "  category_name   ...   2016-03  2016-04  2016-05  2016-06  2016-07  2016-08  \\\n",
       "0     Financial   ...       NaN      NaN      NaN      NaN      NaN      NaN   \n",
       "\n",
       "   2016-09 2016-10 2016-11 2016-12  \n",
       "0      NaN     NaN     NaN     NaN  \n",
       "\n",
       "[1 rows x 77 columns]"
      ]
     },
     "execution_count": 7,
     "metadata": {},
     "output_type": "execute_result"
    }
   ],
   "source": [
    "individuals.head(1)"
   ]
  },
  {
   "cell_type": "code",
   "execution_count": 8,
   "metadata": {},
   "outputs": [
    {
     "name": "stdout",
     "output_type": "stream",
     "text": [
      "['project_name', 'household_name', 'person_code', 'gender', 'age', 'relationship_to_head', 'employed', 'status', 'category_type', 'category_name', 'subcategory', 'num_accounts', '2011-08']\n"
     ]
    }
   ],
   "source": [
    "print(list(individuals.columns)[:13])"
   ]
  },
  {
   "cell_type": "code",
   "execution_count": 9,
   "metadata": {},
   "outputs": [
    {
     "data": {
      "text/plain": [
       "'2016-12'"
      ]
     },
     "execution_count": 9,
     "metadata": {},
     "output_type": "execute_result"
    }
   ],
   "source": [
    "list(households.columns)[-1]"
   ]
  },
  {
   "cell_type": "markdown",
   "metadata": {},
   "source": [
    "## MFO Diaries Data "
   ]
  },
  {
   "cell_type": "markdown",
   "metadata": {},
   "source": [
    "### Bangladesh"
   ]
  },
  {
   "cell_type": "code",
   "execution_count": 10,
   "metadata": {},
   "outputs": [],
   "source": [
    "bangladesh = pd.read_csv('/Users/ikersanchez/Vizzuality/PROIEKTUAK/i2i/Data/Financial_Diaries/MFO_Diaries_Data/Bangladesh.csv')\n",
    "bangladesh.drop(columns='Unnamed: 0', inplace=True)"
   ]
  },
  {
   "cell_type": "code",
   "execution_count": 11,
   "metadata": {},
   "outputs": [
    {
     "data": {
      "text/html": [
       "<div>\n",
       "<style scoped>\n",
       "    .dataframe tbody tr th:only-of-type {\n",
       "        vertical-align: middle;\n",
       "    }\n",
       "\n",
       "    .dataframe tbody tr th {\n",
       "        vertical-align: top;\n",
       "    }\n",
       "\n",
       "    .dataframe thead th {\n",
       "        text-align: right;\n",
       "    }\n",
       "</style>\n",
       "<table border=\"1\" class=\"dataframe\">\n",
       "  <thead>\n",
       "    <tr style=\"text-align: right;\">\n",
       "      <th></th>\n",
       "      <th>country</th>\n",
       "      <th>project_name</th>\n",
       "      <th>project_id</th>\n",
       "      <th>household_name</th>\n",
       "      <th>household_id</th>\n",
       "      <th>person_code</th>\n",
       "      <th>gender</th>\n",
       "      <th>age</th>\n",
       "      <th>relationship_to_head</th>\n",
       "      <th>employed</th>\n",
       "      <th>...</th>\n",
       "      <th>2016-11</th>\n",
       "      <th>2016-12</th>\n",
       "      <th>2017-01</th>\n",
       "      <th>2017-02</th>\n",
       "      <th>2017-03</th>\n",
       "      <th>2017-04</th>\n",
       "      <th>2017-05</th>\n",
       "      <th>2017-06</th>\n",
       "      <th>2017-07</th>\n",
       "      <th>2017-08</th>\n",
       "    </tr>\n",
       "  </thead>\n",
       "  <tbody>\n",
       "    <tr>\n",
       "      <th>0</th>\n",
       "      <td>Bangladesh</td>\n",
       "      <td>Garment Worker Diaries</td>\n",
       "      <td>GWD</td>\n",
       "      <td>GWD-116</td>\n",
       "      <td>116</td>\n",
       "      <td>116.2</td>\n",
       "      <td>female</td>\n",
       "      <td>24</td>\n",
       "      <td>spouse of the head of household</td>\n",
       "      <td>factory worker</td>\n",
       "      <td>...</td>\n",
       "      <td>NaN</td>\n",
       "      <td>100.0:100.0:100.0:100.0:100.0:0.0:0.0:0.0:0.0:0.0</td>\n",
       "      <td>NaN</td>\n",
       "      <td>NaN</td>\n",
       "      <td>NaN</td>\n",
       "      <td>NaN</td>\n",
       "      <td>NaN</td>\n",
       "      <td>NaN</td>\n",
       "      <td>NaN</td>\n",
       "      <td>NaN</td>\n",
       "    </tr>\n",
       "  </tbody>\n",
       "</table>\n",
       "<p>1 rows × 28 columns</p>\n",
       "</div>"
      ],
      "text/plain": [
       "      country            project_name project_id household_name  household_id  \\\n",
       "0  Bangladesh  Garment Worker Diaries        GWD        GWD-116           116   \n",
       "\n",
       "   person_code  gender  age             relationship_to_head        employed  \\\n",
       "0        116.2  female   24  spouse of the head of household  factory worker   \n",
       "\n",
       "    ...   2016-11                                            2016-12 2017-01  \\\n",
       "0   ...       NaN  100.0:100.0:100.0:100.0:100.0:0.0:0.0:0.0:0.0:0.0     NaN   \n",
       "\n",
       "  2017-02 2017-03 2017-04 2017-05 2017-06 2017-07 2017-08  \n",
       "0     NaN     NaN     NaN     NaN     NaN     NaN     NaN  \n",
       "\n",
       "[1 rows x 28 columns]"
      ]
     },
     "execution_count": 11,
     "metadata": {},
     "output_type": "execute_result"
    }
   ],
   "source": [
    "bangladesh.head(1)"
   ]
  },
  {
   "cell_type": "code",
   "execution_count": 12,
   "metadata": {},
   "outputs": [
    {
     "name": "stdout",
     "output_type": "stream",
     "text": [
      "['country', 'project_name', 'project_id', 'household_name', 'household_id', 'person_code', 'gender', 'age', 'relationship_to_head', 'employed', 'status', 'respid', 'cat', 'cat_type', '2015-11']\n"
     ]
    }
   ],
   "source": [
    "print(list(bangladesh.columns)[:15])"
   ]
  },
  {
   "cell_type": "code",
   "execution_count": 13,
   "metadata": {},
   "outputs": [
    {
     "data": {
      "text/plain": [
       "'2017-08'"
      ]
     },
     "execution_count": 13,
     "metadata": {},
     "output_type": "execute_result"
    }
   ],
   "source": [
    "list(bangladesh.columns)[-1]"
   ]
  },
  {
   "cell_type": "code",
   "execution_count": 14,
   "metadata": {},
   "outputs": [],
   "source": [
    "bangladesh.rename(columns={'cat_type': 'category_type', 'cat': 'category_name'}, inplace=True)\n",
    "bangladesh['project_name'] = 'Bangladesh Financial Diaries'\n",
    "bangladesh_hh = bangladesh.drop(columns=['person_code', 'gender', 'age', \n",
    "                                         'relationship_to_head', 'employed', 'status',\n",
    "                                         'country', 'project_id', 'household_id', 'respid'\n",
    "                                        ]\n",
    "                               )\n",
    "bangladesh_mem = bangladesh.drop(columns=['country', 'project_id', 'household_id', 'respid'])"
   ]
  },
  {
   "cell_type": "markdown",
   "metadata": {},
   "source": [
    "### Cambodia"
   ]
  },
  {
   "cell_type": "code",
   "execution_count": 15,
   "metadata": {},
   "outputs": [],
   "source": [
    "cambodia = pd.read_csv('/Users/ikersanchez/Vizzuality/PROIEKTUAK/i2i/Data/Financial_Diaries/MFO_Diaries_Data/Cambodia.csv')\n",
    "cambodia.drop(columns='Unnamed: 0', inplace=True)"
   ]
  },
  {
   "cell_type": "code",
   "execution_count": 16,
   "metadata": {},
   "outputs": [
    {
     "data": {
      "text/html": [
       "<div>\n",
       "<style scoped>\n",
       "    .dataframe tbody tr th:only-of-type {\n",
       "        vertical-align: middle;\n",
       "    }\n",
       "\n",
       "    .dataframe tbody tr th {\n",
       "        vertical-align: top;\n",
       "    }\n",
       "\n",
       "    .dataframe thead th {\n",
       "        text-align: right;\n",
       "    }\n",
       "</style>\n",
       "<table border=\"1\" class=\"dataframe\">\n",
       "  <thead>\n",
       "    <tr style=\"text-align: right;\">\n",
       "      <th></th>\n",
       "      <th>country</th>\n",
       "      <th>project_name</th>\n",
       "      <th>project_id</th>\n",
       "      <th>household_name</th>\n",
       "      <th>household_id</th>\n",
       "      <th>person_code</th>\n",
       "      <th>gender</th>\n",
       "      <th>age</th>\n",
       "      <th>relationship_to_head</th>\n",
       "      <th>employed</th>\n",
       "      <th>...</th>\n",
       "      <th>2016-09</th>\n",
       "      <th>2016-10</th>\n",
       "      <th>2016-11</th>\n",
       "      <th>2016-12</th>\n",
       "      <th>2017-01</th>\n",
       "      <th>2017-02</th>\n",
       "      <th>2017-03</th>\n",
       "      <th>2017-04</th>\n",
       "      <th>2017-05</th>\n",
       "      <th>2017-06</th>\n",
       "    </tr>\n",
       "  </thead>\n",
       "  <tbody>\n",
       "    <tr>\n",
       "      <th>0</th>\n",
       "      <td>Cambodia</td>\n",
       "      <td>Garment Worker Diaries</td>\n",
       "      <td>GWD</td>\n",
       "      <td>GWD-128</td>\n",
       "      <td>128</td>\n",
       "      <td>128.2</td>\n",
       "      <td>female</td>\n",
       "      <td>23</td>\n",
       "      <td>head of household</td>\n",
       "      <td>factory worker</td>\n",
       "      <td>...</td>\n",
       "      <td>-400000.0:400000.0:400000.0:400000.0:800000.0:...</td>\n",
       "      <td>-200000.0:200000.0:200000.0:200000.0:1000000.0...</td>\n",
       "      <td>NaN</td>\n",
       "      <td>-400000.0:400000.0:400000.0:400000.0:1400000.0...</td>\n",
       "      <td>-520000.0:260000.0:400000.0:120000.0:1920000.0...</td>\n",
       "      <td>-520000.0:520000.0:520000.0:520000.0:2440000.0...</td>\n",
       "      <td>-400000.0:400000.0:400000.0:400000.0:2840000.0...</td>\n",
       "      <td>-600000.0:600000.0:600000.0:600000.0:3440000.0...</td>\n",
       "      <td>-480000.0:480000.0:480000.0:480000.0:3920000.0...</td>\n",
       "      <td>-700000.0:350000.0:600000.0:100000.0:4620000.0...</td>\n",
       "    </tr>\n",
       "  </tbody>\n",
       "</table>\n",
       "<p>1 rows × 26 columns</p>\n",
       "</div>"
      ],
      "text/plain": [
       "    country            project_name project_id household_name  household_id  \\\n",
       "0  Cambodia  Garment Worker Diaries        GWD        GWD-128           128   \n",
       "\n",
       "   person_code  gender  age relationship_to_head        employed  \\\n",
       "0        128.2  female   23    head of household  factory worker   \n",
       "\n",
       "                         ...                          \\\n",
       "0                        ...                           \n",
       "\n",
       "                                             2016-09  \\\n",
       "0  -400000.0:400000.0:400000.0:400000.0:800000.0:...   \n",
       "\n",
       "                                             2016-10 2016-11  \\\n",
       "0  -200000.0:200000.0:200000.0:200000.0:1000000.0...     NaN   \n",
       "\n",
       "                                             2016-12  \\\n",
       "0  -400000.0:400000.0:400000.0:400000.0:1400000.0...   \n",
       "\n",
       "                                             2017-01  \\\n",
       "0  -520000.0:260000.0:400000.0:120000.0:1920000.0...   \n",
       "\n",
       "                                             2017-02  \\\n",
       "0  -520000.0:520000.0:520000.0:520000.0:2440000.0...   \n",
       "\n",
       "                                             2017-03  \\\n",
       "0  -400000.0:400000.0:400000.0:400000.0:2840000.0...   \n",
       "\n",
       "                                             2017-04  \\\n",
       "0  -600000.0:600000.0:600000.0:600000.0:3440000.0...   \n",
       "\n",
       "                                             2017-05  \\\n",
       "0  -480000.0:480000.0:480000.0:480000.0:3920000.0...   \n",
       "\n",
       "                                             2017-06  \n",
       "0  -700000.0:350000.0:600000.0:100000.0:4620000.0...  \n",
       "\n",
       "[1 rows x 26 columns]"
      ]
     },
     "execution_count": 16,
     "metadata": {},
     "output_type": "execute_result"
    }
   ],
   "source": [
    "cambodia.head(1)"
   ]
  },
  {
   "cell_type": "code",
   "execution_count": 17,
   "metadata": {},
   "outputs": [
    {
     "name": "stdout",
     "output_type": "stream",
     "text": [
      "['country', 'project_name', 'project_id', 'household_name', 'household_id', 'person_code', 'gender', 'age', 'relationship_to_head', 'employed', 'status', 'respid', 'cat', 'cat_type', '2016-07']\n"
     ]
    }
   ],
   "source": [
    "print(list(cambodia.columns)[:15])"
   ]
  },
  {
   "cell_type": "code",
   "execution_count": 18,
   "metadata": {},
   "outputs": [
    {
     "data": {
      "text/plain": [
       "array(['Garment Worker Diaries'], dtype=object)"
      ]
     },
     "execution_count": 18,
     "metadata": {},
     "output_type": "execute_result"
    }
   ],
   "source": [
    "cambodia['project_name'].unique()"
   ]
  },
  {
   "cell_type": "code",
   "execution_count": 19,
   "metadata": {},
   "outputs": [
    {
     "data": {
      "text/plain": [
       "'2017-06'"
      ]
     },
     "execution_count": 19,
     "metadata": {},
     "output_type": "execute_result"
    }
   ],
   "source": [
    "list(cambodia.columns)[-1]"
   ]
  },
  {
   "cell_type": "code",
   "execution_count": 20,
   "metadata": {},
   "outputs": [],
   "source": [
    "cambodia.rename(columns={'cat_type': 'category_type', 'cat': 'category_name'}, inplace=True)\n",
    "cambodia['project_name'] = 'Cambodia Financial Diaries'\n",
    "cambodia_hh = cambodia.drop(columns=['person_code', 'gender', 'age', \n",
    "                                         'relationship_to_head', 'employed', 'status',\n",
    "                                         'country', 'project_id', 'household_id', 'respid'\n",
    "                                        ]\n",
    "                               )\n",
    "cambodia_mem = cambodia.drop(columns=['country', 'project_id', 'household_id', 'respid'])"
   ]
  },
  {
   "cell_type": "markdown",
   "metadata": {},
   "source": [
    "### El Salvador"
   ]
  },
  {
   "cell_type": "code",
   "execution_count": 21,
   "metadata": {},
   "outputs": [],
   "source": [
    "salvador = pd.read_csv('/Users/ikersanchez/Vizzuality/PROIEKTUAK/i2i/Data/Financial_Diaries/MFO_Diaries_Data/El_Salvador.csv')\n",
    "salvador.drop(columns='Unnamed: 0', inplace=True)"
   ]
  },
  {
   "cell_type": "code",
   "execution_count": 22,
   "metadata": {},
   "outputs": [
    {
     "data": {
      "text/html": [
       "<div>\n",
       "<style scoped>\n",
       "    .dataframe tbody tr th:only-of-type {\n",
       "        vertical-align: middle;\n",
       "    }\n",
       "\n",
       "    .dataframe tbody tr th {\n",
       "        vertical-align: top;\n",
       "    }\n",
       "\n",
       "    .dataframe thead th {\n",
       "        text-align: right;\n",
       "    }\n",
       "</style>\n",
       "<table border=\"1\" class=\"dataframe\">\n",
       "  <thead>\n",
       "    <tr style=\"text-align: right;\">\n",
       "      <th></th>\n",
       "      <th>country</th>\n",
       "      <th>project_name</th>\n",
       "      <th>project_id</th>\n",
       "      <th>household_name</th>\n",
       "      <th>household_id</th>\n",
       "      <th>person_code</th>\n",
       "      <th>gender</th>\n",
       "      <th>age</th>\n",
       "      <th>relationship_to_head</th>\n",
       "      <th>employed</th>\n",
       "      <th>...</th>\n",
       "      <th>2015-07</th>\n",
       "      <th>2015-08</th>\n",
       "      <th>2015-09</th>\n",
       "      <th>2015-10</th>\n",
       "      <th>2015-11</th>\n",
       "      <th>2015-12</th>\n",
       "      <th>2016-01</th>\n",
       "      <th>2016-02</th>\n",
       "      <th>2016-03</th>\n",
       "      <th>2016-04</th>\n",
       "    </tr>\n",
       "  </thead>\n",
       "  <tbody>\n",
       "    <tr>\n",
       "      <th>0</th>\n",
       "      <td>El Salvador</td>\n",
       "      <td>Savings Group Diaries</td>\n",
       "      <td>SGD</td>\n",
       "      <td>SGD-101</td>\n",
       "      <td>101</td>\n",
       "      <td>101.1</td>\n",
       "      <td>2</td>\n",
       "      <td>23</td>\n",
       "      <td>head of household</td>\n",
       "      <td>20.0</td>\n",
       "      <td>...</td>\n",
       "      <td>NaN</td>\n",
       "      <td>NaN</td>\n",
       "      <td>NaN</td>\n",
       "      <td>NaN</td>\n",
       "      <td>NaN</td>\n",
       "      <td>NaN</td>\n",
       "      <td>NaN</td>\n",
       "      <td>NaN</td>\n",
       "      <td>NaN</td>\n",
       "      <td>NaN</td>\n",
       "    </tr>\n",
       "  </tbody>\n",
       "</table>\n",
       "<p>1 rows × 27 columns</p>\n",
       "</div>"
      ],
      "text/plain": [
       "       country           project_name project_id household_name  household_id  \\\n",
       "0  El Salvador  Savings Group Diaries        SGD        SGD-101           101   \n",
       "\n",
       "   person_code  gender  age relationship_to_head  employed   ...   2015-07  \\\n",
       "0        101.1       2   23    head of household      20.0   ...       NaN   \n",
       "\n",
       "   2015-08 2015-09 2015-10 2015-11 2015-12 2016-01 2016-02 2016-03 2016-04  \n",
       "0      NaN     NaN     NaN     NaN     NaN     NaN     NaN     NaN     NaN  \n",
       "\n",
       "[1 rows x 27 columns]"
      ]
     },
     "execution_count": 22,
     "metadata": {},
     "output_type": "execute_result"
    }
   ],
   "source": [
    "salvador.head(1)"
   ]
  },
  {
   "cell_type": "code",
   "execution_count": 23,
   "metadata": {},
   "outputs": [
    {
     "name": "stdout",
     "output_type": "stream",
     "text": [
      "['country', 'project_name', 'project_id', 'household_name', 'household_id', 'person_code', 'gender', 'age', 'relationship_to_head', 'employed', 'status', 'respid', 'cat', 'cat_type', '2015-04']\n"
     ]
    }
   ],
   "source": [
    "print(list(salvador.columns)[:15])"
   ]
  },
  {
   "cell_type": "code",
   "execution_count": 24,
   "metadata": {},
   "outputs": [
    {
     "data": {
      "text/plain": [
       "'2016-04'"
      ]
     },
     "execution_count": 24,
     "metadata": {},
     "output_type": "execute_result"
    }
   ],
   "source": [
    "list(salvador.columns)[-1]"
   ]
  },
  {
   "cell_type": "markdown",
   "metadata": {},
   "source": [
    "Change gender categories"
   ]
  },
  {
   "cell_type": "code",
   "execution_count": 29,
   "metadata": {},
   "outputs": [],
   "source": [
    "salvador.loc[salvador['gender'] == 1, 'gender'] = 'male'\n",
    "salvador.loc[salvador['gender'] == 2, 'gender'] = 'female'"
   ]
  },
  {
   "cell_type": "code",
   "execution_count": 31,
   "metadata": {},
   "outputs": [],
   "source": [
    "salvador.rename(columns={'cat_type': 'category_type', 'cat': 'category_name'}, inplace=True)\n",
    "salvador['project_name'] = 'El Salvador Financial Diaries'\n",
    "salvador_hh = salvador.drop(columns=['person_code', 'gender', 'age', \n",
    "                                         'relationship_to_head', 'employed', 'status',\n",
    "                                         'country', 'project_id', 'household_id', 'respid'\n",
    "                                        ]\n",
    "                               )\n",
    "salvador_mem = salvador.drop(columns=['country', 'project_id', 'household_id', 'respid'])"
   ]
  },
  {
   "cell_type": "markdown",
   "metadata": {},
   "source": [
    "### Guatemala"
   ]
  },
  {
   "cell_type": "code",
   "execution_count": 32,
   "metadata": {},
   "outputs": [],
   "source": [
    "guatemala = pd.read_csv('/Users/ikersanchez/Vizzuality/PROIEKTUAK/i2i/Data/Financial_Diaries/MFO_Diaries_Data/Guatemala.csv')\n",
    "guatemala.drop(columns='Unnamed: 0', inplace=True)"
   ]
  },
  {
   "cell_type": "code",
   "execution_count": 33,
   "metadata": {},
   "outputs": [
    {
     "data": {
      "text/html": [
       "<div>\n",
       "<style scoped>\n",
       "    .dataframe tbody tr th:only-of-type {\n",
       "        vertical-align: middle;\n",
       "    }\n",
       "\n",
       "    .dataframe tbody tr th {\n",
       "        vertical-align: top;\n",
       "    }\n",
       "\n",
       "    .dataframe thead th {\n",
       "        text-align: right;\n",
       "    }\n",
       "</style>\n",
       "<table border=\"1\" class=\"dataframe\">\n",
       "  <thead>\n",
       "    <tr style=\"text-align: right;\">\n",
       "      <th></th>\n",
       "      <th>country</th>\n",
       "      <th>project_name</th>\n",
       "      <th>project_id</th>\n",
       "      <th>household_name</th>\n",
       "      <th>household_id</th>\n",
       "      <th>person_code</th>\n",
       "      <th>gender</th>\n",
       "      <th>age</th>\n",
       "      <th>relationship_to_head</th>\n",
       "      <th>employed</th>\n",
       "      <th>...</th>\n",
       "      <th>2015-08</th>\n",
       "      <th>2015-09</th>\n",
       "      <th>2015-10</th>\n",
       "      <th>2015-11</th>\n",
       "      <th>2015-12</th>\n",
       "      <th>2016-01</th>\n",
       "      <th>2016-02</th>\n",
       "      <th>2016-03</th>\n",
       "      <th>2016-04</th>\n",
       "      <th>2016-05</th>\n",
       "    </tr>\n",
       "  </thead>\n",
       "  <tbody>\n",
       "    <tr>\n",
       "      <th>0</th>\n",
       "      <td>Guatemala</td>\n",
       "      <td>Savings Group Diaries</td>\n",
       "      <td>SGD</td>\n",
       "      <td>SGD-401</td>\n",
       "      <td>401</td>\n",
       "      <td>401.1</td>\n",
       "      <td>2</td>\n",
       "      <td>32</td>\n",
       "      <td>spouse</td>\n",
       "      <td>21.0</td>\n",
       "      <td>...</td>\n",
       "      <td>NaN</td>\n",
       "      <td>NaN</td>\n",
       "      <td>NaN</td>\n",
       "      <td>NaN</td>\n",
       "      <td>-50.0:50.0:50.0:50.0:50.0:0.0:0.0:0.0:0.0:0.0</td>\n",
       "      <td>NaN</td>\n",
       "      <td>NaN</td>\n",
       "      <td>NaN</td>\n",
       "      <td>NaN</td>\n",
       "      <td>NaN</td>\n",
       "    </tr>\n",
       "  </tbody>\n",
       "</table>\n",
       "<p>1 rows × 27 columns</p>\n",
       "</div>"
      ],
      "text/plain": [
       "     country           project_name project_id household_name  household_id  \\\n",
       "0  Guatemala  Savings Group Diaries        SGD        SGD-401           401   \n",
       "\n",
       "   person_code  gender  age relationship_to_head  employed   ...   2015-08  \\\n",
       "0        401.1       2   32               spouse      21.0   ...       NaN   \n",
       "\n",
       "   2015-09 2015-10 2015-11                                        2015-12  \\\n",
       "0      NaN     NaN     NaN  -50.0:50.0:50.0:50.0:50.0:0.0:0.0:0.0:0.0:0.0   \n",
       "\n",
       "  2016-01 2016-02 2016-03 2016-04 2016-05  \n",
       "0     NaN     NaN     NaN     NaN     NaN  \n",
       "\n",
       "[1 rows x 27 columns]"
      ]
     },
     "execution_count": 33,
     "metadata": {},
     "output_type": "execute_result"
    }
   ],
   "source": [
    "guatemala.head(1)"
   ]
  },
  {
   "cell_type": "code",
   "execution_count": 34,
   "metadata": {},
   "outputs": [
    {
     "name": "stdout",
     "output_type": "stream",
     "text": [
      "['country', 'project_name', 'project_id', 'household_name', 'household_id', 'person_code', 'gender', 'age', 'relationship_to_head', 'employed', 'status', 'respid', 'cat', 'cat_type', '2015-05']\n"
     ]
    }
   ],
   "source": [
    "print(list(guatemala.columns)[:15])"
   ]
  },
  {
   "cell_type": "code",
   "execution_count": 35,
   "metadata": {},
   "outputs": [
    {
     "data": {
      "text/plain": [
       "'2016-05'"
      ]
     },
     "execution_count": 35,
     "metadata": {},
     "output_type": "execute_result"
    }
   ],
   "source": [
    "list(guatemala.columns)[-1]"
   ]
  },
  {
   "cell_type": "markdown",
   "metadata": {},
   "source": [
    "Change gender categories"
   ]
  },
  {
   "cell_type": "code",
   "execution_count": 37,
   "metadata": {},
   "outputs": [],
   "source": [
    "guatemala.loc[guatemala['gender'] == 1, 'gender'] = 'male'\n",
    "guatemala.loc[guatemala['gender'] == 2, 'gender'] = 'female'"
   ]
  },
  {
   "cell_type": "code",
   "execution_count": 39,
   "metadata": {},
   "outputs": [],
   "source": [
    "guatemala.rename(columns={'cat_type': 'category_type', 'cat': 'category_name'}, inplace=True)\n",
    "guatemala['project_name'] = 'Guatemala Financial Diaries'\n",
    "guatemala_hh = guatemala.drop(columns=['person_code', 'gender', 'age', \n",
    "                                         'relationship_to_head', 'employed', 'status',\n",
    "                                         'country', 'project_id', 'household_id', 'respid'\n",
    "                                        ]\n",
    "                               )\n",
    "guatemala_mem = guatemala.drop(columns=['country', 'project_id', 'household_id', 'respid'])"
   ]
  },
  {
   "cell_type": "markdown",
   "metadata": {},
   "source": [
    "## New tables"
   ]
  },
  {
   "cell_type": "code",
   "execution_count": 40,
   "metadata": {},
   "outputs": [],
   "source": [
    "hh_dic = {'old' : households,\n",
    "          'bangladesh': bangladesh_hh,\n",
    "          'cambodia': cambodia_hh,\n",
    "          'salvador': salvador_hh,\n",
    "          'guatemala': guatemala_hh\n",
    "         }\n",
    "mem_dic = {'old' : individuals,\n",
    "           'bangladesh': bangladesh_mem,\n",
    "           'cambodia': cambodia_mem,\n",
    "           'salvador': salvador_mem,\n",
    "           'guatemala': guatemala_mem\n",
    "          }"
   ]
  },
  {
   "cell_type": "code",
   "execution_count": 41,
   "metadata": {},
   "outputs": [],
   "source": [
    "hh_columns = list(households.columns)[:8]\n",
    "mem_columns = list(individuals.columns)[:12]\n",
    "years = ['2011', '2012', '2013', '2014', '2015', '2016', '2017']\n",
    "months = ['01','02','03','04','05','06','07','08','09','10','11','12']\n",
    "\n",
    "n = 0\n",
    "for year in years:\n",
    "    for month in months:\n",
    "        if n > 6:\n",
    "            hh_columns.append(year+'-'+month)\n",
    "            mem_columns.append(year+'-'+month)\n",
    "        n += 1\n",
    "        \n",
    "hh_new =  pd.DataFrame(columns=hh_columns)\n",
    "mem_new = pd.DataFrame(columns=mem_columns)\n",
    "\n",
    "for df_hh in hh_dic.values():\n",
    "    hh_iter =  pd.DataFrame(columns=hh_columns)\n",
    "    for column in list(df_hh.columns):\n",
    "        hh_iter[column] = df_hh[column]\n",
    "        \n",
    "    hh_new = pd.concat([hh_new, hh_iter])\n",
    "    \n",
    "for df_mem in mem_dic.values():\n",
    "    mem_iter =  pd.DataFrame(columns=mem_columns)\n",
    "    for column in list(df_mem.columns):\n",
    "        mem_iter[column] = df_mem[column]\n",
    "        \n",
    "    mem_new = pd.concat([mem_new, mem_iter])"
   ]
  },
  {
   "cell_type": "code",
   "execution_count": 44,
   "metadata": {},
   "outputs": [],
   "source": [
    "mem_new.to_csv('/Users/ikersanchez/Vizzuality/PROIEKTUAK/i2i/Data/Financial_Diaries/CSV_new/_temp_results_mem.csv')\n",
    "hh_new.to_csv('/Users/ikersanchez/Vizzuality/PROIEKTUAK/i2i/Data/Financial_Diaries/CSV_new/_temp_results_hh.csv')"
   ]
  }
 ],
 "metadata": {
  "kernelspec": {
   "display_name": "Python 3",
   "language": "python",
   "name": "python3"
  },
  "language_info": {
   "codemirror_mode": {
    "name": "ipython",
    "version": 3
   },
   "file_extension": ".py",
   "mimetype": "text/x-python",
   "name": "python",
   "nbconvert_exporter": "python",
   "pygments_lexer": "ipython3",
   "version": "3.6.8"
  }
 },
 "nbformat": 4,
 "nbformat_minor": 2
}
