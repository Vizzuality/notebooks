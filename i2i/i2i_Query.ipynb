{
 "cells": [
  {
   "cell_type": "code",
   "execution_count": 2,
   "metadata": {},
   "outputs": [],
   "source": [
    "import pandas as pd\n",
    "import json\n",
    "import requests\n",
    "from pprint import pprint\n",
    "from pandas.io.json import json_normalize\n",
    "import matplotlib.pyplot as plt\n",
    "%matplotlib inline"
   ]
  },
  {
   "cell_type": "markdown",
   "metadata": {},
   "source": [
    "***"
   ]
  },
  {
   "cell_type": "markdown",
   "metadata": {},
   "source": [
    "# FSP maps"
   ]
  },
  {
   "cell_type": "markdown",
   "metadata": {},
   "source": [
    "**Type_id, colors, and number of points**"
   ]
  },
  {
   "cell_type": "markdown",
   "metadata": {},
   "source": [
    "All types"
   ]
  },
  {
   "cell_type": "markdown",
   "metadata": {},
   "source": [
    "```sql\n",
    "SELECT iso, sector, type, type_id, color, count(*) as number_of_points\n",
    "FROM fsp_maps\n",
    "GROUP BY iso, sector, type, type_id, color\n",
    "ORDER BY iso, sector, type, type_id, color\n",
    "```"
   ]
  },
  {
   "cell_type": "markdown",
   "metadata": {},
   "source": [
    "Selected types"
   ]
  },
  {
   "cell_type": "markdown",
   "metadata": {},
   "source": [
    "```sql\n",
    "SELECT iso, sector, type, type_id, color, count(*) as number_of_points\n",
    "FROM fsp_maps\n",
    "WHERE iso = 'KEN' and sector = 'Agriculture' and type in ('Agro-Dealers', 'Market Locations')\n",
    "GROUP BY iso, sector, type, type_id, color\n",
    "ORDER BY iso, sector, type, type_id, color\n",
    "```"
   ]
  },
  {
   "cell_type": "markdown",
   "metadata": {},
   "source": [
    "***"
   ]
  },
  {
   "cell_type": "markdown",
   "metadata": {},
   "source": [
    "# FSP layers"
   ]
  },
  {
   "cell_type": "markdown",
   "metadata": {},
   "source": [
    "## Points"
   ]
  },
  {
   "cell_type": "markdown",
   "metadata": {},
   "source": [
    "**Query**"
   ]
  },
  {
   "cell_type": "markdown",
   "metadata": {},
   "source": [
    "```sql\n",
    "SELECT the_geom, the_geom_webmercator, iso, sector, type FROM fsp_maps\n",
    "WHERE type_id in (40,51,58,62,67)\n",
    "```"
   ]
  },
  {
   "cell_type": "markdown",
   "metadata": {},
   "source": [
    "**CSS**"
   ]
  },
  {
   "cell_type": "markdown",
   "metadata": {},
   "source": [
    "```css\n",
    "#layer {\n",
    "  marker-width: 7;\n",
    "  marker-fill: #EE4D5A;\n",
    "  marker-fill-opacity: 0.9;\n",
    "  marker-line-color: #FFFFFF;\n",
    "  marker-line-width: 1;\n",
    "  marker-line-opacity: 1;\n",
    "  marker-placement: point;\n",
    "  marker-type: ellipse;\n",
    "  marker-allow-overlap: true;\n",
    "}\n",
    "```"
   ]
  },
  {
   "cell_type": "markdown",
   "metadata": {},
   "source": [
    "## Heat map"
   ]
  },
  {
   "cell_type": "markdown",
   "metadata": {},
   "source": [
    "**Query**"
   ]
  },
  {
   "cell_type": "markdown",
   "metadata": {},
   "source": [
    "```sql\n",
    "SELECT the_geom,the_geom_webmercator FROM fsp_maps WHERE type_id = 40\n",
    "```"
   ]
  },
  {
   "cell_type": "markdown",
   "metadata": {},
   "source": [
    "**CSS**"
   ]
  },
  {
   "cell_type": "markdown",
   "metadata": {},
   "source": [
    "```css\n",
    "#layer {\n",
    "  marker-width:10; \n",
    "  image-filters:colorize-alpha(blue, cyan, green, yellow , orange, red);\n",
    "  marker-opacity:0.1;\n",
    "  marker-multi-policy: largest; \n",
    "  marker-line-opacity:0;\n",
    "  marker-allow-overlap: true;\n",
    "  marker-type: ellipse; \n",
    "  marker-placement: point;\n",
    "}\n",
    "```"
   ]
  },
  {
   "cell_type": "markdown",
   "metadata": {},
   "source": [
    "## Voronoid"
   ]
  },
  {
   "cell_type": "markdown",
   "metadata": {},
   "source": [
    "**Add type_id column**"
   ]
  },
  {
   "cell_type": "markdown",
   "metadata": {},
   "source": [
    "```sql\n",
    "SELECT v.*, m.type_id\n",
    "FROM fsp_voronoid as v\n",
    "LEFT JOIN fsp_maps as m\n",
    "ON v.id = m.id \n",
    "ORDER BY v.id\n",
    "```"
   ]
  },
  {
   "cell_type": "markdown",
   "metadata": {},
   "source": [
    "**Add area_km2 column**"
   ]
  },
  {
   "cell_type": "markdown",
   "metadata": {},
   "source": [
    "```sql\n",
    "SELECT *, ST_Area(ST_Transform(the_geom,26986))/1E6 as area_km2 FROM fsp_voronoid\n",
    "```"
   ]
  },
  {
   "cell_type": "markdown",
   "metadata": {},
   "source": [
    "**Query**"
   ]
  },
  {
   "cell_type": "markdown",
   "metadata": {},
   "source": [
    "```sql \n",
    "SELECT the_geom , the_geom_webmercator, area_km2 \n",
    "FROM fsp_voronoid\n",
    "WHERE type_id = 40\n",
    "```"
   ]
  },
  {
   "cell_type": "markdown",
   "metadata": {},
   "source": [
    "**CSS**"
   ]
  },
  {
   "cell_type": "markdown",
   "metadata": {},
   "source": [
    "```css\n",
    "#layer {\n",
    "  polygon-fill: ramp([area_km2], (#f6d2a9, #f3aa84, #ea8171, #d55d6a, #b13f64), jenks);\n",
    "  polygon-opacity: 0.7; \n",
    "  line-width: 1;\n",
    "  line-color: ramp([area_km2], (#f6d2a9, #f3aa84, #ea8171, #d55d6a, #b13f64), jenks);\n",
    "  line-opacity: 1;\n",
    "}\n",
    "```"
   ]
  },
  {
   "cell_type": "markdown",
   "metadata": {},
   "source": [
    "*** "
   ]
  },
  {
   "cell_type": "markdown",
   "metadata": {},
   "source": [
    "# Contextual layers"
   ]
  },
  {
   "cell_type": "markdown",
   "metadata": {},
   "source": [
    "**Layers' name**"
   ]
  },
  {
   "cell_type": "markdown",
   "metadata": {},
   "source": [
    "```sql\n",
    "SELECT layer FROM layer_spec\n",
    "```"
   ]
  },
  {
   "cell_type": "markdown",
   "metadata": {},
   "source": [
    "## From Carto "
   ]
  },
  {
   "cell_type": "markdown",
   "metadata": {},
   "source": [
    "**Query and CSS**"
   ]
  },
  {
   "cell_type": "markdown",
   "metadata": {},
   "source": [
    "```sql\n",
    "SELECT queries, css FROM layer_spec WHERE layer = 'AidData'\n",
    "```"
   ]
  },
  {
   "cell_type": "markdown",
   "metadata": {},
   "source": [
    "## From RW API"
   ]
  },
  {
   "cell_type": "markdown",
   "metadata": {},
   "source": [
    "**Layer id**"
   ]
  },
  {
   "cell_type": "markdown",
   "metadata": {},
   "source": [
    "```sql\n",
    "SELECT layer_id FROM layer_spec WHERE layer = 'Accessibility to Cities'\n",
    "```"
   ]
  },
  {
   "cell_type": "markdown",
   "metadata": {},
   "source": [
    "***"
   ]
  },
  {
   "cell_type": "markdown",
   "metadata": {},
   "source": [
    "# FSP maps analysis"
   ]
  },
  {
   "cell_type": "markdown",
   "metadata": {},
   "source": [
    "## Country information\n",
    "**Total, urban, and rural population, their percentages, and population within 5 km of all access points**"
   ]
  },
  {
   "cell_type": "markdown",
   "metadata": {},
   "source": [
    "```sql\n",
    "WITH b as (SELECT the_geom FROM world_borders_hd as b \n",
    "            WHERE b.iso_a3 = 'KEN'),\n",
    "     u as (SELECT u.the_geom FROM urban_areas as u\n",
    "             JOIN world_borders_hd as b\n",
    "               ON ST_Intersects(b.the_geom, u.the_geom)\n",
    "            WHERE b.iso_a3 = 'KEN')\n",
    "\n",
    "SELECT tot.pop as total_population, urb.pop as urban_population, \n",
    "  round(((urb.pop/tot.pop)*100)::numeric, 1) as urban_population_percentage, (tot.pop - urb.pop) as \n",
    "  rural_population, round((((tot.pop - urb.pop)/tot.pop)*100)::numeric,1) as   \n",
    "  rural_population_percentage, round(pop_km.tot_pop_km::numeric) as population_5km,\n",
    "  round(((round(pop_km.tot_pop_km::numeric)/tot.pop)*100)::numeric, 1) as population_5km_percentage,\n",
    "  2015 as year\n",
    "FROM (SELECT round((ST_SummaryStatsAgg(ST_Clip(the_raster_webmercator, b.the_geom),1,True)).sum) as pop\n",
    "        FROM population_count_2015, b \n",
    "       WHERE ST_Intersects(the_raster_webmercator, b.the_geom)\n",
    "      ) as tot,\n",
    "     (SELECT round((ST_SummaryStatsAgg(ST_Clip(the_raster_webmercator, u.the_geom),1,True)).sum) as pop\n",
    "        FROM population_count_2015, u \n",
    "       WHERE ST_Intersects(the_raster_webmercator, u.the_geom)\n",
    "      ) as urb,\n",
    "     (SELECT total_population as tot_pop_km\n",
    "        FROM population_within_5km \n",
    "       WHERE iso = 'KEN'\n",
    "      ) as pop_km\n",
    "```"
   ]
  },
  {
   "cell_type": "markdown",
   "metadata": {},
   "source": [
    "*widget_config*"
   ]
  },
  {
   "cell_type": "code",
   "execution_count": 6,
   "metadata": {},
   "outputs": [
    {
     "data": {
      "text/plain": [
       "'{\"widgetConfig\": {\"sql_config\": [{\"key\": \"where1\", \"key_params\": [{\"key\": \"iso_a3\", \"required\": true}]}, {\"key\": \"where2\", \"key_params\": [{\"key\": \"iso\", \"required\": true}]}], \"sql_query\": \"WITH b as (SELECT the_geom FROM world_borders_hd as b {{where1}}), u as (SELECT u.the_geom FROM urban_areas as u JOIN world_borders_hd as b ON ST_Intersects(b.the_geom, u.the_geom) {{where1}}) SELECT tot.pop as total_population, urb.pop as urban_population, round(((urb.pop/tot.pop)*100)::numeric, 1) as urban_population_percentage, (tot.pop - urb.pop) as rural_population, round((((tot.pop - urb.pop)/tot.pop)*100)::numeric,1) as rural_population_percentage, round(pop_km.tot_pop_km::numeric) as population_5km, round(((round(pop_km.tot_pop_km::numeric)/tot.pop)*100)::numeric, 1) as population_5km_percentage, 2015 as year FROM (SELECT round((ST_SummaryStatsAgg(ST_Clip(the_raster_webmercator, b.the_geom),1,True)).sum) as pop FROM population_count_2015, b WHERE ST_Intersects(the_raster_webmercator, b.the_geom)) as tot, (SELECT round((ST_SummaryStatsAgg(ST_Clip(the_raster_webmercator, u.the_geom),1,True)).sum) as pop FROM population_count_2015, u WHERE ST_Intersects(the_raster_webmercator, u.the_geom)) as urb, (SELECT total_population as tot_pop_km FROM population_within_5km {{where2}}) as pop_km\", \"type\": \"text\"}}'"
      ]
     },
     "execution_count": 6,
     "metadata": {},
     "output_type": "execute_result"
    }
   ],
   "source": [
    "json.dumps(\n",
    "{\n",
    "    'widgetConfig': \n",
    "    {\n",
    "        'params_config': [\n",
    "            {\n",
    "                'required': True,\n",
    "                'key': 'account'\n",
    "            },\n",
    "            {\n",
    "                'required': True,\n",
    "                'key': 'iso'\n",
    "            }\n",
    "        ],\n",
    "        'sql_query': 'https://{{account}}.carto.com/api/v2/sql?q=WITH b as (SELECT the_geom FROM world_borders_hd as b WHERE b.iso_a3 = {{iso}}), u as (SELECT u.the_geom FROM urban_areas as u JOIN world_borders_hd as b ON ST_Intersects(b.the_geom, u.the_geom) WHERE b.iso_a3 = {{iso}}) SELECT tot.pop as total_population, urb.pop as urban_population, round(((urb.pop/tot.pop)*100)::numeric, 1) as urban_population_percentage, (tot.pop - urb.pop) as rural_population, round((((tot.pop - urb.pop)/tot.pop)*100)::numeric,1) as rural_population_percentage, round(pop_km.tot_pop_km::numeric) as population_5km, round(((round(pop_km.tot_pop_km::numeric)/tot.pop)*100)::numeric, 1) as population_5km_percentage, 2015 as year FROM (SELECT round((ST_SummaryStatsAgg(ST_Clip(the_raster_webmercator, b.the_geom),1,True)).sum) as pop FROM population_count_2015, b WHERE ST_Intersects(the_raster_webmercator, b.the_geom)) as tot, (SELECT round((ST_SummaryStatsAgg(ST_Clip(the_raster_webmercator, u.the_geom),1,True)).sum) as pop FROM population_count_2015, u WHERE ST_Intersects(the_raster_webmercator, u.the_geom)) as urb, (SELECT total_population as tot_pop_km FROM population_within_5km WHERE iso = {{iso}}) as pop_km',\n",
    "      \n",
    "        'type': 'text'\n",
    "    }\n",
    "}\n",
    ")"
   ]
  },
  {
   "cell_type": "markdown",
   "metadata": {},
   "source": [
    "## Nearby Polygon\n",
    "**We use this [API](https://openrouteservice.org/documentation/#/reference/isochrones/isochrones/isochrones-service) to get the geometries**"
   ]
  },
  {
   "cell_type": "markdown",
   "metadata": {},
   "source": [
    "Example url:\n",
    "```html\n",
    "https://api.openrouteservice.org/isochrones?api_key=your-api-key&locations=8.34234%2C48.23424&profile=driving-car&range_type=time&range=60&interval=&units=m&location_type=start&attributes=&options=&intersections=&id=\n",
    "```"
   ]
  },
  {
   "cell_type": "code",
   "execution_count": 31,
   "metadata": {},
   "outputs": [],
   "source": [
    "api_key = '5b3ce3597851110001cf6248ce35abcdfc0547a283c2b4ab7e581dd8'\n",
    "lng = '36.815185546875'\n",
    "lat = '-1.282546686897245'\n",
    "profile = 'foot-walking'\n",
    "range = 2000 #Maximum range value of the analysis in seconds. \n",
    "\n",
    "url = f\"https://api.openrouteservice.org/isochrones?api_key={api_key}&locations={lng}%2C{lat}&profile={profile}&range_type=time&range={range}\"\n",
    "\n",
    "r = requests.get(f\"{url}\")"
   ]
  },
  {
   "cell_type": "code",
   "execution_count": 32,
   "metadata": {},
   "outputs": [
    {
     "data": {
      "text/plain": [
       "{'bbox': [36.793497, -1.305852, 36.838232, 0],\n",
       " 'features': [{'geometry': {'coordinates': [[[36.793497, -1.276439],\n",
       "      [36.795092, -1.28584],\n",
       "      [36.795113, -1.289178],\n",
       "      [36.796803, -1.295043],\n",
       "      [36.797672, -1.296449],\n",
       "      [36.800558, -1.299214],\n",
       "      [36.801495, -1.29994],\n",
       "      [36.811105, -1.303825],\n",
       "      [36.812905, -1.303719],\n",
       "      [36.824329, -1.305852],\n",
       "      [36.827847, -1.30312],\n",
       "      [36.82811, -1.302775],\n",
       "      [36.829646, -1.29959],\n",
       "      [36.834238, -1.290449],\n",
       "      [36.836323, -1.289074],\n",
       "      [36.837129, -1.287775],\n",
       "      [36.838203, -1.285111],\n",
       "      [36.838232, -1.284935],\n",
       "      [36.837288, -1.277239],\n",
       "      [36.835418, -1.268669],\n",
       "      [36.83278, -1.265343],\n",
       "      [36.832401, -1.265428],\n",
       "      [36.82608, -1.265214],\n",
       "      [36.818695, -1.258269],\n",
       "      [36.818625, -1.258239],\n",
       "      [36.818611, -1.258233],\n",
       "      [36.817966, -1.25796],\n",
       "      [36.811114, -1.259599],\n",
       "      [36.799968, -1.261126],\n",
       "      [36.799954, -1.26113],\n",
       "      [36.795923, -1.269467],\n",
       "      [36.795084, -1.271342],\n",
       "      [36.79378, -1.27427],\n",
       "      [36.793497, -1.276439]]],\n",
       "    'type': 'Polygon'},\n",
       "   'properties': {'center': [36.815186, -1.282547],\n",
       "    'group_index': 0,\n",
       "    'value': 2000},\n",
       "   'type': 'Feature'}],\n",
       " 'info': {'attribution': 'openrouteservice.org | OpenStreetMap contributors',\n",
       "  'engine': {'build_date': '2018-06-12T17:36:31Z', 'version': '4.5.0'},\n",
       "  'query': {'location_type': 'start',\n",
       "   'locations': [[36.815186, -1.282547]],\n",
       "   'profile': 'foot-walking',\n",
       "   'range_type': 'time',\n",
       "   'ranges': '2000.0'},\n",
       "  'service': 'isochrones',\n",
       "  'timestamp': 1533120143833},\n",
       " 'type': 'FeatureCollection'}"
      ]
     },
     "execution_count": 32,
     "metadata": {},
     "output_type": "execute_result"
    }
   ],
   "source": [
    "r.json()"
   ]
  },
  {
   "cell_type": "markdown",
   "metadata": {},
   "source": [
    "Point"
   ]
  },
  {
   "cell_type": "code",
   "execution_count": 33,
   "metadata": {},
   "outputs": [
    {
     "data": {
      "text/plain": [
       "[36.815186, -1.282547]"
      ]
     },
     "execution_count": 33,
     "metadata": {},
     "output_type": "execute_result"
    }
   ],
   "source": [
    "r.json().get('features')[0].get('properties').get('center')"
   ]
  },
  {
   "cell_type": "markdown",
   "metadata": {},
   "source": [
    "Polygon"
   ]
  },
  {
   "cell_type": "code",
   "execution_count": 34,
   "metadata": {},
   "outputs": [
    {
     "data": {
      "text/plain": [
       "'{\"type\":\"Polygon\",\"coordinates\":[[[36.793497,-1.276439],[36.795092,-1.28584],[36.795113,-1.289178],[36.796803,-1.295043],[36.797672,-1.296449],[36.800558,-1.299214],[36.801495,-1.29994],[36.811105,-1.303825],[36.812905,-1.303719],[36.824329,-1.305852],[36.827847,-1.30312],[36.82811,-1.302775],[36.829646,-1.29959],[36.834238,-1.290449],[36.836323,-1.289074],[36.837129,-1.287775],[36.838203,-1.285111],[36.838232,-1.284935],[36.837288,-1.277239],[36.835418,-1.268669],[36.83278,-1.265343],[36.832401,-1.265428],[36.82608,-1.265214],[36.818695,-1.258269],[36.818625,-1.258239],[36.818611,-1.258233],[36.817966,-1.25796],[36.811114,-1.259599],[36.799968,-1.261126],[36.799954,-1.26113],[36.795923,-1.269467],[36.795084,-1.271342],[36.79378,-1.27427],[36.793497,-1.276439]]]}'"
      ]
     },
     "execution_count": 34,
     "metadata": {},
     "output_type": "execute_result"
    }
   ],
   "source": [
    "json.dumps(r.json().get('features')[0].get('geometry'), separators=(',',':'))"
   ]
  },
  {
   "cell_type": "markdown",
   "metadata": {},
   "source": [
    "## Information\n",
    "**Total selected access points and population (numeric)**"
   ]
  },
  {
   "cell_type": "markdown",
   "metadata": {},
   "source": [
    "Polygon "
   ]
  },
  {
   "cell_type": "markdown",
   "metadata": {},
   "source": [
    "```sql\n",
    "WITH b as (SELECT st_setsrid(st_geomfromgeojson('\n",
    "{\"type\":\"Polygon\",\"coordinates\":[[[36.1834716796875,-1.7465556193132534],[37.5238037109375,-1.7465556193132534],[37.5238037109375,-0.8459165322899671],[36.1834716796875,-0.8459165322899671],[36.1834716796875,-1.7465556193132534]]]}'),4326) as the_geom),\n",
    "     u as (SELECT ST_Intersection(u.the_geom,b.the_geom) as the_geom FROM urban_areas as u, b\n",
    "           WHERE ST_Intersects(u.the_geom, b.the_geom))\n",
    "\n",
    "SELECT points.count as access_points, tot.pop as total_population, COALESCE(urb.pop, tot.pop) as urban_population, \n",
    "  round(((COALESCE(urb.pop, tot.pop)/tot.pop)*100)::numeric, 1) as urban_population_percentage, (tot.pop - COALESCE(urb.pop, tot.pop)) as \n",
    "  rural_population, round((((tot.pop - COALESCE(urb.pop, tot.pop))/tot.pop)*100)::numeric,1) as   \n",
    "  rural_population_percentage\n",
    "FROM (SELECT round((ST_SummaryStatsAgg(ST_Clip(the_raster_webmercator, b.the_geom),1,True)).sum) as pop\n",
    "        FROM population_count_2015, b \n",
    "       WHERE ST_Intersects(the_raster_webmercator, b.the_geom)\n",
    "      ) as tot,\n",
    "     (SELECT round((ST_SummaryStatsAgg(ST_Clip(the_raster_webmercator, u.the_geom),1,True)).sum) as pop\n",
    "        FROM population_count_2015, u \n",
    "       WHERE ST_Intersects(the_raster_webmercator, u.the_geom)\n",
    "      ) as urb,\n",
    "     (SELECT count(*)\n",
    "        FROM fsp_maps as m, b \n",
    "       WHERE ST_Intersects(m.the_geom, b.the_geom) and type_id in (40,51,58,62,67)\n",
    "     ) as points\n",
    "```"
   ]
  },
  {
   "cell_type": "markdown",
   "metadata": {},
   "source": [
    "*widget_config* "
   ]
  },
  {
   "cell_type": "code",
   "execution_count": 74,
   "metadata": {},
   "outputs": [
    {
     "data": {
      "text/plain": [
       "'{\"widgetConfig\": {\"params_config\": [{\"required\": true, \"key\": \"account\"}, {\"required\": true, \"key\": \"geojson\"}, {\"required\": true, \"key\": \"type_ids\"}], \"sql_query\": \"https://{{account}}.carto.com/api/v2/sql?q=WITH b as (SELECT st_setsrid(st_geomfromgeojson({{geojson}}),4326) as the_geom), u as (SELECT ST_Intersection(u.the_geom,b.the_geom) as the_geom FROM urban_areas as u, b WHERE ST_Intersects(u.the_geom, b.the_geom)) SELECT points.count as access_points, tot.pop as total_population, COALESCE(urb.pop, tot.pop) as urban_population, round(((COALESCE(urb.pop, tot.pop)/tot.pop)*100)::numeric, 1) as urban_population_percentage, (tot.pop - COALESCE(urb.pop, tot.pop)) as rural_population, round((((tot.pop - COALESCE(urb.pop, tot.pop))/tot.pop)*100)::numeric,1) as rural_population_percentage FROM (SELECT round((ST_SummaryStatsAgg(ST_Clip(the_raster_webmercator, b.the_geom),1,True)).sum) as pop FROM population_count_2015, b WHERE ST_Intersects(the_raster_webmercator, b.the_geom)) as tot, (SELECT round((ST_SummaryStatsAgg(ST_Clip(the_raster_webmercator, u.the_geom),1,True)).sum) as pop FROM population_count_2015, u WHERE ST_Intersects(the_raster_webmercator, u.the_geom)) as urb, (SELECT count(*) FROM fsp_maps as m, b WHERE ST_Intersects(m.the_geom, b.the_geom) and type_id in {{type_ids}}) as points\", \"type\": \"text\"}}'"
      ]
     },
     "execution_count": 74,
     "metadata": {},
     "output_type": "execute_result"
    }
   ],
   "source": [
    "json.dumps(\n",
    "{\n",
    "    'widgetConfig': \n",
    "    {\n",
    "        'params_config': [\n",
    "            {\n",
    "                'required': True,\n",
    "                'key': 'account'\n",
    "            },\n",
    "            {\n",
    "                'required': True,\n",
    "                'key': 'geojson'\n",
    "            },\n",
    "            {\n",
    "                'required': True,\n",
    "                'key': 'type_ids'\n",
    "            }\n",
    "        ],\n",
    "        'sql_query': 'https://{{account}}.carto.com/api/v2/sql?q=WITH b as (SELECT st_setsrid(st_geomfromgeojson({{geojson}}),4326) as the_geom), u as (SELECT ST_Intersection(u.the_geom,b.the_geom) as the_geom FROM urban_areas as u, b WHERE ST_Intersects(u.the_geom, b.the_geom)) SELECT points.count as access_points, tot.pop as total_population, COALESCE(urb.pop, tot.pop) as urban_population, round(((COALESCE(urb.pop, tot.pop)/tot.pop)*100)::numeric, 1) as urban_population_percentage, (tot.pop - COALESCE(urb.pop, tot.pop)) as rural_population, round((((tot.pop - COALESCE(urb.pop, tot.pop))/tot.pop)*100)::numeric,1) as rural_population_percentage FROM (SELECT round((ST_SummaryStatsAgg(ST_Clip(the_raster_webmercator, b.the_geom),1,True)).sum) as pop FROM population_count_2015, b WHERE ST_Intersects(the_raster_webmercator, b.the_geom)) as tot, (SELECT round((ST_SummaryStatsAgg(ST_Clip(the_raster_webmercator, u.the_geom),1,True)).sum) as pop FROM population_count_2015, u WHERE ST_Intersects(the_raster_webmercator, u.the_geom)) as urb, (SELECT count(*) FROM fsp_maps as m, b WHERE ST_Intersects(m.the_geom, b.the_geom) and type_id in {{type_ids}}) as points',\n",
    "      \n",
    "        'type': 'text'\n",
    "    }\n",
    "}\n",
    ")"
   ]
  },
  {
   "cell_type": "markdown",
   "metadata": {},
   "source": [
    "Country"
   ]
  },
  {
   "cell_type": "markdown",
   "metadata": {},
   "source": [
    "```sql\n",
    "WITH b as (SELECT the_geom FROM world_borders_hd as b \n",
    "            WHERE b.iso_a3 = 'KEN'),\n",
    "     u as (SELECT ST_Intersection(u.the_geom,b.the_geom) as the_geom FROM urban_areas as u\n",
    "             JOIN world_borders_hd as b\n",
    "               ON ST_Intersects(b.the_geom, u.the_geom)\n",
    "            WHERE b.iso_a3 = 'KEN')\n",
    "\n",
    "SELECT points.count as access_points, tot.pop as total_population, urb.pop as urban_population, \n",
    "  round(((urb.pop/tot.pop)*100)::numeric, 1) as urban_population_percentage, (tot.pop - urb.pop) as \n",
    "  rural_population, round((((tot.pop - urb.pop)/tot.pop)*100)::numeric,1) as   \n",
    "  rural_population_percentage\n",
    "FROM (SELECT round((ST_SummaryStatsAgg(ST_Clip(the_raster_webmercator, b.the_geom),1,True)).sum) as pop\n",
    "        FROM population_count_2015, b \n",
    "       WHERE ST_Intersects(the_raster_webmercator, b.the_geom)\n",
    "      ) as tot,\n",
    "     (SELECT round((ST_SummaryStatsAgg(ST_Clip(the_raster_webmercator, u.the_geom),1,True)).sum) as pop\n",
    "        FROM population_count_2015, u \n",
    "       WHERE ST_Intersects(the_raster_webmercator, u.the_geom)\n",
    "      ) as urb,\n",
    "    (SELECT count(*)\n",
    "        FROM fsp_maps\n",
    "       WHERE type_id in (40,51,58,62,67)\n",
    "     ) as points\n",
    "```"
   ]
  },
  {
   "cell_type": "markdown",
   "metadata": {},
   "source": [
    "*widget_config* "
   ]
  },
  {
   "cell_type": "code",
   "execution_count": 71,
   "metadata": {},
   "outputs": [
    {
     "data": {
      "text/plain": [
       "'{\"widgetConfig\": {\"params_config\": [{\"required\": true, \"key\": \"account\"}, {\"required\": true, \"key\": \"type_ids\"}, {\"required\": true, \"key\": \"iso\"}], \"sql_query\": \"https://{{account}}.carto.com/api/v2/sql?q=WITH b as (SELECT the_geom FROM world_borders_hd as b WHERE b.iso_a3 = {{iso}}), u as (SELECT ST_Intersection(u.the_geom,b.the_geom) as the_geom FROM urban_areas as u JOIN world_borders_hd as b ON ST_Intersects(b.the_geom, u.the_geom) WHERE b.iso_a3 = {{iso}}) SELECT points.count as access_points, tot.pop as total_population, urb.pop as urban_population, round(((urb.pop/tot.pop)*100)::numeric, 1) as urban_population_percentage, (tot.pop - urb.pop) as rural_population, round((((tot.pop - urb.pop)/tot.pop)*100)::numeric,1) as rural_population_percentage FROM (SELECT round((ST_SummaryStatsAgg(ST_Clip(the_raster_webmercator, b.the_geom),1,True)).sum) as pop FROM population_count_2015, b WHERE ST_Intersects(the_raster_webmercator, b.the_geom)) as tot, (SELECT round((ST_SummaryStatsAgg(ST_Clip(the_raster_webmercator, u.the_geom),1,True)).sum) as pop FROM population_count_2015, u WHERE ST_Intersects(the_raster_webmercator, u.the_geom)) as urb, (SELECT count(*) FROM fsp_maps WHERE type_id in {{type_ids}}) as points\", \"type\": \"text\"}}'"
      ]
     },
     "execution_count": 71,
     "metadata": {},
     "output_type": "execute_result"
    }
   ],
   "source": [
    "json.dumps(\n",
    "{\n",
    "    'widgetConfig': \n",
    "    {\n",
    "        'params_config': [\n",
    "            {\n",
    "                'required': True,\n",
    "                'key': 'account'\n",
    "            },\n",
    "            {\n",
    "                'required': True,\n",
    "                'key': 'type_ids'\n",
    "            },\n",
    "            {\n",
    "                'required': True,\n",
    "                'key': 'iso'\n",
    "            }\n",
    "        ],\n",
    "        'sql_query': 'https://{{account}}.carto.com/api/v2/sql?q=WITH b as (SELECT the_geom FROM world_borders_hd as b WHERE b.iso_a3 = {{iso}}), u as (SELECT ST_Intersection(u.the_geom,b.the_geom) as the_geom FROM urban_areas as u JOIN world_borders_hd as b ON ST_Intersects(b.the_geom, u.the_geom) WHERE b.iso_a3 = {{iso}}) SELECT points.count as access_points, tot.pop as total_population, urb.pop as urban_population, round(((urb.pop/tot.pop)*100)::numeric, 1) as urban_population_percentage, (tot.pop - urb.pop) as rural_population, round((((tot.pop - urb.pop)/tot.pop)*100)::numeric,1) as rural_population_percentage FROM (SELECT round((ST_SummaryStatsAgg(ST_Clip(the_raster_webmercator, b.the_geom),1,True)).sum) as pop FROM population_count_2015, b WHERE ST_Intersects(the_raster_webmercator, b.the_geom)) as tot, (SELECT round((ST_SummaryStatsAgg(ST_Clip(the_raster_webmercator, u.the_geom),1,True)).sum) as pop FROM population_count_2015, u WHERE ST_Intersects(the_raster_webmercator, u.the_geom)) as urb, (SELECT count(*) FROM fsp_maps WHERE type_id in {{type_ids}}) as points',\n",
    "      \n",
    "        'type': 'text'\n",
    "    }\n",
    "}\n",
    ")"
   ]
  },
  {
   "cell_type": "markdown",
   "metadata": {},
   "source": [
    "## Charts"
   ]
  },
  {
   "cell_type": "markdown",
   "metadata": {},
   "source": [
    "**Number of services**"
   ]
  },
  {
   "cell_type": "markdown",
   "metadata": {},
   "source": [
    "Polygon"
   ]
  },
  {
   "cell_type": "markdown",
   "metadata": {},
   "source": [
    "```sql\n",
    "WITH b as (SELECT st_setsrid(st_geomfromgeojson('{\"type\":\"Polygon\",\"coordinates\":[[[35.7275390625,-1.8014609294680355],[38.60595703125,-1.8014609294680355],[38.60595703125,-0.08789059053082422],[35.7275390625,-0.08789059053082422],[35.7275390625,-1.8014609294680355]]]}'),4326) as the_geom)\n",
    "\n",
    "SELECT count(*) as access_points, m.iso, m.sector, m.type\n",
    "        FROM fsp_maps as m, b  \n",
    "       WHERE ST_Intersects(b.the_geom, m.the_geom) and m.type_id in (40,51,58,62,67)\n",
    "    GROUP BY m.iso, m.sector, m.type\n",
    "```"
   ]
  },
  {
   "cell_type": "markdown",
   "metadata": {},
   "source": [
    "*widget_config* "
   ]
  },
  {
   "cell_type": "code",
   "execution_count": 75,
   "metadata": {},
   "outputs": [
    {
     "data": {
      "text/plain": [
       "'{\"widgetConfig\": {\"params_config\": [{\"required\": true, \"key\": \"account\"}, {\"required\": true, \"key\": \"geojson\"}, {\"required\": true, \"key\": \"type_ids\"}], \"sql_query\": \"https://{{account}}.carto.com/api/v2/sql?q=WITH b as (SELECT st_setsrid(st_geomfromgeojson({{geojson}}),4326) as the_geom) SELECT count(*) as access_points, m.iso, m.sector, m.type FROM fsp_maps as m, b WHERE ST_Intersects(b.the_geom, m.the_geom) and m.type_id in {{type_ids}} GROUP BY m.iso, m.sector, m.type\", \"type\": \"text\"}}'"
      ]
     },
     "execution_count": 75,
     "metadata": {},
     "output_type": "execute_result"
    }
   ],
   "source": [
    "json.dumps(\n",
    "{\n",
    "    'widgetConfig': \n",
    "    {\n",
    "        'params_config': [\n",
    "            {\n",
    "                'required': True,\n",
    "                'key': 'account'\n",
    "            },\n",
    "            {\n",
    "                'required': True,\n",
    "                'key': 'geojson'\n",
    "            },\n",
    "            {\n",
    "                'required': True,\n",
    "                'key': 'type_ids'\n",
    "            }            \n",
    "        ],\n",
    "        'sql_query': 'https://{{account}}.carto.com/api/v2/sql?q=WITH b as (SELECT st_setsrid(st_geomfromgeojson({{geojson}}),4326) as the_geom) SELECT count(*) as access_points, m.iso, m.sector, m.type FROM fsp_maps as m, b WHERE ST_Intersects(b.the_geom, m.the_geom) and m.type_id in {{type_ids}} GROUP BY m.iso, m.sector, m.type',\n",
    "      \n",
    "        'type': 'text'\n",
    "    }\n",
    "}\n",
    ")"
   ]
  },
  {
   "cell_type": "markdown",
   "metadata": {},
   "source": [
    "Country"
   ]
  },
  {
   "cell_type": "markdown",
   "metadata": {},
   "source": [
    "```sql\n",
    "WITH b as (SELECT the_geom FROM world_borders_hd as b \n",
    "            WHERE b.iso_a3 = 'KEN')\n",
    "            \n",
    "SELECT count(*) as access_points, m.iso, m.sector, m.type\n",
    "FROM fsp_maps as m, b  \n",
    "WHERE m.type_id in (40,51,58,62,67)\n",
    "GROUP BY m.iso, m.sector, m.type\n",
    "```"
   ]
  },
  {
   "cell_type": "markdown",
   "metadata": {},
   "source": [
    "*widget_config* "
   ]
  },
  {
   "cell_type": "code",
   "execution_count": 76,
   "metadata": {},
   "outputs": [
    {
     "data": {
      "text/plain": [
       "'{\"widgetConfig\": {\"params_config\": [{\"required\": true, \"key\": \"account\"}, {\"required\": true, \"key\": \"type_ids\"}, {\"required\": true, \"key\": \"iso\"}], \"sql_query\": \"https://{{account}}.carto.com/api/v2/sql?q=WITH b as (SELECT the_geom FROM world_borders_hd as b WHERE b.iso_a3 = {{iso}}) SELECT count(*) as access_points, m.iso, m.sector, m.type FROM fsp_maps as m, b WHERE m.type_id in {{type_ids}} GROUP BY m.iso, m.sector, m.type\", \"type\": \"text\"}}'"
      ]
     },
     "execution_count": 76,
     "metadata": {},
     "output_type": "execute_result"
    }
   ],
   "source": [
    "json.dumps(\n",
    "{\n",
    "    'widgetConfig': \n",
    "    {\n",
    "        'params_config': [\n",
    "            {\n",
    "                'required': True,\n",
    "                'key': 'account'\n",
    "            },\n",
    "            {\n",
    "                'required': True,\n",
    "                'key': 'type_ids'\n",
    "            },\n",
    "            {\n",
    "                'required': True,\n",
    "                'key': 'iso'\n",
    "            }\n",
    "        ],\n",
    "        'sql_query': 'https://{{account}}.carto.com/api/v2/sql?q=WITH b as (SELECT the_geom FROM world_borders_hd as b WHERE b.iso_a3 = {{iso}}) SELECT count(*) as access_points, m.iso, m.sector, m.type FROM fsp_maps as m, b WHERE m.type_id in {{type_ids}} GROUP BY m.iso, m.sector, m.type',\n",
    "      \n",
    "        'type': 'text'\n",
    "    }\n",
    "}\n",
    ")"
   ]
  },
  {
   "cell_type": "markdown",
   "metadata": {},
   "source": [
    "**Access points %**"
   ]
  },
  {
   "cell_type": "markdown",
   "metadata": {},
   "source": [
    "Polygon"
   ]
  },
  {
   "cell_type": "markdown",
   "metadata": {},
   "source": [
    "```sql\n",
    "WITH b as (SELECT st_setsrid(st_geomfromgeojson('{\"type\":\"Polygon\",\"coordinates\":[[[35.7275390625,-1.8014609294680355],[38.60595703125,-1.8014609294680355],[38.60595703125,-0.08789059053082422],[35.7275390625,-0.08789059053082422],[35.7275390625,-1.8014609294680355]]]}'),4326) as the_geom)\n",
    "\n",
    "SELECT round((points.count*1./tot.count*1.)*100, 1) as access_points_percentage, points.iso, points.sector, points.type \n",
    "FROM (SELECT count(*), m.iso, m.sector, m.type\n",
    "        FROM fsp_maps as m, b  \n",
    "       WHERE ST_Intersects(b.the_geom, m.the_geom) and m.type_id in (40,51,58,62,67)\n",
    "    GROUP BY m.iso, m.sector, m.type\n",
    "     ) as points,\n",
    "    (SELECT count(*)\n",
    "        FROM fsp_maps as m, b\n",
    "       WHERE ST_Intersects(b.the_geom, m.the_geom) and type_id in (40,51,58,62,67)\n",
    "     ) as tot\n",
    "```"
   ]
  },
  {
   "cell_type": "markdown",
   "metadata": {},
   "source": [
    "*widget_config*"
   ]
  },
  {
   "cell_type": "code",
   "execution_count": 77,
   "metadata": {},
   "outputs": [
    {
     "data": {
      "text/plain": [
       "'{\"widgetConfig\": {\"params_config\": [{\"required\": true, \"key\": \"account\"}, {\"required\": true, \"key\": \"geojson\"}, {\"required\": true, \"key\": \"type_ids\"}], \"sql_query\": \"https://{{account}}.carto.com/api/v2/sql?q=WITH b as (SELECT st_setsrid(st_geomfromgeojson({{geojson}}),4326) as the_geom) SELECT round((points.count*1./tot.count*1.)*100, 1) as access_points_percentage, points.iso, points.sector, points.type FROM (SELECT count(*), m.iso, m.sector, m.type FROM fsp_maps as m, b WHERE ST_Intersects(b.the_geom, m.the_geom) and m.type_id in {{type_ids}} GROUP BY m.iso, m.sector, m.type) as points, (SELECT count(*) FROM fsp_maps as m, b WHERE ST_Intersects(b.the_geom, m.the_geom) and type_id in {{type_ids}}) as tot\", \"type\": \"text\"}}'"
      ]
     },
     "execution_count": 77,
     "metadata": {},
     "output_type": "execute_result"
    }
   ],
   "source": [
    "json.dumps(\n",
    "{\n",
    "    'widgetConfig': \n",
    "    {\n",
    "        'params_config': [\n",
    "            {\n",
    "                'required': True,\n",
    "                'key': 'account'\n",
    "            },\n",
    "            {\n",
    "                'required': True,\n",
    "                'key': 'geojson'\n",
    "            },\n",
    "            {\n",
    "                'required': True,\n",
    "                'key': 'type_ids'\n",
    "            }            \n",
    "        ],\n",
    "        'sql_query': 'https://{{account}}.carto.com/api/v2/sql?q=WITH b as (SELECT st_setsrid(st_geomfromgeojson({{geojson}}),4326) as the_geom) SELECT round((points.count*1./tot.count*1.)*100, 1) as access_points_percentage, points.iso, points.sector, points.type FROM (SELECT count(*), m.iso, m.sector, m.type FROM fsp_maps as m, b WHERE ST_Intersects(b.the_geom, m.the_geom) and m.type_id in {{type_ids}} GROUP BY m.iso, m.sector, m.type) as points, (SELECT count(*) FROM fsp_maps as m, b WHERE ST_Intersects(b.the_geom, m.the_geom) and type_id in {{type_ids}}) as tot',\n",
    "      \n",
    "        'type': 'text'\n",
    "    }\n",
    "}\n",
    ")"
   ]
  },
  {
   "cell_type": "markdown",
   "metadata": {},
   "source": [
    "Country"
   ]
  },
  {
   "cell_type": "markdown",
   "metadata": {},
   "source": [
    "```sql\n",
    "WITH b as (SELECT the_geom FROM world_borders_hd as b \n",
    "            WHERE b.iso_a3 = 'KEN')\n",
    "            \n",
    "SELECT round((points.count*1./tot.count)*100, 1) as access_points_percentage, points.iso, points.sector, points.type \n",
    "FROM (SELECT count(*), m.iso, m.sector, m.type\n",
    "        FROM fsp_maps as m, b  \n",
    "       WHERE m.type_id in (40,51,58,62,67)\n",
    "    GROUP BY m.iso, m.sector, m.type\n",
    "     ) as points,\n",
    "    (SELECT count(*)\n",
    "        FROM fsp_maps \n",
    "       WHERE type_id in (40,51,58,62,67)\n",
    "     ) as tot\n",
    "```"
   ]
  },
  {
   "cell_type": "markdown",
   "metadata": {},
   "source": [
    "*widget_config*"
   ]
  },
  {
   "cell_type": "code",
   "execution_count": 78,
   "metadata": {},
   "outputs": [
    {
     "data": {
      "text/plain": [
       "'{\"widgetConfig\": {\"params_config\": [{\"required\": true, \"key\": \"account\"}, {\"required\": true, \"key\": \"type_ids\"}, {\"required\": true, \"key\": \"iso\"}], \"sql_query\": \"https://{{account}}.carto.com/api/v2/sql?q=WITH b as (SELECT the_geom FROM world_borders_hd as b WHERE b.iso_a3 = {{iso}}) SELECT round((points.count*1./tot.count)*100, 1) as access_points_percentage, points.iso, points.sector, points.type FROM (SELECT count(*), m.iso, m.sector, m.type FROM fsp_maps as m, b WHERE m.type_id in {{type_ids}} GROUP BY m.iso, m.sector, m.type) as points, (SELECT count(*) FROM fsp_maps WHERE type_id in {{type_ids}}) as tot\", \"type\": \"text\"}}'"
      ]
     },
     "execution_count": 78,
     "metadata": {},
     "output_type": "execute_result"
    }
   ],
   "source": [
    "json.dumps(\n",
    "{\n",
    "    'widgetConfig': \n",
    "    {\n",
    "        'params_config': [\n",
    "            {\n",
    "                'required': True,\n",
    "                'key': 'account'\n",
    "            },\n",
    "            {\n",
    "                'required': True,\n",
    "                'key': 'type_ids'\n",
    "            },\n",
    "            {\n",
    "                'required': True,\n",
    "                'key': 'iso'\n",
    "            }\n",
    "        ],\n",
    "        'sql_query': 'https://{{account}}.carto.com/api/v2/sql?q=WITH b as (SELECT the_geom FROM world_borders_hd as b WHERE b.iso_a3 = {{iso}}) SELECT round((points.count*1./tot.count)*100, 1) as access_points_percentage, points.iso, points.sector, points.type FROM (SELECT count(*), m.iso, m.sector, m.type FROM fsp_maps as m, b WHERE m.type_id in {{type_ids}} GROUP BY m.iso, m.sector, m.type) as points, (SELECT count(*) FROM fsp_maps WHERE type_id in {{type_ids}}) as tot',\n",
    "      \n",
    "        'type': 'text'\n",
    "    }\n",
    "}\n",
    ")"
   ]
  },
  {
   "cell_type": "markdown",
   "metadata": {},
   "source": [
    "**Distance to access points (min, mean, max)**"
   ]
  },
  {
   "cell_type": "markdown",
   "metadata": {},
   "source": [
    "Polygon (Nearby)"
   ]
  },
  {
   "cell_type": "markdown",
   "metadata": {},
   "source": [
    "```sql\n",
    "WITH p as (SELECT ST_Transform(ST_GeomFromText('POINT(36.815186 -1.282547)',4326),26986) as the_geom), \n",
    "     b as (SELECT ST_setsrid(ST_Geomfromgeojson('\n",
    "{\"type\":\"Polygon\",\"coordinates\":[[[36.793497,-1.276439],[36.795092,-1.28584],[36.795113,-1.289178],[36.796803,-1.295043],[36.797672,-1.296449],[36.800558,-1.299214],[36.801495,-1.29994],[36.811105,-1.303825],[36.812905,-1.303719],[36.824329,-1.305852],[36.827847,-1.30312],[36.82811,-1.302775],[36.829646,-1.29959],[36.834238,-1.290449],[36.836323,-1.289074],[36.837129,-1.287775],[36.838203,-1.285111],[36.838232,-1.284935],[36.837288,-1.277239],[36.835418,-1.268669],[36.83278,-1.265343],[36.832401,-1.265428],[36.82608,-1.265214],[36.818695,-1.258269],[36.818625,-1.258239],[36.818611,-1.258233],[36.817966,-1.25796],[36.811114,-1.259599],[36.799968,-1.261126],[36.799954,-1.26113],[36.795923,-1.269467],[36.795084,-1.271342],[36.79378,-1.27427],[36.793497,-1.276439]]]}'),4326) as the_geom)\n",
    "\n",
    "SELECT min(ST_Distance(p.the_geom, ST_Transform(m.the_geom,26986))/1000.) as min_distance_km, avg(ST_Distance(p.the_geom, ST_Transform(m.the_geom,26986))/1000.) as mean_distance_km, max(ST_Distance(p.the_geom, ST_Transform(m.the_geom,26986))/1000.) as max_distance_km, m.iso, m.sector, m.type\n",
    "FROM fsp_maps as m, b, p  \n",
    "WHERE ST_Intersects(b.the_geom, m.the_geom) and m.type_id in (40,51,58,62,67)\n",
    "GROUP BY m.iso, m.sector, m.type   \n",
    "```"
   ]
  },
  {
   "cell_type": "markdown",
   "metadata": {},
   "source": [
    "*widget_config*"
   ]
  },
  {
   "cell_type": "code",
   "execution_count": 3,
   "metadata": {},
   "outputs": [
    {
     "data": {
      "text/plain": [
       "'{\"widgetConfig\": {\"params_config\": [{\"required\": true, \"key\": \"account\"}, {\"required\": true, \"key\": \"lng\"}, {\"required\": true, \"key\": \"lat\"}, {\"required\": true, \"key\": \"geojson\"}, {\"required\": true, \"key\": \"type_ids\"}], \"sql_query\": \"https://{{account}}.carto.com/api/v2/sql?q=WITH p as (SELECT ST_Transform(ST_GeomFromText(\\'POINT({{lng}} {{lat}})\\',4326),26986) as the_geom), b as (SELECT ST_setsrid(ST_Geomfromgeojson({{geojson}}),4326) as the_geom) SELECT min(ST_Distance(p.the_geom, ST_Transform(m.the_geom,26986))/1000.) as min_distance_km, avg(ST_Distance(p.the_geom, ST_Transform(m.the_geom,26986))/1000.) as mean_distance_km, max(ST_Distance(p.the_geom, ST_Transform(m.the_geom,26986))/1000.) as max_distance_km, m.iso, m.sector, m.type FROM fsp_maps as m, b, p WHERE ST_Intersects(b.the_geom, m.the_geom) and m.type_id in {{type_ids}} GROUP BY m.iso, m.sector, m.type\", \"type\": \"text\"}}'"
      ]
     },
     "execution_count": 3,
     "metadata": {},
     "output_type": "execute_result"
    }
   ],
   "source": [
    "json.dumps(\n",
    "{\n",
    "    'widgetConfig': \n",
    "    {\n",
    "        'params_config': [\n",
    "            {\n",
    "                'required': True,\n",
    "                'key': 'account'\n",
    "            },\n",
    "            {\n",
    "                'required': True,\n",
    "                'key': 'lng'\n",
    "            },\n",
    "            {\n",
    "                'required': True,\n",
    "                'key': 'lat'\n",
    "            },\n",
    "            {\n",
    "                'required': True,\n",
    "                'key': 'geojson'\n",
    "            },\n",
    "            {\n",
    "                'required': True,\n",
    "                'key': 'type_ids'\n",
    "            }            \n",
    "        ],\n",
    "        'sql_query': 'https://{{account}}.carto.com/api/v2/sql?q=WITH p as (SELECT ST_Transform(ST_GeomFromText(\\'POINT({{lng}} {{lat}})\\',4326),26986) as the_geom), b as (SELECT ST_setsrid(ST_Geomfromgeojson({{geojson}}),4326) as the_geom) SELECT min(ST_Distance(p.the_geom, ST_Transform(m.the_geom,26986))/1000.) as min_distance_km, avg(ST_Distance(p.the_geom, ST_Transform(m.the_geom,26986))/1000.) as mean_distance_km, max(ST_Distance(p.the_geom, ST_Transform(m.the_geom,26986))/1000.) as max_distance_km, m.iso, m.sector, m.type FROM fsp_maps as m, b, p WHERE ST_Intersects(b.the_geom, m.the_geom) and m.type_id in {{type_ids}} GROUP BY m.iso, m.sector, m.type',\n",
    "      \n",
    "        'type': 'text'\n",
    "    }\n",
    "}\n",
    ")"
   ]
  },
  {
   "cell_type": "markdown",
   "metadata": {},
   "source": [
    "Polygon (Area of interest)"
   ]
  },
  {
   "cell_type": "markdown",
   "metadata": {},
   "source": [
    "```sql\n",
    "WITH b as (SELECT st_setsrid(st_geomfromgeojson('{\"type\":\"Polygon\",\"coordinates\":[[[36.78497314453124,-1.3045137436059018],[36.84883117675781,-1.3045137436059018],[36.84883117675781,-1.2646983143314325],[36.78497314453124,-1.2646983143314325],[36.78497314453124,-1.3045137436059018]]]}'),4326) as the_geom)\n",
    "\n",
    "SELECT min(ST_Distance(ST_Transform(ST_Centroid(b.the_geom), 26986), ST_Transform(m.the_geom,26986))/1000.) as min_distance_km, avg(ST_Distance(ST_Transform(ST_Centroid(b.the_geom), 26986), ST_Transform(m.the_geom,26986))/1000.) as mean_distance_km, max(ST_Distance(ST_Transform(ST_Centroid(b.the_geom), 26986), ST_Transform(m.the_geom,26986))/1000.) as max_distance_km, m.iso, m.sector, m.type\n",
    "FROM fsp_maps as m, b  \n",
    "WHERE ST_Intersects(b.the_geom, m.the_geom) and m.type_id in (40,51,58,62,67)\n",
    "GROUP BY m.iso, m.sector, m.type\n",
    "```"
   ]
  },
  {
   "cell_type": "markdown",
   "metadata": {},
   "source": [
    "*widget_config*"
   ]
  },
  {
   "cell_type": "code",
   "execution_count": 80,
   "metadata": {},
   "outputs": [
    {
     "data": {
      "text/plain": [
       "'{\"widgetConfig\": {\"params_config\": [{\"required\": true, \"key\": \"account\"}, {\"required\": true, \"key\": \"geojson\"}, {\"required\": true, \"key\": \"type_ids\"}], \"sql_query\": \"https://{{account}}.carto.com/api/v2/sql?q=WITH b as (SELECT st_setsrid(st_geomfromgeojson({{geojson}}),4326) as the_geom) SELECT min(ST_Distance(ST_Transform(ST_Centroid(b.the_geom), 26986), ST_Transform(m.the_geom,26986))/1000.) as min_distance_km, avg(ST_Distance(ST_Transform(ST_Centroid(b.the_geom), 26986), ST_Transform(m.the_geom,26986))/1000.) as mean_distance_km, max(ST_Distance(ST_Transform(ST_Centroid(b.the_geom), 26986), ST_Transform(m.the_geom,26986))/1000.) as max_distance_km, m.iso, m.sector, m.type FROM fsp_maps as m, b WHERE ST_Intersects(b.the_geom, m.the_geom) and m.type_id in {{type_ids}} GROUP BY m.iso, m.sector, m.type\", \"type\": \"text\"}}'"
      ]
     },
     "execution_count": 80,
     "metadata": {},
     "output_type": "execute_result"
    }
   ],
   "source": [
    "json.dumps(\n",
    "{\n",
    "    'widgetConfig': \n",
    "    {\n",
    "        'params_config': [\n",
    "            {\n",
    "                'required': True,\n",
    "                'key': 'account'\n",
    "            },\n",
    "            {\n",
    "                'required': True,\n",
    "                'key': 'geojson'\n",
    "            },\n",
    "            {\n",
    "                'required': True,\n",
    "                'key': 'type_ids'\n",
    "            }            \n",
    "        ],\n",
    "        'sql_query': 'https://{{account}}.carto.com/api/v2/sql?q=WITH b as (SELECT st_setsrid(st_geomfromgeojson({{geojson}}),4326) as the_geom) SELECT min(ST_Distance(ST_Transform(ST_Centroid(b.the_geom), 26986), ST_Transform(m.the_geom,26986))/1000.) as min_distance_km, avg(ST_Distance(ST_Transform(ST_Centroid(b.the_geom), 26986), ST_Transform(m.the_geom,26986))/1000.) as mean_distance_km, max(ST_Distance(ST_Transform(ST_Centroid(b.the_geom), 26986), ST_Transform(m.the_geom,26986))/1000.) as max_distance_km, m.iso, m.sector, m.type FROM fsp_maps as m, b WHERE ST_Intersects(b.the_geom, m.the_geom) and m.type_id in {{type_ids}} GROUP BY m.iso, m.sector, m.type',\n",
    "      \n",
    "        'type': 'text'\n",
    "    }\n",
    "}\n",
    ")"
   ]
  },
  {
   "cell_type": "markdown",
   "metadata": {},
   "source": [
    "Country"
   ]
  },
  {
   "cell_type": "markdown",
   "metadata": {},
   "source": [
    "```sql\n",
    "WITH b as (SELECT the_geom FROM world_borders_hd as b \n",
    "            WHERE b.iso_a3 = 'KEN')\n",
    "            \n",
    "SELECT min(ST_Distance(ST_Transform(ST_Centroid(b.the_geom), 26986), ST_Transform(m.the_geom,26986))/1000.) as min_distance_km, avg(ST_Distance(ST_Transform(ST_Centroid(b.the_geom), 26986), ST_Transform(m.the_geom,26986))/1000.) as mean_distance_km, max(ST_Distance(ST_Transform(ST_Centroid(b.the_geom), 26986), ST_Transform(m.the_geom,26986))/1000.) as max_distance_km, m.iso, m.sector, m.type\n",
    "        FROM fsp_maps as m, b  \n",
    "       WHERE m.type_id in (40)\n",
    "    GROUP BY m.iso, m.sector, m.type\n",
    "```"
   ]
  },
  {
   "cell_type": "markdown",
   "metadata": {},
   "source": [
    "*widget_config*"
   ]
  },
  {
   "cell_type": "code",
   "execution_count": 36,
   "metadata": {},
   "outputs": [
    {
     "data": {
      "text/plain": [
       "'{\"widgetConfig\": {\"params_config\": [{\"required\": true, \"key\": \"type_ids\"}, {\"required\": true, \"key\": \"iso\"}], \"sql_query\": \"WITH b as (SELECT the_geom FROM world_borders_hd as b WHERE b.iso_a3 = {{iso}}) SELECT min(ST_Distance(ST_Transform(ST_Centroid(b.the_geom), 26986), ST_Transform(m.the_geom,26986))/1000.) as min_distance_km, avg(ST_Distance(ST_Transform(ST_Centroid(b.the_geom), 26986), ST_Transform(m.the_geom,26986))/1000.) as mean_distance_km, max(ST_Distance(ST_Transform(ST_Centroid(b.the_geom), 26986), ST_Transform(m.the_geom,26986))/1000.) as max_distance_km, m.iso, m.sector, m.type FROM fsp_maps as m, b WHERE m.type_id in {{type_ids}} GROUP BY m.iso, m.sector, m.type\", \"type\": \"text\"}}'"
      ]
     },
     "execution_count": 36,
     "metadata": {},
     "output_type": "execute_result"
    }
   ],
   "source": [
    "json.dumps(\n",
    "{\n",
    "    'widgetConfig': \n",
    "    {\n",
    "        'params_config': [\n",
    "            {\n",
    "                'required': True,\n",
    "                'key': 'account'\n",
    "            },\n",
    "            {\n",
    "                'required': True,\n",
    "                'key': 'type_ids'\n",
    "            },\n",
    "            {\n",
    "                'required': True,\n",
    "                'key': 'iso'\n",
    "            }\n",
    "        ],\n",
    "        'sql_query': 'https://{{account}}.carto.com/api/v2/sql?q=WITH b as (SELECT the_geom FROM world_borders_hd as b WHERE b.iso_a3 = {{iso}}) SELECT min(ST_Distance(ST_Transform(ST_Centroid(b.the_geom), 26986), ST_Transform(m.the_geom,26986))/1000.) as min_distance_km, avg(ST_Distance(ST_Transform(ST_Centroid(b.the_geom), 26986), ST_Transform(m.the_geom,26986))/1000.) as mean_distance_km, max(ST_Distance(ST_Transform(ST_Centroid(b.the_geom), 26986), ST_Transform(m.the_geom,26986))/1000.) as max_distance_km, m.iso, m.sector, m.type FROM fsp_maps as m, b WHERE m.type_id in {{type_ids}} GROUP BY m.iso, m.sector, m.type',\n",
    "      \n",
    "        'type': 'text'\n",
    "    }\n",
    "}\n",
    ")"
   ]
  },
  {
   "cell_type": "markdown",
   "metadata": {},
   "source": [
    "**All together**"
   ]
  },
  {
   "cell_type": "markdown",
   "metadata": {},
   "source": [
    "Polygon (Nearby)"
   ]
  },
  {
   "cell_type": "markdown",
   "metadata": {},
   "source": [
    "```sql\n",
    "WITH p as (SELECT ST_Transform(ST_GeomFromText('POINT(36.815186 -1.282547)',4326),26986) as the_geom), \n",
    "     b as (SELECT st_setsrid(st_geomfromgeojson('\n",
    "{\"type\":\"Polygon\",\"coordinates\":[[[36.793497,-1.276439],[36.795092,-1.28584],[36.795113,-1.289178],[36.796803,-1.295043],[36.797672,-1.296449],[36.800558,-1.299214],[36.801495,-1.29994],[36.811105,-1.303825],[36.812905,-1.303719],[36.824329,-1.305852],[36.827847,-1.30312],[36.82811,-1.302775],[36.829646,-1.29959],[36.834238,-1.290449],[36.836323,-1.289074],[36.837129,-1.287775],[36.838203,-1.285111],[36.838232,-1.284935],[36.837288,-1.277239],[36.835418,-1.268669],[36.83278,-1.265343],[36.832401,-1.265428],[36.82608,-1.265214],[36.818695,-1.258269],[36.818625,-1.258239],[36.818611,-1.258233],[36.817966,-1.25796],[36.811114,-1.259599],[36.799968,-1.261126],[36.799954,-1.26113],[36.795923,-1.269467],[36.795084,-1.271342],[36.79378,-1.27427],[36.793497,-1.276439]]]}'),4326) as the_geom)\n",
    "\n",
    "SELECT points.count as access_points, round((points.count*1./tot.count*1.)*100, 1) as access_points_percentage, points.mean_distance_km, points.iso, points.sector, points.type \n",
    "FROM (SELECT count(*), min(ST_Distance(p.the_geom, ST_Transform(m.the_geom,26986))/1000.) as min_distance_km, avg(ST_Distance(p.the_geom, ST_Transform(m.the_geom,26986))/1000.) as mean_distance_km, m.iso, m.sector, m.type\n",
    "        FROM fsp_maps as m, b, p  \n",
    "       WHERE ST_Intersects(b.the_geom, m.the_geom) and m.type_id in (40,51,58,62,67)\n",
    "    GROUP BY m.iso, m.sector, m.type\n",
    "     ) as points,\n",
    "    (SELECT count(*)\n",
    "        FROM fsp_maps as m, b\n",
    "       WHERE ST_Intersects(b.the_geom, m.the_geom) and type_id in (40,51,58,62,67)\n",
    "     ) as tot\n",
    "```"
   ]
  },
  {
   "cell_type": "markdown",
   "metadata": {},
   "source": [
    "Polygon (Area of interest)"
   ]
  },
  {
   "cell_type": "markdown",
   "metadata": {},
   "source": [
    "```sql\n",
    "WITH b as (SELECT st_setsrid(st_geomfromgeojson('{\"type\":\"Polygon\",\"coordinates\":[[[36.78497314453124,-1.3045137436059018],[36.84883117675781,-1.3045137436059018],[36.84883117675781,-1.2646983143314325],[36.78497314453124,-1.2646983143314325],[36.78497314453124,-1.3045137436059018]]]}'),4326) as the_geom)\n",
    "\n",
    "SELECT points.count as access_points, round((points.count*1./tot.count*1.)*100, 1) as access_points_percentage, points.mean_distance_km, points.iso, points.sector, points.type \n",
    "FROM (SELECT count(*), avg(ST_Distance(ST_Transform(ST_Centroid(b.the_geom), 26986), ST_Transform(m.the_geom,26986))/1000.) as mean_distance_km, m.iso, m.sector, m.type\n",
    "        FROM fsp_maps as m, b  \n",
    "       WHERE ST_Intersects(b.the_geom, m.the_geom) and m.type_id in (40,51,58,62,67)\n",
    "    GROUP BY m.iso, m.sector, m.type\n",
    "     ) as points,\n",
    "    (SELECT count(*)\n",
    "        FROM fsp_maps as m, b\n",
    "       WHERE ST_Intersects(b.the_geom, m.the_geom) and type_id in (40,51,58,62,67)\n",
    "     ) as tot\n",
    "```"
   ]
  },
  {
   "cell_type": "markdown",
   "metadata": {},
   "source": [
    "Country"
   ]
  },
  {
   "cell_type": "markdown",
   "metadata": {},
   "source": [
    "```sql\n",
    "WITH b as (SELECT the_geom FROM world_borders_hd as b \n",
    "            WHERE b.iso_a3 = 'KEN')\n",
    "            \n",
    "SELECT points.count as access_points, round((points.count*1./tot.count)*100, 1) as access_points_percentage, points.mean_distance_km, points.iso, points.sector, points.type \n",
    "FROM (SELECT count(*), avg(ST_Distance(ST_Transform(ST_Centroid(b.the_geom), 26986), ST_Transform(m.the_geom,26986))/1000.) as mean_distance_km, m.iso, m.sector, m.type\n",
    "        FROM fsp_maps as m, b  \n",
    "       WHERE m.type_id in (40,51,58,62,67)\n",
    "    GROUP BY m.iso, m.sector, m.type\n",
    "     ) as points,\n",
    "    (SELECT count(*)\n",
    "        FROM fsp_maps \n",
    "       WHERE type_id in (40,51,58,62,67)\n",
    "     ) as tot\n",
    "```"
   ]
  },
  {
   "cell_type": "markdown",
   "metadata": {},
   "source": [
    "**Example plots with python**"
   ]
  },
  {
   "cell_type": "code",
   "execution_count": null,
   "metadata": {},
   "outputs": [],
   "source": [
    "iso = 'KEN'\n",
    "\n",
    "query =(\"WITH b as (SELECT st_setsrid(st_geomfromgeojson('{\\\"type\\\":\\\"Polygon\\\",\\\"coordinates\\\":[[[36.78497314453124,-1.3045137436059018],[36.84883117675781,-1.3045137436059018],[36.84883117675781,-1.2646983143314325],[36.78497314453124,-1.2646983143314325],[36.78497314453124,-1.3045137436059018]]]}'),4326) as the_geom) \"\n",
    "\"SELECT points.count as access_points, round((points.count*1./tot.count*1.)*100, 1) as access_points_percentage, points.mean_distance_km, points.iso, points.sector, points.type \"\n",
    "\"FROM (SELECT count(*), avg(ST_Distance(ST_Transform(ST_Centroid(b.the_geom), 26986), ST_Transform(m.the_geom,26986))/1000.) as mean_distance_km, m.iso, m.sector, m.type \"\n",
    "\"FROM fsp_maps as m, b \"\n",
    "\"WHERE ST_Intersects(b.the_geom, m.the_geom) and m.type_id in (40,51,58,62,67) \"\n",
    "\"GROUP BY m.iso, m.sector, m.type \"\n",
    "\") as points, \"\n",
    "\"(SELECT count(*) \"\n",
    "\"FROM fsp_maps as m, b \"\n",
    "\"WHERE ST_Intersects(b.the_geom, m.the_geom) and type_id in (40,51,58,62,67) \"\n",
    "\") as tot \"\n",
    ")\n",
    "\n",
    "account = 'ikerey'\n",
    "urlCarto = f\"https://{account}.carto.com/api/v2/sql\"\n",
    "\n",
    "sql = {\"q\": query}\n",
    "r = requests.get(urlCarto, params=sql)\n",
    "\n",
    "data = r.json().get('rows')\n",
    "df = pd.DataFrame.from_dict(json_normalize(data))\n",
    "df.head()"
   ]
  },
  {
   "cell_type": "markdown",
   "metadata": {},
   "source": [
    "Acces Points %"
   ]
  },
  {
   "cell_type": "code",
   "execution_count": null,
   "metadata": {},
   "outputs": [],
   "source": [
    "counts = df['access_points_percentage']\n",
    "labels = df['type']\n",
    "plt.figure(figsize=(5,5))\n",
    "plt.pie(counts, autopct='%1.1f%%')\n",
    "plt.legend(labels);"
   ]
  },
  {
   "cell_type": "markdown",
   "metadata": {},
   "source": [
    "Number of services"
   ]
  },
  {
   "cell_type": "code",
   "execution_count": null,
   "metadata": {},
   "outputs": [],
   "source": [
    "df.plot(x='type', y='access_points', kind='barh')"
   ]
  },
  {
   "cell_type": "markdown",
   "metadata": {},
   "source": [
    "Mean distance to access points"
   ]
  },
  {
   "cell_type": "code",
   "execution_count": null,
   "metadata": {},
   "outputs": [],
   "source": [
    "df.plot(x='type', y='mean_distance_km', kind='barh')"
   ]
  },
  {
   "cell_type": "markdown",
   "metadata": {},
   "source": [
    "*** "
   ]
  },
  {
   "cell_type": "markdown",
   "metadata": {},
   "source": [
    "# Contextual layers analysis"
   ]
  },
  {
   "cell_type": "markdown",
   "metadata": {},
   "source": [
    "## AidData \n",
    "**Total transaction value per year (chart)**"
   ]
  },
  {
   "cell_type": "markdown",
   "metadata": {},
   "source": [
    "Polygon "
   ]
  },
  {
   "cell_type": "markdown",
   "metadata": {},
   "source": [
    "```sql\n",
    "WITH b as (SELECT st_setsrid(st_geomfromgeojson('\n",
    "{\"type\":\"Polygon\",\"coordinates\":[[[30.618896484375,-0.5053645409602877],[31.651611328125004,-0.5053645409602877],[31.651611328125004,0.208739772610497],[30.618896484375,0.208739772610497],[30.618896484375,-0.5053645409602877]]]}'),4326) as the_geom)\n",
    "            \n",
    "  SELECT transaction_year, sum(transaction_value) as total_transaction_value, transaction_currency\n",
    "    FROM aiddata_transactions as a, b\n",
    "   WHERE ST_Intersects(b.the_geom, a.the_geom)\n",
    "GROUP BY transaction_year, transaction_currency\n",
    "ORDER BY transaction_year, transaction_currency\n",
    "```"
   ]
  },
  {
   "cell_type": "markdown",
   "metadata": {},
   "source": [
    "*widget_config*"
   ]
  },
  {
   "cell_type": "code",
   "execution_count": 81,
   "metadata": {},
   "outputs": [
    {
     "data": {
      "text/plain": [
       "'{\"widgetConfig\": {\"params_config\": [{\"required\": true, \"key\": \"account\"}, {\"required\": true, \"key\": \"geojson\"}], \"sql_query\": \"https://{{account}}.carto.com/api/v2/sql?q=WITH b as (SELECT st_setsrid(st_geomfromgeojson({{geojson}}),4326) as the_geom) SELECT transaction_year, sum(transaction_value) as total_transaction_value, transaction_currency FROM aiddata_transactions as a, b WHERE ST_Intersects(b.the_geom, a.the_geom) GROUP BY transaction_year, transaction_currency ORDER BY transaction_year, transaction_currency\", \"type\": \"text\"}}'"
      ]
     },
     "execution_count": 81,
     "metadata": {},
     "output_type": "execute_result"
    }
   ],
   "source": [
    "json.dumps(\n",
    "{\n",
    "    'widgetConfig': \n",
    "    {\n",
    "        'params_config': [\n",
    "            {\n",
    "                'required': True,\n",
    "                'key': 'account'\n",
    "            },\n",
    "            {\n",
    "                'required': True,\n",
    "                'key': 'geojson'\n",
    "            }           \n",
    "        ],\n",
    "        'sql_query': 'https://{{account}}.carto.com/api/v2/sql?q=WITH b as (SELECT st_setsrid(st_geomfromgeojson({{geojson}}),4326) as the_geom) SELECT transaction_year, sum(transaction_value) as total_transaction_value, transaction_currency FROM aiddata_transactions as a, b WHERE ST_Intersects(b.the_geom, a.the_geom) GROUP BY transaction_year, transaction_currency ORDER BY transaction_year, transaction_currency',\n",
    "      \n",
    "        'type': 'text'\n",
    "    }\n",
    "}\n",
    ")"
   ]
  },
  {
   "cell_type": "markdown",
   "metadata": {},
   "source": [
    "Country"
   ]
  },
  {
   "cell_type": "markdown",
   "metadata": {},
   "source": [
    "```sql\n",
    "SELECT transaction_year, sum(transaction_value) as total_transaction_value, transaction_currency\n",
    "    FROM aiddata_transactions \n",
    "   WHERE iso_a3 = 'UGA'\n",
    "GROUP BY transaction_year, transaction_currency\n",
    "ORDER BY transaction_year, transaction_currency\n",
    "```"
   ]
  },
  {
   "cell_type": "markdown",
   "metadata": {},
   "source": [
    "*widget_config*"
   ]
  },
  {
   "cell_type": "code",
   "execution_count": 82,
   "metadata": {},
   "outputs": [
    {
     "data": {
      "text/plain": [
       "'{\"widgetConfig\": {\"params_config\": [{\"required\": true, \"key\": \"account\"}, {\"required\": true, \"key\": \"iso\"}], \"sql_query\": \"https://{{account}}.carto.com/api/v2/sql?q=SELECT transaction_year, sum(transaction_value) as total_transaction_value, transaction_currency FROM aiddata_transactions WHERE iso_a3 = {{iso}} GROUP BY transaction_year, transaction_currency ORDER BY transaction_year, transaction_currency\", \"type\": \"text\"}}'"
      ]
     },
     "execution_count": 82,
     "metadata": {},
     "output_type": "execute_result"
    }
   ],
   "source": [
    "json.dumps(\n",
    "{\n",
    "    'widgetConfig': \n",
    "    {\n",
    "        'params_config': [\n",
    "            {\n",
    "                'required': True,\n",
    "                'key': 'account'\n",
    "            },\n",
    "            {\n",
    "                'required': True,\n",
    "                'key': 'iso'\n",
    "            }           \n",
    "        ],\n",
    "        'sql_query': 'https://{{account}}.carto.com/api/v2/sql?q=SELECT transaction_year, sum(transaction_value) as total_transaction_value, transaction_currency FROM aiddata_transactions WHERE iso_a3 = {{iso}} GROUP BY transaction_year, transaction_currency ORDER BY transaction_year, transaction_currency',\n",
    "      \n",
    "        'type': 'text'\n",
    "    }\n",
    "}\n",
    ")"
   ]
  },
  {
   "cell_type": "markdown",
   "metadata": {},
   "source": [
    "**Example plot with python**"
   ]
  },
  {
   "cell_type": "code",
   "execution_count": 43,
   "metadata": {},
   "outputs": [
    {
     "data": {
      "image/png": "[encoded data removed]",
      "text/plain": [
       "<matplotlib.figure.Figure at 0x113511470>"
      ]
     },
     "metadata": {},
     "output_type": "display_data"
    }
   ],
   "source": [
    "iso = \"UGA\"\n",
    "query =(f\"SELECT transaction_year, sum(transaction_value) as total_transaction_value, transaction_currency FROM aiddata_transactions WHERE iso_a3 = '{iso}' GROUP BY transaction_year, transaction_currency ORDER BY transaction_year, transaction_currency\")\n",
    "\n",
    "account = 'ikerey'\n",
    "urlCarto = f\"https://{account}.carto.com/api/v2/sql\"\n",
    "\n",
    "sql = {\"q\": query}\n",
    "r = requests.get(urlCarto, params=sql)\n",
    "\n",
    "data = r.json().get('rows')\n",
    "df = pd.DataFrame.from_dict(json_normalize(data))\n",
    "\n",
    "df.plot(x='transaction_year', y='total_transaction_value', kind='bar');"
   ]
  },
  {
   "cell_type": "markdown",
   "metadata": {},
   "source": [
    "## Electrical Grid\n",
    "**Number of lines and total length (numeric)**"
   ]
  },
  {
   "cell_type": "markdown",
   "metadata": {},
   "source": [
    "Polygon "
   ]
  },
  {
   "cell_type": "markdown",
   "metadata": {},
   "source": [
    "```sql\n",
    "WITH b as (SELECT ST_Setsrid(ST_Geomfromgeojson('\n",
    "{\"type\":\"Polygon\",\"coordinates\":[[[30.618896484375,-0.5053645409602877],[31.651611328125004,-0.5053645409602877],[31.651611328125004,0.208739772610497],[30.618896484375,0.208739772610497],[30.618896484375,-0.5053645409602877]]]}'),4326) as the_geom)\n",
    "\n",
    "SELECT iso, count(*) as total_lines, sum(ST_Length(ST_Transform(ST_Intersection(b.the_geom, e.the_geom), 26986))/1000.) as total_length_km\n",
    "    FROM electrical_grid as e, b\n",
    "   WHERE ST_Intersects(b.the_geom, e.the_geom)\n",
    "GROUP BY iso\n",
    "ORDER BY iso\n",
    "```"
   ]
  },
  {
   "cell_type": "markdown",
   "metadata": {},
   "source": [
    "*widget_config*"
   ]
  },
  {
   "cell_type": "code",
   "execution_count": 8,
   "metadata": {},
   "outputs": [
    {
     "data": {
      "text/plain": [
       "'{\"widgetConfig\": {\"params_config\": [{\"required\": true, \"key\": \"geojson\"}], \"sql_query\": \"WITH b as (SELECT ST_Setsrid(ST_Geomfromgeojson({{geojson}}),4326) as the_geom) SELECT iso, count(*) as total_lines, sum(ST_Length(ST_Transform(ST_Intersection(b.the_geom, e.the_geom), 26986))/1000.) as total_length_km FROM electrical_grid as e, b WHERE ST_Intersects(b.the_geom, e.the_geom) GROUP BY iso ORDER BY iso\", \"type\": \"text\"}}'"
      ]
     },
     "execution_count": 8,
     "metadata": {},
     "output_type": "execute_result"
    }
   ],
   "source": [
    "json.dumps(\n",
    "{\n",
    "    'widgetConfig': \n",
    "    {\n",
    "        'params_config': [\n",
    "            {\n",
    "                'required': True,\n",
    "                'key': 'account'\n",
    "            },\n",
    "            {\n",
    "                'required': True,\n",
    "                'key': 'geojson'\n",
    "            }           \n",
    "        ],\n",
    "        'sql_query': 'https://{{account}}.carto.com/api/v2/sql?q=WITH b as (SELECT ST_Setsrid(ST_Geomfromgeojson({{geojson}}),4326) as the_geom) SELECT iso, count(*) as total_lines, sum(ST_Length(ST_Transform(ST_Intersection(b.the_geom, e.the_geom), 26986))/1000.) as total_length_km FROM electrical_grid as e, b WHERE ST_Intersects(b.the_geom, e.the_geom) GROUP BY iso ORDER BY iso',\n",
    "      \n",
    "        'type': 'text'\n",
    "    }\n",
    "}\n",
    ")"
   ]
  },
  {
   "cell_type": "markdown",
   "metadata": {},
   "source": [
    "Country"
   ]
  },
  {
   "cell_type": "markdown",
   "metadata": {},
   "source": [
    "```sql\n",
    "SELECT iso, count(*) as total_lines, sum(ST_Length(ST_Transform(ST_Intersection(b.the_geom, e.the_geom), 26986))/1000.) as total_length_km\n",
    "    FROM electrical_grid\n",
    "   WHERE iso = 'UGA'\n",
    "GROUP BY iso\n",
    "ORDER BY iso\n",
    "```"
   ]
  },
  {
   "cell_type": "markdown",
   "metadata": {},
   "source": [
    "*widget_config*"
   ]
  },
  {
   "cell_type": "code",
   "execution_count": 9,
   "metadata": {},
   "outputs": [
    {
     "data": {
      "text/plain": [
       "'{\"widgetConfig\": {\"sql_config\": [{\"key\": \"where\", \"key_params\": [{\"key\": \"iso\", \"required\": true}]}], \"sql_query\": \"SELECT iso, count(*) as total_lines, sum(ST_Length(ST_Transform(ST_Intersection(b.the_geom, e.the_geom), 26986))/1000.) as total_length_km FROM electrical_grid {{where}} GROUP BY iso ORDER BY iso\", \"type\": \"text\"}}'"
      ]
     },
     "execution_count": 9,
     "metadata": {},
     "output_type": "execute_result"
    }
   ],
   "source": [
    "json.dumps(\n",
    "{\n",
    "    'widgetConfig': \n",
    "    {\n",
    "        'params_config': [\n",
    "            {\n",
    "                'required': True,\n",
    "                'key': 'account'\n",
    "            },\n",
    "            {\n",
    "                'required': True,\n",
    "                'key': 'iso'\n",
    "            }           \n",
    "        ],\n",
    "        'sql_query': 'https://{{account}}.carto.com/api/v2/sql?q=SELECT iso, count(*) as total_lines, sum(ST_Length(ST_Transform(ST_Intersection(b.the_geom, e.the_geom), 26986))/1000.) as total_length_km FROM electrical_grid WHERE iso = {{iso}} GROUP BY iso ORDER BY iso',\n",
    "      \n",
    "        'type': 'text'\n",
    "    }\n",
    "}\n",
    ")"
   ]
  },
  {
   "cell_type": "markdown",
   "metadata": {},
   "source": [
    "**Example numbers with python**"
   ]
  },
  {
   "cell_type": "code",
   "execution_count": null,
   "metadata": {},
   "outputs": [],
   "source": [
    "iso = \"UGA\"\n",
    "query =(\"SELECT iso, count(*) as total_lines, sum(length_km) as total_length_km \"\n",
    "\"FROM electrical_grid \"\n",
    "\"WHERE iso = 'UGA' \"\n",
    "\"GROUP BY iso \"\n",
    "\"ORDER BY iso \"\n",
    ")\n",
    "\n",
    "account = 'ikerey'\n",
    "urlCarto = f\"https://{account}.carto.com/api/v2/sql\"\n",
    "\n",
    "sql = {\"q\": query}\n",
    "r = requests.get(urlCarto, params=sql)\n",
    "\n",
    "data = r.json().get('rows')\n",
    "df = pd.DataFrame.from_dict(json_normalize(data))\n",
    "df.head()"
   ]
  },
  {
   "cell_type": "markdown",
   "metadata": {},
   "source": [
    "## Movile Coverage\n",
    "**Percentage area covered by GSM, 3G, and 4G (chart)**"
   ]
  },
  {
   "cell_type": "markdown",
   "metadata": {},
   "source": [
    "Polygon "
   ]
  },
  {
   "cell_type": "markdown",
   "metadata": {},
   "source": [
    "```sql\n",
    "WITH b as (SELECT st_setsrid(st_geomfromgeojson('{\"type\":\"Polygon\",\"coordinates\":[[[30.618896484375,-0.5053645409602877],[31.651611328125004,-0.5053645409602877],[31.651611328125004,0.208739772610497],[30.618896484375,0.208739772610497],[30.618896484375,-0.5053645409602877]]]}'),4326) as the_geom)\n",
    "\n",
    "SELECT round(((a3g.area_3g/atot.area_tot)*100)::numeric, 1) as area_percentage_gsm, round(((a3g.area_3g/atot.area_tot)*100)::numeric, 1) as area_percentage_3g, round(((a4g.area_4g/atot.area_tot)*100)::numeric, 1) as area_percentage_4g,\n",
    "FROM (SELECT sum(ST_Area(ST_Intersection(m.the_geom, b.the_geom))) as area_gsm\n",
    "        FROM mobile_coverage_global_gsm as m, b \n",
    "       WHERE ST_Intersects(m.the_geom, b.the_geom)\n",
    "      ) as gsm,\n",
    "      (SELECT sum(ST_Area(ST_Intersection(m.the_geom, b.the_geom))) as area_3g\n",
    "        FROM mobile_coverage_global_3g as m, b \n",
    "       WHERE ST_Intersects(m.the_geom, b.the_geom)\n",
    "      ) as a3g,\n",
    "     (SELECT sum(ST_Area(ST_Intersection(m.the_geom, b.the_geom))) as area_4g\n",
    "        FROM mobile_coverage_global_4g as m, b \n",
    "       WHERE ST_Intersects(m.the_geom, b.the_geom)\n",
    "      ) as a4g,\n",
    "     (SELECT ST_Area(b.the_geom) as area_tot\n",
    "        FROM b \n",
    "      ) as atot\n",
    "```"
   ]
  },
  {
   "cell_type": "markdown",
   "metadata": {},
   "source": [
    "*widget_config*"
   ]
  },
  {
   "cell_type": "code",
   "execution_count": 83,
   "metadata": {},
   "outputs": [
    {
     "data": {
      "text/plain": [
       "'{\"widgetConfig\": {\"params_config\": [{\"required\": true, \"key\": \"account\"}, {\"required\": true, \"key\": \"geojson\"}], \"sql_query\": \"https://{{account}}.carto.com/api/v2/sql?q=WITH b as (SELECT st_setsrid(st_geomfromgeojson({{geojson}}),4326) as the_geom) SELECT round(((a3g.area_3g/atot.area_tot)*100)::numeric, 1) as area_percentage_gsm, round(((a3g.area_3g/atot.area_tot)*100)::numeric, 1) as area_percentage_3g, round(((a4g.area_4g/atot.area_tot)*100)::numeric, 1) as area_percentage_4g, FROM (SELECT sum(ST_Area(ST_Intersection(m.the_geom, b.the_geom))) as area_gsm FROM mobile_coverage_global_gsm as m, b WHERE ST_Intersects(m.the_geom, b.the_geom)) as gsm, (SELECT sum(ST_Area(ST_Intersection(m.the_geom, b.the_geom))) as area_3g FROM mobile_coverage_global_3g as m, b WHERE ST_Intersects(m.the_geom, b.the_geom)) as a3g, (SELECT sum(ST_Area(ST_Intersection(m.the_geom, b.the_geom))) as area_4g FROM mobile_coverage_global_4g as m, b WHERE ST_Intersects(m.the_geom, b.the_geom)) as a4g, (SELECT ST_Area(b.the_geom) as area_tot FROM b) as atot\", \"type\": \"text\"}}'"
      ]
     },
     "execution_count": 83,
     "metadata": {},
     "output_type": "execute_result"
    }
   ],
   "source": [
    "json.dumps(\n",
    "{\n",
    "    'widgetConfig': \n",
    "    {\n",
    "        'params_config': [\n",
    "            {\n",
    "                'required': True,\n",
    "                'key': 'account'\n",
    "            },\n",
    "            {\n",
    "                'required': True,\n",
    "                'key': 'geojson'\n",
    "            }           \n",
    "        ],\n",
    "        'sql_query': 'https://{{account}}.carto.com/api/v2/sql?q=WITH b as (SELECT st_setsrid(st_geomfromgeojson({{geojson}}),4326) as the_geom) SELECT round(((a3g.area_3g/atot.area_tot)*100)::numeric, 1) as area_percentage_gsm, round(((a3g.area_3g/atot.area_tot)*100)::numeric, 1) as area_percentage_3g, round(((a4g.area_4g/atot.area_tot)*100)::numeric, 1) as area_percentage_4g, FROM (SELECT sum(ST_Area(ST_Intersection(m.the_geom, b.the_geom))) as area_gsm FROM mobile_coverage_global_gsm as m, b WHERE ST_Intersects(m.the_geom, b.the_geom)) as gsm, (SELECT sum(ST_Area(ST_Intersection(m.the_geom, b.the_geom))) as area_3g FROM mobile_coverage_global_3g as m, b WHERE ST_Intersects(m.the_geom, b.the_geom)) as a3g, (SELECT sum(ST_Area(ST_Intersection(m.the_geom, b.the_geom))) as area_4g FROM mobile_coverage_global_4g as m, b WHERE ST_Intersects(m.the_geom, b.the_geom)) as a4g, (SELECT ST_Area(b.the_geom) as area_tot FROM b) as atot',\n",
    "      \n",
    "        'type': 'text'\n",
    "    }\n",
    "}\n",
    ")"
   ]
  },
  {
   "cell_type": "markdown",
   "metadata": {},
   "source": [
    "Country"
   ]
  },
  {
   "cell_type": "markdown",
   "metadata": {},
   "source": [
    "```sql\n",
    "WITH b as (SELECT the_geom FROM world_borders_hd as b \n",
    "            WHERE b.iso_a3 = 'UGA')\n",
    "            \n",
    "SELECT round(((a3g.area_3g/atot.area_tot)*100)::numeric, 1) as area_percentage_gsm, round(((a3g.area_3g/atot.area_tot)*100)::numeric, 1) as area_percentage_3g, round(((a4g.area_4g/atot.area_tot)*100)::numeric, 1) as area_percentage_4g,\n",
    "FROM (SELECT sum(ST_Area(ST_Intersection(m.the_geom, b.the_geom))) as area_gsm\n",
    "        FROM mobile_coverage_global_gsm as m, b \n",
    "       WHERE ST_Intersects(m.the_geom, b.the_geom)\n",
    "      ) as gsm,\n",
    "      (SELECT sum(ST_Area(ST_Intersection(m.the_geom, b.the_geom))) as area_3g\n",
    "        FROM mobile_coverage_global_3g as m, b \n",
    "       WHERE ST_Intersects(m.the_geom, b.the_geom)\n",
    "      ) as a3g,\n",
    "     (SELECT sum(ST_Area(ST_Intersection(m.the_geom, b.the_geom))) as area_4g\n",
    "        FROM mobile_coverage_global_4g as m, b \n",
    "       WHERE ST_Intersects(m.the_geom, b.the_geom)\n",
    "      ) as a4g,\n",
    "     (SELECT ST_Area(b.the_geom) as area_tot\n",
    "        FROM b \n",
    "      ) as atot          \n",
    "```"
   ]
  },
  {
   "cell_type": "markdown",
   "metadata": {},
   "source": [
    "*widget_config*"
   ]
  },
  {
   "cell_type": "code",
   "execution_count": 37,
   "metadata": {},
   "outputs": [
    {
     "data": {
      "text/plain": [
       "'{\"widgetConfig\": {\"params_config\": [{\"required\": true, \"key\": \"iso\"}], \"sql_query\": \"WITH b as (SELECT the_geom FROM world_borders_hd as b WHERE b.iso_a3 = {{iso}}) SELECT round(((a3g.area_3g/atot.area_tot)*100)::numeric, 1) as area_percentage_gsm, round(((a3g.area_3g/atot.area_tot)*100)::numeric, 1) as area_percentage_3g, round(((a4g.area_4g/atot.area_tot)*100)::numeric, 1) as area_percentage_4g, FROM (SELECT sum(ST_Area(ST_Intersection(m.the_geom, b.the_geom))) as area_gsm FROM mobile_coverage_global_gsm as m, b WHERE ST_Intersects(m.the_geom, b.the_geom)) as gsm, (SELECT sum(ST_Area(ST_Intersection(m.the_geom, b.the_geom))) as area_3g FROM mobile_coverage_global_3g as m, b WHERE ST_Intersects(m.the_geom, b.the_geom)) as a3g, (SELECT sum(ST_Area(ST_Intersection(m.the_geom, b.the_geom))) as area_4g FROM mobile_coverage_global_4g as m, b WHERE ST_Intersects(m.the_geom, b.the_geom)) as a4g, (SELECT ST_Area(b.the_geom) as area_tot FROM b) as atot\", \"type\": \"text\"}}'"
      ]
     },
     "execution_count": 37,
     "metadata": {},
     "output_type": "execute_result"
    }
   ],
   "source": [
    "json.dumps(\n",
    "{\n",
    "    'widgetConfig': \n",
    "    {\n",
    "        'params_config': [\n",
    "            {\n",
    "                'required': True,\n",
    "                'key': 'account'\n",
    "            },\n",
    "            {\n",
    "                'required': True,\n",
    "                'key': 'iso'\n",
    "            }           \n",
    "        ],\n",
    "        'sql_query': 'https://{{account}}.carto.com/api/v2/sql?q=WITH b as (SELECT the_geom FROM world_borders_hd as b WHERE b.iso_a3 = {{iso}}) SELECT round(((a3g.area_3g/atot.area_tot)*100)::numeric, 1) as area_percentage_gsm, round(((a3g.area_3g/atot.area_tot)*100)::numeric, 1) as area_percentage_3g, round(((a4g.area_4g/atot.area_tot)*100)::numeric, 1) as area_percentage_4g, FROM (SELECT sum(ST_Area(ST_Intersection(m.the_geom, b.the_geom))) as area_gsm FROM mobile_coverage_global_gsm as m, b WHERE ST_Intersects(m.the_geom, b.the_geom)) as gsm, (SELECT sum(ST_Area(ST_Intersection(m.the_geom, b.the_geom))) as area_3g FROM mobile_coverage_global_3g as m, b WHERE ST_Intersects(m.the_geom, b.the_geom)) as a3g, (SELECT sum(ST_Area(ST_Intersection(m.the_geom, b.the_geom))) as area_4g FROM mobile_coverage_global_4g as m, b WHERE ST_Intersects(m.the_geom, b.the_geom)) as a4g, (SELECT ST_Area(b.the_geom) as area_tot FROM b) as atot',\n",
    "      \n",
    "        'type': 'text'\n",
    "    }\n",
    "}\n",
    ")"
   ]
  },
  {
   "cell_type": "markdown",
   "metadata": {},
   "source": [
    "## Urban Areas\n",
    "**Percentage of Urban and Rural areas (chart)**"
   ]
  },
  {
   "cell_type": "markdown",
   "metadata": {},
   "source": [
    "Polygon"
   ]
  },
  {
   "cell_type": "markdown",
   "metadata": {},
   "source": [
    "```sql\n",
    "WITH b as (SELECT st_setsrid(st_geomfromgeojson('\n",
    "{\"type\":\"Polygon\",\"coordinates\":[[[30.618896484375,-0.5053645409602877],[31.651611328125004,-0.5053645409602877],[31.651611328125004,0.208739772610497],[30.618896484375,0.208739772610497],[30.618896484375,-0.5053645409602877]]]}'),4326) as the_geom),\n",
    "     u as (SELECT ST_Intersection(u.the_geom,b.the_geom) as the_geom \n",
    "             FROM urban_areas as u, b\n",
    "            WHERE ST_Intersects(b.the_geom, u.the_geom))\n",
    "\n",
    "SELECT round(((COALESCE(urb.pop,tot.pop)/tot.pop)*100)::numeric, 1) as urban_population_percentage, round((((tot.pop - COALESCE(urb.pop,tot.pop))/tot.pop)*100)::numeric,1) as rural_population_percentage\n",
    "FROM (SELECT round((ST_SummaryStatsAgg(ST_Clip(the_raster_webmercator, b.the_geom),1,True)).sum) as pop\n",
    "        FROM population_count_2015, b \n",
    "       WHERE ST_Intersects(the_raster_webmercator, b.the_geom)\n",
    "      ) as tot,\n",
    "     (SELECT round((ST_SummaryStatsAgg(ST_Clip(the_raster_webmercator, u.the_geom),1,True)).sum) as pop\n",
    "        FROM population_count_2015, u \n",
    "       WHERE ST_Intersects(the_raster_webmercator, u.the_geom)\n",
    "      ) as urb\n",
    "```"
   ]
  },
  {
   "cell_type": "markdown",
   "metadata": {},
   "source": [
    "*widget_config*"
   ]
  },
  {
   "cell_type": "code",
   "execution_count": 84,
   "metadata": {},
   "outputs": [
    {
     "data": {
      "text/plain": [
       "'{\"widgetConfig\": {\"params_config\": [{\"required\": true, \"key\": \"account\"}, {\"required\": true, \"key\": \"geojson\"}], \"sql_query\": \"https://{{account}}.carto.com/api/v2/sql?q=WITH b as (SELECT st_setsrid(st_geomfromgeojson({{geojson}}),4326) as the_geom), u as (SELECT ST_Intersection(u.the_geom,b.the_geom) as the_geom FROM urban_areas as u, b WHERE ST_Intersects(b.the_geom, u.the_geom)) SELECT round(((COALESCE(urb.pop,tot.pop)/tot.pop)*100)::numeric, 1) as urban_population_percentage, round((((tot.pop - COALESCE(urb.pop,tot.pop))/tot.pop)*100)::numeric,1) as rural_population_percentage FROM (SELECT round((ST_SummaryStatsAgg(ST_Clip(the_raster_webmercator, b.the_geom),1,True)).sum) as pop FROM population_count_2015, b WHERE ST_Intersects(the_raster_webmercator, b.the_geom)) as tot, (SELECT round((ST_SummaryStatsAgg(ST_Clip(the_raster_webmercator, u.the_geom),1,True)).sum) as pop FROM population_count_2015, u WHERE ST_Intersects(the_raster_webmercator, u.the_geom)) as urb\", \"type\": \"text\"}}'"
      ]
     },
     "execution_count": 84,
     "metadata": {},
     "output_type": "execute_result"
    }
   ],
   "source": [
    "json.dumps(\n",
    "{\n",
    "    'widgetConfig': \n",
    "    {\n",
    "        'params_config': [\n",
    "            {\n",
    "                'required': True,\n",
    "                'key': 'account'\n",
    "            },\n",
    "            {\n",
    "                'required': True,\n",
    "                'key': 'geojson'\n",
    "            }           \n",
    "        ],\n",
    "        'sql_query': 'https://{{account}}.carto.com/api/v2/sql?q=WITH b as (SELECT st_setsrid(st_geomfromgeojson({{geojson}}),4326) as the_geom), u as (SELECT ST_Intersection(u.the_geom,b.the_geom) as the_geom FROM urban_areas as u, b WHERE ST_Intersects(b.the_geom, u.the_geom)) SELECT round(((COALESCE(urb.pop,tot.pop)/tot.pop)*100)::numeric, 1) as urban_population_percentage, round((((tot.pop - COALESCE(urb.pop,tot.pop))/tot.pop)*100)::numeric,1) as rural_population_percentage FROM (SELECT round((ST_SummaryStatsAgg(ST_Clip(the_raster_webmercator, b.the_geom),1,True)).sum) as pop FROM population_count_2015, b WHERE ST_Intersects(the_raster_webmercator, b.the_geom)) as tot, (SELECT round((ST_SummaryStatsAgg(ST_Clip(the_raster_webmercator, u.the_geom),1,True)).sum) as pop FROM population_count_2015, u WHERE ST_Intersects(the_raster_webmercator, u.the_geom)) as urb',\n",
    "      \n",
    "        'type': 'text'\n",
    "    }\n",
    "}\n",
    ")"
   ]
  },
  {
   "cell_type": "markdown",
   "metadata": {},
   "source": [
    "Country"
   ]
  },
  {
   "cell_type": "markdown",
   "metadata": {},
   "source": [
    "```sql\n",
    "WITH b as (SELECT the_geom FROM world_borders_hd as b \n",
    "            WHERE b.iso_a3 = 'UGA'),\n",
    "     u as (SELECT ST_Intersection(u.the_geom,b.the_geom) as the_geom FROM urban_areas as u\n",
    "             JOIN world_borders_hd as b\n",
    "               ON ST_Intersects(b.the_geom, u.the_geom)\n",
    "            WHERE b.iso_a3 = 'UGA')\n",
    "\n",
    "SELECT round(((COALESCE(urb.pop,tot.pop)/tot.pop)*100)::numeric, 1) as urban_population_percentage, round((((tot.pop - COALESCE(urb.pop,tot.pop))/tot.pop)*100)::numeric,1) as rural_population_percentage\n",
    "FROM (SELECT round((ST_SummaryStatsAgg(ST_Clip(the_raster_webmercator, b.the_geom),1,True)).sum) as pop\n",
    "        FROM population_count_2015, b \n",
    "       WHERE ST_Intersects(the_raster_webmercator, b.the_geom)\n",
    "      ) as tot,\n",
    "     (SELECT round((ST_SummaryStatsAgg(ST_Clip(the_raster_webmercator, u.the_geom),1,True)).sum) as pop\n",
    "        FROM population_count_2015, u \n",
    "       WHERE ST_Intersects(the_raster_webmercator, u.the_geom)\n",
    "      ) as urb\n",
    "```"
   ]
  },
  {
   "cell_type": "markdown",
   "metadata": {},
   "source": [
    "*widget_config*"
   ]
  },
  {
   "cell_type": "code",
   "execution_count": 85,
   "metadata": {},
   "outputs": [
    {
     "data": {
      "text/plain": [
       "'{\"widgetConfig\": {\"params_config\": [{\"required\": true, \"key\": \"account\"}, {\"required\": true, \"key\": \"iso\"}], \"sql_query\": \"https://{{account}}.carto.com/api/v2/sql?q=WITH b as (SELECT the_geom FROM world_borders_hd as b WHERE b.iso_a3 = {{iso}}), u as (SELECT ST_Intersection(u.the_geom,b.the_geom) as the_geom FROM urban_areas as u JOIN world_borders_hd as b ON ST_Intersects(b.the_geom, u.the_geom) WHERE b.iso_a3 = {{iso}}) SELECT round(((COALESCE(urb.pop,tot.pop)/tot.pop)*100)::numeric, 1) as urban_population_percentage, round((((tot.pop - COALESCE(urb.pop,tot.pop))/tot.pop)*100)::numeric,1) as rural_population_percentage FROM (SELECT round((ST_SummaryStatsAgg(ST_Clip(the_raster_webmercator, b.the_geom),1,True)).sum) as pop FROM population_count_2015, b WHERE ST_Intersects(the_raster_webmercator, b.the_geom)) as tot, (SELECT round((ST_SummaryStatsAgg(ST_Clip(the_raster_webmercator, u.the_geom),1,True)).sum) as pop FROM population_count_2015, u WHERE ST_Intersects(the_raster_webmercator, u.the_geom)) as urb\", \"type\": \"text\"}}'"
      ]
     },
     "execution_count": 85,
     "metadata": {},
     "output_type": "execute_result"
    }
   ],
   "source": [
    "json.dumps(\n",
    "{\n",
    "    'widgetConfig': \n",
    "    {\n",
    "        'params_config': [\n",
    "            {\n",
    "                'required': True,\n",
    "                'key': 'account'\n",
    "            },\n",
    "            {\n",
    "                'required': True,\n",
    "                'key': 'iso'\n",
    "            }           \n",
    "        ],\n",
    "        'sql_query': 'https://{{account}}.carto.com/api/v2/sql?q=WITH b as (SELECT the_geom FROM world_borders_hd as b WHERE b.iso_a3 = {{iso}}), u as (SELECT ST_Intersection(u.the_geom,b.the_geom) as the_geom FROM urban_areas as u JOIN world_borders_hd as b ON ST_Intersects(b.the_geom, u.the_geom) WHERE b.iso_a3 = {{iso}}) SELECT round(((COALESCE(urb.pop,tot.pop)/tot.pop)*100)::numeric, 1) as urban_population_percentage, round((((tot.pop - COALESCE(urb.pop,tot.pop))/tot.pop)*100)::numeric,1) as rural_population_percentage FROM (SELECT round((ST_SummaryStatsAgg(ST_Clip(the_raster_webmercator, b.the_geom),1,True)).sum) as pop FROM population_count_2015, b WHERE ST_Intersects(the_raster_webmercator, b.the_geom)) as tot, (SELECT round((ST_SummaryStatsAgg(ST_Clip(the_raster_webmercator, u.the_geom),1,True)).sum) as pop FROM population_count_2015, u WHERE ST_Intersects(the_raster_webmercator, u.the_geom)) as urb',\n",
    "      \n",
    "        'type': 'text'\n",
    "    }\n",
    "}\n",
    ")"
   ]
  },
  {
   "cell_type": "markdown",
   "metadata": {},
   "source": [
    "## [Accessibility to Cities](https://resourcewatch.org/data/explore/cit01701-Travel-Time-to-Major-Cities)  \n",
    "**Time to reach a city (numeric)** \n",
    "[dataset](http://api.resourcewatch.org/v1/dataset/ccbcaf7b-1619-4298-8275-b135d1e8e04e)"
   ]
  },
  {
   "cell_type": "code",
   "execution_count": 49,
   "metadata": {},
   "outputs": [
    {
     "data": {
      "text/plain": [
       "'https://api.resourcewatch.org/v1/query?sql=SELECT+ST_SUMMARYSTATS%28%29+FROM+%27cit01701-Travel-Time-to-Major-Cities%27+WHERE+ST_INTERSECTS%28the_geom%2C+ST_SetSRID%28ST_GeomFromGeoJSON%28%27%7B%22type%22%3A%22Polygon%22%2C%22coordinates%22%3A%5B%5B%5B36.507568359375%2C-1.6037944300589726%5D%2C%5B37.15576171875%2C-1.6037944300589726%5D%2C%5B37.15576171875%2C-0.9887204566941844%5D%2C%5B36.507568359375%2C-0.9887204566941844%5D%2C%5B36.507568359375%2C-1.6037944300589726%5D%5D%5D%7D%27%29%2C4326%29%29'"
      ]
     },
     "execution_count": 49,
     "metadata": {},
     "output_type": "execute_result"
    }
   ],
   "source": [
    "slug = 'cit01701-Travel-Time-to-Major-Cities'\n",
    "sql = \"SELECT ST_SUMMARYSTATS() FROM 'cit01701-Travel-Time-to-Major-Cities' WHERE ST_INTERSECTS(the_geom, ST_SetSRID(ST_GeomFromGeoJSON('{\\\"type\\\":\\\"Polygon\\\",\\\"coordinates\\\":[[[36.507568359375,-1.6037944300589726],[37.15576171875,-1.6037944300589726],[37.15576171875,-0.9887204566941844],[36.507568359375,-0.9887204566941844],[36.507568359375,-1.6037944300589726]]]}'),4326))\"\n",
    "\n",
    "params={\"sql\": sql}\n",
    "url = \"https://api.resourcewatch.org/v1/query\"\n",
    "r = requests.get(f\"{url}\", params)\n",
    "r.url"
   ]
  },
  {
   "cell_type": "code",
   "execution_count": 50,
   "metadata": {},
   "outputs": [
    {
     "data": {
      "text/plain": [
       "{'data': [{'st_summarystats': {'accessibility': {'count': 5925,\n",
       "     'max': 143,\n",
       "     'mean': 21.50045187358482,\n",
       "     'min': 0,\n",
       "     'stdev': 22.65017824069809,\n",
       "     'sum': 123429.8784313725}}}],\n",
       " 'meta': {}}"
      ]
     },
     "execution_count": 50,
     "metadata": {},
     "output_type": "execute_result"
    }
   ],
   "source": [
    "r.json()"
   ]
  },
  {
   "cell_type": "markdown",
   "metadata": {},
   "source": [
    "*widget_config*"
   ]
  },
  {
   "cell_type": "code",
   "execution_count": 48,
   "metadata": {},
   "outputs": [
    {
     "data": {
      "text/plain": [
       "'{\"widgetConfig\": {\"params_config\": [{\"required\": true, \"key\": \"geojson\"}], \"sql_query\": \"https://api.resourcewatch.org/v1/query?sql=SELECT ST_SUMMARYSTATS() FROM \\'cit01701-Travel-Time-to-Major-Cities\\' WHERE ST_INTERSECTS(the_geom, ST_SetSRID(ST_GeomFromGeoJSON({{geojson}}),4326))\", \"type\": \"text\"}}'"
      ]
     },
     "execution_count": 48,
     "metadata": {},
     "output_type": "execute_result"
    }
   ],
   "source": [
    "json.dumps(\n",
    "{\n",
    "    'widgetConfig': \n",
    "    {\n",
    "        'params_config': [\n",
    "            {\n",
    "                'required': True,\n",
    "                'key': 'geojson'\n",
    "            }   \n",
    "        ],\n",
    "        'sql_query': 'https://api.resourcewatch.org/v1/query?sql=SELECT ST_SUMMARYSTATS() FROM \\'cit01701-Travel-Time-to-Major-Cities\\' WHERE ST_INTERSECTS(the_geom, ST_SetSRID(ST_GeomFromGeoJSON({{geojson}}),4326))',        \n",
    "        'type': 'text'\n",
    "    }\n",
    "}\n",
    ")"
   ]
  },
  {
   "cell_type": "markdown",
   "metadata": {},
   "source": [
    "## [Population (Grid, 1 km)](https://resourcewatch.org/data/explore/soc_031-Gridded-Population)\n",
    "**Population density per year (chart)**\n",
    "[dataset](http://api.resourcewatch.org/v1/dataset/595bcf6f-0343-4146-ba0d-c54b1c928510)"
   ]
  },
  {
   "cell_type": "code",
   "execution_count": 57,
   "metadata": {},
   "outputs": [
    {
     "data": {
      "text/plain": [
       "{'data': [{'st_summarystats': {'year1975': {'count': 306720,\n",
       "     'max': 20655.798828125,\n",
       "     'mean': 20.634323809428867,\n",
       "     'min': 0,\n",
       "     'stdev': 206.0040445862517,\n",
       "     'sum': 6304688.088785033},\n",
       "    'year1990': {'count': 306720,\n",
       "     'max': 13113.0048828125,\n",
       "     'mean': 37.01764362550636,\n",
       "     'min': 0,\n",
       "     'stdev': 257.3968380953515,\n",
       "     'sum': 11310508.59703839},\n",
       "    'year2000': {'count': 306720,\n",
       "     'max': 14453.2607421875,\n",
       "     'mean': 50.01269684336053,\n",
       "     'min': 0,\n",
       "     'stdev': 311.68809654028195,\n",
       "     'sum': 15281065.51920392},\n",
       "    'year2015': {'count': 306720,\n",
       "     'max': 26782,\n",
       "     'mean': 73.91719650762957,\n",
       "     'min': 0,\n",
       "     'stdev': 418.27779004724715,\n",
       "     'sum': 22584935.308860686}}}],\n",
       " 'meta': {}}"
      ]
     },
     "execution_count": 57,
     "metadata": {},
     "output_type": "execute_result"
    }
   ],
   "source": [
    "sql = \"SELECT ST_SUMMARYSTATS() FROM 'soc072-Population-Grid-250-m' WHERE ST_INTERSECTS(the_geom, ST_SetSRID(ST_GeomFromGeoJSON('{\\\"type\\\":\\\"Polygon\\\",\\\"coordinates\\\":[[[36.507568359375,-1.6037944300589726],[37.15576171875,-1.6037944300589726],[37.15576171875,-0.9887204566941844],[36.507568359375,-0.9887204566941844],[36.507568359375,-1.6037944300589726]]]}'),4326))\"\n",
    "\n",
    "params={\"sql\": sql}\n",
    "url = \"https://api.resourcewatch.org/v1/query\"\n",
    "r = requests.get(f\"{url}\", params)\n",
    "r.json()"
   ]
  },
  {
   "cell_type": "markdown",
   "metadata": {},
   "source": [
    "*widget_config*"
   ]
  },
  {
   "cell_type": "code",
   "execution_count": 49,
   "metadata": {},
   "outputs": [
    {
     "data": {
      "text/plain": [
       "'{\"widgetConfig\": {\"params_config\": [{\"required\": true, \"key\": \"geojson\"}], \"sql_query\": \"https://api.resourcewatch.org/v1/query?sql=SELECT ST_SUMMARYSTATS() FROM \\'soc072-Population-Grid-250-m\\' WHERE ST_INTERSECTS(the_geom, ST_SetSRID(ST_GeomFromGeoJSON({{geojson}}),4326))\", \"type\": \"text\"}}'"
      ]
     },
     "execution_count": 49,
     "metadata": {},
     "output_type": "execute_result"
    }
   ],
   "source": [
    "json.dumps(\n",
    "{\n",
    "    'widgetConfig': \n",
    "    {\n",
    "        'params_config': [\n",
    "            {\n",
    "                'required': True,\n",
    "                'key': 'geojson'\n",
    "            }   \n",
    "        ],\n",
    "        'sql_query': 'https://api.resourcewatch.org/v1/query?sql=SELECT ST_SUMMARYSTATS() FROM \\'soc072-Population-Grid-250-m\\' WHERE ST_INTERSECTS(the_geom, ST_SetSRID(ST_GeomFromGeoJSON({{geojson}}),4326))',        \n",
    "        'type': 'text'\n",
    "    }\n",
    "}\n",
    ")"
   ]
  },
  {
   "cell_type": "markdown",
   "metadata": {},
   "source": [
    "## [Urban Built-Up Area](https://resourcewatch.org/data/explore/Cit014-Built-Up-Grid)\n",
    "**Built-Up Areas (%) per year (chart)**\n",
    "[dataset](http://api.resourcewatch.org/v1/dataset/f6bb99af-541a-4d41-9e47-cc36cb479d4b)"
   ]
  },
  {
   "cell_type": "code",
   "execution_count": 39,
   "metadata": {},
   "outputs": [
    {
     "data": {
      "text/plain": [
       "{'b1': '1975 Built-Up Areas (%)',\n",
       " 'b2': '1990 Built-Up Areas (%)',\n",
       " 'b3': '2000 Built-Up Areas (%)',\n",
       " 'b4': '2014 Built-Up Areas (%)'}"
      ]
     },
     "execution_count": 39,
     "metadata": {},
     "output_type": "execute_result"
    }
   ],
   "source": [
    "{'b1': '1975 Built-Up Areas (%)', 'b2': '1990 Built-Up Areas (%)', 'b3': '2000 Built-Up Areas (%)', 'b4': '2014 Built-Up Areas (%)'}"
   ]
  },
  {
   "cell_type": "code",
   "execution_count": 44,
   "metadata": {},
   "outputs": [
    {
     "data": {
      "text/plain": [
       "{'data': [{'st_summarystats': {'b1': {'count': 119,\n",
       "     'max': 0.867158830165863,\n",
       "     'mean': 0.15315479725326048,\n",
       "     'min': 0,\n",
       "     'stdev': 0.1801299923705741,\n",
       "     'sum': 14.875835366151984},\n",
       "    'b2': {'count': 119,\n",
       "     'max': 0.983106791973114,\n",
       "     'mean': 0.2923071597571166,\n",
       "     'min': 0,\n",
       "     'stdev': 0.30780335532103165,\n",
       "     'sum': 28.391622481820644},\n",
       "    'b3': {'count': 119,\n",
       "     'max': 0.9919904470443726,\n",
       "     'mean': 0.3164469165443291,\n",
       "     'min': 0,\n",
       "     'stdev': 0.3205172815396378,\n",
       "     'sum': 30.736302858705663},\n",
       "    'b4': {'count': 119,\n",
       "     'max': 1,\n",
       "     'mean': 0.3765611606713531,\n",
       "     'min': 0,\n",
       "     'stdev': 0.33403026875520064,\n",
       "     'sum': 36.57516402944343}}}],\n",
       " 'meta': {}}"
      ]
     },
     "execution_count": 44,
     "metadata": {},
     "output_type": "execute_result"
    }
   ],
   "source": [
    "sql = \"SELECT ST_SUMMARYSTATS() FROM 'Cit014-Built-Up-Grid' WHERE ST_INTERSECTS(the_geom, ST_SetSRID(ST_GeomFromGeoJSON('{\\\"type\\\":\\\"Polygon\\\",\\\"coordinates\\\":[[[36.7987060546875,-1.2942167094566774],[36.82548522949219,-1.2942167094566774],[36.82548522949219,-1.271563087631464],[36.7987060546875,-1.271563087631464],[36.7987060546875,-1.2942167094566774]]]}'),4326))\"\n",
    "\n",
    "params={\"sql\": sql}\n",
    "url = \"https://api.resourcewatch.org/v1/query\"\n",
    "r = requests.get(f\"{url}\", params)\n",
    "r.json()"
   ]
  },
  {
   "cell_type": "markdown",
   "metadata": {},
   "source": [
    "*widget_config*"
   ]
  },
  {
   "cell_type": "code",
   "execution_count": 50,
   "metadata": {},
   "outputs": [
    {
     "data": {
      "text/plain": [
       "'{\"widgetConfig\": {\"params_config\": [{\"required\": true, \"key\": \"geojson\"}], \"sql_query\": \"https://api.resourcewatch.org/v1/query?sql=SELECT ST_SUMMARYSTATS() FROM \\'Cit014-Built-Up-Grid\\' WHERE ST_INTERSECTS(the_geom, ST_SetSRID(ST_GeomFromGeoJSON({{geojson}}),4326))\", \"type\": \"text\"}}'"
      ]
     },
     "execution_count": 50,
     "metadata": {},
     "output_type": "execute_result"
    }
   ],
   "source": [
    "json.dumps(\n",
    "{\n",
    "    'widgetConfig': \n",
    "    {\n",
    "        'params_config': [\n",
    "            {\n",
    "                'required': True,\n",
    "                'key': 'geojson'\n",
    "            }   \n",
    "        ],\n",
    "        'sql_query': 'https://api.resourcewatch.org/v1/query?sql=SELECT ST_SUMMARYSTATS() FROM \\'Cit014-Built-Up-Grid\\' WHERE ST_INTERSECTS(the_geom, ST_SetSRID(ST_GeomFromGeoJSON({{geojson}}),4326))',        \n",
    "        'type': 'text'\n",
    "    }\n",
    "}\n",
    ")"
   ]
  },
  {
   "cell_type": "markdown",
   "metadata": {},
   "source": [
    "## [Agricultural Exposure to Water Stress](https://resourcewatch.org/data/explore/wat033-Agriculture-Water-Demand-and-Depletion)\n",
    "**Area covered by category (chart)** \n",
    "[dataset](http://api.resourcewatch.org/v1/dataset/05c330d7-49cf-42d6-bada-e255b8c8e115)"
   ]
  },
  {
   "cell_type": "markdown",
   "metadata": {},
   "source": [
    "```html\n",
    "https://api.resourcewatch.org/v1/query/05c330d7-49cf-42d6-bada-e255b8c8e115?sql=SELECT sum(area_km2) as total_area_km2, ws2024tl as category FROM aqueduct_projections_20150309 WHERE ST_INTERSECTS(the_geom, ST_SetSRID(ST_GeomFromGeoJSON('{\"type\":\"Polygon\",\"coordinates\":[[[35.44189453125,-6.533645130567532],[42.0556640625,-6.533645130567532],[42.0556640625,0.6591651462894632],[35.44189453125,0.6591651462894632],[35.44189453125,-6.533645130567532]]]}'),4326)) GROUP BY ws2024tl\n",
    "```"
   ]
  },
  {
   "cell_type": "markdown",
   "metadata": {},
   "source": [
    "*widget_config*"
   ]
  },
  {
   "cell_type": "code",
   "execution_count": 69,
   "metadata": {},
   "outputs": [
    {
     "data": {
      "text/plain": [
       "'{\"widgetConfig\": {\"params_config\": [{\"required\": true, \"key\": \"geojson\"}], \"sql_query\": \"https://api.resourcewatch.org/v1/query/05c330d7-49cf-42d6-bada-e255b8c8e115?sql=SELECT sum(area_km2) as total_area_km2, ws2024tl as category FROM aqueduct_projections_20150309 WHERE ST_INTERSECTS(the_geom, ST_SetSRID(ST_GeomFromGeoJSON({{geojson}}),4326)) GROUP BY ws2024tl\", \"type\": \"text\"}}'"
      ]
     },
     "execution_count": 69,
     "metadata": {},
     "output_type": "execute_result"
    }
   ],
   "source": [
    "json.dumps(\n",
    "{\n",
    "    'widgetConfig': \n",
    "    {\n",
    "        'params_config': [\n",
    "            {\n",
    "                'required': True,\n",
    "                'key': 'geojson'\n",
    "            }   \n",
    "        ],\n",
    "        'sql_query': 'https://api.resourcewatch.org/v1/query/05c330d7-49cf-42d6-bada-e255b8c8e115?sql=SELECT sum(area_km2) as total_area_km2, ws2024tl as category FROM aqueduct_projections_20150309 WHERE ST_INTERSECTS(the_geom, ST_SetSRID(ST_GeomFromGeoJSON({{geojson}}),4326)) GROUP BY ws2024tl',        \n",
    "        'type': 'text'\n",
    "    }\n",
    "}\n",
    ")"
   ]
  },
  {
   "cell_type": "markdown",
   "metadata": {},
   "source": [
    "## [Erosion Risk](https://resourcewatch.org/data/explore/wat015-Erosion-Risk)\n",
    "**Erosion risk (%) (chart)**\n",
    "[dataset](http://api.resourcewatch.org/v1/dataset/e6e83d98-aa1f-495f-916c-b33d0657e0fe)"
   ]
  },
  {
   "cell_type": "code",
   "execution_count": 41,
   "metadata": {},
   "outputs": [
    {
     "data": {
      "text/plain": [
       "{1: 'Low', 2: 'Low-Medium', 3: 'Medium', 4: 'Medium-High', 5: 'High'}"
      ]
     },
     "execution_count": 41,
     "metadata": {},
     "output_type": "execute_result"
    }
   ],
   "source": [
    "{1:'Low', 2:'Low-Medium', 3:'Medium', 4:'Medium-High', 5:'High'}"
   ]
  },
  {
   "cell_type": "code",
   "execution_count": 63,
   "metadata": {},
   "outputs": [
    {
     "data": {
      "text/plain": [
       "{'data': [{'st_histogram': {'wat_015_erosion': [[1, 7173.964705882353],\n",
       "     [2, 4064.2313725490203],\n",
       "     [3, 10316.18039215686],\n",
       "     [4, 30312.643137254912],\n",
       "     [5, 6135.972549019612]]}}],\n",
       " 'meta': {}}"
      ]
     },
     "execution_count": 63,
     "metadata": {},
     "output_type": "execute_result"
    }
   ],
   "source": [
    "sql = \"SELECT ST_HISTOGRAM(raster, wat_015_erosion, 5, true) FROM 'wat015-Erosion-Risk' WHERE ST_INTERSECTS(the_geom, ST_SetSRID(ST_GeomFromGeoJSON('{\\\"type\\\":\\\"Polygon\\\",\\\"coordinates\\\":[[[36.507568359375,-1.6037944300589726],[37.15576171875,-1.6037944300589726],[37.15576171875,-0.9887204566941844],[36.507568359375,-0.9887204566941844],[36.507568359375,-1.6037944300589726]]]}'),4326))\"\n",
    "\n",
    "params={\"sql\": sql}\n",
    "url = \"https://api.resourcewatch.org/v1/query\"\n",
    "r = requests.get(f\"{url}\", params)\n",
    "r.json()"
   ]
  },
  {
   "cell_type": "markdown",
   "metadata": {},
   "source": [
    "*widget_config*"
   ]
  },
  {
   "cell_type": "code",
   "execution_count": 51,
   "metadata": {},
   "outputs": [
    {
     "data": {
      "text/plain": [
       "'{\"widgetConfig\": {\"params_config\": [{\"required\": true, \"key\": \"geojson\"}], \"sql_query\": \"https://api.resourcewatch.org/v1/query?sql=SELECT ST_HISTOGRAM(raster, wat_015_erosion, 5, true) FROM \\'wat015-Erosion-Risk\\' WHERE ST_INTERSECTS(the_geom, ST_SetSRID(ST_GeomFromGeoJSON({{geojson}}),4326))\", \"type\": \"text\"}}'"
      ]
     },
     "execution_count": 51,
     "metadata": {},
     "output_type": "execute_result"
    }
   ],
   "source": [
    "json.dumps(\n",
    "{\n",
    "    'widgetConfig': \n",
    "    {\n",
    "        'params_config': [\n",
    "            {\n",
    "                'required': True,\n",
    "                'key': 'geojson'\n",
    "            }   \n",
    "        ],\n",
    "        'sql_query': 'https://api.resourcewatch.org/v1/query?sql=SELECT ST_HISTOGRAM(raster, wat_015_erosion, 5, true) FROM \\'wat015-Erosion-Risk\\' WHERE ST_INTERSECTS(the_geom, ST_SetSRID(ST_GeomFromGeoJSON({{geojson}}),4326))',        \n",
    "        'type': 'text'\n",
    "    }\n",
    "}\n",
    ")"
   ]
  },
  {
   "cell_type": "markdown",
   "metadata": {},
   "source": [
    "## [Annual Precipitation](https://resourcewatch.org/data/explore/wat034-Annual-Precipitation)\n",
    "**No info**\n",
    "[dataset](http://api.resourcewatch.org/v1/dataset/12510410-1eb3-4af0-844f-8a05be50b1c1)"
   ]
  },
  {
   "cell_type": "markdown",
   "metadata": {},
   "source": [
    "## [Aridity](https://resourcewatch.org/data/explore/cli030-Land-Aridity)\n",
    "** Aridity Index (numeric) **\n",
    "[dataset](http://api.resourcewatch.org/v1/dataset/99075509-df36-461e-abb0-659cee555bd0)"
   ]
  },
  {
   "cell_type": "code",
   "execution_count": 52,
   "metadata": {},
   "outputs": [
    {
     "data": {
      "text/plain": [
       "{'data': [{'st_summarystats': {'b1': {'count': 5925,\n",
       "     'max': 10454,\n",
       "     'mean': 5364.989310774512,\n",
       "     'min': 3060,\n",
       "     'stdev': 1600.9871074653056,\n",
       "     'sum': 30799330.635294136}}}],\n",
       " 'meta': {}}"
      ]
     },
     "execution_count": 52,
     "metadata": {},
     "output_type": "execute_result"
    }
   ],
   "source": [
    "sql = \"SELECT ST_SUMMARYSTATS() FROM 'cli030-Land-Aridity' WHERE ST_INTERSECTS(the_geom, ST_SetSRID(ST_GeomFromGeoJSON('{\\\"type\\\":\\\"Polygon\\\",\\\"coordinates\\\":[[[36.507568359375,-1.6037944300589726],[37.15576171875,-1.6037944300589726],[37.15576171875,-0.9887204566941844],[36.507568359375,-0.9887204566941844],[36.507568359375,-1.6037944300589726]]]}'),4326))\"\n",
    "\n",
    "params={\"sql\": sql}\n",
    "url = \"https://api.resourcewatch.org/v1/query\"\n",
    "r = requests.get(f\"{url}\", params)\n",
    "r.json()"
   ]
  },
  {
   "cell_type": "markdown",
   "metadata": {},
   "source": [
    "*widget_config*"
   ]
  },
  {
   "cell_type": "code",
   "execution_count": 54,
   "metadata": {},
   "outputs": [
    {
     "data": {
      "text/plain": [
       "'{\"widgetConfig\": {\"params_config\": [{\"required\": true, \"key\": \"geojson\"}], \"sql_query\": \"https://api.resourcewatch.org/v1/query?sql=SELECT ST_SUMMARYSTATS() FROM \\'cli030-Land-Aridity\\' WHERE ST_INTERSECTS(the_geom, ST_SetSRID(ST_GeomFromGeoJSON({{geojson}}),4326))\", \"type\": \"text\"}}'"
      ]
     },
     "execution_count": 54,
     "metadata": {},
     "output_type": "execute_result"
    }
   ],
   "source": [
    "json.dumps(\n",
    "{\n",
    "    'widgetConfig': \n",
    "    {\n",
    "        'params_config': [\n",
    "            {\n",
    "                'required': True,\n",
    "                'key': 'geojson'\n",
    "            }   \n",
    "        ],\n",
    "        'sql_query': 'https://api.resourcewatch.org/v1/query?sql=SELECT ST_SUMMARYSTATS() FROM \\'cli030-Land-Aridity\\' WHERE ST_INTERSECTS(the_geom, ST_SetSRID(ST_GeomFromGeoJSON({{geojson}}),4326))',        \n",
    "        'type': 'text'\n",
    "    }\n",
    "}\n",
    ")"
   ]
  },
  {
   "cell_type": "markdown",
   "metadata": {},
   "source": [
    "## [Roads](https://resourcewatch.org/data/explore/cit016-Road-Network)\n",
    "**Number of lines and total length in km (numeric)**\n",
    "[dataset](http://api.resourcewatch.org/v1/dataset/943f3702-421f-47a4-9b99-e2d5a9f544a7)"
   ]
  },
  {
   "cell_type": "markdown",
   "metadata": {},
   "source": [
    "```html\n",
    "https://api.resourcewatch.org/v1/query/943f3702-421f-47a4-9b99-e2d5a9f544a7?sql=SELECT count(*) as total_lines, sum(length_km) as total_length_km FROM cit_016_road_network\n",
    "WHERE ST_INTERSECTS(the_geom, ST_SetSRID(ST_GeomFromGeoJSON('{\"type\":\"Polygon\",\"coordinates\":[[[30.618896484375,-0.5053645409602877],[31.651611328125004,-0.5053645409602877],[31.651611328125004,0.208739772610497],[30.618896484375,0.208739772610497],[30.618896484375,-0.5053645409602877]]]}'),4326))\n",
    "GROUP BY exs\n",
    "```"
   ]
  },
  {
   "cell_type": "markdown",
   "metadata": {},
   "source": [
    "*widget_config*"
   ]
  },
  {
   "cell_type": "code",
   "execution_count": 56,
   "metadata": {},
   "outputs": [
    {
     "data": {
      "text/plain": [
       "'{\"widgetConfig\": {\"params_config\": [{\"required\": true, \"key\": \"geojson\"}], \"sql_query\": \"https://api.resourcewatch.org/v1/query/943f3702-421f-47a4-9b99-e2d5a9f544a7?sql=SELECT count(*) as total_lines, sum(length_km) as total_length_km FROM cit_016_road_network WHERE ST_INTERSECTS(the_geom, ST_SetSRID(ST_GeomFromGeoJSON({{geojson}}),4326)) GROUP BY exs\", \"type\": \"text\"}}'"
      ]
     },
     "execution_count": 56,
     "metadata": {},
     "output_type": "execute_result"
    }
   ],
   "source": [
    "json.dumps(\n",
    "{\n",
    "    'widgetConfig': \n",
    "    {\n",
    "        'params_config': [\n",
    "            {\n",
    "                'required': True,\n",
    "                'key': 'geojson'\n",
    "            }   \n",
    "        ],\n",
    "        'sql_query': 'https://api.resourcewatch.org/v1/query/943f3702-421f-47a4-9b99-e2d5a9f544a7?sql=SELECT count(*) as total_lines, sum(length_km) as total_length_km FROM cit_016_road_network WHERE ST_INTERSECTS(the_geom, ST_SetSRID(ST_GeomFromGeoJSON({{geojson}}),4326)) GROUP BY exs',        \n",
    "        'type': 'text'\n",
    "    }\n",
    "}\n",
    ")"
   ]
  },
  {
   "cell_type": "markdown",
   "metadata": {},
   "source": [
    "## [Roadless Areas](https://resourcewatch.org/data/explore/Global-Roadless-Areas)\n",
    "**Mean roadless area in km^2 (numeric)**\n",
    "[dataset](http://api.resourcewatch.org/v1/dataset/a07f1bed-ca16-4fbf-b14b-d3a0344cab74)"
   ]
  },
  {
   "cell_type": "markdown",
   "metadata": {},
   "source": [
    "```html\n",
    "https://api.resourcewatch.org/v1/query/a07f1bed-ca16-4fbf-b14b-d3a0344cab74?sql=SELECT avg(area_km) as mean_roadless_area_km2 FROM bio_017_global_roadless_areas\n",
    "WHERE ST_INTERSECTS(the_geom, ST_SetSRID(ST_GeomFromGeoJSON('{\"type\":\"Polygon\",\"coordinates\":[[[30.618896484375,-0.5053645409602877],[31.651611328125004,-0.5053645409602877],[31.651611328125004,0.208739772610497],[30.618896484375,0.208739772610497],[30.618896484375,-0.5053645409602877]]]}'),4326))\n",
    "GROUP BY continent\n",
    "```"
   ]
  },
  {
   "cell_type": "code",
   "execution_count": null,
   "metadata": {},
   "outputs": [],
   "source": [
    "'https://api.resourcewatch.org/v1/query/a07f1bed-ca16-4fbf-b14b-d3a0344cab74?sql=SELECT avg(area_km) as mean_roadless_area_km2 FROM bio_017_global_roadless_areas WHERE ST_INTERSECTS(the_geom, ST_SetSRID(ST_GeomFromGeoJSON({{geojson}}),4326)) GROUP BY continent'"
   ]
  },
  {
   "cell_type": "markdown",
   "metadata": {},
   "source": [
    "*widget_config*"
   ]
  },
  {
   "cell_type": "code",
   "execution_count": 57,
   "metadata": {},
   "outputs": [
    {
     "data": {
      "text/plain": [
       "'{\"widgetConfig\": {\"params_config\": [{\"required\": true, \"key\": \"geojson\"}], \"sql_query\": \"https://api.resourcewatch.org/v1/query/a07f1bed-ca16-4fbf-b14b-d3a0344cab74?sql=SELECT avg(area_km) as mean_roadless_area_km2 FROM bio_017_global_roadless_areas WHERE ST_INTERSECTS(the_geom, ST_SetSRID(ST_GeomFromGeoJSON({{geojson}}),4326)) GROUP BY continent\", \"type\": \"text\"}}'"
      ]
     },
     "execution_count": 57,
     "metadata": {},
     "output_type": "execute_result"
    }
   ],
   "source": [
    "json.dumps(\n",
    "{\n",
    "    'widgetConfig': \n",
    "    {\n",
    "        'params_config': [\n",
    "            {\n",
    "                'required': True,\n",
    "                'key': 'geojson'\n",
    "            }   \n",
    "        ],\n",
    "        'sql_query': 'https://api.resourcewatch.org/v1/query/a07f1bed-ca16-4fbf-b14b-d3a0344cab74?sql=SELECT avg(area_km) as mean_roadless_area_km2 FROM bio_017_global_roadless_areas WHERE ST_INTERSECTS(the_geom, ST_SetSRID(ST_GeomFromGeoJSON({{geojson}}),4326)) GROUP BY continent',        \n",
    "        'type': 'text'\n",
    "    }\n",
    "}\n",
    ")"
   ]
  },
  {
   "cell_type": "markdown",
   "metadata": {},
   "source": [
    "## [Current Water Risk](https://resourcewatch.org/data/explore/wat001-Baseline-Water-Stress)\n",
    "**Total withdrawal, consumption, and baseline water stress per category (chart)**\n",
    "[dataset](http://api.resourcewatch.org/v1/dataset/d7c3d954-ac86-4d1a-bb6a-c8c432a94e26)"
   ]
  },
  {
   "cell_type": "markdown",
   "metadata": {},
   "source": [
    "```html\n",
    "https://api.resourcewatch.org/v1/query/d7c3d954-ac86-4d1a-bb6a-c8c432a94e26?sql=SELECT sum(withdrawal) as total_withdrawal_m3, sum(consumptio) as total_consumption_m3, sum(bws) as total_baseline_water_stress, bws_cat FROM wat_001_current_water_stress WHERE ST_INTERSECTS(the_geom, ST_SetSRID(ST_GeomFromGeoJSON('{\"type\":\"Polygon\",\"coordinates\":[[[35.44189453125,-6.533645130567532],[42.0556640625,-6.533645130567532],[42.0556640625,0.6591651462894632],[35.44189453125,0.6591651462894632],[35.44189453125,-6.533645130567532]]]}'),4326)) GROUP BY bws_cat\n",
    "```"
   ]
  },
  {
   "cell_type": "markdown",
   "metadata": {},
   "source": [
    "*widget_config*"
   ]
  },
  {
   "cell_type": "code",
   "execution_count": 70,
   "metadata": {},
   "outputs": [
    {
     "data": {
      "text/plain": [
       "'{\"widgetConfig\": {\"params_config\": [{\"required\": true, \"key\": \"geojson\"}], \"sql_query\": \"https://api.resourcewatch.org/v1/query/d7c3d954-ac86-4d1a-bb6a-c8c432a94e26?sql=SELECT sum(withdrawal) as total_withdrawal_m3, sum(consumptio) as total_consumption_m3, sum(bws) as total_baseline_water_stress, bws_cat FROM wat_001_current_water_stress WHERE ST_INTERSECTS(the_geom, ST_SetSRID(ST_GeomFromGeoJSON({{geojson}}),4326)) GROUP BY bws_cat\", \"type\": \"text\"}}'"
      ]
     },
     "execution_count": 70,
     "metadata": {},
     "output_type": "execute_result"
    }
   ],
   "source": [
    "json.dumps(\n",
    "{\n",
    "    'widgetConfig': \n",
    "    {\n",
    "        'params_config': [\n",
    "            {\n",
    "                'required': True,\n",
    "                'key': 'geojson'\n",
    "            }   \n",
    "        ],\n",
    "        'sql_query': 'https://api.resourcewatch.org/v1/query/d7c3d954-ac86-4d1a-bb6a-c8c432a94e26?sql=SELECT sum(withdrawal) as total_withdrawal_m3, sum(consumptio) as total_consumption_m3, sum(bws) as total_baseline_water_stress, bws_cat FROM wat_001_current_water_stress WHERE ST_INTERSECTS(the_geom, ST_SetSRID(ST_GeomFromGeoJSON({{geojson}}),4326)) GROUP BY bws_cat',        \n",
    "        'type': 'text'\n",
    "    }\n",
    "}\n",
    ")"
   ]
  },
  {
   "cell_type": "markdown",
   "metadata": {},
   "source": [
    "## [Reservoirs and Dams](https://resourcewatch.org/data/explore/Global-Reservoir-and-Dam-GRanD)\n",
    "**Global Dams by Primary Use (chart)**\n",
    "[dataset](http://api.resourcewatch.org/v1/dataset/e63bb157-4b98-4ecb-81d6-c1b15e79895a)"
   ]
  },
  {
   "cell_type": "markdown",
   "metadata": {},
   "source": [
    "```html\n",
    "https://api.resourcewatch.org/v1/query/e63bb157-4b98-4ecb-81d6-c1b15e79895a?sql=SELECT main_use as x, COUNT(main_use) as y FROM grand_dams WHERE main_use IN ('Fisheries', 'Flood control', 'Hydroelectricity', 'Irrigation', 'Navigation', 'Other', 'Recreation', 'Water supply') AND ST_INTERSECTS(the_geom, ST_SetSRID(ST_GeomFromGeoJSON('{\"type\":\"Polygon\",\"coordinates\":[[[35.44189453125,-6.533645130567532],[42.0556640625,-6.533645130567532],[42.0556640625,0.6591651462894632],[35.44189453125,0.6591651462894632],[35.44189453125,-6.533645130567532]]]}'),4326)) GROUP BY  x ORDER BY x DESC LIMIT 20\n",
    "```"
   ]
  },
  {
   "cell_type": "markdown",
   "metadata": {},
   "source": [
    "*widget_config*"
   ]
  },
  {
   "cell_type": "code",
   "execution_count": 68,
   "metadata": {},
   "outputs": [
    {
     "data": {
      "text/plain": [
       "'{\"widgetConfig\": {\"params_config\": [{\"required\": true, \"key\": \"geojson\"}], \"sql_query\": \"https://api.resourcewatch.org/v1/query/e63bb157-4b98-4ecb-81d6-c1b15e79895a?sql=SELECT main_use as x, COUNT(main_use) as y FROM grand_dams WHERE main_use IN (\\'Fisheries\\', \\'Flood control\\', \\'Hydroelectricity\\', \\'Irrigation\\', \\'Navigation\\', \\'Other\\', \\'Recreation\\', \\'Water supply\\') AND ST_INTERSECTS(the_geom, ST_SetSRID(ST_GeomFromGeoJSON({{geojson}}),4326)) GROUP BY  x ORDER BY x DESC LIMIT 20\", \"type\": \"text\"}}'"
      ]
     },
     "execution_count": 68,
     "metadata": {},
     "output_type": "execute_result"
    }
   ],
   "source": [
    "json.dumps(\n",
    "{\n",
    "    'widgetConfig': \n",
    "    {\n",
    "        'params_config': [\n",
    "            {\n",
    "                'required': True,\n",
    "                'key': 'geojson'\n",
    "            }   \n",
    "        ],\n",
    "        'sql_query': 'https://api.resourcewatch.org/v1/query/e63bb157-4b98-4ecb-81d6-c1b15e79895a?sql=SELECT main_use as x, COUNT(main_use) as y FROM grand_dams WHERE main_use IN (\\'Fisheries\\', \\'Flood control\\', \\'Hydroelectricity\\', \\'Irrigation\\', \\'Navigation\\', \\'Other\\', \\'Recreation\\', \\'Water supply\\') AND ST_INTERSECTS(the_geom, ST_SetSRID(ST_GeomFromGeoJSON({{geojson}}),4326)) GROUP BY  x ORDER BY x DESC LIMIT 20',        \n",
    "        'type': 'text'\n",
    "    }\n",
    "}\n",
    ")"
   ]
  },
  {
   "cell_type": "markdown",
   "metadata": {},
   "source": [
    "***"
   ]
  },
  {
   "cell_type": "markdown",
   "metadata": {},
   "source": [
    "# Country contextual information"
   ]
  },
  {
   "cell_type": "markdown",
   "metadata": {},
   "source": [
    "## [Access to Electricity](https://resourcewatch.org/data/explore/ene012-Access-to-Electricity)  \n",
    "**Percentage of national, urban and rural access to electricity (%) per year (chart)** \n",
    "[dataset](http://api.resourcewatch.org/v1/dataset/d446a52e-c4c1-4e74-ae30-3204620a0365)"
   ]
  },
  {
   "cell_type": "markdown",
   "metadata": {},
   "source": [
    "```html\n",
    "https://api.resourcewatch.org/v1/query/d446a52e-c4c1-4e74-ae30-3204620a0365?sql=SELECT date_part('year', datetime) as year, country_name as country, total_data as national, urban_data as urban, rural_data as rural  FROM ene_012_electricity_access WHERE country_code = 'KEN' ORDER BY year DESC LIMIT 18\n",
    "```"
   ]
  },
  {
   "cell_type": "markdown",
   "metadata": {},
   "source": [
    "*widget_config*"
   ]
  },
  {
   "cell_type": "code",
   "execution_count": 87,
   "metadata": {},
   "outputs": [
    {
     "data": {
      "text/plain": [
       "'{\"widgetConfig\": {\"params_config\": [{\"required\": true, \"key\": \"iso\"}, {\"required\": false, \"key\": \"year\"}], \"sql_query\": \"https://api.resourcewatch.org/v1/query/d446a52e-c4c1-4e74-ae30-3204620a0365?sql=SELECT date_part(\\'year\\', datetime) as year, country_name as country, total_data as national, urban_data as urban, rural_data as rural  FROM ene_012_electricity_access WHERE country_code = {{iso}} AND date_part(\\'year\\', datetime) = {{year}} ORDER BY year\", \"type\": \"text\"}}'"
      ]
     },
     "execution_count": 87,
     "metadata": {},
     "output_type": "execute_result"
    }
   ],
   "source": [
    "json.dumps(\n",
    "{\n",
    "    'widgetConfig': \n",
    "    {\n",
    "        'params_config': [\n",
    "            {\n",
    "                'required': True,\n",
    "                'key': 'iso'\n",
    "            } \n",
    "        ],\n",
    "        'sql_query': 'https://api.resourcewatch.org/v1/query/d446a52e-c4c1-4e74-ae30-3204620a0365?sql=SELECT date_part(\\'year\\', datetime) as year, country_name as country, total_data as national, urban_data as urban, rural_data as rural  FROM ene_012_electricity_access WHERE country_code = {{iso}} ORDER BY year DESC LIMIT 18',        \n",
    "        'type': 'text'\n",
    "    }\n",
    "}\n",
    ")"
   ]
  },
  {
   "cell_type": "markdown",
   "metadata": {},
   "source": [
    "## [Adult Literacy Rate](https://resourcewatch.org/data/explore/Adult-Literacy-Rate)  \n",
    "**2015 Adult Literacy Rate (%) (number)** \n",
    "[dataset](http://api.resourcewatch.org/v1/dataset/e8f53f73-d77c-485a-a2a6-1c47ea4aead9)"
   ]
  },
  {
   "cell_type": "markdown",
   "metadata": {},
   "source": [
    "```html\n",
    "https://api.resourcewatch.org/v1/query/e8f53f73-d77c-485a-a2a6-1c47ea4aead9?sql=SELECT date_part('year', datetime) as year, rw_country_name as country, yr_data as rate FROM soc_015_adult_literacy_rate WHERE country_code = 'KEN' and date_part('year', datetime) = 2015\n",
    "```"
   ]
  },
  {
   "cell_type": "markdown",
   "metadata": {},
   "source": [
    "*widget_config*"
   ]
  },
  {
   "cell_type": "code",
   "execution_count": 88,
   "metadata": {},
   "outputs": [
    {
     "data": {
      "text/plain": [
       "'{\"widgetConfig\": {\"params_config\": [{\"required\": true, \"key\": \"iso\"}, {\"required\": false, \"key\": \"year\"}], \"sql_query\": \"https://api.resourcewatch.org/v1/query/e8f53f73-d77c-485a-a2a6-1c47ea4aead9?sql=SELECT date_part(\\'year\\', datetime) as year, rw_country_name as country, yr_data as national, female_data as famela, male_data as male FROM soc_015_adult_literacy_rate WHERE country_code = {{iso}} AND date_part(\\'year\\', datetime) = {{year}} ORDER BY year\", \"type\": \"text\"}}'"
      ]
     },
     "execution_count": 88,
     "metadata": {},
     "output_type": "execute_result"
    }
   ],
   "source": [
    "json.dumps(\n",
    "{\n",
    "    'widgetConfig': \n",
    "    {\n",
    "        'params_config': [\n",
    "            {\n",
    "                'required': True,\n",
    "                'key': 'iso'\n",
    "            } \n",
    "        ],\n",
    "        'sql_query': 'https://api.resourcewatch.org/v1/query/e8f53f73-d77c-485a-a2a6-1c47ea4aead9?sql=SELECT date_part(\\'year\\', datetime) as year, rw_country_name as country, yr_data as rate FROM soc_015_adult_literacy_rate WHERE country_code = {{iso}} and date_part(\\'year\\', datetime) = 2015',        \n",
    "        'type': 'text'\n",
    "    }\n",
    "}\n",
    ")"
   ]
  },
  {
   "cell_type": "markdown",
   "metadata": {},
   "source": [
    "## [Child Malnutrition](https://resourcewatch.org/data/explore/Child-Malnutrition)  \n",
    "**2014 Child Malnutrition (%) per category (chart)** \n",
    "[dataset](http://api.resourcewatch.org/v1/dataset/8bc79a36-d77e-4ee3-b9bc-c77146cfc503)"
   ]
  },
  {
   "cell_type": "markdown",
   "metadata": {},
   "source": [
    "```html\n",
    "https://api.resourcewatch.org/v1/query/8bc79a36-d77e-4ee3-b9bc-c77146cfc503?sql=SELECT survey_year as year, rw_country_name as country, severe_wasting, stunting, underweight, wasting, overweight FROM foo_019_child_malnutrition_edit WHERE rw_country_code = 'KEN'\n",
    "```"
   ]
  },
  {
   "cell_type": "markdown",
   "metadata": {},
   "source": [
    "*widget_config*"
   ]
  },
  {
   "cell_type": "code",
   "execution_count": 89,
   "metadata": {},
   "outputs": [
    {
     "data": {
      "text/plain": [
       "'{\"widgetConfig\": {\"params_config\": [{\"required\": true, \"key\": \"iso\"}], \"sql_query\": \"https://api.resourcewatch.org/v1/query/8bc79a36-d77e-4ee3-b9bc-c77146cfc503?sql=SELECT survey_year as year, rw_country_name as country, severe_wasting, stunting, underweight, wasting, overweight FROM foo_019_child_malnutrition_edit WHERE rw_country_code = {{iso}}\", \"type\": \"text\"}}'"
      ]
     },
     "execution_count": 89,
     "metadata": {},
     "output_type": "execute_result"
    }
   ],
   "source": [
    "json.dumps(\n",
    "{\n",
    "    'widgetConfig': \n",
    "    {\n",
    "        'params_config': [\n",
    "            {\n",
    "                'required': True,\n",
    "                'key': 'iso'\n",
    "            }\n",
    "        ],\n",
    "        'sql_query': 'https://api.resourcewatch.org/v1/query/8bc79a36-d77e-4ee3-b9bc-c77146cfc503?sql=SELECT survey_year as year, rw_country_name as country, severe_wasting, stunting, underweight, wasting, overweight FROM foo_019_child_malnutrition_edit WHERE rw_country_code = {{iso}}',        \n",
    "        'type': 'text'\n",
    "    }\n",
    "}\n",
    ")"
   ]
  },
  {
   "cell_type": "markdown",
   "metadata": {},
   "source": [
    "## [Current Account Balance](https://resourcewatch.org/data/explore/Current-Account-Balance-BoP-Current-USdollar)  \n",
    "**Account balance per year (chart)** \n",
    "[dataset](http://api.resourcewatch.org/v1/dataset/2e31a1f3-576b-46b4-84f0-3f0cc399f887)"
   ]
  },
  {
   "cell_type": "markdown",
   "metadata": {},
   "source": [
    "```html\n",
    "https://api.resourcewatch.org/v1/query/2e31a1f3-576b-46b4-84f0-3f0cc399f887?sql=SELECT date_part('year', datetime) as year, rw_country_name as country, index, indicator_name FROM com_006_national_current_accounts_edit WHERE rw_country_code = 'KEN' ORDER BY year DESC LIMIT 17\n",
    "```"
   ]
  },
  {
   "cell_type": "markdown",
   "metadata": {},
   "source": [
    "*widget_config*"
   ]
  },
  {
   "cell_type": "code",
   "execution_count": 100,
   "metadata": {},
   "outputs": [
    {
     "data": {
      "text/plain": [
       "'{\"widgetConfig\": {\"params_config\": [{\"required\": true, \"key\": \"iso\"}], \"sql_query\": \"https://api.resourcewatch.org/v1/query/2e31a1f3-576b-46b4-84f0-3f0cc399f887?sql=SELECT date_part(\\'year\\', datetime) as year, rw_country_name as country, index, indicator_name FROM com_006_national_current_accounts_edit WHERE rw_country_code = {{iso}} ORDER BY year DESC LIMIT 17\", \"type\": \"text\"}}'"
      ]
     },
     "execution_count": 100,
     "metadata": {},
     "output_type": "execute_result"
    }
   ],
   "source": [
    "json.dumps(\n",
    "{\n",
    "    'widgetConfig': \n",
    "    {\n",
    "        'params_config': [\n",
    "            {\n",
    "                'required': True,\n",
    "                'key': 'iso'\n",
    "            }\n",
    "        ],\n",
    "        'sql_query': 'https://api.resourcewatch.org/v1/query/2e31a1f3-576b-46b4-84f0-3f0cc399f887?sql=SELECT date_part(\\'year\\', datetime) as year, rw_country_name as country, index, indicator_name FROM com_006_national_current_accounts_edit WHERE rw_country_code = {{iso}} ORDER BY year DESC LIMIT 17',        \n",
    "        'type': 'text'\n",
    "    }\n",
    "}\n",
    ")"
   ]
  },
  {
   "cell_type": "markdown",
   "metadata": {},
   "source": [
    "## [Gender Development Index](https://resourcewatch.org/data/explore/Gender-Development-Index)  \n",
    "**2015 Gender Development Index (number)** \n",
    "[dataset](http://api.resourcewatch.org/v1/dataset/d4ca3cc4-c162-469c-b341-b52284a73eaa)"
   ]
  },
  {
   "cell_type": "markdown",
   "metadata": {},
   "source": [
    "```html\n",
    "https://api.resourcewatch.org/v1/query/d4ca3cc4-c162-469c-b341-b52284a73eaa?sql=SELECT country, gdi_value as index FROM soc_002_gender_development_index WHERE rw_country_code = 'KEN' \n",
    "```"
   ]
  },
  {
   "cell_type": "markdown",
   "metadata": {},
   "source": [
    "*widget_config*"
   ]
  },
  {
   "cell_type": "code",
   "execution_count": 91,
   "metadata": {},
   "outputs": [
    {
     "data": {
      "text/plain": [
       "'{\"widgetConfig\": {\"params_config\": [{\"required\": true, \"key\": \"iso\"}], \"sql_query\": \"https://api.resourcewatch.org/v1/query/d4ca3cc4-c162-469c-b341-b52284a73eaa?sql=SELECT country, gdi_value as index FROM soc_002_gender_development_index WHERE rw_country_code = {{iso}}\", \"type\": \"text\"}}'"
      ]
     },
     "execution_count": 91,
     "metadata": {},
     "output_type": "execute_result"
    }
   ],
   "source": [
    "json.dumps(\n",
    "{\n",
    "    'widgetConfig': \n",
    "    {\n",
    "        'params_config': [\n",
    "            {\n",
    "                'required': True,\n",
    "                'key': 'iso'\n",
    "            }\n",
    "        ],\n",
    "        'sql_query': 'https://api.resourcewatch.org/v1/query/d4ca3cc4-c162-469c-b341-b52284a73eaa?sql=SELECT country, gdi_value as index FROM soc_002_gender_development_index WHERE rw_country_code = {{iso}}',        \n",
    "        'type': 'text'\n",
    "    }\n",
    "}\n",
    ")"
   ]
  },
  {
   "cell_type": "markdown",
   "metadata": {},
   "source": [
    "## [Gender Inequality Index](https://resourcewatch.org/data/explore/soc025-Gender-Inequality-Index) \n",
    "**2015 Gender Inequality Index (number)** \n",
    "[dataset](http://api.resourcewatch.org/v1/dataset/11278cb6-b298-49a1-bf71-f1e269f40758)"
   ]
  },
  {
   "cell_type": "markdown",
   "metadata": {},
   "source": [
    "```html\n",
    "https://api.resourcewatch.org/v1/query/11278cb6-b298-49a1-bf71-f1e269f40758?sql=SELECT date_part('year', datetime) as year, rw_country_name as country, yr_data as index FROM soc_025_gender_inequality_index WHERE rw_country_code = 'KEN' AND date_part('year', datetime) = 2015\n",
    "```"
   ]
  },
  {
   "cell_type": "markdown",
   "metadata": {},
   "source": [
    "*widget_config*"
   ]
  },
  {
   "cell_type": "code",
   "execution_count": 101,
   "metadata": {},
   "outputs": [
    {
     "data": {
      "text/plain": [
       "'{\"widgetConfig\": {\"params_config\": [{\"required\": true, \"key\": \"iso\"}], \"sql_query\": \"https://api.resourcewatch.org/v1/query/11278cb6-b298-49a1-bf71-f1e269f40758?sql=SELECT date_part(\\'year\\', datetime) as year, rw_country_name as country, yr_data as index FROM soc_025_gender_inequality_index WHERE rw_country_code = {{iso}} AND date_part(\\'year\\', datetime) = 2015\", \"type\": \"text\"}}'"
      ]
     },
     "execution_count": 101,
     "metadata": {},
     "output_type": "execute_result"
    }
   ],
   "source": [
    "json.dumps(\n",
    "{\n",
    "    'widgetConfig': \n",
    "    {\n",
    "        'params_config': [\n",
    "            {\n",
    "                'required': True,\n",
    "                'key': 'iso'\n",
    "            } \n",
    "        ],\n",
    "        'sql_query': 'https://api.resourcewatch.org/v1/query/11278cb6-b298-49a1-bf71-f1e269f40758?sql=SELECT date_part(\\'year\\', datetime) as year, rw_country_name as country, yr_data as index FROM soc_025_gender_inequality_index WHERE rw_country_code = {{iso}} AND date_part(\\'year\\', datetime) = 2015',        \n",
    "        'type': 'text'\n",
    "    }\n",
    "}\n",
    ")"
   ]
  },
  {
   "cell_type": "markdown",
   "metadata": {},
   "source": [
    "## [Gross Domestic Product](https://resourcewatch.org/data/explore/Gross-Domestic-Product) \n",
    "**Gross Domestic Product per year (chart)** \n",
    "[dataset](http://api.resourcewatch.org/v1/dataset/52c55378-0484-48c3-92fc-3ee94d21c716)"
   ]
  },
  {
   "cell_type": "markdown",
   "metadata": {},
   "source": [
    "```html\n",
    "https://api.resourcewatch.org/v1/query/52c55378-0484-48c3-92fc-3ee94d21c716?sql=SELECT date_part('year', datetime) as year, country_name as country, yr_data, unit1, indicator_code1 FROM com_010_gdp_ppp_usd WHERE country_code = 'KEN' ORDER BY year DESC LIMIT 18\n",
    "```"
   ]
  },
  {
   "cell_type": "markdown",
   "metadata": {},
   "source": [
    "*widget_config*"
   ]
  },
  {
   "cell_type": "code",
   "execution_count": 102,
   "metadata": {},
   "outputs": [
    {
     "data": {
      "text/plain": [
       "'{\"widgetConfig\": {\"params_config\": [{\"required\": true, \"key\": \"iso\"}], \"sql_query\": \"https://api.resourcewatch.org/v1/query/52c55378-0484-48c3-92fc-3ee94d21c716?sql=SELECT date_part(\\'year\\', datetime) as year, country_name as country, yr_data, unit1, indicator_code1 FROM com_010_gdp_ppp_usd WHERE country_code = {{iso}} ORDER BY year DESC LIMIT 18\", \"type\": \"text\"}}'"
      ]
     },
     "execution_count": 102,
     "metadata": {},
     "output_type": "execute_result"
    }
   ],
   "source": [
    "json.dumps(\n",
    "{\n",
    "    'widgetConfig': \n",
    "    {\n",
    "        'params_config': [\n",
    "            {\n",
    "                'required': True,\n",
    "                'key': 'iso'\n",
    "            }\n",
    "        ],\n",
    "        'sql_query': 'https://api.resourcewatch.org/v1/query/52c55378-0484-48c3-92fc-3ee94d21c716?sql=SELECT date_part(\\'year\\', datetime) as year, country_name as country, yr_data, unit1, indicator_code1 FROM com_010_gdp_ppp_usd WHERE country_code = {{iso}} ORDER BY year DESC LIMIT 18',        \n",
    "        'type': 'text'\n",
    "    }\n",
    "}\n",
    ")"
   ]
  },
  {
   "cell_type": "markdown",
   "metadata": {},
   "source": [
    "## [Regulatory Restrictiveness Index](https://resourcewatch.org/data/explore/Regulatory-Restrictiveness-Index) \n",
    "**Regulatory Restrictiveness Index (number)** \n",
    "[dataset](http://api.resourcewatch.org/v1/dataset/fe311144-8c0e-4440-b068-6efd057e0f6a)"
   ]
  },
  {
   "cell_type": "markdown",
   "metadata": {},
   "source": [
    "```html\n",
    "https://api.resourcewatch.org/v1/query/fe311144-8c0e-4440-b068-6efd057e0f6a?sql=SELECT rw_country_name as country, total_fdi_index as index FROM com_007_fdi_index WHERE rw_country_code = 'IND' \n",
    "```"
   ]
  },
  {
   "cell_type": "markdown",
   "metadata": {},
   "source": [
    "*widget_config*"
   ]
  },
  {
   "cell_type": "code",
   "execution_count": 99,
   "metadata": {},
   "outputs": [
    {
     "data": {
      "text/plain": [
       "'{\"widgetConfig\": {\"params_config\": [{\"required\": true, \"key\": \"iso\"}], \"sql_query\": \"https://api.resourcewatch.org/v1/query/fe311144-8c0e-4440-b068-6efd057e0f6a?sql=SELECT rw_country_name as country, total_fdi_index as index FROM com_007_fdi_index WHERE rw_country_code = {{iso}}\", \"type\": \"text\"}}'"
      ]
     },
     "execution_count": 99,
     "metadata": {},
     "output_type": "execute_result"
    }
   ],
   "source": [
    "json.dumps(\n",
    "{\n",
    "    'widgetConfig': \n",
    "    {\n",
    "        'params_config': [\n",
    "            {\n",
    "                'required': True,\n",
    "                'key': 'iso'\n",
    "            }\n",
    "        ],\n",
    "        'sql_query': 'https://api.resourcewatch.org/v1/query/fe311144-8c0e-4440-b068-6efd057e0f6a?sql=SELECT rw_country_name as country, total_fdi_index as index FROM com_007_fdi_index WHERE rw_country_code = {{iso}}',        \n",
    "        'type': 'text'\n",
    "    }\n",
    "}\n",
    ")"
   ]
  },
  {
   "cell_type": "markdown",
   "metadata": {},
   "source": [
    "## [Urban Population Living in Slums](https://resourcewatch.org/data/explore/Percent-of-Urban-Population-living-in-Slums)\n",
    "**2014 Urban Population Living in Slums percentage (number)** \n",
    "[dataset](http://api.resourcewatch.org/v1/dataset/35ce2b98-adbb-4873-b334-d7b1cc542de7)"
   ]
  },
  {
   "cell_type": "markdown",
   "metadata": {},
   "source": [
    "```html\n",
    "https://api.resourcewatch.org/v1/query/35ce2b98-adbb-4873-b334-d7b1cc542de7?sql=SELECT date_part('year', datetime) as year, country_name as country, yr_data as percentage, indicator_name FROM cit_028_percent_urban_slums_edit WHERE rw_country_code = 'KEN' and date_part('year', datetime) = 2014 \n",
    "```"
   ]
  },
  {
   "cell_type": "markdown",
   "metadata": {},
   "source": [
    "*widget_config*"
   ]
  },
  {
   "cell_type": "code",
   "execution_count": 98,
   "metadata": {},
   "outputs": [
    {
     "data": {
      "text/plain": [
       "'{\"widgetConfig\": {\"params_config\": [{\"required\": true, \"key\": \"iso\"}], \"sql_query\": \"https://api.resourcewatch.org/v1/query/35ce2b98-adbb-4873-b334-d7b1cc542de7?sql=SELECT date_part(\\'year\\', datetime) as year, country_name as country, yr_data as percentage, indicator_name FROM cit_028_percent_urban_slums_edit WHERE rw_country_code = {{iso}} and date_part(\\'year\\', datetime) = 2014\", \"type\": \"text\"}}'"
      ]
     },
     "execution_count": 98,
     "metadata": {},
     "output_type": "execute_result"
    }
   ],
   "source": [
    "json.dumps(\n",
    "{\n",
    "    'widgetConfig': \n",
    "    {\n",
    "        'params_config': [\n",
    "            {\n",
    "                'required': True,\n",
    "                'key': 'iso'\n",
    "            }\n",
    "        ],\n",
    "        'sql_query': 'https://api.resourcewatch.org/v1/query/35ce2b98-adbb-4873-b334-d7b1cc542de7?sql=SELECT date_part(\\'year\\', datetime) as year, country_name as country, yr_data as percentage, indicator_name FROM cit_028_percent_urban_slums_edit WHERE rw_country_code = {{iso}} and date_part(\\'year\\', datetime) = 2014',        \n",
    "        'type': 'text'\n",
    "    }\n",
    "}\n",
    ")"
   ]
  },
  {
   "cell_type": "markdown",
   "metadata": {},
   "source": [
    "## [Vulnerability to Climate Change Index](https://resourcewatch.org/data/explore/Vulnerability-to-Climate-Change-Index) \n",
    "**2015 Global Adaptation Index (number)** \n",
    "[dataset](http://api.resourcewatch.org/v1/dataset/fa6443ff-eb95-4d0f-84d2-f0c91682efdf)"
   ]
  },
  {
   "cell_type": "markdown",
   "metadata": {},
   "source": [
    "```html\n",
    "https://api.resourcewatch.org/v1/query/fa6443ff-eb95-4d0f-84d2-f0c91682efdf?sql=SELECT date_part('year', datetime) as year, country, gain_data as index FROM cli_029_vulnerability_to_cc WHERE rw_country_code = 'KEN' and date_part('year', datetime) = 2015\n",
    "```"
   ]
  },
  {
   "cell_type": "markdown",
   "metadata": {},
   "source": [
    "*widget_config*"
   ]
  },
  {
   "cell_type": "code",
   "execution_count": 105,
   "metadata": {},
   "outputs": [
    {
     "data": {
      "text/plain": [
       "'{\"widgetConfig\": {\"params_config\": [{\"required\": true, \"key\": \"iso\"}], \"sql_query\": \"https://api.resourcewatch.org/v1/query/fa6443ff-eb95-4d0f-84d2-f0c91682efdf?sql=SELECT date_part(\\'year\\', datetime) as year, country, gain_data as index FROM cli_029_vulnerability_to_cc WHERE rw_country_code = {{iso}} and date_part(\\'year\\', datetime) = 2015\", \"type\": \"text\"}}'"
      ]
     },
     "execution_count": 105,
     "metadata": {},
     "output_type": "execute_result"
    }
   ],
   "source": [
    "json.dumps(\n",
    "{\n",
    "    'widgetConfig': \n",
    "    {\n",
    "        'params_config': [\n",
    "            {\n",
    "                'required': True,\n",
    "                'key': 'iso'\n",
    "            }\n",
    "        ],\n",
    "        'sql_query': 'https://api.resourcewatch.org/v1/query/fa6443ff-eb95-4d0f-84d2-f0c91682efdf?sql=SELECT date_part(\\'year\\', datetime) as year, country, gain_data as index FROM cli_029_vulnerability_to_cc WHERE rw_country_code = {{iso}} and date_part(\\'year\\', datetime) = 2015',        \n",
    "        'type': 'text'\n",
    "    }\n",
    "}\n",
    ")"
   ]
  },
  {
   "cell_type": "code",
   "execution_count": null,
   "metadata": {},
   "outputs": [],
   "source": []
  }
 ],
 "metadata": {
  "kernelspec": {
   "display_name": "Python 3",
   "language": "python",
   "name": "python3"
  },
  "language_info": {
   "codemirror_mode": {
    "name": "ipython",
    "version": 3
   },
   "file_extension": ".py",
   "mimetype": "text/x-python",
   "name": "python",
   "nbconvert_exporter": "python",
   "pygments_lexer": "ipython3",
   "version": "3.6.4"
  }
 },
 "nbformat": 4,
 "nbformat_minor": 2
}
