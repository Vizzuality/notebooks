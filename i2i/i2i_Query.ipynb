{
 "cells": [
  {
   "cell_type": "code",
   "execution_count": 1,
   "metadata": {},
   "outputs": [],
   "source": [
    "import pandas as pd\n",
    "import json\n",
    "import requests\n",
    "from pprint import pprint\n",
    "from pandas.io.json import json_normalize\n",
    "import matplotlib.pyplot as plt\n",
    "%matplotlib inline"
   ]
  },
  {
   "cell_type": "markdown",
   "metadata": {},
   "source": [
    "***"
   ]
  },
  {
   "cell_type": "markdown",
   "metadata": {},
   "source": [
    "# FSP maps"
   ]
  },
  {
   "cell_type": "markdown",
   "metadata": {},
   "source": [
    "** Type_id, colors, and number of points **"
   ]
  },
  {
   "cell_type": "markdown",
   "metadata": {},
   "source": [
    "All types"
   ]
  },
  {
   "cell_type": "markdown",
   "metadata": {},
   "source": [
    "```sql\n",
    "SELECT iso, sector, type, type_id, color, count(*) as number_of_points\n",
    "FROM fsp_maps\n",
    "GROUP BY iso, sector, type, type_id, color\n",
    "ORDER BY iso, sector, type, type_id, color\n",
    "```"
   ]
  },
  {
   "cell_type": "markdown",
   "metadata": {},
   "source": [
    "Selected types"
   ]
  },
  {
   "cell_type": "markdown",
   "metadata": {},
   "source": [
    "```sql\n",
    "SELECT iso, sector, type, type_id, color, count(*) as number_of_points\n",
    "FROM fsp_maps\n",
    "WHERE iso = 'KEN' and sector = 'Agriculture' and type in ('Agro-Dealers', 'Market Locations')\n",
    "GROUP BY iso, sector, type, type_id, color\n",
    "ORDER BY iso, sector, type, type_id, color\n",
    "```"
   ]
  },
  {
   "cell_type": "markdown",
   "metadata": {},
   "source": [
    "***"
   ]
  },
  {
   "cell_type": "markdown",
   "metadata": {},
   "source": [
    "# FSP layers"
   ]
  },
  {
   "cell_type": "markdown",
   "metadata": {},
   "source": [
    "## Points"
   ]
  },
  {
   "cell_type": "markdown",
   "metadata": {},
   "source": [
    "** Query **"
   ]
  },
  {
   "cell_type": "markdown",
   "metadata": {},
   "source": [
    "```sql\n",
    "SELECT the_geom, iso, sector, type FROM fsp_maps\n",
    "WHERE type_id in (40,51,58,62,67)\n",
    "```"
   ]
  },
  {
   "cell_type": "markdown",
   "metadata": {},
   "source": [
    "** CSS **"
   ]
  },
  {
   "cell_type": "markdown",
   "metadata": {},
   "source": [
    "```css\n",
    "#layer {\n",
    "  marker-width: 7;\n",
    "  marker-fill: #EE4D5A;\n",
    "  marker-fill-opacity: 0.9;\n",
    "  marker-line-color: #FFFFFF;\n",
    "  marker-line-width: 1;\n",
    "  marker-line-opacity: 1;\n",
    "  marker-placement: point;\n",
    "  marker-type: ellipse;\n",
    "  marker-allow-overlap: true;\n",
    "}\n",
    "```"
   ]
  },
  {
   "cell_type": "markdown",
   "metadata": {},
   "source": [
    "## Heat map"
   ]
  },
  {
   "cell_type": "markdown",
   "metadata": {},
   "source": [
    "** Query **"
   ]
  },
  {
   "cell_type": "markdown",
   "metadata": {},
   "source": [
    "```sql\n",
    "SELECT the_geom FROM fsp_maps\n",
    "WHERE type_id = 40\n",
    "```"
   ]
  },
  {
   "cell_type": "markdown",
   "metadata": {},
   "source": [
    "```css\n",
    "Map {\n",
    "  -torque-frame-count: 1;\n",
    "  -torque-animation-duration: 30;\n",
    "  -torque-time-attribute: \"cartodb_id\";\n",
    "  -torque-aggregation-function: \"count(1)\";\n",
    "  -torque-resolution: 4;\n",
    "  -torque-data-aggregation: linear;\n",
    "}\n",
    "#layer {\n",
    "  marker-width: 25;\n",
    "  marker-fill: white;\n",
    "  marker-fill-opacity: 1;\n",
    "  marker-file: url(https://cartodb-libs.global.ssl.fastly.net/cartodbui/assets/unversioned/images/alphamarker.png);\n",
    "  marker-allow-overlap: true;\n",
    "  marker-line-width: 1;\n",
    "  marker-line-color: #FFFFFF;\n",
    "  marker-line-opacity: 1;\n",
    "  image-filters: colorize-alpha(#4b2991,#932da3,#d43f96,#f7667c,#f89f77,#edd9a3);\n",
    "}\n",
    "```"
   ]
  },
  {
   "cell_type": "markdown",
   "metadata": {},
   "source": [
    "** CSS **"
   ]
  },
  {
   "cell_type": "markdown",
   "metadata": {},
   "source": [
    "## Voronoid"
   ]
  },
  {
   "cell_type": "markdown",
   "metadata": {},
   "source": [
    "** Query **"
   ]
  },
  {
   "cell_type": "markdown",
   "metadata": {},
   "source": [
    "```sql\n",
    "WITH v as (SELECT v.*, m.type, m.type_id\n",
    "             FROM fsp_voronoid as v\n",
    "        LEFT JOIN fsp_maps as m\n",
    "               ON v.id = m.id \n",
    "         ORDER BY v.id)\n",
    "            \n",
    "SELECT the_geom\n",
    "FROM v\n",
    "WHERE type_id = 40\n",
    "```"
   ]
  },
  {
   "cell_type": "markdown",
   "metadata": {},
   "source": [
    "*** "
   ]
  },
  {
   "cell_type": "markdown",
   "metadata": {},
   "source": [
    "# Contextual layers"
   ]
  },
  {
   "cell_type": "markdown",
   "metadata": {},
   "source": [
    "** Layers' name **"
   ]
  },
  {
   "cell_type": "markdown",
   "metadata": {},
   "source": [
    "```sql\n",
    "SELECT layer FROM layer_spec\n",
    "```"
   ]
  },
  {
   "cell_type": "markdown",
   "metadata": {},
   "source": [
    "## From Carto "
   ]
  },
  {
   "cell_type": "markdown",
   "metadata": {},
   "source": [
    "** Query and CSS **"
   ]
  },
  {
   "cell_type": "markdown",
   "metadata": {},
   "source": [
    "```sql\n",
    "SELECT queries, css FROM layer_spec WHERE layer = 'AidData'\n",
    "```"
   ]
  },
  {
   "cell_type": "markdown",
   "metadata": {},
   "source": [
    "## From RW API"
   ]
  },
  {
   "cell_type": "markdown",
   "metadata": {},
   "source": [
    "** Layer id **"
   ]
  },
  {
   "cell_type": "markdown",
   "metadata": {},
   "source": [
    "```sql\n",
    "SELECT layer_id FROM layer_spec WHERE layer = 'Accessibility to Cities'\n",
    "```"
   ]
  },
  {
   "cell_type": "markdown",
   "metadata": {},
   "source": [
    "***"
   ]
  },
  {
   "cell_type": "markdown",
   "metadata": {},
   "source": [
    "# FSP maps analysis"
   ]
  },
  {
   "cell_type": "markdown",
   "metadata": {},
   "source": [
    "## Country information\n",
    "** Total, urban, and rural population, their percentages, and population within 5 km of all access points**"
   ]
  },
  {
   "cell_type": "markdown",
   "metadata": {},
   "source": [
    "```sql\n",
    "WITH b as (SELECT the_geom FROM world_borders_hd as b \n",
    "            WHERE b.iso_a3 = 'KEN'),\n",
    "     u as (SELECT u.the_geom FROM urban_areas as u\n",
    "             JOIN world_borders_hd as b\n",
    "               ON ST_Intersects(b.the_geom, u.the_geom)\n",
    "            WHERE b.iso_a3 = 'KEN')\n",
    "\n",
    "SELECT tot.pop as total_population, urb.pop as urban_population, \n",
    "  round(((urb.pop/tot.pop)*100)::numeric, 1) as urban_population_percentage, (tot.pop - urb.pop) as \n",
    "  rural_population, round((((tot.pop - urb.pop)/tot.pop)*100)::numeric,1) as   \n",
    "  rural_population_percentage, round(pop_km.tot_pop_km::numeric) as population_5km,\n",
    "  round(((round(pop_km.tot_pop_km::numeric)/tot.pop)*100)::numeric, 1) as population_5km_percentage,\n",
    "  2015 as year\n",
    "FROM (SELECT round((ST_SummaryStatsAgg(ST_Clip(the_raster_webmercator, b.the_geom),1,True)).sum) as pop\n",
    "        FROM population_count_2015, b \n",
    "       WHERE ST_Intersects(the_raster_webmercator, b.the_geom)\n",
    "      ) as tot,\n",
    "     (SELECT round((ST_SummaryStatsAgg(ST_Clip(the_raster_webmercator, u.the_geom),1,True)).sum) as pop\n",
    "        FROM population_count_2015, u \n",
    "       WHERE ST_Intersects(the_raster_webmercator, u.the_geom)\n",
    "      ) as urb,\n",
    "     (SELECT total_population as tot_pop_km\n",
    "        FROM population_within_5km \n",
    "       WHERE iso = 'KEN'\n",
    "      ) as pop_km\n",
    "```"
   ]
  },
  {
   "cell_type": "markdown",
   "metadata": {},
   "source": [
    "widget_config"
   ]
  },
  {
   "cell_type": "markdown",
   "metadata": {},
   "source": [
    "```sql\n",
    "WITH b as (SELECT the_geom FROM world_borders_hd as b WHERE b.iso_a3 = 'KEN'), u as (SELECT u.the_geom FROM urban_areas as u JOIN world_borders_hd as b ON ST_Intersects(b.the_geom, u.the_geom) WHERE b.iso_a3 = 'KEN') SELECT tot.pop as total_population, urb.pop as urban_population, round(((urb.pop/tot.pop)*100)::numeric, 1) as urban_population_percentage, (tot.pop - urb.pop) as rural_population, round((((tot.pop - urb.pop)/tot.pop)*100)::numeric,1) as rural_population_percentage, round(pop_km.tot_pop_km::numeric) as population_5km, round(((round(pop_km.tot_pop_km::numeric)/tot.pop)*100)::numeric, 1) as population_5km_percentage, 2015 as year FROM (SELECT round((ST_SummaryStatsAgg(ST_Clip(the_raster_webmercator, b.the_geom),1,True)).sum) as pop FROM population_count_2015, b WHERE ST_Intersects(the_raster_webmercator, b.the_geom)) as tot, (SELECT round((ST_SummaryStatsAgg(ST_Clip(the_raster_webmercator, u.the_geom),1,True)).sum) as pop FROM population_count_2015, u WHERE ST_Intersects(the_raster_webmercator, u.the_geom)) as urb,(SELECT total_population as tot_pop_km FROM population_within_5km WHERE iso = 'KEN') as pop_km\n",
    "```"
   ]
  },
  {
   "cell_type": "code",
   "execution_count": 68,
   "metadata": {},
   "outputs": [
    {
     "data": {
      "text/plain": [
       "'{\"widgetConfig\": {\"sql_config\": [{\"key\": \"where\", \"key_params\": [{\"key\": \"iso_a3\", \"required\": false}]}], \"sql_query\": \"with r as (SELECT the_geom, sum(transaction_value) as total_transaction_value  FROM aiddata_transactions {{where}} GROUP BY the_geom) SELECT CDB_JenksBins(array_agg(total_transaction_value::numeric),5) as bucket FROM r WHERE total_transaction_value is not null\", \"type\": \"text\"}}'"
      ]
     },
     "execution_count": 68,
     "metadata": {},
     "output_type": "execute_result"
    }
   ],
   "source": [
    "json.dumps({'widgetConfig': {'sql_config': [{'key': 'where',\n",
    "       'key_params': [{'key': 'iso_a3', 'required': False}]}],\n",
    "      'sql_query': 'with r as (SELECT the_geom, sum(transaction_value) as total_transaction_value  FROM aiddata_transactions {{where}} GROUP BY the_geom) SELECT CDB_JenksBins(array_agg(total_transaction_value::numeric),5) as bucket FROM r WHERE total_transaction_value is not null',\n",
    "      'type': 'text'}})"
   ]
  },
  {
   "cell_type": "markdown",
   "metadata": {},
   "source": [
    "## Nearby Polygon\n",
    "** We use this [API](https://openrouteservice.org/documentation/#/reference/isochrones/isochrones/isochrones-service) to get the geometries **"
   ]
  },
  {
   "cell_type": "markdown",
   "metadata": {},
   "source": [
    "Example url:\n",
    "```html\n",
    "https://api.openrouteservice.org/isochrones?api_key=your-api-key&locations=8.34234%2C48.23424&profile=driving-car&range_type=time&range=60&interval=&units=m&location_type=start&attributes=&options=&intersections=&id=\n",
    "```"
   ]
  },
  {
   "cell_type": "code",
   "execution_count": 12,
   "metadata": {},
   "outputs": [],
   "source": [
    "api_key = '5b3ce3597851110001cf6248ce35abcdfc0547a283c2b4ab7e581dd8'\n",
    "lng = '36.815185546875'\n",
    "lat = '-1.282546686897245'\n",
    "profile = 'foot-walking'\n",
    "range = 2000 #Maximum range value of the analysis in seconds. \n",
    "\n",
    "url = f\"https://api.openrouteservice.org/isochrones?api_key={api_key}&locations={lng}%2C{lat}&profile={profile}&range_type=time&range={range}\"\n",
    "\n",
    "r = requests.get(f\"{url}\")"
   ]
  },
  {
   "cell_type": "markdown",
   "metadata": {},
   "source": [
    "Point"
   ]
  },
  {
   "cell_type": "code",
   "execution_count": 13,
   "metadata": {},
   "outputs": [
    {
     "data": {
      "text/plain": [
       "[36.815186, -1.282547]"
      ]
     },
     "execution_count": 13,
     "metadata": {},
     "output_type": "execute_result"
    }
   ],
   "source": [
    "r.json().get('features')[0].get('properties').get('center')"
   ]
  },
  {
   "cell_type": "markdown",
   "metadata": {},
   "source": [
    "Polygon"
   ]
  },
  {
   "cell_type": "code",
   "execution_count": 14,
   "metadata": {},
   "outputs": [
    {
     "data": {
      "text/plain": [
       "'{\"type\":\"Polygon\",\"coordinates\":[[[36.793497,-1.276439],[36.795092,-1.28584],[36.795113,-1.289178],[36.796803,-1.295043],[36.797672,-1.296449],[36.800558,-1.299214],[36.801495,-1.29994],[36.811105,-1.303825],[36.812905,-1.303719],[36.824329,-1.305852],[36.827847,-1.30312],[36.82811,-1.302775],[36.829646,-1.29959],[36.834238,-1.290449],[36.836323,-1.289074],[36.837129,-1.287775],[36.838203,-1.285111],[36.838232,-1.284935],[36.837288,-1.277239],[36.835418,-1.268669],[36.83278,-1.265343],[36.832401,-1.265428],[36.82608,-1.265214],[36.818695,-1.258269],[36.818625,-1.258239],[36.818611,-1.258233],[36.817966,-1.25796],[36.811114,-1.259599],[36.799968,-1.261126],[36.799954,-1.26113],[36.795923,-1.269467],[36.795084,-1.271342],[36.79378,-1.27427],[36.793497,-1.276439]]]}'"
      ]
     },
     "execution_count": 14,
     "metadata": {},
     "output_type": "execute_result"
    }
   ],
   "source": [
    "json.dumps(r.json().get('features')[0].get('geometry'), separators=(',',':'))"
   ]
  },
  {
   "cell_type": "markdown",
   "metadata": {},
   "source": [
    "## Information\n",
    "** Total selected access points and population **"
   ]
  },
  {
   "cell_type": "markdown",
   "metadata": {},
   "source": [
    "Polygon "
   ]
  },
  {
   "cell_type": "markdown",
   "metadata": {},
   "source": [
    "```sql\n",
    "WITH b as (SELECT st_setsrid(st_geomfromgeojson('\n",
    "{\"type\":\"Polygon\",\"coordinates\":[[[36.1834716796875,-1.7465556193132534],[37.5238037109375,-1.7465556193132534],[37.5238037109375,-0.8459165322899671],[36.1834716796875,-0.8459165322899671],[36.1834716796875,-1.7465556193132534]]]}'),4326) as the_geom),\n",
    "     u as (SELECT ST_Intersection(u.the_geom,b.the_geom) as the_geom FROM urban_areas as u, b\n",
    "           WHERE ST_Intersects(u.the_geom, b.the_geom))\n",
    "\n",
    "SELECT points.count as access_points, tot.pop as total_population, COALESCE(urb.pop, tot.pop) as urban_population, \n",
    "  round(((COALESCE(urb.pop, tot.pop)/tot.pop)*100)::numeric, 1) as urban_population_percentage, (tot.pop - COALESCE(urb.pop, tot.pop)) as \n",
    "  rural_population, round((((tot.pop - COALESCE(urb.pop, tot.pop))/tot.pop)*100)::numeric,1) as   \n",
    "  rural_population_percentage\n",
    "FROM (SELECT round((ST_SummaryStatsAgg(ST_Clip(the_raster_webmercator, b.the_geom),1,True)).sum) as pop\n",
    "        FROM population_count_2015, b \n",
    "       WHERE ST_Intersects(the_raster_webmercator, b.the_geom)\n",
    "      ) as tot,\n",
    "     (SELECT round((ST_SummaryStatsAgg(ST_Clip(the_raster_webmercator, u.the_geom),1,True)).sum) as pop\n",
    "        FROM population_count_2015, u \n",
    "       WHERE ST_Intersects(the_raster_webmercator, u.the_geom)\n",
    "      ) as urb,\n",
    "    (SELECT count(*)\n",
    "        FROM fsp_maps as m, b \n",
    "       WHERE ST_Intersects(m.the_geom, b.the_geom) and type_id in (40,51,58,62,67)\n",
    "     ) as points\n",
    "```"
   ]
  },
  {
   "cell_type": "markdown",
   "metadata": {},
   "source": [
    "Country"
   ]
  },
  {
   "cell_type": "markdown",
   "metadata": {},
   "source": [
    "```sql\n",
    "WITH b as (SELECT the_geom FROM world_borders_hd as b \n",
    "            WHERE b.iso_a3 = 'KEN'),\n",
    "     u as (SELECT ST_Intersection(u.the_geom,b.the_geom) as the_geom FROM urban_areas as u\n",
    "             JOIN world_borders_hd as b\n",
    "               ON ST_Intersects(b.the_geom, u.the_geom)\n",
    "            WHERE b.iso_a3 = 'KEN')\n",
    "\n",
    "SELECT points.count as access_points, tot.pop as total_population, urb.pop as urban_population, \n",
    "  round(((urb.pop/tot.pop)*100)::numeric, 1) as urban_population_percentage, (tot.pop - urb.pop) as \n",
    "  rural_population, round((((tot.pop - urb.pop)/tot.pop)*100)::numeric,1) as   \n",
    "  rural_population_percentage\n",
    "FROM (SELECT round((ST_SummaryStatsAgg(ST_Clip(the_raster_webmercator, b.the_geom),1,True)).sum) as pop\n",
    "        FROM population_count_2015, b \n",
    "       WHERE ST_Intersects(the_raster_webmercator, b.the_geom)\n",
    "      ) as tot,\n",
    "     (SELECT round((ST_SummaryStatsAgg(ST_Clip(the_raster_webmercator, u.the_geom),1,True)).sum) as pop\n",
    "        FROM population_count_2015, u \n",
    "       WHERE ST_Intersects(the_raster_webmercator, u.the_geom)\n",
    "      ) as urb,\n",
    "    (SELECT count(*)\n",
    "        FROM fsp_maps\n",
    "       WHERE type_id in (40,51,58,62,67)\n",
    "     ) as points\n",
    "```"
   ]
  },
  {
   "cell_type": "markdown",
   "metadata": {},
   "source": [
    "## Charts"
   ]
  },
  {
   "cell_type": "markdown",
   "metadata": {},
   "source": [
    "** Number of services **"
   ]
  },
  {
   "cell_type": "markdown",
   "metadata": {},
   "source": [
    "Polygon (Nearby)"
   ]
  },
  {
   "cell_type": "markdown",
   "metadata": {},
   "source": [
    "```sql\n",
    "WITH b as (SELECT st_setsrid(st_geomfromgeojson('\n",
    "{\"type\":\"Polygon\",\"coordinates\":[[[36.793497,-1.276439],[36.795092,-1.28584],[36.795113,-1.289178],[36.796803,-1.295043],[36.797672,-1.296449],[36.800558,-1.299214],[36.801495,-1.29994],[36.811105,-1.303825],[36.812905,-1.303719],[36.824329,-1.305852],[36.827847,-1.30312],[36.82811,-1.302775],[36.829646,-1.29959],[36.834238,-1.290449],[36.836323,-1.289074],[36.837129,-1.287775],[36.838203,-1.285111],[36.838232,-1.284935],[36.837288,-1.277239],[36.835418,-1.268669],[36.83278,-1.265343],[36.832401,-1.265428],[36.82608,-1.265214],[36.818695,-1.258269],[36.818625,-1.258239],[36.818611,-1.258233],[36.817966,-1.25796],[36.811114,-1.259599],[36.799968,-1.261126],[36.799954,-1.26113],[36.795923,-1.269467],[36.795084,-1.271342],[36.79378,-1.27427],[36.793497,-1.276439]]]}'),4326) as the_geom)\n",
    "\n",
    "SELECT count(*) as access_points\n",
    "        FROM fsp_maps as m, b\n",
    "       WHERE ST_Intersects(b.the_geom, m.the_geom) and m.type_id in (40,51,58,62,67)\n",
    "    GROUP BY m.iso, m.sector, m.type\n",
    "```"
   ]
  },
  {
   "cell_type": "markdown",
   "metadata": {},
   "source": [
    "Polygon (Area of interest)"
   ]
  },
  {
   "cell_type": "markdown",
   "metadata": {},
   "source": [
    "```sql\n",
    "WITH b as (SELECT st_setsrid(st_geomfromgeojson('{\"type\":\"Polygon\",\"coordinates\":[[[36.78497314453124,-1.3045137436059018],[36.84883117675781,-1.3045137436059018],[36.84883117675781,-1.2646983143314325],[36.78497314453124,-1.2646983143314325],[36.78497314453124,-1.3045137436059018]]]}'),4326) as the_geom)\n",
    "\n",
    "SELECT count(*) as access_points, m.iso, m.sector, m.type\n",
    "        FROM fsp_maps as m, b  \n",
    "       WHERE ST_Intersects(b.the_geom, m.the_geom) and m.type_id in (40,51,58,62,67)\n",
    "    GROUP BY m.iso, m.sector, m.type\n",
    "```"
   ]
  },
  {
   "cell_type": "markdown",
   "metadata": {},
   "source": [
    "Country"
   ]
  },
  {
   "cell_type": "markdown",
   "metadata": {},
   "source": [
    "```sql\n",
    "WITH b as (SELECT the_geom FROM world_borders_hd as b \n",
    "            WHERE b.iso_a3 = 'KEN')\n",
    "            \n",
    "SELECT count(*) as access_points, m.iso, m.sector, m.type\n",
    "FROM fsp_maps as m, b  \n",
    "WHERE m.type_id in (40,51,58,62,67)\n",
    "GROUP BY m.iso, m.sector, m.type\n",
    "```"
   ]
  },
  {
   "cell_type": "markdown",
   "metadata": {},
   "source": [
    "** Acces Points % **"
   ]
  },
  {
   "cell_type": "markdown",
   "metadata": {},
   "source": [
    "Polygon (Nearby)"
   ]
  },
  {
   "cell_type": "markdown",
   "metadata": {},
   "source": [
    "```sql\n",
    "WITH b as (SELECT st_setsrid(st_geomfromgeojson('\n",
    "{\"type\":\"Polygon\",\"coordinates\":[[[36.793497,-1.276439],[36.795092,-1.28584],[36.795113,-1.289178],[36.796803,-1.295043],[36.797672,-1.296449],[36.800558,-1.299214],[36.801495,-1.29994],[36.811105,-1.303825],[36.812905,-1.303719],[36.824329,-1.305852],[36.827847,-1.30312],[36.82811,-1.302775],[36.829646,-1.29959],[36.834238,-1.290449],[36.836323,-1.289074],[36.837129,-1.287775],[36.838203,-1.285111],[36.838232,-1.284935],[36.837288,-1.277239],[36.835418,-1.268669],[36.83278,-1.265343],[36.832401,-1.265428],[36.82608,-1.265214],[36.818695,-1.258269],[36.818625,-1.258239],[36.818611,-1.258233],[36.817966,-1.25796],[36.811114,-1.259599],[36.799968,-1.261126],[36.799954,-1.26113],[36.795923,-1.269467],[36.795084,-1.271342],[36.79378,-1.27427],[36.793497,-1.276439]]]}'),4326) as the_geom)\n",
    "\n",
    "SELECT round((points.count*1./tot.count*1.)*100, 1) as access_points_percentage, points.iso, points.sector, points.type \n",
    "FROM (SELECT count(*), m.iso, m.sector, m.type\n",
    "        FROM fsp_maps as m, b\n",
    "       WHERE ST_Intersects(b.the_geom, m.the_geom) and m.type_id in (40,51,58,62,67)\n",
    "    GROUP BY m.iso, m.sector, m.type\n",
    "     ) as points,\n",
    "    (SELECT count(*)\n",
    "        FROM fsp_maps as m, b\n",
    "       WHERE ST_Intersects(b.the_geom, m.the_geom) and type_id in (40,51,58,62,67)\n",
    "     ) as tot\n",
    "```"
   ]
  },
  {
   "cell_type": "markdown",
   "metadata": {},
   "source": [
    "Polygon (Area of interest)"
   ]
  },
  {
   "cell_type": "markdown",
   "metadata": {},
   "source": [
    "```sql\n",
    "WITH b as (SELECT st_setsrid(st_geomfromgeojson('{\"type\":\"Polygon\",\"coordinates\":[[[36.78497314453124,-1.3045137436059018],[36.84883117675781,-1.3045137436059018],[36.84883117675781,-1.2646983143314325],[36.78497314453124,-1.2646983143314325],[36.78497314453124,-1.3045137436059018]]]}'),4326) as the_geom)\n",
    "\n",
    "SELECT round((points.count*1./tot.count*1.)*100, 1) as access_points_percentage, points.iso, points.sector, points.type \n",
    "FROM (SELECT count(*), m.iso, m.sector, m.type\n",
    "        FROM fsp_maps as m, b  \n",
    "       WHERE ST_Intersects(b.the_geom, m.the_geom) and m.type_id in (40,51,58,62,67)\n",
    "    GROUP BY m.iso, m.sector, m.type\n",
    "     ) as points,\n",
    "    (SELECT count(*)\n",
    "        FROM fsp_maps as m, b\n",
    "       WHERE ST_Intersects(b.the_geom, m.the_geom) and type_id in (40,51,58,62,67)\n",
    "     ) as tot\n",
    "```"
   ]
  },
  {
   "cell_type": "markdown",
   "metadata": {},
   "source": [
    "Country"
   ]
  },
  {
   "cell_type": "markdown",
   "metadata": {},
   "source": [
    "```sql\n",
    "WITH b as (SELECT the_geom FROM world_borders_hd as b \n",
    "            WHERE b.iso_a3 = 'KEN')\n",
    "            \n",
    "SELECT round((points.count*1./tot.count)*100, 1) as access_points_percentage, points.iso, points.sector, points.type \n",
    "FROM (SELECT count(*), m.iso, m.sector, m.type\n",
    "        FROM fsp_maps as m, b  \n",
    "       WHERE m.type_id in (40,51,58,62,67)\n",
    "    GROUP BY m.iso, m.sector, m.type\n",
    "     ) as points,\n",
    "    (SELECT count(*)\n",
    "        FROM fsp_maps \n",
    "       WHERE type_id in (40,51,58,62,67)\n",
    "     ) as tot\n",
    "```"
   ]
  },
  {
   "cell_type": "markdown",
   "metadata": {},
   "source": [
    "** Mean distance to access points **"
   ]
  },
  {
   "cell_type": "markdown",
   "metadata": {},
   "source": [
    "Polygon (Nearby)"
   ]
  },
  {
   "cell_type": "markdown",
   "metadata": {},
   "source": [
    "```sql\n",
    "WITH p as (SELECT ST_Transform(ST_GeomFromText('POINT(36.815186 -1.282547)',4326),26986) as the_geom), \n",
    "     b as (SELECT st_setsrid(st_geomfromgeojson('\n",
    "{\"type\":\"Polygon\",\"coordinates\":[[[36.793497,-1.276439],[36.795092,-1.28584],[36.795113,-1.289178],[36.796803,-1.295043],[36.797672,-1.296449],[36.800558,-1.299214],[36.801495,-1.29994],[36.811105,-1.303825],[36.812905,-1.303719],[36.824329,-1.305852],[36.827847,-1.30312],[36.82811,-1.302775],[36.829646,-1.29959],[36.834238,-1.290449],[36.836323,-1.289074],[36.837129,-1.287775],[36.838203,-1.285111],[36.838232,-1.284935],[36.837288,-1.277239],[36.835418,-1.268669],[36.83278,-1.265343],[36.832401,-1.265428],[36.82608,-1.265214],[36.818695,-1.258269],[36.818625,-1.258239],[36.818611,-1.258233],[36.817966,-1.25796],[36.811114,-1.259599],[36.799968,-1.261126],[36.799954,-1.26113],[36.795923,-1.269467],[36.795084,-1.271342],[36.79378,-1.27427],[36.793497,-1.276439]]]}'),4326) as the_geom)\n",
    "\n",
    "SELECT min(ST_Distance(p.the_geom, ST_Transform(m.the_geom,26986))/1000.) as min_distance_km, avg(ST_Distance(p.the_geom, ST_Transform(m.the_geom,26986))/1000.) as mean_distance_km, m.iso, m.sector, m.type\n",
    "FROM fsp_maps as m, b, p  \n",
    "WHERE ST_Intersects(b.the_geom, m.the_geom) and m.type_id in (40,51,58,62,67)\n",
    "GROUP BY m.iso, m.sector, m.type   \n",
    "```"
   ]
  },
  {
   "cell_type": "markdown",
   "metadata": {},
   "source": [
    "Polygon (Area of interest)"
   ]
  },
  {
   "cell_type": "markdown",
   "metadata": {},
   "source": [
    "```sql\n",
    "WITH b as (SELECT st_setsrid(st_geomfromgeojson('{\"type\":\"Polygon\",\"coordinates\":[[[36.78497314453124,-1.3045137436059018],[36.84883117675781,-1.3045137436059018],[36.84883117675781,-1.2646983143314325],[36.78497314453124,-1.2646983143314325],[36.78497314453124,-1.3045137436059018]]]}'),4326) as the_geom)\n",
    "\n",
    "SELECT avg(ST_Distance(ST_Transform(ST_Centroid(b.the_geom), 26986), ST_Transform(m.the_geom,26986))/1000.) as mean_distance_km, m.iso, m.sector, m.type\n",
    "FROM fsp_maps as m, b  \n",
    "WHERE ST_Intersects(b.the_geom, m.the_geom) and m.type_id in (40,51,58,62,67)\n",
    "GROUP BY m.iso, m.sector, m.type\n",
    "```"
   ]
  },
  {
   "cell_type": "markdown",
   "metadata": {},
   "source": [
    "Country"
   ]
  },
  {
   "cell_type": "markdown",
   "metadata": {},
   "source": [
    "```sql\n",
    "WITH b as (SELECT the_geom FROM world_borders_hd as b \n",
    "            WHERE b.iso_a3 = 'KEN')\n",
    "            \n",
    "SELECT avg(ST_Distance(ST_Transform(ST_Centroid(b.the_geom), 26986), ST_Transform(m.the_geom,26986))/1000.) as mean_distance_km, m.iso, m.sector, m.type\n",
    "        FROM fsp_maps as m, b  \n",
    "       WHERE m.type_id in (40,51,58,62,67)\n",
    "    GROUP BY m.iso, m.sector, m.type\n",
    "```"
   ]
  },
  {
   "cell_type": "markdown",
   "metadata": {},
   "source": [
    "** All together **"
   ]
  },
  {
   "cell_type": "markdown",
   "metadata": {},
   "source": [
    "Polygon (Nearby)"
   ]
  },
  {
   "cell_type": "markdown",
   "metadata": {},
   "source": [
    "```sql\n",
    "WITH p as (SELECT ST_Transform(ST_GeomFromText('POINT(36.815186 -1.282547)',4326),26986) as the_geom), \n",
    "     b as (SELECT st_setsrid(st_geomfromgeojson('\n",
    "{\"type\":\"Polygon\",\"coordinates\":[[[36.793497,-1.276439],[36.795092,-1.28584],[36.795113,-1.289178],[36.796803,-1.295043],[36.797672,-1.296449],[36.800558,-1.299214],[36.801495,-1.29994],[36.811105,-1.303825],[36.812905,-1.303719],[36.824329,-1.305852],[36.827847,-1.30312],[36.82811,-1.302775],[36.829646,-1.29959],[36.834238,-1.290449],[36.836323,-1.289074],[36.837129,-1.287775],[36.838203,-1.285111],[36.838232,-1.284935],[36.837288,-1.277239],[36.835418,-1.268669],[36.83278,-1.265343],[36.832401,-1.265428],[36.82608,-1.265214],[36.818695,-1.258269],[36.818625,-1.258239],[36.818611,-1.258233],[36.817966,-1.25796],[36.811114,-1.259599],[36.799968,-1.261126],[36.799954,-1.26113],[36.795923,-1.269467],[36.795084,-1.271342],[36.79378,-1.27427],[36.793497,-1.276439]]]}'),4326) as the_geom)\n",
    "\n",
    "SELECT points.count as access_points, round((points.count*1./tot.count*1.)*100, 1) as access_points_percentage, points.mean_distance_km, points.iso, points.sector, points.type \n",
    "FROM (SELECT count(*), min(ST_Distance(p.the_geom, ST_Transform(m.the_geom,26986))/1000.) as min_distance_km, avg(ST_Distance(p.the_geom, ST_Transform(m.the_geom,26986))/1000.) as mean_distance_km, m.iso, m.sector, m.type\n",
    "        FROM fsp_maps as m, b, p  \n",
    "       WHERE ST_Intersects(b.the_geom, m.the_geom) and m.type_id in (40,51,58,62,67)\n",
    "    GROUP BY m.iso, m.sector, m.type\n",
    "     ) as points,\n",
    "    (SELECT count(*)\n",
    "        FROM fsp_maps as m, b\n",
    "       WHERE ST_Intersects(b.the_geom, m.the_geom) and type_id in (40,51,58,62,67)\n",
    "     ) as tot\n",
    "```"
   ]
  },
  {
   "cell_type": "markdown",
   "metadata": {},
   "source": [
    "Polygon (Area of interest)"
   ]
  },
  {
   "cell_type": "markdown",
   "metadata": {},
   "source": [
    "```sql\n",
    "WITH b as (SELECT st_setsrid(st_geomfromgeojson('{\"type\":\"Polygon\",\"coordinates\":[[[36.78497314453124,-1.3045137436059018],[36.84883117675781,-1.3045137436059018],[36.84883117675781,-1.2646983143314325],[36.78497314453124,-1.2646983143314325],[36.78497314453124,-1.3045137436059018]]]}'),4326) as the_geom)\n",
    "\n",
    "SELECT points.count as access_points, round((points.count*1./tot.count*1.)*100, 1) as access_points_percentage, points.mean_distance_km, points.iso, points.sector, points.type \n",
    "FROM (SELECT count(*), avg(ST_Distance(ST_Transform(ST_Centroid(b.the_geom), 26986), ST_Transform(m.the_geom,26986))/1000.) as mean_distance_km, m.iso, m.sector, m.type\n",
    "        FROM fsp_maps as m, b  \n",
    "       WHERE ST_Intersects(b.the_geom, m.the_geom) and m.type_id in (40,51,58,62,67)\n",
    "    GROUP BY m.iso, m.sector, m.type\n",
    "     ) as points,\n",
    "    (SELECT count(*)\n",
    "        FROM fsp_maps as m, b\n",
    "       WHERE ST_Intersects(b.the_geom, m.the_geom) and type_id in (40,51,58,62,67)\n",
    "     ) as tot\n",
    "```"
   ]
  },
  {
   "cell_type": "markdown",
   "metadata": {},
   "source": [
    "Country"
   ]
  },
  {
   "cell_type": "markdown",
   "metadata": {},
   "source": [
    "```sql\n",
    "WITH b as (SELECT the_geom FROM world_borders_hd as b \n",
    "            WHERE b.iso_a3 = 'KEN')\n",
    "            \n",
    "SELECT points.count as access_points, round((points.count*1./tot.count)*100, 1) as access_points_percentage, points.mean_distance_km, points.iso, points.sector, points.type \n",
    "FROM (SELECT count(*), avg(ST_Distance(ST_Transform(ST_Centroid(b.the_geom), 26986), ST_Transform(m.the_geom,26986))/1000.) as mean_distance_km, m.iso, m.sector, m.type\n",
    "        FROM fsp_maps as m, b  \n",
    "       WHERE m.type_id in (40,51,58,62,67)\n",
    "    GROUP BY m.iso, m.sector, m.type\n",
    "     ) as points,\n",
    "    (SELECT count(*)\n",
    "        FROM fsp_maps \n",
    "       WHERE type_id in (40,51,58,62,67)\n",
    "     ) as tot\n",
    "```"
   ]
  },
  {
   "cell_type": "markdown",
   "metadata": {},
   "source": [
    "** Example plots with python **"
   ]
  },
  {
   "cell_type": "code",
   "execution_count": 49,
   "metadata": {},
   "outputs": [
    {
     "data": {
      "text/html": [
       "<div>\n",
       "<style scoped>\n",
       "    .dataframe tbody tr th:only-of-type {\n",
       "        vertical-align: middle;\n",
       "    }\n",
       "\n",
       "    .dataframe tbody tr th {\n",
       "        vertical-align: top;\n",
       "    }\n",
       "\n",
       "    .dataframe thead th {\n",
       "        text-align: right;\n",
       "    }\n",
       "</style>\n",
       "<table border=\"1\" class=\"dataframe\">\n",
       "  <thead>\n",
       "    <tr style=\"text-align: right;\">\n",
       "      <th></th>\n",
       "      <th>access_points</th>\n",
       "      <th>access_points_percentage</th>\n",
       "      <th>iso</th>\n",
       "      <th>mean_distance_km</th>\n",
       "      <th>sector</th>\n",
       "      <th>type</th>\n",
       "    </tr>\n",
       "  </thead>\n",
       "  <tbody>\n",
       "    <tr>\n",
       "      <th>0</th>\n",
       "      <td>35</td>\n",
       "      <td>1.1</td>\n",
       "      <td>KEN</td>\n",
       "      <td>2.020388</td>\n",
       "      <td>Agriculture</td>\n",
       "      <td>Agro-Dealers</td>\n",
       "    </tr>\n",
       "    <tr>\n",
       "      <th>1</th>\n",
       "      <td>6</td>\n",
       "      <td>0.2</td>\n",
       "      <td>KEN</td>\n",
       "      <td>2.291160</td>\n",
       "      <td>Agriculture</td>\n",
       "      <td>Market Locations</td>\n",
       "    </tr>\n",
       "    <tr>\n",
       "      <th>2</th>\n",
       "      <td>345</td>\n",
       "      <td>10.9</td>\n",
       "      <td>KEN</td>\n",
       "      <td>2.207667</td>\n",
       "      <td>Finance</td>\n",
       "      <td>Bank Agent</td>\n",
       "    </tr>\n",
       "    <tr>\n",
       "      <th>3</th>\n",
       "      <td>142</td>\n",
       "      <td>4.5</td>\n",
       "      <td>KEN</td>\n",
       "      <td>1.952519</td>\n",
       "      <td>Finance</td>\n",
       "      <td>Forex Bureaus</td>\n",
       "    </tr>\n",
       "    <tr>\n",
       "      <th>4</th>\n",
       "      <td>2642</td>\n",
       "      <td>83.3</td>\n",
       "      <td>KEN</td>\n",
       "      <td>2.228340</td>\n",
       "      <td>Finance</td>\n",
       "      <td>Mobile Money Agent</td>\n",
       "    </tr>\n",
       "  </tbody>\n",
       "</table>\n",
       "</div>"
      ],
      "text/plain": [
       "   access_points  access_points_percentage  iso  mean_distance_km  \\\n",
       "0             35                       1.1  KEN          2.020388   \n",
       "1              6                       0.2  KEN          2.291160   \n",
       "2            345                      10.9  KEN          2.207667   \n",
       "3            142                       4.5  KEN          1.952519   \n",
       "4           2642                      83.3  KEN          2.228340   \n",
       "\n",
       "        sector                type  \n",
       "0  Agriculture        Agro-Dealers  \n",
       "1  Agriculture    Market Locations  \n",
       "2      Finance          Bank Agent  \n",
       "3      Finance       Forex Bureaus  \n",
       "4      Finance  Mobile Money Agent  "
      ]
     },
     "execution_count": 49,
     "metadata": {},
     "output_type": "execute_result"
    }
   ],
   "source": [
    "iso = 'KEN'\n",
    "\n",
    "query =(\"WITH b as (SELECT st_setsrid(st_geomfromgeojson('{\\\"type\\\":\\\"Polygon\\\",\\\"coordinates\\\":[[[36.78497314453124,-1.3045137436059018],[36.84883117675781,-1.3045137436059018],[36.84883117675781,-1.2646983143314325],[36.78497314453124,-1.2646983143314325],[36.78497314453124,-1.3045137436059018]]]}'),4326) as the_geom) \"\n",
    "\"SELECT points.count as access_points, round((points.count*1./tot.count*1.)*100, 1) as access_points_percentage, points.mean_distance_km, points.iso, points.sector, points.type \"\n",
    "\"FROM (SELECT count(*), avg(ST_Distance(ST_Transform(ST_Centroid(b.the_geom), 26986), ST_Transform(m.the_geom,26986))/1000.) as mean_distance_km, m.iso, m.sector, m.type \"\n",
    "\"FROM fsp_maps as m, b \"\n",
    "\"WHERE ST_Intersects(b.the_geom, m.the_geom) and m.type_id in (40,51,58,62,67) \"\n",
    "\"GROUP BY m.iso, m.sector, m.type \"\n",
    "\") as points, \"\n",
    "\"(SELECT count(*) \"\n",
    "\"FROM fsp_maps as m, b \"\n",
    "\"WHERE ST_Intersects(b.the_geom, m.the_geom) and type_id in (40,51,58,62,67) \"\n",
    "\") as tot \"\n",
    ")\n",
    "\n",
    "account = 'ikerey'\n",
    "urlCarto = f\"https://{account}.carto.com/api/v2/sql\"\n",
    "\n",
    "sql = {\"q\": query}\n",
    "r = requests.get(urlCarto, params=sql)\n",
    "\n",
    "data = r.json().get('rows')\n",
    "df = pd.DataFrame.from_dict(json_normalize(data))\n",
    "df.head()"
   ]
  },
  {
   "cell_type": "markdown",
   "metadata": {},
   "source": [
    "Acces Points %"
   ]
  },
  {
   "cell_type": "code",
   "execution_count": 32,
   "metadata": {},
   "outputs": [
    {
     "data": {
      "image/png": "[encoded data removed]",
      "text/plain": [
       "<matplotlib.figure.Figure at 0x10c0b6550>"
      ]
     },
     "metadata": {},
     "output_type": "display_data"
    }
   ],
   "source": [
    "counts = df['access_points_percentage']\n",
    "labels = df['type']\n",
    "plt.figure(figsize=(5,5))\n",
    "plt.pie(counts, autopct='%1.1f%%')\n",
    "plt.legend(labels);"
   ]
  },
  {
   "cell_type": "markdown",
   "metadata": {},
   "source": [
    "Number of services"
   ]
  },
  {
   "cell_type": "code",
   "execution_count": 33,
   "metadata": {},
   "outputs": [
    {
     "data": {
      "text/plain": [
       "<matplotlib.axes._subplots.AxesSubplot at 0x10c0b6198>"
      ]
     },
     "execution_count": 33,
     "metadata": {},
     "output_type": "execute_result"
    },
    {
     "data": {
      "image/png": "[encoded data removed]",
      "text/plain": [
       "<matplotlib.figure.Figure at 0x1163085c0>"
      ]
     },
     "metadata": {},
     "output_type": "display_data"
    }
   ],
   "source": [
    "df.plot(x='type', y='access_points', kind='barh')"
   ]
  },
  {
   "cell_type": "markdown",
   "metadata": {},
   "source": [
    "Mean distance to access points"
   ]
  },
  {
   "cell_type": "code",
   "execution_count": 34,
   "metadata": {},
   "outputs": [
    {
     "data": {
      "text/plain": [
       "<matplotlib.axes._subplots.AxesSubplot at 0x116360630>"
      ]
     },
     "execution_count": 34,
     "metadata": {},
     "output_type": "execute_result"
    },
    {
     "data": {
      "image/png": "[encoded data removed]",
      "text/plain": [
       "<matplotlib.figure.Figure at 0x11627cdd8>"
      ]
     },
     "metadata": {},
     "output_type": "display_data"
    }
   ],
   "source": [
    "df.plot(x='type', y='mean_distance_km', kind='barh')"
   ]
  },
  {
   "cell_type": "markdown",
   "metadata": {},
   "source": [
    "*** "
   ]
  },
  {
   "cell_type": "markdown",
   "metadata": {},
   "source": [
    "# Contextual layers analysis"
   ]
  },
  {
   "cell_type": "markdown",
   "metadata": {},
   "source": [
    "## AidData \n",
    "** Total transaction value per year (chart)**"
   ]
  },
  {
   "cell_type": "markdown",
   "metadata": {},
   "source": [
    "Polygon "
   ]
  },
  {
   "cell_type": "markdown",
   "metadata": {},
   "source": [
    "```sql\n",
    "WITH b as (SELECT st_setsrid(st_geomfromgeojson('\n",
    "{\"type\":\"Polygon\",\"coordinates\":[[[30.618896484375,-0.5053645409602877],[31.651611328125004,-0.5053645409602877],[31.651611328125004,0.208739772610497],[30.618896484375,0.208739772610497],[30.618896484375,-0.5053645409602877]]]}'),4326) as the_geom)\n",
    "            \n",
    "  SELECT transaction_year, sum(transaction_value) as total_transaction_value, transaction_currency\n",
    "    FROM aiddata_transactions as a, b\n",
    "   WHERE ST_Intersects(b.the_geom, a.the_geom)\n",
    "GROUP BY transaction_year, transaction_currency\n",
    "ORDER BY transaction_year, transaction_currency\n",
    "```"
   ]
  },
  {
   "cell_type": "markdown",
   "metadata": {},
   "source": [
    "Country"
   ]
  },
  {
   "cell_type": "markdown",
   "metadata": {},
   "source": [
    "```sql\n",
    "SELECT transaction_year, sum(transaction_value) as total_transaction_value, transaction_currency\n",
    "    FROM aiddata_transactions \n",
    "   WHERE iso_a3 = 'UGA'\n",
    "GROUP BY transaction_year, transaction_currency\n",
    "ORDER BY transaction_year, transaction_currency\n",
    "```"
   ]
  },
  {
   "cell_type": "markdown",
   "metadata": {},
   "source": [
    "** Example plot with python **"
   ]
  },
  {
   "cell_type": "code",
   "execution_count": 48,
   "metadata": {},
   "outputs": [
    {
     "data": {
      "image/png": "[encoded data removed]",
      "text/plain": [
       "<matplotlib.figure.Figure at 0x10c118f60>"
      ]
     },
     "metadata": {},
     "output_type": "display_data"
    }
   ],
   "source": [
    "iso = \"UGA\"\n",
    "query =(\"SELECT transaction_year, sum(transaction_value) as total_transaction_value, \" \n",
    "        \"transaction_currency \"\n",
    "        \"FROM aiddata_transactions \" \n",
    "        f\"WHERE iso_a3 = '{iso}' \"\n",
    "        \"GROUP BY transaction_year, transaction_currency \"\n",
    "        \"ORDER BY transaction_year, transaction_currency \"\n",
    ")\n",
    "\n",
    "account = 'ikerey'\n",
    "urlCarto = f\"https://{account}.carto.com/api/v2/sql\"\n",
    "\n",
    "sql = {\"q\": query}\n",
    "r = requests.get(urlCarto, params=sql)\n",
    "\n",
    "data = r.json().get('rows')\n",
    "df = pd.DataFrame.from_dict(json_normalize(data))\n",
    "\n",
    "df.plot(x='transaction_year', y='total_transaction_value', kind='bar');"
   ]
  },
  {
   "cell_type": "markdown",
   "metadata": {},
   "source": [
    "## Electrical Grid\n",
    "** Number of lines and total lenth (numeric)**"
   ]
  },
  {
   "cell_type": "markdown",
   "metadata": {},
   "source": [
    "Polygon "
   ]
  },
  {
   "cell_type": "markdown",
   "metadata": {},
   "source": [
    "```sql\n",
    "WITH b as (SELECT st_setsrid(st_geomfromgeojson('\n",
    "{\"type\":\"Polygon\",\"coordinates\":[[[30.618896484375,-0.5053645409602877],[31.651611328125004,-0.5053645409602877],[31.651611328125004,0.208739772610497],[30.618896484375,0.208739772610497],[30.618896484375,-0.5053645409602877]]]}'),4326) as the_geom)\n",
    "\n",
    "SELECT iso, count(*) as total_lines, sum(length_km) as total_length_km\n",
    "    FROM electrical_grid as e, b\n",
    "   WHERE ST_Intersects(b.the_geom, e.the_geom)\n",
    "GROUP BY iso\n",
    "ORDER BY iso\n",
    "```"
   ]
  },
  {
   "cell_type": "markdown",
   "metadata": {},
   "source": [
    "Country"
   ]
  },
  {
   "cell_type": "markdown",
   "metadata": {},
   "source": [
    "```sql\n",
    "SELECT iso, count(*) as total_lines, sum(length_km) as total_length_km\n",
    "    FROM electrical_grid\n",
    "   WHERE iso = 'UGA'\n",
    "GROUP BY iso\n",
    "ORDER BY iso\n",
    "```"
   ]
  },
  {
   "cell_type": "markdown",
   "metadata": {},
   "source": [
    "** Example numbers with python **"
   ]
  },
  {
   "cell_type": "code",
   "execution_count": 50,
   "metadata": {},
   "outputs": [
    {
     "data": {
      "text/html": [
       "<div>\n",
       "<style scoped>\n",
       "    .dataframe tbody tr th:only-of-type {\n",
       "        vertical-align: middle;\n",
       "    }\n",
       "\n",
       "    .dataframe tbody tr th {\n",
       "        vertical-align: top;\n",
       "    }\n",
       "\n",
       "    .dataframe thead th {\n",
       "        text-align: right;\n",
       "    }\n",
       "</style>\n",
       "<table border=\"1\" class=\"dataframe\">\n",
       "  <thead>\n",
       "    <tr style=\"text-align: right;\">\n",
       "      <th></th>\n",
       "      <th>iso</th>\n",
       "      <th>total_length_km</th>\n",
       "      <th>total_lines</th>\n",
       "    </tr>\n",
       "  </thead>\n",
       "  <tbody>\n",
       "    <tr>\n",
       "      <th>0</th>\n",
       "      <td>UGA</td>\n",
       "      <td>28978</td>\n",
       "      <td>30161</td>\n",
       "    </tr>\n",
       "  </tbody>\n",
       "</table>\n",
       "</div>"
      ],
      "text/plain": [
       "   iso  total_length_km  total_lines\n",
       "0  UGA            28978        30161"
      ]
     },
     "execution_count": 50,
     "metadata": {},
     "output_type": "execute_result"
    }
   ],
   "source": [
    "iso = \"UGA\"\n",
    "query =(\"SELECT iso, count(*) as total_lines, sum(length_km) as total_length_km \"\n",
    "\"FROM electrical_grid \"\n",
    "\"WHERE iso = 'UGA' \"\n",
    "\"GROUP BY iso \"\n",
    "\"ORDER BY iso \"\n",
    ")\n",
    "\n",
    "account = 'ikerey'\n",
    "urlCarto = f\"https://{account}.carto.com/api/v2/sql\"\n",
    "\n",
    "sql = {\"q\": query}\n",
    "r = requests.get(urlCarto, params=sql)\n",
    "\n",
    "data = r.json().get('rows')\n",
    "df = pd.DataFrame.from_dict(json_normalize(data))\n",
    "df.head()"
   ]
  },
  {
   "cell_type": "markdown",
   "metadata": {},
   "source": [
    "## Movile Coverage\n",
    "** Percentage area covered by GSM, 3G, and 4G (chart) **"
   ]
  },
  {
   "cell_type": "markdown",
   "metadata": {},
   "source": [
    "Polygon "
   ]
  },
  {
   "cell_type": "markdown",
   "metadata": {},
   "source": [
    "```sql\n",
    "WITH b as (SELECT st_setsrid(st_geomfromgeojson('{\"type\":\"Polygon\",\"coordinates\":[[[30.618896484375,-0.5053645409602877],[31.651611328125004,-0.5053645409602877],[31.651611328125004,0.208739772610497],[30.618896484375,0.208739772610497],[30.618896484375,-0.5053645409602877]]]}'),4326) as the_geom)\n",
    "\n",
    "SELECT round(((a3g.area_3g/atot.area_tot)*100)::numeric, 1) as area_percentage_gsm, round(((a3g.area_3g/atot.area_tot)*100)::numeric, 1) as area_percentage_3g, round(((a4g.area_4g/atot.area_tot)*100)::numeric, 1) as area_percentage_4g,\n",
    "FROM (SELECT sum(ST_Area(ST_Intersection(m.the_geom, b.the_geom))) as area_gsm\n",
    "        FROM mobile_coverage_global_gsm as m, b \n",
    "       WHERE ST_Intersects(m.the_geom, b.the_geom)\n",
    "      ) as gsm,\n",
    "      (SELECT sum(ST_Area(ST_Intersection(m.the_geom, b.the_geom))) as area_3g\n",
    "        FROM mobile_coverage_global_3g as m, b \n",
    "       WHERE ST_Intersects(m.the_geom, b.the_geom)\n",
    "      ) as a3g,\n",
    "     (SELECT sum(ST_Area(ST_Intersection(m.the_geom, b.the_geom))) as area_4g\n",
    "        FROM mobile_coverage_global_4g as m, b \n",
    "       WHERE ST_Intersects(m.the_geom, b.the_geom)\n",
    "      ) as a4g,\n",
    "     (SELECT ST_Area(b.the_geom) as area_tot\n",
    "        FROM b \n",
    "      ) as atot\n",
    "```"
   ]
  },
  {
   "cell_type": "markdown",
   "metadata": {},
   "source": [
    "Country"
   ]
  },
  {
   "cell_type": "markdown",
   "metadata": {},
   "source": [
    "```sql\n",
    "WITH b as (SELECT the_geom FROM world_borders_hd as b \n",
    "            WHERE b.iso_a3 = 'UGA')\n",
    "            \n",
    "SELECT round(((a3g.area_3g/atot.area_tot)*100)::numeric, 1) as area_percentage_gsm, round(((a3g.area_3g/atot.area_tot)*100)::numeric, 1) as area_percentage_3g, round(((a4g.area_4g/atot.area_tot)*100)::numeric, 1) as area_percentage_4g,\n",
    "FROM (SELECT sum(ST_Area(ST_Intersection(m.the_geom, b.the_geom))) as area_gsm\n",
    "        FROM mobile_coverage_global_gsm as m, b \n",
    "       WHERE ST_Intersects(m.the_geom, b.the_geom)\n",
    "      ) as gsm,\n",
    "      (SELECT sum(ST_Area(ST_Intersection(m.the_geom, b.the_geom))) as area_3g\n",
    "        FROM mobile_coverage_global_3g as m, b \n",
    "       WHERE ST_Intersects(m.the_geom, b.the_geom)\n",
    "      ) as a3g,\n",
    "     (SELECT sum(ST_Area(ST_Intersection(m.the_geom, b.the_geom))) as area_4g\n",
    "        FROM mobile_coverage_global_4g as m, b \n",
    "       WHERE ST_Intersects(m.the_geom, b.the_geom)\n",
    "      ) as a4g,\n",
    "     (SELECT ST_Area(b.the_geom) as area_tot\n",
    "        FROM b \n",
    "      ) as atot          \n",
    "```"
   ]
  },
  {
   "cell_type": "markdown",
   "metadata": {},
   "source": [
    "## Urban Areas\n",
    "** Percentage of Urban and Rural areas (chart) **"
   ]
  },
  {
   "cell_type": "markdown",
   "metadata": {},
   "source": [
    "Polygon"
   ]
  },
  {
   "cell_type": "markdown",
   "metadata": {},
   "source": [
    "```sql\n",
    "WITH b as (SELECT st_setsrid(st_geomfromgeojson('\n",
    "{\"type\":\"Polygon\",\"coordinates\":[[[30.618896484375,-0.5053645409602877],[31.651611328125004,-0.5053645409602877],[31.651611328125004,0.208739772610497],[30.618896484375,0.208739772610497],[30.618896484375,-0.5053645409602877]]]}'),4326) as the_geom),\n",
    "     u as (SELECT ST_Intersection(u.the_geom,b.the_geom) as the_geom \n",
    "             FROM urban_areas as u, b\n",
    "            WHERE ST_Intersects(b.the_geom, u.the_geom))\n",
    "\n",
    "SELECT round(((COALESCE(urb.pop,tot.pop)/tot.pop)*100)::numeric, 1) as urban_population_percentage, round((((tot.pop - COALESCE(urb.pop,tot.pop))/tot.pop)*100)::numeric,1) as rural_population_percentage\n",
    "FROM (SELECT round((ST_SummaryStatsAgg(ST_Clip(the_raster_webmercator, b.the_geom),1,True)).sum) as pop\n",
    "        FROM population_count_2015, b \n",
    "       WHERE ST_Intersects(the_raster_webmercator, b.the_geom)\n",
    "      ) as tot,\n",
    "     (SELECT round((ST_SummaryStatsAgg(ST_Clip(the_raster_webmercator, u.the_geom),1,True)).sum) as pop\n",
    "        FROM population_count_2015, u \n",
    "       WHERE ST_Intersects(the_raster_webmercator, u.the_geom)\n",
    "      ) as urb\n",
    "```"
   ]
  },
  {
   "cell_type": "markdown",
   "metadata": {},
   "source": [
    "Country"
   ]
  },
  {
   "cell_type": "markdown",
   "metadata": {},
   "source": [
    "```sql\n",
    "WITH b as (SELECT the_geom FROM world_borders_hd as b \n",
    "            WHERE b.iso_a3 = 'UGA'),\n",
    "     u as (SELECT ST_Intersection(u.the_geom,b.the_geom) as the_geom FROM urban_areas as u\n",
    "             JOIN world_borders_hd as b\n",
    "               ON ST_Intersects(b.the_geom, u.the_geom)\n",
    "            WHERE b.iso_a3 = 'UGA')\n",
    "\n",
    "SELECT round(((COALESCE(urb.pop,tot.pop)/tot.pop)*100)::numeric, 1) as urban_population_percentage, round((((tot.pop - COALESCE(urb.pop,tot.pop))/tot.pop)*100)::numeric,1) as rural_population_percentage\n",
    "FROM (SELECT round((ST_SummaryStatsAgg(ST_Clip(the_raster_webmercator, b.the_geom),1,True)).sum) as pop\n",
    "        FROM population_count_2015, b \n",
    "       WHERE ST_Intersects(the_raster_webmercator, b.the_geom)\n",
    "      ) as tot,\n",
    "     (SELECT round((ST_SummaryStatsAgg(ST_Clip(the_raster_webmercator, u.the_geom),1,True)).sum) as pop\n",
    "        FROM population_count_2015, u \n",
    "       WHERE ST_Intersects(the_raster_webmercator, u.the_geom)\n",
    "      ) as urb\n",
    "```"
   ]
  },
  {
   "cell_type": "markdown",
   "metadata": {},
   "source": [
    "## Accessibility to Cities\n",
    "** Time to reach a city (numeric) **"
   ]
  },
  {
   "cell_type": "markdown",
   "metadata": {},
   "source": [
    "Polygon (Nearby)"
   ]
  },
  {
   "cell_type": "markdown",
   "metadata": {},
   "source": [
    "Polygon (Area of Interest)"
   ]
  },
  {
   "cell_type": "markdown",
   "metadata": {},
   "source": [
    "Country"
   ]
  },
  {
   "cell_type": "markdown",
   "metadata": {},
   "source": [
    "```sql\n",
    "WITH b as (SELECT the_geom FROM world_borders_hd as b \n",
    "            WHERE b.iso_a3 = 'UGA')\n",
    "            \n",
    "SELECT ST_SUMMARYSTATS()\n",
    "FROM 'cit01701-Travel-Time-to-Major-Cities' as c, b\n",
    "WHERE ST_INTERSECTS(c.the_geom, b.the_geom)\n",
    "```"
   ]
  },
  {
   "cell_type": "markdown",
   "metadata": {},
   "source": [
    "** Example numbers with python **"
   ]
  },
  {
   "cell_type": "markdown",
   "metadata": {},
   "source": [
    "Kenya's polygon in rw api:\n",
    "https://api.resourcewatch.org/v1/geostore/admin/KEN"
   ]
  },
  {
   "cell_type": "code",
   "execution_count": 54,
   "metadata": {},
   "outputs": [
    {
     "data": {
      "text/plain": [
       "{'data': [{'st_summarystats': {'accessibility': {'count': 136620,\n",
       "     'max': 7089,\n",
       "     'mean': 5654.312889767238,\n",
       "     'min': 189,\n",
       "     'stdev': 1255.9418668073565,\n",
       "     'sum': 772492227}}}],\n",
       " 'meta': {}}"
      ]
     },
     "execution_count": 54,
     "metadata": {},
     "output_type": "execute_result"
    }
   ],
   "source": [
    "geostore_id= \"9c7243fa187dc4cc436b8b11a9b78c05\"\n",
    "slug = 'cit01701-Travel-Time-to-Major-Cities'\n",
    "sql= f\"SELECT ST_SUMMARYSTATS() FROM {slug}\"\n",
    "\n",
    "params={\"sql\": sql, \"geostore\": geostore_id}\n",
    "url = \"https://api.resourcewatch.org/v1/query\"\n",
    "\n",
    "\n",
    "r = requests.get(f\"{url}\", params)\n",
    "r.json()"
   ]
  },
  {
   "cell_type": "code",
   "execution_count": null,
   "metadata": {},
   "outputs": [],
   "source": []
  }
 ],
 "metadata": {
  "kernelspec": {
   "display_name": "Python 3",
   "language": "python",
   "name": "python3"
  },
  "language_info": {
   "codemirror_mode": {
    "name": "ipython",
    "version": 3
   },
   "file_extension": ".py",
   "mimetype": "text/x-python",
   "name": "python",
   "nbconvert_exporter": "python",
   "pygments_lexer": "ipython3",
   "version": "3.6.4"
  }
 },
 "nbformat": 4,
 "nbformat_minor": 2
}
