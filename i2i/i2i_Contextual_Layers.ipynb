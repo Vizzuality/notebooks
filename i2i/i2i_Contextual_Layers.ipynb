{
 "cells": [
  {
   "cell_type": "code",
   "execution_count": 90,
   "metadata": {},
   "outputs": [],
   "source": [
    "import numpy as np\n",
    "import json\n",
    "import pandas as pd\n",
    "import geopandas as gpd\n",
    "import rasterio\n",
    "from rasterstats import zonal_stats\n",
    "import requests\n",
    "import pprint\n",
    "from iso3166 import countries_by_name\n",
    "from shapely.ops import cascaded_union\n",
    "from shapely.geometry import Point\n",
    "import matplotlib.pyplot as plt\n",
    "%matplotlib inline  "
   ]
  },
  {
   "cell_type": "markdown",
   "metadata": {},
   "source": [
    "***"
   ]
  },
  {
   "cell_type": "markdown",
   "metadata": {},
   "source": [
    "# AidData"
   ]
  },
  {
   "cell_type": "markdown",
   "metadata": {},
   "source": [
    "** Democratic Republic of the Congo **"
   ]
  },
  {
   "cell_type": "code",
   "execution_count": null,
   "metadata": {},
   "outputs": [],
   "source": [
    "DRC_locations = pd.read_csv('/Users/ikersanchez/Vizzuality/PROIEKTUAK/i2i/Data/Contextual_Layers/AidData/DRC-AIMS_GeocodedResearchRelease_Level1_v1.3.1/data/locations.csv')\n",
    "DRC_projects = pd.read_csv('/Users/ikersanchez/Vizzuality/PROIEKTUAK/i2i/Data/Contextual_Layers/AidData/DRC-AIMS_GeocodedResearchRelease_Level1_v1.3.1/data/projects.csv')\n",
    "DRC_transactions = pd.read_csv('/Users/ikersanchez/Vizzuality/PROIEKTUAK/i2i/Data/Contextual_Layers/AidData/DRC-AIMS_GeocodedResearchRelease_Level1_v1.3.1/data/transactions.csv')"
   ]
  },
  {
   "cell_type": "code",
   "execution_count": null,
   "metadata": {},
   "outputs": [],
   "source": [
    "DRC_locations = DRC_locations[['project_id', 'latitude', 'longitude', 'gazetteer_adm_name']]\n",
    "DRC_projects = DRC_projects[['project_id','project_title','donors', 'donors_iso3', 'recipients', 'recipients_iso3','ad_sector_names', 'status', 'transactions_start_year', 'transactions_end_year', 'total_commitments']]\n",
    "DRC_transactions = DRC_transactions[['project_id','transaction_year', 'transaction_currency', 'transaction_value']]"
   ]
  },
  {
   "cell_type": "code",
   "execution_count": null,
   "metadata": {},
   "outputs": [],
   "source": [
    "DRC_transactions = pd.merge(DRC_transactions, DRC_projects, how='left', on='project_id')\n",
    "DRC_transactions = pd.merge(DRC_transactions, DRC_locations, how='left', on='project_id')\n",
    "DRC_transactions.dropna(inplace=True)"
   ]
  },
  {
   "cell_type": "markdown",
   "metadata": {},
   "source": [
    "** Nigeria **"
   ]
  },
  {
   "cell_type": "code",
   "execution_count": null,
   "metadata": {},
   "outputs": [],
   "source": [
    "Nigeria_locations = pd.read_csv('/Users/ikersanchez/Vizzuality/PROIEKTUAK/i2i/Data/Contextual_Layers/AidData/NigeriaAIMS_GeocodedResearchRelease_Level1_v1.3.1/data/locations.csv')\n",
    "Nigeria_projects = pd.read_csv('/Users/ikersanchez/Vizzuality/PROIEKTUAK/i2i/Data/Contextual_Layers/AidData/NigeriaAIMS_GeocodedResearchRelease_Level1_v1.3.1/data/projects.csv')\n",
    "Nigeria_transactions = pd.read_csv('/Users/ikersanchez/Vizzuality/PROIEKTUAK/i2i/Data/Contextual_Layers/AidData/NigeriaAIMS_GeocodedResearchRelease_Level1_v1.3.1/data/transactions.csv')"
   ]
  },
  {
   "cell_type": "code",
   "execution_count": null,
   "metadata": {},
   "outputs": [],
   "source": [
    "Nigeria_locations = Nigeria_locations[['project_id', 'latitude', 'longitude', 'gazetteer_adm_name']]\n",
    "Nigeria_projects = Nigeria_projects[['project_id','project_title','donors', 'donors_iso3', 'recipients', 'recipients_iso3','ad_sector_names', 'status', 'transactions_start_year', 'transactions_end_year', 'total_commitments']]\n",
    "Nigeria_transactions = Nigeria_transactions[['project_id','transaction_year', 'transaction_currency', 'transaction_value']]"
   ]
  },
  {
   "cell_type": "code",
   "execution_count": null,
   "metadata": {},
   "outputs": [],
   "source": [
    "Nigeria_transactions = pd.merge(Nigeria_transactions, Nigeria_projects, how='left', on='project_id')\n",
    "Nigeria_transactions = pd.merge(Nigeria_transactions, Nigeria_locations, how='left', on='project_id')\n",
    "Nigeria_transactions.dropna(inplace=True)"
   ]
  },
  {
   "cell_type": "markdown",
   "metadata": {},
   "source": [
    "** Senegal **"
   ]
  },
  {
   "cell_type": "code",
   "execution_count": null,
   "metadata": {},
   "outputs": [],
   "source": [
    "Senegal_locations = pd.read_csv('/Users/ikersanchez/Vizzuality/PROIEKTUAK/i2i/Data/Contextual_Layers/AidData/SenegalAIMS_geocodedresearchrelease_level1_v1.5.1/data/locations.csv')\n",
    "Senegal_projects = pd.read_csv('/Users/ikersanchez/Vizzuality/PROIEKTUAK/i2i/Data/Contextual_Layers/AidData/SenegalAIMS_geocodedresearchrelease_level1_v1.5.1/data/projects.csv')\n",
    "Senegal_transactions = pd.read_csv('/Users/ikersanchez/Vizzuality/PROIEKTUAK/i2i/Data/Contextual_Layers/AidData/SenegalAIMS_geocodedresearchrelease_level1_v1.5.1/data/transactions.csv')"
   ]
  },
  {
   "cell_type": "code",
   "execution_count": null,
   "metadata": {},
   "outputs": [],
   "source": [
    "Senegal_locations = Senegal_locations[['project_id', 'latitude', 'longitude', 'gazetteer_adm_name']]\n",
    "Senegal_projects = Senegal_projects[['project_id','project_title','donors', 'donors_iso3', 'recipients', 'recipients_iso3','ad_sector_names', 'status', 'transactions_start_year', 'transactions_end_year', 'total_commitments']]\n",
    "Senegal_transactions = Senegal_transactions[['project_id','transaction_year', 'transaction_currency', 'transaction_value']]"
   ]
  },
  {
   "cell_type": "code",
   "execution_count": null,
   "metadata": {},
   "outputs": [],
   "source": [
    "Senegal_transactions = pd.merge(Senegal_transactions, Senegal_projects, how='left', on='project_id')\n",
    "Senegal_transactions = pd.merge(Senegal_transactions, Senegal_locations, how='left', on='project_id')\n",
    "Senegal_transactions.dropna(inplace=True)"
   ]
  },
  {
   "cell_type": "markdown",
   "metadata": {},
   "source": [
    "** Sierra Leone **"
   ]
  },
  {
   "cell_type": "code",
   "execution_count": null,
   "metadata": {},
   "outputs": [],
   "source": [
    "SierraLeone_locations = pd.read_csv('/Users/ikersanchez/Vizzuality/PROIEKTUAK/i2i/Data/Contextual_Layers/AidData/SierraLeoneAIMS_geocodedresearchrelease_level1_v1.0.0/data/locations.csv')\n",
    "SierraLeone_projects = pd.read_csv('/Users/ikersanchez/Vizzuality/PROIEKTUAK/i2i/Data/Contextual_Layers/AidData/SierraLeoneAIMS_geocodedresearchrelease_level1_v1.0.0/data/projects.csv')\n",
    "SierraLeone_transactions = pd.read_csv('/Users/ikersanchez/Vizzuality/PROIEKTUAK/i2i/Data/Contextual_Layers/AidData/SierraLeoneAIMS_geocodedresearchrelease_level1_v1.0.0/data/transactions.csv')"
   ]
  },
  {
   "cell_type": "code",
   "execution_count": null,
   "metadata": {},
   "outputs": [],
   "source": [
    "SierraLeone_locations = SierraLeone_locations[['project_id', 'latitude', 'longitude', 'gazetteer_adm_name']]\n",
    "SierraLeone_projects = SierraLeone_projects[['project_id','project_title','donors', 'donors_iso3', 'recipients', 'recipients_iso3','ad_sector_names', 'status', 'transactions_start_year', 'transactions_end_year', 'total_commitments']]\n",
    "SierraLeone_transactions = SierraLeone_transactions[['project_id','transaction_year', 'transaction_currency', 'transaction_value']]"
   ]
  },
  {
   "cell_type": "code",
   "execution_count": null,
   "metadata": {},
   "outputs": [],
   "source": [
    "SierraLeone_transactions = pd.merge(SierraLeone_transactions, SierraLeone_projects, how='left', on='project_id')\n",
    "SierraLeone_transactions = pd.merge(SierraLeone_transactions, SierraLeone_locations, how='left', on='project_id')\n",
    "SierraLeone_transactions.dropna(inplace=True)"
   ]
  },
  {
   "cell_type": "markdown",
   "metadata": {},
   "source": [
    "** Somalia ** "
   ]
  },
  {
   "cell_type": "code",
   "execution_count": null,
   "metadata": {},
   "outputs": [],
   "source": [
    "Somalia_locations = pd.read_csv('/Users/ikersanchez/Vizzuality/PROIEKTUAK/i2i/Data/Contextual_Layers/AidData/SomaliaAIMS_GeocodedResearchRelease_Level1_v1.1.1/data/locations.csv')\n",
    "Somalia_projects = pd.read_csv('/Users/ikersanchez/Vizzuality/PROIEKTUAK/i2i/Data/Contextual_Layers/AidData/SomaliaAIMS_GeocodedResearchRelease_Level1_v1.1.1/data/projects.csv')\n",
    "Somalia_transactions = pd.read_csv('/Users/ikersanchez/Vizzuality/PROIEKTUAK/i2i/Data/Contextual_Layers/AidData/SomaliaAIMS_GeocodedResearchRelease_Level1_v1.1.1/data/transactions.csv')"
   ]
  },
  {
   "cell_type": "code",
   "execution_count": null,
   "metadata": {},
   "outputs": [],
   "source": [
    "Somalia_locations = Somalia_locations[['project_id', 'latitude', 'longitude', 'gazetteer_adm_name']]\n",
    "Somalia_projects = Somalia_projects[['project_id','project_title','donors', 'donors_iso3', 'recipients', 'recipients_iso3','ad_sector_names', 'status', 'transactions_start_year', 'transactions_end_year', 'total_commitments']]\n",
    "Somalia_transactions = Somalia_transactions[['project_id','transaction_year', 'transaction_currency', 'transaction_value']]"
   ]
  },
  {
   "cell_type": "code",
   "execution_count": null,
   "metadata": {},
   "outputs": [],
   "source": [
    "Somalia_transactions = pd.merge(Somalia_transactions, Somalia_projects, how='left', on='project_id')\n",
    "Somalia_transactions = pd.merge(Somalia_transactions, Somalia_locations, how='left', on='project_id')\n",
    "Somalia_transactions.dropna(inplace=True)"
   ]
  },
  {
   "cell_type": "markdown",
   "metadata": {},
   "source": [
    "** Uganda **"
   ]
  },
  {
   "cell_type": "code",
   "execution_count": null,
   "metadata": {},
   "outputs": [],
   "source": [
    "Uganda_locations = pd.read_csv('/Users/ikersanchez/Vizzuality/PROIEKTUAK/i2i/Data/Contextual_Layers/AidData/UgandaAIMS_GeocodedResearchRelease_Level1_v1.4.1/data/locations.csv')\n",
    "Uganda_projects = pd.read_csv('/Users/ikersanchez/Vizzuality/PROIEKTUAK/i2i/Data/Contextual_Layers/AidData/UgandaAIMS_GeocodedResearchRelease_Level1_v1.4.1/data/projects.csv')\n",
    "Uganda_transactions = pd.read_csv('/Users/ikersanchez/Vizzuality/PROIEKTUAK/i2i/Data/Contextual_Layers/AidData/UgandaAIMS_GeocodedResearchRelease_Level1_v1.4.1/data/transactions.csv')"
   ]
  },
  {
   "cell_type": "code",
   "execution_count": null,
   "metadata": {},
   "outputs": [],
   "source": [
    "Uganda_locations = Uganda_locations[['project_id', 'latitude', 'longitude', 'gazetteer_adm_name']]\n",
    "Uganda_projects = Uganda_projects[['project_id','project_title','donors', 'donors_iso3', 'recipients', 'recipients_iso3','ad_sector_names', 'status', 'transactions_start_year', 'transactions_end_year', 'total_commitments']]\n",
    "Uganda_transactions = Uganda_transactions[['project_id','transaction_year', 'transaction_currency', 'transaction_value']]"
   ]
  },
  {
   "cell_type": "code",
   "execution_count": null,
   "metadata": {},
   "outputs": [],
   "source": [
    "Uganda_transactions = pd.merge(Uganda_transactions, Uganda_projects, how='left', on='project_id')\n",
    "Uganda_transactions = pd.merge(Uganda_transactions, Uganda_locations, how='left', on='project_id')\n",
    "Uganda_transactions.dropna(inplace=True)"
   ]
  },
  {
   "cell_type": "markdown",
   "metadata": {},
   "source": [
    "** Final table **"
   ]
  },
  {
   "cell_type": "code",
   "execution_count": null,
   "metadata": {},
   "outputs": [],
   "source": [
    "AidData_transactions = pd.concat([DRC_transactions,Nigeria_transactions,Senegal_transactions,\n",
    "                                 SierraLeone_transactions,Somalia_transactions,Uganda_transactions])"
   ]
  },
  {
   "cell_type": "code",
   "execution_count": null,
   "metadata": {},
   "outputs": [],
   "source": [
    "AidData_transactions['lat'] = AidData_transactions['latitude'].apply(lambda x: float('{:10.4f}'.format(x)))\n",
    "AidData_transactions['lng'] = AidData_transactions['longitude'].apply(lambda x: float('{:10.4f}'.format(x)))"
   ]
  },
  {
   "cell_type": "code",
   "execution_count": null,
   "metadata": {},
   "outputs": [],
   "source": [
    "AidData_transactions.drop(columns = ['latitude','longitude'], inplace=True)"
   ]
  },
  {
   "cell_type": "code",
   "execution_count": null,
   "metadata": {},
   "outputs": [],
   "source": [
    "AidData_transactions.head()"
   ]
  },
  {
   "cell_type": "markdown",
   "metadata": {},
   "source": [
    "Boundaries"
   ]
  },
  {
   "cell_type": "code",
   "execution_count": null,
   "metadata": {},
   "outputs": [],
   "source": [
    "countries = gpd.read_file('/Users/ikersanchez/Vizzuality/DATA/all_countries/all_countries.shp')\n",
    "# COD border\n",
    "border_mask = countries['iso_a3'] == 'COD'\n",
    "COD_border = countries[border_mask]\n",
    "# NGA border\n",
    "border_mask = countries['iso_a3'] == 'NGA'\n",
    "NGA_border = countries[border_mask]\n",
    "# SEN border\n",
    "border_mask = countries['iso_a3'] == 'SEN'\n",
    "SEN_border = countries[border_mask]\n",
    "# SLE border\n",
    "border_mask = countries['iso_a3'] == 'SLE'\n",
    "SLE_border = countries[border_mask]\n",
    "# SOM border\n",
    "border_mask = countries['iso_a3'] == 'SOM'\n",
    "SOM_border = countries[border_mask]\n",
    "# UGA border\n",
    "border_mask = countries['iso_a3'] == 'UGA'\n",
    "UGA_border = countries[border_mask]\n",
    "# All\n",
    "borders = pd.concat([COD_border,NGA_border,SEN_border,SLE_border,SOM_border,UGA_border])"
   ]
  },
  {
   "cell_type": "code",
   "execution_count": null,
   "metadata": {},
   "outputs": [],
   "source": [
    "fig, ax = plt.subplots(figsize=[12,12])\n",
    "ax.set_aspect('equal')\n",
    "\n",
    "borders.plot(ax=ax, color='white', edgecolor='black')\n",
    "AidData_transactions.plot(ax=ax, x='lng', y='lat', kind='scatter', s=8)"
   ]
  },
  {
   "cell_type": "markdown",
   "metadata": {},
   "source": [
    "Remove the points outside the countries"
   ]
  },
  {
   "cell_type": "code",
   "execution_count": null,
   "metadata": {},
   "outputs": [],
   "source": [
    "points = []\n",
    "for i in range(len(AidData_transactions)):\n",
    "    x = AidData_transactions['lng'].iloc[i]\n",
    "    y = AidData_transactions['lat'].iloc[i]\n",
    "    points.append(Point(x,y))\n",
    "AidData_transactions['geometry'] = points"
   ]
  },
  {
   "cell_type": "code",
   "execution_count": null,
   "metadata": {},
   "outputs": [],
   "source": [
    "# Coordinate reference system : WGS84\n",
    "AidData_transactions.crs  = {'init': 'epsg:4326'}"
   ]
  },
  {
   "cell_type": "code",
   "execution_count": null,
   "metadata": {},
   "outputs": [],
   "source": [
    "# Remove points outside countries\n",
    "AidData_transactions = gpd.sjoin(AidData_transactions, borders, how='inner', op='intersects')"
   ]
  },
  {
   "cell_type": "code",
   "execution_count": null,
   "metadata": {},
   "outputs": [],
   "source": [
    "fig, ax = plt.subplots(figsize=[12,12])\n",
    "ax.set_aspect('equal')\n",
    "\n",
    "borders.plot(ax=ax, color='white', edgecolor='black')\n",
    "AidData_transactions.plot(ax=ax, x='lng', y='lat', kind='scatter', s=8)"
   ]
  },
  {
   "cell_type": "code",
   "execution_count": null,
   "metadata": {},
   "outputs": [],
   "source": [
    "# Save table\n",
    "AidData_transactions.to_csv('/Users/ikersanchez/Vizzuality/PROIEKTUAK/i2i/Data/cartodb/AidData_transactions.csv')"
   ]
  },
  {
   "cell_type": "markdown",
   "metadata": {},
   "source": [
    "*** "
   ]
  },
  {
   "cell_type": "markdown",
   "metadata": {},
   "source": [
    "# HumanDataExchange"
   ]
  },
  {
   "cell_type": "markdown",
   "metadata": {},
   "source": [
    "** KENYA,\n",
    "NIGERIA,\n",
    "TANZANIA,\n",
    "UGANDA **"
   ]
  },
  {
   "cell_type": "markdown",
   "metadata": {},
   "source": [
    "## Africa"
   ]
  },
  {
   "cell_type": "markdown",
   "metadata": {},
   "source": [
    "### Electrical Grid"
   ]
  },
  {
   "cell_type": "code",
   "execution_count": null,
   "metadata": {},
   "outputs": [],
   "source": [
    "africa_grid = gpd.read_file('/Users/ikersanchez/Vizzuality/PROIEKTUAK/i2i/Data/Contextual_Layers/HumanDataExchange/Africa/Electrical Grid/africagrid20170504/africa_grid_20170906final.shp')"
   ]
  },
  {
   "cell_type": "code",
   "execution_count": null,
   "metadata": {},
   "outputs": [],
   "source": [
    "africa_grid.head()"
   ]
  },
  {
   "cell_type": "code",
   "execution_count": null,
   "metadata": {},
   "outputs": [],
   "source": [
    "africa_grid.plot()"
   ]
  },
  {
   "cell_type": "markdown",
   "metadata": {},
   "source": [
    "** Uganda **"
   ]
  },
  {
   "cell_type": "code",
   "execution_count": null,
   "metadata": {},
   "outputs": [],
   "source": [
    "uganda_grid = africa_grid[africa_grid['country'] == 'Uganda']\n",
    "# UGA boundary\n",
    "border_mask = countries['iso_a3'] == 'UGA'\n",
    "uganda_boundary = countries[border_mask]"
   ]
  },
  {
   "cell_type": "code",
   "execution_count": null,
   "metadata": {},
   "outputs": [],
   "source": [
    "# Coordinate reference system : WGS84\n",
    "uganda_grid.crs  = {'init': 'epsg:4326'}\n",
    "uganda_boundary.crs  = {'init': 'epsg:4326'}"
   ]
  },
  {
   "cell_type": "code",
   "execution_count": null,
   "metadata": {},
   "outputs": [],
   "source": [
    "fig, ax = plt.subplots(figsize=[8,8])\n",
    "ax.set_aspect('equal')\n",
    "\n",
    "uganda_boundary.plot(ax=ax, color='white', edgecolor='black')\n",
    "uganda_grid.plot(ax=ax, color='r')"
   ]
  },
  {
   "cell_type": "markdown",
   "metadata": {},
   "source": [
    "** Final table **"
   ]
  },
  {
   "cell_type": "code",
   "execution_count": null,
   "metadata": {},
   "outputs": [],
   "source": [
    "# Drop columns\n",
    "africa_grid.drop(columns=['from','to'], inplace=True)"
   ]
  },
  {
   "cell_type": "code",
   "execution_count": null,
   "metadata": {},
   "outputs": [],
   "source": [
    "# Add year\n",
    "africa_grid['year'] = '2017'"
   ]
  },
  {
   "cell_type": "code",
   "execution_count": null,
   "metadata": {},
   "outputs": [],
   "source": [
    "# Add iso\n",
    "africa_grid = pd.merge(africa_grid, countries, how='left', on='country')\n",
    "africa_grid['iso'] = africa_grid['iso3']\n",
    "africa_grid.drop(columns='iso3', inplace=True)"
   ]
  },
  {
   "cell_type": "code",
   "execution_count": null,
   "metadata": {},
   "outputs": [],
   "source": [
    "# Reorder columns\n",
    "africa_grid = africa_grid[['status','source','operator','voltage_kV','length_km','iso','country','year','geometry']]"
   ]
  },
  {
   "cell_type": "code",
   "execution_count": null,
   "metadata": {},
   "outputs": [],
   "source": [
    "africa_grid.head()"
   ]
  },
  {
   "cell_type": "code",
   "execution_count": null,
   "metadata": {},
   "outputs": [],
   "source": [
    "# Save table\n",
    "africa_grid.to_csv('/Users/ikersanchez/Vizzuality/PROIEKTUAK/i2i/Data/cartodb/electrical_grid.csv')"
   ]
  },
  {
   "cell_type": "markdown",
   "metadata": {},
   "source": [
    "***"
   ]
  },
  {
   "cell_type": "markdown",
   "metadata": {},
   "source": [
    "# Mobile Coverage"
   ]
  },
  {
   "cell_type": "markdown",
   "metadata": {},
   "source": [
    "** INDIA,\n",
    "BANGLADESH,\n",
    "KENYA,\n",
    "NIGERIA,\n",
    "TANZANIA,\n",
    "UGANDA **"
   ]
  },
  {
   "cell_type": "markdown",
   "metadata": {},
   "source": [
    "Mobile Coverage Explorer is a representation of areas covered by mobile networks around the world. It is supplied as polygon data which has been created from submissions made directly to Collins Bartholomew or the GSMA from network operators who provide roaming detail for inclusion in the GSMA’s Roaming and Coverage Maps web application.\n",
    "\n",
    "The coverage data is supplied as three separate files:\n",
    "\n",
    "- Global_GSM_<date> which is a representation of the GSM (2G) network submitted by operators. \n",
    "- Global_3G_<date> which is a representation of the 3G network submitted by operators. \n",
    "- Global_4G_<date> which is a representation of the 4G network submitted by operators."
   ]
  },
  {
   "cell_type": "markdown",
   "metadata": {},
   "source": [
    "### Read country maps"
   ]
  },
  {
   "cell_type": "code",
   "execution_count": null,
   "metadata": {},
   "outputs": [],
   "source": [
    "# India\n",
    "indMap = gpd.read_file('/Users/ikersanchez/Vizzuality/PROIEKTUAK/i2i/Data/gadm36_shp/gadm36_IND.shp')\n",
    "# Get Uttar Pradesh and Bihar states\n",
    "indMapStates = indMap[(indMap['NAME_1'] == 'Uttar Pradesh') | (indMap['NAME_1'] == 'Bihar')]\n",
    "\n",
    "# Kenya\n",
    "kenMap = gpd.read_file('/Users/ikersanchez/Vizzuality/PROIEKTUAK/i2i/Data/gadm36_shp/gadm36_KEN.shp')\n",
    "\n",
    "# Uganda\n",
    "ugaMap = gpd.read_file('/Users/ikersanchez/Vizzuality/PROIEKTUAK/i2i/Data/gadm36_shp/gadm36_UGA.shp')\n",
    "\n",
    "# Bangladesh\n",
    "bgdMap = gpd.read_file('/Users/ikersanchez/Vizzuality/PROIEKTUAK/i2i/Data/gadm36_shp/gadm36_BGD.shp')\n",
    "\n",
    "# Nigeria\n",
    "ngaMap = gpd.read_file('/Users/ikersanchez/Vizzuality/PROIEKTUAK/i2i/Data/gadm36_shp/gadm36_NGA.shp')\n",
    "\n",
    "# Tanzania\n",
    "tzaMap = gpd.read_file('/Users/ikersanchez/Vizzuality/PROIEKTUAK/i2i/Data/gadm36_shp/gadm36_TZA.shp')"
   ]
  },
  {
   "cell_type": "code",
   "execution_count": null,
   "metadata": {},
   "outputs": [],
   "source": [
    "# Get the boundary of each country\n",
    "indBoundary = gpd.GeoSeries(cascaded_union(indMapStates['geometry']))\n",
    "indBoundary = gpd.GeoDataFrame(indBoundary).rename(columns={0: 'geometry'})\n",
    "indBoundary['country'] = 'India'\n",
    "indBoundary['iso'] = 'IND'\n",
    "\n",
    "kenBoundary = gpd.GeoSeries(cascaded_union(kenMap['geometry']))\n",
    "kenBoundary = gpd.GeoDataFrame(kenBoundary).rename(columns={0: 'geometry'})\n",
    "kenBoundary['country'] = 'Kenya'\n",
    "kenBoundary['iso'] = 'KEN'\n",
    "\n",
    "ugaBoundary = gpd.GeoSeries(cascaded_union(ugaMap['geometry']))\n",
    "ugaBoundary = gpd.GeoDataFrame(ugaBoundary).rename(columns={0: 'geometry'})\n",
    "ugaBoundary['country'] = 'Uganda'\n",
    "ugaBoundary['iso'] = 'UGA'\n",
    "\n",
    "bgdBoundary = gpd.GeoSeries(cascaded_union(bgdMap['geometry']))\n",
    "bgdBoundary = gpd.GeoDataFrame(bgdBoundary).rename(columns={0: 'geometry'})\n",
    "bgdBoundary['country'] = 'Bangladesh'\n",
    "bgdBoundary['iso'] = 'BGD'\n",
    "\n",
    "ngaBoundary = gpd.GeoSeries(cascaded_union(ngaMap['geometry']))\n",
    "ngaBoundary = gpd.GeoDataFrame(ngaBoundary).rename(columns={0: 'geometry'})\n",
    "ngaBoundary['country'] = 'Nigeria'\n",
    "ngaBoundary['iso'] = 'NGA'\n",
    "\n",
    "tzaBoundary = gpd.GeoSeries(cascaded_union(tzaMap['geometry']))\n",
    "tzaBoundary = gpd.GeoDataFrame(tzaBoundary).rename(columns={0: 'geometry'})\n",
    "tzaBoundary['country'] = 'Tanzania'\n",
    "tzaBoundary['iso'] = 'TZA'\n",
    "\n",
    "boundaries = gpd.GeoDataFrame(pd.concat([indBoundary,kenBoundary,ugaBoundary,bgdBoundary,ngaBoundary,tzaBoundary]))"
   ]
  },
  {
   "cell_type": "code",
   "execution_count": null,
   "metadata": {},
   "outputs": [],
   "source": [
    "boundaries.head()"
   ]
  },
  {
   "cell_type": "markdown",
   "metadata": {},
   "source": [
    "### Global GSM"
   ]
  },
  {
   "cell_type": "code",
   "execution_count": null,
   "metadata": {},
   "outputs": [],
   "source": []
  },
  {
   "cell_type": "markdown",
   "metadata": {},
   "source": [
    "### Global 3G"
   ]
  },
  {
   "cell_type": "code",
   "execution_count": null,
   "metadata": {},
   "outputs": [],
   "source": [
    "global_3d = gpd.read_file('/Users/ikersanchez/Vizzuality/PROIEKTUAK/i2i/Data/Contextual_Layers/Mobile Coverage Explorer WGS84 v201712 - ESRI SHAPE/ReducedData/Global_3G_201712/Global_3G_201712.shp')"
   ]
  },
  {
   "cell_type": "code",
   "execution_count": null,
   "metadata": {},
   "outputs": [],
   "source": [
    "# GROP COLUMN\n",
    "global_3d.drop(columns='FID', inplace=True)"
   ]
  },
  {
   "cell_type": "code",
   "execution_count": null,
   "metadata": {},
   "outputs": [],
   "source": [
    "# Add year\n",
    "global_3d['year'] = '2017'"
   ]
  },
  {
   "cell_type": "code",
   "execution_count": null,
   "metadata": {},
   "outputs": [],
   "source": [
    "global_3d.head()"
   ]
  },
  {
   "cell_type": "code",
   "execution_count": null,
   "metadata": {},
   "outputs": [],
   "source": [
    "global_3d.crs"
   ]
  },
  {
   "cell_type": "code",
   "execution_count": null,
   "metadata": {},
   "outputs": [],
   "source": [
    "fig, ax = plt.subplots(figsize=[12,12])\n",
    "ax.set_aspect('equal')\n",
    "\n",
    "boundaries.plot(ax=ax, color='white', edgecolor='black')\n",
    "global_3d.plot(ax=ax)"
   ]
  },
  {
   "cell_type": "code",
   "execution_count": null,
   "metadata": {},
   "outputs": [],
   "source": [
    "global_3d=gpd.overlay(gpd.GeoDataFrame(global_3d), boundaries, how='intersection')"
   ]
  },
  {
   "cell_type": "code",
   "execution_count": null,
   "metadata": {},
   "outputs": [],
   "source": []
  },
  {
   "cell_type": "code",
   "execution_count": null,
   "metadata": {},
   "outputs": [],
   "source": [
    "# Save table\n",
    "global_3d.to_csv('/Users/ikersanchez/Vizzuality/PROIEKTUAK/i2i/Data/cartodb/mobile_coverage_global_3d.csv')"
   ]
  },
  {
   "cell_type": "markdown",
   "metadata": {},
   "source": [
    "### Global 4G"
   ]
  },
  {
   "cell_type": "code",
   "execution_count": null,
   "metadata": {},
   "outputs": [],
   "source": [
    "global_4d = gpd.read_file('/Users/ikersanchez/Vizzuality/PROIEKTUAK/i2i/Data/Contextual_Layers/Mobile Coverage Explorer WGS84 v201712 - ESRI SHAPE/ReducedData/Global_4G_201712/Global_4G_201712.shp')"
   ]
  },
  {
   "cell_type": "code",
   "execution_count": null,
   "metadata": {},
   "outputs": [],
   "source": [
    "# GROP COLUMN\n",
    "global_4d.drop(columns='FID', inplace=True)"
   ]
  },
  {
   "cell_type": "code",
   "execution_count": null,
   "metadata": {},
   "outputs": [],
   "source": [
    "# Add year\n",
    "global_4d['year'] = '2017'"
   ]
  },
  {
   "cell_type": "code",
   "execution_count": null,
   "metadata": {},
   "outputs": [],
   "source": [
    "global_4d.head()"
   ]
  },
  {
   "cell_type": "code",
   "execution_count": null,
   "metadata": {},
   "outputs": [],
   "source": [
    "global_4d.crs"
   ]
  },
  {
   "cell_type": "code",
   "execution_count": null,
   "metadata": {},
   "outputs": [],
   "source": [
    "global_4d.plot()"
   ]
  },
  {
   "cell_type": "code",
   "execution_count": null,
   "metadata": {},
   "outputs": [],
   "source": [
    "# Save table\n",
    "global_4d.to_csv('/Users/ikersanchez/Vizzuality/PROIEKTUAK/i2i/Data/cartodb/mobile_coverage_global_4d.csv')"
   ]
  },
  {
   "cell_type": "markdown",
   "metadata": {},
   "source": [
    "***"
   ]
  },
  {
   "cell_type": "markdown",
   "metadata": {},
   "source": [
    "# Urban Areas"
   ]
  },
  {
   "cell_type": "markdown",
   "metadata": {},
   "source": [
    "** INDIA,\n",
    "BANGLADESH,\n",
    "KENYA,\n",
    "NIGERIA,\n",
    "TANZANIA,\n",
    "UGANDA **"
   ]
  },
  {
   "cell_type": "code",
   "execution_count": null,
   "metadata": {},
   "outputs": [],
   "source": [
    "urban = gpd.read_file('/Users/ikersanchez/Vizzuality/PROIEKTUAK/i2i/Data/Contextual_Layers/ne_10m_urban_areas/ne_10m_urban_areas.shp')"
   ]
  },
  {
   "cell_type": "code",
   "execution_count": null,
   "metadata": {},
   "outputs": [],
   "source": [
    "urban.head()"
   ]
  },
  {
   "cell_type": "code",
   "execution_count": null,
   "metadata": {},
   "outputs": [],
   "source": [
    "urban.plot()"
   ]
  },
  {
   "cell_type": "code",
   "execution_count": null,
   "metadata": {},
   "outputs": [],
   "source": [
    "urban.crs"
   ]
  },
  {
   "cell_type": "markdown",
   "metadata": {},
   "source": [
    "** Final table **"
   ]
  },
  {
   "cell_type": "code",
   "execution_count": null,
   "metadata": {},
   "outputs": [],
   "source": [
    "# Drop columns\n",
    "urban.drop(columns=['featurecla','scalerank','min_zoom'], inplace=True)"
   ]
  },
  {
   "cell_type": "code",
   "execution_count": null,
   "metadata": {},
   "outputs": [],
   "source": [
    "# Add year\n",
    "urban['year'] = '2003'"
   ]
  },
  {
   "cell_type": "code",
   "execution_count": null,
   "metadata": {},
   "outputs": [],
   "source": [
    "# Reorder columns\n",
    "urban = urban[['area_sqkm','year','geometry']]"
   ]
  },
  {
   "cell_type": "code",
   "execution_count": null,
   "metadata": {},
   "outputs": [],
   "source": [
    "urban.head()"
   ]
  },
  {
   "cell_type": "code",
   "execution_count": null,
   "metadata": {},
   "outputs": [],
   "source": [
    "# Save table\n",
    "urban.to_csv('/Users/ikersanchez/Vizzuality/PROIEKTUAK/i2i/Data/cartodb/urban_areas.csv')"
   ]
  },
  {
   "cell_type": "markdown",
   "metadata": {},
   "source": [
    "***"
   ]
  },
  {
   "cell_type": "markdown",
   "metadata": {},
   "source": [
    "# Resource Watch"
   ]
  },
  {
   "cell_type": "markdown",
   "metadata": {},
   "source": [
    "### Global raster"
   ]
  },
  {
   "cell_type": "markdown",
   "metadata": {},
   "source": [
    "** [Accessibility to Cities](https://resourcewatch.org/data/explore/cit01701-Travel-Time-to-Major-Cities) ** "
   ]
  },
  {
   "cell_type": "markdown",
   "metadata": {},
   "source": [
    "[layer_id](http://api.resourcewatch.org/v1/dataset/ccbcaf7b-1619-4298-8275-b135d1e8e04e/layer): d787d894-f7af-47c4-af0f-0849b06686ee"
   ]
  },
  {
   "cell_type": "markdown",
   "metadata": {},
   "source": [
    "** [Population (Grid, 1 km)](https://resourcewatch.org/data/explore/soc_031-Gridded-Population) ** "
   ]
  },
  {
   "cell_type": "markdown",
   "metadata": {},
   "source": [
    "[layer_id](http://api.resourcewatch.org/v1/dataset/595bcf6f-0343-4146-ba0d-c54b1c928510/layer): 478468be-c79f-4472-b910-594f5bb67cf1"
   ]
  },
  {
   "cell_type": "markdown",
   "metadata": {},
   "source": [
    "** [Urban Built-Up Area](https://resourcewatch.org/data/explore/Cit014-Built-Up-Grid) **"
   ]
  },
  {
   "cell_type": "markdown",
   "metadata": {},
   "source": [
    "[layer_id](http://api.resourcewatch.org/v1/dataset/f6bb99af-541a-4d41-9e47-cc36cb479d4b/layer): b1223c4f-7132-42d3-a1cd-90e823adaa5f"
   ]
  },
  {
   "cell_type": "markdown",
   "metadata": {},
   "source": [
    "** [Agricultural Exposure to Water Stress](https://resourcewatch.org/data/explore/wat033-Agriculture-Water-Demand-and-Depletion) **"
   ]
  },
  {
   "cell_type": "markdown",
   "metadata": {},
   "source": [
    "[layer_id](http://api.resourcewatch.org/v1/dataset/05c330d7-49cf-42d6-bada-e255b8c8e115): 05c330d7-49cf-42d6-bada-e255b8c8e115"
   ]
  },
  {
   "cell_type": "markdown",
   "metadata": {},
   "source": [
    "** [Erosion Risk](https://resourcewatch.org/data/explore/wat015-Erosion-Risk) ** "
   ]
  },
  {
   "cell_type": "markdown",
   "metadata": {},
   "source": [
    "[layer_id](http://api.resourcewatch.org/v1/dataset/e6e83d98-aa1f-495f-916c-b33d0657e0fe/layer): 829f01de-d659-4c6f-bdad-74c79f6451ca"
   ]
  },
  {
   "cell_type": "markdown",
   "metadata": {},
   "source": [
    "** [Annual Precipitation](https://resourcewatch.org/data/explore/wat034-Annual-Precipitation) **"
   ]
  },
  {
   "cell_type": "markdown",
   "metadata": {},
   "source": [
    "[layer_id](http://api.resourcewatch.org/v1/dataset/12510410-1eb3-4af0-844f-8a05be50b1c1/layer): 47835c64-6934-439f-8750-9e3f23debf5c"
   ]
  },
  {
   "cell_type": "markdown",
   "metadata": {},
   "source": [
    "** [Aridity](https://resourcewatch.org/data/explore/cli030-Land-Aridity) ** "
   ]
  },
  {
   "cell_type": "markdown",
   "metadata": {},
   "source": [
    "[layer_id](http://api.resourcewatch.org/v1/dataset/99075509-df36-461e-abb0-659cee555bd0/layer): ca3293ef-63f5-462b-ac28-41e82aac21bf\""
   ]
  },
  {
   "cell_type": "markdown",
   "metadata": {},
   "source": [
    "### Global vector"
   ]
  },
  {
   "cell_type": "markdown",
   "metadata": {},
   "source": [
    "** [Roads](https://resourcewatch.org/data/explore/cit016-Road-Network) **"
   ]
  },
  {
   "cell_type": "markdown",
   "metadata": {},
   "source": [
    "[layer_id](http://api.resourcewatch.org/v1/dataset/943f3702-421f-47a4-9b99-e2d5a9f544a7/layer): 72bd4541-89d4-467d-905d-dc745511e2cc"
   ]
  },
  {
   "cell_type": "markdown",
   "metadata": {},
   "source": [
    "** [Roadless Areas](https://resourcewatch.org/data/explore/Global-Roadless-Areas) ** "
   ]
  },
  {
   "cell_type": "markdown",
   "metadata": {},
   "source": [
    "[layer_id](http://api.resourcewatch.org/v1/dataset/a07f1bed-ca16-4fbf-b14b-d3a0344cab74/layer): a07f1bed-ca16-4fbf-b14b-d3a0344cab74"
   ]
  },
  {
   "cell_type": "markdown",
   "metadata": {},
   "source": [
    "** [Current Water Risk](https://resourcewatch.org/data/explore/wat001-Baseline-Water-Stress) ** "
   ]
  },
  {
   "cell_type": "markdown",
   "metadata": {},
   "source": [
    "[layer_id](http://api.resourcewatch.org/v1/dataset/d7c3d954-ac86-4d1a-bb6a-c8c432a94e26/layer): 2db606de-49d9-49d4-a6ef-6f45b6d0cf04 "
   ]
  },
  {
   "cell_type": "markdown",
   "metadata": {},
   "source": [
    "** [Reservoirs and Dams](https://resourcewatch.org/data/explore/Global-Reservoir-and-Dam-GRanD) ** "
   ]
  },
  {
   "cell_type": "markdown",
   "metadata": {},
   "source": [
    "Dam Locations [layer_id](http://api.resourcewatch.org/v1/dataset/e63bb157-4b98-4ecb-81d6-c1b15e79895a/layer): 212a1516-c7d5-44aa-a18a-ab8bc99929e7\n",
    "\n",
    "Reservoir Locations [layer_id](http://api.resourcewatch.org/v1/dataset/e63bb157-4b98-4ecb-81d6-c1b15e79895a/layer): 6528a5e5-c4cc-49b1-a603-b9ee90b644f7"
   ]
  },
  {
   "cell_type": "markdown",
   "metadata": {},
   "source": [
    "### Country contextual information"
   ]
  },
  {
   "cell_type": "markdown",
   "metadata": {},
   "source": [
    "** [Access to Electricity](https://resourcewatch.org/data/explore/ene012-Access-to-Electricity) ** "
   ]
  },
  {
   "cell_type": "markdown",
   "metadata": {},
   "source": [
    "National Access to Electricity [layer_id](http://api.resourcewatch.org/v1/dataset/d446a52e-c4c1-4e74-ae30-3204620a0365/layer): 3369edc2-4537-44eb-979e-fb9b573d1493\n",
    "\n",
    "Rural Access to Electricity [layer_id](http://api.resourcewatch.org/v1/dataset/d446a52e-c4c1-4e74-ae30-3204620a0365/layer): d4404f80-c2d3-479d-b19c-749a8f6e2696\n",
    "\n",
    "Urban Access to Electricity [layer_id](http://api.resourcewatch.org/v1/dataset/d446a52e-c4c1-4e74-ae30-3204620a0365/layer): a0e3f05d-3b0a-44d1-8114-7e9e9e2b65f9"
   ]
  },
  {
   "cell_type": "markdown",
   "metadata": {},
   "source": [
    "** [Adult Literacy Rate](https://resourcewatch.org/data/explore/Adult-Literacy-Rate) ** "
   ]
  },
  {
   "cell_type": "markdown",
   "metadata": {},
   "source": [
    "[layer_id](http://api.resourcewatch.org/v1/dataset/e8f53f73-d77c-485a-a2a6-1c47ea4aead9/layer): c43b7d21-1e0a-4257-8618-b5a356e06530"
   ]
  },
  {
   "cell_type": "markdown",
   "metadata": {},
   "source": [
    "** [Child Malnutrition](https://resourcewatch.org/data/explore/Child-Malnutrition) ** "
   ]
  },
  {
   "cell_type": "markdown",
   "metadata": {},
   "source": [
    "Children Under 5 Severely Wasting (%): ce22f648-c965-4458-a801-2c58a4f69fac\n",
    "\n",
    "Children Under 5 Stunting (%): bea1db0e-b99d-454b-bddd-c7cabd2e6b27\n",
    "\n",
    "Children Under 5 Underweight (%): 55721450-ce51-4f60-b7c8-416d74a1ad6c\n",
    "\n",
    "Children Under 5 Wasting (%): 29edd41b-8f0b-43b5-a0fe-17cd68f8832d\n",
    "\n",
    "Children Under 5 Overweight (%): 65b778e8-6050-49ad-b9d1-dc4cb7c1ae59\n",
    "\n",
    "[layer_id](http://api.resourcewatch.org/v1/dataset/8bc79a36-d77e-4ee3-b9bc-c77146cfc503/layer)"
   ]
  },
  {
   "cell_type": "markdown",
   "metadata": {},
   "source": [
    "** [Current Account Balance](https://resourcewatch.org/data/explore/Current-Account-Balance-BoP-Current-USdollar) ** "
   ]
  },
  {
   "cell_type": "markdown",
   "metadata": {},
   "source": [
    "[layer_id](http://api.resourcewatch.org/v1/dataset/2e31a1f3-576b-46b4-84f0-3f0cc399f887/layer): e94efe26-7801-409f-9d24-90c2a652cf83"
   ]
  },
  {
   "cell_type": "markdown",
   "metadata": {},
   "source": [
    "** [Gender Development Index](https://resourcewatch.org/data/explore/Gender-Development-Index) ** "
   ]
  },
  {
   "cell_type": "markdown",
   "metadata": {},
   "source": [
    "[layer_id](http://api.resourcewatch.org/v1/dataset/d4ca3cc4-c162-469c-b341-b52284a73eaa/layer): 3ff24d05-7a38-49d3-a14a-cec86a29578d"
   ]
  },
  {
   "cell_type": "markdown",
   "metadata": {},
   "source": [
    "** [Gender Inequality Index](https://resourcewatch.org/data/explore/soc025-Gender-Inequality-Index) ** "
   ]
  },
  {
   "cell_type": "markdown",
   "metadata": {},
   "source": [
    "[layer_id](http://api.resourcewatch.org/v1/dataset/11278cb6-b298-49a1-bf71-f1e269f40758/layer): 9d3ef845-93a1-47a0-b26a-c124b8a6ff2b"
   ]
  },
  {
   "cell_type": "markdown",
   "metadata": {},
   "source": [
    "** [Gross Domestic Product](https://resourcewatch.org/data/explore/Gross-Domestic-Product) ** "
   ]
  },
  {
   "cell_type": "markdown",
   "metadata": {},
   "source": [
    "[layer_id](http://api.resourcewatch.org/v1/dataset/52c55378-0484-48c3-92fc-3ee94d21c716/layer): f98f8874-3d5d-4818-a75c-29a8d1b57cb3"
   ]
  },
  {
   "cell_type": "markdown",
   "metadata": {},
   "source": [
    "** [Regulatory Restrictiveness Index](https://resourcewatch.org/data/explore/Regulatory-Restrictiveness-Index) ** "
   ]
  },
  {
   "cell_type": "markdown",
   "metadata": {},
   "source": [
    "[layer_id](http://api.resourcewatch.org/v1/dataset/fe311144-8c0e-4440-b068-6efd057e0f6a/layer): 998035d6-2d5f-4876-ba6c-e7443db3afa8"
   ]
  },
  {
   "cell_type": "markdown",
   "metadata": {},
   "source": [
    "** [Urban Population Living in Slums](https://resourcewatch.org/data/explore/Percent-of-Urban-Population-living-in-Slums) ** "
   ]
  },
  {
   "cell_type": "markdown",
   "metadata": {},
   "source": [
    "[layer_id](http://api.resourcewatch.org/v1/dataset/35ce2b98-adbb-4873-b334-d7b1cc542de7/layer): ad704eea-4ef5-455c-b7ae-ad5bab572e0c"
   ]
  },
  {
   "cell_type": "markdown",
   "metadata": {},
   "source": [
    "** [Vulnerability to Climate Change Index](https://resourcewatch.org/data/explore/Vulnerability-to-Climate-Change-Index) ** "
   ]
  },
  {
   "cell_type": "markdown",
   "metadata": {},
   "source": [
    "[layer_id](http://api.resourcewatch.org/v1/dataset/fa6443ff-eb95-4d0f-84d2-f0c91682efdf/layer): 07b6e469-d1c4-4ab8-a8a7-cf37f344ae4c"
   ]
  }
 ],
 "metadata": {
  "kernelspec": {
   "display_name": "Python 3",
   "language": "python",
   "name": "python3"
  },
  "language_info": {
   "codemirror_mode": {
    "name": "ipython",
    "version": 3
   },
   "file_extension": ".py",
   "mimetype": "text/x-python",
   "name": "python",
   "nbconvert_exporter": "python",
   "pygments_lexer": "ipython3",
   "version": "3.6.4"
  }
 },
 "nbformat": 4,
 "nbformat_minor": 2
}
