{
 "cells": [
  {
   "cell_type": "markdown",
   "metadata": {},
   "source": [
    "# Create a single table from all tables"
   ]
  },
  {
   "cell_type": "code",
   "execution_count": 2,
   "metadata": {},
   "outputs": [],
   "source": [
    "import pandas as pd\n",
    "import numpy as np\n",
    "import seaborn as sns\n",
    "sns.set()"
   ]
  },
  {
   "cell_type": "markdown",
   "metadata": {},
   "source": [
    "***\n",
    "### FSP maps table"
   ]
  },
  {
   "cell_type": "code",
   "execution_count": 3,
   "metadata": {},
   "outputs": [],
   "source": [
    "iso = ['BGD','IND','KEN','LSO','NGA','TZA','UGA']"
   ]
  },
  {
   "cell_type": "code",
   "execution_count": 12,
   "metadata": {},
   "outputs": [
    {
     "name": "stderr",
     "output_type": "stream",
     "text": [
      "/anaconda3/lib/python3.6/site-packages/IPython/core/interactiveshell.py:2728: DtypeWarning: Columns (9) have mixed types. Specify dtype option on import or set low_memory=False.\n",
      "  interactivity=interactivity, compiler=compiler, result=result)\n"
     ]
    }
   ],
   "source": [
    "# Bangladesh\n",
    "df_bga = pd.read_csv('/Users/ikersanchez/Vizzuality/PROIEKTUAK/i2i/Data/FSP_Maps/FSP_maps_bgd.csv')\n",
    "# India\n",
    "df_ind = pd.read_csv('/Users/ikersanchez/Vizzuality/PROIEKTUAK/i2i/Data/FSP_Maps/FSP_maps_ind.csv')\n",
    "# Kenya\n",
    "df_ken = pd.read_csv('/Users/ikersanchez/Vizzuality/PROIEKTUAK/i2i/Data/FSP_Maps/FSP_maps_ken.csv')\n",
    "# Lesotho\n",
    "df_lso = pd.read_csv('/Users/ikersanchez/Vizzuality/PROIEKTUAK/i2i/Data/FSP_Maps/FSP_maps_lso.csv')\n",
    "# Nigeria\n",
    "df_nga = pd.read_csv('/Users/ikersanchez/Vizzuality/PROIEKTUAK/i2i/Data/FSP_Maps/FSP_maps_nga.csv')\n",
    "# Tanzania\n",
    "df_tza = pd.read_csv('/Users/ikersanchez/Vizzuality/PROIEKTUAK/i2i/Data/FSP_Maps/FSP_maps_tza.csv')\n",
    "# Uganda\n",
    "df_uga = pd.read_csv('/Users/ikersanchez/Vizzuality/PROIEKTUAK/i2i/Data/FSP_Maps/FSP_maps_uga.csv')"
   ]
  },
  {
   "cell_type": "code",
   "execution_count": 13,
   "metadata": {},
   "outputs": [],
   "source": [
    "df = pd.DataFrame(columns=['sector','type','land_use','iso','country','lat','lng','year','name'])\n",
    "df = pd.concat([df,df_bga,df_ind,df_ken,df_lso,df_nga,df_tza,df_uga])"
   ]
  },
  {
   "cell_type": "markdown",
   "metadata": {},
   "source": [
    "**Add id column**"
   ]
  },
  {
   "cell_type": "code",
   "execution_count": 14,
   "metadata": {},
   "outputs": [
    {
     "data": {
      "text/html": [
       "<div>\n",
       "<style scoped>\n",
       "    .dataframe tbody tr th:only-of-type {\n",
       "        vertical-align: middle;\n",
       "    }\n",
       "\n",
       "    .dataframe tbody tr th {\n",
       "        vertical-align: top;\n",
       "    }\n",
       "\n",
       "    .dataframe thead th {\n",
       "        text-align: right;\n",
       "    }\n",
       "</style>\n",
       "<table border=\"1\" class=\"dataframe\">\n",
       "  <thead>\n",
       "    <tr style=\"text-align: right;\">\n",
       "      <th></th>\n",
       "      <th>id</th>\n",
       "      <th>sector</th>\n",
       "      <th>type</th>\n",
       "      <th>land_use</th>\n",
       "      <th>iso</th>\n",
       "      <th>country</th>\n",
       "      <th>lat</th>\n",
       "      <th>lng</th>\n",
       "      <th>year</th>\n",
       "      <th>name</th>\n",
       "    </tr>\n",
       "  </thead>\n",
       "  <tbody>\n",
       "    <tr>\n",
       "      <th>0</th>\n",
       "      <td>0</td>\n",
       "      <td>Finance</td>\n",
       "      <td>Bank Branches</td>\n",
       "      <td>Urban</td>\n",
       "      <td>BGD</td>\n",
       "      <td>Bangladesh</td>\n",
       "      <td>23.71567</td>\n",
       "      <td>90.39706</td>\n",
       "      <td>2013</td>\n",
       "      <td>NaN</td>\n",
       "    </tr>\n",
       "    <tr>\n",
       "      <th>1</th>\n",
       "      <td>1</td>\n",
       "      <td>Finance</td>\n",
       "      <td>Bank Branches</td>\n",
       "      <td>Rural</td>\n",
       "      <td>BGD</td>\n",
       "      <td>Bangladesh</td>\n",
       "      <td>25.03466</td>\n",
       "      <td>91.66398</td>\n",
       "      <td>2013</td>\n",
       "      <td>NaN</td>\n",
       "    </tr>\n",
       "    <tr>\n",
       "      <th>2</th>\n",
       "      <td>2</td>\n",
       "      <td>Finance</td>\n",
       "      <td>Bank Branches</td>\n",
       "      <td>Rural</td>\n",
       "      <td>BGD</td>\n",
       "      <td>Bangladesh</td>\n",
       "      <td>24.71598</td>\n",
       "      <td>89.08773</td>\n",
       "      <td>2013</td>\n",
       "      <td>NaN</td>\n",
       "    </tr>\n",
       "    <tr>\n",
       "      <th>3</th>\n",
       "      <td>3</td>\n",
       "      <td>Finance</td>\n",
       "      <td>Bank Branches</td>\n",
       "      <td>Rural</td>\n",
       "      <td>BGD</td>\n",
       "      <td>Bangladesh</td>\n",
       "      <td>25.12515</td>\n",
       "      <td>88.59117</td>\n",
       "      <td>2013</td>\n",
       "      <td>NaN</td>\n",
       "    </tr>\n",
       "    <tr>\n",
       "      <th>4</th>\n",
       "      <td>4</td>\n",
       "      <td>Finance</td>\n",
       "      <td>Bank Branches</td>\n",
       "      <td>Rural</td>\n",
       "      <td>BGD</td>\n",
       "      <td>Bangladesh</td>\n",
       "      <td>23.48638</td>\n",
       "      <td>91.00529</td>\n",
       "      <td>2013</td>\n",
       "      <td>NaN</td>\n",
       "    </tr>\n",
       "  </tbody>\n",
       "</table>\n",
       "</div>"
      ],
      "text/plain": [
       "   id   sector           type land_use  iso     country       lat       lng  \\\n",
       "0   0  Finance  Bank Branches    Urban  BGD  Bangladesh  23.71567  90.39706   \n",
       "1   1  Finance  Bank Branches    Rural  BGD  Bangladesh  25.03466  91.66398   \n",
       "2   2  Finance  Bank Branches    Rural  BGD  Bangladesh  24.71598  89.08773   \n",
       "3   3  Finance  Bank Branches    Rural  BGD  Bangladesh  25.12515  88.59117   \n",
       "4   4  Finance  Bank Branches    Rural  BGD  Bangladesh  23.48638  91.00529   \n",
       "\n",
       "   year name  \n",
       "0  2013  NaN  \n",
       "1  2013  NaN  \n",
       "2  2013  NaN  \n",
       "3  2013  NaN  \n",
       "4  2013  NaN  "
      ]
     },
     "execution_count": 14,
     "metadata": {},
     "output_type": "execute_result"
    }
   ],
   "source": [
    "df.reset_index(drop=True, inplace=True)\n",
    "df['id'] = np.arange(len(df))\n",
    "df = df[['id', 'sector', 'type', 'land_use', 'iso', 'country', 'lat', 'lng', 'year', 'name']]\n",
    "df.head()"
   ]
  },
  {
   "cell_type": "markdown",
   "metadata": {},
   "source": [
    "**Add color column**"
   ]
  },
  {
   "cell_type": "code",
   "execution_count": 57,
   "metadata": {},
   "outputs": [
    {
     "data": {
      "image/png": "[encoded data removed]",
      "text/plain": [
       "<matplotlib.figure.Figure at 0x10ecc9b00>"
      ]
     },
     "metadata": {},
     "output_type": "display_data"
    }
   ],
   "source": [
    "sns.palplot(sns.color_palette(\"Paired\", 12))"
   ]
  },
  {
   "cell_type": "code",
   "execution_count": 58,
   "metadata": {},
   "outputs": [
    {
     "data": {
      "image/png": "[encoded data removed]",
      "text/plain": [
       "<matplotlib.figure.Figure at 0x1185a04e0>"
      ]
     },
     "metadata": {},
     "output_type": "display_data"
    }
   ],
   "source": [
    "sns.palplot(sns.color_palette(\"Set3\", 12))"
   ]
  },
  {
   "cell_type": "code",
   "execution_count": 59,
   "metadata": {},
   "outputs": [
    {
     "data": {
      "image/png": "[encoded data removed]",
      "text/plain": [
       "<matplotlib.figure.Figure at 0x10c7ae668>"
      ]
     },
     "metadata": {},
     "output_type": "display_data"
    }
   ],
   "source": [
    "sns.palplot(sns.color_palette(\"tab10\", 10))"
   ]
  },
  {
   "cell_type": "code",
   "execution_count": 60,
   "metadata": {},
   "outputs": [
    {
     "data": {
      "image/png": "[encoded data removed]",
      "text/plain": [
       "<matplotlib.figure.Figure at 0x10c7ca128>"
      ]
     },
     "metadata": {},
     "output_type": "display_data"
    }
   ],
   "source": [
    "sns.palplot(sns.color_palette(\"deep\", 10))"
   ]
  },
  {
   "cell_type": "code",
   "execution_count": 61,
   "metadata": {},
   "outputs": [],
   "source": [
    "pal = sns.color_palette(\"tab10\", 10).as_hex()\n",
    "pal = pal + sns.color_palette(\"Set3\", 12).as_hex()\n",
    "pal = pal + sns.color_palette(\"Paired\", 12).as_hex()\n",
    "pal = pal + sns.color_palette(\"deep\", 10).as_hex()"
   ]
  },
  {
   "cell_type": "code",
   "execution_count": 62,
   "metadata": {},
   "outputs": [
    {
     "data": {
      "text/html": [
       "<div>\n",
       "<style scoped>\n",
       "    .dataframe tbody tr th:only-of-type {\n",
       "        vertical-align: middle;\n",
       "    }\n",
       "\n",
       "    .dataframe tbody tr th {\n",
       "        vertical-align: top;\n",
       "    }\n",
       "\n",
       "    .dataframe thead th {\n",
       "        text-align: right;\n",
       "    }\n",
       "</style>\n",
       "<table border=\"1\" class=\"dataframe\">\n",
       "  <thead>\n",
       "    <tr style=\"text-align: right;\">\n",
       "      <th></th>\n",
       "      <th>iso</th>\n",
       "      <th>type</th>\n",
       "      <th>color</th>\n",
       "    </tr>\n",
       "  </thead>\n",
       "  <tbody>\n",
       "    <tr>\n",
       "      <th>0</th>\n",
       "      <td>BGD</td>\n",
       "      <td>Bank Branches</td>\n",
       "      <td>#1f77b4</td>\n",
       "    </tr>\n",
       "    <tr>\n",
       "      <th>1</th>\n",
       "      <td>BGD</td>\n",
       "      <td>MFIs</td>\n",
       "      <td>#ff7f0e</td>\n",
       "    </tr>\n",
       "    <tr>\n",
       "      <th>2</th>\n",
       "      <td>BGD</td>\n",
       "      <td>Mobile Money Agent</td>\n",
       "      <td>#2ca02c</td>\n",
       "    </tr>\n",
       "    <tr>\n",
       "      <th>3</th>\n",
       "      <td>BGD</td>\n",
       "      <td>Offsite ATMs</td>\n",
       "      <td>#d62728</td>\n",
       "    </tr>\n",
       "    <tr>\n",
       "      <th>4</th>\n",
       "      <td>BGD</td>\n",
       "      <td>Post Offices</td>\n",
       "      <td>#9467bd</td>\n",
       "    </tr>\n",
       "  </tbody>\n",
       "</table>\n",
       "</div>"
      ],
      "text/plain": [
       "   iso                type    color\n",
       "0  BGD       Bank Branches  #1f77b4\n",
       "1  BGD                MFIs  #ff7f0e\n",
       "2  BGD  Mobile Money Agent  #2ca02c\n",
       "3  BGD        Offsite ATMs  #d62728\n",
       "4  BGD        Post Offices  #9467bd"
      ]
     },
     "execution_count": 62,
     "metadata": {},
     "output_type": "execute_result"
    }
   ],
   "source": [
    "df_color = pd.DataFrame(columns = ['iso', 'type', 'color'])\n",
    "for country in iso:\n",
    "    type = df[df['iso'] == country]['type'].unique()\n",
    "    color = pal[0:len(df[df['iso'] == country]['type'].unique())]\n",
    "    df_color_iso = pd.DataFrame.from_dict({'iso': country, 'type': type, 'color': color})\n",
    "    df_color_iso = df_color_iso[['iso', 'type', 'color']]\n",
    "    df_color = pd.concat([df_color,df_color_iso])\n",
    "    \n",
    "df_color.head()"
   ]
  },
  {
   "cell_type": "code",
   "execution_count": 63,
   "metadata": {},
   "outputs": [
    {
     "data": {
      "text/html": [
       "<div>\n",
       "<style scoped>\n",
       "    .dataframe tbody tr th:only-of-type {\n",
       "        vertical-align: middle;\n",
       "    }\n",
       "\n",
       "    .dataframe tbody tr th {\n",
       "        vertical-align: top;\n",
       "    }\n",
       "\n",
       "    .dataframe thead th {\n",
       "        text-align: right;\n",
       "    }\n",
       "</style>\n",
       "<table border=\"1\" class=\"dataframe\">\n",
       "  <thead>\n",
       "    <tr style=\"text-align: right;\">\n",
       "      <th></th>\n",
       "      <th>id</th>\n",
       "      <th>sector</th>\n",
       "      <th>type</th>\n",
       "      <th>land_use</th>\n",
       "      <th>iso</th>\n",
       "      <th>country</th>\n",
       "      <th>lat</th>\n",
       "      <th>lng</th>\n",
       "      <th>year</th>\n",
       "      <th>name</th>\n",
       "      <th>color</th>\n",
       "    </tr>\n",
       "  </thead>\n",
       "  <tbody>\n",
       "    <tr>\n",
       "      <th>0</th>\n",
       "      <td>0</td>\n",
       "      <td>Finance</td>\n",
       "      <td>Bank Branches</td>\n",
       "      <td>Urban</td>\n",
       "      <td>BGD</td>\n",
       "      <td>Bangladesh</td>\n",
       "      <td>23.71567</td>\n",
       "      <td>90.39706</td>\n",
       "      <td>2013</td>\n",
       "      <td>NaN</td>\n",
       "      <td>#1f77b4</td>\n",
       "    </tr>\n",
       "    <tr>\n",
       "      <th>1</th>\n",
       "      <td>1</td>\n",
       "      <td>Finance</td>\n",
       "      <td>Bank Branches</td>\n",
       "      <td>Rural</td>\n",
       "      <td>BGD</td>\n",
       "      <td>Bangladesh</td>\n",
       "      <td>25.03466</td>\n",
       "      <td>91.66398</td>\n",
       "      <td>2013</td>\n",
       "      <td>NaN</td>\n",
       "      <td>#1f77b4</td>\n",
       "    </tr>\n",
       "    <tr>\n",
       "      <th>2</th>\n",
       "      <td>2</td>\n",
       "      <td>Finance</td>\n",
       "      <td>Bank Branches</td>\n",
       "      <td>Rural</td>\n",
       "      <td>BGD</td>\n",
       "      <td>Bangladesh</td>\n",
       "      <td>24.71598</td>\n",
       "      <td>89.08773</td>\n",
       "      <td>2013</td>\n",
       "      <td>NaN</td>\n",
       "      <td>#1f77b4</td>\n",
       "    </tr>\n",
       "    <tr>\n",
       "      <th>3</th>\n",
       "      <td>3</td>\n",
       "      <td>Finance</td>\n",
       "      <td>Bank Branches</td>\n",
       "      <td>Rural</td>\n",
       "      <td>BGD</td>\n",
       "      <td>Bangladesh</td>\n",
       "      <td>25.12515</td>\n",
       "      <td>88.59117</td>\n",
       "      <td>2013</td>\n",
       "      <td>NaN</td>\n",
       "      <td>#1f77b4</td>\n",
       "    </tr>\n",
       "    <tr>\n",
       "      <th>4</th>\n",
       "      <td>4</td>\n",
       "      <td>Finance</td>\n",
       "      <td>Bank Branches</td>\n",
       "      <td>Rural</td>\n",
       "      <td>BGD</td>\n",
       "      <td>Bangladesh</td>\n",
       "      <td>23.48638</td>\n",
       "      <td>91.00529</td>\n",
       "      <td>2013</td>\n",
       "      <td>NaN</td>\n",
       "      <td>#1f77b4</td>\n",
       "    </tr>\n",
       "  </tbody>\n",
       "</table>\n",
       "</div>"
      ],
      "text/plain": [
       "   id   sector           type land_use  iso     country       lat       lng  \\\n",
       "0   0  Finance  Bank Branches    Urban  BGD  Bangladesh  23.71567  90.39706   \n",
       "1   1  Finance  Bank Branches    Rural  BGD  Bangladesh  25.03466  91.66398   \n",
       "2   2  Finance  Bank Branches    Rural  BGD  Bangladesh  24.71598  89.08773   \n",
       "3   3  Finance  Bank Branches    Rural  BGD  Bangladesh  25.12515  88.59117   \n",
       "4   4  Finance  Bank Branches    Rural  BGD  Bangladesh  23.48638  91.00529   \n",
       "\n",
       "   year name    color  \n",
       "0  2013  NaN  #1f77b4  \n",
       "1  2013  NaN  #1f77b4  \n",
       "2  2013  NaN  #1f77b4  \n",
       "3  2013  NaN  #1f77b4  \n",
       "4  2013  NaN  #1f77b4  "
      ]
     },
     "execution_count": 63,
     "metadata": {},
     "output_type": "execute_result"
    }
   ],
   "source": [
    "df = pd.merge(df, df_color, how='left', on=['iso', 'type'])\n",
    "df.head()"
   ]
  },
  {
   "cell_type": "markdown",
   "metadata": {},
   "source": [
    "**Add type_id column**\n",
    "\n",
    "We add an id to each type in every country and sector"
   ]
  },
  {
   "cell_type": "code",
   "execution_count": 64,
   "metadata": {},
   "outputs": [],
   "source": [
    "df_type = pd.DataFrame(columns = ['iso', 'type'])\n",
    "for country in iso:\n",
    "    type = df[df['iso'] == country]['type'].unique()\n",
    "    df_type_iso = pd.DataFrame.from_dict({'iso': country, 'type': type})\n",
    "    df_type_iso = df_type_iso[['iso', 'type',]]\n",
    "    df_type = pd.concat([df_type,df_type_iso])\n",
    "    \n",
    "df_type['type_id'] = np.arange(len(df_type))+1"
   ]
  },
  {
   "cell_type": "code",
   "execution_count": 65,
   "metadata": {},
   "outputs": [
    {
     "data": {
      "text/html": [
       "<div>\n",
       "<style scoped>\n",
       "    .dataframe tbody tr th:only-of-type {\n",
       "        vertical-align: middle;\n",
       "    }\n",
       "\n",
       "    .dataframe tbody tr th {\n",
       "        vertical-align: top;\n",
       "    }\n",
       "\n",
       "    .dataframe thead th {\n",
       "        text-align: right;\n",
       "    }\n",
       "</style>\n",
       "<table border=\"1\" class=\"dataframe\">\n",
       "  <thead>\n",
       "    <tr style=\"text-align: right;\">\n",
       "      <th></th>\n",
       "      <th>id</th>\n",
       "      <th>sector</th>\n",
       "      <th>type</th>\n",
       "      <th>land_use</th>\n",
       "      <th>iso</th>\n",
       "      <th>country</th>\n",
       "      <th>lat</th>\n",
       "      <th>lng</th>\n",
       "      <th>year</th>\n",
       "      <th>name</th>\n",
       "      <th>color</th>\n",
       "      <th>type_id</th>\n",
       "    </tr>\n",
       "  </thead>\n",
       "  <tbody>\n",
       "    <tr>\n",
       "      <th>0</th>\n",
       "      <td>0</td>\n",
       "      <td>Finance</td>\n",
       "      <td>Bank Branches</td>\n",
       "      <td>Urban</td>\n",
       "      <td>BGD</td>\n",
       "      <td>Bangladesh</td>\n",
       "      <td>23.71567</td>\n",
       "      <td>90.39706</td>\n",
       "      <td>2013</td>\n",
       "      <td>NaN</td>\n",
       "      <td>#1f77b4</td>\n",
       "      <td>1</td>\n",
       "    </tr>\n",
       "    <tr>\n",
       "      <th>1</th>\n",
       "      <td>1</td>\n",
       "      <td>Finance</td>\n",
       "      <td>Bank Branches</td>\n",
       "      <td>Rural</td>\n",
       "      <td>BGD</td>\n",
       "      <td>Bangladesh</td>\n",
       "      <td>25.03466</td>\n",
       "      <td>91.66398</td>\n",
       "      <td>2013</td>\n",
       "      <td>NaN</td>\n",
       "      <td>#1f77b4</td>\n",
       "      <td>1</td>\n",
       "    </tr>\n",
       "    <tr>\n",
       "      <th>2</th>\n",
       "      <td>2</td>\n",
       "      <td>Finance</td>\n",
       "      <td>Bank Branches</td>\n",
       "      <td>Rural</td>\n",
       "      <td>BGD</td>\n",
       "      <td>Bangladesh</td>\n",
       "      <td>24.71598</td>\n",
       "      <td>89.08773</td>\n",
       "      <td>2013</td>\n",
       "      <td>NaN</td>\n",
       "      <td>#1f77b4</td>\n",
       "      <td>1</td>\n",
       "    </tr>\n",
       "    <tr>\n",
       "      <th>3</th>\n",
       "      <td>3</td>\n",
       "      <td>Finance</td>\n",
       "      <td>Bank Branches</td>\n",
       "      <td>Rural</td>\n",
       "      <td>BGD</td>\n",
       "      <td>Bangladesh</td>\n",
       "      <td>25.12515</td>\n",
       "      <td>88.59117</td>\n",
       "      <td>2013</td>\n",
       "      <td>NaN</td>\n",
       "      <td>#1f77b4</td>\n",
       "      <td>1</td>\n",
       "    </tr>\n",
       "    <tr>\n",
       "      <th>4</th>\n",
       "      <td>4</td>\n",
       "      <td>Finance</td>\n",
       "      <td>Bank Branches</td>\n",
       "      <td>Rural</td>\n",
       "      <td>BGD</td>\n",
       "      <td>Bangladesh</td>\n",
       "      <td>23.48638</td>\n",
       "      <td>91.00529</td>\n",
       "      <td>2013</td>\n",
       "      <td>NaN</td>\n",
       "      <td>#1f77b4</td>\n",
       "      <td>1</td>\n",
       "    </tr>\n",
       "  </tbody>\n",
       "</table>\n",
       "</div>"
      ],
      "text/plain": [
       "   id   sector           type land_use  iso     country       lat       lng  \\\n",
       "0   0  Finance  Bank Branches    Urban  BGD  Bangladesh  23.71567  90.39706   \n",
       "1   1  Finance  Bank Branches    Rural  BGD  Bangladesh  25.03466  91.66398   \n",
       "2   2  Finance  Bank Branches    Rural  BGD  Bangladesh  24.71598  89.08773   \n",
       "3   3  Finance  Bank Branches    Rural  BGD  Bangladesh  25.12515  88.59117   \n",
       "4   4  Finance  Bank Branches    Rural  BGD  Bangladesh  23.48638  91.00529   \n",
       "\n",
       "   year name    color  type_id  \n",
       "0  2013  NaN  #1f77b4        1  \n",
       "1  2013  NaN  #1f77b4        1  \n",
       "2  2013  NaN  #1f77b4        1  \n",
       "3  2013  NaN  #1f77b4        1  \n",
       "4  2013  NaN  #1f77b4        1  "
      ]
     },
     "execution_count": 65,
     "metadata": {},
     "output_type": "execute_result"
    }
   ],
   "source": [
    "df = pd.merge(df, df_type, how='left', on=['iso', 'type'])\n",
    "df.head()"
   ]
  },
  {
   "cell_type": "markdown",
   "metadata": {},
   "source": [
    "**Save table**"
   ]
  },
  {
   "cell_type": "code",
   "execution_count": 67,
   "metadata": {},
   "outputs": [],
   "source": [
    "df.to_csv('/Users/ikersanchez/Vizzuality/PROIEKTUAK/i2i/Data/FSP_Maps/FSP_maps.csv')"
   ]
  },
  {
   "cell_type": "markdown",
   "metadata": {},
   "source": [
    "***\n",
    "### FSP maps voronoids table"
   ]
  },
  {
   "cell_type": "code",
   "execution_count": 4,
   "metadata": {},
   "outputs": [],
   "source": [
    "# Bangladesh\n",
    "df_bga = pd.read_csv('/Users/ikersanchez/Vizzuality/PROIEKTUAK/i2i/Data/FSP_Maps/FSP_voronoid_bgd.csv')\n",
    "# India\n",
    "df_ind = pd.read_csv('/Users/ikersanchez/Vizzuality/PROIEKTUAK/i2i/Data/FSP_Maps/FSP_voronoid_ind.csv')\n",
    "# Kenya\n",
    "df_ken = pd.read_csv('/Users/ikersanchez/Vizzuality/PROIEKTUAK/i2i/Data/FSP_Maps/FSP_voronoid_ken.csv')\n",
    "# Lesotho\n",
    "df_lso = pd.read_csv('/Users/ikersanchez/Vizzuality/PROIEKTUAK/i2i/Data/FSP_Maps/FSP_voronoid_lso.csv')\n",
    "# Nigeria\n",
    "df_nga = pd.read_csv('/Users/ikersanchez/Vizzuality/PROIEKTUAK/i2i/Data/FSP_Maps/FSP_voronoid_nga.csv')\n",
    "# Tanzania\n",
    "df_tza = pd.read_csv('/Users/ikersanchez/Vizzuality/PROIEKTUAK/i2i/Data/FSP_Maps/FSP_voronoid_tza.csv')\n",
    "# Uganda\n",
    "df_uga = pd.read_csv('/Users/ikersanchez/Vizzuality/PROIEKTUAK/i2i/Data/FSP_Maps/FSP_voronoid_uga.csv')"
   ]
  },
  {
   "cell_type": "code",
   "execution_count": 5,
   "metadata": {},
   "outputs": [
    {
     "data": {
      "text/html": [
       "<div>\n",
       "<style scoped>\n",
       "    .dataframe tbody tr th:only-of-type {\n",
       "        vertical-align: middle;\n",
       "    }\n",
       "\n",
       "    .dataframe tbody tr th {\n",
       "        vertical-align: top;\n",
       "    }\n",
       "\n",
       "    .dataframe thead th {\n",
       "        text-align: right;\n",
       "    }\n",
       "</style>\n",
       "<table border=\"1\" class=\"dataframe\">\n",
       "  <thead>\n",
       "    <tr style=\"text-align: right;\">\n",
       "      <th></th>\n",
       "      <th>Unnamed: 0</th>\n",
       "      <th>geometry</th>\n",
       "      <th>iso</th>\n",
       "      <th>sector</th>\n",
       "      <th>type</th>\n",
       "      <th>type_id</th>\n",
       "    </tr>\n",
       "  </thead>\n",
       "  <tbody>\n",
       "    <tr>\n",
       "      <th>0</th>\n",
       "      <td>0</td>\n",
       "      <td>POLYGON ((30.49857792933488 -0.533359079692598...</td>\n",
       "      <td>UGA</td>\n",
       "      <td>Agriculture</td>\n",
       "      <td>Abattoirs/ Slaughter slabs</td>\n",
       "      <td>111</td>\n",
       "    </tr>\n",
       "    <tr>\n",
       "      <th>1</th>\n",
       "      <td>1</td>\n",
       "      <td>POLYGON ((31.42444696769319 2.073476325969033,...</td>\n",
       "      <td>UGA</td>\n",
       "      <td>Agriculture</td>\n",
       "      <td>Abattoirs/ Slaughter slabs</td>\n",
       "      <td>111</td>\n",
       "    </tr>\n",
       "    <tr>\n",
       "      <th>2</th>\n",
       "      <td>2</td>\n",
       "      <td>POLYGON ((31.21505696497972 0.6726325542171394...</td>\n",
       "      <td>UGA</td>\n",
       "      <td>Agriculture</td>\n",
       "      <td>Abattoirs/ Slaughter slabs</td>\n",
       "      <td>111</td>\n",
       "    </tr>\n",
       "    <tr>\n",
       "      <th>3</th>\n",
       "      <td>3</td>\n",
       "      <td>POLYGON ((31.6970426 0.4467926000000025, 31.69...</td>\n",
       "      <td>UGA</td>\n",
       "      <td>Agriculture</td>\n",
       "      <td>Abattoirs/ Slaughter slabs</td>\n",
       "      <td>111</td>\n",
       "    </tr>\n",
       "    <tr>\n",
       "      <th>4</th>\n",
       "      <td>4</td>\n",
       "      <td>POLYGON ((30.90483515131127 2.798342830898457,...</td>\n",
       "      <td>UGA</td>\n",
       "      <td>Agriculture</td>\n",
       "      <td>Abattoirs/ Slaughter slabs</td>\n",
       "      <td>111</td>\n",
       "    </tr>\n",
       "  </tbody>\n",
       "</table>\n",
       "</div>"
      ],
      "text/plain": [
       "   Unnamed: 0                                           geometry  iso  \\\n",
       "0           0  POLYGON ((30.49857792933488 -0.533359079692598...  UGA   \n",
       "1           1  POLYGON ((31.42444696769319 2.073476325969033,...  UGA   \n",
       "2           2  POLYGON ((31.21505696497972 0.6726325542171394...  UGA   \n",
       "3           3  POLYGON ((31.6970426 0.4467926000000025, 31.69...  UGA   \n",
       "4           4  POLYGON ((30.90483515131127 2.798342830898457,...  UGA   \n",
       "\n",
       "        sector                        type  type_id  \n",
       "0  Agriculture  Abattoirs/ Slaughter slabs      111  \n",
       "1  Agriculture  Abattoirs/ Slaughter slabs      111  \n",
       "2  Agriculture  Abattoirs/ Slaughter slabs      111  \n",
       "3  Agriculture  Abattoirs/ Slaughter slabs      111  \n",
       "4  Agriculture  Abattoirs/ Slaughter slabs      111  "
      ]
     },
     "execution_count": 5,
     "metadata": {},
     "output_type": "execute_result"
    }
   ],
   "source": [
    "df_uga.head()"
   ]
  },
  {
   "cell_type": "code",
   "execution_count": 8,
   "metadata": {},
   "outputs": [],
   "source": [
    "df_vor = pd.DataFrame(columns=['geometry','iso','sector','type','type_id'])\n",
    "df_vor = pd.concat([df_vor,df_bga,df_ind,df_ken,df_lso,df_nga,df_tza,df_uga])"
   ]
  },
  {
   "cell_type": "code",
   "execution_count": 9,
   "metadata": {},
   "outputs": [
    {
     "data": {
      "text/html": [
       "<div>\n",
       "<style scoped>\n",
       "    .dataframe tbody tr th:only-of-type {\n",
       "        vertical-align: middle;\n",
       "    }\n",
       "\n",
       "    .dataframe tbody tr th {\n",
       "        vertical-align: top;\n",
       "    }\n",
       "\n",
       "    .dataframe thead th {\n",
       "        text-align: right;\n",
       "    }\n",
       "</style>\n",
       "<table border=\"1\" class=\"dataframe\">\n",
       "  <thead>\n",
       "    <tr style=\"text-align: right;\">\n",
       "      <th></th>\n",
       "      <th>Unnamed: 0</th>\n",
       "      <th>geometry</th>\n",
       "      <th>iso</th>\n",
       "      <th>sector</th>\n",
       "      <th>type</th>\n",
       "      <th>type_id</th>\n",
       "    </tr>\n",
       "  </thead>\n",
       "  <tbody>\n",
       "    <tr>\n",
       "      <th>0</th>\n",
       "      <td>0.0</td>\n",
       "      <td>POLYGON ((90.39619324657353 23.71580798075595,...</td>\n",
       "      <td>BGD</td>\n",
       "      <td>Finance</td>\n",
       "      <td>Bank Branches</td>\n",
       "      <td>1</td>\n",
       "    </tr>\n",
       "    <tr>\n",
       "      <th>1</th>\n",
       "      <td>1.0</td>\n",
       "      <td>POLYGON ((91.66436500000006 25.03444576923081,...</td>\n",
       "      <td>BGD</td>\n",
       "      <td>Finance</td>\n",
       "      <td>Bank Branches</td>\n",
       "      <td>1</td>\n",
       "    </tr>\n",
       "    <tr>\n",
       "      <th>2</th>\n",
       "      <td>2.0</td>\n",
       "      <td>POLYGON ((89.02918366984161 24.73270970308704,...</td>\n",
       "      <td>BGD</td>\n",
       "      <td>Finance</td>\n",
       "      <td>Bank Branches</td>\n",
       "      <td>1</td>\n",
       "    </tr>\n",
       "    <tr>\n",
       "      <th>3</th>\n",
       "      <td>3.0</td>\n",
       "      <td>POLYGON ((88.59068851891206 25.12553230981727,...</td>\n",
       "      <td>BGD</td>\n",
       "      <td>Finance</td>\n",
       "      <td>Bank Branches</td>\n",
       "      <td>1</td>\n",
       "    </tr>\n",
       "    <tr>\n",
       "      <th>4</th>\n",
       "      <td>4.0</td>\n",
       "      <td>POLYGON ((91.0043668141593 23.48641918141595, ...</td>\n",
       "      <td>BGD</td>\n",
       "      <td>Finance</td>\n",
       "      <td>Bank Branches</td>\n",
       "      <td>1</td>\n",
       "    </tr>\n",
       "  </tbody>\n",
       "</table>\n",
       "</div>"
      ],
      "text/plain": [
       "   Unnamed: 0                                           geometry  iso  \\\n",
       "0         0.0  POLYGON ((90.39619324657353 23.71580798075595,...  BGD   \n",
       "1         1.0  POLYGON ((91.66436500000006 25.03444576923081,...  BGD   \n",
       "2         2.0  POLYGON ((89.02918366984161 24.73270970308704,...  BGD   \n",
       "3         3.0  POLYGON ((88.59068851891206 25.12553230981727,...  BGD   \n",
       "4         4.0  POLYGON ((91.0043668141593 23.48641918141595, ...  BGD   \n",
       "\n",
       "    sector           type type_id  \n",
       "0  Finance  Bank Branches       1  \n",
       "1  Finance  Bank Branches       1  \n",
       "2  Finance  Bank Branches       1  \n",
       "3  Finance  Bank Branches       1  \n",
       "4  Finance  Bank Branches       1  "
      ]
     },
     "execution_count": 9,
     "metadata": {},
     "output_type": "execute_result"
    }
   ],
   "source": [
    "df_vor.head()"
   ]
  },
  {
   "cell_type": "markdown",
   "metadata": {},
   "source": [
    "**Add id column**"
   ]
  },
  {
   "cell_type": "code",
   "execution_count": 10,
   "metadata": {},
   "outputs": [
    {
     "data": {
      "text/html": [
       "<div>\n",
       "<style scoped>\n",
       "    .dataframe tbody tr th:only-of-type {\n",
       "        vertical-align: middle;\n",
       "    }\n",
       "\n",
       "    .dataframe tbody tr th {\n",
       "        vertical-align: top;\n",
       "    }\n",
       "\n",
       "    .dataframe thead th {\n",
       "        text-align: right;\n",
       "    }\n",
       "</style>\n",
       "<table border=\"1\" class=\"dataframe\">\n",
       "  <thead>\n",
       "    <tr style=\"text-align: right;\">\n",
       "      <th></th>\n",
       "      <th>id</th>\n",
       "      <th>geometry</th>\n",
       "      <th>iso</th>\n",
       "      <th>sector</th>\n",
       "      <th>type</th>\n",
       "      <th>type_id</th>\n",
       "    </tr>\n",
       "  </thead>\n",
       "  <tbody>\n",
       "    <tr>\n",
       "      <th>0</th>\n",
       "      <td>0</td>\n",
       "      <td>POLYGON ((90.39619324657353 23.71580798075595,...</td>\n",
       "      <td>BGD</td>\n",
       "      <td>Finance</td>\n",
       "      <td>Bank Branches</td>\n",
       "      <td>1</td>\n",
       "    </tr>\n",
       "    <tr>\n",
       "      <th>1</th>\n",
       "      <td>1</td>\n",
       "      <td>POLYGON ((91.66436500000006 25.03444576923081,...</td>\n",
       "      <td>BGD</td>\n",
       "      <td>Finance</td>\n",
       "      <td>Bank Branches</td>\n",
       "      <td>1</td>\n",
       "    </tr>\n",
       "    <tr>\n",
       "      <th>2</th>\n",
       "      <td>2</td>\n",
       "      <td>POLYGON ((89.02918366984161 24.73270970308704,...</td>\n",
       "      <td>BGD</td>\n",
       "      <td>Finance</td>\n",
       "      <td>Bank Branches</td>\n",
       "      <td>1</td>\n",
       "    </tr>\n",
       "    <tr>\n",
       "      <th>3</th>\n",
       "      <td>3</td>\n",
       "      <td>POLYGON ((88.59068851891206 25.12553230981727,...</td>\n",
       "      <td>BGD</td>\n",
       "      <td>Finance</td>\n",
       "      <td>Bank Branches</td>\n",
       "      <td>1</td>\n",
       "    </tr>\n",
       "    <tr>\n",
       "      <th>4</th>\n",
       "      <td>4</td>\n",
       "      <td>POLYGON ((91.0043668141593 23.48641918141595, ...</td>\n",
       "      <td>BGD</td>\n",
       "      <td>Finance</td>\n",
       "      <td>Bank Branches</td>\n",
       "      <td>1</td>\n",
       "    </tr>\n",
       "  </tbody>\n",
       "</table>\n",
       "</div>"
      ],
      "text/plain": [
       "   id                                           geometry  iso   sector  \\\n",
       "0   0  POLYGON ((90.39619324657353 23.71580798075595,...  BGD  Finance   \n",
       "1   1  POLYGON ((91.66436500000006 25.03444576923081,...  BGD  Finance   \n",
       "2   2  POLYGON ((89.02918366984161 24.73270970308704,...  BGD  Finance   \n",
       "3   3  POLYGON ((88.59068851891206 25.12553230981727,...  BGD  Finance   \n",
       "4   4  POLYGON ((91.0043668141593 23.48641918141595, ...  BGD  Finance   \n",
       "\n",
       "            type type_id  \n",
       "0  Bank Branches       1  \n",
       "1  Bank Branches       1  \n",
       "2  Bank Branches       1  \n",
       "3  Bank Branches       1  \n",
       "4  Bank Branches       1  "
      ]
     },
     "execution_count": 10,
     "metadata": {},
     "output_type": "execute_result"
    }
   ],
   "source": [
    "df_vor.reset_index(drop=True, inplace=True)\n",
    "df_vor['id'] = np.arange(len(df_vor))\n",
    "df_vor = df_vor[['id', 'geometry', 'iso', 'sector', 'type', 'type_id']]\n",
    "df_vor.head()"
   ]
  },
  {
   "cell_type": "markdown",
   "metadata": {},
   "source": [
    "**Save table**"
   ]
  },
  {
   "cell_type": "code",
   "execution_count": 31,
   "metadata": {},
   "outputs": [],
   "source": [
    "df_vor.to_csv('/Users/ikersanchez/Vizzuality/PROIEKTUAK/i2i/Data/FSP_Maps/FSP_voronoid.csv')"
   ]
  },
  {
   "cell_type": "markdown",
   "metadata": {},
   "source": [
    "**Add area_km2 column in carto**"
   ]
  },
  {
   "cell_type": "markdown",
   "metadata": {},
   "source": [
    "```sql\n",
    "SELECT *, ST_Area(ST_Transform(the_geom,26986))*1e-6 As area_km2\n",
    "FROM fsp_voronoid\n",
    "ORDER BY id\n",
    "```"
   ]
  },
  {
   "cell_type": "code",
   "execution_count": null,
   "metadata": {},
   "outputs": [],
   "source": []
  }
 ],
 "metadata": {
  "kernelspec": {
   "display_name": "Python 3",
   "language": "python",
   "name": "python3"
  },
  "language_info": {
   "codemirror_mode": {
    "name": "ipython",
    "version": 3
   },
   "file_extension": ".py",
   "mimetype": "text/x-python",
   "name": "python",
   "nbconvert_exporter": "python",
   "pygments_lexer": "ipython3",
   "version": "3.6.4"
  }
 },
 "nbformat": 4,
 "nbformat_minor": 2
}
