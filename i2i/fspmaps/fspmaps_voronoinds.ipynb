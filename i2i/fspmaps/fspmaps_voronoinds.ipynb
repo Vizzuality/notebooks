{
 "cells": [
  {
   "cell_type": "markdown",
   "metadata": {},
   "source": [
    "# Create a voronoi for each FSP maps type"
   ]
  },
  {
   "cell_type": "code",
   "execution_count": 1,
   "metadata": {},
   "outputs": [],
   "source": [
    "import numpy as np\n",
    "import pandas as pd\n",
    "import seaborn as sns\n",
    "import geopandas as gpd\n",
    "from iso3166 import countries\n",
    "import matplotlib.pyplot as plt\n",
    "%matplotlib inline \n",
    "# The shapely.ops module has a cascaded_union that finds the cumulative union of many objects\n",
    "from shapely.ops import cascaded_union"
   ]
  },
  {
   "cell_type": "markdown",
   "metadata": {},
   "source": [
    "### Read country maps"
   ]
  },
  {
   "cell_type": "code",
   "execution_count": 2,
   "metadata": {},
   "outputs": [],
   "source": [
    "#India\n",
    "indMap = gpd.read_file('/Users/ikersanchez/Vizzuality/PROIEKTUAK/i2i/Data/gadm36_shp/gadm36_IND.shp')\n",
    "\n",
    "# Get Uttar Pradesh and Bihar states\n",
    "indMapStates = indMap[(indMap['NAME_1'] == 'Uttar Pradesh') | (indMap['NAME_1'] == 'Bihar')]\n",
    "\n",
    "#Kenya\n",
    "kenMap = gpd.read_file('/Users/ikersanchez/Vizzuality/PROIEKTUAK/i2i/Data/gadm36_shp/gadm36_KEN.shp')\n",
    "\n",
    "#Uganda\n",
    "ugaMap = gpd.read_file('/Users/ikersanchez/Vizzuality/PROIEKTUAK/i2i/Data/gadm36_shp/gadm36_UGA.shp')\n",
    "\n",
    "#Bangladesh\n",
    "bgdMap = gpd.read_file('/Users/ikersanchez/Vizzuality/PROIEKTUAK/i2i/Data/gadm36_shp/gadm36_BGD.shp')\n",
    "\n",
    "#Nigeria\n",
    "ngaMap = gpd.read_file('/Users/ikersanchez/Vizzuality/PROIEKTUAK/i2i/Data/gadm36_shp/gadm36_NGA.shp')\n",
    "\n",
    "#Tanzania\n",
    "tzaMap = gpd.read_file('/Users/ikersanchez/Vizzuality/PROIEKTUAK/i2i/Data/gadm36_shp/gadm36_TZA.shp')\n",
    "\n",
    "#Lesotho\n",
    "lsoMap = gpd.read_file('/Users/ikersanchez/Vizzuality/PROIEKTUAK/i2i/Data/gadm36_shp/gadm36_LSO.shp')\n",
    "\n",
    "#Haiti\n",
    "htiMap = gpd.read_file('/Users/ikersanchez/Vizzuality/PROIEKTUAK/i2i/Data/gadm36_shp/gadm36_HTI.shp')"
   ]
  },
  {
   "cell_type": "markdown",
   "metadata": {},
   "source": [
    "Get the boundary of each country"
   ]
  },
  {
   "cell_type": "code",
   "execution_count": 3,
   "metadata": {},
   "outputs": [],
   "source": [
    "indBoundary = gpd.GeoSeries(cascaded_union(indMapStates['geometry']))\n",
    "indBoundary = gpd.GeoDataFrame(indBoundary).rename(columns={0: 'geometry'})\n",
    "indBoundary['country'] = 'India'\n",
    "indBoundary['iso'] = 'IND'\n",
    "\n",
    "kenBoundary = gpd.GeoSeries(cascaded_union(kenMap['geometry']))\n",
    "kenBoundary = gpd.GeoDataFrame(kenBoundary).rename(columns={0: 'geometry'})\n",
    "kenBoundary['country'] = 'Kenya'\n",
    "kenBoundary['iso'] = 'KEN'\n",
    "\n",
    "ugaBoundary = gpd.GeoSeries(cascaded_union(ugaMap['geometry']))\n",
    "ugaBoundary = gpd.GeoDataFrame(ugaBoundary).rename(columns={0: 'geometry'})\n",
    "ugaBoundary['country'] = 'Uganda'\n",
    "ugaBoundary['iso'] = 'UGA'\n",
    "\n",
    "bgdBoundary = gpd.GeoSeries(cascaded_union(bgdMap['geometry']))\n",
    "bgdBoundary = gpd.GeoDataFrame(bgdBoundary).rename(columns={0: 'geometry'})\n",
    "bgdBoundary['country'] = 'Bangladesh'\n",
    "bgdBoundary['iso'] = 'BGD'\n",
    "\n",
    "ngaBoundary = gpd.GeoSeries(cascaded_union(ngaMap['geometry']))\n",
    "ngaBoundary = gpd.GeoDataFrame(ngaBoundary).rename(columns={0: 'geometry'})\n",
    "ngaBoundary['country'] = 'Nigeria'\n",
    "ngaBoundary['iso'] = 'NGA'\n",
    "\n",
    "tzaBoundary = gpd.GeoSeries(cascaded_union(tzaMap['geometry']))\n",
    "tzaBoundary = gpd.GeoDataFrame(tzaBoundary).rename(columns={0: 'geometry'})\n",
    "tzaBoundary['country'] = 'Tanzania'\n",
    "tzaBoundary['iso'] = 'TZA'\n",
    "\n",
    "lsoBoundary = gpd.GeoSeries(cascaded_union(lsoMap['geometry']))\n",
    "lsoBoundary = gpd.GeoDataFrame(lsoBoundary).rename(columns={0: 'geometry'})\n",
    "lsoBoundary['country'] = 'Lesotho'\n",
    "lsoBoundary['iso'] = 'LSO'\n",
    "\n",
    "htiBoundary = gpd.GeoSeries(cascaded_union(htiMap['geometry']))\n",
    "htiBoundary = gpd.GeoDataFrame(htiBoundary).rename(columns={0: 'geometry'})\n",
    "htiBoundary['country'] = 'Haiti'\n",
    "htiBoundary['iso'] = 'HTI'\n",
    "\n",
    "boundaries = gpd.GeoDataFrame(pd.concat([indBoundary,kenBoundary,ugaBoundary,bgdBoundary,ngaBoundary,tzaBoundary,lsoBoundary, htiBoundary]))"
   ]
  },
  {
   "cell_type": "code",
   "execution_count": 4,
   "metadata": {},
   "outputs": [
    {
     "data": {
      "text/html": [
       "<div>\n",
       "<style scoped>\n",
       "    .dataframe tbody tr th:only-of-type {\n",
       "        vertical-align: middle;\n",
       "    }\n",
       "\n",
       "    .dataframe tbody tr th {\n",
       "        vertical-align: top;\n",
       "    }\n",
       "\n",
       "    .dataframe thead th {\n",
       "        text-align: right;\n",
       "    }\n",
       "</style>\n",
       "<table border=\"1\" class=\"dataframe\">\n",
       "  <thead>\n",
       "    <tr style=\"text-align: right;\">\n",
       "      <th></th>\n",
       "      <th>geometry</th>\n",
       "      <th>country</th>\n",
       "      <th>iso</th>\n",
       "    </tr>\n",
       "  </thead>\n",
       "  <tbody>\n",
       "    <tr>\n",
       "      <th>0</th>\n",
       "      <td>(POLYGON ((88.10543060000001 26.53940773, 88.1...</td>\n",
       "      <td>India</td>\n",
       "      <td>IND</td>\n",
       "    </tr>\n",
       "    <tr>\n",
       "      <th>0</th>\n",
       "      <td>(POLYGON ((39.37625122 -4.71569395, 39.3762512...</td>\n",
       "      <td>Kenya</td>\n",
       "      <td>KEN</td>\n",
       "    </tr>\n",
       "    <tr>\n",
       "      <th>0</th>\n",
       "      <td>POLYGON ((30.21068954 -1.27639353, 30.20890808...</td>\n",
       "      <td>Uganda</td>\n",
       "      <td>UGA</td>\n",
       "    </tr>\n",
       "    <tr>\n",
       "      <th>0</th>\n",
       "      <td>(POLYGON ((91.90669250000001 21.72977448, 91.9...</td>\n",
       "      <td>Bangladesh</td>\n",
       "      <td>BGD</td>\n",
       "    </tr>\n",
       "    <tr>\n",
       "      <th>0</th>\n",
       "      <td>(POLYGON ((4.93763781 5.93624878, 4.93763781 5...</td>\n",
       "      <td>Nigeria</td>\n",
       "      <td>NGA</td>\n",
       "    </tr>\n",
       "    <tr>\n",
       "      <th>0</th>\n",
       "      <td>(POLYGON ((40.40208435 -10.42291737, 40.402084...</td>\n",
       "      <td>Tanzania</td>\n",
       "      <td>TZA</td>\n",
       "    </tr>\n",
       "    <tr>\n",
       "      <th>0</th>\n",
       "      <td>POLYGON ((27.75421905517584 -30.60573959350586...</td>\n",
       "      <td>Lesotho</td>\n",
       "      <td>LSO</td>\n",
       "    </tr>\n",
       "    <tr>\n",
       "      <th>0</th>\n",
       "      <td>(POLYGON ((-73.00517273 18.18572044, -73.00680...</td>\n",
       "      <td>Haiti</td>\n",
       "      <td>HTI</td>\n",
       "    </tr>\n",
       "  </tbody>\n",
       "</table>\n",
       "</div>"
      ],
      "text/plain": [
       "                                            geometry     country  iso\n",
       "0  (POLYGON ((88.10543060000001 26.53940773, 88.1...       India  IND\n",
       "0  (POLYGON ((39.37625122 -4.71569395, 39.3762512...       Kenya  KEN\n",
       "0  POLYGON ((30.21068954 -1.27639353, 30.20890808...      Uganda  UGA\n",
       "0  (POLYGON ((91.90669250000001 21.72977448, 91.9...  Bangladesh  BGD\n",
       "0  (POLYGON ((4.93763781 5.93624878, 4.93763781 5...     Nigeria  NGA\n",
       "0  (POLYGON ((40.40208435 -10.42291737, 40.402084...    Tanzania  TZA\n",
       "0  POLYGON ((27.75421905517584 -30.60573959350586...     Lesotho  LSO\n",
       "0  (POLYGON ((-73.00517273 18.18572044, -73.00680...       Haiti  HTI"
      ]
     },
     "execution_count": 4,
     "metadata": {},
     "output_type": "execute_result"
    }
   ],
   "source": [
    "boundaries"
   ]
  },
  {
   "cell_type": "code",
   "execution_count": 5,
   "metadata": {},
   "outputs": [
    {
     "data": {
      "text/plain": [
       "<matplotlib.axes._subplots.AxesSubplot at 0x1a266438d0>"
      ]
     },
     "execution_count": 5,
     "metadata": {},
     "output_type": "execute_result"
    },
    {
     "data": {
      "image/png": "[encoded data removed]",
      "text/plain": [
       "<Figure size 432x288 with 1 Axes>"
      ]
     },
     "metadata": {},
     "output_type": "display_data"
    }
   ],
   "source": [
    "boundaries.plot()"
   ]
  },
  {
   "cell_type": "markdown",
   "metadata": {},
   "source": [
    "### Voronoi tessellation finite_polygons\n",
    "Built a Voronoi tessellation from points"
   ]
  },
  {
   "cell_type": "code",
   "execution_count": 6,
   "metadata": {},
   "outputs": [],
   "source": [
    "from scipy.spatial import Voronoi\n",
    "from shapely.geometry import Polygon, Point"
   ]
  },
  {
   "cell_type": "code",
   "execution_count": 7,
   "metadata": {},
   "outputs": [],
   "source": [
    "def voronoi_finite_polygons_2d(vor, radius=None):\n",
    "    \"\"\"\n",
    "    Reconstruct infinite voronoi regions in a 2D diagram to finite\n",
    "    regions.\n",
    "\n",
    "    Parameters\n",
    "    ----------\n",
    "    vor : Voronoi\n",
    "        Input diagram\n",
    "    radius : float, optional\n",
    "        Distance to 'points at infinity'.\n",
    "\n",
    "    Returns\n",
    "    -------\n",
    "    regions : list of tuples\n",
    "        Indices of vertices in each revised Voronoi regions.\n",
    "    vertices : list of tuples\n",
    "        Coordinates for revised Voronoi vertices. Same as coordinates\n",
    "        of input vertices, with 'points at infinity' appended to the\n",
    "        end.\n",
    "\n",
    "    \"\"\"\n",
    "\n",
    "    if vor.points.shape[1] != 2:\n",
    "        raise ValueError(\"Requires 2D input\")\n",
    "\n",
    "    new_regions = []\n",
    "    new_vertices = vor.vertices.tolist()\n",
    "\n",
    "    center = vor.points.mean(axis=0)\n",
    "    if radius is None:\n",
    "        radius = vor.points.ptp().max()\n",
    "\n",
    "    # Construct a map containing all ridges for a given point\n",
    "    all_ridges = {}\n",
    "    for (p1, p2), (v1, v2) in zip(vor.ridge_points, vor.ridge_vertices):\n",
    "        all_ridges.setdefault(p1, []).append((p2, v1, v2))\n",
    "        all_ridges.setdefault(p2, []).append((p1, v1, v2))\n",
    "\n",
    "    # Reconstruct infinite regions\n",
    "    for p1, region in enumerate(vor.point_region):\n",
    "        vertices = vor.regions[region]\n",
    "\n",
    "        if all(v >= 0 for v in vertices):\n",
    "            # finite region\n",
    "            new_regions.append(vertices)\n",
    "            continue\n",
    "\n",
    "        # reconstruct a non-finite region\n",
    "        ridges = all_ridges[p1]\n",
    "        new_region = [v for v in vertices if v >= 0]\n",
    "\n",
    "        for p2, v1, v2 in ridges:\n",
    "            if v2 < 0:\n",
    "                v1, v2 = v2, v1\n",
    "            if v1 >= 0:\n",
    "                # finite ridge: already in the region\n",
    "                continue\n",
    "\n",
    "            # Compute the missing endpoint of an infinite ridge\n",
    "\n",
    "            t = vor.points[p2] - vor.points[p1] # tangent\n",
    "            t /= np.linalg.norm(t)\n",
    "            n = np.array([-t[1], t[0]])  # normal\n",
    "\n",
    "            midpoint = vor.points[[p1, p2]].mean(axis=0)\n",
    "            direction = np.sign(np.dot(midpoint - center, n)) * n\n",
    "            far_point = vor.vertices[v2] + direction * radius\n",
    "\n",
    "            new_region.append(len(new_vertices))\n",
    "            new_vertices.append(far_point.tolist())\n",
    "\n",
    "        # sort region counterclockwise\n",
    "        vs = np.asarray([new_vertices[v] for v in new_region])\n",
    "        c = vs.mean(axis=0)\n",
    "        angles = np.arctan2(vs[:,1] - c[1], vs[:,0] - c[0])\n",
    "        new_region = np.array(new_region)[np.argsort(angles)]\n",
    "\n",
    "        # finish\n",
    "        new_regions.append(new_region.tolist())\n",
    "\n",
    "    return new_regions, np.asarray(new_vertices)"
   ]
  },
  {
   "cell_type": "code",
   "execution_count": 8,
   "metadata": {},
   "outputs": [],
   "source": [
    "def voronoi_tesellation_box(boundary,lng,lat):\n",
    "    \"\"\"\n",
    "    Reconstruct infinite voronoi regions in a 2D diagram to finite\n",
    "    regions.\n",
    "    Parameters\n",
    "    ----------\n",
    "    boundary : GeoDataFrame, \n",
    "        Geometry of the country.\n",
    "    lng : GeoSeries, \n",
    "        Longitud values of points. \n",
    "    lat : GeoSeries, \n",
    "        Longitud values of points. \n",
    "    Returns\n",
    "    -------\n",
    "    voronoid : GeaoDataFrames\n",
    "        Geometries of Voronoi regions.\n",
    "    \"\"\"\n",
    "    # array with points coordinates\n",
    "    points = np.zeros((lng.shape[0],2))\n",
    "    points[:,0] = lng\n",
    "    points[:,1] = lat\n",
    "\n",
    "    # compute Voronoi tesselation\n",
    "    vor = Voronoi(points)\n",
    "    \n",
    "    # Reconstruct infinite voronoi regions in a 2D diagram to finite regions.\n",
    "    regions, vertices = voronoi_finite_polygons_2d(vor)\n",
    "    \n",
    "    # build box from country boundary\n",
    "    xmin = boundary.bounds.minx[0]\n",
    "    xmax = boundary.bounds.maxx[0]\n",
    "    ymin = boundary.bounds.miny[0]\n",
    "    ymax = boundary.bounds.maxy[0]\n",
    "\n",
    "    box = Polygon([[xmin, ymin], [xmin, ymax], [xmax, ymax], [xmax, ymin]])\n",
    "\n",
    "    voronoid = [] \n",
    "    for region in regions:\n",
    "        polygon = vertices[region]\n",
    "        # Clipping polygon\n",
    "        poly = Polygon(polygon)\n",
    "        voronoid.append(poly.intersection(box))\n",
    "        \n",
    "    voronoid = gpd.GeoDataFrame(geometry = voronoid)\n",
    "    \n",
    "    vor_lng = vor.points[:,0]\n",
    "    vor_lat = vor.points[:,1]\n",
    "    \n",
    "    voronoid['lng'] = vor_lng\n",
    "    voronoid['lat'] = vor_lat\n",
    "    \n",
    "    return voronoid    "
   ]
  },
  {
   "cell_type": "markdown",
   "metadata": {},
   "source": [
    "Intersect voronoid with boundary"
   ]
  },
  {
   "cell_type": "code",
   "execution_count": 9,
   "metadata": {},
   "outputs": [],
   "source": [
    "def spatial_overlays(df1, df2):\n",
    "    '''Compute overlay intersection of two \n",
    "        GeoPandasDataFrames df1 and df2\n",
    "    '''\n",
    "    df1 = df1.copy()\n",
    "    df2 = df2.copy()\n",
    "    df1['geometry'] = df1.geometry.buffer(0)\n",
    "    df2['geometry'] = df2.geometry.buffer(0)\n",
    "\n",
    "    # Spatial Index to create intersections\n",
    "    spatial_index = df2.sindex\n",
    "    df1['bbox'] = df1.geometry.apply(lambda x: x.bounds)\n",
    "    df1['histreg']=df1.bbox.apply(lambda x:list(spatial_index.intersection(x)))\n",
    "    pairs = df1['histreg'].to_dict()\n",
    "    nei = []\n",
    "    for i,j in pairs.items():\n",
    "        for k in j:\n",
    "            nei.append([i,k])\n",
    "        \n",
    "    pairs = gpd.GeoDataFrame(nei, columns=['idx1','idx2'], crs=df1.crs)\n",
    "    pairs = pairs.merge(df1, left_on='idx1', right_index=True)\n",
    "    pairs = pairs.merge(df2, left_on='idx2', right_index=True, suffixes=['_1','_2'])\n",
    "    pairs['Intersection'] = pairs.apply(lambda x: (x['geometry_1'].intersection(x['geometry_2'])).buffer(0), axis=1)\n",
    "    pairs = gpd.GeoDataFrame(pairs, columns=pairs.columns, crs=df1.crs)\n",
    "    cols = pairs.columns.tolist()\n",
    "    cols.remove('geometry_1')\n",
    "    cols.remove('geometry_2')\n",
    "    cols.remove('histreg')\n",
    "    cols.remove('bbox')\n",
    "    cols.remove('Intersection')\n",
    "    dfinter = pairs[cols+['Intersection']].copy()\n",
    "    dfinter.rename(columns={'Intersection':'geometry'}, inplace=True)\n",
    "    dfinter = gpd.GeoDataFrame(dfinter, columns=dfinter.columns, crs=pairs.crs)\n",
    "    dfinter = dfinter.loc[dfinter.geometry.is_empty==False]\n",
    "    dfinter.drop(['idx1','idx2'], axis=1, inplace=True)\n",
    "    return dfinter"
   ]
  },
  {
   "cell_type": "markdown",
   "metadata": {},
   "source": [
    "Intersect voronoid with boundary"
   ]
  },
  {
   "cell_type": "code",
   "execution_count": 10,
   "metadata": {},
   "outputs": [],
   "source": [
    "def spatial_overlays(df1, df2):\n",
    "    '''Compute overlay intersection of two \n",
    "        GeoPandasDataFrames df1 and df2\n",
    "    '''\n",
    "    df1 = df1.copy()\n",
    "    df2 = df2.copy()\n",
    "    df1['geometry'] = df1.geometry.buffer(0)\n",
    "    df2['geometry'] = df2.geometry.buffer(0)\n",
    "\n",
    "    # Spatial Index to create intersections\n",
    "    spatial_index = df2.sindex\n",
    "    df1['bbox'] = df1.geometry.apply(lambda x: x.bounds)\n",
    "    df1['histreg']=df1.bbox.apply(lambda x:list(spatial_index.intersection(x)))\n",
    "    pairs = df1['histreg'].to_dict()\n",
    "    nei = []\n",
    "    for i,j in pairs.items():\n",
    "        for k in j:\n",
    "            nei.append([i,k])\n",
    "        \n",
    "    pairs = gpd.GeoDataFrame(nei, columns=['idx1','idx2'], crs=df1.crs)\n",
    "    pairs = pairs.merge(df1, left_on='idx1', right_index=True)\n",
    "    pairs = pairs.merge(df2, left_on='idx2', right_index=True, suffixes=['_1','_2'])\n",
    "    pairs['Intersection'] = pairs.apply(lambda x: (x['geometry_1'].intersection(x['geometry_2'])).buffer(0), axis=1)\n",
    "    pairs = gpd.GeoDataFrame(pairs, columns=pairs.columns, crs=df1.crs)\n",
    "    cols = pairs.columns.tolist()\n",
    "    cols.remove('geometry_1')\n",
    "    cols.remove('geometry_2')\n",
    "    cols.remove('histreg')\n",
    "    cols.remove('bbox')\n",
    "    cols.remove('Intersection')\n",
    "    dfinter = pairs[cols+['Intersection']].copy()\n",
    "    dfinter.rename(columns={'Intersection':'geometry'}, inplace=True)\n",
    "    dfinter = gpd.GeoDataFrame(dfinter, columns=dfinter.columns, crs=pairs.crs)\n",
    "    dfinter = dfinter.loc[dfinter.geometry.is_empty==False]\n",
    "    dfinter.drop(['idx1','idx2'], axis=1, inplace=True)\n",
    "    return dfinter"
   ]
  },
  {
   "cell_type": "markdown",
   "metadata": {},
   "source": [
    "Convert empty GeometryCollection into Polygon"
   ]
  },
  {
   "cell_type": "code",
   "execution_count": 11,
   "metadata": {},
   "outputs": [],
   "source": [
    "def convert_GeometryCollection_Polygon(voronoid):\n",
    "    for i in range(len(voronoid)):\n",
    "        if voronoid.geometry.iloc[i].type == 'GeometryCollection':\n",
    "            x = voronoid.lng.iloc[i]\n",
    "            y = voronoid.lat.iloc[i]\n",
    "            polygon = Polygon([(x, y), (x+0.0001, y+0.0001), (x+0.0001, y)])\n",
    "            voronoid.geometry.iloc[i] = polygon\n",
    "   \n",
    "    return voronoid"
   ]
  },
  {
   "cell_type": "markdown",
   "metadata": {},
   "source": [
    "### FSP maps voronoid table"
   ]
  },
  {
   "cell_type": "code",
   "execution_count": 12,
   "metadata": {},
   "outputs": [
    {
     "name": "stderr",
     "output_type": "stream",
     "text": [
      "/anaconda3/lib/python3.6/site-packages/IPython/core/interactiveshell.py:2728: DtypeWarning: Columns (10) have mixed types. Specify dtype option on import or set low_memory=False.\n",
      "  interactivity=interactivity, compiler=compiler, result=result)\n"
     ]
    }
   ],
   "source": [
    "# Read table\n",
    "df = pd.read_csv('/Users/ikersanchez/Vizzuality/PROIEKTUAK/i2i/Data/FSP_Maps/FSP_maps.csv')"
   ]
  },
  {
   "cell_type": "code",
   "execution_count": 13,
   "metadata": {},
   "outputs": [
    {
     "name": "stdout",
     "output_type": "stream",
     "text": [
      "iso:  HTI\n",
      "type:  Commercial Bank\n",
      "type:  Cooperative\n"
     ]
    },
    {
     "name": "stderr",
     "output_type": "stream",
     "text": [
      "/anaconda3/lib/python3.6/site-packages/ipykernel_launcher.py:49: FutureWarning: Sorting because non-concatenation axis is not aligned. A future version\n",
      "of pandas will change to not sort by default.\n",
      "\n",
      "To accept the future behavior, pass 'sort=False'.\n",
      "\n",
      "To retain the current behavior and silence the warning, pass 'sort=True'.\n",
      "\n"
     ]
    },
    {
     "name": "stdout",
     "output_type": "stream",
     "text": [
      "type:  MFI\n",
      "type:  Mobile Network Operator\n"
     ]
    },
    {
     "name": "stderr",
     "output_type": "stream",
     "text": [
      "/anaconda3/lib/python3.6/site-packages/ipykernel_launcher.py:19: SettingWithCopyWarning: \n",
      "A value is trying to be set on a copy of a slice from a DataFrame\n",
      "\n",
      "See the caveats in the documentation: http://pandas.pydata.org/pandas-docs/stable/indexing.html#indexing-view-versus-copy\n",
      "/anaconda3/lib/python3.6/site-packages/pandas/core/indexing.py:189: SettingWithCopyWarning: \n",
      "A value is trying to be set on a copy of a slice from a DataFrame\n",
      "\n",
      "See the caveats in the documentation: http://pandas.pydata.org/pandas-docs/stable/indexing.html#indexing-view-versus-copy\n",
      "  self._setitem_with_indexer(indexer, value)\n",
      "/anaconda3/lib/python3.6/site-packages/ipykernel_launcher.py:20: SettingWithCopyWarning: \n",
      "A value is trying to be set on a copy of a slice from a DataFrame\n",
      "\n",
      "See the caveats in the documentation: http://pandas.pydata.org/pandas-docs/stable/indexing.html#indexing-view-versus-copy\n"
     ]
    }
   ],
   "source": [
    "#iso = ['BGD','IND','KEN','LSO','NGA','TZA','UGA', 'HTI']\n",
    "iso = ['HTI']\n",
    "df_vor = pd.DataFrame(columns=['geometry','lng','lat','iso','sector','type','type_id'])\n",
    "for country in iso:\n",
    "    print('iso: ', country)\n",
    "    boundary = gpd.GeoDataFrame(boundaries[boundaries['iso'] == country]['geometry'])\n",
    "    df_maps = df[df['iso'] == country]\n",
    "    for type in df_maps['type'].unique():\n",
    "        print('type: ', type)\n",
    "        lng = df_maps[df_maps['type'] == type]['lng']\n",
    "        lat = df_maps[df_maps['type'] == type]['lat']\n",
    "        \n",
    "        # exceptions\n",
    "        if (country == 'IND' and type == 'Bank Customer Service Points'):\n",
    "            lat.iloc[9265] = \"{0:.4f}\".format(lat.iloc[9265])\n",
    "        if (country == 'LSO' and type == 'Pos Terminals'):\n",
    "            lat.iloc[32] = \"{0:.4f}\".format(lat.iloc[32])\n",
    "        if (country == 'HTI' and type == 'Mobile Network Operator'):\n",
    "            lat.iloc[1326] = \"{0:.2f}\".format(lat.iloc[1326])\n",
    "            lat.iloc[1345] = \"{0:.2f}\".format(lat.iloc[1345])\n",
    "        \n",
    "        # we need at least 4 points \n",
    "        if len(lat) >= 4:   \n",
    "            voronoid = voronoi_tesellation_box(boundary,lng,lat)\n",
    "            voronoid['iso'] = country\n",
    "            voronoid['sector'] = df_maps[df_maps['type'] == type]['sector'].iloc[0]\n",
    "            voronoid['type'] = type \n",
    "            voronoid['type_id'] = df_maps[df_maps['type'] == type]['type_id'].iloc[0]\n",
    "    \n",
    "            # Coordinate reference system : WGS84\n",
    "            voronoid.crs = {'init': 'epsg:4326'}\n",
    "            \n",
    "            # Remove empty GeometryCollections if any\n",
    "            if 'GeometryCollection' in voronoid.geometry.type.unique() :\n",
    "                voronoid = convert_GeometryCollection_Polygon(voronoid)\n",
    "                \n",
    "            voronoid = spatial_overlays(voronoid, boundary)\n",
    "            voronoid = voronoid[['geometry','lng','lat','iso','sector','type','type_id']]\n",
    "        else:\n",
    "            voronoid = pd.DataFrame(columns=['geometry','lng','lat','sector','type','type_id'])\n",
    "            voronoid['lng'] = lng\n",
    "            voronoid['lat'] = lat\n",
    "            voronoid['geometry'] = ''\n",
    "            voronoid['iso'] = country\n",
    "            voronoid['sector'] = df_maps[df_maps['type'] == type]['sector'].iloc[0]\n",
    "            voronoid['type'] = type \n",
    "            voronoid['type_id'] = df_maps[df_maps['type'] == type]['type_id'].iloc[0]              \n",
    "    \n",
    "        df_vor = pd.concat([df_vor,voronoid])\n",
    "        \n",
    "        # Save table\n",
    "        df_vor.reset_index(drop=True, inplace=True)\n",
    "        df_vor = df_vor[['geometry', 'iso', 'sector', 'type', 'type_id']]\n",
    "        df_vor.to_csv('/Users/ikersanchez/Vizzuality/PROIEKTUAK/i2i/Data/FSP_Maps/FSP_voronoid_'+country.lower()+'.csv')"
   ]
  },
  {
   "cell_type": "code",
   "execution_count": null,
   "metadata": {},
   "outputs": [],
   "source": []
  }
 ],
 "metadata": {
  "kernelspec": {
   "display_name": "Python 3",
   "language": "python",
   "name": "python3"
  },
  "language_info": {
   "codemirror_mode": {
    "name": "ipython",
    "version": 3
   },
   "file_extension": ".py",
   "mimetype": "text/x-python",
   "name": "python",
   "nbconvert_exporter": "python",
   "pygments_lexer": "ipython3",
   "version": "3.6.4"
  }
 },
 "nbformat": 4,
 "nbformat_minor": 2
}
