{
 "cells": [
  {
   "cell_type": "code",
   "execution_count": 90,
   "metadata": {},
   "outputs": [],
   "source": [
    "import numpy as np\n",
    "import json\n",
    "import pandas as pd\n",
    "import geopandas as gpd\n",
    "import rasterio\n",
    "from rasterstats import zonal_stats\n",
    "import requests\n",
    "import pprint\n",
    "from iso3166 import countries_by_name\n",
    "from shapely.ops import cascaded_union\n",
    "from shapely.geometry import Point\n",
    "import matplotlib.pyplot as plt\n",
    "%matplotlib inline  "
   ]
  },
  {
   "cell_type": "markdown",
   "metadata": {},
   "source": [
    "***"
   ]
  },
  {
   "cell_type": "markdown",
   "metadata": {},
   "source": [
    "# AidData"
   ]
  },
  {
   "cell_type": "markdown",
   "metadata": {},
   "source": [
    "** Democratic Republic of the Congo **"
   ]
  },
  {
   "cell_type": "code",
   "execution_count": null,
   "metadata": {},
   "outputs": [],
   "source": [
    "DRC_locations = pd.read_csv('/Users/ikersanchez/Vizzuality/PROIEKTUAK/i2i/Data/Contextual_Layers/AidData/DRC-AIMS_GeocodedResearchRelease_Level1_v1.3.1/data/locations.csv')\n",
    "DRC_projects = pd.read_csv('/Users/ikersanchez/Vizzuality/PROIEKTUAK/i2i/Data/Contextual_Layers/AidData/DRC-AIMS_GeocodedResearchRelease_Level1_v1.3.1/data/projects.csv')\n",
    "DRC_transactions = pd.read_csv('/Users/ikersanchez/Vizzuality/PROIEKTUAK/i2i/Data/Contextual_Layers/AidData/DRC-AIMS_GeocodedResearchRelease_Level1_v1.3.1/data/transactions.csv')"
   ]
  },
  {
   "cell_type": "code",
   "execution_count": null,
   "metadata": {},
   "outputs": [],
   "source": [
    "DRC_locations = DRC_locations[['project_id', 'latitude', 'longitude', 'gazetteer_adm_name']]\n",
    "DRC_projects = DRC_projects[['project_id','project_title','donors', 'donors_iso3', 'recipients', 'recipients_iso3','ad_sector_names', 'status', 'transactions_start_year', 'transactions_end_year', 'total_commitments']]\n",
    "DRC_transactions = DRC_transactions[['project_id','transaction_year', 'transaction_currency', 'transaction_value']]"
   ]
  },
  {
   "cell_type": "code",
   "execution_count": null,
   "metadata": {},
   "outputs": [],
   "source": [
    "DRC_transactions = pd.merge(DRC_transactions, DRC_projects, how='left', on='project_id')\n",
    "DRC_transactions = pd.merge(DRC_transactions, DRC_locations, how='left', on='project_id')\n",
    "DRC_transactions.dropna(inplace=True)"
   ]
  },
  {
   "cell_type": "markdown",
   "metadata": {},
   "source": [
    "** Nigeria **"
   ]
  },
  {
   "cell_type": "code",
   "execution_count": null,
   "metadata": {},
   "outputs": [],
   "source": [
    "Nigeria_locations = pd.read_csv('/Users/ikersanchez/Vizzuality/PROIEKTUAK/i2i/Data/Contextual_Layers/AidData/NigeriaAIMS_GeocodedResearchRelease_Level1_v1.3.1/data/locations.csv')\n",
    "Nigeria_projects = pd.read_csv('/Users/ikersanchez/Vizzuality/PROIEKTUAK/i2i/Data/Contextual_Layers/AidData/NigeriaAIMS_GeocodedResearchRelease_Level1_v1.3.1/data/projects.csv')\n",
    "Nigeria_transactions = pd.read_csv('/Users/ikersanchez/Vizzuality/PROIEKTUAK/i2i/Data/Contextual_Layers/AidData/NigeriaAIMS_GeocodedResearchRelease_Level1_v1.3.1/data/transactions.csv')"
   ]
  },
  {
   "cell_type": "code",
   "execution_count": null,
   "metadata": {},
   "outputs": [],
   "source": [
    "Nigeria_locations = Nigeria_locations[['project_id', 'latitude', 'longitude', 'gazetteer_adm_name']]\n",
    "Nigeria_projects = Nigeria_projects[['project_id','project_title','donors', 'donors_iso3', 'recipients', 'recipients_iso3','ad_sector_names', 'status', 'transactions_start_year', 'transactions_end_year', 'total_commitments']]\n",
    "Nigeria_transactions = Nigeria_transactions[['project_id','transaction_year', 'transaction_currency', 'transaction_value']]"
   ]
  },
  {
   "cell_type": "code",
   "execution_count": null,
   "metadata": {},
   "outputs": [],
   "source": [
    "Nigeria_transactions = pd.merge(Nigeria_transactions, Nigeria_projects, how='left', on='project_id')\n",
    "Nigeria_transactions = pd.merge(Nigeria_transactions, Nigeria_locations, how='left', on='project_id')\n",
    "Nigeria_transactions.dropna(inplace=True)"
   ]
  },
  {
   "cell_type": "markdown",
   "metadata": {},
   "source": [
    "** Senegal **"
   ]
  },
  {
   "cell_type": "code",
   "execution_count": null,
   "metadata": {},
   "outputs": [],
   "source": [
    "Senegal_locations = pd.read_csv('/Users/ikersanchez/Vizzuality/PROIEKTUAK/i2i/Data/Contextual_Layers/AidData/SenegalAIMS_geocodedresearchrelease_level1_v1.5.1/data/locations.csv')\n",
    "Senegal_projects = pd.read_csv('/Users/ikersanchez/Vizzuality/PROIEKTUAK/i2i/Data/Contextual_Layers/AidData/SenegalAIMS_geocodedresearchrelease_level1_v1.5.1/data/projects.csv')\n",
    "Senegal_transactions = pd.read_csv('/Users/ikersanchez/Vizzuality/PROIEKTUAK/i2i/Data/Contextual_Layers/AidData/SenegalAIMS_geocodedresearchrelease_level1_v1.5.1/data/transactions.csv')"
   ]
  },
  {
   "cell_type": "code",
   "execution_count": null,
   "metadata": {},
   "outputs": [],
   "source": [
    "Senegal_locations = Senegal_locations[['project_id', 'latitude', 'longitude', 'gazetteer_adm_name']]\n",
    "Senegal_projects = Senegal_projects[['project_id','project_title','donors', 'donors_iso3', 'recipients', 'recipients_iso3','ad_sector_names', 'status', 'transactions_start_year', 'transactions_end_year', 'total_commitments']]\n",
    "Senegal_transactions = Senegal_transactions[['project_id','transaction_year', 'transaction_currency', 'transaction_value']]"
   ]
  },
  {
   "cell_type": "code",
   "execution_count": null,
   "metadata": {},
   "outputs": [],
   "source": [
    "Senegal_transactions = pd.merge(Senegal_transactions, Senegal_projects, how='left', on='project_id')\n",
    "Senegal_transactions = pd.merge(Senegal_transactions, Senegal_locations, how='left', on='project_id')\n",
    "Senegal_transactions.dropna(inplace=True)"
   ]
  },
  {
   "cell_type": "markdown",
   "metadata": {},
   "source": [
    "** Sierra Leone **"
   ]
  },
  {
   "cell_type": "code",
   "execution_count": null,
   "metadata": {},
   "outputs": [],
   "source": [
    "SierraLeone_locations = pd.read_csv('/Users/ikersanchez/Vizzuality/PROIEKTUAK/i2i/Data/Contextual_Layers/AidData/SierraLeoneAIMS_geocodedresearchrelease_level1_v1.0.0/data/locations.csv')\n",
    "SierraLeone_projects = pd.read_csv('/Users/ikersanchez/Vizzuality/PROIEKTUAK/i2i/Data/Contextual_Layers/AidData/SierraLeoneAIMS_geocodedresearchrelease_level1_v1.0.0/data/projects.csv')\n",
    "SierraLeone_transactions = pd.read_csv('/Users/ikersanchez/Vizzuality/PROIEKTUAK/i2i/Data/Contextual_Layers/AidData/SierraLeoneAIMS_geocodedresearchrelease_level1_v1.0.0/data/transactions.csv')"
   ]
  },
  {
   "cell_type": "code",
   "execution_count": null,
   "metadata": {},
   "outputs": [],
   "source": [
    "SierraLeone_locations = SierraLeone_locations[['project_id', 'latitude', 'longitude', 'gazetteer_adm_name']]\n",
    "SierraLeone_projects = SierraLeone_projects[['project_id','project_title','donors', 'donors_iso3', 'recipients', 'recipients_iso3','ad_sector_names', 'status', 'transactions_start_year', 'transactions_end_year', 'total_commitments']]\n",
    "SierraLeone_transactions = SierraLeone_transactions[['project_id','transaction_year', 'transaction_currency', 'transaction_value']]"
   ]
  },
  {
   "cell_type": "code",
   "execution_count": null,
   "metadata": {},
   "outputs": [],
   "source": [
    "SierraLeone_transactions = pd.merge(SierraLeone_transactions, SierraLeone_projects, how='left', on='project_id')\n",
    "SierraLeone_transactions = pd.merge(SierraLeone_transactions, SierraLeone_locations, how='left', on='project_id')\n",
    "SierraLeone_transactions.dropna(inplace=True)"
   ]
  },
  {
   "cell_type": "markdown",
   "metadata": {},
   "source": [
    "** Somalia ** "
   ]
  },
  {
   "cell_type": "code",
   "execution_count": null,
   "metadata": {},
   "outputs": [],
   "source": [
    "Somalia_locations = pd.read_csv('/Users/ikersanchez/Vizzuality/PROIEKTUAK/i2i/Data/Contextual_Layers/AidData/SomaliaAIMS_GeocodedResearchRelease_Level1_v1.1.1/data/locations.csv')\n",
    "Somalia_projects = pd.read_csv('/Users/ikersanchez/Vizzuality/PROIEKTUAK/i2i/Data/Contextual_Layers/AidData/SomaliaAIMS_GeocodedResearchRelease_Level1_v1.1.1/data/projects.csv')\n",
    "Somalia_transactions = pd.read_csv('/Users/ikersanchez/Vizzuality/PROIEKTUAK/i2i/Data/Contextual_Layers/AidData/SomaliaAIMS_GeocodedResearchRelease_Level1_v1.1.1/data/transactions.csv')"
   ]
  },
  {
   "cell_type": "code",
   "execution_count": null,
   "metadata": {},
   "outputs": [],
   "source": [
    "Somalia_locations = Somalia_locations[['project_id', 'latitude', 'longitude', 'gazetteer_adm_name']]\n",
    "Somalia_projects = Somalia_projects[['project_id','project_title','donors', 'donors_iso3', 'recipients', 'recipients_iso3','ad_sector_names', 'status', 'transactions_start_year', 'transactions_end_year', 'total_commitments']]\n",
    "Somalia_transactions = Somalia_transactions[['project_id','transaction_year', 'transaction_currency', 'transaction_value']]"
   ]
  },
  {
   "cell_type": "code",
   "execution_count": null,
   "metadata": {},
   "outputs": [],
   "source": [
    "Somalia_transactions = pd.merge(Somalia_transactions, Somalia_projects, how='left', on='project_id')\n",
    "Somalia_transactions = pd.merge(Somalia_transactions, Somalia_locations, how='left', on='project_id')\n",
    "Somalia_transactions.dropna(inplace=True)"
   ]
  },
  {
   "cell_type": "markdown",
   "metadata": {},
   "source": [
    "** Uganda **"
   ]
  },
  {
   "cell_type": "code",
   "execution_count": null,
   "metadata": {},
   "outputs": [],
   "source": [
    "Uganda_locations = pd.read_csv('/Users/ikersanchez/Vizzuality/PROIEKTUAK/i2i/Data/Contextual_Layers/AidData/UgandaAIMS_GeocodedResearchRelease_Level1_v1.4.1/data/locations.csv')\n",
    "Uganda_projects = pd.read_csv('/Users/ikersanchez/Vizzuality/PROIEKTUAK/i2i/Data/Contextual_Layers/AidData/UgandaAIMS_GeocodedResearchRelease_Level1_v1.4.1/data/projects.csv')\n",
    "Uganda_transactions = pd.read_csv('/Users/ikersanchez/Vizzuality/PROIEKTUAK/i2i/Data/Contextual_Layers/AidData/UgandaAIMS_GeocodedResearchRelease_Level1_v1.4.1/data/transactions.csv')"
   ]
  },
  {
   "cell_type": "code",
   "execution_count": null,
   "metadata": {},
   "outputs": [],
   "source": [
    "Uganda_locations = Uganda_locations[['project_id', 'latitude', 'longitude', 'gazetteer_adm_name']]\n",
    "Uganda_projects = Uganda_projects[['project_id','project_title','donors', 'donors_iso3', 'recipients', 'recipients_iso3','ad_sector_names', 'status', 'transactions_start_year', 'transactions_end_year', 'total_commitments']]\n",
    "Uganda_transactions = Uganda_transactions[['project_id','transaction_year', 'transaction_currency', 'transaction_value']]"
   ]
  },
  {
   "cell_type": "code",
   "execution_count": null,
   "metadata": {},
   "outputs": [],
   "source": [
    "Uganda_transactions = pd.merge(Uganda_transactions, Uganda_projects, how='left', on='project_id')\n",
    "Uganda_transactions = pd.merge(Uganda_transactions, Uganda_locations, how='left', on='project_id')\n",
    "Uganda_transactions.dropna(inplace=True)"
   ]
  },
  {
   "cell_type": "markdown",
   "metadata": {},
   "source": [
    "** Final table **"
   ]
  },
  {
   "cell_type": "code",
   "execution_count": null,
   "metadata": {},
   "outputs": [],
   "source": [
    "AidData_transactions = pd.concat([DRC_transactions,Nigeria_transactions,Senegal_transactions,\n",
    "                                 SierraLeone_transactions,Somalia_transactions,Uganda_transactions])"
   ]
  },
  {
   "cell_type": "code",
   "execution_count": null,
   "metadata": {},
   "outputs": [],
   "source": [
    "AidData_transactions['lat'] = AidData_transactions['latitude'].apply(lambda x: float('{:10.4f}'.format(x)))\n",
    "AidData_transactions['lng'] = AidData_transactions['longitude'].apply(lambda x: float('{:10.4f}'.format(x)))"
   ]
  },
  {
   "cell_type": "code",
   "execution_count": null,
   "metadata": {},
   "outputs": [],
   "source": [
    "AidData_transactions.drop(columns = ['latitude','longitude'], inplace=True)"
   ]
  },
  {
   "cell_type": "code",
   "execution_count": null,
   "metadata": {},
   "outputs": [],
   "source": [
    "AidData_transactions.head()"
   ]
  },
  {
   "cell_type": "markdown",
   "metadata": {},
   "source": [
    "Boundaries"
   ]
  },
  {
   "cell_type": "code",
   "execution_count": null,
   "metadata": {},
   "outputs": [],
   "source": [
    "countries = gpd.read_file('/Users/ikersanchez/Vizzuality/DATA/all_countries/all_countries.shp')\n",
    "# COD border\n",
    "border_mask = countries['iso_a3'] == 'COD'\n",
    "COD_border = countries[border_mask]\n",
    "# NGA border\n",
    "border_mask = countries['iso_a3'] == 'NGA'\n",
    "NGA_border = countries[border_mask]\n",
    "# SEN border\n",
    "border_mask = countries['iso_a3'] == 'SEN'\n",
    "SEN_border = countries[border_mask]\n",
    "# SLE border\n",
    "border_mask = countries['iso_a3'] == 'SLE'\n",
    "SLE_border = countries[border_mask]\n",
    "# SOM border\n",
    "border_mask = countries['iso_a3'] == 'SOM'\n",
    "SOM_border = countries[border_mask]\n",
    "# UGA border\n",
    "border_mask = countries['iso_a3'] == 'UGA'\n",
    "UGA_border = countries[border_mask]\n",
    "# All\n",
    "borders = pd.concat([COD_border,NGA_border,SEN_border,SLE_border,SOM_border,UGA_border])"
   ]
  },
  {
   "cell_type": "code",
   "execution_count": null,
   "metadata": {},
   "outputs": [],
   "source": [
    "fig, ax = plt.subplots(figsize=[12,12])\n",
    "ax.set_aspect('equal')\n",
    "\n",
    "borders.plot(ax=ax, color='white', edgecolor='black')\n",
    "AidData_transactions.plot(ax=ax, x='lng', y='lat', kind='scatter', s=8)"
   ]
  },
  {
   "cell_type": "markdown",
   "metadata": {},
   "source": [
    "Remove the points outside the countries"
   ]
  },
  {
   "cell_type": "code",
   "execution_count": null,
   "metadata": {},
   "outputs": [],
   "source": [
    "points = []\n",
    "for i in range(len(AidData_transactions)):\n",
    "    x = AidData_transactions['lng'].iloc[i]\n",
    "    y = AidData_transactions['lat'].iloc[i]\n",
    "    points.append(Point(x,y))\n",
    "AidData_transactions['geometry'] = points"
   ]
  },
  {
   "cell_type": "code",
   "execution_count": null,
   "metadata": {},
   "outputs": [],
   "source": [
    "# Coordinate reference system : WGS84\n",
    "AidData_transactions.crs  = {'init': 'epsg:4326'}"
   ]
  },
  {
   "cell_type": "code",
   "execution_count": null,
   "metadata": {},
   "outputs": [],
   "source": [
    "# Remove points outside countries\n",
    "AidData_transactions = gpd.sjoin(AidData_transactions, borders, how='inner', op='intersects')"
   ]
  },
  {
   "cell_type": "code",
   "execution_count": null,
   "metadata": {},
   "outputs": [],
   "source": [
    "fig, ax = plt.subplots(figsize=[12,12])\n",
    "ax.set_aspect('equal')\n",
    "\n",
    "borders.plot(ax=ax, color='white', edgecolor='black')\n",
    "AidData_transactions.plot(ax=ax, x='lng', y='lat', kind='scatter', s=8)"
   ]
  },
  {
   "cell_type": "code",
   "execution_count": null,
   "metadata": {},
   "outputs": [],
   "source": [
    "# Save table\n",
    "AidData_transactions.to_csv('/Users/ikersanchez/Vizzuality/PROIEKTUAK/i2i/Data/cartodb/AidData_transactions.csv')"
   ]
  },
  {
   "cell_type": "markdown",
   "metadata": {},
   "source": [
    "*** "
   ]
  },
  {
   "cell_type": "markdown",
   "metadata": {},
   "source": [
    "# HumanDataExchange"
   ]
  },
  {
   "cell_type": "markdown",
   "metadata": {},
   "source": [
    "** KENYA,\n",
    "NIGERIA,\n",
    "TANZANIA,\n",
    "UGANDA **"
   ]
  },
  {
   "cell_type": "markdown",
   "metadata": {},
   "source": [
    "## Africa"
   ]
  },
  {
   "cell_type": "markdown",
   "metadata": {},
   "source": [
    "### Electrical Grid"
   ]
  },
  {
   "cell_type": "code",
   "execution_count": null,
   "metadata": {},
   "outputs": [],
   "source": [
    "africa_grid = gpd.read_file('/Users/ikersanchez/Vizzuality/PROIEKTUAK/i2i/Data/Contextual_Layers/HumanDataExchange/Africa/Electrical Grid/africagrid20170504/africa_grid_20170906final.shp')"
   ]
  },
  {
   "cell_type": "code",
   "execution_count": null,
   "metadata": {},
   "outputs": [],
   "source": [
    "africa_grid.head()"
   ]
  },
  {
   "cell_type": "code",
   "execution_count": null,
   "metadata": {},
   "outputs": [],
   "source": [
    "africa_grid.plot()"
   ]
  },
  {
   "cell_type": "markdown",
   "metadata": {},
   "source": [
    "** Uganda **"
   ]
  },
  {
   "cell_type": "code",
   "execution_count": null,
   "metadata": {},
   "outputs": [],
   "source": [
    "uganda_grid = africa_grid[africa_grid['country'] == 'Uganda']\n",
    "# UGA boundary\n",
    "border_mask = countries['iso_a3'] == 'UGA'\n",
    "uganda_boundary = countries[border_mask]"
   ]
  },
  {
   "cell_type": "code",
   "execution_count": null,
   "metadata": {},
   "outputs": [],
   "source": [
    "# Coordinate reference system : WGS84\n",
    "uganda_grid.crs  = {'init': 'epsg:4326'}\n",
    "uganda_boundary.crs  = {'init': 'epsg:4326'}"
   ]
  },
  {
   "cell_type": "code",
   "execution_count": null,
   "metadata": {},
   "outputs": [],
   "source": [
    "fig, ax = plt.subplots(figsize=[8,8])\n",
    "ax.set_aspect('equal')\n",
    "\n",
    "uganda_boundary.plot(ax=ax, color='white', edgecolor='black')\n",
    "uganda_grid.plot(ax=ax, color='r')"
   ]
  },
  {
   "cell_type": "markdown",
   "metadata": {},
   "source": [
    "** Final table **"
   ]
  },
  {
   "cell_type": "code",
   "execution_count": null,
   "metadata": {},
   "outputs": [],
   "source": [
    "# Drop columns\n",
    "africa_grid.drop(columns=['from','to'], inplace=True)"
   ]
  },
  {
   "cell_type": "code",
   "execution_count": null,
   "metadata": {},
   "outputs": [],
   "source": [
    "# Add year\n",
    "africa_grid['year'] = '2017'"
   ]
  },
  {
   "cell_type": "code",
   "execution_count": null,
   "metadata": {},
   "outputs": [],
   "source": [
    "# Add iso\n",
    "africa_grid = pd.merge(africa_grid, countries, how='left', on='country')\n",
    "africa_grid['iso'] = africa_grid['iso3']\n",
    "africa_grid.drop(columns='iso3', inplace=True)"
   ]
  },
  {
   "cell_type": "code",
   "execution_count": null,
   "metadata": {},
   "outputs": [],
   "source": [
    "# Reorder columns\n",
    "africa_grid = africa_grid[['status','source','operator','voltage_kV','length_km','iso','country','year','geometry']]"
   ]
  },
  {
   "cell_type": "code",
   "execution_count": null,
   "metadata": {},
   "outputs": [],
   "source": [
    "africa_grid.head()"
   ]
  },
  {
   "cell_type": "code",
   "execution_count": null,
   "metadata": {},
   "outputs": [],
   "source": [
    "# Save table\n",
    "africa_grid.to_csv('/Users/ikersanchez/Vizzuality/PROIEKTUAK/i2i/Data/cartodb/electrical_grid.csv')"
   ]
  },
  {
   "cell_type": "markdown",
   "metadata": {},
   "source": [
    "***"
   ]
  },
  {
   "cell_type": "markdown",
   "metadata": {},
   "source": [
    "# Mobile Coverage"
   ]
  },
  {
   "cell_type": "markdown",
   "metadata": {},
   "source": [
    "** INDIA,\n",
    "BANGLADESH,\n",
    "KENYA,\n",
    "NIGERIA,\n",
    "TANZANIA,\n",
    "UGANDA **"
   ]
  },
  {
   "cell_type": "markdown",
   "metadata": {},
   "source": [
    "Mobile Coverage Explorer is a representation of areas covered by mobile networks around the world. It is supplied as polygon data which has been created from submissions made directly to Collins Bartholomew or the GSMA from network operators who provide roaming detail for inclusion in the GSMA’s Roaming and Coverage Maps web application.\n",
    "\n",
    "The coverage data is supplied as three separate files:\n",
    "\n",
    "- Global_GSM_<date> which is a representation of the GSM (2G) network submitted by operators. \n",
    "- Global_3G_<date> which is a representation of the 3G network submitted by operators. \n",
    "- Global_4G_<date> which is a representation of the 4G network submitted by operators."
   ]
  },
  {
   "cell_type": "markdown",
   "metadata": {},
   "source": [
    "### Read country maps"
   ]
  },
  {
   "cell_type": "code",
   "execution_count": null,
   "metadata": {},
   "outputs": [],
   "source": [
    "# India\n",
    "indMap = gpd.read_file('/Users/ikersanchez/Vizzuality/PROIEKTUAK/i2i/Data/gadm36_shp/gadm36_IND.shp')\n",
    "# Get Uttar Pradesh and Bihar states\n",
    "indMapStates = indMap[(indMap['NAME_1'] == 'Uttar Pradesh') | (indMap['NAME_1'] == 'Bihar')]\n",
    "\n",
    "# Kenya\n",
    "kenMap = gpd.read_file('/Users/ikersanchez/Vizzuality/PROIEKTUAK/i2i/Data/gadm36_shp/gadm36_KEN.shp')\n",
    "\n",
    "# Uganda\n",
    "ugaMap = gpd.read_file('/Users/ikersanchez/Vizzuality/PROIEKTUAK/i2i/Data/gadm36_shp/gadm36_UGA.shp')\n",
    "\n",
    "# Bangladesh\n",
    "bgdMap = gpd.read_file('/Users/ikersanchez/Vizzuality/PROIEKTUAK/i2i/Data/gadm36_shp/gadm36_BGD.shp')\n",
    "\n",
    "# Nigeria\n",
    "ngaMap = gpd.read_file('/Users/ikersanchez/Vizzuality/PROIEKTUAK/i2i/Data/gadm36_shp/gadm36_NGA.shp')\n",
    "\n",
    "# Tanzania\n",
    "tzaMap = gpd.read_file('/Users/ikersanchez/Vizzuality/PROIEKTUAK/i2i/Data/gadm36_shp/gadm36_TZA.shp')"
   ]
  },
  {
   "cell_type": "code",
   "execution_count": null,
   "metadata": {},
   "outputs": [],
   "source": [
    "# Get the boundary of each country\n",
    "indBoundary = gpd.GeoSeries(cascaded_union(indMapStates['geometry']))\n",
    "indBoundary = gpd.GeoDataFrame(indBoundary).rename(columns={0: 'geometry'})\n",
    "indBoundary['country'] = 'India'\n",
    "indBoundary['iso'] = 'IND'\n",
    "\n",
    "kenBoundary = gpd.GeoSeries(cascaded_union(kenMap['geometry']))\n",
    "kenBoundary = gpd.GeoDataFrame(kenBoundary).rename(columns={0: 'geometry'})\n",
    "kenBoundary['country'] = 'Kenya'\n",
    "kenBoundary['iso'] = 'KEN'\n",
    "\n",
    "ugaBoundary = gpd.GeoSeries(cascaded_union(ugaMap['geometry']))\n",
    "ugaBoundary = gpd.GeoDataFrame(ugaBoundary).rename(columns={0: 'geometry'})\n",
    "ugaBoundary['country'] = 'Uganda'\n",
    "ugaBoundary['iso'] = 'UGA'\n",
    "\n",
    "bgdBoundary = gpd.GeoSeries(cascaded_union(bgdMap['geometry']))\n",
    "bgdBoundary = gpd.GeoDataFrame(bgdBoundary).rename(columns={0: 'geometry'})\n",
    "bgdBoundary['country'] = 'Bangladesh'\n",
    "bgdBoundary['iso'] = 'BGD'\n",
    "\n",
    "ngaBoundary = gpd.GeoSeries(cascaded_union(ngaMap['geometry']))\n",
    "ngaBoundary = gpd.GeoDataFrame(ngaBoundary).rename(columns={0: 'geometry'})\n",
    "ngaBoundary['country'] = 'Nigeria'\n",
    "ngaBoundary['iso'] = 'NGA'\n",
    "\n",
    "tzaBoundary = gpd.GeoSeries(cascaded_union(tzaMap['geometry']))\n",
    "tzaBoundary = gpd.GeoDataFrame(tzaBoundary).rename(columns={0: 'geometry'})\n",
    "tzaBoundary['country'] = 'Tanzania'\n",
    "tzaBoundary['iso'] = 'TZA'\n",
    "\n",
    "boundaries = gpd.GeoDataFrame(pd.concat([indBoundary,kenBoundary,ugaBoundary,bgdBoundary,ngaBoundary,tzaBoundary]))"
   ]
  },
  {
   "cell_type": "code",
   "execution_count": null,
   "metadata": {},
   "outputs": [],
   "source": [
    "boundaries.head()"
   ]
  },
  {
   "cell_type": "markdown",
   "metadata": {},
   "source": [
    "### Global GSM"
   ]
  },
  {
   "cell_type": "code",
   "execution_count": null,
   "metadata": {},
   "outputs": [],
   "source": []
  },
  {
   "cell_type": "markdown",
   "metadata": {},
   "source": [
    "### Global 3G"
   ]
  },
  {
   "cell_type": "code",
   "execution_count": null,
   "metadata": {},
   "outputs": [],
   "source": [
    "global_3d = gpd.read_file('/Users/ikersanchez/Vizzuality/PROIEKTUAK/i2i/Data/Contextual_Layers/Mobile Coverage Explorer WGS84 v201712 - ESRI SHAPE/ReducedData/Global_3G_201712/Global_3G_201712.shp')"
   ]
  },
  {
   "cell_type": "code",
   "execution_count": null,
   "metadata": {},
   "outputs": [],
   "source": [
    "# GROP COLUMN\n",
    "global_3d.drop(columns='FID', inplace=True)"
   ]
  },
  {
   "cell_type": "code",
   "execution_count": null,
   "metadata": {},
   "outputs": [],
   "source": [
    "# Add year\n",
    "global_3d['year'] = '2017'"
   ]
  },
  {
   "cell_type": "code",
   "execution_count": null,
   "metadata": {},
   "outputs": [],
   "source": [
    "global_3d.head()"
   ]
  },
  {
   "cell_type": "code",
   "execution_count": null,
   "metadata": {},
   "outputs": [],
   "source": [
    "global_3d.crs"
   ]
  },
  {
   "cell_type": "code",
   "execution_count": null,
   "metadata": {},
   "outputs": [],
   "source": [
    "fig, ax = plt.subplots(figsize=[12,12])\n",
    "ax.set_aspect('equal')\n",
    "\n",
    "boundaries.plot(ax=ax, color='white', edgecolor='black')\n",
    "global_3d.plot(ax=ax)"
   ]
  },
  {
   "cell_type": "code",
   "execution_count": null,
   "metadata": {},
   "outputs": [],
   "source": [
    "global_3d=gpd.overlay(gpd.GeoDataFrame(global_3d), boundaries, how='intersection')"
   ]
  },
  {
   "cell_type": "code",
   "execution_count": null,
   "metadata": {},
   "outputs": [],
   "source": []
  },
  {
   "cell_type": "code",
   "execution_count": null,
   "metadata": {},
   "outputs": [],
   "source": [
    "# Save table\n",
    "global_3d.to_csv('/Users/ikersanchez/Vizzuality/PROIEKTUAK/i2i/Data/cartodb/mobile_coverage_global_3d.csv')"
   ]
  },
  {
   "cell_type": "markdown",
   "metadata": {},
   "source": [
    "### Global 4G"
   ]
  },
  {
   "cell_type": "code",
   "execution_count": null,
   "metadata": {},
   "outputs": [],
   "source": [
    "global_4d = gpd.read_file('/Users/ikersanchez/Vizzuality/PROIEKTUAK/i2i/Data/Contextual_Layers/Mobile Coverage Explorer WGS84 v201712 - ESRI SHAPE/ReducedData/Global_4G_201712/Global_4G_201712.shp')"
   ]
  },
  {
   "cell_type": "code",
   "execution_count": null,
   "metadata": {},
   "outputs": [],
   "source": [
    "# GROP COLUMN\n",
    "global_4d.drop(columns='FID', inplace=True)"
   ]
  },
  {
   "cell_type": "code",
   "execution_count": null,
   "metadata": {},
   "outputs": [],
   "source": [
    "# Add year\n",
    "global_4d['year'] = '2017'"
   ]
  },
  {
   "cell_type": "code",
   "execution_count": null,
   "metadata": {},
   "outputs": [],
   "source": [
    "global_4d.head()"
   ]
  },
  {
   "cell_type": "code",
   "execution_count": null,
   "metadata": {},
   "outputs": [],
   "source": [
    "global_4d.crs"
   ]
  },
  {
   "cell_type": "code",
   "execution_count": null,
   "metadata": {},
   "outputs": [],
   "source": [
    "global_4d.plot()"
   ]
  },
  {
   "cell_type": "code",
   "execution_count": null,
   "metadata": {},
   "outputs": [],
   "source": [
    "# Save table\n",
    "global_4d.to_csv('/Users/ikersanchez/Vizzuality/PROIEKTUAK/i2i/Data/cartodb/mobile_coverage_global_4d.csv')"
   ]
  },
  {
   "cell_type": "markdown",
   "metadata": {},
   "source": [
    "***"
   ]
  },
  {
   "cell_type": "markdown",
   "metadata": {},
   "source": [
    "# Urban Areas"
   ]
  },
  {
   "cell_type": "markdown",
   "metadata": {},
   "source": [
    "** INDIA,\n",
    "BANGLADESH,\n",
    "KENYA,\n",
    "NIGERIA,\n",
    "TANZANIA,\n",
    "UGANDA **"
   ]
  },
  {
   "cell_type": "code",
   "execution_count": null,
   "metadata": {},
   "outputs": [],
   "source": [
    "urban = gpd.read_file('/Users/ikersanchez/Vizzuality/PROIEKTUAK/i2i/Data/Contextual_Layers/ne_10m_urban_areas/ne_10m_urban_areas.shp')"
   ]
  },
  {
   "cell_type": "code",
   "execution_count": null,
   "metadata": {},
   "outputs": [],
   "source": [
    "urban.head()"
   ]
  },
  {
   "cell_type": "code",
   "execution_count": null,
   "metadata": {},
   "outputs": [],
   "source": [
    "urban.plot()"
   ]
  },
  {
   "cell_type": "code",
   "execution_count": null,
   "metadata": {},
   "outputs": [],
   "source": [
    "urban.crs"
   ]
  },
  {
   "cell_type": "markdown",
   "metadata": {},
   "source": [
    "** Final table **"
   ]
  },
  {
   "cell_type": "code",
   "execution_count": null,
   "metadata": {},
   "outputs": [],
   "source": [
    "# Drop columns\n",
    "urban.drop(columns=['featurecla','scalerank','min_zoom'], inplace=True)"
   ]
  },
  {
   "cell_type": "code",
   "execution_count": null,
   "metadata": {},
   "outputs": [],
   "source": [
    "# Add year\n",
    "urban['year'] = '2003'"
   ]
  },
  {
   "cell_type": "code",
   "execution_count": null,
   "metadata": {},
   "outputs": [],
   "source": [
    "# Reorder columns\n",
    "urban = urban[['area_sqkm','year','geometry']]"
   ]
  },
  {
   "cell_type": "code",
   "execution_count": null,
   "metadata": {},
   "outputs": [],
   "source": [
    "urban.head()"
   ]
  },
  {
   "cell_type": "code",
   "execution_count": null,
   "metadata": {},
   "outputs": [],
   "source": [
    "# Save table\n",
    "urban.to_csv('/Users/ikersanchez/Vizzuality/PROIEKTUAK/i2i/Data/cartodb/urban_areas.csv')"
   ]
  },
  {
   "cell_type": "markdown",
   "metadata": {},
   "source": [
    "***"
   ]
  },
  {
   "cell_type": "markdown",
   "metadata": {},
   "source": [
    "# Resource Watch"
   ]
  },
  {
   "cell_type": "markdown",
   "metadata": {},
   "source": [
    "### Global raster"
   ]
  },
  {
   "cell_type": "markdown",
   "metadata": {},
   "source": [
    "** [Accessibility to Cities](https://resourcewatch.org/data/explore/cit01701-Travel-Time-to-Major-Cities) ** "
   ]
  },
  {
   "cell_type": "markdown",
   "metadata": {},
   "source": [
    "[layer_id](http://api.resourcewatch.org/v1/dataset/ccbcaf7b-1619-4298-8275-b135d1e8e04e/layer): d787d894-f7af-47c4-af0f-0849b06686ee"
   ]
  },
  {
   "cell_type": "markdown",
   "metadata": {},
   "source": [
    "** [Population (Grid, 1 km)](https://resourcewatch.org/data/explore/soc_031-Gridded-Population) ** "
   ]
  },
  {
   "cell_type": "markdown",
   "metadata": {},
   "source": [
    "[layer_id](http://api.resourcewatch.org/v1/dataset/595bcf6f-0343-4146-ba0d-c54b1c928510/layer): 478468be-c79f-4472-b910-594f5bb67cf1"
   ]
  },
  {
   "cell_type": "markdown",
   "metadata": {},
   "source": [
    "** [Urban Built-Up Area](https://resourcewatch.org/data/explore/Cit014-Built-Up-Grid) **"
   ]
  },
  {
   "cell_type": "markdown",
   "metadata": {},
   "source": [
    "[layer_id](http://api.resourcewatch.org/v1/dataset/f6bb99af-541a-4d41-9e47-cc36cb479d4b/layer): b1223c4f-7132-42d3-a1cd-90e823adaa5f"
   ]
  },
  {
   "cell_type": "markdown",
   "metadata": {},
   "source": [
    "** [Agricultural Exposure to Water Stress](https://resourcewatch.org/data/explore/wat033-Agriculture-Water-Demand-and-Depletion) **"
   ]
  },
  {
   "cell_type": "markdown",
   "metadata": {},
   "source": [
    "[layer_id](http://api.resourcewatch.org/v1/dataset/05c330d7-49cf-42d6-bada-e255b8c8e115): 05c330d7-49cf-42d6-bada-e255b8c8e115"
   ]
  },
  {
   "cell_type": "markdown",
   "metadata": {},
   "source": [
    "** [Erosion Risk](https://resourcewatch.org/data/explore/wat015-Erosion-Risk) ** "
   ]
  },
  {
   "cell_type": "markdown",
   "metadata": {},
   "source": [
    "[layer_id](http://api.resourcewatch.org/v1/dataset/e6e83d98-aa1f-495f-916c-b33d0657e0fe/layer): 829f01de-d659-4c6f-bdad-74c79f6451ca"
   ]
  },
  {
   "cell_type": "markdown",
   "metadata": {},
   "source": [
    "** [Annual Precipitation](https://resourcewatch.org/data/explore/wat034-Annual-Precipitation) **"
   ]
  },
  {
   "cell_type": "markdown",
   "metadata": {},
   "source": [
    "[layer_id](http://api.resourcewatch.org/v1/dataset/12510410-1eb3-4af0-844f-8a05be50b1c1/layer): 47835c64-6934-439f-8750-9e3f23debf5c"
   ]
  },
  {
   "cell_type": "markdown",
   "metadata": {},
   "source": [
    "** [Aridity](https://resourcewatch.org/data/explore/cli030-Land-Aridity) ** "
   ]
  },
  {
   "cell_type": "markdown",
   "metadata": {},
   "source": [
    "[layer_id](http://api.resourcewatch.org/v1/dataset/99075509-df36-461e-abb0-659cee555bd0/layer): ca3293ef-63f5-462b-ac28-41e82aac21bf\""
   ]
  },
  {
   "cell_type": "markdown",
   "metadata": {},
   "source": [
    "### Global vector"
   ]
  },
  {
   "cell_type": "markdown",
   "metadata": {},
   "source": [
    "** [Roads](https://resourcewatch.org/data/explore/cit016-Road-Network) **"
   ]
  },
  {
   "cell_type": "markdown",
   "metadata": {},
   "source": [
    "[layer_id](http://api.resourcewatch.org/v1/dataset/943f3702-421f-47a4-9b99-e2d5a9f544a7/layer): 72bd4541-89d4-467d-905d-dc745511e2cc"
   ]
  },
  {
   "cell_type": "markdown",
   "metadata": {},
   "source": [
    "** [Roadless Areas](https://resourcewatch.org/data/explore/Global-Roadless-Areas) ** "
   ]
  },
  {
   "cell_type": "markdown",
   "metadata": {},
   "source": [
    "[layer_id](http://api.resourcewatch.org/v1/dataset/a07f1bed-ca16-4fbf-b14b-d3a0344cab74/layer): a07f1bed-ca16-4fbf-b14b-d3a0344cab74"
   ]
  },
  {
   "cell_type": "markdown",
   "metadata": {},
   "source": [
    "** [Current Water Risk](https://resourcewatch.org/data/explore/wat001-Baseline-Water-Stress) ** "
   ]
  },
  {
   "cell_type": "markdown",
   "metadata": {},
   "source": [
    "[layer_id](http://api.resourcewatch.org/v1/dataset/d7c3d954-ac86-4d1a-bb6a-c8c432a94e26/layer): 2db606de-49d9-49d4-a6ef-6f45b6d0cf04 "
   ]
  },
  {
   "cell_type": "markdown",
   "metadata": {},
   "source": [
    "** [Reservoirs and Dams](https://resourcewatch.org/data/explore/Global-Reservoir-and-Dam-GRanD) ** "
   ]
  },
  {
   "cell_type": "markdown",
   "metadata": {},
   "source": [
    "Dam Locations [layer_id](http://api.resourcewatch.org/v1/dataset/e63bb157-4b98-4ecb-81d6-c1b15e79895a/layer): 212a1516-c7d5-44aa-a18a-ab8bc99929e7\n",
    "\n",
    "Reservoir Locations [layer_id](http://api.resourcewatch.org/v1/dataset/e63bb157-4b98-4ecb-81d6-c1b15e79895a/layer): 6528a5e5-c4cc-49b1-a603-b9ee90b644f7"
   ]
  },
  {
   "cell_type": "markdown",
   "metadata": {},
   "source": [
    "### Country contextual information"
   ]
  },
  {
   "cell_type": "markdown",
   "metadata": {},
   "source": [
    "** [Access to Electricity](https://resourcewatch.org/data/explore/ene012-Access-to-Electricity) ** "
   ]
  },
  {
   "cell_type": "markdown",
   "metadata": {},
   "source": [
    "National Access to Electricity [layer_id](http://api.resourcewatch.org/v1/dataset/d446a52e-c4c1-4e74-ae30-3204620a0365/layer): 3369edc2-4537-44eb-979e-fb9b573d1493\n",
    "\n",
    "Rural Access to Electricity [layer_id](http://api.resourcewatch.org/v1/dataset/d446a52e-c4c1-4e74-ae30-3204620a0365/layer): d4404f80-c2d3-479d-b19c-749a8f6e2696\n",
    "\n",
    "Urban Access to Electricity [layer_id](http://api.resourcewatch.org/v1/dataset/d446a52e-c4c1-4e74-ae30-3204620a0365/layer): a0e3f05d-3b0a-44d1-8114-7e9e9e2b65f9"
   ]
  },
  {
   "cell_type": "markdown",
   "metadata": {},
   "source": [
    "** [Adult Literacy Rate](https://resourcewatch.org/data/explore/Adult-Literacy-Rate) ** "
   ]
  },
  {
   "cell_type": "markdown",
   "metadata": {},
   "source": [
    "[layer_id](http://api.resourcewatch.org/v1/dataset/e8f53f73-d77c-485a-a2a6-1c47ea4aead9/layer): c43b7d21-1e0a-4257-8618-b5a356e06530"
   ]
  },
  {
   "cell_type": "markdown",
   "metadata": {},
   "source": [
    "** [Child Malnutrition](https://resourcewatch.org/data/explore/Child-Malnutrition) ** "
   ]
  },
  {
   "cell_type": "markdown",
   "metadata": {},
   "source": [
    "Children Under 5 Severely Wasting (%): ce22f648-c965-4458-a801-2c58a4f69fac\n",
    "\n",
    "Children Under 5 Stunting (%): bea1db0e-b99d-454b-bddd-c7cabd2e6b27\n",
    "\n",
    "Children Under 5 Underweight (%): 55721450-ce51-4f60-b7c8-416d74a1ad6c\n",
    "\n",
    "Children Under 5 Wasting (%): 29edd41b-8f0b-43b5-a0fe-17cd68f8832d\n",
    "\n",
    "Children Under 5 Overweight (%): 65b778e8-6050-49ad-b9d1-dc4cb7c1ae59\n",
    "\n",
    "[layer_id](http://api.resourcewatch.org/v1/dataset/8bc79a36-d77e-4ee3-b9bc-c77146cfc503/layer)"
   ]
  },
  {
   "cell_type": "markdown",
   "metadata": {},
   "source": [
    "** [Current Account Balance](https://resourcewatch.org/data/explore/Current-Account-Balance-BoP-Current-USdollar) ** "
   ]
  },
  {
   "cell_type": "markdown",
   "metadata": {},
   "source": [
    "[layer_id](http://api.resourcewatch.org/v1/dataset/2e31a1f3-576b-46b4-84f0-3f0cc399f887/layer): e94efe26-7801-409f-9d24-90c2a652cf83"
   ]
  },
  {
   "cell_type": "markdown",
   "metadata": {},
   "source": [
    "** [Gender Development Index](https://resourcewatch.org/data/explore/Gender-Development-Index) ** "
   ]
  },
  {
   "cell_type": "markdown",
   "metadata": {},
   "source": [
    "[layer_id](http://api.resourcewatch.org/v1/dataset/d4ca3cc4-c162-469c-b341-b52284a73eaa/layer): 3ff24d05-7a38-49d3-a14a-cec86a29578d"
   ]
  },
  {
   "cell_type": "markdown",
   "metadata": {},
   "source": [
    "** [Gender Inequality Index](https://resourcewatch.org/data/explore/soc025-Gender-Inequality-Index) ** "
   ]
  },
  {
   "cell_type": "markdown",
   "metadata": {},
   "source": [
    "[layer_id](http://api.resourcewatch.org/v1/dataset/11278cb6-b298-49a1-bf71-f1e269f40758/layer): 9d3ef845-93a1-47a0-b26a-c124b8a6ff2b"
   ]
  },
  {
   "cell_type": "markdown",
   "metadata": {},
   "source": [
    "** [Gross Domestic Product](https://resourcewatch.org/data/explore/Gross-Domestic-Product) ** "
   ]
  },
  {
   "cell_type": "markdown",
   "metadata": {},
   "source": [
    "[layer_id](http://api.resourcewatch.org/v1/dataset/52c55378-0484-48c3-92fc-3ee94d21c716/layer): f98f8874-3d5d-4818-a75c-29a8d1b57cb3"
   ]
  },
  {
   "cell_type": "markdown",
   "metadata": {},
   "source": [
    "** [Regulatory Restrictiveness Index](https://resourcewatch.org/data/explore/Regulatory-Restrictiveness-Index) ** "
   ]
  },
  {
   "cell_type": "markdown",
   "metadata": {},
   "source": [
    "[layer_id](http://api.resourcewatch.org/v1/dataset/fe311144-8c0e-4440-b068-6efd057e0f6a/layer): 998035d6-2d5f-4876-ba6c-e7443db3afa8"
   ]
  },
  {
   "cell_type": "markdown",
   "metadata": {},
   "source": [
    "** [Urban Population Living in Slums](https://resourcewatch.org/data/explore/Percent-of-Urban-Population-living-in-Slums) ** "
   ]
  },
  {
   "cell_type": "markdown",
   "metadata": {},
   "source": [
    "[layer_id](http://api.resourcewatch.org/v1/dataset/35ce2b98-adbb-4873-b334-d7b1cc542de7/layer): ad704eea-4ef5-455c-b7ae-ad5bab572e0c"
   ]
  },
  {
   "cell_type": "markdown",
   "metadata": {},
   "source": [
    "** [Vulnerability to Climate Change Index](https://resourcewatch.org/data/explore/Vulnerability-to-Climate-Change-Index) ** "
   ]
  },
  {
   "cell_type": "markdown",
   "metadata": {},
   "source": [
    "[layer_id](http://api.resourcewatch.org/v1/dataset/fa6443ff-eb95-4d0f-84d2-f0c91682efdf/layer): 07b6e469-d1c4-4ab8-a8a7-cf37f344ae4c"
   ]
  },
  {
   "cell_type": "markdown",
   "metadata": {},
   "source": [
    "# layer_spec"
   ]
  },
  {
   "cell_type": "code",
   "execution_count": 177,
   "metadata": {},
   "outputs": [],
   "source": [
    "df_layer = pd.DataFrame(columns = ['provider', 'dataset', 'dataset_id', 'layer', 'layer_id', 'queries', 'css', 'legend_config'])"
   ]
  },
  {
   "cell_type": "code",
   "execution_count": 178,
   "metadata": {},
   "outputs": [
    {
     "data": {
      "text/html": [
       "<div>\n",
       "<style scoped>\n",
       "    .dataframe tbody tr th:only-of-type {\n",
       "        vertical-align: middle;\n",
       "    }\n",
       "\n",
       "    .dataframe tbody tr th {\n",
       "        vertical-align: top;\n",
       "    }\n",
       "\n",
       "    .dataframe thead th {\n",
       "        text-align: right;\n",
       "    }\n",
       "</style>\n",
       "<table border=\"1\" class=\"dataframe\">\n",
       "  <thead>\n",
       "    <tr style=\"text-align: right;\">\n",
       "      <th></th>\n",
       "      <th>provider</th>\n",
       "      <th>dataset</th>\n",
       "      <th>dataset_id</th>\n",
       "      <th>layer</th>\n",
       "      <th>layer_id</th>\n",
       "      <th>queries</th>\n",
       "      <th>css</th>\n",
       "      <th>legend_config</th>\n",
       "    </tr>\n",
       "  </thead>\n",
       "  <tbody>\n",
       "  </tbody>\n",
       "</table>\n",
       "</div>"
      ],
      "text/plain": [
       "Empty DataFrame\n",
       "Columns: [provider, dataset, dataset_id, layer, layer_id, queries, css, legend_config]\n",
       "Index: []"
      ]
     },
     "execution_count": 178,
     "metadata": {},
     "output_type": "execute_result"
    }
   ],
   "source": [
    "df_layer"
   ]
  },
  {
   "cell_type": "markdown",
   "metadata": {},
   "source": [
    "** cartodb **"
   ]
  },
  {
   "cell_type": "code",
   "execution_count": 179,
   "metadata": {},
   "outputs": [],
   "source": [
    "provider = ['cartodb'] * 6\n",
    "dataset = ['AidData', 'Electrical Grid', 'Mobile Coverage', 'Mobile Coverage', 'Mobile Coverage', 'Urban Areas']\n",
    "dataset_id = [''] * 6\n",
    "layer = ['AidData', 'Electrical Grid', 'Global GSM', 'Global 3G', 'Global 4G', 'Urban Areas']\n",
    "layer_id = [''] * 6\n",
    "queries = ['SELECT the_geom, the_geom_webmercator, sum(transaction_value) as total_transaction_value FROM aiddata_transactions GROUP BY the_geom, the_geom_webmercator',\n",
    "           'SELECT the_geom, the_geom_webmercator FROM electrical_grid',\n",
    "           'SELECT the_geom, the_geom_webmercator FROM mobile_coverage_global_gsm',\n",
    "           'SELECT the_geom, the_geom_webmercator FROM mobile_coverage_global_3g',\n",
    "           'SELECT the_geom, the_geom_webmercator FROM mobile_coverage_global_4g',\n",
    "           'SELECT the_geom, the_geom_webmercator FROM urban_areas']\n",
    "css = ['#layer {marker-width: ramp([total_transaction_value], range(2, 20), quantiles(5)); marker-fill: ramp([total_transaction_value], (#009392, #71be83, #e9e29c, #ed9c72, #cf597e), quantiles); marker-fill-opacity: 1; marker-allow-overlap: true; marker-line-width: 1; marker-line-color: #FFFFFF; marker-line-opacity: 1;}',\n",
    "      '#layer {line-width: 2; line-color: #4CC8A3; line-opacity: 1;}',\n",
    "       '#layer {polygon-fill: #826dba; polygon-opacity: 0.9;} #layer::outline {line-width: 1; line-color: #FFFFFF;line-opacity: 0.5;}',\n",
    "       '#layer {polygon-fill: #826dba; polygon-opacity: 0.9;} #layer::outline {line-width: 1; line-color: #FFFFFF;line-opacity: 0.5;}',\n",
    "       '#layer {polygon-fill: #826dba; polygon-opacity: 0.9;} #layer::outline {line-width: 1; line-color: #FFFFFF;line-opacity: 0.5;}',\n",
    "       '#layer {polygon-fill: #826DBA; polygon-opacity: 0.9; ::outline {line-color: #FFFFFF; line-width: 1; line-opacity: 0.5; } }'] \n",
    "\n",
    "legend_config = [json.dumps({'legendConfig': {'items': [{'color': '#009392'},\n",
    "      {'color': '#71be83'},\n",
    "      {'color': '#e9e29c'},\n",
    "      {'color': '#ed9c72'},\n",
    "      {'color': '#cf597e'}],\n",
    "      'sql_config': [{'key': 'where',\n",
    "       'key_params': [{'key': 'iso_a3', 'required': False}]}],\n",
    "      'sql_query': 'with r as (SELECT the_geom, sum(transaction_value) as total_transaction_value  FROM aiddata_transactions {{where}} GROUP BY the_geom) SELECT CDB_JenksBins(array_agg(total_transaction_value::numeric),5) as bucket FROM r WHERE total_transaction_value is not null',\n",
    "      'type': 'choropleth'}}),\n",
    "                 json.dumps({'legendConfig': {'items': [{'color': '#4CC8A3', 'name': 'Electrical Grid'}],\n",
    "                                              'type': 'basic'}}),       \n",
    "                 json.dumps({'legendConfig': {'items': [{'color': '#da4e3c', 'name': 'GSM mobile coverage'}],\n",
    "     'type': 'basic'}}),\n",
    "                 json.dumps({'legendConfig': {'items': [{'color': '#fcaa0f', 'name': '3G mobile coverage'}],\n",
    "     'type': 'basic'}}),\n",
    "                 json.dumps({'legendConfig': {'items': [{'color': '#f9c932', 'name': '4G mobile coverage'}],\n",
    "     'type': 'basic'}}),\n",
    "                 json.dumps({'legendConfig': {'items': [{'color': '#826DBA', 'name': 'Urban Area'}],\n",
    "     'type': 'basic'}})\n",
    "]\n",
    "\n",
    "data = {'provider': provider, 'dataset': dataset, 'dataset_id': dataset_id, \n",
    "        'layer': layer, 'layer_id': layer_id,  'queries': queries, 'css': css, 'legend_config': legend_config}\n",
    "\n",
    "df_layer = pd.concat([df_layer,pd.DataFrame(data)], join='inner')"
   ]
  },
  {
   "cell_type": "markdown",
   "metadata": {},
   "source": [
    "** RW API **"
   ]
  },
  {
   "cell_type": "code",
   "execution_count": 180,
   "metadata": {},
   "outputs": [],
   "source": [
    "provider = ['rw_api'] * 12\n",
    "dataset = ['Accessibility to Cities', 'Population (Grid, 1 km)', 'Urban Built-Up Area', \n",
    "           'Agricultural Exposure to Water Stress', 'Erosion Risk', 'Annual Precipitation',\n",
    "          'Aridity', 'Roads', 'Roadless Areas', 'Current Water Risk', \n",
    "           'Reservoirs and Dams', 'Reservoirs and Dams']\n",
    "dataset_id = ['ccbcaf7b-1619-4298-8275-b135d1e8e04e', '595bcf6f-0343-4146-ba0d-c54b1c928510',\n",
    "             'f6bb99af-541a-4d41-9e47-cc36cb479d4b', '05c330d7-49cf-42d6-bada-e255b8c8e115',\n",
    "             'e6e83d98-aa1f-495f-916c-b33d0657e0fe', '12510410-1eb3-4af0-844f-8a05be50b1c1',\n",
    "             '99075509-df36-461e-abb0-659cee555bd0', '943f3702-421f-47a4-9b99-e2d5a9f544a7',\n",
    "             'a07f1bed-ca16-4fbf-b14b-d3a0344cab74', 'd7c3d954-ac86-4d1a-bb6a-c8c432a94e26',\n",
    "             'e63bb157-4b98-4ecb-81d6-c1b15e79895a', 'e63bb157-4b98-4ecb-81d6-c1b15e79895a']\n",
    "layer = ['Accessibility to Cities', 'Population (Grid, 1 km)', 'Urban Built-Up Area', \n",
    "           'Agricultural Exposure to Water Stress', 'Erosion Risk', 'Annual Precipitation',\n",
    "          'Aridity', 'Roads', 'Roadless Areas', 'Current Water Risk', \n",
    "           'Reservoirs', 'Dams']\n",
    "layer_id = ['d787d894-f7af-47c4-af0f-0849b06686ee', '478468be-c79f-4472-b910-594f5bb67cf1',\n",
    "           'b1223c4f-7132-42d3-a1cd-90e823adaa5f', '05c330d7-49cf-42d6-bada-e255b8c8e115',\n",
    "           '829f01de-d659-4c6f-bdad-74c79f6451ca', '47835c64-6934-439f-8750-9e3f23debf5c',\n",
    "           'ca3293ef-63f5-462b-ac28-41e82aac21bf', '72bd4541-89d4-467d-905d-dc745511e2cc',\n",
    "           'a07f1bed-ca16-4fbf-b14b-d3a0344cab74', '2db606de-49d9-49d4-a6ef-6f45b6d0cf04',\n",
    "           '212a1516-c7d5-44aa-a18a-ab8bc99929e7', '6528a5e5-c4cc-49b1-a603-b9ee90b644f7']\n",
    "queries = [''] * 12\n",
    "css = [''] * 12\n",
    "legeng_config = [''] * 12\n",
    "\n",
    "data = {'provider': provider, 'dataset': dataset, 'dataset_id': dataset_id, \n",
    "        'layer': layer, 'layer_id': layer_id,  'queries': queries, 'css': css, 'legeng_config':legeng_config}\n",
    "\n",
    "#df_layer = pd.concat([df_layer,pd.DataFrame(data)], join='inner')\n",
    "df_layer = pd.concat([df_layer,pd.DataFrame(data)])\n",
    "\n",
    "df_layer.reset_index(inplace=True, drop=True)\n",
    "df_layer = df_layer[['provider', 'dataset', 'dataset_id', 'layer', 'layer_id', 'queries', 'css', 'legend_config']]"
   ]
  },
  {
   "cell_type": "markdown",
   "metadata": {},
   "source": [
    "** Add dataset slug to table **"
   ]
  },
  {
   "cell_type": "code",
   "execution_count": 181,
   "metadata": {},
   "outputs": [],
   "source": [
    "slug_list =[]\n",
    "for i in range(len(df_layer)):\n",
    "    if df_layer['dataset_id'][i] != '':\n",
    "        dataset_id = df_layer['dataset_id'][i]\n",
    "        url = \"http://api.resourcewatch.org/v1/dataset/\"+dataset_id\n",
    "        r = requests.get(f\"{url}\")\n",
    "        slug = r.json().get('data').get('attributes').get('slug')\n",
    "    else:\n",
    "        slug =''\n",
    "    slug_list.append(slug)"
   ]
  },
  {
   "cell_type": "code",
   "execution_count": 182,
   "metadata": {},
   "outputs": [],
   "source": [
    "df_layer['slug'] = slug_list"
   ]
  },
  {
   "cell_type": "markdown",
   "metadata": {},
   "source": [
    "Save table"
   ]
  },
  {
   "cell_type": "code",
   "execution_count": 183,
   "metadata": {},
   "outputs": [],
   "source": [
    "df_layer.to_csv('/Users/ikersanchez/Vizzuality/PROIEKTUAK/i2i/Data/cartodb/layer_spec.csv')"
   ]
  },
  {
   "cell_type": "code",
   "execution_count": 184,
   "metadata": {},
   "outputs": [
    {
     "data": {
      "text/html": [
       "<div>\n",
       "<style scoped>\n",
       "    .dataframe tbody tr th:only-of-type {\n",
       "        vertical-align: middle;\n",
       "    }\n",
       "\n",
       "    .dataframe tbody tr th {\n",
       "        vertical-align: top;\n",
       "    }\n",
       "\n",
       "    .dataframe thead th {\n",
       "        text-align: right;\n",
       "    }\n",
       "</style>\n",
       "<table border=\"1\" class=\"dataframe\">\n",
       "  <thead>\n",
       "    <tr style=\"text-align: right;\">\n",
       "      <th></th>\n",
       "      <th>provider</th>\n",
       "      <th>dataset</th>\n",
       "      <th>dataset_id</th>\n",
       "      <th>layer</th>\n",
       "      <th>layer_id</th>\n",
       "      <th>queries</th>\n",
       "      <th>css</th>\n",
       "      <th>legend_config</th>\n",
       "      <th>slug</th>\n",
       "    </tr>\n",
       "  </thead>\n",
       "  <tbody>\n",
       "    <tr>\n",
       "      <th>0</th>\n",
       "      <td>cartodb</td>\n",
       "      <td>AidData</td>\n",
       "      <td></td>\n",
       "      <td>AidData</td>\n",
       "      <td></td>\n",
       "      <td>SELECT the_geom, the_geom_webmercator, sum(tra...</td>\n",
       "      <td>#layer {marker-width: ramp([total_transaction_...</td>\n",
       "      <td>{\"legendConfig\": {\"items\": [{\"color\": \"#009392...</td>\n",
       "      <td></td>\n",
       "    </tr>\n",
       "    <tr>\n",
       "      <th>1</th>\n",
       "      <td>cartodb</td>\n",
       "      <td>Electrical Grid</td>\n",
       "      <td></td>\n",
       "      <td>Electrical Grid</td>\n",
       "      <td></td>\n",
       "      <td>SELECT the_geom, the_geom_webmercator FROM ele...</td>\n",
       "      <td>#layer {line-width: 2; line-color: #4CC8A3; li...</td>\n",
       "      <td>{\"legendConfig\": {\"items\": [{\"color\": \"#4CC8A3...</td>\n",
       "      <td></td>\n",
       "    </tr>\n",
       "    <tr>\n",
       "      <th>2</th>\n",
       "      <td>cartodb</td>\n",
       "      <td>Mobile Coverage</td>\n",
       "      <td></td>\n",
       "      <td>Global GSM</td>\n",
       "      <td></td>\n",
       "      <td>SELECT the_geom, the_geom_webmercator FROM mob...</td>\n",
       "      <td>#layer {polygon-fill: #826dba; polygon-opacity...</td>\n",
       "      <td>{\"legendConfig\": {\"items\": [{\"color\": \"#da4e3c...</td>\n",
       "      <td></td>\n",
       "    </tr>\n",
       "    <tr>\n",
       "      <th>3</th>\n",
       "      <td>cartodb</td>\n",
       "      <td>Mobile Coverage</td>\n",
       "      <td></td>\n",
       "      <td>Global 3G</td>\n",
       "      <td></td>\n",
       "      <td>SELECT the_geom, the_geom_webmercator FROM mob...</td>\n",
       "      <td>#layer {polygon-fill: #826dba; polygon-opacity...</td>\n",
       "      <td>{\"legendConfig\": {\"items\": [{\"color\": \"#fcaa0f...</td>\n",
       "      <td></td>\n",
       "    </tr>\n",
       "    <tr>\n",
       "      <th>4</th>\n",
       "      <td>cartodb</td>\n",
       "      <td>Mobile Coverage</td>\n",
       "      <td></td>\n",
       "      <td>Global 4G</td>\n",
       "      <td></td>\n",
       "      <td>SELECT the_geom, the_geom_webmercator FROM mob...</td>\n",
       "      <td>#layer {polygon-fill: #826dba; polygon-opacity...</td>\n",
       "      <td>{\"legendConfig\": {\"items\": [{\"color\": \"#f9c932...</td>\n",
       "      <td></td>\n",
       "    </tr>\n",
       "    <tr>\n",
       "      <th>5</th>\n",
       "      <td>cartodb</td>\n",
       "      <td>Urban Areas</td>\n",
       "      <td></td>\n",
       "      <td>Urban Areas</td>\n",
       "      <td></td>\n",
       "      <td>SELECT the_geom, the_geom_webmercator FROM urb...</td>\n",
       "      <td>#layer {polygon-fill: #826DBA; polygon-opacity...</td>\n",
       "      <td>{\"legendConfig\": {\"items\": [{\"color\": \"#826DBA...</td>\n",
       "      <td></td>\n",
       "    </tr>\n",
       "    <tr>\n",
       "      <th>6</th>\n",
       "      <td>rw_api</td>\n",
       "      <td>Accessibility to Cities</td>\n",
       "      <td>ccbcaf7b-1619-4298-8275-b135d1e8e04e</td>\n",
       "      <td>Accessibility to Cities</td>\n",
       "      <td>d787d894-f7af-47c4-af0f-0849b06686ee</td>\n",
       "      <td></td>\n",
       "      <td></td>\n",
       "      <td>NaN</td>\n",
       "      <td>cit01701-Travel-Time-to-Major-Cities</td>\n",
       "    </tr>\n",
       "    <tr>\n",
       "      <th>7</th>\n",
       "      <td>rw_api</td>\n",
       "      <td>Population (Grid, 1 km)</td>\n",
       "      <td>595bcf6f-0343-4146-ba0d-c54b1c928510</td>\n",
       "      <td>Population (Grid, 1 km)</td>\n",
       "      <td>478468be-c79f-4472-b910-594f5bb67cf1</td>\n",
       "      <td></td>\n",
       "      <td></td>\n",
       "      <td>NaN</td>\n",
       "      <td>soc072-Population-Grid-250-m</td>\n",
       "    </tr>\n",
       "    <tr>\n",
       "      <th>8</th>\n",
       "      <td>rw_api</td>\n",
       "      <td>Urban Built-Up Area</td>\n",
       "      <td>f6bb99af-541a-4d41-9e47-cc36cb479d4b</td>\n",
       "      <td>Urban Built-Up Area</td>\n",
       "      <td>b1223c4f-7132-42d3-a1cd-90e823adaa5f</td>\n",
       "      <td></td>\n",
       "      <td></td>\n",
       "      <td>NaN</td>\n",
       "      <td>Cit014-Built-Up-Grid</td>\n",
       "    </tr>\n",
       "    <tr>\n",
       "      <th>9</th>\n",
       "      <td>rw_api</td>\n",
       "      <td>Agricultural Exposure to Water Stress</td>\n",
       "      <td>05c330d7-49cf-42d6-bada-e255b8c8e115</td>\n",
       "      <td>Agricultural Exposure to Water Stress</td>\n",
       "      <td>05c330d7-49cf-42d6-bada-e255b8c8e115</td>\n",
       "      <td></td>\n",
       "      <td></td>\n",
       "      <td>NaN</td>\n",
       "      <td>Global-growing-crops-under-high-water-stress-c...</td>\n",
       "    </tr>\n",
       "    <tr>\n",
       "      <th>10</th>\n",
       "      <td>rw_api</td>\n",
       "      <td>Erosion Risk</td>\n",
       "      <td>e6e83d98-aa1f-495f-916c-b33d0657e0fe</td>\n",
       "      <td>Erosion Risk</td>\n",
       "      <td>829f01de-d659-4c6f-bdad-74c79f6451ca</td>\n",
       "      <td></td>\n",
       "      <td></td>\n",
       "      <td>NaN</td>\n",
       "      <td>wat015-Erosion-Risk</td>\n",
       "    </tr>\n",
       "    <tr>\n",
       "      <th>11</th>\n",
       "      <td>rw_api</td>\n",
       "      <td>Annual Precipitation</td>\n",
       "      <td>12510410-1eb3-4af0-844f-8a05be50b1c1</td>\n",
       "      <td>Annual Precipitation</td>\n",
       "      <td>47835c64-6934-439f-8750-9e3f23debf5c</td>\n",
       "      <td></td>\n",
       "      <td></td>\n",
       "      <td>NaN</td>\n",
       "      <td>Average-Annual-Precipitation-1971-2000-1490086...</td>\n",
       "    </tr>\n",
       "    <tr>\n",
       "      <th>12</th>\n",
       "      <td>rw_api</td>\n",
       "      <td>Aridity</td>\n",
       "      <td>99075509-df36-461e-abb0-659cee555bd0</td>\n",
       "      <td>Aridity</td>\n",
       "      <td>ca3293ef-63f5-462b-ac28-41e82aac21bf</td>\n",
       "      <td></td>\n",
       "      <td></td>\n",
       "      <td>NaN</td>\n",
       "      <td>cli030-Land-Aridity</td>\n",
       "    </tr>\n",
       "    <tr>\n",
       "      <th>13</th>\n",
       "      <td>rw_api</td>\n",
       "      <td>Roads</td>\n",
       "      <td>943f3702-421f-47a4-9b99-e2d5a9f544a7</td>\n",
       "      <td>Roads</td>\n",
       "      <td>72bd4541-89d4-467d-905d-dc745511e2cc</td>\n",
       "      <td></td>\n",
       "      <td></td>\n",
       "      <td>NaN</td>\n",
       "      <td>cit016-Road-Network</td>\n",
       "    </tr>\n",
       "    <tr>\n",
       "      <th>14</th>\n",
       "      <td>rw_api</td>\n",
       "      <td>Roadless Areas</td>\n",
       "      <td>a07f1bed-ca16-4fbf-b14b-d3a0344cab74</td>\n",
       "      <td>Roadless Areas</td>\n",
       "      <td>a07f1bed-ca16-4fbf-b14b-d3a0344cab74</td>\n",
       "      <td></td>\n",
       "      <td></td>\n",
       "      <td>NaN</td>\n",
       "      <td>Global-Roadless-Areas</td>\n",
       "    </tr>\n",
       "    <tr>\n",
       "      <th>15</th>\n",
       "      <td>rw_api</td>\n",
       "      <td>Current Water Risk</td>\n",
       "      <td>d7c3d954-ac86-4d1a-bb6a-c8c432a94e26</td>\n",
       "      <td>Current Water Risk</td>\n",
       "      <td>2db606de-49d9-49d4-a6ef-6f45b6d0cf04</td>\n",
       "      <td></td>\n",
       "      <td></td>\n",
       "      <td>NaN</td>\n",
       "      <td>wat001-Baseline-Water-Stress</td>\n",
       "    </tr>\n",
       "    <tr>\n",
       "      <th>16</th>\n",
       "      <td>rw_api</td>\n",
       "      <td>Reservoirs and Dams</td>\n",
       "      <td>e63bb157-4b98-4ecb-81d6-c1b15e79895a</td>\n",
       "      <td>Reservoirs</td>\n",
       "      <td>212a1516-c7d5-44aa-a18a-ab8bc99929e7</td>\n",
       "      <td></td>\n",
       "      <td></td>\n",
       "      <td>NaN</td>\n",
       "      <td>Global-Reservoir-and-Dam-GRanD</td>\n",
       "    </tr>\n",
       "    <tr>\n",
       "      <th>17</th>\n",
       "      <td>rw_api</td>\n",
       "      <td>Reservoirs and Dams</td>\n",
       "      <td>e63bb157-4b98-4ecb-81d6-c1b15e79895a</td>\n",
       "      <td>Dams</td>\n",
       "      <td>6528a5e5-c4cc-49b1-a603-b9ee90b644f7</td>\n",
       "      <td></td>\n",
       "      <td></td>\n",
       "      <td>NaN</td>\n",
       "      <td>Global-Reservoir-and-Dam-GRanD</td>\n",
       "    </tr>\n",
       "  </tbody>\n",
       "</table>\n",
       "</div>"
      ],
      "text/plain": [
       "   provider                                dataset  \\\n",
       "0   cartodb                                AidData   \n",
       "1   cartodb                        Electrical Grid   \n",
       "2   cartodb                        Mobile Coverage   \n",
       "3   cartodb                        Mobile Coverage   \n",
       "4   cartodb                        Mobile Coverage   \n",
       "5   cartodb                            Urban Areas   \n",
       "6    rw_api                Accessibility to Cities   \n",
       "7    rw_api                Population (Grid, 1 km)   \n",
       "8    rw_api                    Urban Built-Up Area   \n",
       "9    rw_api  Agricultural Exposure to Water Stress   \n",
       "10   rw_api                           Erosion Risk   \n",
       "11   rw_api                   Annual Precipitation   \n",
       "12   rw_api                                Aridity   \n",
       "13   rw_api                                  Roads   \n",
       "14   rw_api                         Roadless Areas   \n",
       "15   rw_api                     Current Water Risk   \n",
       "16   rw_api                    Reservoirs and Dams   \n",
       "17   rw_api                    Reservoirs and Dams   \n",
       "\n",
       "                              dataset_id  \\\n",
       "0                                          \n",
       "1                                          \n",
       "2                                          \n",
       "3                                          \n",
       "4                                          \n",
       "5                                          \n",
       "6   ccbcaf7b-1619-4298-8275-b135d1e8e04e   \n",
       "7   595bcf6f-0343-4146-ba0d-c54b1c928510   \n",
       "8   f6bb99af-541a-4d41-9e47-cc36cb479d4b   \n",
       "9   05c330d7-49cf-42d6-bada-e255b8c8e115   \n",
       "10  e6e83d98-aa1f-495f-916c-b33d0657e0fe   \n",
       "11  12510410-1eb3-4af0-844f-8a05be50b1c1   \n",
       "12  99075509-df36-461e-abb0-659cee555bd0   \n",
       "13  943f3702-421f-47a4-9b99-e2d5a9f544a7   \n",
       "14  a07f1bed-ca16-4fbf-b14b-d3a0344cab74   \n",
       "15  d7c3d954-ac86-4d1a-bb6a-c8c432a94e26   \n",
       "16  e63bb157-4b98-4ecb-81d6-c1b15e79895a   \n",
       "17  e63bb157-4b98-4ecb-81d6-c1b15e79895a   \n",
       "\n",
       "                                    layer  \\\n",
       "0                                 AidData   \n",
       "1                         Electrical Grid   \n",
       "2                              Global GSM   \n",
       "3                               Global 3G   \n",
       "4                               Global 4G   \n",
       "5                             Urban Areas   \n",
       "6                 Accessibility to Cities   \n",
       "7                 Population (Grid, 1 km)   \n",
       "8                     Urban Built-Up Area   \n",
       "9   Agricultural Exposure to Water Stress   \n",
       "10                           Erosion Risk   \n",
       "11                   Annual Precipitation   \n",
       "12                                Aridity   \n",
       "13                                  Roads   \n",
       "14                         Roadless Areas   \n",
       "15                     Current Water Risk   \n",
       "16                             Reservoirs   \n",
       "17                                   Dams   \n",
       "\n",
       "                                layer_id  \\\n",
       "0                                          \n",
       "1                                          \n",
       "2                                          \n",
       "3                                          \n",
       "4                                          \n",
       "5                                          \n",
       "6   d787d894-f7af-47c4-af0f-0849b06686ee   \n",
       "7   478468be-c79f-4472-b910-594f5bb67cf1   \n",
       "8   b1223c4f-7132-42d3-a1cd-90e823adaa5f   \n",
       "9   05c330d7-49cf-42d6-bada-e255b8c8e115   \n",
       "10  829f01de-d659-4c6f-bdad-74c79f6451ca   \n",
       "11  47835c64-6934-439f-8750-9e3f23debf5c   \n",
       "12  ca3293ef-63f5-462b-ac28-41e82aac21bf   \n",
       "13  72bd4541-89d4-467d-905d-dc745511e2cc   \n",
       "14  a07f1bed-ca16-4fbf-b14b-d3a0344cab74   \n",
       "15  2db606de-49d9-49d4-a6ef-6f45b6d0cf04   \n",
       "16  212a1516-c7d5-44aa-a18a-ab8bc99929e7   \n",
       "17  6528a5e5-c4cc-49b1-a603-b9ee90b644f7   \n",
       "\n",
       "                                              queries  \\\n",
       "0   SELECT the_geom, the_geom_webmercator, sum(tra...   \n",
       "1   SELECT the_geom, the_geom_webmercator FROM ele...   \n",
       "2   SELECT the_geom, the_geom_webmercator FROM mob...   \n",
       "3   SELECT the_geom, the_geom_webmercator FROM mob...   \n",
       "4   SELECT the_geom, the_geom_webmercator FROM mob...   \n",
       "5   SELECT the_geom, the_geom_webmercator FROM urb...   \n",
       "6                                                       \n",
       "7                                                       \n",
       "8                                                       \n",
       "9                                                       \n",
       "10                                                      \n",
       "11                                                      \n",
       "12                                                      \n",
       "13                                                      \n",
       "14                                                      \n",
       "15                                                      \n",
       "16                                                      \n",
       "17                                                      \n",
       "\n",
       "                                                  css  \\\n",
       "0   #layer {marker-width: ramp([total_transaction_...   \n",
       "1   #layer {line-width: 2; line-color: #4CC8A3; li...   \n",
       "2   #layer {polygon-fill: #826dba; polygon-opacity...   \n",
       "3   #layer {polygon-fill: #826dba; polygon-opacity...   \n",
       "4   #layer {polygon-fill: #826dba; polygon-opacity...   \n",
       "5   #layer {polygon-fill: #826DBA; polygon-opacity...   \n",
       "6                                                       \n",
       "7                                                       \n",
       "8                                                       \n",
       "9                                                       \n",
       "10                                                      \n",
       "11                                                      \n",
       "12                                                      \n",
       "13                                                      \n",
       "14                                                      \n",
       "15                                                      \n",
       "16                                                      \n",
       "17                                                      \n",
       "\n",
       "                                        legend_config  \\\n",
       "0   {\"legendConfig\": {\"items\": [{\"color\": \"#009392...   \n",
       "1   {\"legendConfig\": {\"items\": [{\"color\": \"#4CC8A3...   \n",
       "2   {\"legendConfig\": {\"items\": [{\"color\": \"#da4e3c...   \n",
       "3   {\"legendConfig\": {\"items\": [{\"color\": \"#fcaa0f...   \n",
       "4   {\"legendConfig\": {\"items\": [{\"color\": \"#f9c932...   \n",
       "5   {\"legendConfig\": {\"items\": [{\"color\": \"#826DBA...   \n",
       "6                                                 NaN   \n",
       "7                                                 NaN   \n",
       "8                                                 NaN   \n",
       "9                                                 NaN   \n",
       "10                                                NaN   \n",
       "11                                                NaN   \n",
       "12                                                NaN   \n",
       "13                                                NaN   \n",
       "14                                                NaN   \n",
       "15                                                NaN   \n",
       "16                                                NaN   \n",
       "17                                                NaN   \n",
       "\n",
       "                                                 slug  \n",
       "0                                                      \n",
       "1                                                      \n",
       "2                                                      \n",
       "3                                                      \n",
       "4                                                      \n",
       "5                                                      \n",
       "6                cit01701-Travel-Time-to-Major-Cities  \n",
       "7                        soc072-Population-Grid-250-m  \n",
       "8                                Cit014-Built-Up-Grid  \n",
       "9   Global-growing-crops-under-high-water-stress-c...  \n",
       "10                                wat015-Erosion-Risk  \n",
       "11  Average-Annual-Precipitation-1971-2000-1490086...  \n",
       "12                                cli030-Land-Aridity  \n",
       "13                                cit016-Road-Network  \n",
       "14                              Global-Roadless-Areas  \n",
       "15                       wat001-Baseline-Water-Stress  \n",
       "16                     Global-Reservoir-and-Dam-GRanD  \n",
       "17                     Global-Reservoir-and-Dam-GRanD  "
      ]
     },
     "execution_count": 184,
     "metadata": {},
     "output_type": "execute_result"
    }
   ],
   "source": [
    "df_layer"
   ]
  },
  {
   "cell_type": "markdown",
   "metadata": {},
   "source": [
    "** Change table column type to json **\n",
    "\n",
    "ALTER TABLE layer_spec\n",
    "ALTER COLUMN layer_config TYPE jsonb USING layer_config::JSONB"
   ]
  },
  {
   "cell_type": "markdown",
   "metadata": {},
   "source": [
    "** Add interactionConfig: **"
   ]
  },
  {
   "cell_type": "code",
   "execution_count": 80,
   "metadata": {},
   "outputs": [
    {
     "data": {
      "text/plain": [
       "{'interactionConfig': {'output': [{'column': 'res_name',\n",
       "    'format': None,\n",
       "    'prefix': '',\n",
       "    'property': 'Reservoir Name',\n",
       "    'suffix': '',\n",
       "    'type': 'string'},\n",
       "   {'column': 'area_skm',\n",
       "    'format': '0,0',\n",
       "    'prefix': '',\n",
       "    'property': 'Surface Area',\n",
       "    'suffix': ' km²',\n",
       "    'type': 'number'},\n",
       "   {'column': 'cap_mcm',\n",
       "    'format': '0,0',\n",
       "    'prefix': '',\n",
       "    'property': 'Capacity',\n",
       "    'suffix': ' Mm³',\n",
       "    'type': 'number'}]}}"
      ]
     },
     "execution_count": 80,
     "metadata": {},
     "output_type": "execute_result"
    }
   ],
   "source": [
    "{'interactionConfig': {'output': [{'column': 'res_name',\n",
    "       'format': None,\n",
    "       'prefix': '',\n",
    "       'property': 'Reservoir Name',\n",
    "       'suffix': '',\n",
    "       'type': 'string'},\n",
    "      {'column': 'area_skm',\n",
    "       'format': '0,0',\n",
    "       'prefix': '',\n",
    "       'property': 'Surface Area',\n",
    "       'suffix': ' km²',\n",
    "       'type': 'number'},\n",
    "      {'column': 'cap_mcm',\n",
    "       'format': '0,0',\n",
    "       'prefix': '',\n",
    "       'property': 'Capacity',\n",
    "       'suffix': ' Mm³',\n",
    "       'type': 'number'}]}}"
   ]
  },
  {
   "cell_type": "markdown",
   "metadata": {},
   "source": [
    "# contextual_spec"
   ]
  },
  {
   "cell_type": "code",
   "execution_count": 4,
   "metadata": {},
   "outputs": [],
   "source": [
    "df_contex = pd.DataFrame(columns = ['provider', 'dataset', 'dataset_id', 'layer', 'layer_id'])"
   ]
  },
  {
   "cell_type": "code",
   "execution_count": 5,
   "metadata": {},
   "outputs": [
    {
     "data": {
      "text/html": [
       "<div>\n",
       "<style scoped>\n",
       "    .dataframe tbody tr th:only-of-type {\n",
       "        vertical-align: middle;\n",
       "    }\n",
       "\n",
       "    .dataframe tbody tr th {\n",
       "        vertical-align: top;\n",
       "    }\n",
       "\n",
       "    .dataframe thead th {\n",
       "        text-align: right;\n",
       "    }\n",
       "</style>\n",
       "<table border=\"1\" class=\"dataframe\">\n",
       "  <thead>\n",
       "    <tr style=\"text-align: right;\">\n",
       "      <th></th>\n",
       "      <th>provider</th>\n",
       "      <th>dataset</th>\n",
       "      <th>dataset_id</th>\n",
       "      <th>layer</th>\n",
       "      <th>layer_id</th>\n",
       "    </tr>\n",
       "  </thead>\n",
       "  <tbody>\n",
       "  </tbody>\n",
       "</table>\n",
       "</div>"
      ],
      "text/plain": [
       "Empty DataFrame\n",
       "Columns: [provider, dataset, dataset_id, layer, layer_id]\n",
       "Index: []"
      ]
     },
     "execution_count": 5,
     "metadata": {},
     "output_type": "execute_result"
    }
   ],
   "source": [
    "df_contex"
   ]
  },
  {
   "cell_type": "code",
   "execution_count": 6,
   "metadata": {},
   "outputs": [],
   "source": [
    "provider = ['RW API'] * 16\n",
    "dataset = ['Access to Electricity', 'Access to Electricity', 'Access to Electricity',\n",
    "          'Adult Literacy Rate', 'Child Malnutrition', 'Child Malnutrition', 'Child Malnutrition',\n",
    "          'Child Malnutrition', 'Child Malnutrition', 'Current Account Balance', \n",
    "          'Gender Development Index', 'Gender Inequality Index', 'Gross Domestic Product',\n",
    "          'Regulatory Restrictiveness Index', 'Urban Population Living in Slums',\n",
    "          'Vulnerability to Climate Change Index']\n",
    "dataset_id = ['d446a52e-c4c1-4e74-ae30-3204620a0365', 'd446a52e-c4c1-4e74-ae30-3204620a0365',\n",
    "             'd446a52e-c4c1-4e74-ae30-3204620a0365', 'e8f53f73-d77c-485a-a2a6-1c47ea4aead9',\n",
    "             '8bc79a36-d77e-4ee3-b9bc-c77146cfc503', '8bc79a36-d77e-4ee3-b9bc-c77146cfc503',\n",
    "             '8bc79a36-d77e-4ee3-b9bc-c77146cfc503', '8bc79a36-d77e-4ee3-b9bc-c77146cfc503',\n",
    "             '8bc79a36-d77e-4ee3-b9bc-c77146cfc503', '2e31a1f3-576b-46b4-84f0-3f0cc399f887',\n",
    "             'd4ca3cc4-c162-469c-b341-b52284a73eaa', '11278cb6-b298-49a1-bf71-f1e269f40758',\n",
    "             '52c55378-0484-48c3-92fc-3ee94d21c716', 'fe311144-8c0e-4440-b068-6efd057e0f6a',\n",
    "             '35ce2b98-adbb-4873-b334-d7b1cc542de7', 'fa6443ff-eb95-4d0f-84d2-f0c91682efdf']\n",
    "layer = ['National Access to Electricity', 'Rural Access to Electricity',\n",
    "        'Urban Access to Electricity', 'Adult Literacy Rate', 'Children Under 5 Severely Wasting',\n",
    "        'Children Under 5 Stunting', 'Children Under 5 Underweight', 'Children Under 5 Wasting',\n",
    "        'Children Under 5 Overweight', 'Current Account Balance', 'Gender Development Index',\n",
    "        'Gender Inequality Index', 'Gross Domestic Product', 'Regulatory Restrictiveness Index',\n",
    "        'Urban Population Living in Slums', 'Vulnerability to Climate Change Index']\n",
    "layer_id = ['3369edc2-4537-44eb-979e-fb9b573d1493', 'd4404f80-c2d3-479d-b19c-749a8f6e2696',\n",
    "           'a0e3f05d-3b0a-44d1-8114-7e9e9e2b65f9', 'c43b7d21-1e0a-4257-8618-b5a356e06530',\n",
    "           'ce22f648-c965-4458-a801-2c58a4f69fac', 'bea1db0e-b99d-454b-bddd-c7cabd2e6b27',\n",
    "           '55721450-ce51-4f60-b7c8-416d74a1ad6c', '29edd41b-8f0b-43b5-a0fe-17cd68f8832d',\n",
    "           '65b778e8-6050-49ad-b9d1-dc4cb7c1ae59', 'e94efe26-7801-409f-9d24-90c2a652cf83',\n",
    "           '3ff24d05-7a38-49d3-a14a-cec86a29578d', '9d3ef845-93a1-47a0-b26a-c124b8a6ff2b',\n",
    "           'f98f8874-3d5d-4818-a75c-29a8d1b57cb3', '998035d6-2d5f-4876-ba6c-e7443db3afa8',\n",
    "           'ad704eea-4ef5-455c-b7ae-ad5bab572e0c', '07b6e469-d1c4-4ab8-a8a7-cf37f344ae4c']"
   ]
  },
  {
   "cell_type": "code",
   "execution_count": 7,
   "metadata": {},
   "outputs": [],
   "source": [
    "data = {'provider': provider, 'dataset': dataset, 'dataset_id': dataset_id, \n",
    "        'layer': layer, 'layer_id': layer_id}\n",
    "\n",
    "df_contex = pd.concat([df_contex,pd.DataFrame(data)], join='inner')\n",
    "\n",
    "df_contex.reset_index(inplace=True, drop=True)"
   ]
  },
  {
   "cell_type": "code",
   "execution_count": 8,
   "metadata": {},
   "outputs": [
    {
     "data": {
      "text/html": [
       "<div>\n",
       "<style scoped>\n",
       "    .dataframe tbody tr th:only-of-type {\n",
       "        vertical-align: middle;\n",
       "    }\n",
       "\n",
       "    .dataframe tbody tr th {\n",
       "        vertical-align: top;\n",
       "    }\n",
       "\n",
       "    .dataframe thead th {\n",
       "        text-align: right;\n",
       "    }\n",
       "</style>\n",
       "<table border=\"1\" class=\"dataframe\">\n",
       "  <thead>\n",
       "    <tr style=\"text-align: right;\">\n",
       "      <th></th>\n",
       "      <th>provider</th>\n",
       "      <th>dataset</th>\n",
       "      <th>dataset_id</th>\n",
       "      <th>layer</th>\n",
       "      <th>layer_id</th>\n",
       "    </tr>\n",
       "  </thead>\n",
       "  <tbody>\n",
       "    <tr>\n",
       "      <th>0</th>\n",
       "      <td>RW API</td>\n",
       "      <td>Access to Electricity</td>\n",
       "      <td>d446a52e-c4c1-4e74-ae30-3204620a0365</td>\n",
       "      <td>National Access to Electricity</td>\n",
       "      <td>3369edc2-4537-44eb-979e-fb9b573d1493</td>\n",
       "    </tr>\n",
       "    <tr>\n",
       "      <th>1</th>\n",
       "      <td>RW API</td>\n",
       "      <td>Access to Electricity</td>\n",
       "      <td>d446a52e-c4c1-4e74-ae30-3204620a0365</td>\n",
       "      <td>Rural Access to Electricity</td>\n",
       "      <td>d4404f80-c2d3-479d-b19c-749a8f6e2696</td>\n",
       "    </tr>\n",
       "    <tr>\n",
       "      <th>2</th>\n",
       "      <td>RW API</td>\n",
       "      <td>Access to Electricity</td>\n",
       "      <td>d446a52e-c4c1-4e74-ae30-3204620a0365</td>\n",
       "      <td>Urban Access to Electricity</td>\n",
       "      <td>a0e3f05d-3b0a-44d1-8114-7e9e9e2b65f9</td>\n",
       "    </tr>\n",
       "    <tr>\n",
       "      <th>3</th>\n",
       "      <td>RW API</td>\n",
       "      <td>Adult Literacy Rate</td>\n",
       "      <td>e8f53f73-d77c-485a-a2a6-1c47ea4aead9</td>\n",
       "      <td>Adult Literacy Rate</td>\n",
       "      <td>c43b7d21-1e0a-4257-8618-b5a356e06530</td>\n",
       "    </tr>\n",
       "    <tr>\n",
       "      <th>4</th>\n",
       "      <td>RW API</td>\n",
       "      <td>Child Malnutrition</td>\n",
       "      <td>8bc79a36-d77e-4ee3-b9bc-c77146cfc503</td>\n",
       "      <td>Children Under 5 Severely Wasting</td>\n",
       "      <td>ce22f648-c965-4458-a801-2c58a4f69fac</td>\n",
       "    </tr>\n",
       "    <tr>\n",
       "      <th>5</th>\n",
       "      <td>RW API</td>\n",
       "      <td>Child Malnutrition</td>\n",
       "      <td>8bc79a36-d77e-4ee3-b9bc-c77146cfc503</td>\n",
       "      <td>Children Under 5 Stunting</td>\n",
       "      <td>bea1db0e-b99d-454b-bddd-c7cabd2e6b27</td>\n",
       "    </tr>\n",
       "    <tr>\n",
       "      <th>6</th>\n",
       "      <td>RW API</td>\n",
       "      <td>Child Malnutrition</td>\n",
       "      <td>8bc79a36-d77e-4ee3-b9bc-c77146cfc503</td>\n",
       "      <td>Children Under 5 Underweight</td>\n",
       "      <td>55721450-ce51-4f60-b7c8-416d74a1ad6c</td>\n",
       "    </tr>\n",
       "    <tr>\n",
       "      <th>7</th>\n",
       "      <td>RW API</td>\n",
       "      <td>Child Malnutrition</td>\n",
       "      <td>8bc79a36-d77e-4ee3-b9bc-c77146cfc503</td>\n",
       "      <td>Children Under 5 Wasting</td>\n",
       "      <td>29edd41b-8f0b-43b5-a0fe-17cd68f8832d</td>\n",
       "    </tr>\n",
       "    <tr>\n",
       "      <th>8</th>\n",
       "      <td>RW API</td>\n",
       "      <td>Child Malnutrition</td>\n",
       "      <td>8bc79a36-d77e-4ee3-b9bc-c77146cfc503</td>\n",
       "      <td>Children Under 5 Overweight</td>\n",
       "      <td>65b778e8-6050-49ad-b9d1-dc4cb7c1ae59</td>\n",
       "    </tr>\n",
       "    <tr>\n",
       "      <th>9</th>\n",
       "      <td>RW API</td>\n",
       "      <td>Current Account Balance</td>\n",
       "      <td>2e31a1f3-576b-46b4-84f0-3f0cc399f887</td>\n",
       "      <td>Current Account Balance</td>\n",
       "      <td>e94efe26-7801-409f-9d24-90c2a652cf83</td>\n",
       "    </tr>\n",
       "    <tr>\n",
       "      <th>10</th>\n",
       "      <td>RW API</td>\n",
       "      <td>Gender Development Index</td>\n",
       "      <td>d4ca3cc4-c162-469c-b341-b52284a73eaa</td>\n",
       "      <td>Gender Development Index</td>\n",
       "      <td>3ff24d05-7a38-49d3-a14a-cec86a29578d</td>\n",
       "    </tr>\n",
       "    <tr>\n",
       "      <th>11</th>\n",
       "      <td>RW API</td>\n",
       "      <td>Gender Inequality Index</td>\n",
       "      <td>11278cb6-b298-49a1-bf71-f1e269f40758</td>\n",
       "      <td>Gender Inequality Index</td>\n",
       "      <td>9d3ef845-93a1-47a0-b26a-c124b8a6ff2b</td>\n",
       "    </tr>\n",
       "    <tr>\n",
       "      <th>12</th>\n",
       "      <td>RW API</td>\n",
       "      <td>Gross Domestic Product</td>\n",
       "      <td>52c55378-0484-48c3-92fc-3ee94d21c716</td>\n",
       "      <td>Gross Domestic Product</td>\n",
       "      <td>f98f8874-3d5d-4818-a75c-29a8d1b57cb3</td>\n",
       "    </tr>\n",
       "    <tr>\n",
       "      <th>13</th>\n",
       "      <td>RW API</td>\n",
       "      <td>Regulatory Restrictiveness Index</td>\n",
       "      <td>fe311144-8c0e-4440-b068-6efd057e0f6a</td>\n",
       "      <td>Regulatory Restrictiveness Index</td>\n",
       "      <td>998035d6-2d5f-4876-ba6c-e7443db3afa8</td>\n",
       "    </tr>\n",
       "    <tr>\n",
       "      <th>14</th>\n",
       "      <td>RW API</td>\n",
       "      <td>Urban Population Living in Slums</td>\n",
       "      <td>35ce2b98-adbb-4873-b334-d7b1cc542de7</td>\n",
       "      <td>Urban Population Living in Slums</td>\n",
       "      <td>ad704eea-4ef5-455c-b7ae-ad5bab572e0c</td>\n",
       "    </tr>\n",
       "    <tr>\n",
       "      <th>15</th>\n",
       "      <td>RW API</td>\n",
       "      <td>Vulnerability to Climate Change Index</td>\n",
       "      <td>fa6443ff-eb95-4d0f-84d2-f0c91682efdf</td>\n",
       "      <td>Vulnerability to Climate Change Index</td>\n",
       "      <td>07b6e469-d1c4-4ab8-a8a7-cf37f344ae4c</td>\n",
       "    </tr>\n",
       "  </tbody>\n",
       "</table>\n",
       "</div>"
      ],
      "text/plain": [
       "   provider                                dataset  \\\n",
       "0    RW API                  Access to Electricity   \n",
       "1    RW API                  Access to Electricity   \n",
       "2    RW API                  Access to Electricity   \n",
       "3    RW API                    Adult Literacy Rate   \n",
       "4    RW API                     Child Malnutrition   \n",
       "5    RW API                     Child Malnutrition   \n",
       "6    RW API                     Child Malnutrition   \n",
       "7    RW API                     Child Malnutrition   \n",
       "8    RW API                     Child Malnutrition   \n",
       "9    RW API                Current Account Balance   \n",
       "10   RW API               Gender Development Index   \n",
       "11   RW API                Gender Inequality Index   \n",
       "12   RW API                 Gross Domestic Product   \n",
       "13   RW API       Regulatory Restrictiveness Index   \n",
       "14   RW API       Urban Population Living in Slums   \n",
       "15   RW API  Vulnerability to Climate Change Index   \n",
       "\n",
       "                              dataset_id  \\\n",
       "0   d446a52e-c4c1-4e74-ae30-3204620a0365   \n",
       "1   d446a52e-c4c1-4e74-ae30-3204620a0365   \n",
       "2   d446a52e-c4c1-4e74-ae30-3204620a0365   \n",
       "3   e8f53f73-d77c-485a-a2a6-1c47ea4aead9   \n",
       "4   8bc79a36-d77e-4ee3-b9bc-c77146cfc503   \n",
       "5   8bc79a36-d77e-4ee3-b9bc-c77146cfc503   \n",
       "6   8bc79a36-d77e-4ee3-b9bc-c77146cfc503   \n",
       "7   8bc79a36-d77e-4ee3-b9bc-c77146cfc503   \n",
       "8   8bc79a36-d77e-4ee3-b9bc-c77146cfc503   \n",
       "9   2e31a1f3-576b-46b4-84f0-3f0cc399f887   \n",
       "10  d4ca3cc4-c162-469c-b341-b52284a73eaa   \n",
       "11  11278cb6-b298-49a1-bf71-f1e269f40758   \n",
       "12  52c55378-0484-48c3-92fc-3ee94d21c716   \n",
       "13  fe311144-8c0e-4440-b068-6efd057e0f6a   \n",
       "14  35ce2b98-adbb-4873-b334-d7b1cc542de7   \n",
       "15  fa6443ff-eb95-4d0f-84d2-f0c91682efdf   \n",
       "\n",
       "                                    layer  \\\n",
       "0          National Access to Electricity   \n",
       "1             Rural Access to Electricity   \n",
       "2             Urban Access to Electricity   \n",
       "3                     Adult Literacy Rate   \n",
       "4       Children Under 5 Severely Wasting   \n",
       "5               Children Under 5 Stunting   \n",
       "6            Children Under 5 Underweight   \n",
       "7                Children Under 5 Wasting   \n",
       "8             Children Under 5 Overweight   \n",
       "9                 Current Account Balance   \n",
       "10               Gender Development Index   \n",
       "11                Gender Inequality Index   \n",
       "12                 Gross Domestic Product   \n",
       "13       Regulatory Restrictiveness Index   \n",
       "14       Urban Population Living in Slums   \n",
       "15  Vulnerability to Climate Change Index   \n",
       "\n",
       "                                layer_id  \n",
       "0   3369edc2-4537-44eb-979e-fb9b573d1493  \n",
       "1   d4404f80-c2d3-479d-b19c-749a8f6e2696  \n",
       "2   a0e3f05d-3b0a-44d1-8114-7e9e9e2b65f9  \n",
       "3   c43b7d21-1e0a-4257-8618-b5a356e06530  \n",
       "4   ce22f648-c965-4458-a801-2c58a4f69fac  \n",
       "5   bea1db0e-b99d-454b-bddd-c7cabd2e6b27  \n",
       "6   55721450-ce51-4f60-b7c8-416d74a1ad6c  \n",
       "7   29edd41b-8f0b-43b5-a0fe-17cd68f8832d  \n",
       "8   65b778e8-6050-49ad-b9d1-dc4cb7c1ae59  \n",
       "9   e94efe26-7801-409f-9d24-90c2a652cf83  \n",
       "10  3ff24d05-7a38-49d3-a14a-cec86a29578d  \n",
       "11  9d3ef845-93a1-47a0-b26a-c124b8a6ff2b  \n",
       "12  f98f8874-3d5d-4818-a75c-29a8d1b57cb3  \n",
       "13  998035d6-2d5f-4876-ba6c-e7443db3afa8  \n",
       "14  ad704eea-4ef5-455c-b7ae-ad5bab572e0c  \n",
       "15  07b6e469-d1c4-4ab8-a8a7-cf37f344ae4c  "
      ]
     },
     "execution_count": 8,
     "metadata": {},
     "output_type": "execute_result"
    }
   ],
   "source": [
    "df_contex"
   ]
  },
  {
   "cell_type": "markdown",
   "metadata": {},
   "source": [
    "Save data"
   ]
  },
  {
   "cell_type": "code",
   "execution_count": 9,
   "metadata": {},
   "outputs": [],
   "source": [
    "df_contex.to_csv('/Users/ikersanchez/Vizzuality/PROIEKTUAK/i2i/Data/cartodb/contextual_spec.csv')"
   ]
  },
  {
   "cell_type": "code",
   "execution_count": null,
   "metadata": {},
   "outputs": [],
   "source": []
  }
 ],
 "metadata": {
  "kernelspec": {
   "display_name": "Python 3",
   "language": "python",
   "name": "python3"
  },
  "language_info": {
   "codemirror_mode": {
    "name": "ipython",
    "version": 3
   },
   "file_extension": ".py",
   "mimetype": "text/x-python",
   "name": "python",
   "nbconvert_exporter": "python",
   "pygments_lexer": "ipython3",
   "version": "3.6.4"
  }
 },
 "nbformat": 4,
 "nbformat_minor": 2
}
