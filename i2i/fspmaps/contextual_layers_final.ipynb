{
 "cells": [
  {
   "cell_type": "code",
   "execution_count": 278,
   "metadata": {},
   "outputs": [],
   "source": [
    "import numpy as np\n",
    "import pandas as pd\n",
    "import geopandas as gpd\n",
    "import rasterio\n",
    "from rasterstats import zonal_stats\n",
    "from iso3166 import countries_by_name\n",
    "from shapely.ops import cascaded_union\n",
    "from shapely.geometry import Point\n",
    "import matplotlib.pyplot as plt\n",
    "%matplotlib inline  "
   ]
  },
  {
   "cell_type": "markdown",
   "metadata": {},
   "source": [
    "### Data Frame"
   ]
  },
  {
   "cell_type": "code",
   "execution_count": 10,
   "metadata": {},
   "outputs": [],
   "source": [
    "iso = boundaries.drop(columns='geometry')"
   ]
  },
  {
   "cell_type": "code",
   "execution_count": 11,
   "metadata": {},
   "outputs": [],
   "source": [
    "iso['iso']= ['IND','KEN','UGA','BGD','NGA','TZA']"
   ]
  },
  {
   "cell_type": "code",
   "execution_count": 12,
   "metadata": {},
   "outputs": [
    {
     "data": {
      "text/html": [
       "<div>\n",
       "<style scoped>\n",
       "    .dataframe tbody tr th:only-of-type {\n",
       "        vertical-align: middle;\n",
       "    }\n",
       "\n",
       "    .dataframe tbody tr th {\n",
       "        vertical-align: top;\n",
       "    }\n",
       "\n",
       "    .dataframe thead th {\n",
       "        text-align: right;\n",
       "    }\n",
       "</style>\n",
       "<table border=\"1\" class=\"dataframe\">\n",
       "  <thead>\n",
       "    <tr style=\"text-align: right;\">\n",
       "      <th></th>\n",
       "      <th>country</th>\n",
       "      <th>iso</th>\n",
       "    </tr>\n",
       "  </thead>\n",
       "  <tbody>\n",
       "    <tr>\n",
       "      <th>0</th>\n",
       "      <td>India</td>\n",
       "      <td>IND</td>\n",
       "    </tr>\n",
       "    <tr>\n",
       "      <th>0</th>\n",
       "      <td>Kenya</td>\n",
       "      <td>KEN</td>\n",
       "    </tr>\n",
       "    <tr>\n",
       "      <th>0</th>\n",
       "      <td>Uganda</td>\n",
       "      <td>UGA</td>\n",
       "    </tr>\n",
       "    <tr>\n",
       "      <th>0</th>\n",
       "      <td>Bangladesh</td>\n",
       "      <td>BGD</td>\n",
       "    </tr>\n",
       "    <tr>\n",
       "      <th>0</th>\n",
       "      <td>Nigeria</td>\n",
       "      <td>NGA</td>\n",
       "    </tr>\n",
       "    <tr>\n",
       "      <th>0</th>\n",
       "      <td>Tanzania</td>\n",
       "      <td>TZA</td>\n",
       "    </tr>\n",
       "  </tbody>\n",
       "</table>\n",
       "</div>"
      ],
      "text/plain": [
       "      country  iso\n",
       "0       India  IND\n",
       "0       Kenya  KEN\n",
       "0      Uganda  UGA\n",
       "0  Bangladesh  BGD\n",
       "0     Nigeria  NGA\n",
       "0    Tanzania  TZA"
      ]
     },
     "execution_count": 12,
     "metadata": {},
     "output_type": "execute_result"
    }
   ],
   "source": [
    "iso"
   ]
  },
  {
   "cell_type": "code",
   "execution_count": 104,
   "metadata": {},
   "outputs": [
    {
     "data": {
      "text/html": [
       "<div>\n",
       "<style scoped>\n",
       "    .dataframe tbody tr th:only-of-type {\n",
       "        vertical-align: middle;\n",
       "    }\n",
       "\n",
       "    .dataframe tbody tr th {\n",
       "        vertical-align: top;\n",
       "    }\n",
       "\n",
       "    .dataframe thead th {\n",
       "        text-align: right;\n",
       "    }\n",
       "</style>\n",
       "<table border=\"1\" class=\"dataframe\">\n",
       "  <thead>\n",
       "    <tr style=\"text-align: right;\">\n",
       "      <th></th>\n",
       "      <th>country</th>\n",
       "      <th>iso3</th>\n",
       "    </tr>\n",
       "  </thead>\n",
       "  <tbody>\n",
       "    <tr>\n",
       "      <th>AFGHANISTAN</th>\n",
       "      <td>Afghanistan</td>\n",
       "      <td>AFG</td>\n",
       "    </tr>\n",
       "    <tr>\n",
       "      <th>ALBANIA</th>\n",
       "      <td>Albania</td>\n",
       "      <td>ALB</td>\n",
       "    </tr>\n",
       "    <tr>\n",
       "      <th>ALGERIA</th>\n",
       "      <td>Algeria</td>\n",
       "      <td>DZA</td>\n",
       "    </tr>\n",
       "    <tr>\n",
       "      <th>AMERICAN SAMOA</th>\n",
       "      <td>American Samoa</td>\n",
       "      <td>ASM</td>\n",
       "    </tr>\n",
       "    <tr>\n",
       "      <th>ANDORRA</th>\n",
       "      <td>Andorra</td>\n",
       "      <td>AND</td>\n",
       "    </tr>\n",
       "  </tbody>\n",
       "</table>\n",
       "</div>"
      ],
      "text/plain": [
       "                       country iso3\n",
       "AFGHANISTAN        Afghanistan  AFG\n",
       "ALBANIA                Albania  ALB\n",
       "ALGERIA                Algeria  DZA\n",
       "AMERICAN SAMOA  American Samoa  ASM\n",
       "ANDORRA                Andorra  AND"
      ]
     },
     "execution_count": 104,
     "metadata": {},
     "output_type": "execute_result"
    }
   ],
   "source": [
    "countries = pd.DataFrame(countries_by_name)\n",
    "countries = pd.DataFrame({'country':countries.iloc[0], 'iso3': countries.iloc[2]})\n",
    "add_countries = pd.DataFrame({'country':['Republic of Congo', 'Syria', 'Ivory Coast', 'Tanzania', 'Democratic Republic of the Congo'],\n",
    "                            'iso3': ['COG','SYR','CIV', 'TZA', 'COD']})\n",
    "countries = pd.concat([countries, add_countries])\n",
    "countries.head()"
   ]
  },
  {
   "cell_type": "markdown",
   "metadata": {},
   "source": [
    "***"
   ]
  },
  {
   "cell_type": "markdown",
   "metadata": {},
   "source": [
    "# AidData"
   ]
  },
  {
   "cell_type": "markdown",
   "metadata": {},
   "source": [
    "** Democratic Republic of the Congo **"
   ]
  },
  {
   "cell_type": "code",
   "execution_count": 205,
   "metadata": {},
   "outputs": [],
   "source": [
    "DRC_locations = pd.read_csv('/Users/ikersanchez/Vizzuality/PROIEKTUAK/i2i/Data/Contextual_Layers/AidData/DRC-AIMS_GeocodedResearchRelease_Level1_v1.3.1/data/locations.csv')\n",
    "DRC_projects = pd.read_csv('/Users/ikersanchez/Vizzuality/PROIEKTUAK/i2i/Data/Contextual_Layers/AidData/DRC-AIMS_GeocodedResearchRelease_Level1_v1.3.1/data/projects.csv')\n",
    "DRC_transactions = pd.read_csv('/Users/ikersanchez/Vizzuality/PROIEKTUAK/i2i/Data/Contextual_Layers/AidData/DRC-AIMS_GeocodedResearchRelease_Level1_v1.3.1/data/transactions.csv')"
   ]
  },
  {
   "cell_type": "code",
   "execution_count": 206,
   "metadata": {},
   "outputs": [],
   "source": [
    "DRC_locations = DRC_locations[['project_id', 'latitude', 'longitude', 'gazetteer_adm_name']]\n",
    "DRC_projects = DRC_projects[['project_id','project_title','donors', 'donors_iso3', 'recipients', 'recipients_iso3','ad_sector_names', 'status', 'transactions_start_year', 'transactions_end_year', 'total_commitments']]\n",
    "DRC_transactions = DRC_transactions[['project_id','transaction_year', 'transaction_currency', 'transaction_value']]"
   ]
  },
  {
   "cell_type": "code",
   "execution_count": 207,
   "metadata": {},
   "outputs": [],
   "source": [
    "DRC_transactions = pd.merge(DRC_transactions, DRC_projects, how='left', on='project_id')\n",
    "DRC_transactions = pd.merge(DRC_transactions, DRC_locations, how='left', on='project_id')\n",
    "DRC_transactions.dropna(inplace=True)"
   ]
  },
  {
   "cell_type": "markdown",
   "metadata": {},
   "source": [
    "** Nigeria **"
   ]
  },
  {
   "cell_type": "code",
   "execution_count": 218,
   "metadata": {},
   "outputs": [],
   "source": [
    "Nigeria_locations = pd.read_csv('/Users/ikersanchez/Vizzuality/PROIEKTUAK/i2i/Data/Contextual_Layers/AidData/NigeriaAIMS_GeocodedResearchRelease_Level1_v1.3.1/data/locations.csv')\n",
    "Nigeria_projects = pd.read_csv('/Users/ikersanchez/Vizzuality/PROIEKTUAK/i2i/Data/Contextual_Layers/AidData/NigeriaAIMS_GeocodedResearchRelease_Level1_v1.3.1/data/projects.csv')\n",
    "Nigeria_transactions = pd.read_csv('/Users/ikersanchez/Vizzuality/PROIEKTUAK/i2i/Data/Contextual_Layers/AidData/NigeriaAIMS_GeocodedResearchRelease_Level1_v1.3.1/data/transactions.csv')"
   ]
  },
  {
   "cell_type": "code",
   "execution_count": 219,
   "metadata": {},
   "outputs": [],
   "source": [
    "Nigeria_locations = Nigeria_locations[['project_id', 'latitude', 'longitude', 'gazetteer_adm_name']]\n",
    "Nigeria_projects = Nigeria_projects[['project_id','project_title','donors', 'donors_iso3', 'recipients', 'recipients_iso3','ad_sector_names', 'status', 'transactions_start_year', 'transactions_end_year', 'total_commitments']]\n",
    "Nigeria_transactions = Nigeria_transactions[['project_id','transaction_year', 'transaction_currency', 'transaction_value']]"
   ]
  },
  {
   "cell_type": "code",
   "execution_count": 220,
   "metadata": {},
   "outputs": [],
   "source": [
    "Nigeria_transactions = pd.merge(Nigeria_transactions, Nigeria_projects, how='left', on='project_id')\n",
    "Nigeria_transactions = pd.merge(Nigeria_transactions, Nigeria_locations, how='left', on='project_id')\n",
    "Nigeria_transactions.dropna(inplace=True)"
   ]
  },
  {
   "cell_type": "markdown",
   "metadata": {},
   "source": [
    "** Senegal **"
   ]
  },
  {
   "cell_type": "code",
   "execution_count": 222,
   "metadata": {},
   "outputs": [],
   "source": [
    "Senegal_locations = pd.read_csv('/Users/ikersanchez/Vizzuality/PROIEKTUAK/i2i/Data/Contextual_Layers/AidData/SenegalAIMS_geocodedresearchrelease_level1_v1.5.1/data/locations.csv')\n",
    "Senegal_projects = pd.read_csv('/Users/ikersanchez/Vizzuality/PROIEKTUAK/i2i/Data/Contextual_Layers/AidData/SenegalAIMS_geocodedresearchrelease_level1_v1.5.1/data/projects.csv')\n",
    "Senegal_transactions = pd.read_csv('/Users/ikersanchez/Vizzuality/PROIEKTUAK/i2i/Data/Contextual_Layers/AidData/SenegalAIMS_geocodedresearchrelease_level1_v1.5.1/data/transactions.csv')"
   ]
  },
  {
   "cell_type": "code",
   "execution_count": 223,
   "metadata": {},
   "outputs": [],
   "source": [
    "Senegal_locations = Senegal_locations[['project_id', 'latitude', 'longitude', 'gazetteer_adm_name']]\n",
    "Senegal_projects = Senegal_projects[['project_id','project_title','donors', 'donors_iso3', 'recipients', 'recipients_iso3','ad_sector_names', 'status', 'transactions_start_year', 'transactions_end_year', 'total_commitments']]\n",
    "Senegal_transactions = Senegal_transactions[['project_id','transaction_year', 'transaction_currency', 'transaction_value']]"
   ]
  },
  {
   "cell_type": "code",
   "execution_count": 224,
   "metadata": {},
   "outputs": [],
   "source": [
    "Senegal_transactions = pd.merge(Senegal_transactions, Senegal_projects, how='left', on='project_id')\n",
    "Senegal_transactions = pd.merge(Senegal_transactions, Senegal_locations, how='left', on='project_id')\n",
    "Senegal_transactions.dropna(inplace=True)"
   ]
  },
  {
   "cell_type": "markdown",
   "metadata": {},
   "source": [
    "** Sierra Leone **"
   ]
  },
  {
   "cell_type": "code",
   "execution_count": 226,
   "metadata": {},
   "outputs": [],
   "source": [
    "SierraLeone_locations = pd.read_csv('/Users/ikersanchez/Vizzuality/PROIEKTUAK/i2i/Data/Contextual_Layers/AidData/SierraLeoneAIMS_geocodedresearchrelease_level1_v1.0.0/data/locations.csv')\n",
    "SierraLeone_projects = pd.read_csv('/Users/ikersanchez/Vizzuality/PROIEKTUAK/i2i/Data/Contextual_Layers/AidData/SierraLeoneAIMS_geocodedresearchrelease_level1_v1.0.0/data/projects.csv')\n",
    "SierraLeone_transactions = pd.read_csv('/Users/ikersanchez/Vizzuality/PROIEKTUAK/i2i/Data/Contextual_Layers/AidData/SierraLeoneAIMS_geocodedresearchrelease_level1_v1.0.0/data/transactions.csv')"
   ]
  },
  {
   "cell_type": "code",
   "execution_count": 227,
   "metadata": {},
   "outputs": [],
   "source": [
    "SierraLeone_locations = SierraLeone_locations[['project_id', 'latitude', 'longitude', 'gazetteer_adm_name']]\n",
    "SierraLeone_projects = SierraLeone_projects[['project_id','project_title','donors', 'donors_iso3', 'recipients', 'recipients_iso3','ad_sector_names', 'status', 'transactions_start_year', 'transactions_end_year', 'total_commitments']]\n",
    "SierraLeone_transactions = SierraLeone_transactions[['project_id','transaction_year', 'transaction_currency', 'transaction_value']]"
   ]
  },
  {
   "cell_type": "code",
   "execution_count": 228,
   "metadata": {},
   "outputs": [],
   "source": [
    "SierraLeone_transactions = pd.merge(SierraLeone_transactions, SierraLeone_projects, how='left', on='project_id')\n",
    "SierraLeone_transactions = pd.merge(SierraLeone_transactions, SierraLeone_locations, how='left', on='project_id')\n",
    "SierraLeone_transactions.dropna(inplace=True)"
   ]
  },
  {
   "cell_type": "markdown",
   "metadata": {},
   "source": [
    "** Somalia ** "
   ]
  },
  {
   "cell_type": "code",
   "execution_count": 230,
   "metadata": {},
   "outputs": [],
   "source": [
    "Somalia_locations = pd.read_csv('/Users/ikersanchez/Vizzuality/PROIEKTUAK/i2i/Data/Contextual_Layers/AidData/SomaliaAIMS_GeocodedResearchRelease_Level1_v1.1.1/data/locations.csv')\n",
    "Somalia_projects = pd.read_csv('/Users/ikersanchez/Vizzuality/PROIEKTUAK/i2i/Data/Contextual_Layers/AidData/SomaliaAIMS_GeocodedResearchRelease_Level1_v1.1.1/data/projects.csv')\n",
    "Somalia_transactions = pd.read_csv('/Users/ikersanchez/Vizzuality/PROIEKTUAK/i2i/Data/Contextual_Layers/AidData/SomaliaAIMS_GeocodedResearchRelease_Level1_v1.1.1/data/transactions.csv')"
   ]
  },
  {
   "cell_type": "code",
   "execution_count": 231,
   "metadata": {},
   "outputs": [],
   "source": [
    "Somalia_locations = Somalia_locations[['project_id', 'latitude', 'longitude', 'gazetteer_adm_name']]\n",
    "Somalia_projects = Somalia_projects[['project_id','project_title','donors', 'donors_iso3', 'recipients', 'recipients_iso3','ad_sector_names', 'status', 'transactions_start_year', 'transactions_end_year', 'total_commitments']]\n",
    "Somalia_transactions = Somalia_transactions[['project_id','transaction_year', 'transaction_currency', 'transaction_value']]"
   ]
  },
  {
   "cell_type": "code",
   "execution_count": 232,
   "metadata": {},
   "outputs": [],
   "source": [
    "Somalia_transactions = pd.merge(Somalia_transactions, Somalia_projects, how='left', on='project_id')\n",
    "Somalia_transactions = pd.merge(Somalia_transactions, Somalia_locations, how='left', on='project_id')\n",
    "Somalia_transactions.dropna(inplace=True)"
   ]
  },
  {
   "cell_type": "markdown",
   "metadata": {},
   "source": [
    "** Uganda **"
   ]
  },
  {
   "cell_type": "code",
   "execution_count": 234,
   "metadata": {},
   "outputs": [],
   "source": [
    "Uganda_locations = pd.read_csv('/Users/ikersanchez/Vizzuality/PROIEKTUAK/i2i/Data/Contextual_Layers/AidData/UgandaAIMS_GeocodedResearchRelease_Level1_v1.4.1/data/locations.csv')\n",
    "Uganda_projects = pd.read_csv('/Users/ikersanchez/Vizzuality/PROIEKTUAK/i2i/Data/Contextual_Layers/AidData/UgandaAIMS_GeocodedResearchRelease_Level1_v1.4.1/data/projects.csv')\n",
    "Uganda_transactions = pd.read_csv('/Users/ikersanchez/Vizzuality/PROIEKTUAK/i2i/Data/Contextual_Layers/AidData/UgandaAIMS_GeocodedResearchRelease_Level1_v1.4.1/data/transactions.csv')"
   ]
  },
  {
   "cell_type": "code",
   "execution_count": 235,
   "metadata": {},
   "outputs": [],
   "source": [
    "Uganda_locations = Uganda_locations[['project_id', 'latitude', 'longitude', 'gazetteer_adm_name']]\n",
    "Uganda_projects = Uganda_projects[['project_id','project_title','donors', 'donors_iso3', 'recipients', 'recipients_iso3','ad_sector_names', 'status', 'transactions_start_year', 'transactions_end_year', 'total_commitments']]\n",
    "Uganda_transactions = Uganda_transactions[['project_id','transaction_year', 'transaction_currency', 'transaction_value']]"
   ]
  },
  {
   "cell_type": "code",
   "execution_count": 236,
   "metadata": {},
   "outputs": [],
   "source": [
    "Uganda_transactions = pd.merge(Uganda_transactions, Uganda_projects, how='left', on='project_id')\n",
    "Uganda_transactions = pd.merge(Uganda_transactions, Uganda_locations, how='left', on='project_id')\n",
    "Uganda_transactions.dropna(inplace=True)"
   ]
  },
  {
   "cell_type": "markdown",
   "metadata": {},
   "source": [
    "** Final table **"
   ]
  },
  {
   "cell_type": "code",
   "execution_count": 240,
   "metadata": {},
   "outputs": [],
   "source": [
    "AidData_transactions = pd.concat([DRC_transactions,Nigeria_transactions,Senegal_transactions,\n",
    "                                 SierraLeone_transactions,Somalia_transactions,Uganda_transactions])"
   ]
  },
  {
   "cell_type": "code",
   "execution_count": 242,
   "metadata": {},
   "outputs": [
    {
     "data": {
      "text/html": [
       "<div>\n",
       "<style scoped>\n",
       "    .dataframe tbody tr th:only-of-type {\n",
       "        vertical-align: middle;\n",
       "    }\n",
       "\n",
       "    .dataframe tbody tr th {\n",
       "        vertical-align: top;\n",
       "    }\n",
       "\n",
       "    .dataframe thead th {\n",
       "        text-align: right;\n",
       "    }\n",
       "</style>\n",
       "<table border=\"1\" class=\"dataframe\">\n",
       "  <thead>\n",
       "    <tr style=\"text-align: right;\">\n",
       "      <th></th>\n",
       "      <th>project_id</th>\n",
       "      <th>transaction_year</th>\n",
       "      <th>transaction_currency</th>\n",
       "      <th>transaction_value</th>\n",
       "      <th>project_title</th>\n",
       "      <th>donors</th>\n",
       "      <th>donors_iso3</th>\n",
       "      <th>recipients</th>\n",
       "      <th>recipients_iso3</th>\n",
       "      <th>ad_sector_names</th>\n",
       "      <th>status</th>\n",
       "      <th>transactions_start_year</th>\n",
       "      <th>transactions_end_year</th>\n",
       "      <th>total_commitments</th>\n",
       "      <th>latitude</th>\n",
       "      <th>longitude</th>\n",
       "      <th>gazetteer_adm_name</th>\n",
       "    </tr>\n",
       "  </thead>\n",
       "  <tbody>\n",
       "    <tr>\n",
       "      <th>135</th>\n",
       "      <td>1120098715286</td>\n",
       "      <td>2012</td>\n",
       "      <td>USD</td>\n",
       "      <td>851494.144731</td>\n",
       "      <td>Renforcer la pacification des communautés loca...</td>\n",
       "      <td>USAID</td>\n",
       "      <td>USA</td>\n",
       "      <td>DRC</td>\n",
       "      <td>COD</td>\n",
       "      <td>Government and civil society</td>\n",
       "      <td>Implementation</td>\n",
       "      <td>2012</td>\n",
       "      <td>2012</td>\n",
       "      <td>851494.144731</td>\n",
       "      <td>-0.66667</td>\n",
       "      <td>28.75000</td>\n",
       "      <td>Earth|Africa|DR Congo|Nord Kivu</td>\n",
       "    </tr>\n",
       "    <tr>\n",
       "      <th>136</th>\n",
       "      <td>1120098715286</td>\n",
       "      <td>2012</td>\n",
       "      <td>USD</td>\n",
       "      <td>851494.144731</td>\n",
       "      <td>Renforcer la pacification des communautés loca...</td>\n",
       "      <td>USAID</td>\n",
       "      <td>USA</td>\n",
       "      <td>DRC</td>\n",
       "      <td>COD</td>\n",
       "      <td>Government and civil society</td>\n",
       "      <td>Implementation</td>\n",
       "      <td>2012</td>\n",
       "      <td>2012</td>\n",
       "      <td>851494.144731</td>\n",
       "      <td>2.50000</td>\n",
       "      <td>27.00000</td>\n",
       "      <td>Earth|Africa|Congo|Eastern Province</td>\n",
       "    </tr>\n",
       "    <tr>\n",
       "      <th>137</th>\n",
       "      <td>1120098715286</td>\n",
       "      <td>2012</td>\n",
       "      <td>USD</td>\n",
       "      <td>851494.144731</td>\n",
       "      <td>Renforcer la pacification des communautés loca...</td>\n",
       "      <td>USAID</td>\n",
       "      <td>USA</td>\n",
       "      <td>DRC</td>\n",
       "      <td>COD</td>\n",
       "      <td>Government and civil society</td>\n",
       "      <td>Implementation</td>\n",
       "      <td>2012</td>\n",
       "      <td>2012</td>\n",
       "      <td>851494.144731</td>\n",
       "      <td>-3.16667</td>\n",
       "      <td>28.25000</td>\n",
       "      <td>Earth|Africa|DR Congo|South Kivu</td>\n",
       "    </tr>\n",
       "    <tr>\n",
       "      <th>138</th>\n",
       "      <td>1120098715286</td>\n",
       "      <td>2012</td>\n",
       "      <td>USD</td>\n",
       "      <td>851494.144731</td>\n",
       "      <td>Renforcer la pacification des communautés loca...</td>\n",
       "      <td>USAID</td>\n",
       "      <td>USA</td>\n",
       "      <td>DRC</td>\n",
       "      <td>COD</td>\n",
       "      <td>Government and civil society</td>\n",
       "      <td>Implementation</td>\n",
       "      <td>2012</td>\n",
       "      <td>2012</td>\n",
       "      <td>851494.144731</td>\n",
       "      <td>1.56667</td>\n",
       "      <td>30.25000</td>\n",
       "      <td>Earth|Africa|DR Congo|Eastern Province|Ituri</td>\n",
       "    </tr>\n",
       "    <tr>\n",
       "      <th>139</th>\n",
       "      <td>1120098715286</td>\n",
       "      <td>2012</td>\n",
       "      <td>USD</td>\n",
       "      <td>851494.144731</td>\n",
       "      <td>Renforcer la pacification des communautés loca...</td>\n",
       "      <td>USAID</td>\n",
       "      <td>USA</td>\n",
       "      <td>DRC</td>\n",
       "      <td>COD</td>\n",
       "      <td>Government and civil society</td>\n",
       "      <td>Implementation</td>\n",
       "      <td>2012</td>\n",
       "      <td>2012</td>\n",
       "      <td>851494.144731</td>\n",
       "      <td>-0.65515</td>\n",
       "      <td>29.03398</td>\n",
       "      <td>Earth|Africa|DR Congo|Nord Kivu|North Kivu</td>\n",
       "    </tr>\n",
       "  </tbody>\n",
       "</table>\n",
       "</div>"
      ],
      "text/plain": [
       "        project_id  transaction_year transaction_currency  transaction_value  \\\n",
       "135  1120098715286              2012                  USD      851494.144731   \n",
       "136  1120098715286              2012                  USD      851494.144731   \n",
       "137  1120098715286              2012                  USD      851494.144731   \n",
       "138  1120098715286              2012                  USD      851494.144731   \n",
       "139  1120098715286              2012                  USD      851494.144731   \n",
       "\n",
       "                                         project_title donors donors_iso3  \\\n",
       "135  Renforcer la pacification des communautés loca...  USAID         USA   \n",
       "136  Renforcer la pacification des communautés loca...  USAID         USA   \n",
       "137  Renforcer la pacification des communautés loca...  USAID         USA   \n",
       "138  Renforcer la pacification des communautés loca...  USAID         USA   \n",
       "139  Renforcer la pacification des communautés loca...  USAID         USA   \n",
       "\n",
       "    recipients recipients_iso3               ad_sector_names          status  \\\n",
       "135        DRC             COD  Government and civil society  Implementation   \n",
       "136        DRC             COD  Government and civil society  Implementation   \n",
       "137        DRC             COD  Government and civil society  Implementation   \n",
       "138        DRC             COD  Government and civil society  Implementation   \n",
       "139        DRC             COD  Government and civil society  Implementation   \n",
       "\n",
       "    transactions_start_year transactions_end_year  total_commitments  \\\n",
       "135                    2012                  2012      851494.144731   \n",
       "136                    2012                  2012      851494.144731   \n",
       "137                    2012                  2012      851494.144731   \n",
       "138                    2012                  2012      851494.144731   \n",
       "139                    2012                  2012      851494.144731   \n",
       "\n",
       "     latitude  longitude                            gazetteer_adm_name  \n",
       "135  -0.66667   28.75000               Earth|Africa|DR Congo|Nord Kivu  \n",
       "136   2.50000   27.00000           Earth|Africa|Congo|Eastern Province  \n",
       "137  -3.16667   28.25000              Earth|Africa|DR Congo|South Kivu  \n",
       "138   1.56667   30.25000  Earth|Africa|DR Congo|Eastern Province|Ituri  \n",
       "139  -0.65515   29.03398    Earth|Africa|DR Congo|Nord Kivu|North Kivu  "
      ]
     },
     "execution_count": 242,
     "metadata": {},
     "output_type": "execute_result"
    }
   ],
   "source": [
    "AidData_transactions.head()"
   ]
  },
  {
   "cell_type": "markdown",
   "metadata": {},
   "source": [
    "Boundaries"
   ]
  },
  {
   "cell_type": "code",
   "execution_count": 270,
   "metadata": {},
   "outputs": [],
   "source": [
    "countries = gpd.read_file('/Users/ikersanchez/Vizzuality/DATA/all_countries/all_countries.shp')\n",
    "# COD border\n",
    "border_mask = countries['iso_a3'] == 'COD'\n",
    "COD_border = countries[border_mask]\n",
    "# NGA border\n",
    "border_mask = countries['iso_a3'] == 'NGA'\n",
    "NGA_border = countries[border_mask]\n",
    "# SEN border\n",
    "border_mask = countries['iso_a3'] == 'SEN'\n",
    "SEN_border = countries[border_mask]\n",
    "# SLE border\n",
    "border_mask = countries['iso_a3'] == 'SLE'\n",
    "SLE_border = countries[border_mask]\n",
    "# SOM border\n",
    "border_mask = countries['iso_a3'] == 'SOM'\n",
    "SOM_border = countries[border_mask]\n",
    "# UGA border\n",
    "border_mask = countries['iso_a3'] == 'UGA'\n",
    "UGA_border = countries[border_mask]\n",
    "# All\n",
    "borders = pd.concat([COD_border,NGA_border,SEN_border,SLE_border,SOM_border,UGA_border])"
   ]
  },
  {
   "cell_type": "code",
   "execution_count": 302,
   "metadata": {},
   "outputs": [
    {
     "data": {
      "text/plain": [
       "<matplotlib.axes._subplots.AxesSubplot at 0x13bf14d30>"
      ]
     },
     "execution_count": 302,
     "metadata": {},
     "output_type": "execute_result"
    },
    {
     "data": {
      "image/png": "[encoded data removed]",
      "text/plain": [
       "<matplotlib.figure.Figure at 0x13bf12dd8>"
      ]
     },
     "metadata": {},
     "output_type": "display_data"
    }
   ],
   "source": [
    "fig, ax = plt.subplots(figsize=[12,12])\n",
    "ax.set_aspect('equal')\n",
    "\n",
    "borders.plot(ax=ax, color='white', edgecolor='black')\n",
    "AidData_transactions.plot(ax=ax, x='longitude', y='latitude', kind='scatter', s=8)"
   ]
  },
  {
   "cell_type": "markdown",
   "metadata": {},
   "source": [
    "Remove the points outside the countries"
   ]
  },
  {
   "cell_type": "code",
   "execution_count": 293,
   "metadata": {},
   "outputs": [],
   "source": [
    "points = []\n",
    "for i in range(len(AidData_transactions)):\n",
    "    x = AidData_transactions['longitude'].iloc[i]\n",
    "    y = AidData_transactions['latitude'].iloc[i]\n",
    "    points.append(Point(x,y))\n",
    "AidData_transactions['geometry'] = points"
   ]
  },
  {
   "cell_type": "code",
   "execution_count": 301,
   "metadata": {},
   "outputs": [
    {
     "name": "stderr",
     "output_type": "stream",
     "text": [
      "/anaconda3/lib/python3.6/site-packages/ipykernel_launcher.py:2: UserWarning: Pandas doesn't allow columns to be created via a new attribute name - see https://pandas.pydata.org/pandas-docs/stable/indexing.html#attribute-access\n",
      "  \n"
     ]
    }
   ],
   "source": [
    "# Coordinate reference system : WGS84\n",
    "AidData_transactions.crs  = {'init': 'epsg:4326'}"
   ]
  },
  {
   "cell_type": "code",
   "execution_count": 303,
   "metadata": {},
   "outputs": [],
   "source": [
    "# Remove points outside countries\n",
    "AidData_transactions = gpd.sjoin(AidData_transactions, borders, how='inner', op='intersects')"
   ]
  },
  {
   "cell_type": "code",
   "execution_count": 304,
   "metadata": {},
   "outputs": [
    {
     "data": {
      "text/plain": [
       "<matplotlib.axes._subplots.AxesSubplot at 0x13c553710>"
      ]
     },
     "execution_count": 304,
     "metadata": {},
     "output_type": "execute_result"
    },
    {
     "data": {
      "image/png": "[encoded data removed]",
      "text/plain": [
       "<matplotlib.figure.Figure at 0x13c5526d8>"
      ]
     },
     "metadata": {},
     "output_type": "display_data"
    }
   ],
   "source": [
    "fig, ax = plt.subplots(figsize=[12,12])\n",
    "ax.set_aspect('equal')\n",
    "\n",
    "borders.plot(ax=ax, color='white', edgecolor='black')\n",
    "AidData_transactions.plot(ax=ax, x='longitude', y='latitude', kind='scatter', s=8)"
   ]
  },
  {
   "cell_type": "code",
   "execution_count": 306,
   "metadata": {},
   "outputs": [],
   "source": [
    "# Save table\n",
    "AidData_transactions.to_csv('./data/cartodb/AidData_transactions.csv')"
   ]
  },
  {
   "cell_type": "markdown",
   "metadata": {},
   "source": [
    "*** "
   ]
  },
  {
   "cell_type": "markdown",
   "metadata": {},
   "source": [
    "# HumanDataExchange"
   ]
  },
  {
   "cell_type": "markdown",
   "metadata": {},
   "source": [
    "** KENYA,\n",
    "NIGERIA,\n",
    "TANZANIA,\n",
    "UGANDA **"
   ]
  },
  {
   "cell_type": "markdown",
   "metadata": {},
   "source": [
    "## Africa"
   ]
  },
  {
   "cell_type": "markdown",
   "metadata": {},
   "source": [
    "### Electrical Grid"
   ]
  },
  {
   "cell_type": "code",
   "execution_count": 107,
   "metadata": {},
   "outputs": [],
   "source": [
    "africa_grid = gpd.read_file('/Users/ikersanchez/Vizzuality/PROIEKTUAK/i2i/Data/Contextual_Layers/HumanDataExchange/Africa/Electrical Grid/africagrid20170504/africa_grid_20170906final.shp')"
   ]
  },
  {
   "cell_type": "code",
   "execution_count": 108,
   "metadata": {},
   "outputs": [
    {
     "data": {
      "text/html": [
       "<div>\n",
       "<style scoped>\n",
       "    .dataframe tbody tr th:only-of-type {\n",
       "        vertical-align: middle;\n",
       "    }\n",
       "\n",
       "    .dataframe tbody tr th {\n",
       "        vertical-align: top;\n",
       "    }\n",
       "\n",
       "    .dataframe thead th {\n",
       "        text-align: right;\n",
       "    }\n",
       "</style>\n",
       "<table border=\"1\" class=\"dataframe\">\n",
       "  <thead>\n",
       "    <tr style=\"text-align: right;\">\n",
       "      <th></th>\n",
       "      <th>status</th>\n",
       "      <th>country</th>\n",
       "      <th>source</th>\n",
       "      <th>operator</th>\n",
       "      <th>from</th>\n",
       "      <th>to</th>\n",
       "      <th>voltage_kV</th>\n",
       "      <th>length_km</th>\n",
       "      <th>geometry</th>\n",
       "    </tr>\n",
       "  </thead>\n",
       "  <tbody>\n",
       "    <tr>\n",
       "      <th>0</th>\n",
       "      <td>Existing</td>\n",
       "      <td>Togo</td>\n",
       "      <td>ECREEE</td>\n",
       "      <td></td>\n",
       "      <td></td>\n",
       "      <td></td>\n",
       "      <td>161.0</td>\n",
       "      <td>61</td>\n",
       "      <td>LINESTRING (1.553379305669302 6.50435584264217...</td>\n",
       "    </tr>\n",
       "    <tr>\n",
       "      <th>1</th>\n",
       "      <td>Planned</td>\n",
       "      <td>Togo</td>\n",
       "      <td>ECREEE</td>\n",
       "      <td></td>\n",
       "      <td></td>\n",
       "      <td></td>\n",
       "      <td>161.0</td>\n",
       "      <td>47</td>\n",
       "      <td>LINESTRING (1.613464000384093 6.90183817510557...</td>\n",
       "    </tr>\n",
       "    <tr>\n",
       "      <th>2</th>\n",
       "      <td>Existing</td>\n",
       "      <td>Togo</td>\n",
       "      <td>ECREEE</td>\n",
       "      <td></td>\n",
       "      <td></td>\n",
       "      <td></td>\n",
       "      <td>63.0</td>\n",
       "      <td>5</td>\n",
       "      <td>LINESTRING (1.138249186828813 9.03337568229448...</td>\n",
       "    </tr>\n",
       "    <tr>\n",
       "      <th>3</th>\n",
       "      <td>Planned</td>\n",
       "      <td>Togo</td>\n",
       "      <td>ECREEE</td>\n",
       "      <td></td>\n",
       "      <td></td>\n",
       "      <td></td>\n",
       "      <td>330.0</td>\n",
       "      <td>138</td>\n",
       "      <td>LINESTRING (-0.015000162519244 9.4571597856660...</td>\n",
       "    </tr>\n",
       "    <tr>\n",
       "      <th>4</th>\n",
       "      <td>Planned</td>\n",
       "      <td>Togo</td>\n",
       "      <td>ECREEE</td>\n",
       "      <td></td>\n",
       "      <td></td>\n",
       "      <td></td>\n",
       "      <td>330.0</td>\n",
       "      <td>154</td>\n",
       "      <td>LINESTRING (1.223259849471283 9.52457135793874...</td>\n",
       "    </tr>\n",
       "  </tbody>\n",
       "</table>\n",
       "</div>"
      ],
      "text/plain": [
       "     status country  source operator from to  voltage_kV length_km  \\\n",
       "0  Existing    Togo  ECREEE                        161.0        61   \n",
       "1   Planned    Togo  ECREEE                        161.0        47   \n",
       "2  Existing    Togo  ECREEE                         63.0         5   \n",
       "3   Planned    Togo  ECREEE                        330.0       138   \n",
       "4   Planned    Togo  ECREEE                        330.0       154   \n",
       "\n",
       "                                            geometry  \n",
       "0  LINESTRING (1.553379305669302 6.50435584264217...  \n",
       "1  LINESTRING (1.613464000384093 6.90183817510557...  \n",
       "2  LINESTRING (1.138249186828813 9.03337568229448...  \n",
       "3  LINESTRING (-0.015000162519244 9.4571597856660...  \n",
       "4  LINESTRING (1.223259849471283 9.52457135793874...  "
      ]
     },
     "execution_count": 108,
     "metadata": {},
     "output_type": "execute_result"
    }
   ],
   "source": [
    "africa_grid.head()"
   ]
  },
  {
   "cell_type": "code",
   "execution_count": 109,
   "metadata": {},
   "outputs": [
    {
     "data": {
      "text/plain": [
       "<matplotlib.axes._subplots.AxesSubplot at 0x12a52ef28>"
      ]
     },
     "execution_count": 109,
     "metadata": {},
     "output_type": "execute_result"
    },
    {
     "data": {
      "image/png": "[encoded data removed]",
      "text/plain": [
       "<matplotlib.figure.Figure at 0x12a4469e8>"
      ]
     },
     "metadata": {},
     "output_type": "display_data"
    }
   ],
   "source": [
    "africa_grid.plot()"
   ]
  },
  {
   "cell_type": "markdown",
   "metadata": {},
   "source": [
    "** Uganda **"
   ]
  },
  {
   "cell_type": "code",
   "execution_count": 307,
   "metadata": {},
   "outputs": [],
   "source": [
    "uganda_grid = africa_grid[africa_grid['country'] == 'Uganda']\n",
    "# UGA boundary\n",
    "border_mask = countries['iso_a3'] == 'UGA'\n",
    "uganda_boundary = countries[border_mask]"
   ]
  },
  {
   "cell_type": "code",
   "execution_count": 35,
   "metadata": {},
   "outputs": [],
   "source": [
    "# Coordinate reference system : WGS84\n",
    "uganda_grid.crs  = {'init': 'epsg:4326'}\n",
    "uganda_boundary.crs  = {'init': 'epsg:4326'}"
   ]
  },
  {
   "cell_type": "code",
   "execution_count": 308,
   "metadata": {},
   "outputs": [
    {
     "data": {
      "text/plain": [
       "<matplotlib.axes._subplots.AxesSubplot at 0x13c58b198>"
      ]
     },
     "execution_count": 308,
     "metadata": {},
     "output_type": "execute_result"
    },
    {
     "data": {
      "image/png": "[encoded data removed]",
      "text/plain": [
       "<matplotlib.figure.Figure at 0x13c552828>"
      ]
     },
     "metadata": {},
     "output_type": "display_data"
    }
   ],
   "source": [
    "fig, ax = plt.subplots(figsize=[8,8])\n",
    "ax.set_aspect('equal')\n",
    "\n",
    "uganda_boundary.plot(ax=ax, color='white', edgecolor='black')\n",
    "uganda_grid.plot(ax=ax, color='r')"
   ]
  },
  {
   "cell_type": "markdown",
   "metadata": {},
   "source": [
    "** Final table **"
   ]
  },
  {
   "cell_type": "code",
   "execution_count": 110,
   "metadata": {},
   "outputs": [],
   "source": [
    "# Drop columns\n",
    "africa_grid.drop(columns=['from','to'], inplace=True)"
   ]
  },
  {
   "cell_type": "code",
   "execution_count": 111,
   "metadata": {},
   "outputs": [],
   "source": [
    "# Add year\n",
    "africa_grid['year'] = '2017'"
   ]
  },
  {
   "cell_type": "code",
   "execution_count": 112,
   "metadata": {},
   "outputs": [],
   "source": [
    "# Add iso\n",
    "africa_grid = pd.merge(africa_grid, countries, how='left', on='country')\n",
    "africa_grid['iso'] = africa_grid['iso3']\n",
    "africa_grid.drop(columns='iso3', inplace=True)"
   ]
  },
  {
   "cell_type": "code",
   "execution_count": 121,
   "metadata": {},
   "outputs": [],
   "source": [
    "# Reorder columns\n",
    "africa_grid = africa_grid[['status','source','operator','voltage_kV','length_km','iso','country','year','geometry']]"
   ]
  },
  {
   "cell_type": "code",
   "execution_count": 122,
   "metadata": {},
   "outputs": [
    {
     "data": {
      "text/html": [
       "<div>\n",
       "<style scoped>\n",
       "    .dataframe tbody tr th:only-of-type {\n",
       "        vertical-align: middle;\n",
       "    }\n",
       "\n",
       "    .dataframe tbody tr th {\n",
       "        vertical-align: top;\n",
       "    }\n",
       "\n",
       "    .dataframe thead th {\n",
       "        text-align: right;\n",
       "    }\n",
       "</style>\n",
       "<table border=\"1\" class=\"dataframe\">\n",
       "  <thead>\n",
       "    <tr style=\"text-align: right;\">\n",
       "      <th></th>\n",
       "      <th>status</th>\n",
       "      <th>source</th>\n",
       "      <th>operator</th>\n",
       "      <th>voltage_kV</th>\n",
       "      <th>length_km</th>\n",
       "      <th>iso</th>\n",
       "      <th>country</th>\n",
       "      <th>year</th>\n",
       "      <th>geometry</th>\n",
       "    </tr>\n",
       "  </thead>\n",
       "  <tbody>\n",
       "    <tr>\n",
       "      <th>0</th>\n",
       "      <td>Existing</td>\n",
       "      <td>ECREEE</td>\n",
       "      <td></td>\n",
       "      <td>161.0</td>\n",
       "      <td>61</td>\n",
       "      <td>TGO</td>\n",
       "      <td>Togo</td>\n",
       "      <td>2017</td>\n",
       "      <td>LINESTRING (1.553379305669302 6.50435584264217...</td>\n",
       "    </tr>\n",
       "    <tr>\n",
       "      <th>1</th>\n",
       "      <td>Planned</td>\n",
       "      <td>ECREEE</td>\n",
       "      <td></td>\n",
       "      <td>161.0</td>\n",
       "      <td>47</td>\n",
       "      <td>TGO</td>\n",
       "      <td>Togo</td>\n",
       "      <td>2017</td>\n",
       "      <td>LINESTRING (1.613464000384093 6.90183817510557...</td>\n",
       "    </tr>\n",
       "    <tr>\n",
       "      <th>2</th>\n",
       "      <td>Existing</td>\n",
       "      <td>ECREEE</td>\n",
       "      <td></td>\n",
       "      <td>63.0</td>\n",
       "      <td>5</td>\n",
       "      <td>TGO</td>\n",
       "      <td>Togo</td>\n",
       "      <td>2017</td>\n",
       "      <td>LINESTRING (1.138249186828813 9.03337568229448...</td>\n",
       "    </tr>\n",
       "    <tr>\n",
       "      <th>3</th>\n",
       "      <td>Planned</td>\n",
       "      <td>ECREEE</td>\n",
       "      <td></td>\n",
       "      <td>330.0</td>\n",
       "      <td>138</td>\n",
       "      <td>TGO</td>\n",
       "      <td>Togo</td>\n",
       "      <td>2017</td>\n",
       "      <td>LINESTRING (-0.015000162519244 9.4571597856660...</td>\n",
       "    </tr>\n",
       "    <tr>\n",
       "      <th>4</th>\n",
       "      <td>Planned</td>\n",
       "      <td>ECREEE</td>\n",
       "      <td></td>\n",
       "      <td>330.0</td>\n",
       "      <td>154</td>\n",
       "      <td>TGO</td>\n",
       "      <td>Togo</td>\n",
       "      <td>2017</td>\n",
       "      <td>LINESTRING (1.223259849471283 9.52457135793874...</td>\n",
       "    </tr>\n",
       "  </tbody>\n",
       "</table>\n",
       "</div>"
      ],
      "text/plain": [
       "     status  source operator  voltage_kV length_km  iso country  year  \\\n",
       "0  Existing  ECREEE                161.0        61  TGO    Togo  2017   \n",
       "1   Planned  ECREEE                161.0        47  TGO    Togo  2017   \n",
       "2  Existing  ECREEE                 63.0         5  TGO    Togo  2017   \n",
       "3   Planned  ECREEE                330.0       138  TGO    Togo  2017   \n",
       "4   Planned  ECREEE                330.0       154  TGO    Togo  2017   \n",
       "\n",
       "                                            geometry  \n",
       "0  LINESTRING (1.553379305669302 6.50435584264217...  \n",
       "1  LINESTRING (1.613464000384093 6.90183817510557...  \n",
       "2  LINESTRING (1.138249186828813 9.03337568229448...  \n",
       "3  LINESTRING (-0.015000162519244 9.4571597856660...  \n",
       "4  LINESTRING (1.223259849471283 9.52457135793874...  "
      ]
     },
     "execution_count": 122,
     "metadata": {},
     "output_type": "execute_result"
    }
   ],
   "source": [
    "africa_grid.head()"
   ]
  },
  {
   "cell_type": "code",
   "execution_count": 123,
   "metadata": {},
   "outputs": [],
   "source": [
    "# Save table\n",
    "africa_grid.to_csv('/Users/ikersanchez/Vizzuality/PROIEKTUAK/i2i/Data/cartodb/electrical_grid.csv')"
   ]
  },
  {
   "cell_type": "markdown",
   "metadata": {},
   "source": [
    "***"
   ]
  },
  {
   "cell_type": "markdown",
   "metadata": {},
   "source": [
    "# Mobile Coverage"
   ]
  },
  {
   "cell_type": "markdown",
   "metadata": {},
   "source": [
    "** INDIA,\n",
    "BANGLADESH,\n",
    "KENYA,\n",
    "NIGERIA,\n",
    "TANZANIA,\n",
    "UGANDA **"
   ]
  },
  {
   "cell_type": "markdown",
   "metadata": {},
   "source": [
    "Mobile Coverage Explorer is a representation of areas covered by mobile networks around the world. It is supplied as polygon data which has been created from submissions made directly to Collins Bartholomew or the GSMA from network operators who provide roaming detail for inclusion in the GSMA’s Roaming and Coverage Maps web application.\n",
    "\n",
    "The coverage data is supplied as three separate files:\n",
    "\n",
    "- Global_GSM_<date> which is a representation of the GSM (2G) network submitted by operators. \n",
    "- Global_3G_<date> which is a representation of the 3G network submitted by operators. \n",
    "- Global_4G_<date> which is a representation of the 4G network submitted by operators."
   ]
  },
  {
   "cell_type": "markdown",
   "metadata": {},
   "source": [
    "### Global 3G"
   ]
  },
  {
   "cell_type": "code",
   "execution_count": 337,
   "metadata": {},
   "outputs": [],
   "source": [
    "global_3d = gpd.read_file('/Users/ikersanchez/Vizzuality/PROIEKTUAK/i2i/Data/Contextual_Layers/Mobile Coverage Explorer WGS84 v201712 - ESRI SHAPE/ReducedData/Global_3G_201712/Global_3G_201712.shp')"
   ]
  },
  {
   "cell_type": "code",
   "execution_count": 338,
   "metadata": {},
   "outputs": [],
   "source": [
    "# GROP COLUMN\n",
    "global_3d.drop(columns='FID', inplace=True)"
   ]
  },
  {
   "cell_type": "code",
   "execution_count": 339,
   "metadata": {},
   "outputs": [],
   "source": [
    "# Add year\n",
    "global_3d['year'] = '2017'"
   ]
  },
  {
   "cell_type": "code",
   "execution_count": 340,
   "metadata": {},
   "outputs": [
    {
     "data": {
      "text/html": [
       "<div>\n",
       "<style scoped>\n",
       "    .dataframe tbody tr th:only-of-type {\n",
       "        vertical-align: middle;\n",
       "    }\n",
       "\n",
       "    .dataframe tbody tr th {\n",
       "        vertical-align: top;\n",
       "    }\n",
       "\n",
       "    .dataframe thead th {\n",
       "        text-align: right;\n",
       "    }\n",
       "</style>\n",
       "<table border=\"1\" class=\"dataframe\">\n",
       "  <thead>\n",
       "    <tr style=\"text-align: right;\">\n",
       "      <th></th>\n",
       "      <th>geometry</th>\n",
       "      <th>year</th>\n",
       "    </tr>\n",
       "  </thead>\n",
       "  <tbody>\n",
       "    <tr>\n",
       "      <th>0</th>\n",
       "      <td>(POLYGON ((93.00680792500003 60.00000000000006...</td>\n",
       "      <td>2017</td>\n",
       "    </tr>\n",
       "  </tbody>\n",
       "</table>\n",
       "</div>"
      ],
      "text/plain": [
       "                                            geometry  year\n",
       "0  (POLYGON ((93.00680792500003 60.00000000000006...  2017"
      ]
     },
     "execution_count": 340,
     "metadata": {},
     "output_type": "execute_result"
    }
   ],
   "source": [
    "global_3d.head()"
   ]
  },
  {
   "cell_type": "code",
   "execution_count": 341,
   "metadata": {},
   "outputs": [
    {
     "data": {
      "text/plain": [
       "{'init': 'epsg:4326'}"
      ]
     },
     "execution_count": 341,
     "metadata": {},
     "output_type": "execute_result"
    }
   ],
   "source": [
    "global_3d.crs"
   ]
  },
  {
   "cell_type": "code",
   "execution_count": 342,
   "metadata": {},
   "outputs": [
    {
     "data": {
      "text/plain": [
       "<matplotlib.axes._subplots.AxesSubplot at 0x13cd954e0>"
      ]
     },
     "execution_count": 342,
     "metadata": {},
     "output_type": "execute_result"
    },
    {
     "data": {
      "image/png": "[encoded data removed]",
      "text/plain": [
       "<matplotlib.figure.Figure at 0x13c4b8fd0>"
      ]
     },
     "metadata": {},
     "output_type": "display_data"
    }
   ],
   "source": [
    "global_3d.plot()"
   ]
  },
  {
   "cell_type": "code",
   "execution_count": 343,
   "metadata": {},
   "outputs": [],
   "source": [
    "# Save table\n",
    "global_3d.to_csv('/Users/ikersanchez/Vizzuality/PROIEKTUAK/i2i/Data/cartodb/mobile_coverage_global_3d.csv')"
   ]
  },
  {
   "cell_type": "markdown",
   "metadata": {},
   "source": [
    "### Global 4G"
   ]
  },
  {
   "cell_type": "code",
   "execution_count": 329,
   "metadata": {},
   "outputs": [],
   "source": [
    "global_4d = gpd.read_file('/Users/ikersanchez/Vizzuality/PROIEKTUAK/i2i/Data/Contextual_Layers/Mobile Coverage Explorer WGS84 v201712 - ESRI SHAPE/ReducedData/Global_4G_201712/Global_4G_201712.shp')"
   ]
  },
  {
   "cell_type": "code",
   "execution_count": 330,
   "metadata": {},
   "outputs": [],
   "source": [
    "# GROP COLUMN\n",
    "global_4d.drop(columns='FID', inplace=True)"
   ]
  },
  {
   "cell_type": "code",
   "execution_count": 331,
   "metadata": {},
   "outputs": [],
   "source": [
    "# Add year\n",
    "global_4d['year'] = '2017'"
   ]
  },
  {
   "cell_type": "code",
   "execution_count": 332,
   "metadata": {},
   "outputs": [
    {
     "data": {
      "text/html": [
       "<div>\n",
       "<style scoped>\n",
       "    .dataframe tbody tr th:only-of-type {\n",
       "        vertical-align: middle;\n",
       "    }\n",
       "\n",
       "    .dataframe tbody tr th {\n",
       "        vertical-align: top;\n",
       "    }\n",
       "\n",
       "    .dataframe thead th {\n",
       "        text-align: right;\n",
       "    }\n",
       "</style>\n",
       "<table border=\"1\" class=\"dataframe\">\n",
       "  <thead>\n",
       "    <tr style=\"text-align: right;\">\n",
       "      <th></th>\n",
       "      <th>geometry</th>\n",
       "      <th>year</th>\n",
       "    </tr>\n",
       "  </thead>\n",
       "  <tbody>\n",
       "    <tr>\n",
       "      <th>0</th>\n",
       "      <td>(POLYGON ((-67.79711166799996 -10.057029417999...</td>\n",
       "      <td>2017</td>\n",
       "    </tr>\n",
       "  </tbody>\n",
       "</table>\n",
       "</div>"
      ],
      "text/plain": [
       "                                            geometry  year\n",
       "0  (POLYGON ((-67.79711166799996 -10.057029417999...  2017"
      ]
     },
     "execution_count": 332,
     "metadata": {},
     "output_type": "execute_result"
    }
   ],
   "source": [
    "global_4d.head()"
   ]
  },
  {
   "cell_type": "code",
   "execution_count": 333,
   "metadata": {},
   "outputs": [
    {
     "data": {
      "text/plain": [
       "{'init': 'epsg:4326'}"
      ]
     },
     "execution_count": 333,
     "metadata": {},
     "output_type": "execute_result"
    }
   ],
   "source": [
    "global_4d.crs"
   ]
  },
  {
   "cell_type": "code",
   "execution_count": 334,
   "metadata": {},
   "outputs": [
    {
     "data": {
      "text/plain": [
       "<matplotlib.axes._subplots.AxesSubplot at 0x13c4bf748>"
      ]
     },
     "execution_count": 334,
     "metadata": {},
     "output_type": "execute_result"
    },
    {
     "data": {
      "image/png": "[encoded data removed]",
      "text/plain": [
       "<matplotlib.figure.Figure at 0x13c4bbeb8>"
      ]
     },
     "metadata": {},
     "output_type": "display_data"
    }
   ],
   "source": [
    "global_4d.plot()"
   ]
  },
  {
   "cell_type": "code",
   "execution_count": 336,
   "metadata": {},
   "outputs": [],
   "source": [
    "# Save table\n",
    "global_4d.to_csv('/Users/ikersanchez/Vizzuality/PROIEKTUAK/i2i/Data/cartodb/mobile_coverage_global_4d.csv')"
   ]
  },
  {
   "cell_type": "markdown",
   "metadata": {},
   "source": [
    "***"
   ]
  },
  {
   "cell_type": "markdown",
   "metadata": {},
   "source": [
    "# Urban Areas"
   ]
  },
  {
   "cell_type": "markdown",
   "metadata": {},
   "source": [
    "** INDIA,\n",
    "BANGLADESH,\n",
    "KENYA,\n",
    "NIGERIA,\n",
    "TANZANIA,\n",
    "UGANDA **"
   ]
  },
  {
   "cell_type": "code",
   "execution_count": 143,
   "metadata": {},
   "outputs": [],
   "source": [
    "urban = gpd.read_file('/Users/ikersanchez/Vizzuality/PROIEKTUAK/i2i/Data/Contextual_Layers/ne_10m_urban_areas/ne_10m_urban_areas.shp')"
   ]
  },
  {
   "cell_type": "code",
   "execution_count": 144,
   "metadata": {},
   "outputs": [
    {
     "data": {
      "text/html": [
       "<div>\n",
       "<style scoped>\n",
       "    .dataframe tbody tr th:only-of-type {\n",
       "        vertical-align: middle;\n",
       "    }\n",
       "\n",
       "    .dataframe tbody tr th {\n",
       "        vertical-align: top;\n",
       "    }\n",
       "\n",
       "    .dataframe thead th {\n",
       "        text-align: right;\n",
       "    }\n",
       "</style>\n",
       "<table border=\"1\" class=\"dataframe\">\n",
       "  <thead>\n",
       "    <tr style=\"text-align: right;\">\n",
       "      <th></th>\n",
       "      <th>scalerank</th>\n",
       "      <th>featurecla</th>\n",
       "      <th>area_sqkm</th>\n",
       "      <th>min_zoom</th>\n",
       "      <th>geometry</th>\n",
       "    </tr>\n",
       "  </thead>\n",
       "  <tbody>\n",
       "    <tr>\n",
       "      <th>0</th>\n",
       "      <td>9</td>\n",
       "      <td>Urban area</td>\n",
       "      <td>12.581</td>\n",
       "      <td>7.7</td>\n",
       "      <td>POLYGON ((-1.657181596397606 37.38897532793764...</td>\n",
       "    </tr>\n",
       "    <tr>\n",
       "      <th>1</th>\n",
       "      <td>5</td>\n",
       "      <td>Urban area</td>\n",
       "      <td>111.989</td>\n",
       "      <td>5.0</td>\n",
       "      <td>POLYGON ((-2.446053332937907 36.9779110517198,...</td>\n",
       "    </tr>\n",
       "    <tr>\n",
       "      <th>2</th>\n",
       "      <td>8</td>\n",
       "      <td>Urban area</td>\n",
       "      <td>46.348</td>\n",
       "      <td>7.6</td>\n",
       "      <td>POLYGON ((-3.146292735553118 36.78131072137965...</td>\n",
       "    </tr>\n",
       "    <tr>\n",
       "      <th>3</th>\n",
       "      <td>8</td>\n",
       "      <td>Urban area</td>\n",
       "      <td>46.058</td>\n",
       "      <td>7.6</td>\n",
       "      <td>POLYGON ((-3.472369677012011 36.7439159632052,...</td>\n",
       "    </tr>\n",
       "    <tr>\n",
       "      <th>4</th>\n",
       "      <td>7</td>\n",
       "      <td>Urban area</td>\n",
       "      <td>84.596</td>\n",
       "      <td>7.0</td>\n",
       "      <td>POLYGON ((-4.815971538667867 36.50885722612246...</td>\n",
       "    </tr>\n",
       "  </tbody>\n",
       "</table>\n",
       "</div>"
      ],
      "text/plain": [
       "   scalerank  featurecla  area_sqkm  min_zoom  \\\n",
       "0          9  Urban area     12.581       7.7   \n",
       "1          5  Urban area    111.989       5.0   \n",
       "2          8  Urban area     46.348       7.6   \n",
       "3          8  Urban area     46.058       7.6   \n",
       "4          7  Urban area     84.596       7.0   \n",
       "\n",
       "                                            geometry  \n",
       "0  POLYGON ((-1.657181596397606 37.38897532793764...  \n",
       "1  POLYGON ((-2.446053332937907 36.9779110517198,...  \n",
       "2  POLYGON ((-3.146292735553118 36.78131072137965...  \n",
       "3  POLYGON ((-3.472369677012011 36.7439159632052,...  \n",
       "4  POLYGON ((-4.815971538667867 36.50885722612246...  "
      ]
     },
     "execution_count": 144,
     "metadata": {},
     "output_type": "execute_result"
    }
   ],
   "source": [
    "urban.head()"
   ]
  },
  {
   "cell_type": "code",
   "execution_count": 145,
   "metadata": {},
   "outputs": [
    {
     "data": {
      "text/plain": [
       "<matplotlib.axes._subplots.AxesSubplot at 0x13838ffd0>"
      ]
     },
     "execution_count": 145,
     "metadata": {},
     "output_type": "execute_result"
    },
    {
     "data": {
      "image/png": "[encoded data removed]",
      "text/plain": [
       "<matplotlib.figure.Figure at 0x1372b6eb8>"
      ]
     },
     "metadata": {},
     "output_type": "display_data"
    }
   ],
   "source": [
    "urban.plot()"
   ]
  },
  {
   "cell_type": "code",
   "execution_count": 133,
   "metadata": {},
   "outputs": [
    {
     "data": {
      "text/plain": [
       "{'init': 'epsg:4326'}"
      ]
     },
     "execution_count": 133,
     "metadata": {},
     "output_type": "execute_result"
    }
   ],
   "source": [
    "urban.crs"
   ]
  },
  {
   "cell_type": "markdown",
   "metadata": {},
   "source": [
    "** Final table **"
   ]
  },
  {
   "cell_type": "code",
   "execution_count": 146,
   "metadata": {},
   "outputs": [],
   "source": [
    "# Drop columns\n",
    "urban.drop(columns=['featurecla','scalerank','min_zoom'], inplace=True)"
   ]
  },
  {
   "cell_type": "code",
   "execution_count": 147,
   "metadata": {},
   "outputs": [],
   "source": [
    "# Add year\n",
    "urban['year'] = '2003'"
   ]
  },
  {
   "cell_type": "code",
   "execution_count": 149,
   "metadata": {},
   "outputs": [],
   "source": [
    "# Reorder columns\n",
    "urban = urban[['area_sqkm','year','geometry']]"
   ]
  },
  {
   "cell_type": "code",
   "execution_count": 150,
   "metadata": {},
   "outputs": [
    {
     "data": {
      "text/html": [
       "<div>\n",
       "<style scoped>\n",
       "    .dataframe tbody tr th:only-of-type {\n",
       "        vertical-align: middle;\n",
       "    }\n",
       "\n",
       "    .dataframe tbody tr th {\n",
       "        vertical-align: top;\n",
       "    }\n",
       "\n",
       "    .dataframe thead th {\n",
       "        text-align: right;\n",
       "    }\n",
       "</style>\n",
       "<table border=\"1\" class=\"dataframe\">\n",
       "  <thead>\n",
       "    <tr style=\"text-align: right;\">\n",
       "      <th></th>\n",
       "      <th>area_sqkm</th>\n",
       "      <th>year</th>\n",
       "      <th>geometry</th>\n",
       "    </tr>\n",
       "  </thead>\n",
       "  <tbody>\n",
       "    <tr>\n",
       "      <th>0</th>\n",
       "      <td>12.581</td>\n",
       "      <td>2003</td>\n",
       "      <td>POLYGON ((-1.657181596397606 37.38897532793764...</td>\n",
       "    </tr>\n",
       "    <tr>\n",
       "      <th>1</th>\n",
       "      <td>111.989</td>\n",
       "      <td>2003</td>\n",
       "      <td>POLYGON ((-2.446053332937907 36.9779110517198,...</td>\n",
       "    </tr>\n",
       "    <tr>\n",
       "      <th>2</th>\n",
       "      <td>46.348</td>\n",
       "      <td>2003</td>\n",
       "      <td>POLYGON ((-3.146292735553118 36.78131072137965...</td>\n",
       "    </tr>\n",
       "    <tr>\n",
       "      <th>3</th>\n",
       "      <td>46.058</td>\n",
       "      <td>2003</td>\n",
       "      <td>POLYGON ((-3.472369677012011 36.7439159632052,...</td>\n",
       "    </tr>\n",
       "    <tr>\n",
       "      <th>4</th>\n",
       "      <td>84.596</td>\n",
       "      <td>2003</td>\n",
       "      <td>POLYGON ((-4.815971538667867 36.50885722612246...</td>\n",
       "    </tr>\n",
       "  </tbody>\n",
       "</table>\n",
       "</div>"
      ],
      "text/plain": [
       "   area_sqkm  year                                           geometry\n",
       "0     12.581  2003  POLYGON ((-1.657181596397606 37.38897532793764...\n",
       "1    111.989  2003  POLYGON ((-2.446053332937907 36.9779110517198,...\n",
       "2     46.348  2003  POLYGON ((-3.146292735553118 36.78131072137965...\n",
       "3     46.058  2003  POLYGON ((-3.472369677012011 36.7439159632052,...\n",
       "4     84.596  2003  POLYGON ((-4.815971538667867 36.50885722612246..."
      ]
     },
     "execution_count": 150,
     "metadata": {},
     "output_type": "execute_result"
    }
   ],
   "source": [
    "urban.head()"
   ]
  },
  {
   "cell_type": "code",
   "execution_count": 151,
   "metadata": {},
   "outputs": [],
   "source": [
    "# Save table\n",
    "urban.to_csv('/Users/ikersanchez/Vizzuality/PROIEKTUAK/i2i/Data/cartodb/urban_areas.csv')"
   ]
  },
  {
   "cell_type": "markdown",
   "metadata": {},
   "source": [
    "***"
   ]
  },
  {
   "cell_type": "markdown",
   "metadata": {},
   "source": [
    "# Resource Watch"
   ]
  },
  {
   "cell_type": "markdown",
   "metadata": {},
   "source": [
    "### Global raster"
   ]
  },
  {
   "cell_type": "markdown",
   "metadata": {},
   "source": [
    "** [Accessibility to Cities](https://resourcewatch.org/data/explore/cit01701-Travel-Time-to-Major-Cities) ** "
   ]
  },
  {
   "cell_type": "markdown",
   "metadata": {},
   "source": [
    "** [Population (Grid, 1 km)](https://resourcewatch.org/data/explore/soc_031-Gridded-Population) ** "
   ]
  },
  {
   "cell_type": "markdown",
   "metadata": {},
   "source": [
    "** [Urban Built-Up Area](https://resourcewatch.org/data/explore/Cit014-Built-Up-Grid) **"
   ]
  },
  {
   "cell_type": "markdown",
   "metadata": {},
   "source": [
    "** [Agricultural Exposure to Water Stress](https://resourcewatch.org/data/explore/wat033-Agriculture-Water-Demand-and-Depletion) **"
   ]
  },
  {
   "cell_type": "markdown",
   "metadata": {},
   "source": [
    "** [Erosion Risk](https://resourcewatch.org/data/explore/wat015-Erosion-Risk) ** "
   ]
  },
  {
   "cell_type": "markdown",
   "metadata": {},
   "source": [
    "** [Annual Precipitation](https://resourcewatch.org/data/explore/wat034-Annual-Precipitation) **"
   ]
  },
  {
   "cell_type": "markdown",
   "metadata": {},
   "source": [
    "** [Aridity](https://resourcewatch.org/data/explore/cli030-Land-Aridity) ** "
   ]
  },
  {
   "cell_type": "markdown",
   "metadata": {},
   "source": [
    "### Global vector"
   ]
  },
  {
   "cell_type": "markdown",
   "metadata": {},
   "source": [
    "** [Roads](https://resourcewatch.org/data/explore/cit016-Road-Network) **"
   ]
  },
  {
   "cell_type": "markdown",
   "metadata": {},
   "source": [
    "** [Roadless Areas](https://resourcewatch.org/data/explore/Global-Roadless-Areas) ** "
   ]
  },
  {
   "cell_type": "markdown",
   "metadata": {},
   "source": [
    "** [Current Water Risk](https://resourcewatch.org/data/explore/wat001-Baseline-Water-Stress) ** "
   ]
  },
  {
   "cell_type": "markdown",
   "metadata": {},
   "source": [
    "** [Reservoirs and Dams](https://resourcewatch.org/data/explore/Global-Reservoir-and-Dam-GRanD) ** "
   ]
  },
  {
   "cell_type": "markdown",
   "metadata": {},
   "source": [
    "### Country contextual information"
   ]
  },
  {
   "cell_type": "markdown",
   "metadata": {},
   "source": [
    "** [Access to Electricity](https://resourcewatch.org/data/explore/ene012-Access-to-Electricity) ** "
   ]
  },
  {
   "cell_type": "markdown",
   "metadata": {},
   "source": [
    "** [Adult Literacy Rate](https://resourcewatch.org/data/explore/Adult-Literacy-Rate) ** "
   ]
  },
  {
   "cell_type": "markdown",
   "metadata": {},
   "source": [
    "** [Child Malnutrition](https://resourcewatch.org/data/explore/Child-Malnutrition) ** "
   ]
  },
  {
   "cell_type": "markdown",
   "metadata": {},
   "source": [
    "** [Current Account Balance](https://resourcewatch.org/data/explore/Current-Account-Balance-BoP-Current-USdollar) ** "
   ]
  },
  {
   "cell_type": "markdown",
   "metadata": {},
   "source": [
    "** [Flood Risk](https://resourcewatch.org/data/explore/wat007-flood-risk) ** "
   ]
  },
  {
   "cell_type": "markdown",
   "metadata": {},
   "source": [
    "** [Gender Development Index](https://resourcewatch.org/data/explore/Gender-Development-Index) ** "
   ]
  },
  {
   "cell_type": "markdown",
   "metadata": {},
   "source": [
    "** [Gender Inequality Index](https://resourcewatch.org/data/explore/soc025-Gender-Inequality-Index) ** "
   ]
  },
  {
   "cell_type": "markdown",
   "metadata": {},
   "source": [
    "** [Gross Domestic Product](https://resourcewatch.org/data/explore/Gross-Domestic-Product) ** "
   ]
  },
  {
   "cell_type": "markdown",
   "metadata": {},
   "source": [
    "** [Regulatory Restrictiveness Index](https://resourcewatch.org/data/explore/Regulatory-Restrictiveness-Index) ** "
   ]
  },
  {
   "cell_type": "markdown",
   "metadata": {},
   "source": [
    "** [Urban Population](https://resourcewatch.org/data/explore/Urban-Population) ** "
   ]
  },
  {
   "cell_type": "markdown",
   "metadata": {},
   "source": [
    "** [Urban Population Living in Slums](https://resourcewatch.org/data/explore/Percent-of-Urban-Population-living-in-Slums) ** "
   ]
  },
  {
   "cell_type": "markdown",
   "metadata": {},
   "source": [
    "** [Vulnerability to Climate Change Index](https://resourcewatch.org/data/explore/Vulnerability-to-Climate-Change-Index) ** "
   ]
  },
  {
   "cell_type": "code",
   "execution_count": null,
   "metadata": {},
   "outputs": [],
   "source": []
  }
 ],
 "metadata": {
  "kernelspec": {
   "display_name": "Python 3",
   "language": "python",
   "name": "python3"
  },
  "language_info": {
   "codemirror_mode": {
    "name": "ipython",
    "version": 3
   },
   "file_extension": ".py",
   "mimetype": "text/x-python",
   "name": "python",
   "nbconvert_exporter": "python",
   "pygments_lexer": "ipython3",
   "version": "3.6.4"
  }
 },
 "nbformat": 4,
 "nbformat_minor": 2
}
