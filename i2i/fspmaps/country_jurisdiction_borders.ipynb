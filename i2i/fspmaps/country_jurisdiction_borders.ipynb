{
 "cells": [
  {
   "cell_type": "markdown",
   "metadata": {},
   "source": [
    "# Country and jurisdictions borders"
   ]
  },
  {
   "cell_type": "code",
   "execution_count": 1,
   "metadata": {},
   "outputs": [],
   "source": [
    "import numpy as np\n",
    "import pandas as pd\n",
    "import geopandas as gpd\n",
    "import matplotlib.pyplot as plt\n",
    "%matplotlib inline \n",
    "# The shapely.ops module has a cascaded_union that finds the cumulative union of many objects\n",
    "from shapely.ops import cascaded_union"
   ]
  },
  {
   "cell_type": "markdown",
   "metadata": {},
   "source": [
    "Read tables"
   ]
  },
  {
   "cell_type": "code",
   "execution_count": 2,
   "metadata": {},
   "outputs": [],
   "source": [
    "Map0 = gpd.read_file('/Users/ikersanchez/Vizzuality/PROIEKTUAK/i2i/Data/gadm36_levels_shp/gadm36_0.shp')\n",
    "Map1 = gpd.read_file('/Users/ikersanchez/Vizzuality/PROIEKTUAK/i2i/Data/gadm36_levels_shp/gadm36_1.shp')"
   ]
  },
  {
   "cell_type": "markdown",
   "metadata": {},
   "source": [
    "### Country borders"
   ]
  },
  {
   "cell_type": "code",
   "execution_count": 3,
   "metadata": {},
   "outputs": [],
   "source": [
    "iso = ['BGD','IND','KEN','LSO','NGA','TZA','UGA']"
   ]
  },
  {
   "cell_type": "code",
   "execution_count": 4,
   "metadata": {},
   "outputs": [],
   "source": [
    "Map0.rename(columns={'GID_0': 'iso', 'NAME_0':'country'}, inplace=True)"
   ]
  },
  {
   "cell_type": "code",
   "execution_count": 9,
   "metadata": {},
   "outputs": [],
   "source": [
    "df = pd.DataFrame(columns=['geometry','country','iso'])\n",
    "for i in iso:\n",
    "    country = Map0[Map0['iso'] == i]\n",
    "    country = country[['geometry','country','iso']]\n",
    "    df = gpd.GeoDataFrame(pd.concat([df,country]))\n",
    "    \n",
    "df.reset_index(drop=True, inplace=True)"
   ]
  },
  {
   "cell_type": "code",
   "execution_count": 10,
   "metadata": {},
   "outputs": [
    {
     "data": {
      "text/plain": [
       "<matplotlib.axes._subplots.AxesSubplot at 0x1152fc668>"
      ]
     },
     "execution_count": 10,
     "metadata": {},
     "output_type": "execute_result"
    },
    {
     "data": {
      "image/png": "[encoded data removed]",
      "text/plain": [
       "<matplotlib.figure.Figure at 0x1152e93c8>"
      ]
     },
     "metadata": {},
     "output_type": "display_data"
    }
   ],
   "source": [
    "fig, ax = plt.subplots(figsize=[8,8])\n",
    "ax.set_aspect('equal')\n",
    "\n",
    "df.plot(ax=ax, color='white', edgecolor='black')"
   ]
  },
  {
   "cell_type": "markdown",
   "metadata": {},
   "source": [
    "Save table "
   ]
  },
  {
   "cell_type": "code",
   "execution_count": 11,
   "metadata": {},
   "outputs": [],
   "source": [
    "df.to_csv('/Users/ikersanchez/Vizzuality/PROIEKTUAK/i2i/Data/FSP_Maps/country_borders_gadm36.csv')"
   ]
  },
  {
   "cell_type": "markdown",
   "metadata": {},
   "source": [
    "### Country jurisdictios (Admin 1)"
   ]
  },
  {
   "cell_type": "code",
   "execution_count": 15,
   "metadata": {},
   "outputs": [],
   "source": [
    "iso = ['BGD','IND','KEN','LSO','NGA','TZA','UGA']"
   ]
  },
  {
   "cell_type": "code",
   "execution_count": 16,
   "metadata": {},
   "outputs": [],
   "source": [
    "df = pd.DataFrame(columns=['geometry', 'iso','country','code','jurisdiction'])\n",
    "for country in iso:\n",
    "    if country == 'IND':\n",
    "        jurisdiction = Map1[(Map1['NAME_1'] == 'Uttar Pradesh') | (Map1['NAME_1'] == 'Bihar')]\n",
    "        jurisdiction = jurisdiction[['geometry', 'GID_0','NAME_0','GID_1','NAME_1']]\n",
    "        jurisdiction.rename(columns={'GID_0':'iso', 'NAME_0':'country', 'GID_1':'code', 'NAME_1':'jurisdiction'}, inplace= True)\n",
    "        df = pd.concat([df,jurisdiction])\n",
    "    else:\n",
    "        jurisdiction = Map1[Map1['GID_0'] == country]\n",
    "        jurisdiction = jurisdiction[['geometry', 'GID_0','NAME_0','GID_1','NAME_1']]\n",
    "        jurisdiction.rename(columns={'GID_0':'iso', 'NAME_0':'country', 'GID_1':'code', 'NAME_1':'jurisdiction'}, inplace= True)\n",
    "        df = pd.concat([df,jurisdiction])\n",
    "    \n",
    "df.reset_index(drop=True, inplace=True)"
   ]
  },
  {
   "cell_type": "markdown",
   "metadata": {},
   "source": [
    "Save table"
   ]
  },
  {
   "cell_type": "code",
   "execution_count": null,
   "metadata": {},
   "outputs": [],
   "source": [
    "df.to_csv('/Users/ikersanchez/Vizzuality/PROIEKTUAK/i2i/Data/FSP_Maps/jurisdictions.csv')"
   ]
  },
  {
   "cell_type": "code",
   "execution_count": null,
   "metadata": {},
   "outputs": [],
   "source": []
  }
 ],
 "metadata": {
  "kernelspec": {
   "display_name": "Python 3",
   "language": "python",
   "name": "python3"
  },
  "language_info": {
   "codemirror_mode": {
    "name": "ipython",
    "version": 3
   },
   "file_extension": ".py",
   "mimetype": "text/x-python",
   "name": "python",
   "nbconvert_exporter": "python",
   "pygments_lexer": "ipython3",
   "version": "3.6.4"
  }
 },
 "nbformat": 4,
 "nbformat_minor": 2
}
