{
 "cells": [
  {
   "cell_type": "markdown",
   "metadata": {},
   "source": [
    "# Create a single table from all tables"
   ]
  },
  {
   "cell_type": "code",
   "execution_count": 1,
   "metadata": {},
   "outputs": [],
   "source": [
    "import pandas as pd\n",
    "import numpy as np"
   ]
  },
  {
   "cell_type": "code",
   "execution_count": 2,
   "metadata": {},
   "outputs": [],
   "source": [
    "df = pd.DataFrame(columns=['sector','type','land_use','iso','country','lat','lng','year','name'])"
   ]
  },
  {
   "cell_type": "code",
   "execution_count": 3,
   "metadata": {},
   "outputs": [
    {
     "data": {
      "text/html": [
       "<div>\n",
       "<style scoped>\n",
       "    .dataframe tbody tr th:only-of-type {\n",
       "        vertical-align: middle;\n",
       "    }\n",
       "\n",
       "    .dataframe tbody tr th {\n",
       "        vertical-align: top;\n",
       "    }\n",
       "\n",
       "    .dataframe thead th {\n",
       "        text-align: right;\n",
       "    }\n",
       "</style>\n",
       "<table border=\"1\" class=\"dataframe\">\n",
       "  <thead>\n",
       "    <tr style=\"text-align: right;\">\n",
       "      <th></th>\n",
       "      <th>sector</th>\n",
       "      <th>type</th>\n",
       "      <th>land_use</th>\n",
       "      <th>iso</th>\n",
       "      <th>country</th>\n",
       "      <th>lat</th>\n",
       "      <th>lng</th>\n",
       "      <th>year</th>\n",
       "      <th>name</th>\n",
       "    </tr>\n",
       "  </thead>\n",
       "  <tbody>\n",
       "  </tbody>\n",
       "</table>\n",
       "</div>"
      ],
      "text/plain": [
       "Empty DataFrame\n",
       "Columns: [sector, type, land_use, iso, country, lat, lng, year, name]\n",
       "Index: []"
      ]
     },
     "execution_count": 3,
     "metadata": {},
     "output_type": "execute_result"
    }
   ],
   "source": [
    "df.head()"
   ]
  },
  {
   "cell_type": "markdown",
   "metadata": {},
   "source": [
    "## Agriculture"
   ]
  },
  {
   "cell_type": "markdown",
   "metadata": {},
   "source": [
    "### India 2014"
   ]
  },
  {
   "cell_type": "code",
   "execution_count": 8,
   "metadata": {},
   "outputs": [],
   "source": [
    "indAgri = pd.read_excel('/Users/ikersanchez/Vizzuality/PROIEKTUAK/i2i/Data/FSP_Maps/Agriculture/india_agriculture_2014.xls')"
   ]
  },
  {
   "cell_type": "code",
   "execution_count": 9,
   "metadata": {},
   "outputs": [
    {
     "data": {
      "text/html": [
       "<div>\n",
       "<style scoped>\n",
       "    .dataframe tbody tr th:only-of-type {\n",
       "        vertical-align: middle;\n",
       "    }\n",
       "\n",
       "    .dataframe tbody tr th {\n",
       "        vertical-align: top;\n",
       "    }\n",
       "\n",
       "    .dataframe thead th {\n",
       "        text-align: right;\n",
       "    }\n",
       "</style>\n",
       "<table border=\"1\" class=\"dataframe\">\n",
       "  <thead>\n",
       "    <tr style=\"text-align: right;\">\n",
       "      <th></th>\n",
       "      <th>id</th>\n",
       "      <th>country</th>\n",
       "      <th>submission_id</th>\n",
       "      <th>form_created</th>\n",
       "      <th>form_submitted</th>\n",
       "      <th>lat</th>\n",
       "      <th>lng</th>\n",
       "      <th>address</th>\n",
       "      <th>type</th>\n",
       "      <th>land_use</th>\n",
       "      <th>...</th>\n",
       "      <th>branded</th>\n",
       "      <th>infrastructure_type</th>\n",
       "      <th>infrastructure_specific</th>\n",
       "      <th>state</th>\n",
       "      <th>district</th>\n",
       "      <th>category</th>\n",
       "      <th>geom</th>\n",
       "      <th>gaul_2014_adm0</th>\n",
       "      <th>gaul_2014_adm1</th>\n",
       "      <th>gaul_2014_adm2</th>\n",
       "    </tr>\n",
       "  </thead>\n",
       "  <tbody>\n",
       "    <tr>\n",
       "      <th>0</th>\n",
       "      <td>1539</td>\n",
       "      <td>India</td>\n",
       "      <td>1392014034076_Sunny</td>\n",
       "      <td>2/10/2014 11:58</td>\n",
       "      <td>2/10/2014 12:03</td>\n",
       "      <td>25.56872</td>\n",
       "      <td>84.67436</td>\n",
       "      <td>Gola Road, ARA</td>\n",
       "      <td>Agro-dealers</td>\n",
       "      <td>Rural</td>\n",
       "      <td>...</td>\n",
       "      <td>Yes</td>\n",
       "      <td>Permanent shop</td>\n",
       "      <td>NaN</td>\n",
       "      <td>Bihar</td>\n",
       "      <td>Bhojpur</td>\n",
       "      <td>Arrah</td>\n",
       "      <td>0101000020E6100000C16ED8B6282B5540C49448A29791...</td>\n",
       "      <td>118.0</td>\n",
       "      <td>2434.0</td>\n",
       "      <td>33127.0</td>\n",
       "    </tr>\n",
       "  </tbody>\n",
       "</table>\n",
       "<p>1 rows × 22 columns</p>\n",
       "</div>"
      ],
      "text/plain": [
       "     id country        submission_id     form_created   form_submitted  \\\n",
       "0  1539   India  1392014034076_Sunny  2/10/2014 11:58  2/10/2014 12:03   \n",
       "\n",
       "        lat       lng         address          type land_use       ...        \\\n",
       "0  25.56872  84.67436  Gola Road, ARA  Agro-dealers    Rural       ...         \n",
       "\n",
       "  branded  infrastructure_type infrastructure_specific  state district  \\\n",
       "0     Yes       Permanent shop                     NaN  Bihar  Bhojpur   \n",
       "\n",
       "  category                                               geom gaul_2014_adm0  \\\n",
       "0    Arrah  0101000020E6100000C16ED8B6282B5540C49448A29791...          118.0   \n",
       "\n",
       "  gaul_2014_adm1  gaul_2014_adm2  \n",
       "0         2434.0         33127.0  \n",
       "\n",
       "[1 rows x 22 columns]"
      ]
     },
     "execution_count": 9,
     "metadata": {},
     "output_type": "execute_result"
    }
   ],
   "source": [
    "indAgri.head(1)"
   ]
  },
  {
   "cell_type": "code",
   "execution_count": 10,
   "metadata": {},
   "outputs": [
    {
     "name": "stdout",
     "output_type": "stream",
     "text": [
      "<class 'pandas.core.frame.DataFrame'>\n",
      "RangeIndex: 65535 entries, 0 to 65534\n",
      "Data columns (total 22 columns):\n",
      "id                         65535 non-null int64\n",
      "country                    65535 non-null object\n",
      "submission_id              65535 non-null object\n",
      "form_created               65535 non-null object\n",
      "form_submitted             65535 non-null object\n",
      "lat                        65535 non-null float64\n",
      "lng                        65535 non-null float64\n",
      "address                    65534 non-null object\n",
      "type                       65535 non-null object\n",
      "land_use                   65535 non-null object\n",
      "name                       65528 non-null object\n",
      "number_employees           54884 non-null float64\n",
      "branded                    30469 non-null object\n",
      "infrastructure_type        33097 non-null object\n",
      "infrastructure_specific    210 non-null object\n",
      "state                      65535 non-null object\n",
      "district                   65535 non-null object\n",
      "category                   65535 non-null object\n",
      "geom                       65535 non-null object\n",
      "gaul_2014_adm0             65533 non-null float64\n",
      "gaul_2014_adm1             65533 non-null float64\n",
      "gaul_2014_adm2             65533 non-null float64\n",
      "dtypes: float64(6), int64(1), object(15)\n",
      "memory usage: 11.0+ MB\n"
     ]
    }
   ],
   "source": [
    "indAgri.info()"
   ]
  },
  {
   "cell_type": "code",
   "execution_count": 11,
   "metadata": {},
   "outputs": [],
   "source": [
    "df_indAgri = pd.DataFrame(columns=['sector','type','land_use','iso','country','lat','lng','year', 'name'])\n",
    "df_indAgri[['type','land_use','country','lat','lng']] = indAgri[['type','land_use','country','lat','lng']]\n",
    "df_indAgri[['sector','iso','year','name']] = ['Agriculture','IND',2014,'']\n",
    "df_indAgri.sort_values('type', inplace=True)\n",
    "df = pd.concat([df,df_indAgri])"
   ]
  },
  {
   "cell_type": "markdown",
   "metadata": {},
   "source": [
    "### Kenya 2015"
   ]
  },
  {
   "cell_type": "code",
   "execution_count": 12,
   "metadata": {},
   "outputs": [],
   "source": [
    "kenAgri = pd.read_excel('/Users/ikersanchez/Vizzuality/PROIEKTUAK/i2i/Data/FSP_Maps/Agriculture/kenya_agriculture_2015.xls')"
   ]
  },
  {
   "cell_type": "code",
   "execution_count": 13,
   "metadata": {},
   "outputs": [
    {
     "data": {
      "text/html": [
       "<div>\n",
       "<style scoped>\n",
       "    .dataframe tbody tr th:only-of-type {\n",
       "        vertical-align: middle;\n",
       "    }\n",
       "\n",
       "    .dataframe tbody tr th {\n",
       "        vertical-align: top;\n",
       "    }\n",
       "\n",
       "    .dataframe thead th {\n",
       "        text-align: right;\n",
       "    }\n",
       "</style>\n",
       "<table border=\"1\" class=\"dataframe\">\n",
       "  <thead>\n",
       "    <tr style=\"text-align: right;\">\n",
       "      <th></th>\n",
       "      <th>submission_id</th>\n",
       "      <th>form_name</th>\n",
       "      <th>form_created</th>\n",
       "      <th>form_submitted</th>\n",
       "      <th>province</th>\n",
       "      <th>county</th>\n",
       "      <th>constituency</th>\n",
       "      <th>ward</th>\n",
       "      <th>lat</th>\n",
       "      <th>long</th>\n",
       "      <th>gps_accuracy</th>\n",
       "      <th>type</th>\n",
       "      <th>ag_dealer_name</th>\n",
       "      <th>ag_dealer_operational</th>\n",
       "      <th>ag_dealer_num_employees</th>\n",
       "      <th>ex_post_operational</th>\n",
       "      <th>ex_post_contact_num</th>\n",
       "      <th>ex_post_num_employees</th>\n",
       "    </tr>\n",
       "  </thead>\n",
       "  <tbody>\n",
       "    <tr>\n",
       "      <th>0</th>\n",
       "      <td>1433841551991_Stellan</td>\n",
       "      <td>Agriculture</td>\n",
       "      <td>2015-06-09</td>\n",
       "      <td>2015-06-09</td>\n",
       "      <td>NYANZA</td>\n",
       "      <td>HOMA BAY</td>\n",
       "      <td>SUBA SOUTH</td>\n",
       "      <td>GWASSI SOUTH</td>\n",
       "      <td>-0.76614</td>\n",
       "      <td>34.07594</td>\n",
       "      <td>9</td>\n",
       "      <td>Farmer Organisations And Cooperatives</td>\n",
       "      <td>NaN</td>\n",
       "      <td>NaN</td>\n",
       "      <td>NaN</td>\n",
       "      <td>NaN</td>\n",
       "      <td>NaN</td>\n",
       "      <td>NaN</td>\n",
       "    </tr>\n",
       "  </tbody>\n",
       "</table>\n",
       "</div>"
      ],
      "text/plain": [
       "           submission_id    form_name form_created form_submitted province  \\\n",
       "0  1433841551991_Stellan  Agriculture   2015-06-09     2015-06-09   NYANZA   \n",
       "\n",
       "     county constituency          ward      lat      long  gps_accuracy  \\\n",
       "0  HOMA BAY   SUBA SOUTH  GWASSI SOUTH -0.76614  34.07594             9   \n",
       "\n",
       "                                    type ag_dealer_name ag_dealer_operational  \\\n",
       "0  Farmer Organisations And Cooperatives            NaN                   NaN   \n",
       "\n",
       "   ag_dealer_num_employees ex_post_operational  ex_post_contact_num  \\\n",
       "0                      NaN                 NaN                  NaN   \n",
       "\n",
       "   ex_post_num_employees  \n",
       "0                    NaN  "
      ]
     },
     "execution_count": 13,
     "metadata": {},
     "output_type": "execute_result"
    }
   ],
   "source": [
    "kenAgri.head(1)"
   ]
  },
  {
   "cell_type": "markdown",
   "metadata": {},
   "source": [
    "Rename long as lng"
   ]
  },
  {
   "cell_type": "code",
   "execution_count": 14,
   "metadata": {},
   "outputs": [],
   "source": [
    "kenAgri = kenAgri.rename(columns={'long': 'lng'})"
   ]
  },
  {
   "cell_type": "code",
   "execution_count": 15,
   "metadata": {},
   "outputs": [
    {
     "data": {
      "text/html": [
       "<div>\n",
       "<style scoped>\n",
       "    .dataframe tbody tr th:only-of-type {\n",
       "        vertical-align: middle;\n",
       "    }\n",
       "\n",
       "    .dataframe tbody tr th {\n",
       "        vertical-align: top;\n",
       "    }\n",
       "\n",
       "    .dataframe thead th {\n",
       "        text-align: right;\n",
       "    }\n",
       "</style>\n",
       "<table border=\"1\" class=\"dataframe\">\n",
       "  <thead>\n",
       "    <tr style=\"text-align: right;\">\n",
       "      <th></th>\n",
       "      <th>submission_id</th>\n",
       "      <th>form_name</th>\n",
       "      <th>form_created</th>\n",
       "      <th>form_submitted</th>\n",
       "      <th>province</th>\n",
       "      <th>county</th>\n",
       "      <th>constituency</th>\n",
       "      <th>ward</th>\n",
       "      <th>lat</th>\n",
       "      <th>lng</th>\n",
       "      <th>gps_accuracy</th>\n",
       "      <th>type</th>\n",
       "      <th>ag_dealer_name</th>\n",
       "      <th>ag_dealer_operational</th>\n",
       "      <th>ag_dealer_num_employees</th>\n",
       "      <th>ex_post_operational</th>\n",
       "      <th>ex_post_contact_num</th>\n",
       "      <th>ex_post_num_employees</th>\n",
       "    </tr>\n",
       "  </thead>\n",
       "  <tbody>\n",
       "    <tr>\n",
       "      <th>0</th>\n",
       "      <td>1433841551991_Stellan</td>\n",
       "      <td>Agriculture</td>\n",
       "      <td>2015-06-09</td>\n",
       "      <td>2015-06-09</td>\n",
       "      <td>NYANZA</td>\n",
       "      <td>HOMA BAY</td>\n",
       "      <td>SUBA SOUTH</td>\n",
       "      <td>GWASSI SOUTH</td>\n",
       "      <td>-0.76614</td>\n",
       "      <td>34.07594</td>\n",
       "      <td>9</td>\n",
       "      <td>Farmer Organisations And Cooperatives</td>\n",
       "      <td>NaN</td>\n",
       "      <td>NaN</td>\n",
       "      <td>NaN</td>\n",
       "      <td>NaN</td>\n",
       "      <td>NaN</td>\n",
       "      <td>NaN</td>\n",
       "    </tr>\n",
       "  </tbody>\n",
       "</table>\n",
       "</div>"
      ],
      "text/plain": [
       "           submission_id    form_name form_created form_submitted province  \\\n",
       "0  1433841551991_Stellan  Agriculture   2015-06-09     2015-06-09   NYANZA   \n",
       "\n",
       "     county constituency          ward      lat       lng  gps_accuracy  \\\n",
       "0  HOMA BAY   SUBA SOUTH  GWASSI SOUTH -0.76614  34.07594             9   \n",
       "\n",
       "                                    type ag_dealer_name ag_dealer_operational  \\\n",
       "0  Farmer Organisations And Cooperatives            NaN                   NaN   \n",
       "\n",
       "   ag_dealer_num_employees ex_post_operational  ex_post_contact_num  \\\n",
       "0                      NaN                 NaN                  NaN   \n",
       "\n",
       "   ex_post_num_employees  \n",
       "0                    NaN  "
      ]
     },
     "execution_count": 15,
     "metadata": {},
     "output_type": "execute_result"
    }
   ],
   "source": [
    "kenAgri.head(1)"
   ]
  },
  {
   "cell_type": "code",
   "execution_count": 16,
   "metadata": {},
   "outputs": [
    {
     "name": "stdout",
     "output_type": "stream",
     "text": [
      "<class 'pandas.core.frame.DataFrame'>\n",
      "RangeIndex: 23163 entries, 0 to 23162\n",
      "Data columns (total 18 columns):\n",
      "submission_id              23163 non-null object\n",
      "form_name                  23163 non-null object\n",
      "form_created               23163 non-null object\n",
      "form_submitted             23163 non-null object\n",
      "province                   23163 non-null object\n",
      "county                     23163 non-null object\n",
      "constituency               23163 non-null object\n",
      "ward                       23163 non-null object\n",
      "lat                        23163 non-null float64\n",
      "lng                        23163 non-null float64\n",
      "gps_accuracy               23163 non-null int64\n",
      "type                       23163 non-null object\n",
      "ag_dealer_name             8756 non-null object\n",
      "ag_dealer_operational      8756 non-null object\n",
      "ag_dealer_num_employees    8756 non-null float64\n",
      "ex_post_operational        1929 non-null object\n",
      "ex_post_contact_num        1929 non-null float64\n",
      "ex_post_num_employees      1929 non-null float64\n",
      "dtypes: float64(5), int64(1), object(12)\n",
      "memory usage: 3.2+ MB\n"
     ]
    }
   ],
   "source": [
    "kenAgri.info()"
   ]
  },
  {
   "cell_type": "code",
   "execution_count": 17,
   "metadata": {},
   "outputs": [],
   "source": [
    "df_kenAgri = pd.DataFrame(columns=['sector','type','land_use','iso','country','lat','lng','year','name'])\n",
    "df_kenAgri[['type','lat','lng']] = kenAgri[['type','lat','lng']]\n",
    "df_kenAgri[['sector','iso','country','year','name']] = ['Agriculture','KEN','Kenya',2015,'']\n",
    "df_kenAgri.sort_values('type', inplace=True)\n",
    "df = pd.concat([df,df_kenAgri])"
   ]
  },
  {
   "cell_type": "markdown",
   "metadata": {},
   "source": [
    "### Uganda 2015"
   ]
  },
  {
   "cell_type": "code",
   "execution_count": 18,
   "metadata": {},
   "outputs": [],
   "source": [
    "ugaAgri = pd.read_excel('/Users/ikersanchez/Vizzuality/PROIEKTUAK/i2i/Data/FSP_Maps/Agriculture/uganda_agriculture_2015.xls')"
   ]
  },
  {
   "cell_type": "code",
   "execution_count": 19,
   "metadata": {},
   "outputs": [
    {
     "data": {
      "text/html": [
       "<div>\n",
       "<style scoped>\n",
       "    .dataframe tbody tr th:only-of-type {\n",
       "        vertical-align: middle;\n",
       "    }\n",
       "\n",
       "    .dataframe tbody tr th {\n",
       "        vertical-align: top;\n",
       "    }\n",
       "\n",
       "    .dataframe thead th {\n",
       "        text-align: right;\n",
       "    }\n",
       "</style>\n",
       "<table border=\"1\" class=\"dataframe\">\n",
       "  <thead>\n",
       "    <tr style=\"text-align: right;\">\n",
       "      <th></th>\n",
       "      <th>submission_id</th>\n",
       "      <th>form_created</th>\n",
       "      <th>form_submitted</th>\n",
       "      <th>lat</th>\n",
       "      <th>lng</th>\n",
       "      <th>gps_accuracy</th>\n",
       "      <th>signal_strength</th>\n",
       "      <th>region</th>\n",
       "      <th>district</th>\n",
       "      <th>address</th>\n",
       "      <th>...</th>\n",
       "      <th>ag_de_name</th>\n",
       "      <th>ag_de_num_employees</th>\n",
       "      <th>ag_de_branded</th>\n",
       "      <th>ag_de_infra_type</th>\n",
       "      <th>ag_de_other_infra</th>\n",
       "      <th>wsa_contact_num</th>\n",
       "      <th>wsa_num_employees</th>\n",
       "      <th>geom</th>\n",
       "      <th>id</th>\n",
       "      <th>land_use</th>\n",
       "    </tr>\n",
       "  </thead>\n",
       "  <tbody>\n",
       "    <tr>\n",
       "      <th>0</th>\n",
       "      <td>1408949357926_dismasabeho</td>\n",
       "      <td>2014-08-25</td>\n",
       "      <td>2014-08-25</td>\n",
       "      <td>-0.22734</td>\n",
       "      <td>30.54776</td>\n",
       "      <td>6</td>\n",
       "      <td>-1</td>\n",
       "      <td>Western</td>\n",
       "      <td>Ibanda</td>\n",
       "      <td>Ibanda</td>\n",
       "      <td>...</td>\n",
       "      <td>Bwegye</td>\n",
       "      <td>2.0</td>\n",
       "      <td>No</td>\n",
       "      <td>Permanent shop</td>\n",
       "      <td>NaN</td>\n",
       "      <td>NaN</td>\n",
       "      <td>NaN</td>\n",
       "      <td>0101000020E6100000950ED6FF398C3E40444C89247A19...</td>\n",
       "      <td>13</td>\n",
       "      <td>Rural</td>\n",
       "    </tr>\n",
       "  </tbody>\n",
       "</table>\n",
       "<p>1 rows × 21 columns</p>\n",
       "</div>"
      ],
      "text/plain": [
       "               submission_id form_created form_submitted      lat       lng  \\\n",
       "0  1408949357926_dismasabeho   2014-08-25     2014-08-25 -0.22734  30.54776   \n",
       "\n",
       "   gps_accuracy  signal_strength   region district address    ...     \\\n",
       "0             6               -1  Western   Ibanda  Ibanda    ...      \n",
       "\n",
       "  ag_de_name ag_de_num_employees  ag_de_branded ag_de_infra_type  \\\n",
       "0     Bwegye                 2.0             No   Permanent shop   \n",
       "\n",
       "  ag_de_other_infra wsa_contact_num  wsa_num_employees  \\\n",
       "0               NaN             NaN                NaN   \n",
       "\n",
       "                                                geom  id  land_use  \n",
       "0  0101000020E6100000950ED6FF398C3E40444C89247A19...  13     Rural  \n",
       "\n",
       "[1 rows x 21 columns]"
      ]
     },
     "execution_count": 19,
     "metadata": {},
     "output_type": "execute_result"
    }
   ],
   "source": [
    "ugaAgri.head(1)"
   ]
  },
  {
   "cell_type": "code",
   "execution_count": 20,
   "metadata": {},
   "outputs": [
    {
     "name": "stdout",
     "output_type": "stream",
     "text": [
      "<class 'pandas.core.frame.DataFrame'>\n",
      "RangeIndex: 40582 entries, 0 to 40581\n",
      "Data columns (total 21 columns):\n",
      "submission_id          40582 non-null object\n",
      "form_created           40582 non-null object\n",
      "form_submitted         40582 non-null object\n",
      "lat                    40582 non-null float64\n",
      "lng                    40582 non-null float64\n",
      "gps_accuracy           40582 non-null int64\n",
      "signal_strength        40582 non-null int64\n",
      "region                 40582 non-null object\n",
      "district               40582 non-null object\n",
      "address                40582 non-null object\n",
      "type                   40582 non-null object\n",
      "ag_de_name             4826 non-null object\n",
      "ag_de_num_employees    4827 non-null float64\n",
      "ag_de_branded          4827 non-null object\n",
      "ag_de_infra_type       4827 non-null object\n",
      "ag_de_other_infra      11 non-null object\n",
      "wsa_contact_num        8992 non-null float64\n",
      "wsa_num_employees      8992 non-null float64\n",
      "geom                   40582 non-null object\n",
      "id                     40582 non-null int64\n",
      "land_use               40582 non-null object\n",
      "dtypes: float64(5), int64(3), object(13)\n",
      "memory usage: 6.5+ MB\n"
     ]
    }
   ],
   "source": [
    "ugaAgri.info()"
   ]
  },
  {
   "cell_type": "code",
   "execution_count": 21,
   "metadata": {},
   "outputs": [],
   "source": [
    "df_ugaAgri = pd.DataFrame(columns=['sector','type','land_use','iso','country','lat','lng','year','name'])\n",
    "df_ugaAgri[['type','land_use','lat','lng']] = ugaAgri[['type','land_use','lat','lng']]\n",
    "df_ugaAgri[['sector','iso','country','year','name']] = ['Agriculture','UGA','Uganda',2015,'']\n",
    "df_ugaAgri.sort_values('type', inplace=True)\n",
    "df = pd.concat([df,df_ugaAgri])"
   ]
  },
  {
   "cell_type": "markdown",
   "metadata": {},
   "source": [
    "## Education"
   ]
  },
  {
   "cell_type": "markdown",
   "metadata": {},
   "source": [
    "### Uganda 2015"
   ]
  },
  {
   "cell_type": "code",
   "execution_count": 22,
   "metadata": {},
   "outputs": [],
   "source": [
    "ugaEdu = pd.read_excel('/Users/ikersanchez/Vizzuality/PROIEKTUAK/i2i/Data/FSP_Maps/Education/uganda_education_2015.xlsx')"
   ]
  },
  {
   "cell_type": "code",
   "execution_count": 23,
   "metadata": {},
   "outputs": [
    {
     "data": {
      "text/html": [
       "<div>\n",
       "<style scoped>\n",
       "    .dataframe tbody tr th:only-of-type {\n",
       "        vertical-align: middle;\n",
       "    }\n",
       "\n",
       "    .dataframe tbody tr th {\n",
       "        vertical-align: top;\n",
       "    }\n",
       "\n",
       "    .dataframe thead th {\n",
       "        text-align: right;\n",
       "    }\n",
       "</style>\n",
       "<table border=\"1\" class=\"dataframe\">\n",
       "  <thead>\n",
       "    <tr style=\"text-align: right;\">\n",
       "      <th></th>\n",
       "      <th>submission_id</th>\n",
       "      <th>form_created</th>\n",
       "      <th>form_submitted</th>\n",
       "      <th>lat</th>\n",
       "      <th>lng</th>\n",
       "      <th>gps_accuracy</th>\n",
       "      <th>signal_strength</th>\n",
       "      <th>region</th>\n",
       "      <th>district</th>\n",
       "      <th>address</th>\n",
       "      <th>...</th>\n",
       "      <th>num_learners</th>\n",
       "      <th>male_prop</th>\n",
       "      <th>female_prop</th>\n",
       "      <th>female_learners</th>\n",
       "      <th>male_learners</th>\n",
       "      <th>female_teachers</th>\n",
       "      <th>male_teachers</th>\n",
       "      <th>geom</th>\n",
       "      <th>id</th>\n",
       "      <th>land_use</th>\n",
       "    </tr>\n",
       "  </thead>\n",
       "  <tbody>\n",
       "    <tr>\n",
       "      <th>0</th>\n",
       "      <td>1409551927104_noelinenanvuma</td>\n",
       "      <td>2014-09-01</td>\n",
       "      <td>2014-09-01</td>\n",
       "      <td>0.10584</td>\n",
       "      <td>33.30869</td>\n",
       "      <td>9</td>\n",
       "      <td>-1</td>\n",
       "      <td>Central</td>\n",
       "      <td>Buvuma</td>\n",
       "      <td>namakeba village</td>\n",
       "      <td>...</td>\n",
       "      <td>63.0</td>\n",
       "      <td>40.0</td>\n",
       "      <td>60.0</td>\n",
       "      <td>NaN</td>\n",
       "      <td>NaN</td>\n",
       "      <td>NaN</td>\n",
       "      <td>NaN</td>\n",
       "      <td>0101000020E6100000164D672783A74040D5CF9B8A5418...</td>\n",
       "      <td>8</td>\n",
       "      <td>Rural</td>\n",
       "    </tr>\n",
       "  </tbody>\n",
       "</table>\n",
       "<p>1 rows × 23 columns</p>\n",
       "</div>"
      ],
      "text/plain": [
       "                  submission_id form_created form_submitted      lat  \\\n",
       "0  1409551927104_noelinenanvuma   2014-09-01     2014-09-01  0.10584   \n",
       "\n",
       "        lng  gps_accuracy  signal_strength   region district  \\\n",
       "0  33.30869             9               -1  Central   Buvuma   \n",
       "\n",
       "            address    ...    num_learners male_prop female_prop  \\\n",
       "0  namakeba village    ...            63.0      40.0        60.0   \n",
       "\n",
       "   female_learners  male_learners  female_teachers  male_teachers  \\\n",
       "0              NaN            NaN              NaN            NaN   \n",
       "\n",
       "                                                geom  id  land_use  \n",
       "0  0101000020E6100000164D672783A74040D5CF9B8A5418...   8     Rural  \n",
       "\n",
       "[1 rows x 23 columns]"
      ]
     },
     "execution_count": 23,
     "metadata": {},
     "output_type": "execute_result"
    }
   ],
   "source": [
    "ugaEdu.head(1)"
   ]
  },
  {
   "cell_type": "code",
   "execution_count": 24,
   "metadata": {},
   "outputs": [
    {
     "name": "stdout",
     "output_type": "stream",
     "text": [
      "<class 'pandas.core.frame.DataFrame'>\n",
      "RangeIndex: 40502 entries, 0 to 40501\n",
      "Data columns (total 23 columns):\n",
      "submission_id      40502 non-null object\n",
      "form_created       40502 non-null object\n",
      "form_submitted     40502 non-null object\n",
      "lat                40502 non-null float64\n",
      "lng                40502 non-null float64\n",
      "gps_accuracy       40502 non-null int64\n",
      "signal_strength    40502 non-null int64\n",
      "region             40502 non-null object\n",
      "district           40502 non-null object\n",
      "address            40502 non-null object\n",
      "type               40502 non-null object\n",
      "name               40502 non-null object\n",
      "open_date          40502 non-null object\n",
      "num_learners       183 non-null float64\n",
      "male_prop          183 non-null float64\n",
      "female_prop        183 non-null float64\n",
      "female_learners    40309 non-null float64\n",
      "male_learners      40310 non-null float64\n",
      "female_teachers    40318 non-null float64\n",
      "male_teachers      40229 non-null float64\n",
      "geom               40502 non-null object\n",
      "id                 40502 non-null int64\n",
      "land_use           40502 non-null object\n",
      "dtypes: float64(9), int64(3), object(11)\n",
      "memory usage: 7.1+ MB\n"
     ]
    }
   ],
   "source": [
    "ugaEdu.info()"
   ]
  },
  {
   "cell_type": "code",
   "execution_count": 26,
   "metadata": {},
   "outputs": [],
   "source": [
    "df_ugaEdu = pd.DataFrame(columns=['sector','type','land_use','iso','country','lat','lng','year','name'])\n",
    "df_ugaEdu[['type','land_use','lat','lng','name']] = ugaEdu[['type','land_use','lat','lng','name']]\n",
    "df_ugaEdu[['sector','iso','country','year']] = ['Education','UGA','Uganda',2015]\n",
    "df_ugaEdu.sort_values('type', inplace=True)\n",
    "df = pd.concat([df,df_ugaEdu])"
   ]
  },
  {
   "cell_type": "markdown",
   "metadata": {},
   "source": [
    "## Finance"
   ]
  },
  {
   "cell_type": "markdown",
   "metadata": {},
   "source": [
    "### Bangladesh 2013"
   ]
  },
  {
   "cell_type": "code",
   "execution_count": 27,
   "metadata": {},
   "outputs": [],
   "source": [
    "bgdFin = pd.read_excel('/Users/ikersanchez/Vizzuality/PROIEKTUAK/i2i/Data/FSP_Maps/Finance/Bangladesh_finance_2013.xls')"
   ]
  },
  {
   "cell_type": "code",
   "execution_count": 28,
   "metadata": {},
   "outputs": [
    {
     "data": {
      "text/html": [
       "<div>\n",
       "<style scoped>\n",
       "    .dataframe tbody tr th:only-of-type {\n",
       "        vertical-align: middle;\n",
       "    }\n",
       "\n",
       "    .dataframe tbody tr th {\n",
       "        vertical-align: top;\n",
       "    }\n",
       "\n",
       "    .dataframe thead th {\n",
       "        text-align: right;\n",
       "    }\n",
       "</style>\n",
       "<table border=\"1\" class=\"dataframe\">\n",
       "  <thead>\n",
       "    <tr style=\"text-align: right;\">\n",
       "      <th></th>\n",
       "      <th>submission_id</th>\n",
       "      <th>country</th>\n",
       "      <th>type</th>\n",
       "      <th>geom</th>\n",
       "      <th>photos</th>\n",
       "      <th>providers</th>\n",
       "      <th>id</th>\n",
       "      <th>land_use</th>\n",
       "    </tr>\n",
       "  </thead>\n",
       "  <tbody>\n",
       "    <tr>\n",
       "      <th>0</th>\n",
       "      <td>1363856144680_Zillur</td>\n",
       "      <td>Bangladesh</td>\n",
       "      <td>Offsite ATMs</td>\n",
       "      <td>0101000020E61000007CE40F069E4F564070C3D32B65C1...</td>\n",
       "      <td>NaN</td>\n",
       "      <td>NaN</td>\n",
       "      <td>14104</td>\n",
       "      <td>Urban</td>\n",
       "    </tr>\n",
       "  </tbody>\n",
       "</table>\n",
       "</div>"
      ],
      "text/plain": [
       "          submission_id     country          type  \\\n",
       "0  1363856144680_Zillur  Bangladesh  Offsite ATMs   \n",
       "\n",
       "                                                geom photos providers     id  \\\n",
       "0  0101000020E61000007CE40F069E4F564070C3D32B65C1...    NaN       NaN  14104   \n",
       "\n",
       "  land_use  \n",
       "0    Urban  "
      ]
     },
     "execution_count": 28,
     "metadata": {},
     "output_type": "execute_result"
    }
   ],
   "source": [
    "bgdFin.head(1)"
   ]
  },
  {
   "cell_type": "markdown",
   "metadata": {},
   "source": [
    "Obtain lat and lng from wkb geometry "
   ]
  },
  {
   "cell_type": "code",
   "execution_count": 29,
   "metadata": {},
   "outputs": [],
   "source": [
    "from shapely.wkb import loads"
   ]
  },
  {
   "cell_type": "code",
   "execution_count": 30,
   "metadata": {},
   "outputs": [],
   "source": [
    "lng = []\n",
    "lat = []\n",
    "for i in range(len(bgdFin['geom'])):\n",
    "    point = loads(bgdFin['geom'].iloc[i], hex = True)\n",
    "    x, y = point.coords.xy\n",
    "    lng.append(x[0])\n",
    "    lat.append(y[0])"
   ]
  },
  {
   "cell_type": "code",
   "execution_count": 31,
   "metadata": {},
   "outputs": [],
   "source": [
    "bgdFin['lat'] = lat\n",
    "bgdFin['lng'] = lng"
   ]
  },
  {
   "cell_type": "code",
   "execution_count": 32,
   "metadata": {},
   "outputs": [
    {
     "data": {
      "text/html": [
       "<div>\n",
       "<style scoped>\n",
       "    .dataframe tbody tr th:only-of-type {\n",
       "        vertical-align: middle;\n",
       "    }\n",
       "\n",
       "    .dataframe tbody tr th {\n",
       "        vertical-align: top;\n",
       "    }\n",
       "\n",
       "    .dataframe thead th {\n",
       "        text-align: right;\n",
       "    }\n",
       "</style>\n",
       "<table border=\"1\" class=\"dataframe\">\n",
       "  <thead>\n",
       "    <tr style=\"text-align: right;\">\n",
       "      <th></th>\n",
       "      <th>submission_id</th>\n",
       "      <th>country</th>\n",
       "      <th>type</th>\n",
       "      <th>geom</th>\n",
       "      <th>photos</th>\n",
       "      <th>providers</th>\n",
       "      <th>id</th>\n",
       "      <th>land_use</th>\n",
       "      <th>lat</th>\n",
       "      <th>lng</th>\n",
       "    </tr>\n",
       "  </thead>\n",
       "  <tbody>\n",
       "    <tr>\n",
       "      <th>0</th>\n",
       "      <td>1363856144680_Zillur</td>\n",
       "      <td>Bangladesh</td>\n",
       "      <td>Offsite ATMs</td>\n",
       "      <td>0101000020E61000007CE40F069E4F564070C3D32B65C1...</td>\n",
       "      <td>NaN</td>\n",
       "      <td>NaN</td>\n",
       "      <td>14104</td>\n",
       "      <td>Urban</td>\n",
       "      <td>25.75545</td>\n",
       "      <td>89.24402</td>\n",
       "    </tr>\n",
       "  </tbody>\n",
       "</table>\n",
       "</div>"
      ],
      "text/plain": [
       "          submission_id     country          type  \\\n",
       "0  1363856144680_Zillur  Bangladesh  Offsite ATMs   \n",
       "\n",
       "                                                geom photos providers     id  \\\n",
       "0  0101000020E61000007CE40F069E4F564070C3D32B65C1...    NaN       NaN  14104   \n",
       "\n",
       "  land_use       lat       lng  \n",
       "0    Urban  25.75545  89.24402  "
      ]
     },
     "execution_count": 32,
     "metadata": {},
     "output_type": "execute_result"
    }
   ],
   "source": [
    "bgdFin.head(1)"
   ]
  },
  {
   "cell_type": "code",
   "execution_count": 33,
   "metadata": {},
   "outputs": [
    {
     "name": "stdout",
     "output_type": "stream",
     "text": [
      "<class 'pandas.core.frame.DataFrame'>\n",
      "RangeIndex: 65534 entries, 0 to 65533\n",
      "Data columns (total 10 columns):\n",
      "submission_id    65534 non-null object\n",
      "country          65534 non-null object\n",
      "type             65534 non-null object\n",
      "geom             65534 non-null object\n",
      "photos           46799 non-null object\n",
      "providers        31754 non-null object\n",
      "id               65534 non-null int64\n",
      "land_use         65519 non-null object\n",
      "lat              65534 non-null float64\n",
      "lng              65534 non-null float64\n",
      "dtypes: float64(2), int64(1), object(7)\n",
      "memory usage: 5.0+ MB\n"
     ]
    }
   ],
   "source": [
    "bgdFin.info()"
   ]
  },
  {
   "cell_type": "code",
   "execution_count": 35,
   "metadata": {},
   "outputs": [],
   "source": [
    "df_bgdFin = pd.DataFrame(columns=['sector','type','land_use','iso','country','lat','lng','year','name'])\n",
    "df_bgdFin[['type','land_use','country','lat','lng','name']] = bgdFin[['type','land_use','country','lat','lng','providers']]\n",
    "df_bgdFin[['sector','iso','year']] = ['Finance','BGD',2013]\n",
    "df_bgdFin.sort_values('type', inplace=True)\n",
    "df = pd.concat([df,df_bgdFin])"
   ]
  },
  {
   "cell_type": "markdown",
   "metadata": {},
   "source": [
    "### India 2014"
   ]
  },
  {
   "cell_type": "code",
   "execution_count": 36,
   "metadata": {},
   "outputs": [],
   "source": [
    "indFin = pd.read_excel('/Users/ikersanchez/Vizzuality/PROIEKTUAK/i2i/Data/FSP_Maps/Finance/India_finance_2014.xls')"
   ]
  },
  {
   "cell_type": "code",
   "execution_count": 37,
   "metadata": {},
   "outputs": [
    {
     "data": {
      "text/html": [
       "<div>\n",
       "<style scoped>\n",
       "    .dataframe tbody tr th:only-of-type {\n",
       "        vertical-align: middle;\n",
       "    }\n",
       "\n",
       "    .dataframe tbody tr th {\n",
       "        vertical-align: top;\n",
       "    }\n",
       "\n",
       "    .dataframe thead th {\n",
       "        text-align: right;\n",
       "    }\n",
       "</style>\n",
       "<table border=\"1\" class=\"dataframe\">\n",
       "  <thead>\n",
       "    <tr style=\"text-align: right;\">\n",
       "      <th></th>\n",
       "      <th>id</th>\n",
       "      <th>country</th>\n",
       "      <th>name</th>\n",
       "      <th>submission_id</th>\n",
       "      <th>capturer_name</th>\n",
       "      <th>form_created</th>\n",
       "      <th>form_submitted</th>\n",
       "      <th>lat</th>\n",
       "      <th>lng</th>\n",
       "      <th>address</th>\n",
       "      <th>...</th>\n",
       "      <th>state</th>\n",
       "      <th>district</th>\n",
       "      <th>category</th>\n",
       "      <th>atm_count</th>\n",
       "      <th>atm_allow_deposit</th>\n",
       "      <th>geom</th>\n",
       "      <th>gaul_2014_adm0</th>\n",
       "      <th>gaul_2014_adm1</th>\n",
       "      <th>gaul_2014_adm2</th>\n",
       "      <th>providers</th>\n",
       "    </tr>\n",
       "  </thead>\n",
       "  <tbody>\n",
       "    <tr>\n",
       "      <th>0</th>\n",
       "      <td>31095</td>\n",
       "      <td>India</td>\n",
       "      <td>Zila Sahkari Bank / District Cooperative Bank</td>\n",
       "      <td>1400997091659_Amit2</td>\n",
       "      <td>Amit2 Goswami</td>\n",
       "      <td>5/25/2014 11:12</td>\n",
       "      <td>5/25/2014 11:21</td>\n",
       "      <td>28.64568</td>\n",
       "      <td>77.42019</td>\n",
       "      <td>Vijay Nagar Ghaziabad</td>\n",
       "      <td>...</td>\n",
       "      <td>Uttar Pradesh</td>\n",
       "      <td>Ghaziabad</td>\n",
       "      <td>Ghaziabad</td>\n",
       "      <td>0.0</td>\n",
       "      <td>No</td>\n",
       "      <td>0101000020E6100000CD069964E45A534068AED3484BA5...</td>\n",
       "      <td>118</td>\n",
       "      <td>2442</td>\n",
       "      <td>32885</td>\n",
       "      <td>NaN</td>\n",
       "    </tr>\n",
       "  </tbody>\n",
       "</table>\n",
       "<p>1 rows × 41 columns</p>\n",
       "</div>"
      ],
      "text/plain": [
       "      id country                                           name  \\\n",
       "0  31095   India  Zila Sahkari Bank / District Cooperative Bank   \n",
       "\n",
       "         submission_id  capturer_name     form_created   form_submitted  \\\n",
       "0  1400997091659_Amit2  Amit2 Goswami  5/25/2014 11:12  5/25/2014 11:21   \n",
       "\n",
       "        lat       lng                address    ...             state  \\\n",
       "0  28.64568  77.42019  Vijay Nagar Ghaziabad    ...     Uttar Pradesh   \n",
       "\n",
       "    district   category atm_count atm_allow_deposit  \\\n",
       "0  Ghaziabad  Ghaziabad       0.0                No   \n",
       "\n",
       "                                                geom gaul_2014_adm0  \\\n",
       "0  0101000020E6100000CD069964E45A534068AED3484BA5...            118   \n",
       "\n",
       "  gaul_2014_adm1 gaul_2014_adm2 providers  \n",
       "0           2442          32885       NaN  \n",
       "\n",
       "[1 rows x 41 columns]"
      ]
     },
     "execution_count": 37,
     "metadata": {},
     "output_type": "execute_result"
    }
   ],
   "source": [
    "indFin.head(1)"
   ]
  },
  {
   "cell_type": "code",
   "execution_count": 38,
   "metadata": {},
   "outputs": [
    {
     "name": "stdout",
     "output_type": "stream",
     "text": [
      "<class 'pandas.core.frame.DataFrame'>\n",
      "RangeIndex: 50743 entries, 0 to 50742\n",
      "Data columns (total 41 columns):\n",
      "id                         50743 non-null int64\n",
      "country                    50743 non-null object\n",
      "name                       39876 non-null object\n",
      "submission_id              50743 non-null object\n",
      "capturer_name              50743 non-null object\n",
      "form_created               50743 non-null object\n",
      "form_submitted             50743 non-null object\n",
      "lat                        50743 non-null float64\n",
      "lng                        50743 non-null float64\n",
      "address                    50743 non-null object\n",
      "type                       50743 non-null object\n",
      "land_use                   50743 non-null object\n",
      "photos                     50734 non-null object\n",
      "weekend_bank_trade         18445 non-null object\n",
      "process_cash_withdrawls    10866 non-null object\n",
      "assoc_bank_bus_both        10866 non-null object\n",
      "assoc_business             7074 non-null object\n",
      "assoc_bank                 10815 non-null object\n",
      "status                     47192 non-null object\n",
      "rate_float_run_out         6441 non-null object\n",
      "last_transaction           6441 non-null object\n",
      "deposits_per_week          6441 non-null float64\n",
      "withdrawals_per_week       6441 non-null float64\n",
      "visible_branding           6441 non-null object\n",
      "complaint_instructions     6441 non-null object\n",
      "transaction_equipment      6441 non-null object\n",
      "year_started               39576 non-null float64\n",
      "boxes_in_post_office       13782 non-null object\n",
      "po_electronic_payments     13782 non-null object\n",
      "mfi_registration           349 non-null object\n",
      "mra_registration_number    343 non-null float64\n",
      "state                      50743 non-null object\n",
      "district                   50743 non-null object\n",
      "category                   50743 non-null object\n",
      "atm_count                  25338 non-null float64\n",
      "atm_allow_deposit          25336 non-null object\n",
      "geom                       50743 non-null object\n",
      "gaul_2014_adm0             50743 non-null int64\n",
      "gaul_2014_adm1             50743 non-null int64\n",
      "gaul_2014_adm2             50743 non-null int64\n",
      "providers                  7074 non-null object\n",
      "dtypes: float64(7), int64(4), object(30)\n",
      "memory usage: 15.9+ MB\n"
     ]
    }
   ],
   "source": [
    "indFin.info()"
   ]
  },
  {
   "cell_type": "code",
   "execution_count": 41,
   "metadata": {},
   "outputs": [],
   "source": [
    "df_indFin = pd.DataFrame(columns=['sector','type','land_use','iso','country','lat','lng','year','name'])\n",
    "df_indFin[['type','land_use','country','lat','lng','name']] = indFin[['type','land_use','country','lat','lng','providers']]\n",
    "df_indFin[['sector','iso','year']] = ['Finance','IND',2014]\n",
    "df_indFin.sort_values('type', inplace=True)\n",
    "df = pd.concat([df,df_indFin])"
   ]
  },
  {
   "cell_type": "markdown",
   "metadata": {},
   "source": [
    "### Kenya 2015"
   ]
  },
  {
   "cell_type": "code",
   "execution_count": 42,
   "metadata": {},
   "outputs": [],
   "source": [
    "kenFin = pd.read_excel('/Users/ikersanchez/Vizzuality/PROIEKTUAK/i2i/Data/FSP_Maps/Finance/Kenya_finance_2015.xls')"
   ]
  },
  {
   "cell_type": "code",
   "execution_count": 43,
   "metadata": {},
   "outputs": [
    {
     "data": {
      "text/html": [
       "<div>\n",
       "<style scoped>\n",
       "    .dataframe tbody tr th:only-of-type {\n",
       "        vertical-align: middle;\n",
       "    }\n",
       "\n",
       "    .dataframe tbody tr th {\n",
       "        vertical-align: top;\n",
       "    }\n",
       "\n",
       "    .dataframe thead th {\n",
       "        text-align: right;\n",
       "    }\n",
       "</style>\n",
       "<table border=\"1\" class=\"dataframe\">\n",
       "  <thead>\n",
       "    <tr style=\"text-align: right;\">\n",
       "      <th></th>\n",
       "      <th>submission_id</th>\n",
       "      <th>form_name</th>\n",
       "      <th>capturer_name</th>\n",
       "      <th>form_created</th>\n",
       "      <th>form_submitted</th>\n",
       "      <th>province</th>\n",
       "      <th>county</th>\n",
       "      <th>constituency</th>\n",
       "      <th>ward</th>\n",
       "      <th>lat</th>\n",
       "      <th>...</th>\n",
       "      <th>questionnaire</th>\n",
       "      <th>type</th>\n",
       "      <th>address</th>\n",
       "      <th>atm_name</th>\n",
       "      <th>atm_start_date</th>\n",
       "      <th>atm_visa</th>\n",
       "      <th>atm_mastercard</th>\n",
       "      <th>atm_kenswitch</th>\n",
       "      <th>atm_pesa_point</th>\n",
       "      <th>atm_num_machines</th>\n",
       "    </tr>\n",
       "  </thead>\n",
       "  <tbody>\n",
       "    <tr>\n",
       "      <th>0</th>\n",
       "      <td>1431502602803_Brianch</td>\n",
       "      <td>Pension Provider</td>\n",
       "      <td>Brian Chenze</td>\n",
       "      <td>2015-05-13</td>\n",
       "      <td>2015-05-13</td>\n",
       "      <td>COAST</td>\n",
       "      <td>LAMU</td>\n",
       "      <td>LAMU WEST</td>\n",
       "      <td>MKOMANI</td>\n",
       "      <td>-2.26608</td>\n",
       "      <td>...</td>\n",
       "      <td>Financial</td>\n",
       "      <td>Pension Provider</td>\n",
       "      <td>Lamu</td>\n",
       "      <td>NaN</td>\n",
       "      <td>NaN</td>\n",
       "      <td>NaN</td>\n",
       "      <td>NaN</td>\n",
       "      <td>NaN</td>\n",
       "      <td>NaN</td>\n",
       "      <td>NaN</td>\n",
       "    </tr>\n",
       "  </tbody>\n",
       "</table>\n",
       "<p>1 rows × 22 columns</p>\n",
       "</div>"
      ],
      "text/plain": [
       "           submission_id         form_name capturer_name form_created  \\\n",
       "0  1431502602803_Brianch  Pension Provider  Brian Chenze   2015-05-13   \n",
       "\n",
       "  form_submitted province county constituency     ward      lat  \\\n",
       "0     2015-05-13    COAST   LAMU    LAMU WEST  MKOMANI -2.26608   \n",
       "\n",
       "        ...         questionnaire              type address atm_name  \\\n",
       "0       ...             Financial  Pension Provider    Lamu      NaN   \n",
       "\n",
       "  atm_start_date atm_visa atm_mastercard atm_kenswitch atm_pesa_point  \\\n",
       "0            NaN      NaN            NaN           NaN            NaN   \n",
       "\n",
       "  atm_num_machines  \n",
       "0              NaN  \n",
       "\n",
       "[1 rows x 22 columns]"
      ]
     },
     "execution_count": 43,
     "metadata": {},
     "output_type": "execute_result"
    }
   ],
   "source": [
    "kenFin.head(1)"
   ]
  },
  {
   "cell_type": "code",
   "execution_count": 44,
   "metadata": {},
   "outputs": [
    {
     "data": {
      "text/plain": [
       "Index(['submission_id', 'form_name', 'capturer_name', 'form_created',\n",
       "       'form_submitted', 'province', 'county', 'constituency', 'ward', 'lat',\n",
       "       'long', 'gps_accuracy', 'questionnaire', 'type', 'address', 'atm_name',\n",
       "       'atm_start_date', 'atm_visa', 'atm_mastercard', 'atm_kenswitch',\n",
       "       'atm_pesa_point', 'atm_num_machines'],\n",
       "      dtype='object')"
      ]
     },
     "execution_count": 44,
     "metadata": {},
     "output_type": "execute_result"
    }
   ],
   "source": [
    "kenFin.columns"
   ]
  },
  {
   "cell_type": "markdown",
   "metadata": {},
   "source": [
    "Rename long as lng"
   ]
  },
  {
   "cell_type": "code",
   "execution_count": 45,
   "metadata": {},
   "outputs": [],
   "source": [
    "kenFin = kenFin.rename(columns={'long': 'lng'})"
   ]
  },
  {
   "cell_type": "code",
   "execution_count": 46,
   "metadata": {},
   "outputs": [
    {
     "name": "stdout",
     "output_type": "stream",
     "text": [
      "<class 'pandas.core.frame.DataFrame'>\n",
      "RangeIndex: 65535 entries, 0 to 65534\n",
      "Data columns (total 22 columns):\n",
      "submission_id       65535 non-null object\n",
      "form_name           65535 non-null object\n",
      "capturer_name       65535 non-null object\n",
      "form_created        65535 non-null object\n",
      "form_submitted      65535 non-null object\n",
      "province            65535 non-null object\n",
      "county              65535 non-null object\n",
      "constituency        65535 non-null object\n",
      "ward                65535 non-null object\n",
      "lat                 65535 non-null float64\n",
      "lng                 65535 non-null float64\n",
      "gps_accuracy        65535 non-null int64\n",
      "questionnaire       65535 non-null object\n",
      "type                65535 non-null object\n",
      "address             65535 non-null object\n",
      "atm_name            501 non-null object\n",
      "atm_start_date      501 non-null object\n",
      "atm_visa            501 non-null object\n",
      "atm_mastercard      501 non-null object\n",
      "atm_kenswitch       501 non-null object\n",
      "atm_pesa_point      501 non-null object\n",
      "atm_num_machines    501 non-null float64\n",
      "dtypes: float64(3), int64(1), object(18)\n",
      "memory usage: 11.0+ MB\n"
     ]
    }
   ],
   "source": [
    "kenFin.info()"
   ]
  },
  {
   "cell_type": "code",
   "execution_count": 53,
   "metadata": {},
   "outputs": [],
   "source": [
    "df_kenFin = pd.DataFrame(columns=['sector','type','land_use','iso','country','lat','lng','year','name'])\n",
    "df_kenFin[['type','lat','lng','name']] = kenFin[['type','lat','lng','atm_name']]\n",
    "df_kenFin[['sector','iso','country','year']] = ['Finance','KEN','Kenya',2015]\n",
    "df_kenFin.sort_values('type', inplace=True)\n",
    "df = pd.concat([df,df_kenFin])"
   ]
  },
  {
   "cell_type": "markdown",
   "metadata": {},
   "source": [
    "### Nigeria 2015"
   ]
  },
  {
   "cell_type": "code",
   "execution_count": 54,
   "metadata": {},
   "outputs": [],
   "source": [
    "ngaFin = pd.read_excel('/Users/ikersanchez/Vizzuality/PROIEKTUAK/i2i/Data/FSP_Maps/Finance/Nigeria_finance_2015.xlsx')"
   ]
  },
  {
   "cell_type": "code",
   "execution_count": 55,
   "metadata": {},
   "outputs": [
    {
     "data": {
      "text/html": [
       "<div>\n",
       "<style scoped>\n",
       "    .dataframe tbody tr th:only-of-type {\n",
       "        vertical-align: middle;\n",
       "    }\n",
       "\n",
       "    .dataframe tbody tr th {\n",
       "        vertical-align: top;\n",
       "    }\n",
       "\n",
       "    .dataframe thead th {\n",
       "        text-align: right;\n",
       "    }\n",
       "</style>\n",
       "<table border=\"1\" class=\"dataframe\">\n",
       "  <thead>\n",
       "    <tr style=\"text-align: right;\">\n",
       "      <th></th>\n",
       "      <th>id</th>\n",
       "      <th>brand_fusion_id</th>\n",
       "      <th>type</th>\n",
       "      <th>geom</th>\n",
       "      <th>land_use</th>\n",
       "      <th>capturer_name</th>\n",
       "      <th>form_created</th>\n",
       "      <th>form_submitted</th>\n",
       "      <th>lat</th>\n",
       "      <th>lng</th>\n",
       "      <th>...</th>\n",
       "      <th>country</th>\n",
       "      <th>state</th>\n",
       "      <th>address</th>\n",
       "      <th>status</th>\n",
       "      <th>why_not_operational</th>\n",
       "      <th>outlet_type</th>\n",
       "      <th>record_keeping</th>\n",
       "      <th>regulated</th>\n",
       "      <th>reg_body</th>\n",
       "      <th>lga</th>\n",
       "    </tr>\n",
       "  </thead>\n",
       "  <tbody>\n",
       "    <tr>\n",
       "      <th>0</th>\n",
       "      <td>16759</td>\n",
       "      <td>1422701217933_SundayO</td>\n",
       "      <td>Bank Agent</td>\n",
       "      <td>0101000020E610000000A94D9CDC6F1E407E350708E668...</td>\n",
       "      <td>Rural</td>\n",
       "      <td>Sunday Okeke Matthew</td>\n",
       "      <td>2015-01-31</td>\n",
       "      <td>2015-01-31</td>\n",
       "      <td>6.10244</td>\n",
       "      <td>7.60924</td>\n",
       "      <td>...</td>\n",
       "      <td>Nigeria</td>\n",
       "      <td>ENUGU STATE</td>\n",
       "      <td>Orie Oduma, Oduma.</td>\n",
       "      <td>Yes</td>\n",
       "      <td>NaN</td>\n",
       "      <td>Agent</td>\n",
       "      <td>On-line System to Head Office</td>\n",
       "      <td>Yes</td>\n",
       "      <td>CBN</td>\n",
       "      <td>Aninri</td>\n",
       "    </tr>\n",
       "  </tbody>\n",
       "</table>\n",
       "<p>1 rows × 22 columns</p>\n",
       "</div>"
      ],
      "text/plain": [
       "      id        brand_fusion_id        type  \\\n",
       "0  16759  1422701217933_SundayO  Bank Agent   \n",
       "\n",
       "                                                geom land_use  \\\n",
       "0  0101000020E610000000A94D9CDC6F1E407E350708E668...    Rural   \n",
       "\n",
       "          capturer_name form_created form_submitted      lat      lng   ...    \\\n",
       "0  Sunday Okeke Matthew   2015-01-31     2015-01-31  6.10244  7.60924   ...     \n",
       "\n",
       "   country        state             address status why_not_operational  \\\n",
       "0  Nigeria  ENUGU STATE  Orie Oduma, Oduma.    Yes                 NaN   \n",
       "\n",
       "  outlet_type                 record_keeping regulated reg_body     lga  \n",
       "0       Agent  On-line System to Head Office       Yes      CBN  Aninri  \n",
       "\n",
       "[1 rows x 22 columns]"
      ]
     },
     "execution_count": 55,
     "metadata": {},
     "output_type": "execute_result"
    }
   ],
   "source": [
    "ngaFin.head(1)"
   ]
  },
  {
   "cell_type": "code",
   "execution_count": 56,
   "metadata": {},
   "outputs": [
    {
     "name": "stdout",
     "output_type": "stream",
     "text": [
      "<class 'pandas.core.frame.DataFrame'>\n",
      "RangeIndex: 29527 entries, 0 to 29526\n",
      "Data columns (total 22 columns):\n",
      "id                     29527 non-null int64\n",
      "brand_fusion_id        29527 non-null object\n",
      "type                   29527 non-null object\n",
      "geom                   29527 non-null object\n",
      "land_use               29527 non-null object\n",
      "capturer_name          29527 non-null object\n",
      "form_created           29527 non-null object\n",
      "form_submitted         29527 non-null object\n",
      "lat                    29527 non-null float64\n",
      "lng                    29527 non-null float64\n",
      "gps_accuracy           29527 non-null int64\n",
      "signal_strength        29527 non-null int64\n",
      "country                29527 non-null object\n",
      "state                  29527 non-null object\n",
      "address                29527 non-null object\n",
      "status                 29527 non-null object\n",
      "why_not_operational    3 non-null object\n",
      "outlet_type            29520 non-null object\n",
      "record_keeping         29527 non-null object\n",
      "regulated              29527 non-null object\n",
      "reg_body               29461 non-null object\n",
      "lga                    29527 non-null object\n",
      "dtypes: float64(2), int64(3), object(17)\n",
      "memory usage: 5.0+ MB\n"
     ]
    }
   ],
   "source": [
    "ngaFin.info()"
   ]
  },
  {
   "cell_type": "code",
   "execution_count": 62,
   "metadata": {},
   "outputs": [],
   "source": [
    "df_ngaFin = pd.DataFrame(columns=['sector','type','land_use','iso','country','lat','lng','year','name'])\n",
    "df_ngaFin[['type','land_use','lat','lng']] = ngaFin[['type','land_use','lat','lng']]\n",
    "df_ngaFin[['sector','iso','country','year','name']] = ['Finance','NGA','Nigeria',2015,'']\n",
    "df_ngaFin.sort_values('type', inplace=True)\n",
    "df = pd.concat([df,df_ngaFin])"
   ]
  },
  {
   "cell_type": "markdown",
   "metadata": {},
   "source": [
    "### Tanzania 2014"
   ]
  },
  {
   "cell_type": "code",
   "execution_count": 63,
   "metadata": {},
   "outputs": [],
   "source": [
    "tzaFin = pd.read_excel('/Users/ikersanchez/Vizzuality/PROIEKTUAK/i2i/Data/FSP_Maps/Finance/Tanzania_finance_2014.xls')"
   ]
  },
  {
   "cell_type": "code",
   "execution_count": 64,
   "metadata": {},
   "outputs": [
    {
     "data": {
      "text/html": [
       "<div>\n",
       "<style scoped>\n",
       "    .dataframe tbody tr th:only-of-type {\n",
       "        vertical-align: middle;\n",
       "    }\n",
       "\n",
       "    .dataframe tbody tr th {\n",
       "        vertical-align: top;\n",
       "    }\n",
       "\n",
       "    .dataframe thead th {\n",
       "        text-align: right;\n",
       "    }\n",
       "</style>\n",
       "<table border=\"1\" class=\"dataframe\">\n",
       "  <thead>\n",
       "    <tr style=\"text-align: right;\">\n",
       "      <th></th>\n",
       "      <th>submission_id</th>\n",
       "      <th>type</th>\n",
       "      <th>providers</th>\n",
       "      <th>latitude</th>\n",
       "      <th>longitude</th>\n",
       "      <th>country</th>\n",
       "      <th>geom</th>\n",
       "      <th>land_use</th>\n",
       "      <th>id</th>\n",
       "    </tr>\n",
       "  </thead>\n",
       "  <tbody>\n",
       "    <tr>\n",
       "      <th>0</th>\n",
       "      <td>1390227660892_Hollines</td>\n",
       "      <td>Mobile Money Agent</td>\n",
       "      <td>Tigo Pesa | Airtel Cash</td>\n",
       "      <td>-6.833</td>\n",
       "      <td>39.2414</td>\n",
       "      <td>Tanzania</td>\n",
       "      <td>0101000020E610000090A0F831E69E4340A245B6F3FD54...</td>\n",
       "      <td>Urban</td>\n",
       "      <td>58948</td>\n",
       "    </tr>\n",
       "  </tbody>\n",
       "</table>\n",
       "</div>"
      ],
      "text/plain": [
       "            submission_id                type                providers  \\\n",
       "0  1390227660892_Hollines  Mobile Money Agent  Tigo Pesa | Airtel Cash   \n",
       "\n",
       "   latitude  longitude   country  \\\n",
       "0    -6.833    39.2414  Tanzania   \n",
       "\n",
       "                                                geom land_use     id  \n",
       "0  0101000020E610000090A0F831E69E4340A245B6F3FD54...    Urban  58948  "
      ]
     },
     "execution_count": 64,
     "metadata": {},
     "output_type": "execute_result"
    }
   ],
   "source": [
    "tzaFin.head(1)"
   ]
  },
  {
   "cell_type": "markdown",
   "metadata": {},
   "source": [
    "Rename latitude and longitude as lat and lng, respectively."
   ]
  },
  {
   "cell_type": "code",
   "execution_count": 65,
   "metadata": {},
   "outputs": [],
   "source": [
    "tzaFin = tzaFin.rename(columns={'latitude': 'lat'})\n",
    "tzaFin = tzaFin.rename(columns={'longitude': 'lng'})"
   ]
  },
  {
   "cell_type": "code",
   "execution_count": 66,
   "metadata": {},
   "outputs": [
    {
     "data": {
      "text/html": [
       "<div>\n",
       "<style scoped>\n",
       "    .dataframe tbody tr th:only-of-type {\n",
       "        vertical-align: middle;\n",
       "    }\n",
       "\n",
       "    .dataframe tbody tr th {\n",
       "        vertical-align: top;\n",
       "    }\n",
       "\n",
       "    .dataframe thead th {\n",
       "        text-align: right;\n",
       "    }\n",
       "</style>\n",
       "<table border=\"1\" class=\"dataframe\">\n",
       "  <thead>\n",
       "    <tr style=\"text-align: right;\">\n",
       "      <th></th>\n",
       "      <th>submission_id</th>\n",
       "      <th>type</th>\n",
       "      <th>providers</th>\n",
       "      <th>lat</th>\n",
       "      <th>lng</th>\n",
       "      <th>country</th>\n",
       "      <th>geom</th>\n",
       "      <th>land_use</th>\n",
       "      <th>id</th>\n",
       "    </tr>\n",
       "  </thead>\n",
       "  <tbody>\n",
       "    <tr>\n",
       "      <th>0</th>\n",
       "      <td>1390227660892_Hollines</td>\n",
       "      <td>Mobile Money Agent</td>\n",
       "      <td>Tigo Pesa | Airtel Cash</td>\n",
       "      <td>-6.833</td>\n",
       "      <td>39.2414</td>\n",
       "      <td>Tanzania</td>\n",
       "      <td>0101000020E610000090A0F831E69E4340A245B6F3FD54...</td>\n",
       "      <td>Urban</td>\n",
       "      <td>58948</td>\n",
       "    </tr>\n",
       "  </tbody>\n",
       "</table>\n",
       "</div>"
      ],
      "text/plain": [
       "            submission_id                type                providers    lat  \\\n",
       "0  1390227660892_Hollines  Mobile Money Agent  Tigo Pesa | Airtel Cash -6.833   \n",
       "\n",
       "       lng   country                                               geom  \\\n",
       "0  39.2414  Tanzania  0101000020E610000090A0F831E69E4340A245B6F3FD54...   \n",
       "\n",
       "  land_use     id  \n",
       "0    Urban  58948  "
      ]
     },
     "execution_count": 66,
     "metadata": {},
     "output_type": "execute_result"
    }
   ],
   "source": [
    "tzaFin.head(1)"
   ]
  },
  {
   "cell_type": "code",
   "execution_count": 67,
   "metadata": {},
   "outputs": [
    {
     "name": "stdout",
     "output_type": "stream",
     "text": [
      "<class 'pandas.core.frame.DataFrame'>\n",
      "RangeIndex: 56017 entries, 0 to 56016\n",
      "Data columns (total 9 columns):\n",
      "submission_id    56017 non-null object\n",
      "type             56017 non-null object\n",
      "providers        55584 non-null object\n",
      "lat              56017 non-null float64\n",
      "lng              56017 non-null float64\n",
      "country          56017 non-null object\n",
      "geom             56017 non-null object\n",
      "land_use         56017 non-null object\n",
      "id               56017 non-null int64\n",
      "dtypes: float64(2), int64(1), object(6)\n",
      "memory usage: 3.8+ MB\n"
     ]
    }
   ],
   "source": [
    "tzaFin.info()"
   ]
  },
  {
   "cell_type": "code",
   "execution_count": 69,
   "metadata": {},
   "outputs": [],
   "source": [
    "df_tzaFin = pd.DataFrame(columns=['sector','type','land_use','iso','country','lat','lng','year','name'])\n",
    "df_tzaFin[['type','land_use','country','lat','lng','name']] = tzaFin[['type','land_use','country','lat','lng','providers']]\n",
    "df_tzaFin[['sector','iso','year']] = ['Finance','TZA',2014]\n",
    "df_tzaFin.sort_values('type', inplace=True)\n",
    "df = pd.concat([df,df_tzaFin])"
   ]
  },
  {
   "cell_type": "markdown",
   "metadata": {},
   "source": [
    "### Uganda 2015"
   ]
  },
  {
   "cell_type": "code",
   "execution_count": 70,
   "metadata": {},
   "outputs": [],
   "source": [
    "ugaFin = pd.read_excel('/Users/ikersanchez/Vizzuality/PROIEKTUAK/i2i/Data/FSP_Maps/Finance/Uganda_finance_2015.xls')"
   ]
  },
  {
   "cell_type": "code",
   "execution_count": 71,
   "metadata": {},
   "outputs": [
    {
     "data": {
      "text/html": [
       "<div>\n",
       "<style scoped>\n",
       "    .dataframe tbody tr th:only-of-type {\n",
       "        vertical-align: middle;\n",
       "    }\n",
       "\n",
       "    .dataframe tbody tr th {\n",
       "        vertical-align: top;\n",
       "    }\n",
       "\n",
       "    .dataframe thead th {\n",
       "        text-align: right;\n",
       "    }\n",
       "</style>\n",
       "<table border=\"1\" class=\"dataframe\">\n",
       "  <thead>\n",
       "    <tr style=\"text-align: right;\">\n",
       "      <th></th>\n",
       "      <th>submission_id</th>\n",
       "      <th>type</th>\n",
       "      <th>providers</th>\n",
       "      <th>photos</th>\n",
       "      <th>geom</th>\n",
       "      <th>id</th>\n",
       "      <th>land_use</th>\n",
       "    </tr>\n",
       "  </thead>\n",
       "  <tbody>\n",
       "    <tr>\n",
       "      <th>0</th>\n",
       "      <td>1419229684621_muhumuzalenon</td>\n",
       "      <td>Mobile Money Agent</td>\n",
       "      <td>NaN</td>\n",
       "      <td>1419229684621_muhumuzalenon, FSP, Central, Kam...</td>\n",
       "      <td>0101000020E6100000183E22A6444A4040E0D6DD3CD521...</td>\n",
       "      <td>277378</td>\n",
       "      <td>Urban</td>\n",
       "    </tr>\n",
       "  </tbody>\n",
       "</table>\n",
       "</div>"
      ],
      "text/plain": [
       "                 submission_id                type providers  \\\n",
       "0  1419229684621_muhumuzalenon  Mobile Money Agent       NaN   \n",
       "\n",
       "                                              photos  \\\n",
       "0  1419229684621_muhumuzalenon, FSP, Central, Kam...   \n",
       "\n",
       "                                                geom      id land_use  \n",
       "0  0101000020E6100000183E22A6444A4040E0D6DD3CD521...  277378    Urban  "
      ]
     },
     "execution_count": 71,
     "metadata": {},
     "output_type": "execute_result"
    }
   ],
   "source": [
    "ugaFin.head(1)"
   ]
  },
  {
   "cell_type": "code",
   "execution_count": 72,
   "metadata": {},
   "outputs": [
    {
     "data": {
      "text/plain": [
       "Index(['submission_id', 'type', 'providers', 'photos', 'geom', 'id',\n",
       "       'land_use'],\n",
       "      dtype='object')"
      ]
     },
     "execution_count": 72,
     "metadata": {},
     "output_type": "execute_result"
    }
   ],
   "source": [
    "ugaFin.columns"
   ]
  },
  {
   "cell_type": "markdown",
   "metadata": {},
   "source": [
    "Obtain lat and lng from wkb geometry "
   ]
  },
  {
   "cell_type": "code",
   "execution_count": 73,
   "metadata": {},
   "outputs": [],
   "source": [
    "lng = []\n",
    "lat = []\n",
    "for i in range(len(ugaFin['geom'])):\n",
    "    point = loads(ugaFin['geom'].iloc[i], hex = True)\n",
    "    x, y = point.coords.xy\n",
    "    lng.append(x[0])\n",
    "    lat.append(y[0])"
   ]
  },
  {
   "cell_type": "code",
   "execution_count": 74,
   "metadata": {},
   "outputs": [],
   "source": [
    "ugaFin['lat'] = lat\n",
    "ugaFin['lng'] = lng"
   ]
  },
  {
   "cell_type": "code",
   "execution_count": 75,
   "metadata": {},
   "outputs": [
    {
     "data": {
      "text/html": [
       "<div>\n",
       "<style scoped>\n",
       "    .dataframe tbody tr th:only-of-type {\n",
       "        vertical-align: middle;\n",
       "    }\n",
       "\n",
       "    .dataframe tbody tr th {\n",
       "        vertical-align: top;\n",
       "    }\n",
       "\n",
       "    .dataframe thead th {\n",
       "        text-align: right;\n",
       "    }\n",
       "</style>\n",
       "<table border=\"1\" class=\"dataframe\">\n",
       "  <thead>\n",
       "    <tr style=\"text-align: right;\">\n",
       "      <th></th>\n",
       "      <th>submission_id</th>\n",
       "      <th>type</th>\n",
       "      <th>providers</th>\n",
       "      <th>photos</th>\n",
       "      <th>geom</th>\n",
       "      <th>id</th>\n",
       "      <th>land_use</th>\n",
       "      <th>lat</th>\n",
       "      <th>lng</th>\n",
       "    </tr>\n",
       "  </thead>\n",
       "  <tbody>\n",
       "    <tr>\n",
       "      <th>0</th>\n",
       "      <td>1419229684621_muhumuzalenon</td>\n",
       "      <td>Mobile Money Agent</td>\n",
       "      <td>NaN</td>\n",
       "      <td>1419229684621_muhumuzalenon, FSP, Central, Kam...</td>\n",
       "      <td>0101000020E6100000183E22A6444A4040E0D6DD3CD521...</td>\n",
       "      <td>277378</td>\n",
       "      <td>Urban</td>\n",
       "      <td>0.29894</td>\n",
       "      <td>32.58022</td>\n",
       "    </tr>\n",
       "  </tbody>\n",
       "</table>\n",
       "</div>"
      ],
      "text/plain": [
       "                 submission_id                type providers  \\\n",
       "0  1419229684621_muhumuzalenon  Mobile Money Agent       NaN   \n",
       "\n",
       "                                              photos  \\\n",
       "0  1419229684621_muhumuzalenon, FSP, Central, Kam...   \n",
       "\n",
       "                                                geom      id land_use  \\\n",
       "0  0101000020E6100000183E22A6444A4040E0D6DD3CD521...  277378    Urban   \n",
       "\n",
       "       lat       lng  \n",
       "0  0.29894  32.58022  "
      ]
     },
     "execution_count": 75,
     "metadata": {},
     "output_type": "execute_result"
    }
   ],
   "source": [
    "ugaFin.head(1)"
   ]
  },
  {
   "cell_type": "code",
   "execution_count": 76,
   "metadata": {},
   "outputs": [
    {
     "name": "stdout",
     "output_type": "stream",
     "text": [
      "<class 'pandas.core.frame.DataFrame'>\n",
      "RangeIndex: 45417 entries, 0 to 45416\n",
      "Data columns (total 9 columns):\n",
      "submission_id    42907 non-null object\n",
      "type             45417 non-null object\n",
      "providers        13596 non-null object\n",
      "photos           45368 non-null object\n",
      "geom             45417 non-null object\n",
      "id               45417 non-null int64\n",
      "land_use         45417 non-null object\n",
      "lat              45417 non-null float64\n",
      "lng              45417 non-null float64\n",
      "dtypes: float64(2), int64(1), object(6)\n",
      "memory usage: 3.1+ MB\n"
     ]
    }
   ],
   "source": [
    "ugaFin.info()"
   ]
  },
  {
   "cell_type": "code",
   "execution_count": 79,
   "metadata": {},
   "outputs": [],
   "source": [
    "df_ugaFin = pd.DataFrame(columns=['sector','type','land_use','iso','country','lat','lng','year','name'])\n",
    "df_ugaFin[['type','land_use','lat','lng','name']] = ugaFin[['type','land_use','lat','lng','providers']]\n",
    "df_ugaFin[['sector','iso','country','year']] = ['Finance','UGA','Uganda',2015]\n",
    "df_ugaFin.sort_values('type', inplace=True)\n",
    "df = pd.concat([df,df_ugaFin])"
   ]
  },
  {
   "cell_type": "markdown",
   "metadata": {},
   "source": [
    "## Health"
   ]
  },
  {
   "cell_type": "markdown",
   "metadata": {},
   "source": [
    "### India 2014"
   ]
  },
  {
   "cell_type": "code",
   "execution_count": 80,
   "metadata": {},
   "outputs": [],
   "source": [
    "indHea = pd.read_excel('/Users/ikersanchez/Vizzuality/PROIEKTUAK/i2i/Data/FSP_Maps/Health/india_health_2014.xls')"
   ]
  },
  {
   "cell_type": "code",
   "execution_count": 81,
   "metadata": {},
   "outputs": [
    {
     "data": {
      "text/html": [
       "<div>\n",
       "<style scoped>\n",
       "    .dataframe tbody tr th:only-of-type {\n",
       "        vertical-align: middle;\n",
       "    }\n",
       "\n",
       "    .dataframe tbody tr th {\n",
       "        vertical-align: top;\n",
       "    }\n",
       "\n",
       "    .dataframe thead th {\n",
       "        text-align: right;\n",
       "    }\n",
       "</style>\n",
       "<table border=\"1\" class=\"dataframe\">\n",
       "  <thead>\n",
       "    <tr style=\"text-align: right;\">\n",
       "      <th></th>\n",
       "      <th>id</th>\n",
       "      <th>country</th>\n",
       "      <th>submission_id</th>\n",
       "      <th>form_created</th>\n",
       "      <th>form_submitted</th>\n",
       "      <th>lat</th>\n",
       "      <th>lng</th>\n",
       "      <th>address</th>\n",
       "      <th>type</th>\n",
       "      <th>name</th>\n",
       "      <th>...</th>\n",
       "      <th>contact_number</th>\n",
       "      <th>delivery_center</th>\n",
       "      <th>functional</th>\n",
       "      <th>state</th>\n",
       "      <th>district</th>\n",
       "      <th>category</th>\n",
       "      <th>geom</th>\n",
       "      <th>gaul_2014_adm0</th>\n",
       "      <th>gaul_2014_adm1</th>\n",
       "      <th>gaul_2014_adm2</th>\n",
       "    </tr>\n",
       "  </thead>\n",
       "  <tbody>\n",
       "    <tr>\n",
       "      <th>0</th>\n",
       "      <td>8339</td>\n",
       "      <td>India</td>\n",
       "      <td>1398517746951_Dipin2</td>\n",
       "      <td>4/26/2014 18:33</td>\n",
       "      <td>4/26/2014 18:39</td>\n",
       "      <td>28.83155</td>\n",
       "      <td>77.67658</td>\n",
       "      <td>NaN</td>\n",
       "      <td>Sub Health Centres</td>\n",
       "      <td>Sub Health Centre</td>\n",
       "      <td>...</td>\n",
       "      <td>9.634964e+09</td>\n",
       "      <td>Yes</td>\n",
       "      <td>No</td>\n",
       "      <td>Uttar Pradesh</td>\n",
       "      <td>Ghaziabad</td>\n",
       "      <td>Bhojpur</td>\n",
       "      <td>0101000020E61000002C4833164D6B534022FDF675E0D4...</td>\n",
       "      <td>118.0</td>\n",
       "      <td>2442.0</td>\n",
       "      <td>32885.0</td>\n",
       "    </tr>\n",
       "  </tbody>\n",
       "</table>\n",
       "<p>1 rows × 22 columns</p>\n",
       "</div>"
      ],
      "text/plain": [
       "     id country         submission_id     form_created   form_submitted  \\\n",
       "0  8339   India  1398517746951_Dipin2  4/26/2014 18:33  4/26/2014 18:39   \n",
       "\n",
       "        lat       lng address                type               name  \\\n",
       "0  28.83155  77.67658     NaN  Sub Health Centres  Sub Health Centre   \n",
       "\n",
       "        ...       contact_number delivery_center  functional          state  \\\n",
       "0       ...         9.634964e+09             Yes          No  Uttar Pradesh   \n",
       "\n",
       "    district category                                               geom  \\\n",
       "0  Ghaziabad  Bhojpur  0101000020E61000002C4833164D6B534022FDF675E0D4...   \n",
       "\n",
       "  gaul_2014_adm0 gaul_2014_adm1  gaul_2014_adm2  \n",
       "0          118.0         2442.0         32885.0  \n",
       "\n",
       "[1 rows x 22 columns]"
      ]
     },
     "execution_count": 81,
     "metadata": {},
     "output_type": "execute_result"
    }
   ],
   "source": [
    "indHea.head(1)"
   ]
  },
  {
   "cell_type": "code",
   "execution_count": 82,
   "metadata": {},
   "outputs": [
    {
     "data": {
      "text/plain": [
       "Index(['id', 'country', 'submission_id', 'form_created', 'form_submitted',\n",
       "       'lat', 'lng', 'address', 'type', 'name', 'land_use', 'director_name',\n",
       "       'contact_number', 'delivery_center', 'functional', 'state', 'district',\n",
       "       'category', 'geom', 'gaul_2014_adm0', 'gaul_2014_adm1',\n",
       "       'gaul_2014_adm2'],\n",
       "      dtype='object')"
      ]
     },
     "execution_count": 82,
     "metadata": {},
     "output_type": "execute_result"
    }
   ],
   "source": [
    "indHea.columns"
   ]
  },
  {
   "cell_type": "code",
   "execution_count": 83,
   "metadata": {},
   "outputs": [
    {
     "name": "stdout",
     "output_type": "stream",
     "text": [
      "<class 'pandas.core.frame.DataFrame'>\n",
      "RangeIndex: 25990 entries, 0 to 25989\n",
      "Data columns (total 22 columns):\n",
      "id                 25990 non-null int64\n",
      "country            25990 non-null object\n",
      "submission_id      25990 non-null object\n",
      "form_created       25990 non-null object\n",
      "form_submitted     25990 non-null object\n",
      "lat                25990 non-null float64\n",
      "lng                25990 non-null float64\n",
      "address            283 non-null object\n",
      "type               25990 non-null object\n",
      "name               25990 non-null object\n",
      "land_use           25990 non-null object\n",
      "director_name      20646 non-null object\n",
      "contact_number     14970 non-null float64\n",
      "delivery_center    22437 non-null object\n",
      "functional         25513 non-null object\n",
      "state              25990 non-null object\n",
      "district           25990 non-null object\n",
      "category           25990 non-null object\n",
      "geom               25990 non-null object\n",
      "gaul_2014_adm0     25989 non-null float64\n",
      "gaul_2014_adm1     25989 non-null float64\n",
      "gaul_2014_adm2     25989 non-null float64\n",
      "dtypes: float64(6), int64(1), object(15)\n",
      "memory usage: 4.4+ MB\n"
     ]
    }
   ],
   "source": [
    "indHea.info()"
   ]
  },
  {
   "cell_type": "code",
   "execution_count": 84,
   "metadata": {},
   "outputs": [],
   "source": [
    "df_indHea = pd.DataFrame(columns=['sector','type','land_use','iso','country','lat','lng','year','name'])\n",
    "df_indHea[['type','land_use','country','lat','lng']] = indHea[['type','land_use','country','lat','lng']]\n",
    "df_indHea[['sector','iso','year','name']] = ['Health','IND',2014,'']\n",
    "df_indHea.sort_values('type', inplace=True)\n",
    "df = pd.concat([df,df_indHea])"
   ]
  },
  {
   "cell_type": "markdown",
   "metadata": {},
   "source": [
    "## Library"
   ]
  },
  {
   "cell_type": "markdown",
   "metadata": {},
   "source": [
    "### India 2014"
   ]
  },
  {
   "cell_type": "code",
   "execution_count": 85,
   "metadata": {},
   "outputs": [],
   "source": [
    "indLib = pd.read_excel('/Users/ikersanchez/Vizzuality/PROIEKTUAK/i2i/Data/FSP_Maps/Library/india_library_2014.xls')"
   ]
  },
  {
   "cell_type": "code",
   "execution_count": 86,
   "metadata": {},
   "outputs": [
    {
     "data": {
      "text/html": [
       "<div>\n",
       "<style scoped>\n",
       "    .dataframe tbody tr th:only-of-type {\n",
       "        vertical-align: middle;\n",
       "    }\n",
       "\n",
       "    .dataframe tbody tr th {\n",
       "        vertical-align: top;\n",
       "    }\n",
       "\n",
       "    .dataframe thead th {\n",
       "        text-align: right;\n",
       "    }\n",
       "</style>\n",
       "<table border=\"1\" class=\"dataframe\">\n",
       "  <thead>\n",
       "    <tr style=\"text-align: right;\">\n",
       "      <th></th>\n",
       "      <th>id</th>\n",
       "      <th>country</th>\n",
       "      <th>name</th>\n",
       "      <th>submission_id</th>\n",
       "      <th>form_created</th>\n",
       "      <th>form_submitted</th>\n",
       "      <th>lat</th>\n",
       "      <th>lng</th>\n",
       "      <th>address</th>\n",
       "      <th>type</th>\n",
       "      <th>...</th>\n",
       "      <th>alarm_system</th>\n",
       "      <th>fenced_windows</th>\n",
       "      <th>additional_security</th>\n",
       "      <th>state</th>\n",
       "      <th>district</th>\n",
       "      <th>category</th>\n",
       "      <th>geom</th>\n",
       "      <th>gaul_2014_adm0</th>\n",
       "      <th>gaul_2014_adm1</th>\n",
       "      <th>gaul_2014_adm2</th>\n",
       "    </tr>\n",
       "  </thead>\n",
       "  <tbody>\n",
       "    <tr>\n",
       "      <th>0</th>\n",
       "      <td>180</td>\n",
       "      <td>India</td>\n",
       "      <td>Rajamau</td>\n",
       "      <td>1391750414057_Love</td>\n",
       "      <td>2/7/2014 10:32</td>\n",
       "      <td>2/7/2014 10:50</td>\n",
       "      <td>26.43911</td>\n",
       "      <td>81.04189</td>\n",
       "      <td>Raebareli Road Rajamau</td>\n",
       "      <td>Village</td>\n",
       "      <td>...</td>\n",
       "      <td>Yes</td>\n",
       "      <td>Yes</td>\n",
       "      <td>Cheir</td>\n",
       "      <td>Uttar Pradesh</td>\n",
       "      <td>Raebareli</td>\n",
       "      <td>Bachhraon</td>\n",
       "      <td>0101000020E6100000E2016553AE425440B85851836970...</td>\n",
       "      <td>118</td>\n",
       "      <td>2442</td>\n",
       "      <td>32900</td>\n",
       "    </tr>\n",
       "  </tbody>\n",
       "</table>\n",
       "<p>1 rows × 38 columns</p>\n",
       "</div>"
      ],
      "text/plain": [
       "    id country     name       submission_id    form_created  form_submitted  \\\n",
       "0  180   India  Rajamau  1391750414057_Love  2/7/2014 10:32  2/7/2014 10:50   \n",
       "\n",
       "        lat       lng                 address     type       ...        \\\n",
       "0  26.43911  81.04189  Raebareli Road Rajamau  Village       ...         \n",
       "\n",
       "  alarm_system fenced_windows additional_security          state   district  \\\n",
       "0          Yes            Yes               Cheir  Uttar Pradesh  Raebareli   \n",
       "\n",
       "    category                                               geom  \\\n",
       "0  Bachhraon  0101000020E6100000E2016553AE425440B85851836970...   \n",
       "\n",
       "  gaul_2014_adm0 gaul_2014_adm1  gaul_2014_adm2  \n",
       "0            118           2442           32900  \n",
       "\n",
       "[1 rows x 38 columns]"
      ]
     },
     "execution_count": 86,
     "metadata": {},
     "output_type": "execute_result"
    }
   ],
   "source": [
    "indLib.head(1)"
   ]
  },
  {
   "cell_type": "code",
   "execution_count": 87,
   "metadata": {},
   "outputs": [
    {
     "name": "stdout",
     "output_type": "stream",
     "text": [
      "<class 'pandas.core.frame.DataFrame'>\n",
      "RangeIndex: 416 entries, 0 to 415\n",
      "Data columns (total 38 columns):\n",
      "id                       416 non-null int64\n",
      "country                  416 non-null object\n",
      "name                     416 non-null object\n",
      "submission_id            416 non-null object\n",
      "form_created             416 non-null object\n",
      "form_submitted           416 non-null object\n",
      "lat                      416 non-null float64\n",
      "lng                      416 non-null float64\n",
      "address                  416 non-null object\n",
      "type                     416 non-null object\n",
      "land_use                 416 non-null object\n",
      "photos                   414 non-null object\n",
      "business_hours           394 non-null object\n",
      "staff_count              399 non-null float64\n",
      "newspapers               416 non-null object\n",
      "fiction                  416 non-null object\n",
      "non_fiction              416 non-null object\n",
      "encyclopedias            416 non-null object\n",
      "magazines                416 non-null object\n",
      "computer_count           214 non-null float64\n",
      "public_book_volumes      398 non-null object\n",
      "school_distance          416 non-null object\n",
      "internet                 416 non-null object\n",
      "computers                416 non-null object\n",
      "staff_computer_count     77 non-null float64\n",
      "public_computer_count    77 non-null float64\n",
      "computer_fee             77 non-null object\n",
      "security_guards          416 non-null object\n",
      "alarm_system             416 non-null object\n",
      "fenced_windows           416 non-null object\n",
      "additional_security      57 non-null object\n",
      "state                    416 non-null object\n",
      "district                 416 non-null object\n",
      "category                 416 non-null object\n",
      "geom                     416 non-null object\n",
      "gaul_2014_adm0           416 non-null int64\n",
      "gaul_2014_adm1           416 non-null int64\n",
      "gaul_2014_adm2           416 non-null int64\n",
      "dtypes: float64(6), int64(4), object(28)\n",
      "memory usage: 123.6+ KB\n"
     ]
    }
   ],
   "source": [
    "indLib.info()"
   ]
  },
  {
   "cell_type": "code",
   "execution_count": 88,
   "metadata": {},
   "outputs": [],
   "source": [
    "df_indLib = pd.DataFrame(columns=['sector','type','land_use','iso','country','lat','lng','year','name'])\n",
    "df_indLib[['type','land_use','country','lat','lng']] = indLib[['type','land_use','country','lat','lng']]\n",
    "df_indLib[['sector','iso','year','name']] = ['Library','IND',2014,'']\n",
    "df_indLib.sort_values('type', inplace=True)\n",
    "df = pd.concat([df,df_indLib])"
   ]
  },
  {
   "cell_type": "code",
   "execution_count": 89,
   "metadata": {},
   "outputs": [],
   "source": [
    "df.reset_index(drop=True, inplace=True)"
   ]
  },
  {
   "cell_type": "code",
   "execution_count": 90,
   "metadata": {},
   "outputs": [],
   "source": [
    "df['id'] = np.arange(len(df))"
   ]
  },
  {
   "cell_type": "code",
   "execution_count": 91,
   "metadata": {},
   "outputs": [],
   "source": [
    "df = df[['id', 'sector', 'type', 'land_use', 'iso', 'country', 'lat', 'lng', 'year', 'name']]"
   ]
  },
  {
   "cell_type": "code",
   "execution_count": 92,
   "metadata": {},
   "outputs": [
    {
     "data": {
      "text/html": [
       "<div>\n",
       "<style scoped>\n",
       "    .dataframe tbody tr th:only-of-type {\n",
       "        vertical-align: middle;\n",
       "    }\n",
       "\n",
       "    .dataframe tbody tr th {\n",
       "        vertical-align: top;\n",
       "    }\n",
       "\n",
       "    .dataframe thead th {\n",
       "        text-align: right;\n",
       "    }\n",
       "</style>\n",
       "<table border=\"1\" class=\"dataframe\">\n",
       "  <thead>\n",
       "    <tr style=\"text-align: right;\">\n",
       "      <th></th>\n",
       "      <th>id</th>\n",
       "      <th>sector</th>\n",
       "      <th>type</th>\n",
       "      <th>land_use</th>\n",
       "      <th>iso</th>\n",
       "      <th>country</th>\n",
       "      <th>lat</th>\n",
       "      <th>lng</th>\n",
       "      <th>year</th>\n",
       "      <th>name</th>\n",
       "    </tr>\n",
       "  </thead>\n",
       "  <tbody>\n",
       "    <tr>\n",
       "      <th>0</th>\n",
       "      <td>0</td>\n",
       "      <td>Agriculture</td>\n",
       "      <td>Agro-dealers</td>\n",
       "      <td>Rural</td>\n",
       "      <td>IND</td>\n",
       "      <td>India</td>\n",
       "      <td>25.56872</td>\n",
       "      <td>84.67436</td>\n",
       "      <td>2014</td>\n",
       "      <td></td>\n",
       "    </tr>\n",
       "    <tr>\n",
       "      <th>1</th>\n",
       "      <td>1</td>\n",
       "      <td>Agriculture</td>\n",
       "      <td>Agro-dealers</td>\n",
       "      <td>Rural</td>\n",
       "      <td>IND</td>\n",
       "      <td>India</td>\n",
       "      <td>26.91513</td>\n",
       "      <td>83.43577</td>\n",
       "      <td>2014</td>\n",
       "      <td></td>\n",
       "    </tr>\n",
       "    <tr>\n",
       "      <th>2</th>\n",
       "      <td>2</td>\n",
       "      <td>Agriculture</td>\n",
       "      <td>Agro-dealers</td>\n",
       "      <td>Rural</td>\n",
       "      <td>IND</td>\n",
       "      <td>India</td>\n",
       "      <td>26.16912</td>\n",
       "      <td>84.04030</td>\n",
       "      <td>2014</td>\n",
       "      <td></td>\n",
       "    </tr>\n",
       "    <tr>\n",
       "      <th>3</th>\n",
       "      <td>3</td>\n",
       "      <td>Agriculture</td>\n",
       "      <td>Agro-dealers</td>\n",
       "      <td>Rural</td>\n",
       "      <td>IND</td>\n",
       "      <td>India</td>\n",
       "      <td>26.67519</td>\n",
       "      <td>83.22662</td>\n",
       "      <td>2014</td>\n",
       "      <td></td>\n",
       "    </tr>\n",
       "    <tr>\n",
       "      <th>4</th>\n",
       "      <td>4</td>\n",
       "      <td>Agriculture</td>\n",
       "      <td>Agro-dealers</td>\n",
       "      <td>Rural</td>\n",
       "      <td>IND</td>\n",
       "      <td>India</td>\n",
       "      <td>26.67521</td>\n",
       "      <td>83.22684</td>\n",
       "      <td>2014</td>\n",
       "      <td></td>\n",
       "    </tr>\n",
       "  </tbody>\n",
       "</table>\n",
       "</div>"
      ],
      "text/plain": [
       "   id       sector          type land_use  iso country       lat       lng  \\\n",
       "0   0  Agriculture  Agro-dealers    Rural  IND   India  25.56872  84.67436   \n",
       "1   1  Agriculture  Agro-dealers    Rural  IND   India  26.91513  83.43577   \n",
       "2   2  Agriculture  Agro-dealers    Rural  IND   India  26.16912  84.04030   \n",
       "3   3  Agriculture  Agro-dealers    Rural  IND   India  26.67519  83.22662   \n",
       "4   4  Agriculture  Agro-dealers    Rural  IND   India  26.67521  83.22684   \n",
       "\n",
       "   year name  \n",
       "0  2014       \n",
       "1  2014       \n",
       "2  2014       \n",
       "3  2014       \n",
       "4  2014       "
      ]
     },
     "execution_count": 92,
     "metadata": {},
     "output_type": "execute_result"
    }
   ],
   "source": [
    "df.head()"
   ]
  },
  {
   "cell_type": "code",
   "execution_count": 93,
   "metadata": {},
   "outputs": [],
   "source": [
    "#df.to_csv('/Users/ikersanchez/Vizzuality/PROIEKTUAK/i2i/Data/FSP_Maps/FSP_maps.csv')"
   ]
  },
  {
   "cell_type": "markdown",
   "metadata": {},
   "source": [
    "### Add color column"
   ]
  },
  {
   "cell_type": "code",
   "execution_count": 94,
   "metadata": {},
   "outputs": [],
   "source": [
    "import seaborn as sns\n",
    "sns.set()"
   ]
  },
  {
   "cell_type": "code",
   "execution_count": 95,
   "metadata": {},
   "outputs": [
    {
     "data": {
      "image/png": "[encoded data removed]",
      "text/plain": [
       "<matplotlib.figure.Figure at 0x11e60b470>"
      ]
     },
     "metadata": {},
     "output_type": "display_data"
    }
   ],
   "source": [
    "sns.palplot(sns.color_palette(\"Paired\", 12))"
   ]
  },
  {
   "cell_type": "code",
   "execution_count": 96,
   "metadata": {},
   "outputs": [
    {
     "data": {
      "image/png": "[encoded data removed]",
      "text/plain": [
       "<matplotlib.figure.Figure at 0x11e674400>"
      ]
     },
     "metadata": {},
     "output_type": "display_data"
    }
   ],
   "source": [
    "sns.palplot(sns.color_palette(\"Set3\", 12))"
   ]
  },
  {
   "cell_type": "code",
   "execution_count": 97,
   "metadata": {},
   "outputs": [
    {
     "data": {
      "image/png": "[encoded data removed]",
      "text/plain": [
       "<matplotlib.figure.Figure at 0x11e6cd668>"
      ]
     },
     "metadata": {},
     "output_type": "display_data"
    }
   ],
   "source": [
    "sns.palplot(sns.color_palette(\"tab10\", 10))"
   ]
  },
  {
   "cell_type": "code",
   "execution_count": 98,
   "metadata": {},
   "outputs": [],
   "source": [
    "pal = sns.color_palette(\"tab10\", 10).as_hex()\n",
    "pal = pal + sns.color_palette(\"Set3\", 12).as_hex()\n",
    "pal = pal + sns.color_palette(\"Paired\", 12).as_hex()"
   ]
  },
  {
   "cell_type": "code",
   "execution_count": 99,
   "metadata": {},
   "outputs": [],
   "source": [
    "df_color = pd.DataFrame(columns = ['iso', 'type', 'color'])\n",
    "for country in ['IND','KEN','UGA','BGD','NGA','TZA']:\n",
    "    type = df[df['iso'] == country]['type'].unique()\n",
    "    color = pal[0:len(df[df['iso'] == country]['type'].unique())]\n",
    "    df_color_iso = pd.DataFrame.from_dict({'iso': country, 'type': type, 'color': color})\n",
    "    df_color_iso = df_color_iso[['iso', 'type', 'color']]\n",
    "    df_color = pd.concat([df_color,df_color_iso])"
   ]
  },
  {
   "cell_type": "code",
   "execution_count": 100,
   "metadata": {},
   "outputs": [
    {
     "data": {
      "text/html": [
       "<div>\n",
       "<style scoped>\n",
       "    .dataframe tbody tr th:only-of-type {\n",
       "        vertical-align: middle;\n",
       "    }\n",
       "\n",
       "    .dataframe tbody tr th {\n",
       "        vertical-align: top;\n",
       "    }\n",
       "\n",
       "    .dataframe thead th {\n",
       "        text-align: right;\n",
       "    }\n",
       "</style>\n",
       "<table border=\"1\" class=\"dataframe\">\n",
       "  <thead>\n",
       "    <tr style=\"text-align: right;\">\n",
       "      <th></th>\n",
       "      <th>iso</th>\n",
       "      <th>type</th>\n",
       "      <th>color</th>\n",
       "    </tr>\n",
       "  </thead>\n",
       "  <tbody>\n",
       "    <tr>\n",
       "      <th>0</th>\n",
       "      <td>IND</td>\n",
       "      <td>Agro-dealers</td>\n",
       "      <td>#1f77b4</td>\n",
       "    </tr>\n",
       "    <tr>\n",
       "      <th>1</th>\n",
       "      <td>IND</td>\n",
       "      <td>Artificial Insemination Centres</td>\n",
       "      <td>#ff7f0e</td>\n",
       "    </tr>\n",
       "    <tr>\n",
       "      <th>2</th>\n",
       "      <td>IND</td>\n",
       "      <td>Dairy Processors</td>\n",
       "      <td>#2ca02c</td>\n",
       "    </tr>\n",
       "    <tr>\n",
       "      <th>3</th>\n",
       "      <td>IND</td>\n",
       "      <td>Dairy chilling plants</td>\n",
       "      <td>#d62728</td>\n",
       "    </tr>\n",
       "    <tr>\n",
       "      <th>4</th>\n",
       "      <td>IND</td>\n",
       "      <td>Day old chick hatcheries</td>\n",
       "      <td>#9467bd</td>\n",
       "    </tr>\n",
       "  </tbody>\n",
       "</table>\n",
       "</div>"
      ],
      "text/plain": [
       "   iso                             type    color\n",
       "0  IND                     Agro-dealers  #1f77b4\n",
       "1  IND  Artificial Insemination Centres  #ff7f0e\n",
       "2  IND                 Dairy Processors  #2ca02c\n",
       "3  IND            Dairy chilling plants  #d62728\n",
       "4  IND         Day old chick hatcheries  #9467bd"
      ]
     },
     "execution_count": 100,
     "metadata": {},
     "output_type": "execute_result"
    }
   ],
   "source": [
    "df_color.head()"
   ]
  },
  {
   "cell_type": "code",
   "execution_count": 101,
   "metadata": {},
   "outputs": [
    {
     "data": {
      "text/html": [
       "<div>\n",
       "<style scoped>\n",
       "    .dataframe tbody tr th:only-of-type {\n",
       "        vertical-align: middle;\n",
       "    }\n",
       "\n",
       "    .dataframe tbody tr th {\n",
       "        vertical-align: top;\n",
       "    }\n",
       "\n",
       "    .dataframe thead th {\n",
       "        text-align: right;\n",
       "    }\n",
       "</style>\n",
       "<table border=\"1\" class=\"dataframe\">\n",
       "  <thead>\n",
       "    <tr style=\"text-align: right;\">\n",
       "      <th></th>\n",
       "      <th>id</th>\n",
       "      <th>sector</th>\n",
       "      <th>type</th>\n",
       "      <th>land_use</th>\n",
       "      <th>iso</th>\n",
       "      <th>country</th>\n",
       "      <th>lat</th>\n",
       "      <th>lng</th>\n",
       "      <th>year</th>\n",
       "      <th>name</th>\n",
       "    </tr>\n",
       "  </thead>\n",
       "  <tbody>\n",
       "    <tr>\n",
       "      <th>0</th>\n",
       "      <td>0</td>\n",
       "      <td>Agriculture</td>\n",
       "      <td>Agro-dealers</td>\n",
       "      <td>Rural</td>\n",
       "      <td>IND</td>\n",
       "      <td>India</td>\n",
       "      <td>25.56872</td>\n",
       "      <td>84.67436</td>\n",
       "      <td>2014</td>\n",
       "      <td></td>\n",
       "    </tr>\n",
       "    <tr>\n",
       "      <th>1</th>\n",
       "      <td>1</td>\n",
       "      <td>Agriculture</td>\n",
       "      <td>Agro-dealers</td>\n",
       "      <td>Rural</td>\n",
       "      <td>IND</td>\n",
       "      <td>India</td>\n",
       "      <td>26.91513</td>\n",
       "      <td>83.43577</td>\n",
       "      <td>2014</td>\n",
       "      <td></td>\n",
       "    </tr>\n",
       "    <tr>\n",
       "      <th>2</th>\n",
       "      <td>2</td>\n",
       "      <td>Agriculture</td>\n",
       "      <td>Agro-dealers</td>\n",
       "      <td>Rural</td>\n",
       "      <td>IND</td>\n",
       "      <td>India</td>\n",
       "      <td>26.16912</td>\n",
       "      <td>84.04030</td>\n",
       "      <td>2014</td>\n",
       "      <td></td>\n",
       "    </tr>\n",
       "    <tr>\n",
       "      <th>3</th>\n",
       "      <td>3</td>\n",
       "      <td>Agriculture</td>\n",
       "      <td>Agro-dealers</td>\n",
       "      <td>Rural</td>\n",
       "      <td>IND</td>\n",
       "      <td>India</td>\n",
       "      <td>26.67519</td>\n",
       "      <td>83.22662</td>\n",
       "      <td>2014</td>\n",
       "      <td></td>\n",
       "    </tr>\n",
       "    <tr>\n",
       "      <th>4</th>\n",
       "      <td>4</td>\n",
       "      <td>Agriculture</td>\n",
       "      <td>Agro-dealers</td>\n",
       "      <td>Rural</td>\n",
       "      <td>IND</td>\n",
       "      <td>India</td>\n",
       "      <td>26.67521</td>\n",
       "      <td>83.22684</td>\n",
       "      <td>2014</td>\n",
       "      <td></td>\n",
       "    </tr>\n",
       "  </tbody>\n",
       "</table>\n",
       "</div>"
      ],
      "text/plain": [
       "   id       sector          type land_use  iso country       lat       lng  \\\n",
       "0   0  Agriculture  Agro-dealers    Rural  IND   India  25.56872  84.67436   \n",
       "1   1  Agriculture  Agro-dealers    Rural  IND   India  26.91513  83.43577   \n",
       "2   2  Agriculture  Agro-dealers    Rural  IND   India  26.16912  84.04030   \n",
       "3   3  Agriculture  Agro-dealers    Rural  IND   India  26.67519  83.22662   \n",
       "4   4  Agriculture  Agro-dealers    Rural  IND   India  26.67521  83.22684   \n",
       "\n",
       "   year name  \n",
       "0  2014       \n",
       "1  2014       \n",
       "2  2014       \n",
       "3  2014       \n",
       "4  2014       "
      ]
     },
     "execution_count": 101,
     "metadata": {},
     "output_type": "execute_result"
    }
   ],
   "source": [
    "df.head()"
   ]
  },
  {
   "cell_type": "code",
   "execution_count": 102,
   "metadata": {},
   "outputs": [],
   "source": [
    "df = pd.merge(df, df_color, how='left', on=['iso', 'type'])"
   ]
  },
  {
   "cell_type": "code",
   "execution_count": 103,
   "metadata": {},
   "outputs": [
    {
     "data": {
      "text/html": [
       "<div>\n",
       "<style scoped>\n",
       "    .dataframe tbody tr th:only-of-type {\n",
       "        vertical-align: middle;\n",
       "    }\n",
       "\n",
       "    .dataframe tbody tr th {\n",
       "        vertical-align: top;\n",
       "    }\n",
       "\n",
       "    .dataframe thead th {\n",
       "        text-align: right;\n",
       "    }\n",
       "</style>\n",
       "<table border=\"1\" class=\"dataframe\">\n",
       "  <thead>\n",
       "    <tr style=\"text-align: right;\">\n",
       "      <th></th>\n",
       "      <th>id</th>\n",
       "      <th>sector</th>\n",
       "      <th>type</th>\n",
       "      <th>land_use</th>\n",
       "      <th>iso</th>\n",
       "      <th>country</th>\n",
       "      <th>lat</th>\n",
       "      <th>lng</th>\n",
       "      <th>year</th>\n",
       "      <th>name</th>\n",
       "      <th>color</th>\n",
       "    </tr>\n",
       "  </thead>\n",
       "  <tbody>\n",
       "    <tr>\n",
       "      <th>0</th>\n",
       "      <td>0</td>\n",
       "      <td>Agriculture</td>\n",
       "      <td>Agro-dealers</td>\n",
       "      <td>Rural</td>\n",
       "      <td>IND</td>\n",
       "      <td>India</td>\n",
       "      <td>25.56872</td>\n",
       "      <td>84.67436</td>\n",
       "      <td>2014</td>\n",
       "      <td></td>\n",
       "      <td>#1f77b4</td>\n",
       "    </tr>\n",
       "    <tr>\n",
       "      <th>1</th>\n",
       "      <td>1</td>\n",
       "      <td>Agriculture</td>\n",
       "      <td>Agro-dealers</td>\n",
       "      <td>Rural</td>\n",
       "      <td>IND</td>\n",
       "      <td>India</td>\n",
       "      <td>26.91513</td>\n",
       "      <td>83.43577</td>\n",
       "      <td>2014</td>\n",
       "      <td></td>\n",
       "      <td>#1f77b4</td>\n",
       "    </tr>\n",
       "    <tr>\n",
       "      <th>2</th>\n",
       "      <td>2</td>\n",
       "      <td>Agriculture</td>\n",
       "      <td>Agro-dealers</td>\n",
       "      <td>Rural</td>\n",
       "      <td>IND</td>\n",
       "      <td>India</td>\n",
       "      <td>26.16912</td>\n",
       "      <td>84.04030</td>\n",
       "      <td>2014</td>\n",
       "      <td></td>\n",
       "      <td>#1f77b4</td>\n",
       "    </tr>\n",
       "    <tr>\n",
       "      <th>3</th>\n",
       "      <td>3</td>\n",
       "      <td>Agriculture</td>\n",
       "      <td>Agro-dealers</td>\n",
       "      <td>Rural</td>\n",
       "      <td>IND</td>\n",
       "      <td>India</td>\n",
       "      <td>26.67519</td>\n",
       "      <td>83.22662</td>\n",
       "      <td>2014</td>\n",
       "      <td></td>\n",
       "      <td>#1f77b4</td>\n",
       "    </tr>\n",
       "    <tr>\n",
       "      <th>4</th>\n",
       "      <td>4</td>\n",
       "      <td>Agriculture</td>\n",
       "      <td>Agro-dealers</td>\n",
       "      <td>Rural</td>\n",
       "      <td>IND</td>\n",
       "      <td>India</td>\n",
       "      <td>26.67521</td>\n",
       "      <td>83.22684</td>\n",
       "      <td>2014</td>\n",
       "      <td></td>\n",
       "      <td>#1f77b4</td>\n",
       "    </tr>\n",
       "  </tbody>\n",
       "</table>\n",
       "</div>"
      ],
      "text/plain": [
       "   id       sector          type land_use  iso country       lat       lng  \\\n",
       "0   0  Agriculture  Agro-dealers    Rural  IND   India  25.56872  84.67436   \n",
       "1   1  Agriculture  Agro-dealers    Rural  IND   India  26.91513  83.43577   \n",
       "2   2  Agriculture  Agro-dealers    Rural  IND   India  26.16912  84.04030   \n",
       "3   3  Agriculture  Agro-dealers    Rural  IND   India  26.67519  83.22662   \n",
       "4   4  Agriculture  Agro-dealers    Rural  IND   India  26.67521  83.22684   \n",
       "\n",
       "   year name    color  \n",
       "0  2014       #1f77b4  \n",
       "1  2014       #1f77b4  \n",
       "2  2014       #1f77b4  \n",
       "3  2014       #1f77b4  \n",
       "4  2014       #1f77b4  "
      ]
     },
     "execution_count": 103,
     "metadata": {},
     "output_type": "execute_result"
    }
   ],
   "source": [
    "df.head()"
   ]
  },
  {
   "cell_type": "markdown",
   "metadata": {},
   "source": [
    "Save table"
   ]
  },
  {
   "cell_type": "code",
   "execution_count": 104,
   "metadata": {},
   "outputs": [],
   "source": [
    "#df.to_csv('/Users/ikersanchez/Vizzuality/PROIEKTUAK/i2i/Data/FSP_Maps/FSP_maps.csv')"
   ]
  },
  {
   "cell_type": "markdown",
   "metadata": {},
   "source": [
    "### Add type_id column\n",
    "We add an id to each type in every country and sector"
   ]
  },
  {
   "cell_type": "code",
   "execution_count": 105,
   "metadata": {},
   "outputs": [],
   "source": [
    "df_type = pd.DataFrame(columns = ['iso', 'type'])\n",
    "for country in ['IND','KEN','UGA','BGD','NGA','TZA']:\n",
    "    type = df[df['iso'] == country]['type'].unique()\n",
    "    df_type_iso = pd.DataFrame.from_dict({'iso': country, 'type': type})\n",
    "    df_type_iso = df_type_iso[['iso', 'type',]]\n",
    "    df_type = pd.concat([df_type,df_type_iso])"
   ]
  },
  {
   "cell_type": "code",
   "execution_count": 106,
   "metadata": {},
   "outputs": [],
   "source": [
    "df_type['type_id'] = np.arange(len(df_type))+1"
   ]
  },
  {
   "cell_type": "code",
   "execution_count": 107,
   "metadata": {},
   "outputs": [],
   "source": [
    "df = pd.merge(df, df_type, how='left', on=['iso', 'type'])"
   ]
  },
  {
   "cell_type": "code",
   "execution_count": 108,
   "metadata": {},
   "outputs": [
    {
     "data": {
      "text/html": [
       "<div>\n",
       "<style scoped>\n",
       "    .dataframe tbody tr th:only-of-type {\n",
       "        vertical-align: middle;\n",
       "    }\n",
       "\n",
       "    .dataframe tbody tr th {\n",
       "        vertical-align: top;\n",
       "    }\n",
       "\n",
       "    .dataframe thead th {\n",
       "        text-align: right;\n",
       "    }\n",
       "</style>\n",
       "<table border=\"1\" class=\"dataframe\">\n",
       "  <thead>\n",
       "    <tr style=\"text-align: right;\">\n",
       "      <th></th>\n",
       "      <th>id</th>\n",
       "      <th>sector</th>\n",
       "      <th>type</th>\n",
       "      <th>land_use</th>\n",
       "      <th>iso</th>\n",
       "      <th>country</th>\n",
       "      <th>lat</th>\n",
       "      <th>lng</th>\n",
       "      <th>year</th>\n",
       "      <th>name</th>\n",
       "      <th>color</th>\n",
       "      <th>type_id</th>\n",
       "    </tr>\n",
       "  </thead>\n",
       "  <tbody>\n",
       "    <tr>\n",
       "      <th>0</th>\n",
       "      <td>0</td>\n",
       "      <td>Agriculture</td>\n",
       "      <td>Agro-dealers</td>\n",
       "      <td>Rural</td>\n",
       "      <td>IND</td>\n",
       "      <td>India</td>\n",
       "      <td>25.56872</td>\n",
       "      <td>84.67436</td>\n",
       "      <td>2014</td>\n",
       "      <td></td>\n",
       "      <td>#1f77b4</td>\n",
       "      <td>1</td>\n",
       "    </tr>\n",
       "    <tr>\n",
       "      <th>1</th>\n",
       "      <td>1</td>\n",
       "      <td>Agriculture</td>\n",
       "      <td>Agro-dealers</td>\n",
       "      <td>Rural</td>\n",
       "      <td>IND</td>\n",
       "      <td>India</td>\n",
       "      <td>26.91513</td>\n",
       "      <td>83.43577</td>\n",
       "      <td>2014</td>\n",
       "      <td></td>\n",
       "      <td>#1f77b4</td>\n",
       "      <td>1</td>\n",
       "    </tr>\n",
       "    <tr>\n",
       "      <th>2</th>\n",
       "      <td>2</td>\n",
       "      <td>Agriculture</td>\n",
       "      <td>Agro-dealers</td>\n",
       "      <td>Rural</td>\n",
       "      <td>IND</td>\n",
       "      <td>India</td>\n",
       "      <td>26.16912</td>\n",
       "      <td>84.04030</td>\n",
       "      <td>2014</td>\n",
       "      <td></td>\n",
       "      <td>#1f77b4</td>\n",
       "      <td>1</td>\n",
       "    </tr>\n",
       "    <tr>\n",
       "      <th>3</th>\n",
       "      <td>3</td>\n",
       "      <td>Agriculture</td>\n",
       "      <td>Agro-dealers</td>\n",
       "      <td>Rural</td>\n",
       "      <td>IND</td>\n",
       "      <td>India</td>\n",
       "      <td>26.67519</td>\n",
       "      <td>83.22662</td>\n",
       "      <td>2014</td>\n",
       "      <td></td>\n",
       "      <td>#1f77b4</td>\n",
       "      <td>1</td>\n",
       "    </tr>\n",
       "    <tr>\n",
       "      <th>4</th>\n",
       "      <td>4</td>\n",
       "      <td>Agriculture</td>\n",
       "      <td>Agro-dealers</td>\n",
       "      <td>Rural</td>\n",
       "      <td>IND</td>\n",
       "      <td>India</td>\n",
       "      <td>26.67521</td>\n",
       "      <td>83.22684</td>\n",
       "      <td>2014</td>\n",
       "      <td></td>\n",
       "      <td>#1f77b4</td>\n",
       "      <td>1</td>\n",
       "    </tr>\n",
       "  </tbody>\n",
       "</table>\n",
       "</div>"
      ],
      "text/plain": [
       "   id       sector          type land_use  iso country       lat       lng  \\\n",
       "0   0  Agriculture  Agro-dealers    Rural  IND   India  25.56872  84.67436   \n",
       "1   1  Agriculture  Agro-dealers    Rural  IND   India  26.91513  83.43577   \n",
       "2   2  Agriculture  Agro-dealers    Rural  IND   India  26.16912  84.04030   \n",
       "3   3  Agriculture  Agro-dealers    Rural  IND   India  26.67519  83.22662   \n",
       "4   4  Agriculture  Agro-dealers    Rural  IND   India  26.67521  83.22684   \n",
       "\n",
       "   year name    color  type_id  \n",
       "0  2014       #1f77b4        1  \n",
       "1  2014       #1f77b4        1  \n",
       "2  2014       #1f77b4        1  \n",
       "3  2014       #1f77b4        1  \n",
       "4  2014       #1f77b4        1  "
      ]
     },
     "execution_count": 108,
     "metadata": {},
     "output_type": "execute_result"
    }
   ],
   "source": [
    "df.head()"
   ]
  },
  {
   "cell_type": "markdown",
   "metadata": {},
   "source": [
    "Save table"
   ]
  },
  {
   "cell_type": "code",
   "execution_count": 111,
   "metadata": {},
   "outputs": [],
   "source": [
    "df.to_csv('/Users/ikersanchez/Vizzuality/PROIEKTUAK/i2i/Data/FSP_Maps/FSP_maps.csv')"
   ]
  }
 ],
 "metadata": {
  "kernelspec": {
   "display_name": "Python 3",
   "language": "python",
   "name": "python3"
  },
  "language_info": {
   "codemirror_mode": {
    "name": "ipython",
    "version": 3
   },
   "file_extension": ".py",
   "mimetype": "text/x-python",
   "name": "python",
   "nbconvert_exporter": "python",
   "pygments_lexer": "ipython3",
   "version": "3.6.4"
  }
 },
 "nbformat": 4,
 "nbformat_minor": 2
}
