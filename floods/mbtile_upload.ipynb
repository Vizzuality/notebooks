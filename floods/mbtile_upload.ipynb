{
 "cells": [
  {
   "cell_type": "markdown",
   "metadata": {},
   "source": [
    "# Script to upload contents of an mbtile to an s3 storage bucket"
   ]
  },
  {
   "cell_type": "markdown",
   "metadata": {},
   "source": []
  },
  {
   "cell_type": "code",
   "execution_count": 1,
   "metadata": {
    "ExecuteTime": {
     "end_time": "2017-05-10T09:14:14.397267",
     "start_time": "2017-05-10T09:14:14.190242"
    },
    "collapsed": true
   },
   "outputs": [],
   "source": [
    "import __future__\n",
    "import tinys3\n",
    "import sqlite3\n",
    "import progressbar\n",
    "#from multiprocessing.pool import ThreadPool\n",
    "#from multiprocessing import Pool, Value\n",
    "import threading"
   ]
  },
  {
   "cell_type": "code",
   "execution_count": null,
   "metadata": {
    "ExecuteTime": {
     "start_time": "2017-05-10T08:45:09.583Z"
    },
    "collapsed": true
   },
   "outputs": [],
   "source": [
    "\"\"\"Script to upload contents of an mbtile to an s3 storage bucket\"\"\"\n",
    "\n",
    "\n",
    "def main():\n",
    "    \"\"\"Start here\"\"\"\n",
    "    print(\"Opening file\")\n",
    "    # Try to work with the mbtile file\n",
    "    mbcon = sqlite3.connect(mbtile_fname)\n",
    "    cur = mbcon.cursor()\n",
    "    metadata = dict(mbcon.execute('select name, value from metadata;').fetchall())\n",
    "    total = mbcon.execute('select count(zoom_level) from tiles;').fetchone()[0]\n",
    "    print(\"Connecting to s3\")\n",
    "    # Try to connect to s3 and create our bucket\n",
    "    threadLock = threading.Lock()\n",
    "    bucket = tinys3.Connection(AWS_ID, AWS_SECRET_KEY, tls=True, default_bucket='bucket')\n",
    "    # folders = bucket.list('', '/')\n",
    "    # Set up the visuals\n",
    "    widgets = [ progressbar.ETA(), progressbar.Bar()]\n",
    "    pbar = progressbar.ProgressBar(widgets = widgets, maxval=total).start()\n",
    "    #done = Value('i', 0)\n",
    "    done = 0\n",
    "    \n",
    "    #for tile in mbcon.execute('select zoom_level, tile_column, tile_row, tile_data from tiles;'):\n",
    "    #    name = \"%s/%s/%s.png\" % (tile[0], tile[1], tile[2])\n",
    "    #    key = bucket.new_key(name)\n",
    "    #    key.set_metadata('Content-Type', 'image/png')\n",
    "    #    key.set_contents_from_string(str(tile[3]))\n",
    "    #    done = done + 1\n",
    "    #    pbar.update(done)\n",
    "    #tiles = mbcon.execute('select zoom_level, tile_column, tile_row, tile_data from tiles;')\n",
    "    #pool = ThreadPool(processes=4)\n",
    "    #pool.map_async(upload, tiles, chunksize = 1)\n",
    "    \n",
    "    with threadLock:\n",
    "        for tile in mbcon.execute('select zoom_level, tile_column, tile_row, tile_data from tiles;'):\n",
    "            t = threading.Thread(target = upload, args=(tile,bucket)).start()\n",
    "            done += 1\n",
    "            pbar.update(done)\n",
    "    #s3con = S3Connection(aws_access_key_id=AWS_ID, aws_secret_access_key=AWS_SECRET_KEY)\n",
    "    #bucket = s3con.get_bucket(bucket_name)\n",
    "    #with threadLock:\n",
    "    #    for tile in mbcon.execute('select zoom_level, tile_column, tile_row, tile_data from tiles;'):\n",
    "    #        done += 1\n",
    "    #        \n",
    "    #        pbar.update(done)\n",
    "    # Do the work\n",
    "    #for tile in mbcon.execute('select zoom_level, tile_column, tile_row, tile_data from tiles;'):\n",
    "    pbar.finish()\n",
    "    return(0)"
   ]
  },
  {
   "cell_type": "code",
   "execution_count": null,
   "metadata": {
    "ExecuteTime": {
     "end_time": "2017-05-10T08:44:50.484222",
     "start_time": "2017-05-10T08:44:50.234203"
    },
    "collapsed": true
   },
   "outputs": [],
   "source": [
    "def upload(mytile, bucket):\n",
    "    name = \"%s/%s/%s.png\" % (mytile[0], mytile[1], mytile[2])\n",
    "    #key = bucket.new_key(name)\n",
    "    bucket.upload(name, mytile[3],'my_bucket',content_type='image/png')\n",
    "    #key.set_metadata('Content-Type', 'image/png')\n",
    "    #key.set_contents_from_string(mytile[3])\n",
    "    #key.set_acl('public-read')\n",
    "    return mytile"
   ]
  },
  {
   "cell_type": "code",
   "execution_count": null,
   "metadata": {
    "ExecuteTime": {
     "end_time": "2017-05-10T07:47:13.304236",
     "start_time": "2017-05-10T07:42:27.790653"
    },
    "collapsed": true,
    "scrolled": true
   },
   "outputs": [],
   "source": [
    "\n",
    "bucket_name='gif-layers'\n",
    "mbtile_fname ='gif.mbtiles'\n",
    "main()"
   ]
  },
  {
   "cell_type": "code",
   "execution_count": null,
   "metadata": {
    "collapsed": true
   },
   "outputs": [],
   "source": []
  }
 ],
 "metadata": {
  "hide_input": false,
  "kernelspec": {
   "display_name": "Python 3",
   "language": "python",
   "name": "python3"
  },
  "language_info": {
   "codemirror_mode": {
    "name": "ipython",
    "version": 3
   },
   "file_extension": ".py",
   "mimetype": "text/x-python",
   "name": "python",
   "nbconvert_exporter": "python",
   "pygments_lexer": "ipython3",
   "version": "3.5.3"
  },
  "latex_envs": {
   "LaTeX_envs_menu_present": true,
   "autocomplete": true,
   "bibliofile": "biblio.bib",
   "cite_by": "apalike",
   "current_citInitial": 1,
   "eqLabelWithNumbers": true,
   "eqNumInitial": 1,
   "hotkeys": {
    "equation": "Ctrl-E",
    "itemize": "Ctrl-I"
   },
   "labels_anchors": false,
   "latex_user_defs": false,
   "report_style_numbering": false,
   "user_envs_cfg": false
  },
  "toc": {
   "colors": {
    "hover_highlight": "#DAA520",
    "running_highlight": "#FF0000",
    "selected_highlight": "#FFD700"
   },
   "moveMenuLeft": true,
   "nav_menu": {
    "height": "30px",
    "width": "252px"
   },
   "navigate_menu": true,
   "number_sections": true,
   "sideBar": true,
   "threshold": 4,
   "toc_cell": false,
   "toc_section_display": "block",
   "toc_window_display": false
  },
  "varInspector": {
   "cols": {
    "lenName": 16,
    "lenType": 16,
    "lenVar": 40
   },
   "kernels_config": {
    "python": {
     "delete_cmd_postfix": "",
     "delete_cmd_prefix": "del ",
     "library": "var_list.py",
     "varRefreshCmd": "print(var_dic_list())"
    },
    "r": {
     "delete_cmd_postfix": ") ",
     "delete_cmd_prefix": "rm(",
     "library": "var_list.r",
     "varRefreshCmd": "cat(var_dic_list()) "
    }
   },
   "types_to_exclude": [
    "module",
    "function",
    "builtin_function_or_method",
    "instance",
    "_Feature"
   ],
   "window_display": false
  }
 },
 "nbformat": 4,
 "nbformat_minor": 2
}
